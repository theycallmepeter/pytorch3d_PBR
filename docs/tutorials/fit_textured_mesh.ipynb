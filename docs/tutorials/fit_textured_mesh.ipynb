{
 "cells": [
  {
   "cell_type": "code",
   "execution_count": 1,
   "metadata": {
    "colab": {},
    "colab_type": "code",
    "id": "_Ip8kp4TfBLZ"
   },
   "outputs": [],
   "source": [
    "# Copyright (c) Facebook, Inc. and its affiliates. All rights reserved."
   ]
  },
  {
   "cell_type": "markdown",
   "metadata": {
    "colab_type": "text",
    "id": "kuXHJv44fBLe"
   },
   "source": [
    "# Fit a mesh via rendering\n",
    "\n",
    "This tutorial shows how to:\n",
    "- Load a mesh and textures from an `.obj` file. \n",
    "- Create a synthetic dataset by rendering a textured mesh from multiple viewpoints\n",
    "- Fit a mesh to the observed synthetic images using differential silhouette rendering\n",
    "- Fit a mesh and its textures using differential textured rendering"
   ]
  },
  {
   "cell_type": "markdown",
   "metadata": {
    "colab_type": "text",
    "id": "Bnj3THhzfBLf"
   },
   "source": [
    "## 0. Install and Import modules"
   ]
  },
  {
   "cell_type": "markdown",
   "metadata": {
    "colab_type": "text",
    "id": "okLalbR_g7NS"
   },
   "source": [
    "Ensure `torch` and `torchvision` are installed. If `pytorch3d` is not installed, install it using the following cell:"
   ]
  },
  {
   "cell_type": "code",
   "execution_count": 1,
   "metadata": {
    "colab": {},
    "colab_type": "code",
    "id": "musUWTglgxSB"
   },
   "outputs": [],
   "source": [
    "# import os\n",
    "# import sys\n",
    "# import torch\n",
    "# need_pytorch3d=False\n",
    "# try:\n",
    "#     import pytorch3d\n",
    "# except ModuleNotFoundError:\n",
    "#     need_pytorch3d=True\n",
    "# if need_pytorch3d:\n",
    "#     if torch.__version__.startswith(\"1.9\") and sys.platform.startswith(\"linux\"):\n",
    "#         # We try to install PyTorch3D via a released wheel.\n",
    "#         version_str=\"\".join([\n",
    "#             f\"py3{sys.version_info.minor}_cu\",\n",
    "#             torch.version.cuda.replace(\".\",\"\"),\n",
    "#             f\"_pyt{torch.__version__[0:5:2]}\"\n",
    "#         ])\n",
    "#         !pip install pytorch3d -f https://dl.fbaipublicfiles.com/pytorch3d/packaging/wheels/{version_str}/download.html\n",
    "#     else:\n",
    "#         # We try to install PyTorch3D from source.\n",
    "#         !curl -LO https://github.com/NVIDIA/cub/archive/1.10.0.tar.gz\n",
    "#         !tar xzf 1.10.0.tar.gz\n",
    "#         os.environ[\"CUB_HOME\"] = os.getcwd() + \"/cub-1.10.0\"\n",
    "#         !pip install 'git+https://github.com/facebookresearch/pytorch3d.git@stable'"
   ]
  },
  {
   "cell_type": "code",
   "execution_count": 15,
   "metadata": {
    "colab": {},
    "colab_type": "code",
    "id": "nX99zdoffBLg"
   },
   "outputs": [],
   "source": [
    "import os\n",
    "import torch\n",
    "import matplotlib.pyplot as plt\n",
    "\n",
    "from pytorch3d.utils import ico_sphere\n",
    "import numpy as np\n",
    "from tqdm.notebook import tqdm\n",
    "\n",
    "# Util function for loading meshes\n",
    "from pytorch3d.io import load_objs_as_meshes, save_obj\n",
    "\n",
    "from pytorch3d.loss import (\n",
    "    chamfer_distance, \n",
    "    mesh_edge_loss, \n",
    "    mesh_laplacian_smoothing, \n",
    "    mesh_normal_consistency,\n",
    ")\n",
    "\n",
    "# Data structures and functions for rendering\n",
    "from pytorch3d.structures import Meshes\n",
    "from pytorch3d.renderer import (\n",
    "    look_at_view_transform,\n",
    "    OpenGLPerspectiveCameras, \n",
    "    PointLights, \n",
    "    DirectionalLights, \n",
    "    Materials, \n",
    "    RasterizationSettings, \n",
    "    MeshRenderer, \n",
    "    MeshRasterizer,  \n",
    "    SoftPhongShader,\n",
    "    SoftSilhouetteShader,\n",
    "    SoftPhongShader,\n",
    "    TexturesVertex,\n",
    "    TexturesUV,\n",
    ")\n",
    "\n",
    "# add path for demo utils functions \n",
    "import sys\n",
    "import os\n",
    "sys.path.append(os.path.abspath(''))"
   ]
  },
  {
   "cell_type": "code",
   "execution_count": 16,
   "metadata": {},
   "outputs": [],
   "source": [
    "# Soft phong shader code\n",
    "from typing import Tuple\n",
    "from torch import nn\n",
    "import torch.nn.functional as F\n",
    "from pytorch3d.renderer.utils import TensorProperties, convert_to_tensors_and_broadcast\n",
    "from pytorch3d.ops import interpolate_face_attributes\n",
    "\n",
    "from typing import Optional\n",
    "from pytorch3d.common.types import Device\n",
    "from pytorch3d.structures.meshes import Meshes\n",
    "from pytorch3d.renderer.blending import (\n",
    "    BlendParams,\n",
    "    hard_rgb_blend,\n",
    "    sigmoid_alpha_blend,\n",
    "    softmax_rgb_blend,\n",
    ")\n",
    "from pytorch3d.renderer.lighting import PointLights\n",
    "from pytorch3d.renderer.materials import Materials\n",
    "from pytorch3d.renderer.utils import TensorProperties\n",
    "from pytorch3d.renderer.mesh.rasterizer import Fragments\n",
    "from pytorch3d.renderer.mesh.shading import flat_shading, gouraud_shading, phong_shading\n",
    "from typing import Tuple\n",
    "from torch import nn\n",
    "import torch.nn.functional as F\n",
    "from pytorch3d.renderer.utils import TensorProperties, convert_to_tensors_and_broadcast\n",
    "from pytorch3d.ops import interpolate_face_attributes\n",
    "\n",
    "from typing import Optional\n",
    "from pytorch3d.common.types import Device\n",
    "from pytorch3d.structures.meshes import Meshes\n",
    "from pytorch3d.renderer.blending import (\n",
    "    BlendParams,\n",
    "    hard_rgb_blend,\n",
    "    sigmoid_alpha_blend,\n",
    "    softmax_rgb_blend,\n",
    ")\n",
    "from pytorch3d.renderer.lighting import PointLights\n",
    "from pytorch3d.renderer.materials import Materials\n",
    "from pytorch3d.renderer.utils import TensorProperties\n",
    "from pytorch3d.renderer.mesh.rasterizer import Fragments\n",
    "from pytorch3d.renderer.mesh.shading import flat_shading, gouraud_shading, phong_shading\n",
    "\n",
    "class NewSoftPhongShader(nn.Module):\n",
    "    \"\"\"\n",
    "    Per pixel lighting - the lighting model is applied using the interpolated\n",
    "    coordinates and normals for each pixel. The blending function returns the\n",
    "    soft aggregated color using all the faces per pixel.\n",
    "\n",
    "    To use the default values, simply initialize the shader with the desired\n",
    "    device e.g.\n",
    "\n",
    "    .. code-block::\n",
    "\n",
    "        shader = SoftPhongShader(device=torch.device(\"cuda:0\"))\n",
    "    \"\"\"\n",
    "\n",
    "    def __init__(\n",
    "        self,\n",
    "        device: Device = \"cpu\",\n",
    "        cameras: Optional[TensorProperties] = None,\n",
    "        lights: Optional[TensorProperties] = None,\n",
    "        materials: Optional[Materials] = None,\n",
    "        blend_params: Optional[BlendParams] = None,\n",
    "    ) -> None:\n",
    "        super().__init__()\n",
    "        self.lights = lights if lights is not None else PointLights(device=device)\n",
    "        self.materials = (\n",
    "            materials if materials is not None else Materials(device=device)\n",
    "        )\n",
    "        self.cameras = cameras\n",
    "        self.blend_params = blend_params if blend_params is not None else BlendParams()\n",
    "\n",
    "    def to(self, device: Device):\n",
    "        # Manually move to device modules which are not subclasses of nn.Module\n",
    "        cameras = self.cameras\n",
    "        if cameras is not None:\n",
    "            self.cameras = cameras.to(device)\n",
    "        self.materials = self.materials.to(device)\n",
    "        self.lights = self.lights.to(device)\n",
    "        return self\n",
    "\n",
    "    def forward(self, fragments: Fragments, meshes: Meshes, **kwargs) -> torch.Tensor:\n",
    "        cameras = kwargs.get(\"cameras\", self.cameras)\n",
    "        if cameras is None:\n",
    "            msg = \"Cameras must be specified either at initialization \\\n",
    "                or in the forward pass of SoftPhongShader\"\n",
    "            raise ValueError(msg)\n",
    "\n",
    "        texels = meshes.sample_textures(fragments)\n",
    "        mapped_normals = meshes.sample_normalmaps(fragments)\n",
    "        lights = kwargs.get(\"lights\", self.lights)\n",
    "        materials = kwargs.get(\"materials\", self.materials)\n",
    "        blend_params = kwargs.get(\"blend_params\", self.blend_params)\n",
    "        colors = new_phong_shading(\n",
    "            meshes=meshes,\n",
    "            fragments=fragments,\n",
    "            texels=texels,\n",
    "            lights=lights,\n",
    "            cameras=cameras,\n",
    "            materials=materials,\n",
    "            mapped_normals=mapped_normals,\n",
    "        )\n",
    "        znear = kwargs.get(\"znear\", getattr(cameras, \"znear\", 1.0))\n",
    "        zfar = kwargs.get(\"zfar\", getattr(cameras, \"zfar\", 100.0))\n",
    "        images = softmax_rgb_blend(\n",
    "            colors, fragments, blend_params, znear=znear, zfar=zfar\n",
    "        )\n",
    "        return images\n",
    "\n",
    "\n",
    "def new_phong_shading(\n",
    "    meshes, fragments, lights, cameras, materials, texels, mapped_normals=None\n",
    ") -> torch.Tensor:\n",
    "    \"\"\"\n",
    "    Apply per pixel shading. First interpolate the vertex normals and\n",
    "    vertex coordinates using the barycentric coordinates to get the position\n",
    "    and normal at each pixel. Then compute the illumination for each pixel.\n",
    "    The pixel color is obtained by multiplying the pixel textures by the ambient\n",
    "    and diffuse illumination and adding the specular component.\n",
    "\n",
    "    Args:\n",
    "        meshes: Batch of meshes\n",
    "        fragments: Fragments named tuple with the outputs of rasterization\n",
    "        lights: Lights class containing a batch of lights\n",
    "        cameras: Cameras class containing a batch of cameras\n",
    "        materials: Materials class containing a batch of material properties\n",
    "        texels: texture per pixel of shape (N, H, W, K, 3)\n",
    "\n",
    "    Returns:\n",
    "        colors: (N, H, W, K, 3)\n",
    "    \"\"\"\n",
    "    verts = meshes.verts_packed()  # (V, 3)\n",
    "    faces = meshes.faces_packed()  # (F, 3)\n",
    "    vertex_normals = meshes.verts_normals_packed()  # (V, 3)\n",
    "    faces_verts = verts[faces]\n",
    "    faces_normals = vertex_normals[faces]\n",
    "    pixel_coords = interpolate_face_attributes(\n",
    "        fragments.pix_to_face, fragments.bary_coords, faces_verts\n",
    "    )\n",
    "    pixel_normals = interpolate_face_attributes(\n",
    "        fragments.pix_to_face, fragments.bary_coords, faces_normals\n",
    "    )\n",
    "    \n",
    "    # Assume point light source for now\n",
    "    light_direction = lights.location - pixel_coords\n",
    "    distance_squared = (light_direction.norm(p=2, dim=-1) ** 1.0).clamp_min(1e-6)\n",
    "    light_direction = F.normalize(light_direction, p=2, dim=-1, eps=1e-6)\n",
    "    \n",
    "    # Tensor conversion\n",
    "    matched_tensors = convert_to_tensors_and_broadcast(\n",
    "        pixel_normals, \n",
    "        lights.diffuse_color,\n",
    "        lights.specular_color,\n",
    "        light_direction,\n",
    "        cameras.get_camera_center(),\n",
    "        materials.shininess,\n",
    "        device=pixel_normals.device)\n",
    "    \n",
    "    # Reshape tensors\n",
    "    points_dims = pixel_normals.shape[1:-1]\n",
    "    expand_dims = (-1,) + (1,) * len(points_dims)\n",
    "    for i, tensor in enumerate(matched_tensors): \n",
    "        if tensor.shape != pixel_normals.shape:\n",
    "            matched_tensors[i] = tensor.view(\n",
    "                expand_dims if i==len(matched_tensors)-1 else expand_dims + (3,)\n",
    "            )   # Careful reshaping shininess\n",
    "    \n",
    "    normals, light_diffuse_color, light_specular_color, \\\n",
    "        light_direction, camera_position, shininess = matched_tensors\n",
    "    \n",
    "    #   Apply lighting\n",
    "    view_direction = camera_position - pixel_coords\n",
    "    view_direction = F.normalize(view_direction, p=2, dim=-1, eps=1e-6)\n",
    "    # normals = F.normalize()\n",
    "    # print(normals.shape, texels.shape, mapped_normals.shape)\n",
    "    # normals = F.normalize(normals, p=2, dim=-1, eps=1e-6)\n",
    "    # print(normals.shape)\n",
    "\n",
    "    diffuse_intensity = \\\n",
    "        F.relu(torch.sum(mapped_normals * light_direction, dim=-1)) / distance_squared\n",
    "    light_diffuse = light_diffuse_color * diffuse_intensity[..., None]\n",
    "    \n",
    "    halfway_vector = light_direction + view_direction\n",
    "    halfway_vector = F.normalize(halfway_vector, p=2, dim=-1, eps=1e-6)\n",
    "    specular_intensity = (F.relu(\n",
    "        torch.sum(mapped_normals * halfway_vector, dim=-1)\n",
    "    ) ** shininess) / distance_squared\n",
    "    light_specular = light_specular_color * specular_intensity[..., None]\n",
    "\n",
    "\n",
    "    \n",
    "    ambient_color = materials.ambient_color * lights.ambient_color\n",
    "    diffuse_color = materials.diffuse_color * light_diffuse\n",
    "    specular_color = materials.specular_color * light_specular\n",
    "\n",
    "    if pixel_normals.dim() == 2 and pixel_coords.dim() == 2:\n",
    "        # If given packed inputs remove batch dim in output.\n",
    "        return (\n",
    "            ambient_color.squeeze(),\n",
    "            diffuse_color.squeeze(),\n",
    "            specular_color.squeeze(),\n",
    "        )\n",
    "\n",
    "    if ambient_color.ndim != diffuse_color.ndim:\n",
    "        # Reshape from (N, 3) to have dimensions compatible with\n",
    "        # diffuse_color which is of shape (N, H, W, K, 3)\n",
    "        ambient_color = ambient_color[:, None, None, None, :]\n",
    "\n",
    "    colors = (ambient_color + diffuse_color) * texels + specular_color\n",
    "    return colors"
   ]
  },
  {
   "cell_type": "markdown",
   "metadata": {
    "colab_type": "text",
    "id": "Lxmehq6Zhrzv"
   },
   "source": [
    "If using **Google Colab**, fetch the utils file for plotting image grids:"
   ]
  },
  {
   "cell_type": "code",
   "execution_count": 17,
   "metadata": {
    "colab": {},
    "colab_type": "code",
    "id": "HZozr3Pmho-5"
   },
   "outputs": [],
   "source": [
    "# !wget https://raw.githubusercontent.com/facebookresearch/pytorch3d/main/docs/tutorials/utils/plot_image_grid.py\n",
    "# from plot_image_grid import image_grid"
   ]
  },
  {
   "cell_type": "markdown",
   "metadata": {
    "colab_type": "text",
    "id": "g4B62MzYiJUM"
   },
   "source": [
    "OR if running **locally** uncomment and run the following cell:"
   ]
  },
  {
   "cell_type": "code",
   "execution_count": 18,
   "metadata": {
    "colab": {},
    "colab_type": "code",
    "id": "paJ4Im8ahl7O"
   },
   "outputs": [],
   "source": [
    " from utils.plot_image_grid import image_grid"
   ]
  },
  {
   "cell_type": "markdown",
   "metadata": {
    "colab_type": "text",
    "collapsed": true,
    "id": "5jGq772XfBLk"
   },
   "source": [
    "### 1. Load a mesh and texture file\n",
    "\n",
    "Load an `.obj` file and its associated `.mtl` file and create a **Textures** and **Meshes** object. \n",
    "\n",
    "**Meshes** is a unique datastructure provided in PyTorch3D for working with batches of meshes of different sizes. \n",
    "\n",
    "**TexturesVertex** is an auxiliary datastructure for storing vertex rgb texture information about meshes. \n",
    "\n",
    "**Meshes** has several class methods which are used throughout the rendering pipeline."
   ]
  },
  {
   "cell_type": "markdown",
   "metadata": {
    "colab_type": "text",
    "id": "a8eU4zo5jd_H"
   },
   "source": [
    "If running this notebook using **Google Colab**, run the following cell to fetch the mesh obj and texture files and save it at the path `data/cow_mesh`:\n",
    "If running locally, the data is already available at the correct path. "
   ]
  },
  {
   "cell_type": "code",
   "execution_count": 19,
   "metadata": {
    "colab": {},
    "colab_type": "code",
    "id": "tTm0cVuOjb1W"
   },
   "outputs": [],
   "source": [
    "# !mkdir -p data/cow_mesh\n",
    "# !wget -P data/cow_mesh https://dl.fbaipublicfiles.com/pytorch3d/data/cow_mesh/cow.obj\n",
    "# !wget -P data/cow_mesh https://dl.fbaipublicfiles.com/pytorch3d/data/cow_mesh/cow.mtl\n",
    "# !wget -P data/cow_mesh https://dl.fbaipublicfiles.com/pytorch3d/data/cow_mesh/cow_texture.png"
   ]
  },
  {
   "cell_type": "code",
   "execution_count": 268,
   "metadata": {
    "colab": {},
    "colab_type": "code",
    "id": "gi5Kd0GafBLl"
   },
   "outputs": [],
   "source": [
    "# Setup\n",
    "if torch.cuda.is_available():\n",
    "    device = torch.device(\"cuda:0\")\n",
    "    torch.cuda.set_device(device)\n",
    "else:\n",
    "    device = torch.device(\"cpu\")\n",
    "\n",
    "# device = torch.device(\"cpu\")\n",
    "\n",
    "# Set paths\n",
    "DATA_DIR = \"./data\"\n",
    "obj_filename = os.path.join(DATA_DIR, \"cow_mesh/cow.obj\")\n",
    "# obj_filename = os.path.join(DATA_DIR, \"cube_mesh/six_colour_cube.obj\")\n",
    "\n",
    "\n",
    "# Load obj file\n",
    "mesh = load_objs_as_meshes([obj_filename], device=device)\n",
    "\n",
    "# We scale normalize and center the target mesh to fit in a sphere of radius 1 \n",
    "# centered at (0,0,0). (scale, center) will be used to bring the predicted mesh \n",
    "# to its original center and scale.  Note that normalizing the target mesh, \n",
    "# speeds up the optimization but is not necessary!\n",
    "verts = mesh.verts_packed()\n",
    "N = verts.shape[0]\n",
    "center = verts.mean(0)\n",
    "scale = max((verts - center).abs().max(0)[0])\n",
    "mesh.offset_verts_(-center)\n",
    "mesh.scale_verts_((0.75 / float(scale)));"
   ]
  },
  {
   "cell_type": "code",
   "execution_count": 269,
   "metadata": {},
   "outputs": [
    {
     "name": "stdout",
     "output_type": "stream",
     "text": [
      "torch.Size([1, 1024, 1024, 3])\n"
     ]
    },
    {
     "data": {
      "image/png": "[encoded data removed]",
      "text/plain": [
       "<Figure size 504x504 with 1 Axes>"
      ]
     },
     "metadata": {
      "needs_background": "light"
     },
     "output_type": "display_data"
    }
   ],
   "source": [
    "plt.figure(figsize=(7,7))\n",
    "texture_image=mesh.textures.maps_padded()\n",
    "print(texture_image.shape)\n",
    "plt.imshow(texture_image.squeeze().cpu().numpy())\n",
    "plt.axis(\"off\");"
   ]
  },
  {
   "cell_type": "markdown",
   "metadata": {
    "colab_type": "text",
    "id": "17c4xmtyfBMH"
   },
   "source": [
    "## 2. Dataset Creation\n",
    "\n",
    "We sample different camera positions that encode multiple viewpoints of the cow.  We create a renderer with a shader that performs texture map interpolation.  We render a synthetic dataset of images of the textured cow mesh from multiple viewpoints.\n"
   ]
  },
  {
   "cell_type": "code",
   "execution_count": 373,
   "metadata": {
    "colab": {},
    "colab_type": "code",
    "id": "CDQKebNNfBMI"
   },
   "outputs": [
    {
     "name": "stdout",
     "output_type": "stream",
     "text": [
      "\n",
      "4 4\n"
     ]
    }
   ],
   "source": [
    "# the number of different viewpoints from which we want to render the mesh.\n",
    "num_views = 4\n",
    "batch_views = 4\n",
    "imsize = 128\n",
    "# Get a batch of viewing angles. \n",
    "# elev = np.random.permutation(torch.linspace(0, 360, num_views))\n",
    "# azim = np.random.permutation(torch.linspace(-180, 180, num_views))\n",
    "elev = np.array([45, 45, 225, 225])\n",
    "azim = np.array([-45, 135, -45, 135])\n",
    "\n",
    "# Place a point light in front of the object. As mentioned above, the front of \n",
    "# the cow is facing the -z direction. \n",
    "lights = PointLights(device=device, location=[[0.0, 0.0, -0.5]])\n",
    "# lights = DirectionalLights(direction=[[0.0, 0.0, -1.0]], device=device)\n",
    "\n",
    "# Initialize an OpenGL perspective camera that represents a batch of different \n",
    "# viewing angles. All the cameras helper methods support mixed type inputs and \n",
    "# broadcasting. So we can view the camera from the a distance of dist=2.7, and \n",
    "# then specify elevation and azimuth angles for each viewpoint as tensors. \n",
    "R, T = look_at_view_transform(dist=2.7, elev=elev, azim=azim)\n",
    "# cameras = OpenGLPerspectiveCameras(device=device, R=R, T=T)\n",
    "\n",
    "# We arbitrarily choose one particular view that will be used to visualize \n",
    "# results\n",
    "# Changed to novel view\n",
    "rand_elev = torch.rand((1,))*360\n",
    "rand_azim = torch.rand((1,))*360 - 180\n",
    "R_novel, T_novel = look_at_view_transform(dist=2.7, elev=rand_elev, azim=rand_azim)\n",
    "\n",
    "camera = OpenGLPerspectiveCameras(device=device, R=R_novel, \n",
    "                                  T=T_novel) \n",
    "\n",
    "\n",
    "# camera = OpenGLPerspectiveCameras(device=device, R=R[None, 1, ...], \n",
    "#                                   T=T[None, 1, ...]) \n",
    "\n",
    "# Define the settings for rasterization and shading. Here we set the output \n",
    "# image to be of size 128X128. As we are rendering images for visualization \n",
    "# purposes only we will set faces_per_pixel=1 and blur_radius=0.0. Refer to \n",
    "# rasterize_meshes.py for explanations of these parameters.  We also leave \n",
    "# bin_size and max_faces_per_bin to their default values of None, which sets \n",
    "# their values using heuristics and ensures that the faster coarse-to-fine \n",
    "# rasterization method is used.  Refer to docs/notes/renderer.md for an \n",
    "# explanation of the difference between naive and coarse-to-fine rasterization. \n",
    "raster_settings = RasterizationSettings(\n",
    "    image_size=imsize, \n",
    "    blur_radius=0.0, \n",
    "    faces_per_pixel=1, \n",
    "    perspective_correct=False,\n",
    ")\n",
    "\n",
    "# Create a Phong renderer by composing a rasterizer and a shader. The textured \n",
    "# Phong shader will interpolate the texture uv coordinates for each vertex, \n",
    "# sample from a texture image and apply the Phong lighting model\n",
    "renderer = MeshRenderer(\n",
    "    rasterizer=MeshRasterizer(\n",
    "        cameras=camera, \n",
    "        raster_settings=raster_settings\n",
    "    ),\n",
    "    shader=NewSoftPhongShader(\n",
    "        device=device, \n",
    "        cameras=camera,\n",
    "        lights=lights\n",
    "    )\n",
    ")\n",
    "\n",
    "# for i\n",
    "# Create a batch of meshes by repeating the cow mesh and associated textures. \n",
    "# Meshes has a useful `extend` method which allows us do this very easily. \n",
    "# This also extends the textures. \n",
    "meshes = mesh.extend(batch_views)\n",
    "target_rgb = []\n",
    "target_cameras = []\n",
    "print()\n",
    "# Render small batches of target views on GPU and append to list to be later converted to CPU tensor\n",
    "for i in range(num_views // batch_views):\n",
    "    # Create cameras for rendering the batch\n",
    "    cameras = OpenGLPerspectiveCameras(device=device, R=R[i*batch_views:(i+1)*batch_views], T=T[i*batch_views:(i+1)*batch_views])\n",
    "    # Render the cow mesh from each viewing angle\n",
    "    target_images_batch = renderer(meshes, cameras=cameras, lights=lights)\n",
    "\n",
    "    # Our multi-view cow dataset will be represented by these 2 lists of tensors,\n",
    "    # each of length num_views.\n",
    "    target_rgb_batch = [target_images_batch[i, ..., :3].cpu() for i in range(batch_views)]\n",
    "    target_cameras_batch = [OpenGLPerspectiveCameras(device=device, R=R[None, i, ...], \n",
    "                                           T=T[None, i, ...]) for i in range(i*batch_views,(i+1)*batch_views)]\n",
    "    target_rgb.extend(target_rgb_batch)\n",
    "    target_cameras.extend(target_cameras_batch)\n",
    "\n",
    "random_target = renderer(mesh, cameras=camera, lights=lights)[...,:3]\n",
    "print(len(target_rgb), len(target_cameras))"
   ]
  },
  {
   "cell_type": "markdown",
   "metadata": {
    "colab_type": "text",
    "id": "TppB4PVmR1Rc"
   },
   "source": [
    "Visualize the dataset:"
   ]
  },
  {
   "cell_type": "code",
   "execution_count": 375,
   "metadata": {
    "colab": {},
    "colab_type": "code",
    "id": "HHE0CnbVR1Rd"
   },
   "outputs": [
    {
     "name": "stderr",
     "output_type": "stream",
     "text": [
      "Clipping input data to the valid range for imshow with RGB data ([0..1] for floats or [0..255] for integers).\n",
      "Clipping input data to the valid range for imshow with RGB data ([0..1] for floats or [0..255] for integers).\n",
      "Clipping input data to the valid range for imshow with RGB data ([0..1] for floats or [0..255] for integers).\n",
      "Clipping input data to the valid range for imshow with RGB data ([0..1] for floats or [0..255] for integers).\n"
     ]
    },
    {
     "data": {
      "image/png": "[encoded data removed]",
      "text/plain": [
       "<Figure size 1080x648 with 20 Axes>"
      ]
     },
     "metadata": {
      "needs_background": "light"
     },
     "output_type": "display_data"
    }
   ],
   "source": [
    "# RGB images\n",
    "image_grid(target_images_batch.cpu().numpy(), rows=4, cols=5, rgb=True)\n",
    "plt.show()"
   ]
  },
  {
   "cell_type": "markdown",
   "metadata": {
    "colab_type": "text",
    "id": "gOb4rYx65E8z"
   },
   "source": [
    "Later in this tutorial, we will fit a mesh to the rendered RGB images, as well as to just images of just the cow silhouette.  For the latter case, we will render a dataset of silhouette images.  Most shaders in PyTorch3D will output an alpha channel along with the RGB image as a 4th channel in an RGBA image.  The alpha channel encodes the probability that each pixel belongs to the foreground of the object.  We construct a soft silhouette shader to render this alpha channel."
   ]
  },
  {
   "cell_type": "code",
   "execution_count": 376,
   "metadata": {
    "colab": {},
    "colab_type": "code",
    "id": "iP_g-nwX4exM"
   },
   "outputs": [],
   "source": [
    "# Rasterization settings for silhouette rendering  \n",
    "sigma = 1e-4\n",
    "raster_settings_silhouette = RasterizationSettings(\n",
    "    image_size=imsize, \n",
    "    blur_radius=np.log(1. / 1e-4 - 1.)*sigma, \n",
    "    faces_per_pixel=50, \n",
    "    perspective_correct=False,\n",
    ")\n",
    "\n",
    "# Silhouette renderer \n",
    "renderer_silhouette = MeshRenderer(\n",
    "    rasterizer=MeshRasterizer(\n",
    "        cameras=camera, \n",
    "        raster_settings=raster_settings_silhouette\n",
    "    ),\n",
    "    shader=SoftSilhouetteShader()\n",
    ")\n",
    "\n",
    "# Render silhouette images.  The 3rd channel of the rendering output is \n",
    "# the alpha/silhouette channel\n",
    "# silhouette_images = renderer_silhouette(meshes, cameras=cameras, lights=lights)\n",
    "# target_silhouette = [silhouette_images[i, ..., 3] for i in range(num_views)]\n",
    "\n",
    "# # Visualize silhouette images\n",
    "# image_grid(silhouette_images.cpu().numpy(), rows=4, cols=5, rgb=False)\n",
    "# plt.show()"
   ]
  },
  {
   "cell_type": "markdown",
   "metadata": {
    "colab_type": "text",
    "id": "t3qphI1ElUb5"
   },
   "source": [
    "## 3. Mesh prediction via silhouette rendering\n",
    "In the previous section, we created a dataset of images of multiple viewpoints of a cow.  In this section, we predict a mesh by observing those target images without any knowledge of the ground truth cow mesh.  We assume we know the position of the cameras and lighting.\n",
    "\n",
    "We first define some helper functions to visualize the results of our mesh prediction:"
   ]
  },
  {
   "cell_type": "code",
   "execution_count": 377,
   "metadata": {
    "colab": {},
    "colab_type": "code",
    "id": "eeWYHROrR1Rh"
   },
   "outputs": [],
   "source": [
    "# Show a visualization comparing the rendered predicted mesh to the ground truth \n",
    "# mesh\n",
    "def visualize_prediction(predicted_mesh, renderer=renderer_silhouette, \n",
    "                         target_image=random_target[0], title='', \n",
    "                         silhouette=False, camera = camera):\n",
    "    inds = 3 if silhouette else range(3)\n",
    "    with torch.no_grad():\n",
    "        predicted_images = renderer(predicted_mesh, cameras=camera)\n",
    "    plt.figure(figsize=(20, 10))\n",
    "    plt.subplot(1, 2, 1)\n",
    "    plt.imshow(predicted_images[0, ..., inds].cpu().detach().numpy())\n",
    "\n",
    "    plt.subplot(1, 2, 2)\n",
    "    plt.imshow(target_image.cpu().detach().numpy())\n",
    "    plt.title(title)\n",
    "    plt.axis(\"off\")\n",
    "\n",
    "# Plot losses as a function of optimization iteration\n",
    "def plot_losses(losses):\n",
    "    fig = plt.figure(figsize=(13, 5))\n",
    "    ax = fig.gca()\n",
    "    for k, l in losses.items():\n",
    "        ax.plot(l['values'], label=k + \" loss\")\n",
    "    ax.legend(fontsize=\"16\")\n",
    "    ax.set_xlabel(\"Iteration\", fontsize=\"16\")\n",
    "    ax.set_ylabel(\"Loss\", fontsize=\"16\")\n",
    "    ax.set_title(\"Loss vs iterations\", fontsize=\"16\")"
   ]
  },
  {
   "cell_type": "markdown",
   "metadata": {
    "colab_type": "text",
    "id": "PpsvBpuMR1Ri"
   },
   "source": [
    "Starting from a sphere mesh, we will learn offsets of each vertex such that the predicted mesh silhouette is more similar to the target silhouette image at each optimization step.  We begin by loading our initial sphere mesh:"
   ]
  },
  {
   "cell_type": "code",
   "execution_count": 378,
   "metadata": {
    "colab": {},
    "colab_type": "code",
    "id": "i989ARH1R1Rj"
   },
   "outputs": [],
   "source": [
    "# We initialize the source shape to be a sphere of radius 1.  \n",
    "src_mesh = ico_sphere(4, device)\n",
    "# src_mesh = mesh.clone()"
   ]
  },
  {
   "cell_type": "markdown",
   "metadata": {
    "colab_type": "text",
    "id": "f5xVtgLNDvC5"
   },
   "source": [
    "We create a new differentiable renderer for rendering the silhouette of our predicted mesh:"
   ]
  },
  {
   "cell_type": "code",
   "execution_count": 379,
   "metadata": {
    "colab": {},
    "colab_type": "code",
    "id": "sXfjzgG4DsDJ"
   },
   "outputs": [],
   "source": [
    "# Rasterization settings for differentiable rendering, where the blur_radius\n",
    "# initialization is based on Liu et al, 'Soft Rasterizer: A Differentiable \n",
    "# Renderer for Image-based 3D Reasoning', ICCV 2019\n",
    "sigma = 1e-4\n",
    "raster_settings_soft = RasterizationSettings(\n",
    "    image_size=imsize, \n",
    "    blur_radius=np.log(1. / 1e-4 - 1.)*sigma, \n",
    "    faces_per_pixel=50, \n",
    "    perspective_correct=False,\n",
    ")\n",
    "\n",
    "# Silhouette renderer \n",
    "renderer_silhouette = MeshRenderer(\n",
    "    rasterizer=MeshRasterizer(\n",
    "        cameras=camera, \n",
    "        raster_settings=raster_settings_soft\n",
    "    ),\n",
    "    shader=SoftSilhouetteShader()\n",
    ")"
   ]
  },
  {
   "cell_type": "markdown",
   "metadata": {
    "colab_type": "text",
    "id": "SGJKbCB6R1Rk"
   },
   "source": [
    "We initialize settings, losses, and the optimizer that will be used to iteratively fit our mesh to the target silhouettes:"
   ]
  },
  {
   "cell_type": "code",
   "execution_count": 380,
   "metadata": {
    "colab": {},
    "colab_type": "code",
    "id": "0sLrKv_MEULh"
   },
   "outputs": [],
   "source": [
    "# # Number of views to optimize over in each SGD iteration\n",
    "# num_views_per_iteration = 2\n",
    "# # Number of optimization steps\n",
    "# Niter = 10\n",
    "# # Plot period for the losses\n",
    "# plot_period = 250\n",
    "\n",
    "# %matplotlib inline\n",
    "\n",
    "# # Optimize using rendered silhouette image loss, mesh edge loss, mesh normal \n",
    "# # consistency, and mesh laplacian smoothing\n",
    "# losses = {\"silhouette\": {\"weight\": 1.0, \"values\": []},\n",
    "#           \"edge\": {\"weight\": 1.0, \"values\": []},\n",
    "#           \"normal\": {\"weight\": 0.01, \"values\": []},\n",
    "#           \"laplacian\": {\"weight\": 1.0, \"values\": []},\n",
    "#          }\n",
    "\n",
    "# # Losses to smooth / regularize the mesh shape\n",
    "# def update_mesh_shape_prior_losses(mesh, loss):\n",
    "#     # and (b) the edge length of the predicted mesh\n",
    "#     loss[\"edge\"] = mesh_edge_loss(mesh)\n",
    "    \n",
    "#     # mesh normal consistency\n",
    "#     loss[\"normal\"] = mesh_normal_consistency(mesh)\n",
    "    \n",
    "#     # mesh laplacian smoothing\n",
    "#     loss[\"laplacian\"] = mesh_laplacian_smoothing(mesh, method=\"uniform\")\n",
    "\n",
    "# # We will learn to deform the source mesh by offsetting its vertices\n",
    "# # The shape of the deform parameters is equal to the total number of vertices in\n",
    "# # src_mesh\n",
    "# verts_shape = src_mesh.verts_packed().shape\n",
    "# deform_verts = torch.full(verts_shape, 0.0, device=device, requires_grad=True)\n",
    "\n",
    "# # The optimizer\n",
    "# optimizer = torch.optim.SGD([deform_verts], lr=1.0, momentum=0.9)"
   ]
  },
  {
   "cell_type": "markdown",
   "metadata": {
    "colab_type": "text",
    "id": "QLc9zK8lEqFS"
   },
   "source": [
    "We write an optimization loop to iteratively refine our predicted mesh from the sphere mesh into a mesh that matches the silhouettes of the target images:"
   ]
  },
  {
   "cell_type": "code",
   "execution_count": 381,
   "metadata": {
    "colab": {},
    "colab_type": "code",
    "id": "gCfepfOoR1Rl"
   },
   "outputs": [],
   "source": [
    "# loop = tqdm(range(Niter))\n",
    "\n",
    "# for i in loop:\n",
    "#     # Initialize optimizer\n",
    "#     optimizer.zero_grad()\n",
    "    \n",
    "#     # Deform the mesh\n",
    "#     new_src_mesh = src_mesh.offset_verts(deform_verts)\n",
    "    \n",
    "#     # Losses to smooth /regularize the mesh shape\n",
    "#     loss = {k: torch.tensor(0.0, device=device) for k in losses}\n",
    "#     update_mesh_shape_prior_losses(new_src_mesh, loss)\n",
    "    \n",
    "#     # Compute the average silhouette loss over two random views, as the average \n",
    "#     # squared L2 distance between the predicted silhouette and the target \n",
    "#     # silhouette from our dataset\n",
    "#     for j in np.random.permutation(num_views).tolist()[:num_views_per_iteration]:\n",
    "#         images_predicted = renderer_silhouette(new_src_mesh, cameras=target_cameras[j], lights=lights)\n",
    "#         predicted_silhouette = images_predicted[..., 3]\n",
    "#         loss_silhouette = ((predicted_silhouette - target_silhouette[j]) ** 2).mean()\n",
    "#         loss[\"silhouette\"] += loss_silhouette / num_views_per_iteration\n",
    "    \n",
    "#     # Weighted sum of the losses\n",
    "#     sum_loss = torch.tensor(0.0, device=device)\n",
    "#     for k, l in loss.items():\n",
    "#         sum_loss += l * losses[k][\"weight\"]\n",
    "#         losses[k][\"values\"].append(float(l.detach().cpu()))\n",
    "\n",
    "    \n",
    "#     # Print the losses\n",
    "#     loop.set_description(\"total_loss = %.6f\" % sum_loss)\n",
    "    \n",
    "#     # Plot mesh\n",
    "#     if i % plot_period == 0:\n",
    "#         visualize_prediction(new_src_mesh, title=\"iter: %d\" % i, silhouette=True,\n",
    "#                              target_image=target_silhouette[1])\n",
    "        \n",
    "#     # Optimization step\n",
    "#     sum_loss.backward()\n",
    "#     optimizer.step()"
   ]
  },
  {
   "cell_type": "code",
   "execution_count": 382,
   "metadata": {
    "colab": {},
    "colab_type": "code",
    "id": "CX4huayKR1Rm",
    "scrolled": true
   },
   "outputs": [],
   "source": [
    "# visualize_prediction(new_src_mesh, silhouette=True, \n",
    "#                      target_image=target_silhouette[1])\n",
    "# plot_losses(losses)"
   ]
  },
  {
   "cell_type": "markdown",
   "metadata": {
    "colab_type": "text",
    "id": "XJDsJQmrR1Ro"
   },
   "source": [
    "## 3. Mesh and texture prediction via textured rendering\n",
    "We can predict both the mesh and its texture if we add an additional loss based on the comparing a predicted rendered RGB image to the target image. As before, we start with a sphere mesh.  We learn both translational offsets and RGB texture colors for each vertex in the sphere mesh.  Since our loss is based on rendered RGB pixel values instead of just the silhouette, we use a **SoftPhongShader** instead of a **SoftSilhouetteShader**."
   ]
  },
  {
   "cell_type": "code",
   "execution_count": 383,
   "metadata": {
    "colab": {},
    "colab_type": "code",
    "id": "aZObyIt9R1Ro"
   },
   "outputs": [],
   "source": [
    "# Rasterization settings for differentiable rendering, where the blur_radius\n",
    "# initialization is based on Liu et al, 'Soft Rasterizer: A Differentiable \n",
    "# Renderer for Image-based 3D Reasoning', ICCV 2019\n",
    "sigma = 1e-4\n",
    "raster_settings_soft = RasterizationSettings(\n",
    "    image_size=imsize, \n",
    "    blur_radius=np.log(1. / 1e-4 - 1.)*sigma, \n",
    "    faces_per_pixel=50, \n",
    "    perspective_correct=False,\n",
    ")\n",
    "\n",
    "# Differentiable soft renderer using per vertex RGB colors for texture\n",
    "renderer_textured = MeshRenderer(\n",
    "    rasterizer=MeshRasterizer(\n",
    "        cameras=camera, \n",
    "        raster_settings=raster_settings_soft\n",
    "    ),\n",
    "    shader=NewSoftPhongShader(device=device, \n",
    "        cameras=camera,\n",
    "        lights=lights)\n",
    ")\n"
   ]
  },
  {
   "cell_type": "markdown",
   "metadata": {
    "colab_type": "text",
    "id": "NM7gJux8GMQX"
   },
   "source": [
    "We initialize settings, losses, and the optimizer that will be used to iteratively fit our mesh to the target RGB images:"
   ]
  },
  {
   "cell_type": "code",
   "execution_count": 384,
   "metadata": {
    "colab": {},
    "colab_type": "code",
    "id": "BS6LAQquF3wq"
   },
   "outputs": [],
   "source": [
    "# Number of views to optimize over in each SGD iteration\n",
    "num_views_per_iteration = min(5, num_views)\n",
    "# Number of optimization steps\n",
    "Niter = 3000\n",
    "# Plot period for the losses\n",
    "plot_period = Niter // 5\n",
    "\n",
    "%matplotlib inline\n",
    "\n",
    "# Optimize using rendered RGB image loss, rendered silhouette image loss, mesh \n",
    "# edge loss, mesh normal consistency, and mesh laplacian smoothing\n",
    "losses = {\n",
    "          \"rgb\": {\"weight\": 1.0, \"values\": []},\n",
    "        #   \"silhouette\": {\"weight\": 1.0, \"values\": []},\n",
    "        #   \"edge\": {\"weight\": 1.0, \"values\": []},\n",
    "        #   \"normal\": {\"weight\": 0.01, \"values\": []},\n",
    "        #   \"laplacian\": {\"weight\": 1.0, \"values\": []},\n",
    "          # \"style\": {\"weight\": 1.0, \"values\": []},\n",
    "          # \"adversarial\": {\"weight\": 0.01, \"values\": []},\n",
    "          # \"smoothness\":{\"weight\":0.00, \"values\": []}\n",
    "         }\n",
    "losses_gan = {\n",
    "          \"generator\": {\"weight\": 1.0, \"values\": []},\n",
    "          \"discriminator\":{\"weight\":1.0, \"values\": []}\n",
    "\n",
    "}\n",
    "# We will learn to deform the source mesh by offsetting its vertices\n",
    "# The shape of the deform parameters is equal to the total number of vertices in \n",
    "# src_mesh\n",
    "src_mesh = mesh.clone()\n",
    "verts_shape = src_mesh.verts_packed().shape\n",
    "deform_verts = torch.full(verts_shape, 0.0, device=device, requires_grad=True)\n",
    "\n",
    "verts = src_mesh.verts_packed().to(device)\n",
    "# .faces_packed().unsqueeze(dim=0).to(device)\n",
    "faces = src_mesh.textures.faces_uvs_padded()\n",
    "# u = 0.5 + (torch.atan2(verts[:,0], verts[:,1])/(np.pi*2))\n",
    "# v = 0.5 - (torch.arcsin(verts[:,2])/np.pi)\n",
    "# uv_map = torch.stack([u,v], dim=1).unsqueeze(dim=0).to(device)\n",
    "uv_map = src_mesh.textures.verts_uvs_padded()\n",
    "# print(uv_map.shape, src_mesh.textures.verts_uvs_padded().shape)\n",
    "# uv_map.requires_grad = True\n",
    "\n",
    "# We will also learn per vertex colors for our sphere mesh that define texture \n",
    "# of the mesh\n",
    "# sphere_verts_rgb = torch.full(mesh.textures.maps_padded().shape, 0.1, device=device, requires_grad=True)\n",
    "# sphere_verts_rgb = torch.normal(mean=torch.full(mesh.textures.maps_padded().shape, 0.5),std=0.05).to(device)\n",
    "# sphere_verts_rgb.requires_grad = True\n",
    "# print(sphere_verts_rgb)\n",
    "\n",
    "# Need to create UV map for the sphere and optimize that together with the texture\n",
    "\n",
    "# The optimizer\n",
    "# optimizer = torch.optim.Adam([sphere_verts_rgb], lr=0.001)\n",
    "# new_src_mesh = src_mesh.clone()\n",
    "# new_src_mesh.textures = TexturesUV(sphere_verts_rgb, faces_uvs=faces, verts_uvs=uv_map)\n",
    "\n"
   ]
  },
  {
   "cell_type": "markdown",
   "metadata": {
    "colab_type": "text",
    "id": "tzIAycuUR1Rq"
   },
   "source": [
    "We write an optimization loop to iteratively refine our predicted mesh and its vertex colors from the sphere mesh into a mesh that matches the target images:"
   ]
  },
  {
   "cell_type": "code",
   "execution_count": 385,
   "metadata": {},
   "outputs": [],
   "source": [
    "# Style loss code\n",
    "from torchvision.transforms import RandomAffine, Resize\n",
    "import torchvision.models as models\n",
    "\n",
    "# cnn = models.vgg19(pretrained=True).features.to(device).eval()\n",
    "\n",
    "\n",
    "def gram_matrix(input):\n",
    "    a, b, c, d = input.size()  # a=batch size(=1)\n",
    "    # b=number of feature maps\n",
    "    # (c,d)=dimensions of a f. map (N=c*d)\n",
    "\n",
    "    features = input.view(a * b, c * d)  # resise F_XL into \\hat F_XL\n",
    "\n",
    "    G = torch.mm(features, features.t())  # compute the gram product\n",
    "\n",
    "    # we 'normalize' the values of the gram matrix\n",
    "    # by dividing by the number of element in each feature maps.\n",
    "    return G.div(a * b * c * d)\n",
    "\n",
    "class StyleLoss(nn.Module):\n",
    "\n",
    "    def __init__(self, target_feature):\n",
    "        super(StyleLoss, self).__init__()\n",
    "        self.target = gram_matrix(target_feature).detach()\n",
    "\n",
    "    def forward(self, input):\n",
    "        G = gram_matrix(input)\n",
    "        self.loss = F.mse_loss(G, self.target)\n",
    "        return input\n",
    "\n",
    "cnn_normalization_mean = torch.tensor([0.485, 0.456, 0.406]).to(device)\n",
    "cnn_normalization_std = torch.tensor([0.229, 0.224, 0.225]).to(device)\n",
    "\n",
    "# create a module to normalize input image so we can easily put it in a\n",
    "# nn.Sequential\n",
    "class Normalization(nn.Module):\n",
    "    def __init__(self, mean, std):\n",
    "        super(Normalization, self).__init__()\n",
    "        # .view the mean and std to make them [C x 1 x 1] so that they can\n",
    "        # directly work with image Tensor of shape [B x C x H x W].\n",
    "        # B is batch size. C is number of channels. H is height and W is width.\n",
    "        self.mean = torch.tensor(mean).view(-1, 1, 1)\n",
    "        self.std = torch.tensor(std).view(-1, 1, 1)\n",
    "\n",
    "    def forward(self, img):\n",
    "        # normalize img\n",
    "        return (img - self.mean) / self.std\n",
    "\n",
    "# desired depth layers to compute style/content losses :\n",
    "style_layers_default = ['conv_1', 'conv_2', 'conv_3', 'conv_4', 'conv_5']\n",
    "\n",
    "def get_style_model_and_losses(cnn, normalization_mean, normalization_std,\n",
    "                               style_img,\n",
    "                               style_layers=style_layers_default):\n",
    "    # normalization module\n",
    "    normalization = Normalization(normalization_mean, normalization_std).to(device)\n",
    "\n",
    "    # just in order to have an iterable access to or list of content/syle\n",
    "    # losses\n",
    "    style_losses = []\n",
    "\n",
    "    # assuming that cnn is a nn.Sequential, so we make a new nn.Sequential\n",
    "    # to put in modules that are supposed to be activated sequentially\n",
    "    model = nn.Sequential(normalization)\n",
    "\n",
    "    i = 0  # increment every time we see a conv\n",
    "    for layer in cnn.children():\n",
    "        if isinstance(layer, nn.Conv2d):\n",
    "            i += 1\n",
    "            name = 'conv_{}'.format(i)\n",
    "        elif isinstance(layer, nn.ReLU):\n",
    "            name = 'relu_{}'.format(i)\n",
    "            # The in-place version doesn't play very nicely with the ContentLoss\n",
    "            # and StyleLoss we insert below. So we replace with out-of-place\n",
    "            # ones here.\n",
    "            layer = nn.ReLU(inplace=False)\n",
    "        elif isinstance(layer, nn.MaxPool2d):\n",
    "            name = 'pool_{}'.format(i)\n",
    "        elif isinstance(layer, nn.BatchNorm2d):\n",
    "            name = 'bn_{}'.format(i)\n",
    "        else:\n",
    "            raise RuntimeError('Unrecognized layer: {}'.format(layer.__class__.__name__))\n",
    "\n",
    "        model.add_module(name, layer)\n",
    "\n",
    "        if name in style_layers:\n",
    "            # add style loss:\n",
    "            target_feature = model(style_img).detach()\n",
    "            style_loss = StyleLoss(target_feature)\n",
    "            model.add_module(\"style_loss_{}\".format(i), style_loss)\n",
    "            style_losses.append(style_loss)\n",
    "\n",
    "    # now we trim off the layers after the last content and style losses\n",
    "    for i in range(len(model) - 1, -1, -1):\n",
    "        if isinstance(model[i], StyleLoss):\n",
    "            break\n",
    "\n",
    "    model = model[:(i + 1)]\n",
    "\n",
    "    return model, style_losses"
   ]
  },
  {
   "cell_type": "code",
   "execution_count": 386,
   "metadata": {},
   "outputs": [],
   "source": [
    "class CustomImageDataset(torch.utils.data.Dataset):\n",
    "    def __init__(self, true_img, fake_img, transform=None, target_transform=None):\n",
    "        self.img_labels = np.concatenate((np.full(len(true_img), real_label), np.full(len(fake_img), fake_label)))\n",
    "        self.transform = transform\n",
    "        self.target_transform = target_transform\n",
    "        self.true_img = true_img\n",
    "        self.fake_img = fake_img\n",
    "\n",
    "    def __len__(self):\n",
    "        return len(self.img_labels)\n",
    "\n",
    "    def __getitem__(self, idx):\n",
    "        if idx < len(self.true_img):\n",
    "            image = self.true_img[idx]\n",
    "        else:\n",
    "            image = self.fake_img[idx - len(self.true_img)]\n",
    "\n",
    "        label = self.img_labels.iloc[idx, 1]\n",
    "        if self.transform:\n",
    "            image = self.transform(image)\n",
    "        if self.target_transform:\n",
    "            label = self.target_transform(label)\n",
    "        return image, label"
   ]
  },
  {
   "cell_type": "code",
   "execution_count": 399,
   "metadata": {
    "colab": {},
    "colab_type": "code",
    "id": "EKEH2p8-R1Rr"
   },
   "outputs": [
    {
     "data": {
      "application/vnd.jupyter.widget-view+json": {
       "model_id": "bc1ced5a21694d16aa659fa1f8304595",
       "version_major": 2,
       "version_minor": 0
      },
      "text/plain": [
       "  0%|          | 0/3000 [00:00<?, ?it/s]"
      ]
     },
     "metadata": {},
     "output_type": "display_data"
    },
    {
     "name": "stdout",
     "output_type": "stream",
     "text": [
      "Texture Size: [1, 1024, 1024, 3]\n"
     ]
    },
    {
     "ename": "TypeError",
     "evalue": "optimizer can only optimize Tensors, but one of the params is Module.parameters",
     "output_type": "error",
     "traceback": [
      "\u001b[0;31m---------------------------------------------------------------------------\u001b[0m",
      "\u001b[0;31mTypeError\u001b[0m                                 Traceback (most recent call last)",
      "\u001b[0;32m/tmp/ipykernel_31817/2371730047.py\u001b[0m in \u001b[0;36m<module>\u001b[0;34m\u001b[0m\n\u001b[1;32m    175\u001b[0m \u001b[0mnormal_map_base\u001b[0m \u001b[0;34m=\u001b[0m \u001b[0mtorch\u001b[0m\u001b[0;34m.\u001b[0m\u001b[0mzeros\u001b[0m\u001b[0;34m(\u001b[0m\u001b[0mtexture_size\u001b[0m\u001b[0;34m,\u001b[0m \u001b[0mdevice\u001b[0m\u001b[0;34m=\u001b[0m\u001b[0mdevice\u001b[0m\u001b[0;34m,\u001b[0m \u001b[0mrequires_grad\u001b[0m\u001b[0;34m=\u001b[0m\u001b[0;32mTrue\u001b[0m\u001b[0;34m)\u001b[0m\u001b[0;34m\u001b[0m\u001b[0;34m\u001b[0m\u001b[0m\n\u001b[1;32m    176\u001b[0m \u001b[0;34m\u001b[0m\u001b[0m\n\u001b[0;32m--> 177\u001b[0;31m \u001b[0moptimizerG\u001b[0m \u001b[0;34m=\u001b[0m \u001b[0mtorch\u001b[0m\u001b[0;34m.\u001b[0m\u001b[0moptim\u001b[0m\u001b[0;34m.\u001b[0m\u001b[0mAdam\u001b[0m\u001b[0;34m(\u001b[0m\u001b[0;34m[\u001b[0m\u001b[0mnetG\u001b[0m\u001b[0;34m.\u001b[0m\u001b[0mparameters\u001b[0m\u001b[0;34m(\u001b[0m\u001b[0;34m)\u001b[0m\u001b[0;34m,\u001b[0m \u001b[0mnormal_map_base\u001b[0m\u001b[0;34m]\u001b[0m\u001b[0;34m,\u001b[0m \u001b[0mlr\u001b[0m\u001b[0;34m=\u001b[0m\u001b[0mlr\u001b[0m\u001b[0;34m,\u001b[0m \u001b[0mbetas\u001b[0m\u001b[0;34m=\u001b[0m\u001b[0;34m(\u001b[0m\u001b[0mbeta1\u001b[0m\u001b[0;34m,\u001b[0m \u001b[0;36m0.999\u001b[0m\u001b[0;34m)\u001b[0m\u001b[0;34m)\u001b[0m\u001b[0;34m\u001b[0m\u001b[0;34m\u001b[0m\u001b[0m\n\u001b[0m\u001b[1;32m    178\u001b[0m \u001b[0mrandom_vector\u001b[0m \u001b[0;34m=\u001b[0m \u001b[0mtorch\u001b[0m\u001b[0;34m.\u001b[0m\u001b[0mrandn\u001b[0m\u001b[0;34m(\u001b[0m\u001b[0;36m1\u001b[0m\u001b[0;34m,\u001b[0m \u001b[0mnz\u001b[0m\u001b[0;34m,\u001b[0m \u001b[0;36m1\u001b[0m\u001b[0;34m,\u001b[0m \u001b[0;36m1\u001b[0m\u001b[0;34m,\u001b[0m \u001b[0mdevice\u001b[0m\u001b[0;34m=\u001b[0m\u001b[0mdevice\u001b[0m\u001b[0;34m)\u001b[0m \u001b[0;34m*\u001b[0m \u001b[0;36m0.5\u001b[0m\u001b[0;34m\u001b[0m\u001b[0;34m\u001b[0m\u001b[0m\n\u001b[1;32m    179\u001b[0m \u001b[0;31m# print(random_vector.shape)\u001b[0m\u001b[0;34m\u001b[0m\u001b[0;34m\u001b[0m\u001b[0;34m\u001b[0m\u001b[0m\n",
      "\u001b[0;32m~/anaconda3/envs/pytorch3d/lib/python3.8/site-packages/torch/optim/adam.py\u001b[0m in \u001b[0;36m__init__\u001b[0;34m(self, params, lr, betas, eps, weight_decay, amsgrad)\u001b[0m\n\u001b[1;32m     46\u001b[0m         defaults = dict(lr=lr, betas=betas, eps=eps,\n\u001b[1;32m     47\u001b[0m                         weight_decay=weight_decay, amsgrad=amsgrad)\n\u001b[0;32m---> 48\u001b[0;31m         \u001b[0msuper\u001b[0m\u001b[0;34m(\u001b[0m\u001b[0mAdam\u001b[0m\u001b[0;34m,\u001b[0m \u001b[0mself\u001b[0m\u001b[0;34m)\u001b[0m\u001b[0;34m.\u001b[0m\u001b[0m__init__\u001b[0m\u001b[0;34m(\u001b[0m\u001b[0mparams\u001b[0m\u001b[0;34m,\u001b[0m \u001b[0mdefaults\u001b[0m\u001b[0;34m)\u001b[0m\u001b[0;34m\u001b[0m\u001b[0;34m\u001b[0m\u001b[0m\n\u001b[0m\u001b[1;32m     49\u001b[0m \u001b[0;34m\u001b[0m\u001b[0m\n\u001b[1;32m     50\u001b[0m     \u001b[0;32mdef\u001b[0m \u001b[0m__setstate__\u001b[0m\u001b[0;34m(\u001b[0m\u001b[0mself\u001b[0m\u001b[0;34m,\u001b[0m \u001b[0mstate\u001b[0m\u001b[0;34m)\u001b[0m\u001b[0;34m:\u001b[0m\u001b[0;34m\u001b[0m\u001b[0;34m\u001b[0m\u001b[0m\n",
      "\u001b[0;32m~/anaconda3/envs/pytorch3d/lib/python3.8/site-packages/torch/optim/optimizer.py\u001b[0m in \u001b[0;36m__init__\u001b[0;34m(self, params, defaults)\u001b[0m\n\u001b[1;32m     53\u001b[0m \u001b[0;34m\u001b[0m\u001b[0m\n\u001b[1;32m     54\u001b[0m         \u001b[0;32mfor\u001b[0m \u001b[0mparam_group\u001b[0m \u001b[0;32min\u001b[0m \u001b[0mparam_groups\u001b[0m\u001b[0;34m:\u001b[0m\u001b[0;34m\u001b[0m\u001b[0;34m\u001b[0m\u001b[0m\n\u001b[0;32m---> 55\u001b[0;31m             \u001b[0mself\u001b[0m\u001b[0;34m.\u001b[0m\u001b[0madd_param_group\u001b[0m\u001b[0;34m(\u001b[0m\u001b[0mparam_group\u001b[0m\u001b[0;34m)\u001b[0m\u001b[0;34m\u001b[0m\u001b[0;34m\u001b[0m\u001b[0m\n\u001b[0m\u001b[1;32m     56\u001b[0m \u001b[0;34m\u001b[0m\u001b[0m\n\u001b[1;32m     57\u001b[0m     \u001b[0;32mdef\u001b[0m \u001b[0m__getstate__\u001b[0m\u001b[0;34m(\u001b[0m\u001b[0mself\u001b[0m\u001b[0;34m)\u001b[0m\u001b[0;34m:\u001b[0m\u001b[0;34m\u001b[0m\u001b[0;34m\u001b[0m\u001b[0m\n",
      "\u001b[0;32m~/anaconda3/envs/pytorch3d/lib/python3.8/site-packages/torch/optim/optimizer.py\u001b[0m in \u001b[0;36madd_param_group\u001b[0;34m(self, param_group)\u001b[0m\n\u001b[1;32m    253\u001b[0m         \u001b[0;32mfor\u001b[0m \u001b[0mparam\u001b[0m \u001b[0;32min\u001b[0m \u001b[0mparam_group\u001b[0m\u001b[0;34m[\u001b[0m\u001b[0;34m'params'\u001b[0m\u001b[0;34m]\u001b[0m\u001b[0;34m:\u001b[0m\u001b[0;34m\u001b[0m\u001b[0;34m\u001b[0m\u001b[0m\n\u001b[1;32m    254\u001b[0m             \u001b[0;32mif\u001b[0m \u001b[0;32mnot\u001b[0m \u001b[0misinstance\u001b[0m\u001b[0;34m(\u001b[0m\u001b[0mparam\u001b[0m\u001b[0;34m,\u001b[0m \u001b[0mtorch\u001b[0m\u001b[0;34m.\u001b[0m\u001b[0mTensor\u001b[0m\u001b[0;34m)\u001b[0m\u001b[0;34m:\u001b[0m\u001b[0;34m\u001b[0m\u001b[0;34m\u001b[0m\u001b[0m\n\u001b[0;32m--> 255\u001b[0;31m                 raise TypeError(\"optimizer can only optimize Tensors, \"\n\u001b[0m\u001b[1;32m    256\u001b[0m                                 \"but one of the params is \" + torch.typename(param))\n\u001b[1;32m    257\u001b[0m             \u001b[0;32mif\u001b[0m \u001b[0;32mnot\u001b[0m \u001b[0mparam\u001b[0m\u001b[0;34m.\u001b[0m\u001b[0mis_leaf\u001b[0m\u001b[0;34m:\u001b[0m\u001b[0;34m\u001b[0m\u001b[0;34m\u001b[0m\u001b[0m\n",
      "\u001b[0;31mTypeError\u001b[0m: optimizer can only optimize Tensors, but one of the params is Module.parameters"
     ]
    }
   ],
   "source": [
    "import torch.utils.data\n",
    "loop = tqdm(range(Niter))\n",
    "# maps = [sphere_verts_rgb.detach().cpu()]\n",
    "\n",
    "\n",
    "# Adversarial loss from https://pytorch.org/tutorials/beginner/dcgan_faces_tutorial.html\n",
    "nc = 3\n",
    "ndf = 32\n",
    "ngf = 16\n",
    "nz = 100\n",
    "class ResConvTranspose(nn.Module):\n",
    "    layer = 0\n",
    "    def __init__(self, deconv, upsampler):\n",
    "        super().__init__()\n",
    "        self.module = deconv\n",
    "        self.upsampler = upsampler\n",
    "\n",
    "    def forward(self, inputs):\n",
    "        return self.module(inputs) + self.upsampler(inputs)\n",
    "\n",
    "class UnsqueezeLatent(nn.Module):\n",
    "    layer = 0\n",
    "    def __init__(self):\n",
    "        super().__init__()\n",
    "\n",
    "    def forward(self, inputs):\n",
    "        return torch.unsqueeze(torch.unsqueeze(inputs, 2), 3)\n",
    "\n",
    "class Discriminator(nn.Module):\n",
    "    def __init__(self, ngpu):\n",
    "        super(Discriminator, self).__init__()\n",
    "        self.ngpu = ngpu\n",
    "        self.main = nn.Sequential(\n",
    "            # input is (nc) x 128 x 128\n",
    "            nn.Conv2d(nc, ndf, 4, 2, 1, bias=False),\n",
    "            nn.LeakyReLU(0.2, inplace=True),\n",
    "            # nn.Dropout2d(p=0.25),\n",
    "            # state size. (ndf) x 64 x 64\n",
    "            nn.Conv2d(ndf, ndf * 2, 4, 2, 1, bias=False),\n",
    "            nn.BatchNorm2d(ndf * 2),\n",
    "            nn.LeakyReLU(0.2, inplace=True),\n",
    "            # nn.Dropout2d(p=0.25),\n",
    "            # state size. (ndf*2) x 32 x 32\n",
    "            nn.Conv2d(ndf * 2, ndf * 4, 4, 2, 1, bias=False),\n",
    "            nn.BatchNorm2d(ndf * 4),\n",
    "            nn.LeakyReLU(0.2, inplace=True),\n",
    "            # nn.Dropout2d(p=0.25),\n",
    "            # state size. (ndf*4) x 16 x 16\n",
    "            nn.Conv2d(ndf * 4, ndf * 8, 4, 2, 1, bias=False),\n",
    "            nn.BatchNorm2d(ndf * 8),\n",
    "            nn.LeakyReLU(0.2, inplace=True),\n",
    "            # nn.Dropout2d(p=0.25),\n",
    "            nn.Conv2d(ndf * 8, ndf * 16, 4, 2, 1, bias=False),\n",
    "            # state size. (ndf*8) x 8 x 8\n",
    "            nn.BatchNorm2d(ndf * 16),\n",
    "            nn.LeakyReLU(0.2, inplace=True),\n",
    "            # state size. (ndf*16) x 4 x 4\n",
    "            nn.Conv2d(ndf * 16, 1, 4, 1, 0, bias=False),\n",
    "            nn.Sigmoid()\n",
    "        )\n",
    "\n",
    "    def forward(self, input):\n",
    "        return self.main(input)\n",
    "\n",
    "# Texture generator Code\n",
    "class Generator(nn.Module):\n",
    "    def __init__(self, ngpu):\n",
    "        super(Generator, self).__init__()\n",
    "        self.ngpu = ngpu\n",
    "        self.main = nn.Sequential(\n",
    "            # Testing convoluting target image first \n",
    "            # input is (nc) x 128 x 128\n",
    "            # nn.Conv2d(nc, ngf, 4, 2, 1, bias=False),\n",
    "            # nn.LeakyReLU(0.2, inplace=True),\n",
    "            # # nn.Dropout2d(p=0.25),\n",
    "            # # state size. (ndf) x 64 x 64\n",
    "            # nn.Conv2d(ngf, ngf * 2, 4, 2, 1, bias=False),\n",
    "            # nn.BatchNorm2d(ngf * 2),\n",
    "            # nn.LeakyReLU(0.2, inplace=True),\n",
    "            # # nn.Dropout2d(p=0.25),\n",
    "            # # state size. (ndf*2) x 32 x 32\n",
    "            # nn.Conv2d(ngf * 2, ndf * 4, 4, 2, 1, bias=False),\n",
    "            # nn.BatchNorm2d(ngf * 4),\n",
    "            # nn.LeakyReLU(0.2, inplace=True),\n",
    "            # # state size. (ndf*4) x 16 x 16\n",
    "            # nn.Flatten(),\n",
    "            # nn.Linear(ngf * 4 * 16*16, nz),\n",
    "            # UnsqueezeLatent(),\n",
    "\n",
    "            # input is Z, going into a convolution\n",
    "            \n",
    "            nn.ConvTranspose2d( nz, ngf * 8, 4, 1, 0, bias=False),\n",
    "            # nn.BatchNorm2d(ngf * 8),\n",
    "            nn.ReLU(True),\n",
    "            # nn.Dropout2d(p=0.25),\n",
    "            # state size. (ngf*8) x 4 x 4\n",
    "            nn.ConvTranspose2d(ngf * 8, ngf * 4, 4, 2, 1, bias=False),\n",
    "            # ResConvTranspose(nn.ConvTranspose2d(ngf, ngf, 4, 2, 1, bias=False),nn.Upsample(scale_factor=2, mode='bilinear')),\n",
    "            # nn.BatchNorm2d(ngf * 4),\n",
    "            nn.ReLU(True),\n",
    "            # nn.Dropout2d(p=0.25),\n",
    "            # state size. (ngf*4) x 8 x 8\n",
    "            nn.ConvTranspose2d( ngf * 4, ngf * 2, 4, 2, 1, bias=False),\n",
    "            # ResConvTranspose(nn.ConvTranspose2d( ngf, ngf, 4, 2, 1, bias=False),nn.Upsample(scale_factor=2, mode='bilinear')),\n",
    "            # nn.BatchNorm2d(ngf * 2),\n",
    "            nn.ReLU(True),\n",
    "            # nn.Dropout2d(p=0.25),\n",
    "            # state size. (ngf*2) x 16 x 16\n",
    "            nn.ConvTranspose2d( ngf * 2, ngf, 4, 2, 1, bias=False),\n",
    "            # ResConvTranspose(nn.ConvTranspose2d( ngf, ngf, 4, 2, 1, bias=False),nn.Upsample(scale_factor=2, mode='bilinear')),\n",
    "            # nn.BatchNorm2d(ngf),\n",
    "            nn.ReLU(True),\n",
    "            # nn.Dropout2d(p=0.25),\n",
    "            # state size. (ngf) x 32 x 32\n",
    "            # nn.ConvTranspose2d( ngf, ngf//2, 4, 2, 1, bias=False),\n",
    "            # nn.BatchNorm2d(ngf//2),\n",
    "            # nn.ReLU(True),\n",
    "            # nn.Dropout2d(),\n",
    "            # state size. (ngf) x 64 x 64\n",
    "            nn.ConvTranspose2d( ngf, nc, 4, 4, 0, bias=False),\n",
    "            nn.Tanh(),\n",
    "            # nn.Upsample(scale_factor=4, mode='bilinear')\n",
    "            # state size. (nc) x 128 x 128\n",
    "        )\n",
    "\n",
    "    def forward(self, input):\n",
    "        return self.main(input)\n",
    "\n",
    "def weights_init(m):\n",
    "    classname = m.__class__.__name__\n",
    "    if classname.find('Conv') != -1:\n",
    "        nn.init.normal_(m.weight.data, 0.0, 0.02)\n",
    "    elif classname.find('BatchNorm') != -1:\n",
    "        nn.init.normal_(m.weight.data, 1.0, 0.02)\n",
    "        nn.init.constant_(m.bias.data, 0)\n",
    "\n",
    "\n",
    "# Create discriminator for adversarial loss\n",
    "ngpu = 1\n",
    "workers = 2\n",
    "lr = 0.01\n",
    "beta1 = 0.5\n",
    "bce_loss = nn.BCELoss()\n",
    "# netD = Discriminator(ngpu).to(device)\n",
    "# netD.apply(weights_init)\n",
    "real_label = 1.\n",
    "fake_label = 0.\n",
    "# optimizerD = torch.optim.SGD(netD.parameters(), lr=lr*0.0001)\n",
    "\n",
    "\n",
    "# Create the generator\n",
    "netG = Generator(ngpu).to(device)\n",
    "# Apply the weights_init function to randomly initialize all weights\n",
    "#  to mean=0, stdev=0.02.\n",
    "netG.apply(weights_init)\n",
    "\n",
    "# Need to create UV map for the sphere and optimize that together with the texture\n",
    "# The optimizer\n",
    "new_src_mesh = src_mesh.clone()\n",
    "# new_src_mesh.textures = TexturesUV(sphere_verts_rgb, faces_uvs=faces, verts_uvs=uv_map)\n",
    "\n",
    "# Need to create UV map for the sphere and optimize that together with the texture\n",
    "scale_factor = 1\n",
    "texture_size = list(mesh.textures.maps_padded().shape)\n",
    "texture_size[1] //= scale_factor\n",
    "texture_size[2] //= scale_factor\n",
    "\n",
    "print(\"Texture Size: {}\".format(texture_size))\n",
    "# sphere_verts_rgb = torch.zeros(texture_size, device=device, requires_grad=True)\n",
    "# optimizer = torch.optim.Adam([sphere_verts_rgb], lr=0.001)\n",
    "\n",
    "# sphere_verts_rgb = src_mesh.textures.maps_padded()\n",
    "# sphere_verts_rgb.requires_grad = True\n",
    "# The optimizer\n",
    "optimizerG = torch.optim.Adam(netG.parameters(), lr=lr, betas=(beta1, 0.999))\n",
    "random_vector = torch.randn(1, nz, 1, 1, device=device) * 0.5\n",
    "# print(random_vector.shape)\n",
    "# sphere_verts_rgb = netG(target_rgb[0].to(device).unsqueeze(0).permute(0,3,1,2)).permute(0,2,3,1)\n",
    "sphere_verts_rgb = netG(random_vector).permute(0,2,3,1)\n",
    "\n",
    "\n",
    "normal_map_base = torch.zeros(texture_size, device=device, requires_grad=True)\n",
    "optimizerNorm = torch.optim.Adam([normal_map_base], lr=lr, betas=(beta1, 0.999))\n",
    "\n",
    "\n",
    "new_src_mesh = src_mesh.clone()\n",
    "new_src_mesh.textures = TexturesUV(sphere_verts_rgb, faces_uvs=faces, verts_uvs=uv_map)\n",
    "new_src_mesh.normalmaps = TexturesUV(normal_map_base, faces_uvs=faces, verts_uvs=uv_map)\n",
    "# print(new_src_mesh.normalmaps.maps_padded().shape)\n",
    "\n",
    "\n",
    "\n",
    "for i in loop:\n",
    "    transform_range_horizontal = 1/sphere_verts_rgb.shape[1]\n",
    "    transform_range_vertical = 1/sphere_verts_rgb.shape[2]\n",
    "    transform = RandomAffine(0, translate=(transform_range_horizontal,transform_range_vertical))\n",
    "    # Initialize optimizer\n",
    "    optimizerG.zero_grad()\n",
    "    optimizerNorm.zero_grad()\n",
    "    \n",
    "    # Deform the mesh\n",
    "    # new_src_mesh = src_mesh.offset_verts(deform_verts)\n",
    "    \n",
    "    # Add per vertex colors to texture the mesh\n",
    "    # TODO create UV map for faces and vertices for the default sphere\n",
    "\n",
    "    # sphere_verts_rgb = netG(target_rgb[i % len(target_rgb)].to(device).unsqueeze(0).permute(0,3,1,2)).permute(0,2,3,1) #- for generator network\n",
    "    sphere_verts_rgb = netG(random_vector).permute(0,2,3,1)\n",
    "    new_src_mesh.textures = TexturesUV(sphere_verts_rgb, faces_uvs=faces, verts_uvs=uv_map)\n",
    "    \n",
    "    # Losses to smooth /regularize the mesh shape\n",
    "    loss = {k: torch.tensor(0.0, device=device) for k in losses}\n",
    "    # update_mesh_shape_prior_losses(new_src_mesh, loss)\n",
    "    loss_gan = {k: torch.tensor(0.0, device=device) for k in losses_gan}\n",
    "\n",
    "    # Randomly select two views to optimize over in this iteration.  Compared\n",
    "    # to using just one view, this helps resolve ambiguities between updating\n",
    "    # mesh shape vs. updating mesh texture\n",
    "    rendered_rgb = []\n",
    "\n",
    "    # Getting examples from renderer as the Generator\n",
    "    random_views = np.random.permutation(num_views).tolist()[:num_views_per_iteration]\n",
    "    for j in random_views:\n",
    "        images_predicted = renderer_textured(new_src_mesh, cameras=target_cameras[j], lights=lights)\n",
    "\n",
    "        # Squared L2 distance between the predicted silhouette and the target \n",
    "        # # silhouette from our dataset\n",
    "        # predicted_silhouette = images_predicted[..., 3]\n",
    "        # loss_silhouette = ((predicted_silhouette - target_silhouette[j]) ** 2).mean()\n",
    "        # loss[\"silhouette\"] += loss_silhouette / num_views_per_iteration\n",
    "        \n",
    "        # Squared L2 distance between the predicted RGB image and the target \n",
    "        predicted_rgb = images_predicted[..., :3]\n",
    "        rendered_rgb.append(predicted_rgb.squeeze())\n",
    "        loss_rgb = ((predicted_rgb - target_rgb[j].to(device)) ** 2).mean()\n",
    "\n",
    "        # Style loss WIP\n",
    "        # target_rgb[j].clone().detach().permute(2,0,1).unsqueeze(0)\n",
    "        # model, style_losses = get_style_model_and_losses(cnn, cnn_normalization_mean, cnn_normalization_std, target_rgb[j].clone().detach().permute(2,0,1).unsqueeze(0))\n",
    "        # model_input = sphere_verts_rgb.clone().detach().to(device).permute(0,3,1,2)\n",
    "        # model(model_input)\n",
    "        # style_score = 0\n",
    "        # for sl in style_losses:\n",
    "        #     style_score += sl.loss\n",
    "\n",
    "        # Shifted image to get the image to be smoother/gradient between pixels to be smoother\n",
    "        # smoothness = ((sphere_verts_rgb - transform(sphere_verts_rgb.permute(0,3,1,2)).permute(0,2,3,1))**2).mean()\n",
    "\n",
    "        loss[\"rgb\"] += loss_rgb / num_views_per_iteration\n",
    "        # loss[\"smoothness\"] += smoothness / num_views_per_iteration\n",
    "        # loss[\"style\"] += style_score / num_views_per_iteration\n",
    "\n",
    "    # ############################\n",
    "    # # (1) Update D network: maximize log(D(x)) + log(1 - D(G(z)))\n",
    "    # ###########################\n",
    "    # ## Train with all-real batch\n",
    "    # netD.zero_grad()\n",
    "    # # Format batch\n",
    "    # real_cpu = torch.stack([target_rgb[i].to(device) for i in random_views], dim=0).permute(0,3,1,2)\n",
    "    # real_cpu = real_cpu + torch.randn(real_cpu.size(), device=device)*0.1\n",
    "    # b_size = num_views_per_iteration\n",
    "    # label = torch.full((b_size,), real_label, dtype=torch.float, device=device)\n",
    "    # # Forward pass real batch through D\n",
    "    # output = netD(real_cpu).view(-1)\n",
    "    # # Calculate loss on all-real batch\n",
    "    # errD_real = bce_loss(output, label)\n",
    "    # # Calculate gradients for D in backward pass\n",
    "    # errD_real.backward()\n",
    "    # # D_x = output.mean().item()\n",
    "\n",
    "    # ## Train with all-fake batch\n",
    "    # # Generate batch of latent vectors\n",
    "    # # Generate fake image batch with G\n",
    "    # fake = torch.stack(rendered_rgb, dim=0).permute(0,3,1,2) + torch.randn(real_cpu.size(), device=device)*0.1\n",
    "    # label.fill_(fake_label)\n",
    "    # # Classify all fake batch with D\n",
    "    # output = netD(fake).view(-1)\n",
    "    # # Calculate D's loss on the all-fake batch\n",
    "    # errD_fake = bce_loss(output, label)\n",
    "    # # Calculate the gradients for this batch, accumulated (summed) with previous gradients\n",
    "    # errD_fake.backward(retain_graph=True)\n",
    "    # # D_G_z1 = output.mean().item()\n",
    "    # # Compute error of D as sum over the fake and the real batches\n",
    "    # errD = errD_real + errD_fake\n",
    "    # # Update D\n",
    "    # optimizerD.step()\n",
    "\n",
    "    # ############################\n",
    "    # # (2) Update G network: maximize log(D(G(z)))\n",
    "    # ###########################\n",
    "    # label.fill_(real_label)  # fake labels are real for generator cost\n",
    "    # # Since we just updated D, perform another forward pass of all-fake batch through D\n",
    "    # output = netD(fake).view(-1)\n",
    "    # # Calculate G's loss based on this output\n",
    "    # errG = bce_loss(output, label)\n",
    "    # # Calculate gradients for G\n",
    "    # # D_G_z2 = output.mean().item()\n",
    "    # # Update G\n",
    "\n",
    "    # loss[\"adversarial\"] = errG / num_views_per_iteration\n",
    "    # loss_gan[\"generator\"] = errG / num_views_per_iteration\n",
    "    # loss_gan[\"discriminator\"] = errD / num_views_per_iteration / 2\n",
    "\n",
    "    # Weighted sum of the losses\n",
    "    sum_loss = torch.tensor(0.0, device=device)\n",
    "    for k, l in loss.items():\n",
    "        sum_loss += l * losses[k][\"weight\"]\n",
    "        losses[k][\"values\"].append(float(l.detach().cpu()))\n",
    "    loop.set_description(\"total_loss = %.6f\" % sum_loss)\n",
    "\n",
    "\n",
    "    for k, l in loss_gan.items():\n",
    "        losses_gan[k][\"values\"].append(float(l.detach().cpu()))\n",
    "    # Print the losses\n",
    "    \n",
    "    # Plot mesh\n",
    "    if i % plot_period == 0:\n",
    "        visualize_prediction(new_src_mesh, renderer=renderer_textured, title=\"iter: %d\" % i, silhouette=False)\n",
    "        # maps.append(sphere_verts_rgb.detach().cpu())\n",
    "        \n",
    "    # Optimization step\n",
    "    sum_loss.backward()\n",
    "    optimizerG.step()\n",
    "    optimizerNorm.step()\n",
    "\n",
    "    \n",
    "    # Train Discriminator\n",
    "    # I want to make a generator that will create patches from the texture and warp them somehow to simulate them being on a surface. I'm thinking of some gradient mask too so that we don't learn from empty space. \n",
    "    # The true examples would be patches from the real image (probably also good to make it so that the object makes up at least some proportion of the patch for it to be accepted)\n",
    "\n",
    "    # Train Texture/Generator\n",
    "    # Here I want to use the discriminator to learn the texture better to try and fool it with the renderer serving as generator and the texture being the parameters we are tweaking/learning. \n",
    "    \n"
   ]
  },
  {
   "cell_type": "code",
   "execution_count": 391,
   "metadata": {},
   "outputs": [],
   "source": [
    "# from itertools import product\n",
    "# dimensions = torch.tensor(list(sphere_verts_rgb.grad.shape))\n",
    "# print(\"Total dimension of gradient: {}\\nNonzero dimension of gradient: {}\".format(torch.prod(dimensions), sphere_verts_rgb.grad.count_nonzero()))\n",
    "# plt.figure(figsize=(7,7))\n",
    "# # from pytorch3d.vis.texture_vis import texturesuv_image_matplotlib\n",
    "\n",
    "# texture_image=sphere_verts_rgb.grad*10000000*10\n",
    "\n",
    "# # texturesuv_image_matplotlib(new_src_mesh.textures, subsample=None)\n",
    "\n",
    "# print(texture_image.shape)\n",
    "# plt.imshow(texture_image.squeeze().cpu().detach())"
   ]
  },
  {
   "cell_type": "code",
   "execution_count": 392,
   "metadata": {},
   "outputs": [],
   "source": [
    "# plt.hist(sphere_verts_rgb.grad.detach().cpu().flatten().numpy(), bins=100, log=True)"
   ]
  },
  {
   "cell_type": "code",
   "execution_count": 393,
   "metadata": {},
   "outputs": [
    {
     "data": {
      "image/png": "[encoded data removed]",
      "text/plain": [
       "<Figure size 936x360 with 1 Axes>"
      ]
     },
     "metadata": {
      "needs_background": "light"
     },
     "output_type": "display_data"
    }
   ],
   "source": [
    "plot_losses(losses_gan)"
   ]
  },
  {
   "cell_type": "code",
   "execution_count": 394,
   "metadata": {},
   "outputs": [
    {
     "name": "stderr",
     "output_type": "stream",
     "text": [
      "Clipping input data to the valid range for imshow with RGB data ([0..1] for floats or [0..255] for integers).\n"
     ]
    },
    {
     "data": {
      "image/png": "[encoded data removed]",
      "text/plain": [
       "<Figure size 1440x720 with 2 Axes>"
      ]
     },
     "metadata": {
      "needs_background": "light"
     },
     "output_type": "display_data"
    }
   ],
   "source": [
    "visualize_prediction(new_src_mesh, renderer=renderer_textured, silhouette=False)\n"
   ]
  },
  {
   "cell_type": "code",
   "execution_count": 395,
   "metadata": {
    "colab": {},
    "colab_type": "code",
    "id": "2qTcHO4rR1Rs",
    "scrolled": true
   },
   "outputs": [
    {
     "name": "stderr",
     "output_type": "stream",
     "text": [
      "Clipping input data to the valid range for imshow with RGB data ([0..1] for floats or [0..255] for integers).\n"
     ]
    },
    {
     "data": {
      "image/png": "[encoded data removed]",
      "text/plain": [
       "<Figure size 1440x720 with 2 Axes>"
      ]
     },
     "metadata": {
      "needs_background": "light"
     },
     "output_type": "display_data"
    },
    {
     "data": {
      "image/png": "[encoded data removed]",
      "text/plain": [
       "<Figure size 936x360 with 1 Axes>"
      ]
     },
     "metadata": {
      "needs_background": "light"
     },
     "output_type": "display_data"
    }
   ],
   "source": [
    "visualize_prediction(new_src_mesh, renderer=renderer_textured, silhouette=False, camera=target_cameras[1], target_image=target_rgb[1])\n",
    "plot_losses(losses)"
   ]
  },
  {
   "cell_type": "code",
   "execution_count": 397,
   "metadata": {},
   "outputs": [
    {
     "name": "stdout",
     "output_type": "stream",
     "text": [
      "torch.Size([1, 128, 128, 3])\n"
     ]
    },
    {
     "data": {
      "image/png": "[encoded data removed]",
      "text/plain": [
       "<Figure size 504x504 with 1 Axes>"
      ]
     },
     "metadata": {
      "needs_background": "light"
     },
     "output_type": "display_data"
    }
   ],
   "source": [
    "plt.figure(figsize=(7,7))\n",
    "from pytorch3d.vis.texture_vis import texturesuv_image_matplotlib\n",
    "\n",
    "texture_image=new_src_mesh.textures.maps_padded()\n",
    "# texturesuv_image_matplotlib(new_src_mesh.textures, subsample=None)\n",
    "\n",
    "print(texture_image.shape)\n",
    "plt.imshow(texture_image.squeeze().cpu().detach())\n",
    "plt.axis(\"off\");"
   ]
  },
  {
   "cell_type": "code",
   "execution_count": 398,
   "metadata": {},
   "outputs": [
    {
     "name": "stdout",
     "output_type": "stream",
     "text": [
      "torch.Size([1, 1024, 1024, 3])\n"
     ]
    },
    {
     "data": {
      "image/png": "[encoded data removed]",
      "text/plain": [
       "<Figure size 504x504 with 1 Axes>"
      ]
     },
     "metadata": {
      "needs_background": "light"
     },
     "output_type": "display_data"
    }
   ],
   "source": [
    "plt.figure(figsize=(7,7))\n",
    "from pytorch3d.vis.texture_vis import texturesuv_image_matplotlib\n",
    "\n",
    "texture_image=new_src_mesh.normalmaps.maps_padded()\n",
    "# texturesuv_image_matplotlib(new_src_mesh.textures, subsample=None)\n",
    "\n",
    "print(texture_image.shape)\n",
    "plt.imshow(texture_image.squeeze().cpu().detach())\n",
    "plt.axis(\"off\");"
   ]
  },
  {
   "cell_type": "markdown",
   "metadata": {
    "colab_type": "text",
    "id": "akBOm_xcNUms"
   },
   "source": [
    "Save the final predicted mesh:"
   ]
  },
  {
   "cell_type": "code",
   "execution_count": 349,
   "metadata": {},
   "outputs": [
    {
     "data": {
      "image/png": "[encoded data removed]",
      "text/plain": [
       "<Figure size 504x504 with 1 Axes>"
      ]
     },
     "metadata": {
      "needs_background": "light"
     },
     "output_type": "display_data"
    }
   ],
   "source": [
    "plt.figure(figsize=(7,7))\n",
    "from pytorch3d.vis.texture_vis import texturesuv_image_matplotlib\n",
    "\n",
    "texture_image=src_mesh.textures.maps_padded()\n",
    "texturesuv_image_matplotlib(mesh.textures, subsample=None)\n",
    "# print(src_mesh.textures.maps_padded().shape, new_src_mesh.textures.maps_padded().shape)\n",
    "# print(texture_image.shape)\n",
    "# plt.imshow(texture_image.squeeze().cpu().detach())\n",
    "plt.axis(\"off\");"
   ]
  },
  {
   "cell_type": "markdown",
   "metadata": {
    "colab_type": "text",
    "id": "dXoIsGyhxRyK"
   },
   "source": [
    "## 4. Save the final predicted mesh"
   ]
  },
  {
   "cell_type": "code",
   "execution_count": null,
   "metadata": {
    "colab": {},
    "colab_type": "code",
    "id": "OQGhV-psKna8"
   },
   "outputs": [],
   "source": [
    "# # Fetch the verts and faces of the final predicted mesh\n",
    "# final_verts, final_faces = new_src_mesh.get_mesh_verts_faces(0)\n",
    "\n",
    "# # Scale normalize back to the original target size\n",
    "# final_verts = final_verts * scale + center\n",
    "\n",
    "# # Store the predicted mesh using save_obj\n",
    "# final_obj = os.path.join('./', 'final_model.obj')\n",
    "# save_obj(final_obj, final_verts, final_faces)"
   ]
  },
  {
   "cell_type": "markdown",
   "metadata": {
    "colab_type": "text",
    "id": "MtKYp0B6R1Ru"
   },
   "source": [
    "## 5. Conclusion\n",
    "In this tutorial, we learned how to load a textured mesh from an obj file, create a synthetic dataset by rendering the mesh from multiple viewpoints.  We showed how to set up an optimization loop to fit a mesh to the observed dataset images based on a rendered silhouette loss.  We then augmented this optimization loop with an additional loss based on rendered RGB images, which allowed us to predict both a mesh and its texture."
   ]
  }
 ],
 "metadata": {
  "accelerator": "GPU",
  "anp_metadata": {
   "path": "fbsource/fbcode/vision/fair/pytorch3d/docs/tutorials/fit_textured_mesh.ipynb"
  },
  "bento_stylesheets": {
   "bento/extensions/flow/main.css": true,
   "bento/extensions/kernel_selector/main.css": true,
   "bento/extensions/kernel_ui/main.css": true,
   "bento/extensions/new_kernel/main.css": true,
   "bento/extensions/system_usage/main.css": true,
   "bento/extensions/theme/main.css": true
  },
  "colab": {
   "name": "fit_textured_mesh.ipynb",
   "provenance": [],
   "toc_visible": true
  },
  "disseminate_notebook_info": {
   "backup_notebook_id": "781874812352022"
  },
  "interpreter": {
   "hash": "60cb56d69e6ae3efc575d5956bd5f6d74483d19d65043d3c065644cb49c044fe"
  },
  "kernelspec": {
   "display_name": "intro_to_cv",
   "language": "python",
   "name": "python3"
  },
  "language_info": {
   "codemirror_mode": {
    "name": "ipython",
    "version": 3
   },
   "file_extension": ".py",
   "mimetype": "text/x-python",
   "name": "python",
   "nbconvert_exporter": "python",
   "pygments_lexer": "ipython3",
   "version": "3.8.12"
  }
 },
 "nbformat": 4,
 "nbformat_minor": 1
}
