{
 "cells": [
  {
   "cell_type": "code",
   "execution_count": 4,
   "metadata": {
    "colab": {},
    "colab_type": "code",
    "id": "_Ip8kp4TfBLZ"
   },
   "outputs": [],
   "source": [
    "# Copyright (c) Facebook, Inc. and its affiliates. All rights reserved."
   ]
  },
  {
   "cell_type": "markdown",
   "metadata": {
    "colab_type": "text",
    "id": "kuXHJv44fBLe"
   },
   "source": [
    "# Fit a mesh via rendering\n",
    "\n",
    "This tutorial shows how to:\n",
    "- Load a mesh and textures from an `.obj` file. \n",
    "- Create a synthetic dataset by rendering a textured mesh from multiple viewpoints\n",
    "- Fit a mesh to the observed synthetic images using differential silhouette rendering\n",
    "- Fit a mesh and its textures using differential textured rendering"
   ]
  },
  {
   "cell_type": "markdown",
   "metadata": {
    "colab_type": "text",
    "id": "Bnj3THhzfBLf"
   },
   "source": [
    "## 0. Install and Import modules"
   ]
  },
  {
   "cell_type": "markdown",
   "metadata": {
    "colab_type": "text",
    "id": "okLalbR_g7NS"
   },
   "source": [
    "Ensure `torch` and `torchvision` are installed. If `pytorch3d` is not installed, install it using the following cell:"
   ]
  },
  {
   "cell_type": "code",
   "execution_count": 5,
   "metadata": {
    "colab": {},
    "colab_type": "code",
    "id": "musUWTglgxSB"
   },
   "outputs": [],
   "source": [
    "# import os\n",
    "# import sys\n",
    "# import torch\n",
    "# need_pytorch3d=False\n",
    "# try:\n",
    "    # import pytorch3d\n",
    "# except ModuleNotFoundError:\n",
    "    # need_pytorch3d=True\n",
    "# if need_pytorch3d:\n",
    "#     if torch.__version__.startswith(\"1.9\") and sys.platform.startswith(\"linux\"):\n",
    "#         # We try to install PyTorch3D via a released wheel.\n",
    "#         version_str=\"\".join([\n",
    "#             f\"py3{sys.version_info.minor}_cu\",\n",
    "#             torch.version.cuda.replace(\".\",\"\"),\n",
    "#             f\"_pyt{torch.__version__[0:5:2]}\"\n",
    "#         ])\n",
    "#         !pip install pytorch3d -f https://dl.fbaipublicfiles.com/pytorch3d/packaging/wheels/{version_str}/download.html\n",
    "#     else:\n",
    "#         # We try to install PyTorch3D from source.\n",
    "#         !curl -LO https://github.com/NVIDIA/cub/archive/1.10.0.tar.gz\n",
    "#         !tar xzf 1.10.0.tar.gz\n",
    "#         os.environ[\"CUB_HOME\"] = os.getcwd() + \"/cub-1.10.0\"\n",
    "#         !pip install 'git+https://github.com/facebookresearch/pytorch3d.git@stable'"
   ]
  },
  {
   "cell_type": "code",
   "execution_count": 6,
   "metadata": {
    "colab": {},
    "colab_type": "code",
    "id": "nX99zdoffBLg"
   },
   "outputs": [],
   "source": [
    "import os\n",
    "import torch\n",
    "from torch import nn\n",
    "from torchvision.transforms import RandomAffine, Resize\n",
    "import optuna\n",
    "\n",
    "\n",
    "import matplotlib.pyplot as plt\n",
    "\n",
    "from pytorch3d.utils import ico_sphere\n",
    "import numpy as np\n",
    "from tqdm.notebook import tqdm\n",
    "\n",
    "# Util function for loading meshes\n",
    "from pytorch3d.io import load_objs_as_meshes, save_obj\n",
    "\n",
    "from pytorch3d.loss import (\n",
    "    chamfer_distance, \n",
    "    mesh_edge_loss, \n",
    "    mesh_laplacian_smoothing, \n",
    "    mesh_normal_consistency,\n",
    ")\n",
    "from torchvision.transforms import RandomAffine, Resize\n",
    "\n",
    "# Data structures and functions for rendering\n",
    "from pytorch3d.structures import Meshes\n",
    "from pytorch3d.renderer import (\n",
    "    look_at_view_transform,\n",
    "    OpenGLPerspectiveCameras, \n",
    "    PointLights, \n",
    "    DirectionalLights, \n",
    "    Materials, \n",
    "    RasterizationSettings, \n",
    "    MeshRenderer, \n",
    "    NormalMeshRenderer,\n",
    "    MeshRasterizer,  \n",
    "    NormalSoftPhongShader,\n",
    "    SoftPhongShader,\n",
    "    SoftSilhouetteShader,\n",
    "    SoftPhongShader,\n",
    "    TexturesVertex,\n",
    "    TexturesUV,\n",
    "    tbn_matrices,\n",
    ")\n",
    "\n",
    "from pytorch3d.renderer.mesh import tbn_matrices\n",
    "# add path for demo utils functions \n",
    "import sys\n",
    "import os\n",
    "sys.path.append(os.path.abspath(''))"
   ]
  },
  {
   "cell_type": "markdown",
   "metadata": {
    "colab_type": "text",
    "id": "Lxmehq6Zhrzv"
   },
   "source": [
    "If using **Google Colab**, fetch the utils file for plotting image grids:"
   ]
  },
  {
   "cell_type": "code",
   "execution_count": 7,
   "metadata": {
    "colab": {},
    "colab_type": "code",
    "id": "HZozr3Pmho-5"
   },
   "outputs": [],
   "source": [
    "# !wget https://raw.githubusercontent.com/facebookresearch/pytorch3d/main/docs/tutorials/utils/plot_image_grid.py\n",
    "# from plot_image_grid import image_grid"
   ]
  },
  {
   "cell_type": "markdown",
   "metadata": {
    "colab_type": "text",
    "id": "g4B62MzYiJUM"
   },
   "source": [
    "OR if running **locally** uncomment and run the following cell:"
   ]
  },
  {
   "cell_type": "code",
   "execution_count": 8,
   "metadata": {
    "colab": {},
    "colab_type": "code",
    "id": "paJ4Im8ahl7O"
   },
   "outputs": [],
   "source": [
    " from utils.plot_image_grid import image_grid"
   ]
  },
  {
   "cell_type": "markdown",
   "metadata": {
    "colab_type": "text",
    "collapsed": true,
    "id": "5jGq772XfBLk"
   },
   "source": [
    "### 1. Load a mesh and texture file\n",
    "\n",
    "Load an `.obj` file and its associated `.mtl` file and create a **Textures** and **Meshes** object. \n",
    "\n",
    "**Meshes** is a unique datastructure provided in PyTorch3D for working with batches of meshes of different sizes. \n",
    "\n",
    "**TexturesVertex** is an auxiliary datastructure for storing vertex rgb texture information about meshes. \n",
    "\n",
    "**Meshes** has several class methods which are used throughout the rendering pipeline."
   ]
  },
  {
   "cell_type": "markdown",
   "metadata": {
    "colab_type": "text",
    "id": "a8eU4zo5jd_H"
   },
   "source": [
    "If running this notebook using **Google Colab**, run the following cell to fetch the mesh obj and texture files and save it at the path `data/cow_mesh`:\n",
    "If running locally, the data is already available at the correct path. "
   ]
  },
  {
   "cell_type": "code",
   "execution_count": 9,
   "metadata": {
    "colab": {},
    "colab_type": "code",
    "id": "tTm0cVuOjb1W"
   },
   "outputs": [],
   "source": [
    "# !mkdir -p data/cow_mesh\n",
    "# !wget -P data/cow_mesh https://dl.fbaipublicfiles.com/pytorch3d/data/cow_mesh/cow.obj\n",
    "# !wget -P data/cow_mesh https://dl.fbaipublicfiles.com/pytorch3d/data/cow_mesh/cow.mtl\n",
    "# !wget -P data/cow_mesh https://dl.fbaipublicfiles.com/pytorch3d/data/cow_mesh/cow_texture.png"
   ]
  },
  {
   "cell_type": "code",
   "execution_count": 10,
   "metadata": {
    "colab": {},
    "colab_type": "code",
    "id": "gi5Kd0GafBLl"
   },
   "outputs": [],
   "source": [
    "# Setup\n",
    "if torch.cuda.is_available():\n",
    "    device = torch.device(\"cuda:0\")\n",
    "    torch.cuda.set_device(device)\n",
    "else:\n",
    "    device = torch.device(\"cpu\")\n",
    "\n",
    "# device = torch.device(\"cpu\")\n",
    "\n",
    "# Set paths\n",
    "DATA_DIR = \"./data\"\n",
    "obj_filename = os.path.join(DATA_DIR, \"cow_mesh/cow.obj\")\n",
    "# obj_filename = os.path.join(DATA_DIR, \"cube_mesh/six_colour_cube.obj\")\n",
    "\n",
    "\n",
    "# Load obj file\n",
    "mesh = load_objs_as_meshes([obj_filename], device=device)\n",
    "\n",
    "# We scale normalize and center the target mesh to fit in a sphere of radius 1 \n",
    "# centered at (0,0,0). (scale, center) will be used to bring the predicted mesh \n",
    "# to its original center and scale.  Note that normalizing the target mesh, \n",
    "# speeds up the optimization but is not necessary!\n",
    "verts = mesh.verts_packed()\n",
    "N = verts.shape[0]\n",
    "center = verts.mean(0)\n",
    "scale = max((verts - center).abs().max(0)[0])\n",
    "mesh.offset_verts_(-center)\n",
    "mesh.scale_verts_((0.75 / float(scale)));"
   ]
  },
  {
   "cell_type": "code",
   "execution_count": 11,
   "metadata": {},
   "outputs": [],
   "source": [
    "# cos_similarity = torch.nn.CosineSimilarity(dim=3)\n",
    "# transform_range_horizontal = 100/1024\n",
    "# transform_range_vertical = 100/1024\n",
    "# transform = RandomAffine(0, translate=(transform_range_horizontal,transform_range_vertical), fill=0.5)\n",
    "# cos_similarity(mesh.normalmaps.maps_padded(), transform(mesh.normalmaps.maps_padded().permute(0,3,1,2)).permute(0,2,3,1).squeeze().cpu().numpy()).mean()"
   ]
  },
  {
   "cell_type": "code",
   "execution_count": 12,
   "metadata": {},
   "outputs": [],
   "source": [
    "# plt.figure(figsize=(7,7))\n",
    "# texture_image=mesh.normalmaps.maps_padded()\n",
    "# print(texture_image.shape)\n",
    "# plt.imshow(texture_image.squeeze().cpu().numpy())\n",
    "# plt.axis(\"off\");"
   ]
  },
  {
   "cell_type": "markdown",
   "metadata": {
    "colab_type": "text",
    "id": "17c4xmtyfBMH"
   },
   "source": [
    "## 2. Dataset Creation\n",
    "\n",
    "We sample different camera positions that encode multiple viewpoints of the cow.  We create a renderer with a shader that performs texture map interpolation.  We render a synthetic dataset of images of the textured cow mesh from multiple viewpoints.\n"
   ]
  },
  {
   "cell_type": "code",
   "execution_count": 13,
   "metadata": {},
   "outputs": [
    {
     "name": "stderr",
     "output_type": "stream",
     "text": [
      "/mnt/c/Projects/deepstimate/pytorch3d/pytorch3d/transforms/transform3d.py:782: UserWarning: R is not a valid rotation matrix\n",
      "  warnings.warn(msg)\n"
     ]
    },
    {
     "data": {
      "text/plain": [
       "<matplotlib.image.AxesImage at 0x7fa3254f79d0>"
      ]
     },
     "execution_count": 13,
     "metadata": {},
     "output_type": "execute_result"
    },
    {
     "data": {
      "image/png": "[encoded data removed]",
      "text/plain": [
       "<Figure size 432x288 with 1 Axes>"
      ]
     },
     "metadata": {
      "needs_background": "light"
     },
     "output_type": "display_data"
    }
   ],
   "source": [
    "imsize = 128\n",
    "# lights = PointLights(device=device, location=[[0.0, 0.0, -1.5]])\n",
    "lights = DirectionalLights(direction=[[0.0, 0.0, -1.0]], device=device)\n",
    "\n",
    "# We arbitrarily choose one particular view that will be used to visualize \n",
    "# results\n",
    "# Changed to novel view\n",
    "rand_elev = 45\n",
    "rand_azim = 135\n",
    "R_novel, T_novel = look_at_view_transform(dist=2.7, elev=rand_elev, azim=rand_azim)\n",
    "\n",
    "camera = OpenGLPerspectiveCameras(device=device, R=R_novel, \n",
    "                                  T=T_novel) \n",
    "\n",
    "\n",
    "# camera = OpenGLPerspectiveCameras(device=device, R=R[None, 1, ...], \n",
    "#                                   T=T[None, 1, ...]) \n",
    "\n",
    "# Define the settings for rasterization and shading. Here we set the output \n",
    "# image to be of size 128X128. As we are rendering images for visualization \n",
    "# purposes only we will set faces_per_pixel=1 and blur_radius=0.0. Refer to \n",
    "# rasterize_meshes.py for explanations of these parameters.  We also leave \n",
    "# bin_size and max_faces_per_bin to their default values of None, which sets \n",
    "# their values using heuristics and ensures that the faster coarse-to-fine \n",
    "# rasterization method is used.  Refer to docs/notes/renderer.md for an \n",
    "# explanation of the difference between naive and coarse-to-fine rasterization. \n",
    "raster_settings = RasterizationSettings(\n",
    "    image_size=imsize, \n",
    "    blur_radius=0.0, \n",
    "    faces_per_pixel=1, \n",
    "    perspective_correct=False,\n",
    ")\n",
    "\n",
    "# Create a Phong renderer by composing a rasterizer and a shader. The textured \n",
    "# Phong shader will interpolate the texture uv coordinates for each vertex, \n",
    "# sample from a texture image and apply the Phong lighting model\n",
    "TBN_matrices = tbn_matrices(mesh)\n",
    "renderer = NormalMeshRenderer(\n",
    "    rasterizer=MeshRasterizer(\n",
    "        cameras=camera, \n",
    "        raster_settings=raster_settings\n",
    "    ),\n",
    "    shader=NormalSoftPhongShader(\n",
    "        device=device, \n",
    "        cameras=camera,\n",
    "        lights=lights,\n",
    "        tangent_matrices=TBN_matrices,\n",
    "    )\n",
    ")\n",
    "random_target, _ = renderer(mesh, cameras=camera, lights=lights)\n",
    "random_target = random_target[...,:3]\n",
    "plt.imshow(random_target.cpu().numpy()[0])"
   ]
  },
  {
   "cell_type": "code",
   "execution_count": 14,
   "metadata": {
    "colab": {},
    "colab_type": "code",
    "id": "CDQKebNNfBMI"
   },
   "outputs": [
    {
     "name": "stdout",
     "output_type": "stream",
     "text": [
      "\n",
      "10 10\n"
     ]
    }
   ],
   "source": [
    "# the number of different viewpoints from which we want to render the mesh.\n",
    "num_views = 20\n",
    "batch_views = 1\n",
    "imsize = 128\n",
    "# Get a batch of viewing angles. \n",
    "elev = np.random.permutation(torch.linspace(0, 360, num_views))\n",
    "azim = np.random.permutation(torch.linspace(-180, 180, num_views))\n",
    "# elev = np.array([45, 45, 225, 225])\n",
    "# azim = np.array([-45, 135, -45, 135])\n",
    "\n",
    "def train_test_split(list):\n",
    "    return list[:len(list)//2], list[len(list)//2:]\n",
    "\n",
    "# Place a point light in front of the object. As mentioned above, the front of \n",
    "# the cow is facing the -z direction. \n",
    "\n",
    "# Initialize an OpenGL perspective camera that represents a batch of different \n",
    "# viewing angles. All the cameras helper methods support mixed type inputs and \n",
    "# broadcasting. So we can view the camera from the a distance of dist=2.7, and \n",
    "# then specify elevation and azimuth angles for each viewpoint as tensors. \n",
    "R, T = look_at_view_transform(dist=2.7, elev=elev, azim=azim)\n",
    "# cameras = OpenGLPerspectiveCameras(device=device, R=R, T=T)\n",
    "\n",
    "# We arbitrarily choose one particular view that will be used to visualize \n",
    "# results\n",
    "# Changed to novel view\n",
    "rand_elev = torch.rand((1,))*360\n",
    "rand_azim = torch.rand((1,))*360 - 180\n",
    "R_novel, T_novel = look_at_view_transform(dist=2.7, elev=rand_elev, azim=rand_azim)\n",
    "\n",
    "camera = OpenGLPerspectiveCameras(device=device, R=R_novel, \n",
    "                                  T=T_novel) \n",
    "\n",
    "\n",
    "# camera = OpenGLPerspectiveCameras(device=device, R=R[None, 1, ...], \n",
    "#                                   T=T[None, 1, ...]) \n",
    "\n",
    "# Define the settings for rasterization and shading. Here we set the output \n",
    "# image to be of size 128X128. As we are rendering images for visualization \n",
    "# purposes only we will set faces_per_pixel=1 and blur_radius=0.0. Refer to \n",
    "# rasterize_meshes.py for explanations of these parameters.  We also leave \n",
    "# bin_size and max_faces_per_bin to their default values of None, which sets \n",
    "# their values using heuristics and ensures that the faster coarse-to-fine \n",
    "# rasterization method is used.  Refer to docs/notes/renderer.md for an \n",
    "# explanation of the difference between naive and coarse-to-fine rasterization. \n",
    "\n",
    "normals_hook = torch.Tensor()\n",
    "raster_settings = RasterizationSettings(\n",
    "    image_size=imsize, \n",
    "    blur_radius=0.0, \n",
    "    faces_per_pixel=1, \n",
    "    perspective_correct=False,\n",
    ")\n",
    "\n",
    "# Create a Phong renderer by composing a rasterizer and a shader. The textured \n",
    "# Phong shader will interpolate the texture uv coordinates for each vertex, \n",
    "# sample from a texture image and apply the Phong lighting model\n",
    "renderer = NormalMeshRenderer(\n",
    "    rasterizer=MeshRasterizer(\n",
    "        cameras=camera, \n",
    "        raster_settings=raster_settings\n",
    "    ),\n",
    "    shader=NormalSoftPhongShader(\n",
    "        device=device, \n",
    "        cameras=camera,\n",
    "        lights=lights,\n",
    "        tangent_matrices=TBN_matrices,\n",
    "    )\n",
    ")\n",
    "\n",
    "# for i\n",
    "# Create a batch of meshes by repeating the cow mesh and associated textures. \n",
    "# Meshes has a useful `extend` method which allows us do this very easily. \n",
    "# This also extends the textures. \n",
    "meshes = mesh.extend(batch_views)\n",
    "target_rgb = []\n",
    "target_cameras = []\n",
    "target_normals = []\n",
    "print()\n",
    "# Render small batches of target views on GPU and append to list to be later converted to CPU tensor\n",
    "for i in range(num_views // batch_views):\n",
    "    # Create cameras for rendering the batch\n",
    "    cameras = OpenGLPerspectiveCameras(device=device, R=R[i*batch_views:(i+1)*batch_views], T=T[i*batch_views:(i+1)*batch_views])\n",
    "    # Render the cow mesh from each viewing angle\n",
    "    target_images_batch, normals = renderer(meshes, cameras=cameras, lights=lights)\n",
    "\n",
    "    # Our multi-view cow dataset will be represented by these 2 lists of tensors,\n",
    "    # each of length num_views.\n",
    "    target_rgb_batch = [target_images_batch[i, ..., :3].cpu() for i in range(batch_views)]\n",
    "    target_cameras_batch = [OpenGLPerspectiveCameras(device=device, R=R[None, i, ...], \n",
    "                                           T=T[None, i, ...]) for i in range(i*batch_views,(i+1)*batch_views)]\n",
    "    target_rgb.extend(target_rgb_batch)\n",
    "    target_cameras.extend(target_cameras_batch)\n",
    "    target_normals.append(normals)\n",
    "\n",
    "\n",
    "# 50/50 split of views for train/test\n",
    "target_rgb, test_rgb = train_test_split(target_rgb)\n",
    "target_cameras, test_cameras = train_test_split(target_cameras)\n",
    "target_normals, test_normals = train_test_split(target_normals)\n",
    "\n",
    "random_target, _ = renderer(mesh, cameras=camera, lights=lights)\n",
    "random_target = random_target[...,:3]\n",
    "print(len(target_rgb), len(target_cameras))"
   ]
  },
  {
   "cell_type": "markdown",
   "metadata": {
    "colab_type": "text",
    "id": "TppB4PVmR1Rc"
   },
   "source": [
    "Visualize the dataset:"
   ]
  },
  {
   "cell_type": "code",
   "execution_count": 15,
   "metadata": {
    "colab": {},
    "colab_type": "code",
    "id": "HHE0CnbVR1Rd"
   },
   "outputs": [
    {
     "name": "stdout",
     "output_type": "stream",
     "text": [
      "\n"
     ]
    },
    {
     "name": "stderr",
     "output_type": "stream",
     "text": [
      "/tmp/ipykernel_924/1255958388.py:4: FutureWarning: The input object of type 'Tensor' is an array-like implementing one of the corresponding protocols (`__array__`, `__array_interface__` or `__array_struct__`); but not a sequence (or 0-D). In the future, this object will be coerced as if it was first converted using `np.array(obj)`. To retain the old behaviour, you have to either modify the type 'Tensor', or assign to an empty array created with `np.empty(correct_shape, dtype=object)`.\n",
      "  image_grid(np.asarray(target_rgb[:10]), rows=2, cols=5, rgb=True)\n",
      "/tmp/ipykernel_924/1255958388.py:4: VisibleDeprecationWarning: Creating an ndarray from ragged nested sequences (which is a list-or-tuple of lists-or-tuples-or ndarrays with different lengths or shapes) is deprecated. If you meant to do this, you must specify 'dtype=object' when creating the ndarray.\n",
      "  image_grid(np.asarray(target_rgb[:10]), rows=2, cols=5, rgb=True)\n"
     ]
    },
    {
     "data": {
      "image/png": "[encoded data removed]",
      "text/plain": [
       "<Figure size 1080x648 with 10 Axes>"
      ]
     },
     "metadata": {
      "needs_background": "light"
     },
     "output_type": "display_data"
    }
   ],
   "source": [
    "# RGB images\n",
    "print()\n",
    "\n",
    "image_grid(np.asarray(target_rgb[:10]), rows=2, cols=5, rgb=True)\n",
    "plt.show()"
   ]
  },
  {
   "cell_type": "markdown",
   "metadata": {
    "colab_type": "text",
    "id": "gOb4rYx65E8z"
   },
   "source": [
    "Later in this tutorial, we will fit a mesh to the rendered RGB images, as well as to just images of just the cow silhouette.  For the latter case, we will render a dataset of silhouette images.  Most shaders in PyTorch3D will output an alpha channel along with the RGB image as a 4th channel in an RGBA image.  The alpha channel encodes the probability that each pixel belongs to the foreground of the object.  We construct a soft silhouette shader to render this alpha channel."
   ]
  },
  {
   "cell_type": "code",
   "execution_count": 16,
   "metadata": {
    "colab": {},
    "colab_type": "code",
    "id": "iP_g-nwX4exM"
   },
   "outputs": [],
   "source": [
    "# # Rasterization settings for silhouette rendering  \n",
    "# sigma = 1e-4\n",
    "# raster_settings_silhouette = RasterizationSettings(\n",
    "#     image_size=imsize, \n",
    "#     blur_radius=np.log(1. / 1e-4 - 1.)*sigma, \n",
    "#     faces_per_pixel=50, \n",
    "#     perspective_correct=False,\n",
    "# )\n",
    "\n",
    "# # Silhouette renderer \n",
    "# renderer_silhouette = MeshRenderer(\n",
    "#     rasterizer=MeshRasterizer(\n",
    "#         cameras=camera, \n",
    "#         raster_settings=raster_settings_silhouette\n",
    "#     ),\n",
    "#     shader=SoftSilhouetteShader()\n",
    "# )\n",
    "\n",
    "# # # Render silhouette images.  The 3rd channel of the rendering output is \n",
    "# # # the alpha/silhouette channel\n",
    "# # silhouette_images = renderer_silhouette(meshes, cameras=cameras, lights=lights)\n",
    "# # print(silhouette_images.shape)\n",
    "# # target_silhouette = [silhouette_images[i, ..., 3] for i in range(num_views)]\n",
    "\n",
    "# # # Visualize silhouette images\n",
    "# # image_grid(silhouette_images.cpu().numpy(), rows=4, cols=5, rgb=False)\n",
    "# # plt.show()"
   ]
  },
  {
   "cell_type": "code",
   "execution_count": 17,
   "metadata": {},
   "outputs": [
    {
     "name": "stderr",
     "output_type": "stream",
     "text": [
      "/tmp/ipykernel_924/579964652.py:37: FutureWarning: The input object of type 'Tensor' is an array-like implementing one of the corresponding protocols (`__array__`, `__array_interface__` or `__array_struct__`); but not a sequence (or 0-D). In the future, this object will be coerced as if it was first converted using `np.array(obj)`. To retain the old behaviour, you have to either modify the type 'Tensor', or assign to an empty array created with `np.empty(correct_shape, dtype=object)`.\n",
      "  print(np.asarray(target_silhouette[:10])[0].shape)\n",
      "/tmp/ipykernel_924/579964652.py:37: VisibleDeprecationWarning: Creating an ndarray from ragged nested sequences (which is a list-or-tuple of lists-or-tuples-or ndarrays with different lengths or shapes) is deprecated. If you meant to do this, you must specify 'dtype=object' when creating the ndarray.\n",
      "  print(np.asarray(target_silhouette[:10])[0].shape)\n",
      "/tmp/ipykernel_924/579964652.py:38: FutureWarning: The input object of type 'Tensor' is an array-like implementing one of the corresponding protocols (`__array__`, `__array_interface__` or `__array_struct__`); but not a sequence (or 0-D). In the future, this object will be coerced as if it was first converted using `np.array(obj)`. To retain the old behaviour, you have to either modify the type 'Tensor', or assign to an empty array created with `np.empty(correct_shape, dtype=object)`.\n",
      "  image_grid(np.asarray(silhouette_images[:10]), rows=2, cols=5, rgb=False)\n",
      "/tmp/ipykernel_924/579964652.py:38: VisibleDeprecationWarning: Creating an ndarray from ragged nested sequences (which is a list-or-tuple of lists-or-tuples-or ndarrays with different lengths or shapes) is deprecated. If you meant to do this, you must specify 'dtype=object' when creating the ndarray.\n",
      "  image_grid(np.asarray(silhouette_images[:10]), rows=2, cols=5, rgb=False)\n"
     ]
    },
    {
     "name": "stdout",
     "output_type": "stream",
     "text": [
      "torch.Size([128, 128])\n"
     ]
    },
    {
     "data": {
      "image/png": "[encoded data removed]",
      "text/plain": [
       "<Figure size 1080x648 with 10 Axes>"
      ]
     },
     "metadata": {
      "needs_background": "light"
     },
     "output_type": "display_data"
    }
   ],
   "source": [
    "# Rasterization settings for silhouette rendering  \n",
    "sigma = 1e-4\n",
    "raster_settings_silhouette = RasterizationSettings(\n",
    "    image_size=imsize, \n",
    "    blur_radius=np.log(1. / 1e-4 - 1.)*sigma, \n",
    "    faces_per_pixel=50, \n",
    "    perspective_correct=False,\n",
    ")\n",
    "\n",
    "# Silhouette renderer \n",
    "renderer_silhouette = MeshRenderer(\n",
    "    rasterizer=MeshRasterizer(\n",
    "        cameras=camera, \n",
    "        raster_settings=raster_settings_silhouette\n",
    "    ),\n",
    "    shader=SoftSilhouetteShader()\n",
    ")\n",
    "\n",
    "# Render silhouette images.  The 3rd channel of the rendering output is \n",
    "# the alpha/silhouette channel\n",
    "target_silhouette = []\n",
    "silhouette_images = []\n",
    "for i in range(num_views // batch_views):\n",
    "    # Create cameras for rendering the batch\n",
    "    cameras = OpenGLPerspectiveCameras(device=device, R=R[i*batch_views:(i+1)*batch_views], T=T[i*batch_views:(i+1)*batch_views])\n",
    "    # Render the cow mesh from each viewing angle\n",
    "    silhouette_images_batch = renderer_silhouette(meshes, cameras=cameras, lights=lights)\n",
    "    silhouette_images.extend(silhouette_images_batch.cpu())\n",
    "    # Our multi-view cow dataset will be represented by these 2 lists of tensors,\n",
    "    # each of length num_views.\n",
    "    target_silhouette_batch = [silhouette_images_batch[i, ..., 3].cpu() for i in range(batch_views)]\n",
    "    # target_cameras_batch = [OpenGLPerspectiveCameras(device=device, R=R[None, i, ...], \n",
    "                                        #    T=T[None, i, ...]) for i in range(i*batch_views,(i+1)*batch_views)]\n",
    "    target_silhouette.extend(target_silhouette_batch)\n",
    "    # target_cameras.extend(target_cameras_batch)\n",
    "# Visualize silhouette images\n",
    "print(np.asarray(target_silhouette[:10])[0].shape)\n",
    "image_grid(np.asarray(silhouette_images[:10]), rows=2, cols=5, rgb=False)\n",
    "plt.show()"
   ]
  },
  {
   "cell_type": "markdown",
   "metadata": {
    "colab_type": "text",
    "id": "t3qphI1ElUb5"
   },
   "source": [
    "## 3. Mesh prediction via silhouette rendering\n",
    "In the previous section, we created a dataset of images of multiple viewpoints of a cow.  In this section, we predict a mesh by observing those target images without any knowledge of the ground truth cow mesh.  We assume we know the position of the cameras and lighting.\n",
    "\n",
    "We first define some helper functions to visualize the results of our mesh prediction:"
   ]
  },
  {
   "cell_type": "code",
   "execution_count": 18,
   "metadata": {
    "colab": {},
    "colab_type": "code",
    "id": "eeWYHROrR1Rh"
   },
   "outputs": [],
   "source": [
    "# Show a visualization comparing the rendered predicted mesh to the ground truth \n",
    "# mesh\n",
    "def visualize_prediction(predicted_mesh, renderer=renderer_silhouette, \n",
    "                         target_image=random_target[0], title='', \n",
    "                         silhouette=False, camera = camera):\n",
    "    inds = 3 if silhouette else range(3)\n",
    "    with torch.no_grad():\n",
    "        predicted_images, _ = renderer(predicted_mesh, cameras=camera)\n",
    "    plt.figure(figsize=(20, 10))\n",
    "    plt.subplot(1, 2, 1)\n",
    "    plt.imshow(predicted_images[0, ..., inds].cpu().detach().numpy())\n",
    "\n",
    "    plt.subplot(1, 2, 2)\n",
    "    plt.imshow(target_image.cpu().detach().numpy())\n",
    "    plt.title(title)\n",
    "    plt.axis(\"off\")\n",
    "\n",
    "# Plot losses as a function of optimization iteration\n",
    "def plot_losses(losses):\n",
    "    fig = plt.figure(figsize=(13, 5))\n",
    "    ax = fig.gca()\n",
    "    for k, l in losses.items():\n",
    "        ax.plot(l['values'], label=k + \" loss\")\n",
    "    ax.legend(fontsize=\"16\")\n",
    "    ax.set_xlabel(\"Iteration\", fontsize=\"16\")\n",
    "    ax.set_ylabel(\"Loss\", fontsize=\"16\")\n",
    "    ax.set_title(\"Loss vs iterations\", fontsize=\"16\")"
   ]
  },
  {
   "cell_type": "markdown",
   "metadata": {
    "colab_type": "text",
    "id": "PpsvBpuMR1Ri"
   },
   "source": [
    "Starting from a sphere mesh, we will learn offsets of each vertex such that the predicted mesh silhouette is more similar to the target silhouette image at each optimization step.  We begin by loading our initial sphere mesh:"
   ]
  },
  {
   "cell_type": "code",
   "execution_count": 19,
   "metadata": {
    "colab": {},
    "colab_type": "code",
    "id": "i989ARH1R1Rj"
   },
   "outputs": [],
   "source": [
    "# We initialize the source shape to be a sphere of radius 1.  \n",
    "silhouette_src_mesh = ico_sphere(4, device)\n",
    "# src_mesh = mesh.clone()"
   ]
  },
  {
   "cell_type": "code",
   "execution_count": 20,
   "metadata": {},
   "outputs": [
    {
     "name": "stdout",
     "output_type": "stream",
     "text": [
      "torch.Size([2562]) torch.Size([2562])\n",
      "torch.Size([2562, 2]) tensor(1., device='cuda:0') tensor(0., device='cuda:0')\n",
      "Target shapes faces: torch.Size([1, 5856, 3]), verts: torch.Size([1, 2930, 3])\n",
      "Target shapes facesUVs: torch.Size([1, 5856, 3]), vertsUVs: torch.Size([1, 3225, 2])\n",
      "torch.Size([2562, 3])\n"
     ]
    },
    {
     "data": {
      "image/png": "[encoded data removed]",
      "text/plain": [
       "<Figure size 432x288 with 1 Axes>"
      ]
     },
     "metadata": {
      "needs_background": "light"
     },
     "output_type": "display_data"
    }
   ],
   "source": [
    "# Functions from my L4 project\n",
    "def to_geocentric(lat, lon):\n",
    "    \"\"\"\n",
    "    Converts a latitude longitude pair to geocentric X Y Z coordinates\n",
    "    \"\"\"\n",
    "    lat = np.radians(lat)\n",
    "    lon = np.radians(lon)\n",
    "    return np.array([np.cos(lat) * np.cos(lon), np.cos(lat) * np.sin(lon), np.sin(lat)])\n",
    "\n",
    "# lat lon but longitude is scaled to half to have a square representation\n",
    "def to_lat_lon(coords):\n",
    "    \"\"\"\n",
    "    Converts X Y Z geocentric coordinates into latitude and longitude\n",
    "    \"\"\"\n",
    "    return np.array([np.degrees(np.arcsin(coords[2])), np.degrees(np.arctan2(coords[1], coords[0]))])\n",
    "\n",
    "# Creating UVs for sphere using equirectangular projection with scaled v axis\n",
    "sphere_verts = silhouette_src_mesh.verts_packed()\n",
    "xyz_to_u = torch.rad2deg(torch.arcsin(sphere_verts[:,2])) + 90\n",
    "xyz_to_v = (torch.rad2deg(torch.atan2(sphere_verts[:,1], sphere_verts[:,0])) + 180) / 2 \n",
    "print(xyz_to_u.shape, xyz_to_v.shape)\n",
    "sphere_verts_uvs = torch.stack([xyz_to_u, xyz_to_v], dim=1) / 180\n",
    "print(sphere_verts_uvs.shape, sphere_verts_uvs.max(), sphere_verts_uvs.min())\n",
    "# need to solve seams somehow\n",
    "# u = 0.5 + (torch.atan2(verts[:,0], verts[:,1])/(np.pi*2))\n",
    "# v = 0.5 - (torch.arcsin(verts[:,2])/np.pi)\n",
    "# uv_map = torch.stack([u,v], dim=1).unsqueeze(dim=0).to(device)\n",
    "print(\"Target shapes faces: {}, verts: {}\".format(mesh.faces_padded().shape, mesh.verts_padded().shape, ))\n",
    "print(\"Target shapes facesUVs: {}, vertsUVs: {}\".format(mesh.textures.faces_uvs_padded().shape,  mesh.textures.verts_uvs_padded().shape))\n",
    "print(silhouette_src_mesh.verts_packed().shape)\n",
    "# silhouette_src_mesh.verts_padded().map\n",
    "plt.scatter(sphere_verts_uvs.cpu()[:,0], sphere_verts_uvs.cpu()[:,1], s=1)\n",
    "plt.show()\n",
    "silhouette_src_mesh.textures = TexturesUV(mesh.textures.maps_padded(), faces_uvs=silhouette_src_mesh.faces_packed().unsqueeze(0), verts_uvs=sphere_verts_uvs.unsqueeze(0))"
   ]
  },
  {
   "cell_type": "code",
   "execution_count": 21,
   "metadata": {},
   "outputs": [
    {
     "data": {
      "image/png": "[encoded data removed]",
      "text/plain": [
       "<Figure size 504x504 with 1 Axes>"
      ]
     },
     "metadata": {
      "needs_background": "light"
     },
     "output_type": "display_data"
    }
   ],
   "source": [
    "plt.figure(figsize=(7,7))\n",
    "from pytorch3d.vis.texture_vis import texturesuv_image_matplotlib\n",
    "\n",
    "# texture_image=src_mesh.textures.maps_padded()\n",
    "texturesuv_image_matplotlib(silhouette_src_mesh.textures, subsample=None)\n",
    "\n",
    "# print(texture_image.shape)\n",
    "# plt.imshow(texture_image.squeeze().cpu().detach())\n",
    "plt.axis(\"off\");"
   ]
  },
  {
   "cell_type": "markdown",
   "metadata": {
    "colab_type": "text",
    "id": "f5xVtgLNDvC5"
   },
   "source": [
    "We create a new differentiable renderer for rendering the silhouette of our predicted mesh:"
   ]
  },
  {
   "cell_type": "code",
   "execution_count": 22,
   "metadata": {
    "colab": {},
    "colab_type": "code",
    "id": "sXfjzgG4DsDJ"
   },
   "outputs": [],
   "source": [
    "# Rasterization settings for differentiable rendering, where the blur_radius\n",
    "# initialization is based on Liu et al, 'Soft Rasterizer: A Differentiable \n",
    "# Renderer for Image-based 3D Reasoning', ICCV 2019\n",
    "sigma = 1e-4\n",
    "raster_settings_soft = RasterizationSettings(\n",
    "    image_size=imsize, \n",
    "    blur_radius=np.log(1. / 1e-4 - 1.)*sigma, \n",
    "    faces_per_pixel=50, \n",
    "    perspective_correct=False,\n",
    ")\n",
    "\n",
    "# Silhouette renderer \n",
    "renderer_silhouette = MeshRenderer(\n",
    "    rasterizer=MeshRasterizer(\n",
    "        cameras=camera, \n",
    "        raster_settings=raster_settings_soft\n",
    "    ),\n",
    "    shader=SoftSilhouetteShader()\n",
    ")"
   ]
  },
  {
   "cell_type": "markdown",
   "metadata": {
    "colab_type": "text",
    "id": "SGJKbCB6R1Rk"
   },
   "source": [
    "We initialize settings, losses, and the optimizer that will be used to iteratively fit our mesh to the target silhouettes:"
   ]
  },
  {
   "cell_type": "code",
   "execution_count": 23,
   "metadata": {
    "colab": {},
    "colab_type": "code",
    "id": "0sLrKv_MEULh"
   },
   "outputs": [],
   "source": [
    "# Number of views to optimize over in each SGD iteration\n",
    "num_views_per_iteration = 5\n",
    "# Number of optimization steps\n",
    "Niter = 1000\n",
    "# Plot period for the losses\n",
    "plot_period = 250\n",
    "\n",
    "%matplotlib inline\n",
    "\n",
    "# Optimize using rendered silhouette image loss, mesh edge loss, mesh normal \n",
    "# consistency, and mesh laplacian smoothing\n",
    "losses = {\"silhouette\": {\"weight\": 1.0, \"values\": []},\n",
    "          \"edge\": {\"weight\": 1.0, \"values\": []},\n",
    "          \"normal\": {\"weight\": 0.01, \"values\": []},\n",
    "          \"laplacian\": {\"weight\": 1.0, \"values\": []},\n",
    "         }\n",
    "\n",
    "# Losses to smooth / regularize the mesh shape\n",
    "def update_mesh_shape_prior_losses(mesh, loss):\n",
    "    # and (b) the edge length of the predicted mesh\n",
    "    loss[\"edge\"] = mesh_edge_loss(mesh)\n",
    "    \n",
    "    # mesh normal consistency\n",
    "    loss[\"normal\"] = mesh_normal_consistency(mesh)\n",
    "    \n",
    "    # mesh laplacian smoothing\n",
    "    loss[\"laplacian\"] = mesh_laplacian_smoothing(mesh, method=\"uniform\")\n",
    "\n",
    "# We will learn to deform the source mesh by offsetting its vertices\n",
    "# The shape of the deform parameters is equal to the total number of vertices in\n",
    "# src_mesh\n",
    "verts_shape = silhouette_src_mesh.verts_packed().shape\n",
    "deform_verts = torch.full(verts_shape, 0.0, device=device, requires_grad=True)\n",
    "\n",
    "# The optimizer\n",
    "optimizer = torch.optim.SGD([deform_verts], lr=1.0, momentum=0.9)"
   ]
  },
  {
   "cell_type": "markdown",
   "metadata": {
    "colab_type": "text",
    "id": "QLc9zK8lEqFS"
   },
   "source": [
    "We write an optimization loop to iteratively refine our predicted mesh from the sphere mesh into a mesh that matches the silhouettes of the target images:"
   ]
  },
  {
   "cell_type": "code",
   "execution_count": 24,
   "metadata": {
    "colab": {},
    "colab_type": "code",
    "id": "gCfepfOoR1Rl"
   },
   "outputs": [
    {
     "data": {
      "application/vnd.jupyter.widget-view+json": {
       "model_id": "559f47af08b247ce86997eb1a38f06cb",
       "version_major": 2,
       "version_minor": 0
      },
      "text/plain": [
       "  0%|          | 0/1000 [00:00<?, ?it/s]"
      ]
     },
     "metadata": {},
     "output_type": "display_data"
    }
   ],
   "source": [
    "loop = tqdm(range(Niter))\n",
    "\n",
    "for i in loop:\n",
    "    # Initialize optimizer\n",
    "    optimizer.zero_grad()\n",
    "    \n",
    "    # Deform the mesh\n",
    "    new_src_mesh = silhouette_src_mesh.offset_verts(deform_verts)\n",
    "    \n",
    "    # Losses to smooth /regularize the mesh shape\n",
    "    loss = {k: torch.tensor(0.0, device=device) for k in losses}\n",
    "    update_mesh_shape_prior_losses(new_src_mesh, loss)\n",
    "    \n",
    "    # Compute the average silhouette loss over two random views, as the average \n",
    "    # squared L2 distance between the predicted silhouette and the target \n",
    "    # silhouette from our dataset\n",
    "    for j in np.random.permutation(len(target_cameras)).tolist()[:num_views_per_iteration]:\n",
    "        images_predicted = renderer_silhouette(new_src_mesh, cameras=target_cameras[j], lights=lights)\n",
    "        predicted_silhouette = images_predicted[..., 3]\n",
    "        loss_silhouette = ((predicted_silhouette - target_silhouette[j].to(device)) ** 2).mean()\n",
    "        loss[\"silhouette\"] += loss_silhouette / num_views_per_iteration\n",
    "    \n",
    "    # Weighted sum of the losses\n",
    "    sum_loss = torch.tensor(0.0, device=device)\n",
    "    for k, l in loss.items():\n",
    "        sum_loss += l * losses[k][\"weight\"]\n",
    "        losses[k][\"values\"].append(float(l.detach().cpu()))\n",
    "\n",
    "    \n",
    "    # Print the losses\n",
    "    loop.set_description(\"total_loss = %.6f\" % sum_loss)\n",
    "    \n",
    "    # Plot mesh\n",
    "    # if i % plot_period == 0:\n",
    "    #     visualize_prediction(new_src_mesh, title=\"iter: %d\" % i, silhouette=True,\n",
    "    #                          target_image=target_silhouette[1])\n",
    "        \n",
    "    # Optimization step\n",
    "    sum_loss.backward()\n",
    "    optimizer.step()"
   ]
  },
  {
   "cell_type": "code",
   "execution_count": 25,
   "metadata": {
    "colab": {},
    "colab_type": "code",
    "id": "CX4huayKR1Rm",
    "scrolled": true
   },
   "outputs": [],
   "source": [
    "# sum_loss=None\n",
    "silhouette_result = new_src_mesh.clone().detach()\n",
    "# visualize_prediction(silhouette_result, silhouette=True, \n",
    "#                      target_image=target_silhouette[1], camera=target_cameras[1])\n",
    "# plot_losses(losses)"
   ]
  },
  {
   "cell_type": "markdown",
   "metadata": {
    "colab_type": "text",
    "id": "XJDsJQmrR1Ro"
   },
   "source": [
    "## 3. Mesh and texture prediction via textured rendering\n",
    "We can predict both the mesh and its texture if we add an additional loss based on the comparing a predicted rendered RGB image to the target image. As before, we start with a sphere mesh.  We learn both translational offsets and RGB texture colors for each vertex in the sphere mesh.  Since our loss is based on rendered RGB pixel values instead of just the silhouette, we use a **SoftPhongShader** instead of a **SoftSilhouetteShader**."
   ]
  },
  {
   "cell_type": "code",
   "execution_count": 26,
   "metadata": {
    "colab": {},
    "colab_type": "code",
    "id": "aZObyIt9R1Ro"
   },
   "outputs": [],
   "source": [
    "# Rasterization settings for differentiable rendering, where the blur_radius\n",
    "# initialization is based on Liu et al, 'Soft Rasterizer: A Differentiable \n",
    "# Renderer for Image-based 3D Reasoning', ICCV 2019\n",
    "\n",
    "new_TBN_matrices = tbn_matrices(silhouette_result)\n",
    "\n",
    "sigma = 1e-4\n",
    "raster_settings_soft = RasterizationSettings(\n",
    "    image_size=imsize, \n",
    "    blur_radius=np.log(1. / 1e-4 - 1.)*sigma, \n",
    "    faces_per_pixel=50, \n",
    "    perspective_correct=False,\n",
    ")\n",
    "\n",
    "# Differentiable soft renderer using per vertex RGB colors for texture\n",
    "renderer_textured = MeshRenderer(\n",
    "    rasterizer=MeshRasterizer(\n",
    "        cameras=camera, \n",
    "        raster_settings=raster_settings_soft\n",
    "    ),\n",
    "    shader=NormalSoftPhongShader(device=device, \n",
    "        cameras=camera,\n",
    "        lights=lights,\n",
    "        tangent_matrices=new_TBN_matrices)\n",
    ")\n"
   ]
  },
  {
   "cell_type": "markdown",
   "metadata": {
    "colab_type": "text",
    "id": "NM7gJux8GMQX"
   },
   "source": [
    "We initialize settings, losses, and the optimizer that will be used to iteratively fit our mesh to the target RGB images:"
   ]
  },
  {
   "cell_type": "markdown",
   "metadata": {
    "colab_type": "text",
    "id": "tzIAycuUR1Rq"
   },
   "source": [
    "We write an optimization loop to iteratively refine our predicted mesh and its vertex colors from the sphere mesh into a mesh that matches the target images:"
   ]
  },
  {
   "cell_type": "code",
   "execution_count": 27,
   "metadata": {},
   "outputs": [],
   "source": [
    "\n",
    "# Texture generator Code\n",
    "class Generator(nn.Module):\n",
    "    def __init__(self, ngpu, ngf = 32, nc=3, nz=100, type = \"normal\", conv_layers = 4):\n",
    "        super(Generator, self).__init__()\n",
    "        self.type = type\n",
    "        self.ngpu = ngpu\n",
    "        self.deconv = nn.Sequential(\n",
    "            # Testing convoluting target image first \n",
    "            # input is (nc) x 128 x 128\n",
    "            nn.Conv2d(nc, ngf, 4, 2, 1, bias=False),\n",
    "            nn.LeakyReLU(0.2, inplace=True),\n",
    "            # nn.Dropout2d(p=0.25),\n",
    "            # state size. (ndf) x 64 x 64\n",
    "            nn.Conv2d(ngf, ngf * 2, 4, 2, 1, bias=False),\n",
    "            nn.BatchNorm2d(ngf * 2),\n",
    "            nn.LeakyReLU(0.2, inplace=True),\n",
    "            # nn.Dropout2d(p=0.25),\n",
    "            # state size. (ndf*2) x 32 x 32\n",
    "            nn.Conv2d(ngf * 2, ngf * 4, 4, 2, 1, bias=False),\n",
    "            nn.BatchNorm2d(ngf * 4),\n",
    "            nn.LeakyReLU(0.2, inplace=True),\n",
    "            # state size. (ndf*4) x 16 x 16\n",
    "            nn.Flatten(),\n",
    "            nn.Linear(ngf * 4 * 16*16, nz),\n",
    "            UnsqueezeLatent(),\n",
    "        )\n",
    "        self.tanh = nn.Tanh()           \n",
    "        scale_factor = max(8, 8*(2**(4-conv_layers)))\n",
    "        self.upsampler = nn.Upsample(scale_factor=scale_factor, mode='bilinear')\n",
    "        self.normal_generator = nn.Sequential(\n",
    "            nn.ConvTranspose2d( ngf, nc, 4, 4, 0, bias=False),\n",
    "            nn.ReLU(True),\n",
    "            nn.ConvTranspose2d( nc, nc, 3, 1, 1, bias=False),\n",
    "        )\n",
    "        self.texture_generator = nn.Sequential(\n",
    "            nn.ConvTranspose2d( ngf, nc, 4, 4, 0, bias=False),\n",
    "            nn.ReLU(True),\n",
    "            nn.ConvTranspose2d( nc, nc, 3, 1, 1, bias=False),\n",
    "        )\n",
    "\n",
    "        if type == \"normal\":\n",
    "            self.generator = nn.Sequential(\n",
    "                # input is Z, going into a convolution\n",
    "                nn.ConvTranspose2d( nz, ngf * 8, 4, 1, 0, bias=False),\n",
    "                # nn.BatchNorm2d(ngf * 8),\n",
    "                nn.ReLU(True),\n",
    "                # nn.Dropout2d(p=0.25),\n",
    "                # state size. (ngf*8) x 4 x 4\n",
    "                nn.ConvTranspose2d(ngf * 8, ngf * 4, 4, 2, 1, bias=False),\n",
    "                # ResConvTranspose(nn.ConvTranspose2d(ngf, ngf, 4, 2, 1, bias=False),nn.Upsample(scale_factor=2, mode='bilinear')),\n",
    "                # nn.BatchNorm2d(ngf * 4),\n",
    "                nn.ReLU(True),\n",
    "                # nn.Dropout2d(p=0.25),\n",
    "                # state size. (ngf*4) x 8 x 8\n",
    "                nn.ConvTranspose2d( ngf * 4, ngf * 2, 4, 2, 1, bias=False),\n",
    "                # ResConvTranspose(nn.ConvTranspose2d( ngf, ngf, 4, 2, 1, bias=False),nn.Upsample(scale_factor=2, mode='bilinear')),\n",
    "                # nn.BatchNorm2d(ngf * 2),\n",
    "                nn.ReLU(True),\n",
    "                # nn.Dropout2d(p=0.25),\n",
    "                # state size. (ngf*2) x 16 x 16\n",
    "                nn.ConvTranspose2d( ngf * 2, ngf, 4, 2, 1, bias=False),\n",
    "                # ResConvTranspose(nn.ConvTranspose2d( ngf, ngf, 4, 2, 1, bias=False),nn.Upsample(scale_factor=2, mode='bilinear')),\n",
    "                # nn.BatchNorm2d(ngf),\n",
    "                nn.ReLU(True),\n",
    "                # nn.Dropout2d(p=0.25),\n",
    "                # state size. (ngf) x 32 x 32\n",
    "                # nn.ConvTranspose2d( ngf, ngf//2, 4, 2, 1, bias=False),\n",
    "                # nn.BatchNorm2d(ngf//2),\n",
    "                # nn.ReLU(True),\n",
    "                # nn.Dropout2d(),\n",
    "                # state size. (ngf) x 64 x 64\n",
    "                nn.ConvTranspose2d( ngf, nc, 4, 4, 0, bias=False),\n",
    "                nn.Tanh(),\n",
    "                # nn.Upsample(scale_factor=4, mode='bilinear')\n",
    "                # state size. (nc) x 128 x 128\n",
    "            )\n",
    "        elif type == \"residual\":\n",
    "            self.generator =  nn.Sequential(\n",
    "            # input is Z, going into a convolution\n",
    "            nn.ConvTranspose2d( nz, ngf, 4, 1, 0, bias=False),\n",
    "            # nn.BatchNorm2d(ngf * 8),\n",
    "            nn.ReLU(True),\n",
    "            # nn.Dropout2d(p=0.25),\n",
    "            # state size. (ngf*8) x 4 x 4\n",
    "            ResConvTranspose(nn.ConvTranspose2d(ngf, ngf, 4, 2, 1, bias=False),nn.Upsample(scale_factor=2, mode='bilinear')),\n",
    "            # nn.BatchNorm2d(ngf * 4),\n",
    "            nn.ReLU(True),\n",
    "            # nn.Dropout2d(p=0.25),\n",
    "            # state size. (ngf*4) x 8 x 8\n",
    "            ResConvTranspose(nn.ConvTranspose2d( ngf, ngf, 4, 2, 1, bias=False),nn.Upsample(scale_factor=2, mode='bilinear')),\n",
    "            # nn.BatchNorm2d(ngf * 2),\n",
    "            nn.ReLU(True),\n",
    "            # nn.Dropout2d(p=0.25),\n",
    "            # state size. (ngf*2) x 16 x 16\n",
    "            ResConvTranspose(nn.ConvTranspose2d( ngf, ngf, 4, 2, 1, bias=False),nn.Upsample(scale_factor=2, mode='bilinear')),\n",
    "            # nn.BatchNorm2d(ngf),\n",
    "            nn.ReLU(True),\n",
    "            # nn.Dropout2d(p=0.25),\n",
    "            # state size. (ngf) x 32 x 32\n",
    "            # nn.ConvTranspose2d( ngf, ngf//2, 4, 2, 1, bias=False),\n",
    "            # nn.BatchNorm2d(ngf//2),\n",
    "            # nn.ReLU(True),\n",
    "            # nn.Dropout2d(),\n",
    "            # state size. (ngf) x 64 x 64\n",
    "            nn.ConvTranspose2d( ngf, nc, 4, 4, 0, bias=False),\n",
    "            nn.Tanh(),\n",
    "            # nn.Upsample(scale_factor=4, mode='bilinear')\n",
    "            # state size. (nc) x 128 x 128\n",
    "        )\n",
    "        elif type == \"simultaneous\":\n",
    "            modules = [nn.ConvTranspose2d(nz, ngf * (2**(conv_layers-1)), 4, 1, 0, bias=False),\n",
    "                nn.BatchNorm2d(ngf * (2**(conv_layers-1))),\n",
    "                nn.ReLU(True)]\n",
    "\n",
    "            # deconv layers that upscale by 2, maximum to 128x128\n",
    "            for i in range(conv_layers - 1, max(conv_layers-4, 0), -1):\n",
    "                modules.extend([\n",
    "                nn.ConvTranspose2d(ngf * (2**(i)), ngf * (2**(i-1)), 4, 2, 1, bias=False),\n",
    "                nn.BatchNorm2d(ngf * (2**(i-1))),\n",
    "                nn.ReLU(True)\n",
    "                ])\n",
    "            # convolution layers without upscaling beyond 128x128 to save on memory\n",
    "            if conv_layers > 4:\n",
    "                for j in range(conv_layers-4, 0, -1):\n",
    "                    modules.extend([\n",
    "                        nn.ConvTranspose2d(ngf * (2**(j)), ngf * (2**(j-1)), 3, 1, 1, bias=False),\n",
    "                        nn.BatchNorm2d(ngf * (2**(j-1))),\n",
    "                        nn.ReLU(True) \n",
    "                    ])\n",
    "\n",
    "            self.generator = nn.Sequential(*modules)\n",
    "    def forward(self, input):\n",
    "        if self.type == \"simultaneous\":\n",
    "            result = self.generator(input)\n",
    "            return self.upsampler(self.tanh(self.texture_generator(result))), self.upsampler(self.tanh(self.normal_generator(result)))\n",
    "        else: \n",
    "            return self.generator(input)\n"
   ]
  },
  {
   "cell_type": "code",
   "execution_count": 28,
   "metadata": {},
   "outputs": [],
   "source": [
    "# Discriminator code\n",
    "class Discriminator(nn.Module):\n",
    "    def __init__(self, ngpu, ndf = 32, nc = 3):\n",
    "        super(Discriminator, self).__init__()\n",
    "        self.ngpu = ngpu\n",
    "        self.main = nn.Sequential(\n",
    "            # input is (nc) x 128 x 128\n",
    "            nn.Conv2d(nc, ndf, 4, 2, 1, bias=False),\n",
    "            nn.LeakyReLU(0.2, inplace=True),\n",
    "            # nn.Dropout2d(p=0.25),\n",
    "            # state size. (ndf) x 64 x 64\n",
    "            nn.Conv2d(ndf, ndf * 2, 4, 2, 1, bias=False),\n",
    "            nn.BatchNorm2d(ndf * 2),\n",
    "            nn.LeakyReLU(0.2, inplace=True),\n",
    "            # nn.Dropout2d(p=0.25),\n",
    "            # state size. (ndf*2) x 32 x 32\n",
    "            nn.Conv2d(ndf * 2, ndf * 4, 4, 2, 1, bias=False),\n",
    "            nn.BatchNorm2d(ndf * 4),\n",
    "            nn.LeakyReLU(0.2, inplace=True),\n",
    "            # nn.Dropout2d(p=0.25),\n",
    "            # state size. (ndf*4) x 16 x 16\n",
    "            nn.Conv2d(ndf * 4, ndf * 8, 4, 2, 1, bias=False),\n",
    "            nn.BatchNorm2d(ndf * 8),\n",
    "            nn.LeakyReLU(0.2, inplace=True),\n",
    "            # nn.Dropout2d(p=0.25),\n",
    "            nn.Conv2d(ndf * 8, ndf * 16, 4, 2, 1, bias=False),\n",
    "            # state size. (ndf*8) x 8 x 8\n",
    "            nn.BatchNorm2d(ndf * 16),\n",
    "            nn.LeakyReLU(0.2, inplace=True),\n",
    "            # state size. (ndf*16) x 4 x 4\n",
    "            nn.Conv2d(ndf * 16, 1, 4, 1, 0, bias=False),\n",
    "            nn.Sigmoid()\n",
    "        )\n",
    "\n",
    "    def forward(self, input):\n",
    "        return self.main(input)"
   ]
  },
  {
   "cell_type": "code",
   "execution_count": 29,
   "metadata": {
    "colab": {},
    "colab_type": "code",
    "id": "BS6LAQquF3wq"
   },
   "outputs": [],
   "source": [
    "\n",
    "\n",
    "%matplotlib inline\n",
    "\n",
    "# Optimize using rendered RGB image loss, rendered silhouette image loss, mesh \n",
    "# edge loss, mesh normal consistency, and mesh laplacian smoothing\n",
    "map_losses = {\n",
    "          \"rgb\": {\"weight\": 1.0, \"values\": []},\n",
    "        #   \"silhouette\": {\"weight\": 1.0, \"values\": []},\n",
    "        #   \"edge\": {\"weight\": 1.0, \"values\": []},\n",
    "        #   \"normal\": {\"weight\": 0.01, \"values\": []},\n",
    "        #   \"laplacian\": {\"weight\": 1.0, \"values\": []},\n",
    "          # \"style\": {\"weight\": 1.0, \"values\": []},\n",
    "          # \"adversarial\": {\"weight\": 0.01, \"values\": []},\n",
    "          \"smoothness\":{\"weight\":0.1, \"values\": []},\n",
    "          \"normal_smoothness\":{\"weight\":0.1, \"values\": []}\n",
    "         }\n",
    "losses_gan = {\n",
    "          \"generator\": {\"weight\": 1.0, \"values\": []},\n",
    "          \"discriminator\":{\"weight\":1.0, \"values\": []}\n",
    "\n",
    "}\n",
    "# We will learn to deform the source mesh by offsetting its vertices\n",
    "# The shape of the deform parameters is equal to the total number of vertices in \n",
    "# src_mesh\n",
    "# src_mesh = mesh.clone()\n",
    "# verts_shape = src_mesh.verts_packed().shape\n",
    "# deform_verts = torch.full(verts_shape, 0.0, device=device, requires_grad=True)\n",
    "\n",
    "# verts = src_mesh.verts_packed().to(device)\n",
    "# .faces_packed().unsqueeze(dim=0).to(device)\n",
    "faces_uvs = silhouette_result.textures.faces_uvs_padded()\n",
    "uv_map = silhouette_result.textures.verts_uvs_padded()\n",
    "# print(uv_map.shape, src_mesh.textures.verts_uvs_padded().shape)\n",
    "# uv_map.requires_grad = True\n",
    "\n",
    "# We will also learn per vertex colors for our sphere mesh that define texture \n",
    "# of the mesh\n",
    "# sphere_verts_rgb = torch.full(mesh.textures.maps_padded().shape, 0.1, device=device, requires_grad=True)\n",
    "# sphere_verts_rgb = torch.normal(mean=torch.full(mesh.textures.maps_padded().shape, 0.5),std=0.05).to(device)\n",
    "# sphere_verts_rgb.requires_grad = True\n",
    "# print(sphere_verts_rgb)\n",
    "\n",
    "# Need to create UV map for the sphere and optimize that together with the texture\n",
    "\n",
    "# The optimizer\n",
    "# optimizer = torch.optim.Adam([sphere_verts_rgb], lr=0.001)\n",
    "# new_src_mesh = src_mesh.clone()\n",
    "# new_src_mesh.textures = TexturesUV(sphere_verts_rgb, faces_uvs=faces, verts_uvs=uv_map)\n",
    "\n"
   ]
  },
  {
   "cell_type": "code",
   "execution_count": 30,
   "metadata": {},
   "outputs": [],
   "source": [
    "def evaluate_model(eval_mesh):\n",
    "    with torch.no_grad():\n",
    "        # Define the settings for rasterization and shading. Here we set the output \n",
    "        # image to be of size 128X128. As we are rendering images for visualization \n",
    "        # purposes only we will set faces_per_pixel=1 and blur_radius=0.0. Refer to \n",
    "        # rasterize_meshes.py for explanations of these parameters.  We also leave \n",
    "        # bin_size and max_faces_per_bin to their default values of None, which sets \n",
    "        # their values using heuristics and ensures that the faster coarse-to-fine \n",
    "        # rasterization method is used.  Refer to docs/notes/renderer.md for an \n",
    "        # explanation of the difference between naive and coarse-to-fine rasterization. \n",
    "        raster_settings = RasterizationSettings(\n",
    "            image_size=imsize, \n",
    "            blur_radius=0.0, \n",
    "            faces_per_pixel=1, \n",
    "            perspective_correct=False,\n",
    "        )\n",
    "        # Create a Phong renderer by composing a rasterizer and a shader. The textured \n",
    "        # Phong shader will interpolate the texture uv coordinates for each vertex, \n",
    "        # sample from a texture image and apply the Phong lighting model\n",
    "        renderer = NormalMeshRenderer(\n",
    "            rasterizer=MeshRasterizer(\n",
    "                cameras=camera, \n",
    "                raster_settings=raster_settings\n",
    "            ),\n",
    "            shader=NormalSoftPhongShader(\n",
    "                device=device, \n",
    "                cameras=test_cameras,\n",
    "                lights=lights,\n",
    "                tangent_matrices=new_TBN_matrices,\n",
    "            )\n",
    "        )\n",
    "        test_cos_sim = torch.nn.CosineSimilarity(dim=4)\n",
    "        normals_similarity = 0\n",
    "        image_MSE = 0\n",
    "        # Calculate RGB loss for each view point in test set\n",
    "        for j in range(len(test_cameras)):\n",
    "            image_predicted, normals_predicted = renderer(eval_mesh, cameras=test_cameras[j], lights=lights,)\n",
    "\n",
    "            # Squared L2 distance between the predicted RGB image and the target \n",
    "            predicted_rgb = image_predicted[..., :3]\n",
    "            predicted_rgb.squeeze()\n",
    "            image_MSE += ((predicted_rgb - test_rgb[j].to(device)) ** 2).mean()\n",
    "            normals_similarity += test_cos_sim(test_normals[j], normals_predicted).mean()\n",
    "        mean_MSE = image_MSE / len(test_cameras)\n",
    "        normals_similarity = normals_similarity / len(test_cameras)\n",
    "        # visualize_prediction(eval_mesh, renderer=renderer, camera=test_cameras[1], silhouette=False,target_image = test_rgb[1])\n",
    "\n",
    "        return mean_MSE, normals_similarity\n",
    "    # print(mean_MSE)\n",
    "\n",
    "# print(evaluate_model())"
   ]
  },
  {
   "cell_type": "code",
   "execution_count": 31,
   "metadata": {},
   "outputs": [],
   "source": [
    "class ResConvTranspose(nn.Module):\n",
    "    layer = 0\n",
    "    def __init__(self, deconv, upsampler):\n",
    "        super().__init__()\n",
    "        self.module = deconv\n",
    "        self.upsampler = upsampler\n",
    "        self.weight = torch.nn.Parameter(deconv.weight)\n",
    "\n",
    "    def forward(self, inputs):\n",
    "        return self.module(inputs) + self.upsampler(inputs)\n",
    "\n",
    "class UnsqueezeLatent(nn.Module):\n",
    "    layer = 0\n",
    "    def __init__(self):\n",
    "        super().__init__()\n",
    "\n",
    "    def forward(self, inputs):\n",
    "        return torch.unsqueeze(torch.unsqueeze(inputs, 2), 3)"
   ]
  },
  {
   "cell_type": "code",
   "execution_count": 32,
   "metadata": {},
   "outputs": [],
   "source": [
    "import torch.utils.data\n",
    "# from torchsummary import summary\n",
    "\n",
    "def train_network(config):\n",
    "    # Number of views to optimize over in each SGD iteration\n",
    "    # print(\"Starting training\")\n",
    "    num_views_per_iteration = min(1, num_views)\n",
    "    # Number of optimization steps\n",
    "    Niter = 1000\n",
    "    # Plot period for the losses\n",
    "    plot_period = Niter // 5\n",
    "\n",
    "    loop = tqdm(range(Niter))\n",
    "    # maps = [sphere_verts_rgb.detach().cpu()]\n",
    "\n",
    "\n",
    "    # Adversarial loss from https://pytorch.org/tutorials/beginner/dcgan_faces_tutorial.html\n",
    "    nc = 3\n",
    "    # ndf = 32\n",
    "    ngf = config[\"ngf\"]\n",
    "    nz = config[\"nz\"]\n",
    "    layers = config[\"layers\"]\n",
    "    lr = config[\"lr\"]\n",
    "    beta1 = config[\"beta1\"]\n",
    "    beta2 = config[\"beta2\"]\n",
    "    l2penalty = config[\"l2\"]\n",
    "    amsgrad = config[\"amsgrad\"]\n",
    "    # print(\"Upacked parameters\")\n",
    "\n",
    "\n",
    "    def weights_init(m):\n",
    "        classname = m.__class__.__name__\n",
    "        if classname.find('Conv') != -1:\n",
    "            nn.init.normal_(m.weight.data, 0.0, 0.05)\n",
    "        elif classname.find('BatchNorm') != -1:\n",
    "            nn.init.normal_(m.weight.data, 1.0, 0.05)\n",
    "            nn.init.constant_(m.bias.data, 0)\n",
    "\n",
    "\n",
    "    # Create discriminator for adversarial loss\n",
    "    ngpu = 1\n",
    "    # workers = 2\n",
    "    # bce_loss = nn.BCELoss()\n",
    "    # netD = Discriminator(ngpu, ndf).to(device)\n",
    "    # netD.apply(weights_init)\n",
    "    # real_label = 1.\n",
    "    # fake_label = 0.\n",
    "    # optimizerD = torch.optim.SGD(netD.parameters(), lr=lr)\n",
    "\n",
    "\n",
    "    # Create the generator\n",
    "    netG = Generator(ngpu, ngf, nc, nz, \"simultaneous\", layers).to(device)\n",
    "    # summary(netG, (nz, 1, 1))\n",
    "    # Apply the weights_init function to randomly initialize all weights\n",
    "    #  to mean=0, stdev=0.02.\n",
    "    netG.apply(weights_init)\n",
    "\n",
    "    # Need to create UV map for the sphere and optimize that together with the texture\n",
    "    # The optimizer\n",
    "    # maps_src_mesh.textures = TexturesUV(sphere_verts_rgb, faces_uvs=faces_uvs, verts_uvs=uv_map)\n",
    "\n",
    "    # Need to create UV map for the sphere and optimize that together with the texture\n",
    "    scale_factor = 1\n",
    "    texture_size = list(mesh.textures.maps_padded().shape)\n",
    "    texture_size[1] //= scale_factor\n",
    "    texture_size[2] //= scale_factor\n",
    "\n",
    "    # print(\"Texture Size: {}\".format(texture_size))\n",
    "    # sphere_verts_rgb = torch.zeros(texture_size, device=device, requires_grad=True)\n",
    "    # optimizer = torch.optim.Adam([sphere_verts_rgb], lr=0.001)\n",
    "\n",
    "    # sphere_verts_rgb = src_mesh.textures.maps_padded()\n",
    "    # sphere_verts_rgb.requires_grad = True\n",
    "    # The optimizer\n",
    "    optimizerG = torch.optim.Adam(netG.parameters(), lr=lr, betas=(beta1, beta2), weight_decay=l2penalty, amsgrad=amsgrad)\n",
    "    random_vector = torch.randn(1, nz, 1, 1, device=device) * 0.5\n",
    "    # print(random_vector.shape)\n",
    "    # print(random_vector.shape)\n",
    "    # sphere_verts_rgb = netG(target_rgb[0].to(device).unsqueeze(0).permute(0,3,1,2)).permute(0,2,3,1)\n",
    "    sphere_verts_rgb, normal_map_base = netG(random_vector)\n",
    "    # print(sphere_verts_rgb.shape, normal_map_base.shape)\n",
    "    zero_dims = texture_size[:3]\n",
    "    zero_dims.append(2)\n",
    "    ones_dims = texture_size[:3]\n",
    "    ones_dims.append(1)\n",
    "    # begin with a flat normal map and just offset it using the generator by a small amount\n",
    "    normal_map_flat = torch.cat([torch.ones(zero_dims).to(device)*0.5, torch.ones(ones_dims).to(device)], dim=3)\n",
    "    # normal_map_base.requires_grad = True\n",
    "    # optimizerNorm = torch.optim.Adam([normal_map_base], lr=lr, betas=(beta1, 0.999))\n",
    "\n",
    "\n",
    "    maps_src_mesh = silhouette_result.clone()\n",
    "    maps_src_mesh.textures = TexturesUV(sphere_verts_rgb.permute(0,2,3,1), faces_uvs=faces_uvs, verts_uvs=uv_map)\n",
    "    maps_src_mesh.normalmaps = TexturesUV(normal_map_flat, faces_uvs=faces_uvs, verts_uvs=uv_map)\n",
    "    # print(maps_src_mesh.normalmaps.maps_padded().shape)\n",
    "\n",
    "    # Cosine similarity loss for normal map\n",
    "    cos_similarity = torch.nn.CosineSimilarity(dim=3)\n",
    "\n",
    "    # print(\"Initialized state\")\n",
    "\n",
    "\n",
    "    # period to evaluate mesh against test views with normal rasterization\n",
    "    eval_period = 20\n",
    "    # mse_iters = []\n",
    "    # cos_sims = []\n",
    "    for i in loop:\n",
    "        transform_range_horizontal = 5/sphere_verts_rgb.shape[2]\n",
    "        transform_range_vertical = 5/sphere_verts_rgb.shape[3]\n",
    "        transform = RandomAffine(0, translate=(transform_range_horizontal,transform_range_vertical))\n",
    "        # Initialize optimizer\n",
    "        optimizerG.zero_grad()\n",
    "        \n",
    "        # Deform the mesh\n",
    "        # maps_src_mesh = src_mesh.offset_verts(deform_verts)\n",
    "        \n",
    "        # Add per vertex colors to texture the mesh\n",
    "        # TODO create UV map for faces and vertices for the default sphere\n",
    "\n",
    "        # sphere_verts_rgb = netG(target_rgb[i % len(target_rgb)].to(device).unsqueeze(0).permute(0,3,1,2)).permute(0,2,3,1) #- for generator network\n",
    "        sphere_verts_rgb, normal_map_base = netG(random_vector)\n",
    "        maps_src_mesh.textures = TexturesUV(sphere_verts_rgb.permute(0,2,3,1), faces_uvs=faces_uvs, verts_uvs=uv_map)\n",
    "        new_normal_map = normal_map_base.permute(0,2,3,1) * 0.25 + normal_map_flat\n",
    "        # new_normal_map = normal_map_flat\n",
    "        maps_src_mesh.normalmaps = TexturesUV(new_normal_map, faces_uvs=faces_uvs, verts_uvs=uv_map)\n",
    "\n",
    "        # Losses to smooth /regularize the mesh shape\n",
    "        map_loss = {k: torch.tensor(0.0, device=device) for k in map_losses}\n",
    "        # update_mesh_shape_prior_losses(maps_src_mesh, loss)\n",
    "        # loss_gan = {k: torch.tensor(0.0, device=device) for k in losses_gan}\n",
    "\n",
    "        # Randomly select two views to optimize over in this iteration.  Compared\n",
    "        # to using just one view, this helps resolve ambiguities between updating\n",
    "        # mesh shape vs. updating mesh texture\n",
    "        rendered_rgb = []\n",
    "\n",
    "        # Getting examples from renderer as the Generator\n",
    "        random_views = np.random.permutation(len(target_cameras)).tolist()[:num_views_per_iteration]\n",
    "        for j in random_views:\n",
    "            images_predicted, _ = renderer_textured(maps_src_mesh, cameras=target_cameras[j], lights=lights)\n",
    "\n",
    "            # Squared L2 distance between the predicted silhouette and the target \n",
    "            # # silhouette from our dataset\n",
    "            # predicted_silhouette = images_predicted[..., 3]\n",
    "            # loss_silhouette = ((predicted_silhouette - target_silhouette[j]) ** 2).mean()\n",
    "            # loss[\"silhouette\"] += loss_silhouette / num_views_per_iteration\n",
    "            \n",
    "            # Squared L2 distance between the predicted RGB image and the target \n",
    "            predicted_rgb = images_predicted[..., :3]\n",
    "            rendered_rgb.append(predicted_rgb.squeeze())\n",
    "            loss_rgb = ((predicted_rgb - target_rgb[j].to(device)) ** 2).mean()\n",
    "\n",
    "            # Style loss WIP\n",
    "            # target_rgb[j].clone().detach().permute(2,0,1).unsqueeze(0)\n",
    "            # model, style_losses = get_style_model_and_losses(cnn, cnn_normalization_mean, cnn_normalization_std, target_rgb[j].clone().detach().permute(2,0,1).unsqueeze(0))\n",
    "            # model_input = sphere_verts_rgb.clone().detach().to(device).permute(0,3,1,2)\n",
    "            # model(model_input)\n",
    "            # style_score = 0\n",
    "            # for sl in style_losses:\n",
    "            #     style_score += sl.loss\n",
    "\n",
    "            # Shifted image to get the image to be smoother/gradient between pixels to be smoother\n",
    "            smoothness = ((sphere_verts_rgb - transform(sphere_verts_rgb))**2).mean()\n",
    "            normal_smoothness = cos_similarity(maps_src_mesh.normalmaps.maps_padded(), transform(maps_src_mesh.normalmaps.maps_padded().permute(0,3,1,2)).permute(0,2,3,1)).mean()\n",
    "            # print(normal_smoothness)\n",
    "\n",
    "            map_loss[\"rgb\"] += loss_rgb / num_views_per_iteration\n",
    "            map_loss[\"smoothness\"] += smoothness / num_views_per_iteration\n",
    "            map_loss[\"normal_smoothness\"] += normal_smoothness / num_views_per_iteration\n",
    "            # loss[\"style\"] += style_score / num_views_per_iteration\n",
    "\n",
    "        # ############################\n",
    "        # # (1) Update D network: maximize log(D(x)) + log(1 - D(G(z)))\n",
    "        # ###########################\n",
    "        # ## Train with all-real batch\n",
    "        # netD.zero_grad()\n",
    "        # # Format batch\n",
    "        # real_cpu = torch.stack([target_rgb[i].to(device) for i in random_views], dim=0).permute(0,3,1,2)\n",
    "        # real_cpu = real_cpu + torch.randn(real_cpu.size(), device=device)*0.1\n",
    "        # b_size = num_views_per_iteration\n",
    "        # label = torch.full((b_size,), real_label, dtype=torch.float, device=device)\n",
    "        # # Forward pass real batch through D\n",
    "        # output = netD(real_cpu).view(-1)\n",
    "        # # Calculate loss on all-real batch\n",
    "        # errD_real = bce_loss(output, label)\n",
    "        # # Calculate gradients for D in backward pass\n",
    "        # errD_real.backward()\n",
    "        # # D_x = output.mean().item()\n",
    "\n",
    "        # ## Train with all-fake batch\n",
    "        # # Generate batch of latent vectors\n",
    "        # # Generate fake image batch with G\n",
    "        # fake = torch.stack(rendered_rgb, dim=0).permute(0,3,1,2) + torch.randn(real_cpu.size(), device=device)*0.1\n",
    "        # label.fill_(fake_label)\n",
    "        # # Classify all fake batch with D\n",
    "        # output = netD(fake).view(-1)\n",
    "        # # Calculate D's loss on the all-fake batch\n",
    "        # errD_fake = bce_loss(output, label)\n",
    "        # # Calculate the gradients for this batch, accumulated (summed) with previous gradients\n",
    "        # errD_fake.backward(retain_graph=True)\n",
    "        # # D_G_z1 = output.mean().item()\n",
    "        # # Compute error of D as sum over the fake and the real batches\n",
    "        # errD = errD_real + errD_fake\n",
    "        # # Update D\n",
    "        # optimizerD.step()\n",
    "\n",
    "        # ############################\n",
    "        # # (2) Update G network: maximize log(D(G(z)))\n",
    "        # ###########################\n",
    "        # label.fill_(real_label)  # fake labels are real for generator cost\n",
    "        # # Since we just updated D, perform another forward pass of all-fake batch through D\n",
    "        # output = netD(fake).view(-1)\n",
    "        # # Calculate G's loss based on this output\n",
    "        # errG = bce_loss(output, label)\n",
    "        # # Calculate gradients for G\n",
    "        # # D_G_z2 = output.mean().item()\n",
    "        # # Update G\n",
    "\n",
    "        # loss[\"adversarial\"] = errG / num_views_per_iteration\n",
    "        # loss_gan[\"generator\"] = errG / num_views_per_iteration\n",
    "        # loss_gan[\"discriminator\"] = errD / num_views_per_iteration / 2\n",
    "\n",
    "        # Weighted sum of the losses\n",
    "        map_sum_loss = torch.tensor(0.0, device=device)\n",
    "        for k, l in map_loss.items():\n",
    "            map_sum_loss += l * map_losses[k][\"weight\"]\n",
    "            map_losses[k][\"values\"].append(float(l.detach().cpu()))\n",
    "        loop.set_description(\"total_loss = %.6f\" % map_sum_loss)\n",
    "\n",
    "\n",
    "        # for k, l in loss_gan.items():\n",
    "            # losses_gan[k][\"values\"].append(float(l.detach().cpu()))\n",
    "        # Print the losses\n",
    "        \n",
    "        # Plot mesh\n",
    "        # if i % plot_period == 0:\n",
    "        #     visualize_prediction(maps_src_mesh, renderer=renderer_textured, title=\"iter: %d\" % i, silhouette=False)\n",
    "            # maps.append(sphere_verts_rgb.detach().cpu())\n",
    "\n",
    "        # Optimization step\n",
    "        map_sum_loss.backward()\n",
    "        optimizerG.step()\n",
    "\n",
    "        \n",
    "        if i % eval_period == 0:\n",
    "            mse, cos_sim = evaluate_model(maps_src_mesh)\n",
    "            # mse_iters.append(mse)\n",
    "            # cos_sims.append(cos_sim)\n",
    "            \n",
    "        # Train Discriminator\n",
    "        # I want to make a generator that will create patches from the texture and warp them somehow to simulate them being on a surface. I'm thinking of some gradient mask too so that we don't learn from empty space. \n",
    "        # The true examples would be patches from the real image (probably also good to make it so that the object makes up at least some proportion of the patch for it to be accepted)\n",
    "\n",
    "        # Train Texture/Generator\n",
    "        # Here I want to use the discriminator to learn the texture better to try and fool it with the renderer serving as generator and the texture being the parameters we are tweaking/learning. \n",
    "    # print(\"Finished training\")\n",
    "    mse, cos_sim = evaluate_model(maps_src_mesh)\n",
    "    return cos_sim-mse\n",
    "\n"
   ]
  },
  {
   "cell_type": "code",
   "execution_count": 33,
   "metadata": {},
   "outputs": [],
   "source": [
    "def objective(trial):\n",
    "\n",
    "    params = {\n",
    "            #   'learning_rate': trial.suggest_loguniform('learning_rate', 1e-5, 1e-1),\n",
    "            #   'optimizer': trial.suggest_categorical(\"optimizer\", [\"Adam\", \"RMSprop\", \"SGD\"]),\n",
    "            #   'n_unit': trial.suggest_int(\"n_unit\", 4, 18)\n",
    "                \"ngf\": trial.suggest_categorical('ngf', [16,32,64]),\n",
    "                \"nz\": trial.suggest_int(\"n_unit\", 10, 200),\n",
    "                \"layers\": trial.suggest_int(\"layers\", 2,5),\n",
    "                \"lr\": trial.suggest_loguniform('lr', 1e-5, 1e-1),\n",
    "                \"beta1\": trial.suggest_uniform('beta1', 0.2, 0.9),\n",
    "                \"beta2\": trial.suggest_loguniform('beta2', 0.9, 0.9999),\n",
    "                \"l2\": trial.suggest_loguniform('l2', 1e-6, 1e-2),\n",
    "                \"amsgrad\": trial.suggest_categorical('amsgrad', [True,False]),\n",
    "            }\n",
    "    \n",
    "    \n",
    "    loss = train_network(params)\n",
    "\n",
    "    return loss"
   ]
  },
  {
   "cell_type": "code",
   "execution_count": 34,
   "metadata": {},
   "outputs": [],
   "source": [
    "\n",
    "# config = {\n",
    "#     \"ngf\": tune.choice([16, 32, 64]),\n",
    "\n",
    "# #     \"nz\": 100,\n",
    "# #     \"layers\": tune.choice([2,3,4,5]),\n",
    "# #     \"lr\": tune.loguniform(1e-5, 1e-1),\n",
    "# #     \"beta1\": tune.uniform(0.2, 0.9),\n",
    "# #     \"beta2\": 0.999,\n",
    "# #     \"l2\": tune.loguniform(1e-6, 1e-2),\n",
    "# #     \"amsgrad\": True,\n",
    "#     \"nz\": 100,\n",
    "#     \"layers\": 5,\n",
    "#     \"lr\": 0.001,\n",
    "#     \"beta1\": 0.5,\n",
    "#     \"beta2\": 0.999,\n",
    "#     \"l2\": 0,\n",
    "#     \"amsgrad\": False,\n",
    "# }\n",
    "# scheduler = ASHAScheduler(\n",
    "#         metric=\"loss\",\n",
    "#         mode=\"min\",\n",
    "#         time_attr=\"training_iteration\",\n",
    "#         max_t=1000,\n",
    "#         grace_period=1,\n",
    "#         reduction_factor=2\n",
    "#         )\n",
    "\n",
    "# reporter = JupyterNotebookReporter(True,\n",
    "#         metric_columns=[\"loss\", \"training_iteration\"]\n",
    "#         )\n"
   ]
  },
  {
   "cell_type": "code",
   "execution_count": 35,
   "metadata": {},
   "outputs": [],
   "source": [
    "# custom_config = {\n",
    "#     \"ngf\": 64,\n",
    "#     \"nz\": 100,\n",
    "#     \"layers\": 5,\n",
    "#     \"lr\": 0.001,\n",
    "#     \"beta1\": 0.5,\n",
    "#     \"beta2\": 0.999,\n",
    "#     \"l2\": 0,\n",
    "#     \"amsgrad\": True,\n",
    "# }\n",
    "# train_network(custom_config)\n"
   ]
  },
  {
   "cell_type": "code",
   "execution_count": 36,
   "metadata": {},
   "outputs": [
    {
     "name": "stderr",
     "output_type": "stream",
     "text": [
      "\u001b[32m[I 2022-03-20 22:04:00,850]\u001b[0m A new study created in memory with name: no-name-28f702b1-68d5-49d5-8c01-491343f65a21\u001b[0m\n"
     ]
    },
    {
     "data": {
      "application/vnd.jupyter.widget-view+json": {
       "model_id": "8326151238324dafbe5fe866fac159e2",
       "version_major": 2,
       "version_minor": 0
      },
      "text/plain": [
       "  0%|          | 0/1000 [00:00<?, ?it/s]"
      ]
     },
     "metadata": {},
     "output_type": "display_data"
    },
    {
     "name": "stderr",
     "output_type": "stream",
     "text": [
      "/home/theycallmepeter/anaconda3/envs/pytorch3d/lib/python3.8/site-packages/torch/nn/functional.py:3451: UserWarning: Default upsampling behavior when mode=bilinear is changed to align_corners=False since 0.4.0. Please specify align_corners=True if the old behavior is desired. See the documentation of nn.Upsample for details.\n",
      "  warnings.warn(\n",
      "/mnt/c/Projects/deepstimate/pytorch3d/pytorch3d/transforms/transform3d.py:782: UserWarning: R is not a valid rotation matrix\n",
      "  warnings.warn(msg)\n",
      "\u001b[32m[I 2022-03-20 22:05:19,480]\u001b[0m Trial 0 finished with value: 0.9855668544769287 and parameters: {'ngf': 64, 'n_unit': 184, 'layers': 5, 'lr': 2.68816718383311e-05, 'beta1': 0.6320131657804157, 'beta2': 0.9296548400786278, 'l2': 2.541196320343019e-06, 'amsgrad': True}. Best is trial 0 with value: 0.9855668544769287.\u001b[0m\n"
     ]
    },
    {
     "data": {
      "application/vnd.jupyter.widget-view+json": {
       "model_id": "7912957b491c431d917ca5f82d7c6aee",
       "version_major": 2,
       "version_minor": 0
      },
      "text/plain": [
       "  0%|          | 0/1000 [00:00<?, ?it/s]"
      ]
     },
     "metadata": {},
     "output_type": "display_data"
    },
    {
     "name": "stderr",
     "output_type": "stream",
     "text": [
      "/home/theycallmepeter/anaconda3/envs/pytorch3d/lib/python3.8/site-packages/torch/nn/functional.py:3451: UserWarning: Default upsampling behavior when mode=bilinear is changed to align_corners=False since 0.4.0. Please specify align_corners=True if the old behavior is desired. See the documentation of nn.Upsample for details.\n",
      "  warnings.warn(\n",
      "/mnt/c/Projects/deepstimate/pytorch3d/pytorch3d/transforms/transform3d.py:782: UserWarning: R is not a valid rotation matrix\n",
      "  warnings.warn(msg)\n",
      "\u001b[32m[I 2022-03-20 22:06:40,725]\u001b[0m Trial 1 finished with value: 0.9915066957473755 and parameters: {'ngf': 16, 'n_unit': 17, 'layers': 2, 'lr': 0.0016233009622395116, 'beta1': 0.26400687771012554, 'beta2': 0.9947403408174045, 'l2': 8.799038186869053e-06, 'amsgrad': True}. Best is trial 1 with value: 0.9915066957473755.\u001b[0m\n"
     ]
    },
    {
     "data": {
      "application/vnd.jupyter.widget-view+json": {
       "model_id": "5c650f5146e84609a3b0e59b3b147a44",
       "version_major": 2,
       "version_minor": 0
      },
      "text/plain": [
       "  0%|          | 0/1000 [00:00<?, ?it/s]"
      ]
     },
     "metadata": {},
     "output_type": "display_data"
    },
    {
     "name": "stderr",
     "output_type": "stream",
     "text": [
      "/home/theycallmepeter/anaconda3/envs/pytorch3d/lib/python3.8/site-packages/torch/nn/functional.py:3451: UserWarning: Default upsampling behavior when mode=bilinear is changed to align_corners=False since 0.4.0. Please specify align_corners=True if the old behavior is desired. See the documentation of nn.Upsample for details.\n",
      "  warnings.warn(\n",
      "/mnt/c/Projects/deepstimate/pytorch3d/pytorch3d/transforms/transform3d.py:782: UserWarning: R is not a valid rotation matrix\n",
      "  warnings.warn(msg)\n",
      "\u001b[32m[I 2022-03-20 22:07:53,848]\u001b[0m Trial 2 finished with value: 0.9511135816574097 and parameters: {'ngf': 16, 'n_unit': 143, 'layers': 5, 'lr': 0.00807402589477942, 'beta1': 0.4167004908345767, 'beta2': 0.9103310376023438, 'l2': 1.209045523266308e-06, 'amsgrad': True}. Best is trial 1 with value: 0.9915066957473755.\u001b[0m\n"
     ]
    },
    {
     "data": {
      "application/vnd.jupyter.widget-view+json": {
       "model_id": "ffd66bf173fc4ebda7c6666813622878",
       "version_major": 2,
       "version_minor": 0
      },
      "text/plain": [
       "  0%|          | 0/1000 [00:00<?, ?it/s]"
      ]
     },
     "metadata": {},
     "output_type": "display_data"
    },
    {
     "name": "stderr",
     "output_type": "stream",
     "text": [
      "/home/theycallmepeter/anaconda3/envs/pytorch3d/lib/python3.8/site-packages/torch/nn/functional.py:3451: UserWarning: Default upsampling behavior when mode=bilinear is changed to align_corners=False since 0.4.0. Please specify align_corners=True if the old behavior is desired. See the documentation of nn.Upsample for details.\n",
      "  warnings.warn(\n",
      "/mnt/c/Projects/deepstimate/pytorch3d/pytorch3d/transforms/transform3d.py:782: UserWarning: R is not a valid rotation matrix\n",
      "  warnings.warn(msg)\n",
      "\u001b[32m[I 2022-03-20 22:09:09,379]\u001b[0m Trial 3 finished with value: 0.9910978674888611 and parameters: {'ngf': 16, 'n_unit': 61, 'layers': 3, 'lr': 0.0011161203550754486, 'beta1': 0.859160100162029, 'beta2': 0.9060086114815573, 'l2': 9.231020507901443e-05, 'amsgrad': False}. Best is trial 1 with value: 0.9915066957473755.\u001b[0m\n"
     ]
    },
    {
     "data": {
      "application/vnd.jupyter.widget-view+json": {
       "model_id": "c2db13e8c1a543848e7a2c405e2a98bc",
       "version_major": 2,
       "version_minor": 0
      },
      "text/plain": [
       "  0%|          | 0/1000 [00:00<?, ?it/s]"
      ]
     },
     "metadata": {},
     "output_type": "display_data"
    },
    {
     "name": "stderr",
     "output_type": "stream",
     "text": [
      "/home/theycallmepeter/anaconda3/envs/pytorch3d/lib/python3.8/site-packages/torch/nn/functional.py:3451: UserWarning: Default upsampling behavior when mode=bilinear is changed to align_corners=False since 0.4.0. Please specify align_corners=True if the old behavior is desired. See the documentation of nn.Upsample for details.\n",
      "  warnings.warn(\n",
      "/mnt/c/Projects/deepstimate/pytorch3d/pytorch3d/transforms/transform3d.py:782: UserWarning: R is not a valid rotation matrix\n",
      "  warnings.warn(msg)\n",
      "\u001b[32m[I 2022-03-20 22:10:25,026]\u001b[0m Trial 4 finished with value: 0.9907070398330688 and parameters: {'ngf': 16, 'n_unit': 136, 'layers': 3, 'lr': 0.0001434961975062988, 'beta1': 0.6875336850151672, 'beta2': 0.9410649564457386, 'l2': 4.957347473157975e-06, 'amsgrad': True}. Best is trial 1 with value: 0.9915066957473755.\u001b[0m\n"
     ]
    },
    {
     "data": {
      "application/vnd.jupyter.widget-view+json": {
       "model_id": "ea090b3a094d4a7aab07889530939e12",
       "version_major": 2,
       "version_minor": 0
      },
      "text/plain": [
       "  0%|          | 0/1000 [00:00<?, ?it/s]"
      ]
     },
     "metadata": {},
     "output_type": "display_data"
    },
    {
     "name": "stderr",
     "output_type": "stream",
     "text": [
      "/home/theycallmepeter/anaconda3/envs/pytorch3d/lib/python3.8/site-packages/torch/nn/functional.py:3451: UserWarning: Default upsampling behavior when mode=bilinear is changed to align_corners=False since 0.4.0. Please specify align_corners=True if the old behavior is desired. See the documentation of nn.Upsample for details.\n",
      "  warnings.warn(\n",
      "/mnt/c/Projects/deepstimate/pytorch3d/pytorch3d/transforms/transform3d.py:782: UserWarning: R is not a valid rotation matrix\n",
      "  warnings.warn(msg)\n",
      "\u001b[32m[I 2022-03-20 22:11:40,645]\u001b[0m Trial 5 finished with value: 0.9524132609367371 and parameters: {'ngf': 16, 'n_unit': 86, 'layers': 3, 'lr': 0.009121657546799219, 'beta1': 0.7730009839821634, 'beta2': 0.9366624080575281, 'l2': 3.0928789706388503e-06, 'amsgrad': False}. Best is trial 1 with value: 0.9915066957473755.\u001b[0m\n"
     ]
    },
    {
     "data": {
      "application/vnd.jupyter.widget-view+json": {
       "model_id": "f313a71b6df0424390fed2436a566cf7",
       "version_major": 2,
       "version_minor": 0
      },
      "text/plain": [
       "  0%|          | 0/1000 [00:00<?, ?it/s]"
      ]
     },
     "metadata": {},
     "output_type": "display_data"
    },
    {
     "name": "stderr",
     "output_type": "stream",
     "text": [
      "/home/theycallmepeter/anaconda3/envs/pytorch3d/lib/python3.8/site-packages/torch/nn/functional.py:3451: UserWarning: Default upsampling behavior when mode=bilinear is changed to align_corners=False since 0.4.0. Please specify align_corners=True if the old behavior is desired. See the documentation of nn.Upsample for details.\n",
      "  warnings.warn(\n",
      "/mnt/c/Projects/deepstimate/pytorch3d/pytorch3d/transforms/transform3d.py:782: UserWarning: R is not a valid rotation matrix\n",
      "  warnings.warn(msg)\n",
      "\u001b[32m[I 2022-03-20 22:13:00,129]\u001b[0m Trial 6 finished with value: 0.9866743683815002 and parameters: {'ngf': 64, 'n_unit': 25, 'layers': 3, 'lr': 2.3797774484312805e-05, 'beta1': 0.25586274059904424, 'beta2': 0.9775757994470309, 'l2': 1.085453230675709e-06, 'amsgrad': False}. Best is trial 1 with value: 0.9915066957473755.\u001b[0m\n"
     ]
    },
    {
     "data": {
      "application/vnd.jupyter.widget-view+json": {
       "model_id": "000bdb91808c4a309379448aeb1561a9",
       "version_major": 2,
       "version_minor": 0
      },
      "text/plain": [
       "  0%|          | 0/1000 [00:00<?, ?it/s]"
      ]
     },
     "metadata": {},
     "output_type": "display_data"
    },
    {
     "name": "stderr",
     "output_type": "stream",
     "text": [
      "/home/theycallmepeter/anaconda3/envs/pytorch3d/lib/python3.8/site-packages/torch/nn/functional.py:3451: UserWarning: Default upsampling behavior when mode=bilinear is changed to align_corners=False since 0.4.0. Please specify align_corners=True if the old behavior is desired. See the documentation of nn.Upsample for details.\n",
      "  warnings.warn(\n",
      "/mnt/c/Projects/deepstimate/pytorch3d/pytorch3d/transforms/transform3d.py:782: UserWarning: R is not a valid rotation matrix\n",
      "  warnings.warn(msg)\n",
      "\u001b[32m[I 2022-03-20 22:14:17,494]\u001b[0m Trial 7 finished with value: 0.9899948835372925 and parameters: {'ngf': 64, 'n_unit': 83, 'layers': 3, 'lr': 2.754265287105286e-05, 'beta1': 0.29620897697389703, 'beta2': 0.940204094019651, 'l2': 1.8256253018964307e-05, 'amsgrad': False}. Best is trial 1 with value: 0.9915066957473755.\u001b[0m\n"
     ]
    },
    {
     "data": {
      "application/vnd.jupyter.widget-view+json": {
       "model_id": "bca456fcb2c6446e9aeb41761eb7bcaa",
       "version_major": 2,
       "version_minor": 0
      },
      "text/plain": [
       "  0%|          | 0/1000 [00:00<?, ?it/s]"
      ]
     },
     "metadata": {},
     "output_type": "display_data"
    },
    {
     "name": "stderr",
     "output_type": "stream",
     "text": [
      "/home/theycallmepeter/anaconda3/envs/pytorch3d/lib/python3.8/site-packages/torch/nn/functional.py:3451: UserWarning: Default upsampling behavior when mode=bilinear is changed to align_corners=False since 0.4.0. Please specify align_corners=True if the old behavior is desired. See the documentation of nn.Upsample for details.\n",
      "  warnings.warn(\n",
      "/mnt/c/Projects/deepstimate/pytorch3d/pytorch3d/transforms/transform3d.py:782: UserWarning: R is not a valid rotation matrix\n",
      "  warnings.warn(msg)\n",
      "\u001b[32m[I 2022-03-20 22:15:37,811]\u001b[0m Trial 8 finished with value: 0.9842966794967651 and parameters: {'ngf': 64, 'n_unit': 182, 'layers': 5, 'lr': 0.0021756161662021766, 'beta1': 0.6896621774572761, 'beta2': 0.967669992288397, 'l2': 0.00013924770669561512, 'amsgrad': True}. Best is trial 1 with value: 0.9915066957473755.\u001b[0m\n"
     ]
    },
    {
     "data": {
      "application/vnd.jupyter.widget-view+json": {
       "model_id": "d626925a53f949f595db7e647baefd09",
       "version_major": 2,
       "version_minor": 0
      },
      "text/plain": [
       "  0%|          | 0/1000 [00:00<?, ?it/s]"
      ]
     },
     "metadata": {},
     "output_type": "display_data"
    },
    {
     "name": "stderr",
     "output_type": "stream",
     "text": [
      "/home/theycallmepeter/anaconda3/envs/pytorch3d/lib/python3.8/site-packages/torch/nn/functional.py:3451: UserWarning: Default upsampling behavior when mode=bilinear is changed to align_corners=False since 0.4.0. Please specify align_corners=True if the old behavior is desired. See the documentation of nn.Upsample for details.\n",
      "  warnings.warn(\n",
      "/mnt/c/Projects/deepstimate/pytorch3d/pytorch3d/transforms/transform3d.py:782: UserWarning: R is not a valid rotation matrix\n",
      "  warnings.warn(msg)\n",
      "\u001b[32m[I 2022-03-20 22:16:51,188]\u001b[0m Trial 9 finished with value: 0.9927230477333069 and parameters: {'ngf': 32, 'n_unit': 28, 'layers': 4, 'lr': 0.005015985268207288, 'beta1': 0.5998293461841486, 'beta2': 0.9531493327547309, 'l2': 0.004636906031943599, 'amsgrad': False}. Best is trial 9 with value: 0.9927230477333069.\u001b[0m\n"
     ]
    },
    {
     "data": {
      "application/vnd.jupyter.widget-view+json": {
       "model_id": "ccd472b0412642a3a094ac56e4c5a2e4",
       "version_major": 2,
       "version_minor": 0
      },
      "text/plain": [
       "  0%|          | 0/1000 [00:00<?, ?it/s]"
      ]
     },
     "metadata": {},
     "output_type": "display_data"
    },
    {
     "name": "stderr",
     "output_type": "stream",
     "text": [
      "/home/theycallmepeter/anaconda3/envs/pytorch3d/lib/python3.8/site-packages/torch/nn/functional.py:3451: UserWarning: Default upsampling behavior when mode=bilinear is changed to align_corners=False since 0.4.0. Please specify align_corners=True if the old behavior is desired. See the documentation of nn.Upsample for details.\n",
      "  warnings.warn(\n",
      "/mnt/c/Projects/deepstimate/pytorch3d/pytorch3d/transforms/transform3d.py:782: UserWarning: R is not a valid rotation matrix\n",
      "  warnings.warn(msg)\n",
      "\u001b[32m[I 2022-03-20 22:18:05,712]\u001b[0m Trial 10 finished with value: 0.9911777377128601 and parameters: {'ngf': 32, 'n_unit': 52, 'layers': 4, 'lr': 0.09920032007998972, 'beta1': 0.5072633695379738, 'beta2': 0.9627351050525081, 'l2': 0.008216915737897975, 'amsgrad': False}. Best is trial 9 with value: 0.9927230477333069.\u001b[0m\n"
     ]
    },
    {
     "data": {
      "application/vnd.jupyter.widget-view+json": {
       "model_id": "42a5bc52f983464f8be5d42c8b1ab2c8",
       "version_major": 2,
       "version_minor": 0
      },
      "text/plain": [
       "  0%|          | 0/1000 [00:00<?, ?it/s]"
      ]
     },
     "metadata": {},
     "output_type": "display_data"
    },
    {
     "name": "stderr",
     "output_type": "stream",
     "text": [
      "/home/theycallmepeter/anaconda3/envs/pytorch3d/lib/python3.8/site-packages/torch/nn/functional.py:3451: UserWarning: Default upsampling behavior when mode=bilinear is changed to align_corners=False since 0.4.0. Please specify align_corners=True if the old behavior is desired. See the documentation of nn.Upsample for details.\n",
      "  warnings.warn(\n",
      "/mnt/c/Projects/deepstimate/pytorch3d/pytorch3d/transforms/transform3d.py:782: UserWarning: R is not a valid rotation matrix\n",
      "  warnings.warn(msg)\n",
      "\u001b[32m[I 2022-03-20 22:19:27,497]\u001b[0m Trial 11 finished with value: 0.9918420314788818 and parameters: {'ngf': 32, 'n_unit': 16, 'layers': 2, 'lr': 0.0003148785759930984, 'beta1': 0.46145354558573376, 'beta2': 0.9928205040231638, 'l2': 0.005822605890701526, 'amsgrad': True}. Best is trial 9 with value: 0.9927230477333069.\u001b[0m\n"
     ]
    },
    {
     "data": {
      "application/vnd.jupyter.widget-view+json": {
       "model_id": "b9e325eaa00c4a9facff5adbbc34583e",
       "version_major": 2,
       "version_minor": 0
      },
      "text/plain": [
       "  0%|          | 0/1000 [00:00<?, ?it/s]"
      ]
     },
     "metadata": {},
     "output_type": "display_data"
    },
    {
     "name": "stderr",
     "output_type": "stream",
     "text": [
      "/home/theycallmepeter/anaconda3/envs/pytorch3d/lib/python3.8/site-packages/torch/nn/functional.py:3451: UserWarning: Default upsampling behavior when mode=bilinear is changed to align_corners=False since 0.4.0. Please specify align_corners=True if the old behavior is desired. See the documentation of nn.Upsample for details.\n",
      "  warnings.warn(\n",
      "/mnt/c/Projects/deepstimate/pytorch3d/pytorch3d/transforms/transform3d.py:782: UserWarning: R is not a valid rotation matrix\n",
      "  warnings.warn(msg)\n",
      "\u001b[32m[I 2022-03-20 22:20:49,189]\u001b[0m Trial 12 finished with value: 0.9916897416114807 and parameters: {'ngf': 32, 'n_unit': 11, 'layers': 2, 'lr': 0.00016458580037528373, 'beta1': 0.4875944040308696, 'beta2': 0.9908432712689528, 'l2': 0.008492919921743402, 'amsgrad': True}. Best is trial 9 with value: 0.9927230477333069.\u001b[0m\n"
     ]
    },
    {
     "data": {
      "application/vnd.jupyter.widget-view+json": {
       "model_id": "f9e8d29dcb9342b785914c209cf1dad4",
       "version_major": 2,
       "version_minor": 0
      },
      "text/plain": [
       "  0%|          | 0/1000 [00:00<?, ?it/s]"
      ]
     },
     "metadata": {},
     "output_type": "display_data"
    },
    {
     "name": "stderr",
     "output_type": "stream",
     "text": [
      "/home/theycallmepeter/anaconda3/envs/pytorch3d/lib/python3.8/site-packages/torch/nn/functional.py:3451: UserWarning: Default upsampling behavior when mode=bilinear is changed to align_corners=False since 0.4.0. Please specify align_corners=True if the old behavior is desired. See the documentation of nn.Upsample for details.\n",
      "  warnings.warn(\n",
      "/mnt/c/Projects/deepstimate/pytorch3d/pytorch3d/transforms/transform3d.py:782: UserWarning: R is not a valid rotation matrix\n",
      "  warnings.warn(msg)\n",
      "\u001b[32m[I 2022-03-20 22:22:02,303]\u001b[0m Trial 13 finished with value: 0.9919791221618652 and parameters: {'ngf': 32, 'n_unit': 42, 'layers': 4, 'lr': 0.00024024260984412978, 'beta1': 0.40172585742669137, 'beta2': 0.9575574650282769, 'l2': 0.001274531071775394, 'amsgrad': False}. Best is trial 9 with value: 0.9927230477333069.\u001b[0m\n"
     ]
    },
    {
     "data": {
      "application/vnd.jupyter.widget-view+json": {
       "model_id": "d3a3a05cdfcc4ab383eeeea0dcc2ae76",
       "version_major": 2,
       "version_minor": 0
      },
      "text/plain": [
       "  0%|          | 0/1000 [00:00<?, ?it/s]"
      ]
     },
     "metadata": {},
     "output_type": "display_data"
    },
    {
     "name": "stderr",
     "output_type": "stream",
     "text": [
      "/home/theycallmepeter/anaconda3/envs/pytorch3d/lib/python3.8/site-packages/torch/nn/functional.py:3451: UserWarning: Default upsampling behavior when mode=bilinear is changed to align_corners=False since 0.4.0. Please specify align_corners=True if the old behavior is desired. See the documentation of nn.Upsample for details.\n",
      "  warnings.warn(\n",
      "/mnt/c/Projects/deepstimate/pytorch3d/pytorch3d/transforms/transform3d.py:782: UserWarning: R is not a valid rotation matrix\n",
      "  warnings.warn(msg)\n",
      "\u001b[32m[I 2022-03-20 22:23:15,476]\u001b[0m Trial 14 finished with value: 0.9928874969482422 and parameters: {'ngf': 32, 'n_unit': 50, 'layers': 4, 'lr': 0.008214881298046909, 'beta1': 0.37654252290386503, 'beta2': 0.9555330946680443, 'l2': 0.0012475803205169334, 'amsgrad': False}. Best is trial 14 with value: 0.9928874969482422.\u001b[0m\n"
     ]
    },
    {
     "data": {
      "application/vnd.jupyter.widget-view+json": {
       "model_id": "0f86f60044ed4b7991ac8b26025cd60a",
       "version_major": 2,
       "version_minor": 0
      },
      "text/plain": [
       "  0%|          | 0/1000 [00:00<?, ?it/s]"
      ]
     },
     "metadata": {},
     "output_type": "display_data"
    },
    {
     "name": "stderr",
     "output_type": "stream",
     "text": [
      "/home/theycallmepeter/anaconda3/envs/pytorch3d/lib/python3.8/site-packages/torch/nn/functional.py:3451: UserWarning: Default upsampling behavior when mode=bilinear is changed to align_corners=False since 0.4.0. Please specify align_corners=True if the old behavior is desired. See the documentation of nn.Upsample for details.\n",
      "  warnings.warn(\n",
      "/mnt/c/Projects/deepstimate/pytorch3d/pytorch3d/transforms/transform3d.py:782: UserWarning: R is not a valid rotation matrix\n",
      "  warnings.warn(msg)\n",
      "\u001b[32m[I 2022-03-20 22:24:28,685]\u001b[0m Trial 15 finished with value: 0.992802083492279 and parameters: {'ngf': 32, 'n_unit': 67, 'layers': 4, 'lr': 0.03255491734622631, 'beta1': 0.35268371567384077, 'beta2': 0.9221361178957324, 'l2': 0.0011092088912948352, 'amsgrad': False}. Best is trial 14 with value: 0.9928874969482422.\u001b[0m\n"
     ]
    },
    {
     "data": {
      "application/vnd.jupyter.widget-view+json": {
       "model_id": "20ff8524a04340579c01a777349e0dd4",
       "version_major": 2,
       "version_minor": 0
      },
      "text/plain": [
       "  0%|          | 0/1000 [00:00<?, ?it/s]"
      ]
     },
     "metadata": {},
     "output_type": "display_data"
    },
    {
     "name": "stderr",
     "output_type": "stream",
     "text": [
      "/home/theycallmepeter/anaconda3/envs/pytorch3d/lib/python3.8/site-packages/torch/nn/functional.py:3451: UserWarning: Default upsampling behavior when mode=bilinear is changed to align_corners=False since 0.4.0. Please specify align_corners=True if the old behavior is desired. See the documentation of nn.Upsample for details.\n",
      "  warnings.warn(\n",
      "/mnt/c/Projects/deepstimate/pytorch3d/pytorch3d/transforms/transform3d.py:782: UserWarning: R is not a valid rotation matrix\n",
      "  warnings.warn(msg)\n",
      "\u001b[32m[I 2022-03-20 22:25:42,640]\u001b[0m Trial 16 finished with value: 0.9927480816841125 and parameters: {'ngf': 32, 'n_unit': 110, 'layers': 4, 'lr': 0.03139123020177886, 'beta1': 0.369187569443692, 'beta2': 0.9215940305240718, 'l2': 0.0007188623646868166, 'amsgrad': False}. Best is trial 14 with value: 0.9928874969482422.\u001b[0m\n"
     ]
    },
    {
     "data": {
      "application/vnd.jupyter.widget-view+json": {
       "model_id": "73ba8daabd514a58800b458fd1a38cfb",
       "version_major": 2,
       "version_minor": 0
      },
      "text/plain": [
       "  0%|          | 0/1000 [00:00<?, ?it/s]"
      ]
     },
     "metadata": {},
     "output_type": "display_data"
    },
    {
     "name": "stderr",
     "output_type": "stream",
     "text": [
      "/home/theycallmepeter/anaconda3/envs/pytorch3d/lib/python3.8/site-packages/torch/nn/functional.py:3451: UserWarning: Default upsampling behavior when mode=bilinear is changed to align_corners=False since 0.4.0. Please specify align_corners=True if the old behavior is desired. See the documentation of nn.Upsample for details.\n",
      "  warnings.warn(\n",
      "/mnt/c/Projects/deepstimate/pytorch3d/pytorch3d/transforms/transform3d.py:782: UserWarning: R is not a valid rotation matrix\n",
      "  warnings.warn(msg)\n",
      "\u001b[32m[I 2022-03-20 22:26:58,301]\u001b[0m Trial 17 finished with value: 0.992544412612915 and parameters: {'ngf': 32, 'n_unit': 70, 'layers': 4, 'lr': 0.031727699828041946, 'beta1': 0.3479689360171604, 'beta2': 0.9182051860945184, 'l2': 0.0008801261780833345, 'amsgrad': False}. Best is trial 14 with value: 0.9928874969482422.\u001b[0m\n"
     ]
    },
    {
     "data": {
      "application/vnd.jupyter.widget-view+json": {
       "model_id": "80ffd8ffeea9438c994376a33d9f2022",
       "version_major": 2,
       "version_minor": 0
      },
      "text/plain": [
       "  0%|          | 0/1000 [00:00<?, ?it/s]"
      ]
     },
     "metadata": {},
     "output_type": "display_data"
    },
    {
     "name": "stderr",
     "output_type": "stream",
     "text": [
      "/home/theycallmepeter/anaconda3/envs/pytorch3d/lib/python3.8/site-packages/torch/nn/functional.py:3451: UserWarning: Default upsampling behavior when mode=bilinear is changed to align_corners=False since 0.4.0. Please specify align_corners=True if the old behavior is desired. See the documentation of nn.Upsample for details.\n",
      "  warnings.warn(\n",
      "/mnt/c/Projects/deepstimate/pytorch3d/pytorch3d/transforms/transform3d.py:782: UserWarning: R is not a valid rotation matrix\n",
      "  warnings.warn(msg)\n",
      "\u001b[32m[I 2022-03-20 22:28:15,713]\u001b[0m Trial 18 finished with value: 0.9919487237930298 and parameters: {'ngf': 32, 'n_unit': 110, 'layers': 5, 'lr': 0.02608322371434787, 'beta1': 0.20214887942604837, 'beta2': 0.9003651945194608, 'l2': 0.00020897468730869502, 'amsgrad': False}. Best is trial 14 with value: 0.9928874969482422.\u001b[0m\n"
     ]
    },
    {
     "data": {
      "application/vnd.jupyter.widget-view+json": {
       "model_id": "3ccc509bb9ae4ebba42fac81e8ae1bcf",
       "version_major": 2,
       "version_minor": 0
      },
      "text/plain": [
       "  0%|          | 0/1000 [00:00<?, ?it/s]"
      ]
     },
     "metadata": {},
     "output_type": "display_data"
    },
    {
     "name": "stderr",
     "output_type": "stream",
     "text": [
      "/home/theycallmepeter/anaconda3/envs/pytorch3d/lib/python3.8/site-packages/torch/nn/functional.py:3451: UserWarning: Default upsampling behavior when mode=bilinear is changed to align_corners=False since 0.4.0. Please specify align_corners=True if the old behavior is desired. See the documentation of nn.Upsample for details.\n",
      "  warnings.warn(\n",
      "/mnt/c/Projects/deepstimate/pytorch3d/pytorch3d/transforms/transform3d.py:782: UserWarning: R is not a valid rotation matrix\n",
      "  warnings.warn(msg)\n",
      "\u001b[32m[I 2022-03-20 22:29:30,696]\u001b[0m Trial 19 finished with value: 0.9930534362792969 and parameters: {'ngf': 32, 'n_unit': 88, 'layers': 4, 'lr': 0.0169001583692527, 'beta1': 0.5628282137536813, 'beta2': 0.9720852977199756, 'l2': 0.00208581866722663, 'amsgrad': False}. Best is trial 19 with value: 0.9930534362792969.\u001b[0m\n"
     ]
    },
    {
     "data": {
      "application/vnd.jupyter.widget-view+json": {
       "model_id": "835a8436d7ce44eea934d29fbc64df1b",
       "version_major": 2,
       "version_minor": 0
      },
      "text/plain": [
       "  0%|          | 0/1000 [00:00<?, ?it/s]"
      ]
     },
     "metadata": {},
     "output_type": "display_data"
    },
    {
     "name": "stderr",
     "output_type": "stream",
     "text": [
      "/home/theycallmepeter/anaconda3/envs/pytorch3d/lib/python3.8/site-packages/torch/nn/functional.py:3451: UserWarning: Default upsampling behavior when mode=bilinear is changed to align_corners=False since 0.4.0. Please specify align_corners=True if the old behavior is desired. See the documentation of nn.Upsample for details.\n",
      "  warnings.warn(\n",
      "/mnt/c/Projects/deepstimate/pytorch3d/pytorch3d/transforms/transform3d.py:782: UserWarning: R is not a valid rotation matrix\n",
      "  warnings.warn(msg)\n",
      "\u001b[32m[I 2022-03-20 22:30:47,631]\u001b[0m Trial 20 finished with value: 0.991991400718689 and parameters: {'ngf': 32, 'n_unit': 133, 'layers': 5, 'lr': 0.08704307954025761, 'beta1': 0.5764906106392294, 'beta2': 0.9770291822159743, 'l2': 0.00041195148835606677, 'amsgrad': False}. Best is trial 19 with value: 0.9930534362792969.\u001b[0m\n"
     ]
    },
    {
     "data": {
      "application/vnd.jupyter.widget-view+json": {
       "model_id": "16b49fb434e64b82aa4e6d95f7047658",
       "version_major": 2,
       "version_minor": 0
      },
      "text/plain": [
       "  0%|          | 0/1000 [00:00<?, ?it/s]"
      ]
     },
     "metadata": {},
     "output_type": "display_data"
    },
    {
     "name": "stderr",
     "output_type": "stream",
     "text": [
      "/home/theycallmepeter/anaconda3/envs/pytorch3d/lib/python3.8/site-packages/torch/nn/functional.py:3451: UserWarning: Default upsampling behavior when mode=bilinear is changed to align_corners=False since 0.4.0. Please specify align_corners=True if the old behavior is desired. See the documentation of nn.Upsample for details.\n",
      "  warnings.warn(\n",
      "/mnt/c/Projects/deepstimate/pytorch3d/pytorch3d/transforms/transform3d.py:782: UserWarning: R is not a valid rotation matrix\n",
      "  warnings.warn(msg)\n",
      "\u001b[32m[I 2022-03-20 22:32:03,828]\u001b[0m Trial 21 finished with value: 0.9931003451347351 and parameters: {'ngf': 32, 'n_unit': 88, 'layers': 4, 'lr': 0.01534691667581715, 'beta1': 0.5285980463035433, 'beta2': 0.9733629687929384, 'l2': 0.0022789648182558043, 'amsgrad': False}. Best is trial 21 with value: 0.9931003451347351.\u001b[0m\n"
     ]
    },
    {
     "data": {
      "application/vnd.jupyter.widget-view+json": {
       "model_id": "e66114c7e1d546bc87d6d84c4d5bca8d",
       "version_major": 2,
       "version_minor": 0
      },
      "text/plain": [
       "  0%|          | 0/1000 [00:00<?, ?it/s]"
      ]
     },
     "metadata": {},
     "output_type": "display_data"
    },
    {
     "name": "stderr",
     "output_type": "stream",
     "text": [
      "/home/theycallmepeter/anaconda3/envs/pytorch3d/lib/python3.8/site-packages/torch/nn/functional.py:3451: UserWarning: Default upsampling behavior when mode=bilinear is changed to align_corners=False since 0.4.0. Please specify align_corners=True if the old behavior is desired. See the documentation of nn.Upsample for details.\n",
      "  warnings.warn(\n",
      "/mnt/c/Projects/deepstimate/pytorch3d/pytorch3d/transforms/transform3d.py:782: UserWarning: R is not a valid rotation matrix\n",
      "  warnings.warn(msg)\n",
      "\u001b[32m[I 2022-03-20 22:33:19,004]\u001b[0m Trial 22 finished with value: 0.9930599331855774 and parameters: {'ngf': 32, 'n_unit': 93, 'layers': 4, 'lr': 0.00410868115278416, 'beta1': 0.5388698601976885, 'beta2': 0.9772882386012776, 'l2': 0.002495517299711254, 'amsgrad': False}. Best is trial 21 with value: 0.9931003451347351.\u001b[0m\n"
     ]
    },
    {
     "data": {
      "application/vnd.jupyter.widget-view+json": {
       "model_id": "9c07058611134d86b16eecbfe66ec86f",
       "version_major": 2,
       "version_minor": 0
      },
      "text/plain": [
       "  0%|          | 0/1000 [00:00<?, ?it/s]"
      ]
     },
     "metadata": {},
     "output_type": "display_data"
    },
    {
     "name": "stderr",
     "output_type": "stream",
     "text": [
      "/home/theycallmepeter/anaconda3/envs/pytorch3d/lib/python3.8/site-packages/torch/nn/functional.py:3451: UserWarning: Default upsampling behavior when mode=bilinear is changed to align_corners=False since 0.4.0. Please specify align_corners=True if the old behavior is desired. See the documentation of nn.Upsample for details.\n",
      "  warnings.warn(\n",
      "/mnt/c/Projects/deepstimate/pytorch3d/pytorch3d/transforms/transform3d.py:782: UserWarning: R is not a valid rotation matrix\n",
      "  warnings.warn(msg)\n",
      "\u001b[32m[I 2022-03-20 22:34:32,813]\u001b[0m Trial 23 finished with value: 0.9928711652755737 and parameters: {'ngf': 32, 'n_unit': 93, 'layers': 4, 'lr': 0.003668191024038487, 'beta1': 0.5073345373470042, 'beta2': 0.9773714105223326, 'l2': 0.0028299096340253646, 'amsgrad': False}. Best is trial 21 with value: 0.9931003451347351.\u001b[0m\n"
     ]
    },
    {
     "data": {
      "application/vnd.jupyter.widget-view+json": {
       "model_id": "cc931fc3b3274e78b103eeaa911913f5",
       "version_major": 2,
       "version_minor": 0
      },
      "text/plain": [
       "  0%|          | 0/1000 [00:00<?, ?it/s]"
      ]
     },
     "metadata": {},
     "output_type": "display_data"
    },
    {
     "name": "stderr",
     "output_type": "stream",
     "text": [
      "/home/theycallmepeter/anaconda3/envs/pytorch3d/lib/python3.8/site-packages/torch/nn/functional.py:3451: UserWarning: Default upsampling behavior when mode=bilinear is changed to align_corners=False since 0.4.0. Please specify align_corners=True if the old behavior is desired. See the documentation of nn.Upsample for details.\n",
      "  warnings.warn(\n",
      "/mnt/c/Projects/deepstimate/pytorch3d/pytorch3d/transforms/transform3d.py:782: UserWarning: R is not a valid rotation matrix\n",
      "  warnings.warn(msg)\n",
      "\u001b[32m[I 2022-03-20 22:35:48,112]\u001b[0m Trial 24 finished with value: 0.9931187629699707 and parameters: {'ngf': 32, 'n_unit': 118, 'layers': 4, 'lr': 0.013502106022132533, 'beta1': 0.6545347430785633, 'beta2': 0.9849497319048766, 'l2': 0.002667274407656257, 'amsgrad': False}. Best is trial 24 with value: 0.9931187629699707.\u001b[0m\n"
     ]
    },
    {
     "data": {
      "application/vnd.jupyter.widget-view+json": {
       "model_id": "5ef9d083ef0a4f869dd1ae4f804e541d",
       "version_major": 2,
       "version_minor": 0
      },
      "text/plain": [
       "  0%|          | 0/1000 [00:00<?, ?it/s]"
      ]
     },
     "metadata": {},
     "output_type": "display_data"
    },
    {
     "name": "stderr",
     "output_type": "stream",
     "text": [
      "/home/theycallmepeter/anaconda3/envs/pytorch3d/lib/python3.8/site-packages/torch/nn/functional.py:3451: UserWarning: Default upsampling behavior when mode=bilinear is changed to align_corners=False since 0.4.0. Please specify align_corners=True if the old behavior is desired. See the documentation of nn.Upsample for details.\n",
      "  warnings.warn(\n",
      "/mnt/c/Projects/deepstimate/pytorch3d/pytorch3d/transforms/transform3d.py:782: UserWarning: R is not a valid rotation matrix\n",
      "  warnings.warn(msg)\n",
      "\u001b[32m[I 2022-03-20 22:37:06,276]\u001b[0m Trial 25 finished with value: 0.960926353931427 and parameters: {'ngf': 32, 'n_unit': 161, 'layers': 3, 'lr': 0.003613946035861025, 'beta1': 0.6704014226552943, 'beta2': 0.9832202563552644, 'l2': 4.898880847946894e-05, 'amsgrad': False}. Best is trial 24 with value: 0.9931187629699707.\u001b[0m\n"
     ]
    },
    {
     "data": {
      "application/vnd.jupyter.widget-view+json": {
       "model_id": "b2526351af9f459c8a8c6a9df810acd7",
       "version_major": 2,
       "version_minor": 0
      },
      "text/plain": [
       "  0%|          | 0/1000 [00:00<?, ?it/s]"
      ]
     },
     "metadata": {},
     "output_type": "display_data"
    },
    {
     "name": "stderr",
     "output_type": "stream",
     "text": [
      "/home/theycallmepeter/anaconda3/envs/pytorch3d/lib/python3.8/site-packages/torch/nn/functional.py:3451: UserWarning: Default upsampling behavior when mode=bilinear is changed to align_corners=False since 0.4.0. Please specify align_corners=True if the old behavior is desired. See the documentation of nn.Upsample for details.\n",
      "  warnings.warn(\n",
      "/mnt/c/Projects/deepstimate/pytorch3d/pytorch3d/transforms/transform3d.py:782: UserWarning: R is not a valid rotation matrix\n",
      "  warnings.warn(msg)\n",
      "\u001b[32m[I 2022-03-20 22:38:21,973]\u001b[0m Trial 26 finished with value: 0.9912292957305908 and parameters: {'ngf': 32, 'n_unit': 121, 'layers': 4, 'lr': 0.0005590105240384011, 'beta1': 0.7522914341327784, 'beta2': 0.9875359888810643, 'l2': 0.0003532594363689243, 'amsgrad': False}. Best is trial 24 with value: 0.9931187629699707.\u001b[0m\n"
     ]
    },
    {
     "data": {
      "application/vnd.jupyter.widget-view+json": {
       "model_id": "4cc104fba7a34748afc37c92c5515354",
       "version_major": 2,
       "version_minor": 0
      },
      "text/plain": [
       "  0%|          | 0/1000 [00:00<?, ?it/s]"
      ]
     },
     "metadata": {},
     "output_type": "display_data"
    },
    {
     "name": "stderr",
     "output_type": "stream",
     "text": [
      "/home/theycallmepeter/anaconda3/envs/pytorch3d/lib/python3.8/site-packages/torch/nn/functional.py:3451: UserWarning: Default upsampling behavior when mode=bilinear is changed to align_corners=False since 0.4.0. Please specify align_corners=True if the old behavior is desired. See the documentation of nn.Upsample for details.\n",
      "  warnings.warn(\n",
      "/mnt/c/Projects/deepstimate/pytorch3d/pytorch3d/transforms/transform3d.py:782: UserWarning: R is not a valid rotation matrix\n",
      "  warnings.warn(msg)\n",
      "\u001b[32m[I 2022-03-20 22:39:39,494]\u001b[0m Trial 27 finished with value: 0.9932196736335754 and parameters: {'ngf': 32, 'n_unit': 100, 'layers': 5, 'lr': 0.010174322959900428, 'beta1': 0.7537429386813882, 'beta2': 0.998373772236048, 'l2': 0.002731343731526004, 'amsgrad': False}. Best is trial 27 with value: 0.9932196736335754.\u001b[0m\n"
     ]
    },
    {
     "data": {
      "application/vnd.jupyter.widget-view+json": {
       "model_id": "2ecc4cbb970a4261bbc3e6c0f4d73051",
       "version_major": 2,
       "version_minor": 0
      },
      "text/plain": [
       "  0%|          | 0/1000 [00:00<?, ?it/s]"
      ]
     },
     "metadata": {},
     "output_type": "display_data"
    },
    {
     "name": "stderr",
     "output_type": "stream",
     "text": [
      "/home/theycallmepeter/anaconda3/envs/pytorch3d/lib/python3.8/site-packages/torch/nn/functional.py:3451: UserWarning: Default upsampling behavior when mode=bilinear is changed to align_corners=False since 0.4.0. Please specify align_corners=True if the old behavior is desired. See the documentation of nn.Upsample for details.\n",
      "  warnings.warn(\n",
      "/mnt/c/Projects/deepstimate/pytorch3d/pytorch3d/transforms/transform3d.py:782: UserWarning: R is not a valid rotation matrix\n",
      "  warnings.warn(msg)\n",
      "\u001b[32m[I 2022-03-20 22:40:57,945]\u001b[0m Trial 28 finished with value: 0.9931153059005737 and parameters: {'ngf': 32, 'n_unit': 155, 'layers': 5, 'lr': 0.013702160537937937, 'beta1': 0.8861459297347075, 'beta2': 0.9966034771933298, 'l2': 0.004021536440748562, 'amsgrad': False}. Best is trial 27 with value: 0.9932196736335754.\u001b[0m\n"
     ]
    },
    {
     "data": {
      "application/vnd.jupyter.widget-view+json": {
       "model_id": "822dcba1c19048ccb8115f5931bc9d8e",
       "version_major": 2,
       "version_minor": 0
      },
      "text/plain": [
       "  0%|          | 0/1000 [00:00<?, ?it/s]"
      ]
     },
     "metadata": {},
     "output_type": "display_data"
    },
    {
     "name": "stderr",
     "output_type": "stream",
     "text": [
      "/home/theycallmepeter/anaconda3/envs/pytorch3d/lib/python3.8/site-packages/torch/nn/functional.py:3451: UserWarning: Default upsampling behavior when mode=bilinear is changed to align_corners=False since 0.4.0. Please specify align_corners=True if the old behavior is desired. See the documentation of nn.Upsample for details.\n",
      "  warnings.warn(\n",
      "/mnt/c/Projects/deepstimate/pytorch3d/pytorch3d/transforms/transform3d.py:782: UserWarning: R is not a valid rotation matrix\n",
      "  warnings.warn(msg)\n",
      "\u001b[32m[I 2022-03-20 22:42:20,492]\u001b[0m Trial 29 finished with value: 0.9931816458702087 and parameters: {'ngf': 64, 'n_unit': 158, 'layers': 5, 'lr': 0.053991227376355644, 'beta1': 0.8974279446803257, 'beta2': 0.9972940820968974, 'l2': 0.004400524770206597, 'amsgrad': False}. Best is trial 27 with value: 0.9932196736335754.\u001b[0m\n"
     ]
    },
    {
     "data": {
      "application/vnd.jupyter.widget-view+json": {
       "model_id": "67a2663649454fdf8ad6ea88a7141514",
       "version_major": 2,
       "version_minor": 0
      },
      "text/plain": [
       "  0%|          | 0/1000 [00:00<?, ?it/s]"
      ]
     },
     "metadata": {},
     "output_type": "display_data"
    },
    {
     "name": "stderr",
     "output_type": "stream",
     "text": [
      "/home/theycallmepeter/anaconda3/envs/pytorch3d/lib/python3.8/site-packages/torch/nn/functional.py:3451: UserWarning: Default upsampling behavior when mode=bilinear is changed to align_corners=False since 0.4.0. Please specify align_corners=True if the old behavior is desired. See the documentation of nn.Upsample for details.\n",
      "  warnings.warn(\n",
      "/mnt/c/Projects/deepstimate/pytorch3d/pytorch3d/transforms/transform3d.py:782: UserWarning: R is not a valid rotation matrix\n",
      "  warnings.warn(msg)\n",
      "\u001b[32m[I 2022-03-20 22:43:43,221]\u001b[0m Trial 30 finished with value: 0.9691241979598999 and parameters: {'ngf': 64, 'n_unit': 179, 'layers': 5, 'lr': 0.059650716392978774, 'beta1': 0.8249169259971633, 'beta2': 0.9974475208268283, 'l2': 3.772060513442503e-05, 'amsgrad': False}. Best is trial 27 with value: 0.9932196736335754.\u001b[0m\n"
     ]
    },
    {
     "data": {
      "application/vnd.jupyter.widget-view+json": {
       "model_id": "80aaeba6e6eb4a7abb128f4848440c18",
       "version_major": 2,
       "version_minor": 0
      },
      "text/plain": [
       "  0%|          | 0/1000 [00:00<?, ?it/s]"
      ]
     },
     "metadata": {},
     "output_type": "display_data"
    },
    {
     "name": "stderr",
     "output_type": "stream",
     "text": [
      "/home/theycallmepeter/anaconda3/envs/pytorch3d/lib/python3.8/site-packages/torch/nn/functional.py:3451: UserWarning: Default upsampling behavior when mode=bilinear is changed to align_corners=False since 0.4.0. Please specify align_corners=True if the old behavior is desired. See the documentation of nn.Upsample for details.\n",
      "  warnings.warn(\n",
      "/mnt/c/Projects/deepstimate/pytorch3d/pytorch3d/transforms/transform3d.py:782: UserWarning: R is not a valid rotation matrix\n",
      "  warnings.warn(msg)\n",
      "\u001b[32m[I 2022-03-20 22:45:04,736]\u001b[0m Trial 31 finished with value: 0.9932321310043335 and parameters: {'ngf': 64, 'n_unit': 197, 'layers': 5, 'lr': 0.01377197698213177, 'beta1': 0.8872256408047126, 'beta2': 0.9992762281163164, 'l2': 0.0036997837440649046, 'amsgrad': False}. Best is trial 31 with value: 0.9932321310043335.\u001b[0m\n"
     ]
    },
    {
     "data": {
      "application/vnd.jupyter.widget-view+json": {
       "model_id": "fe208dc95f9e4d4b95bc8df279976b30",
       "version_major": 2,
       "version_minor": 0
      },
      "text/plain": [
       "  0%|          | 0/1000 [00:00<?, ?it/s]"
      ]
     },
     "metadata": {},
     "output_type": "display_data"
    },
    {
     "name": "stderr",
     "output_type": "stream",
     "text": [
      "/home/theycallmepeter/anaconda3/envs/pytorch3d/lib/python3.8/site-packages/torch/nn/functional.py:3451: UserWarning: Default upsampling behavior when mode=bilinear is changed to align_corners=False since 0.4.0. Please specify align_corners=True if the old behavior is desired. See the documentation of nn.Upsample for details.\n",
      "  warnings.warn(\n",
      "/mnt/c/Projects/deepstimate/pytorch3d/pytorch3d/transforms/transform3d.py:782: UserWarning: R is not a valid rotation matrix\n",
      "  warnings.warn(msg)\n",
      "\u001b[32m[I 2022-03-20 22:46:26,282]\u001b[0m Trial 32 finished with value: 0.9925222396850586 and parameters: {'ngf': 64, 'n_unit': 197, 'layers': 5, 'lr': 0.05714757454576537, 'beta1': 0.7913191535496915, 'beta2': 0.9997161214942176, 'l2': 0.0005210433818568414, 'amsgrad': False}. Best is trial 31 with value: 0.9932321310043335.\u001b[0m\n"
     ]
    },
    {
     "data": {
      "application/vnd.jupyter.widget-view+json": {
       "model_id": "4c0752356c0f4d77b3d4ceec9439d64b",
       "version_major": 2,
       "version_minor": 0
      },
      "text/plain": [
       "  0%|          | 0/1000 [00:00<?, ?it/s]"
      ]
     },
     "metadata": {},
     "output_type": "display_data"
    },
    {
     "name": "stderr",
     "output_type": "stream",
     "text": [
      "/home/theycallmepeter/anaconda3/envs/pytorch3d/lib/python3.8/site-packages/torch/nn/functional.py:3451: UserWarning: Default upsampling behavior when mode=bilinear is changed to align_corners=False since 0.4.0. Please specify align_corners=True if the old behavior is desired. See the documentation of nn.Upsample for details.\n",
      "  warnings.warn(\n",
      "/mnt/c/Projects/deepstimate/pytorch3d/pytorch3d/transforms/transform3d.py:782: UserWarning: R is not a valid rotation matrix\n",
      "  warnings.warn(msg)\n",
      "\u001b[32m[I 2022-03-20 22:47:47,704]\u001b[0m Trial 33 finished with value: 0.9917363524436951 and parameters: {'ngf': 64, 'n_unit': 200, 'layers': 5, 'lr': 0.0019953481887664123, 'beta1': 0.8852922062950503, 'beta2': 0.9855883832212533, 'l2': 0.008850390643646521, 'amsgrad': False}. Best is trial 31 with value: 0.9932321310043335.\u001b[0m\n"
     ]
    },
    {
     "data": {
      "application/vnd.jupyter.widget-view+json": {
       "model_id": "fd48e0b6e32945bba8e84bd963f4ee17",
       "version_major": 2,
       "version_minor": 0
      },
      "text/plain": [
       "  0%|          | 0/1000 [00:00<?, ?it/s]"
      ]
     },
     "metadata": {},
     "output_type": "display_data"
    },
    {
     "name": "stderr",
     "output_type": "stream",
     "text": [
      "/home/theycallmepeter/anaconda3/envs/pytorch3d/lib/python3.8/site-packages/torch/nn/functional.py:3451: UserWarning: Default upsampling behavior when mode=bilinear is changed to align_corners=False since 0.4.0. Please specify align_corners=True if the old behavior is desired. See the documentation of nn.Upsample for details.\n",
      "  warnings.warn(\n",
      "/mnt/c/Projects/deepstimate/pytorch3d/pytorch3d/transforms/transform3d.py:782: UserWarning: R is not a valid rotation matrix\n",
      "  warnings.warn(msg)\n",
      "\u001b[32m[I 2022-03-20 22:49:10,313]\u001b[0m Trial 34 finished with value: 0.9932265281677246 and parameters: {'ngf': 64, 'n_unit': 171, 'layers': 5, 'lr': 0.019269538724597808, 'beta1': 0.7339416952967853, 'beta2': 0.9843019870739346, 'l2': 0.003588075384217391, 'amsgrad': True}. Best is trial 31 with value: 0.9932321310043335.\u001b[0m\n"
     ]
    },
    {
     "data": {
      "application/vnd.jupyter.widget-view+json": {
       "model_id": "a8118ab8b5884befa24d04c51536de82",
       "version_major": 2,
       "version_minor": 0
      },
      "text/plain": [
       "  0%|          | 0/1000 [00:00<?, ?it/s]"
      ]
     },
     "metadata": {},
     "output_type": "display_data"
    },
    {
     "name": "stderr",
     "output_type": "stream",
     "text": [
      "/home/theycallmepeter/anaconda3/envs/pytorch3d/lib/python3.8/site-packages/torch/nn/functional.py:3451: UserWarning: Default upsampling behavior when mode=bilinear is changed to align_corners=False since 0.4.0. Please specify align_corners=True if the old behavior is desired. See the documentation of nn.Upsample for details.\n",
      "  warnings.warn(\n",
      "/mnt/c/Projects/deepstimate/pytorch3d/pytorch3d/transforms/transform3d.py:782: UserWarning: R is not a valid rotation matrix\n",
      "  warnings.warn(msg)\n",
      "\u001b[32m[I 2022-03-20 22:50:31,434]\u001b[0m Trial 35 finished with value: 0.9931684732437134 and parameters: {'ngf': 64, 'n_unit': 171, 'layers': 5, 'lr': 0.05672608904975888, 'beta1': 0.7365621318791994, 'beta2': 0.9903535754161747, 'l2': 0.004146089331374536, 'amsgrad': True}. Best is trial 31 with value: 0.9932321310043335.\u001b[0m\n"
     ]
    },
    {
     "data": {
      "application/vnd.jupyter.widget-view+json": {
       "model_id": "568cb06e153a490eabdc31532f56427a",
       "version_major": 2,
       "version_minor": 0
      },
      "text/plain": [
       "  0%|          | 0/1000 [00:00<?, ?it/s]"
      ]
     },
     "metadata": {},
     "output_type": "display_data"
    },
    {
     "name": "stderr",
     "output_type": "stream",
     "text": [
      "/home/theycallmepeter/anaconda3/envs/pytorch3d/lib/python3.8/site-packages/torch/nn/functional.py:3451: UserWarning: Default upsampling behavior when mode=bilinear is changed to align_corners=False since 0.4.0. Please specify align_corners=True if the old behavior is desired. See the documentation of nn.Upsample for details.\n",
      "  warnings.warn(\n",
      "/mnt/c/Projects/deepstimate/pytorch3d/pytorch3d/transforms/transform3d.py:782: UserWarning: R is not a valid rotation matrix\n",
      "  warnings.warn(msg)\n",
      "\u001b[32m[I 2022-03-20 22:51:53,592]\u001b[0m Trial 36 finished with value: 0.9930898547172546 and parameters: {'ngf': 64, 'n_unit': 148, 'layers': 5, 'lr': 0.006672079201121162, 'beta1': 0.8222097827489211, 'beta2': 0.9996561585799879, 'l2': 0.0018640341008573866, 'amsgrad': True}. Best is trial 31 with value: 0.9932321310043335.\u001b[0m\n"
     ]
    },
    {
     "data": {
      "application/vnd.jupyter.widget-view+json": {
       "model_id": "abb64e5ad0af4bcfa55556b7c5bb12d5",
       "version_major": 2,
       "version_minor": 0
      },
      "text/plain": [
       "  0%|          | 0/1000 [00:00<?, ?it/s]"
      ]
     },
     "metadata": {},
     "output_type": "display_data"
    },
    {
     "name": "stderr",
     "output_type": "stream",
     "text": [
      "/home/theycallmepeter/anaconda3/envs/pytorch3d/lib/python3.8/site-packages/torch/nn/functional.py:3451: UserWarning: Default upsampling behavior when mode=bilinear is changed to align_corners=False since 0.4.0. Please specify align_corners=True if the old behavior is desired. See the documentation of nn.Upsample for details.\n",
      "  warnings.warn(\n",
      "/mnt/c/Projects/deepstimate/pytorch3d/pytorch3d/transforms/transform3d.py:782: UserWarning: R is not a valid rotation matrix\n",
      "  warnings.warn(msg)\n",
      "\u001b[32m[I 2022-03-20 22:53:16,649]\u001b[0m Trial 37 finished with value: 0.9931974411010742 and parameters: {'ngf': 64, 'n_unit': 166, 'layers': 5, 'lr': 0.021768342388842992, 'beta1': 0.8386817318798409, 'beta2': 0.9824279707186938, 'l2': 0.005401794364844727, 'amsgrad': True}. Best is trial 31 with value: 0.9932321310043335.\u001b[0m\n"
     ]
    },
    {
     "data": {
      "application/vnd.jupyter.widget-view+json": {
       "model_id": "87e3395f41cd4d51b8d3fd09366b9beb",
       "version_major": 2,
       "version_minor": 0
      },
      "text/plain": [
       "  0%|          | 0/1000 [00:00<?, ?it/s]"
      ]
     },
     "metadata": {},
     "output_type": "display_data"
    },
    {
     "name": "stderr",
     "output_type": "stream",
     "text": [
      "/home/theycallmepeter/anaconda3/envs/pytorch3d/lib/python3.8/site-packages/torch/nn/functional.py:3451: UserWarning: Default upsampling behavior when mode=bilinear is changed to align_corners=False since 0.4.0. Please specify align_corners=True if the old behavior is desired. See the documentation of nn.Upsample for details.\n",
      "  warnings.warn(\n",
      "/mnt/c/Projects/deepstimate/pytorch3d/pytorch3d/transforms/transform3d.py:782: UserWarning: R is not a valid rotation matrix\n",
      "  warnings.warn(msg)\n",
      "\u001b[32m[I 2022-03-20 22:54:39,216]\u001b[0m Trial 38 finished with value: 0.9929845929145813 and parameters: {'ngf': 64, 'n_unit': 170, 'layers': 5, 'lr': 0.021166611275249773, 'beta1': 0.7318215012930097, 'beta2': 0.9653218116157732, 'l2': 0.0015184950337932377, 'amsgrad': True}. Best is trial 31 with value: 0.9932321310043335.\u001b[0m\n"
     ]
    },
    {
     "data": {
      "application/vnd.jupyter.widget-view+json": {
       "model_id": "48c7f56ca6354a47979ca1d985ffcfc4",
       "version_major": 2,
       "version_minor": 0
      },
      "text/plain": [
       "  0%|          | 0/1000 [00:00<?, ?it/s]"
      ]
     },
     "metadata": {},
     "output_type": "display_data"
    },
    {
     "name": "stderr",
     "output_type": "stream",
     "text": [
      "/home/theycallmepeter/anaconda3/envs/pytorch3d/lib/python3.8/site-packages/torch/nn/functional.py:3451: UserWarning: Default upsampling behavior when mode=bilinear is changed to align_corners=False since 0.4.0. Please specify align_corners=True if the old behavior is desired. See the documentation of nn.Upsample for details.\n",
      "  warnings.warn(\n",
      "/mnt/c/Projects/deepstimate/pytorch3d/pytorch3d/transforms/transform3d.py:782: UserWarning: R is not a valid rotation matrix\n",
      "  warnings.warn(msg)\n",
      "\u001b[32m[I 2022-03-20 22:55:56,602]\u001b[0m Trial 39 finished with value: 0.987181544303894 and parameters: {'ngf': 16, 'n_unit': 190, 'layers': 5, 'lr': 5.934659370079111e-05, 'beta1': 0.8371850763135782, 'beta2': 0.981896652522049, 'l2': 0.00026388023745935716, 'amsgrad': True}. Best is trial 31 with value: 0.9932321310043335.\u001b[0m\n"
     ]
    },
    {
     "data": {
      "application/vnd.jupyter.widget-view+json": {
       "model_id": "849af19da48143a5ab5e32fd691ad371",
       "version_major": 2,
       "version_minor": 0
      },
      "text/plain": [
       "  0%|          | 0/1000 [00:00<?, ?it/s]"
      ]
     },
     "metadata": {},
     "output_type": "display_data"
    },
    {
     "name": "stderr",
     "output_type": "stream",
     "text": [
      "/home/theycallmepeter/anaconda3/envs/pytorch3d/lib/python3.8/site-packages/torch/nn/functional.py:3451: UserWarning: Default upsampling behavior when mode=bilinear is changed to align_corners=False since 0.4.0. Please specify align_corners=True if the old behavior is desired. See the documentation of nn.Upsample for details.\n",
      "  warnings.warn(\n",
      "/mnt/c/Projects/deepstimate/pytorch3d/pytorch3d/transforms/transform3d.py:782: UserWarning: R is not a valid rotation matrix\n",
      "  warnings.warn(msg)\n",
      "\u001b[32m[I 2022-03-20 22:57:18,049]\u001b[0m Trial 40 finished with value: 0.9914588928222656 and parameters: {'ngf': 64, 'n_unit': 134, 'layers': 5, 'lr': 0.0006655313327290485, 'beta1': 0.7945464872093585, 'beta2': 0.9470958121638596, 'l2': 0.0007047303447991044, 'amsgrad': True}. Best is trial 31 with value: 0.9932321310043335.\u001b[0m\n"
     ]
    },
    {
     "data": {
      "application/vnd.jupyter.widget-view+json": {
       "model_id": "3ae20ff5ab4b4f1bb7fb19d505b4acea",
       "version_major": 2,
       "version_minor": 0
      },
      "text/plain": [
       "  0%|          | 0/1000 [00:00<?, ?it/s]"
      ]
     },
     "metadata": {},
     "output_type": "display_data"
    },
    {
     "name": "stderr",
     "output_type": "stream",
     "text": [
      "/home/theycallmepeter/anaconda3/envs/pytorch3d/lib/python3.8/site-packages/torch/nn/functional.py:3451: UserWarning: Default upsampling behavior when mode=bilinear is changed to align_corners=False since 0.4.0. Please specify align_corners=True if the old behavior is desired. See the documentation of nn.Upsample for details.\n",
      "  warnings.warn(\n",
      "/mnt/c/Projects/deepstimate/pytorch3d/pytorch3d/transforms/transform3d.py:782: UserWarning: R is not a valid rotation matrix\n",
      "  warnings.warn(msg)\n",
      "\u001b[32m[I 2022-03-20 22:58:39,796]\u001b[0m Trial 41 finished with value: 0.9932554960250854 and parameters: {'ngf': 64, 'n_unit': 175, 'layers': 5, 'lr': 0.009810754574494247, 'beta1': 0.8995138400731207, 'beta2': 0.9939420356927783, 'l2': 0.004215183940547493, 'amsgrad': True}. Best is trial 41 with value: 0.9932554960250854.\u001b[0m\n"
     ]
    },
    {
     "data": {
      "application/vnd.jupyter.widget-view+json": {
       "model_id": "222596d7cf7a4f628e8298e1140583f0",
       "version_major": 2,
       "version_minor": 0
      },
      "text/plain": [
       "  0%|          | 0/1000 [00:00<?, ?it/s]"
      ]
     },
     "metadata": {},
     "output_type": "display_data"
    },
    {
     "name": "stderr",
     "output_type": "stream",
     "text": [
      "/home/theycallmepeter/anaconda3/envs/pytorch3d/lib/python3.8/site-packages/torch/nn/functional.py:3451: UserWarning: Default upsampling behavior when mode=bilinear is changed to align_corners=False since 0.4.0. Please specify align_corners=True if the old behavior is desired. See the documentation of nn.Upsample for details.\n",
      "  warnings.warn(\n",
      "/mnt/c/Projects/deepstimate/pytorch3d/pytorch3d/transforms/transform3d.py:782: UserWarning: R is not a valid rotation matrix\n",
      "  warnings.warn(msg)\n",
      "\u001b[32m[I 2022-03-20 23:00:02,512]\u001b[0m Trial 42 finished with value: 0.993091881275177 and parameters: {'ngf': 64, 'n_unit': 171, 'layers': 5, 'lr': 0.010141571919596392, 'beta1': 0.8545847414571339, 'beta2': 0.9923852407418542, 'l2': 0.006420239480965441, 'amsgrad': True}. Best is trial 41 with value: 0.9932554960250854.\u001b[0m\n"
     ]
    },
    {
     "data": {
      "application/vnd.jupyter.widget-view+json": {
       "model_id": "f445ae8179354bdf8da772883198215f",
       "version_major": 2,
       "version_minor": 0
      },
      "text/plain": [
       "  0%|          | 0/1000 [00:00<?, ?it/s]"
      ]
     },
     "metadata": {},
     "output_type": "display_data"
    },
    {
     "name": "stderr",
     "output_type": "stream",
     "text": [
      "/home/theycallmepeter/anaconda3/envs/pytorch3d/lib/python3.8/site-packages/torch/nn/functional.py:3451: UserWarning: Default upsampling behavior when mode=bilinear is changed to align_corners=False since 0.4.0. Please specify align_corners=True if the old behavior is desired. See the documentation of nn.Upsample for details.\n",
      "  warnings.warn(\n",
      "/mnt/c/Projects/deepstimate/pytorch3d/pytorch3d/transforms/transform3d.py:782: UserWarning: R is not a valid rotation matrix\n",
      "  warnings.warn(msg)\n",
      "\u001b[32m[I 2022-03-20 23:01:23,930]\u001b[0m Trial 43 finished with value: 0.9932142496109009 and parameters: {'ngf': 64, 'n_unit': 186, 'layers': 5, 'lr': 0.006189266521974207, 'beta1': 0.7078554587202918, 'beta2': 0.9890742019568957, 'l2': 0.0032441435369778486, 'amsgrad': True}. Best is trial 41 with value: 0.9932554960250854.\u001b[0m\n"
     ]
    },
    {
     "data": {
      "application/vnd.jupyter.widget-view+json": {
       "model_id": "6c9c9f1abf4241308c2082a310b6d2ae",
       "version_major": 2,
       "version_minor": 0
      },
      "text/plain": [
       "  0%|          | 0/1000 [00:00<?, ?it/s]"
      ]
     },
     "metadata": {},
     "output_type": "display_data"
    },
    {
     "name": "stderr",
     "output_type": "stream",
     "text": [
      "/home/theycallmepeter/anaconda3/envs/pytorch3d/lib/python3.8/site-packages/torch/nn/functional.py:3451: UserWarning: Default upsampling behavior when mode=bilinear is changed to align_corners=False since 0.4.0. Please specify align_corners=True if the old behavior is desired. See the documentation of nn.Upsample for details.\n",
      "  warnings.warn(\n",
      "/mnt/c/Projects/deepstimate/pytorch3d/pytorch3d/transforms/transform3d.py:782: UserWarning: R is not a valid rotation matrix\n",
      "  warnings.warn(msg)\n",
      "\u001b[32m[I 2022-03-20 23:02:43,233]\u001b[0m Trial 44 finished with value: 0.9931395053863525 and parameters: {'ngf': 64, 'n_unit': 185, 'layers': 5, 'lr': 0.0014092417491554292, 'beta1': 0.7198640568280709, 'beta2': 0.991572585217808, 'l2': 0.0032981430469370882, 'amsgrad': True}. Best is trial 41 with value: 0.9932554960250854.\u001b[0m\n"
     ]
    },
    {
     "data": {
      "application/vnd.jupyter.widget-view+json": {
       "model_id": "f96d81617db242f0a51631e580cee0d1",
       "version_major": 2,
       "version_minor": 0
      },
      "text/plain": [
       "  0%|          | 0/1000 [00:00<?, ?it/s]"
      ]
     },
     "metadata": {},
     "output_type": "display_data"
    },
    {
     "name": "stderr",
     "output_type": "stream",
     "text": [
      "/home/theycallmepeter/anaconda3/envs/pytorch3d/lib/python3.8/site-packages/torch/nn/functional.py:3451: UserWarning: Default upsampling behavior when mode=bilinear is changed to align_corners=False since 0.4.0. Please specify align_corners=True if the old behavior is desired. See the documentation of nn.Upsample for details.\n",
      "  warnings.warn(\n",
      "/mnt/c/Projects/deepstimate/pytorch3d/pytorch3d/transforms/transform3d.py:782: UserWarning: R is not a valid rotation matrix\n",
      "  warnings.warn(msg)\n",
      "\u001b[32m[I 2022-03-20 23:03:57,490]\u001b[0m Trial 45 finished with value: 0.9917507767677307 and parameters: {'ngf': 16, 'n_unit': 189, 'layers': 5, 'lr': 0.0058243702968467405, 'beta1': 0.6120194560533556, 'beta2': 0.988509663866119, 'l2': 0.009621431586738565, 'amsgrad': True}. Best is trial 41 with value: 0.9932554960250854.\u001b[0m\n"
     ]
    },
    {
     "data": {
      "application/vnd.jupyter.widget-view+json": {
       "model_id": "cccc6fecbcc2449cac9008643cb8a341",
       "version_major": 2,
       "version_minor": 0
      },
      "text/plain": [
       "  0%|          | 0/1000 [00:00<?, ?it/s]"
      ]
     },
     "metadata": {},
     "output_type": "display_data"
    },
    {
     "name": "stderr",
     "output_type": "stream",
     "text": [
      "/home/theycallmepeter/anaconda3/envs/pytorch3d/lib/python3.8/site-packages/torch/nn/functional.py:3451: UserWarning: Default upsampling behavior when mode=bilinear is changed to align_corners=False since 0.4.0. Please specify align_corners=True if the old behavior is desired. See the documentation of nn.Upsample for details.\n",
      "  warnings.warn(\n",
      "/mnt/c/Projects/deepstimate/pytorch3d/pytorch3d/transforms/transform3d.py:782: UserWarning: R is not a valid rotation matrix\n",
      "  warnings.warn(msg)\n",
      "\u001b[32m[I 2022-03-20 23:05:16,996]\u001b[0m Trial 46 finished with value: 0.9762781858444214 and parameters: {'ngf': 64, 'n_unit': 179, 'layers': 5, 'lr': 0.0028775253357134173, 'beta1': 0.6995408238394021, 'beta2': 0.9936761882354828, 'l2': 6.164472016189799e-06, 'amsgrad': True}. Best is trial 41 with value: 0.9932554960250854.\u001b[0m\n"
     ]
    },
    {
     "data": {
      "application/vnd.jupyter.widget-view+json": {
       "model_id": "f65dc4573feb4d0d99a6c8398eeb97a7",
       "version_major": 2,
       "version_minor": 0
      },
      "text/plain": [
       "  0%|          | 0/1000 [00:00<?, ?it/s]"
      ]
     },
     "metadata": {},
     "output_type": "display_data"
    },
    {
     "name": "stderr",
     "output_type": "stream",
     "text": [
      "/home/theycallmepeter/anaconda3/envs/pytorch3d/lib/python3.8/site-packages/torch/nn/functional.py:3451: UserWarning: Default upsampling behavior when mode=bilinear is changed to align_corners=False since 0.4.0. Please specify align_corners=True if the old behavior is desired. See the documentation of nn.Upsample for details.\n",
      "  warnings.warn(\n",
      "/mnt/c/Projects/deepstimate/pytorch3d/pytorch3d/transforms/transform3d.py:782: UserWarning: R is not a valid rotation matrix\n",
      "  warnings.warn(msg)\n",
      "\u001b[32m[I 2022-03-20 23:06:35,787]\u001b[0m Trial 47 finished with value: 0.9665723443031311 and parameters: {'ngf': 64, 'n_unit': 149, 'layers': 5, 'lr': 0.009954752978237898, 'beta1': 0.7755845102458295, 'beta2': 0.9945565424196146, 'l2': 2.429164233434232e-06, 'amsgrad': True}. Best is trial 41 with value: 0.9932554960250854.\u001b[0m\n"
     ]
    },
    {
     "data": {
      "application/vnd.jupyter.widget-view+json": {
       "model_id": "bbfa498ef91e4e24a6fda2dadaadf62b",
       "version_major": 2,
       "version_minor": 0
      },
      "text/plain": [
       "  0%|          | 0/1000 [00:00<?, ?it/s]"
      ]
     },
     "metadata": {},
     "output_type": "display_data"
    },
    {
     "name": "stderr",
     "output_type": "stream",
     "text": [
      "/home/theycallmepeter/anaconda3/envs/pytorch3d/lib/python3.8/site-packages/torch/nn/functional.py:3451: UserWarning: Default upsampling behavior when mode=bilinear is changed to align_corners=False since 0.4.0. Please specify align_corners=True if the old behavior is desired. See the documentation of nn.Upsample for details.\n",
      "  warnings.warn(\n",
      "/mnt/c/Projects/deepstimate/pytorch3d/pytorch3d/transforms/transform3d.py:782: UserWarning: R is not a valid rotation matrix\n",
      "  warnings.warn(msg)\n",
      "\u001b[32m[I 2022-03-20 23:07:54,877]\u001b[0m Trial 48 finished with value: 0.9927735924720764 and parameters: {'ngf': 64, 'n_unit': 195, 'layers': 5, 'lr': 0.002464591290111253, 'beta1': 0.8054817953645569, 'beta2': 0.9327450379408976, 'l2': 0.001599380870475041, 'amsgrad': True}. Best is trial 41 with value: 0.9932554960250854.\u001b[0m\n"
     ]
    },
    {
     "data": {
      "application/vnd.jupyter.widget-view+json": {
       "model_id": "7dfe15c631214297b46bd7e10aeb2d0e",
       "version_major": 2,
       "version_minor": 0
      },
      "text/plain": [
       "  0%|          | 0/1000 [00:00<?, ?it/s]"
      ]
     },
     "metadata": {},
     "output_type": "display_data"
    },
    {
     "name": "stderr",
     "output_type": "stream",
     "text": [
      "/home/theycallmepeter/anaconda3/envs/pytorch3d/lib/python3.8/site-packages/torch/nn/functional.py:3451: UserWarning: Default upsampling behavior when mode=bilinear is changed to align_corners=False since 0.4.0. Please specify align_corners=True if the old behavior is desired. See the documentation of nn.Upsample for details.\n",
      "  warnings.warn(\n",
      "/mnt/c/Projects/deepstimate/pytorch3d/pytorch3d/transforms/transform3d.py:782: UserWarning: R is not a valid rotation matrix\n",
      "  warnings.warn(msg)\n",
      "\u001b[32m[I 2022-03-20 23:09:17,554]\u001b[0m Trial 49 finished with value: 0.9928286075592041 and parameters: {'ngf': 16, 'n_unit': 184, 'layers': 2, 'lr': 0.0056896257676917455, 'beta1': 0.6386261789452832, 'beta2': 0.9721095518342728, 'l2': 0.006175664091188856, 'amsgrad': True}. Best is trial 41 with value: 0.9932554960250854.\u001b[0m\n"
     ]
    },
    {
     "data": {
      "application/vnd.jupyter.widget-view+json": {
       "model_id": "d7ab0ad38075482bbbe86c0cfd6c7343",
       "version_major": 2,
       "version_minor": 0
      },
      "text/plain": [
       "  0%|          | 0/1000 [00:00<?, ?it/s]"
      ]
     },
     "metadata": {},
     "output_type": "display_data"
    },
    {
     "name": "stderr",
     "output_type": "stream",
     "text": [
      "/home/theycallmepeter/anaconda3/envs/pytorch3d/lib/python3.8/site-packages/torch/nn/functional.py:3451: UserWarning: Default upsampling behavior when mode=bilinear is changed to align_corners=False since 0.4.0. Please specify align_corners=True if the old behavior is desired. See the documentation of nn.Upsample for details.\n",
      "  warnings.warn(\n",
      "/mnt/c/Projects/deepstimate/pytorch3d/pytorch3d/transforms/transform3d.py:782: UserWarning: R is not a valid rotation matrix\n",
      "  warnings.warn(msg)\n",
      "\u001b[32m[I 2022-03-20 23:10:37,595]\u001b[0m Trial 50 finished with value: 0.9293212294578552 and parameters: {'ngf': 64, 'n_unit': 141, 'layers': 5, 'lr': 0.009198054351937244, 'beta1': 0.7563824261532931, 'beta2': 0.9808637238662336, 'l2': 1.4278558043730318e-05, 'amsgrad': True}. Best is trial 41 with value: 0.9932554960250854.\u001b[0m\n"
     ]
    },
    {
     "data": {
      "application/vnd.jupyter.widget-view+json": {
       "model_id": "ae2d33561bce4bebaa4f7d3f67a2efc3",
       "version_major": 2,
       "version_minor": 0
      },
      "text/plain": [
       "  0%|          | 0/1000 [00:00<?, ?it/s]"
      ]
     },
     "metadata": {},
     "output_type": "display_data"
    },
    {
     "name": "stderr",
     "output_type": "stream",
     "text": [
      "/home/theycallmepeter/anaconda3/envs/pytorch3d/lib/python3.8/site-packages/torch/nn/functional.py:3451: UserWarning: Default upsampling behavior when mode=bilinear is changed to align_corners=False since 0.4.0. Please specify align_corners=True if the old behavior is desired. See the documentation of nn.Upsample for details.\n",
      "  warnings.warn(\n",
      "/mnt/c/Projects/deepstimate/pytorch3d/pytorch3d/transforms/transform3d.py:782: UserWarning: R is not a valid rotation matrix\n",
      "  warnings.warn(msg)\n",
      "\u001b[32m[I 2022-03-20 23:11:56,460]\u001b[0m Trial 51 finished with value: 0.9931506514549255 and parameters: {'ngf': 64, 'n_unit': 161, 'layers': 5, 'lr': 0.02036312415681958, 'beta1': 0.8642034151979215, 'beta2': 0.9887621962703426, 'l2': 0.00624191050996778, 'amsgrad': True}. Best is trial 41 with value: 0.9932554960250854.\u001b[0m\n"
     ]
    },
    {
     "data": {
      "application/vnd.jupyter.widget-view+json": {
       "model_id": "4b047d38f90845d8904df7bcf3bb57f1",
       "version_major": 2,
       "version_minor": 0
      },
      "text/plain": [
       "  0%|          | 0/1000 [00:00<?, ?it/s]"
      ]
     },
     "metadata": {},
     "output_type": "display_data"
    },
    {
     "name": "stderr",
     "output_type": "stream",
     "text": [
      "/home/theycallmepeter/anaconda3/envs/pytorch3d/lib/python3.8/site-packages/torch/nn/functional.py:3451: UserWarning: Default upsampling behavior when mode=bilinear is changed to align_corners=False since 0.4.0. Please specify align_corners=True if the old behavior is desired. See the documentation of nn.Upsample for details.\n",
      "  warnings.warn(\n",
      "/mnt/c/Projects/deepstimate/pytorch3d/pytorch3d/transforms/transform3d.py:782: UserWarning: R is not a valid rotation matrix\n",
      "  warnings.warn(msg)\n",
      "\u001b[32m[I 2022-03-20 23:13:15,383]\u001b[0m Trial 52 finished with value: 0.9931808710098267 and parameters: {'ngf': 64, 'n_unit': 168, 'layers': 5, 'lr': 0.03190084897486149, 'beta1': 0.8434440395466796, 'beta2': 0.981618936130704, 'l2': 0.003939485270310581, 'amsgrad': True}. Best is trial 41 with value: 0.9932554960250854.\u001b[0m\n"
     ]
    },
    {
     "data": {
      "application/vnd.jupyter.widget-view+json": {
       "model_id": "17017f097a02496fa9bd1859123a98ba",
       "version_major": 2,
       "version_minor": 0
      },
      "text/plain": [
       "  0%|          | 0/1000 [00:00<?, ?it/s]"
      ]
     },
     "metadata": {},
     "output_type": "display_data"
    },
    {
     "name": "stderr",
     "output_type": "stream",
     "text": [
      "/home/theycallmepeter/anaconda3/envs/pytorch3d/lib/python3.8/site-packages/torch/nn/functional.py:3451: UserWarning: Default upsampling behavior when mode=bilinear is changed to align_corners=False since 0.4.0. Please specify align_corners=True if the old behavior is desired. See the documentation of nn.Upsample for details.\n",
      "  warnings.warn(\n",
      "/mnt/c/Projects/deepstimate/pytorch3d/pytorch3d/transforms/transform3d.py:782: UserWarning: R is not a valid rotation matrix\n",
      "  warnings.warn(msg)\n",
      "\u001b[32m[I 2022-03-20 23:14:34,423]\u001b[0m Trial 53 finished with value: 0.99298495054245 and parameters: {'ngf': 64, 'n_unit': 179, 'layers': 5, 'lr': 0.04020568636552201, 'beta1': 0.8679270047753985, 'beta2': 0.9862967181618367, 'l2': 0.0010479095200746857, 'amsgrad': True}. Best is trial 41 with value: 0.9932554960250854.\u001b[0m\n"
     ]
    },
    {
     "data": {
      "application/vnd.jupyter.widget-view+json": {
       "model_id": "ab41c763988e4bca9a305ee3f3e223a0",
       "version_major": 2,
       "version_minor": 0
      },
      "text/plain": [
       "  0%|          | 0/1000 [00:00<?, ?it/s]"
      ]
     },
     "metadata": {},
     "output_type": "display_data"
    },
    {
     "name": "stderr",
     "output_type": "stream",
     "text": [
      "/home/theycallmepeter/anaconda3/envs/pytorch3d/lib/python3.8/site-packages/torch/nn/functional.py:3451: UserWarning: Default upsampling behavior when mode=bilinear is changed to align_corners=False since 0.4.0. Please specify align_corners=True if the old behavior is desired. See the documentation of nn.Upsample for details.\n",
      "  warnings.warn(\n",
      "/mnt/c/Projects/deepstimate/pytorch3d/pytorch3d/transforms/transform3d.py:782: UserWarning: R is not a valid rotation matrix\n",
      "  warnings.warn(msg)\n",
      "\u001b[32m[I 2022-03-20 23:15:58,054]\u001b[0m Trial 54 finished with value: 0.9929518103599548 and parameters: {'ngf': 64, 'n_unit': 193, 'layers': 5, 'lr': 0.011937443041096975, 'beta1': 0.8098093971714666, 'beta2': 0.9612905802889302, 'l2': 0.006314332159308192, 'amsgrad': True}. Best is trial 41 with value: 0.9932554960250854.\u001b[0m\n"
     ]
    },
    {
     "data": {
      "application/vnd.jupyter.widget-view+json": {
       "model_id": "ba773904bc8d4d87a9b915d0fc57a111",
       "version_major": 2,
       "version_minor": 0
      },
      "text/plain": [
       "  0%|          | 0/1000 [00:00<?, ?it/s]"
      ]
     },
     "metadata": {},
     "output_type": "display_data"
    },
    {
     "name": "stderr",
     "output_type": "stream",
     "text": [
      "/home/theycallmepeter/anaconda3/envs/pytorch3d/lib/python3.8/site-packages/torch/nn/functional.py:3451: UserWarning: Default upsampling behavior when mode=bilinear is changed to align_corners=False since 0.4.0. Please specify align_corners=True if the old behavior is desired. See the documentation of nn.Upsample for details.\n",
      "  warnings.warn(\n",
      "/mnt/c/Projects/deepstimate/pytorch3d/pytorch3d/transforms/transform3d.py:782: UserWarning: R is not a valid rotation matrix\n",
      "  warnings.warn(msg)\n",
      "\u001b[32m[I 2022-03-20 23:17:19,606]\u001b[0m Trial 55 finished with value: 0.9797114133834839 and parameters: {'ngf': 64, 'n_unit': 77, 'layers': 5, 'lr': 1.1656771652524108e-05, 'beta1': 0.771925252537874, 'beta2': 0.995777194845338, 'l2': 0.0032005026905838423, 'amsgrad': True}. Best is trial 41 with value: 0.9932554960250854.\u001b[0m\n"
     ]
    },
    {
     "data": {
      "application/vnd.jupyter.widget-view+json": {
       "model_id": "51f9118d74de420e8af2605a819ed49b",
       "version_major": 2,
       "version_minor": 0
      },
      "text/plain": [
       "  0%|          | 0/1000 [00:00<?, ?it/s]"
      ]
     },
     "metadata": {},
     "output_type": "display_data"
    },
    {
     "name": "stderr",
     "output_type": "stream",
     "text": [
      "/home/theycallmepeter/anaconda3/envs/pytorch3d/lib/python3.8/site-packages/torch/nn/functional.py:3451: UserWarning: Default upsampling behavior when mode=bilinear is changed to align_corners=False since 0.4.0. Please specify align_corners=True if the old behavior is desired. See the documentation of nn.Upsample for details.\n",
      "  warnings.warn(\n",
      "/mnt/c/Projects/deepstimate/pytorch3d/pytorch3d/transforms/transform3d.py:782: UserWarning: R is not a valid rotation matrix\n",
      "  warnings.warn(msg)\n",
      "\u001b[32m[I 2022-03-20 23:18:38,737]\u001b[0m Trial 56 finished with value: 0.9929871559143066 and parameters: {'ngf': 64, 'n_unit': 174, 'layers': 3, 'lr': 0.01814522518953311, 'beta1': 0.7044353785519144, 'beta2': 0.970552615021416, 'l2': 0.0018233122746978672, 'amsgrad': True}. Best is trial 41 with value: 0.9932554960250854.\u001b[0m\n"
     ]
    },
    {
     "data": {
      "application/vnd.jupyter.widget-view+json": {
       "model_id": "f7d4d1d6996d4087b323aeb03ee8b9b1",
       "version_major": 2,
       "version_minor": 0
      },
      "text/plain": [
       "  0%|          | 0/1000 [00:00<?, ?it/s]"
      ]
     },
     "metadata": {},
     "output_type": "display_data"
    },
    {
     "name": "stderr",
     "output_type": "stream",
     "text": [
      "/home/theycallmepeter/anaconda3/envs/pytorch3d/lib/python3.8/site-packages/torch/nn/functional.py:3451: UserWarning: Default upsampling behavior when mode=bilinear is changed to align_corners=False since 0.4.0. Please specify align_corners=True if the old behavior is desired. See the documentation of nn.Upsample for details.\n",
      "  warnings.warn(\n",
      "/mnt/c/Projects/deepstimate/pytorch3d/pytorch3d/transforms/transform3d.py:782: UserWarning: R is not a valid rotation matrix\n",
      "  warnings.warn(msg)\n",
      "\u001b[32m[I 2022-03-20 23:20:01,686]\u001b[0m Trial 57 finished with value: 0.992764949798584 and parameters: {'ngf': 64, 'n_unit': 127, 'layers': 5, 'lr': 0.006888552719421658, 'beta1': 0.8964934809798606, 'beta2': 0.9796295300897268, 'l2': 0.005209140645272135, 'amsgrad': True}. Best is trial 41 with value: 0.9932554960250854.\u001b[0m\n"
     ]
    },
    {
     "data": {
      "application/vnd.jupyter.widget-view+json": {
       "model_id": "4222547e54844f9b91ca93b495e0c060",
       "version_major": 2,
       "version_minor": 0
      },
      "text/plain": [
       "  0%|          | 0/1000 [00:00<?, ?it/s]"
      ]
     },
     "metadata": {},
     "output_type": "display_data"
    },
    {
     "name": "stderr",
     "output_type": "stream",
     "text": [
      "/home/theycallmepeter/anaconda3/envs/pytorch3d/lib/python3.8/site-packages/torch/nn/functional.py:3451: UserWarning: Default upsampling behavior when mode=bilinear is changed to align_corners=False since 0.4.0. Please specify align_corners=True if the old behavior is desired. See the documentation of nn.Upsample for details.\n",
      "  warnings.warn(\n",
      "/mnt/c/Projects/deepstimate/pytorch3d/pytorch3d/transforms/transform3d.py:782: UserWarning: R is not a valid rotation matrix\n",
      "  warnings.warn(msg)\n",
      "\u001b[32m[I 2022-03-20 23:21:19,568]\u001b[0m Trial 58 finished with value: 0.9925762414932251 and parameters: {'ngf': 16, 'n_unit': 105, 'layers': 5, 'lr': 0.022399416728991497, 'beta1': 0.7748611895721701, 'beta2': 0.9899276928219825, 'l2': 0.0006603110850594949, 'amsgrad': True}. Best is trial 41 with value: 0.9932554960250854.\u001b[0m\n"
     ]
    },
    {
     "data": {
      "application/vnd.jupyter.widget-view+json": {
       "model_id": "96d2319e422e41a3ae9613852cba76fa",
       "version_major": 2,
       "version_minor": 0
      },
      "text/plain": [
       "  0%|          | 0/1000 [00:00<?, ?it/s]"
      ]
     },
     "metadata": {},
     "output_type": "display_data"
    },
    {
     "name": "stderr",
     "output_type": "stream",
     "text": [
      "/home/theycallmepeter/anaconda3/envs/pytorch3d/lib/python3.8/site-packages/torch/nn/functional.py:3451: UserWarning: Default upsampling behavior when mode=bilinear is changed to align_corners=False since 0.4.0. Please specify align_corners=True if the old behavior is desired. See the documentation of nn.Upsample for details.\n",
      "  warnings.warn(\n",
      "/mnt/c/Projects/deepstimate/pytorch3d/pytorch3d/transforms/transform3d.py:782: UserWarning: R is not a valid rotation matrix\n",
      "  warnings.warn(msg)\n",
      "\u001b[32m[I 2022-03-20 23:22:43,197]\u001b[0m Trial 59 finished with value: 0.9932647943496704 and parameters: {'ngf': 64, 'n_unit': 166, 'layers': 5, 'lr': 0.004564222769404256, 'beta1': 0.6810087116719199, 'beta2': 0.9939375047741432, 'l2': 0.0024382485527597985, 'amsgrad': True}. Best is trial 59 with value: 0.9932647943496704.\u001b[0m\n"
     ]
    },
    {
     "data": {
      "application/vnd.jupyter.widget-view+json": {
       "model_id": "3fad605af5794c37baa11c3fb1cd10ce",
       "version_major": 2,
       "version_minor": 0
      },
      "text/plain": [
       "  0%|          | 0/1000 [00:00<?, ?it/s]"
      ]
     },
     "metadata": {},
     "output_type": "display_data"
    },
    {
     "name": "stderr",
     "output_type": "stream",
     "text": [
      "/home/theycallmepeter/anaconda3/envs/pytorch3d/lib/python3.8/site-packages/torch/nn/functional.py:3451: UserWarning: Default upsampling behavior when mode=bilinear is changed to align_corners=False since 0.4.0. Please specify align_corners=True if the old behavior is desired. See the documentation of nn.Upsample for details.\n",
      "  warnings.warn(\n",
      "/mnt/c/Projects/deepstimate/pytorch3d/pytorch3d/transforms/transform3d.py:782: UserWarning: R is not a valid rotation matrix\n",
      "  warnings.warn(msg)\n",
      "\u001b[32m[I 2022-03-20 23:24:04,771]\u001b[0m Trial 60 finished with value: 0.9887518882751465 and parameters: {'ngf': 64, 'n_unit': 189, 'layers': 5, 'lr': 0.003988239757441398, 'beta1': 0.6873349625052046, 'beta2': 0.9996377919777025, 'l2': 0.000117212299615573, 'amsgrad': True}. Best is trial 59 with value: 0.9932647943496704.\u001b[0m\n"
     ]
    },
    {
     "data": {
      "application/vnd.jupyter.widget-view+json": {
       "model_id": "8ca3612d76b4496387125648bfec05bb",
       "version_major": 2,
       "version_minor": 0
      },
      "text/plain": [
       "  0%|          | 0/1000 [00:00<?, ?it/s]"
      ]
     },
     "metadata": {},
     "output_type": "display_data"
    },
    {
     "name": "stderr",
     "output_type": "stream",
     "text": [
      "/home/theycallmepeter/anaconda3/envs/pytorch3d/lib/python3.8/site-packages/torch/nn/functional.py:3451: UserWarning: Default upsampling behavior when mode=bilinear is changed to align_corners=False since 0.4.0. Please specify align_corners=True if the old behavior is desired. See the documentation of nn.Upsample for details.\n",
      "  warnings.warn(\n",
      "/mnt/c/Projects/deepstimate/pytorch3d/pytorch3d/transforms/transform3d.py:782: UserWarning: R is not a valid rotation matrix\n",
      "  warnings.warn(msg)\n",
      "\u001b[32m[I 2022-03-20 23:25:27,339]\u001b[0m Trial 61 finished with value: 0.9931080341339111 and parameters: {'ngf': 64, 'n_unit': 166, 'layers': 5, 'lr': 0.007542751583833238, 'beta1': 0.6668902632523279, 'beta2': 0.9937148181224555, 'l2': 0.002648573783114915, 'amsgrad': True}. Best is trial 59 with value: 0.9932647943496704.\u001b[0m\n"
     ]
    },
    {
     "data": {
      "application/vnd.jupyter.widget-view+json": {
       "model_id": "02ad8ad2441a45c4b85c641477fc1783",
       "version_major": 2,
       "version_minor": 0
      },
      "text/plain": [
       "  0%|          | 0/1000 [00:00<?, ?it/s]"
      ]
     },
     "metadata": {},
     "output_type": "display_data"
    },
    {
     "name": "stderr",
     "output_type": "stream",
     "text": [
      "/home/theycallmepeter/anaconda3/envs/pytorch3d/lib/python3.8/site-packages/torch/nn/functional.py:3451: UserWarning: Default upsampling behavior when mode=bilinear is changed to align_corners=False since 0.4.0. Please specify align_corners=True if the old behavior is desired. See the documentation of nn.Upsample for details.\n",
      "  warnings.warn(\n",
      "/mnt/c/Projects/deepstimate/pytorch3d/pytorch3d/transforms/transform3d.py:782: UserWarning: R is not a valid rotation matrix\n",
      "  warnings.warn(msg)\n",
      "\u001b[32m[I 2022-03-20 23:26:48,879]\u001b[0m Trial 62 finished with value: 0.9928370118141174 and parameters: {'ngf': 64, 'n_unit': 152, 'layers': 5, 'lr': 0.01334151653428235, 'beta1': 0.8662387423334036, 'beta2': 0.9840789222307378, 'l2': 0.0013118058345726648, 'amsgrad': True}. Best is trial 59 with value: 0.9932647943496704.\u001b[0m\n"
     ]
    },
    {
     "data": {
      "application/vnd.jupyter.widget-view+json": {
       "model_id": "e7254b29a5fe47c7956dac58f027f304",
       "version_major": 2,
       "version_minor": 0
      },
      "text/plain": [
       "  0%|          | 0/1000 [00:00<?, ?it/s]"
      ]
     },
     "metadata": {},
     "output_type": "display_data"
    },
    {
     "name": "stderr",
     "output_type": "stream",
     "text": [
      "/home/theycallmepeter/anaconda3/envs/pytorch3d/lib/python3.8/site-packages/torch/nn/functional.py:3451: UserWarning: Default upsampling behavior when mode=bilinear is changed to align_corners=False since 0.4.0. Please specify align_corners=True if the old behavior is desired. See the documentation of nn.Upsample for details.\n",
      "  warnings.warn(\n",
      "/mnt/c/Projects/deepstimate/pytorch3d/pytorch3d/transforms/transform3d.py:782: UserWarning: R is not a valid rotation matrix\n",
      "  warnings.warn(msg)\n",
      "\u001b[32m[I 2022-03-20 23:28:11,230]\u001b[0m Trial 63 finished with value: 0.9929739236831665 and parameters: {'ngf': 64, 'n_unit': 102, 'layers': 5, 'lr': 0.005146311144349303, 'beta1': 0.611953652776602, 'beta2': 0.9755376739576611, 'l2': 0.0033137984656924284, 'amsgrad': True}. Best is trial 59 with value: 0.9932647943496704.\u001b[0m\n"
     ]
    },
    {
     "data": {
      "application/vnd.jupyter.widget-view+json": {
       "model_id": "ebd9b0cbbd0e4759a6b7082f7a3d2735",
       "version_major": 2,
       "version_minor": 0
      },
      "text/plain": [
       "  0%|          | 0/1000 [00:00<?, ?it/s]"
      ]
     },
     "metadata": {},
     "output_type": "display_data"
    },
    {
     "name": "stderr",
     "output_type": "stream",
     "text": [
      "/home/theycallmepeter/anaconda3/envs/pytorch3d/lib/python3.8/site-packages/torch/nn/functional.py:3451: UserWarning: Default upsampling behavior when mode=bilinear is changed to align_corners=False since 0.4.0. Please specify align_corners=True if the old behavior is desired. See the documentation of nn.Upsample for details.\n",
      "  warnings.warn(\n",
      "/mnt/c/Projects/deepstimate/pytorch3d/pytorch3d/transforms/transform3d.py:782: UserWarning: R is not a valid rotation matrix\n",
      "  warnings.warn(msg)\n",
      "\u001b[32m[I 2022-03-20 23:29:30,187]\u001b[0m Trial 64 finished with value: 0.9929104447364807 and parameters: {'ngf': 64, 'n_unit': 176, 'layers': 5, 'lr': 0.0399508131608804, 'beta1': 0.754543653288114, 'beta2': 0.9876252929221873, 'l2': 0.002080320183313012, 'amsgrad': True}. Best is trial 59 with value: 0.9932647943496704.\u001b[0m\n"
     ]
    },
    {
     "data": {
      "application/vnd.jupyter.widget-view+json": {
       "model_id": "bc8c229e360b4d5dac65eb49fae6f953",
       "version_major": 2,
       "version_minor": 0
      },
      "text/plain": [
       "  0%|          | 0/1000 [00:00<?, ?it/s]"
      ]
     },
     "metadata": {},
     "output_type": "display_data"
    },
    {
     "name": "stderr",
     "output_type": "stream",
     "text": [
      "/home/theycallmepeter/anaconda3/envs/pytorch3d/lib/python3.8/site-packages/torch/nn/functional.py:3451: UserWarning: Default upsampling behavior when mode=bilinear is changed to align_corners=False since 0.4.0. Please specify align_corners=True if the old behavior is desired. See the documentation of nn.Upsample for details.\n",
      "  warnings.warn(\n",
      "/mnt/c/Projects/deepstimate/pytorch3d/pytorch3d/transforms/transform3d.py:782: UserWarning: R is not a valid rotation matrix\n",
      "  warnings.warn(msg)\n",
      "\u001b[32m[I 2022-03-20 23:30:48,463]\u001b[0m Trial 65 finished with value: 0.992906928062439 and parameters: {'ngf': 64, 'n_unit': 162, 'layers': 4, 'lr': 0.027296978273324866, 'beta1': 0.8320781560441146, 'beta2': 0.9951304556410562, 'l2': 0.0009288029047219928, 'amsgrad': True}. Best is trial 59 with value: 0.9932647943496704.\u001b[0m\n"
     ]
    },
    {
     "data": {
      "application/vnd.jupyter.widget-view+json": {
       "model_id": "c0d27ef452b24f1792867be4daf9b723",
       "version_major": 2,
       "version_minor": 0
      },
      "text/plain": [
       "  0%|          | 0/1000 [00:00<?, ?it/s]"
      ]
     },
     "metadata": {},
     "output_type": "display_data"
    },
    {
     "name": "stderr",
     "output_type": "stream",
     "text": [
      "/home/theycallmepeter/anaconda3/envs/pytorch3d/lib/python3.8/site-packages/torch/nn/functional.py:3451: UserWarning: Default upsampling behavior when mode=bilinear is changed to align_corners=False since 0.4.0. Please specify align_corners=True if the old behavior is desired. See the documentation of nn.Upsample for details.\n",
      "  warnings.warn(\n",
      "/mnt/c/Projects/deepstimate/pytorch3d/pytorch3d/transforms/transform3d.py:782: UserWarning: R is not a valid rotation matrix\n",
      "  warnings.warn(msg)\n",
      "\u001b[32m[I 2022-03-20 23:32:10,909]\u001b[0m Trial 66 finished with value: 0.9913443326950073 and parameters: {'ngf': 64, 'n_unit': 200, 'layers': 5, 'lr': 0.001296656064475757, 'beta1': 0.6381105061243897, 'beta2': 0.9912267963567325, 'l2': 0.00999168746900313, 'amsgrad': False}. Best is trial 59 with value: 0.9932647943496704.\u001b[0m\n"
     ]
    },
    {
     "data": {
      "application/vnd.jupyter.widget-view+json": {
       "model_id": "c83e7adeb17b42a1a90dbb12157812ee",
       "version_major": 2,
       "version_minor": 0
      },
      "text/plain": [
       "  0%|          | 0/1000 [00:00<?, ?it/s]"
      ]
     },
     "metadata": {},
     "output_type": "display_data"
    },
    {
     "name": "stderr",
     "output_type": "stream",
     "text": [
      "/home/theycallmepeter/anaconda3/envs/pytorch3d/lib/python3.8/site-packages/torch/nn/functional.py:3451: UserWarning: Default upsampling behavior when mode=bilinear is changed to align_corners=False since 0.4.0. Please specify align_corners=True if the old behavior is desired. See the documentation of nn.Upsample for details.\n",
      "  warnings.warn(\n",
      "/mnt/c/Projects/deepstimate/pytorch3d/pytorch3d/transforms/transform3d.py:782: UserWarning: R is not a valid rotation matrix\n",
      "  warnings.warn(msg)\n",
      "\u001b[32m[I 2022-03-20 23:33:33,781]\u001b[0m Trial 67 finished with value: 0.9929565787315369 and parameters: {'ngf': 64, 'n_unit': 184, 'layers': 5, 'lr': 0.0030617736817595137, 'beta1': 0.7911100750520476, 'beta2': 0.9855398605520029, 'l2': 0.004828842781482664, 'amsgrad': True}. Best is trial 59 with value: 0.9932647943496704.\u001b[0m\n"
     ]
    },
    {
     "data": {
      "application/vnd.jupyter.widget-view+json": {
       "model_id": "d7948e55c2ea4b9c88902e15b7b2ae06",
       "version_major": 2,
       "version_minor": 0
      },
      "text/plain": [
       "  0%|          | 0/1000 [00:00<?, ?it/s]"
      ]
     },
     "metadata": {},
     "output_type": "display_data"
    },
    {
     "name": "stderr",
     "output_type": "stream",
     "text": [
      "/home/theycallmepeter/anaconda3/envs/pytorch3d/lib/python3.8/site-packages/torch/nn/functional.py:3451: UserWarning: Default upsampling behavior when mode=bilinear is changed to align_corners=False since 0.4.0. Please specify align_corners=True if the old behavior is desired. See the documentation of nn.Upsample for details.\n",
      "  warnings.warn(\n",
      "/mnt/c/Projects/deepstimate/pytorch3d/pytorch3d/transforms/transform3d.py:782: UserWarning: R is not a valid rotation matrix\n",
      "  warnings.warn(msg)\n",
      "\u001b[32m[I 2022-03-20 23:34:55,908]\u001b[0m Trial 68 finished with value: 0.9928606748580933 and parameters: {'ngf': 64, 'n_unit': 164, 'layers': 5, 'lr': 0.015166748453741117, 'beta1': 0.7242955473248687, 'beta2': 0.9491458320005491, 'l2': 0.00758429818717052, 'amsgrad': False}. Best is trial 59 with value: 0.9932647943496704.\u001b[0m\n"
     ]
    },
    {
     "data": {
      "application/vnd.jupyter.widget-view+json": {
       "model_id": "8b5f8348010a4eb28ebbb20970f56d6a",
       "version_major": 2,
       "version_minor": 0
      },
      "text/plain": [
       "  0%|          | 0/1000 [00:00<?, ?it/s]"
      ]
     },
     "metadata": {},
     "output_type": "display_data"
    },
    {
     "name": "stderr",
     "output_type": "stream",
     "text": [
      "/home/theycallmepeter/anaconda3/envs/pytorch3d/lib/python3.8/site-packages/torch/nn/functional.py:3451: UserWarning: Default upsampling behavior when mode=bilinear is changed to align_corners=False since 0.4.0. Please specify align_corners=True if the old behavior is desired. See the documentation of nn.Upsample for details.\n",
      "  warnings.warn(\n",
      "/mnt/c/Projects/deepstimate/pytorch3d/pytorch3d/transforms/transform3d.py:782: UserWarning: R is not a valid rotation matrix\n",
      "  warnings.warn(msg)\n",
      "\u001b[32m[I 2022-03-20 23:36:11,650]\u001b[0m Trial 69 finished with value: 0.9907979965209961 and parameters: {'ngf': 16, 'n_unit': 144, 'layers': 4, 'lr': 0.0009516490052373094, 'beta1': 0.8723271059509952, 'beta2': 0.9121678341513654, 'l2': 7.142782849129416e-05, 'amsgrad': False}. Best is trial 59 with value: 0.9932647943496704.\u001b[0m\n"
     ]
    },
    {
     "data": {
      "application/vnd.jupyter.widget-view+json": {
       "model_id": "4e90dec29fc1438f845ab7d9b4b9568e",
       "version_major": 2,
       "version_minor": 0
      },
      "text/plain": [
       "  0%|          | 0/1000 [00:00<?, ?it/s]"
      ]
     },
     "metadata": {},
     "output_type": "display_data"
    },
    {
     "name": "stderr",
     "output_type": "stream",
     "text": [
      "/home/theycallmepeter/anaconda3/envs/pytorch3d/lib/python3.8/site-packages/torch/nn/functional.py:3451: UserWarning: Default upsampling behavior when mode=bilinear is changed to align_corners=False since 0.4.0. Please specify align_corners=True if the old behavior is desired. See the documentation of nn.Upsample for details.\n",
      "  warnings.warn(\n",
      "/mnt/c/Projects/deepstimate/pytorch3d/pytorch3d/transforms/transform3d.py:782: UserWarning: R is not a valid rotation matrix\n",
      "  warnings.warn(msg)\n",
      "\u001b[32m[I 2022-03-20 23:37:31,129]\u001b[0m Trial 70 finished with value: 0.9931830167770386 and parameters: {'ngf': 64, 'n_unit': 155, 'layers': 3, 'lr': 0.07945321441518904, 'beta1': 0.6803692867244169, 'beta2': 0.9690053776061592, 'l2': 0.002479513245840882, 'amsgrad': True}. Best is trial 59 with value: 0.9932647943496704.\u001b[0m\n"
     ]
    },
    {
     "data": {
      "application/vnd.jupyter.widget-view+json": {
       "model_id": "3439cccaf45b41d29ea68b5c067c4403",
       "version_major": 2,
       "version_minor": 0
      },
      "text/plain": [
       "  0%|          | 0/1000 [00:00<?, ?it/s]"
      ]
     },
     "metadata": {},
     "output_type": "display_data"
    },
    {
     "name": "stderr",
     "output_type": "stream",
     "text": [
      "/home/theycallmepeter/anaconda3/envs/pytorch3d/lib/python3.8/site-packages/torch/nn/functional.py:3451: UserWarning: Default upsampling behavior when mode=bilinear is changed to align_corners=False since 0.4.0. Please specify align_corners=True if the old behavior is desired. See the documentation of nn.Upsample for details.\n",
      "  warnings.warn(\n",
      "/mnt/c/Projects/deepstimate/pytorch3d/pytorch3d/transforms/transform3d.py:782: UserWarning: R is not a valid rotation matrix\n",
      "  warnings.warn(msg)\n",
      "\u001b[32m[I 2022-03-20 23:38:50,839]\u001b[0m Trial 71 finished with value: 0.9930288195610046 and parameters: {'ngf': 64, 'n_unit': 175, 'layers': 3, 'lr': 0.08028785979580595, 'beta1': 0.5859654701549935, 'beta2': 0.9790908179829726, 'l2': 0.002539962257197183, 'amsgrad': True}. Best is trial 59 with value: 0.9932647943496704.\u001b[0m\n"
     ]
    },
    {
     "data": {
      "application/vnd.jupyter.widget-view+json": {
       "model_id": "66849004f2b54cc8b148066ef8122d4b",
       "version_major": 2,
       "version_minor": 0
      },
      "text/plain": [
       "  0%|          | 0/1000 [00:00<?, ?it/s]"
      ]
     },
     "metadata": {},
     "output_type": "display_data"
    },
    {
     "name": "stderr",
     "output_type": "stream",
     "text": [
      "/home/theycallmepeter/anaconda3/envs/pytorch3d/lib/python3.8/site-packages/torch/nn/functional.py:3451: UserWarning: Default upsampling behavior when mode=bilinear is changed to align_corners=False since 0.4.0. Please specify align_corners=True if the old behavior is desired. See the documentation of nn.Upsample for details.\n",
      "  warnings.warn(\n",
      "/mnt/c/Projects/deepstimate/pytorch3d/pytorch3d/transforms/transform3d.py:782: UserWarning: R is not a valid rotation matrix\n",
      "  warnings.warn(msg)\n",
      "\u001b[32m[I 2022-03-20 23:40:09,376]\u001b[0m Trial 72 finished with value: 0.9930598735809326 and parameters: {'ngf': 64, 'n_unit': 155, 'layers': 3, 'lr': 0.010434113995341313, 'beta1': 0.6730758441000597, 'beta2': 0.9968399992640002, 'l2': 0.0036362534590183375, 'amsgrad': True}. Best is trial 59 with value: 0.9932647943496704.\u001b[0m\n"
     ]
    },
    {
     "data": {
      "application/vnd.jupyter.widget-view+json": {
       "model_id": "96a08df03d8348358d3b07c2399ab7aa",
       "version_major": 2,
       "version_minor": 0
      },
      "text/plain": [
       "  0%|          | 0/1000 [00:00<?, ?it/s]"
      ]
     },
     "metadata": {},
     "output_type": "display_data"
    },
    {
     "name": "stderr",
     "output_type": "stream",
     "text": [
      "/home/theycallmepeter/anaconda3/envs/pytorch3d/lib/python3.8/site-packages/torch/nn/functional.py:3451: UserWarning: Default upsampling behavior when mode=bilinear is changed to align_corners=False since 0.4.0. Please specify align_corners=True if the old behavior is desired. See the documentation of nn.Upsample for details.\n",
      "  warnings.warn(\n",
      "/mnt/c/Projects/deepstimate/pytorch3d/pytorch3d/transforms/transform3d.py:782: UserWarning: R is not a valid rotation matrix\n",
      "  warnings.warn(msg)\n",
      "\u001b[32m[I 2022-03-20 23:41:25,595]\u001b[0m Trial 73 finished with value: 0.9930357336997986 and parameters: {'ngf': 64, 'n_unit': 116, 'layers': 3, 'lr': 0.04328193519215921, 'beta1': 0.7055432607145653, 'beta2': 0.9837969034519213, 'l2': 0.001514386562646337, 'amsgrad': True}. Best is trial 59 with value: 0.9932647943496704.\u001b[0m\n"
     ]
    },
    {
     "data": {
      "application/vnd.jupyter.widget-view+json": {
       "model_id": "c729e671165540c7a7c0f1ef8cbe73b3",
       "version_major": 2,
       "version_minor": 0
      },
      "text/plain": [
       "  0%|          | 0/1000 [00:00<?, ?it/s]"
      ]
     },
     "metadata": {},
     "output_type": "display_data"
    },
    {
     "name": "stderr",
     "output_type": "stream",
     "text": [
      "/home/theycallmepeter/anaconda3/envs/pytorch3d/lib/python3.8/site-packages/torch/nn/functional.py:3451: UserWarning: Default upsampling behavior when mode=bilinear is changed to align_corners=False since 0.4.0. Please specify align_corners=True if the old behavior is desired. See the documentation of nn.Upsample for details.\n",
      "  warnings.warn(\n",
      "/mnt/c/Projects/deepstimate/pytorch3d/pytorch3d/transforms/transform3d.py:782: UserWarning: R is not a valid rotation matrix\n",
      "  warnings.warn(msg)\n",
      "\u001b[32m[I 2022-03-20 23:42:46,901]\u001b[0m Trial 74 finished with value: 0.9932022094726562 and parameters: {'ngf': 64, 'n_unit': 96, 'layers': 2, 'lr': 0.07232647148697202, 'beta1': 0.741720256656971, 'beta2': 0.9750797359036175, 'l2': 0.0048402070799600785, 'amsgrad': True}. Best is trial 59 with value: 0.9932647943496704.\u001b[0m\n"
     ]
    },
    {
     "data": {
      "application/vnd.jupyter.widget-view+json": {
       "model_id": "8ad6de1fe9114fb78e84c1af945270eb",
       "version_major": 2,
       "version_minor": 0
      },
      "text/plain": [
       "  0%|          | 0/1000 [00:00<?, ?it/s]"
      ]
     },
     "metadata": {},
     "output_type": "display_data"
    },
    {
     "name": "stderr",
     "output_type": "stream",
     "text": [
      "/home/theycallmepeter/anaconda3/envs/pytorch3d/lib/python3.8/site-packages/torch/nn/functional.py:3451: UserWarning: Default upsampling behavior when mode=bilinear is changed to align_corners=False since 0.4.0. Please specify align_corners=True if the old behavior is desired. See the documentation of nn.Upsample for details.\n",
      "  warnings.warn(\n",
      "/mnt/c/Projects/deepstimate/pytorch3d/pytorch3d/transforms/transform3d.py:782: UserWarning: R is not a valid rotation matrix\n",
      "  warnings.warn(msg)\n",
      "\u001b[32m[I 2022-03-20 23:44:08,253]\u001b[0m Trial 75 finished with value: 0.9929892420768738 and parameters: {'ngf': 64, 'n_unit': 92, 'layers': 2, 'lr': 0.024153246493603585, 'beta1': 0.4583152057309874, 'beta2': 0.9743286512336666, 'l2': 0.007301395741554612, 'amsgrad': True}. Best is trial 59 with value: 0.9932647943496704.\u001b[0m\n"
     ]
    },
    {
     "data": {
      "application/vnd.jupyter.widget-view+json": {
       "model_id": "45f5aa712b8c446885fc72b34418e2a2",
       "version_major": 2,
       "version_minor": 0
      },
      "text/plain": [
       "  0%|          | 0/1000 [00:00<?, ?it/s]"
      ]
     },
     "metadata": {},
     "output_type": "display_data"
    },
    {
     "name": "stderr",
     "output_type": "stream",
     "text": [
      "/home/theycallmepeter/anaconda3/envs/pytorch3d/lib/python3.8/site-packages/torch/nn/functional.py:3451: UserWarning: Default upsampling behavior when mode=bilinear is changed to align_corners=False since 0.4.0. Please specify align_corners=True if the old behavior is desired. See the documentation of nn.Upsample for details.\n",
      "  warnings.warn(\n",
      "/mnt/c/Projects/deepstimate/pytorch3d/pytorch3d/transforms/transform3d.py:782: UserWarning: R is not a valid rotation matrix\n",
      "  warnings.warn(msg)\n",
      "\u001b[32m[I 2022-03-20 23:45:29,587]\u001b[0m Trial 76 finished with value: 0.9928821921348572 and parameters: {'ngf': 32, 'n_unit': 82, 'layers': 2, 'lr': 0.008183177925564947, 'beta1': 0.7402297194890849, 'beta2': 0.9919994402308374, 'l2': 0.0051367527842718615, 'amsgrad': False}. Best is trial 59 with value: 0.9932647943496704.\u001b[0m\n"
     ]
    },
    {
     "data": {
      "application/vnd.jupyter.widget-view+json": {
       "model_id": "7be5cfa6ec234c15b137fd24bad73ca2",
       "version_major": 2,
       "version_minor": 0
      },
      "text/plain": [
       "  0%|          | 0/1000 [00:00<?, ?it/s]"
      ]
     },
     "metadata": {},
     "output_type": "display_data"
    },
    {
     "name": "stderr",
     "output_type": "stream",
     "text": [
      "/home/theycallmepeter/anaconda3/envs/pytorch3d/lib/python3.8/site-packages/torch/nn/functional.py:3451: UserWarning: Default upsampling behavior when mode=bilinear is changed to align_corners=False since 0.4.0. Please specify align_corners=True if the old behavior is desired. See the documentation of nn.Upsample for details.\n",
      "  warnings.warn(\n",
      "/mnt/c/Projects/deepstimate/pytorch3d/pytorch3d/transforms/transform3d.py:782: UserWarning: R is not a valid rotation matrix\n",
      "  warnings.warn(msg)\n",
      "\u001b[32m[I 2022-03-20 23:46:47,346]\u001b[0m Trial 77 finished with value: 0.9924591183662415 and parameters: {'ngf': 64, 'n_unit': 61, 'layers': 5, 'lr': 0.0018497405626253197, 'beta1': 0.8180214946520711, 'beta2': 0.9998456850300437, 'l2': 0.0044018926344827946, 'amsgrad': True}. Best is trial 59 with value: 0.9932647943496704.\u001b[0m\n"
     ]
    },
    {
     "data": {
      "application/vnd.jupyter.widget-view+json": {
       "model_id": "4f080281afea49d4a6154edd5c97b87c",
       "version_major": 2,
       "version_minor": 0
      },
      "text/plain": [
       "  0%|          | 0/1000 [00:00<?, ?it/s]"
      ]
     },
     "metadata": {},
     "output_type": "display_data"
    },
    {
     "name": "stderr",
     "output_type": "stream",
     "text": [
      "/home/theycallmepeter/anaconda3/envs/pytorch3d/lib/python3.8/site-packages/torch/nn/functional.py:3451: UserWarning: Default upsampling behavior when mode=bilinear is changed to align_corners=False since 0.4.0. Please specify align_corners=True if the old behavior is desired. See the documentation of nn.Upsample for details.\n",
      "  warnings.warn(\n",
      "/mnt/c/Projects/deepstimate/pytorch3d/pytorch3d/transforms/transform3d.py:782: UserWarning: R is not a valid rotation matrix\n",
      "  warnings.warn(msg)\n",
      "\u001b[32m[I 2022-03-20 23:48:04,850]\u001b[0m Trial 78 finished with value: 0.9932599663734436 and parameters: {'ngf': 64, 'n_unit': 99, 'layers': 5, 'lr': 0.005458214618154852, 'beta1': 0.8498332254056216, 'beta2': 0.9881987782389122, 'l2': 0.0033319673117590174, 'amsgrad': False}. Best is trial 59 with value: 0.9932647943496704.\u001b[0m\n"
     ]
    },
    {
     "data": {
      "application/vnd.jupyter.widget-view+json": {
       "model_id": "79bcf5d6bec34376a0bd8eb4140c65c7",
       "version_major": 2,
       "version_minor": 0
      },
      "text/plain": [
       "  0%|          | 0/1000 [00:00<?, ?it/s]"
      ]
     },
     "metadata": {},
     "output_type": "display_data"
    },
    {
     "name": "stderr",
     "output_type": "stream",
     "text": [
      "/home/theycallmepeter/anaconda3/envs/pytorch3d/lib/python3.8/site-packages/torch/nn/functional.py:3451: UserWarning: Default upsampling behavior when mode=bilinear is changed to align_corners=False since 0.4.0. Please specify align_corners=True if the old behavior is desired. See the documentation of nn.Upsample for details.\n",
      "  warnings.warn(\n",
      "/mnt/c/Projects/deepstimate/pytorch3d/pytorch3d/transforms/transform3d.py:782: UserWarning: R is not a valid rotation matrix\n",
      "  warnings.warn(msg)\n",
      "\u001b[32m[I 2022-03-20 23:49:19,442]\u001b[0m Trial 79 finished with value: 0.9928538799285889 and parameters: {'ngf': 32, 'n_unit': 98, 'layers': 5, 'lr': 0.004693070208377822, 'beta1': 0.8502018551538861, 'beta2': 0.9880503431325566, 'l2': 0.0017970555589580728, 'amsgrad': False}. Best is trial 59 with value: 0.9932647943496704.\u001b[0m\n"
     ]
    },
    {
     "data": {
      "application/vnd.jupyter.widget-view+json": {
       "model_id": "b19695e0f38f468aa2a83aa54b5d8a04",
       "version_major": 2,
       "version_minor": 0
      },
      "text/plain": [
       "  0%|          | 0/1000 [00:00<?, ?it/s]"
      ]
     },
     "metadata": {},
     "output_type": "display_data"
    },
    {
     "name": "stderr",
     "output_type": "stream",
     "text": [
      "/home/theycallmepeter/anaconda3/envs/pytorch3d/lib/python3.8/site-packages/torch/nn/functional.py:3451: UserWarning: Default upsampling behavior when mode=bilinear is changed to align_corners=False since 0.4.0. Please specify align_corners=True if the old behavior is desired. See the documentation of nn.Upsample for details.\n",
      "  warnings.warn(\n",
      "/mnt/c/Projects/deepstimate/pytorch3d/pytorch3d/transforms/transform3d.py:782: UserWarning: R is not a valid rotation matrix\n",
      "  warnings.warn(msg)\n",
      "\u001b[32m[I 2022-03-20 23:50:33,918]\u001b[0m Trial 80 finished with value: 0.9929605722427368 and parameters: {'ngf': 64, 'n_unit': 112, 'layers': 4, 'lr': 0.0025332317395885535, 'beta1': 0.8817782435125635, 'beta2': 0.997096407720972, 'l2': 0.0030756708007130588, 'amsgrad': False}. Best is trial 59 with value: 0.9932647943496704.\u001b[0m\n"
     ]
    },
    {
     "data": {
      "application/vnd.jupyter.widget-view+json": {
       "model_id": "8f71ebf00de044599e0f97b4e8a34268",
       "version_major": 2,
       "version_minor": 0
      },
      "text/plain": [
       "  0%|          | 0/1000 [00:00<?, ?it/s]"
      ]
     },
     "metadata": {},
     "output_type": "display_data"
    },
    {
     "name": "stderr",
     "output_type": "stream",
     "text": [
      "/home/theycallmepeter/anaconda3/envs/pytorch3d/lib/python3.8/site-packages/torch/nn/functional.py:3451: UserWarning: Default upsampling behavior when mode=bilinear is changed to align_corners=False since 0.4.0. Please specify align_corners=True if the old behavior is desired. See the documentation of nn.Upsample for details.\n",
      "  warnings.warn(\n",
      "/mnt/c/Projects/deepstimate/pytorch3d/pytorch3d/transforms/transform3d.py:782: UserWarning: R is not a valid rotation matrix\n",
      "  warnings.warn(msg)\n",
      "\u001b[32m[I 2022-03-20 23:51:51,472]\u001b[0m Trial 81 finished with value: 0.9931479096412659 and parameters: {'ngf': 64, 'n_unit': 100, 'layers': 5, 'lr': 0.012228788769215324, 'beta1': 0.8989495468906701, 'beta2': 0.993021463337325, 'l2': 0.00521901227666669, 'amsgrad': False}. Best is trial 59 with value: 0.9932647943496704.\u001b[0m\n"
     ]
    },
    {
     "data": {
      "application/vnd.jupyter.widget-view+json": {
       "model_id": "085b0409b8c0490e9c4e7269cfc50ad8",
       "version_major": 2,
       "version_minor": 0
      },
      "text/plain": [
       "  0%|          | 0/1000 [00:00<?, ?it/s]"
      ]
     },
     "metadata": {},
     "output_type": "display_data"
    },
    {
     "name": "stderr",
     "output_type": "stream",
     "text": [
      "/home/theycallmepeter/anaconda3/envs/pytorch3d/lib/python3.8/site-packages/torch/nn/functional.py:3451: UserWarning: Default upsampling behavior when mode=bilinear is changed to align_corners=False since 0.4.0. Please specify align_corners=True if the old behavior is desired. See the documentation of nn.Upsample for details.\n",
      "  warnings.warn(\n",
      "/mnt/c/Projects/deepstimate/pytorch3d/pytorch3d/transforms/transform3d.py:782: UserWarning: R is not a valid rotation matrix\n",
      "  warnings.warn(msg)\n",
      "\u001b[32m[I 2022-03-20 23:53:08,944]\u001b[0m Trial 82 finished with value: 0.9931650161743164 and parameters: {'ngf': 64, 'n_unit': 80, 'layers': 5, 'lr': 0.01717738232876192, 'beta1': 0.79462178047412, 'beta2': 0.9894488055301508, 'l2': 0.0021624304055164857, 'amsgrad': False}. Best is trial 59 with value: 0.9932647943496704.\u001b[0m\n"
     ]
    },
    {
     "data": {
      "application/vnd.jupyter.widget-view+json": {
       "model_id": "ad0168aa2a3541f28d0ac5fe3b9e2366",
       "version_major": 2,
       "version_minor": 0
      },
      "text/plain": [
       "  0%|          | 0/1000 [00:00<?, ?it/s]"
      ]
     },
     "metadata": {},
     "output_type": "display_data"
    },
    {
     "name": "stderr",
     "output_type": "stream",
     "text": [
      "/home/theycallmepeter/anaconda3/envs/pytorch3d/lib/python3.8/site-packages/torch/nn/functional.py:3451: UserWarning: Default upsampling behavior when mode=bilinear is changed to align_corners=False since 0.4.0. Please specify align_corners=True if the old behavior is desired. See the documentation of nn.Upsample for details.\n",
      "  warnings.warn(\n",
      "/mnt/c/Projects/deepstimate/pytorch3d/pytorch3d/transforms/transform3d.py:782: UserWarning: R is not a valid rotation matrix\n",
      "  warnings.warn(msg)\n",
      "\u001b[32m[I 2022-03-20 23:54:26,686]\u001b[0m Trial 83 finished with value: 0.9930176138877869 and parameters: {'ngf': 64, 'n_unit': 123, 'layers': 5, 'lr': 0.004426805621455366, 'beta1': 0.8469820176921652, 'beta2': 0.9827990597754522, 'l2': 0.003927365957280056, 'amsgrad': False}. Best is trial 59 with value: 0.9932647943496704.\u001b[0m\n"
     ]
    },
    {
     "data": {
      "application/vnd.jupyter.widget-view+json": {
       "model_id": "b938c0cc5e224ef6a31368be35db9fca",
       "version_major": 2,
       "version_minor": 0
      },
      "text/plain": [
       "  0%|          | 0/1000 [00:00<?, ?it/s]"
      ]
     },
     "metadata": {},
     "output_type": "display_data"
    },
    {
     "name": "stderr",
     "output_type": "stream",
     "text": [
      "/home/theycallmepeter/anaconda3/envs/pytorch3d/lib/python3.8/site-packages/torch/nn/functional.py:3451: UserWarning: Default upsampling behavior when mode=bilinear is changed to align_corners=False since 0.4.0. Please specify align_corners=True if the old behavior is desired. See the documentation of nn.Upsample for details.\n",
      "  warnings.warn(\n",
      "/mnt/c/Projects/deepstimate/pytorch3d/pytorch3d/transforms/transform3d.py:782: UserWarning: R is not a valid rotation matrix\n",
      "  warnings.warn(msg)\n",
      "\u001b[32m[I 2022-03-20 23:55:44,123]\u001b[0m Trial 84 finished with value: 0.9925886392593384 and parameters: {'ngf': 64, 'n_unit': 107, 'layers': 5, 'lr': 0.006420081220833282, 'beta1': 0.7636614112069834, 'beta2': 0.9787216354159111, 'l2': 0.00802361569973488, 'amsgrad': False}. Best is trial 59 with value: 0.9932647943496704.\u001b[0m\n"
     ]
    },
    {
     "data": {
      "application/vnd.jupyter.widget-view+json": {
       "model_id": "db33fd87b4f54aa3a0c26dfc2dab8f5b",
       "version_major": 2,
       "version_minor": 0
      },
      "text/plain": [
       "  0%|          | 0/1000 [00:00<?, ?it/s]"
      ]
     },
     "metadata": {},
     "output_type": "display_data"
    },
    {
     "name": "stderr",
     "output_type": "stream",
     "text": [
      "/home/theycallmepeter/anaconda3/envs/pytorch3d/lib/python3.8/site-packages/torch/nn/functional.py:3451: UserWarning: Default upsampling behavior when mode=bilinear is changed to align_corners=False since 0.4.0. Please specify align_corners=True if the old behavior is desired. See the documentation of nn.Upsample for details.\n",
      "  warnings.warn(\n",
      "/mnt/c/Projects/deepstimate/pytorch3d/pytorch3d/transforms/transform3d.py:782: UserWarning: R is not a valid rotation matrix\n",
      "  warnings.warn(msg)\n",
      "\u001b[32m[I 2022-03-20 23:57:02,000]\u001b[0m Trial 85 finished with value: 0.9929060339927673 and parameters: {'ngf': 64, 'n_unit': 95, 'layers': 5, 'lr': 0.009239899163963948, 'beta1': 0.7196385857812269, 'beta2': 0.9948766752962495, 'l2': 0.0012940597038292314, 'amsgrad': True}. Best is trial 59 with value: 0.9932647943496704.\u001b[0m\n"
     ]
    },
    {
     "data": {
      "application/vnd.jupyter.widget-view+json": {
       "model_id": "2a6f3aaf31d8476eb470da6635cffbcd",
       "version_major": 2,
       "version_minor": 0
      },
      "text/plain": [
       "  0%|          | 0/1000 [00:00<?, ?it/s]"
      ]
     },
     "metadata": {},
     "output_type": "display_data"
    },
    {
     "name": "stderr",
     "output_type": "stream",
     "text": [
      "/home/theycallmepeter/anaconda3/envs/pytorch3d/lib/python3.8/site-packages/torch/nn/functional.py:3451: UserWarning: Default upsampling behavior when mode=bilinear is changed to align_corners=False since 0.4.0. Please specify align_corners=True if the old behavior is desired. See the documentation of nn.Upsample for details.\n",
      "  warnings.warn(\n",
      "/mnt/c/Projects/deepstimate/pytorch3d/pytorch3d/transforms/transform3d.py:782: UserWarning: R is not a valid rotation matrix\n",
      "  warnings.warn(msg)\n",
      "\u001b[32m[I 2022-03-20 23:58:25,984]\u001b[0m Trial 86 finished with value: 0.993177056312561 and parameters: {'ngf': 64, 'n_unit': 75, 'layers': 2, 'lr': 0.016919691794971808, 'beta1': 0.8244739037579838, 'beta2': 0.9865517038908378, 'l2': 0.0030332422755895328, 'amsgrad': True}. Best is trial 59 with value: 0.9932647943496704.\u001b[0m\n"
     ]
    },
    {
     "data": {
      "application/vnd.jupyter.widget-view+json": {
       "model_id": "dd47413641c94477ae31621da3f9521b",
       "version_major": 2,
       "version_minor": 0
      },
      "text/plain": [
       "  0%|          | 0/1000 [00:00<?, ?it/s]"
      ]
     },
     "metadata": {},
     "output_type": "display_data"
    },
    {
     "name": "stderr",
     "output_type": "stream",
     "text": [
      "/home/theycallmepeter/anaconda3/envs/pytorch3d/lib/python3.8/site-packages/torch/nn/functional.py:3451: UserWarning: Default upsampling behavior when mode=bilinear is changed to align_corners=False since 0.4.0. Please specify align_corners=True if the old behavior is desired. See the documentation of nn.Upsample for details.\n",
      "  warnings.warn(\n",
      "/mnt/c/Projects/deepstimate/pytorch3d/pytorch3d/transforms/transform3d.py:782: UserWarning: R is not a valid rotation matrix\n",
      "  warnings.warn(msg)\n",
      "\u001b[32m[I 2022-03-20 23:59:42,694]\u001b[0m Trial 87 finished with value: 0.9926259517669678 and parameters: {'ngf': 32, 'n_unit': 186, 'layers': 5, 'lr': 0.0033221426542103466, 'beta1': 0.7843397090840883, 'beta2': 0.9979986989987396, 'l2': 0.006671898931107611, 'amsgrad': False}. Best is trial 59 with value: 0.9932647943496704.\u001b[0m\n"
     ]
    },
    {
     "data": {
      "application/vnd.jupyter.widget-view+json": {
       "model_id": "69d581bbaf014daf96aa8c14c7579767",
       "version_major": 2,
       "version_minor": 0
      },
      "text/plain": [
       "  0%|          | 0/1000 [00:00<?, ?it/s]"
      ]
     },
     "metadata": {},
     "output_type": "display_data"
    },
    {
     "name": "stderr",
     "output_type": "stream",
     "text": [
      "/home/theycallmepeter/anaconda3/envs/pytorch3d/lib/python3.8/site-packages/torch/nn/functional.py:3451: UserWarning: Default upsampling behavior when mode=bilinear is changed to align_corners=False since 0.4.0. Please specify align_corners=True if the old behavior is desired. See the documentation of nn.Upsample for details.\n",
      "  warnings.warn(\n",
      "/mnt/c/Projects/deepstimate/pytorch3d/pytorch3d/transforms/transform3d.py:782: UserWarning: R is not a valid rotation matrix\n",
      "  warnings.warn(msg)\n",
      "\u001b[32m[I 2022-03-21 00:00:57,244]\u001b[0m Trial 88 finished with value: 0.9931787252426147 and parameters: {'ngf': 16, 'n_unit': 87, 'layers': 5, 'lr': 0.012392490302716313, 'beta1': 0.8058104859930464, 'beta2': 0.9909626158677604, 'l2': 0.004289971497515977, 'amsgrad': True}. Best is trial 59 with value: 0.9932647943496704.\u001b[0m\n"
     ]
    },
    {
     "data": {
      "application/vnd.jupyter.widget-view+json": {
       "model_id": "103fc7475dd8458e94ffb0460b499c02",
       "version_major": 2,
       "version_minor": 0
      },
      "text/plain": [
       "  0%|          | 0/1000 [00:00<?, ?it/s]"
      ]
     },
     "metadata": {},
     "output_type": "display_data"
    },
    {
     "name": "stderr",
     "output_type": "stream",
     "text": [
      "/home/theycallmepeter/anaconda3/envs/pytorch3d/lib/python3.8/site-packages/torch/nn/functional.py:3451: UserWarning: Default upsampling behavior when mode=bilinear is changed to align_corners=False since 0.4.0. Please specify align_corners=True if the old behavior is desired. See the documentation of nn.Upsample for details.\n",
      "  warnings.warn(\n",
      "/mnt/c/Projects/deepstimate/pytorch3d/pytorch3d/transforms/transform3d.py:782: UserWarning: R is not a valid rotation matrix\n",
      "  warnings.warn(msg)\n",
      "\u001b[32m[I 2022-03-21 00:02:16,174]\u001b[0m Trial 89 finished with value: 0.9930278062820435 and parameters: {'ngf': 64, 'n_unit': 194, 'layers': 5, 'lr': 0.03168050131109059, 'beta1': 0.6566351719476635, 'beta2': 0.9767795242629864, 'l2': 0.005553865452412144, 'amsgrad': True}. Best is trial 59 with value: 0.9932647943496704.\u001b[0m\n"
     ]
    },
    {
     "data": {
      "application/vnd.jupyter.widget-view+json": {
       "model_id": "3b642b1943ab4c57aa775c2f2213c1f8",
       "version_major": 2,
       "version_minor": 0
      },
      "text/plain": [
       "  0%|          | 0/1000 [00:00<?, ?it/s]"
      ]
     },
     "metadata": {},
     "output_type": "display_data"
    },
    {
     "name": "stderr",
     "output_type": "stream",
     "text": [
      "/home/theycallmepeter/anaconda3/envs/pytorch3d/lib/python3.8/site-packages/torch/nn/functional.py:3451: UserWarning: Default upsampling behavior when mode=bilinear is changed to align_corners=False since 0.4.0. Please specify align_corners=True if the old behavior is desired. See the documentation of nn.Upsample for details.\n",
      "  warnings.warn(\n",
      "/mnt/c/Projects/deepstimate/pytorch3d/pytorch3d/transforms/transform3d.py:782: UserWarning: R is not a valid rotation matrix\n",
      "  warnings.warn(msg)\n",
      "\u001b[32m[I 2022-03-21 00:03:34,920]\u001b[0m Trial 90 finished with value: 0.9931297898292542 and parameters: {'ngf': 64, 'n_unit': 180, 'layers': 5, 'lr': 0.06484039154439075, 'beta1': 0.7343424270171619, 'beta2': 0.9818631968938326, 'l2': 0.0021562793987690296, 'amsgrad': False}. Best is trial 59 with value: 0.9932647943496704.\u001b[0m\n"
     ]
    },
    {
     "data": {
      "application/vnd.jupyter.widget-view+json": {
       "model_id": "9c856a41cfe3402bac37ad206d4cfb2f",
       "version_major": 2,
       "version_minor": 0
      },
      "text/plain": [
       "  0%|          | 0/1000 [00:00<?, ?it/s]"
      ]
     },
     "metadata": {},
     "output_type": "display_data"
    },
    {
     "name": "stderr",
     "output_type": "stream",
     "text": [
      "/home/theycallmepeter/anaconda3/envs/pytorch3d/lib/python3.8/site-packages/torch/nn/functional.py:3451: UserWarning: Default upsampling behavior when mode=bilinear is changed to align_corners=False since 0.4.0. Please specify align_corners=True if the old behavior is desired. See the documentation of nn.Upsample for details.\n",
      "  warnings.warn(\n",
      "/mnt/c/Projects/deepstimate/pytorch3d/pytorch3d/transforms/transform3d.py:782: UserWarning: R is not a valid rotation matrix\n",
      "  warnings.warn(msg)\n",
      "\u001b[32m[I 2022-03-21 00:04:51,681]\u001b[0m Trial 91 finished with value: 0.9931127429008484 and parameters: {'ngf': 64, 'n_unit': 157, 'layers': 3, 'lr': 0.09204660658783964, 'beta1': 0.681916289601639, 'beta2': 0.9676118493429885, 'l2': 0.0027087570398614392, 'amsgrad': True}. Best is trial 59 with value: 0.9932647943496704.\u001b[0m\n"
     ]
    },
    {
     "data": {
      "application/vnd.jupyter.widget-view+json": {
       "model_id": "d1539aaf1058471f99794433530b8779",
       "version_major": 2,
       "version_minor": 0
      },
      "text/plain": [
       "  0%|          | 0/1000 [00:00<?, ?it/s]"
      ]
     },
     "metadata": {},
     "output_type": "display_data"
    },
    {
     "name": "stderr",
     "output_type": "stream",
     "text": [
      "/home/theycallmepeter/anaconda3/envs/pytorch3d/lib/python3.8/site-packages/torch/nn/functional.py:3451: UserWarning: Default upsampling behavior when mode=bilinear is changed to align_corners=False since 0.4.0. Please specify align_corners=True if the old behavior is desired. See the documentation of nn.Upsample for details.\n",
      "  warnings.warn(\n",
      "/mnt/c/Projects/deepstimate/pytorch3d/pytorch3d/transforms/transform3d.py:782: UserWarning: R is not a valid rotation matrix\n",
      "  warnings.warn(msg)\n",
      "\u001b[32m[I 2022-03-21 00:06:13,842]\u001b[0m Trial 92 finished with value: 0.9931573271751404 and parameters: {'ngf': 64, 'n_unit': 171, 'layers': 2, 'lr': 0.06692723141676638, 'beta1': 0.7078548537535281, 'beta2': 0.9714252859434566, 'l2': 0.003409085120521884, 'amsgrad': True}. Best is trial 59 with value: 0.9932647943496704.\u001b[0m\n"
     ]
    },
    {
     "data": {
      "application/vnd.jupyter.widget-view+json": {
       "model_id": "2cf620005fde45aebbbd4aef8756d1a8",
       "version_major": 2,
       "version_minor": 0
      },
      "text/plain": [
       "  0%|          | 0/1000 [00:00<?, ?it/s]"
      ]
     },
     "metadata": {},
     "output_type": "display_data"
    },
    {
     "name": "stderr",
     "output_type": "stream",
     "text": [
      "/home/theycallmepeter/anaconda3/envs/pytorch3d/lib/python3.8/site-packages/torch/nn/functional.py:3451: UserWarning: Default upsampling behavior when mode=bilinear is changed to align_corners=False since 0.4.0. Please specify align_corners=True if the old behavior is desired. See the documentation of nn.Upsample for details.\n",
      "  warnings.warn(\n",
      "/mnt/c/Projects/deepstimate/pytorch3d/pytorch3d/transforms/transform3d.py:782: UserWarning: R is not a valid rotation matrix\n",
      "  warnings.warn(msg)\n",
      "\u001b[32m[I 2022-03-21 00:07:35,687]\u001b[0m Trial 93 finished with value: 0.9932655692100525 and parameters: {'ngf': 64, 'n_unit': 167, 'layers': 2, 'lr': 0.04165803794830159, 'beta1': 0.7482115163186268, 'beta2': 0.9595019689796743, 'l2': 0.0023515772552477328, 'amsgrad': True}. Best is trial 93 with value: 0.9932655692100525.\u001b[0m\n"
     ]
    },
    {
     "data": {
      "application/vnd.jupyter.widget-view+json": {
       "model_id": "4e81b18dab0c4d3caa4dc28ff1f58fb1",
       "version_major": 2,
       "version_minor": 0
      },
      "text/plain": [
       "  0%|          | 0/1000 [00:00<?, ?it/s]"
      ]
     },
     "metadata": {},
     "output_type": "display_data"
    },
    {
     "name": "stderr",
     "output_type": "stream",
     "text": [
      "/home/theycallmepeter/anaconda3/envs/pytorch3d/lib/python3.8/site-packages/torch/nn/functional.py:3451: UserWarning: Default upsampling behavior when mode=bilinear is changed to align_corners=False since 0.4.0. Please specify align_corners=True if the old behavior is desired. See the documentation of nn.Upsample for details.\n",
      "  warnings.warn(\n",
      "/mnt/c/Projects/deepstimate/pytorch3d/pytorch3d/transforms/transform3d.py:782: UserWarning: R is not a valid rotation matrix\n",
      "  warnings.warn(msg)\n",
      "\u001b[32m[I 2022-03-21 00:08:57,423]\u001b[0m Trial 94 finished with value: 0.9929707646369934 and parameters: {'ngf': 64, 'n_unit': 36, 'layers': 2, 'lr': 0.046363629030703624, 'beta1': 0.7465630028181766, 'beta2': 0.9565012143633245, 'l2': 0.001810346867041535, 'amsgrad': True}. Best is trial 93 with value: 0.9932655692100525.\u001b[0m\n"
     ]
    },
    {
     "data": {
      "application/vnd.jupyter.widget-view+json": {
       "model_id": "8ae5cfbed0094ecab480e1fc911fcdfd",
       "version_major": 2,
       "version_minor": 0
      },
      "text/plain": [
       "  0%|          | 0/1000 [00:00<?, ?it/s]"
      ]
     },
     "metadata": {},
     "output_type": "display_data"
    },
    {
     "name": "stderr",
     "output_type": "stream",
     "text": [
      "/home/theycallmepeter/anaconda3/envs/pytorch3d/lib/python3.8/site-packages/torch/nn/functional.py:3451: UserWarning: Default upsampling behavior when mode=bilinear is changed to align_corners=False since 0.4.0. Please specify align_corners=True if the old behavior is desired. See the documentation of nn.Upsample for details.\n",
      "  warnings.warn(\n",
      "/mnt/c/Projects/deepstimate/pytorch3d/pytorch3d/transforms/transform3d.py:782: UserWarning: R is not a valid rotation matrix\n",
      "  warnings.warn(msg)\n",
      "\u001b[32m[I 2022-03-21 00:10:19,868]\u001b[0m Trial 95 finished with value: 0.9931382536888123 and parameters: {'ngf': 64, 'n_unit': 167, 'layers': 2, 'lr': 0.036051634193089564, 'beta1': 0.8340945138620078, 'beta2': 0.9619570396113895, 'l2': 0.0015246467684877044, 'amsgrad': True}. Best is trial 93 with value: 0.9932655692100525.\u001b[0m\n"
     ]
    },
    {
     "data": {
      "application/vnd.jupyter.widget-view+json": {
       "model_id": "c7876d0cdbf14affbf3bd30cfcd11ab3",
       "version_major": 2,
       "version_minor": 0
      },
      "text/plain": [
       "  0%|          | 0/1000 [00:00<?, ?it/s]"
      ]
     },
     "metadata": {},
     "output_type": "display_data"
    },
    {
     "name": "stderr",
     "output_type": "stream",
     "text": [
      "/home/theycallmepeter/anaconda3/envs/pytorch3d/lib/python3.8/site-packages/torch/nn/functional.py:3451: UserWarning: Default upsampling behavior when mode=bilinear is changed to align_corners=False since 0.4.0. Please specify align_corners=True if the old behavior is desired. See the documentation of nn.Upsample for details.\n",
      "  warnings.warn(\n",
      "/mnt/c/Projects/deepstimate/pytorch3d/pytorch3d/transforms/transform3d.py:782: UserWarning: R is not a valid rotation matrix\n",
      "  warnings.warn(msg)\n",
      "\u001b[32m[I 2022-03-21 00:11:47,308]\u001b[0m Trial 96 finished with value: 0.9929894208908081 and parameters: {'ngf': 64, 'n_unit': 174, 'layers': 2, 'lr': 0.02744881508724865, 'beta1': 0.8780639740658238, 'beta2': 0.9590546194947107, 'l2': 0.0010833290455474654, 'amsgrad': True}. Best is trial 93 with value: 0.9932655692100525.\u001b[0m\n"
     ]
    },
    {
     "data": {
      "application/vnd.jupyter.widget-view+json": {
       "model_id": "1f01ffc831144209aa9b49cd156700fb",
       "version_major": 2,
       "version_minor": 0
      },
      "text/plain": [
       "  0%|          | 0/1000 [00:00<?, ?it/s]"
      ]
     },
     "metadata": {},
     "output_type": "display_data"
    },
    {
     "name": "stderr",
     "output_type": "stream",
     "text": [
      "/home/theycallmepeter/anaconda3/envs/pytorch3d/lib/python3.8/site-packages/torch/nn/functional.py:3451: UserWarning: Default upsampling behavior when mode=bilinear is changed to align_corners=False since 0.4.0. Please specify align_corners=True if the old behavior is desired. See the documentation of nn.Upsample for details.\n",
      "  warnings.warn(\n",
      "/mnt/c/Projects/deepstimate/pytorch3d/pytorch3d/transforms/transform3d.py:782: UserWarning: R is not a valid rotation matrix\n",
      "  warnings.warn(msg)\n",
      "\u001b[32m[I 2022-03-21 00:13:08,085]\u001b[0m Trial 97 finished with value: 0.9932336807250977 and parameters: {'ngf': 32, 'n_unit': 189, 'layers': 5, 'lr': 0.020687859697197487, 'beta1': 0.3088508540835634, 'beta2': 0.9503969481083173, 'l2': 0.003705625945823131, 'amsgrad': True}. Best is trial 93 with value: 0.9932655692100525.\u001b[0m\n"
     ]
    },
    {
     "data": {
      "application/vnd.jupyter.widget-view+json": {
       "model_id": "a807bf02448f41079ee97cb6d8709448",
       "version_major": 2,
       "version_minor": 0
      },
      "text/plain": [
       "  0%|          | 0/1000 [00:00<?, ?it/s]"
      ]
     },
     "metadata": {},
     "output_type": "display_data"
    },
    {
     "name": "stderr",
     "output_type": "stream",
     "text": [
      "/home/theycallmepeter/anaconda3/envs/pytorch3d/lib/python3.8/site-packages/torch/nn/functional.py:3451: UserWarning: Default upsampling behavior when mode=bilinear is changed to align_corners=False since 0.4.0. Please specify align_corners=True if the old behavior is desired. See the documentation of nn.Upsample for details.\n",
      "  warnings.warn(\n",
      "/mnt/c/Projects/deepstimate/pytorch3d/pytorch3d/transforms/transform3d.py:782: UserWarning: R is not a valid rotation matrix\n",
      "  warnings.warn(msg)\n",
      "\u001b[32m[I 2022-03-21 00:14:29,210]\u001b[0m Trial 98 finished with value: 0.9931749701499939 and parameters: {'ngf': 32, 'n_unit': 190, 'layers': 5, 'lr': 0.047764572607496204, 'beta1': 0.2925928444896003, 'beta2': 0.9423129815061778, 'l2': 0.00374660157737859, 'amsgrad': True}. Best is trial 93 with value: 0.9932655692100525.\u001b[0m\n"
     ]
    },
    {
     "data": {
      "application/vnd.jupyter.widget-view+json": {
       "model_id": "dca659b32ae141fca135899666feb557",
       "version_major": 2,
       "version_minor": 0
      },
      "text/plain": [
       "  0%|          | 0/1000 [00:00<?, ?it/s]"
      ]
     },
     "metadata": {},
     "output_type": "display_data"
    },
    {
     "name": "stderr",
     "output_type": "stream",
     "text": [
      "/home/theycallmepeter/anaconda3/envs/pytorch3d/lib/python3.8/site-packages/torch/nn/functional.py:3451: UserWarning: Default upsampling behavior when mode=bilinear is changed to align_corners=False since 0.4.0. Please specify align_corners=True if the old behavior is desired. See the documentation of nn.Upsample for details.\n",
      "  warnings.warn(\n",
      "/mnt/c/Projects/deepstimate/pytorch3d/pytorch3d/transforms/transform3d.py:782: UserWarning: R is not a valid rotation matrix\n",
      "  warnings.warn(msg)\n",
      "\u001b[32m[I 2022-03-21 00:15:45,579]\u001b[0m Trial 99 finished with value: 0.9921660423278809 and parameters: {'ngf': 32, 'n_unit': 200, 'layers': 5, 'lr': 0.01926505354109533, 'beta1': 0.3320264541266975, 'beta2': 0.9418698177134719, 'l2': 0.0001835037250424483, 'amsgrad': False}. Best is trial 93 with value: 0.9932655692100525.\u001b[0m\n"
     ]
    }
   ],
   "source": [
    "# optuna optimization created following https://towardsdatascience.com/hyperparameter-tuning-of-neural-networks-with-optuna-and-pytorch-22e179efc837\n",
    "study = optuna.create_study(direction=\"maximize\", sampler=optuna.samplers.TPESampler())\n",
    "study.optimize(objective, n_trials=100)"
   ]
  },
  {
   "cell_type": "code",
   "execution_count": 42,
   "metadata": {},
   "outputs": [
    {
     "name": "stdout",
     "output_type": "stream",
     "text": [
      "ngf: 64\n",
      "n_unit: 167\n",
      "layers: 2\n",
      "lr: 0.04165803794830159\n",
      "beta1: 0.7482115163186268\n",
      "beta2: 0.9595019689796743\n",
      "l2: 0.0023515772552477328\n",
      "amsgrad: True\n"
     ]
    }
   ],
   "source": [
    "best_trial = study.best_trial\n",
    "\n",
    "for key, value in best_trial.params.items():\n",
    "    print(\"{}: {}\".format(key, value))"
   ]
  },
  {
   "cell_type": "code",
   "execution_count": 43,
   "metadata": {},
   "outputs": [
    {
     "name": "stderr",
     "output_type": "stream",
     "text": [
      "\u001b[33m[W 2022-03-21 00:20:29,751]\u001b[0m You need to set up the pruning feature to utilize `plot_intermediate_values()`\u001b[0m\n"
     ]
    },
    {
     "data": {
      "application/vnd.plotly.v1+json": {
       "config": {
        "plotlyServerURL": "https://plot.ly"
       },
       "data": [],
       "layout": {
        "showlegend": false,
        "template": {
         "data": {
          "bar": [
           {
            "error_x": {
             "color": "#2a3f5f"
            },
            "error_y": {
             "color": "#2a3f5f"
            },
            "marker": {
             "line": {
              "color": "#E5ECF6",
              "width": 0.5
             },
             "pattern": {
              "fillmode": "overlay",
              "size": 10,
              "solidity": 0.2
             }
            },
            "type": "bar"
           }
          ],
          "barpolar": [
           {
            "marker": {
             "line": {
              "color": "#E5ECF6",
              "width": 0.5
             },
             "pattern": {
              "fillmode": "overlay",
              "size": 10,
              "solidity": 0.2
             }
            },
            "type": "barpolar"
           }
          ],
          "carpet": [
           {
            "aaxis": {
             "endlinecolor": "#2a3f5f",
             "gridcolor": "white",
             "linecolor": "white",
             "minorgridcolor": "white",
             "startlinecolor": "#2a3f5f"
            },
            "baxis": {
             "endlinecolor": "#2a3f5f",
             "gridcolor": "white",
             "linecolor": "white",
             "minorgridcolor": "white",
             "startlinecolor": "#2a3f5f"
            },
            "type": "carpet"
           }
          ],
          "choropleth": [
           {
            "colorbar": {
             "outlinewidth": 0,
             "ticks": ""
            },
            "type": "choropleth"
           }
          ],
          "contour": [
           {
            "colorbar": {
             "outlinewidth": 0,
             "ticks": ""
            },
            "colorscale": [
             [
              0,
              "#0d0887"
             ],
             [
              0.1111111111111111,
              "#46039f"
             ],
             [
              0.2222222222222222,
              "#7201a8"
             ],
             [
              0.3333333333333333,
              "#9c179e"
             ],
             [
              0.4444444444444444,
              "#bd3786"
             ],
             [
              0.5555555555555556,
              "#d8576b"
             ],
             [
              0.6666666666666666,
              "#ed7953"
             ],
             [
              0.7777777777777778,
              "#fb9f3a"
             ],
             [
              0.8888888888888888,
              "#fdca26"
             ],
             [
              1,
              "#f0f921"
             ]
            ],
            "type": "contour"
           }
          ],
          "contourcarpet": [
           {
            "colorbar": {
             "outlinewidth": 0,
             "ticks": ""
            },
            "type": "contourcarpet"
           }
          ],
          "heatmap": [
           {
            "colorbar": {
             "outlinewidth": 0,
             "ticks": ""
            },
            "colorscale": [
             [
              0,
              "#0d0887"
             ],
             [
              0.1111111111111111,
              "#46039f"
             ],
             [
              0.2222222222222222,
              "#7201a8"
             ],
             [
              0.3333333333333333,
              "#9c179e"
             ],
             [
              0.4444444444444444,
              "#bd3786"
             ],
             [
              0.5555555555555556,
              "#d8576b"
             ],
             [
              0.6666666666666666,
              "#ed7953"
             ],
             [
              0.7777777777777778,
              "#fb9f3a"
             ],
             [
              0.8888888888888888,
              "#fdca26"
             ],
             [
              1,
              "#f0f921"
             ]
            ],
            "type": "heatmap"
           }
          ],
          "heatmapgl": [
           {
            "colorbar": {
             "outlinewidth": 0,
             "ticks": ""
            },
            "colorscale": [
             [
              0,
              "#0d0887"
             ],
             [
              0.1111111111111111,
              "#46039f"
             ],
             [
              0.2222222222222222,
              "#7201a8"
             ],
             [
              0.3333333333333333,
              "#9c179e"
             ],
             [
              0.4444444444444444,
              "#bd3786"
             ],
             [
              0.5555555555555556,
              "#d8576b"
             ],
             [
              0.6666666666666666,
              "#ed7953"
             ],
             [
              0.7777777777777778,
              "#fb9f3a"
             ],
             [
              0.8888888888888888,
              "#fdca26"
             ],
             [
              1,
              "#f0f921"
             ]
            ],
            "type": "heatmapgl"
           }
          ],
          "histogram": [
           {
            "marker": {
             "pattern": {
              "fillmode": "overlay",
              "size": 10,
              "solidity": 0.2
             }
            },
            "type": "histogram"
           }
          ],
          "histogram2d": [
           {
            "colorbar": {
             "outlinewidth": 0,
             "ticks": ""
            },
            "colorscale": [
             [
              0,
              "#0d0887"
             ],
             [
              0.1111111111111111,
              "#46039f"
             ],
             [
              0.2222222222222222,
              "#7201a8"
             ],
             [
              0.3333333333333333,
              "#9c179e"
             ],
             [
              0.4444444444444444,
              "#bd3786"
             ],
             [
              0.5555555555555556,
              "#d8576b"
             ],
             [
              0.6666666666666666,
              "#ed7953"
             ],
             [
              0.7777777777777778,
              "#fb9f3a"
             ],
             [
              0.8888888888888888,
              "#fdca26"
             ],
             [
              1,
              "#f0f921"
             ]
            ],
            "type": "histogram2d"
           }
          ],
          "histogram2dcontour": [
           {
            "colorbar": {
             "outlinewidth": 0,
             "ticks": ""
            },
            "colorscale": [
             [
              0,
              "#0d0887"
             ],
             [
              0.1111111111111111,
              "#46039f"
             ],
             [
              0.2222222222222222,
              "#7201a8"
             ],
             [
              0.3333333333333333,
              "#9c179e"
             ],
             [
              0.4444444444444444,
              "#bd3786"
             ],
             [
              0.5555555555555556,
              "#d8576b"
             ],
             [
              0.6666666666666666,
              "#ed7953"
             ],
             [
              0.7777777777777778,
              "#fb9f3a"
             ],
             [
              0.8888888888888888,
              "#fdca26"
             ],
             [
              1,
              "#f0f921"
             ]
            ],
            "type": "histogram2dcontour"
           }
          ],
          "mesh3d": [
           {
            "colorbar": {
             "outlinewidth": 0,
             "ticks": ""
            },
            "type": "mesh3d"
           }
          ],
          "parcoords": [
           {
            "line": {
             "colorbar": {
              "outlinewidth": 0,
              "ticks": ""
             }
            },
            "type": "parcoords"
           }
          ],
          "pie": [
           {
            "automargin": true,
            "type": "pie"
           }
          ],
          "scatter": [
           {
            "marker": {
             "colorbar": {
              "outlinewidth": 0,
              "ticks": ""
             }
            },
            "type": "scatter"
           }
          ],
          "scatter3d": [
           {
            "line": {
             "colorbar": {
              "outlinewidth": 0,
              "ticks": ""
             }
            },
            "marker": {
             "colorbar": {
              "outlinewidth": 0,
              "ticks": ""
             }
            },
            "type": "scatter3d"
           }
          ],
          "scattercarpet": [
           {
            "marker": {
             "colorbar": {
              "outlinewidth": 0,
              "ticks": ""
             }
            },
            "type": "scattercarpet"
           }
          ],
          "scattergeo": [
           {
            "marker": {
             "colorbar": {
              "outlinewidth": 0,
              "ticks": ""
             }
            },
            "type": "scattergeo"
           }
          ],
          "scattergl": [
           {
            "marker": {
             "colorbar": {
              "outlinewidth": 0,
              "ticks": ""
             }
            },
            "type": "scattergl"
           }
          ],
          "scattermapbox": [
           {
            "marker": {
             "colorbar": {
              "outlinewidth": 0,
              "ticks": ""
             }
            },
            "type": "scattermapbox"
           }
          ],
          "scatterpolar": [
           {
            "marker": {
             "colorbar": {
              "outlinewidth": 0,
              "ticks": ""
             }
            },
            "type": "scatterpolar"
           }
          ],
          "scatterpolargl": [
           {
            "marker": {
             "colorbar": {
              "outlinewidth": 0,
              "ticks": ""
             }
            },
            "type": "scatterpolargl"
           }
          ],
          "scatterternary": [
           {
            "marker": {
             "colorbar": {
              "outlinewidth": 0,
              "ticks": ""
             }
            },
            "type": "scatterternary"
           }
          ],
          "surface": [
           {
            "colorbar": {
             "outlinewidth": 0,
             "ticks": ""
            },
            "colorscale": [
             [
              0,
              "#0d0887"
             ],
             [
              0.1111111111111111,
              "#46039f"
             ],
             [
              0.2222222222222222,
              "#7201a8"
             ],
             [
              0.3333333333333333,
              "#9c179e"
             ],
             [
              0.4444444444444444,
              "#bd3786"
             ],
             [
              0.5555555555555556,
              "#d8576b"
             ],
             [
              0.6666666666666666,
              "#ed7953"
             ],
             [
              0.7777777777777778,
              "#fb9f3a"
             ],
             [
              0.8888888888888888,
              "#fdca26"
             ],
             [
              1,
              "#f0f921"
             ]
            ],
            "type": "surface"
           }
          ],
          "table": [
           {
            "cells": {
             "fill": {
              "color": "#EBF0F8"
             },
             "line": {
              "color": "white"
             }
            },
            "header": {
             "fill": {
              "color": "#C8D4E3"
             },
             "line": {
              "color": "white"
             }
            },
            "type": "table"
           }
          ]
         },
         "layout": {
          "annotationdefaults": {
           "arrowcolor": "#2a3f5f",
           "arrowhead": 0,
           "arrowwidth": 1
          },
          "autotypenumbers": "strict",
          "coloraxis": {
           "colorbar": {
            "outlinewidth": 0,
            "ticks": ""
           }
          },
          "colorscale": {
           "diverging": [
            [
             0,
             "#8e0152"
            ],
            [
             0.1,
             "#c51b7d"
            ],
            [
             0.2,
             "#de77ae"
            ],
            [
             0.3,
             "#f1b6da"
            ],
            [
             0.4,
             "#fde0ef"
            ],
            [
             0.5,
             "#f7f7f7"
            ],
            [
             0.6,
             "#e6f5d0"
            ],
            [
             0.7,
             "#b8e186"
            ],
            [
             0.8,
             "#7fbc41"
            ],
            [
             0.9,
             "#4d9221"
            ],
            [
             1,
             "#276419"
            ]
           ],
           "sequential": [
            [
             0,
             "#0d0887"
            ],
            [
             0.1111111111111111,
             "#46039f"
            ],
            [
             0.2222222222222222,
             "#7201a8"
            ],
            [
             0.3333333333333333,
             "#9c179e"
            ],
            [
             0.4444444444444444,
             "#bd3786"
            ],
            [
             0.5555555555555556,
             "#d8576b"
            ],
            [
             0.6666666666666666,
             "#ed7953"
            ],
            [
             0.7777777777777778,
             "#fb9f3a"
            ],
            [
             0.8888888888888888,
             "#fdca26"
            ],
            [
             1,
             "#f0f921"
            ]
           ],
           "sequentialminus": [
            [
             0,
             "#0d0887"
            ],
            [
             0.1111111111111111,
             "#46039f"
            ],
            [
             0.2222222222222222,
             "#7201a8"
            ],
            [
             0.3333333333333333,
             "#9c179e"
            ],
            [
             0.4444444444444444,
             "#bd3786"
            ],
            [
             0.5555555555555556,
             "#d8576b"
            ],
            [
             0.6666666666666666,
             "#ed7953"
            ],
            [
             0.7777777777777778,
             "#fb9f3a"
            ],
            [
             0.8888888888888888,
             "#fdca26"
            ],
            [
             1,
             "#f0f921"
            ]
           ]
          },
          "colorway": [
           "#636efa",
           "#EF553B",
           "#00cc96",
           "#ab63fa",
           "#FFA15A",
           "#19d3f3",
           "#FF6692",
           "#B6E880",
           "#FF97FF",
           "#FECB52"
          ],
          "font": {
           "color": "#2a3f5f"
          },
          "geo": {
           "bgcolor": "white",
           "lakecolor": "white",
           "landcolor": "#E5ECF6",
           "showlakes": true,
           "showland": true,
           "subunitcolor": "white"
          },
          "hoverlabel": {
           "align": "left"
          },
          "hovermode": "closest",
          "mapbox": {
           "style": "light"
          },
          "paper_bgcolor": "white",
          "plot_bgcolor": "#E5ECF6",
          "polar": {
           "angularaxis": {
            "gridcolor": "white",
            "linecolor": "white",
            "ticks": ""
           },
           "bgcolor": "#E5ECF6",
           "radialaxis": {
            "gridcolor": "white",
            "linecolor": "white",
            "ticks": ""
           }
          },
          "scene": {
           "xaxis": {
            "backgroundcolor": "#E5ECF6",
            "gridcolor": "white",
            "gridwidth": 2,
            "linecolor": "white",
            "showbackground": true,
            "ticks": "",
            "zerolinecolor": "white"
           },
           "yaxis": {
            "backgroundcolor": "#E5ECF6",
            "gridcolor": "white",
            "gridwidth": 2,
            "linecolor": "white",
            "showbackground": true,
            "ticks": "",
            "zerolinecolor": "white"
           },
           "zaxis": {
            "backgroundcolor": "#E5ECF6",
            "gridcolor": "white",
            "gridwidth": 2,
            "linecolor": "white",
            "showbackground": true,
            "ticks": "",
            "zerolinecolor": "white"
           }
          },
          "shapedefaults": {
           "line": {
            "color": "#2a3f5f"
           }
          },
          "ternary": {
           "aaxis": {
            "gridcolor": "white",
            "linecolor": "white",
            "ticks": ""
           },
           "baxis": {
            "gridcolor": "white",
            "linecolor": "white",
            "ticks": ""
           },
           "bgcolor": "#E5ECF6",
           "caxis": {
            "gridcolor": "white",
            "linecolor": "white",
            "ticks": ""
           }
          },
          "title": {
           "x": 0.05
          },
          "xaxis": {
           "automargin": true,
           "gridcolor": "white",
           "linecolor": "white",
           "ticks": "",
           "title": {
            "standoff": 15
           },
           "zerolinecolor": "white",
           "zerolinewidth": 2
          },
          "yaxis": {
           "automargin": true,
           "gridcolor": "white",
           "linecolor": "white",
           "ticks": "",
           "title": {
            "standoff": 15
           },
           "zerolinecolor": "white",
           "zerolinewidth": 2
          }
         }
        },
        "title": {
         "text": "Intermediate Values Plot"
        },
        "xaxis": {
         "title": {
          "text": "Step"
         }
        },
        "yaxis": {
         "title": {
          "text": "Intermediate Value"
         }
        }
       }
      },
      "text/html": [
       "<div>                            <div id=\"f61d4a46-819f-4e4c-9267-faffd3bf563f\" class=\"plotly-graph-div\" style=\"height:525px; width:100%;\"></div>            <script type=\"text/javascript\">                require([\"plotly\"], function(Plotly) {                    window.PLOTLYENV=window.PLOTLYENV || {};                                    if (document.getElementById(\"f61d4a46-819f-4e4c-9267-faffd3bf563f\")) {                    Plotly.newPlot(                        \"f61d4a46-819f-4e4c-9267-faffd3bf563f\",                        [],                        {\"showlegend\":false,\"title\":{\"text\":\"Intermediate Values Plot\"},\"xaxis\":{\"title\":{\"text\":\"Step\"}},\"yaxis\":{\"title\":{\"text\":\"Intermediate Value\"}},\"template\":{\"data\":{\"bar\":[{\"error_x\":{\"color\":\"#2a3f5f\"},\"error_y\":{\"color\":\"#2a3f5f\"},\"marker\":{\"line\":{\"color\":\"#E5ECF6\",\"width\":0.5},\"pattern\":{\"fillmode\":\"overlay\",\"size\":10,\"solidity\":0.2}},\"type\":\"bar\"}],\"barpolar\":[{\"marker\":{\"line\":{\"color\":\"#E5ECF6\",\"width\":0.5},\"pattern\":{\"fillmode\":\"overlay\",\"size\":10,\"solidity\":0.2}},\"type\":\"barpolar\"}],\"carpet\":[{\"aaxis\":{\"endlinecolor\":\"#2a3f5f\",\"gridcolor\":\"white\",\"linecolor\":\"white\",\"minorgridcolor\":\"white\",\"startlinecolor\":\"#2a3f5f\"},\"baxis\":{\"endlinecolor\":\"#2a3f5f\",\"gridcolor\":\"white\",\"linecolor\":\"white\",\"minorgridcolor\":\"white\",\"startlinecolor\":\"#2a3f5f\"},\"type\":\"carpet\"}],\"choropleth\":[{\"colorbar\":{\"outlinewidth\":0,\"ticks\":\"\"},\"type\":\"choropleth\"}],\"contour\":[{\"colorbar\":{\"outlinewidth\":0,\"ticks\":\"\"},\"colorscale\":[[0.0,\"#0d0887\"],[0.1111111111111111,\"#46039f\"],[0.2222222222222222,\"#7201a8\"],[0.3333333333333333,\"#9c179e\"],[0.4444444444444444,\"#bd3786\"],[0.5555555555555556,\"#d8576b\"],[0.6666666666666666,\"#ed7953\"],[0.7777777777777778,\"#fb9f3a\"],[0.8888888888888888,\"#fdca26\"],[1.0,\"#f0f921\"]],\"type\":\"contour\"}],\"contourcarpet\":[{\"colorbar\":{\"outlinewidth\":0,\"ticks\":\"\"},\"type\":\"contourcarpet\"}],\"heatmap\":[{\"colorbar\":{\"outlinewidth\":0,\"ticks\":\"\"},\"colorscale\":[[0.0,\"#0d0887\"],[0.1111111111111111,\"#46039f\"],[0.2222222222222222,\"#7201a8\"],[0.3333333333333333,\"#9c179e\"],[0.4444444444444444,\"#bd3786\"],[0.5555555555555556,\"#d8576b\"],[0.6666666666666666,\"#ed7953\"],[0.7777777777777778,\"#fb9f3a\"],[0.8888888888888888,\"#fdca26\"],[1.0,\"#f0f921\"]],\"type\":\"heatmap\"}],\"heatmapgl\":[{\"colorbar\":{\"outlinewidth\":0,\"ticks\":\"\"},\"colorscale\":[[0.0,\"#0d0887\"],[0.1111111111111111,\"#46039f\"],[0.2222222222222222,\"#7201a8\"],[0.3333333333333333,\"#9c179e\"],[0.4444444444444444,\"#bd3786\"],[0.5555555555555556,\"#d8576b\"],[0.6666666666666666,\"#ed7953\"],[0.7777777777777778,\"#fb9f3a\"],[0.8888888888888888,\"#fdca26\"],[1.0,\"#f0f921\"]],\"type\":\"heatmapgl\"}],\"histogram\":[{\"marker\":{\"pattern\":{\"fillmode\":\"overlay\",\"size\":10,\"solidity\":0.2}},\"type\":\"histogram\"}],\"histogram2d\":[{\"colorbar\":{\"outlinewidth\":0,\"ticks\":\"\"},\"colorscale\":[[0.0,\"#0d0887\"],[0.1111111111111111,\"#46039f\"],[0.2222222222222222,\"#7201a8\"],[0.3333333333333333,\"#9c179e\"],[0.4444444444444444,\"#bd3786\"],[0.5555555555555556,\"#d8576b\"],[0.6666666666666666,\"#ed7953\"],[0.7777777777777778,\"#fb9f3a\"],[0.8888888888888888,\"#fdca26\"],[1.0,\"#f0f921\"]],\"type\":\"histogram2d\"}],\"histogram2dcontour\":[{\"colorbar\":{\"outlinewidth\":0,\"ticks\":\"\"},\"colorscale\":[[0.0,\"#0d0887\"],[0.1111111111111111,\"#46039f\"],[0.2222222222222222,\"#7201a8\"],[0.3333333333333333,\"#9c179e\"],[0.4444444444444444,\"#bd3786\"],[0.5555555555555556,\"#d8576b\"],[0.6666666666666666,\"#ed7953\"],[0.7777777777777778,\"#fb9f3a\"],[0.8888888888888888,\"#fdca26\"],[1.0,\"#f0f921\"]],\"type\":\"histogram2dcontour\"}],\"mesh3d\":[{\"colorbar\":{\"outlinewidth\":0,\"ticks\":\"\"},\"type\":\"mesh3d\"}],\"parcoords\":[{\"line\":{\"colorbar\":{\"outlinewidth\":0,\"ticks\":\"\"}},\"type\":\"parcoords\"}],\"pie\":[{\"automargin\":true,\"type\":\"pie\"}],\"scatter\":[{\"marker\":{\"colorbar\":{\"outlinewidth\":0,\"ticks\":\"\"}},\"type\":\"scatter\"}],\"scatter3d\":[{\"line\":{\"colorbar\":{\"outlinewidth\":0,\"ticks\":\"\"}},\"marker\":{\"colorbar\":{\"outlinewidth\":0,\"ticks\":\"\"}},\"type\":\"scatter3d\"}],\"scattercarpet\":[{\"marker\":{\"colorbar\":{\"outlinewidth\":0,\"ticks\":\"\"}},\"type\":\"scattercarpet\"}],\"scattergeo\":[{\"marker\":{\"colorbar\":{\"outlinewidth\":0,\"ticks\":\"\"}},\"type\":\"scattergeo\"}],\"scattergl\":[{\"marker\":{\"colorbar\":{\"outlinewidth\":0,\"ticks\":\"\"}},\"type\":\"scattergl\"}],\"scattermapbox\":[{\"marker\":{\"colorbar\":{\"outlinewidth\":0,\"ticks\":\"\"}},\"type\":\"scattermapbox\"}],\"scatterpolar\":[{\"marker\":{\"colorbar\":{\"outlinewidth\":0,\"ticks\":\"\"}},\"type\":\"scatterpolar\"}],\"scatterpolargl\":[{\"marker\":{\"colorbar\":{\"outlinewidth\":0,\"ticks\":\"\"}},\"type\":\"scatterpolargl\"}],\"scatterternary\":[{\"marker\":{\"colorbar\":{\"outlinewidth\":0,\"ticks\":\"\"}},\"type\":\"scatterternary\"}],\"surface\":[{\"colorbar\":{\"outlinewidth\":0,\"ticks\":\"\"},\"colorscale\":[[0.0,\"#0d0887\"],[0.1111111111111111,\"#46039f\"],[0.2222222222222222,\"#7201a8\"],[0.3333333333333333,\"#9c179e\"],[0.4444444444444444,\"#bd3786\"],[0.5555555555555556,\"#d8576b\"],[0.6666666666666666,\"#ed7953\"],[0.7777777777777778,\"#fb9f3a\"],[0.8888888888888888,\"#fdca26\"],[1.0,\"#f0f921\"]],\"type\":\"surface\"}],\"table\":[{\"cells\":{\"fill\":{\"color\":\"#EBF0F8\"},\"line\":{\"color\":\"white\"}},\"header\":{\"fill\":{\"color\":\"#C8D4E3\"},\"line\":{\"color\":\"white\"}},\"type\":\"table\"}]},\"layout\":{\"annotationdefaults\":{\"arrowcolor\":\"#2a3f5f\",\"arrowhead\":0,\"arrowwidth\":1},\"autotypenumbers\":\"strict\",\"coloraxis\":{\"colorbar\":{\"outlinewidth\":0,\"ticks\":\"\"}},\"colorscale\":{\"diverging\":[[0,\"#8e0152\"],[0.1,\"#c51b7d\"],[0.2,\"#de77ae\"],[0.3,\"#f1b6da\"],[0.4,\"#fde0ef\"],[0.5,\"#f7f7f7\"],[0.6,\"#e6f5d0\"],[0.7,\"#b8e186\"],[0.8,\"#7fbc41\"],[0.9,\"#4d9221\"],[1,\"#276419\"]],\"sequential\":[[0.0,\"#0d0887\"],[0.1111111111111111,\"#46039f\"],[0.2222222222222222,\"#7201a8\"],[0.3333333333333333,\"#9c179e\"],[0.4444444444444444,\"#bd3786\"],[0.5555555555555556,\"#d8576b\"],[0.6666666666666666,\"#ed7953\"],[0.7777777777777778,\"#fb9f3a\"],[0.8888888888888888,\"#fdca26\"],[1.0,\"#f0f921\"]],\"sequentialminus\":[[0.0,\"#0d0887\"],[0.1111111111111111,\"#46039f\"],[0.2222222222222222,\"#7201a8\"],[0.3333333333333333,\"#9c179e\"],[0.4444444444444444,\"#bd3786\"],[0.5555555555555556,\"#d8576b\"],[0.6666666666666666,\"#ed7953\"],[0.7777777777777778,\"#fb9f3a\"],[0.8888888888888888,\"#fdca26\"],[1.0,\"#f0f921\"]]},\"colorway\":[\"#636efa\",\"#EF553B\",\"#00cc96\",\"#ab63fa\",\"#FFA15A\",\"#19d3f3\",\"#FF6692\",\"#B6E880\",\"#FF97FF\",\"#FECB52\"],\"font\":{\"color\":\"#2a3f5f\"},\"geo\":{\"bgcolor\":\"white\",\"lakecolor\":\"white\",\"landcolor\":\"#E5ECF6\",\"showlakes\":true,\"showland\":true,\"subunitcolor\":\"white\"},\"hoverlabel\":{\"align\":\"left\"},\"hovermode\":\"closest\",\"mapbox\":{\"style\":\"light\"},\"paper_bgcolor\":\"white\",\"plot_bgcolor\":\"#E5ECF6\",\"polar\":{\"angularaxis\":{\"gridcolor\":\"white\",\"linecolor\":\"white\",\"ticks\":\"\"},\"bgcolor\":\"#E5ECF6\",\"radialaxis\":{\"gridcolor\":\"white\",\"linecolor\":\"white\",\"ticks\":\"\"}},\"scene\":{\"xaxis\":{\"backgroundcolor\":\"#E5ECF6\",\"gridcolor\":\"white\",\"gridwidth\":2,\"linecolor\":\"white\",\"showbackground\":true,\"ticks\":\"\",\"zerolinecolor\":\"white\"},\"yaxis\":{\"backgroundcolor\":\"#E5ECF6\",\"gridcolor\":\"white\",\"gridwidth\":2,\"linecolor\":\"white\",\"showbackground\":true,\"ticks\":\"\",\"zerolinecolor\":\"white\"},\"zaxis\":{\"backgroundcolor\":\"#E5ECF6\",\"gridcolor\":\"white\",\"gridwidth\":2,\"linecolor\":\"white\",\"showbackground\":true,\"ticks\":\"\",\"zerolinecolor\":\"white\"}},\"shapedefaults\":{\"line\":{\"color\":\"#2a3f5f\"}},\"ternary\":{\"aaxis\":{\"gridcolor\":\"white\",\"linecolor\":\"white\",\"ticks\":\"\"},\"baxis\":{\"gridcolor\":\"white\",\"linecolor\":\"white\",\"ticks\":\"\"},\"bgcolor\":\"#E5ECF6\",\"caxis\":{\"gridcolor\":\"white\",\"linecolor\":\"white\",\"ticks\":\"\"}},\"title\":{\"x\":0.05},\"xaxis\":{\"automargin\":true,\"gridcolor\":\"white\",\"linecolor\":\"white\",\"ticks\":\"\",\"title\":{\"standoff\":15},\"zerolinecolor\":\"white\",\"zerolinewidth\":2},\"yaxis\":{\"automargin\":true,\"gridcolor\":\"white\",\"linecolor\":\"white\",\"ticks\":\"\",\"title\":{\"standoff\":15},\"zerolinecolor\":\"white\",\"zerolinewidth\":2}}}},                        {\"responsive\": true}                    ).then(function(){\n",
       "                            \n",
       "var gd = document.getElementById('f61d4a46-819f-4e4c-9267-faffd3bf563f');\n",
       "var x = new MutationObserver(function (mutations, observer) {{\n",
       "        var display = window.getComputedStyle(gd).display;\n",
       "        if (!display || display === 'none') {{\n",
       "            console.log([gd, 'removed!']);\n",
       "            Plotly.purge(gd);\n",
       "            observer.disconnect();\n",
       "        }}\n",
       "}});\n",
       "\n",
       "// Listen for the removal of the full notebook cells\n",
       "var notebookContainer = gd.closest('#notebook-container');\n",
       "if (notebookContainer) {{\n",
       "    x.observe(notebookContainer, {childList: true});\n",
       "}}\n",
       "\n",
       "// Listen for the clearing of the current output cell\n",
       "var outputEl = gd.closest('.output');\n",
       "if (outputEl) {{\n",
       "    x.observe(outputEl, {childList: true});\n",
       "}}\n",
       "\n",
       "                        })                };                });            </script>        </div>"
      ]
     },
     "metadata": {},
     "output_type": "display_data"
    }
   ],
   "source": [
    "optuna.visualization.plot_intermediate_values(study)\n"
   ]
  },
  {
   "cell_type": "code",
   "execution_count": 39,
   "metadata": {},
   "outputs": [
    {
     "data": {
      "application/vnd.plotly.v1+json": {
       "config": {
        "plotlyServerURL": "https://plot.ly"
       },
       "data": [
        {
         "mode": "markers",
         "name": "Objective Value",
         "type": "scatter",
         "x": [
          0,
          1,
          2,
          3,
          4,
          5,
          6,
          7,
          8,
          9,
          10,
          11,
          12,
          13,
          14,
          15,
          16,
          17,
          18,
          19,
          20,
          21,
          22,
          23,
          24,
          25,
          26,
          27,
          28,
          29,
          30,
          31,
          32,
          33,
          34,
          35,
          36,
          37,
          38,
          39,
          40,
          41,
          42,
          43,
          44,
          45,
          46,
          47,
          48,
          49,
          50,
          51,
          52,
          53,
          54,
          55,
          56,
          57,
          58,
          59,
          60,
          61,
          62,
          63,
          64,
          65,
          66,
          67,
          68,
          69,
          70,
          71,
          72,
          73,
          74,
          75,
          76,
          77,
          78,
          79,
          80,
          81,
          82,
          83,
          84,
          85,
          86,
          87,
          88,
          89,
          90,
          91,
          92,
          93,
          94,
          95,
          96,
          97,
          98,
          99
         ],
         "y": [
          0.9855668544769287,
          0.9915066957473755,
          0.9511135816574097,
          0.9910978674888611,
          0.9907070398330688,
          0.9524132609367371,
          0.9866743683815002,
          0.9899948835372925,
          0.9842966794967651,
          0.9927230477333069,
          0.9911777377128601,
          0.9918420314788818,
          0.9916897416114807,
          0.9919791221618652,
          0.9928874969482422,
          0.992802083492279,
          0.9927480816841125,
          0.992544412612915,
          0.9919487237930298,
          0.9930534362792969,
          0.991991400718689,
          0.9931003451347351,
          0.9930599331855774,
          0.9928711652755737,
          0.9931187629699707,
          0.960926353931427,
          0.9912292957305908,
          0.9932196736335754,
          0.9931153059005737,
          0.9931816458702087,
          0.9691241979598999,
          0.9932321310043335,
          0.9925222396850586,
          0.9917363524436951,
          0.9932265281677246,
          0.9931684732437134,
          0.9930898547172546,
          0.9931974411010742,
          0.9929845929145813,
          0.987181544303894,
          0.9914588928222656,
          0.9932554960250854,
          0.993091881275177,
          0.9932142496109009,
          0.9931395053863525,
          0.9917507767677307,
          0.9762781858444214,
          0.9665723443031311,
          0.9927735924720764,
          0.9928286075592041,
          0.9293212294578552,
          0.9931506514549255,
          0.9931808710098267,
          0.99298495054245,
          0.9929518103599548,
          0.9797114133834839,
          0.9929871559143066,
          0.992764949798584,
          0.9925762414932251,
          0.9932647943496704,
          0.9887518882751465,
          0.9931080341339111,
          0.9928370118141174,
          0.9929739236831665,
          0.9929104447364807,
          0.992906928062439,
          0.9913443326950073,
          0.9929565787315369,
          0.9928606748580933,
          0.9907979965209961,
          0.9931830167770386,
          0.9930288195610046,
          0.9930598735809326,
          0.9930357336997986,
          0.9932022094726562,
          0.9929892420768738,
          0.9928821921348572,
          0.9924591183662415,
          0.9932599663734436,
          0.9928538799285889,
          0.9929605722427368,
          0.9931479096412659,
          0.9931650161743164,
          0.9930176138877869,
          0.9925886392593384,
          0.9929060339927673,
          0.993177056312561,
          0.9926259517669678,
          0.9931787252426147,
          0.9930278062820435,
          0.9931297898292542,
          0.9931127429008484,
          0.9931573271751404,
          0.9932655692100525,
          0.9929707646369934,
          0.9931382536888123,
          0.9929894208908081,
          0.9932336807250977,
          0.9931749701499939,
          0.9921660423278809
         ]
        },
        {
         "name": "Best Value",
         "type": "scatter",
         "x": [
          0,
          1,
          2,
          3,
          4,
          5,
          6,
          7,
          8,
          9,
          10,
          11,
          12,
          13,
          14,
          15,
          16,
          17,
          18,
          19,
          20,
          21,
          22,
          23,
          24,
          25,
          26,
          27,
          28,
          29,
          30,
          31,
          32,
          33,
          34,
          35,
          36,
          37,
          38,
          39,
          40,
          41,
          42,
          43,
          44,
          45,
          46,
          47,
          48,
          49,
          50,
          51,
          52,
          53,
          54,
          55,
          56,
          57,
          58,
          59,
          60,
          61,
          62,
          63,
          64,
          65,
          66,
          67,
          68,
          69,
          70,
          71,
          72,
          73,
          74,
          75,
          76,
          77,
          78,
          79,
          80,
          81,
          82,
          83,
          84,
          85,
          86,
          87,
          88,
          89,
          90,
          91,
          92,
          93,
          94,
          95,
          96,
          97,
          98,
          99
         ],
         "y": [
          0.9855668544769287,
          0.9915066957473755,
          0.9915066957473755,
          0.9915066957473755,
          0.9915066957473755,
          0.9915066957473755,
          0.9915066957473755,
          0.9915066957473755,
          0.9915066957473755,
          0.9927230477333069,
          0.9927230477333069,
          0.9927230477333069,
          0.9927230477333069,
          0.9927230477333069,
          0.9928874969482422,
          0.9928874969482422,
          0.9928874969482422,
          0.9928874969482422,
          0.9928874969482422,
          0.9930534362792969,
          0.9930534362792969,
          0.9931003451347351,
          0.9931003451347351,
          0.9931003451347351,
          0.9931187629699707,
          0.9931187629699707,
          0.9931187629699707,
          0.9932196736335754,
          0.9932196736335754,
          0.9932196736335754,
          0.9932196736335754,
          0.9932321310043335,
          0.9932321310043335,
          0.9932321310043335,
          0.9932321310043335,
          0.9932321310043335,
          0.9932321310043335,
          0.9932321310043335,
          0.9932321310043335,
          0.9932321310043335,
          0.9932321310043335,
          0.9932554960250854,
          0.9932554960250854,
          0.9932554960250854,
          0.9932554960250854,
          0.9932554960250854,
          0.9932554960250854,
          0.9932554960250854,
          0.9932554960250854,
          0.9932554960250854,
          0.9932554960250854,
          0.9932554960250854,
          0.9932554960250854,
          0.9932554960250854,
          0.9932554960250854,
          0.9932554960250854,
          0.9932554960250854,
          0.9932554960250854,
          0.9932554960250854,
          0.9932647943496704,
          0.9932647943496704,
          0.9932647943496704,
          0.9932647943496704,
          0.9932647943496704,
          0.9932647943496704,
          0.9932647943496704,
          0.9932647943496704,
          0.9932647943496704,
          0.9932647943496704,
          0.9932647943496704,
          0.9932647943496704,
          0.9932647943496704,
          0.9932647943496704,
          0.9932647943496704,
          0.9932647943496704,
          0.9932647943496704,
          0.9932647943496704,
          0.9932647943496704,
          0.9932647943496704,
          0.9932647943496704,
          0.9932647943496704,
          0.9932647943496704,
          0.9932647943496704,
          0.9932647943496704,
          0.9932647943496704,
          0.9932647943496704,
          0.9932647943496704,
          0.9932647943496704,
          0.9932647943496704,
          0.9932647943496704,
          0.9932647943496704,
          0.9932647943496704,
          0.9932647943496704,
          0.9932655692100525,
          0.9932655692100525,
          0.9932655692100525,
          0.9932655692100525,
          0.9932655692100525,
          0.9932655692100525,
          0.9932655692100525
         ]
        }
       ],
       "layout": {
        "template": {
         "data": {
          "bar": [
           {
            "error_x": {
             "color": "#2a3f5f"
            },
            "error_y": {
             "color": "#2a3f5f"
            },
            "marker": {
             "line": {
              "color": "#E5ECF6",
              "width": 0.5
             },
             "pattern": {
              "fillmode": "overlay",
              "size": 10,
              "solidity": 0.2
             }
            },
            "type": "bar"
           }
          ],
          "barpolar": [
           {
            "marker": {
             "line": {
              "color": "#E5ECF6",
              "width": 0.5
             },
             "pattern": {
              "fillmode": "overlay",
              "size": 10,
              "solidity": 0.2
             }
            },
            "type": "barpolar"
           }
          ],
          "carpet": [
           {
            "aaxis": {
             "endlinecolor": "#2a3f5f",
             "gridcolor": "white",
             "linecolor": "white",
             "minorgridcolor": "white",
             "startlinecolor": "#2a3f5f"
            },
            "baxis": {
             "endlinecolor": "#2a3f5f",
             "gridcolor": "white",
             "linecolor": "white",
             "minorgridcolor": "white",
             "startlinecolor": "#2a3f5f"
            },
            "type": "carpet"
           }
          ],
          "choropleth": [
           {
            "colorbar": {
             "outlinewidth": 0,
             "ticks": ""
            },
            "type": "choropleth"
           }
          ],
          "contour": [
           {
            "colorbar": {
             "outlinewidth": 0,
             "ticks": ""
            },
            "colorscale": [
             [
              0,
              "#0d0887"
             ],
             [
              0.1111111111111111,
              "#46039f"
             ],
             [
              0.2222222222222222,
              "#7201a8"
             ],
             [
              0.3333333333333333,
              "#9c179e"
             ],
             [
              0.4444444444444444,
              "#bd3786"
             ],
             [
              0.5555555555555556,
              "#d8576b"
             ],
             [
              0.6666666666666666,
              "#ed7953"
             ],
             [
              0.7777777777777778,
              "#fb9f3a"
             ],
             [
              0.8888888888888888,
              "#fdca26"
             ],
             [
              1,
              "#f0f921"
             ]
            ],
            "type": "contour"
           }
          ],
          "contourcarpet": [
           {
            "colorbar": {
             "outlinewidth": 0,
             "ticks": ""
            },
            "type": "contourcarpet"
           }
          ],
          "heatmap": [
           {
            "colorbar": {
             "outlinewidth": 0,
             "ticks": ""
            },
            "colorscale": [
             [
              0,
              "#0d0887"
             ],
             [
              0.1111111111111111,
              "#46039f"
             ],
             [
              0.2222222222222222,
              "#7201a8"
             ],
             [
              0.3333333333333333,
              "#9c179e"
             ],
             [
              0.4444444444444444,
              "#bd3786"
             ],
             [
              0.5555555555555556,
              "#d8576b"
             ],
             [
              0.6666666666666666,
              "#ed7953"
             ],
             [
              0.7777777777777778,
              "#fb9f3a"
             ],
             [
              0.8888888888888888,
              "#fdca26"
             ],
             [
              1,
              "#f0f921"
             ]
            ],
            "type": "heatmap"
           }
          ],
          "heatmapgl": [
           {
            "colorbar": {
             "outlinewidth": 0,
             "ticks": ""
            },
            "colorscale": [
             [
              0,
              "#0d0887"
             ],
             [
              0.1111111111111111,
              "#46039f"
             ],
             [
              0.2222222222222222,
              "#7201a8"
             ],
             [
              0.3333333333333333,
              "#9c179e"
             ],
             [
              0.4444444444444444,
              "#bd3786"
             ],
             [
              0.5555555555555556,
              "#d8576b"
             ],
             [
              0.6666666666666666,
              "#ed7953"
             ],
             [
              0.7777777777777778,
              "#fb9f3a"
             ],
             [
              0.8888888888888888,
              "#fdca26"
             ],
             [
              1,
              "#f0f921"
             ]
            ],
            "type": "heatmapgl"
           }
          ],
          "histogram": [
           {
            "marker": {
             "pattern": {
              "fillmode": "overlay",
              "size": 10,
              "solidity": 0.2
             }
            },
            "type": "histogram"
           }
          ],
          "histogram2d": [
           {
            "colorbar": {
             "outlinewidth": 0,
             "ticks": ""
            },
            "colorscale": [
             [
              0,
              "#0d0887"
             ],
             [
              0.1111111111111111,
              "#46039f"
             ],
             [
              0.2222222222222222,
              "#7201a8"
             ],
             [
              0.3333333333333333,
              "#9c179e"
             ],
             [
              0.4444444444444444,
              "#bd3786"
             ],
             [
              0.5555555555555556,
              "#d8576b"
             ],
             [
              0.6666666666666666,
              "#ed7953"
             ],
             [
              0.7777777777777778,
              "#fb9f3a"
             ],
             [
              0.8888888888888888,
              "#fdca26"
             ],
             [
              1,
              "#f0f921"
             ]
            ],
            "type": "histogram2d"
           }
          ],
          "histogram2dcontour": [
           {
            "colorbar": {
             "outlinewidth": 0,
             "ticks": ""
            },
            "colorscale": [
             [
              0,
              "#0d0887"
             ],
             [
              0.1111111111111111,
              "#46039f"
             ],
             [
              0.2222222222222222,
              "#7201a8"
             ],
             [
              0.3333333333333333,
              "#9c179e"
             ],
             [
              0.4444444444444444,
              "#bd3786"
             ],
             [
              0.5555555555555556,
              "#d8576b"
             ],
             [
              0.6666666666666666,
              "#ed7953"
             ],
             [
              0.7777777777777778,
              "#fb9f3a"
             ],
             [
              0.8888888888888888,
              "#fdca26"
             ],
             [
              1,
              "#f0f921"
             ]
            ],
            "type": "histogram2dcontour"
           }
          ],
          "mesh3d": [
           {
            "colorbar": {
             "outlinewidth": 0,
             "ticks": ""
            },
            "type": "mesh3d"
           }
          ],
          "parcoords": [
           {
            "line": {
             "colorbar": {
              "outlinewidth": 0,
              "ticks": ""
             }
            },
            "type": "parcoords"
           }
          ],
          "pie": [
           {
            "automargin": true,
            "type": "pie"
           }
          ],
          "scatter": [
           {
            "marker": {
             "colorbar": {
              "outlinewidth": 0,
              "ticks": ""
             }
            },
            "type": "scatter"
           }
          ],
          "scatter3d": [
           {
            "line": {
             "colorbar": {
              "outlinewidth": 0,
              "ticks": ""
             }
            },
            "marker": {
             "colorbar": {
              "outlinewidth": 0,
              "ticks": ""
             }
            },
            "type": "scatter3d"
           }
          ],
          "scattercarpet": [
           {
            "marker": {
             "colorbar": {
              "outlinewidth": 0,
              "ticks": ""
             }
            },
            "type": "scattercarpet"
           }
          ],
          "scattergeo": [
           {
            "marker": {
             "colorbar": {
              "outlinewidth": 0,
              "ticks": ""
             }
            },
            "type": "scattergeo"
           }
          ],
          "scattergl": [
           {
            "marker": {
             "colorbar": {
              "outlinewidth": 0,
              "ticks": ""
             }
            },
            "type": "scattergl"
           }
          ],
          "scattermapbox": [
           {
            "marker": {
             "colorbar": {
              "outlinewidth": 0,
              "ticks": ""
             }
            },
            "type": "scattermapbox"
           }
          ],
          "scatterpolar": [
           {
            "marker": {
             "colorbar": {
              "outlinewidth": 0,
              "ticks": ""
             }
            },
            "type": "scatterpolar"
           }
          ],
          "scatterpolargl": [
           {
            "marker": {
             "colorbar": {
              "outlinewidth": 0,
              "ticks": ""
             }
            },
            "type": "scatterpolargl"
           }
          ],
          "scatterternary": [
           {
            "marker": {
             "colorbar": {
              "outlinewidth": 0,
              "ticks": ""
             }
            },
            "type": "scatterternary"
           }
          ],
          "surface": [
           {
            "colorbar": {
             "outlinewidth": 0,
             "ticks": ""
            },
            "colorscale": [
             [
              0,
              "#0d0887"
             ],
             [
              0.1111111111111111,
              "#46039f"
             ],
             [
              0.2222222222222222,
              "#7201a8"
             ],
             [
              0.3333333333333333,
              "#9c179e"
             ],
             [
              0.4444444444444444,
              "#bd3786"
             ],
             [
              0.5555555555555556,
              "#d8576b"
             ],
             [
              0.6666666666666666,
              "#ed7953"
             ],
             [
              0.7777777777777778,
              "#fb9f3a"
             ],
             [
              0.8888888888888888,
              "#fdca26"
             ],
             [
              1,
              "#f0f921"
             ]
            ],
            "type": "surface"
           }
          ],
          "table": [
           {
            "cells": {
             "fill": {
              "color": "#EBF0F8"
             },
             "line": {
              "color": "white"
             }
            },
            "header": {
             "fill": {
              "color": "#C8D4E3"
             },
             "line": {
              "color": "white"
             }
            },
            "type": "table"
           }
          ]
         },
         "layout": {
          "annotationdefaults": {
           "arrowcolor": "#2a3f5f",
           "arrowhead": 0,
           "arrowwidth": 1
          },
          "autotypenumbers": "strict",
          "coloraxis": {
           "colorbar": {
            "outlinewidth": 0,
            "ticks": ""
           }
          },
          "colorscale": {
           "diverging": [
            [
             0,
             "#8e0152"
            ],
            [
             0.1,
             "#c51b7d"
            ],
            [
             0.2,
             "#de77ae"
            ],
            [
             0.3,
             "#f1b6da"
            ],
            [
             0.4,
             "#fde0ef"
            ],
            [
             0.5,
             "#f7f7f7"
            ],
            [
             0.6,
             "#e6f5d0"
            ],
            [
             0.7,
             "#b8e186"
            ],
            [
             0.8,
             "#7fbc41"
            ],
            [
             0.9,
             "#4d9221"
            ],
            [
             1,
             "#276419"
            ]
           ],
           "sequential": [
            [
             0,
             "#0d0887"
            ],
            [
             0.1111111111111111,
             "#46039f"
            ],
            [
             0.2222222222222222,
             "#7201a8"
            ],
            [
             0.3333333333333333,
             "#9c179e"
            ],
            [
             0.4444444444444444,
             "#bd3786"
            ],
            [
             0.5555555555555556,
             "#d8576b"
            ],
            [
             0.6666666666666666,
             "#ed7953"
            ],
            [
             0.7777777777777778,
             "#fb9f3a"
            ],
            [
             0.8888888888888888,
             "#fdca26"
            ],
            [
             1,
             "#f0f921"
            ]
           ],
           "sequentialminus": [
            [
             0,
             "#0d0887"
            ],
            [
             0.1111111111111111,
             "#46039f"
            ],
            [
             0.2222222222222222,
             "#7201a8"
            ],
            [
             0.3333333333333333,
             "#9c179e"
            ],
            [
             0.4444444444444444,
             "#bd3786"
            ],
            [
             0.5555555555555556,
             "#d8576b"
            ],
            [
             0.6666666666666666,
             "#ed7953"
            ],
            [
             0.7777777777777778,
             "#fb9f3a"
            ],
            [
             0.8888888888888888,
             "#fdca26"
            ],
            [
             1,
             "#f0f921"
            ]
           ]
          },
          "colorway": [
           "#636efa",
           "#EF553B",
           "#00cc96",
           "#ab63fa",
           "#FFA15A",
           "#19d3f3",
           "#FF6692",
           "#B6E880",
           "#FF97FF",
           "#FECB52"
          ],
          "font": {
           "color": "#2a3f5f"
          },
          "geo": {
           "bgcolor": "white",
           "lakecolor": "white",
           "landcolor": "#E5ECF6",
           "showlakes": true,
           "showland": true,
           "subunitcolor": "white"
          },
          "hoverlabel": {
           "align": "left"
          },
          "hovermode": "closest",
          "mapbox": {
           "style": "light"
          },
          "paper_bgcolor": "white",
          "plot_bgcolor": "#E5ECF6",
          "polar": {
           "angularaxis": {
            "gridcolor": "white",
            "linecolor": "white",
            "ticks": ""
           },
           "bgcolor": "#E5ECF6",
           "radialaxis": {
            "gridcolor": "white",
            "linecolor": "white",
            "ticks": ""
           }
          },
          "scene": {
           "xaxis": {
            "backgroundcolor": "#E5ECF6",
            "gridcolor": "white",
            "gridwidth": 2,
            "linecolor": "white",
            "showbackground": true,
            "ticks": "",
            "zerolinecolor": "white"
           },
           "yaxis": {
            "backgroundcolor": "#E5ECF6",
            "gridcolor": "white",
            "gridwidth": 2,
            "linecolor": "white",
            "showbackground": true,
            "ticks": "",
            "zerolinecolor": "white"
           },
           "zaxis": {
            "backgroundcolor": "#E5ECF6",
            "gridcolor": "white",
            "gridwidth": 2,
            "linecolor": "white",
            "showbackground": true,
            "ticks": "",
            "zerolinecolor": "white"
           }
          },
          "shapedefaults": {
           "line": {
            "color": "#2a3f5f"
           }
          },
          "ternary": {
           "aaxis": {
            "gridcolor": "white",
            "linecolor": "white",
            "ticks": ""
           },
           "baxis": {
            "gridcolor": "white",
            "linecolor": "white",
            "ticks": ""
           },
           "bgcolor": "#E5ECF6",
           "caxis": {
            "gridcolor": "white",
            "linecolor": "white",
            "ticks": ""
           }
          },
          "title": {
           "x": 0.05
          },
          "xaxis": {
           "automargin": true,
           "gridcolor": "white",
           "linecolor": "white",
           "ticks": "",
           "title": {
            "standoff": 15
           },
           "zerolinecolor": "white",
           "zerolinewidth": 2
          },
          "yaxis": {
           "automargin": true,
           "gridcolor": "white",
           "linecolor": "white",
           "ticks": "",
           "title": {
            "standoff": 15
           },
           "zerolinecolor": "white",
           "zerolinewidth": 2
          }
         }
        },
        "title": {
         "text": "Optimization History Plot"
        },
        "xaxis": {
         "title": {
          "text": "#Trials"
         }
        },
        "yaxis": {
         "title": {
          "text": "Objective Value"
         }
        }
       }
      },
      "text/html": [
       "<div>                            <div id=\"d867367e-c06f-4026-8691-7eff90764cc5\" class=\"plotly-graph-div\" style=\"height:525px; width:100%;\"></div>            <script type=\"text/javascript\">                require([\"plotly\"], function(Plotly) {                    window.PLOTLYENV=window.PLOTLYENV || {};                                    if (document.getElementById(\"d867367e-c06f-4026-8691-7eff90764cc5\")) {                    Plotly.newPlot(                        \"d867367e-c06f-4026-8691-7eff90764cc5\",                        [{\"mode\":\"markers\",\"name\":\"Objective Value\",\"x\":[0,1,2,3,4,5,6,7,8,9,10,11,12,13,14,15,16,17,18,19,20,21,22,23,24,25,26,27,28,29,30,31,32,33,34,35,36,37,38,39,40,41,42,43,44,45,46,47,48,49,50,51,52,53,54,55,56,57,58,59,60,61,62,63,64,65,66,67,68,69,70,71,72,73,74,75,76,77,78,79,80,81,82,83,84,85,86,87,88,89,90,91,92,93,94,95,96,97,98,99],\"y\":[0.9855668544769287,0.9915066957473755,0.9511135816574097,0.9910978674888611,0.9907070398330688,0.9524132609367371,0.9866743683815002,0.9899948835372925,0.9842966794967651,0.9927230477333069,0.9911777377128601,0.9918420314788818,0.9916897416114807,0.9919791221618652,0.9928874969482422,0.992802083492279,0.9927480816841125,0.992544412612915,0.9919487237930298,0.9930534362792969,0.991991400718689,0.9931003451347351,0.9930599331855774,0.9928711652755737,0.9931187629699707,0.960926353931427,0.9912292957305908,0.9932196736335754,0.9931153059005737,0.9931816458702087,0.9691241979598999,0.9932321310043335,0.9925222396850586,0.9917363524436951,0.9932265281677246,0.9931684732437134,0.9930898547172546,0.9931974411010742,0.9929845929145813,0.987181544303894,0.9914588928222656,0.9932554960250854,0.993091881275177,0.9932142496109009,0.9931395053863525,0.9917507767677307,0.9762781858444214,0.9665723443031311,0.9927735924720764,0.9928286075592041,0.9293212294578552,0.9931506514549255,0.9931808710098267,0.99298495054245,0.9929518103599548,0.9797114133834839,0.9929871559143066,0.992764949798584,0.9925762414932251,0.9932647943496704,0.9887518882751465,0.9931080341339111,0.9928370118141174,0.9929739236831665,0.9929104447364807,0.992906928062439,0.9913443326950073,0.9929565787315369,0.9928606748580933,0.9907979965209961,0.9931830167770386,0.9930288195610046,0.9930598735809326,0.9930357336997986,0.9932022094726562,0.9929892420768738,0.9928821921348572,0.9924591183662415,0.9932599663734436,0.9928538799285889,0.9929605722427368,0.9931479096412659,0.9931650161743164,0.9930176138877869,0.9925886392593384,0.9929060339927673,0.993177056312561,0.9926259517669678,0.9931787252426147,0.9930278062820435,0.9931297898292542,0.9931127429008484,0.9931573271751404,0.9932655692100525,0.9929707646369934,0.9931382536888123,0.9929894208908081,0.9932336807250977,0.9931749701499939,0.9921660423278809],\"type\":\"scatter\"},{\"name\":\"Best Value\",\"x\":[0,1,2,3,4,5,6,7,8,9,10,11,12,13,14,15,16,17,18,19,20,21,22,23,24,25,26,27,28,29,30,31,32,33,34,35,36,37,38,39,40,41,42,43,44,45,46,47,48,49,50,51,52,53,54,55,56,57,58,59,60,61,62,63,64,65,66,67,68,69,70,71,72,73,74,75,76,77,78,79,80,81,82,83,84,85,86,87,88,89,90,91,92,93,94,95,96,97,98,99],\"y\":[0.9855668544769287,0.9915066957473755,0.9915066957473755,0.9915066957473755,0.9915066957473755,0.9915066957473755,0.9915066957473755,0.9915066957473755,0.9915066957473755,0.9927230477333069,0.9927230477333069,0.9927230477333069,0.9927230477333069,0.9927230477333069,0.9928874969482422,0.9928874969482422,0.9928874969482422,0.9928874969482422,0.9928874969482422,0.9930534362792969,0.9930534362792969,0.9931003451347351,0.9931003451347351,0.9931003451347351,0.9931187629699707,0.9931187629699707,0.9931187629699707,0.9932196736335754,0.9932196736335754,0.9932196736335754,0.9932196736335754,0.9932321310043335,0.9932321310043335,0.9932321310043335,0.9932321310043335,0.9932321310043335,0.9932321310043335,0.9932321310043335,0.9932321310043335,0.9932321310043335,0.9932321310043335,0.9932554960250854,0.9932554960250854,0.9932554960250854,0.9932554960250854,0.9932554960250854,0.9932554960250854,0.9932554960250854,0.9932554960250854,0.9932554960250854,0.9932554960250854,0.9932554960250854,0.9932554960250854,0.9932554960250854,0.9932554960250854,0.9932554960250854,0.9932554960250854,0.9932554960250854,0.9932554960250854,0.9932647943496704,0.9932647943496704,0.9932647943496704,0.9932647943496704,0.9932647943496704,0.9932647943496704,0.9932647943496704,0.9932647943496704,0.9932647943496704,0.9932647943496704,0.9932647943496704,0.9932647943496704,0.9932647943496704,0.9932647943496704,0.9932647943496704,0.9932647943496704,0.9932647943496704,0.9932647943496704,0.9932647943496704,0.9932647943496704,0.9932647943496704,0.9932647943496704,0.9932647943496704,0.9932647943496704,0.9932647943496704,0.9932647943496704,0.9932647943496704,0.9932647943496704,0.9932647943496704,0.9932647943496704,0.9932647943496704,0.9932647943496704,0.9932647943496704,0.9932647943496704,0.9932655692100525,0.9932655692100525,0.9932655692100525,0.9932655692100525,0.9932655692100525,0.9932655692100525,0.9932655692100525],\"type\":\"scatter\"}],                        {\"title\":{\"text\":\"Optimization History Plot\"},\"xaxis\":{\"title\":{\"text\":\"#Trials\"}},\"yaxis\":{\"title\":{\"text\":\"Objective Value\"}},\"template\":{\"data\":{\"bar\":[{\"error_x\":{\"color\":\"#2a3f5f\"},\"error_y\":{\"color\":\"#2a3f5f\"},\"marker\":{\"line\":{\"color\":\"#E5ECF6\",\"width\":0.5},\"pattern\":{\"fillmode\":\"overlay\",\"size\":10,\"solidity\":0.2}},\"type\":\"bar\"}],\"barpolar\":[{\"marker\":{\"line\":{\"color\":\"#E5ECF6\",\"width\":0.5},\"pattern\":{\"fillmode\":\"overlay\",\"size\":10,\"solidity\":0.2}},\"type\":\"barpolar\"}],\"carpet\":[{\"aaxis\":{\"endlinecolor\":\"#2a3f5f\",\"gridcolor\":\"white\",\"linecolor\":\"white\",\"minorgridcolor\":\"white\",\"startlinecolor\":\"#2a3f5f\"},\"baxis\":{\"endlinecolor\":\"#2a3f5f\",\"gridcolor\":\"white\",\"linecolor\":\"white\",\"minorgridcolor\":\"white\",\"startlinecolor\":\"#2a3f5f\"},\"type\":\"carpet\"}],\"choropleth\":[{\"colorbar\":{\"outlinewidth\":0,\"ticks\":\"\"},\"type\":\"choropleth\"}],\"contour\":[{\"colorbar\":{\"outlinewidth\":0,\"ticks\":\"\"},\"colorscale\":[[0.0,\"#0d0887\"],[0.1111111111111111,\"#46039f\"],[0.2222222222222222,\"#7201a8\"],[0.3333333333333333,\"#9c179e\"],[0.4444444444444444,\"#bd3786\"],[0.5555555555555556,\"#d8576b\"],[0.6666666666666666,\"#ed7953\"],[0.7777777777777778,\"#fb9f3a\"],[0.8888888888888888,\"#fdca26\"],[1.0,\"#f0f921\"]],\"type\":\"contour\"}],\"contourcarpet\":[{\"colorbar\":{\"outlinewidth\":0,\"ticks\":\"\"},\"type\":\"contourcarpet\"}],\"heatmap\":[{\"colorbar\":{\"outlinewidth\":0,\"ticks\":\"\"},\"colorscale\":[[0.0,\"#0d0887\"],[0.1111111111111111,\"#46039f\"],[0.2222222222222222,\"#7201a8\"],[0.3333333333333333,\"#9c179e\"],[0.4444444444444444,\"#bd3786\"],[0.5555555555555556,\"#d8576b\"],[0.6666666666666666,\"#ed7953\"],[0.7777777777777778,\"#fb9f3a\"],[0.8888888888888888,\"#fdca26\"],[1.0,\"#f0f921\"]],\"type\":\"heatmap\"}],\"heatmapgl\":[{\"colorbar\":{\"outlinewidth\":0,\"ticks\":\"\"},\"colorscale\":[[0.0,\"#0d0887\"],[0.1111111111111111,\"#46039f\"],[0.2222222222222222,\"#7201a8\"],[0.3333333333333333,\"#9c179e\"],[0.4444444444444444,\"#bd3786\"],[0.5555555555555556,\"#d8576b\"],[0.6666666666666666,\"#ed7953\"],[0.7777777777777778,\"#fb9f3a\"],[0.8888888888888888,\"#fdca26\"],[1.0,\"#f0f921\"]],\"type\":\"heatmapgl\"}],\"histogram\":[{\"marker\":{\"pattern\":{\"fillmode\":\"overlay\",\"size\":10,\"solidity\":0.2}},\"type\":\"histogram\"}],\"histogram2d\":[{\"colorbar\":{\"outlinewidth\":0,\"ticks\":\"\"},\"colorscale\":[[0.0,\"#0d0887\"],[0.1111111111111111,\"#46039f\"],[0.2222222222222222,\"#7201a8\"],[0.3333333333333333,\"#9c179e\"],[0.4444444444444444,\"#bd3786\"],[0.5555555555555556,\"#d8576b\"],[0.6666666666666666,\"#ed7953\"],[0.7777777777777778,\"#fb9f3a\"],[0.8888888888888888,\"#fdca26\"],[1.0,\"#f0f921\"]],\"type\":\"histogram2d\"}],\"histogram2dcontour\":[{\"colorbar\":{\"outlinewidth\":0,\"ticks\":\"\"},\"colorscale\":[[0.0,\"#0d0887\"],[0.1111111111111111,\"#46039f\"],[0.2222222222222222,\"#7201a8\"],[0.3333333333333333,\"#9c179e\"],[0.4444444444444444,\"#bd3786\"],[0.5555555555555556,\"#d8576b\"],[0.6666666666666666,\"#ed7953\"],[0.7777777777777778,\"#fb9f3a\"],[0.8888888888888888,\"#fdca26\"],[1.0,\"#f0f921\"]],\"type\":\"histogram2dcontour\"}],\"mesh3d\":[{\"colorbar\":{\"outlinewidth\":0,\"ticks\":\"\"},\"type\":\"mesh3d\"}],\"parcoords\":[{\"line\":{\"colorbar\":{\"outlinewidth\":0,\"ticks\":\"\"}},\"type\":\"parcoords\"}],\"pie\":[{\"automargin\":true,\"type\":\"pie\"}],\"scatter\":[{\"marker\":{\"colorbar\":{\"outlinewidth\":0,\"ticks\":\"\"}},\"type\":\"scatter\"}],\"scatter3d\":[{\"line\":{\"colorbar\":{\"outlinewidth\":0,\"ticks\":\"\"}},\"marker\":{\"colorbar\":{\"outlinewidth\":0,\"ticks\":\"\"}},\"type\":\"scatter3d\"}],\"scattercarpet\":[{\"marker\":{\"colorbar\":{\"outlinewidth\":0,\"ticks\":\"\"}},\"type\":\"scattercarpet\"}],\"scattergeo\":[{\"marker\":{\"colorbar\":{\"outlinewidth\":0,\"ticks\":\"\"}},\"type\":\"scattergeo\"}],\"scattergl\":[{\"marker\":{\"colorbar\":{\"outlinewidth\":0,\"ticks\":\"\"}},\"type\":\"scattergl\"}],\"scattermapbox\":[{\"marker\":{\"colorbar\":{\"outlinewidth\":0,\"ticks\":\"\"}},\"type\":\"scattermapbox\"}],\"scatterpolar\":[{\"marker\":{\"colorbar\":{\"outlinewidth\":0,\"ticks\":\"\"}},\"type\":\"scatterpolar\"}],\"scatterpolargl\":[{\"marker\":{\"colorbar\":{\"outlinewidth\":0,\"ticks\":\"\"}},\"type\":\"scatterpolargl\"}],\"scatterternary\":[{\"marker\":{\"colorbar\":{\"outlinewidth\":0,\"ticks\":\"\"}},\"type\":\"scatterternary\"}],\"surface\":[{\"colorbar\":{\"outlinewidth\":0,\"ticks\":\"\"},\"colorscale\":[[0.0,\"#0d0887\"],[0.1111111111111111,\"#46039f\"],[0.2222222222222222,\"#7201a8\"],[0.3333333333333333,\"#9c179e\"],[0.4444444444444444,\"#bd3786\"],[0.5555555555555556,\"#d8576b\"],[0.6666666666666666,\"#ed7953\"],[0.7777777777777778,\"#fb9f3a\"],[0.8888888888888888,\"#fdca26\"],[1.0,\"#f0f921\"]],\"type\":\"surface\"}],\"table\":[{\"cells\":{\"fill\":{\"color\":\"#EBF0F8\"},\"line\":{\"color\":\"white\"}},\"header\":{\"fill\":{\"color\":\"#C8D4E3\"},\"line\":{\"color\":\"white\"}},\"type\":\"table\"}]},\"layout\":{\"annotationdefaults\":{\"arrowcolor\":\"#2a3f5f\",\"arrowhead\":0,\"arrowwidth\":1},\"autotypenumbers\":\"strict\",\"coloraxis\":{\"colorbar\":{\"outlinewidth\":0,\"ticks\":\"\"}},\"colorscale\":{\"diverging\":[[0,\"#8e0152\"],[0.1,\"#c51b7d\"],[0.2,\"#de77ae\"],[0.3,\"#f1b6da\"],[0.4,\"#fde0ef\"],[0.5,\"#f7f7f7\"],[0.6,\"#e6f5d0\"],[0.7,\"#b8e186\"],[0.8,\"#7fbc41\"],[0.9,\"#4d9221\"],[1,\"#276419\"]],\"sequential\":[[0.0,\"#0d0887\"],[0.1111111111111111,\"#46039f\"],[0.2222222222222222,\"#7201a8\"],[0.3333333333333333,\"#9c179e\"],[0.4444444444444444,\"#bd3786\"],[0.5555555555555556,\"#d8576b\"],[0.6666666666666666,\"#ed7953\"],[0.7777777777777778,\"#fb9f3a\"],[0.8888888888888888,\"#fdca26\"],[1.0,\"#f0f921\"]],\"sequentialminus\":[[0.0,\"#0d0887\"],[0.1111111111111111,\"#46039f\"],[0.2222222222222222,\"#7201a8\"],[0.3333333333333333,\"#9c179e\"],[0.4444444444444444,\"#bd3786\"],[0.5555555555555556,\"#d8576b\"],[0.6666666666666666,\"#ed7953\"],[0.7777777777777778,\"#fb9f3a\"],[0.8888888888888888,\"#fdca26\"],[1.0,\"#f0f921\"]]},\"colorway\":[\"#636efa\",\"#EF553B\",\"#00cc96\",\"#ab63fa\",\"#FFA15A\",\"#19d3f3\",\"#FF6692\",\"#B6E880\",\"#FF97FF\",\"#FECB52\"],\"font\":{\"color\":\"#2a3f5f\"},\"geo\":{\"bgcolor\":\"white\",\"lakecolor\":\"white\",\"landcolor\":\"#E5ECF6\",\"showlakes\":true,\"showland\":true,\"subunitcolor\":\"white\"},\"hoverlabel\":{\"align\":\"left\"},\"hovermode\":\"closest\",\"mapbox\":{\"style\":\"light\"},\"paper_bgcolor\":\"white\",\"plot_bgcolor\":\"#E5ECF6\",\"polar\":{\"angularaxis\":{\"gridcolor\":\"white\",\"linecolor\":\"white\",\"ticks\":\"\"},\"bgcolor\":\"#E5ECF6\",\"radialaxis\":{\"gridcolor\":\"white\",\"linecolor\":\"white\",\"ticks\":\"\"}},\"scene\":{\"xaxis\":{\"backgroundcolor\":\"#E5ECF6\",\"gridcolor\":\"white\",\"gridwidth\":2,\"linecolor\":\"white\",\"showbackground\":true,\"ticks\":\"\",\"zerolinecolor\":\"white\"},\"yaxis\":{\"backgroundcolor\":\"#E5ECF6\",\"gridcolor\":\"white\",\"gridwidth\":2,\"linecolor\":\"white\",\"showbackground\":true,\"ticks\":\"\",\"zerolinecolor\":\"white\"},\"zaxis\":{\"backgroundcolor\":\"#E5ECF6\",\"gridcolor\":\"white\",\"gridwidth\":2,\"linecolor\":\"white\",\"showbackground\":true,\"ticks\":\"\",\"zerolinecolor\":\"white\"}},\"shapedefaults\":{\"line\":{\"color\":\"#2a3f5f\"}},\"ternary\":{\"aaxis\":{\"gridcolor\":\"white\",\"linecolor\":\"white\",\"ticks\":\"\"},\"baxis\":{\"gridcolor\":\"white\",\"linecolor\":\"white\",\"ticks\":\"\"},\"bgcolor\":\"#E5ECF6\",\"caxis\":{\"gridcolor\":\"white\",\"linecolor\":\"white\",\"ticks\":\"\"}},\"title\":{\"x\":0.05},\"xaxis\":{\"automargin\":true,\"gridcolor\":\"white\",\"linecolor\":\"white\",\"ticks\":\"\",\"title\":{\"standoff\":15},\"zerolinecolor\":\"white\",\"zerolinewidth\":2},\"yaxis\":{\"automargin\":true,\"gridcolor\":\"white\",\"linecolor\":\"white\",\"ticks\":\"\",\"title\":{\"standoff\":15},\"zerolinecolor\":\"white\",\"zerolinewidth\":2}}}},                        {\"responsive\": true}                    ).then(function(){\n",
       "                            \n",
       "var gd = document.getElementById('d867367e-c06f-4026-8691-7eff90764cc5');\n",
       "var x = new MutationObserver(function (mutations, observer) {{\n",
       "        var display = window.getComputedStyle(gd).display;\n",
       "        if (!display || display === 'none') {{\n",
       "            console.log([gd, 'removed!']);\n",
       "            Plotly.purge(gd);\n",
       "            observer.disconnect();\n",
       "        }}\n",
       "}});\n",
       "\n",
       "// Listen for the removal of the full notebook cells\n",
       "var notebookContainer = gd.closest('#notebook-container');\n",
       "if (notebookContainer) {{\n",
       "    x.observe(notebookContainer, {childList: true});\n",
       "}}\n",
       "\n",
       "// Listen for the clearing of the current output cell\n",
       "var outputEl = gd.closest('.output');\n",
       "if (outputEl) {{\n",
       "    x.observe(outputEl, {childList: true});\n",
       "}}\n",
       "\n",
       "                        })                };                });            </script>        </div>"
      ]
     },
     "metadata": {},
     "output_type": "display_data"
    }
   ],
   "source": [
    "optuna.visualization.plot_optimization_history(study)\n"
   ]
  },
  {
   "cell_type": "code",
   "execution_count": 40,
   "metadata": {},
   "outputs": [
    {
     "data": {
      "application/vnd.plotly.v1+json": {
       "config": {
        "plotlyServerURL": "https://plot.ly"
       },
       "data": [
        {
         "dimensions": [
          {
           "label": "Objective Value",
           "range": [
            0.9293212294578552,
            0.9932655692100525
           ],
           "values": [
            0.9915066957473755,
            0.9511135816574097,
            0.9910978674888611,
            0.9907070398330688,
            0.9524132609367371,
            0.987181544303894,
            0.9917507767677307,
            0.9928286075592041,
            0.9925762414932251,
            0.9907979965209961,
            0.9931787252426147,
            0.9927230477333069,
            0.9911777377128601,
            0.9918420314788818,
            0.9916897416114807,
            0.9919791221618652,
            0.9928874969482422,
            0.992802083492279,
            0.9927480816841125,
            0.992544412612915,
            0.9919487237930298,
            0.9930534362792969,
            0.991991400718689,
            0.9931003451347351,
            0.9930599331855774,
            0.9928711652755737,
            0.9931187629699707,
            0.960926353931427,
            0.9912292957305908,
            0.9932196736335754,
            0.9931153059005737,
            0.9928821921348572,
            0.9928538799285889,
            0.9926259517669678,
            0.9932336807250977,
            0.9931749701499939,
            0.9921660423278809,
            0.9855668544769287,
            0.9866743683815002,
            0.9899948835372925,
            0.9842966794967651,
            0.9931816458702087,
            0.9691241979598999,
            0.9932321310043335,
            0.9925222396850586,
            0.9917363524436951,
            0.9932265281677246,
            0.9931684732437134,
            0.9930898547172546,
            0.9931974411010742,
            0.9929845929145813,
            0.9914588928222656,
            0.9932554960250854,
            0.993091881275177,
            0.9932142496109009,
            0.9931395053863525,
            0.9762781858444214,
            0.9665723443031311,
            0.9927735924720764,
            0.9293212294578552,
            0.9931506514549255,
            0.9931808710098267,
            0.99298495054245,
            0.9929518103599548,
            0.9797114133834839,
            0.9929871559143066,
            0.992764949798584,
            0.9932647943496704,
            0.9887518882751465,
            0.9931080341339111,
            0.9928370118141174,
            0.9929739236831665,
            0.9929104447364807,
            0.992906928062439,
            0.9913443326950073,
            0.9929565787315369,
            0.9928606748580933,
            0.9931830167770386,
            0.9930288195610046,
            0.9930598735809326,
            0.9930357336997986,
            0.9932022094726562,
            0.9929892420768738,
            0.9924591183662415,
            0.9932599663734436,
            0.9929605722427368,
            0.9931479096412659,
            0.9931650161743164,
            0.9930176138877869,
            0.9925886392593384,
            0.9929060339927673,
            0.993177056312561,
            0.9930278062820435,
            0.9931297898292542,
            0.9931127429008484,
            0.9931573271751404,
            0.9932655692100525,
            0.9929707646369934,
            0.9931382536888123,
            0.9929894208908081
           ]
          },
          {
           "label": "amsgrad",
           "range": [
            0,
            1
           ],
           "ticktext": [
            true,
            false
           ],
           "tickvals": [
            0,
            1
           ],
           "values": [
            0,
            0,
            1,
            0,
            1,
            0,
            0,
            0,
            0,
            1,
            0,
            1,
            1,
            0,
            0,
            1,
            1,
            1,
            1,
            1,
            1,
            1,
            1,
            1,
            1,
            1,
            1,
            1,
            1,
            1,
            1,
            1,
            1,
            1,
            0,
            0,
            1,
            0,
            1,
            1,
            0,
            1,
            1,
            1,
            1,
            1,
            0,
            0,
            0,
            0,
            0,
            0,
            0,
            0,
            0,
            0,
            0,
            0,
            0,
            0,
            0,
            0,
            0,
            0,
            0,
            0,
            0,
            0,
            0,
            0,
            0,
            0,
            0,
            0,
            1,
            0,
            1,
            0,
            0,
            0,
            0,
            0,
            0,
            0,
            1,
            1,
            1,
            1,
            1,
            1,
            0,
            0,
            0,
            1,
            0,
            0,
            0,
            0,
            0,
            0
           ]
          },
          {
           "label": "beta1",
           "range": [
            0.20214887942604837,
            0.8995138400731207
           ],
           "values": [
            0.26400687771012554,
            0.4167004908345767,
            0.859160100162029,
            0.6875336850151672,
            0.7730009839821634,
            0.8371850763135782,
            0.6120194560533556,
            0.6386261789452832,
            0.7748611895721701,
            0.8723271059509952,
            0.8058104859930464,
            0.5998293461841486,
            0.5072633695379738,
            0.46145354558573376,
            0.4875944040308696,
            0.40172585742669137,
            0.37654252290386503,
            0.35268371567384077,
            0.369187569443692,
            0.3479689360171604,
            0.20214887942604837,
            0.5628282137536813,
            0.5764906106392294,
            0.5285980463035433,
            0.5388698601976885,
            0.5073345373470042,
            0.6545347430785633,
            0.6704014226552943,
            0.7522914341327784,
            0.7537429386813882,
            0.8861459297347075,
            0.7402297194890849,
            0.8502018551538861,
            0.7843397090840883,
            0.3088508540835634,
            0.2925928444896003,
            0.3320264541266975,
            0.6320131657804157,
            0.25586274059904424,
            0.29620897697389703,
            0.6896621774572761,
            0.8974279446803257,
            0.8249169259971633,
            0.8872256408047126,
            0.7913191535496915,
            0.8852922062950503,
            0.7339416952967853,
            0.7365621318791994,
            0.8222097827489211,
            0.8386817318798409,
            0.7318215012930097,
            0.7945464872093585,
            0.8995138400731207,
            0.8545847414571339,
            0.7078554587202918,
            0.7198640568280709,
            0.6995408238394021,
            0.7755845102458295,
            0.8054817953645569,
            0.7563824261532931,
            0.8642034151979215,
            0.8434440395466796,
            0.8679270047753985,
            0.8098093971714666,
            0.771925252537874,
            0.7044353785519144,
            0.8964934809798606,
            0.6810087116719199,
            0.6873349625052046,
            0.6668902632523279,
            0.8662387423334036,
            0.611953652776602,
            0.754543653288114,
            0.8320781560441146,
            0.6381105061243897,
            0.7911100750520476,
            0.7242955473248687,
            0.6803692867244169,
            0.5859654701549935,
            0.6730758441000597,
            0.7055432607145653,
            0.741720256656971,
            0.4583152057309874,
            0.8180214946520711,
            0.8498332254056216,
            0.8817782435125635,
            0.8989495468906701,
            0.79462178047412,
            0.8469820176921652,
            0.7636614112069834,
            0.7196385857812269,
            0.8244739037579838,
            0.6566351719476635,
            0.7343424270171619,
            0.681916289601639,
            0.7078548537535281,
            0.7482115163186268,
            0.7465630028181766,
            0.8340945138620078,
            0.8780639740658238
           ]
          },
          {
           "label": "beta2",
           "range": [
            -0.0455813018993066,
            -0.00006702331141025495
           ],
           "ticktext": [
            "0.9",
            "1"
           ],
           "tickvals": [
            -0.0455813018993066,
            -0.00006702331141025495
           ],
           "values": [
            -0.0022902692713632745,
            -0.040800649810128174,
            -0.04286767439697545,
            -0.02638039862127769,
            -0.028416909364035087,
            -0.007934220564736258,
            -0.005019080580744796,
            -0.012284789522161685,
            -0.004396526367354838,
            -0.03992524638675754,
            -0.003942728994629247,
            -0.020839051816431163,
            -0.01649319183641242,
            -0.0031292622384118986,
            -0.0039950355309112924,
            -0.01883515365613878,
            -0.01975426665940337,
            -0.035204967354456655,
            -0.035460346983853315,
            -0.0370602586339586,
            -0.0455813018993066,
            -0.012295625296164151,
            -0.010092464442849431,
            -0.011725180339077405,
            -0.009977327814480335,
            -0.009940368841698065,
            -0.0065859336784370925,
            -0.007349182671751058,
            -0.005447068372232389,
            -0.0007068366387883215,
            -0.0014776018897851156,
            -0.0034885729110703772,
            -0.0052209266799215556,
            -0.0008700248629661836,
            -0.022094966956574043,
            -0.025804825906489595,
            -0.02600911987773298,
            -0.03167826528824336,
            -0.009849558223355662,
            -0.026777862054092393,
            -0.014272726331993658,
            -0.0011767580381129817,
            -0.0011099447789389705,
            -0.00031444394181417637,
            -0.00012330437115072384,
            -0.006304424023642739,
            -0.006871638155110918,
            -0.004209726172438639,
            -0.0001493541098973719,
            -0.007699281223412701,
            -0.01532788073898007,
            -0.02360608373248502,
            -0.0026389418730998985,
            -0.003319703400266688,
            -0.004771125701515009,
            -0.0036754890171805965,
            -0.0027551171858737535,
            -0.002370521375352973,
            -0.03023705266035138,
            -0.008391327058458286,
            -0.004908146487701275,
            -0.008057072349358232,
            -0.00599241196061677,
            -0.017145313329849483,
            -0.0018378241001652162,
            -0.012980915923141838,
            -0.008938131916330352,
            -0.002640921623805215,
            -0.00015733344082252337,
            -0.0027382339991256313,
            -0.006970070151137444,
            -0.010755954074703276,
            -0.005407796387048093,
            -0.0021199821173502735,
            -0.003826965961531751,
            -0.0063258058160993984,
            -0.02266705504649119,
            -0.013673812775653322,
            -0.009177022272911525,
            -0.001374543807792142,
            -0.007094548737309527,
            -0.010959868971159102,
            -0.011294526343000592,
            -0.00006702331141025495,
            -0.005155687386924458,
            -0.0012628483914289446,
            -0.0030413644872719194,
            -0.004606671443369604,
            -0.00753526767275459,
            -0.009340811151985972,
            -0.0022307509706363787,
            -0.005880149006759778,
            -0.010203452864158524,
            -0.007949018295455454,
            -0.014298821921604345,
            -0.012590596145267688,
            -0.017954129718368805,
            -0.019314474260881828,
            -0.016844322844019585,
            -0.018156658450114323
           ]
          },
          {
           "label": "l2",
           "range": [
            -5.964388884413194,
            -2.0003611587622343
           ],
           "ticktext": [
            "1.09e-06",
            "1e-05",
            "0.0001",
            "0.001",
            "0.00999"
           ],
           "tickvals": [
            -5.964388884413194,
            -5,
            -4,
            -3,
            -2.0003611587622343
           ],
           "values": [
            -5.0555647975048625,
            -5.917557346673431,
            -4.034750284190658,
            -5.304750639217441,
            -5.509637074310468,
            -3.5785931337804504,
            -2.016760303849447,
            -2.2093163343223363,
            -3.180251411889854,
            -4.146132552851569,
            -2.3675455932494605,
            -2.333771705100934,
            -2.0852911665682496,
            -2.234882604583031,
            -2.070942970782645,
            -2.894649572406478,
            -2.903931484474617,
            -2.9549866578240644,
            -3.14335425284234,
            -3.055455061353139,
            -3.6799063159364054,
            -2.680723450102177,
            -3.3851539237234904,
            -2.6422623792317808,
            -2.6028394151214034,
            -2.548227432345226,
            -2.573932302045245,
            -4.309903123456197,
            -3.4519062283238005,
            -2.563623641745533,
            -2.395607991627779,
            -2.289311334997891,
            -2.7454384957480578,
            -2.175750541206456,
            -2.4311384214617213,
            -2.4263624883703003,
            -3.7363551153412646,
            -5.5949617821955355,
            -5.964388884413194,
            -4.7385883538648095,
            -3.8562119485968984,
            -2.35649553005576,
            -4.423421348690978,
            -2.431823660123291,
            -3.2831261160158443,
            -2.0530375597387995,
            -2.4451384411558954,
            -2.3823613448603274,
            -2.7295461468754256,
            -2.267461952527881,
            -2.81858662409456,
            -3.151977027927913,
            -2.3751834690530544,
            -2.192448772036748,
            -2.488899938696901,
            -2.481730512078953,
            -5.210104114571049,
            -5.614543121974183,
            -2.7960481027021586,
            -4.845315648671252,
            -2.204682462089427,
            -2.404560519003664,
            -2.979676214135369,
            -2.199672576203637,
            -2.494781803367355,
            -2.7391389443105427,
            -2.283233916585157,
            -2.6129220248907523,
            -3.9310268134467585,
            -2.576987924124143,
            -2.8821304418002915,
            -2.4796739074734524,
            -2.681869817371585,
            -3.0320764350623763,
            -2.0003611587622343,
            -2.3161569342240154,
            -2.1200846004462375,
            -2.6056335673163122,
            -2.59517273677092,
            -2.439345852618212,
            -2.8197632525799423,
            -2.3151360574134143,
            -2.13659411180909,
            -2.3563605544269945,
            -2.477299267887194,
            -2.512060150367596,
            -2.2824116815537505,
            -2.6650578607355278,
            -2.405898628695891,
            -2.0956298805212117,
            -2.888045686228808,
            -2.518092899696122,
            -2.2554046456485546,
            -2.666294966360099,
            -2.567229946971063,
            -2.467362154854584,
            -2.6286407490137313,
            -2.7422382052361005,
            -2.816830762393214,
            -2.965239612662721
           ]
          },
          {
           "label": "layers",
           "range": [
            2,
            5
           ],
           "values": [
            2,
            5,
            3,
            3,
            3,
            5,
            5,
            2,
            5,
            4,
            5,
            4,
            4,
            2,
            2,
            4,
            4,
            4,
            4,
            4,
            5,
            4,
            5,
            4,
            4,
            4,
            4,
            3,
            4,
            5,
            5,
            2,
            5,
            5,
            5,
            5,
            5,
            5,
            3,
            3,
            5,
            5,
            5,
            5,
            5,
            5,
            5,
            5,
            5,
            5,
            5,
            5,
            5,
            5,
            5,
            5,
            5,
            5,
            5,
            5,
            5,
            5,
            5,
            5,
            5,
            3,
            5,
            5,
            5,
            5,
            5,
            5,
            5,
            4,
            5,
            5,
            5,
            3,
            3,
            3,
            3,
            2,
            2,
            5,
            5,
            4,
            5,
            5,
            5,
            5,
            5,
            2,
            5,
            5,
            3,
            2,
            2,
            2,
            2,
            2
           ]
          },
          {
           "label": "lr",
           "range": [
            -4.93342171095146,
            -1.003486926547948
           ],
           "ticktext": [
            "1.17e-05",
            "0.0001",
            "0.001",
            "0.01",
            "0.0992"
           ],
           "tickvals": [
            -4.93342171095146,
            -4,
            -3,
            -2,
            -1.003486926547948
           ],
           "values": [
            -2.7896009539121702,
            -2.092909862066926,
            -2.9522889714138225,
            -3.8431596071105596,
            -2.0399262364501745,
            -4.226604203068343,
            -2.234751021613129,
            -2.244916298169318,
            -1.6497632903568407,
            -3.021523202031828,
            -1.9068414122637187,
            -2.2996437476848515,
            -1.003486926547948,
            -3.501856887297717,
            -3.7836076362238256,
            -3.6193499628822203,
            -2.0853987075759273,
            -1.4873834029471995,
            -1.5031916642497758,
            -1.4985614119272772,
            -1.583638733690462,
            -1.7721092256484394,
            -1.0602657522543322,
            -1.8139788648242399,
            -2.386297560115416,
            -2.4355480561738636,
            -1.869598486137871,
            -2.4420183366956056,
            -3.2525800159261316,
            -1.992494480831212,
            -1.8632109484841184,
            -2.0870780059238685,
            -2.3285429486890616,
            -2.478581722695524,
            -1.6842844377913855,
            -1.320894103923386,
            -1.7152297796657767,
            -4.570543724919428,
            -4.623463655312176,
            -4.559994231407635,
            -2.662417722762587,
            -1.267676799650083,
            -1.2243843361738695,
            -1.8610037118271892,
            -1.2430021971802172,
            -2.699981308866711,
            -1.7151286813881141,
            -1.2462171576067875,
            -2.175738807033728,
            -1.6621746402646935,
            -1.6743486659419313,
            -3.176831493440989,
            -2.0082975884471432,
            -1.9938947251705927,
            -2.208360815331022,
            -2.8510144992125874,
            -2.5409808438538293,
            -2.0019695122834054,
            -2.6082550906529827,
            -2.0363040284783667,
            -1.6911555907763378,
            -1.496197758943088,
            -1.3957125194895843,
            -1.923088687617311,
            -4.93342171095146,
            -1.7412376376610137,
            -2.1618720135049827,
            -2.3406331668037894,
            -2.3992187414827675,
            -2.122470195286442,
            -1.8747948012263578,
            -2.2885039600244306,
            -1.3984743766080823,
            -1.5638854259209234,
            -2.8871752044159336,
            -2.514026914354783,
            -1.819107516112263,
            -1.0998885279778108,
            -1.0953501187597763,
            -1.9815444228103802,
            -1.363693329590784,
            -1.1407027218393815,
            -1.6170244864653855,
            -2.7328891797706816,
            -2.2629493917793733,
            -2.5963250792102435,
            -1.9126165566101783,
            -1.7650430178500387,
            -2.3539095472288936,
            -2.1924594776108064,
            -2.0343327682574897,
            -1.7716075522285637,
            -1.4992079547682202,
            -1.1881543712902884,
            -1.0359922176688352,
            -1.17439714011364,
            -1.3803011887399828,
            -1.3338225777488715,
            -1.4430750442606308,
            -1.5614763984698623
           ]
          },
          {
           "label": "n_unit",
           "range": [
            11,
            200
           ],
           "values": [
            17,
            143,
            61,
            136,
            86,
            190,
            189,
            184,
            105,
            144,
            87,
            28,
            52,
            16,
            11,
            42,
            50,
            67,
            110,
            70,
            110,
            88,
            133,
            88,
            93,
            93,
            118,
            161,
            121,
            100,
            155,
            82,
            98,
            186,
            189,
            190,
            200,
            184,
            25,
            83,
            182,
            158,
            179,
            197,
            197,
            200,
            171,
            171,
            148,
            166,
            170,
            134,
            175,
            171,
            186,
            185,
            179,
            149,
            195,
            141,
            161,
            168,
            179,
            193,
            77,
            174,
            127,
            166,
            189,
            166,
            152,
            102,
            176,
            162,
            200,
            184,
            164,
            155,
            175,
            155,
            116,
            96,
            92,
            61,
            99,
            112,
            100,
            80,
            123,
            107,
            95,
            75,
            194,
            180,
            157,
            171,
            167,
            36,
            167,
            174
           ]
          },
          {
           "label": "ngf",
           "range": [
            0,
            2
           ],
           "ticktext": [
            16,
            32,
            64
           ],
           "tickvals": [
            0,
            1,
            2
           ],
           "values": [
            0,
            0,
            0,
            0,
            0,
            0,
            0,
            0,
            0,
            0,
            0,
            1,
            1,
            1,
            1,
            1,
            1,
            1,
            1,
            1,
            1,
            1,
            1,
            1,
            1,
            1,
            1,
            1,
            1,
            1,
            1,
            1,
            1,
            1,
            1,
            1,
            1,
            2,
            2,
            2,
            2,
            2,
            2,
            2,
            2,
            2,
            2,
            2,
            2,
            2,
            2,
            2,
            2,
            2,
            2,
            2,
            2,
            2,
            2,
            2,
            2,
            2,
            2,
            2,
            2,
            2,
            2,
            2,
            2,
            2,
            2,
            2,
            2,
            2,
            2,
            2,
            2,
            2,
            2,
            2,
            2,
            2,
            2,
            2,
            2,
            2,
            2,
            2,
            2,
            2,
            2,
            2,
            2,
            2,
            2,
            2,
            2,
            2,
            2,
            2
           ]
          }
         ],
         "labelangle": 30,
         "labelside": "bottom",
         "line": {
          "color": [
           0.9915066957473755,
           0.9511135816574097,
           0.9910978674888611,
           0.9907070398330688,
           0.9524132609367371,
           0.987181544303894,
           0.9917507767677307,
           0.9928286075592041,
           0.9925762414932251,
           0.9907979965209961,
           0.9931787252426147,
           0.9927230477333069,
           0.9911777377128601,
           0.9918420314788818,
           0.9916897416114807,
           0.9919791221618652,
           0.9928874969482422,
           0.992802083492279,
           0.9927480816841125,
           0.992544412612915,
           0.9919487237930298,
           0.9930534362792969,
           0.991991400718689,
           0.9931003451347351,
           0.9930599331855774,
           0.9928711652755737,
           0.9931187629699707,
           0.960926353931427,
           0.9912292957305908,
           0.9932196736335754,
           0.9931153059005737,
           0.9928821921348572,
           0.9928538799285889,
           0.9926259517669678,
           0.9932336807250977,
           0.9931749701499939,
           0.9921660423278809,
           0.9855668544769287,
           0.9866743683815002,
           0.9899948835372925,
           0.9842966794967651,
           0.9931816458702087,
           0.9691241979598999,
           0.9932321310043335,
           0.9925222396850586,
           0.9917363524436951,
           0.9932265281677246,
           0.9931684732437134,
           0.9930898547172546,
           0.9931974411010742,
           0.9929845929145813,
           0.9914588928222656,
           0.9932554960250854,
           0.993091881275177,
           0.9932142496109009,
           0.9931395053863525,
           0.9762781858444214,
           0.9665723443031311,
           0.9927735924720764,
           0.9293212294578552,
           0.9931506514549255,
           0.9931808710098267,
           0.99298495054245,
           0.9929518103599548,
           0.9797114133834839,
           0.9929871559143066,
           0.992764949798584,
           0.9932647943496704,
           0.9887518882751465,
           0.9931080341339111,
           0.9928370118141174,
           0.9929739236831665,
           0.9929104447364807,
           0.992906928062439,
           0.9913443326950073,
           0.9929565787315369,
           0.9928606748580933,
           0.9931830167770386,
           0.9930288195610046,
           0.9930598735809326,
           0.9930357336997986,
           0.9932022094726562,
           0.9929892420768738,
           0.9924591183662415,
           0.9932599663734436,
           0.9929605722427368,
           0.9931479096412659,
           0.9931650161743164,
           0.9930176138877869,
           0.9925886392593384,
           0.9929060339927673,
           0.993177056312561,
           0.9930278062820435,
           0.9931297898292542,
           0.9931127429008484,
           0.9931573271751404,
           0.9932655692100525,
           0.9929707646369934,
           0.9931382536888123,
           0.9929894208908081
          ],
          "colorbar": {
           "title": {
            "text": "Objective Value"
           }
          },
          "colorscale": [
           [
            0,
            "rgb(247,251,255)"
           ],
           [
            0.125,
            "rgb(222,235,247)"
           ],
           [
            0.25,
            "rgb(198,219,239)"
           ],
           [
            0.375,
            "rgb(158,202,225)"
           ],
           [
            0.5,
            "rgb(107,174,214)"
           ],
           [
            0.625,
            "rgb(66,146,198)"
           ],
           [
            0.75,
            "rgb(33,113,181)"
           ],
           [
            0.875,
            "rgb(8,81,156)"
           ],
           [
            1,
            "rgb(8,48,107)"
           ]
          ],
          "reversescale": false,
          "showscale": true
         },
         "type": "parcoords"
        }
       ],
       "layout": {
        "template": {
         "data": {
          "bar": [
           {
            "error_x": {
             "color": "#2a3f5f"
            },
            "error_y": {
             "color": "#2a3f5f"
            },
            "marker": {
             "line": {
              "color": "#E5ECF6",
              "width": 0.5
             },
             "pattern": {
              "fillmode": "overlay",
              "size": 10,
              "solidity": 0.2
             }
            },
            "type": "bar"
           }
          ],
          "barpolar": [
           {
            "marker": {
             "line": {
              "color": "#E5ECF6",
              "width": 0.5
             },
             "pattern": {
              "fillmode": "overlay",
              "size": 10,
              "solidity": 0.2
             }
            },
            "type": "barpolar"
           }
          ],
          "carpet": [
           {
            "aaxis": {
             "endlinecolor": "#2a3f5f",
             "gridcolor": "white",
             "linecolor": "white",
             "minorgridcolor": "white",
             "startlinecolor": "#2a3f5f"
            },
            "baxis": {
             "endlinecolor": "#2a3f5f",
             "gridcolor": "white",
             "linecolor": "white",
             "minorgridcolor": "white",
             "startlinecolor": "#2a3f5f"
            },
            "type": "carpet"
           }
          ],
          "choropleth": [
           {
            "colorbar": {
             "outlinewidth": 0,
             "ticks": ""
            },
            "type": "choropleth"
           }
          ],
          "contour": [
           {
            "colorbar": {
             "outlinewidth": 0,
             "ticks": ""
            },
            "colorscale": [
             [
              0,
              "#0d0887"
             ],
             [
              0.1111111111111111,
              "#46039f"
             ],
             [
              0.2222222222222222,
              "#7201a8"
             ],
             [
              0.3333333333333333,
              "#9c179e"
             ],
             [
              0.4444444444444444,
              "#bd3786"
             ],
             [
              0.5555555555555556,
              "#d8576b"
             ],
             [
              0.6666666666666666,
              "#ed7953"
             ],
             [
              0.7777777777777778,
              "#fb9f3a"
             ],
             [
              0.8888888888888888,
              "#fdca26"
             ],
             [
              1,
              "#f0f921"
             ]
            ],
            "type": "contour"
           }
          ],
          "contourcarpet": [
           {
            "colorbar": {
             "outlinewidth": 0,
             "ticks": ""
            },
            "type": "contourcarpet"
           }
          ],
          "heatmap": [
           {
            "colorbar": {
             "outlinewidth": 0,
             "ticks": ""
            },
            "colorscale": [
             [
              0,
              "#0d0887"
             ],
             [
              0.1111111111111111,
              "#46039f"
             ],
             [
              0.2222222222222222,
              "#7201a8"
             ],
             [
              0.3333333333333333,
              "#9c179e"
             ],
             [
              0.4444444444444444,
              "#bd3786"
             ],
             [
              0.5555555555555556,
              "#d8576b"
             ],
             [
              0.6666666666666666,
              "#ed7953"
             ],
             [
              0.7777777777777778,
              "#fb9f3a"
             ],
             [
              0.8888888888888888,
              "#fdca26"
             ],
             [
              1,
              "#f0f921"
             ]
            ],
            "type": "heatmap"
           }
          ],
          "heatmapgl": [
           {
            "colorbar": {
             "outlinewidth": 0,
             "ticks": ""
            },
            "colorscale": [
             [
              0,
              "#0d0887"
             ],
             [
              0.1111111111111111,
              "#46039f"
             ],
             [
              0.2222222222222222,
              "#7201a8"
             ],
             [
              0.3333333333333333,
              "#9c179e"
             ],
             [
              0.4444444444444444,
              "#bd3786"
             ],
             [
              0.5555555555555556,
              "#d8576b"
             ],
             [
              0.6666666666666666,
              "#ed7953"
             ],
             [
              0.7777777777777778,
              "#fb9f3a"
             ],
             [
              0.8888888888888888,
              "#fdca26"
             ],
             [
              1,
              "#f0f921"
             ]
            ],
            "type": "heatmapgl"
           }
          ],
          "histogram": [
           {
            "marker": {
             "pattern": {
              "fillmode": "overlay",
              "size": 10,
              "solidity": 0.2
             }
            },
            "type": "histogram"
           }
          ],
          "histogram2d": [
           {
            "colorbar": {
             "outlinewidth": 0,
             "ticks": ""
            },
            "colorscale": [
             [
              0,
              "#0d0887"
             ],
             [
              0.1111111111111111,
              "#46039f"
             ],
             [
              0.2222222222222222,
              "#7201a8"
             ],
             [
              0.3333333333333333,
              "#9c179e"
             ],
             [
              0.4444444444444444,
              "#bd3786"
             ],
             [
              0.5555555555555556,
              "#d8576b"
             ],
             [
              0.6666666666666666,
              "#ed7953"
             ],
             [
              0.7777777777777778,
              "#fb9f3a"
             ],
             [
              0.8888888888888888,
              "#fdca26"
             ],
             [
              1,
              "#f0f921"
             ]
            ],
            "type": "histogram2d"
           }
          ],
          "histogram2dcontour": [
           {
            "colorbar": {
             "outlinewidth": 0,
             "ticks": ""
            },
            "colorscale": [
             [
              0,
              "#0d0887"
             ],
             [
              0.1111111111111111,
              "#46039f"
             ],
             [
              0.2222222222222222,
              "#7201a8"
             ],
             [
              0.3333333333333333,
              "#9c179e"
             ],
             [
              0.4444444444444444,
              "#bd3786"
             ],
             [
              0.5555555555555556,
              "#d8576b"
             ],
             [
              0.6666666666666666,
              "#ed7953"
             ],
             [
              0.7777777777777778,
              "#fb9f3a"
             ],
             [
              0.8888888888888888,
              "#fdca26"
             ],
             [
              1,
              "#f0f921"
             ]
            ],
            "type": "histogram2dcontour"
           }
          ],
          "mesh3d": [
           {
            "colorbar": {
             "outlinewidth": 0,
             "ticks": ""
            },
            "type": "mesh3d"
           }
          ],
          "parcoords": [
           {
            "line": {
             "colorbar": {
              "outlinewidth": 0,
              "ticks": ""
             }
            },
            "type": "parcoords"
           }
          ],
          "pie": [
           {
            "automargin": true,
            "type": "pie"
           }
          ],
          "scatter": [
           {
            "marker": {
             "colorbar": {
              "outlinewidth": 0,
              "ticks": ""
             }
            },
            "type": "scatter"
           }
          ],
          "scatter3d": [
           {
            "line": {
             "colorbar": {
              "outlinewidth": 0,
              "ticks": ""
             }
            },
            "marker": {
             "colorbar": {
              "outlinewidth": 0,
              "ticks": ""
             }
            },
            "type": "scatter3d"
           }
          ],
          "scattercarpet": [
           {
            "marker": {
             "colorbar": {
              "outlinewidth": 0,
              "ticks": ""
             }
            },
            "type": "scattercarpet"
           }
          ],
          "scattergeo": [
           {
            "marker": {
             "colorbar": {
              "outlinewidth": 0,
              "ticks": ""
             }
            },
            "type": "scattergeo"
           }
          ],
          "scattergl": [
           {
            "marker": {
             "colorbar": {
              "outlinewidth": 0,
              "ticks": ""
             }
            },
            "type": "scattergl"
           }
          ],
          "scattermapbox": [
           {
            "marker": {
             "colorbar": {
              "outlinewidth": 0,
              "ticks": ""
             }
            },
            "type": "scattermapbox"
           }
          ],
          "scatterpolar": [
           {
            "marker": {
             "colorbar": {
              "outlinewidth": 0,
              "ticks": ""
             }
            },
            "type": "scatterpolar"
           }
          ],
          "scatterpolargl": [
           {
            "marker": {
             "colorbar": {
              "outlinewidth": 0,
              "ticks": ""
             }
            },
            "type": "scatterpolargl"
           }
          ],
          "scatterternary": [
           {
            "marker": {
             "colorbar": {
              "outlinewidth": 0,
              "ticks": ""
             }
            },
            "type": "scatterternary"
           }
          ],
          "surface": [
           {
            "colorbar": {
             "outlinewidth": 0,
             "ticks": ""
            },
            "colorscale": [
             [
              0,
              "#0d0887"
             ],
             [
              0.1111111111111111,
              "#46039f"
             ],
             [
              0.2222222222222222,
              "#7201a8"
             ],
             [
              0.3333333333333333,
              "#9c179e"
             ],
             [
              0.4444444444444444,
              "#bd3786"
             ],
             [
              0.5555555555555556,
              "#d8576b"
             ],
             [
              0.6666666666666666,
              "#ed7953"
             ],
             [
              0.7777777777777778,
              "#fb9f3a"
             ],
             [
              0.8888888888888888,
              "#fdca26"
             ],
             [
              1,
              "#f0f921"
             ]
            ],
            "type": "surface"
           }
          ],
          "table": [
           {
            "cells": {
             "fill": {
              "color": "#EBF0F8"
             },
             "line": {
              "color": "white"
             }
            },
            "header": {
             "fill": {
              "color": "#C8D4E3"
             },
             "line": {
              "color": "white"
             }
            },
            "type": "table"
           }
          ]
         },
         "layout": {
          "annotationdefaults": {
           "arrowcolor": "#2a3f5f",
           "arrowhead": 0,
           "arrowwidth": 1
          },
          "autotypenumbers": "strict",
          "coloraxis": {
           "colorbar": {
            "outlinewidth": 0,
            "ticks": ""
           }
          },
          "colorscale": {
           "diverging": [
            [
             0,
             "#8e0152"
            ],
            [
             0.1,
             "#c51b7d"
            ],
            [
             0.2,
             "#de77ae"
            ],
            [
             0.3,
             "#f1b6da"
            ],
            [
             0.4,
             "#fde0ef"
            ],
            [
             0.5,
             "#f7f7f7"
            ],
            [
             0.6,
             "#e6f5d0"
            ],
            [
             0.7,
             "#b8e186"
            ],
            [
             0.8,
             "#7fbc41"
            ],
            [
             0.9,
             "#4d9221"
            ],
            [
             1,
             "#276419"
            ]
           ],
           "sequential": [
            [
             0,
             "#0d0887"
            ],
            [
             0.1111111111111111,
             "#46039f"
            ],
            [
             0.2222222222222222,
             "#7201a8"
            ],
            [
             0.3333333333333333,
             "#9c179e"
            ],
            [
             0.4444444444444444,
             "#bd3786"
            ],
            [
             0.5555555555555556,
             "#d8576b"
            ],
            [
             0.6666666666666666,
             "#ed7953"
            ],
            [
             0.7777777777777778,
             "#fb9f3a"
            ],
            [
             0.8888888888888888,
             "#fdca26"
            ],
            [
             1,
             "#f0f921"
            ]
           ],
           "sequentialminus": [
            [
             0,
             "#0d0887"
            ],
            [
             0.1111111111111111,
             "#46039f"
            ],
            [
             0.2222222222222222,
             "#7201a8"
            ],
            [
             0.3333333333333333,
             "#9c179e"
            ],
            [
             0.4444444444444444,
             "#bd3786"
            ],
            [
             0.5555555555555556,
             "#d8576b"
            ],
            [
             0.6666666666666666,
             "#ed7953"
            ],
            [
             0.7777777777777778,
             "#fb9f3a"
            ],
            [
             0.8888888888888888,
             "#fdca26"
            ],
            [
             1,
             "#f0f921"
            ]
           ]
          },
          "colorway": [
           "#636efa",
           "#EF553B",
           "#00cc96",
           "#ab63fa",
           "#FFA15A",
           "#19d3f3",
           "#FF6692",
           "#B6E880",
           "#FF97FF",
           "#FECB52"
          ],
          "font": {
           "color": "#2a3f5f"
          },
          "geo": {
           "bgcolor": "white",
           "lakecolor": "white",
           "landcolor": "#E5ECF6",
           "showlakes": true,
           "showland": true,
           "subunitcolor": "white"
          },
          "hoverlabel": {
           "align": "left"
          },
          "hovermode": "closest",
          "mapbox": {
           "style": "light"
          },
          "paper_bgcolor": "white",
          "plot_bgcolor": "#E5ECF6",
          "polar": {
           "angularaxis": {
            "gridcolor": "white",
            "linecolor": "white",
            "ticks": ""
           },
           "bgcolor": "#E5ECF6",
           "radialaxis": {
            "gridcolor": "white",
            "linecolor": "white",
            "ticks": ""
           }
          },
          "scene": {
           "xaxis": {
            "backgroundcolor": "#E5ECF6",
            "gridcolor": "white",
            "gridwidth": 2,
            "linecolor": "white",
            "showbackground": true,
            "ticks": "",
            "zerolinecolor": "white"
           },
           "yaxis": {
            "backgroundcolor": "#E5ECF6",
            "gridcolor": "white",
            "gridwidth": 2,
            "linecolor": "white",
            "showbackground": true,
            "ticks": "",
            "zerolinecolor": "white"
           },
           "zaxis": {
            "backgroundcolor": "#E5ECF6",
            "gridcolor": "white",
            "gridwidth": 2,
            "linecolor": "white",
            "showbackground": true,
            "ticks": "",
            "zerolinecolor": "white"
           }
          },
          "shapedefaults": {
           "line": {
            "color": "#2a3f5f"
           }
          },
          "ternary": {
           "aaxis": {
            "gridcolor": "white",
            "linecolor": "white",
            "ticks": ""
           },
           "baxis": {
            "gridcolor": "white",
            "linecolor": "white",
            "ticks": ""
           },
           "bgcolor": "#E5ECF6",
           "caxis": {
            "gridcolor": "white",
            "linecolor": "white",
            "ticks": ""
           }
          },
          "title": {
           "x": 0.05
          },
          "xaxis": {
           "automargin": true,
           "gridcolor": "white",
           "linecolor": "white",
           "ticks": "",
           "title": {
            "standoff": 15
           },
           "zerolinecolor": "white",
           "zerolinewidth": 2
          },
          "yaxis": {
           "automargin": true,
           "gridcolor": "white",
           "linecolor": "white",
           "ticks": "",
           "title": {
            "standoff": 15
           },
           "zerolinecolor": "white",
           "zerolinewidth": 2
          }
         }
        },
        "title": {
         "text": "Parallel Coordinate Plot"
        }
       }
      },
      "text/html": [
       "<div>                            <div id=\"0682315a-39c2-4847-b356-47e5f1e876ef\" class=\"plotly-graph-div\" style=\"height:525px; width:100%;\"></div>            <script type=\"text/javascript\">                require([\"plotly\"], function(Plotly) {                    window.PLOTLYENV=window.PLOTLYENV || {};                                    if (document.getElementById(\"0682315a-39c2-4847-b356-47e5f1e876ef\")) {                    Plotly.newPlot(                        \"0682315a-39c2-4847-b356-47e5f1e876ef\",                        [{\"dimensions\":[{\"label\":\"Objective Value\",\"range\":[0.9293212294578552,0.9932655692100525],\"values\":[0.9915066957473755,0.9511135816574097,0.9910978674888611,0.9907070398330688,0.9524132609367371,0.987181544303894,0.9917507767677307,0.9928286075592041,0.9925762414932251,0.9907979965209961,0.9931787252426147,0.9927230477333069,0.9911777377128601,0.9918420314788818,0.9916897416114807,0.9919791221618652,0.9928874969482422,0.992802083492279,0.9927480816841125,0.992544412612915,0.9919487237930298,0.9930534362792969,0.991991400718689,0.9931003451347351,0.9930599331855774,0.9928711652755737,0.9931187629699707,0.960926353931427,0.9912292957305908,0.9932196736335754,0.9931153059005737,0.9928821921348572,0.9928538799285889,0.9926259517669678,0.9932336807250977,0.9931749701499939,0.9921660423278809,0.9855668544769287,0.9866743683815002,0.9899948835372925,0.9842966794967651,0.9931816458702087,0.9691241979598999,0.9932321310043335,0.9925222396850586,0.9917363524436951,0.9932265281677246,0.9931684732437134,0.9930898547172546,0.9931974411010742,0.9929845929145813,0.9914588928222656,0.9932554960250854,0.993091881275177,0.9932142496109009,0.9931395053863525,0.9762781858444214,0.9665723443031311,0.9927735924720764,0.9293212294578552,0.9931506514549255,0.9931808710098267,0.99298495054245,0.9929518103599548,0.9797114133834839,0.9929871559143066,0.992764949798584,0.9932647943496704,0.9887518882751465,0.9931080341339111,0.9928370118141174,0.9929739236831665,0.9929104447364807,0.992906928062439,0.9913443326950073,0.9929565787315369,0.9928606748580933,0.9931830167770386,0.9930288195610046,0.9930598735809326,0.9930357336997986,0.9932022094726562,0.9929892420768738,0.9924591183662415,0.9932599663734436,0.9929605722427368,0.9931479096412659,0.9931650161743164,0.9930176138877869,0.9925886392593384,0.9929060339927673,0.993177056312561,0.9930278062820435,0.9931297898292542,0.9931127429008484,0.9931573271751404,0.9932655692100525,0.9929707646369934,0.9931382536888123,0.9929894208908081]},{\"label\":\"amsgrad\",\"range\":[0,1],\"ticktext\":[true,false],\"tickvals\":[0,1],\"values\":[0,0,1,0,1,0,0,0,0,1,0,1,1,0,0,1,1,1,1,1,1,1,1,1,1,1,1,1,1,1,1,1,1,1,0,0,1,0,1,1,0,1,1,1,1,1,0,0,0,0,0,0,0,0,0,0,0,0,0,0,0,0,0,0,0,0,0,0,0,0,0,0,0,0,1,0,1,0,0,0,0,0,0,0,1,1,1,1,1,1,0,0,0,1,0,0,0,0,0,0]},{\"label\":\"beta1\",\"range\":[0.20214887942604837,0.8995138400731207],\"values\":[0.26400687771012554,0.4167004908345767,0.859160100162029,0.6875336850151672,0.7730009839821634,0.8371850763135782,0.6120194560533556,0.6386261789452832,0.7748611895721701,0.8723271059509952,0.8058104859930464,0.5998293461841486,0.5072633695379738,0.46145354558573376,0.4875944040308696,0.40172585742669137,0.37654252290386503,0.35268371567384077,0.369187569443692,0.3479689360171604,0.20214887942604837,0.5628282137536813,0.5764906106392294,0.5285980463035433,0.5388698601976885,0.5073345373470042,0.6545347430785633,0.6704014226552943,0.7522914341327784,0.7537429386813882,0.8861459297347075,0.7402297194890849,0.8502018551538861,0.7843397090840883,0.3088508540835634,0.2925928444896003,0.3320264541266975,0.6320131657804157,0.25586274059904424,0.29620897697389703,0.6896621774572761,0.8974279446803257,0.8249169259971633,0.8872256408047126,0.7913191535496915,0.8852922062950503,0.7339416952967853,0.7365621318791994,0.8222097827489211,0.8386817318798409,0.7318215012930097,0.7945464872093585,0.8995138400731207,0.8545847414571339,0.7078554587202918,0.7198640568280709,0.6995408238394021,0.7755845102458295,0.8054817953645569,0.7563824261532931,0.8642034151979215,0.8434440395466796,0.8679270047753985,0.8098093971714666,0.771925252537874,0.7044353785519144,0.8964934809798606,0.6810087116719199,0.6873349625052046,0.6668902632523279,0.8662387423334036,0.611953652776602,0.754543653288114,0.8320781560441146,0.6381105061243897,0.7911100750520476,0.7242955473248687,0.6803692867244169,0.5859654701549935,0.6730758441000597,0.7055432607145653,0.741720256656971,0.4583152057309874,0.8180214946520711,0.8498332254056216,0.8817782435125635,0.8989495468906701,0.79462178047412,0.8469820176921652,0.7636614112069834,0.7196385857812269,0.8244739037579838,0.6566351719476635,0.7343424270171619,0.681916289601639,0.7078548537535281,0.7482115163186268,0.7465630028181766,0.8340945138620078,0.8780639740658238]},{\"label\":\"beta2\",\"range\":[-0.0455813018993066,-6.702331141025495e-05],\"ticktext\":[\"0.9\",\"1\"],\"tickvals\":[-0.0455813018993066,-6.702331141025495e-05],\"values\":[-0.0022902692713632745,-0.040800649810128174,-0.04286767439697545,-0.02638039862127769,-0.028416909364035087,-0.007934220564736258,-0.005019080580744796,-0.012284789522161685,-0.004396526367354838,-0.03992524638675754,-0.003942728994629247,-0.020839051816431163,-0.01649319183641242,-0.0031292622384118986,-0.0039950355309112924,-0.01883515365613878,-0.01975426665940337,-0.035204967354456655,-0.035460346983853315,-0.0370602586339586,-0.0455813018993066,-0.012295625296164151,-0.010092464442849431,-0.011725180339077405,-0.009977327814480335,-0.009940368841698065,-0.0065859336784370925,-0.007349182671751058,-0.005447068372232389,-0.0007068366387883215,-0.0014776018897851156,-0.0034885729110703772,-0.0052209266799215556,-0.0008700248629661836,-0.022094966956574043,-0.025804825906489595,-0.02600911987773298,-0.03167826528824336,-0.009849558223355662,-0.026777862054092393,-0.014272726331993658,-0.0011767580381129817,-0.0011099447789389705,-0.00031444394181417637,-0.00012330437115072384,-0.006304424023642739,-0.006871638155110918,-0.004209726172438639,-0.0001493541098973719,-0.007699281223412701,-0.01532788073898007,-0.02360608373248502,-0.0026389418730998985,-0.003319703400266688,-0.004771125701515009,-0.0036754890171805965,-0.0027551171858737535,-0.002370521375352973,-0.03023705266035138,-0.008391327058458286,-0.004908146487701275,-0.008057072349358232,-0.00599241196061677,-0.017145313329849483,-0.0018378241001652162,-0.012980915923141838,-0.008938131916330352,-0.002640921623805215,-0.00015733344082252337,-0.0027382339991256313,-0.006970070151137444,-0.010755954074703276,-0.005407796387048093,-0.0021199821173502735,-0.003826965961531751,-0.0063258058160993984,-0.02266705504649119,-0.013673812775653322,-0.009177022272911525,-0.001374543807792142,-0.007094548737309527,-0.010959868971159102,-0.011294526343000592,-6.702331141025495e-05,-0.005155687386924458,-0.0012628483914289446,-0.0030413644872719194,-0.004606671443369604,-0.00753526767275459,-0.009340811151985972,-0.0022307509706363787,-0.005880149006759778,-0.010203452864158524,-0.007949018295455454,-0.014298821921604345,-0.012590596145267688,-0.017954129718368805,-0.019314474260881828,-0.016844322844019585,-0.018156658450114323]},{\"label\":\"l2\",\"range\":[-5.964388884413194,-2.0003611587622343],\"ticktext\":[\"1.09e-06\",\"1e-05\",\"0.0001\",\"0.001\",\"0.00999\"],\"tickvals\":[-5.964388884413194,-5,-4,-3,-2.0003611587622343],\"values\":[-5.0555647975048625,-5.917557346673431,-4.034750284190658,-5.304750639217441,-5.509637074310468,-3.5785931337804504,-2.016760303849447,-2.2093163343223363,-3.180251411889854,-4.146132552851569,-2.3675455932494605,-2.333771705100934,-2.0852911665682496,-2.234882604583031,-2.070942970782645,-2.894649572406478,-2.903931484474617,-2.9549866578240644,-3.14335425284234,-3.055455061353139,-3.6799063159364054,-2.680723450102177,-3.3851539237234904,-2.6422623792317808,-2.6028394151214034,-2.548227432345226,-2.573932302045245,-4.309903123456197,-3.4519062283238005,-2.563623641745533,-2.395607991627779,-2.289311334997891,-2.7454384957480578,-2.175750541206456,-2.4311384214617213,-2.4263624883703003,-3.7363551153412646,-5.5949617821955355,-5.964388884413194,-4.7385883538648095,-3.8562119485968984,-2.35649553005576,-4.423421348690978,-2.431823660123291,-3.2831261160158443,-2.0530375597387995,-2.4451384411558954,-2.3823613448603274,-2.7295461468754256,-2.267461952527881,-2.81858662409456,-3.151977027927913,-2.3751834690530544,-2.192448772036748,-2.488899938696901,-2.481730512078953,-5.210104114571049,-5.614543121974183,-2.7960481027021586,-4.845315648671252,-2.204682462089427,-2.404560519003664,-2.979676214135369,-2.199672576203637,-2.494781803367355,-2.7391389443105427,-2.283233916585157,-2.6129220248907523,-3.9310268134467585,-2.576987924124143,-2.8821304418002915,-2.4796739074734524,-2.681869817371585,-3.0320764350623763,-2.0003611587622343,-2.3161569342240154,-2.1200846004462375,-2.6056335673163122,-2.59517273677092,-2.439345852618212,-2.8197632525799423,-2.3151360574134143,-2.13659411180909,-2.3563605544269945,-2.477299267887194,-2.512060150367596,-2.2824116815537505,-2.6650578607355278,-2.405898628695891,-2.0956298805212117,-2.888045686228808,-2.518092899696122,-2.2554046456485546,-2.666294966360099,-2.567229946971063,-2.467362154854584,-2.6286407490137313,-2.7422382052361005,-2.816830762393214,-2.965239612662721]},{\"label\":\"layers\",\"range\":[2,5],\"values\":[2,5,3,3,3,5,5,2,5,4,5,4,4,2,2,4,4,4,4,4,5,4,5,4,4,4,4,3,4,5,5,2,5,5,5,5,5,5,3,3,5,5,5,5,5,5,5,5,5,5,5,5,5,5,5,5,5,5,5,5,5,5,5,5,5,3,5,5,5,5,5,5,5,4,5,5,5,3,3,3,3,2,2,5,5,4,5,5,5,5,5,2,5,5,3,2,2,2,2,2]},{\"label\":\"lr\",\"range\":[-4.93342171095146,-1.003486926547948],\"ticktext\":[\"1.17e-05\",\"0.0001\",\"0.001\",\"0.01\",\"0.0992\"],\"tickvals\":[-4.93342171095146,-4,-3,-2,-1.003486926547948],\"values\":[-2.7896009539121702,-2.092909862066926,-2.9522889714138225,-3.8431596071105596,-2.0399262364501745,-4.226604203068343,-2.234751021613129,-2.244916298169318,-1.6497632903568407,-3.021523202031828,-1.9068414122637187,-2.2996437476848515,-1.003486926547948,-3.501856887297717,-3.7836076362238256,-3.6193499628822203,-2.0853987075759273,-1.4873834029471995,-1.5031916642497758,-1.4985614119272772,-1.583638733690462,-1.7721092256484394,-1.0602657522543322,-1.8139788648242399,-2.386297560115416,-2.4355480561738636,-1.869598486137871,-2.4420183366956056,-3.2525800159261316,-1.992494480831212,-1.8632109484841184,-2.0870780059238685,-2.3285429486890616,-2.478581722695524,-1.6842844377913855,-1.320894103923386,-1.7152297796657767,-4.570543724919428,-4.623463655312176,-4.559994231407635,-2.662417722762587,-1.267676799650083,-1.2243843361738695,-1.8610037118271892,-1.2430021971802172,-2.699981308866711,-1.7151286813881141,-1.2462171576067875,-2.175738807033728,-1.6621746402646935,-1.6743486659419313,-3.176831493440989,-2.0082975884471432,-1.9938947251705927,-2.208360815331022,-2.8510144992125874,-2.5409808438538293,-2.0019695122834054,-2.6082550906529827,-2.0363040284783667,-1.6911555907763378,-1.496197758943088,-1.3957125194895843,-1.923088687617311,-4.93342171095146,-1.7412376376610137,-2.1618720135049827,-2.3406331668037894,-2.3992187414827675,-2.122470195286442,-1.8747948012263578,-2.2885039600244306,-1.3984743766080823,-1.5638854259209234,-2.8871752044159336,-2.514026914354783,-1.819107516112263,-1.0998885279778108,-1.0953501187597763,-1.9815444228103802,-1.363693329590784,-1.1407027218393815,-1.6170244864653855,-2.7328891797706816,-2.2629493917793733,-2.5963250792102435,-1.9126165566101783,-1.7650430178500387,-2.3539095472288936,-2.1924594776108064,-2.0343327682574897,-1.7716075522285637,-1.4992079547682202,-1.1881543712902884,-1.0359922176688352,-1.17439714011364,-1.3803011887399828,-1.3338225777488715,-1.4430750442606308,-1.5614763984698623]},{\"label\":\"n_unit\",\"range\":[11,200],\"values\":[17,143,61,136,86,190,189,184,105,144,87,28,52,16,11,42,50,67,110,70,110,88,133,88,93,93,118,161,121,100,155,82,98,186,189,190,200,184,25,83,182,158,179,197,197,200,171,171,148,166,170,134,175,171,186,185,179,149,195,141,161,168,179,193,77,174,127,166,189,166,152,102,176,162,200,184,164,155,175,155,116,96,92,61,99,112,100,80,123,107,95,75,194,180,157,171,167,36,167,174]},{\"label\":\"ngf\",\"range\":[0,2],\"ticktext\":[16,32,64],\"tickvals\":[0,1,2],\"values\":[0,0,0,0,0,0,0,0,0,0,0,1,1,1,1,1,1,1,1,1,1,1,1,1,1,1,1,1,1,1,1,1,1,1,1,1,1,2,2,2,2,2,2,2,2,2,2,2,2,2,2,2,2,2,2,2,2,2,2,2,2,2,2,2,2,2,2,2,2,2,2,2,2,2,2,2,2,2,2,2,2,2,2,2,2,2,2,2,2,2,2,2,2,2,2,2,2,2,2,2]}],\"labelangle\":30,\"labelside\":\"bottom\",\"line\":{\"color\":[0.9915066957473755,0.9511135816574097,0.9910978674888611,0.9907070398330688,0.9524132609367371,0.987181544303894,0.9917507767677307,0.9928286075592041,0.9925762414932251,0.9907979965209961,0.9931787252426147,0.9927230477333069,0.9911777377128601,0.9918420314788818,0.9916897416114807,0.9919791221618652,0.9928874969482422,0.992802083492279,0.9927480816841125,0.992544412612915,0.9919487237930298,0.9930534362792969,0.991991400718689,0.9931003451347351,0.9930599331855774,0.9928711652755737,0.9931187629699707,0.960926353931427,0.9912292957305908,0.9932196736335754,0.9931153059005737,0.9928821921348572,0.9928538799285889,0.9926259517669678,0.9932336807250977,0.9931749701499939,0.9921660423278809,0.9855668544769287,0.9866743683815002,0.9899948835372925,0.9842966794967651,0.9931816458702087,0.9691241979598999,0.9932321310043335,0.9925222396850586,0.9917363524436951,0.9932265281677246,0.9931684732437134,0.9930898547172546,0.9931974411010742,0.9929845929145813,0.9914588928222656,0.9932554960250854,0.993091881275177,0.9932142496109009,0.9931395053863525,0.9762781858444214,0.9665723443031311,0.9927735924720764,0.9293212294578552,0.9931506514549255,0.9931808710098267,0.99298495054245,0.9929518103599548,0.9797114133834839,0.9929871559143066,0.992764949798584,0.9932647943496704,0.9887518882751465,0.9931080341339111,0.9928370118141174,0.9929739236831665,0.9929104447364807,0.992906928062439,0.9913443326950073,0.9929565787315369,0.9928606748580933,0.9931830167770386,0.9930288195610046,0.9930598735809326,0.9930357336997986,0.9932022094726562,0.9929892420768738,0.9924591183662415,0.9932599663734436,0.9929605722427368,0.9931479096412659,0.9931650161743164,0.9930176138877869,0.9925886392593384,0.9929060339927673,0.993177056312561,0.9930278062820435,0.9931297898292542,0.9931127429008484,0.9931573271751404,0.9932655692100525,0.9929707646369934,0.9931382536888123,0.9929894208908081],\"colorbar\":{\"title\":{\"text\":\"Objective Value\"}},\"colorscale\":[[0.0,\"rgb(247,251,255)\"],[0.125,\"rgb(222,235,247)\"],[0.25,\"rgb(198,219,239)\"],[0.375,\"rgb(158,202,225)\"],[0.5,\"rgb(107,174,214)\"],[0.625,\"rgb(66,146,198)\"],[0.75,\"rgb(33,113,181)\"],[0.875,\"rgb(8,81,156)\"],[1.0,\"rgb(8,48,107)\"]],\"reversescale\":false,\"showscale\":true},\"type\":\"parcoords\"}],                        {\"title\":{\"text\":\"Parallel Coordinate Plot\"},\"template\":{\"data\":{\"bar\":[{\"error_x\":{\"color\":\"#2a3f5f\"},\"error_y\":{\"color\":\"#2a3f5f\"},\"marker\":{\"line\":{\"color\":\"#E5ECF6\",\"width\":0.5},\"pattern\":{\"fillmode\":\"overlay\",\"size\":10,\"solidity\":0.2}},\"type\":\"bar\"}],\"barpolar\":[{\"marker\":{\"line\":{\"color\":\"#E5ECF6\",\"width\":0.5},\"pattern\":{\"fillmode\":\"overlay\",\"size\":10,\"solidity\":0.2}},\"type\":\"barpolar\"}],\"carpet\":[{\"aaxis\":{\"endlinecolor\":\"#2a3f5f\",\"gridcolor\":\"white\",\"linecolor\":\"white\",\"minorgridcolor\":\"white\",\"startlinecolor\":\"#2a3f5f\"},\"baxis\":{\"endlinecolor\":\"#2a3f5f\",\"gridcolor\":\"white\",\"linecolor\":\"white\",\"minorgridcolor\":\"white\",\"startlinecolor\":\"#2a3f5f\"},\"type\":\"carpet\"}],\"choropleth\":[{\"colorbar\":{\"outlinewidth\":0,\"ticks\":\"\"},\"type\":\"choropleth\"}],\"contour\":[{\"colorbar\":{\"outlinewidth\":0,\"ticks\":\"\"},\"colorscale\":[[0.0,\"#0d0887\"],[0.1111111111111111,\"#46039f\"],[0.2222222222222222,\"#7201a8\"],[0.3333333333333333,\"#9c179e\"],[0.4444444444444444,\"#bd3786\"],[0.5555555555555556,\"#d8576b\"],[0.6666666666666666,\"#ed7953\"],[0.7777777777777778,\"#fb9f3a\"],[0.8888888888888888,\"#fdca26\"],[1.0,\"#f0f921\"]],\"type\":\"contour\"}],\"contourcarpet\":[{\"colorbar\":{\"outlinewidth\":0,\"ticks\":\"\"},\"type\":\"contourcarpet\"}],\"heatmap\":[{\"colorbar\":{\"outlinewidth\":0,\"ticks\":\"\"},\"colorscale\":[[0.0,\"#0d0887\"],[0.1111111111111111,\"#46039f\"],[0.2222222222222222,\"#7201a8\"],[0.3333333333333333,\"#9c179e\"],[0.4444444444444444,\"#bd3786\"],[0.5555555555555556,\"#d8576b\"],[0.6666666666666666,\"#ed7953\"],[0.7777777777777778,\"#fb9f3a\"],[0.8888888888888888,\"#fdca26\"],[1.0,\"#f0f921\"]],\"type\":\"heatmap\"}],\"heatmapgl\":[{\"colorbar\":{\"outlinewidth\":0,\"ticks\":\"\"},\"colorscale\":[[0.0,\"#0d0887\"],[0.1111111111111111,\"#46039f\"],[0.2222222222222222,\"#7201a8\"],[0.3333333333333333,\"#9c179e\"],[0.4444444444444444,\"#bd3786\"],[0.5555555555555556,\"#d8576b\"],[0.6666666666666666,\"#ed7953\"],[0.7777777777777778,\"#fb9f3a\"],[0.8888888888888888,\"#fdca26\"],[1.0,\"#f0f921\"]],\"type\":\"heatmapgl\"}],\"histogram\":[{\"marker\":{\"pattern\":{\"fillmode\":\"overlay\",\"size\":10,\"solidity\":0.2}},\"type\":\"histogram\"}],\"histogram2d\":[{\"colorbar\":{\"outlinewidth\":0,\"ticks\":\"\"},\"colorscale\":[[0.0,\"#0d0887\"],[0.1111111111111111,\"#46039f\"],[0.2222222222222222,\"#7201a8\"],[0.3333333333333333,\"#9c179e\"],[0.4444444444444444,\"#bd3786\"],[0.5555555555555556,\"#d8576b\"],[0.6666666666666666,\"#ed7953\"],[0.7777777777777778,\"#fb9f3a\"],[0.8888888888888888,\"#fdca26\"],[1.0,\"#f0f921\"]],\"type\":\"histogram2d\"}],\"histogram2dcontour\":[{\"colorbar\":{\"outlinewidth\":0,\"ticks\":\"\"},\"colorscale\":[[0.0,\"#0d0887\"],[0.1111111111111111,\"#46039f\"],[0.2222222222222222,\"#7201a8\"],[0.3333333333333333,\"#9c179e\"],[0.4444444444444444,\"#bd3786\"],[0.5555555555555556,\"#d8576b\"],[0.6666666666666666,\"#ed7953\"],[0.7777777777777778,\"#fb9f3a\"],[0.8888888888888888,\"#fdca26\"],[1.0,\"#f0f921\"]],\"type\":\"histogram2dcontour\"}],\"mesh3d\":[{\"colorbar\":{\"outlinewidth\":0,\"ticks\":\"\"},\"type\":\"mesh3d\"}],\"parcoords\":[{\"line\":{\"colorbar\":{\"outlinewidth\":0,\"ticks\":\"\"}},\"type\":\"parcoords\"}],\"pie\":[{\"automargin\":true,\"type\":\"pie\"}],\"scatter\":[{\"marker\":{\"colorbar\":{\"outlinewidth\":0,\"ticks\":\"\"}},\"type\":\"scatter\"}],\"scatter3d\":[{\"line\":{\"colorbar\":{\"outlinewidth\":0,\"ticks\":\"\"}},\"marker\":{\"colorbar\":{\"outlinewidth\":0,\"ticks\":\"\"}},\"type\":\"scatter3d\"}],\"scattercarpet\":[{\"marker\":{\"colorbar\":{\"outlinewidth\":0,\"ticks\":\"\"}},\"type\":\"scattercarpet\"}],\"scattergeo\":[{\"marker\":{\"colorbar\":{\"outlinewidth\":0,\"ticks\":\"\"}},\"type\":\"scattergeo\"}],\"scattergl\":[{\"marker\":{\"colorbar\":{\"outlinewidth\":0,\"ticks\":\"\"}},\"type\":\"scattergl\"}],\"scattermapbox\":[{\"marker\":{\"colorbar\":{\"outlinewidth\":0,\"ticks\":\"\"}},\"type\":\"scattermapbox\"}],\"scatterpolar\":[{\"marker\":{\"colorbar\":{\"outlinewidth\":0,\"ticks\":\"\"}},\"type\":\"scatterpolar\"}],\"scatterpolargl\":[{\"marker\":{\"colorbar\":{\"outlinewidth\":0,\"ticks\":\"\"}},\"type\":\"scatterpolargl\"}],\"scatterternary\":[{\"marker\":{\"colorbar\":{\"outlinewidth\":0,\"ticks\":\"\"}},\"type\":\"scatterternary\"}],\"surface\":[{\"colorbar\":{\"outlinewidth\":0,\"ticks\":\"\"},\"colorscale\":[[0.0,\"#0d0887\"],[0.1111111111111111,\"#46039f\"],[0.2222222222222222,\"#7201a8\"],[0.3333333333333333,\"#9c179e\"],[0.4444444444444444,\"#bd3786\"],[0.5555555555555556,\"#d8576b\"],[0.6666666666666666,\"#ed7953\"],[0.7777777777777778,\"#fb9f3a\"],[0.8888888888888888,\"#fdca26\"],[1.0,\"#f0f921\"]],\"type\":\"surface\"}],\"table\":[{\"cells\":{\"fill\":{\"color\":\"#EBF0F8\"},\"line\":{\"color\":\"white\"}},\"header\":{\"fill\":{\"color\":\"#C8D4E3\"},\"line\":{\"color\":\"white\"}},\"type\":\"table\"}]},\"layout\":{\"annotationdefaults\":{\"arrowcolor\":\"#2a3f5f\",\"arrowhead\":0,\"arrowwidth\":1},\"autotypenumbers\":\"strict\",\"coloraxis\":{\"colorbar\":{\"outlinewidth\":0,\"ticks\":\"\"}},\"colorscale\":{\"diverging\":[[0,\"#8e0152\"],[0.1,\"#c51b7d\"],[0.2,\"#de77ae\"],[0.3,\"#f1b6da\"],[0.4,\"#fde0ef\"],[0.5,\"#f7f7f7\"],[0.6,\"#e6f5d0\"],[0.7,\"#b8e186\"],[0.8,\"#7fbc41\"],[0.9,\"#4d9221\"],[1,\"#276419\"]],\"sequential\":[[0.0,\"#0d0887\"],[0.1111111111111111,\"#46039f\"],[0.2222222222222222,\"#7201a8\"],[0.3333333333333333,\"#9c179e\"],[0.4444444444444444,\"#bd3786\"],[0.5555555555555556,\"#d8576b\"],[0.6666666666666666,\"#ed7953\"],[0.7777777777777778,\"#fb9f3a\"],[0.8888888888888888,\"#fdca26\"],[1.0,\"#f0f921\"]],\"sequentialminus\":[[0.0,\"#0d0887\"],[0.1111111111111111,\"#46039f\"],[0.2222222222222222,\"#7201a8\"],[0.3333333333333333,\"#9c179e\"],[0.4444444444444444,\"#bd3786\"],[0.5555555555555556,\"#d8576b\"],[0.6666666666666666,\"#ed7953\"],[0.7777777777777778,\"#fb9f3a\"],[0.8888888888888888,\"#fdca26\"],[1.0,\"#f0f921\"]]},\"colorway\":[\"#636efa\",\"#EF553B\",\"#00cc96\",\"#ab63fa\",\"#FFA15A\",\"#19d3f3\",\"#FF6692\",\"#B6E880\",\"#FF97FF\",\"#FECB52\"],\"font\":{\"color\":\"#2a3f5f\"},\"geo\":{\"bgcolor\":\"white\",\"lakecolor\":\"white\",\"landcolor\":\"#E5ECF6\",\"showlakes\":true,\"showland\":true,\"subunitcolor\":\"white\"},\"hoverlabel\":{\"align\":\"left\"},\"hovermode\":\"closest\",\"mapbox\":{\"style\":\"light\"},\"paper_bgcolor\":\"white\",\"plot_bgcolor\":\"#E5ECF6\",\"polar\":{\"angularaxis\":{\"gridcolor\":\"white\",\"linecolor\":\"white\",\"ticks\":\"\"},\"bgcolor\":\"#E5ECF6\",\"radialaxis\":{\"gridcolor\":\"white\",\"linecolor\":\"white\",\"ticks\":\"\"}},\"scene\":{\"xaxis\":{\"backgroundcolor\":\"#E5ECF6\",\"gridcolor\":\"white\",\"gridwidth\":2,\"linecolor\":\"white\",\"showbackground\":true,\"ticks\":\"\",\"zerolinecolor\":\"white\"},\"yaxis\":{\"backgroundcolor\":\"#E5ECF6\",\"gridcolor\":\"white\",\"gridwidth\":2,\"linecolor\":\"white\",\"showbackground\":true,\"ticks\":\"\",\"zerolinecolor\":\"white\"},\"zaxis\":{\"backgroundcolor\":\"#E5ECF6\",\"gridcolor\":\"white\",\"gridwidth\":2,\"linecolor\":\"white\",\"showbackground\":true,\"ticks\":\"\",\"zerolinecolor\":\"white\"}},\"shapedefaults\":{\"line\":{\"color\":\"#2a3f5f\"}},\"ternary\":{\"aaxis\":{\"gridcolor\":\"white\",\"linecolor\":\"white\",\"ticks\":\"\"},\"baxis\":{\"gridcolor\":\"white\",\"linecolor\":\"white\",\"ticks\":\"\"},\"bgcolor\":\"#E5ECF6\",\"caxis\":{\"gridcolor\":\"white\",\"linecolor\":\"white\",\"ticks\":\"\"}},\"title\":{\"x\":0.05},\"xaxis\":{\"automargin\":true,\"gridcolor\":\"white\",\"linecolor\":\"white\",\"ticks\":\"\",\"title\":{\"standoff\":15},\"zerolinecolor\":\"white\",\"zerolinewidth\":2},\"yaxis\":{\"automargin\":true,\"gridcolor\":\"white\",\"linecolor\":\"white\",\"ticks\":\"\",\"title\":{\"standoff\":15},\"zerolinecolor\":\"white\",\"zerolinewidth\":2}}}},                        {\"responsive\": true}                    ).then(function(){\n",
       "                            \n",
       "var gd = document.getElementById('0682315a-39c2-4847-b356-47e5f1e876ef');\n",
       "var x = new MutationObserver(function (mutations, observer) {{\n",
       "        var display = window.getComputedStyle(gd).display;\n",
       "        if (!display || display === 'none') {{\n",
       "            console.log([gd, 'removed!']);\n",
       "            Plotly.purge(gd);\n",
       "            observer.disconnect();\n",
       "        }}\n",
       "}});\n",
       "\n",
       "// Listen for the removal of the full notebook cells\n",
       "var notebookContainer = gd.closest('#notebook-container');\n",
       "if (notebookContainer) {{\n",
       "    x.observe(notebookContainer, {childList: true});\n",
       "}}\n",
       "\n",
       "// Listen for the clearing of the current output cell\n",
       "var outputEl = gd.closest('.output');\n",
       "if (outputEl) {{\n",
       "    x.observe(outputEl, {childList: true});\n",
       "}}\n",
       "\n",
       "                        })                };                });            </script>        </div>"
      ]
     },
     "metadata": {},
     "output_type": "display_data"
    }
   ],
   "source": [
    "optuna.visualization.plot_parallel_coordinate(study)\n"
   ]
  },
  {
   "cell_type": "code",
   "execution_count": 47,
   "metadata": {},
   "outputs": [
    {
     "ename": "ImportError",
     "evalue": "Tried to import 'sklearn' but failed. Please make sure that the package is installed correctly to use this feature. Actual error: No module named 'sklearn'.",
     "output_type": "error",
     "traceback": [
      "\u001b[0;31m---------------------------------------------------------------------------\u001b[0m",
      "\u001b[0;31mModuleNotFoundError\u001b[0m                       Traceback (most recent call last)",
      "\u001b[0;32m~/anaconda3/envs/pytorch3d/lib/python3.8/site-packages/optuna/importance/_fanova/_fanova.py\u001b[0m in \u001b[0;36m<module>\u001b[0;34m\u001b[0m\n\u001b[1;32m     35\u001b[0m \u001b[0;32mwith\u001b[0m \u001b[0mtry_import\u001b[0m\u001b[0;34m(\u001b[0m\u001b[0;34m)\u001b[0m \u001b[0;32mas\u001b[0m \u001b[0m_imports\u001b[0m\u001b[0;34m:\u001b[0m\u001b[0;34m\u001b[0m\u001b[0;34m\u001b[0m\u001b[0m\n\u001b[0;32m---> 36\u001b[0;31m     \u001b[0;32mfrom\u001b[0m \u001b[0msklearn\u001b[0m\u001b[0;34m.\u001b[0m\u001b[0mensemble\u001b[0m \u001b[0;32mimport\u001b[0m \u001b[0mRandomForestRegressor\u001b[0m\u001b[0;34m\u001b[0m\u001b[0;34m\u001b[0m\u001b[0m\n\u001b[0m\u001b[1;32m     37\u001b[0m \u001b[0;34m\u001b[0m\u001b[0m\n",
      "\u001b[0;31mModuleNotFoundError\u001b[0m: No module named 'sklearn'",
      "\nThe above exception was the direct cause of the following exception:\n",
      "\u001b[0;31mImportError\u001b[0m                               Traceback (most recent call last)",
      "\u001b[0;32m/tmp/ipykernel_924/2200918293.py\u001b[0m in \u001b[0;36m<module>\u001b[0;34m\u001b[0m\n\u001b[1;32m      1\u001b[0m \u001b[0;31m# import sklearn\u001b[0m\u001b[0;34m\u001b[0m\u001b[0;34m\u001b[0m\u001b[0;34m\u001b[0m\u001b[0m\n\u001b[0;32m----> 2\u001b[0;31m \u001b[0moptuna\u001b[0m\u001b[0;34m.\u001b[0m\u001b[0mvisualization\u001b[0m\u001b[0;34m.\u001b[0m\u001b[0mplot_param_importances\u001b[0m\u001b[0;34m(\u001b[0m\u001b[0mstudy\u001b[0m\u001b[0;34m)\u001b[0m\u001b[0;34m\u001b[0m\u001b[0;34m\u001b[0m\u001b[0m\n\u001b[0m",
      "\u001b[0;32m~/anaconda3/envs/pytorch3d/lib/python3.8/site-packages/optuna/visualization/_param_importances.py\u001b[0m in \u001b[0;36mplot_param_importances\u001b[0;34m(study, evaluator, params, target, target_name)\u001b[0m\n\u001b[1;32m    110\u001b[0m         \u001b[0;32mreturn\u001b[0m \u001b[0mgo\u001b[0m\u001b[0;34m.\u001b[0m\u001b[0mFigure\u001b[0m\u001b[0;34m(\u001b[0m\u001b[0mdata\u001b[0m\u001b[0;34m=\u001b[0m\u001b[0;34m[\u001b[0m\u001b[0;34m]\u001b[0m\u001b[0;34m,\u001b[0m \u001b[0mlayout\u001b[0m\u001b[0;34m=\u001b[0m\u001b[0mlayout\u001b[0m\u001b[0;34m)\u001b[0m\u001b[0;34m\u001b[0m\u001b[0;34m\u001b[0m\u001b[0m\n\u001b[1;32m    111\u001b[0m \u001b[0;34m\u001b[0m\u001b[0m\n\u001b[0;32m--> 112\u001b[0;31m     importances = optuna.importance.get_param_importances(\n\u001b[0m\u001b[1;32m    113\u001b[0m         \u001b[0mstudy\u001b[0m\u001b[0;34m,\u001b[0m \u001b[0mevaluator\u001b[0m\u001b[0;34m=\u001b[0m\u001b[0mevaluator\u001b[0m\u001b[0;34m,\u001b[0m \u001b[0mparams\u001b[0m\u001b[0;34m=\u001b[0m\u001b[0mparams\u001b[0m\u001b[0;34m,\u001b[0m \u001b[0mtarget\u001b[0m\u001b[0;34m=\u001b[0m\u001b[0mtarget\u001b[0m\u001b[0;34m\u001b[0m\u001b[0;34m\u001b[0m\u001b[0m\n\u001b[1;32m    114\u001b[0m     )\n",
      "\u001b[0;32m~/anaconda3/envs/pytorch3d/lib/python3.8/site-packages/optuna/importance/__init__.py\u001b[0m in \u001b[0;36mget_param_importances\u001b[0;34m(study, evaluator, params, target)\u001b[0m\n\u001b[1;32m     86\u001b[0m     \"\"\"\n\u001b[1;32m     87\u001b[0m     \u001b[0;32mif\u001b[0m \u001b[0mevaluator\u001b[0m \u001b[0;32mis\u001b[0m \u001b[0;32mNone\u001b[0m\u001b[0;34m:\u001b[0m\u001b[0;34m\u001b[0m\u001b[0;34m\u001b[0m\u001b[0m\n\u001b[0;32m---> 88\u001b[0;31m         \u001b[0mevaluator\u001b[0m \u001b[0;34m=\u001b[0m \u001b[0mFanovaImportanceEvaluator\u001b[0m\u001b[0;34m(\u001b[0m\u001b[0;34m)\u001b[0m\u001b[0;34m\u001b[0m\u001b[0;34m\u001b[0m\u001b[0m\n\u001b[0m\u001b[1;32m     89\u001b[0m \u001b[0;34m\u001b[0m\u001b[0m\n\u001b[1;32m     90\u001b[0m     \u001b[0;32mif\u001b[0m \u001b[0;32mnot\u001b[0m \u001b[0misinstance\u001b[0m\u001b[0;34m(\u001b[0m\u001b[0mevaluator\u001b[0m\u001b[0;34m,\u001b[0m \u001b[0mBaseImportanceEvaluator\u001b[0m\u001b[0;34m)\u001b[0m\u001b[0;34m:\u001b[0m\u001b[0;34m\u001b[0m\u001b[0;34m\u001b[0m\u001b[0m\n",
      "\u001b[0;32m~/anaconda3/envs/pytorch3d/lib/python3.8/site-packages/optuna/importance/_fanova/_evaluator.py\u001b[0m in \u001b[0;36m__init__\u001b[0;34m(self, n_trees, max_depth, seed)\u001b[0m\n\u001b[1;32m     63\u001b[0m         \u001b[0mself\u001b[0m\u001b[0;34m,\u001b[0m \u001b[0;34m*\u001b[0m\u001b[0;34m,\u001b[0m \u001b[0mn_trees\u001b[0m\u001b[0;34m:\u001b[0m \u001b[0mint\u001b[0m \u001b[0;34m=\u001b[0m \u001b[0;36m64\u001b[0m\u001b[0;34m,\u001b[0m \u001b[0mmax_depth\u001b[0m\u001b[0;34m:\u001b[0m \u001b[0mint\u001b[0m \u001b[0;34m=\u001b[0m \u001b[0;36m64\u001b[0m\u001b[0;34m,\u001b[0m \u001b[0mseed\u001b[0m\u001b[0;34m:\u001b[0m \u001b[0mOptional\u001b[0m\u001b[0;34m[\u001b[0m\u001b[0mint\u001b[0m\u001b[0;34m]\u001b[0m \u001b[0;34m=\u001b[0m \u001b[0;32mNone\u001b[0m\u001b[0;34m\u001b[0m\u001b[0;34m\u001b[0m\u001b[0m\n\u001b[1;32m     64\u001b[0m     ) -> None:\n\u001b[0;32m---> 65\u001b[0;31m         self._evaluator = _Fanova(\n\u001b[0m\u001b[1;32m     66\u001b[0m             \u001b[0mn_trees\u001b[0m\u001b[0;34m=\u001b[0m\u001b[0mn_trees\u001b[0m\u001b[0;34m,\u001b[0m\u001b[0;34m\u001b[0m\u001b[0;34m\u001b[0m\u001b[0m\n\u001b[1;32m     67\u001b[0m             \u001b[0mmax_depth\u001b[0m\u001b[0;34m=\u001b[0m\u001b[0mmax_depth\u001b[0m\u001b[0;34m,\u001b[0m\u001b[0;34m\u001b[0m\u001b[0;34m\u001b[0m\u001b[0m\n",
      "\u001b[0;32m~/anaconda3/envs/pytorch3d/lib/python3.8/site-packages/optuna/importance/_fanova/_fanova.py\u001b[0m in \u001b[0;36m__init__\u001b[0;34m(self, n_trees, max_depth, min_samples_split, min_samples_leaf, seed)\u001b[0m\n\u001b[1;32m     46\u001b[0m         \u001b[0mseed\u001b[0m\u001b[0;34m:\u001b[0m \u001b[0mOptional\u001b[0m\u001b[0;34m[\u001b[0m\u001b[0mint\u001b[0m\u001b[0;34m]\u001b[0m\u001b[0;34m,\u001b[0m\u001b[0;34m\u001b[0m\u001b[0;34m\u001b[0m\u001b[0m\n\u001b[1;32m     47\u001b[0m     ) -> None:\n\u001b[0;32m---> 48\u001b[0;31m         \u001b[0m_imports\u001b[0m\u001b[0;34m.\u001b[0m\u001b[0mcheck\u001b[0m\u001b[0;34m(\u001b[0m\u001b[0;34m)\u001b[0m\u001b[0;34m\u001b[0m\u001b[0;34m\u001b[0m\u001b[0m\n\u001b[0m\u001b[1;32m     49\u001b[0m \u001b[0;34m\u001b[0m\u001b[0m\n\u001b[1;32m     50\u001b[0m         self._forest = RandomForestRegressor(\n",
      "\u001b[0;32m~/anaconda3/envs/pytorch3d/lib/python3.8/site-packages/optuna/_imports.py\u001b[0m in \u001b[0;36mcheck\u001b[0;34m(self)\u001b[0m\n\u001b[1;32m     84\u001b[0m         \u001b[0;32mif\u001b[0m \u001b[0mself\u001b[0m\u001b[0;34m.\u001b[0m\u001b[0m_deferred\u001b[0m \u001b[0;32mis\u001b[0m \u001b[0;32mnot\u001b[0m \u001b[0;32mNone\u001b[0m\u001b[0;34m:\u001b[0m\u001b[0;34m\u001b[0m\u001b[0;34m\u001b[0m\u001b[0m\n\u001b[1;32m     85\u001b[0m             \u001b[0mexc_value\u001b[0m\u001b[0;34m,\u001b[0m \u001b[0mmessage\u001b[0m \u001b[0;34m=\u001b[0m \u001b[0mself\u001b[0m\u001b[0;34m.\u001b[0m\u001b[0m_deferred\u001b[0m\u001b[0;34m\u001b[0m\u001b[0;34m\u001b[0m\u001b[0m\n\u001b[0;32m---> 86\u001b[0;31m             \u001b[0;32mraise\u001b[0m \u001b[0mImportError\u001b[0m\u001b[0;34m(\u001b[0m\u001b[0mmessage\u001b[0m\u001b[0;34m)\u001b[0m \u001b[0;32mfrom\u001b[0m \u001b[0mexc_value\u001b[0m\u001b[0;34m\u001b[0m\u001b[0;34m\u001b[0m\u001b[0m\n\u001b[0m\u001b[1;32m     87\u001b[0m \u001b[0;34m\u001b[0m\u001b[0m\n\u001b[1;32m     88\u001b[0m \u001b[0;34m\u001b[0m\u001b[0m\n",
      "\u001b[0;31mImportError\u001b[0m: Tried to import 'sklearn' but failed. Please make sure that the package is installed correctly to use this feature. Actual error: No module named 'sklearn'."
     ]
    }
   ],
   "source": [
    "# import sklearn\n",
    "optuna.visualization.plot_param_importances(study)"
   ]
  },
  {
   "cell_type": "code",
   "execution_count": null,
   "metadata": {},
   "outputs": [],
   "source": [
    "# from itertools import product\n",
    "# dimensions = torch.tensor(list(sphere_verts_rgb.grad.shape))\n",
    "# print(\"Total dimension of gradient: {}\\nNonzero dimension of gradient: {}\".format(torch.prod(dimensions), sphere_verts_rgb.grad.count_nonzero()))\n",
    "# plt.figure(figsize=(7,7))\n",
    "# # from pytorch3d.vis.texture_vis import texturesuv_image_matplotlib\n",
    "\n",
    "# texture_image=sphere_verts_rgb.grad*10000000*10\n",
    "\n",
    "# # texturesuv_image_matplotlib(new_src_mesh.textures, subsample=None)\n",
    "\n",
    "# print(texture_image.shape)\n",
    "# plt.imshow(texture_image.squeeze().cpu().detach())"
   ]
  },
  {
   "cell_type": "code",
   "execution_count": null,
   "metadata": {},
   "outputs": [],
   "source": [
    "# plt.hist(netG.detach().cpu().flatten().numpy(), bins=100, log=True)\n",
    "# plt.show()"
   ]
  },
  {
   "cell_type": "code",
   "execution_count": null,
   "metadata": {},
   "outputs": [],
   "source": [
    "# plt.hist(normal_map_base.grad.detach().cpu().flatten().numpy(), bins=100, log=True)\n",
    "# plt.show()"
   ]
  },
  {
   "cell_type": "code",
   "execution_count": null,
   "metadata": {},
   "outputs": [],
   "source": [
    "# plot_losses(losses_gan)"
   ]
  },
  {
   "cell_type": "code",
   "execution_count": null,
   "metadata": {},
   "outputs": [],
   "source": [
    "# visualize_prediction(maps_src_mesh, renderer=renderer_textured, silhouette=False)"
   ]
  },
  {
   "cell_type": "code",
   "execution_count": null,
   "metadata": {
    "colab": {},
    "colab_type": "code",
    "id": "2qTcHO4rR1Rs",
    "scrolled": true
   },
   "outputs": [],
   "source": [
    "# visualize_prediction(maps_src_mesh, renderer=renderer_textured, silhouette=False, camera=target_cameras[0], target_image=target_rgb[0])\n",
    "# plot_losses(losses)"
   ]
  },
  {
   "cell_type": "code",
   "execution_count": null,
   "metadata": {},
   "outputs": [],
   "source": [
    "# plt.figure(figsize=(7,7))\n",
    "# from pytorch3d.vis.texture_vis import texturesuv_image_matplotlib\n",
    "\n",
    "# texture_image=maps_src_mesh.textures.maps_padded()\n",
    "# # texturesuv_image_matplotlib(new_src_mesh.textures, subsample=None)\n",
    "\n",
    "# print(texture_image.shape)\n",
    "# plt.imshow(texture_image.squeeze().cpu().detach())\n",
    "# plt.axis(\"off\");"
   ]
  },
  {
   "cell_type": "code",
   "execution_count": null,
   "metadata": {},
   "outputs": [],
   "source": [
    "# plt.figure(figsize=(7,7))\n",
    "# from pytorch3d.vis.texture_vis import texturesuv_image_matplotlib\n",
    "\n",
    "# # texture_image=new_src_mesh.normalmaps.maps_padded()\n",
    "\n",
    "# texture_image=maps_src_mesh.normalmaps.maps_padded()\n",
    "# # texturesuv_image_matplotlib(new_src_mesh.textures, subsample=None)\n",
    "\n",
    "# print(texture_image.shape)\n",
    "# plt.imshow(texture_image.squeeze().cpu().detach())\n",
    "# plt.axis(\"off\");"
   ]
  },
  {
   "cell_type": "markdown",
   "metadata": {
    "colab_type": "text",
    "id": "akBOm_xcNUms"
   },
   "source": [
    "Save the final predicted mesh:"
   ]
  },
  {
   "cell_type": "code",
   "execution_count": null,
   "metadata": {},
   "outputs": [],
   "source": [
    "# plt.figure(figsize=(7,7))\n",
    "# from pytorch3d.vis.texture_vis import texturesuv_image_matplotlib\n",
    "\n",
    "# texture_image=mesh.normalmaps.maps_padded()\n",
    "# # texturesuv_image_matplotlib(mesh.textures, subsample=None)\n",
    "# # print(src_mesh.textures.maps_padded().shape, new_src_mesh.textures.maps_padded().shape)\n",
    "# # print(texture_image.shape)\n",
    "# plt.imshow(texture_image.squeeze().cpu().detach())\n",
    "# plt.axis(\"off\");"
   ]
  },
  {
   "cell_type": "markdown",
   "metadata": {
    "colab_type": "text",
    "id": "dXoIsGyhxRyK"
   },
   "source": [
    "## 4. Save the final predicted mesh"
   ]
  },
  {
   "cell_type": "code",
   "execution_count": null,
   "metadata": {
    "colab": {},
    "colab_type": "code",
    "id": "OQGhV-psKna8"
   },
   "outputs": [],
   "source": [
    "# # Fetch the verts and faces of the final predicted mesh\n",
    "# final_verts, final_faces = new_src_mesh.get_mesh_verts_faces(0)\n",
    "\n",
    "# # Scale normalize back to the original target size\n",
    "# final_verts = final_verts * scale + center\n",
    "\n",
    "# # Store the predicted mesh using save_obj\n",
    "# final_obj = os.path.join('./', 'final_model.obj')\n",
    "# save_obj(final_obj, final_verts, final_faces)"
   ]
  },
  {
   "cell_type": "markdown",
   "metadata": {
    "colab_type": "text",
    "id": "MtKYp0B6R1Ru"
   },
   "source": [
    "## 5. Conclusion\n",
    "In this tutorial, we learned how to load a textured mesh from an obj file, create a synthetic dataset by rendering the mesh from multiple viewpoints.  We showed how to set up an optimization loop to fit a mesh to the observed dataset images based on a rendered silhouette loss.  We then augmented this optimization loop with an additional loss based on rendered RGB images, which allowed us to predict both a mesh and its texture."
   ]
  },
  {
   "cell_type": "markdown",
   "metadata": {},
   "source": []
  }
 ],
 "metadata": {
  "accelerator": "GPU",
  "anp_metadata": {
   "path": "fbsource/fbcode/vision/fair/pytorch3d/docs/tutorials/fit_textured_mesh.ipynb"
  },
  "bento_stylesheets": {
   "bento/extensions/flow/main.css": true,
   "bento/extensions/kernel_selector/main.css": true,
   "bento/extensions/kernel_ui/main.css": true,
   "bento/extensions/new_kernel/main.css": true,
   "bento/extensions/system_usage/main.css": true,
   "bento/extensions/theme/main.css": true
  },
  "colab": {
   "name": "fit_textured_mesh.ipynb",
   "provenance": [],
   "toc_visible": true
  },
  "disseminate_notebook_info": {
   "backup_notebook_id": "781874812352022"
  },
  "interpreter": {
   "hash": "60cb56d69e6ae3efc575d5956bd5f6d74483d19d65043d3c065644cb49c044fe"
  },
  "kernelspec": {
   "display_name": "intro_to_cv",
   "language": "python",
   "name": "python3"
  },
  "language_info": {
   "codemirror_mode": {
    "name": "ipython",
    "version": 3
   },
   "file_extension": ".py",
   "mimetype": "text/x-python",
   "name": "python",
   "nbconvert_exporter": "python",
   "pygments_lexer": "ipython3",
   "version": "3.8.12"
  }
 },
 "nbformat": 4,
 "nbformat_minor": 1
}
