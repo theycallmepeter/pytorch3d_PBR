{
 "cells": [
  {
   "cell_type": "code",
   "execution_count": 1,
   "metadata": {
    "colab": {},
    "colab_type": "code",
    "id": "_Ip8kp4TfBLZ"
   },
   "outputs": [],
   "source": [
    "# Copyright (c) Facebook, Inc. and its affiliates. All rights reserved."
   ]
  },
  {
   "cell_type": "markdown",
   "metadata": {
    "colab_type": "text",
    "id": "kuXHJv44fBLe"
   },
   "source": [
    "# Fit a mesh via rendering\n",
    "\n",
    "This tutorial shows how to:\n",
    "- Load a mesh and textures from an `.obj` file. \n",
    "- Create a synthetic dataset by rendering a textured mesh from multiple viewpoints\n",
    "- Fit a mesh to the observed synthetic images using differential silhouette rendering\n",
    "- Fit a mesh and its textures using differential textured rendering"
   ]
  },
  {
   "cell_type": "markdown",
   "metadata": {
    "colab_type": "text",
    "id": "Bnj3THhzfBLf"
   },
   "source": [
    "## 0. Install and Import modules"
   ]
  },
  {
   "cell_type": "markdown",
   "metadata": {
    "colab_type": "text",
    "id": "okLalbR_g7NS"
   },
   "source": [
    "Ensure `torch` and `torchvision` are installed. If `pytorch3d` is not installed, install it using the following cell:"
   ]
  },
  {
   "cell_type": "code",
   "execution_count": 2,
   "metadata": {
    "colab": {},
    "colab_type": "code",
    "id": "musUWTglgxSB"
   },
   "outputs": [],
   "source": [
    "# import os\n",
    "# import sys\n",
    "# import torch\n",
    "# need_pytorch3d=False\n",
    "# try:\n",
    "    # import pytorch3d\n",
    "# except ModuleNotFoundError:\n",
    "    # need_pytorch3d=True\n",
    "# if need_pytorch3d:\n",
    "#     if torch.__version__.startswith(\"1.9\") and sys.platform.startswith(\"linux\"):\n",
    "#         # We try to install PyTorch3D via a released wheel.\n",
    "#         version_str=\"\".join([\n",
    "#             f\"py3{sys.version_info.minor}_cu\",\n",
    "#             torch.version.cuda.replace(\".\",\"\"),\n",
    "#             f\"_pyt{torch.__version__[0:5:2]}\"\n",
    "#         ])\n",
    "#         !pip install pytorch3d -f https://dl.fbaipublicfiles.com/pytorch3d/packaging/wheels/{version_str}/download.html\n",
    "#     else:\n",
    "#         # We try to install PyTorch3D from source.\n",
    "#         !curl -LO https://github.com/NVIDIA/cub/archive/1.10.0.tar.gz\n",
    "#         !tar xzf 1.10.0.tar.gz\n",
    "#         os.environ[\"CUB_HOME\"] = os.getcwd() + \"/cub-1.10.0\"\n",
    "#         !pip install 'git+https://github.com/facebookresearch/pytorch3d.git@stable'"
   ]
  },
  {
   "cell_type": "code",
   "execution_count": 3,
   "metadata": {
    "colab": {},
    "colab_type": "code",
    "id": "nX99zdoffBLg"
   },
   "outputs": [],
   "source": [
    "import os\n",
    "import torch\n",
    "from torch import nn\n",
    "from torchvision.transforms import RandomAffine, Resize\n",
    "import optuna\n",
    "\n",
    "\n",
    "import matplotlib.pyplot as plt\n",
    "\n",
    "from pytorch3d.utils import ico_sphere\n",
    "import numpy as np\n",
    "from tqdm.notebook import tqdm\n",
    "\n",
    "# Util function for loading meshes\n",
    "from pytorch3d.io import load_objs_as_meshes, save_obj\n",
    "\n",
    "from pytorch3d.loss import (\n",
    "    chamfer_distance, \n",
    "    mesh_edge_loss, \n",
    "    mesh_laplacian_smoothing, \n",
    "    mesh_normal_consistency,\n",
    ")\n",
    "from torchvision.transforms import RandomAffine, Resize\n",
    "\n",
    "# Data structures and functions for rendering\n",
    "from pytorch3d.structures import Meshes\n",
    "from pytorch3d.renderer import (\n",
    "    look_at_view_transform,\n",
    "    OpenGLPerspectiveCameras, \n",
    "    PointLights, \n",
    "    DirectionalLights, \n",
    "    Materials, \n",
    "    RasterizationSettings, \n",
    "    MeshRenderer, \n",
    "    NormalMeshRenderer,\n",
    "    MeshRasterizer,  \n",
    "    NormalSoftPhongShader,\n",
    "    SoftPhongShader,\n",
    "    SoftSilhouetteShader,\n",
    "    SoftPhongShader,\n",
    "    TexturesVertex,\n",
    "    TexturesUV,\n",
    "    tbn_matrices,\n",
    ")\n",
    "\n",
    "from pytorch3d.renderer.mesh import tbn_matrices\n",
    "# add path for demo utils functions \n",
    "import sys\n",
    "import os\n",
    "sys.path.append(os.path.abspath(''))"
   ]
  },
  {
   "cell_type": "markdown",
   "metadata": {
    "colab_type": "text",
    "id": "Lxmehq6Zhrzv"
   },
   "source": [
    "If using **Google Colab**, fetch the utils file for plotting image grids:"
   ]
  },
  {
   "cell_type": "code",
   "execution_count": 4,
   "metadata": {
    "colab": {},
    "colab_type": "code",
    "id": "HZozr3Pmho-5"
   },
   "outputs": [],
   "source": [
    "# !wget https://raw.githubusercontent.com/facebookresearch/pytorch3d/main/docs/tutorials/utils/plot_image_grid.py\n",
    "# from plot_image_grid import image_grid"
   ]
  },
  {
   "cell_type": "markdown",
   "metadata": {
    "colab_type": "text",
    "id": "g4B62MzYiJUM"
   },
   "source": [
    "OR if running **locally** uncomment and run the following cell:"
   ]
  },
  {
   "cell_type": "code",
   "execution_count": 5,
   "metadata": {
    "colab": {},
    "colab_type": "code",
    "id": "paJ4Im8ahl7O"
   },
   "outputs": [],
   "source": [
    " from utils.plot_image_grid import image_grid"
   ]
  },
  {
   "cell_type": "markdown",
   "metadata": {
    "colab_type": "text",
    "collapsed": true,
    "id": "5jGq772XfBLk"
   },
   "source": [
    "### 1. Load a mesh and texture file\n",
    "\n",
    "Load an `.obj` file and its associated `.mtl` file and create a **Textures** and **Meshes** object. \n",
    "\n",
    "**Meshes** is a unique datastructure provided in PyTorch3D for working with batches of meshes of different sizes. \n",
    "\n",
    "**TexturesVertex** is an auxiliary datastructure for storing vertex rgb texture information about meshes. \n",
    "\n",
    "**Meshes** has several class methods which are used throughout the rendering pipeline."
   ]
  },
  {
   "cell_type": "markdown",
   "metadata": {
    "colab_type": "text",
    "id": "a8eU4zo5jd_H"
   },
   "source": [
    "If running this notebook using **Google Colab**, run the following cell to fetch the mesh obj and texture files and save it at the path `data/cow_mesh`:\n",
    "If running locally, the data is already available at the correct path. "
   ]
  },
  {
   "cell_type": "code",
   "execution_count": 6,
   "metadata": {
    "colab": {},
    "colab_type": "code",
    "id": "tTm0cVuOjb1W"
   },
   "outputs": [],
   "source": [
    "# !mkdir -p data/cow_mesh\n",
    "# !wget -P data/cow_mesh https://dl.fbaipublicfiles.com/pytorch3d/data/cow_mesh/cow.obj\n",
    "# !wget -P data/cow_mesh https://dl.fbaipublicfiles.com/pytorch3d/data/cow_mesh/cow.mtl\n",
    "# !wget -P data/cow_mesh https://dl.fbaipublicfiles.com/pytorch3d/data/cow_mesh/cow_texture.png"
   ]
  },
  {
   "cell_type": "code",
   "execution_count": 7,
   "metadata": {
    "colab": {},
    "colab_type": "code",
    "id": "gi5Kd0GafBLl"
   },
   "outputs": [],
   "source": [
    "# Setup\n",
    "if torch.cuda.is_available():\n",
    "    device = torch.device(\"cuda:0\")\n",
    "    torch.cuda.set_device(device)\n",
    "else:\n",
    "    device = torch.device(\"cpu\")\n",
    "\n",
    "# device = torch.device(\"cpu\")\n",
    "\n",
    "# Set paths\n",
    "DATA_DIR = \"./data\"\n",
    "obj_filename = os.path.join(DATA_DIR, \"cow_mesh/cow.obj\")\n",
    "# obj_filename = os.path.join(DATA_DIR, \"cube_mesh/six_colour_cube.obj\")\n",
    "\n",
    "\n",
    "# Load obj file\n",
    "mesh = load_objs_as_meshes([obj_filename], device=device)\n",
    "\n",
    "# We scale normalize and center the target mesh to fit in a sphere of radius 1 \n",
    "# centered at (0,0,0). (scale, center) will be used to bring the predicted mesh \n",
    "# to its original center and scale.  Note that normalizing the target mesh, \n",
    "# speeds up the optimization but is not necessary!\n",
    "verts = mesh.verts_packed()\n",
    "N = verts.shape[0]\n",
    "center = verts.mean(0)\n",
    "scale = max((verts - center).abs().max(0)[0])\n",
    "mesh.offset_verts_(-center)\n",
    "mesh.scale_verts_((0.75 / float(scale)));"
   ]
  },
  {
   "cell_type": "code",
   "execution_count": 8,
   "metadata": {},
   "outputs": [],
   "source": [
    "# cos_similarity = torch.nn.CosineSimilarity(dim=3)\n",
    "# transform_range_horizontal = 100/1024\n",
    "# transform_range_vertical = 100/1024\n",
    "# transform = RandomAffine(0, translate=(transform_range_horizontal,transform_range_vertical), fill=0.5)\n",
    "# cos_similarity(mesh.normalmaps.maps_padded(), transform(mesh.normalmaps.maps_padded().permute(0,3,1,2)).permute(0,2,3,1).squeeze().cpu().numpy()).mean()"
   ]
  },
  {
   "cell_type": "code",
   "execution_count": 9,
   "metadata": {},
   "outputs": [],
   "source": [
    "# plt.figure(figsize=(7,7))\n",
    "# texture_image=mesh.normalmaps.maps_padded()\n",
    "# print(texture_image.shape)\n",
    "# plt.imshow(texture_image.squeeze().cpu().numpy())\n",
    "# plt.axis(\"off\");"
   ]
  },
  {
   "cell_type": "markdown",
   "metadata": {
    "colab_type": "text",
    "id": "17c4xmtyfBMH"
   },
   "source": [
    "## 2. Dataset Creation\n",
    "\n",
    "We sample different camera positions that encode multiple viewpoints of the cow.  We create a renderer with a shader that performs texture map interpolation.  We render a synthetic dataset of images of the textured cow mesh from multiple viewpoints.\n"
   ]
  },
  {
   "cell_type": "code",
   "execution_count": 10,
   "metadata": {},
   "outputs": [
    {
     "name": "stderr",
     "output_type": "stream",
     "text": [
      "/mnt/c/Projects/deepstimate/pytorch3d/pytorch3d/transforms/transform3d.py:782: UserWarning: R is not a valid rotation matrix\n",
      "  warnings.warn(msg)\n"
     ]
    },
    {
     "data": {
      "text/plain": [
       "<matplotlib.image.AxesImage at 0x7f8f33b53e20>"
      ]
     },
     "execution_count": 10,
     "metadata": {},
     "output_type": "execute_result"
    },
    {
     "data": {
      "image/png": "[encoded data removed]",
      "text/plain": [
       "<Figure size 432x288 with 1 Axes>"
      ]
     },
     "metadata": {
      "needs_background": "light"
     },
     "output_type": "display_data"
    }
   ],
   "source": [
    "imsize = 128\n",
    "# lights = PointLights(device=device, location=[[0.0, 0.0, -1.5]])\n",
    "lights = DirectionalLights(direction=[[0.0, 0.0, -1.0]], device=device)\n",
    "\n",
    "# We arbitrarily choose one particular view that will be used to visualize \n",
    "# results\n",
    "# Changed to novel view\n",
    "rand_elev = 45\n",
    "rand_azim = 135\n",
    "R_novel, T_novel = look_at_view_transform(dist=2.7, elev=rand_elev, azim=rand_azim)\n",
    "\n",
    "camera = OpenGLPerspectiveCameras(device=device, R=R_novel, \n",
    "                                  T=T_novel) \n",
    "\n",
    "\n",
    "# camera = OpenGLPerspectiveCameras(device=device, R=R[None, 1, ...], \n",
    "#                                   T=T[None, 1, ...]) \n",
    "\n",
    "# Define the settings for rasterization and shading. Here we set the output \n",
    "# image to be of size 128X128. As we are rendering images for visualization \n",
    "# purposes only we will set faces_per_pixel=1 and blur_radius=0.0. Refer to \n",
    "# rasterize_meshes.py for explanations of these parameters.  We also leave \n",
    "# bin_size and max_faces_per_bin to their default values of None, which sets \n",
    "# their values using heuristics and ensures that the faster coarse-to-fine \n",
    "# rasterization method is used.  Refer to docs/notes/renderer.md for an \n",
    "# explanation of the difference between naive and coarse-to-fine rasterization. \n",
    "raster_settings = RasterizationSettings(\n",
    "    image_size=imsize, \n",
    "    blur_radius=0.0, \n",
    "    faces_per_pixel=1, \n",
    "    perspective_correct=False,\n",
    ")\n",
    "\n",
    "# Create a Phong renderer by composing a rasterizer and a shader. The textured \n",
    "# Phong shader will interpolate the texture uv coordinates for each vertex, \n",
    "# sample from a texture image and apply the Phong lighting model\n",
    "TBN_matrices = tbn_matrices(mesh)\n",
    "renderer = NormalMeshRenderer(\n",
    "    rasterizer=MeshRasterizer(\n",
    "        cameras=camera, \n",
    "        raster_settings=raster_settings\n",
    "    ),\n",
    "    shader=NormalSoftPhongShader(\n",
    "        device=device, \n",
    "        cameras=camera,\n",
    "        lights=lights,\n",
    "        tangent_matrices=TBN_matrices,\n",
    "    )\n",
    ")\n",
    "random_target, _ = renderer(mesh, cameras=camera, lights=lights)\n",
    "random_target = random_target[...,:3]\n",
    "plt.imshow(random_target.cpu().numpy()[0])"
   ]
  },
  {
   "cell_type": "code",
   "execution_count": 11,
   "metadata": {
    "colab": {},
    "colab_type": "code",
    "id": "CDQKebNNfBMI"
   },
   "outputs": [
    {
     "name": "stdout",
     "output_type": "stream",
     "text": [
      "\n",
      "15 15\n"
     ]
    }
   ],
   "source": [
    "# the number of different viewpoints from which we want to render the mesh.\n",
    "num_views = 30\n",
    "batch_views = 1\n",
    "imsize = 128\n",
    "# Get a batch of viewing angles. \n",
    "elev = np.random.permutation(torch.linspace(0, 360, num_views))\n",
    "azim = np.random.permutation(torch.linspace(-180, 180, num_views))\n",
    "# elev = np.array([45, 45, 225, 225])\n",
    "# azim = np.array([-45, 135, -45, 135])\n",
    "\n",
    "def train_test_split(list):\n",
    "    return list[:len(list)//2], list[len(list)//2:]\n",
    "\n",
    "# Place a point light in front of the object. As mentioned above, the front of \n",
    "# the cow is facing the -z direction. \n",
    "\n",
    "# Initialize an OpenGL perspective camera that represents a batch of different \n",
    "# viewing angles. All the cameras helper methods support mixed type inputs and \n",
    "# broadcasting. So we can view the camera from the a distance of dist=2.7, and \n",
    "# then specify elevation and azimuth angles for each viewpoint as tensors. \n",
    "R, T = look_at_view_transform(dist=2.7, elev=elev, azim=azim)\n",
    "# cameras = OpenGLPerspectiveCameras(device=device, R=R, T=T)\n",
    "\n",
    "# We arbitrarily choose one particular view that will be used to visualize \n",
    "# results\n",
    "# Changed to novel view\n",
    "rand_elev = torch.rand((1,))*360\n",
    "rand_azim = torch.rand((1,))*360 - 180\n",
    "R_novel, T_novel = look_at_view_transform(dist=2.7, elev=rand_elev, azim=rand_azim)\n",
    "\n",
    "camera = OpenGLPerspectiveCameras(device=device, R=R_novel, \n",
    "                                  T=T_novel) \n",
    "\n",
    "\n",
    "# camera = OpenGLPerspectiveCameras(device=device, R=R[None, 1, ...], \n",
    "#                                   T=T[None, 1, ...]) \n",
    "\n",
    "# Define the settings for rasterization and shading. Here we set the output \n",
    "# image to be of size 128X128. As we are rendering images for visualization \n",
    "# purposes only we will set faces_per_pixel=1 and blur_radius=0.0. Refer to \n",
    "# rasterize_meshes.py for explanations of these parameters.  We also leave \n",
    "# bin_size and max_faces_per_bin to their default values of None, which sets \n",
    "# their values using heuristics and ensures that the faster coarse-to-fine \n",
    "# rasterization method is used.  Refer to docs/notes/renderer.md for an \n",
    "# explanation of the difference between naive and coarse-to-fine rasterization. \n",
    "\n",
    "normals_hook = torch.Tensor()\n",
    "raster_settings = RasterizationSettings(\n",
    "    image_size=imsize, \n",
    "    blur_radius=0.0, \n",
    "    faces_per_pixel=1, \n",
    "    perspective_correct=False,\n",
    ")\n",
    "\n",
    "# Create a Phong renderer by composing a rasterizer and a shader. The textured \n",
    "# Phong shader will interpolate the texture uv coordinates for each vertex, \n",
    "# sample from a texture image and apply the Phong lighting model\n",
    "renderer = NormalMeshRenderer(\n",
    "    rasterizer=MeshRasterizer(\n",
    "        cameras=camera, \n",
    "        raster_settings=raster_settings\n",
    "    ),\n",
    "    shader=NormalSoftPhongShader(\n",
    "        device=device, \n",
    "        cameras=camera,\n",
    "        lights=lights,\n",
    "        tangent_matrices=TBN_matrices,\n",
    "    )\n",
    ")\n",
    "\n",
    "# for i\n",
    "# Create a batch of meshes by repeating the cow mesh and associated textures. \n",
    "# Meshes has a useful `extend` method which allows us do this very easily. \n",
    "# This also extends the textures. \n",
    "meshes = mesh.extend(batch_views)\n",
    "target_rgb = []\n",
    "target_cameras = []\n",
    "target_normals = []\n",
    "print()\n",
    "# Render small batches of target views on GPU and append to list to be later converted to CPU tensor\n",
    "for i in range(num_views // batch_views):\n",
    "    # Create cameras for rendering the batch\n",
    "    cameras = OpenGLPerspectiveCameras(device=device, R=R[i*batch_views:(i+1)*batch_views], T=T[i*batch_views:(i+1)*batch_views])\n",
    "    # Render the cow mesh from each viewing angle\n",
    "    target_images_batch, normals = renderer(meshes, cameras=cameras, lights=lights)\n",
    "\n",
    "    # Our multi-view cow dataset will be represented by these 2 lists of tensors,\n",
    "    # each of length num_views.\n",
    "    target_rgb_batch = [target_images_batch[i, ..., :3].cpu() for i in range(batch_views)]\n",
    "    target_cameras_batch = [OpenGLPerspectiveCameras(device=device, R=R[None, i, ...], \n",
    "                                           T=T[None, i, ...]) for i in range(i*batch_views,(i+1)*batch_views)]\n",
    "    target_rgb.extend(target_rgb_batch)\n",
    "    target_cameras.extend(target_cameras_batch)\n",
    "    target_normals.append(normals)\n",
    "\n",
    "\n",
    "# 50/50 split of views for train/test\n",
    "target_rgb, test_rgb = train_test_split(target_rgb)\n",
    "target_cameras, test_cameras = train_test_split(target_cameras)\n",
    "target_normals, test_normals = train_test_split(target_normals)\n",
    "\n",
    "random_target, _ = renderer(mesh, cameras=camera, lights=lights)\n",
    "random_target = random_target[...,:3]\n",
    "print(len(target_rgb), len(target_cameras))"
   ]
  },
  {
   "cell_type": "markdown",
   "metadata": {
    "colab_type": "text",
    "id": "TppB4PVmR1Rc"
   },
   "source": [
    "Visualize the dataset:"
   ]
  },
  {
   "cell_type": "code",
   "execution_count": 12,
   "metadata": {
    "colab": {},
    "colab_type": "code",
    "id": "HHE0CnbVR1Rd"
   },
   "outputs": [
    {
     "name": "stdout",
     "output_type": "stream",
     "text": [
      "\n"
     ]
    },
    {
     "name": "stderr",
     "output_type": "stream",
     "text": [
      "/tmp/ipykernel_11162/1255958388.py:4: FutureWarning: The input object of type 'Tensor' is an array-like implementing one of the corresponding protocols (`__array__`, `__array_interface__` or `__array_struct__`); but not a sequence (or 0-D). In the future, this object will be coerced as if it was first converted using `np.array(obj)`. To retain the old behaviour, you have to either modify the type 'Tensor', or assign to an empty array created with `np.empty(correct_shape, dtype=object)`.\n",
      "  image_grid(np.asarray(target_rgb[:10]), rows=2, cols=5, rgb=True)\n",
      "/tmp/ipykernel_11162/1255958388.py:4: VisibleDeprecationWarning: Creating an ndarray from ragged nested sequences (which is a list-or-tuple of lists-or-tuples-or ndarrays with different lengths or shapes) is deprecated. If you meant to do this, you must specify 'dtype=object' when creating the ndarray.\n",
      "  image_grid(np.asarray(target_rgb[:10]), rows=2, cols=5, rgb=True)\n"
     ]
    },
    {
     "data": {
      "image/png": "[encoded data removed]",
      "text/plain": [
       "<Figure size 1080x648 with 10 Axes>"
      ]
     },
     "metadata": {
      "needs_background": "light"
     },
     "output_type": "display_data"
    }
   ],
   "source": [
    "# RGB images\n",
    "print()\n",
    "\n",
    "image_grid(np.asarray(target_rgb[:10]), rows=2, cols=5, rgb=True)\n",
    "plt.show()"
   ]
  },
  {
   "cell_type": "markdown",
   "metadata": {
    "colab_type": "text",
    "id": "gOb4rYx65E8z"
   },
   "source": [
    "Later in this tutorial, we will fit a mesh to the rendered RGB images, as well as to just images of just the cow silhouette.  For the latter case, we will render a dataset of silhouette images.  Most shaders in PyTorch3D will output an alpha channel along with the RGB image as a 4th channel in an RGBA image.  The alpha channel encodes the probability that each pixel belongs to the foreground of the object.  We construct a soft silhouette shader to render this alpha channel."
   ]
  },
  {
   "cell_type": "code",
   "execution_count": 13,
   "metadata": {
    "colab": {},
    "colab_type": "code",
    "id": "iP_g-nwX4exM"
   },
   "outputs": [],
   "source": [
    "# # Rasterization settings for silhouette rendering  \n",
    "# sigma = 1e-4\n",
    "# raster_settings_silhouette = RasterizationSettings(\n",
    "#     image_size=imsize, \n",
    "#     blur_radius=np.log(1. / 1e-4 - 1.)*sigma, \n",
    "#     faces_per_pixel=50, \n",
    "#     perspective_correct=False,\n",
    "# )\n",
    "\n",
    "# # Silhouette renderer \n",
    "# renderer_silhouette = MeshRenderer(\n",
    "#     rasterizer=MeshRasterizer(\n",
    "#         cameras=camera, \n",
    "#         raster_settings=raster_settings_silhouette\n",
    "#     ),\n",
    "#     shader=SoftSilhouetteShader()\n",
    "# )\n",
    "\n",
    "# # # Render silhouette images.  The 3rd channel of the rendering output is \n",
    "# # # the alpha/silhouette channel\n",
    "# # silhouette_images = renderer_silhouette(meshes, cameras=cameras, lights=lights)\n",
    "# # print(silhouette_images.shape)\n",
    "# # target_silhouette = [silhouette_images[i, ..., 3] for i in range(num_views)]\n",
    "\n",
    "# # # Visualize silhouette images\n",
    "# # image_grid(silhouette_images.cpu().numpy(), rows=4, cols=5, rgb=False)\n",
    "# # plt.show()"
   ]
  },
  {
   "cell_type": "code",
   "execution_count": 14,
   "metadata": {},
   "outputs": [
    {
     "name": "stderr",
     "output_type": "stream",
     "text": [
      "/tmp/ipykernel_11162/579964652.py:37: FutureWarning: The input object of type 'Tensor' is an array-like implementing one of the corresponding protocols (`__array__`, `__array_interface__` or `__array_struct__`); but not a sequence (or 0-D). In the future, this object will be coerced as if it was first converted using `np.array(obj)`. To retain the old behaviour, you have to either modify the type 'Tensor', or assign to an empty array created with `np.empty(correct_shape, dtype=object)`.\n",
      "  print(np.asarray(target_silhouette[:10])[0].shape)\n",
      "/tmp/ipykernel_11162/579964652.py:37: VisibleDeprecationWarning: Creating an ndarray from ragged nested sequences (which is a list-or-tuple of lists-or-tuples-or ndarrays with different lengths or shapes) is deprecated. If you meant to do this, you must specify 'dtype=object' when creating the ndarray.\n",
      "  print(np.asarray(target_silhouette[:10])[0].shape)\n",
      "/tmp/ipykernel_11162/579964652.py:38: FutureWarning: The input object of type 'Tensor' is an array-like implementing one of the corresponding protocols (`__array__`, `__array_interface__` or `__array_struct__`); but not a sequence (or 0-D). In the future, this object will be coerced as if it was first converted using `np.array(obj)`. To retain the old behaviour, you have to either modify the type 'Tensor', or assign to an empty array created with `np.empty(correct_shape, dtype=object)`.\n",
      "  image_grid(np.asarray(silhouette_images[:10]), rows=2, cols=5, rgb=False)\n",
      "/tmp/ipykernel_11162/579964652.py:38: VisibleDeprecationWarning: Creating an ndarray from ragged nested sequences (which is a list-or-tuple of lists-or-tuples-or ndarrays with different lengths or shapes) is deprecated. If you meant to do this, you must specify 'dtype=object' when creating the ndarray.\n",
      "  image_grid(np.asarray(silhouette_images[:10]), rows=2, cols=5, rgb=False)\n"
     ]
    },
    {
     "name": "stdout",
     "output_type": "stream",
     "text": [
      "torch.Size([128, 128])\n"
     ]
    },
    {
     "data": {
      "image/png": "[encoded data removed]",
      "text/plain": [
       "<Figure size 1080x648 with 10 Axes>"
      ]
     },
     "metadata": {
      "needs_background": "light"
     },
     "output_type": "display_data"
    }
   ],
   "source": [
    "# Rasterization settings for silhouette rendering  \n",
    "sigma = 1e-4\n",
    "raster_settings_silhouette = RasterizationSettings(\n",
    "    image_size=imsize, \n",
    "    blur_radius=np.log(1. / 1e-4 - 1.)*sigma, \n",
    "    faces_per_pixel=50, \n",
    "    perspective_correct=False,\n",
    ")\n",
    "\n",
    "# Silhouette renderer \n",
    "renderer_silhouette = MeshRenderer(\n",
    "    rasterizer=MeshRasterizer(\n",
    "        cameras=camera, \n",
    "        raster_settings=raster_settings_silhouette\n",
    "    ),\n",
    "    shader=SoftSilhouetteShader()\n",
    ")\n",
    "\n",
    "# Render silhouette images.  The 3rd channel of the rendering output is \n",
    "# the alpha/silhouette channel\n",
    "target_silhouette = []\n",
    "silhouette_images = []\n",
    "for i in range(num_views // batch_views):\n",
    "    # Create cameras for rendering the batch\n",
    "    cameras = OpenGLPerspectiveCameras(device=device, R=R[i*batch_views:(i+1)*batch_views], T=T[i*batch_views:(i+1)*batch_views])\n",
    "    # Render the cow mesh from each viewing angle\n",
    "    silhouette_images_batch = renderer_silhouette(meshes, cameras=cameras, lights=lights)\n",
    "    silhouette_images.extend(silhouette_images_batch.cpu())\n",
    "    # Our multi-view cow dataset will be represented by these 2 lists of tensors,\n",
    "    # each of length num_views.\n",
    "    target_silhouette_batch = [silhouette_images_batch[i, ..., 3].cpu() for i in range(batch_views)]\n",
    "    # target_cameras_batch = [OpenGLPerspectiveCameras(device=device, R=R[None, i, ...], \n",
    "                                        #    T=T[None, i, ...]) for i in range(i*batch_views,(i+1)*batch_views)]\n",
    "    target_silhouette.extend(target_silhouette_batch)\n",
    "    # target_cameras.extend(target_cameras_batch)\n",
    "# Visualize silhouette images\n",
    "print(np.asarray(target_silhouette[:10])[0].shape)\n",
    "image_grid(np.asarray(silhouette_images[:10]), rows=2, cols=5, rgb=False)\n",
    "plt.show()"
   ]
  },
  {
   "cell_type": "markdown",
   "metadata": {
    "colab_type": "text",
    "id": "t3qphI1ElUb5"
   },
   "source": [
    "## 3. Mesh prediction via silhouette rendering\n",
    "In the previous section, we created a dataset of images of multiple viewpoints of a cow.  In this section, we predict a mesh by observing those target images without any knowledge of the ground truth cow mesh.  We assume we know the position of the cameras and lighting.\n",
    "\n",
    "We first define some helper functions to visualize the results of our mesh prediction:"
   ]
  },
  {
   "cell_type": "code",
   "execution_count": 15,
   "metadata": {
    "colab": {},
    "colab_type": "code",
    "id": "eeWYHROrR1Rh"
   },
   "outputs": [],
   "source": [
    "# Show a visualization comparing the rendered predicted mesh to the ground truth \n",
    "# mesh\n",
    "def visualize_prediction(predicted_mesh, renderer=renderer_silhouette, \n",
    "                         target_image=random_target[0], title='', \n",
    "                         silhouette=False, camera = camera):\n",
    "    inds = 3 if silhouette else range(3)\n",
    "    with torch.no_grad():\n",
    "        predicted_images, _ = renderer(predicted_mesh, cameras=camera)\n",
    "    plt.figure(figsize=(20, 10))\n",
    "    plt.subplot(1, 2, 1)\n",
    "    plt.imshow(predicted_images[0, ..., inds].cpu().detach().numpy())\n",
    "\n",
    "    plt.subplot(1, 2, 2)\n",
    "    plt.imshow(target_image.cpu().detach().numpy())\n",
    "    plt.title(title)\n",
    "    plt.axis(\"off\")\n",
    "\n",
    "# Plot losses as a function of optimization iteration\n",
    "def plot_losses(losses):\n",
    "    fig = plt.figure(figsize=(13, 5))\n",
    "    ax = fig.gca()\n",
    "    for k, l in losses.items():\n",
    "        ax.plot(l['values'], label=k + \" loss\")\n",
    "    ax.legend(fontsize=\"16\")\n",
    "    ax.set_xlabel(\"Iteration\", fontsize=\"16\")\n",
    "    ax.set_ylabel(\"Loss\", fontsize=\"16\")\n",
    "    ax.set_title(\"Loss vs iterations\", fontsize=\"16\")"
   ]
  },
  {
   "cell_type": "markdown",
   "metadata": {
    "colab_type": "text",
    "id": "PpsvBpuMR1Ri"
   },
   "source": [
    "Starting from a sphere mesh, we will learn offsets of each vertex such that the predicted mesh silhouette is more similar to the target silhouette image at each optimization step.  We begin by loading our initial sphere mesh:"
   ]
  },
  {
   "cell_type": "code",
   "execution_count": 16,
   "metadata": {
    "colab": {},
    "colab_type": "code",
    "id": "i989ARH1R1Rj"
   },
   "outputs": [],
   "source": [
    "# We initialize the source shape to be a sphere of radius 1.  \n",
    "silhouette_src_mesh = ico_sphere(4, device)\n",
    "# src_mesh = mesh.clone()"
   ]
  },
  {
   "cell_type": "code",
   "execution_count": 17,
   "metadata": {},
   "outputs": [
    {
     "name": "stdout",
     "output_type": "stream",
     "text": [
      "torch.Size([2562]) torch.Size([2562])\n",
      "torch.Size([2562, 2]) tensor(1., device='cuda:0') tensor(0., device='cuda:0')\n",
      "Target shapes faces: torch.Size([1, 5856, 3]), verts: torch.Size([1, 2930, 3])\n",
      "Target shapes facesUVs: torch.Size([1, 5856, 3]), vertsUVs: torch.Size([1, 3225, 2])\n",
      "torch.Size([2562, 3])\n"
     ]
    },
    {
     "data": {
      "image/png": "[encoded data removed]",
      "text/plain": [
       "<Figure size 432x288 with 1 Axes>"
      ]
     },
     "metadata": {
      "needs_background": "light"
     },
     "output_type": "display_data"
    }
   ],
   "source": [
    "# Functions from my L4 project\n",
    "def to_geocentric(lat, lon):\n",
    "    \"\"\"\n",
    "    Converts a latitude longitude pair to geocentric X Y Z coordinates\n",
    "    \"\"\"\n",
    "    lat = np.radians(lat)\n",
    "    lon = np.radians(lon)\n",
    "    return np.array([np.cos(lat) * np.cos(lon), np.cos(lat) * np.sin(lon), np.sin(lat)])\n",
    "\n",
    "# lat lon but longitude is scaled to half to have a square representation\n",
    "def to_lat_lon(coords):\n",
    "    \"\"\"\n",
    "    Converts X Y Z geocentric coordinates into latitude and longitude\n",
    "    \"\"\"\n",
    "    return np.array([np.degrees(np.arcsin(coords[2])), np.degrees(np.arctan2(coords[1], coords[0]))])\n",
    "\n",
    "# Creating UVs for sphere using equirectangular projection with scaled v axis\n",
    "sphere_verts = silhouette_src_mesh.verts_packed()\n",
    "xyz_to_u = torch.rad2deg(torch.arcsin(sphere_verts[:,2])) + 90\n",
    "xyz_to_v = (torch.rad2deg(torch.atan2(sphere_verts[:,1], sphere_verts[:,0])) + 180) / 2 \n",
    "print(xyz_to_u.shape, xyz_to_v.shape)\n",
    "sphere_verts_uvs = torch.stack([xyz_to_u, xyz_to_v], dim=1) / 180\n",
    "print(sphere_verts_uvs.shape, sphere_verts_uvs.max(), sphere_verts_uvs.min())\n",
    "# need to solve seams somehow\n",
    "# u = 0.5 + (torch.atan2(verts[:,0], verts[:,1])/(np.pi*2))\n",
    "# v = 0.5 - (torch.arcsin(verts[:,2])/np.pi)\n",
    "# uv_map = torch.stack([u,v], dim=1).unsqueeze(dim=0).to(device)\n",
    "print(\"Target shapes faces: {}, verts: {}\".format(mesh.faces_padded().shape, mesh.verts_padded().shape, ))\n",
    "print(\"Target shapes facesUVs: {}, vertsUVs: {}\".format(mesh.textures.faces_uvs_padded().shape,  mesh.textures.verts_uvs_padded().shape))\n",
    "print(silhouette_src_mesh.verts_packed().shape)\n",
    "# silhouette_src_mesh.verts_padded().map\n",
    "plt.scatter(sphere_verts_uvs.cpu()[:,0], sphere_verts_uvs.cpu()[:,1], s=1)\n",
    "plt.show()\n",
    "silhouette_src_mesh.textures = TexturesUV(mesh.textures.maps_padded(), faces_uvs=silhouette_src_mesh.faces_packed().unsqueeze(0), verts_uvs=sphere_verts_uvs.unsqueeze(0))"
   ]
  },
  {
   "cell_type": "code",
   "execution_count": 18,
   "metadata": {},
   "outputs": [
    {
     "data": {
      "image/png": "[encoded data removed]",
      "text/plain": [
       "<Figure size 504x504 with 1 Axes>"
      ]
     },
     "metadata": {
      "needs_background": "light"
     },
     "output_type": "display_data"
    }
   ],
   "source": [
    "plt.figure(figsize=(7,7))\n",
    "from pytorch3d.vis.texture_vis import texturesuv_image_matplotlib\n",
    "\n",
    "# texture_image=src_mesh.textures.maps_padded()\n",
    "texturesuv_image_matplotlib(silhouette_src_mesh.textures, subsample=None)\n",
    "\n",
    "# print(texture_image.shape)\n",
    "# plt.imshow(texture_image.squeeze().cpu().detach())\n",
    "plt.axis(\"off\");"
   ]
  },
  {
   "cell_type": "markdown",
   "metadata": {
    "colab_type": "text",
    "id": "f5xVtgLNDvC5"
   },
   "source": [
    "We create a new differentiable renderer for rendering the silhouette of our predicted mesh:"
   ]
  },
  {
   "cell_type": "code",
   "execution_count": 19,
   "metadata": {
    "colab": {},
    "colab_type": "code",
    "id": "sXfjzgG4DsDJ"
   },
   "outputs": [],
   "source": [
    "# Rasterization settings for differentiable rendering, where the blur_radius\n",
    "# initialization is based on Liu et al, 'Soft Rasterizer: A Differentiable \n",
    "# Renderer for Image-based 3D Reasoning', ICCV 2019\n",
    "sigma = 1e-4\n",
    "raster_settings_soft = RasterizationSettings(\n",
    "    image_size=imsize, \n",
    "    blur_radius=np.log(1. / 1e-4 - 1.)*sigma, \n",
    "    faces_per_pixel=50, \n",
    "    perspective_correct=False,\n",
    ")\n",
    "\n",
    "# Silhouette renderer \n",
    "renderer_silhouette = MeshRenderer(\n",
    "    rasterizer=MeshRasterizer(\n",
    "        cameras=camera, \n",
    "        raster_settings=raster_settings_soft\n",
    "    ),\n",
    "    shader=SoftSilhouetteShader()\n",
    ")"
   ]
  },
  {
   "cell_type": "markdown",
   "metadata": {
    "colab_type": "text",
    "id": "SGJKbCB6R1Rk"
   },
   "source": [
    "We initialize settings, losses, and the optimizer that will be used to iteratively fit our mesh to the target silhouettes:"
   ]
  },
  {
   "cell_type": "code",
   "execution_count": 20,
   "metadata": {
    "colab": {},
    "colab_type": "code",
    "id": "0sLrKv_MEULh"
   },
   "outputs": [],
   "source": [
    "# Number of views to optimize over in each SGD iteration\n",
    "num_views_per_iteration = 5\n",
    "# Number of optimization steps\n",
    "Niter = 1000\n",
    "# Plot period for the losses\n",
    "plot_period = 250\n",
    "\n",
    "%matplotlib inline\n",
    "\n",
    "# Optimize using rendered silhouette image loss, mesh edge loss, mesh normal \n",
    "# consistency, and mesh laplacian smoothing\n",
    "losses = {\"silhouette\": {\"weight\": 1.0, \"values\": []},\n",
    "          \"edge\": {\"weight\": 1.0, \"values\": []},\n",
    "          \"normal\": {\"weight\": 0.01, \"values\": []},\n",
    "          \"laplacian\": {\"weight\": 1.0, \"values\": []},\n",
    "         }\n",
    "\n",
    "# Losses to smooth / regularize the mesh shape\n",
    "def update_mesh_shape_prior_losses(mesh, loss):\n",
    "    # and (b) the edge length of the predicted mesh\n",
    "    loss[\"edge\"] = mesh_edge_loss(mesh)\n",
    "    \n",
    "    # mesh normal consistency\n",
    "    loss[\"normal\"] = mesh_normal_consistency(mesh)\n",
    "    \n",
    "    # mesh laplacian smoothing\n",
    "    loss[\"laplacian\"] = mesh_laplacian_smoothing(mesh, method=\"uniform\")\n",
    "\n",
    "# We will learn to deform the source mesh by offsetting its vertices\n",
    "# The shape of the deform parameters is equal to the total number of vertices in\n",
    "# src_mesh\n",
    "verts_shape = silhouette_src_mesh.verts_packed().shape\n",
    "deform_verts = torch.full(verts_shape, 0.0, device=device, requires_grad=True)\n",
    "\n",
    "# The optimizer\n",
    "optimizer = torch.optim.SGD([deform_verts], lr=1.0, momentum=0.9)"
   ]
  },
  {
   "cell_type": "markdown",
   "metadata": {
    "colab_type": "text",
    "id": "QLc9zK8lEqFS"
   },
   "source": [
    "We write an optimization loop to iteratively refine our predicted mesh from the sphere mesh into a mesh that matches the silhouettes of the target images:"
   ]
  },
  {
   "cell_type": "code",
   "execution_count": 21,
   "metadata": {
    "colab": {},
    "colab_type": "code",
    "id": "gCfepfOoR1Rl"
   },
   "outputs": [
    {
     "data": {
      "application/vnd.jupyter.widget-view+json": {
       "model_id": "91ab5466a63d4f4587b82e383418c2a3",
       "version_major": 2,
       "version_minor": 0
      },
      "text/plain": [
       "  0%|          | 0/1000 [00:00<?, ?it/s]"
      ]
     },
     "metadata": {},
     "output_type": "display_data"
    }
   ],
   "source": [
    "loop = tqdm(range(Niter))\n",
    "\n",
    "for i in loop:\n",
    "    # Initialize optimizer\n",
    "    optimizer.zero_grad()\n",
    "    \n",
    "    # Deform the mesh\n",
    "    new_src_mesh = silhouette_src_mesh.offset_verts(deform_verts)\n",
    "    \n",
    "    # Losses to smooth /regularize the mesh shape\n",
    "    loss = {k: torch.tensor(0.0, device=device) for k in losses}\n",
    "    update_mesh_shape_prior_losses(new_src_mesh, loss)\n",
    "    \n",
    "    # Compute the average silhouette loss over two random views, as the average \n",
    "    # squared L2 distance between the predicted silhouette and the target \n",
    "    # silhouette from our dataset\n",
    "    for j in np.random.permutation(len(target_cameras)).tolist()[:num_views_per_iteration]:\n",
    "        images_predicted = renderer_silhouette(new_src_mesh, cameras=target_cameras[j], lights=lights)\n",
    "        predicted_silhouette = images_predicted[..., 3]\n",
    "        loss_silhouette = ((predicted_silhouette - target_silhouette[j].to(device)) ** 2).mean()\n",
    "        loss[\"silhouette\"] += loss_silhouette / num_views_per_iteration\n",
    "    \n",
    "    # Weighted sum of the losses\n",
    "    sum_loss = torch.tensor(0.0, device=device)\n",
    "    for k, l in loss.items():\n",
    "        sum_loss += l * losses[k][\"weight\"]\n",
    "        losses[k][\"values\"].append(float(l.detach().cpu()))\n",
    "\n",
    "    \n",
    "    # Print the losses\n",
    "    loop.set_description(\"total_loss = %.6f\" % sum_loss)\n",
    "    \n",
    "    # Plot mesh\n",
    "    # if i % plot_period == 0:\n",
    "    #     visualize_prediction(new_src_mesh, title=\"iter: %d\" % i, silhouette=True,\n",
    "    #                          target_image=target_silhouette[1])\n",
    "        \n",
    "    # Optimization step\n",
    "    sum_loss.backward()\n",
    "    optimizer.step()"
   ]
  },
  {
   "cell_type": "code",
   "execution_count": 22,
   "metadata": {
    "colab": {},
    "colab_type": "code",
    "id": "CX4huayKR1Rm",
    "scrolled": true
   },
   "outputs": [],
   "source": [
    "# sum_loss=None\n",
    "silhouette_result = new_src_mesh.clone().detach()\n",
    "# visualize_prediction(silhouette_result, silhouette=True, \n",
    "#                      target_image=target_silhouette[1], camera=target_cameras[1])\n",
    "# plot_losses(losses)"
   ]
  },
  {
   "cell_type": "markdown",
   "metadata": {
    "colab_type": "text",
    "id": "XJDsJQmrR1Ro"
   },
   "source": [
    "## 3. Mesh and texture prediction via textured rendering\n",
    "We can predict both the mesh and its texture if we add an additional loss based on the comparing a predicted rendered RGB image to the target image. As before, we start with a sphere mesh.  We learn both translational offsets and RGB texture colors for each vertex in the sphere mesh.  Since our loss is based on rendered RGB pixel values instead of just the silhouette, we use a **SoftPhongShader** instead of a **SoftSilhouetteShader**."
   ]
  },
  {
   "cell_type": "code",
   "execution_count": 23,
   "metadata": {
    "colab": {},
    "colab_type": "code",
    "id": "aZObyIt9R1Ro"
   },
   "outputs": [],
   "source": [
    "# Rasterization settings for differentiable rendering, where the blur_radius\n",
    "# initialization is based on Liu et al, 'Soft Rasterizer: A Differentiable \n",
    "# Renderer for Image-based 3D Reasoning', ICCV 2019\n",
    "\n",
    "new_TBN_matrices = tbn_matrices(silhouette_result)\n",
    "\n",
    "sigma = 1e-4\n",
    "raster_settings_soft = RasterizationSettings(\n",
    "    image_size=imsize, \n",
    "    blur_radius=np.log(1. / 1e-4 - 1.)*sigma, \n",
    "    faces_per_pixel=50, \n",
    "    perspective_correct=False,\n",
    ")\n",
    "\n",
    "# Differentiable soft renderer using per vertex RGB colors for texture\n",
    "renderer_textured = MeshRenderer(\n",
    "    rasterizer=MeshRasterizer(\n",
    "        cameras=camera, \n",
    "        raster_settings=raster_settings_soft\n",
    "    ),\n",
    "    shader=NormalSoftPhongShader(device=device, \n",
    "        cameras=camera,\n",
    "        lights=lights,\n",
    "        tangent_matrices=new_TBN_matrices)\n",
    ")\n"
   ]
  },
  {
   "cell_type": "markdown",
   "metadata": {
    "colab_type": "text",
    "id": "NM7gJux8GMQX"
   },
   "source": [
    "We initialize settings, losses, and the optimizer that will be used to iteratively fit our mesh to the target RGB images:"
   ]
  },
  {
   "cell_type": "markdown",
   "metadata": {
    "colab_type": "text",
    "id": "tzIAycuUR1Rq"
   },
   "source": [
    "We write an optimization loop to iteratively refine our predicted mesh and its vertex colors from the sphere mesh into a mesh that matches the target images:"
   ]
  },
  {
   "cell_type": "code",
   "execution_count": 24,
   "metadata": {},
   "outputs": [],
   "source": [
    "\n",
    "# Texture generator Code\n",
    "class Generator(nn.Module):\n",
    "    def __init__(self, ngpu, ngf = 32, nc=3, nz=100, type = \"normal\", conv_layers = 4):\n",
    "        super(Generator, self).__init__()\n",
    "        self.type = type\n",
    "        self.ngpu = ngpu\n",
    "        self.deconv = nn.Sequential(\n",
    "            # Testing convoluting target image first \n",
    "            # input is (nc) x 128 x 128\n",
    "            nn.Conv2d(nc, ngf, 4, 2, 1, bias=False),\n",
    "            nn.LeakyReLU(0.2, inplace=True),\n",
    "            # nn.Dropout2d(p=0.25),\n",
    "            # state size. (ndf) x 64 x 64\n",
    "            nn.Conv2d(ngf, ngf * 2, 4, 2, 1, bias=False),\n",
    "            nn.BatchNorm2d(ngf * 2),\n",
    "            nn.LeakyReLU(0.2, inplace=True),\n",
    "            # nn.Dropout2d(p=0.25),\n",
    "            # state size. (ndf*2) x 32 x 32\n",
    "            nn.Conv2d(ngf * 2, ngf * 4, 4, 2, 1, bias=False),\n",
    "            nn.BatchNorm2d(ngf * 4),\n",
    "            nn.LeakyReLU(0.2, inplace=True),\n",
    "            # state size. (ndf*4) x 16 x 16\n",
    "            nn.Flatten(),\n",
    "            nn.Linear(ngf * 4 * 16*16, nz),\n",
    "            UnsqueezeLatent(),\n",
    "        )\n",
    "        self.tanh = nn.Tanh()           \n",
    "        scale_factor = max(4, 4*(2**(4-conv_layers)))\n",
    "        self.upsampler = nn.Upsample(scale_factor=scale_factor, mode='bilinear')\n",
    "\n",
    "        if conv_layers < 5:\n",
    "            self.normal_generator = nn.Sequential(\n",
    "                nn.ConvTranspose2d(int(ngf * (2**(-2))), nc, 4, 4, 0, bias=False),\n",
    "                nn.ReLU(True),\n",
    "                nn.ConvTranspose2d( nc, nc, 3, 1, 1, bias=False),\n",
    "            )\n",
    "            self.texture_generator = nn.Sequential(\n",
    "                nn.ConvTranspose2d(int(ngf * (2**(-2))), nc, 4, 4, 0, bias=False),\n",
    "                nn.ReLU(True),\n",
    "                nn.ConvTranspose2d( nc, nc, 3, 1, 1, bias=False),\n",
    "            )\n",
    "        else:\n",
    "            self.normal_generator = nn.Sequential(\n",
    "                nn.ConvTranspose2d(int(ngf * (2**(-2))), nc, 4, 2, 1, bias=False),\n",
    "                nn.ReLU(True),\n",
    "                nn.ConvTranspose2d( nc, nc, 3, 1, 1, bias=False),\n",
    "            )\n",
    "            self.texture_generator = nn.Sequential(\n",
    "                nn.ConvTranspose2d(int(ngf * (2**(-2))), nc, 4, 2, 1, bias=False),\n",
    "                nn.ReLU(True),\n",
    "                nn.ConvTranspose2d( nc, nc, 3, 1, 1, bias=False),\n",
    "            )\n",
    "        if type == \"normal\":\n",
    "            self.generator = nn.Sequential(\n",
    "                # input is Z, going into a convolution\n",
    "                nn.ConvTranspose2d( nz, ngf * 8, 4, 1, 0, bias=False),\n",
    "                # nn.BatchNorm2d(ngf * 8),\n",
    "                nn.ReLU(True),\n",
    "                # nn.Dropout2d(p=0.25),\n",
    "                # state size. (ngf*8) x 4 x 4\n",
    "                nn.ConvTranspose2d(ngf * 8, ngf * 4, 4, 2, 1, bias=False),\n",
    "                # ResConvTranspose(nn.ConvTranspose2d(ngf, ngf, 4, 2, 1, bias=False),nn.Upsample(scale_factor=2, mode='bilinear')),\n",
    "                # nn.BatchNorm2d(ngf * 4),\n",
    "                nn.ReLU(True),\n",
    "                # nn.Dropout2d(p=0.25),\n",
    "                # state size. (ngf*4) x 8 x 8\n",
    "                nn.ConvTranspose2d( ngf * 4, ngf * 2, 4, 2, 1, bias=False),\n",
    "                # ResConvTranspose(nn.ConvTranspose2d( ngf, ngf, 4, 2, 1, bias=False),nn.Upsample(scale_factor=2, mode='bilinear')),\n",
    "                # nn.BatchNorm2d(ngf * 2),\n",
    "                nn.ReLU(True),\n",
    "                # nn.Dropout2d(p=0.25),\n",
    "                # state size. (ngf*2) x 16 x 16\n",
    "                nn.ConvTranspose2d( ngf * 2, ngf, 4, 2, 1, bias=False),\n",
    "                # ResConvTranspose(nn.ConvTranspose2d( ngf, ngf, 4, 2, 1, bias=False),nn.Upsample(scale_factor=2, mode='bilinear')),\n",
    "                # nn.BatchNorm2d(ngf),\n",
    "                nn.ReLU(True),\n",
    "                # nn.Dropout2d(p=0.25),\n",
    "                # state size. (ngf) x 32 x 32\n",
    "                # nn.ConvTranspose2d( ngf, ngf//2, 4, 2, 1, bias=False),\n",
    "                # nn.BatchNorm2d(ngf//2),\n",
    "                # nn.ReLU(True),\n",
    "                # nn.Dropout2d(),\n",
    "                # state size. (ngf) x 64 x 64\n",
    "                nn.ConvTranspose2d( ngf, nc, 4, 4, 0, bias=False),\n",
    "                nn.Tanh(),\n",
    "                # nn.Upsample(scale_factor=4, mode='bilinear')\n",
    "                # state size. (nc) x 128 x 128\n",
    "            )\n",
    "        elif type == \"residual\":\n",
    "            self.generator =  nn.Sequential(\n",
    "            # input is Z, going into a convolution\n",
    "            nn.ConvTranspose2d( nz, ngf, 4, 1, 0, bias=False),\n",
    "            # nn.BatchNorm2d(ngf * 8),\n",
    "            nn.ReLU(True),\n",
    "            # nn.Dropout2d(p=0.25),\n",
    "            # state size. (ngf*8) x 4 x 4\n",
    "            ResConvTranspose(nn.ConvTranspose2d(ngf, ngf, 4, 2, 1, bias=False),nn.Upsample(scale_factor=2, mode='bilinear')),\n",
    "            # nn.BatchNorm2d(ngf * 4),\n",
    "            nn.ReLU(True),\n",
    "            # nn.Dropout2d(p=0.25),\n",
    "            # state size. (ngf*4) x 8 x 8\n",
    "            ResConvTranspose(nn.ConvTranspose2d( ngf, ngf, 4, 2, 1, bias=False),nn.Upsample(scale_factor=2, mode='bilinear')),\n",
    "            # nn.BatchNorm2d(ngf * 2),\n",
    "            nn.ReLU(True),\n",
    "            # nn.Dropout2d(p=0.25),\n",
    "            # state size. (ngf*2) x 16 x 16\n",
    "            ResConvTranspose(nn.ConvTranspose2d( ngf, ngf, 4, 2, 1, bias=False),nn.Upsample(scale_factor=2, mode='bilinear')),\n",
    "            # nn.BatchNorm2d(ngf),\n",
    "            nn.ReLU(True),\n",
    "            # nn.Dropout2d(p=0.25),\n",
    "            # state size. (ngf) x 32 x 32\n",
    "            # nn.ConvTranspose2d( ngf, ngf//2, 4, 2, 1, bias=False),\n",
    "            # nn.BatchNorm2d(ngf//2),\n",
    "            # nn.ReLU(True),\n",
    "            # nn.Dropout2d(),\n",
    "            # state size. (ngf) x 64 x 64\n",
    "            nn.ConvTranspose2d( ngf, nc, 4, 4, 0, bias=False),\n",
    "            nn.Tanh(),\n",
    "            # nn.Upsample(scale_factor=4, mode='bilinear')\n",
    "            # state size. (nc) x 128 x 128\n",
    "        )\n",
    "        elif type == \"simultaneous\":\n",
    "            modules = [nn.ConvTranspose2d(nz, int(ngf * (2**(conv_layers-2))), 4, 1, 0, bias=False),\n",
    "                nn.BatchNorm2d(int(ngf * (2**(conv_layers-2)))),\n",
    "                nn.ReLU(True)]\n",
    "\n",
    "            # deconv layers that upscale by 2, maximum to 128x128\n",
    "            for i in range(conv_layers - 2, max(conv_layers - 7, -2), -1):\n",
    "                modules.extend([\n",
    "                nn.ConvTranspose2d(int(ngf * (2**(i))), int(ngf * (2**(i-1))), 4, 2, 1, bias=False),\n",
    "                nn.BatchNorm2d(int(ngf * (2**(i-1)))),\n",
    "                nn.ReLU(True)\n",
    "                ])\n",
    "            # convolution layers without upscaling beyond 128x128 to save on memory\n",
    "            if conv_layers >= 5:\n",
    "                for j in range(conv_layers - 7, -2, -1):\n",
    "                    modules.extend([\n",
    "                        nn.ConvTranspose2d(int(ngf * (2**(j))), int(ngf * (2**(j-1))), 3, 1, 1, bias=False),\n",
    "                        nn.BatchNorm2d(int(ngf * (2**(j-1)))),\n",
    "                        nn.ReLU(True) \n",
    "                    ])\n",
    "\n",
    "            self.generator = nn.Sequential(*modules)\n",
    "    def forward(self, input):\n",
    "        if self.type == \"simultaneous\":\n",
    "            result = self.generator(input)\n",
    "            return self.upsampler(self.tanh(self.texture_generator(result))), self.upsampler(self.tanh(self.normal_generator(result)))\n",
    "        else: \n",
    "            return self.generator(input)\n"
   ]
  },
  {
   "cell_type": "code",
   "execution_count": 25,
   "metadata": {},
   "outputs": [],
   "source": [
    "# Discriminator code\n",
    "class Discriminator(nn.Module):\n",
    "    def __init__(self, ngpu, ndf = 32, nc = 3):\n",
    "        super(Discriminator, self).__init__()\n",
    "        self.ngpu = ngpu\n",
    "        self.main = nn.Sequential(\n",
    "            # input is (nc) x 128 x 128\n",
    "            nn.Conv2d(nc, ndf, 4, 2, 1, bias=False),\n",
    "            nn.LeakyReLU(0.2, inplace=True),\n",
    "            # nn.Dropout2d(p=0.25),\n",
    "            # state size. (ndf) x 64 x 64\n",
    "            nn.Conv2d(ndf, ndf * 2, 4, 2, 1, bias=False),\n",
    "            nn.BatchNorm2d(ndf * 2),\n",
    "            nn.LeakyReLU(0.2, inplace=True),\n",
    "            # nn.Dropout2d(p=0.25),\n",
    "            # state size. (ndf*2) x 32 x 32\n",
    "            nn.Conv2d(ndf * 2, ndf * 4, 4, 2, 1, bias=False),\n",
    "            nn.BatchNorm2d(ndf * 4),\n",
    "            nn.LeakyReLU(0.2, inplace=True),\n",
    "            # nn.Dropout2d(p=0.25),\n",
    "            # state size. (ndf*4) x 16 x 16\n",
    "            nn.Conv2d(ndf * 4, ndf * 8, 4, 2, 1, bias=False),\n",
    "            nn.BatchNorm2d(ndf * 8),\n",
    "            nn.LeakyReLU(0.2, inplace=True),\n",
    "            # nn.Dropout2d(p=0.25),\n",
    "            nn.Conv2d(ndf * 8, ndf * 16, 4, 2, 1, bias=False),\n",
    "            # state size. (ndf*8) x 8 x 8\n",
    "            nn.BatchNorm2d(ndf * 16),\n",
    "            nn.LeakyReLU(0.2, inplace=True),\n",
    "            # state size. (ndf*16) x 4 x 4\n",
    "            nn.Conv2d(ndf * 16, 1, 4, 1, 0, bias=False),\n",
    "            nn.Sigmoid()\n",
    "        )\n",
    "\n",
    "    def forward(self, input):\n",
    "        return self.main(input)"
   ]
  },
  {
   "cell_type": "code",
   "execution_count": 26,
   "metadata": {
    "colab": {},
    "colab_type": "code",
    "id": "BS6LAQquF3wq"
   },
   "outputs": [],
   "source": [
    "\n",
    "\n",
    "%matplotlib inline\n",
    "\n",
    "# Optimize using rendered RGB image loss, rendered silhouette image loss, mesh \n",
    "# edge loss, mesh normal consistency, and mesh laplacian smoothing\n",
    "map_losses = {\n",
    "          \"rgb\": {\"weight\": 1.0, \"values\": []},\n",
    "        #   \"silhouette\": {\"weight\": 1.0, \"values\": []},\n",
    "        #   \"edge\": {\"weight\": 1.0, \"values\": []},\n",
    "        #   \"normal\": {\"weight\": 0.01, \"values\": []},\n",
    "        #   \"laplacian\": {\"weight\": 1.0, \"values\": []},\n",
    "          # \"style\": {\"weight\": 1.0, \"values\": []},\n",
    "          # \"adversarial\": {\"weight\": 0.01, \"values\": []},\n",
    "          \"smoothness\":{\"weight\":0.1, \"values\": []},\n",
    "          \"normal_smoothness\":{\"weight\":0.05, \"values\": []}\n",
    "         }\n",
    "losses_gan = {\n",
    "          \"generator\": {\"weight\": 1.0, \"values\": []},\n",
    "          \"discriminator\":{\"weight\":1.0, \"values\": []}\n",
    "\n",
    "}\n",
    "# We will learn to deform the source mesh by offsetting its vertices\n",
    "# The shape of the deform parameters is equal to the total number of vertices in \n",
    "# src_mesh\n",
    "# src_mesh = mesh.clone()\n",
    "# verts_shape = src_mesh.verts_packed().shape\n",
    "# deform_verts = torch.full(verts_shape, 0.0, device=device, requires_grad=True)\n",
    "\n",
    "# verts = src_mesh.verts_packed().to(device)\n",
    "# .faces_packed().unsqueeze(dim=0).to(device)\n",
    "faces_uvs = silhouette_result.textures.faces_uvs_padded()\n",
    "uv_map = silhouette_result.textures.verts_uvs_padded()\n",
    "# print(uv_map.shape, src_mesh.textures.verts_uvs_padded().shape)\n",
    "# uv_map.requires_grad = True\n",
    "\n",
    "# We will also learn per vertex colors for our sphere mesh that define texture \n",
    "# of the mesh\n",
    "# sphere_verts_rgb = torch.full(mesh.textures.maps_padded().shape, 0.1, device=device, requires_grad=True)\n",
    "# sphere_verts_rgb = torch.normal(mean=torch.full(mesh.textures.maps_padded().shape, 0.5),std=0.05).to(device)\n",
    "# sphere_verts_rgb.requires_grad = True\n",
    "# print(sphere_verts_rgb)\n",
    "\n",
    "# Need to create UV map for the sphere and optimize that together with the texture\n",
    "\n",
    "# The optimizer\n",
    "# optimizer = torch.optim.Adam([sphere_verts_rgb], lr=0.001)\n",
    "# new_src_mesh = src_mesh.clone()\n",
    "# new_src_mesh.textures = TexturesUV(sphere_verts_rgb, faces_uvs=faces, verts_uvs=uv_map)\n",
    "\n"
   ]
  },
  {
   "cell_type": "code",
   "execution_count": 27,
   "metadata": {},
   "outputs": [],
   "source": [
    "def evaluate_model(eval_mesh):\n",
    "    with torch.no_grad():\n",
    "        # Define the settings for rasterization and shading. Here we set the output \n",
    "        # image to be of size 128X128. As we are rendering images for visualization \n",
    "        # purposes only we will set faces_per_pixel=1 and blur_radius=0.0. Refer to \n",
    "        # rasterize_meshes.py for explanations of these parameters.  We also leave \n",
    "        # bin_size and max_faces_per_bin to their default values of None, which sets \n",
    "        # their values using heuristics and ensures that the faster coarse-to-fine \n",
    "        # rasterization method is used.  Refer to docs/notes/renderer.md for an \n",
    "        # explanation of the difference between naive and coarse-to-fine rasterization. \n",
    "        raster_settings = RasterizationSettings(\n",
    "            image_size=imsize, \n",
    "            blur_radius=0.0, \n",
    "            faces_per_pixel=1, \n",
    "            perspective_correct=False,\n",
    "        )\n",
    "        # Create a Phong renderer by composing a rasterizer and a shader. The textured \n",
    "        # Phong shader will interpolate the texture uv coordinates for each vertex, \n",
    "        # sample from a texture image and apply the Phong lighting model\n",
    "        renderer = NormalMeshRenderer(\n",
    "            rasterizer=MeshRasterizer(\n",
    "                cameras=camera, \n",
    "                raster_settings=raster_settings\n",
    "            ),\n",
    "            shader=NormalSoftPhongShader(\n",
    "                device=device, \n",
    "                cameras=test_cameras,\n",
    "                lights=lights,\n",
    "                tangent_matrices=new_TBN_matrices,\n",
    "            )\n",
    "        )\n",
    "        test_cos_sim = torch.nn.CosineSimilarity(dim=4)\n",
    "        normals_similarity = 0\n",
    "        image_MSE = 0\n",
    "        # Calculate RGB loss for each view point in test set\n",
    "        for j in range(len(test_cameras)):\n",
    "            image_predicted, normals_predicted = renderer(eval_mesh, cameras=test_cameras[j], lights=lights,)\n",
    "\n",
    "            # Squared L2 distance between the predicted RGB image and the target \n",
    "            predicted_rgb = image_predicted[..., :3]\n",
    "            predicted_rgb.squeeze()\n",
    "            image_MSE += ((predicted_rgb - test_rgb[j].to(device)) ** 2).mean()\n",
    "            normals_similarity += test_cos_sim(test_normals[j], normals_predicted).mean()\n",
    "        mean_MSE = image_MSE / len(test_cameras)\n",
    "        normals_similarity = normals_similarity / len(test_cameras)\n",
    "        # visualize_prediction(eval_mesh, renderer=renderer, camera=test_cameras[1], silhouette=False,target_image = test_rgb[1])\n",
    "\n",
    "        return mean_MSE, normals_similarity\n",
    "    # print(mean_MSE)\n",
    "\n",
    "# print(evaluate_model())"
   ]
  },
  {
   "cell_type": "code",
   "execution_count": 28,
   "metadata": {},
   "outputs": [],
   "source": [
    "class ResConvTranspose(nn.Module):\n",
    "    layer = 0\n",
    "    def __init__(self, deconv, upsampler):\n",
    "        super().__init__()\n",
    "        self.module = deconv\n",
    "        self.upsampler = upsampler\n",
    "        self.weight = torch.nn.Parameter(deconv.weight)\n",
    "\n",
    "    def forward(self, inputs):\n",
    "        return self.module(inputs) + self.upsampler(inputs)\n",
    "\n",
    "class UnsqueezeLatent(nn.Module):\n",
    "    layer = 0\n",
    "    def __init__(self):\n",
    "        super().__init__()\n",
    "\n",
    "    def forward(self, inputs):\n",
    "        return torch.unsqueeze(torch.unsqueeze(inputs, 2), 3)"
   ]
  },
  {
   "cell_type": "code",
   "execution_count": 29,
   "metadata": {},
   "outputs": [],
   "source": [
    "import torch.utils.data\n",
    "# from torchsummary import summary\n",
    "\n",
    "def train_network(config):\n",
    "    # Number of views to optimize over in each SGD iteration\n",
    "    # print(\"Starting training\")\n",
    "    num_views_per_iteration = min(1, num_views)\n",
    "    # Number of optimization steps\n",
    "    Niter = 1500\n",
    "    # Plot period for the losses\n",
    "    plot_period = Niter // 5\n",
    "\n",
    "    loop = tqdm(range(Niter))\n",
    "    # maps = [sphere_verts_rgb.detach().cpu()]\n",
    "\n",
    "\n",
    "    # Adversarial loss from https://pytorch.org/tutorials/beginner/dcgan_faces_tutorial.html\n",
    "    nc = 3\n",
    "    # ndf = 32\n",
    "    ngf = config[\"ngf\"]\n",
    "    nz = config[\"nz\"]\n",
    "    layers = config[\"layers\"]\n",
    "    lr = config[\"lr\"]\n",
    "    beta1 = config[\"beta1\"]\n",
    "    beta2 = config[\"beta2\"]\n",
    "    l2penalty = config[\"l2\"]\n",
    "    amsgrad = config[\"amsgrad\"]\n",
    "    # print(\"Upacked parameters\")\n",
    "\n",
    "\n",
    "    def weights_init(m):\n",
    "        classname = m.__class__.__name__\n",
    "        if classname.find('Conv') != -1:\n",
    "            nn.init.normal_(m.weight.data, 0.0, 0.05)\n",
    "        elif classname.find('BatchNorm') != -1:\n",
    "            nn.init.normal_(m.weight.data, 1.0, 0.05)\n",
    "            nn.init.constant_(m.bias.data, 0)\n",
    "\n",
    "\n",
    "    # Create discriminator for adversarial loss\n",
    "    ngpu = 1\n",
    "    # workers = 2\n",
    "    # bce_loss = nn.BCELoss()\n",
    "    # netD = Discriminator(ngpu, ndf).to(device)\n",
    "    # netD.apply(weights_init)\n",
    "    # real_label = 1.\n",
    "    # fake_label = 0.\n",
    "    # optimizerD = torch.optim.SGD(netD.parameters(), lr=lr)\n",
    "\n",
    "\n",
    "    # Create the generator\n",
    "    netG = Generator(ngpu, ngf, nc, nz, \"simultaneous\", layers).to(device)\n",
    "    # summary(netG, (nz, 1, 1))\n",
    "    # Apply the weights_init function to randomly initialize all weights\n",
    "    #  to mean=0, stdev=0.02.\n",
    "    netG.apply(weights_init)\n",
    "\n",
    "    # Need to create UV map for the sphere and optimize that together with the texture\n",
    "    # The optimizer\n",
    "    # maps_src_mesh.textures = TexturesUV(sphere_verts_rgb, faces_uvs=faces_uvs, verts_uvs=uv_map)\n",
    "\n",
    "    # Need to create UV map for the sphere and optimize that together with the texture\n",
    "    scale_factor = 1\n",
    "    texture_size = list(mesh.textures.maps_padded().shape)\n",
    "    texture_size[1] //= scale_factor\n",
    "    texture_size[2] //= scale_factor\n",
    "\n",
    "    # print(\"Texture Size: {}\".format(texture_size))\n",
    "    # sphere_verts_rgb = torch.zeros(texture_size, device=device, requires_grad=True)\n",
    "    # optimizer = torch.optim.Adam([sphere_verts_rgb], lr=0.001)\n",
    "\n",
    "    # sphere_verts_rgb = src_mesh.textures.maps_padded()\n",
    "    # sphere_verts_rgb.requires_grad = True\n",
    "    # The optimizer\n",
    "    optimizerG = torch.optim.Adam(netG.parameters(), lr=lr, betas=(beta1, beta2), weight_decay=l2penalty, amsgrad=amsgrad)\n",
    "    random_vector = torch.randn(1, nz, 1, 1, device=device) * 0.5\n",
    "    # print(random_vector.shape)\n",
    "    # print(random_vector.shape)\n",
    "    # sphere_verts_rgb = netG(target_rgb[0].to(device).unsqueeze(0).permute(0,3,1,2)).permute(0,2,3,1)\n",
    "    sphere_verts_rgb, normal_map_base = netG(random_vector)\n",
    "    # print(sphere_verts_rgb.shape, normal_map_base.shape)\n",
    "    zero_dims = texture_size[:3]\n",
    "    zero_dims.append(2)\n",
    "    ones_dims = texture_size[:3]\n",
    "    ones_dims.append(1)\n",
    "    # begin with a flat normal map and just offset it using the generator by a small amount\n",
    "    normal_map_flat = torch.cat([torch.ones(zero_dims).to(device)*0.5, torch.ones(ones_dims).to(device)], dim=3)\n",
    "    # normal_map_base.requires_grad = True\n",
    "    # optimizerNorm = torch.optim.Adam([normal_map_base], lr=lr, betas=(beta1, 0.999))\n",
    "\n",
    "\n",
    "    maps_src_mesh = silhouette_result.clone()\n",
    "    maps_src_mesh.textures = TexturesUV(sphere_verts_rgb.permute(0,2,3,1), faces_uvs=faces_uvs, verts_uvs=uv_map)\n",
    "    maps_src_mesh.normalmaps = TexturesUV(normal_map_flat, faces_uvs=faces_uvs, verts_uvs=uv_map)\n",
    "    # print(maps_src_mesh.normalmaps.maps_padded().shape)\n",
    "\n",
    "    # Cosine similarity loss for normal map\n",
    "    cos_similarity = torch.nn.CosineSimilarity(dim=3)\n",
    "\n",
    "    # print(\"Initialized state\")\n",
    "\n",
    "\n",
    "    # period to evaluate mesh against test views with normal rasterization\n",
    "    eval_period = 20\n",
    "    # mse_iters = []\n",
    "    # cos_sims = []\n",
    "    for i in loop:\n",
    "        transform_range_horizontal = 5/sphere_verts_rgb.shape[2]\n",
    "        transform_range_vertical = 5/sphere_verts_rgb.shape[3]\n",
    "        transform = RandomAffine(0, translate=(transform_range_horizontal,transform_range_vertical))\n",
    "        # Initialize optimizer\n",
    "        optimizerG.zero_grad()\n",
    "        \n",
    "        # Deform the mesh\n",
    "        # maps_src_mesh = src_mesh.offset_verts(deform_verts)\n",
    "        \n",
    "        # Add per vertex colors to texture the mesh\n",
    "        # TODO create UV map for faces and vertices for the default sphere\n",
    "\n",
    "        # sphere_verts_rgb = netG(target_rgb[i % len(target_rgb)].to(device).unsqueeze(0).permute(0,3,1,2)).permute(0,2,3,1) #- for generator network\n",
    "        sphere_verts_rgb, normal_map_base = netG(random_vector)\n",
    "        maps_src_mesh.textures = TexturesUV(sphere_verts_rgb.permute(0,2,3,1), faces_uvs=faces_uvs, verts_uvs=uv_map)\n",
    "        new_normal_map = normal_map_base.permute(0,2,3,1) * 0.25 + normal_map_flat\n",
    "        # new_normal_map = normal_map_flat\n",
    "        maps_src_mesh.normalmaps = TexturesUV(new_normal_map, faces_uvs=faces_uvs, verts_uvs=uv_map)\n",
    "\n",
    "        # Losses to smooth /regularize the mesh shape\n",
    "        map_loss = {k: torch.tensor(0.0, device=device) for k in map_losses}\n",
    "        # update_mesh_shape_prior_losses(maps_src_mesh, loss)\n",
    "        # loss_gan = {k: torch.tensor(0.0, device=device) for k in losses_gan}\n",
    "\n",
    "        # Randomly select two views to optimize over in this iteration.  Compared\n",
    "        # to using just one view, this helps resolve ambiguities between updating\n",
    "        # mesh shape vs. updating mesh texture\n",
    "        rendered_rgb = []\n",
    "\n",
    "        # Getting examples from renderer as the Generator\n",
    "        random_views = np.random.permutation(len(target_cameras)).tolist()[:num_views_per_iteration]\n",
    "        for j in random_views:\n",
    "            images_predicted, _ = renderer_textured(maps_src_mesh, cameras=target_cameras[j], lights=lights)\n",
    "\n",
    "            # Squared L2 distance between the predicted silhouette and the target \n",
    "            # # silhouette from our dataset\n",
    "            # predicted_silhouette = images_predicted[..., 3]\n",
    "            # loss_silhouette = ((predicted_silhouette - target_silhouette[j]) ** 2).mean()\n",
    "            # loss[\"silhouette\"] += loss_silhouette / num_views_per_iteration\n",
    "            \n",
    "            # Squared L2 distance between the predicted RGB image and the target \n",
    "            predicted_rgb = images_predicted[..., :3]\n",
    "            rendered_rgb.append(predicted_rgb.squeeze())\n",
    "            loss_rgb = ((predicted_rgb - target_rgb[j].to(device)) ** 2).mean()\n",
    "\n",
    "            # Style loss WIP\n",
    "            # target_rgb[j].clone().detach().permute(2,0,1).unsqueeze(0)\n",
    "            # model, style_losses = get_style_model_and_losses(cnn, cnn_normalization_mean, cnn_normalization_std, target_rgb[j].clone().detach().permute(2,0,1).unsqueeze(0))\n",
    "            # model_input = sphere_verts_rgb.clone().detach().to(device).permute(0,3,1,2)\n",
    "            # model(model_input)\n",
    "            # style_score = 0\n",
    "            # for sl in style_losses:\n",
    "            #     style_score += sl.loss\n",
    "\n",
    "            # Shifted image to get the image to be smoother/gradient between pixels to be smoother\n",
    "            smoothness = ((sphere_verts_rgb - transform(sphere_verts_rgb))**2).mean()\n",
    "            normal_smoothness = ((normal_map_flat - new_normal_map)**2).mean()\n",
    "            # print(normal_smoothness)\n",
    "\n",
    "            map_loss[\"rgb\"] += loss_rgb / num_views_per_iteration\n",
    "            map_loss[\"smoothness\"] += smoothness / num_views_per_iteration\n",
    "            map_loss[\"normal_smoothness\"] += normal_smoothness / num_views_per_iteration\n",
    "            # loss[\"style\"] += style_score / num_views_per_iteration\n",
    "\n",
    "        # ############################\n",
    "        # # (1) Update D network: maximize log(D(x)) + log(1 - D(G(z)))\n",
    "        # ###########################\n",
    "        # ## Train with all-real batch\n",
    "        # netD.zero_grad()\n",
    "        # # Format batch\n",
    "        # real_cpu = torch.stack([target_rgb[i].to(device) for i in random_views], dim=0).permute(0,3,1,2)\n",
    "        # real_cpu = real_cpu + torch.randn(real_cpu.size(), device=device)*0.1\n",
    "        # b_size = num_views_per_iteration\n",
    "        # label = torch.full((b_size,), real_label, dtype=torch.float, device=device)\n",
    "        # # Forward pass real batch through D\n",
    "        # output = netD(real_cpu).view(-1)\n",
    "        # # Calculate loss on all-real batch\n",
    "        # errD_real = bce_loss(output, label)\n",
    "        # # Calculate gradients for D in backward pass\n",
    "        # errD_real.backward()\n",
    "        # # D_x = output.mean().item()\n",
    "\n",
    "        # ## Train with all-fake batch\n",
    "        # # Generate batch of latent vectors\n",
    "        # # Generate fake image batch with G\n",
    "        # fake = torch.stack(rendered_rgb, dim=0).permute(0,3,1,2) + torch.randn(real_cpu.size(), device=device)*0.1\n",
    "        # label.fill_(fake_label)\n",
    "        # # Classify all fake batch with D\n",
    "        # output = netD(fake).view(-1)\n",
    "        # # Calculate D's loss on the all-fake batch\n",
    "        # errD_fake = bce_loss(output, label)\n",
    "        # # Calculate the gradients for this batch, accumulated (summed) with previous gradients\n",
    "        # errD_fake.backward(retain_graph=True)\n",
    "        # # D_G_z1 = output.mean().item()\n",
    "        # # Compute error of D as sum over the fake and the real batches\n",
    "        # errD = errD_real + errD_fake\n",
    "        # # Update D\n",
    "        # optimizerD.step()\n",
    "\n",
    "        # ############################\n",
    "        # # (2) Update G network: maximize log(D(G(z)))\n",
    "        # ###########################\n",
    "        # label.fill_(real_label)  # fake labels are real for generator cost\n",
    "        # # Since we just updated D, perform another forward pass of all-fake batch through D\n",
    "        # output = netD(fake).view(-1)\n",
    "        # # Calculate G's loss based on this output\n",
    "        # errG = bce_loss(output, label)\n",
    "        # # Calculate gradients for G\n",
    "        # # D_G_z2 = output.mean().item()\n",
    "        # # Update G\n",
    "\n",
    "        # loss[\"adversarial\"] = errG / num_views_per_iteration\n",
    "        # loss_gan[\"generator\"] = errG / num_views_per_iteration\n",
    "        # loss_gan[\"discriminator\"] = errD / num_views_per_iteration / 2\n",
    "\n",
    "        # Weighted sum of the losses\n",
    "        map_sum_loss = torch.tensor(0.0, device=device)\n",
    "        for k, l in map_loss.items():\n",
    "            map_sum_loss += l * map_losses[k][\"weight\"]\n",
    "            map_losses[k][\"values\"].append(float(l.detach().cpu()))\n",
    "        loop.set_description(\"total_loss = %.6f\" % map_sum_loss)\n",
    "\n",
    "\n",
    "        # for k, l in loss_gan.items():\n",
    "            # losses_gan[k][\"values\"].append(float(l.detach().cpu()))\n",
    "        # Print the losses\n",
    "        \n",
    "        # Plot mesh\n",
    "        # if i % plot_period == 0:\n",
    "        #     visualize_prediction(maps_src_mesh, renderer=renderer_textured, title=\"iter: %d\" % i, silhouette=False)\n",
    "            # maps.append(sphere_verts_rgb.detach().cpu())\n",
    "\n",
    "        # Optimization step\n",
    "        map_sum_loss.backward()\n",
    "        optimizerG.step()\n",
    "\n",
    "        \n",
    "        if i % eval_period == 0:\n",
    "            mse, cos_sim = evaluate_model(maps_src_mesh)\n",
    "            # mse_iters.append(mse)\n",
    "            # cos_sims.append(cos_sim)\n",
    "            \n",
    "        # Train Discriminator\n",
    "        # I want to make a generator that will create patches from the texture and warp them somehow to simulate them being on a surface. I'm thinking of some gradient mask too so that we don't learn from empty space. \n",
    "        # The true examples would be patches from the real image (probably also good to make it so that the object makes up at least some proportion of the patch for it to be accepted)\n",
    "\n",
    "        # Train Texture/Generator\n",
    "        # Here I want to use the discriminator to learn the texture better to try and fool it with the renderer serving as generator and the texture being the parameters we are tweaking/learning. \n",
    "    # print(\"Finished training\")\n",
    "    mse, cos_sim = evaluate_model(maps_src_mesh)\n",
    "    return mse\n",
    "\n"
   ]
  },
  {
   "cell_type": "code",
   "execution_count": 30,
   "metadata": {},
   "outputs": [],
   "source": [
    "def objective(trial):\n",
    "\n",
    "    params = {\n",
    "\n",
    "                \"ngf\": trial.suggest_categorical('ngf', [16,32,64]),\n",
    "                \"nz\": trial.suggest_int(\"nz\", 10, 200),\n",
    "                \"layers\": trial.suggest_int(\"layers\", 1,7),\n",
    "                \"lr\": trial.suggest_loguniform('lr', 1e-5, 1e-1),\n",
    "                \"beta1\": trial.suggest_uniform('beta1', 0.2, 0.9),\n",
    "                \"beta2\": trial.suggest_loguniform('beta2', 0.9, 0.9999),\n",
    "                \"l2\": trial.suggest_loguniform('l2', 1e-6, 1e-2),\n",
    "                \"amsgrad\": True,\n",
    "            }\n",
    "    \n",
    "    \n",
    "    loss = train_network(params)\n",
    "\n",
    "    return loss"
   ]
  },
  {
   "cell_type": "code",
   "execution_count": 85,
   "metadata": {},
   "outputs": [],
   "source": [
    "\n",
    "# config = {\n",
    "#     \"ngf\": tune.choice([16, 32, 64]),\n",
    "\n",
    "# #     \"nz\": 100,\n",
    "# #     \"layers\": tune.choice([2,3,4,5]),\n",
    "# #     \"lr\": tune.loguniform(1e-5, 1e-1),\n",
    "# #     \"beta1\": tune.uniform(0.2, 0.9),\n",
    "# #     \"beta2\": 0.999,\n",
    "# #     \"l2\": tune.loguniform(1e-6, 1e-2),\n",
    "# #     \"amsgrad\": True,\n",
    "#     \"nz\": 100,\n",
    "#     \"layers\": 5,\n",
    "#     \"lr\": 0.001,\n",
    "#     \"beta1\": 0.5,\n",
    "#     \"beta2\": 0.999,\n",
    "#     \"l2\": 0,\n",
    "#     \"amsgrad\": False,\n",
    "# }\n",
    "# scheduler = ASHAScheduler(\n",
    "#         metric=\"loss\",\n",
    "#         mode=\"min\",\n",
    "#         time_attr=\"training_iteration\",\n",
    "#         max_t=1000,\n",
    "#         grace_period=1,\n",
    "#         reduction_factor=2\n",
    "#         )\n",
    "\n",
    "# reporter = JupyterNotebookReporter(True,\n",
    "#         metric_columns=[\"loss\", \"training_iteration\"]\n",
    "#         )\n"
   ]
  },
  {
   "cell_type": "code",
   "execution_count": 86,
   "metadata": {},
   "outputs": [],
   "source": [
    "# custom_config = {\n",
    "#     \"ngf\": 64,\n",
    "#     \"nz\": 100,\n",
    "#     \"layers\": 5,\n",
    "#     \"lr\": 0.001,\n",
    "#     \"beta1\": 0.5,\n",
    "#     \"beta2\": 0.999,\n",
    "#     \"l2\": 0,\n",
    "#     \"amsgrad\": True,\n",
    "# }\n",
    "# train_network(custom_config)\n"
   ]
  },
  {
   "cell_type": "code",
   "execution_count": 31,
   "metadata": {},
   "outputs": [
    {
     "name": "stderr",
     "output_type": "stream",
     "text": [
      "\u001b[32m[I 2022-03-28 12:31:00,751]\u001b[0m A new study created in memory with name: no-name-8efcd08f-ee61-4aa1-866d-733f9211f911\u001b[0m\n"
     ]
    },
    {
     "data": {
      "application/vnd.jupyter.widget-view+json": {
       "model_id": "291a655e1fc940c1a68831f14d441a89",
       "version_major": 2,
       "version_minor": 0
      },
      "text/plain": [
       "  0%|          | 0/1500 [00:00<?, ?it/s]"
      ]
     },
     "metadata": {},
     "output_type": "display_data"
    },
    {
     "name": "stderr",
     "output_type": "stream",
     "text": [
      "/home/theycallmepeter/anaconda3/envs/pytorch3d/lib/python3.8/site-packages/torch/nn/functional.py:3451: UserWarning: Default upsampling behavior when mode=bilinear is changed to align_corners=False since 0.4.0. Please specify align_corners=True if the old behavior is desired. See the documentation of nn.Upsample for details.\n",
      "  warnings.warn(\n",
      "/mnt/c/Projects/deepstimate/pytorch3d/pytorch3d/transforms/transform3d.py:782: UserWarning: R is not a valid rotation matrix\n",
      "  warnings.warn(msg)\n",
      "\u001b[32m[I 2022-03-28 12:33:07,764]\u001b[0m Trial 0 finished with value: 0.003296546870842576 and parameters: {'ngf': 64, 'nz': 63, 'layers': 2, 'lr': 0.00034275061007206764, 'beta1': 0.5641676435954996, 'beta2': 0.9263047054026364, 'l2': 2.6401135364345252e-05}. Best is trial 0 with value: 0.003296546870842576.\u001b[0m\n"
     ]
    },
    {
     "data": {
      "application/vnd.jupyter.widget-view+json": {
       "model_id": "83dd6389234e4a18a083dc2ed0987a03",
       "version_major": 2,
       "version_minor": 0
      },
      "text/plain": [
       "  0%|          | 0/1500 [00:00<?, ?it/s]"
      ]
     },
     "metadata": {},
     "output_type": "display_data"
    },
    {
     "name": "stderr",
     "output_type": "stream",
     "text": [
      "/home/theycallmepeter/anaconda3/envs/pytorch3d/lib/python3.8/site-packages/torch/nn/functional.py:3451: UserWarning: Default upsampling behavior when mode=bilinear is changed to align_corners=False since 0.4.0. Please specify align_corners=True if the old behavior is desired. See the documentation of nn.Upsample for details.\n",
      "  warnings.warn(\n",
      "/mnt/c/Projects/deepstimate/pytorch3d/pytorch3d/transforms/transform3d.py:782: UserWarning: R is not a valid rotation matrix\n",
      "  warnings.warn(msg)\n",
      "\u001b[32m[I 2022-03-28 12:35:13,205]\u001b[0m Trial 1 finished with value: 0.014186839573085308 and parameters: {'ngf': 32, 'nz': 97, 'layers': 6, 'lr': 1.1096439198609474e-05, 'beta1': 0.49810512404765134, 'beta2': 0.9511787750034093, 'l2': 0.00058194219365208}. Best is trial 0 with value: 0.003296546870842576.\u001b[0m\n"
     ]
    },
    {
     "data": {
      "application/vnd.jupyter.widget-view+json": {
       "model_id": "ecc6cfeedd204e77bb0a4219d9630670",
       "version_major": 2,
       "version_minor": 0
      },
      "text/plain": [
       "  0%|          | 0/1500 [00:00<?, ?it/s]"
      ]
     },
     "metadata": {},
     "output_type": "display_data"
    },
    {
     "name": "stderr",
     "output_type": "stream",
     "text": [
      "/home/theycallmepeter/anaconda3/envs/pytorch3d/lib/python3.8/site-packages/torch/nn/functional.py:3451: UserWarning: Default upsampling behavior when mode=bilinear is changed to align_corners=False since 0.4.0. Please specify align_corners=True if the old behavior is desired. See the documentation of nn.Upsample for details.\n",
      "  warnings.warn(\n",
      "/mnt/c/Projects/deepstimate/pytorch3d/pytorch3d/transforms/transform3d.py:782: UserWarning: R is not a valid rotation matrix\n",
      "  warnings.warn(msg)\n",
      "\u001b[32m[I 2022-03-28 12:37:19,909]\u001b[0m Trial 2 finished with value: 0.003328382968902588 and parameters: {'ngf': 32, 'nz': 129, 'layers': 2, 'lr': 0.0005172146421066737, 'beta1': 0.5668128997778559, 'beta2': 0.9409476672247746, 'l2': 1.5402959272837764e-06}. Best is trial 0 with value: 0.003296546870842576.\u001b[0m\n"
     ]
    },
    {
     "data": {
      "application/vnd.jupyter.widget-view+json": {
       "model_id": "7ce08e149cca4b00a3fa3a3eac45e74a",
       "version_major": 2,
       "version_minor": 0
      },
      "text/plain": [
       "  0%|          | 0/1500 [00:00<?, ?it/s]"
      ]
     },
     "metadata": {},
     "output_type": "display_data"
    },
    {
     "name": "stderr",
     "output_type": "stream",
     "text": [
      "/home/theycallmepeter/anaconda3/envs/pytorch3d/lib/python3.8/site-packages/torch/nn/functional.py:3451: UserWarning: Default upsampling behavior when mode=bilinear is changed to align_corners=False since 0.4.0. Please specify align_corners=True if the old behavior is desired. See the documentation of nn.Upsample for details.\n",
      "  warnings.warn(\n",
      "/mnt/c/Projects/deepstimate/pytorch3d/pytorch3d/transforms/transform3d.py:782: UserWarning: R is not a valid rotation matrix\n",
      "  warnings.warn(msg)\n",
      "\u001b[32m[I 2022-03-28 12:39:21,191]\u001b[0m Trial 3 finished with value: 0.003387733828276396 and parameters: {'ngf': 16, 'nz': 56, 'layers': 3, 'lr': 0.01623507485062631, 'beta1': 0.6897217198610255, 'beta2': 0.9174912470868033, 'l2': 0.0006463390424442149}. Best is trial 0 with value: 0.003296546870842576.\u001b[0m\n"
     ]
    },
    {
     "data": {
      "application/vnd.jupyter.widget-view+json": {
       "model_id": "dc83a92405e34d42850e46d1af4369cc",
       "version_major": 2,
       "version_minor": 0
      },
      "text/plain": [
       "  0%|          | 0/1500 [00:00<?, ?it/s]"
      ]
     },
     "metadata": {},
     "output_type": "display_data"
    },
    {
     "name": "stderr",
     "output_type": "stream",
     "text": [
      "/home/theycallmepeter/anaconda3/envs/pytorch3d/lib/python3.8/site-packages/torch/nn/functional.py:3451: UserWarning: Default upsampling behavior when mode=bilinear is changed to align_corners=False since 0.4.0. Please specify align_corners=True if the old behavior is desired. See the documentation of nn.Upsample for details.\n",
      "  warnings.warn(\n",
      "/mnt/c/Projects/deepstimate/pytorch3d/pytorch3d/transforms/transform3d.py:782: UserWarning: R is not a valid rotation matrix\n",
      "  warnings.warn(msg)\n",
      "\u001b[32m[I 2022-03-28 12:41:23,375]\u001b[0m Trial 4 finished with value: 0.018376944586634636 and parameters: {'ngf': 32, 'nz': 22, 'layers': 3, 'lr': 2.4059846353153842e-05, 'beta1': 0.3601567661860403, 'beta2': 0.9224325049615687, 'l2': 0.00016381742606270182}. Best is trial 0 with value: 0.003296546870842576.\u001b[0m\n"
     ]
    },
    {
     "data": {
      "application/vnd.jupyter.widget-view+json": {
       "model_id": "5f16ec347c0d44f19819f8775ca2b09a",
       "version_major": 2,
       "version_minor": 0
      },
      "text/plain": [
       "  0%|          | 0/1500 [00:00<?, ?it/s]"
      ]
     },
     "metadata": {},
     "output_type": "display_data"
    },
    {
     "name": "stderr",
     "output_type": "stream",
     "text": [
      "/home/theycallmepeter/anaconda3/envs/pytorch3d/lib/python3.8/site-packages/torch/nn/functional.py:3451: UserWarning: Default upsampling behavior when mode=bilinear is changed to align_corners=False since 0.4.0. Please specify align_corners=True if the old behavior is desired. See the documentation of nn.Upsample for details.\n",
      "  warnings.warn(\n",
      "/mnt/c/Projects/deepstimate/pytorch3d/pytorch3d/transforms/transform3d.py:782: UserWarning: R is not a valid rotation matrix\n",
      "  warnings.warn(msg)\n",
      "\u001b[32m[I 2022-03-28 12:43:32,749]\u001b[0m Trial 5 finished with value: 0.0031809292268007994 and parameters: {'ngf': 32, 'nz': 50, 'layers': 2, 'lr': 0.04390224897853059, 'beta1': 0.8408238966874, 'beta2': 0.9919467045698261, 'l2': 2.103151221724845e-06}. Best is trial 5 with value: 0.0031809292268007994.\u001b[0m\n"
     ]
    },
    {
     "data": {
      "application/vnd.jupyter.widget-view+json": {
       "model_id": "976f2288d560411a9c8463045a335a9d",
       "version_major": 2,
       "version_minor": 0
      },
      "text/plain": [
       "  0%|          | 0/1500 [00:00<?, ?it/s]"
      ]
     },
     "metadata": {},
     "output_type": "display_data"
    },
    {
     "name": "stderr",
     "output_type": "stream",
     "text": [
      "/home/theycallmepeter/anaconda3/envs/pytorch3d/lib/python3.8/site-packages/torch/nn/functional.py:3451: UserWarning: Default upsampling behavior when mode=bilinear is changed to align_corners=False since 0.4.0. Please specify align_corners=True if the old behavior is desired. See the documentation of nn.Upsample for details.\n",
      "  warnings.warn(\n",
      "/mnt/c/Projects/deepstimate/pytorch3d/pytorch3d/transforms/transform3d.py:782: UserWarning: R is not a valid rotation matrix\n",
      "  warnings.warn(msg)\n",
      "\u001b[32m[I 2022-03-28 12:45:36,598]\u001b[0m Trial 6 finished with value: 0.0033983939792960882 and parameters: {'ngf': 16, 'nz': 174, 'layers': 6, 'lr': 0.017415277532091916, 'beta1': 0.7766936763834433, 'beta2': 0.9422351386608092, 'l2': 0.0007209157809342306}. Best is trial 5 with value: 0.0031809292268007994.\u001b[0m\n"
     ]
    },
    {
     "data": {
      "application/vnd.jupyter.widget-view+json": {
       "model_id": "673f26c8d5d241079858081d9276ae11",
       "version_major": 2,
       "version_minor": 0
      },
      "text/plain": [
       "  0%|          | 0/1500 [00:00<?, ?it/s]"
      ]
     },
     "metadata": {},
     "output_type": "display_data"
    },
    {
     "name": "stderr",
     "output_type": "stream",
     "text": [
      "/home/theycallmepeter/anaconda3/envs/pytorch3d/lib/python3.8/site-packages/torch/nn/functional.py:3451: UserWarning: Default upsampling behavior when mode=bilinear is changed to align_corners=False since 0.4.0. Please specify align_corners=True if the old behavior is desired. See the documentation of nn.Upsample for details.\n",
      "  warnings.warn(\n",
      "/mnt/c/Projects/deepstimate/pytorch3d/pytorch3d/transforms/transform3d.py:782: UserWarning: R is not a valid rotation matrix\n",
      "  warnings.warn(msg)\n",
      "\u001b[32m[I 2022-03-28 12:47:37,376]\u001b[0m Trial 7 finished with value: 0.010726194828748703 and parameters: {'ngf': 16, 'nz': 160, 'layers': 5, 'lr': 2.418452341540476e-05, 'beta1': 0.25514741661743073, 'beta2': 0.9508283902995652, 'l2': 0.0017614968577593462}. Best is trial 5 with value: 0.0031809292268007994.\u001b[0m\n"
     ]
    },
    {
     "data": {
      "application/vnd.jupyter.widget-view+json": {
       "model_id": "6cd6b1b489be4a32a36b347158e78d39",
       "version_major": 2,
       "version_minor": 0
      },
      "text/plain": [
       "  0%|          | 0/1500 [00:00<?, ?it/s]"
      ]
     },
     "metadata": {},
     "output_type": "display_data"
    },
    {
     "name": "stderr",
     "output_type": "stream",
     "text": [
      "/home/theycallmepeter/anaconda3/envs/pytorch3d/lib/python3.8/site-packages/torch/nn/functional.py:3451: UserWarning: Default upsampling behavior when mode=bilinear is changed to align_corners=False since 0.4.0. Please specify align_corners=True if the old behavior is desired. See the documentation of nn.Upsample for details.\n",
      "  warnings.warn(\n",
      "/mnt/c/Projects/deepstimate/pytorch3d/pytorch3d/transforms/transform3d.py:782: UserWarning: R is not a valid rotation matrix\n",
      "  warnings.warn(msg)\n",
      "\u001b[32m[I 2022-03-28 12:49:39,274]\u001b[0m Trial 8 finished with value: 0.003190858056768775 and parameters: {'ngf': 64, 'nz': 156, 'layers': 3, 'lr': 0.000608208850654448, 'beta1': 0.8957378782262495, 'beta2': 0.9540339213083623, 'l2': 6.298725803219573e-06}. Best is trial 5 with value: 0.0031809292268007994.\u001b[0m\n"
     ]
    },
    {
     "data": {
      "application/vnd.jupyter.widget-view+json": {
       "model_id": "d61040677a794e68bf427c69ca131156",
       "version_major": 2,
       "version_minor": 0
      },
      "text/plain": [
       "  0%|          | 0/1500 [00:00<?, ?it/s]"
      ]
     },
     "metadata": {},
     "output_type": "display_data"
    },
    {
     "name": "stderr",
     "output_type": "stream",
     "text": [
      "/home/theycallmepeter/anaconda3/envs/pytorch3d/lib/python3.8/site-packages/torch/nn/functional.py:3451: UserWarning: Default upsampling behavior when mode=bilinear is changed to align_corners=False since 0.4.0. Please specify align_corners=True if the old behavior is desired. See the documentation of nn.Upsample for details.\n",
      "  warnings.warn(\n",
      "/mnt/c/Projects/deepstimate/pytorch3d/pytorch3d/transforms/transform3d.py:782: UserWarning: R is not a valid rotation matrix\n",
      "  warnings.warn(msg)\n",
      "\u001b[32m[I 2022-03-28 12:51:39,579]\u001b[0m Trial 9 finished with value: 0.022609153762459755 and parameters: {'ngf': 64, 'nz': 112, 'layers': 4, 'lr': 1.2846847598713245e-05, 'beta1': 0.4978223727310294, 'beta2': 0.9000930587052934, 'l2': 0.004834850074034821}. Best is trial 5 with value: 0.0031809292268007994.\u001b[0m\n"
     ]
    },
    {
     "data": {
      "application/vnd.jupyter.widget-view+json": {
       "model_id": "96f4174cca1b45b18515ead770773210",
       "version_major": 2,
       "version_minor": 0
      },
      "text/plain": [
       "  0%|          | 0/1500 [00:00<?, ?it/s]"
      ]
     },
     "metadata": {},
     "output_type": "display_data"
    },
    {
     "name": "stderr",
     "output_type": "stream",
     "text": [
      "/home/theycallmepeter/anaconda3/envs/pytorch3d/lib/python3.8/site-packages/torch/nn/functional.py:3451: UserWarning: Default upsampling behavior when mode=bilinear is changed to align_corners=False since 0.4.0. Please specify align_corners=True if the old behavior is desired. See the documentation of nn.Upsample for details.\n",
      "  warnings.warn(\n",
      "/mnt/c/Projects/deepstimate/pytorch3d/pytorch3d/transforms/transform3d.py:782: UserWarning: R is not a valid rotation matrix\n",
      "  warnings.warn(msg)\n",
      "\u001b[32m[I 2022-03-28 12:53:38,871]\u001b[0m Trial 10 finished with value: 0.0038097158540040255 and parameters: {'ngf': 32, 'nz': 20, 'layers': 4, 'lr': 0.09368554413252826, 'beta1': 0.8760691177816156, 'beta2': 0.9985665162211307, 'l2': 1.2420847490262917e-06}. Best is trial 5 with value: 0.0031809292268007994.\u001b[0m\n"
     ]
    },
    {
     "data": {
      "application/vnd.jupyter.widget-view+json": {
       "model_id": "821827841f764a2f952c0ab0ad14044e",
       "version_major": 2,
       "version_minor": 0
      },
      "text/plain": [
       "  0%|          | 0/1500 [00:00<?, ?it/s]"
      ]
     },
     "metadata": {},
     "output_type": "display_data"
    },
    {
     "name": "stderr",
     "output_type": "stream",
     "text": [
      "/home/theycallmepeter/anaconda3/envs/pytorch3d/lib/python3.8/site-packages/torch/nn/functional.py:3451: UserWarning: Default upsampling behavior when mode=bilinear is changed to align_corners=False since 0.4.0. Please specify align_corners=True if the old behavior is desired. See the documentation of nn.Upsample for details.\n",
      "  warnings.warn(\n",
      "/mnt/c/Projects/deepstimate/pytorch3d/pytorch3d/transforms/transform3d.py:782: UserWarning: R is not a valid rotation matrix\n",
      "  warnings.warn(msg)\n",
      "\u001b[32m[I 2022-03-28 12:55:39,827]\u001b[0m Trial 11 finished with value: 0.003107657190412283 and parameters: {'ngf': 64, 'nz': 146, 'layers': 3, 'lr': 0.0026958899543913914, 'beta1': 0.8776871431640113, 'beta2': 0.9857196940004833, 'l2': 7.76192947610013e-06}. Best is trial 11 with value: 0.003107657190412283.\u001b[0m\n"
     ]
    },
    {
     "data": {
      "application/vnd.jupyter.widget-view+json": {
       "model_id": "6253f7ca3fa4497197b5fb649afe3614",
       "version_major": 2,
       "version_minor": 0
      },
      "text/plain": [
       "  0%|          | 0/1500 [00:00<?, ?it/s]"
      ]
     },
     "metadata": {},
     "output_type": "display_data"
    },
    {
     "name": "stderr",
     "output_type": "stream",
     "text": [
      "/home/theycallmepeter/anaconda3/envs/pytorch3d/lib/python3.8/site-packages/torch/nn/functional.py:3451: UserWarning: Default upsampling behavior when mode=bilinear is changed to align_corners=False since 0.4.0. Please specify align_corners=True if the old behavior is desired. See the documentation of nn.Upsample for details.\n",
      "  warnings.warn(\n",
      "/mnt/c/Projects/deepstimate/pytorch3d/pytorch3d/transforms/transform3d.py:782: UserWarning: R is not a valid rotation matrix\n",
      "  warnings.warn(msg)\n",
      "\u001b[32m[I 2022-03-28 12:57:48,507]\u001b[0m Trial 12 finished with value: 0.003040011739358306 and parameters: {'ngf': 64, 'nz': 195, 'layers': 2, 'lr': 0.004361955698126581, 'beta1': 0.7348386561733672, 'beta2': 0.9953238051214539, 'l2': 1.1748513849331835e-05}. Best is trial 12 with value: 0.003040011739358306.\u001b[0m\n"
     ]
    },
    {
     "data": {
      "application/vnd.jupyter.widget-view+json": {
       "model_id": "3dc9af461ad64be1b7a9f2122187819a",
       "version_major": 2,
       "version_minor": 0
      },
      "text/plain": [
       "  0%|          | 0/1500 [00:00<?, ?it/s]"
      ]
     },
     "metadata": {},
     "output_type": "display_data"
    },
    {
     "name": "stderr",
     "output_type": "stream",
     "text": [
      "/home/theycallmepeter/anaconda3/envs/pytorch3d/lib/python3.8/site-packages/torch/nn/functional.py:3451: UserWarning: Default upsampling behavior when mode=bilinear is changed to align_corners=False since 0.4.0. Please specify align_corners=True if the old behavior is desired. See the documentation of nn.Upsample for details.\n",
      "  warnings.warn(\n",
      "/mnt/c/Projects/deepstimate/pytorch3d/pytorch3d/transforms/transform3d.py:782: UserWarning: R is not a valid rotation matrix\n",
      "  warnings.warn(msg)\n",
      "\u001b[32m[I 2022-03-28 12:59:54,361]\u001b[0m Trial 13 finished with value: 0.003024704521521926 and parameters: {'ngf': 64, 'nz': 194, 'layers': 3, 'lr': 0.0024779614985461834, 'beta1': 0.7070565235002179, 'beta2': 0.9761506085475053, 'l2': 2.317770994227827e-05}. Best is trial 13 with value: 0.003024704521521926.\u001b[0m\n"
     ]
    },
    {
     "data": {
      "application/vnd.jupyter.widget-view+json": {
       "model_id": "faa95fe109f74359a5fb0c6279c8b725",
       "version_major": 2,
       "version_minor": 0
      },
      "text/plain": [
       "  0%|          | 0/1500 [00:00<?, ?it/s]"
      ]
     },
     "metadata": {},
     "output_type": "display_data"
    },
    {
     "name": "stderr",
     "output_type": "stream",
     "text": [
      "/home/theycallmepeter/anaconda3/envs/pytorch3d/lib/python3.8/site-packages/torch/nn/functional.py:3451: UserWarning: Default upsampling behavior when mode=bilinear is changed to align_corners=False since 0.4.0. Please specify align_corners=True if the old behavior is desired. See the documentation of nn.Upsample for details.\n",
      "  warnings.warn(\n",
      "/mnt/c/Projects/deepstimate/pytorch3d/pytorch3d/transforms/transform3d.py:782: UserWarning: R is not a valid rotation matrix\n",
      "  warnings.warn(msg)\n",
      "\u001b[32m[I 2022-03-28 13:02:03,783]\u001b[0m Trial 14 finished with value: 0.003145871451124549 and parameters: {'ngf': 64, 'nz': 191, 'layers': 2, 'lr': 0.00288769723803011, 'beta1': 0.7049793786778421, 'beta2': 0.9737480136449393, 'l2': 5.200115453721242e-05}. Best is trial 13 with value: 0.003024704521521926.\u001b[0m\n"
     ]
    },
    {
     "data": {
      "application/vnd.jupyter.widget-view+json": {
       "model_id": "b5c1802499474a7fbecb5b112b1eaf93",
       "version_major": 2,
       "version_minor": 0
      },
      "text/plain": [
       "  0%|          | 0/1500 [00:00<?, ?it/s]"
      ]
     },
     "metadata": {},
     "output_type": "display_data"
    },
    {
     "name": "stderr",
     "output_type": "stream",
     "text": [
      "/home/theycallmepeter/anaconda3/envs/pytorch3d/lib/python3.8/site-packages/torch/nn/functional.py:3451: UserWarning: Default upsampling behavior when mode=bilinear is changed to align_corners=False since 0.4.0. Please specify align_corners=True if the old behavior is desired. See the documentation of nn.Upsample for details.\n",
      "  warnings.warn(\n",
      "/mnt/c/Projects/deepstimate/pytorch3d/pytorch3d/transforms/transform3d.py:782: UserWarning: R is not a valid rotation matrix\n",
      "  warnings.warn(msg)\n",
      "\u001b[32m[I 2022-03-28 13:04:08,108]\u001b[0m Trial 15 finished with value: 0.0031434709671884775 and parameters: {'ngf': 64, 'nz': 190, 'layers': 3, 'lr': 0.0033300380761385347, 'beta1': 0.6725315362682149, 'beta2': 0.9700773757939773, 'l2': 1.633109944210145e-05}. Best is trial 13 with value: 0.003024704521521926.\u001b[0m\n"
     ]
    },
    {
     "data": {
      "application/vnd.jupyter.widget-view+json": {
       "model_id": "9eab5636eb0d4ae5b3c510d2cac82418",
       "version_major": 2,
       "version_minor": 0
      },
      "text/plain": [
       "  0%|          | 0/1500 [00:00<?, ?it/s]"
      ]
     },
     "metadata": {},
     "output_type": "display_data"
    },
    {
     "name": "stderr",
     "output_type": "stream",
     "text": [
      "/home/theycallmepeter/anaconda3/envs/pytorch3d/lib/python3.8/site-packages/torch/nn/functional.py:3451: UserWarning: Default upsampling behavior when mode=bilinear is changed to align_corners=False since 0.4.0. Please specify align_corners=True if the old behavior is desired. See the documentation of nn.Upsample for details.\n",
      "  warnings.warn(\n",
      "/mnt/c/Projects/deepstimate/pytorch3d/pytorch3d/transforms/transform3d.py:782: UserWarning: R is not a valid rotation matrix\n",
      "  warnings.warn(msg)\n",
      "\u001b[32m[I 2022-03-28 13:06:10,985]\u001b[0m Trial 16 finished with value: 0.0030307744164019823 and parameters: {'ngf': 64, 'nz': 174, 'layers': 4, 'lr': 0.00015682480915887837, 'beta1': 0.7662336700559094, 'beta2': 0.9742830497564167, 'l2': 0.000112756045921538}. Best is trial 13 with value: 0.003024704521521926.\u001b[0m\n"
     ]
    },
    {
     "data": {
      "application/vnd.jupyter.widget-view+json": {
       "model_id": "7fdb0728a44a4954adc66fa659987b70",
       "version_major": 2,
       "version_minor": 0
      },
      "text/plain": [
       "  0%|          | 0/1500 [00:00<?, ?it/s]"
      ]
     },
     "metadata": {},
     "output_type": "display_data"
    },
    {
     "name": "stderr",
     "output_type": "stream",
     "text": [
      "/home/theycallmepeter/anaconda3/envs/pytorch3d/lib/python3.8/site-packages/torch/nn/functional.py:3451: UserWarning: Default upsampling behavior when mode=bilinear is changed to align_corners=False since 0.4.0. Please specify align_corners=True if the old behavior is desired. See the documentation of nn.Upsample for details.\n",
      "  warnings.warn(\n",
      "/mnt/c/Projects/deepstimate/pytorch3d/pytorch3d/transforms/transform3d.py:782: UserWarning: R is not a valid rotation matrix\n",
      "  warnings.warn(msg)\n",
      "\u001b[32m[I 2022-03-28 13:08:17,685]\u001b[0m Trial 17 finished with value: 0.0028049664106220007 and parameters: {'ngf': 64, 'nz': 137, 'layers': 5, 'lr': 0.00010658230336363386, 'beta1': 0.6158624342578893, 'beta2': 0.9745218994536383, 'l2': 0.00010847311592052035}. Best is trial 17 with value: 0.0028049664106220007.\u001b[0m\n"
     ]
    },
    {
     "data": {
      "application/vnd.jupyter.widget-view+json": {
       "model_id": "627189f956b3461aa2377f9383f153d6",
       "version_major": 2,
       "version_minor": 0
      },
      "text/plain": [
       "  0%|          | 0/1500 [00:00<?, ?it/s]"
      ]
     },
     "metadata": {},
     "output_type": "display_data"
    },
    {
     "name": "stderr",
     "output_type": "stream",
     "text": [
      "/home/theycallmepeter/anaconda3/envs/pytorch3d/lib/python3.8/site-packages/torch/nn/functional.py:3451: UserWarning: Default upsampling behavior when mode=bilinear is changed to align_corners=False since 0.4.0. Please specify align_corners=True if the old behavior is desired. See the documentation of nn.Upsample for details.\n",
      "  warnings.warn(\n",
      "/mnt/c/Projects/deepstimate/pytorch3d/pytorch3d/transforms/transform3d.py:782: UserWarning: R is not a valid rotation matrix\n",
      "  warnings.warn(msg)\n",
      "\u001b[32m[I 2022-03-28 13:10:22,422]\u001b[0m Trial 18 finished with value: 0.0027171033434569836 and parameters: {'ngf': 64, 'nz': 98, 'layers': 5, 'lr': 0.0001071801176916571, 'beta1': 0.6026271362216988, 'beta2': 0.9672847663711883, 'l2': 0.00024195198452913935}. Best is trial 18 with value: 0.0027171033434569836.\u001b[0m\n"
     ]
    },
    {
     "data": {
      "application/vnd.jupyter.widget-view+json": {
       "model_id": "26567b2a0b1c4d21aa5b240054a7e38e",
       "version_major": 2,
       "version_minor": 0
      },
      "text/plain": [
       "  0%|          | 0/1500 [00:00<?, ?it/s]"
      ]
     },
     "metadata": {},
     "output_type": "display_data"
    },
    {
     "name": "stderr",
     "output_type": "stream",
     "text": [
      "/home/theycallmepeter/anaconda3/envs/pytorch3d/lib/python3.8/site-packages/torch/nn/functional.py:3451: UserWarning: Default upsampling behavior when mode=bilinear is changed to align_corners=False since 0.4.0. Please specify align_corners=True if the old behavior is desired. See the documentation of nn.Upsample for details.\n",
      "  warnings.warn(\n",
      "/mnt/c/Projects/deepstimate/pytorch3d/pytorch3d/transforms/transform3d.py:782: UserWarning: R is not a valid rotation matrix\n",
      "  warnings.warn(msg)\n",
      "\u001b[32m[I 2022-03-28 13:12:30,177]\u001b[0m Trial 19 finished with value: 0.003070726990699768 and parameters: {'ngf': 64, 'nz': 88, 'layers': 5, 'lr': 7.27365785953858e-05, 'beta1': 0.6241500130893647, 'beta2': 0.9623159402899899, 'l2': 0.00022034037831793543}. Best is trial 18 with value: 0.0027171033434569836.\u001b[0m\n"
     ]
    },
    {
     "data": {
      "application/vnd.jupyter.widget-view+json": {
       "model_id": "beb84ddaa2164acf8a34d268ecda6412",
       "version_major": 2,
       "version_minor": 0
      },
      "text/plain": [
       "  0%|          | 0/1500 [00:00<?, ?it/s]"
      ]
     },
     "metadata": {},
     "output_type": "display_data"
    },
    {
     "name": "stderr",
     "output_type": "stream",
     "text": [
      "/home/theycallmepeter/anaconda3/envs/pytorch3d/lib/python3.8/site-packages/torch/nn/functional.py:3451: UserWarning: Default upsampling behavior when mode=bilinear is changed to align_corners=False since 0.4.0. Please specify align_corners=True if the old behavior is desired. See the documentation of nn.Upsample for details.\n",
      "  warnings.warn(\n",
      "/mnt/c/Projects/deepstimate/pytorch3d/pytorch3d/transforms/transform3d.py:782: UserWarning: R is not a valid rotation matrix\n",
      "  warnings.warn(msg)\n",
      "\u001b[32m[I 2022-03-28 13:14:33,551]\u001b[0m Trial 20 finished with value: 0.004707153420895338 and parameters: {'ngf': 16, 'nz': 135, 'layers': 5, 'lr': 8.931905516918204e-05, 'beta1': 0.3674223444950513, 'beta2': 0.9628174896574523, 'l2': 6.023716303248317e-05}. Best is trial 18 with value: 0.0027171033434569836.\u001b[0m\n"
     ]
    },
    {
     "data": {
      "application/vnd.jupyter.widget-view+json": {
       "model_id": "8dbbfb0d98da4f83ac5f9e0a65923c07",
       "version_major": 2,
       "version_minor": 0
      },
      "text/plain": [
       "  0%|          | 0/1500 [00:00<?, ?it/s]"
      ]
     },
     "metadata": {},
     "output_type": "display_data"
    },
    {
     "name": "stderr",
     "output_type": "stream",
     "text": [
      "/home/theycallmepeter/anaconda3/envs/pytorch3d/lib/python3.8/site-packages/torch/nn/functional.py:3451: UserWarning: Default upsampling behavior when mode=bilinear is changed to align_corners=False since 0.4.0. Please specify align_corners=True if the old behavior is desired. See the documentation of nn.Upsample for details.\n",
      "  warnings.warn(\n",
      "/mnt/c/Projects/deepstimate/pytorch3d/pytorch3d/transforms/transform3d.py:782: UserWarning: R is not a valid rotation matrix\n",
      "  warnings.warn(msg)\n",
      "\u001b[32m[I 2022-03-28 13:16:27,227]\u001b[0m Trial 21 finished with value: 0.0030950859654694796 and parameters: {'ngf': 64, 'nz': 116, 'layers': 5, 'lr': 0.0012608975095606241, 'beta1': 0.6302298825471897, 'beta2': 0.9802254086598378, 'l2': 0.00032246390196609664}. Best is trial 18 with value: 0.0027171033434569836.\u001b[0m\n"
     ]
    },
    {
     "data": {
      "application/vnd.jupyter.widget-view+json": {
       "model_id": "087370be76f249ed9a0645856c03aae5",
       "version_major": 2,
       "version_minor": 0
      },
      "text/plain": [
       "  0%|          | 0/1500 [00:00<?, ?it/s]"
      ]
     },
     "metadata": {},
     "output_type": "display_data"
    },
    {
     "name": "stderr",
     "output_type": "stream",
     "text": [
      "/home/theycallmepeter/anaconda3/envs/pytorch3d/lib/python3.8/site-packages/torch/nn/functional.py:3451: UserWarning: Default upsampling behavior when mode=bilinear is changed to align_corners=False since 0.4.0. Please specify align_corners=True if the old behavior is desired. See the documentation of nn.Upsample for details.\n",
      "  warnings.warn(\n",
      "/mnt/c/Projects/deepstimate/pytorch3d/pytorch3d/transforms/transform3d.py:782: UserWarning: R is not a valid rotation matrix\n",
      "  warnings.warn(msg)\n",
      "\u001b[32m[I 2022-03-28 13:18:23,188]\u001b[0m Trial 22 finished with value: 0.0028790722135454416 and parameters: {'ngf': 64, 'nz': 80, 'layers': 6, 'lr': 0.0001980933347419562, 'beta1': 0.49210828033458953, 'beta2': 0.9635660488580272, 'l2': 3.916162649127112e-05}. Best is trial 18 with value: 0.0027171033434569836.\u001b[0m\n"
     ]
    },
    {
     "data": {
      "application/vnd.jupyter.widget-view+json": {
       "model_id": "3910cbafef0c4cf1900860a055650f9f",
       "version_major": 2,
       "version_minor": 0
      },
      "text/plain": [
       "  0%|          | 0/1500 [00:00<?, ?it/s]"
      ]
     },
     "metadata": {},
     "output_type": "display_data"
    },
    {
     "name": "stderr",
     "output_type": "stream",
     "text": [
      "/home/theycallmepeter/anaconda3/envs/pytorch3d/lib/python3.8/site-packages/torch/nn/functional.py:3451: UserWarning: Default upsampling behavior when mode=bilinear is changed to align_corners=False since 0.4.0. Please specify align_corners=True if the old behavior is desired. See the documentation of nn.Upsample for details.\n",
      "  warnings.warn(\n",
      "/mnt/c/Projects/deepstimate/pytorch3d/pytorch3d/transforms/transform3d.py:782: UserWarning: R is not a valid rotation matrix\n",
      "  warnings.warn(msg)\n",
      "\u001b[32m[I 2022-03-28 13:20:20,425]\u001b[0m Trial 23 finished with value: 0.0029677734710276127 and parameters: {'ngf': 64, 'nz': 84, 'layers': 6, 'lr': 0.00019674446743489334, 'beta1': 0.43673773106730984, 'beta2': 0.9601501303196062, 'l2': 7.664554599532742e-05}. Best is trial 18 with value: 0.0027171033434569836.\u001b[0m\n"
     ]
    },
    {
     "data": {
      "application/vnd.jupyter.widget-view+json": {
       "model_id": "ddcb56230c7340eda8cde72bb28a5087",
       "version_major": 2,
       "version_minor": 0
      },
      "text/plain": [
       "  0%|          | 0/1500 [00:00<?, ?it/s]"
      ]
     },
     "metadata": {},
     "output_type": "display_data"
    },
    {
     "name": "stderr",
     "output_type": "stream",
     "text": [
      "/home/theycallmepeter/anaconda3/envs/pytorch3d/lib/python3.8/site-packages/torch/nn/functional.py:3451: UserWarning: Default upsampling behavior when mode=bilinear is changed to align_corners=False since 0.4.0. Please specify align_corners=True if the old behavior is desired. See the documentation of nn.Upsample for details.\n",
      "  warnings.warn(\n",
      "/mnt/c/Projects/deepstimate/pytorch3d/pytorch3d/transforms/transform3d.py:782: UserWarning: R is not a valid rotation matrix\n",
      "  warnings.warn(msg)\n",
      "\u001b[32m[I 2022-03-28 13:22:15,901]\u001b[0m Trial 24 finished with value: 0.0029021098744124174 and parameters: {'ngf': 64, 'nz': 69, 'layers': 6, 'lr': 7.471067537328378e-05, 'beta1': 0.5023612163893696, 'beta2': 0.9664360307036043, 'l2': 0.0017873690897289342}. Best is trial 18 with value: 0.0027171033434569836.\u001b[0m\n"
     ]
    },
    {
     "data": {
      "application/vnd.jupyter.widget-view+json": {
       "model_id": "ed455f1c39c347fd96efd80a767c8fd5",
       "version_major": 2,
       "version_minor": 0
      },
      "text/plain": [
       "  0%|          | 0/1500 [00:00<?, ?it/s]"
      ]
     },
     "metadata": {},
     "output_type": "display_data"
    },
    {
     "name": "stderr",
     "output_type": "stream",
     "text": [
      "/home/theycallmepeter/anaconda3/envs/pytorch3d/lib/python3.8/site-packages/torch/nn/functional.py:3451: UserWarning: Default upsampling behavior when mode=bilinear is changed to align_corners=False since 0.4.0. Please specify align_corners=True if the old behavior is desired. See the documentation of nn.Upsample for details.\n",
      "  warnings.warn(\n",
      "/mnt/c/Projects/deepstimate/pytorch3d/pytorch3d/transforms/transform3d.py:782: UserWarning: R is not a valid rotation matrix\n",
      "  warnings.warn(msg)\n",
      "\u001b[32m[I 2022-03-28 13:24:08,208]\u001b[0m Trial 25 finished with value: 0.0032947701402008533 and parameters: {'ngf': 64, 'nz': 122, 'layers': 5, 'lr': 3.8032482233043134e-05, 'beta1': 0.4151703775206346, 'beta2': 0.9861562195607071, 'l2': 4.1716118509576506e-05}. Best is trial 18 with value: 0.0027171033434569836.\u001b[0m\n"
     ]
    },
    {
     "data": {
      "application/vnd.jupyter.widget-view+json": {
       "model_id": "cfb40e36a5084aa59107875fb6963a7f",
       "version_major": 2,
       "version_minor": 0
      },
      "text/plain": [
       "  0%|          | 0/1500 [00:00<?, ?it/s]"
      ]
     },
     "metadata": {},
     "output_type": "display_data"
    },
    {
     "name": "stderr",
     "output_type": "stream",
     "text": [
      "/home/theycallmepeter/anaconda3/envs/pytorch3d/lib/python3.8/site-packages/torch/nn/functional.py:3451: UserWarning: Default upsampling behavior when mode=bilinear is changed to align_corners=False since 0.4.0. Please specify align_corners=True if the old behavior is desired. See the documentation of nn.Upsample for details.\n",
      "  warnings.warn(\n",
      "/mnt/c/Projects/deepstimate/pytorch3d/pytorch3d/transforms/transform3d.py:782: UserWarning: R is not a valid rotation matrix\n",
      "  warnings.warn(msg)\n",
      "\u001b[32m[I 2022-03-28 13:26:03,758]\u001b[0m Trial 26 finished with value: 0.002952311420813203 and parameters: {'ngf': 64, 'nz': 102, 'layers': 6, 'lr': 0.00023414632421402522, 'beta1': 0.6039212703550428, 'beta2': 0.9350240942788175, 'l2': 0.0002905091010638939}. Best is trial 18 with value: 0.0027171033434569836.\u001b[0m\n"
     ]
    },
    {
     "data": {
      "application/vnd.jupyter.widget-view+json": {
       "model_id": "aec52b8b535d44c1bd4f14ba1e27e472",
       "version_major": 2,
       "version_minor": 0
      },
      "text/plain": [
       "  0%|          | 0/1500 [00:00<?, ?it/s]"
      ]
     },
     "metadata": {},
     "output_type": "display_data"
    },
    {
     "name": "stderr",
     "output_type": "stream",
     "text": [
      "/home/theycallmepeter/anaconda3/envs/pytorch3d/lib/python3.8/site-packages/torch/nn/functional.py:3451: UserWarning: Default upsampling behavior when mode=bilinear is changed to align_corners=False since 0.4.0. Please specify align_corners=True if the old behavior is desired. See the documentation of nn.Upsample for details.\n",
      "  warnings.warn(\n",
      "/mnt/c/Projects/deepstimate/pytorch3d/pytorch3d/transforms/transform3d.py:782: UserWarning: R is not a valid rotation matrix\n",
      "  warnings.warn(msg)\n",
      "\u001b[32m[I 2022-03-28 13:27:53,018]\u001b[0m Trial 27 finished with value: 0.002914290176704526 and parameters: {'ngf': 64, 'nz': 38, 'layers': 5, 'lr': 0.00011780042063365459, 'beta1': 0.2692979395316929, 'beta2': 0.9560199455216389, 'l2': 3.467778897357085e-06}. Best is trial 18 with value: 0.0027171033434569836.\u001b[0m\n"
     ]
    },
    {
     "data": {
      "application/vnd.jupyter.widget-view+json": {
       "model_id": "53fb5f6b1cca4ea9a29ce6828d112bbf",
       "version_major": 2,
       "version_minor": 0
      },
      "text/plain": [
       "  0%|          | 0/1500 [00:00<?, ?it/s]"
      ]
     },
     "metadata": {},
     "output_type": "display_data"
    },
    {
     "name": "stderr",
     "output_type": "stream",
     "text": [
      "/home/theycallmepeter/anaconda3/envs/pytorch3d/lib/python3.8/site-packages/torch/nn/functional.py:3451: UserWarning: Default upsampling behavior when mode=bilinear is changed to align_corners=False since 0.4.0. Please specify align_corners=True if the old behavior is desired. See the documentation of nn.Upsample for details.\n",
      "  warnings.warn(\n",
      "/mnt/c/Projects/deepstimate/pytorch3d/pytorch3d/transforms/transform3d.py:782: UserWarning: R is not a valid rotation matrix\n",
      "  warnings.warn(msg)\n",
      "\u001b[32m[I 2022-03-28 13:29:39,144]\u001b[0m Trial 28 finished with value: 0.012918324209749699 and parameters: {'ngf': 16, 'nz': 79, 'layers': 4, 'lr': 4.0742154503999584e-05, 'beta1': 0.4550071519744036, 'beta2': 0.9823355773490058, 'l2': 0.00010962235129559128}. Best is trial 18 with value: 0.0027171033434569836.\u001b[0m\n"
     ]
    },
    {
     "data": {
      "application/vnd.jupyter.widget-view+json": {
       "model_id": "8ab222d30f584ef8899f339c48f4ab29",
       "version_major": 2,
       "version_minor": 0
      },
      "text/plain": [
       "  0%|          | 0/1500 [00:00<?, ?it/s]"
      ]
     },
     "metadata": {},
     "output_type": "display_data"
    },
    {
     "name": "stderr",
     "output_type": "stream",
     "text": [
      "/home/theycallmepeter/anaconda3/envs/pytorch3d/lib/python3.8/site-packages/torch/nn/functional.py:3451: UserWarning: Default upsampling behavior when mode=bilinear is changed to align_corners=False since 0.4.0. Please specify align_corners=True if the old behavior is desired. See the documentation of nn.Upsample for details.\n",
      "  warnings.warn(\n",
      "/mnt/c/Projects/deepstimate/pytorch3d/pytorch3d/transforms/transform3d.py:782: UserWarning: R is not a valid rotation matrix\n",
      "  warnings.warn(msg)\n",
      "\u001b[32m[I 2022-03-28 13:31:33,583]\u001b[0m Trial 29 finished with value: 0.002960614860057831 and parameters: {'ngf': 64, 'nz': 73, 'layers': 6, 'lr': 0.0003925063039038092, 'beta1': 0.5515996856143769, 'beta2': 0.9420305363965666, 'l2': 3.202219167645288e-05}. Best is trial 18 with value: 0.0027171033434569836.\u001b[0m\n"
     ]
    },
    {
     "data": {
      "application/vnd.jupyter.widget-view+json": {
       "model_id": "8fd3be5794924d4dba3cca7e4bc3e17d",
       "version_major": 2,
       "version_minor": 0
      },
      "text/plain": [
       "  0%|          | 0/1500 [00:00<?, ?it/s]"
      ]
     },
     "metadata": {},
     "output_type": "display_data"
    },
    {
     "name": "stderr",
     "output_type": "stream",
     "text": [
      "/home/theycallmepeter/anaconda3/envs/pytorch3d/lib/python3.8/site-packages/torch/nn/functional.py:3451: UserWarning: Default upsampling behavior when mode=bilinear is changed to align_corners=False since 0.4.0. Please specify align_corners=True if the old behavior is desired. See the documentation of nn.Upsample for details.\n",
      "  warnings.warn(\n",
      "/mnt/c/Projects/deepstimate/pytorch3d/pytorch3d/transforms/transform3d.py:782: UserWarning: R is not a valid rotation matrix\n",
      "  warnings.warn(msg)\n",
      "\u001b[32m[I 2022-03-28 13:33:23,314]\u001b[0m Trial 30 finished with value: 0.0029688214417546988 and parameters: {'ngf': 64, 'nz': 140, 'layers': 5, 'lr': 0.0010539354608974077, 'beta1': 0.5772306508766958, 'beta2': 0.9683202193294203, 'l2': 0.001522255745740033}. Best is trial 18 with value: 0.0027171033434569836.\u001b[0m\n"
     ]
    },
    {
     "data": {
      "application/vnd.jupyter.widget-view+json": {
       "model_id": "62ddc5728cbd4bf497e3457fc604ed79",
       "version_major": 2,
       "version_minor": 0
      },
      "text/plain": [
       "  0%|          | 0/1500 [00:00<?, ?it/s]"
      ]
     },
     "metadata": {},
     "output_type": "display_data"
    },
    {
     "name": "stderr",
     "output_type": "stream",
     "text": [
      "/home/theycallmepeter/anaconda3/envs/pytorch3d/lib/python3.8/site-packages/torch/nn/functional.py:3451: UserWarning: Default upsampling behavior when mode=bilinear is changed to align_corners=False since 0.4.0. Please specify align_corners=True if the old behavior is desired. See the documentation of nn.Upsample for details.\n",
      "  warnings.warn(\n",
      "/mnt/c/Projects/deepstimate/pytorch3d/pytorch3d/transforms/transform3d.py:782: UserWarning: R is not a valid rotation matrix\n",
      "  warnings.warn(msg)\n",
      "\u001b[32m[I 2022-03-28 13:35:17,644]\u001b[0m Trial 31 finished with value: 0.003063093638047576 and parameters: {'ngf': 64, 'nz': 67, 'layers': 6, 'lr': 5.7128468225765424e-05, 'beta1': 0.5103669656877863, 'beta2': 0.9663658742253445, 'l2': 0.008796611400928028}. Best is trial 18 with value: 0.0027171033434569836.\u001b[0m\n"
     ]
    },
    {
     "data": {
      "application/vnd.jupyter.widget-view+json": {
       "model_id": "538855d3aa54455e9cb5ae7d8030fa60",
       "version_major": 2,
       "version_minor": 0
      },
      "text/plain": [
       "  0%|          | 0/1500 [00:00<?, ?it/s]"
      ]
     },
     "metadata": {},
     "output_type": "display_data"
    },
    {
     "name": "stderr",
     "output_type": "stream",
     "text": [
      "/home/theycallmepeter/anaconda3/envs/pytorch3d/lib/python3.8/site-packages/torch/nn/functional.py:3451: UserWarning: Default upsampling behavior when mode=bilinear is changed to align_corners=False since 0.4.0. Please specify align_corners=True if the old behavior is desired. See the documentation of nn.Upsample for details.\n",
      "  warnings.warn(\n",
      "/mnt/c/Projects/deepstimate/pytorch3d/pytorch3d/transforms/transform3d.py:782: UserWarning: R is not a valid rotation matrix\n",
      "  warnings.warn(msg)\n",
      "\u001b[32m[I 2022-03-28 13:37:11,878]\u001b[0m Trial 32 finished with value: 0.0027807268779724836 and parameters: {'ngf': 64, 'nz': 87, 'layers': 6, 'lr': 0.0002517615765506084, 'beta1': 0.512732092244284, 'beta2': 0.9574198130769118, 'l2': 0.0020075753964849596}. Best is trial 18 with value: 0.0027171033434569836.\u001b[0m\n"
     ]
    },
    {
     "data": {
      "application/vnd.jupyter.widget-view+json": {
       "model_id": "24d2743a35014afaab3acdb71dc05320",
       "version_major": 2,
       "version_minor": 0
      },
      "text/plain": [
       "  0%|          | 0/1500 [00:00<?, ?it/s]"
      ]
     },
     "metadata": {},
     "output_type": "display_data"
    },
    {
     "name": "stderr",
     "output_type": "stream",
     "text": [
      "/home/theycallmepeter/anaconda3/envs/pytorch3d/lib/python3.8/site-packages/torch/nn/functional.py:3451: UserWarning: Default upsampling behavior when mode=bilinear is changed to align_corners=False since 0.4.0. Please specify align_corners=True if the old behavior is desired. See the documentation of nn.Upsample for details.\n",
      "  warnings.warn(\n",
      "/mnt/c/Projects/deepstimate/pytorch3d/pytorch3d/transforms/transform3d.py:782: UserWarning: R is not a valid rotation matrix\n",
      "  warnings.warn(msg)\n",
      "\u001b[32m[I 2022-03-28 13:39:07,042]\u001b[0m Trial 33 finished with value: 0.00276244361884892 and parameters: {'ngf': 64, 'nz': 95, 'layers': 6, 'lr': 0.00030168236862323215, 'beta1': 0.6441772415673584, 'beta2': 0.9462033784395127, 'l2': 0.0033942091899232907}. Best is trial 18 with value: 0.0027171033434569836.\u001b[0m\n"
     ]
    },
    {
     "data": {
      "application/vnd.jupyter.widget-view+json": {
       "model_id": "74a0d64065584a3a890605321fa954c2",
       "version_major": 2,
       "version_minor": 0
      },
      "text/plain": [
       "  0%|          | 0/1500 [00:00<?, ?it/s]"
      ]
     },
     "metadata": {},
     "output_type": "display_data"
    },
    {
     "name": "stderr",
     "output_type": "stream",
     "text": [
      "/home/theycallmepeter/anaconda3/envs/pytorch3d/lib/python3.8/site-packages/torch/nn/functional.py:3451: UserWarning: Default upsampling behavior when mode=bilinear is changed to align_corners=False since 0.4.0. Please specify align_corners=True if the old behavior is desired. See the documentation of nn.Upsample for details.\n",
      "  warnings.warn(\n",
      "/mnt/c/Projects/deepstimate/pytorch3d/pytorch3d/transforms/transform3d.py:782: UserWarning: R is not a valid rotation matrix\n",
      "  warnings.warn(msg)\n",
      "\u001b[32m[I 2022-03-28 13:40:56,088]\u001b[0m Trial 34 finished with value: 0.0027467969339340925 and parameters: {'ngf': 32, 'nz': 94, 'layers': 6, 'lr': 0.0006841764427693649, 'beta1': 0.6211179278780706, 'beta2': 0.9467627188128653, 'l2': 0.0033226946340972185}. Best is trial 18 with value: 0.0027171033434569836.\u001b[0m\n"
     ]
    },
    {
     "data": {
      "application/vnd.jupyter.widget-view+json": {
       "model_id": "ee5a9daf22ad43dfa9a27f3c286abdde",
       "version_major": 2,
       "version_minor": 0
      },
      "text/plain": [
       "  0%|          | 0/1500 [00:00<?, ?it/s]"
      ]
     },
     "metadata": {},
     "output_type": "display_data"
    },
    {
     "name": "stderr",
     "output_type": "stream",
     "text": [
      "/home/theycallmepeter/anaconda3/envs/pytorch3d/lib/python3.8/site-packages/torch/nn/functional.py:3451: UserWarning: Default upsampling behavior when mode=bilinear is changed to align_corners=False since 0.4.0. Please specify align_corners=True if the old behavior is desired. See the documentation of nn.Upsample for details.\n",
      "  warnings.warn(\n",
      "/mnt/c/Projects/deepstimate/pytorch3d/pytorch3d/transforms/transform3d.py:782: UserWarning: R is not a valid rotation matrix\n",
      "  warnings.warn(msg)\n",
      "\u001b[32m[I 2022-03-28 13:42:45,212]\u001b[0m Trial 35 finished with value: 0.0028134777676314116 and parameters: {'ngf': 32, 'nz': 95, 'layers': 6, 'lr': 0.0007850628627021943, 'beta1': 0.648381572158983, 'beta2': 0.933626524970856, 'l2': 0.003987331819583577}. Best is trial 18 with value: 0.0027171033434569836.\u001b[0m\n"
     ]
    },
    {
     "data": {
      "application/vnd.jupyter.widget-view+json": {
       "model_id": "89e3ddee1acb4dcb9e581b3ce6a7d3e0",
       "version_major": 2,
       "version_minor": 0
      },
      "text/plain": [
       "  0%|          | 0/1500 [00:00<?, ?it/s]"
      ]
     },
     "metadata": {},
     "output_type": "display_data"
    },
    {
     "name": "stderr",
     "output_type": "stream",
     "text": [
      "/home/theycallmepeter/anaconda3/envs/pytorch3d/lib/python3.8/site-packages/torch/nn/functional.py:3451: UserWarning: Default upsampling behavior when mode=bilinear is changed to align_corners=False since 0.4.0. Please specify align_corners=True if the old behavior is desired. See the documentation of nn.Upsample for details.\n",
      "  warnings.warn(\n",
      "/mnt/c/Projects/deepstimate/pytorch3d/pytorch3d/transforms/transform3d.py:782: UserWarning: R is not a valid rotation matrix\n",
      "  warnings.warn(msg)\n",
      "\u001b[32m[I 2022-03-28 13:44:34,522]\u001b[0m Trial 36 finished with value: 0.0029514124616980553 and parameters: {'ngf': 32, 'nz': 104, 'layers': 6, 'lr': 0.000331066097907164, 'beta1': 0.5745330662957282, 'beta2': 0.9450824680657749, 'l2': 0.0010609403611644495}. Best is trial 18 with value: 0.0027171033434569836.\u001b[0m\n"
     ]
    },
    {
     "data": {
      "application/vnd.jupyter.widget-view+json": {
       "model_id": "d1c099497011447da6ef21ed8e18232e",
       "version_major": 2,
       "version_minor": 0
      },
      "text/plain": [
       "  0%|          | 0/1500 [00:00<?, ?it/s]"
      ]
     },
     "metadata": {},
     "output_type": "display_data"
    },
    {
     "name": "stderr",
     "output_type": "stream",
     "text": [
      "/home/theycallmepeter/anaconda3/envs/pytorch3d/lib/python3.8/site-packages/torch/nn/functional.py:3451: UserWarning: Default upsampling behavior when mode=bilinear is changed to align_corners=False since 0.4.0. Please specify align_corners=True if the old behavior is desired. See the documentation of nn.Upsample for details.\n",
      "  warnings.warn(\n",
      "/mnt/c/Projects/deepstimate/pytorch3d/pytorch3d/transforms/transform3d.py:782: UserWarning: R is not a valid rotation matrix\n",
      "  warnings.warn(msg)\n",
      "\u001b[32m[I 2022-03-28 13:46:23,570]\u001b[0m Trial 37 finished with value: 0.0026620356366038322 and parameters: {'ngf': 32, 'nz': 56, 'layers': 6, 'lr': 0.0004156275145257254, 'beta1': 0.5410549917527033, 'beta2': 0.9472509651417371, 'l2': 0.003423058857338013}. Best is trial 37 with value: 0.0026620356366038322.\u001b[0m\n"
     ]
    },
    {
     "data": {
      "application/vnd.jupyter.widget-view+json": {
       "model_id": "1e66d3cf06874ca388100a26ffb34eb1",
       "version_major": 2,
       "version_minor": 0
      },
      "text/plain": [
       "  0%|          | 0/1500 [00:00<?, ?it/s]"
      ]
     },
     "metadata": {},
     "output_type": "display_data"
    },
    {
     "name": "stderr",
     "output_type": "stream",
     "text": [
      "/home/theycallmepeter/anaconda3/envs/pytorch3d/lib/python3.8/site-packages/torch/nn/functional.py:3451: UserWarning: Default upsampling behavior when mode=bilinear is changed to align_corners=False since 0.4.0. Please specify align_corners=True if the old behavior is desired. See the documentation of nn.Upsample for details.\n",
      "  warnings.warn(\n",
      "/mnt/c/Projects/deepstimate/pytorch3d/pytorch3d/transforms/transform3d.py:782: UserWarning: R is not a valid rotation matrix\n",
      "  warnings.warn(msg)\n",
      "\u001b[32m[I 2022-03-28 13:48:12,860]\u001b[0m Trial 38 finished with value: 0.0028169360011816025 and parameters: {'ngf': 32, 'nz': 51, 'layers': 6, 'lr': 0.0004940393210322767, 'beta1': 0.6620766756923716, 'beta2': 0.9349866451332354, 'l2': 0.003707828110019805}. Best is trial 37 with value: 0.0026620356366038322.\u001b[0m\n"
     ]
    },
    {
     "data": {
      "application/vnd.jupyter.widget-view+json": {
       "model_id": "1b7ca7c43087448798eab911b7283780",
       "version_major": 2,
       "version_minor": 0
      },
      "text/plain": [
       "  0%|          | 0/1500 [00:00<?, ?it/s]"
      ]
     },
     "metadata": {},
     "output_type": "display_data"
    },
    {
     "name": "stderr",
     "output_type": "stream",
     "text": [
      "/home/theycallmepeter/anaconda3/envs/pytorch3d/lib/python3.8/site-packages/torch/nn/functional.py:3451: UserWarning: Default upsampling behavior when mode=bilinear is changed to align_corners=False since 0.4.0. Please specify align_corners=True if the old behavior is desired. See the documentation of nn.Upsample for details.\n",
      "  warnings.warn(\n",
      "/mnt/c/Projects/deepstimate/pytorch3d/pytorch3d/transforms/transform3d.py:782: UserWarning: R is not a valid rotation matrix\n",
      "  warnings.warn(msg)\n",
      "\u001b[32m[I 2022-03-28 13:49:59,096]\u001b[0m Trial 39 finished with value: 0.0032377864699810743 and parameters: {'ngf': 32, 'nz': 32, 'layers': 5, 'lr': 0.006356700791425941, 'beta1': 0.7933634076959674, 'beta2': 0.9167750708899446, 'l2': 0.006693823243014789}. Best is trial 37 with value: 0.0026620356366038322.\u001b[0m\n"
     ]
    },
    {
     "data": {
      "application/vnd.jupyter.widget-view+json": {
       "model_id": "6de7549c98d84d4287f3cfbe5d1631c2",
       "version_major": 2,
       "version_minor": 0
      },
      "text/plain": [
       "  0%|          | 0/1500 [00:00<?, ?it/s]"
      ]
     },
     "metadata": {},
     "output_type": "display_data"
    },
    {
     "name": "stderr",
     "output_type": "stream",
     "text": [
      "/home/theycallmepeter/anaconda3/envs/pytorch3d/lib/python3.8/site-packages/torch/nn/functional.py:3451: UserWarning: Default upsampling behavior when mode=bilinear is changed to align_corners=False since 0.4.0. Please specify align_corners=True if the old behavior is desired. See the documentation of nn.Upsample for details.\n",
      "  warnings.warn(\n",
      "/mnt/c/Projects/deepstimate/pytorch3d/pytorch3d/transforms/transform3d.py:782: UserWarning: R is not a valid rotation matrix\n",
      "  warnings.warn(msg)\n",
      "\u001b[32m[I 2022-03-28 13:51:47,854]\u001b[0m Trial 40 finished with value: 0.00291583314538002 and parameters: {'ngf': 32, 'nz': 60, 'layers': 6, 'lr': 0.0014593151896146361, 'beta1': 0.5375081167838821, 'beta2': 0.9482675019741263, 'l2': 0.0004596751069414731}. Best is trial 37 with value: 0.0026620356366038322.\u001b[0m\n"
     ]
    },
    {
     "data": {
      "application/vnd.jupyter.widget-view+json": {
       "model_id": "762dcfcd9b464a838ca26d998c887a38",
       "version_major": 2,
       "version_minor": 0
      },
      "text/plain": [
       "  0%|          | 0/1500 [00:00<?, ?it/s]"
      ]
     },
     "metadata": {},
     "output_type": "display_data"
    },
    {
     "name": "stderr",
     "output_type": "stream",
     "text": [
      "/home/theycallmepeter/anaconda3/envs/pytorch3d/lib/python3.8/site-packages/torch/nn/functional.py:3451: UserWarning: Default upsampling behavior when mode=bilinear is changed to align_corners=False since 0.4.0. Please specify align_corners=True if the old behavior is desired. See the documentation of nn.Upsample for details.\n",
      "  warnings.warn(\n",
      "/mnt/c/Projects/deepstimate/pytorch3d/pytorch3d/transforms/transform3d.py:782: UserWarning: R is not a valid rotation matrix\n",
      "  warnings.warn(msg)\n",
      "\u001b[32m[I 2022-03-28 13:53:36,943]\u001b[0m Trial 41 finished with value: 0.002749920357018709 and parameters: {'ngf': 32, 'nz': 93, 'layers': 6, 'lr': 0.00033100081950143364, 'beta1': 0.5360084982067274, 'beta2': 0.9483012433120633, 'l2': 0.0025669463990784566}. Best is trial 37 with value: 0.0026620356366038322.\u001b[0m\n"
     ]
    },
    {
     "data": {
      "application/vnd.jupyter.widget-view+json": {
       "model_id": "bdc3e2ebf4db49b69e57a5f3a0e14c3f",
       "version_major": 2,
       "version_minor": 0
      },
      "text/plain": [
       "  0%|          | 0/1500 [00:00<?, ?it/s]"
      ]
     },
     "metadata": {},
     "output_type": "display_data"
    },
    {
     "name": "stderr",
     "output_type": "stream",
     "text": [
      "/home/theycallmepeter/anaconda3/envs/pytorch3d/lib/python3.8/site-packages/torch/nn/functional.py:3451: UserWarning: Default upsampling behavior when mode=bilinear is changed to align_corners=False since 0.4.0. Please specify align_corners=True if the old behavior is desired. See the documentation of nn.Upsample for details.\n",
      "  warnings.warn(\n",
      "/mnt/c/Projects/deepstimate/pytorch3d/pytorch3d/transforms/transform3d.py:782: UserWarning: R is not a valid rotation matrix\n",
      "  warnings.warn(msg)\n",
      "\u001b[32m[I 2022-03-28 13:55:25,641]\u001b[0m Trial 42 finished with value: 0.002807936631143093 and parameters: {'ngf': 32, 'nz': 10, 'layers': 6, 'lr': 0.0007009054164002313, 'beta1': 0.5994240138137131, 'beta2': 0.94882496042295, 'l2': 0.0027780705157310274}. Best is trial 37 with value: 0.0026620356366038322.\u001b[0m\n"
     ]
    },
    {
     "data": {
      "application/vnd.jupyter.widget-view+json": {
       "model_id": "255cb82e090d443288a9e645986920de",
       "version_major": 2,
       "version_minor": 0
      },
      "text/plain": [
       "  0%|          | 0/1500 [00:00<?, ?it/s]"
      ]
     },
     "metadata": {},
     "output_type": "display_data"
    },
    {
     "name": "stderr",
     "output_type": "stream",
     "text": [
      "/home/theycallmepeter/anaconda3/envs/pytorch3d/lib/python3.8/site-packages/torch/nn/functional.py:3451: UserWarning: Default upsampling behavior when mode=bilinear is changed to align_corners=False since 0.4.0. Please specify align_corners=True if the old behavior is desired. See the documentation of nn.Upsample for details.\n",
      "  warnings.warn(\n",
      "/mnt/c/Projects/deepstimate/pytorch3d/pytorch3d/transforms/transform3d.py:782: UserWarning: R is not a valid rotation matrix\n",
      "  warnings.warn(msg)\n",
      "\u001b[32m[I 2022-03-28 13:57:14,600]\u001b[0m Trial 43 finished with value: 0.0028295714873820543 and parameters: {'ngf': 32, 'nz': 113, 'layers': 6, 'lr': 0.0005241061884922657, 'beta1': 0.5447443235324979, 'beta2': 0.9261636197679464, 'l2': 0.0008920918473753481}. Best is trial 37 with value: 0.0026620356366038322.\u001b[0m\n"
     ]
    },
    {
     "data": {
      "application/vnd.jupyter.widget-view+json": {
       "model_id": "d4c3c2db45b6410b8be9f1130df4e9aa",
       "version_major": 2,
       "version_minor": 0
      },
      "text/plain": [
       "  0%|          | 0/1500 [00:00<?, ?it/s]"
      ]
     },
     "metadata": {},
     "output_type": "display_data"
    },
    {
     "name": "stderr",
     "output_type": "stream",
     "text": [
      "/home/theycallmepeter/anaconda3/envs/pytorch3d/lib/python3.8/site-packages/torch/nn/functional.py:3451: UserWarning: Default upsampling behavior when mode=bilinear is changed to align_corners=False since 0.4.0. Please specify align_corners=True if the old behavior is desired. See the documentation of nn.Upsample for details.\n",
      "  warnings.warn(\n",
      "/mnt/c/Projects/deepstimate/pytorch3d/pytorch3d/transforms/transform3d.py:782: UserWarning: R is not a valid rotation matrix\n",
      "  warnings.warn(msg)\n",
      "\u001b[32m[I 2022-03-28 13:59:01,603]\u001b[0m Trial 44 finished with value: 0.0030490525532513857 and parameters: {'ngf': 32, 'nz': 125, 'layers': 5, 'lr': 0.0016039268406930157, 'beta1': 0.7396473451382406, 'beta2': 0.9369923315942272, 'l2': 0.006991772890465876}. Best is trial 37 with value: 0.0026620356366038322.\u001b[0m\n"
     ]
    },
    {
     "data": {
      "application/vnd.jupyter.widget-view+json": {
       "model_id": "17bd221f46b04fcdb26b2f08b360dca6",
       "version_major": 2,
       "version_minor": 0
      },
      "text/plain": [
       "  0%|          | 0/1500 [00:00<?, ?it/s]"
      ]
     },
     "metadata": {},
     "output_type": "display_data"
    },
    {
     "name": "stderr",
     "output_type": "stream",
     "text": [
      "/home/theycallmepeter/anaconda3/envs/pytorch3d/lib/python3.8/site-packages/torch/nn/functional.py:3451: UserWarning: Default upsampling behavior when mode=bilinear is changed to align_corners=False since 0.4.0. Please specify align_corners=True if the old behavior is desired. See the documentation of nn.Upsample for details.\n",
      "  warnings.warn(\n",
      "/mnt/c/Projects/deepstimate/pytorch3d/pytorch3d/transforms/transform3d.py:782: UserWarning: R is not a valid rotation matrix\n",
      "  warnings.warn(msg)\n",
      "\u001b[32m[I 2022-03-28 14:00:50,670]\u001b[0m Trial 45 finished with value: 0.0029134328942745924 and parameters: {'ngf': 32, 'nz': 94, 'layers': 6, 'lr': 0.0003366890385605208, 'beta1': 0.4581406009596839, 'beta2': 0.9523484728760487, 'l2': 0.0031486851615160814}. Best is trial 37 with value: 0.0026620356366038322.\u001b[0m\n"
     ]
    },
    {
     "data": {
      "application/vnd.jupyter.widget-view+json": {
       "model_id": "350a5f0941264cfaa620012e0633bebd",
       "version_major": 2,
       "version_minor": 0
      },
      "text/plain": [
       "  0%|          | 0/1500 [00:00<?, ?it/s]"
      ]
     },
     "metadata": {},
     "output_type": "display_data"
    },
    {
     "name": "stderr",
     "output_type": "stream",
     "text": [
      "/home/theycallmepeter/anaconda3/envs/pytorch3d/lib/python3.8/site-packages/torch/nn/functional.py:3451: UserWarning: Default upsampling behavior when mode=bilinear is changed to align_corners=False since 0.4.0. Please specify align_corners=True if the old behavior is desired. See the documentation of nn.Upsample for details.\n",
      "  warnings.warn(\n",
      "/mnt/c/Projects/deepstimate/pytorch3d/pytorch3d/transforms/transform3d.py:782: UserWarning: R is not a valid rotation matrix\n",
      "  warnings.warn(msg)\n",
      "\u001b[32m[I 2022-03-28 14:02:39,915]\u001b[0m Trial 46 finished with value: 0.0029881191439926624 and parameters: {'ngf': 32, 'nz': 106, 'layers': 6, 'lr': 0.0008933435698255867, 'beta1': 0.5767685207260432, 'beta2': 0.9398159515342897, 'l2': 0.0012628730188014756}. Best is trial 37 with value: 0.0026620356366038322.\u001b[0m\n"
     ]
    },
    {
     "data": {
      "application/vnd.jupyter.widget-view+json": {
       "model_id": "1d704b29559347ee9b6c5c77123a3f66",
       "version_major": 2,
       "version_minor": 0
      },
      "text/plain": [
       "  0%|          | 0/1500 [00:00<?, ?it/s]"
      ]
     },
     "metadata": {},
     "output_type": "display_data"
    },
    {
     "name": "stderr",
     "output_type": "stream",
     "text": [
      "/home/theycallmepeter/anaconda3/envs/pytorch3d/lib/python3.8/site-packages/torch/nn/functional.py:3451: UserWarning: Default upsampling behavior when mode=bilinear is changed to align_corners=False since 0.4.0. Please specify align_corners=True if the old behavior is desired. See the documentation of nn.Upsample for details.\n",
      "  warnings.warn(\n",
      "/mnt/c/Projects/deepstimate/pytorch3d/pytorch3d/transforms/transform3d.py:782: UserWarning: R is not a valid rotation matrix\n",
      "  warnings.warn(msg)\n",
      "\u001b[32m[I 2022-03-28 14:04:24,019]\u001b[0m Trial 47 finished with value: 0.004904674366116524 and parameters: {'ngf': 32, 'nz': 39, 'layers': 4, 'lr': 0.00013374392872578478, 'beta1': 0.6728268875634417, 'beta2': 0.9466137026178113, 'l2': 0.0005812659148483455}. Best is trial 37 with value: 0.0026620356366038322.\u001b[0m\n"
     ]
    },
    {
     "data": {
      "application/vnd.jupyter.widget-view+json": {
       "model_id": "5166e1445269402ca0682e9794109ce4",
       "version_major": 2,
       "version_minor": 0
      },
      "text/plain": [
       "  0%|          | 0/1500 [00:00<?, ?it/s]"
      ]
     },
     "metadata": {},
     "output_type": "display_data"
    },
    {
     "name": "stderr",
     "output_type": "stream",
     "text": [
      "/home/theycallmepeter/anaconda3/envs/pytorch3d/lib/python3.8/site-packages/torch/nn/functional.py:3451: UserWarning: Default upsampling behavior when mode=bilinear is changed to align_corners=False since 0.4.0. Please specify align_corners=True if the old behavior is desired. See the documentation of nn.Upsample for details.\n",
      "  warnings.warn(\n",
      "/mnt/c/Projects/deepstimate/pytorch3d/pytorch3d/transforms/transform3d.py:782: UserWarning: R is not a valid rotation matrix\n",
      "  warnings.warn(msg)\n",
      "\u001b[32m[I 2022-03-28 14:06:08,800]\u001b[0m Trial 48 finished with value: 0.018075961619615555 and parameters: {'ngf': 16, 'nz': 55, 'layers': 5, 'lr': 1.9819680445001954e-05, 'beta1': 0.6508433105527851, 'beta2': 0.9524185424750977, 'l2': 0.002373797363487018}. Best is trial 37 with value: 0.0026620356366038322.\u001b[0m\n"
     ]
    },
    {
     "data": {
      "application/vnd.jupyter.widget-view+json": {
       "model_id": "87fb158d4b994d08a1cc025d3222a653",
       "version_major": 2,
       "version_minor": 0
      },
      "text/plain": [
       "  0%|          | 0/1500 [00:00<?, ?it/s]"
      ]
     },
     "metadata": {},
     "output_type": "display_data"
    },
    {
     "name": "stderr",
     "output_type": "stream",
     "text": [
      "/home/theycallmepeter/anaconda3/envs/pytorch3d/lib/python3.8/site-packages/torch/nn/functional.py:3451: UserWarning: Default upsampling behavior when mode=bilinear is changed to align_corners=False since 0.4.0. Please specify align_corners=True if the old behavior is desired. See the documentation of nn.Upsample for details.\n",
      "  warnings.warn(\n",
      "/mnt/c/Projects/deepstimate/pytorch3d/pytorch3d/transforms/transform3d.py:782: UserWarning: R is not a valid rotation matrix\n",
      "  warnings.warn(msg)\n",
      "\u001b[32m[I 2022-03-28 14:07:58,040]\u001b[0m Trial 49 finished with value: 0.0035011719446629286 and parameters: {'ngf': 32, 'nz': 94, 'layers': 6, 'lr': 0.0019308239329878247, 'beta1': 0.7057419286352282, 'beta2': 0.9439474263151408, 'l2': 0.005686408941483663}. Best is trial 37 with value: 0.0026620356366038322.\u001b[0m\n"
     ]
    },
    {
     "data": {
      "application/vnd.jupyter.widget-view+json": {
       "model_id": "b7e20e6a37814d32a5e35842f900af16",
       "version_major": 2,
       "version_minor": 0
      },
      "text/plain": [
       "  0%|          | 0/1500 [00:00<?, ?it/s]"
      ]
     },
     "metadata": {},
     "output_type": "display_data"
    },
    {
     "name": "stderr",
     "output_type": "stream",
     "text": [
      "/home/theycallmepeter/anaconda3/envs/pytorch3d/lib/python3.8/site-packages/torch/nn/functional.py:3451: UserWarning: Default upsampling behavior when mode=bilinear is changed to align_corners=False since 0.4.0. Please specify align_corners=True if the old behavior is desired. See the documentation of nn.Upsample for details.\n",
      "  warnings.warn(\n",
      "/mnt/c/Projects/deepstimate/pytorch3d/pytorch3d/transforms/transform3d.py:782: UserWarning: R is not a valid rotation matrix\n",
      "  warnings.warn(msg)\n",
      "\u001b[32m[I 2022-03-28 14:09:44,750]\u001b[0m Trial 50 finished with value: 0.00275845592841506 and parameters: {'ngf': 32, 'nz': 78, 'layers': 5, 'lr': 0.00030977190894160457, 'beta1': 0.379825259580552, 'beta2': 0.9300409150631231, 'l2': 0.004788437782941035}. Best is trial 37 with value: 0.0026620356366038322.\u001b[0m\n"
     ]
    },
    {
     "data": {
      "application/vnd.jupyter.widget-view+json": {
       "model_id": "590b22c73de140c6a4674a5f924d6e8c",
       "version_major": 2,
       "version_minor": 0
      },
      "text/plain": [
       "  0%|          | 0/1500 [00:00<?, ?it/s]"
      ]
     },
     "metadata": {},
     "output_type": "display_data"
    },
    {
     "name": "stderr",
     "output_type": "stream",
     "text": [
      "/home/theycallmepeter/anaconda3/envs/pytorch3d/lib/python3.8/site-packages/torch/nn/functional.py:3451: UserWarning: Default upsampling behavior when mode=bilinear is changed to align_corners=False since 0.4.0. Please specify align_corners=True if the old behavior is desired. See the documentation of nn.Upsample for details.\n",
      "  warnings.warn(\n",
      "/mnt/c/Projects/deepstimate/pytorch3d/pytorch3d/transforms/transform3d.py:782: UserWarning: R is not a valid rotation matrix\n",
      "  warnings.warn(msg)\n",
      "\u001b[32m[I 2022-03-28 14:11:30,542]\u001b[0m Trial 51 finished with value: 0.003002178156748414 and parameters: {'ngf': 32, 'nz': 74, 'layers': 5, 'lr': 0.00030999093007176234, 'beta1': 0.37820895327428006, 'beta2': 0.9280641022006747, 'l2': 0.00993203226237008}. Best is trial 37 with value: 0.0026620356366038322.\u001b[0m\n"
     ]
    },
    {
     "data": {
      "application/vnd.jupyter.widget-view+json": {
       "model_id": "670f34f461e8456b911accfd67f4e9af",
       "version_major": 2,
       "version_minor": 0
      },
      "text/plain": [
       "  0%|          | 0/1500 [00:00<?, ?it/s]"
      ]
     },
     "metadata": {},
     "output_type": "display_data"
    },
    {
     "name": "stderr",
     "output_type": "stream",
     "text": [
      "/home/theycallmepeter/anaconda3/envs/pytorch3d/lib/python3.8/site-packages/torch/nn/functional.py:3451: UserWarning: Default upsampling behavior when mode=bilinear is changed to align_corners=False since 0.4.0. Please specify align_corners=True if the old behavior is desired. See the documentation of nn.Upsample for details.\n",
      "  warnings.warn(\n",
      "/mnt/c/Projects/deepstimate/pytorch3d/pytorch3d/transforms/transform3d.py:782: UserWarning: R is not a valid rotation matrix\n",
      "  warnings.warn(msg)\n",
      "\u001b[32m[I 2022-03-28 14:13:15,082]\u001b[0m Trial 52 finished with value: 0.003555990057066083 and parameters: {'ngf': 32, 'nz': 101, 'layers': 4, 'lr': 0.0004685856890806729, 'beta1': 0.3164882238963218, 'beta2': 0.9575623319008282, 'l2': 0.0047921563539210605}. Best is trial 37 with value: 0.0026620356366038322.\u001b[0m\n"
     ]
    },
    {
     "data": {
      "application/vnd.jupyter.widget-view+json": {
       "model_id": "fd856ad0218046a28b6343275d9246f6",
       "version_major": 2,
       "version_minor": 0
      },
      "text/plain": [
       "  0%|          | 0/1500 [00:00<?, ?it/s]"
      ]
     },
     "metadata": {},
     "output_type": "display_data"
    },
    {
     "name": "stderr",
     "output_type": "stream",
     "text": [
      "/home/theycallmepeter/anaconda3/envs/pytorch3d/lib/python3.8/site-packages/torch/nn/functional.py:3451: UserWarning: Default upsampling behavior when mode=bilinear is changed to align_corners=False since 0.4.0. Please specify align_corners=True if the old behavior is desired. See the documentation of nn.Upsample for details.\n",
      "  warnings.warn(\n",
      "/mnt/c/Projects/deepstimate/pytorch3d/pytorch3d/transforms/transform3d.py:782: UserWarning: R is not a valid rotation matrix\n",
      "  warnings.warn(msg)\n",
      "\u001b[32m[I 2022-03-28 14:15:04,111]\u001b[0m Trial 53 finished with value: 0.002797669032588601 and parameters: {'ngf': 32, 'nz': 90, 'layers': 6, 'lr': 0.00017873788643061377, 'beta1': 0.20354537520680527, 'beta2': 0.9121236427379306, 'l2': 0.002936155473665496}. Best is trial 37 with value: 0.0026620356366038322.\u001b[0m\n"
     ]
    },
    {
     "data": {
      "application/vnd.jupyter.widget-view+json": {
       "model_id": "edd216e272464513874f6332bf700b19",
       "version_major": 2,
       "version_minor": 0
      },
      "text/plain": [
       "  0%|          | 0/1500 [00:00<?, ?it/s]"
      ]
     },
     "metadata": {},
     "output_type": "display_data"
    },
    {
     "name": "stderr",
     "output_type": "stream",
     "text": [
      "/home/theycallmepeter/anaconda3/envs/pytorch3d/lib/python3.8/site-packages/torch/nn/functional.py:3451: UserWarning: Default upsampling behavior when mode=bilinear is changed to align_corners=False since 0.4.0. Please specify align_corners=True if the old behavior is desired. See the documentation of nn.Upsample for details.\n",
      "  warnings.warn(\n",
      "/mnt/c/Projects/deepstimate/pytorch3d/pytorch3d/transforms/transform3d.py:782: UserWarning: R is not a valid rotation matrix\n",
      "  warnings.warn(msg)\n",
      "\u001b[32m[I 2022-03-28 14:16:50,264]\u001b[0m Trial 54 finished with value: 0.0028641826938837767 and parameters: {'ngf': 32, 'nz': 111, 'layers': 5, 'lr': 0.0006427294880760846, 'beta1': 0.39762289482651897, 'beta2': 0.9303094600764259, 'l2': 0.0008220205910847185}. Best is trial 37 with value: 0.0026620356366038322.\u001b[0m\n"
     ]
    },
    {
     "data": {
      "application/vnd.jupyter.widget-view+json": {
       "model_id": "5abd2455c3794c42a035033001753e39",
       "version_major": 2,
       "version_minor": 0
      },
      "text/plain": [
       "  0%|          | 0/1500 [00:00<?, ?it/s]"
      ]
     },
     "metadata": {},
     "output_type": "display_data"
    },
    {
     "name": "stderr",
     "output_type": "stream",
     "text": [
      "/home/theycallmepeter/anaconda3/envs/pytorch3d/lib/python3.8/site-packages/torch/nn/functional.py:3451: UserWarning: Default upsampling behavior when mode=bilinear is changed to align_corners=False since 0.4.0. Please specify align_corners=True if the old behavior is desired. See the documentation of nn.Upsample for details.\n",
      "  warnings.warn(\n",
      "/mnt/c/Projects/deepstimate/pytorch3d/pytorch3d/transforms/transform3d.py:782: UserWarning: R is not a valid rotation matrix\n",
      "  warnings.warn(msg)\n",
      "\u001b[32m[I 2022-03-28 14:18:40,088]\u001b[0m Trial 55 finished with value: 0.00269891694188118 and parameters: {'ngf': 32, 'nz': 78, 'layers': 6, 'lr': 0.00014232754365773266, 'beta1': 0.33309070060241996, 'beta2': 0.9393236314208712, 'l2': 0.0014295143294686967}. Best is trial 37 with value: 0.0026620356366038322.\u001b[0m\n"
     ]
    },
    {
     "data": {
      "application/vnd.jupyter.widget-view+json": {
       "model_id": "e9374528e2ee47eab67f533f5635322d",
       "version_major": 2,
       "version_minor": 0
      },
      "text/plain": [
       "  0%|          | 0/1500 [00:00<?, ?it/s]"
      ]
     },
     "metadata": {},
     "output_type": "display_data"
    },
    {
     "name": "stderr",
     "output_type": "stream",
     "text": [
      "/home/theycallmepeter/anaconda3/envs/pytorch3d/lib/python3.8/site-packages/torch/nn/functional.py:3451: UserWarning: Default upsampling behavior when mode=bilinear is changed to align_corners=False since 0.4.0. Please specify align_corners=True if the old behavior is desired. See the documentation of nn.Upsample for details.\n",
      "  warnings.warn(\n",
      "/mnt/c/Projects/deepstimate/pytorch3d/pytorch3d/transforms/transform3d.py:782: UserWarning: R is not a valid rotation matrix\n",
      "  warnings.warn(msg)\n",
      "\u001b[32m[I 2022-03-28 14:20:26,371]\u001b[0m Trial 56 finished with value: 0.00623682327568531 and parameters: {'ngf': 32, 'nz': 46, 'layers': 5, 'lr': 5.109548502695735e-05, 'beta1': 0.33921938036070276, 'beta2': 0.9383496073358797, 'l2': 0.0013324472001036117}. Best is trial 37 with value: 0.0026620356366038322.\u001b[0m\n"
     ]
    },
    {
     "data": {
      "application/vnd.jupyter.widget-view+json": {
       "model_id": "bc96117952094b8fa8ded0383776238a",
       "version_major": 2,
       "version_minor": 0
      },
      "text/plain": [
       "  0%|          | 0/1500 [00:00<?, ?it/s]"
      ]
     },
     "metadata": {},
     "output_type": "display_data"
    },
    {
     "name": "stderr",
     "output_type": "stream",
     "text": [
      "/home/theycallmepeter/anaconda3/envs/pytorch3d/lib/python3.8/site-packages/torch/nn/functional.py:3451: UserWarning: Default upsampling behavior when mode=bilinear is changed to align_corners=False since 0.4.0. Please specify align_corners=True if the old behavior is desired. See the documentation of nn.Upsample for details.\n",
      "  warnings.warn(\n",
      "/mnt/c/Projects/deepstimate/pytorch3d/pytorch3d/transforms/transform3d.py:782: UserWarning: R is not a valid rotation matrix\n",
      "  warnings.warn(msg)\n",
      "\u001b[32m[I 2022-03-28 14:22:11,321]\u001b[0m Trial 57 finished with value: 0.005243586841970682 and parameters: {'ngf': 32, 'nz': 62, 'layers': 4, 'lr': 0.00014392159360253877, 'beta1': 0.30982197739558553, 'beta2': 0.9234694083299573, 'l2': 0.0022347594735641035}. Best is trial 37 with value: 0.0026620356366038322.\u001b[0m\n"
     ]
    },
    {
     "data": {
      "application/vnd.jupyter.widget-view+json": {
       "model_id": "068cfe4425b144bb80e63cc2320cbf5d",
       "version_major": 2,
       "version_minor": 0
      },
      "text/plain": [
       "  0%|          | 0/1500 [00:00<?, ?it/s]"
      ]
     },
     "metadata": {},
     "output_type": "display_data"
    },
    {
     "name": "stderr",
     "output_type": "stream",
     "text": [
      "/home/theycallmepeter/anaconda3/envs/pytorch3d/lib/python3.8/site-packages/torch/nn/functional.py:3451: UserWarning: Default upsampling behavior when mode=bilinear is changed to align_corners=False since 0.4.0. Please specify align_corners=True if the old behavior is desired. See the documentation of nn.Upsample for details.\n",
      "  warnings.warn(\n",
      "/mnt/c/Projects/deepstimate/pytorch3d/pytorch3d/transforms/transform3d.py:782: UserWarning: R is not a valid rotation matrix\n",
      "  warnings.warn(msg)\n",
      "\u001b[32m[I 2022-03-28 14:24:00,432]\u001b[0m Trial 58 finished with value: 0.0028521057683974504 and parameters: {'ngf': 32, 'nz': 78, 'layers': 6, 'lr': 9.740450689488198e-05, 'beta1': 0.47161265417294307, 'beta2': 0.931163783537031, 'l2': 0.00017156350045063}. Best is trial 37 with value: 0.0026620356366038322.\u001b[0m\n"
     ]
    },
    {
     "data": {
      "application/vnd.jupyter.widget-view+json": {
       "model_id": "d13e1ed440bf4313854887ccc5fdeb26",
       "version_major": 2,
       "version_minor": 0
      },
      "text/plain": [
       "  0%|          | 0/1500 [00:00<?, ?it/s]"
      ]
     },
     "metadata": {},
     "output_type": "display_data"
    },
    {
     "name": "stderr",
     "output_type": "stream",
     "text": [
      "/home/theycallmepeter/anaconda3/envs/pytorch3d/lib/python3.8/site-packages/torch/nn/functional.py:3451: UserWarning: Default upsampling behavior when mode=bilinear is changed to align_corners=False since 0.4.0. Please specify align_corners=True if the old behavior is desired. See the documentation of nn.Upsample for details.\n",
      "  warnings.warn(\n",
      "/mnt/c/Projects/deepstimate/pytorch3d/pytorch3d/transforms/transform3d.py:782: UserWarning: R is not a valid rotation matrix\n",
      "  warnings.warn(msg)\n",
      "\u001b[32m[I 2022-03-28 14:25:49,687]\u001b[0m Trial 59 finished with value: 0.0029868348501622677 and parameters: {'ngf': 32, 'nz': 85, 'layers': 6, 'lr': 0.00021898880018260202, 'beta1': 0.24109060493849194, 'beta2': 0.9180853660831032, 'l2': 0.00048368804896399906}. Best is trial 37 with value: 0.0026620356366038322.\u001b[0m\n"
     ]
    },
    {
     "data": {
      "application/vnd.jupyter.widget-view+json": {
       "model_id": "e74185df90a14df1aa49c7445554e966",
       "version_major": 2,
       "version_minor": 0
      },
      "text/plain": [
       "  0%|          | 0/1500 [00:00<?, ?it/s]"
      ]
     },
     "metadata": {},
     "output_type": "display_data"
    },
    {
     "name": "stderr",
     "output_type": "stream",
     "text": [
      "/home/theycallmepeter/anaconda3/envs/pytorch3d/lib/python3.8/site-packages/torch/nn/functional.py:3451: UserWarning: Default upsampling behavior when mode=bilinear is changed to align_corners=False since 0.4.0. Please specify align_corners=True if the old behavior is desired. See the documentation of nn.Upsample for details.\n",
      "  warnings.warn(\n",
      "/mnt/c/Projects/deepstimate/pytorch3d/pytorch3d/transforms/transform3d.py:782: UserWarning: R is not a valid rotation matrix\n",
      "  warnings.warn(msg)\n",
      "\u001b[32m[I 2022-03-28 14:27:35,901]\u001b[0m Trial 60 finished with value: 0.0029359101317822933 and parameters: {'ngf': 32, 'nz': 68, 'layers': 5, 'lr': 0.0010202637993062724, 'beta1': 0.4087316806621259, 'beta2': 0.9507981766284866, 'l2': 0.005006107357787013}. Best is trial 37 with value: 0.0026620356366038322.\u001b[0m\n"
     ]
    },
    {
     "data": {
      "application/vnd.jupyter.widget-view+json": {
       "model_id": "7c1168cf71444af9b0a84a0eb6408538",
       "version_major": 2,
       "version_minor": 0
      },
      "text/plain": [
       "  0%|          | 0/1500 [00:00<?, ?it/s]"
      ]
     },
     "metadata": {},
     "output_type": "display_data"
    },
    {
     "name": "stderr",
     "output_type": "stream",
     "text": [
      "/home/theycallmepeter/anaconda3/envs/pytorch3d/lib/python3.8/site-packages/torch/nn/functional.py:3451: UserWarning: Default upsampling behavior when mode=bilinear is changed to align_corners=False since 0.4.0. Please specify align_corners=True if the old behavior is desired. See the documentation of nn.Upsample for details.\n",
      "  warnings.warn(\n",
      "/mnt/c/Projects/deepstimate/pytorch3d/pytorch3d/transforms/transform3d.py:782: UserWarning: R is not a valid rotation matrix\n",
      "  warnings.warn(msg)\n",
      "\u001b[32m[I 2022-03-28 14:29:23,723]\u001b[0m Trial 61 finished with value: 0.002750119660049677 and parameters: {'ngf': 16, 'nz': 119, 'layers': 6, 'lr': 0.0002628179625175737, 'beta1': 0.529756012438065, 'beta2': 0.9429373860158676, 'l2': 0.003482121297183819}. Best is trial 37 with value: 0.0026620356366038322.\u001b[0m\n"
     ]
    },
    {
     "data": {
      "application/vnd.jupyter.widget-view+json": {
       "model_id": "c4c84107a967471fa039320cc5a53774",
       "version_major": 2,
       "version_minor": 0
      },
      "text/plain": [
       "  0%|          | 0/1500 [00:00<?, ?it/s]"
      ]
     },
     "metadata": {},
     "output_type": "display_data"
    },
    {
     "name": "stderr",
     "output_type": "stream",
     "text": [
      "/home/theycallmepeter/anaconda3/envs/pytorch3d/lib/python3.8/site-packages/torch/nn/functional.py:3451: UserWarning: Default upsampling behavior when mode=bilinear is changed to align_corners=False since 0.4.0. Please specify align_corners=True if the old behavior is desired. See the documentation of nn.Upsample for details.\n",
      "  warnings.warn(\n",
      "/mnt/c/Projects/deepstimate/pytorch3d/pytorch3d/transforms/transform3d.py:782: UserWarning: R is not a valid rotation matrix\n",
      "  warnings.warn(msg)\n",
      "\u001b[32m[I 2022-03-28 14:31:10,220]\u001b[0m Trial 62 finished with value: 0.002760121366009116 and parameters: {'ngf': 16, 'nz': 108, 'layers': 6, 'lr': 0.000434792203096391, 'beta1': 0.29153035637945235, 'beta2': 0.9402009793394769, 'l2': 0.0017988343103909007}. Best is trial 37 with value: 0.0026620356366038322.\u001b[0m\n"
     ]
    },
    {
     "data": {
      "application/vnd.jupyter.widget-view+json": {
       "model_id": "4d6ee7a07aa94281bb1625278458f966",
       "version_major": 2,
       "version_minor": 0
      },
      "text/plain": [
       "  0%|          | 0/1500 [00:00<?, ?it/s]"
      ]
     },
     "metadata": {},
     "output_type": "display_data"
    },
    {
     "name": "stderr",
     "output_type": "stream",
     "text": [
      "/home/theycallmepeter/anaconda3/envs/pytorch3d/lib/python3.8/site-packages/torch/nn/functional.py:3451: UserWarning: Default upsampling behavior when mode=bilinear is changed to align_corners=False since 0.4.0. Please specify align_corners=True if the old behavior is desired. See the documentation of nn.Upsample for details.\n",
      "  warnings.warn(\n",
      "/mnt/c/Projects/deepstimate/pytorch3d/pytorch3d/transforms/transform3d.py:782: UserWarning: R is not a valid rotation matrix\n",
      "  warnings.warn(msg)\n",
      "\u001b[32m[I 2022-03-28 14:32:56,568]\u001b[0m Trial 63 finished with value: 0.0031593204475939274 and parameters: {'ngf': 16, 'nz': 117, 'layers': 6, 'lr': 0.00024417420356140227, 'beta1': 0.5294668440471636, 'beta2': 0.9413631584523676, 'l2': 0.007731143937581579}. Best is trial 37 with value: 0.0026620356366038322.\u001b[0m\n"
     ]
    },
    {
     "data": {
      "application/vnd.jupyter.widget-view+json": {
       "model_id": "26e0e47f72b643d5a32c3226ebcc4307",
       "version_major": 2,
       "version_minor": 0
      },
      "text/plain": [
       "  0%|          | 0/1500 [00:00<?, ?it/s]"
      ]
     },
     "metadata": {},
     "output_type": "display_data"
    },
    {
     "name": "stderr",
     "output_type": "stream",
     "text": [
      "/home/theycallmepeter/anaconda3/envs/pytorch3d/lib/python3.8/site-packages/torch/nn/functional.py:3451: UserWarning: Default upsampling behavior when mode=bilinear is changed to align_corners=False since 0.4.0. Please specify align_corners=True if the old behavior is desired. See the documentation of nn.Upsample for details.\n",
      "  warnings.warn(\n",
      "/mnt/c/Projects/deepstimate/pytorch3d/pytorch3d/transforms/transform3d.py:782: UserWarning: R is not a valid rotation matrix\n",
      "  warnings.warn(msg)\n",
      "\u001b[32m[I 2022-03-28 14:34:43,158]\u001b[0m Trial 64 finished with value: 0.005814182106405497 and parameters: {'ngf': 16, 'nz': 132, 'layers': 6, 'lr': 7.426346601345287e-05, 'beta1': 0.4756770940446717, 'beta2': 0.9549483688794276, 'l2': 0.004252430796346806}. Best is trial 37 with value: 0.0026620356366038322.\u001b[0m\n"
     ]
    },
    {
     "data": {
      "application/vnd.jupyter.widget-view+json": {
       "model_id": "5a19f96a14d548519d5a1b19a807d3a1",
       "version_major": 2,
       "version_minor": 0
      },
      "text/plain": [
       "  0%|          | 0/1500 [00:00<?, ?it/s]"
      ]
     },
     "metadata": {},
     "output_type": "display_data"
    },
    {
     "name": "stderr",
     "output_type": "stream",
     "text": [
      "/home/theycallmepeter/anaconda3/envs/pytorch3d/lib/python3.8/site-packages/torch/nn/functional.py:3451: UserWarning: Default upsampling behavior when mode=bilinear is changed to align_corners=False since 0.4.0. Please specify align_corners=True if the old behavior is desired. See the documentation of nn.Upsample for details.\n",
      "  warnings.warn(\n",
      "/mnt/c/Projects/deepstimate/pytorch3d/pytorch3d/transforms/transform3d.py:782: UserWarning: R is not a valid rotation matrix\n",
      "  warnings.warn(msg)\n",
      "\u001b[32m[I 2022-03-28 14:36:29,420]\u001b[0m Trial 65 finished with value: 0.0028271202463656664 and parameters: {'ngf': 16, 'nz': 119, 'layers': 6, 'lr': 0.00011465961428428609, 'beta1': 0.5924852866233128, 'beta2': 0.9488087239860309, 'l2': 0.0011255031383576417}. Best is trial 37 with value: 0.0026620356366038322.\u001b[0m\n"
     ]
    },
    {
     "data": {
      "application/vnd.jupyter.widget-view+json": {
       "model_id": "f9b131be2ddb4ccfbba1ea2bca197926",
       "version_major": 2,
       "version_minor": 0
      },
      "text/plain": [
       "  0%|          | 0/1500 [00:00<?, ?it/s]"
      ]
     },
     "metadata": {},
     "output_type": "display_data"
    },
    {
     "name": "stderr",
     "output_type": "stream",
     "text": [
      "/home/theycallmepeter/anaconda3/envs/pytorch3d/lib/python3.8/site-packages/torch/nn/functional.py:3451: UserWarning: Default upsampling behavior when mode=bilinear is changed to align_corners=False since 0.4.0. Please specify align_corners=True if the old behavior is desired. See the documentation of nn.Upsample for details.\n",
      "  warnings.warn(\n",
      "/mnt/c/Projects/deepstimate/pytorch3d/pytorch3d/transforms/transform3d.py:782: UserWarning: R is not a valid rotation matrix\n",
      "  warnings.warn(msg)\n",
      "\u001b[32m[I 2022-03-28 14:38:16,352]\u001b[0m Trial 66 finished with value: 0.002819292712956667 and parameters: {'ngf': 16, 'nz': 79, 'layers': 6, 'lr': 0.00015282358176341247, 'beta1': 0.42819621480024017, 'beta2': 0.9435495038927586, 'l2': 0.002401832146210562}. Best is trial 37 with value: 0.0026620356366038322.\u001b[0m\n"
     ]
    },
    {
     "data": {
      "application/vnd.jupyter.widget-view+json": {
       "model_id": "bcb959a8837c46d48fb8f8726f2af6fc",
       "version_major": 2,
       "version_minor": 0
      },
      "text/plain": [
       "  0%|          | 0/1500 [00:00<?, ?it/s]"
      ]
     },
     "metadata": {},
     "output_type": "display_data"
    },
    {
     "name": "stderr",
     "output_type": "stream",
     "text": [
      "/home/theycallmepeter/anaconda3/envs/pytorch3d/lib/python3.8/site-packages/torch/nn/functional.py:3451: UserWarning: Default upsampling behavior when mode=bilinear is changed to align_corners=False since 0.4.0. Please specify align_corners=True if the old behavior is desired. See the documentation of nn.Upsample for details.\n",
      "  warnings.warn(\n",
      "/mnt/c/Projects/deepstimate/pytorch3d/pytorch3d/transforms/transform3d.py:782: UserWarning: R is not a valid rotation matrix\n",
      "  warnings.warn(msg)\n",
      "\u001b[32m[I 2022-03-28 14:40:03,546]\u001b[0m Trial 67 finished with value: 0.002855384722352028 and parameters: {'ngf': 32, 'nz': 127, 'layers': 5, 'lr': 0.0006155505016454978, 'beta1': 0.5203029786368513, 'beta2': 0.9366466129519208, 'l2': 0.006074434848162054}. Best is trial 37 with value: 0.0026620356366038322.\u001b[0m\n"
     ]
    },
    {
     "data": {
      "application/vnd.jupyter.widget-view+json": {
       "model_id": "6e3c5130766c42fa99900b6a3f58941d",
       "version_major": 2,
       "version_minor": 0
      },
      "text/plain": [
       "  0%|          | 0/1500 [00:00<?, ?it/s]"
      ]
     },
     "metadata": {},
     "output_type": "display_data"
    },
    {
     "name": "stderr",
     "output_type": "stream",
     "text": [
      "/home/theycallmepeter/anaconda3/envs/pytorch3d/lib/python3.8/site-packages/torch/nn/functional.py:3451: UserWarning: Default upsampling behavior when mode=bilinear is changed to align_corners=False since 0.4.0. Please specify align_corners=True if the old behavior is desired. See the documentation of nn.Upsample for details.\n",
      "  warnings.warn(\n",
      "/mnt/c/Projects/deepstimate/pytorch3d/pytorch3d/transforms/transform3d.py:782: UserWarning: R is not a valid rotation matrix\n",
      "  warnings.warn(msg)\n",
      "\u001b[32m[I 2022-03-28 14:41:52,854]\u001b[0m Trial 68 finished with value: 0.00868307612836361 and parameters: {'ngf': 32, 'nz': 73, 'layers': 6, 'lr': 3.469215819679776e-05, 'beta1': 0.557406606785833, 'beta2': 0.933183190624971, 'l2': 0.0016663290794915377}. Best is trial 37 with value: 0.0026620356366038322.\u001b[0m\n"
     ]
    },
    {
     "data": {
      "application/vnd.jupyter.widget-view+json": {
       "model_id": "bbd7750bc76c47d3aaf2ecc9389360c2",
       "version_major": 2,
       "version_minor": 0
      },
      "text/plain": [
       "  0%|          | 0/1500 [00:00<?, ?it/s]"
      ]
     },
     "metadata": {},
     "output_type": "display_data"
    },
    {
     "name": "stderr",
     "output_type": "stream",
     "text": [
      "/home/theycallmepeter/anaconda3/envs/pytorch3d/lib/python3.8/site-packages/torch/nn/functional.py:3451: UserWarning: Default upsampling behavior when mode=bilinear is changed to align_corners=False since 0.4.0. Please specify align_corners=True if the old behavior is desired. See the documentation of nn.Upsample for details.\n",
      "  warnings.warn(\n",
      "/mnt/c/Projects/deepstimate/pytorch3d/pytorch3d/transforms/transform3d.py:782: UserWarning: R is not a valid rotation matrix\n",
      "  warnings.warn(msg)\n",
      "\u001b[32m[I 2022-03-28 14:43:39,526]\u001b[0m Trial 69 finished with value: 0.0028747643809765577 and parameters: {'ngf': 16, 'nz': 100, 'layers': 6, 'lr': 0.0002750745350145002, 'beta1': 0.6151500024040804, 'beta2': 0.9582286256943476, 'l2': 0.0007152712293441095}. Best is trial 37 with value: 0.0026620356366038322.\u001b[0m\n"
     ]
    },
    {
     "data": {
      "application/vnd.jupyter.widget-view+json": {
       "model_id": "e2238babc2444b7a9d15e5d16eea3994",
       "version_major": 2,
       "version_minor": 0
      },
      "text/plain": [
       "  0%|          | 0/1500 [00:00<?, ?it/s]"
      ]
     },
     "metadata": {},
     "output_type": "display_data"
    },
    {
     "name": "stderr",
     "output_type": "stream",
     "text": [
      "/home/theycallmepeter/anaconda3/envs/pytorch3d/lib/python3.8/site-packages/torch/nn/functional.py:3451: UserWarning: Default upsampling behavior when mode=bilinear is changed to align_corners=False since 0.4.0. Please specify align_corners=True if the old behavior is desired. See the documentation of nn.Upsample for details.\n",
      "  warnings.warn(\n",
      "/mnt/c/Projects/deepstimate/pytorch3d/pytorch3d/transforms/transform3d.py:782: UserWarning: R is not a valid rotation matrix\n",
      "  warnings.warn(msg)\n",
      "\u001b[32m[I 2022-03-28 14:45:25,702]\u001b[0m Trial 70 finished with value: 0.0028716789092868567 and parameters: {'ngf': 32, 'nz': 85, 'layers': 5, 'lr': 0.00038006029184982186, 'beta1': 0.3552965809099412, 'beta2': 0.9539422168981115, 'l2': 0.0003387671923744931}. Best is trial 37 with value: 0.0026620356366038322.\u001b[0m\n"
     ]
    },
    {
     "data": {
      "application/vnd.jupyter.widget-view+json": {
       "model_id": "4191998a056c42bd8d18aad4d9040997",
       "version_major": 2,
       "version_minor": 0
      },
      "text/plain": [
       "  0%|          | 0/1500 [00:00<?, ?it/s]"
      ]
     },
     "metadata": {},
     "output_type": "display_data"
    },
    {
     "name": "stderr",
     "output_type": "stream",
     "text": [
      "/home/theycallmepeter/anaconda3/envs/pytorch3d/lib/python3.8/site-packages/torch/nn/functional.py:3451: UserWarning: Default upsampling behavior when mode=bilinear is changed to align_corners=False since 0.4.0. Please specify align_corners=True if the old behavior is desired. See the documentation of nn.Upsample for details.\n",
      "  warnings.warn(\n",
      "/mnt/c/Projects/deepstimate/pytorch3d/pytorch3d/transforms/transform3d.py:782: UserWarning: R is not a valid rotation matrix\n",
      "  warnings.warn(msg)\n",
      "\u001b[32m[I 2022-03-28 14:47:12,277]\u001b[0m Trial 71 finished with value: 0.002642750972881913 and parameters: {'ngf': 16, 'nz': 151, 'layers': 6, 'lr': 0.00045192862258474264, 'beta1': 0.3287530107872564, 'beta2': 0.9403691820329341, 'l2': 0.00183485394442805}. Best is trial 71 with value: 0.002642750972881913.\u001b[0m\n"
     ]
    },
    {
     "data": {
      "application/vnd.jupyter.widget-view+json": {
       "model_id": "e2355512d3184c8dadc1a4bf5fa8f6c9",
       "version_major": 2,
       "version_minor": 0
      },
      "text/plain": [
       "  0%|          | 0/1500 [00:00<?, ?it/s]"
      ]
     },
     "metadata": {},
     "output_type": "display_data"
    },
    {
     "name": "stderr",
     "output_type": "stream",
     "text": [
      "/home/theycallmepeter/anaconda3/envs/pytorch3d/lib/python3.8/site-packages/torch/nn/functional.py:3451: UserWarning: Default upsampling behavior when mode=bilinear is changed to align_corners=False since 0.4.0. Please specify align_corners=True if the old behavior is desired. See the documentation of nn.Upsample for details.\n",
      "  warnings.warn(\n",
      "/mnt/c/Projects/deepstimate/pytorch3d/pytorch3d/transforms/transform3d.py:782: UserWarning: R is not a valid rotation matrix\n",
      "  warnings.warn(msg)\n",
      "\u001b[32m[I 2022-03-28 14:48:59,660]\u001b[0m Trial 72 finished with value: 0.0028543747030198574 and parameters: {'ngf': 16, 'nz': 156, 'layers': 6, 'lr': 0.0001905886540163579, 'beta1': 0.38101372651317167, 'beta2': 0.942661334054237, 'l2': 0.00347628862648892}. Best is trial 71 with value: 0.002642750972881913.\u001b[0m\n"
     ]
    },
    {
     "data": {
      "application/vnd.jupyter.widget-view+json": {
       "model_id": "00d81790eefd4c9ab09c689562709228",
       "version_major": 2,
       "version_minor": 0
      },
      "text/plain": [
       "  0%|          | 0/1500 [00:00<?, ?it/s]"
      ]
     },
     "metadata": {},
     "output_type": "display_data"
    },
    {
     "name": "stderr",
     "output_type": "stream",
     "text": [
      "/home/theycallmepeter/anaconda3/envs/pytorch3d/lib/python3.8/site-packages/torch/nn/functional.py:3451: UserWarning: Default upsampling behavior when mode=bilinear is changed to align_corners=False since 0.4.0. Please specify align_corners=True if the old behavior is desired. See the documentation of nn.Upsample for details.\n",
      "  warnings.warn(\n",
      "/mnt/c/Projects/deepstimate/pytorch3d/pytorch3d/transforms/transform3d.py:782: UserWarning: R is not a valid rotation matrix\n",
      "  warnings.warn(msg)\n",
      "\u001b[32m[I 2022-03-28 14:50:45,953]\u001b[0m Trial 73 finished with value: 0.002605059649795294 and parameters: {'ngf': 16, 'nz': 149, 'layers': 6, 'lr': 0.000390652649743842, 'beta1': 0.33784723988355825, 'beta2': 0.9378792680516778, 'l2': 0.002352535089280613}. Best is trial 73 with value: 0.002605059649795294.\u001b[0m\n"
     ]
    },
    {
     "data": {
      "application/vnd.jupyter.widget-view+json": {
       "model_id": "d7f220cd01004d76bafd95a0823b5145",
       "version_major": 2,
       "version_minor": 0
      },
      "text/plain": [
       "  0%|          | 0/1500 [00:00<?, ?it/s]"
      ]
     },
     "metadata": {},
     "output_type": "display_data"
    },
    {
     "name": "stderr",
     "output_type": "stream",
     "text": [
      "/home/theycallmepeter/anaconda3/envs/pytorch3d/lib/python3.8/site-packages/torch/nn/functional.py:3451: UserWarning: Default upsampling behavior when mode=bilinear is changed to align_corners=False since 0.4.0. Please specify align_corners=True if the old behavior is desired. See the documentation of nn.Upsample for details.\n",
      "  warnings.warn(\n",
      "/mnt/c/Projects/deepstimate/pytorch3d/pytorch3d/transforms/transform3d.py:782: UserWarning: R is not a valid rotation matrix\n",
      "  warnings.warn(msg)\n",
      "\u001b[32m[I 2022-03-28 14:52:32,334]\u001b[0m Trial 74 finished with value: 0.004343060310930014 and parameters: {'ngf': 16, 'nz': 147, 'layers': 6, 'lr': 0.04587970321153784, 'beta1': 0.33681895423802266, 'beta2': 0.9455829694263113, 'l2': 0.0015432431217637804}. Best is trial 73 with value: 0.002605059649795294.\u001b[0m\n"
     ]
    },
    {
     "data": {
      "application/vnd.jupyter.widget-view+json": {
       "model_id": "2e4e28309e0a494badf73e9462c48147",
       "version_major": 2,
       "version_minor": 0
      },
      "text/plain": [
       "  0%|          | 0/1500 [00:00<?, ?it/s]"
      ]
     },
     "metadata": {},
     "output_type": "display_data"
    },
    {
     "name": "stderr",
     "output_type": "stream",
     "text": [
      "/home/theycallmepeter/anaconda3/envs/pytorch3d/lib/python3.8/site-packages/torch/nn/functional.py:3451: UserWarning: Default upsampling behavior when mode=bilinear is changed to align_corners=False since 0.4.0. Please specify align_corners=True if the old behavior is desired. See the documentation of nn.Upsample for details.\n",
      "  warnings.warn(\n",
      "/mnt/c/Projects/deepstimate/pytorch3d/pytorch3d/transforms/transform3d.py:782: UserWarning: R is not a valid rotation matrix\n",
      "  warnings.warn(msg)\n",
      "\u001b[32m[I 2022-03-28 14:54:18,816]\u001b[0m Trial 75 finished with value: 0.00290241208858788 and parameters: {'ngf': 16, 'nz': 174, 'layers': 6, 'lr': 0.0007473774954196545, 'beta1': 0.2755360221101849, 'beta2': 0.9490928317789199, 'l2': 0.0010480505973902688}. Best is trial 73 with value: 0.002605059649795294.\u001b[0m\n"
     ]
    },
    {
     "data": {
      "application/vnd.jupyter.widget-view+json": {
       "model_id": "c2f6948b18354c4ab53d08a4037fce75",
       "version_major": 2,
       "version_minor": 0
      },
      "text/plain": [
       "  0%|          | 0/1500 [00:00<?, ?it/s]"
      ]
     },
     "metadata": {},
     "output_type": "display_data"
    },
    {
     "name": "stderr",
     "output_type": "stream",
     "text": [
      "/home/theycallmepeter/anaconda3/envs/pytorch3d/lib/python3.8/site-packages/torch/nn/functional.py:3451: UserWarning: Default upsampling behavior when mode=bilinear is changed to align_corners=False since 0.4.0. Please specify align_corners=True if the old behavior is desired. See the documentation of nn.Upsample for details.\n",
      "  warnings.warn(\n",
      "/mnt/c/Projects/deepstimate/pytorch3d/pytorch3d/transforms/transform3d.py:782: UserWarning: R is not a valid rotation matrix\n",
      "  warnings.warn(msg)\n",
      "\u001b[32m[I 2022-03-28 14:56:05,235]\u001b[0m Trial 76 finished with value: 0.0029473421163856983 and parameters: {'ngf': 16, 'nz': 157, 'layers': 6, 'lr': 0.0011506655882787013, 'beta1': 0.23506679744139336, 'beta2': 0.9393643712954809, 'l2': 0.00273357076054594}. Best is trial 73 with value: 0.002605059649795294.\u001b[0m\n"
     ]
    },
    {
     "data": {
      "application/vnd.jupyter.widget-view+json": {
       "model_id": "6c7f742315b5470e82a2476265df2964",
       "version_major": 2,
       "version_minor": 0
      },
      "text/plain": [
       "  0%|          | 0/1500 [00:00<?, ?it/s]"
      ]
     },
     "metadata": {},
     "output_type": "display_data"
    },
    {
     "name": "stderr",
     "output_type": "stream",
     "text": [
      "/home/theycallmepeter/anaconda3/envs/pytorch3d/lib/python3.8/site-packages/torch/nn/functional.py:3451: UserWarning: Default upsampling behavior when mode=bilinear is changed to align_corners=False since 0.4.0. Please specify align_corners=True if the old behavior is desired. See the documentation of nn.Upsample for details.\n",
      "  warnings.warn(\n",
      "/mnt/c/Projects/deepstimate/pytorch3d/pytorch3d/transforms/transform3d.py:782: UserWarning: R is not a valid rotation matrix\n",
      "  warnings.warn(msg)\n",
      "\u001b[32m[I 2022-03-28 14:57:52,333]\u001b[0m Trial 77 finished with value: 0.0027725067920982838 and parameters: {'ngf': 16, 'nz': 164, 'layers': 6, 'lr': 0.000513036105596185, 'beta1': 0.49584838422828137, 'beta2': 0.9365681970480314, 'l2': 0.00212526401372533}. Best is trial 73 with value: 0.002605059649795294.\u001b[0m\n"
     ]
    },
    {
     "data": {
      "application/vnd.jupyter.widget-view+json": {
       "model_id": "e7941826ed1a41469adeca96012b39d6",
       "version_major": 2,
       "version_minor": 0
      },
      "text/plain": [
       "  0%|          | 0/1500 [00:00<?, ?it/s]"
      ]
     },
     "metadata": {},
     "output_type": "display_data"
    },
    {
     "name": "stderr",
     "output_type": "stream",
     "text": [
      "/home/theycallmepeter/anaconda3/envs/pytorch3d/lib/python3.8/site-packages/torch/nn/functional.py:3451: UserWarning: Default upsampling behavior when mode=bilinear is changed to align_corners=False since 0.4.0. Please specify align_corners=True if the old behavior is desired. See the documentation of nn.Upsample for details.\n",
      "  warnings.warn(\n",
      "/mnt/c/Projects/deepstimate/pytorch3d/pytorch3d/transforms/transform3d.py:782: UserWarning: R is not a valid rotation matrix\n",
      "  warnings.warn(msg)\n",
      "\u001b[32m[I 2022-03-28 14:59:43,115]\u001b[0m Trial 78 finished with value: 0.0030222563073039055 and parameters: {'ngf': 16, 'nz': 146, 'layers': 6, 'lr': 0.0021218139379732045, 'beta1': 0.6845938392581966, 'beta2': 0.946876907617289, 'l2': 0.003760955179748055}. Best is trial 73 with value: 0.002605059649795294.\u001b[0m\n"
     ]
    },
    {
     "data": {
      "application/vnd.jupyter.widget-view+json": {
       "model_id": "0485a8f9281248efbb0e3e5924731418",
       "version_major": 2,
       "version_minor": 0
      },
      "text/plain": [
       "  0%|          | 0/1500 [00:00<?, ?it/s]"
      ]
     },
     "metadata": {},
     "output_type": "display_data"
    },
    {
     "name": "stderr",
     "output_type": "stream",
     "text": [
      "/home/theycallmepeter/anaconda3/envs/pytorch3d/lib/python3.8/site-packages/torch/nn/functional.py:3451: UserWarning: Default upsampling behavior when mode=bilinear is changed to align_corners=False since 0.4.0. Please specify align_corners=True if the old behavior is desired. See the documentation of nn.Upsample for details.\n",
      "  warnings.warn(\n",
      "/mnt/c/Projects/deepstimate/pytorch3d/pytorch3d/transforms/transform3d.py:782: UserWarning: R is not a valid rotation matrix\n",
      "  warnings.warn(msg)\n",
      "\u001b[32m[I 2022-03-28 15:01:31,485]\u001b[0m Trial 79 finished with value: 0.002722284058108926 and parameters: {'ngf': 16, 'nz': 140, 'layers': 6, 'lr': 0.0004234354168353494, 'beta1': 0.5920829361221213, 'beta2': 0.9618389518438829, 'l2': 0.0009651454993669272}. Best is trial 73 with value: 0.002605059649795294.\u001b[0m\n"
     ]
    },
    {
     "data": {
      "application/vnd.jupyter.widget-view+json": {
       "model_id": "cc0fd02831c747599866efee997e9e4a",
       "version_major": 2,
       "version_minor": 0
      },
      "text/plain": [
       "  0%|          | 0/1500 [00:00<?, ?it/s]"
      ]
     },
     "metadata": {},
     "output_type": "display_data"
    },
    {
     "name": "stderr",
     "output_type": "stream",
     "text": [
      "/home/theycallmepeter/anaconda3/envs/pytorch3d/lib/python3.8/site-packages/torch/nn/functional.py:3451: UserWarning: Default upsampling behavior when mode=bilinear is changed to align_corners=False since 0.4.0. Please specify align_corners=True if the old behavior is desired. See the documentation of nn.Upsample for details.\n",
      "  warnings.warn(\n",
      "/mnt/c/Projects/deepstimate/pytorch3d/pytorch3d/transforms/transform3d.py:782: UserWarning: R is not a valid rotation matrix\n",
      "  warnings.warn(msg)\n",
      "\u001b[32m[I 2022-03-28 15:03:21,461]\u001b[0m Trial 80 finished with value: 0.002916947240009904 and parameters: {'ngf': 16, 'nz': 165, 'layers': 6, 'lr': 0.0008027636552916288, 'beta1': 0.5862439093531564, 'beta2': 0.9605982272001019, 'l2': 0.0005663242292571582}. Best is trial 73 with value: 0.002605059649795294.\u001b[0m\n"
     ]
    },
    {
     "data": {
      "application/vnd.jupyter.widget-view+json": {
       "model_id": "c369f2b658e94b5287cac992c090564e",
       "version_major": 2,
       "version_minor": 0
      },
      "text/plain": [
       "  0%|          | 0/1500 [00:00<?, ?it/s]"
      ]
     },
     "metadata": {},
     "output_type": "display_data"
    },
    {
     "name": "stderr",
     "output_type": "stream",
     "text": [
      "/home/theycallmepeter/anaconda3/envs/pytorch3d/lib/python3.8/site-packages/torch/nn/functional.py:3451: UserWarning: Default upsampling behavior when mode=bilinear is changed to align_corners=False since 0.4.0. Please specify align_corners=True if the old behavior is desired. See the documentation of nn.Upsample for details.\n",
      "  warnings.warn(\n",
      "/mnt/c/Projects/deepstimate/pytorch3d/pytorch3d/transforms/transform3d.py:782: UserWarning: R is not a valid rotation matrix\n",
      "  warnings.warn(msg)\n",
      "\u001b[32m[I 2022-03-28 15:05:22,332]\u001b[0m Trial 81 finished with value: 0.0028018862940371037 and parameters: {'ngf': 16, 'nz': 140, 'layers': 6, 'lr': 0.0004318933333541457, 'beta1': 0.6281947326881623, 'beta2': 0.9699803303556811, 'l2': 0.0009150284810675443}. Best is trial 73 with value: 0.002605059649795294.\u001b[0m\n"
     ]
    },
    {
     "data": {
      "application/vnd.jupyter.widget-view+json": {
       "model_id": "e2ace58932484012a3176bd8b578a284",
       "version_major": 2,
       "version_minor": 0
      },
      "text/plain": [
       "  0%|          | 0/1500 [00:00<?, ?it/s]"
      ]
     },
     "metadata": {},
     "output_type": "display_data"
    },
    {
     "name": "stderr",
     "output_type": "stream",
     "text": [
      "/home/theycallmepeter/anaconda3/envs/pytorch3d/lib/python3.8/site-packages/torch/nn/functional.py:3451: UserWarning: Default upsampling behavior when mode=bilinear is changed to align_corners=False since 0.4.0. Please specify align_corners=True if the old behavior is desired. See the documentation of nn.Upsample for details.\n",
      "  warnings.warn(\n",
      "/mnt/c/Projects/deepstimate/pytorch3d/pytorch3d/transforms/transform3d.py:782: UserWarning: R is not a valid rotation matrix\n",
      "  warnings.warn(msg)\n",
      "\u001b[32m[I 2022-03-28 15:07:20,069]\u001b[0m Trial 82 finished with value: 0.0029747725930064917 and parameters: {'ngf': 16, 'nz': 149, 'layers': 6, 'lr': 0.0001671917510805955, 'beta1': 0.5559745956471752, 'beta2': 0.978238546701296, 'l2': 0.0013906233146007993}. Best is trial 73 with value: 0.002605059649795294.\u001b[0m\n"
     ]
    },
    {
     "data": {
      "application/vnd.jupyter.widget-view+json": {
       "model_id": "c494fc0962c1465da0177ef46d4e2494",
       "version_major": 2,
       "version_minor": 0
      },
      "text/plain": [
       "  0%|          | 0/1500 [00:00<?, ?it/s]"
      ]
     },
     "metadata": {},
     "output_type": "display_data"
    },
    {
     "name": "stderr",
     "output_type": "stream",
     "text": [
      "/home/theycallmepeter/anaconda3/envs/pytorch3d/lib/python3.8/site-packages/torch/nn/functional.py:3451: UserWarning: Default upsampling behavior when mode=bilinear is changed to align_corners=False since 0.4.0. Please specify align_corners=True if the old behavior is desired. See the documentation of nn.Upsample for details.\n",
      "  warnings.warn(\n",
      "/mnt/c/Projects/deepstimate/pytorch3d/pytorch3d/transforms/transform3d.py:782: UserWarning: R is not a valid rotation matrix\n",
      "  warnings.warn(msg)\n",
      "\u001b[32m[I 2022-03-28 15:09:08,728]\u001b[0m Trial 83 finished with value: 0.0027879567351192236 and parameters: {'ngf': 16, 'nz': 152, 'layers': 6, 'lr': 0.00037141289391479825, 'beta1': 0.604131595492909, 'beta2': 0.9725259936703043, 'l2': 0.0019421857787998954}. Best is trial 73 with value: 0.002605059649795294.\u001b[0m\n"
     ]
    },
    {
     "data": {
      "application/vnd.jupyter.widget-view+json": {
       "model_id": "d8606107290d4ba2bee1173ab7e9f0ef",
       "version_major": 2,
       "version_minor": 0
      },
      "text/plain": [
       "  0%|          | 0/1500 [00:00<?, ?it/s]"
      ]
     },
     "metadata": {},
     "output_type": "display_data"
    },
    {
     "name": "stderr",
     "output_type": "stream",
     "text": [
      "/home/theycallmepeter/anaconda3/envs/pytorch3d/lib/python3.8/site-packages/torch/nn/functional.py:3451: UserWarning: Default upsampling behavior when mode=bilinear is changed to align_corners=False since 0.4.0. Please specify align_corners=True if the old behavior is desired. See the documentation of nn.Upsample for details.\n",
      "  warnings.warn(\n",
      "/mnt/c/Projects/deepstimate/pytorch3d/pytorch3d/transforms/transform3d.py:782: UserWarning: R is not a valid rotation matrix\n",
      "  warnings.warn(msg)\n",
      "\u001b[32m[I 2022-03-28 15:10:56,092]\u001b[0m Trial 84 finished with value: 0.0033569971565157175 and parameters: {'ngf': 16, 'nz': 138, 'layers': 6, 'lr': 8.462938597060729e-05, 'beta1': 0.5664632182843478, 'beta2': 0.9512418697638474, 'l2': 0.00024133517668557767}. Best is trial 73 with value: 0.002605059649795294.\u001b[0m\n"
     ]
    },
    {
     "data": {
      "application/vnd.jupyter.widget-view+json": {
       "model_id": "4ded960e7ee7417190c3a5567d2a26b1",
       "version_major": 2,
       "version_minor": 0
      },
      "text/plain": [
       "  0%|          | 0/1500 [00:00<?, ?it/s]"
      ]
     },
     "metadata": {},
     "output_type": "display_data"
    },
    {
     "name": "stderr",
     "output_type": "stream",
     "text": [
      "/home/theycallmepeter/anaconda3/envs/pytorch3d/lib/python3.8/site-packages/torch/nn/functional.py:3451: UserWarning: Default upsampling behavior when mode=bilinear is changed to align_corners=False since 0.4.0. Please specify align_corners=True if the old behavior is desired. See the documentation of nn.Upsample for details.\n",
      "  warnings.warn(\n",
      "/mnt/c/Projects/deepstimate/pytorch3d/pytorch3d/transforms/transform3d.py:782: UserWarning: R is not a valid rotation matrix\n",
      "  warnings.warn(msg)\n",
      "\u001b[32m[I 2022-03-28 15:12:49,752]\u001b[0m Trial 85 finished with value: 0.0028680721297860146 and parameters: {'ngf': 16, 'nz': 181, 'layers': 6, 'lr': 0.0005590418273291429, 'beta1': 0.6355028073205125, 'beta2': 0.9656018380201385, 'l2': 8.620676833153995e-05}. Best is trial 73 with value: 0.002605059649795294.\u001b[0m\n"
     ]
    },
    {
     "data": {
      "application/vnd.jupyter.widget-view+json": {
       "model_id": "5c42b180f5b74c6d809937e62addc0db",
       "version_major": 2,
       "version_minor": 0
      },
      "text/plain": [
       "  0%|          | 0/1500 [00:00<?, ?it/s]"
      ]
     },
     "metadata": {},
     "output_type": "display_data"
    },
    {
     "name": "stderr",
     "output_type": "stream",
     "text": [
      "/home/theycallmepeter/anaconda3/envs/pytorch3d/lib/python3.8/site-packages/torch/nn/functional.py:3451: UserWarning: Default upsampling behavior when mode=bilinear is changed to align_corners=False since 0.4.0. Please specify align_corners=True if the old behavior is desired. See the documentation of nn.Upsample for details.\n",
      "  warnings.warn(\n",
      "/mnt/c/Projects/deepstimate/pytorch3d/pytorch3d/transforms/transform3d.py:782: UserWarning: R is not a valid rotation matrix\n",
      "  warnings.warn(msg)\n",
      "\u001b[32m[I 2022-03-28 15:14:44,698]\u001b[0m Trial 86 finished with value: 0.0027781527023762465 and parameters: {'ngf': 16, 'nz': 133, 'layers': 6, 'lr': 0.0002595679816419713, 'beta1': 0.6137436146466291, 'beta2': 0.9424799993383646, 'l2': 0.0027033018195445216}. Best is trial 73 with value: 0.002605059649795294.\u001b[0m\n"
     ]
    },
    {
     "data": {
      "application/vnd.jupyter.widget-view+json": {
       "model_id": "abd0313f75c64ee2a54ee718dbfbd5ee",
       "version_major": 2,
       "version_minor": 0
      },
      "text/plain": [
       "  0%|          | 0/1500 [00:00<?, ?it/s]"
      ]
     },
     "metadata": {},
     "output_type": "display_data"
    },
    {
     "name": "stderr",
     "output_type": "stream",
     "text": [
      "/home/theycallmepeter/anaconda3/envs/pytorch3d/lib/python3.8/site-packages/torch/nn/functional.py:3451: UserWarning: Default upsampling behavior when mode=bilinear is changed to align_corners=False since 0.4.0. Please specify align_corners=True if the old behavior is desired. See the documentation of nn.Upsample for details.\n",
      "  warnings.warn(\n",
      "/mnt/c/Projects/deepstimate/pytorch3d/pytorch3d/transforms/transform3d.py:782: UserWarning: R is not a valid rotation matrix\n",
      "  warnings.warn(msg)\n",
      "\u001b[32m[I 2022-03-28 15:16:37,820]\u001b[0m Trial 87 finished with value: 0.0051566860638558865 and parameters: {'ngf': 16, 'nz': 90, 'layers': 2, 'lr': 0.00021551788220919738, 'beta1': 0.31629811121075224, 'beta2': 0.9620030767919197, 'l2': 0.0033859290845586676}. Best is trial 73 with value: 0.002605059649795294.\u001b[0m\n"
     ]
    },
    {
     "data": {
      "application/vnd.jupyter.widget-view+json": {
       "model_id": "479d4863650f4a18851b973475079c34",
       "version_major": 2,
       "version_minor": 0
      },
      "text/plain": [
       "  0%|          | 0/1500 [00:00<?, ?it/s]"
      ]
     },
     "metadata": {},
     "output_type": "display_data"
    },
    {
     "name": "stderr",
     "output_type": "stream",
     "text": [
      "/home/theycallmepeter/anaconda3/envs/pytorch3d/lib/python3.8/site-packages/torch/nn/functional.py:3451: UserWarning: Default upsampling behavior when mode=bilinear is changed to align_corners=False since 0.4.0. Please specify align_corners=True if the old behavior is desired. See the documentation of nn.Upsample for details.\n",
      "  warnings.warn(\n",
      "/mnt/c/Projects/deepstimate/pytorch3d/pytorch3d/transforms/transform3d.py:782: UserWarning: R is not a valid rotation matrix\n",
      "  warnings.warn(msg)\n",
      "\u001b[32m[I 2022-03-28 15:18:36,655]\u001b[0m Trial 88 finished with value: 0.0028345752507448196 and parameters: {'ngf': 64, 'nz': 143, 'layers': 6, 'lr': 0.00012410140667982076, 'beta1': 0.528355200449655, 'beta2': 0.9447925071141503, 'l2': 0.0004303659174815576}. Best is trial 73 with value: 0.002605059649795294.\u001b[0m\n"
     ]
    },
    {
     "data": {
      "application/vnd.jupyter.widget-view+json": {
       "model_id": "2647c0634aa64b5aa4505c69a893151b",
       "version_major": 2,
       "version_minor": 0
      },
      "text/plain": [
       "  0%|          | 0/1500 [00:00<?, ?it/s]"
      ]
     },
     "metadata": {},
     "output_type": "display_data"
    },
    {
     "name": "stderr",
     "output_type": "stream",
     "text": [
      "/home/theycallmepeter/anaconda3/envs/pytorch3d/lib/python3.8/site-packages/torch/nn/functional.py:3451: UserWarning: Default upsampling behavior when mode=bilinear is changed to align_corners=False since 0.4.0. Please specify align_corners=True if the old behavior is desired. See the documentation of nn.Upsample for details.\n",
      "  warnings.warn(\n",
      "/mnt/c/Projects/deepstimate/pytorch3d/pytorch3d/transforms/transform3d.py:782: UserWarning: R is not a valid rotation matrix\n",
      "  warnings.warn(msg)\n",
      "\u001b[32m[I 2022-03-28 15:20:32,139]\u001b[0m Trial 89 finished with value: 0.003036292502656579 and parameters: {'ngf': 32, 'nz': 99, 'layers': 6, 'lr': 0.0013654414646866442, 'beta1': 0.4388512885062543, 'beta2': 0.9325258505895161, 'l2': 0.00016307629072455517}. Best is trial 73 with value: 0.002605059649795294.\u001b[0m\n"
     ]
    },
    {
     "data": {
      "application/vnd.jupyter.widget-view+json": {
       "model_id": "3e4b272b5f4f406e92ce329c72ae22a4",
       "version_major": 2,
       "version_minor": 0
      },
      "text/plain": [
       "  0%|          | 0/1500 [00:00<?, ?it/s]"
      ]
     },
     "metadata": {},
     "output_type": "display_data"
    },
    {
     "name": "stderr",
     "output_type": "stream",
     "text": [
      "/home/theycallmepeter/anaconda3/envs/pytorch3d/lib/python3.8/site-packages/torch/nn/functional.py:3451: UserWarning: Default upsampling behavior when mode=bilinear is changed to align_corners=False since 0.4.0. Please specify align_corners=True if the old behavior is desired. See the documentation of nn.Upsample for details.\n",
      "  warnings.warn(\n",
      "/mnt/c/Projects/deepstimate/pytorch3d/pytorch3d/transforms/transform3d.py:782: UserWarning: R is not a valid rotation matrix\n",
      "  warnings.warn(msg)\n",
      "\u001b[32m[I 2022-03-28 15:22:31,123]\u001b[0m Trial 90 finished with value: 0.0068087768740952015 and parameters: {'ngf': 16, 'nz': 124, 'layers': 6, 'lr': 5.413918774250931e-05, 'beta1': 0.7252437691226057, 'beta2': 0.9382091533361178, 'l2': 0.001225057302443511}. Best is trial 73 with value: 0.002605059649795294.\u001b[0m\n"
     ]
    },
    {
     "data": {
      "application/vnd.jupyter.widget-view+json": {
       "model_id": "2064c535905d4a538436af69c9ac2bde",
       "version_major": 2,
       "version_minor": 0
      },
      "text/plain": [
       "  0%|          | 0/1500 [00:00<?, ?it/s]"
      ]
     },
     "metadata": {},
     "output_type": "display_data"
    },
    {
     "name": "stderr",
     "output_type": "stream",
     "text": [
      "/home/theycallmepeter/anaconda3/envs/pytorch3d/lib/python3.8/site-packages/torch/nn/functional.py:3451: UserWarning: Default upsampling behavior when mode=bilinear is changed to align_corners=False since 0.4.0. Please specify align_corners=True if the old behavior is desired. See the documentation of nn.Upsample for details.\n",
      "  warnings.warn(\n",
      "/mnt/c/Projects/deepstimate/pytorch3d/pytorch3d/transforms/transform3d.py:782: UserWarning: R is not a valid rotation matrix\n",
      "  warnings.warn(msg)\n",
      "\u001b[32m[I 2022-03-28 15:24:26,609]\u001b[0m Trial 91 finished with value: 0.004714437294751406 and parameters: {'ngf': 32, 'nz': 65, 'layers': 3, 'lr': 0.00032346404889610193, 'beta1': 0.3409741997051662, 'beta2': 0.929834334560879, 'l2': 0.005130218734798821}. Best is trial 73 with value: 0.002605059649795294.\u001b[0m\n"
     ]
    },
    {
     "data": {
      "application/vnd.jupyter.widget-view+json": {
       "model_id": "6ef3da14602240deb61e5680deb10036",
       "version_major": 2,
       "version_minor": 0
      },
      "text/plain": [
       "  0%|          | 0/1500 [00:00<?, ?it/s]"
      ]
     },
     "metadata": {},
     "output_type": "display_data"
    },
    {
     "name": "stderr",
     "output_type": "stream",
     "text": [
      "/home/theycallmepeter/anaconda3/envs/pytorch3d/lib/python3.8/site-packages/torch/nn/functional.py:3451: UserWarning: Default upsampling behavior when mode=bilinear is changed to align_corners=False since 0.4.0. Please specify align_corners=True if the old behavior is desired. See the documentation of nn.Upsample for details.\n",
      "  warnings.warn(\n",
      "/mnt/c/Projects/deepstimate/pytorch3d/pytorch3d/transforms/transform3d.py:782: UserWarning: R is not a valid rotation matrix\n",
      "  warnings.warn(msg)\n",
      "\u001b[32m[I 2022-03-28 15:26:16,880]\u001b[0m Trial 92 finished with value: 0.004360889084637165 and parameters: {'ngf': 32, 'nz': 108, 'layers': 4, 'lr': 0.0002825943019267691, 'beta1': 0.3032318678751361, 'beta2': 0.9350423145316806, 'l2': 0.004611896458266036}. Best is trial 73 with value: 0.002605059649795294.\u001b[0m\n"
     ]
    },
    {
     "data": {
      "application/vnd.jupyter.widget-view+json": {
       "model_id": "6996c88f7be244ed82bccda91e095a08",
       "version_major": 2,
       "version_minor": 0
      },
      "text/plain": [
       "  0%|          | 0/1500 [00:00<?, ?it/s]"
      ]
     },
     "metadata": {},
     "output_type": "display_data"
    },
    {
     "name": "stderr",
     "output_type": "stream",
     "text": [
      "/home/theycallmepeter/anaconda3/envs/pytorch3d/lib/python3.8/site-packages/torch/nn/functional.py:3451: UserWarning: Default upsampling behavior when mode=bilinear is changed to align_corners=False since 0.4.0. Please specify align_corners=True if the old behavior is desired. See the documentation of nn.Upsample for details.\n",
      "  warnings.warn(\n",
      "/mnt/c/Projects/deepstimate/pytorch3d/pytorch3d/transforms/transform3d.py:782: UserWarning: R is not a valid rotation matrix\n",
      "  warnings.warn(msg)\n",
      "\u001b[32m[I 2022-03-28 15:28:11,457]\u001b[0m Trial 93 finished with value: 0.002919034566730261 and parameters: {'ngf': 32, 'nz': 166, 'layers': 5, 'lr': 0.0005961570093879864, 'beta1': 0.35396230767702286, 'beta2': 0.9405481215708584, 'l2': 0.00647482984244539}. Best is trial 73 with value: 0.002605059649795294.\u001b[0m\n"
     ]
    },
    {
     "data": {
      "application/vnd.jupyter.widget-view+json": {
       "model_id": "2039e65a7e7547728ef843533413cba6",
       "version_major": 2,
       "version_minor": 0
      },
      "text/plain": [
       "  0%|          | 0/1500 [00:00<?, ?it/s]"
      ]
     },
     "metadata": {},
     "output_type": "display_data"
    },
    {
     "name": "stderr",
     "output_type": "stream",
     "text": [
      "/home/theycallmepeter/anaconda3/envs/pytorch3d/lib/python3.8/site-packages/torch/nn/functional.py:3451: UserWarning: Default upsampling behavior when mode=bilinear is changed to align_corners=False since 0.4.0. Please specify align_corners=True if the old behavior is desired. See the documentation of nn.Upsample for details.\n",
      "  warnings.warn(\n",
      "/mnt/c/Projects/deepstimate/pytorch3d/pytorch3d/transforms/transform3d.py:782: UserWarning: R is not a valid rotation matrix\n",
      "  warnings.warn(msg)\n",
      "\u001b[32m[I 2022-03-28 15:30:04,757]\u001b[0m Trial 94 finished with value: 0.0027122115716338158 and parameters: {'ngf': 32, 'nz': 90, 'layers': 6, 'lr': 0.0008804183472883872, 'beta1': 0.3812493301939346, 'beta2': 0.9473370244167494, 'l2': 0.002552389067877116}. Best is trial 73 with value: 0.002605059649795294.\u001b[0m\n"
     ]
    },
    {
     "data": {
      "application/vnd.jupyter.widget-view+json": {
       "model_id": "ab044acfc2874af982ae9be3ef02ed8e",
       "version_major": 2,
       "version_minor": 0
      },
      "text/plain": [
       "  0%|          | 0/1500 [00:00<?, ?it/s]"
      ]
     },
     "metadata": {},
     "output_type": "display_data"
    },
    {
     "name": "stderr",
     "output_type": "stream",
     "text": [
      "/home/theycallmepeter/anaconda3/envs/pytorch3d/lib/python3.8/site-packages/torch/nn/functional.py:3451: UserWarning: Default upsampling behavior when mode=bilinear is changed to align_corners=False since 0.4.0. Please specify align_corners=True if the old behavior is desired. See the documentation of nn.Upsample for details.\n",
      "  warnings.warn(\n",
      "/mnt/c/Projects/deepstimate/pytorch3d/pytorch3d/transforms/transform3d.py:782: UserWarning: R is not a valid rotation matrix\n",
      "  warnings.warn(msg)\n",
      "\u001b[32m[I 2022-03-28 15:32:01,855]\u001b[0m Trial 95 finished with value: 0.003000096883624792 and parameters: {'ngf': 32, 'nz': 92, 'layers': 6, 'lr': 0.0008019098068884325, 'beta1': 0.5458324013807624, 'beta2': 0.9546478452589229, 'l2': 0.0024596119970522424}. Best is trial 73 with value: 0.002605059649795294.\u001b[0m\n"
     ]
    },
    {
     "data": {
      "application/vnd.jupyter.widget-view+json": {
       "model_id": "3ab74ff256cd482bad96736c73106ab7",
       "version_major": 2,
       "version_minor": 0
      },
      "text/plain": [
       "  0%|          | 0/1500 [00:00<?, ?it/s]"
      ]
     },
     "metadata": {},
     "output_type": "display_data"
    },
    {
     "name": "stderr",
     "output_type": "stream",
     "text": [
      "/home/theycallmepeter/anaconda3/envs/pytorch3d/lib/python3.8/site-packages/torch/nn/functional.py:3451: UserWarning: Default upsampling behavior when mode=bilinear is changed to align_corners=False since 0.4.0. Please specify align_corners=True if the old behavior is desired. See the documentation of nn.Upsample for details.\n",
      "  warnings.warn(\n",
      "/mnt/c/Projects/deepstimate/pytorch3d/pytorch3d/transforms/transform3d.py:782: UserWarning: R is not a valid rotation matrix\n",
      "  warnings.warn(msg)\n",
      "\u001b[32m[I 2022-03-28 15:33:59,640]\u001b[0m Trial 96 finished with value: 0.002896268852055073 and parameters: {'ngf': 32, 'nz': 113, 'layers': 6, 'lr': 0.00040490903113195894, 'beta1': 0.32968395116081295, 'beta2': 0.9501920186609795, 'l2': 0.0015641478331453642}. Best is trial 73 with value: 0.002605059649795294.\u001b[0m\n"
     ]
    },
    {
     "data": {
      "application/vnd.jupyter.widget-view+json": {
       "model_id": "407d2efdc50648c181db6b214c53513c",
       "version_major": 2,
       "version_minor": 0
      },
      "text/plain": [
       "  0%|          | 0/1500 [00:00<?, ?it/s]"
      ]
     },
     "metadata": {},
     "output_type": "display_data"
    },
    {
     "name": "stderr",
     "output_type": "stream",
     "text": [
      "/home/theycallmepeter/anaconda3/envs/pytorch3d/lib/python3.8/site-packages/torch/nn/functional.py:3451: UserWarning: Default upsampling behavior when mode=bilinear is changed to align_corners=False since 0.4.0. Please specify align_corners=True if the old behavior is desired. See the documentation of nn.Upsample for details.\n",
      "  warnings.warn(\n",
      "/mnt/c/Projects/deepstimate/pytorch3d/pytorch3d/transforms/transform3d.py:782: UserWarning: R is not a valid rotation matrix\n",
      "  warnings.warn(msg)\n",
      "\u001b[32m[I 2022-03-28 15:36:04,256]\u001b[0m Trial 97 finished with value: 0.0032389406114816666 and parameters: {'ngf': 64, 'nz': 97, 'layers': 6, 'lr': 0.004085860301419676, 'beta1': 0.6582656517716902, 'beta2': 0.9473680775749552, 'l2': 0.002002511469286957}. Best is trial 73 with value: 0.002605059649795294.\u001b[0m\n"
     ]
    },
    {
     "data": {
      "application/vnd.jupyter.widget-view+json": {
       "model_id": "1b8eb13f67c442cba0a2b5ff506001f7",
       "version_major": 2,
       "version_minor": 0
      },
      "text/plain": [
       "  0%|          | 0/1500 [00:00<?, ?it/s]"
      ]
     },
     "metadata": {},
     "output_type": "display_data"
    },
    {
     "name": "stderr",
     "output_type": "stream",
     "text": [
      "/home/theycallmepeter/anaconda3/envs/pytorch3d/lib/python3.8/site-packages/torch/nn/functional.py:3451: UserWarning: Default upsampling behavior when mode=bilinear is changed to align_corners=False since 0.4.0. Please specify align_corners=True if the old behavior is desired. See the documentation of nn.Upsample for details.\n",
      "  warnings.warn(\n",
      "/mnt/c/Projects/deepstimate/pytorch3d/pytorch3d/transforms/transform3d.py:782: UserWarning: R is not a valid rotation matrix\n",
      "  warnings.warn(msg)\n",
      "\u001b[32m[I 2022-03-28 15:37:59,991]\u001b[0m Trial 98 finished with value: 0.0034115156158804893 and parameters: {'ngf': 32, 'nz': 82, 'layers': 6, 'lr': 0.0009605272573178077, 'beta1': 0.2710258930392941, 'beta2': 0.9532490963329374, 'l2': 0.0030969725111592693}. Best is trial 73 with value: 0.002605059649795294.\u001b[0m\n"
     ]
    },
    {
     "data": {
      "application/vnd.jupyter.widget-view+json": {
       "model_id": "e8c0dd054b134d3eb0a7537c928f88a5",
       "version_major": 2,
       "version_minor": 0
      },
      "text/plain": [
       "  0%|          | 0/1500 [00:00<?, ?it/s]"
      ]
     },
     "metadata": {},
     "output_type": "display_data"
    },
    {
     "name": "stderr",
     "output_type": "stream",
     "text": [
      "/home/theycallmepeter/anaconda3/envs/pytorch3d/lib/python3.8/site-packages/torch/nn/functional.py:3451: UserWarning: Default upsampling behavior when mode=bilinear is changed to align_corners=False since 0.4.0. Please specify align_corners=True if the old behavior is desired. See the documentation of nn.Upsample for details.\n",
      "  warnings.warn(\n",
      "/mnt/c/Projects/deepstimate/pytorch3d/pytorch3d/transforms/transform3d.py:782: UserWarning: R is not a valid rotation matrix\n",
      "  warnings.warn(msg)\n",
      "\u001b[32m[I 2022-03-28 15:39:52,038]\u001b[0m Trial 99 finished with value: 0.0030354675836861134 and parameters: {'ngf': 32, 'nz': 104, 'layers': 6, 'lr': 0.0004682195343091714, 'beta1': 0.5812196312576434, 'beta2': 0.9568734598268259, 'l2': 0.0007688435348466998}. Best is trial 73 with value: 0.002605059649795294.\u001b[0m\n"
     ]
    }
   ],
   "source": [
    "# optuna optimization created following https://towardsdatascience.com/hyperparameter-tuning-of-neural-networks-with-optuna-and-pytorch-22e179efc837\n",
    "study = optuna.create_study(direction=\"minimize\", sampler=optuna.samplers.TPESampler())\n",
    "study.optimize(objective, n_trials=100)"
   ]
  },
  {
   "cell_type": "code",
   "execution_count": 32,
   "metadata": {},
   "outputs": [
    {
     "name": "stdout",
     "output_type": "stream",
     "text": [
      "\"ngf\": 16,\n",
      "\"nz\": 149,\n",
      "\"layers\": 6,\n",
      "\"lr\": 0.000390652649743842,\n",
      "\"beta1\": 0.33784723988355825,\n",
      "\"beta2\": 0.9378792680516778,\n",
      "\"l2\": 0.002352535089280613,\n"
     ]
    }
   ],
   "source": [
    "best_trial = study.best_trial\n",
    "\n",
    "for key, value in best_trial.params.items():\n",
    "    print(\"\\\"{}\\\": {},\".format(key, value))\n",
    "\n",
    "# RGB only\n",
    "# \"ngf\": 64,\n",
    "# \"nz\": 94,\n",
    "# \"layers\": 4,\n",
    "# \"lr\": 0.005425492476777124,\n",
    "# \"beta1\": 0.5076397726936703,\n",
    "# \"beta2\": 0.9214742796191817,\n",
    "# \"l2\": 1.698130190537183e-06,\n",
    "# \"amsgrad\": True,\n",
    "\n",
    "# RGB and cos sim optimization\n",
    "# \"ngf\": 64\n",
    "# \"n_unit\": 167\n",
    "# \"layers\": 2\n",
    "# \"lr\": 0.04165803794830159\n",
    "# \"beta1\": 0.7482115163186268\n",
    "# \"beta2\": 0.9595019689796743\n",
    "# \"l2\": 0.0023515772552477328\n",
    "# \"amsgrad\": True"
   ]
  },
  {
   "cell_type": "code",
   "execution_count": 37,
   "metadata": {},
   "outputs": [
    {
     "name": "stderr",
     "output_type": "stream",
     "text": [
      "\u001b[33m[W 2022-03-28 15:54:48,529]\u001b[0m You need to set up the pruning feature to utilize `plot_intermediate_values()`\u001b[0m\n"
     ]
    },
    {
     "data": {
      "application/vnd.plotly.v1+json": {
       "config": {
        "plotlyServerURL": "https://plot.ly"
       },
       "data": [],
       "layout": {
        "showlegend": false,
        "template": {
         "data": {
          "bar": [
           {
            "error_x": {
             "color": "#2a3f5f"
            },
            "error_y": {
             "color": "#2a3f5f"
            },
            "marker": {
             "line": {
              "color": "#E5ECF6",
              "width": 0.5
             },
             "pattern": {
              "fillmode": "overlay",
              "size": 10,
              "solidity": 0.2
             }
            },
            "type": "bar"
           }
          ],
          "barpolar": [
           {
            "marker": {
             "line": {
              "color": "#E5ECF6",
              "width": 0.5
             },
             "pattern": {
              "fillmode": "overlay",
              "size": 10,
              "solidity": 0.2
             }
            },
            "type": "barpolar"
           }
          ],
          "carpet": [
           {
            "aaxis": {
             "endlinecolor": "#2a3f5f",
             "gridcolor": "white",
             "linecolor": "white",
             "minorgridcolor": "white",
             "startlinecolor": "#2a3f5f"
            },
            "baxis": {
             "endlinecolor": "#2a3f5f",
             "gridcolor": "white",
             "linecolor": "white",
             "minorgridcolor": "white",
             "startlinecolor": "#2a3f5f"
            },
            "type": "carpet"
           }
          ],
          "choropleth": [
           {
            "colorbar": {
             "outlinewidth": 0,
             "ticks": ""
            },
            "type": "choropleth"
           }
          ],
          "contour": [
           {
            "colorbar": {
             "outlinewidth": 0,
             "ticks": ""
            },
            "colorscale": [
             [
              0,
              "#0d0887"
             ],
             [
              0.1111111111111111,
              "#46039f"
             ],
             [
              0.2222222222222222,
              "#7201a8"
             ],
             [
              0.3333333333333333,
              "#9c179e"
             ],
             [
              0.4444444444444444,
              "#bd3786"
             ],
             [
              0.5555555555555556,
              "#d8576b"
             ],
             [
              0.6666666666666666,
              "#ed7953"
             ],
             [
              0.7777777777777778,
              "#fb9f3a"
             ],
             [
              0.8888888888888888,
              "#fdca26"
             ],
             [
              1,
              "#f0f921"
             ]
            ],
            "type": "contour"
           }
          ],
          "contourcarpet": [
           {
            "colorbar": {
             "outlinewidth": 0,
             "ticks": ""
            },
            "type": "contourcarpet"
           }
          ],
          "heatmap": [
           {
            "colorbar": {
             "outlinewidth": 0,
             "ticks": ""
            },
            "colorscale": [
             [
              0,
              "#0d0887"
             ],
             [
              0.1111111111111111,
              "#46039f"
             ],
             [
              0.2222222222222222,
              "#7201a8"
             ],
             [
              0.3333333333333333,
              "#9c179e"
             ],
             [
              0.4444444444444444,
              "#bd3786"
             ],
             [
              0.5555555555555556,
              "#d8576b"
             ],
             [
              0.6666666666666666,
              "#ed7953"
             ],
             [
              0.7777777777777778,
              "#fb9f3a"
             ],
             [
              0.8888888888888888,
              "#fdca26"
             ],
             [
              1,
              "#f0f921"
             ]
            ],
            "type": "heatmap"
           }
          ],
          "heatmapgl": [
           {
            "colorbar": {
             "outlinewidth": 0,
             "ticks": ""
            },
            "colorscale": [
             [
              0,
              "#0d0887"
             ],
             [
              0.1111111111111111,
              "#46039f"
             ],
             [
              0.2222222222222222,
              "#7201a8"
             ],
             [
              0.3333333333333333,
              "#9c179e"
             ],
             [
              0.4444444444444444,
              "#bd3786"
             ],
             [
              0.5555555555555556,
              "#d8576b"
             ],
             [
              0.6666666666666666,
              "#ed7953"
             ],
             [
              0.7777777777777778,
              "#fb9f3a"
             ],
             [
              0.8888888888888888,
              "#fdca26"
             ],
             [
              1,
              "#f0f921"
             ]
            ],
            "type": "heatmapgl"
           }
          ],
          "histogram": [
           {
            "marker": {
             "pattern": {
              "fillmode": "overlay",
              "size": 10,
              "solidity": 0.2
             }
            },
            "type": "histogram"
           }
          ],
          "histogram2d": [
           {
            "colorbar": {
             "outlinewidth": 0,
             "ticks": ""
            },
            "colorscale": [
             [
              0,
              "#0d0887"
             ],
             [
              0.1111111111111111,
              "#46039f"
             ],
             [
              0.2222222222222222,
              "#7201a8"
             ],
             [
              0.3333333333333333,
              "#9c179e"
             ],
             [
              0.4444444444444444,
              "#bd3786"
             ],
             [
              0.5555555555555556,
              "#d8576b"
             ],
             [
              0.6666666666666666,
              "#ed7953"
             ],
             [
              0.7777777777777778,
              "#fb9f3a"
             ],
             [
              0.8888888888888888,
              "#fdca26"
             ],
             [
              1,
              "#f0f921"
             ]
            ],
            "type": "histogram2d"
           }
          ],
          "histogram2dcontour": [
           {
            "colorbar": {
             "outlinewidth": 0,
             "ticks": ""
            },
            "colorscale": [
             [
              0,
              "#0d0887"
             ],
             [
              0.1111111111111111,
              "#46039f"
             ],
             [
              0.2222222222222222,
              "#7201a8"
             ],
             [
              0.3333333333333333,
              "#9c179e"
             ],
             [
              0.4444444444444444,
              "#bd3786"
             ],
             [
              0.5555555555555556,
              "#d8576b"
             ],
             [
              0.6666666666666666,
              "#ed7953"
             ],
             [
              0.7777777777777778,
              "#fb9f3a"
             ],
             [
              0.8888888888888888,
              "#fdca26"
             ],
             [
              1,
              "#f0f921"
             ]
            ],
            "type": "histogram2dcontour"
           }
          ],
          "mesh3d": [
           {
            "colorbar": {
             "outlinewidth": 0,
             "ticks": ""
            },
            "type": "mesh3d"
           }
          ],
          "parcoords": [
           {
            "line": {
             "colorbar": {
              "outlinewidth": 0,
              "ticks": ""
             }
            },
            "type": "parcoords"
           }
          ],
          "pie": [
           {
            "automargin": true,
            "type": "pie"
           }
          ],
          "scatter": [
           {
            "marker": {
             "colorbar": {
              "outlinewidth": 0,
              "ticks": ""
             }
            },
            "type": "scatter"
           }
          ],
          "scatter3d": [
           {
            "line": {
             "colorbar": {
              "outlinewidth": 0,
              "ticks": ""
             }
            },
            "marker": {
             "colorbar": {
              "outlinewidth": 0,
              "ticks": ""
             }
            },
            "type": "scatter3d"
           }
          ],
          "scattercarpet": [
           {
            "marker": {
             "colorbar": {
              "outlinewidth": 0,
              "ticks": ""
             }
            },
            "type": "scattercarpet"
           }
          ],
          "scattergeo": [
           {
            "marker": {
             "colorbar": {
              "outlinewidth": 0,
              "ticks": ""
             }
            },
            "type": "scattergeo"
           }
          ],
          "scattergl": [
           {
            "marker": {
             "colorbar": {
              "outlinewidth": 0,
              "ticks": ""
             }
            },
            "type": "scattergl"
           }
          ],
          "scattermapbox": [
           {
            "marker": {
             "colorbar": {
              "outlinewidth": 0,
              "ticks": ""
             }
            },
            "type": "scattermapbox"
           }
          ],
          "scatterpolar": [
           {
            "marker": {
             "colorbar": {
              "outlinewidth": 0,
              "ticks": ""
             }
            },
            "type": "scatterpolar"
           }
          ],
          "scatterpolargl": [
           {
            "marker": {
             "colorbar": {
              "outlinewidth": 0,
              "ticks": ""
             }
            },
            "type": "scatterpolargl"
           }
          ],
          "scatterternary": [
           {
            "marker": {
             "colorbar": {
              "outlinewidth": 0,
              "ticks": ""
             }
            },
            "type": "scatterternary"
           }
          ],
          "surface": [
           {
            "colorbar": {
             "outlinewidth": 0,
             "ticks": ""
            },
            "colorscale": [
             [
              0,
              "#0d0887"
             ],
             [
              0.1111111111111111,
              "#46039f"
             ],
             [
              0.2222222222222222,
              "#7201a8"
             ],
             [
              0.3333333333333333,
              "#9c179e"
             ],
             [
              0.4444444444444444,
              "#bd3786"
             ],
             [
              0.5555555555555556,
              "#d8576b"
             ],
             [
              0.6666666666666666,
              "#ed7953"
             ],
             [
              0.7777777777777778,
              "#fb9f3a"
             ],
             [
              0.8888888888888888,
              "#fdca26"
             ],
             [
              1,
              "#f0f921"
             ]
            ],
            "type": "surface"
           }
          ],
          "table": [
           {
            "cells": {
             "fill": {
              "color": "#EBF0F8"
             },
             "line": {
              "color": "white"
             }
            },
            "header": {
             "fill": {
              "color": "#C8D4E3"
             },
             "line": {
              "color": "white"
             }
            },
            "type": "table"
           }
          ]
         },
         "layout": {
          "annotationdefaults": {
           "arrowcolor": "#2a3f5f",
           "arrowhead": 0,
           "arrowwidth": 1
          },
          "autotypenumbers": "strict",
          "coloraxis": {
           "colorbar": {
            "outlinewidth": 0,
            "ticks": ""
           }
          },
          "colorscale": {
           "diverging": [
            [
             0,
             "#8e0152"
            ],
            [
             0.1,
             "#c51b7d"
            ],
            [
             0.2,
             "#de77ae"
            ],
            [
             0.3,
             "#f1b6da"
            ],
            [
             0.4,
             "#fde0ef"
            ],
            [
             0.5,
             "#f7f7f7"
            ],
            [
             0.6,
             "#e6f5d0"
            ],
            [
             0.7,
             "#b8e186"
            ],
            [
             0.8,
             "#7fbc41"
            ],
            [
             0.9,
             "#4d9221"
            ],
            [
             1,
             "#276419"
            ]
           ],
           "sequential": [
            [
             0,
             "#0d0887"
            ],
            [
             0.1111111111111111,
             "#46039f"
            ],
            [
             0.2222222222222222,
             "#7201a8"
            ],
            [
             0.3333333333333333,
             "#9c179e"
            ],
            [
             0.4444444444444444,
             "#bd3786"
            ],
            [
             0.5555555555555556,
             "#d8576b"
            ],
            [
             0.6666666666666666,
             "#ed7953"
            ],
            [
             0.7777777777777778,
             "#fb9f3a"
            ],
            [
             0.8888888888888888,
             "#fdca26"
            ],
            [
             1,
             "#f0f921"
            ]
           ],
           "sequentialminus": [
            [
             0,
             "#0d0887"
            ],
            [
             0.1111111111111111,
             "#46039f"
            ],
            [
             0.2222222222222222,
             "#7201a8"
            ],
            [
             0.3333333333333333,
             "#9c179e"
            ],
            [
             0.4444444444444444,
             "#bd3786"
            ],
            [
             0.5555555555555556,
             "#d8576b"
            ],
            [
             0.6666666666666666,
             "#ed7953"
            ],
            [
             0.7777777777777778,
             "#fb9f3a"
            ],
            [
             0.8888888888888888,
             "#fdca26"
            ],
            [
             1,
             "#f0f921"
            ]
           ]
          },
          "colorway": [
           "#636efa",
           "#EF553B",
           "#00cc96",
           "#ab63fa",
           "#FFA15A",
           "#19d3f3",
           "#FF6692",
           "#B6E880",
           "#FF97FF",
           "#FECB52"
          ],
          "font": {
           "color": "#2a3f5f"
          },
          "geo": {
           "bgcolor": "white",
           "lakecolor": "white",
           "landcolor": "#E5ECF6",
           "showlakes": true,
           "showland": true,
           "subunitcolor": "white"
          },
          "hoverlabel": {
           "align": "left"
          },
          "hovermode": "closest",
          "mapbox": {
           "style": "light"
          },
          "paper_bgcolor": "white",
          "plot_bgcolor": "#E5ECF6",
          "polar": {
           "angularaxis": {
            "gridcolor": "white",
            "linecolor": "white",
            "ticks": ""
           },
           "bgcolor": "#E5ECF6",
           "radialaxis": {
            "gridcolor": "white",
            "linecolor": "white",
            "ticks": ""
           }
          },
          "scene": {
           "xaxis": {
            "backgroundcolor": "#E5ECF6",
            "gridcolor": "white",
            "gridwidth": 2,
            "linecolor": "white",
            "showbackground": true,
            "ticks": "",
            "zerolinecolor": "white"
           },
           "yaxis": {
            "backgroundcolor": "#E5ECF6",
            "gridcolor": "white",
            "gridwidth": 2,
            "linecolor": "white",
            "showbackground": true,
            "ticks": "",
            "zerolinecolor": "white"
           },
           "zaxis": {
            "backgroundcolor": "#E5ECF6",
            "gridcolor": "white",
            "gridwidth": 2,
            "linecolor": "white",
            "showbackground": true,
            "ticks": "",
            "zerolinecolor": "white"
           }
          },
          "shapedefaults": {
           "line": {
            "color": "#2a3f5f"
           }
          },
          "ternary": {
           "aaxis": {
            "gridcolor": "white",
            "linecolor": "white",
            "ticks": ""
           },
           "baxis": {
            "gridcolor": "white",
            "linecolor": "white",
            "ticks": ""
           },
           "bgcolor": "#E5ECF6",
           "caxis": {
            "gridcolor": "white",
            "linecolor": "white",
            "ticks": ""
           }
          },
          "title": {
           "x": 0.05
          },
          "xaxis": {
           "automargin": true,
           "gridcolor": "white",
           "linecolor": "white",
           "ticks": "",
           "title": {
            "standoff": 15
           },
           "zerolinecolor": "white",
           "zerolinewidth": 2
          },
          "yaxis": {
           "automargin": true,
           "gridcolor": "white",
           "linecolor": "white",
           "ticks": "",
           "title": {
            "standoff": 15
           },
           "zerolinecolor": "white",
           "zerolinewidth": 2
          }
         }
        },
        "title": {
         "text": "Intermediate Values Plot"
        },
        "xaxis": {
         "title": {
          "text": "Step"
         }
        },
        "yaxis": {
         "title": {
          "text": "Intermediate Value"
         }
        }
       }
      },
      "text/html": [
       "<div>                            <div id=\"2fce5f2c-a2d4-417c-9d13-1891cb367a6c\" class=\"plotly-graph-div\" style=\"height:525px; width:100%;\"></div>            <script type=\"text/javascript\">                require([\"plotly\"], function(Plotly) {                    window.PLOTLYENV=window.PLOTLYENV || {};                                    if (document.getElementById(\"2fce5f2c-a2d4-417c-9d13-1891cb367a6c\")) {                    Plotly.newPlot(                        \"2fce5f2c-a2d4-417c-9d13-1891cb367a6c\",                        [],                        {\"showlegend\":false,\"title\":{\"text\":\"Intermediate Values Plot\"},\"xaxis\":{\"title\":{\"text\":\"Step\"}},\"yaxis\":{\"title\":{\"text\":\"Intermediate Value\"}},\"template\":{\"data\":{\"bar\":[{\"error_x\":{\"color\":\"#2a3f5f\"},\"error_y\":{\"color\":\"#2a3f5f\"},\"marker\":{\"line\":{\"color\":\"#E5ECF6\",\"width\":0.5},\"pattern\":{\"fillmode\":\"overlay\",\"size\":10,\"solidity\":0.2}},\"type\":\"bar\"}],\"barpolar\":[{\"marker\":{\"line\":{\"color\":\"#E5ECF6\",\"width\":0.5},\"pattern\":{\"fillmode\":\"overlay\",\"size\":10,\"solidity\":0.2}},\"type\":\"barpolar\"}],\"carpet\":[{\"aaxis\":{\"endlinecolor\":\"#2a3f5f\",\"gridcolor\":\"white\",\"linecolor\":\"white\",\"minorgridcolor\":\"white\",\"startlinecolor\":\"#2a3f5f\"},\"baxis\":{\"endlinecolor\":\"#2a3f5f\",\"gridcolor\":\"white\",\"linecolor\":\"white\",\"minorgridcolor\":\"white\",\"startlinecolor\":\"#2a3f5f\"},\"type\":\"carpet\"}],\"choropleth\":[{\"colorbar\":{\"outlinewidth\":0,\"ticks\":\"\"},\"type\":\"choropleth\"}],\"contour\":[{\"colorbar\":{\"outlinewidth\":0,\"ticks\":\"\"},\"colorscale\":[[0.0,\"#0d0887\"],[0.1111111111111111,\"#46039f\"],[0.2222222222222222,\"#7201a8\"],[0.3333333333333333,\"#9c179e\"],[0.4444444444444444,\"#bd3786\"],[0.5555555555555556,\"#d8576b\"],[0.6666666666666666,\"#ed7953\"],[0.7777777777777778,\"#fb9f3a\"],[0.8888888888888888,\"#fdca26\"],[1.0,\"#f0f921\"]],\"type\":\"contour\"}],\"contourcarpet\":[{\"colorbar\":{\"outlinewidth\":0,\"ticks\":\"\"},\"type\":\"contourcarpet\"}],\"heatmap\":[{\"colorbar\":{\"outlinewidth\":0,\"ticks\":\"\"},\"colorscale\":[[0.0,\"#0d0887\"],[0.1111111111111111,\"#46039f\"],[0.2222222222222222,\"#7201a8\"],[0.3333333333333333,\"#9c179e\"],[0.4444444444444444,\"#bd3786\"],[0.5555555555555556,\"#d8576b\"],[0.6666666666666666,\"#ed7953\"],[0.7777777777777778,\"#fb9f3a\"],[0.8888888888888888,\"#fdca26\"],[1.0,\"#f0f921\"]],\"type\":\"heatmap\"}],\"heatmapgl\":[{\"colorbar\":{\"outlinewidth\":0,\"ticks\":\"\"},\"colorscale\":[[0.0,\"#0d0887\"],[0.1111111111111111,\"#46039f\"],[0.2222222222222222,\"#7201a8\"],[0.3333333333333333,\"#9c179e\"],[0.4444444444444444,\"#bd3786\"],[0.5555555555555556,\"#d8576b\"],[0.6666666666666666,\"#ed7953\"],[0.7777777777777778,\"#fb9f3a\"],[0.8888888888888888,\"#fdca26\"],[1.0,\"#f0f921\"]],\"type\":\"heatmapgl\"}],\"histogram\":[{\"marker\":{\"pattern\":{\"fillmode\":\"overlay\",\"size\":10,\"solidity\":0.2}},\"type\":\"histogram\"}],\"histogram2d\":[{\"colorbar\":{\"outlinewidth\":0,\"ticks\":\"\"},\"colorscale\":[[0.0,\"#0d0887\"],[0.1111111111111111,\"#46039f\"],[0.2222222222222222,\"#7201a8\"],[0.3333333333333333,\"#9c179e\"],[0.4444444444444444,\"#bd3786\"],[0.5555555555555556,\"#d8576b\"],[0.6666666666666666,\"#ed7953\"],[0.7777777777777778,\"#fb9f3a\"],[0.8888888888888888,\"#fdca26\"],[1.0,\"#f0f921\"]],\"type\":\"histogram2d\"}],\"histogram2dcontour\":[{\"colorbar\":{\"outlinewidth\":0,\"ticks\":\"\"},\"colorscale\":[[0.0,\"#0d0887\"],[0.1111111111111111,\"#46039f\"],[0.2222222222222222,\"#7201a8\"],[0.3333333333333333,\"#9c179e\"],[0.4444444444444444,\"#bd3786\"],[0.5555555555555556,\"#d8576b\"],[0.6666666666666666,\"#ed7953\"],[0.7777777777777778,\"#fb9f3a\"],[0.8888888888888888,\"#fdca26\"],[1.0,\"#f0f921\"]],\"type\":\"histogram2dcontour\"}],\"mesh3d\":[{\"colorbar\":{\"outlinewidth\":0,\"ticks\":\"\"},\"type\":\"mesh3d\"}],\"parcoords\":[{\"line\":{\"colorbar\":{\"outlinewidth\":0,\"ticks\":\"\"}},\"type\":\"parcoords\"}],\"pie\":[{\"automargin\":true,\"type\":\"pie\"}],\"scatter\":[{\"marker\":{\"colorbar\":{\"outlinewidth\":0,\"ticks\":\"\"}},\"type\":\"scatter\"}],\"scatter3d\":[{\"line\":{\"colorbar\":{\"outlinewidth\":0,\"ticks\":\"\"}},\"marker\":{\"colorbar\":{\"outlinewidth\":0,\"ticks\":\"\"}},\"type\":\"scatter3d\"}],\"scattercarpet\":[{\"marker\":{\"colorbar\":{\"outlinewidth\":0,\"ticks\":\"\"}},\"type\":\"scattercarpet\"}],\"scattergeo\":[{\"marker\":{\"colorbar\":{\"outlinewidth\":0,\"ticks\":\"\"}},\"type\":\"scattergeo\"}],\"scattergl\":[{\"marker\":{\"colorbar\":{\"outlinewidth\":0,\"ticks\":\"\"}},\"type\":\"scattergl\"}],\"scattermapbox\":[{\"marker\":{\"colorbar\":{\"outlinewidth\":0,\"ticks\":\"\"}},\"type\":\"scattermapbox\"}],\"scatterpolar\":[{\"marker\":{\"colorbar\":{\"outlinewidth\":0,\"ticks\":\"\"}},\"type\":\"scatterpolar\"}],\"scatterpolargl\":[{\"marker\":{\"colorbar\":{\"outlinewidth\":0,\"ticks\":\"\"}},\"type\":\"scatterpolargl\"}],\"scatterternary\":[{\"marker\":{\"colorbar\":{\"outlinewidth\":0,\"ticks\":\"\"}},\"type\":\"scatterternary\"}],\"surface\":[{\"colorbar\":{\"outlinewidth\":0,\"ticks\":\"\"},\"colorscale\":[[0.0,\"#0d0887\"],[0.1111111111111111,\"#46039f\"],[0.2222222222222222,\"#7201a8\"],[0.3333333333333333,\"#9c179e\"],[0.4444444444444444,\"#bd3786\"],[0.5555555555555556,\"#d8576b\"],[0.6666666666666666,\"#ed7953\"],[0.7777777777777778,\"#fb9f3a\"],[0.8888888888888888,\"#fdca26\"],[1.0,\"#f0f921\"]],\"type\":\"surface\"}],\"table\":[{\"cells\":{\"fill\":{\"color\":\"#EBF0F8\"},\"line\":{\"color\":\"white\"}},\"header\":{\"fill\":{\"color\":\"#C8D4E3\"},\"line\":{\"color\":\"white\"}},\"type\":\"table\"}]},\"layout\":{\"annotationdefaults\":{\"arrowcolor\":\"#2a3f5f\",\"arrowhead\":0,\"arrowwidth\":1},\"autotypenumbers\":\"strict\",\"coloraxis\":{\"colorbar\":{\"outlinewidth\":0,\"ticks\":\"\"}},\"colorscale\":{\"diverging\":[[0,\"#8e0152\"],[0.1,\"#c51b7d\"],[0.2,\"#de77ae\"],[0.3,\"#f1b6da\"],[0.4,\"#fde0ef\"],[0.5,\"#f7f7f7\"],[0.6,\"#e6f5d0\"],[0.7,\"#b8e186\"],[0.8,\"#7fbc41\"],[0.9,\"#4d9221\"],[1,\"#276419\"]],\"sequential\":[[0.0,\"#0d0887\"],[0.1111111111111111,\"#46039f\"],[0.2222222222222222,\"#7201a8\"],[0.3333333333333333,\"#9c179e\"],[0.4444444444444444,\"#bd3786\"],[0.5555555555555556,\"#d8576b\"],[0.6666666666666666,\"#ed7953\"],[0.7777777777777778,\"#fb9f3a\"],[0.8888888888888888,\"#fdca26\"],[1.0,\"#f0f921\"]],\"sequentialminus\":[[0.0,\"#0d0887\"],[0.1111111111111111,\"#46039f\"],[0.2222222222222222,\"#7201a8\"],[0.3333333333333333,\"#9c179e\"],[0.4444444444444444,\"#bd3786\"],[0.5555555555555556,\"#d8576b\"],[0.6666666666666666,\"#ed7953\"],[0.7777777777777778,\"#fb9f3a\"],[0.8888888888888888,\"#fdca26\"],[1.0,\"#f0f921\"]]},\"colorway\":[\"#636efa\",\"#EF553B\",\"#00cc96\",\"#ab63fa\",\"#FFA15A\",\"#19d3f3\",\"#FF6692\",\"#B6E880\",\"#FF97FF\",\"#FECB52\"],\"font\":{\"color\":\"#2a3f5f\"},\"geo\":{\"bgcolor\":\"white\",\"lakecolor\":\"white\",\"landcolor\":\"#E5ECF6\",\"showlakes\":true,\"showland\":true,\"subunitcolor\":\"white\"},\"hoverlabel\":{\"align\":\"left\"},\"hovermode\":\"closest\",\"mapbox\":{\"style\":\"light\"},\"paper_bgcolor\":\"white\",\"plot_bgcolor\":\"#E5ECF6\",\"polar\":{\"angularaxis\":{\"gridcolor\":\"white\",\"linecolor\":\"white\",\"ticks\":\"\"},\"bgcolor\":\"#E5ECF6\",\"radialaxis\":{\"gridcolor\":\"white\",\"linecolor\":\"white\",\"ticks\":\"\"}},\"scene\":{\"xaxis\":{\"backgroundcolor\":\"#E5ECF6\",\"gridcolor\":\"white\",\"gridwidth\":2,\"linecolor\":\"white\",\"showbackground\":true,\"ticks\":\"\",\"zerolinecolor\":\"white\"},\"yaxis\":{\"backgroundcolor\":\"#E5ECF6\",\"gridcolor\":\"white\",\"gridwidth\":2,\"linecolor\":\"white\",\"showbackground\":true,\"ticks\":\"\",\"zerolinecolor\":\"white\"},\"zaxis\":{\"backgroundcolor\":\"#E5ECF6\",\"gridcolor\":\"white\",\"gridwidth\":2,\"linecolor\":\"white\",\"showbackground\":true,\"ticks\":\"\",\"zerolinecolor\":\"white\"}},\"shapedefaults\":{\"line\":{\"color\":\"#2a3f5f\"}},\"ternary\":{\"aaxis\":{\"gridcolor\":\"white\",\"linecolor\":\"white\",\"ticks\":\"\"},\"baxis\":{\"gridcolor\":\"white\",\"linecolor\":\"white\",\"ticks\":\"\"},\"bgcolor\":\"#E5ECF6\",\"caxis\":{\"gridcolor\":\"white\",\"linecolor\":\"white\",\"ticks\":\"\"}},\"title\":{\"x\":0.05},\"xaxis\":{\"automargin\":true,\"gridcolor\":\"white\",\"linecolor\":\"white\",\"ticks\":\"\",\"title\":{\"standoff\":15},\"zerolinecolor\":\"white\",\"zerolinewidth\":2},\"yaxis\":{\"automargin\":true,\"gridcolor\":\"white\",\"linecolor\":\"white\",\"ticks\":\"\",\"title\":{\"standoff\":15},\"zerolinecolor\":\"white\",\"zerolinewidth\":2}}}},                        {\"responsive\": true}                    ).then(function(){\n",
       "                            \n",
       "var gd = document.getElementById('2fce5f2c-a2d4-417c-9d13-1891cb367a6c');\n",
       "var x = new MutationObserver(function (mutations, observer) {{\n",
       "        var display = window.getComputedStyle(gd).display;\n",
       "        if (!display || display === 'none') {{\n",
       "            console.log([gd, 'removed!']);\n",
       "            Plotly.purge(gd);\n",
       "            observer.disconnect();\n",
       "        }}\n",
       "}});\n",
       "\n",
       "// Listen for the removal of the full notebook cells\n",
       "var notebookContainer = gd.closest('#notebook-container');\n",
       "if (notebookContainer) {{\n",
       "    x.observe(notebookContainer, {childList: true});\n",
       "}}\n",
       "\n",
       "// Listen for the clearing of the current output cell\n",
       "var outputEl = gd.closest('.output');\n",
       "if (outputEl) {{\n",
       "    x.observe(outputEl, {childList: true});\n",
       "}}\n",
       "\n",
       "                        })                };                });            </script>        </div>"
      ]
     },
     "metadata": {},
     "output_type": "display_data"
    }
   ],
   "source": [
    "# optuna.visualization.plot_intermediate_values(study)\n"
   ]
  },
  {
   "cell_type": "code",
   "execution_count": 34,
   "metadata": {},
   "outputs": [
    {
     "data": {
      "application/vnd.plotly.v1+json": {
       "config": {
        "plotlyServerURL": "https://plot.ly"
       },
       "data": [
        {
         "mode": "markers",
         "name": "Objective Value",
         "type": "scatter",
         "x": [
          0,
          1,
          2,
          3,
          4,
          5,
          6,
          7,
          8,
          9,
          10,
          11,
          12,
          13,
          14,
          15,
          16,
          17,
          18,
          19,
          20,
          21,
          22,
          23,
          24,
          25,
          26,
          27,
          28,
          29,
          30,
          31,
          32,
          33,
          34,
          35,
          36,
          37,
          38,
          39,
          40,
          41,
          42,
          43,
          44,
          45,
          46,
          47,
          48,
          49,
          50,
          51,
          52,
          53,
          54,
          55,
          56,
          57,
          58,
          59,
          60,
          61,
          62,
          63,
          64,
          65,
          66,
          67,
          68,
          69,
          70,
          71,
          72,
          73,
          74,
          75,
          76,
          77,
          78,
          79,
          80,
          81,
          82,
          83,
          84,
          85,
          86,
          87,
          88,
          89,
          90,
          91,
          92,
          93,
          94,
          95,
          96,
          97,
          98,
          99
         ],
         "y": [
          0.003296546870842576,
          0.014186839573085308,
          0.003328382968902588,
          0.003387733828276396,
          0.018376944586634636,
          0.0031809292268007994,
          0.0033983939792960882,
          0.010726194828748703,
          0.003190858056768775,
          0.022609153762459755,
          0.0038097158540040255,
          0.003107657190412283,
          0.003040011739358306,
          0.003024704521521926,
          0.003145871451124549,
          0.0031434709671884775,
          0.0030307744164019823,
          0.0028049664106220007,
          0.0027171033434569836,
          0.003070726990699768,
          0.004707153420895338,
          0.0030950859654694796,
          0.0028790722135454416,
          0.0029677734710276127,
          0.0029021098744124174,
          0.0032947701402008533,
          0.002952311420813203,
          0.002914290176704526,
          0.012918324209749699,
          0.002960614860057831,
          0.0029688214417546988,
          0.003063093638047576,
          0.0027807268779724836,
          0.00276244361884892,
          0.0027467969339340925,
          0.0028134777676314116,
          0.0029514124616980553,
          0.0026620356366038322,
          0.0028169360011816025,
          0.0032377864699810743,
          0.00291583314538002,
          0.002749920357018709,
          0.002807936631143093,
          0.0028295714873820543,
          0.0030490525532513857,
          0.0029134328942745924,
          0.0029881191439926624,
          0.004904674366116524,
          0.018075961619615555,
          0.0035011719446629286,
          0.00275845592841506,
          0.003002178156748414,
          0.003555990057066083,
          0.002797669032588601,
          0.0028641826938837767,
          0.00269891694188118,
          0.00623682327568531,
          0.005243586841970682,
          0.0028521057683974504,
          0.0029868348501622677,
          0.0029359101317822933,
          0.002750119660049677,
          0.002760121366009116,
          0.0031593204475939274,
          0.005814182106405497,
          0.0028271202463656664,
          0.002819292712956667,
          0.002855384722352028,
          0.00868307612836361,
          0.0028747643809765577,
          0.0028716789092868567,
          0.002642750972881913,
          0.0028543747030198574,
          0.002605059649795294,
          0.004343060310930014,
          0.00290241208858788,
          0.0029473421163856983,
          0.0027725067920982838,
          0.0030222563073039055,
          0.002722284058108926,
          0.002916947240009904,
          0.0028018862940371037,
          0.0029747725930064917,
          0.0027879567351192236,
          0.0033569971565157175,
          0.0028680721297860146,
          0.0027781527023762465,
          0.0051566860638558865,
          0.0028345752507448196,
          0.003036292502656579,
          0.0068087768740952015,
          0.004714437294751406,
          0.004360889084637165,
          0.002919034566730261,
          0.0027122115716338158,
          0.003000096883624792,
          0.002896268852055073,
          0.0032389406114816666,
          0.0034115156158804893,
          0.0030354675836861134
         ]
        },
        {
         "name": "Best Value",
         "type": "scatter",
         "x": [
          0,
          1,
          2,
          3,
          4,
          5,
          6,
          7,
          8,
          9,
          10,
          11,
          12,
          13,
          14,
          15,
          16,
          17,
          18,
          19,
          20,
          21,
          22,
          23,
          24,
          25,
          26,
          27,
          28,
          29,
          30,
          31,
          32,
          33,
          34,
          35,
          36,
          37,
          38,
          39,
          40,
          41,
          42,
          43,
          44,
          45,
          46,
          47,
          48,
          49,
          50,
          51,
          52,
          53,
          54,
          55,
          56,
          57,
          58,
          59,
          60,
          61,
          62,
          63,
          64,
          65,
          66,
          67,
          68,
          69,
          70,
          71,
          72,
          73,
          74,
          75,
          76,
          77,
          78,
          79,
          80,
          81,
          82,
          83,
          84,
          85,
          86,
          87,
          88,
          89,
          90,
          91,
          92,
          93,
          94,
          95,
          96,
          97,
          98,
          99
         ],
         "y": [
          0.003296546870842576,
          0.003296546870842576,
          0.003296546870842576,
          0.003296546870842576,
          0.003296546870842576,
          0.0031809292268007994,
          0.0031809292268007994,
          0.0031809292268007994,
          0.0031809292268007994,
          0.0031809292268007994,
          0.0031809292268007994,
          0.003107657190412283,
          0.003040011739358306,
          0.003024704521521926,
          0.003024704521521926,
          0.003024704521521926,
          0.003024704521521926,
          0.0028049664106220007,
          0.0027171033434569836,
          0.0027171033434569836,
          0.0027171033434569836,
          0.0027171033434569836,
          0.0027171033434569836,
          0.0027171033434569836,
          0.0027171033434569836,
          0.0027171033434569836,
          0.0027171033434569836,
          0.0027171033434569836,
          0.0027171033434569836,
          0.0027171033434569836,
          0.0027171033434569836,
          0.0027171033434569836,
          0.0027171033434569836,
          0.0027171033434569836,
          0.0027171033434569836,
          0.0027171033434569836,
          0.0027171033434569836,
          0.0026620356366038322,
          0.0026620356366038322,
          0.0026620356366038322,
          0.0026620356366038322,
          0.0026620356366038322,
          0.0026620356366038322,
          0.0026620356366038322,
          0.0026620356366038322,
          0.0026620356366038322,
          0.0026620356366038322,
          0.0026620356366038322,
          0.0026620356366038322,
          0.0026620356366038322,
          0.0026620356366038322,
          0.0026620356366038322,
          0.0026620356366038322,
          0.0026620356366038322,
          0.0026620356366038322,
          0.0026620356366038322,
          0.0026620356366038322,
          0.0026620356366038322,
          0.0026620356366038322,
          0.0026620356366038322,
          0.0026620356366038322,
          0.0026620356366038322,
          0.0026620356366038322,
          0.0026620356366038322,
          0.0026620356366038322,
          0.0026620356366038322,
          0.0026620356366038322,
          0.0026620356366038322,
          0.0026620356366038322,
          0.0026620356366038322,
          0.0026620356366038322,
          0.002642750972881913,
          0.002642750972881913,
          0.002605059649795294,
          0.002605059649795294,
          0.002605059649795294,
          0.002605059649795294,
          0.002605059649795294,
          0.002605059649795294,
          0.002605059649795294,
          0.002605059649795294,
          0.002605059649795294,
          0.002605059649795294,
          0.002605059649795294,
          0.002605059649795294,
          0.002605059649795294,
          0.002605059649795294,
          0.002605059649795294,
          0.002605059649795294,
          0.002605059649795294,
          0.002605059649795294,
          0.002605059649795294,
          0.002605059649795294,
          0.002605059649795294,
          0.002605059649795294,
          0.002605059649795294,
          0.002605059649795294,
          0.002605059649795294,
          0.002605059649795294,
          0.002605059649795294
         ]
        }
       ],
       "layout": {
        "template": {
         "data": {
          "bar": [
           {
            "error_x": {
             "color": "#2a3f5f"
            },
            "error_y": {
             "color": "#2a3f5f"
            },
            "marker": {
             "line": {
              "color": "#E5ECF6",
              "width": 0.5
             },
             "pattern": {
              "fillmode": "overlay",
              "size": 10,
              "solidity": 0.2
             }
            },
            "type": "bar"
           }
          ],
          "barpolar": [
           {
            "marker": {
             "line": {
              "color": "#E5ECF6",
              "width": 0.5
             },
             "pattern": {
              "fillmode": "overlay",
              "size": 10,
              "solidity": 0.2
             }
            },
            "type": "barpolar"
           }
          ],
          "carpet": [
           {
            "aaxis": {
             "endlinecolor": "#2a3f5f",
             "gridcolor": "white",
             "linecolor": "white",
             "minorgridcolor": "white",
             "startlinecolor": "#2a3f5f"
            },
            "baxis": {
             "endlinecolor": "#2a3f5f",
             "gridcolor": "white",
             "linecolor": "white",
             "minorgridcolor": "white",
             "startlinecolor": "#2a3f5f"
            },
            "type": "carpet"
           }
          ],
          "choropleth": [
           {
            "colorbar": {
             "outlinewidth": 0,
             "ticks": ""
            },
            "type": "choropleth"
           }
          ],
          "contour": [
           {
            "colorbar": {
             "outlinewidth": 0,
             "ticks": ""
            },
            "colorscale": [
             [
              0,
              "#0d0887"
             ],
             [
              0.1111111111111111,
              "#46039f"
             ],
             [
              0.2222222222222222,
              "#7201a8"
             ],
             [
              0.3333333333333333,
              "#9c179e"
             ],
             [
              0.4444444444444444,
              "#bd3786"
             ],
             [
              0.5555555555555556,
              "#d8576b"
             ],
             [
              0.6666666666666666,
              "#ed7953"
             ],
             [
              0.7777777777777778,
              "#fb9f3a"
             ],
             [
              0.8888888888888888,
              "#fdca26"
             ],
             [
              1,
              "#f0f921"
             ]
            ],
            "type": "contour"
           }
          ],
          "contourcarpet": [
           {
            "colorbar": {
             "outlinewidth": 0,
             "ticks": ""
            },
            "type": "contourcarpet"
           }
          ],
          "heatmap": [
           {
            "colorbar": {
             "outlinewidth": 0,
             "ticks": ""
            },
            "colorscale": [
             [
              0,
              "#0d0887"
             ],
             [
              0.1111111111111111,
              "#46039f"
             ],
             [
              0.2222222222222222,
              "#7201a8"
             ],
             [
              0.3333333333333333,
              "#9c179e"
             ],
             [
              0.4444444444444444,
              "#bd3786"
             ],
             [
              0.5555555555555556,
              "#d8576b"
             ],
             [
              0.6666666666666666,
              "#ed7953"
             ],
             [
              0.7777777777777778,
              "#fb9f3a"
             ],
             [
              0.8888888888888888,
              "#fdca26"
             ],
             [
              1,
              "#f0f921"
             ]
            ],
            "type": "heatmap"
           }
          ],
          "heatmapgl": [
           {
            "colorbar": {
             "outlinewidth": 0,
             "ticks": ""
            },
            "colorscale": [
             [
              0,
              "#0d0887"
             ],
             [
              0.1111111111111111,
              "#46039f"
             ],
             [
              0.2222222222222222,
              "#7201a8"
             ],
             [
              0.3333333333333333,
              "#9c179e"
             ],
             [
              0.4444444444444444,
              "#bd3786"
             ],
             [
              0.5555555555555556,
              "#d8576b"
             ],
             [
              0.6666666666666666,
              "#ed7953"
             ],
             [
              0.7777777777777778,
              "#fb9f3a"
             ],
             [
              0.8888888888888888,
              "#fdca26"
             ],
             [
              1,
              "#f0f921"
             ]
            ],
            "type": "heatmapgl"
           }
          ],
          "histogram": [
           {
            "marker": {
             "pattern": {
              "fillmode": "overlay",
              "size": 10,
              "solidity": 0.2
             }
            },
            "type": "histogram"
           }
          ],
          "histogram2d": [
           {
            "colorbar": {
             "outlinewidth": 0,
             "ticks": ""
            },
            "colorscale": [
             [
              0,
              "#0d0887"
             ],
             [
              0.1111111111111111,
              "#46039f"
             ],
             [
              0.2222222222222222,
              "#7201a8"
             ],
             [
              0.3333333333333333,
              "#9c179e"
             ],
             [
              0.4444444444444444,
              "#bd3786"
             ],
             [
              0.5555555555555556,
              "#d8576b"
             ],
             [
              0.6666666666666666,
              "#ed7953"
             ],
             [
              0.7777777777777778,
              "#fb9f3a"
             ],
             [
              0.8888888888888888,
              "#fdca26"
             ],
             [
              1,
              "#f0f921"
             ]
            ],
            "type": "histogram2d"
           }
          ],
          "histogram2dcontour": [
           {
            "colorbar": {
             "outlinewidth": 0,
             "ticks": ""
            },
            "colorscale": [
             [
              0,
              "#0d0887"
             ],
             [
              0.1111111111111111,
              "#46039f"
             ],
             [
              0.2222222222222222,
              "#7201a8"
             ],
             [
              0.3333333333333333,
              "#9c179e"
             ],
             [
              0.4444444444444444,
              "#bd3786"
             ],
             [
              0.5555555555555556,
              "#d8576b"
             ],
             [
              0.6666666666666666,
              "#ed7953"
             ],
             [
              0.7777777777777778,
              "#fb9f3a"
             ],
             [
              0.8888888888888888,
              "#fdca26"
             ],
             [
              1,
              "#f0f921"
             ]
            ],
            "type": "histogram2dcontour"
           }
          ],
          "mesh3d": [
           {
            "colorbar": {
             "outlinewidth": 0,
             "ticks": ""
            },
            "type": "mesh3d"
           }
          ],
          "parcoords": [
           {
            "line": {
             "colorbar": {
              "outlinewidth": 0,
              "ticks": ""
             }
            },
            "type": "parcoords"
           }
          ],
          "pie": [
           {
            "automargin": true,
            "type": "pie"
           }
          ],
          "scatter": [
           {
            "marker": {
             "colorbar": {
              "outlinewidth": 0,
              "ticks": ""
             }
            },
            "type": "scatter"
           }
          ],
          "scatter3d": [
           {
            "line": {
             "colorbar": {
              "outlinewidth": 0,
              "ticks": ""
             }
            },
            "marker": {
             "colorbar": {
              "outlinewidth": 0,
              "ticks": ""
             }
            },
            "type": "scatter3d"
           }
          ],
          "scattercarpet": [
           {
            "marker": {
             "colorbar": {
              "outlinewidth": 0,
              "ticks": ""
             }
            },
            "type": "scattercarpet"
           }
          ],
          "scattergeo": [
           {
            "marker": {
             "colorbar": {
              "outlinewidth": 0,
              "ticks": ""
             }
            },
            "type": "scattergeo"
           }
          ],
          "scattergl": [
           {
            "marker": {
             "colorbar": {
              "outlinewidth": 0,
              "ticks": ""
             }
            },
            "type": "scattergl"
           }
          ],
          "scattermapbox": [
           {
            "marker": {
             "colorbar": {
              "outlinewidth": 0,
              "ticks": ""
             }
            },
            "type": "scattermapbox"
           }
          ],
          "scatterpolar": [
           {
            "marker": {
             "colorbar": {
              "outlinewidth": 0,
              "ticks": ""
             }
            },
            "type": "scatterpolar"
           }
          ],
          "scatterpolargl": [
           {
            "marker": {
             "colorbar": {
              "outlinewidth": 0,
              "ticks": ""
             }
            },
            "type": "scatterpolargl"
           }
          ],
          "scatterternary": [
           {
            "marker": {
             "colorbar": {
              "outlinewidth": 0,
              "ticks": ""
             }
            },
            "type": "scatterternary"
           }
          ],
          "surface": [
           {
            "colorbar": {
             "outlinewidth": 0,
             "ticks": ""
            },
            "colorscale": [
             [
              0,
              "#0d0887"
             ],
             [
              0.1111111111111111,
              "#46039f"
             ],
             [
              0.2222222222222222,
              "#7201a8"
             ],
             [
              0.3333333333333333,
              "#9c179e"
             ],
             [
              0.4444444444444444,
              "#bd3786"
             ],
             [
              0.5555555555555556,
              "#d8576b"
             ],
             [
              0.6666666666666666,
              "#ed7953"
             ],
             [
              0.7777777777777778,
              "#fb9f3a"
             ],
             [
              0.8888888888888888,
              "#fdca26"
             ],
             [
              1,
              "#f0f921"
             ]
            ],
            "type": "surface"
           }
          ],
          "table": [
           {
            "cells": {
             "fill": {
              "color": "#EBF0F8"
             },
             "line": {
              "color": "white"
             }
            },
            "header": {
             "fill": {
              "color": "#C8D4E3"
             },
             "line": {
              "color": "white"
             }
            },
            "type": "table"
           }
          ]
         },
         "layout": {
          "annotationdefaults": {
           "arrowcolor": "#2a3f5f",
           "arrowhead": 0,
           "arrowwidth": 1
          },
          "autotypenumbers": "strict",
          "coloraxis": {
           "colorbar": {
            "outlinewidth": 0,
            "ticks": ""
           }
          },
          "colorscale": {
           "diverging": [
            [
             0,
             "#8e0152"
            ],
            [
             0.1,
             "#c51b7d"
            ],
            [
             0.2,
             "#de77ae"
            ],
            [
             0.3,
             "#f1b6da"
            ],
            [
             0.4,
             "#fde0ef"
            ],
            [
             0.5,
             "#f7f7f7"
            ],
            [
             0.6,
             "#e6f5d0"
            ],
            [
             0.7,
             "#b8e186"
            ],
            [
             0.8,
             "#7fbc41"
            ],
            [
             0.9,
             "#4d9221"
            ],
            [
             1,
             "#276419"
            ]
           ],
           "sequential": [
            [
             0,
             "#0d0887"
            ],
            [
             0.1111111111111111,
             "#46039f"
            ],
            [
             0.2222222222222222,
             "#7201a8"
            ],
            [
             0.3333333333333333,
             "#9c179e"
            ],
            [
             0.4444444444444444,
             "#bd3786"
            ],
            [
             0.5555555555555556,
             "#d8576b"
            ],
            [
             0.6666666666666666,
             "#ed7953"
            ],
            [
             0.7777777777777778,
             "#fb9f3a"
            ],
            [
             0.8888888888888888,
             "#fdca26"
            ],
            [
             1,
             "#f0f921"
            ]
           ],
           "sequentialminus": [
            [
             0,
             "#0d0887"
            ],
            [
             0.1111111111111111,
             "#46039f"
            ],
            [
             0.2222222222222222,
             "#7201a8"
            ],
            [
             0.3333333333333333,
             "#9c179e"
            ],
            [
             0.4444444444444444,
             "#bd3786"
            ],
            [
             0.5555555555555556,
             "#d8576b"
            ],
            [
             0.6666666666666666,
             "#ed7953"
            ],
            [
             0.7777777777777778,
             "#fb9f3a"
            ],
            [
             0.8888888888888888,
             "#fdca26"
            ],
            [
             1,
             "#f0f921"
            ]
           ]
          },
          "colorway": [
           "#636efa",
           "#EF553B",
           "#00cc96",
           "#ab63fa",
           "#FFA15A",
           "#19d3f3",
           "#FF6692",
           "#B6E880",
           "#FF97FF",
           "#FECB52"
          ],
          "font": {
           "color": "#2a3f5f"
          },
          "geo": {
           "bgcolor": "white",
           "lakecolor": "white",
           "landcolor": "#E5ECF6",
           "showlakes": true,
           "showland": true,
           "subunitcolor": "white"
          },
          "hoverlabel": {
           "align": "left"
          },
          "hovermode": "closest",
          "mapbox": {
           "style": "light"
          },
          "paper_bgcolor": "white",
          "plot_bgcolor": "#E5ECF6",
          "polar": {
           "angularaxis": {
            "gridcolor": "white",
            "linecolor": "white",
            "ticks": ""
           },
           "bgcolor": "#E5ECF6",
           "radialaxis": {
            "gridcolor": "white",
            "linecolor": "white",
            "ticks": ""
           }
          },
          "scene": {
           "xaxis": {
            "backgroundcolor": "#E5ECF6",
            "gridcolor": "white",
            "gridwidth": 2,
            "linecolor": "white",
            "showbackground": true,
            "ticks": "",
            "zerolinecolor": "white"
           },
           "yaxis": {
            "backgroundcolor": "#E5ECF6",
            "gridcolor": "white",
            "gridwidth": 2,
            "linecolor": "white",
            "showbackground": true,
            "ticks": "",
            "zerolinecolor": "white"
           },
           "zaxis": {
            "backgroundcolor": "#E5ECF6",
            "gridcolor": "white",
            "gridwidth": 2,
            "linecolor": "white",
            "showbackground": true,
            "ticks": "",
            "zerolinecolor": "white"
           }
          },
          "shapedefaults": {
           "line": {
            "color": "#2a3f5f"
           }
          },
          "ternary": {
           "aaxis": {
            "gridcolor": "white",
            "linecolor": "white",
            "ticks": ""
           },
           "baxis": {
            "gridcolor": "white",
            "linecolor": "white",
            "ticks": ""
           },
           "bgcolor": "#E5ECF6",
           "caxis": {
            "gridcolor": "white",
            "linecolor": "white",
            "ticks": ""
           }
          },
          "title": {
           "x": 0.05
          },
          "xaxis": {
           "automargin": true,
           "gridcolor": "white",
           "linecolor": "white",
           "ticks": "",
           "title": {
            "standoff": 15
           },
           "zerolinecolor": "white",
           "zerolinewidth": 2
          },
          "yaxis": {
           "automargin": true,
           "gridcolor": "white",
           "linecolor": "white",
           "ticks": "",
           "title": {
            "standoff": 15
           },
           "zerolinecolor": "white",
           "zerolinewidth": 2
          }
         }
        },
        "title": {
         "text": "Optimization History Plot"
        },
        "xaxis": {
         "title": {
          "text": "#Trials"
         }
        },
        "yaxis": {
         "title": {
          "text": "Objective Value"
         }
        }
       }
      },
      "text/html": [
       "<div>                            <div id=\"59e1a552-5979-40f4-944b-b4ef100a63e9\" class=\"plotly-graph-div\" style=\"height:525px; width:100%;\"></div>            <script type=\"text/javascript\">                require([\"plotly\"], function(Plotly) {                    window.PLOTLYENV=window.PLOTLYENV || {};                                    if (document.getElementById(\"59e1a552-5979-40f4-944b-b4ef100a63e9\")) {                    Plotly.newPlot(                        \"59e1a552-5979-40f4-944b-b4ef100a63e9\",                        [{\"mode\":\"markers\",\"name\":\"Objective Value\",\"x\":[0,1,2,3,4,5,6,7,8,9,10,11,12,13,14,15,16,17,18,19,20,21,22,23,24,25,26,27,28,29,30,31,32,33,34,35,36,37,38,39,40,41,42,43,44,45,46,47,48,49,50,51,52,53,54,55,56,57,58,59,60,61,62,63,64,65,66,67,68,69,70,71,72,73,74,75,76,77,78,79,80,81,82,83,84,85,86,87,88,89,90,91,92,93,94,95,96,97,98,99],\"y\":[0.003296546870842576,0.014186839573085308,0.003328382968902588,0.003387733828276396,0.018376944586634636,0.0031809292268007994,0.0033983939792960882,0.010726194828748703,0.003190858056768775,0.022609153762459755,0.0038097158540040255,0.003107657190412283,0.003040011739358306,0.003024704521521926,0.003145871451124549,0.0031434709671884775,0.0030307744164019823,0.0028049664106220007,0.0027171033434569836,0.003070726990699768,0.004707153420895338,0.0030950859654694796,0.0028790722135454416,0.0029677734710276127,0.0029021098744124174,0.0032947701402008533,0.002952311420813203,0.002914290176704526,0.012918324209749699,0.002960614860057831,0.0029688214417546988,0.003063093638047576,0.0027807268779724836,0.00276244361884892,0.0027467969339340925,0.0028134777676314116,0.0029514124616980553,0.0026620356366038322,0.0028169360011816025,0.0032377864699810743,0.00291583314538002,0.002749920357018709,0.002807936631143093,0.0028295714873820543,0.0030490525532513857,0.0029134328942745924,0.0029881191439926624,0.004904674366116524,0.018075961619615555,0.0035011719446629286,0.00275845592841506,0.003002178156748414,0.003555990057066083,0.002797669032588601,0.0028641826938837767,0.00269891694188118,0.00623682327568531,0.005243586841970682,0.0028521057683974504,0.0029868348501622677,0.0029359101317822933,0.002750119660049677,0.002760121366009116,0.0031593204475939274,0.005814182106405497,0.0028271202463656664,0.002819292712956667,0.002855384722352028,0.00868307612836361,0.0028747643809765577,0.0028716789092868567,0.002642750972881913,0.0028543747030198574,0.002605059649795294,0.004343060310930014,0.00290241208858788,0.0029473421163856983,0.0027725067920982838,0.0030222563073039055,0.002722284058108926,0.002916947240009904,0.0028018862940371037,0.0029747725930064917,0.0027879567351192236,0.0033569971565157175,0.0028680721297860146,0.0027781527023762465,0.0051566860638558865,0.0028345752507448196,0.003036292502656579,0.0068087768740952015,0.004714437294751406,0.004360889084637165,0.002919034566730261,0.0027122115716338158,0.003000096883624792,0.002896268852055073,0.0032389406114816666,0.0034115156158804893,0.0030354675836861134],\"type\":\"scatter\"},{\"name\":\"Best Value\",\"x\":[0,1,2,3,4,5,6,7,8,9,10,11,12,13,14,15,16,17,18,19,20,21,22,23,24,25,26,27,28,29,30,31,32,33,34,35,36,37,38,39,40,41,42,43,44,45,46,47,48,49,50,51,52,53,54,55,56,57,58,59,60,61,62,63,64,65,66,67,68,69,70,71,72,73,74,75,76,77,78,79,80,81,82,83,84,85,86,87,88,89,90,91,92,93,94,95,96,97,98,99],\"y\":[0.003296546870842576,0.003296546870842576,0.003296546870842576,0.003296546870842576,0.003296546870842576,0.0031809292268007994,0.0031809292268007994,0.0031809292268007994,0.0031809292268007994,0.0031809292268007994,0.0031809292268007994,0.003107657190412283,0.003040011739358306,0.003024704521521926,0.003024704521521926,0.003024704521521926,0.003024704521521926,0.0028049664106220007,0.0027171033434569836,0.0027171033434569836,0.0027171033434569836,0.0027171033434569836,0.0027171033434569836,0.0027171033434569836,0.0027171033434569836,0.0027171033434569836,0.0027171033434569836,0.0027171033434569836,0.0027171033434569836,0.0027171033434569836,0.0027171033434569836,0.0027171033434569836,0.0027171033434569836,0.0027171033434569836,0.0027171033434569836,0.0027171033434569836,0.0027171033434569836,0.0026620356366038322,0.0026620356366038322,0.0026620356366038322,0.0026620356366038322,0.0026620356366038322,0.0026620356366038322,0.0026620356366038322,0.0026620356366038322,0.0026620356366038322,0.0026620356366038322,0.0026620356366038322,0.0026620356366038322,0.0026620356366038322,0.0026620356366038322,0.0026620356366038322,0.0026620356366038322,0.0026620356366038322,0.0026620356366038322,0.0026620356366038322,0.0026620356366038322,0.0026620356366038322,0.0026620356366038322,0.0026620356366038322,0.0026620356366038322,0.0026620356366038322,0.0026620356366038322,0.0026620356366038322,0.0026620356366038322,0.0026620356366038322,0.0026620356366038322,0.0026620356366038322,0.0026620356366038322,0.0026620356366038322,0.0026620356366038322,0.002642750972881913,0.002642750972881913,0.002605059649795294,0.002605059649795294,0.002605059649795294,0.002605059649795294,0.002605059649795294,0.002605059649795294,0.002605059649795294,0.002605059649795294,0.002605059649795294,0.002605059649795294,0.002605059649795294,0.002605059649795294,0.002605059649795294,0.002605059649795294,0.002605059649795294,0.002605059649795294,0.002605059649795294,0.002605059649795294,0.002605059649795294,0.002605059649795294,0.002605059649795294,0.002605059649795294,0.002605059649795294,0.002605059649795294,0.002605059649795294,0.002605059649795294,0.002605059649795294],\"type\":\"scatter\"}],                        {\"title\":{\"text\":\"Optimization History Plot\"},\"xaxis\":{\"title\":{\"text\":\"#Trials\"}},\"yaxis\":{\"title\":{\"text\":\"Objective Value\"}},\"template\":{\"data\":{\"bar\":[{\"error_x\":{\"color\":\"#2a3f5f\"},\"error_y\":{\"color\":\"#2a3f5f\"},\"marker\":{\"line\":{\"color\":\"#E5ECF6\",\"width\":0.5},\"pattern\":{\"fillmode\":\"overlay\",\"size\":10,\"solidity\":0.2}},\"type\":\"bar\"}],\"barpolar\":[{\"marker\":{\"line\":{\"color\":\"#E5ECF6\",\"width\":0.5},\"pattern\":{\"fillmode\":\"overlay\",\"size\":10,\"solidity\":0.2}},\"type\":\"barpolar\"}],\"carpet\":[{\"aaxis\":{\"endlinecolor\":\"#2a3f5f\",\"gridcolor\":\"white\",\"linecolor\":\"white\",\"minorgridcolor\":\"white\",\"startlinecolor\":\"#2a3f5f\"},\"baxis\":{\"endlinecolor\":\"#2a3f5f\",\"gridcolor\":\"white\",\"linecolor\":\"white\",\"minorgridcolor\":\"white\",\"startlinecolor\":\"#2a3f5f\"},\"type\":\"carpet\"}],\"choropleth\":[{\"colorbar\":{\"outlinewidth\":0,\"ticks\":\"\"},\"type\":\"choropleth\"}],\"contour\":[{\"colorbar\":{\"outlinewidth\":0,\"ticks\":\"\"},\"colorscale\":[[0.0,\"#0d0887\"],[0.1111111111111111,\"#46039f\"],[0.2222222222222222,\"#7201a8\"],[0.3333333333333333,\"#9c179e\"],[0.4444444444444444,\"#bd3786\"],[0.5555555555555556,\"#d8576b\"],[0.6666666666666666,\"#ed7953\"],[0.7777777777777778,\"#fb9f3a\"],[0.8888888888888888,\"#fdca26\"],[1.0,\"#f0f921\"]],\"type\":\"contour\"}],\"contourcarpet\":[{\"colorbar\":{\"outlinewidth\":0,\"ticks\":\"\"},\"type\":\"contourcarpet\"}],\"heatmap\":[{\"colorbar\":{\"outlinewidth\":0,\"ticks\":\"\"},\"colorscale\":[[0.0,\"#0d0887\"],[0.1111111111111111,\"#46039f\"],[0.2222222222222222,\"#7201a8\"],[0.3333333333333333,\"#9c179e\"],[0.4444444444444444,\"#bd3786\"],[0.5555555555555556,\"#d8576b\"],[0.6666666666666666,\"#ed7953\"],[0.7777777777777778,\"#fb9f3a\"],[0.8888888888888888,\"#fdca26\"],[1.0,\"#f0f921\"]],\"type\":\"heatmap\"}],\"heatmapgl\":[{\"colorbar\":{\"outlinewidth\":0,\"ticks\":\"\"},\"colorscale\":[[0.0,\"#0d0887\"],[0.1111111111111111,\"#46039f\"],[0.2222222222222222,\"#7201a8\"],[0.3333333333333333,\"#9c179e\"],[0.4444444444444444,\"#bd3786\"],[0.5555555555555556,\"#d8576b\"],[0.6666666666666666,\"#ed7953\"],[0.7777777777777778,\"#fb9f3a\"],[0.8888888888888888,\"#fdca26\"],[1.0,\"#f0f921\"]],\"type\":\"heatmapgl\"}],\"histogram\":[{\"marker\":{\"pattern\":{\"fillmode\":\"overlay\",\"size\":10,\"solidity\":0.2}},\"type\":\"histogram\"}],\"histogram2d\":[{\"colorbar\":{\"outlinewidth\":0,\"ticks\":\"\"},\"colorscale\":[[0.0,\"#0d0887\"],[0.1111111111111111,\"#46039f\"],[0.2222222222222222,\"#7201a8\"],[0.3333333333333333,\"#9c179e\"],[0.4444444444444444,\"#bd3786\"],[0.5555555555555556,\"#d8576b\"],[0.6666666666666666,\"#ed7953\"],[0.7777777777777778,\"#fb9f3a\"],[0.8888888888888888,\"#fdca26\"],[1.0,\"#f0f921\"]],\"type\":\"histogram2d\"}],\"histogram2dcontour\":[{\"colorbar\":{\"outlinewidth\":0,\"ticks\":\"\"},\"colorscale\":[[0.0,\"#0d0887\"],[0.1111111111111111,\"#46039f\"],[0.2222222222222222,\"#7201a8\"],[0.3333333333333333,\"#9c179e\"],[0.4444444444444444,\"#bd3786\"],[0.5555555555555556,\"#d8576b\"],[0.6666666666666666,\"#ed7953\"],[0.7777777777777778,\"#fb9f3a\"],[0.8888888888888888,\"#fdca26\"],[1.0,\"#f0f921\"]],\"type\":\"histogram2dcontour\"}],\"mesh3d\":[{\"colorbar\":{\"outlinewidth\":0,\"ticks\":\"\"},\"type\":\"mesh3d\"}],\"parcoords\":[{\"line\":{\"colorbar\":{\"outlinewidth\":0,\"ticks\":\"\"}},\"type\":\"parcoords\"}],\"pie\":[{\"automargin\":true,\"type\":\"pie\"}],\"scatter\":[{\"marker\":{\"colorbar\":{\"outlinewidth\":0,\"ticks\":\"\"}},\"type\":\"scatter\"}],\"scatter3d\":[{\"line\":{\"colorbar\":{\"outlinewidth\":0,\"ticks\":\"\"}},\"marker\":{\"colorbar\":{\"outlinewidth\":0,\"ticks\":\"\"}},\"type\":\"scatter3d\"}],\"scattercarpet\":[{\"marker\":{\"colorbar\":{\"outlinewidth\":0,\"ticks\":\"\"}},\"type\":\"scattercarpet\"}],\"scattergeo\":[{\"marker\":{\"colorbar\":{\"outlinewidth\":0,\"ticks\":\"\"}},\"type\":\"scattergeo\"}],\"scattergl\":[{\"marker\":{\"colorbar\":{\"outlinewidth\":0,\"ticks\":\"\"}},\"type\":\"scattergl\"}],\"scattermapbox\":[{\"marker\":{\"colorbar\":{\"outlinewidth\":0,\"ticks\":\"\"}},\"type\":\"scattermapbox\"}],\"scatterpolar\":[{\"marker\":{\"colorbar\":{\"outlinewidth\":0,\"ticks\":\"\"}},\"type\":\"scatterpolar\"}],\"scatterpolargl\":[{\"marker\":{\"colorbar\":{\"outlinewidth\":0,\"ticks\":\"\"}},\"type\":\"scatterpolargl\"}],\"scatterternary\":[{\"marker\":{\"colorbar\":{\"outlinewidth\":0,\"ticks\":\"\"}},\"type\":\"scatterternary\"}],\"surface\":[{\"colorbar\":{\"outlinewidth\":0,\"ticks\":\"\"},\"colorscale\":[[0.0,\"#0d0887\"],[0.1111111111111111,\"#46039f\"],[0.2222222222222222,\"#7201a8\"],[0.3333333333333333,\"#9c179e\"],[0.4444444444444444,\"#bd3786\"],[0.5555555555555556,\"#d8576b\"],[0.6666666666666666,\"#ed7953\"],[0.7777777777777778,\"#fb9f3a\"],[0.8888888888888888,\"#fdca26\"],[1.0,\"#f0f921\"]],\"type\":\"surface\"}],\"table\":[{\"cells\":{\"fill\":{\"color\":\"#EBF0F8\"},\"line\":{\"color\":\"white\"}},\"header\":{\"fill\":{\"color\":\"#C8D4E3\"},\"line\":{\"color\":\"white\"}},\"type\":\"table\"}]},\"layout\":{\"annotationdefaults\":{\"arrowcolor\":\"#2a3f5f\",\"arrowhead\":0,\"arrowwidth\":1},\"autotypenumbers\":\"strict\",\"coloraxis\":{\"colorbar\":{\"outlinewidth\":0,\"ticks\":\"\"}},\"colorscale\":{\"diverging\":[[0,\"#8e0152\"],[0.1,\"#c51b7d\"],[0.2,\"#de77ae\"],[0.3,\"#f1b6da\"],[0.4,\"#fde0ef\"],[0.5,\"#f7f7f7\"],[0.6,\"#e6f5d0\"],[0.7,\"#b8e186\"],[0.8,\"#7fbc41\"],[0.9,\"#4d9221\"],[1,\"#276419\"]],\"sequential\":[[0.0,\"#0d0887\"],[0.1111111111111111,\"#46039f\"],[0.2222222222222222,\"#7201a8\"],[0.3333333333333333,\"#9c179e\"],[0.4444444444444444,\"#bd3786\"],[0.5555555555555556,\"#d8576b\"],[0.6666666666666666,\"#ed7953\"],[0.7777777777777778,\"#fb9f3a\"],[0.8888888888888888,\"#fdca26\"],[1.0,\"#f0f921\"]],\"sequentialminus\":[[0.0,\"#0d0887\"],[0.1111111111111111,\"#46039f\"],[0.2222222222222222,\"#7201a8\"],[0.3333333333333333,\"#9c179e\"],[0.4444444444444444,\"#bd3786\"],[0.5555555555555556,\"#d8576b\"],[0.6666666666666666,\"#ed7953\"],[0.7777777777777778,\"#fb9f3a\"],[0.8888888888888888,\"#fdca26\"],[1.0,\"#f0f921\"]]},\"colorway\":[\"#636efa\",\"#EF553B\",\"#00cc96\",\"#ab63fa\",\"#FFA15A\",\"#19d3f3\",\"#FF6692\",\"#B6E880\",\"#FF97FF\",\"#FECB52\"],\"font\":{\"color\":\"#2a3f5f\"},\"geo\":{\"bgcolor\":\"white\",\"lakecolor\":\"white\",\"landcolor\":\"#E5ECF6\",\"showlakes\":true,\"showland\":true,\"subunitcolor\":\"white\"},\"hoverlabel\":{\"align\":\"left\"},\"hovermode\":\"closest\",\"mapbox\":{\"style\":\"light\"},\"paper_bgcolor\":\"white\",\"plot_bgcolor\":\"#E5ECF6\",\"polar\":{\"angularaxis\":{\"gridcolor\":\"white\",\"linecolor\":\"white\",\"ticks\":\"\"},\"bgcolor\":\"#E5ECF6\",\"radialaxis\":{\"gridcolor\":\"white\",\"linecolor\":\"white\",\"ticks\":\"\"}},\"scene\":{\"xaxis\":{\"backgroundcolor\":\"#E5ECF6\",\"gridcolor\":\"white\",\"gridwidth\":2,\"linecolor\":\"white\",\"showbackground\":true,\"ticks\":\"\",\"zerolinecolor\":\"white\"},\"yaxis\":{\"backgroundcolor\":\"#E5ECF6\",\"gridcolor\":\"white\",\"gridwidth\":2,\"linecolor\":\"white\",\"showbackground\":true,\"ticks\":\"\",\"zerolinecolor\":\"white\"},\"zaxis\":{\"backgroundcolor\":\"#E5ECF6\",\"gridcolor\":\"white\",\"gridwidth\":2,\"linecolor\":\"white\",\"showbackground\":true,\"ticks\":\"\",\"zerolinecolor\":\"white\"}},\"shapedefaults\":{\"line\":{\"color\":\"#2a3f5f\"}},\"ternary\":{\"aaxis\":{\"gridcolor\":\"white\",\"linecolor\":\"white\",\"ticks\":\"\"},\"baxis\":{\"gridcolor\":\"white\",\"linecolor\":\"white\",\"ticks\":\"\"},\"bgcolor\":\"#E5ECF6\",\"caxis\":{\"gridcolor\":\"white\",\"linecolor\":\"white\",\"ticks\":\"\"}},\"title\":{\"x\":0.05},\"xaxis\":{\"automargin\":true,\"gridcolor\":\"white\",\"linecolor\":\"white\",\"ticks\":\"\",\"title\":{\"standoff\":15},\"zerolinecolor\":\"white\",\"zerolinewidth\":2},\"yaxis\":{\"automargin\":true,\"gridcolor\":\"white\",\"linecolor\":\"white\",\"ticks\":\"\",\"title\":{\"standoff\":15},\"zerolinecolor\":\"white\",\"zerolinewidth\":2}}}},                        {\"responsive\": true}                    ).then(function(){\n",
       "                            \n",
       "var gd = document.getElementById('59e1a552-5979-40f4-944b-b4ef100a63e9');\n",
       "var x = new MutationObserver(function (mutations, observer) {{\n",
       "        var display = window.getComputedStyle(gd).display;\n",
       "        if (!display || display === 'none') {{\n",
       "            console.log([gd, 'removed!']);\n",
       "            Plotly.purge(gd);\n",
       "            observer.disconnect();\n",
       "        }}\n",
       "}});\n",
       "\n",
       "// Listen for the removal of the full notebook cells\n",
       "var notebookContainer = gd.closest('#notebook-container');\n",
       "if (notebookContainer) {{\n",
       "    x.observe(notebookContainer, {childList: true});\n",
       "}}\n",
       "\n",
       "// Listen for the clearing of the current output cell\n",
       "var outputEl = gd.closest('.output');\n",
       "if (outputEl) {{\n",
       "    x.observe(outputEl, {childList: true});\n",
       "}}\n",
       "\n",
       "                        })                };                });            </script>        </div>"
      ]
     },
     "metadata": {},
     "output_type": "display_data"
    }
   ],
   "source": [
    "optuna.visualization.plot_optimization_history(study)\n"
   ]
  },
  {
   "cell_type": "code",
   "execution_count": 35,
   "metadata": {},
   "outputs": [
    {
     "data": {
      "application/vnd.plotly.v1+json": {
       "config": {
        "plotlyServerURL": "https://plot.ly"
       },
       "data": [
        {
         "dimensions": [
          {
           "label": "Objective Value",
           "range": [
            0.002605059649795294,
            0.022609153762459755
           ],
           "values": [
            0.003387733828276396,
            0.0033983939792960882,
            0.010726194828748703,
            0.004707153420895338,
            0.012918324209749699,
            0.018075961619615555,
            0.002750119660049677,
            0.002760121366009116,
            0.0031593204475939274,
            0.005814182106405497,
            0.0028271202463656664,
            0.002819292712956667,
            0.0028747643809765577,
            0.002642750972881913,
            0.0028543747030198574,
            0.002605059649795294,
            0.004343060310930014,
            0.00290241208858788,
            0.0029473421163856983,
            0.0027725067920982838,
            0.0030222563073039055,
            0.002722284058108926,
            0.002916947240009904,
            0.0028018862940371037,
            0.0029747725930064917,
            0.0027879567351192236,
            0.0033569971565157175,
            0.0028680721297860146,
            0.0027781527023762465,
            0.0051566860638558865,
            0.0068087768740952015,
            0.014186839573085308,
            0.003328382968902588,
            0.018376944586634636,
            0.0031809292268007994,
            0.0038097158540040255,
            0.0027467969339340925,
            0.0028134777676314116,
            0.0029514124616980553,
            0.0026620356366038322,
            0.0028169360011816025,
            0.0032377864699810743,
            0.00291583314538002,
            0.002749920357018709,
            0.002807936631143093,
            0.0028295714873820543,
            0.0030490525532513857,
            0.0029134328942745924,
            0.0029881191439926624,
            0.004904674366116524,
            0.0035011719446629286,
            0.00275845592841506,
            0.003002178156748414,
            0.003555990057066083,
            0.002797669032588601,
            0.0028641826938837767,
            0.00269891694188118,
            0.00623682327568531,
            0.005243586841970682,
            0.0028521057683974504,
            0.0029868348501622677,
            0.0029359101317822933,
            0.002855384722352028,
            0.00868307612836361,
            0.0028716789092868567,
            0.003036292502656579,
            0.004714437294751406,
            0.004360889084637165,
            0.002919034566730261,
            0.0027122115716338158,
            0.003000096883624792,
            0.002896268852055073,
            0.0034115156158804893,
            0.0030354675836861134,
            0.003296546870842576,
            0.003190858056768775,
            0.022609153762459755,
            0.003107657190412283,
            0.003040011739358306,
            0.003024704521521926,
            0.003145871451124549,
            0.0031434709671884775,
            0.0030307744164019823,
            0.0028049664106220007,
            0.0027171033434569836,
            0.003070726990699768,
            0.0030950859654694796,
            0.0028790722135454416,
            0.0029677734710276127,
            0.0029021098744124174,
            0.0032947701402008533,
            0.002952311420813203,
            0.002914290176704526,
            0.002960614860057831,
            0.0029688214417546988,
            0.003063093638047576,
            0.0027807268779724836,
            0.00276244361884892,
            0.0028345752507448196,
            0.0032389406114816666
           ]
          },
          {
           "label": "beta1",
           "range": [
            0.20354537520680527,
            0.8957378782262495
           ],
           "values": [
            0.6897217198610255,
            0.7766936763834433,
            0.25514741661743073,
            0.3674223444950513,
            0.4550071519744036,
            0.6508433105527851,
            0.529756012438065,
            0.29153035637945235,
            0.5294668440471636,
            0.4756770940446717,
            0.5924852866233128,
            0.42819621480024017,
            0.6151500024040804,
            0.3287530107872564,
            0.38101372651317167,
            0.33784723988355825,
            0.33681895423802266,
            0.2755360221101849,
            0.23506679744139336,
            0.49584838422828137,
            0.6845938392581966,
            0.5920829361221213,
            0.5862439093531564,
            0.6281947326881623,
            0.5559745956471752,
            0.604131595492909,
            0.5664632182843478,
            0.6355028073205125,
            0.6137436146466291,
            0.31629811121075224,
            0.7252437691226057,
            0.49810512404765134,
            0.5668128997778559,
            0.3601567661860403,
            0.8408238966874,
            0.8760691177816156,
            0.6211179278780706,
            0.648381572158983,
            0.5745330662957282,
            0.5410549917527033,
            0.6620766756923716,
            0.7933634076959674,
            0.5375081167838821,
            0.5360084982067274,
            0.5994240138137131,
            0.5447443235324979,
            0.7396473451382406,
            0.4581406009596839,
            0.5767685207260432,
            0.6728268875634417,
            0.7057419286352282,
            0.379825259580552,
            0.37820895327428006,
            0.3164882238963218,
            0.20354537520680527,
            0.39762289482651897,
            0.33309070060241996,
            0.33921938036070276,
            0.30982197739558553,
            0.47161265417294307,
            0.24109060493849194,
            0.4087316806621259,
            0.5203029786368513,
            0.557406606785833,
            0.3552965809099412,
            0.4388512885062543,
            0.3409741997051662,
            0.3032318678751361,
            0.35396230767702286,
            0.3812493301939346,
            0.5458324013807624,
            0.32968395116081295,
            0.2710258930392941,
            0.5812196312576434,
            0.5641676435954996,
            0.8957378782262495,
            0.4978223727310294,
            0.8776871431640113,
            0.7348386561733672,
            0.7070565235002179,
            0.7049793786778421,
            0.6725315362682149,
            0.7662336700559094,
            0.6158624342578893,
            0.6026271362216988,
            0.6241500130893647,
            0.6302298825471897,
            0.49210828033458953,
            0.43673773106730984,
            0.5023612163893696,
            0.4151703775206346,
            0.6039212703550428,
            0.2692979395316929,
            0.5515996856143769,
            0.5772306508766958,
            0.5103669656877863,
            0.512732092244284,
            0.6441772415673584,
            0.528355200449655,
            0.6582656517716902
           ]
          },
          {
           "label": "beta2",
           "range": [
            -0.04571258745742437,
            -0.000623000732541884
           ],
           "ticktext": [
            "0.9",
            "0.999"
           ],
           "tickvals": [
            -0.04571258745742437,
            -0.000623000732541884
           ],
           "values": [
            -0.037398070247572614,
            -0.025840703704309336,
            -0.02189785937300641,
            -0.016456029331019268,
            -0.007740126780313427,
            -0.021172157979227214,
            -0.025517144813706236,
            -0.02677930077432526,
            -0.026242802411329685,
            -0.020020108748109645,
            -0.022821330765673626,
            -0.025235309379853306,
            -0.018530859364535666,
            -0.026701612099576524,
            -0.025644306381260553,
            -0.027853064172780075,
            -0.02430035832278416,
            -0.02269130669012106,
            -0.027165915989268687,
            -0.028460593597553305,
            -0.023706474869136084,
            -0.01689763916872404,
            -0.017458219193958267,
            -0.013237072439529764,
            -0.009555228153625488,
            -0.012098782026201892,
            -0.02170904210761194,
            -0.015201916231705468,
            -0.025727857322857133,
            -0.01682353894803338,
            -0.02770033431363629,
            -0.021737849307934,
            -0.026434530098268523,
            -0.035065401640594955,
            -0.0035116610444273547,
            -0.000623000732541884,
            -0.02375885185472964,
            -0.02982681818287339,
            -0.0245302932227756,
            -0.02353494355572228,
            -0.02919459232145436,
            -0.037737204628576125,
            -0.023069132869158217,
            -0.023053680039498304,
            -0.022813898988910994,
            -0.03331228234054744,
            -0.028263963391773447,
            -0.021204110275738673,
            -0.026957187952641536,
            -0.023827213233510204,
            -0.025052193304737447,
            -0.03149794521458355,
            -0.03242202564474928,
            -0.01883294632070572,
            -0.03994628697950177,
            -0.031372562792230614,
            -0.027184751583804477,
            -0.02763532340276036,
            -0.034577486811230684,
            -0.030973923712109774,
            -0.03711693503496861,
            -0.021911659801394163,
            -0.02842423301125995,
            -0.030033092729301002,
            -0.020477931000640413,
            -0.03033912025625014,
            -0.03159442133316247,
            -0.02916873506139661,
            -0.02661897959468073,
            -0.023495488995167575,
            -0.020156803354202762,
            -0.02218862184993534,
            -0.020793597759305973,
            -0.019145490992803132,
            -0.033246129832666324,
            -0.020436183393245072,
            -0.04571258745742437,
            -0.006246566454268067,
            -0.0020356088018363165,
            -0.010483170637640423,
            -0.011553415238682665,
            -0.013193623939778958,
            -0.011314853091454224,
            -0.01120839697221143,
            -0.014445651814195765,
            -0.016682320271928293,
            -0.008674044225204652,
            -0.016118510721614136,
            -0.01766085480244492,
            -0.014826887038281398,
            -0.006054281895378688,
            -0.02917719781463394,
            -0.01953304690839214,
            -0.025935019103534532,
            -0.013980999623021387,
            -0.014858414916346584,
            -0.01889758936614697,
            -0.024015505626897145,
            -0.024663559649285238,
            -0.02348125330725868
           ]
          },
          {
           "label": "l2",
           "range": [
            -5.905848770682164,
            -2.0029618783898715
           ],
           "ticktext": [
            "1.24e-06",
            "1e-05",
            "0.0001",
            "0.001",
            "0.00993"
           ],
           "tickvals": [
            -5.905848770682164,
            -5,
            -4,
            -3,
            -2.0029618783898715
           ],
           "values": [
            -3.1895396095021193,
            -3.1421154676132907,
            -2.7541181271968993,
            -4.220135490133233,
            -3.9601008869586813,
            -2.6245563568538333,
            -2.458156104620158,
            -2.7450088374309067,
            -2.1117562410075985,
            -2.3713627453248614,
            -2.9486532896732296,
            -2.619457346858893,
            -3.1455292434140976,
            -2.7363985001603726,
            -2.4588841724743373,
            -2.6284638901250226,
            -2.811565650007503,
            -2.9796177501414585,
            -2.563269679585891,
            -2.672587111457488,
            -2.424701842143696,
            -3.015407210170298,
            -3.246934857395925,
            -3.038565387924841,
            -2.8567904936922446,
            -2.7117092302216834,
            -3.6173793713071127,
            -4.064458635177093,
            -2.5681054632746068,
            -2.470322142065055,
            -2.9118435965623233,
            -3.235120153193345,
            -5.812395832903945,
            -3.7856399020851637,
            -5.6771294993538595,
            -5.905848770682164,
            -2.4785095698920347,
            -2.3993176215190024,
            -2.9743090284880624,
            -2.465585633378231,
            -2.4308804073754975,
            -2.174325759799698,
            -3.3375490142194004,
            -2.590583199823879,
            -2.556256734766799,
            -3.0495904295310536,
            -2.1554126870697847,
            -2.501870762498422,
            -2.898640315324514,
            -3.2356251431149867,
            -2.2451619109763046,
            -2.319806151075959,
            -2.0029618783898715,
            -2.3194690206401596,
            -2.532220951628141,
            -3.0851173035275097,
            -2.8448114869111043,
            -2.87534999142557,
            -2.6507692129907117,
            -3.765575101329654,
            -3.3154346430914057,
            -2.30049984102533,
            -2.2164941216377994,
            -2.778239226642233,
            -3.4700986551908755,
            -3.787609175415724,
            -2.2898641176774697,
            -2.336120451617687,
            -2.1887716402904225,
            -2.593053124169851,
            -2.6091333972988475,
            -2.805722202628379,
            -2.509062649439734,
            -3.114162033237026,
            -4.578377396165488,
            -5.2007472969907536,
            -2.315616988598333,
            -5.110030307522273,
            -4.930017066826713,
            -4.6349294764208935,
            -4.283987013988773,
            -4.78698457671067,
            -3.9478601621775753,
            -3.964677884433851,
            -3.616270811387472,
            -3.656905909232397,
            -3.4915188951508385,
            -4.40713927903655,
            -4.115513077676596,
            -2.7477857569060875,
            -4.379696107443344,
            -3.5368402574908093,
            -5.459948600561133,
            -4.49454894723196,
            -2.817512378029898,
            -2.0556845929968532,
            -2.6973281353830334,
            -2.4692613950090063,
            -3.3661621296181177,
            -2.698424987836098
           ]
          },
          {
           "label": "layers",
           "range": [
            2,
            6
           ],
           "values": [
            3,
            6,
            5,
            5,
            4,
            5,
            6,
            6,
            6,
            6,
            6,
            6,
            6,
            6,
            6,
            6,
            6,
            6,
            6,
            6,
            6,
            6,
            6,
            6,
            6,
            6,
            6,
            6,
            6,
            2,
            6,
            6,
            2,
            3,
            2,
            4,
            6,
            6,
            6,
            6,
            6,
            5,
            6,
            6,
            6,
            6,
            5,
            6,
            6,
            4,
            6,
            5,
            5,
            4,
            6,
            5,
            6,
            5,
            4,
            6,
            6,
            5,
            5,
            6,
            5,
            6,
            3,
            4,
            5,
            6,
            6,
            6,
            6,
            6,
            2,
            3,
            4,
            3,
            2,
            3,
            2,
            3,
            4,
            5,
            5,
            5,
            5,
            6,
            6,
            6,
            5,
            6,
            5,
            6,
            5,
            6,
            6,
            6,
            6,
            6
           ]
          },
          {
           "label": "lr",
           "range": [
            -4.954816362158481,
            -1.0283274164527891
           ],
           "ticktext": [
            "1.11e-05",
            "0.0001",
            "0.001",
            "0.01",
            "0.0937"
           ],
           "tickvals": [
            -4.954816362158481,
            -4,
            -3,
            -2,
            -1.0283274164527891
           ],
           "values": [
            -1.7895457047503889,
            -1.759069600178144,
            -4.616462466476858,
            -4.049055879610686,
            -4.389956008608866,
            -4.7029033519744114,
            -3.58034495587149,
            -3.3617182524941476,
            -3.6123002201729286,
            -4.129224785309303,
            -3.940589523528445,
            -3.81580962586818,
            -3.5605496124986304,
            -3.3449301520590162,
            -3.71990295702799,
            -3.408209225583955,
            -1.3383794001432265,
            -3.1264599835029836,
            -2.939050874691116,
            -3.2898520697626292,
            -2.6732927020814055,
            -3.3732128196919478,
            -3.095412298197008,
            -3.364623499610415,
            -3.7767851536228005,
            -3.4301430234318717,
            -4.072478810141684,
            -3.2525556971249205,
            -3.5857488798755544,
            -3.66651668920358,
            -4.266488264294961,
            -4.954816362158481,
            -3.2863291889422217,
            -4.618707150403926,
            -1.357513231604162,
            -1.0283274164527891,
            -3.1648318833099776,
            -3.1050955663991915,
            -3.4800852899386028,
            -3.3812957098849257,
            -3.306238483813723,
            -2.196768230238701,
            -2.8358508970532332,
            -3.48017093098407,
            -3.1543405838976897,
            -3.2805807122451744,
            -2.7948154449096667,
            -3.472771022519459,
            -3.0489814842431544,
            -3.873725923555224,
            -2.714257326644246,
            -3.5089579679350837,
            -3.5086510128670487,
            -3.3292109791795195,
            -3.7477833818883255,
            -3.191971774440085,
            -3.8467110457974925,
            -4.29161747392612,
            -3.8418740408176104,
            -4.011420947902754,
            -3.6595780958597595,
            -2.9912875225806266,
            -3.210736310423593,
            -4.459768681887399,
            -3.420147502486729,
            -2.864726912959971,
            -3.4901739815599653,
            -3.548836599269874,
            -3.2246393454096443,
            -3.055310915638137,
            -3.095874475323541,
            -3.392642536575537,
            -3.0174903064558514,
            -3.329550471319215,
            -3.465021763524017,
            -3.2159472642931357,
            -4.8912034278535685,
            -2.5692978395758854,
            -2.3603187496140055,
            -2.60590544578031,
            -2.539448342523993,
            -2.47755080067917,
            -3.8045852322860623,
            -3.97231489840073,
            -3.9698857704048423,
            -4.1382471312726565,
            -2.899320213063105,
            -3.703130136947506,
            -3.70609747140234,
            -4.126617337616229,
            -4.419845328941992,
            -3.6305126556743246,
            -3.9288531587972284,
            -3.4061533638138783,
            -2.977185982894156,
            -4.243147420434743,
            -3.599010550500437,
            -3.520450070777585,
            -3.9062232957790974,
            -2.3887164862987094
           ]
          },
          {
           "label": "ngf",
           "range": [
            0,
            2
           ],
           "ticktext": [
            16,
            32,
            64
           ],
           "tickvals": [
            0,
            1,
            2
           ],
           "values": [
            0,
            0,
            0,
            0,
            0,
            0,
            0,
            0,
            0,
            0,
            0,
            0,
            0,
            0,
            0,
            0,
            0,
            0,
            0,
            0,
            0,
            0,
            0,
            0,
            0,
            0,
            0,
            0,
            0,
            0,
            0,
            1,
            1,
            1,
            1,
            1,
            1,
            1,
            1,
            1,
            1,
            1,
            1,
            1,
            1,
            1,
            1,
            1,
            1,
            1,
            1,
            1,
            1,
            1,
            1,
            1,
            1,
            1,
            1,
            1,
            1,
            1,
            1,
            1,
            1,
            1,
            1,
            1,
            1,
            1,
            1,
            1,
            1,
            1,
            2,
            2,
            2,
            2,
            2,
            2,
            2,
            2,
            2,
            2,
            2,
            2,
            2,
            2,
            2,
            2,
            2,
            2,
            2,
            2,
            2,
            2,
            2,
            2,
            2,
            2
           ]
          },
          {
           "label": "nz",
           "range": [
            10,
            195
           ],
           "values": [
            56,
            174,
            160,
            135,
            79,
            55,
            119,
            108,
            117,
            132,
            119,
            79,
            100,
            151,
            156,
            149,
            147,
            174,
            157,
            164,
            146,
            140,
            165,
            140,
            149,
            152,
            138,
            181,
            133,
            90,
            124,
            97,
            129,
            22,
            50,
            20,
            94,
            95,
            104,
            56,
            51,
            32,
            60,
            93,
            10,
            113,
            125,
            94,
            106,
            39,
            94,
            78,
            74,
            101,
            90,
            111,
            78,
            46,
            62,
            78,
            85,
            68,
            127,
            73,
            85,
            99,
            65,
            108,
            166,
            90,
            92,
            113,
            82,
            104,
            63,
            156,
            112,
            146,
            195,
            194,
            191,
            190,
            174,
            137,
            98,
            88,
            116,
            80,
            84,
            69,
            122,
            102,
            38,
            73,
            140,
            67,
            87,
            95,
            143,
            97
           ]
          }
         ],
         "labelangle": 30,
         "labelside": "bottom",
         "line": {
          "color": [
           0.003387733828276396,
           0.0033983939792960882,
           0.010726194828748703,
           0.004707153420895338,
           0.012918324209749699,
           0.018075961619615555,
           0.002750119660049677,
           0.002760121366009116,
           0.0031593204475939274,
           0.005814182106405497,
           0.0028271202463656664,
           0.002819292712956667,
           0.0028747643809765577,
           0.002642750972881913,
           0.0028543747030198574,
           0.002605059649795294,
           0.004343060310930014,
           0.00290241208858788,
           0.0029473421163856983,
           0.0027725067920982838,
           0.0030222563073039055,
           0.002722284058108926,
           0.002916947240009904,
           0.0028018862940371037,
           0.0029747725930064917,
           0.0027879567351192236,
           0.0033569971565157175,
           0.0028680721297860146,
           0.0027781527023762465,
           0.0051566860638558865,
           0.0068087768740952015,
           0.014186839573085308,
           0.003328382968902588,
           0.018376944586634636,
           0.0031809292268007994,
           0.0038097158540040255,
           0.0027467969339340925,
           0.0028134777676314116,
           0.0029514124616980553,
           0.0026620356366038322,
           0.0028169360011816025,
           0.0032377864699810743,
           0.00291583314538002,
           0.002749920357018709,
           0.002807936631143093,
           0.0028295714873820543,
           0.0030490525532513857,
           0.0029134328942745924,
           0.0029881191439926624,
           0.004904674366116524,
           0.0035011719446629286,
           0.00275845592841506,
           0.003002178156748414,
           0.003555990057066083,
           0.002797669032588601,
           0.0028641826938837767,
           0.00269891694188118,
           0.00623682327568531,
           0.005243586841970682,
           0.0028521057683974504,
           0.0029868348501622677,
           0.0029359101317822933,
           0.002855384722352028,
           0.00868307612836361,
           0.0028716789092868567,
           0.003036292502656579,
           0.004714437294751406,
           0.004360889084637165,
           0.002919034566730261,
           0.0027122115716338158,
           0.003000096883624792,
           0.002896268852055073,
           0.0034115156158804893,
           0.0030354675836861134,
           0.003296546870842576,
           0.003190858056768775,
           0.022609153762459755,
           0.003107657190412283,
           0.003040011739358306,
           0.003024704521521926,
           0.003145871451124549,
           0.0031434709671884775,
           0.0030307744164019823,
           0.0028049664106220007,
           0.0027171033434569836,
           0.003070726990699768,
           0.0030950859654694796,
           0.0028790722135454416,
           0.0029677734710276127,
           0.0029021098744124174,
           0.0032947701402008533,
           0.002952311420813203,
           0.002914290176704526,
           0.002960614860057831,
           0.0029688214417546988,
           0.003063093638047576,
           0.0027807268779724836,
           0.00276244361884892,
           0.0028345752507448196,
           0.0032389406114816666
          ],
          "colorbar": {
           "title": {
            "text": "Objective Value"
           }
          },
          "colorscale": [
           [
            0,
            "rgb(247,251,255)"
           ],
           [
            0.125,
            "rgb(222,235,247)"
           ],
           [
            0.25,
            "rgb(198,219,239)"
           ],
           [
            0.375,
            "rgb(158,202,225)"
           ],
           [
            0.5,
            "rgb(107,174,214)"
           ],
           [
            0.625,
            "rgb(66,146,198)"
           ],
           [
            0.75,
            "rgb(33,113,181)"
           ],
           [
            0.875,
            "rgb(8,81,156)"
           ],
           [
            1,
            "rgb(8,48,107)"
           ]
          ],
          "reversescale": true,
          "showscale": true
         },
         "type": "parcoords"
        }
       ],
       "layout": {
        "template": {
         "data": {
          "bar": [
           {
            "error_x": {
             "color": "#2a3f5f"
            },
            "error_y": {
             "color": "#2a3f5f"
            },
            "marker": {
             "line": {
              "color": "#E5ECF6",
              "width": 0.5
             },
             "pattern": {
              "fillmode": "overlay",
              "size": 10,
              "solidity": 0.2
             }
            },
            "type": "bar"
           }
          ],
          "barpolar": [
           {
            "marker": {
             "line": {
              "color": "#E5ECF6",
              "width": 0.5
             },
             "pattern": {
              "fillmode": "overlay",
              "size": 10,
              "solidity": 0.2
             }
            },
            "type": "barpolar"
           }
          ],
          "carpet": [
           {
            "aaxis": {
             "endlinecolor": "#2a3f5f",
             "gridcolor": "white",
             "linecolor": "white",
             "minorgridcolor": "white",
             "startlinecolor": "#2a3f5f"
            },
            "baxis": {
             "endlinecolor": "#2a3f5f",
             "gridcolor": "white",
             "linecolor": "white",
             "minorgridcolor": "white",
             "startlinecolor": "#2a3f5f"
            },
            "type": "carpet"
           }
          ],
          "choropleth": [
           {
            "colorbar": {
             "outlinewidth": 0,
             "ticks": ""
            },
            "type": "choropleth"
           }
          ],
          "contour": [
           {
            "colorbar": {
             "outlinewidth": 0,
             "ticks": ""
            },
            "colorscale": [
             [
              0,
              "#0d0887"
             ],
             [
              0.1111111111111111,
              "#46039f"
             ],
             [
              0.2222222222222222,
              "#7201a8"
             ],
             [
              0.3333333333333333,
              "#9c179e"
             ],
             [
              0.4444444444444444,
              "#bd3786"
             ],
             [
              0.5555555555555556,
              "#d8576b"
             ],
             [
              0.6666666666666666,
              "#ed7953"
             ],
             [
              0.7777777777777778,
              "#fb9f3a"
             ],
             [
              0.8888888888888888,
              "#fdca26"
             ],
             [
              1,
              "#f0f921"
             ]
            ],
            "type": "contour"
           }
          ],
          "contourcarpet": [
           {
            "colorbar": {
             "outlinewidth": 0,
             "ticks": ""
            },
            "type": "contourcarpet"
           }
          ],
          "heatmap": [
           {
            "colorbar": {
             "outlinewidth": 0,
             "ticks": ""
            },
            "colorscale": [
             [
              0,
              "#0d0887"
             ],
             [
              0.1111111111111111,
              "#46039f"
             ],
             [
              0.2222222222222222,
              "#7201a8"
             ],
             [
              0.3333333333333333,
              "#9c179e"
             ],
             [
              0.4444444444444444,
              "#bd3786"
             ],
             [
              0.5555555555555556,
              "#d8576b"
             ],
             [
              0.6666666666666666,
              "#ed7953"
             ],
             [
              0.7777777777777778,
              "#fb9f3a"
             ],
             [
              0.8888888888888888,
              "#fdca26"
             ],
             [
              1,
              "#f0f921"
             ]
            ],
            "type": "heatmap"
           }
          ],
          "heatmapgl": [
           {
            "colorbar": {
             "outlinewidth": 0,
             "ticks": ""
            },
            "colorscale": [
             [
              0,
              "#0d0887"
             ],
             [
              0.1111111111111111,
              "#46039f"
             ],
             [
              0.2222222222222222,
              "#7201a8"
             ],
             [
              0.3333333333333333,
              "#9c179e"
             ],
             [
              0.4444444444444444,
              "#bd3786"
             ],
             [
              0.5555555555555556,
              "#d8576b"
             ],
             [
              0.6666666666666666,
              "#ed7953"
             ],
             [
              0.7777777777777778,
              "#fb9f3a"
             ],
             [
              0.8888888888888888,
              "#fdca26"
             ],
             [
              1,
              "#f0f921"
             ]
            ],
            "type": "heatmapgl"
           }
          ],
          "histogram": [
           {
            "marker": {
             "pattern": {
              "fillmode": "overlay",
              "size": 10,
              "solidity": 0.2
             }
            },
            "type": "histogram"
           }
          ],
          "histogram2d": [
           {
            "colorbar": {
             "outlinewidth": 0,
             "ticks": ""
            },
            "colorscale": [
             [
              0,
              "#0d0887"
             ],
             [
              0.1111111111111111,
              "#46039f"
             ],
             [
              0.2222222222222222,
              "#7201a8"
             ],
             [
              0.3333333333333333,
              "#9c179e"
             ],
             [
              0.4444444444444444,
              "#bd3786"
             ],
             [
              0.5555555555555556,
              "#d8576b"
             ],
             [
              0.6666666666666666,
              "#ed7953"
             ],
             [
              0.7777777777777778,
              "#fb9f3a"
             ],
             [
              0.8888888888888888,
              "#fdca26"
             ],
             [
              1,
              "#f0f921"
             ]
            ],
            "type": "histogram2d"
           }
          ],
          "histogram2dcontour": [
           {
            "colorbar": {
             "outlinewidth": 0,
             "ticks": ""
            },
            "colorscale": [
             [
              0,
              "#0d0887"
             ],
             [
              0.1111111111111111,
              "#46039f"
             ],
             [
              0.2222222222222222,
              "#7201a8"
             ],
             [
              0.3333333333333333,
              "#9c179e"
             ],
             [
              0.4444444444444444,
              "#bd3786"
             ],
             [
              0.5555555555555556,
              "#d8576b"
             ],
             [
              0.6666666666666666,
              "#ed7953"
             ],
             [
              0.7777777777777778,
              "#fb9f3a"
             ],
             [
              0.8888888888888888,
              "#fdca26"
             ],
             [
              1,
              "#f0f921"
             ]
            ],
            "type": "histogram2dcontour"
           }
          ],
          "mesh3d": [
           {
            "colorbar": {
             "outlinewidth": 0,
             "ticks": ""
            },
            "type": "mesh3d"
           }
          ],
          "parcoords": [
           {
            "line": {
             "colorbar": {
              "outlinewidth": 0,
              "ticks": ""
             }
            },
            "type": "parcoords"
           }
          ],
          "pie": [
           {
            "automargin": true,
            "type": "pie"
           }
          ],
          "scatter": [
           {
            "marker": {
             "colorbar": {
              "outlinewidth": 0,
              "ticks": ""
             }
            },
            "type": "scatter"
           }
          ],
          "scatter3d": [
           {
            "line": {
             "colorbar": {
              "outlinewidth": 0,
              "ticks": ""
             }
            },
            "marker": {
             "colorbar": {
              "outlinewidth": 0,
              "ticks": ""
             }
            },
            "type": "scatter3d"
           }
          ],
          "scattercarpet": [
           {
            "marker": {
             "colorbar": {
              "outlinewidth": 0,
              "ticks": ""
             }
            },
            "type": "scattercarpet"
           }
          ],
          "scattergeo": [
           {
            "marker": {
             "colorbar": {
              "outlinewidth": 0,
              "ticks": ""
             }
            },
            "type": "scattergeo"
           }
          ],
          "scattergl": [
           {
            "marker": {
             "colorbar": {
              "outlinewidth": 0,
              "ticks": ""
             }
            },
            "type": "scattergl"
           }
          ],
          "scattermapbox": [
           {
            "marker": {
             "colorbar": {
              "outlinewidth": 0,
              "ticks": ""
             }
            },
            "type": "scattermapbox"
           }
          ],
          "scatterpolar": [
           {
            "marker": {
             "colorbar": {
              "outlinewidth": 0,
              "ticks": ""
             }
            },
            "type": "scatterpolar"
           }
          ],
          "scatterpolargl": [
           {
            "marker": {
             "colorbar": {
              "outlinewidth": 0,
              "ticks": ""
             }
            },
            "type": "scatterpolargl"
           }
          ],
          "scatterternary": [
           {
            "marker": {
             "colorbar": {
              "outlinewidth": 0,
              "ticks": ""
             }
            },
            "type": "scatterternary"
           }
          ],
          "surface": [
           {
            "colorbar": {
             "outlinewidth": 0,
             "ticks": ""
            },
            "colorscale": [
             [
              0,
              "#0d0887"
             ],
             [
              0.1111111111111111,
              "#46039f"
             ],
             [
              0.2222222222222222,
              "#7201a8"
             ],
             [
              0.3333333333333333,
              "#9c179e"
             ],
             [
              0.4444444444444444,
              "#bd3786"
             ],
             [
              0.5555555555555556,
              "#d8576b"
             ],
             [
              0.6666666666666666,
              "#ed7953"
             ],
             [
              0.7777777777777778,
              "#fb9f3a"
             ],
             [
              0.8888888888888888,
              "#fdca26"
             ],
             [
              1,
              "#f0f921"
             ]
            ],
            "type": "surface"
           }
          ],
          "table": [
           {
            "cells": {
             "fill": {
              "color": "#EBF0F8"
             },
             "line": {
              "color": "white"
             }
            },
            "header": {
             "fill": {
              "color": "#C8D4E3"
             },
             "line": {
              "color": "white"
             }
            },
            "type": "table"
           }
          ]
         },
         "layout": {
          "annotationdefaults": {
           "arrowcolor": "#2a3f5f",
           "arrowhead": 0,
           "arrowwidth": 1
          },
          "autotypenumbers": "strict",
          "coloraxis": {
           "colorbar": {
            "outlinewidth": 0,
            "ticks": ""
           }
          },
          "colorscale": {
           "diverging": [
            [
             0,
             "#8e0152"
            ],
            [
             0.1,
             "#c51b7d"
            ],
            [
             0.2,
             "#de77ae"
            ],
            [
             0.3,
             "#f1b6da"
            ],
            [
             0.4,
             "#fde0ef"
            ],
            [
             0.5,
             "#f7f7f7"
            ],
            [
             0.6,
             "#e6f5d0"
            ],
            [
             0.7,
             "#b8e186"
            ],
            [
             0.8,
             "#7fbc41"
            ],
            [
             0.9,
             "#4d9221"
            ],
            [
             1,
             "#276419"
            ]
           ],
           "sequential": [
            [
             0,
             "#0d0887"
            ],
            [
             0.1111111111111111,
             "#46039f"
            ],
            [
             0.2222222222222222,
             "#7201a8"
            ],
            [
             0.3333333333333333,
             "#9c179e"
            ],
            [
             0.4444444444444444,
             "#bd3786"
            ],
            [
             0.5555555555555556,
             "#d8576b"
            ],
            [
             0.6666666666666666,
             "#ed7953"
            ],
            [
             0.7777777777777778,
             "#fb9f3a"
            ],
            [
             0.8888888888888888,
             "#fdca26"
            ],
            [
             1,
             "#f0f921"
            ]
           ],
           "sequentialminus": [
            [
             0,
             "#0d0887"
            ],
            [
             0.1111111111111111,
             "#46039f"
            ],
            [
             0.2222222222222222,
             "#7201a8"
            ],
            [
             0.3333333333333333,
             "#9c179e"
            ],
            [
             0.4444444444444444,
             "#bd3786"
            ],
            [
             0.5555555555555556,
             "#d8576b"
            ],
            [
             0.6666666666666666,
             "#ed7953"
            ],
            [
             0.7777777777777778,
             "#fb9f3a"
            ],
            [
             0.8888888888888888,
             "#fdca26"
            ],
            [
             1,
             "#f0f921"
            ]
           ]
          },
          "colorway": [
           "#636efa",
           "#EF553B",
           "#00cc96",
           "#ab63fa",
           "#FFA15A",
           "#19d3f3",
           "#FF6692",
           "#B6E880",
           "#FF97FF",
           "#FECB52"
          ],
          "font": {
           "color": "#2a3f5f"
          },
          "geo": {
           "bgcolor": "white",
           "lakecolor": "white",
           "landcolor": "#E5ECF6",
           "showlakes": true,
           "showland": true,
           "subunitcolor": "white"
          },
          "hoverlabel": {
           "align": "left"
          },
          "hovermode": "closest",
          "mapbox": {
           "style": "light"
          },
          "paper_bgcolor": "white",
          "plot_bgcolor": "#E5ECF6",
          "polar": {
           "angularaxis": {
            "gridcolor": "white",
            "linecolor": "white",
            "ticks": ""
           },
           "bgcolor": "#E5ECF6",
           "radialaxis": {
            "gridcolor": "white",
            "linecolor": "white",
            "ticks": ""
           }
          },
          "scene": {
           "xaxis": {
            "backgroundcolor": "#E5ECF6",
            "gridcolor": "white",
            "gridwidth": 2,
            "linecolor": "white",
            "showbackground": true,
            "ticks": "",
            "zerolinecolor": "white"
           },
           "yaxis": {
            "backgroundcolor": "#E5ECF6",
            "gridcolor": "white",
            "gridwidth": 2,
            "linecolor": "white",
            "showbackground": true,
            "ticks": "",
            "zerolinecolor": "white"
           },
           "zaxis": {
            "backgroundcolor": "#E5ECF6",
            "gridcolor": "white",
            "gridwidth": 2,
            "linecolor": "white",
            "showbackground": true,
            "ticks": "",
            "zerolinecolor": "white"
           }
          },
          "shapedefaults": {
           "line": {
            "color": "#2a3f5f"
           }
          },
          "ternary": {
           "aaxis": {
            "gridcolor": "white",
            "linecolor": "white",
            "ticks": ""
           },
           "baxis": {
            "gridcolor": "white",
            "linecolor": "white",
            "ticks": ""
           },
           "bgcolor": "#E5ECF6",
           "caxis": {
            "gridcolor": "white",
            "linecolor": "white",
            "ticks": ""
           }
          },
          "title": {
           "x": 0.05
          },
          "xaxis": {
           "automargin": true,
           "gridcolor": "white",
           "linecolor": "white",
           "ticks": "",
           "title": {
            "standoff": 15
           },
           "zerolinecolor": "white",
           "zerolinewidth": 2
          },
          "yaxis": {
           "automargin": true,
           "gridcolor": "white",
           "linecolor": "white",
           "ticks": "",
           "title": {
            "standoff": 15
           },
           "zerolinecolor": "white",
           "zerolinewidth": 2
          }
         }
        },
        "title": {
         "text": "Parallel Coordinate Plot"
        }
       }
      },
      "text/html": [
       "<div>                            <div id=\"3b9f2e9b-d273-473d-bed2-41850e34838d\" class=\"plotly-graph-div\" style=\"height:525px; width:100%;\"></div>            <script type=\"text/javascript\">                require([\"plotly\"], function(Plotly) {                    window.PLOTLYENV=window.PLOTLYENV || {};                                    if (document.getElementById(\"3b9f2e9b-d273-473d-bed2-41850e34838d\")) {                    Plotly.newPlot(                        \"3b9f2e9b-d273-473d-bed2-41850e34838d\",                        [{\"dimensions\":[{\"label\":\"Objective Value\",\"range\":[0.002605059649795294,0.022609153762459755],\"values\":[0.003387733828276396,0.0033983939792960882,0.010726194828748703,0.004707153420895338,0.012918324209749699,0.018075961619615555,0.002750119660049677,0.002760121366009116,0.0031593204475939274,0.005814182106405497,0.0028271202463656664,0.002819292712956667,0.0028747643809765577,0.002642750972881913,0.0028543747030198574,0.002605059649795294,0.004343060310930014,0.00290241208858788,0.0029473421163856983,0.0027725067920982838,0.0030222563073039055,0.002722284058108926,0.002916947240009904,0.0028018862940371037,0.0029747725930064917,0.0027879567351192236,0.0033569971565157175,0.0028680721297860146,0.0027781527023762465,0.0051566860638558865,0.0068087768740952015,0.014186839573085308,0.003328382968902588,0.018376944586634636,0.0031809292268007994,0.0038097158540040255,0.0027467969339340925,0.0028134777676314116,0.0029514124616980553,0.0026620356366038322,0.0028169360011816025,0.0032377864699810743,0.00291583314538002,0.002749920357018709,0.002807936631143093,0.0028295714873820543,0.0030490525532513857,0.0029134328942745924,0.0029881191439926624,0.004904674366116524,0.0035011719446629286,0.00275845592841506,0.003002178156748414,0.003555990057066083,0.002797669032588601,0.0028641826938837767,0.00269891694188118,0.00623682327568531,0.005243586841970682,0.0028521057683974504,0.0029868348501622677,0.0029359101317822933,0.002855384722352028,0.00868307612836361,0.0028716789092868567,0.003036292502656579,0.004714437294751406,0.004360889084637165,0.002919034566730261,0.0027122115716338158,0.003000096883624792,0.002896268852055073,0.0034115156158804893,0.0030354675836861134,0.003296546870842576,0.003190858056768775,0.022609153762459755,0.003107657190412283,0.003040011739358306,0.003024704521521926,0.003145871451124549,0.0031434709671884775,0.0030307744164019823,0.0028049664106220007,0.0027171033434569836,0.003070726990699768,0.0030950859654694796,0.0028790722135454416,0.0029677734710276127,0.0029021098744124174,0.0032947701402008533,0.002952311420813203,0.002914290176704526,0.002960614860057831,0.0029688214417546988,0.003063093638047576,0.0027807268779724836,0.00276244361884892,0.0028345752507448196,0.0032389406114816666]},{\"label\":\"beta1\",\"range\":[0.20354537520680527,0.8957378782262495],\"values\":[0.6897217198610255,0.7766936763834433,0.25514741661743073,0.3674223444950513,0.4550071519744036,0.6508433105527851,0.529756012438065,0.29153035637945235,0.5294668440471636,0.4756770940446717,0.5924852866233128,0.42819621480024017,0.6151500024040804,0.3287530107872564,0.38101372651317167,0.33784723988355825,0.33681895423802266,0.2755360221101849,0.23506679744139336,0.49584838422828137,0.6845938392581966,0.5920829361221213,0.5862439093531564,0.6281947326881623,0.5559745956471752,0.604131595492909,0.5664632182843478,0.6355028073205125,0.6137436146466291,0.31629811121075224,0.7252437691226057,0.49810512404765134,0.5668128997778559,0.3601567661860403,0.8408238966874,0.8760691177816156,0.6211179278780706,0.648381572158983,0.5745330662957282,0.5410549917527033,0.6620766756923716,0.7933634076959674,0.5375081167838821,0.5360084982067274,0.5994240138137131,0.5447443235324979,0.7396473451382406,0.4581406009596839,0.5767685207260432,0.6728268875634417,0.7057419286352282,0.379825259580552,0.37820895327428006,0.3164882238963218,0.20354537520680527,0.39762289482651897,0.33309070060241996,0.33921938036070276,0.30982197739558553,0.47161265417294307,0.24109060493849194,0.4087316806621259,0.5203029786368513,0.557406606785833,0.3552965809099412,0.4388512885062543,0.3409741997051662,0.3032318678751361,0.35396230767702286,0.3812493301939346,0.5458324013807624,0.32968395116081295,0.2710258930392941,0.5812196312576434,0.5641676435954996,0.8957378782262495,0.4978223727310294,0.8776871431640113,0.7348386561733672,0.7070565235002179,0.7049793786778421,0.6725315362682149,0.7662336700559094,0.6158624342578893,0.6026271362216988,0.6241500130893647,0.6302298825471897,0.49210828033458953,0.43673773106730984,0.5023612163893696,0.4151703775206346,0.6039212703550428,0.2692979395316929,0.5515996856143769,0.5772306508766958,0.5103669656877863,0.512732092244284,0.6441772415673584,0.528355200449655,0.6582656517716902]},{\"label\":\"beta2\",\"range\":[-0.04571258745742437,-0.000623000732541884],\"ticktext\":[\"0.9\",\"0.999\"],\"tickvals\":[-0.04571258745742437,-0.000623000732541884],\"values\":[-0.037398070247572614,-0.025840703704309336,-0.02189785937300641,-0.016456029331019268,-0.007740126780313427,-0.021172157979227214,-0.025517144813706236,-0.02677930077432526,-0.026242802411329685,-0.020020108748109645,-0.022821330765673626,-0.025235309379853306,-0.018530859364535666,-0.026701612099576524,-0.025644306381260553,-0.027853064172780075,-0.02430035832278416,-0.02269130669012106,-0.027165915989268687,-0.028460593597553305,-0.023706474869136084,-0.01689763916872404,-0.017458219193958267,-0.013237072439529764,-0.009555228153625488,-0.012098782026201892,-0.02170904210761194,-0.015201916231705468,-0.025727857322857133,-0.01682353894803338,-0.02770033431363629,-0.021737849307934,-0.026434530098268523,-0.035065401640594955,-0.0035116610444273547,-0.000623000732541884,-0.02375885185472964,-0.02982681818287339,-0.0245302932227756,-0.02353494355572228,-0.02919459232145436,-0.037737204628576125,-0.023069132869158217,-0.023053680039498304,-0.022813898988910994,-0.03331228234054744,-0.028263963391773447,-0.021204110275738673,-0.026957187952641536,-0.023827213233510204,-0.025052193304737447,-0.03149794521458355,-0.03242202564474928,-0.01883294632070572,-0.03994628697950177,-0.031372562792230614,-0.027184751583804477,-0.02763532340276036,-0.034577486811230684,-0.030973923712109774,-0.03711693503496861,-0.021911659801394163,-0.02842423301125995,-0.030033092729301002,-0.020477931000640413,-0.03033912025625014,-0.03159442133316247,-0.02916873506139661,-0.02661897959468073,-0.023495488995167575,-0.020156803354202762,-0.02218862184993534,-0.020793597759305973,-0.019145490992803132,-0.033246129832666324,-0.020436183393245072,-0.04571258745742437,-0.006246566454268067,-0.0020356088018363165,-0.010483170637640423,-0.011553415238682665,-0.013193623939778958,-0.011314853091454224,-0.01120839697221143,-0.014445651814195765,-0.016682320271928293,-0.008674044225204652,-0.016118510721614136,-0.01766085480244492,-0.014826887038281398,-0.006054281895378688,-0.02917719781463394,-0.01953304690839214,-0.025935019103534532,-0.013980999623021387,-0.014858414916346584,-0.01889758936614697,-0.024015505626897145,-0.024663559649285238,-0.02348125330725868]},{\"label\":\"l2\",\"range\":[-5.905848770682164,-2.0029618783898715],\"ticktext\":[\"1.24e-06\",\"1e-05\",\"0.0001\",\"0.001\",\"0.00993\"],\"tickvals\":[-5.905848770682164,-5,-4,-3,-2.0029618783898715],\"values\":[-3.1895396095021193,-3.1421154676132907,-2.7541181271968993,-4.220135490133233,-3.9601008869586813,-2.6245563568538333,-2.458156104620158,-2.7450088374309067,-2.1117562410075985,-2.3713627453248614,-2.9486532896732296,-2.619457346858893,-3.1455292434140976,-2.7363985001603726,-2.4588841724743373,-2.6284638901250226,-2.811565650007503,-2.9796177501414585,-2.563269679585891,-2.672587111457488,-2.424701842143696,-3.015407210170298,-3.246934857395925,-3.038565387924841,-2.8567904936922446,-2.7117092302216834,-3.6173793713071127,-4.064458635177093,-2.5681054632746068,-2.470322142065055,-2.9118435965623233,-3.235120153193345,-5.812395832903945,-3.7856399020851637,-5.6771294993538595,-5.905848770682164,-2.4785095698920347,-2.3993176215190024,-2.9743090284880624,-2.465585633378231,-2.4308804073754975,-2.174325759799698,-3.3375490142194004,-2.590583199823879,-2.556256734766799,-3.0495904295310536,-2.1554126870697847,-2.501870762498422,-2.898640315324514,-3.2356251431149867,-2.2451619109763046,-2.319806151075959,-2.0029618783898715,-2.3194690206401596,-2.532220951628141,-3.0851173035275097,-2.8448114869111043,-2.87534999142557,-2.6507692129907117,-3.765575101329654,-3.3154346430914057,-2.30049984102533,-2.2164941216377994,-2.778239226642233,-3.4700986551908755,-3.787609175415724,-2.2898641176774697,-2.336120451617687,-2.1887716402904225,-2.593053124169851,-2.6091333972988475,-2.805722202628379,-2.509062649439734,-3.114162033237026,-4.578377396165488,-5.2007472969907536,-2.315616988598333,-5.110030307522273,-4.930017066826713,-4.6349294764208935,-4.283987013988773,-4.78698457671067,-3.9478601621775753,-3.964677884433851,-3.616270811387472,-3.656905909232397,-3.4915188951508385,-4.40713927903655,-4.115513077676596,-2.7477857569060875,-4.379696107443344,-3.5368402574908093,-5.459948600561133,-4.49454894723196,-2.817512378029898,-2.0556845929968532,-2.6973281353830334,-2.4692613950090063,-3.3661621296181177,-2.698424987836098]},{\"label\":\"layers\",\"range\":[2,6],\"values\":[3,6,5,5,4,5,6,6,6,6,6,6,6,6,6,6,6,6,6,6,6,6,6,6,6,6,6,6,6,2,6,6,2,3,2,4,6,6,6,6,6,5,6,6,6,6,5,6,6,4,6,5,5,4,6,5,6,5,4,6,6,5,5,6,5,6,3,4,5,6,6,6,6,6,2,3,4,3,2,3,2,3,4,5,5,5,5,6,6,6,5,6,5,6,5,6,6,6,6,6]},{\"label\":\"lr\",\"range\":[-4.954816362158481,-1.0283274164527891],\"ticktext\":[\"1.11e-05\",\"0.0001\",\"0.001\",\"0.01\",\"0.0937\"],\"tickvals\":[-4.954816362158481,-4,-3,-2,-1.0283274164527891],\"values\":[-1.7895457047503889,-1.759069600178144,-4.616462466476858,-4.049055879610686,-4.389956008608866,-4.7029033519744114,-3.58034495587149,-3.3617182524941476,-3.6123002201729286,-4.129224785309303,-3.940589523528445,-3.81580962586818,-3.5605496124986304,-3.3449301520590162,-3.71990295702799,-3.408209225583955,-1.3383794001432265,-3.1264599835029836,-2.939050874691116,-3.2898520697626292,-2.6732927020814055,-3.3732128196919478,-3.095412298197008,-3.364623499610415,-3.7767851536228005,-3.4301430234318717,-4.072478810141684,-3.2525556971249205,-3.5857488798755544,-3.66651668920358,-4.266488264294961,-4.954816362158481,-3.2863291889422217,-4.618707150403926,-1.357513231604162,-1.0283274164527891,-3.1648318833099776,-3.1050955663991915,-3.4800852899386028,-3.3812957098849257,-3.306238483813723,-2.196768230238701,-2.8358508970532332,-3.48017093098407,-3.1543405838976897,-3.2805807122451744,-2.7948154449096667,-3.472771022519459,-3.0489814842431544,-3.873725923555224,-2.714257326644246,-3.5089579679350837,-3.5086510128670487,-3.3292109791795195,-3.7477833818883255,-3.191971774440085,-3.8467110457974925,-4.29161747392612,-3.8418740408176104,-4.011420947902754,-3.6595780958597595,-2.9912875225806266,-3.210736310423593,-4.459768681887399,-3.420147502486729,-2.864726912959971,-3.4901739815599653,-3.548836599269874,-3.2246393454096443,-3.055310915638137,-3.095874475323541,-3.392642536575537,-3.0174903064558514,-3.329550471319215,-3.465021763524017,-3.2159472642931357,-4.8912034278535685,-2.5692978395758854,-2.3603187496140055,-2.60590544578031,-2.539448342523993,-2.47755080067917,-3.8045852322860623,-3.97231489840073,-3.9698857704048423,-4.1382471312726565,-2.899320213063105,-3.703130136947506,-3.70609747140234,-4.126617337616229,-4.419845328941992,-3.6305126556743246,-3.9288531587972284,-3.4061533638138783,-2.977185982894156,-4.243147420434743,-3.599010550500437,-3.520450070777585,-3.9062232957790974,-2.3887164862987094]},{\"label\":\"ngf\",\"range\":[0,2],\"ticktext\":[16,32,64],\"tickvals\":[0,1,2],\"values\":[0,0,0,0,0,0,0,0,0,0,0,0,0,0,0,0,0,0,0,0,0,0,0,0,0,0,0,0,0,0,0,1,1,1,1,1,1,1,1,1,1,1,1,1,1,1,1,1,1,1,1,1,1,1,1,1,1,1,1,1,1,1,1,1,1,1,1,1,1,1,1,1,1,1,2,2,2,2,2,2,2,2,2,2,2,2,2,2,2,2,2,2,2,2,2,2,2,2,2,2]},{\"label\":\"nz\",\"range\":[10,195],\"values\":[56,174,160,135,79,55,119,108,117,132,119,79,100,151,156,149,147,174,157,164,146,140,165,140,149,152,138,181,133,90,124,97,129,22,50,20,94,95,104,56,51,32,60,93,10,113,125,94,106,39,94,78,74,101,90,111,78,46,62,78,85,68,127,73,85,99,65,108,166,90,92,113,82,104,63,156,112,146,195,194,191,190,174,137,98,88,116,80,84,69,122,102,38,73,140,67,87,95,143,97]}],\"labelangle\":30,\"labelside\":\"bottom\",\"line\":{\"color\":[0.003387733828276396,0.0033983939792960882,0.010726194828748703,0.004707153420895338,0.012918324209749699,0.018075961619615555,0.002750119660049677,0.002760121366009116,0.0031593204475939274,0.005814182106405497,0.0028271202463656664,0.002819292712956667,0.0028747643809765577,0.002642750972881913,0.0028543747030198574,0.002605059649795294,0.004343060310930014,0.00290241208858788,0.0029473421163856983,0.0027725067920982838,0.0030222563073039055,0.002722284058108926,0.002916947240009904,0.0028018862940371037,0.0029747725930064917,0.0027879567351192236,0.0033569971565157175,0.0028680721297860146,0.0027781527023762465,0.0051566860638558865,0.0068087768740952015,0.014186839573085308,0.003328382968902588,0.018376944586634636,0.0031809292268007994,0.0038097158540040255,0.0027467969339340925,0.0028134777676314116,0.0029514124616980553,0.0026620356366038322,0.0028169360011816025,0.0032377864699810743,0.00291583314538002,0.002749920357018709,0.002807936631143093,0.0028295714873820543,0.0030490525532513857,0.0029134328942745924,0.0029881191439926624,0.004904674366116524,0.0035011719446629286,0.00275845592841506,0.003002178156748414,0.003555990057066083,0.002797669032588601,0.0028641826938837767,0.00269891694188118,0.00623682327568531,0.005243586841970682,0.0028521057683974504,0.0029868348501622677,0.0029359101317822933,0.002855384722352028,0.00868307612836361,0.0028716789092868567,0.003036292502656579,0.004714437294751406,0.004360889084637165,0.002919034566730261,0.0027122115716338158,0.003000096883624792,0.002896268852055073,0.0034115156158804893,0.0030354675836861134,0.003296546870842576,0.003190858056768775,0.022609153762459755,0.003107657190412283,0.003040011739358306,0.003024704521521926,0.003145871451124549,0.0031434709671884775,0.0030307744164019823,0.0028049664106220007,0.0027171033434569836,0.003070726990699768,0.0030950859654694796,0.0028790722135454416,0.0029677734710276127,0.0029021098744124174,0.0032947701402008533,0.002952311420813203,0.002914290176704526,0.002960614860057831,0.0029688214417546988,0.003063093638047576,0.0027807268779724836,0.00276244361884892,0.0028345752507448196,0.0032389406114816666],\"colorbar\":{\"title\":{\"text\":\"Objective Value\"}},\"colorscale\":[[0.0,\"rgb(247,251,255)\"],[0.125,\"rgb(222,235,247)\"],[0.25,\"rgb(198,219,239)\"],[0.375,\"rgb(158,202,225)\"],[0.5,\"rgb(107,174,214)\"],[0.625,\"rgb(66,146,198)\"],[0.75,\"rgb(33,113,181)\"],[0.875,\"rgb(8,81,156)\"],[1.0,\"rgb(8,48,107)\"]],\"reversescale\":true,\"showscale\":true},\"type\":\"parcoords\"}],                        {\"title\":{\"text\":\"Parallel Coordinate Plot\"},\"template\":{\"data\":{\"bar\":[{\"error_x\":{\"color\":\"#2a3f5f\"},\"error_y\":{\"color\":\"#2a3f5f\"},\"marker\":{\"line\":{\"color\":\"#E5ECF6\",\"width\":0.5},\"pattern\":{\"fillmode\":\"overlay\",\"size\":10,\"solidity\":0.2}},\"type\":\"bar\"}],\"barpolar\":[{\"marker\":{\"line\":{\"color\":\"#E5ECF6\",\"width\":0.5},\"pattern\":{\"fillmode\":\"overlay\",\"size\":10,\"solidity\":0.2}},\"type\":\"barpolar\"}],\"carpet\":[{\"aaxis\":{\"endlinecolor\":\"#2a3f5f\",\"gridcolor\":\"white\",\"linecolor\":\"white\",\"minorgridcolor\":\"white\",\"startlinecolor\":\"#2a3f5f\"},\"baxis\":{\"endlinecolor\":\"#2a3f5f\",\"gridcolor\":\"white\",\"linecolor\":\"white\",\"minorgridcolor\":\"white\",\"startlinecolor\":\"#2a3f5f\"},\"type\":\"carpet\"}],\"choropleth\":[{\"colorbar\":{\"outlinewidth\":0,\"ticks\":\"\"},\"type\":\"choropleth\"}],\"contour\":[{\"colorbar\":{\"outlinewidth\":0,\"ticks\":\"\"},\"colorscale\":[[0.0,\"#0d0887\"],[0.1111111111111111,\"#46039f\"],[0.2222222222222222,\"#7201a8\"],[0.3333333333333333,\"#9c179e\"],[0.4444444444444444,\"#bd3786\"],[0.5555555555555556,\"#d8576b\"],[0.6666666666666666,\"#ed7953\"],[0.7777777777777778,\"#fb9f3a\"],[0.8888888888888888,\"#fdca26\"],[1.0,\"#f0f921\"]],\"type\":\"contour\"}],\"contourcarpet\":[{\"colorbar\":{\"outlinewidth\":0,\"ticks\":\"\"},\"type\":\"contourcarpet\"}],\"heatmap\":[{\"colorbar\":{\"outlinewidth\":0,\"ticks\":\"\"},\"colorscale\":[[0.0,\"#0d0887\"],[0.1111111111111111,\"#46039f\"],[0.2222222222222222,\"#7201a8\"],[0.3333333333333333,\"#9c179e\"],[0.4444444444444444,\"#bd3786\"],[0.5555555555555556,\"#d8576b\"],[0.6666666666666666,\"#ed7953\"],[0.7777777777777778,\"#fb9f3a\"],[0.8888888888888888,\"#fdca26\"],[1.0,\"#f0f921\"]],\"type\":\"heatmap\"}],\"heatmapgl\":[{\"colorbar\":{\"outlinewidth\":0,\"ticks\":\"\"},\"colorscale\":[[0.0,\"#0d0887\"],[0.1111111111111111,\"#46039f\"],[0.2222222222222222,\"#7201a8\"],[0.3333333333333333,\"#9c179e\"],[0.4444444444444444,\"#bd3786\"],[0.5555555555555556,\"#d8576b\"],[0.6666666666666666,\"#ed7953\"],[0.7777777777777778,\"#fb9f3a\"],[0.8888888888888888,\"#fdca26\"],[1.0,\"#f0f921\"]],\"type\":\"heatmapgl\"}],\"histogram\":[{\"marker\":{\"pattern\":{\"fillmode\":\"overlay\",\"size\":10,\"solidity\":0.2}},\"type\":\"histogram\"}],\"histogram2d\":[{\"colorbar\":{\"outlinewidth\":0,\"ticks\":\"\"},\"colorscale\":[[0.0,\"#0d0887\"],[0.1111111111111111,\"#46039f\"],[0.2222222222222222,\"#7201a8\"],[0.3333333333333333,\"#9c179e\"],[0.4444444444444444,\"#bd3786\"],[0.5555555555555556,\"#d8576b\"],[0.6666666666666666,\"#ed7953\"],[0.7777777777777778,\"#fb9f3a\"],[0.8888888888888888,\"#fdca26\"],[1.0,\"#f0f921\"]],\"type\":\"histogram2d\"}],\"histogram2dcontour\":[{\"colorbar\":{\"outlinewidth\":0,\"ticks\":\"\"},\"colorscale\":[[0.0,\"#0d0887\"],[0.1111111111111111,\"#46039f\"],[0.2222222222222222,\"#7201a8\"],[0.3333333333333333,\"#9c179e\"],[0.4444444444444444,\"#bd3786\"],[0.5555555555555556,\"#d8576b\"],[0.6666666666666666,\"#ed7953\"],[0.7777777777777778,\"#fb9f3a\"],[0.8888888888888888,\"#fdca26\"],[1.0,\"#f0f921\"]],\"type\":\"histogram2dcontour\"}],\"mesh3d\":[{\"colorbar\":{\"outlinewidth\":0,\"ticks\":\"\"},\"type\":\"mesh3d\"}],\"parcoords\":[{\"line\":{\"colorbar\":{\"outlinewidth\":0,\"ticks\":\"\"}},\"type\":\"parcoords\"}],\"pie\":[{\"automargin\":true,\"type\":\"pie\"}],\"scatter\":[{\"marker\":{\"colorbar\":{\"outlinewidth\":0,\"ticks\":\"\"}},\"type\":\"scatter\"}],\"scatter3d\":[{\"line\":{\"colorbar\":{\"outlinewidth\":0,\"ticks\":\"\"}},\"marker\":{\"colorbar\":{\"outlinewidth\":0,\"ticks\":\"\"}},\"type\":\"scatter3d\"}],\"scattercarpet\":[{\"marker\":{\"colorbar\":{\"outlinewidth\":0,\"ticks\":\"\"}},\"type\":\"scattercarpet\"}],\"scattergeo\":[{\"marker\":{\"colorbar\":{\"outlinewidth\":0,\"ticks\":\"\"}},\"type\":\"scattergeo\"}],\"scattergl\":[{\"marker\":{\"colorbar\":{\"outlinewidth\":0,\"ticks\":\"\"}},\"type\":\"scattergl\"}],\"scattermapbox\":[{\"marker\":{\"colorbar\":{\"outlinewidth\":0,\"ticks\":\"\"}},\"type\":\"scattermapbox\"}],\"scatterpolar\":[{\"marker\":{\"colorbar\":{\"outlinewidth\":0,\"ticks\":\"\"}},\"type\":\"scatterpolar\"}],\"scatterpolargl\":[{\"marker\":{\"colorbar\":{\"outlinewidth\":0,\"ticks\":\"\"}},\"type\":\"scatterpolargl\"}],\"scatterternary\":[{\"marker\":{\"colorbar\":{\"outlinewidth\":0,\"ticks\":\"\"}},\"type\":\"scatterternary\"}],\"surface\":[{\"colorbar\":{\"outlinewidth\":0,\"ticks\":\"\"},\"colorscale\":[[0.0,\"#0d0887\"],[0.1111111111111111,\"#46039f\"],[0.2222222222222222,\"#7201a8\"],[0.3333333333333333,\"#9c179e\"],[0.4444444444444444,\"#bd3786\"],[0.5555555555555556,\"#d8576b\"],[0.6666666666666666,\"#ed7953\"],[0.7777777777777778,\"#fb9f3a\"],[0.8888888888888888,\"#fdca26\"],[1.0,\"#f0f921\"]],\"type\":\"surface\"}],\"table\":[{\"cells\":{\"fill\":{\"color\":\"#EBF0F8\"},\"line\":{\"color\":\"white\"}},\"header\":{\"fill\":{\"color\":\"#C8D4E3\"},\"line\":{\"color\":\"white\"}},\"type\":\"table\"}]},\"layout\":{\"annotationdefaults\":{\"arrowcolor\":\"#2a3f5f\",\"arrowhead\":0,\"arrowwidth\":1},\"autotypenumbers\":\"strict\",\"coloraxis\":{\"colorbar\":{\"outlinewidth\":0,\"ticks\":\"\"}},\"colorscale\":{\"diverging\":[[0,\"#8e0152\"],[0.1,\"#c51b7d\"],[0.2,\"#de77ae\"],[0.3,\"#f1b6da\"],[0.4,\"#fde0ef\"],[0.5,\"#f7f7f7\"],[0.6,\"#e6f5d0\"],[0.7,\"#b8e186\"],[0.8,\"#7fbc41\"],[0.9,\"#4d9221\"],[1,\"#276419\"]],\"sequential\":[[0.0,\"#0d0887\"],[0.1111111111111111,\"#46039f\"],[0.2222222222222222,\"#7201a8\"],[0.3333333333333333,\"#9c179e\"],[0.4444444444444444,\"#bd3786\"],[0.5555555555555556,\"#d8576b\"],[0.6666666666666666,\"#ed7953\"],[0.7777777777777778,\"#fb9f3a\"],[0.8888888888888888,\"#fdca26\"],[1.0,\"#f0f921\"]],\"sequentialminus\":[[0.0,\"#0d0887\"],[0.1111111111111111,\"#46039f\"],[0.2222222222222222,\"#7201a8\"],[0.3333333333333333,\"#9c179e\"],[0.4444444444444444,\"#bd3786\"],[0.5555555555555556,\"#d8576b\"],[0.6666666666666666,\"#ed7953\"],[0.7777777777777778,\"#fb9f3a\"],[0.8888888888888888,\"#fdca26\"],[1.0,\"#f0f921\"]]},\"colorway\":[\"#636efa\",\"#EF553B\",\"#00cc96\",\"#ab63fa\",\"#FFA15A\",\"#19d3f3\",\"#FF6692\",\"#B6E880\",\"#FF97FF\",\"#FECB52\"],\"font\":{\"color\":\"#2a3f5f\"},\"geo\":{\"bgcolor\":\"white\",\"lakecolor\":\"white\",\"landcolor\":\"#E5ECF6\",\"showlakes\":true,\"showland\":true,\"subunitcolor\":\"white\"},\"hoverlabel\":{\"align\":\"left\"},\"hovermode\":\"closest\",\"mapbox\":{\"style\":\"light\"},\"paper_bgcolor\":\"white\",\"plot_bgcolor\":\"#E5ECF6\",\"polar\":{\"angularaxis\":{\"gridcolor\":\"white\",\"linecolor\":\"white\",\"ticks\":\"\"},\"bgcolor\":\"#E5ECF6\",\"radialaxis\":{\"gridcolor\":\"white\",\"linecolor\":\"white\",\"ticks\":\"\"}},\"scene\":{\"xaxis\":{\"backgroundcolor\":\"#E5ECF6\",\"gridcolor\":\"white\",\"gridwidth\":2,\"linecolor\":\"white\",\"showbackground\":true,\"ticks\":\"\",\"zerolinecolor\":\"white\"},\"yaxis\":{\"backgroundcolor\":\"#E5ECF6\",\"gridcolor\":\"white\",\"gridwidth\":2,\"linecolor\":\"white\",\"showbackground\":true,\"ticks\":\"\",\"zerolinecolor\":\"white\"},\"zaxis\":{\"backgroundcolor\":\"#E5ECF6\",\"gridcolor\":\"white\",\"gridwidth\":2,\"linecolor\":\"white\",\"showbackground\":true,\"ticks\":\"\",\"zerolinecolor\":\"white\"}},\"shapedefaults\":{\"line\":{\"color\":\"#2a3f5f\"}},\"ternary\":{\"aaxis\":{\"gridcolor\":\"white\",\"linecolor\":\"white\",\"ticks\":\"\"},\"baxis\":{\"gridcolor\":\"white\",\"linecolor\":\"white\",\"ticks\":\"\"},\"bgcolor\":\"#E5ECF6\",\"caxis\":{\"gridcolor\":\"white\",\"linecolor\":\"white\",\"ticks\":\"\"}},\"title\":{\"x\":0.05},\"xaxis\":{\"automargin\":true,\"gridcolor\":\"white\",\"linecolor\":\"white\",\"ticks\":\"\",\"title\":{\"standoff\":15},\"zerolinecolor\":\"white\",\"zerolinewidth\":2},\"yaxis\":{\"automargin\":true,\"gridcolor\":\"white\",\"linecolor\":\"white\",\"ticks\":\"\",\"title\":{\"standoff\":15},\"zerolinecolor\":\"white\",\"zerolinewidth\":2}}}},                        {\"responsive\": true}                    ).then(function(){\n",
       "                            \n",
       "var gd = document.getElementById('3b9f2e9b-d273-473d-bed2-41850e34838d');\n",
       "var x = new MutationObserver(function (mutations, observer) {{\n",
       "        var display = window.getComputedStyle(gd).display;\n",
       "        if (!display || display === 'none') {{\n",
       "            console.log([gd, 'removed!']);\n",
       "            Plotly.purge(gd);\n",
       "            observer.disconnect();\n",
       "        }}\n",
       "}});\n",
       "\n",
       "// Listen for the removal of the full notebook cells\n",
       "var notebookContainer = gd.closest('#notebook-container');\n",
       "if (notebookContainer) {{\n",
       "    x.observe(notebookContainer, {childList: true});\n",
       "}}\n",
       "\n",
       "// Listen for the clearing of the current output cell\n",
       "var outputEl = gd.closest('.output');\n",
       "if (outputEl) {{\n",
       "    x.observe(outputEl, {childList: true});\n",
       "}}\n",
       "\n",
       "                        })                };                });            </script>        </div>"
      ]
     },
     "metadata": {},
     "output_type": "display_data"
    }
   ],
   "source": [
    "optuna.visualization.plot_parallel_coordinate(study)\n"
   ]
  },
  {
   "cell_type": "code",
   "execution_count": 36,
   "metadata": {},
   "outputs": [
    {
     "data": {
      "application/vnd.plotly.v1+json": {
       "config": {
        "plotlyServerURL": "https://plot.ly"
       },
       "data": [
        {
         "cliponaxis": false,
         "hovertemplate": [
          "ngf (CategoricalDistribution): 0.017704732372137977<extra></extra>",
          "l2 (LogUniformDistribution): 0.0303109520213946<extra></extra>",
          "beta2 (LogUniformDistribution): 0.055652626697507375<extra></extra>",
          "nz (IntUniformDistribution): 0.08053267932339324<extra></extra>",
          "beta1 (UniformDistribution): 0.17100968753529272<extra></extra>",
          "layers (IntUniformDistribution): 0.2559193246715243<extra></extra>",
          "lr (LogUniformDistribution): 0.3888699973787498<extra></extra>"
         ],
         "marker": {
          "color": "rgb(66,146,198)"
         },
         "orientation": "h",
         "text": [
          "0.017704732372137977",
          "0.0303109520213946",
          "0.055652626697507375",
          "0.08053267932339324",
          "0.17100968753529272",
          "0.2559193246715243",
          "0.3888699973787498"
         ],
         "textposition": "outside",
         "texttemplate": "%{text:.2f}",
         "type": "bar",
         "x": [
          0.017704732372137977,
          0.0303109520213946,
          0.055652626697507375,
          0.08053267932339324,
          0.17100968753529272,
          0.2559193246715243,
          0.3888699973787498
         ],
         "y": [
          "ngf",
          "l2",
          "beta2",
          "nz",
          "beta1",
          "layers",
          "lr"
         ]
        }
       ],
       "layout": {
        "showlegend": false,
        "template": {
         "data": {
          "bar": [
           {
            "error_x": {
             "color": "#2a3f5f"
            },
            "error_y": {
             "color": "#2a3f5f"
            },
            "marker": {
             "line": {
              "color": "#E5ECF6",
              "width": 0.5
             },
             "pattern": {
              "fillmode": "overlay",
              "size": 10,
              "solidity": 0.2
             }
            },
            "type": "bar"
           }
          ],
          "barpolar": [
           {
            "marker": {
             "line": {
              "color": "#E5ECF6",
              "width": 0.5
             },
             "pattern": {
              "fillmode": "overlay",
              "size": 10,
              "solidity": 0.2
             }
            },
            "type": "barpolar"
           }
          ],
          "carpet": [
           {
            "aaxis": {
             "endlinecolor": "#2a3f5f",
             "gridcolor": "white",
             "linecolor": "white",
             "minorgridcolor": "white",
             "startlinecolor": "#2a3f5f"
            },
            "baxis": {
             "endlinecolor": "#2a3f5f",
             "gridcolor": "white",
             "linecolor": "white",
             "minorgridcolor": "white",
             "startlinecolor": "#2a3f5f"
            },
            "type": "carpet"
           }
          ],
          "choropleth": [
           {
            "colorbar": {
             "outlinewidth": 0,
             "ticks": ""
            },
            "type": "choropleth"
           }
          ],
          "contour": [
           {
            "colorbar": {
             "outlinewidth": 0,
             "ticks": ""
            },
            "colorscale": [
             [
              0,
              "#0d0887"
             ],
             [
              0.1111111111111111,
              "#46039f"
             ],
             [
              0.2222222222222222,
              "#7201a8"
             ],
             [
              0.3333333333333333,
              "#9c179e"
             ],
             [
              0.4444444444444444,
              "#bd3786"
             ],
             [
              0.5555555555555556,
              "#d8576b"
             ],
             [
              0.6666666666666666,
              "#ed7953"
             ],
             [
              0.7777777777777778,
              "#fb9f3a"
             ],
             [
              0.8888888888888888,
              "#fdca26"
             ],
             [
              1,
              "#f0f921"
             ]
            ],
            "type": "contour"
           }
          ],
          "contourcarpet": [
           {
            "colorbar": {
             "outlinewidth": 0,
             "ticks": ""
            },
            "type": "contourcarpet"
           }
          ],
          "heatmap": [
           {
            "colorbar": {
             "outlinewidth": 0,
             "ticks": ""
            },
            "colorscale": [
             [
              0,
              "#0d0887"
             ],
             [
              0.1111111111111111,
              "#46039f"
             ],
             [
              0.2222222222222222,
              "#7201a8"
             ],
             [
              0.3333333333333333,
              "#9c179e"
             ],
             [
              0.4444444444444444,
              "#bd3786"
             ],
             [
              0.5555555555555556,
              "#d8576b"
             ],
             [
              0.6666666666666666,
              "#ed7953"
             ],
             [
              0.7777777777777778,
              "#fb9f3a"
             ],
             [
              0.8888888888888888,
              "#fdca26"
             ],
             [
              1,
              "#f0f921"
             ]
            ],
            "type": "heatmap"
           }
          ],
          "heatmapgl": [
           {
            "colorbar": {
             "outlinewidth": 0,
             "ticks": ""
            },
            "colorscale": [
             [
              0,
              "#0d0887"
             ],
             [
              0.1111111111111111,
              "#46039f"
             ],
             [
              0.2222222222222222,
              "#7201a8"
             ],
             [
              0.3333333333333333,
              "#9c179e"
             ],
             [
              0.4444444444444444,
              "#bd3786"
             ],
             [
              0.5555555555555556,
              "#d8576b"
             ],
             [
              0.6666666666666666,
              "#ed7953"
             ],
             [
              0.7777777777777778,
              "#fb9f3a"
             ],
             [
              0.8888888888888888,
              "#fdca26"
             ],
             [
              1,
              "#f0f921"
             ]
            ],
            "type": "heatmapgl"
           }
          ],
          "histogram": [
           {
            "marker": {
             "pattern": {
              "fillmode": "overlay",
              "size": 10,
              "solidity": 0.2
             }
            },
            "type": "histogram"
           }
          ],
          "histogram2d": [
           {
            "colorbar": {
             "outlinewidth": 0,
             "ticks": ""
            },
            "colorscale": [
             [
              0,
              "#0d0887"
             ],
             [
              0.1111111111111111,
              "#46039f"
             ],
             [
              0.2222222222222222,
              "#7201a8"
             ],
             [
              0.3333333333333333,
              "#9c179e"
             ],
             [
              0.4444444444444444,
              "#bd3786"
             ],
             [
              0.5555555555555556,
              "#d8576b"
             ],
             [
              0.6666666666666666,
              "#ed7953"
             ],
             [
              0.7777777777777778,
              "#fb9f3a"
             ],
             [
              0.8888888888888888,
              "#fdca26"
             ],
             [
              1,
              "#f0f921"
             ]
            ],
            "type": "histogram2d"
           }
          ],
          "histogram2dcontour": [
           {
            "colorbar": {
             "outlinewidth": 0,
             "ticks": ""
            },
            "colorscale": [
             [
              0,
              "#0d0887"
             ],
             [
              0.1111111111111111,
              "#46039f"
             ],
             [
              0.2222222222222222,
              "#7201a8"
             ],
             [
              0.3333333333333333,
              "#9c179e"
             ],
             [
              0.4444444444444444,
              "#bd3786"
             ],
             [
              0.5555555555555556,
              "#d8576b"
             ],
             [
              0.6666666666666666,
              "#ed7953"
             ],
             [
              0.7777777777777778,
              "#fb9f3a"
             ],
             [
              0.8888888888888888,
              "#fdca26"
             ],
             [
              1,
              "#f0f921"
             ]
            ],
            "type": "histogram2dcontour"
           }
          ],
          "mesh3d": [
           {
            "colorbar": {
             "outlinewidth": 0,
             "ticks": ""
            },
            "type": "mesh3d"
           }
          ],
          "parcoords": [
           {
            "line": {
             "colorbar": {
              "outlinewidth": 0,
              "ticks": ""
             }
            },
            "type": "parcoords"
           }
          ],
          "pie": [
           {
            "automargin": true,
            "type": "pie"
           }
          ],
          "scatter": [
           {
            "marker": {
             "colorbar": {
              "outlinewidth": 0,
              "ticks": ""
             }
            },
            "type": "scatter"
           }
          ],
          "scatter3d": [
           {
            "line": {
             "colorbar": {
              "outlinewidth": 0,
              "ticks": ""
             }
            },
            "marker": {
             "colorbar": {
              "outlinewidth": 0,
              "ticks": ""
             }
            },
            "type": "scatter3d"
           }
          ],
          "scattercarpet": [
           {
            "marker": {
             "colorbar": {
              "outlinewidth": 0,
              "ticks": ""
             }
            },
            "type": "scattercarpet"
           }
          ],
          "scattergeo": [
           {
            "marker": {
             "colorbar": {
              "outlinewidth": 0,
              "ticks": ""
             }
            },
            "type": "scattergeo"
           }
          ],
          "scattergl": [
           {
            "marker": {
             "colorbar": {
              "outlinewidth": 0,
              "ticks": ""
             }
            },
            "type": "scattergl"
           }
          ],
          "scattermapbox": [
           {
            "marker": {
             "colorbar": {
              "outlinewidth": 0,
              "ticks": ""
             }
            },
            "type": "scattermapbox"
           }
          ],
          "scatterpolar": [
           {
            "marker": {
             "colorbar": {
              "outlinewidth": 0,
              "ticks": ""
             }
            },
            "type": "scatterpolar"
           }
          ],
          "scatterpolargl": [
           {
            "marker": {
             "colorbar": {
              "outlinewidth": 0,
              "ticks": ""
             }
            },
            "type": "scatterpolargl"
           }
          ],
          "scatterternary": [
           {
            "marker": {
             "colorbar": {
              "outlinewidth": 0,
              "ticks": ""
             }
            },
            "type": "scatterternary"
           }
          ],
          "surface": [
           {
            "colorbar": {
             "outlinewidth": 0,
             "ticks": ""
            },
            "colorscale": [
             [
              0,
              "#0d0887"
             ],
             [
              0.1111111111111111,
              "#46039f"
             ],
             [
              0.2222222222222222,
              "#7201a8"
             ],
             [
              0.3333333333333333,
              "#9c179e"
             ],
             [
              0.4444444444444444,
              "#bd3786"
             ],
             [
              0.5555555555555556,
              "#d8576b"
             ],
             [
              0.6666666666666666,
              "#ed7953"
             ],
             [
              0.7777777777777778,
              "#fb9f3a"
             ],
             [
              0.8888888888888888,
              "#fdca26"
             ],
             [
              1,
              "#f0f921"
             ]
            ],
            "type": "surface"
           }
          ],
          "table": [
           {
            "cells": {
             "fill": {
              "color": "#EBF0F8"
             },
             "line": {
              "color": "white"
             }
            },
            "header": {
             "fill": {
              "color": "#C8D4E3"
             },
             "line": {
              "color": "white"
             }
            },
            "type": "table"
           }
          ]
         },
         "layout": {
          "annotationdefaults": {
           "arrowcolor": "#2a3f5f",
           "arrowhead": 0,
           "arrowwidth": 1
          },
          "autotypenumbers": "strict",
          "coloraxis": {
           "colorbar": {
            "outlinewidth": 0,
            "ticks": ""
           }
          },
          "colorscale": {
           "diverging": [
            [
             0,
             "#8e0152"
            ],
            [
             0.1,
             "#c51b7d"
            ],
            [
             0.2,
             "#de77ae"
            ],
            [
             0.3,
             "#f1b6da"
            ],
            [
             0.4,
             "#fde0ef"
            ],
            [
             0.5,
             "#f7f7f7"
            ],
            [
             0.6,
             "#e6f5d0"
            ],
            [
             0.7,
             "#b8e186"
            ],
            [
             0.8,
             "#7fbc41"
            ],
            [
             0.9,
             "#4d9221"
            ],
            [
             1,
             "#276419"
            ]
           ],
           "sequential": [
            [
             0,
             "#0d0887"
            ],
            [
             0.1111111111111111,
             "#46039f"
            ],
            [
             0.2222222222222222,
             "#7201a8"
            ],
            [
             0.3333333333333333,
             "#9c179e"
            ],
            [
             0.4444444444444444,
             "#bd3786"
            ],
            [
             0.5555555555555556,
             "#d8576b"
            ],
            [
             0.6666666666666666,
             "#ed7953"
            ],
            [
             0.7777777777777778,
             "#fb9f3a"
            ],
            [
             0.8888888888888888,
             "#fdca26"
            ],
            [
             1,
             "#f0f921"
            ]
           ],
           "sequentialminus": [
            [
             0,
             "#0d0887"
            ],
            [
             0.1111111111111111,
             "#46039f"
            ],
            [
             0.2222222222222222,
             "#7201a8"
            ],
            [
             0.3333333333333333,
             "#9c179e"
            ],
            [
             0.4444444444444444,
             "#bd3786"
            ],
            [
             0.5555555555555556,
             "#d8576b"
            ],
            [
             0.6666666666666666,
             "#ed7953"
            ],
            [
             0.7777777777777778,
             "#fb9f3a"
            ],
            [
             0.8888888888888888,
             "#fdca26"
            ],
            [
             1,
             "#f0f921"
            ]
           ]
          },
          "colorway": [
           "#636efa",
           "#EF553B",
           "#00cc96",
           "#ab63fa",
           "#FFA15A",
           "#19d3f3",
           "#FF6692",
           "#B6E880",
           "#FF97FF",
           "#FECB52"
          ],
          "font": {
           "color": "#2a3f5f"
          },
          "geo": {
           "bgcolor": "white",
           "lakecolor": "white",
           "landcolor": "#E5ECF6",
           "showlakes": true,
           "showland": true,
           "subunitcolor": "white"
          },
          "hoverlabel": {
           "align": "left"
          },
          "hovermode": "closest",
          "mapbox": {
           "style": "light"
          },
          "paper_bgcolor": "white",
          "plot_bgcolor": "#E5ECF6",
          "polar": {
           "angularaxis": {
            "gridcolor": "white",
            "linecolor": "white",
            "ticks": ""
           },
           "bgcolor": "#E5ECF6",
           "radialaxis": {
            "gridcolor": "white",
            "linecolor": "white",
            "ticks": ""
           }
          },
          "scene": {
           "xaxis": {
            "backgroundcolor": "#E5ECF6",
            "gridcolor": "white",
            "gridwidth": 2,
            "linecolor": "white",
            "showbackground": true,
            "ticks": "",
            "zerolinecolor": "white"
           },
           "yaxis": {
            "backgroundcolor": "#E5ECF6",
            "gridcolor": "white",
            "gridwidth": 2,
            "linecolor": "white",
            "showbackground": true,
            "ticks": "",
            "zerolinecolor": "white"
           },
           "zaxis": {
            "backgroundcolor": "#E5ECF6",
            "gridcolor": "white",
            "gridwidth": 2,
            "linecolor": "white",
            "showbackground": true,
            "ticks": "",
            "zerolinecolor": "white"
           }
          },
          "shapedefaults": {
           "line": {
            "color": "#2a3f5f"
           }
          },
          "ternary": {
           "aaxis": {
            "gridcolor": "white",
            "linecolor": "white",
            "ticks": ""
           },
           "baxis": {
            "gridcolor": "white",
            "linecolor": "white",
            "ticks": ""
           },
           "bgcolor": "#E5ECF6",
           "caxis": {
            "gridcolor": "white",
            "linecolor": "white",
            "ticks": ""
           }
          },
          "title": {
           "x": 0.05
          },
          "xaxis": {
           "automargin": true,
           "gridcolor": "white",
           "linecolor": "white",
           "ticks": "",
           "title": {
            "standoff": 15
           },
           "zerolinecolor": "white",
           "zerolinewidth": 2
          },
          "yaxis": {
           "automargin": true,
           "gridcolor": "white",
           "linecolor": "white",
           "ticks": "",
           "title": {
            "standoff": 15
           },
           "zerolinecolor": "white",
           "zerolinewidth": 2
          }
         }
        },
        "title": {
         "text": "Hyperparameter Importances"
        },
        "xaxis": {
         "title": {
          "text": "Importance for Objective Value"
         }
        },
        "yaxis": {
         "title": {
          "text": "Hyperparameter"
         }
        }
       }
      },
      "text/html": [
       "<div>                            <div id=\"c3d35c7f-1ffd-4c64-87c1-d654252025f4\" class=\"plotly-graph-div\" style=\"height:525px; width:100%;\"></div>            <script type=\"text/javascript\">                require([\"plotly\"], function(Plotly) {                    window.PLOTLYENV=window.PLOTLYENV || {};                                    if (document.getElementById(\"c3d35c7f-1ffd-4c64-87c1-d654252025f4\")) {                    Plotly.newPlot(                        \"c3d35c7f-1ffd-4c64-87c1-d654252025f4\",                        [{\"cliponaxis\":false,\"hovertemplate\":[\"ngf (CategoricalDistribution): 0.017704732372137977<extra></extra>\",\"l2 (LogUniformDistribution): 0.0303109520213946<extra></extra>\",\"beta2 (LogUniformDistribution): 0.055652626697507375<extra></extra>\",\"nz (IntUniformDistribution): 0.08053267932339324<extra></extra>\",\"beta1 (UniformDistribution): 0.17100968753529272<extra></extra>\",\"layers (IntUniformDistribution): 0.2559193246715243<extra></extra>\",\"lr (LogUniformDistribution): 0.3888699973787498<extra></extra>\"],\"marker\":{\"color\":\"rgb(66,146,198)\"},\"orientation\":\"h\",\"text\":[\"0.017704732372137977\",\"0.0303109520213946\",\"0.055652626697507375\",\"0.08053267932339324\",\"0.17100968753529272\",\"0.2559193246715243\",\"0.3888699973787498\"],\"textposition\":\"outside\",\"texttemplate\":\"%{text:.2f}\",\"x\":[0.017704732372137977,0.0303109520213946,0.055652626697507375,0.08053267932339324,0.17100968753529272,0.2559193246715243,0.3888699973787498],\"y\":[\"ngf\",\"l2\",\"beta2\",\"nz\",\"beta1\",\"layers\",\"lr\"],\"type\":\"bar\"}],                        {\"showlegend\":false,\"title\":{\"text\":\"Hyperparameter Importances\"},\"xaxis\":{\"title\":{\"text\":\"Importance for Objective Value\"}},\"yaxis\":{\"title\":{\"text\":\"Hyperparameter\"}},\"template\":{\"data\":{\"bar\":[{\"error_x\":{\"color\":\"#2a3f5f\"},\"error_y\":{\"color\":\"#2a3f5f\"},\"marker\":{\"line\":{\"color\":\"#E5ECF6\",\"width\":0.5},\"pattern\":{\"fillmode\":\"overlay\",\"size\":10,\"solidity\":0.2}},\"type\":\"bar\"}],\"barpolar\":[{\"marker\":{\"line\":{\"color\":\"#E5ECF6\",\"width\":0.5},\"pattern\":{\"fillmode\":\"overlay\",\"size\":10,\"solidity\":0.2}},\"type\":\"barpolar\"}],\"carpet\":[{\"aaxis\":{\"endlinecolor\":\"#2a3f5f\",\"gridcolor\":\"white\",\"linecolor\":\"white\",\"minorgridcolor\":\"white\",\"startlinecolor\":\"#2a3f5f\"},\"baxis\":{\"endlinecolor\":\"#2a3f5f\",\"gridcolor\":\"white\",\"linecolor\":\"white\",\"minorgridcolor\":\"white\",\"startlinecolor\":\"#2a3f5f\"},\"type\":\"carpet\"}],\"choropleth\":[{\"colorbar\":{\"outlinewidth\":0,\"ticks\":\"\"},\"type\":\"choropleth\"}],\"contour\":[{\"colorbar\":{\"outlinewidth\":0,\"ticks\":\"\"},\"colorscale\":[[0.0,\"#0d0887\"],[0.1111111111111111,\"#46039f\"],[0.2222222222222222,\"#7201a8\"],[0.3333333333333333,\"#9c179e\"],[0.4444444444444444,\"#bd3786\"],[0.5555555555555556,\"#d8576b\"],[0.6666666666666666,\"#ed7953\"],[0.7777777777777778,\"#fb9f3a\"],[0.8888888888888888,\"#fdca26\"],[1.0,\"#f0f921\"]],\"type\":\"contour\"}],\"contourcarpet\":[{\"colorbar\":{\"outlinewidth\":0,\"ticks\":\"\"},\"type\":\"contourcarpet\"}],\"heatmap\":[{\"colorbar\":{\"outlinewidth\":0,\"ticks\":\"\"},\"colorscale\":[[0.0,\"#0d0887\"],[0.1111111111111111,\"#46039f\"],[0.2222222222222222,\"#7201a8\"],[0.3333333333333333,\"#9c179e\"],[0.4444444444444444,\"#bd3786\"],[0.5555555555555556,\"#d8576b\"],[0.6666666666666666,\"#ed7953\"],[0.7777777777777778,\"#fb9f3a\"],[0.8888888888888888,\"#fdca26\"],[1.0,\"#f0f921\"]],\"type\":\"heatmap\"}],\"heatmapgl\":[{\"colorbar\":{\"outlinewidth\":0,\"ticks\":\"\"},\"colorscale\":[[0.0,\"#0d0887\"],[0.1111111111111111,\"#46039f\"],[0.2222222222222222,\"#7201a8\"],[0.3333333333333333,\"#9c179e\"],[0.4444444444444444,\"#bd3786\"],[0.5555555555555556,\"#d8576b\"],[0.6666666666666666,\"#ed7953\"],[0.7777777777777778,\"#fb9f3a\"],[0.8888888888888888,\"#fdca26\"],[1.0,\"#f0f921\"]],\"type\":\"heatmapgl\"}],\"histogram\":[{\"marker\":{\"pattern\":{\"fillmode\":\"overlay\",\"size\":10,\"solidity\":0.2}},\"type\":\"histogram\"}],\"histogram2d\":[{\"colorbar\":{\"outlinewidth\":0,\"ticks\":\"\"},\"colorscale\":[[0.0,\"#0d0887\"],[0.1111111111111111,\"#46039f\"],[0.2222222222222222,\"#7201a8\"],[0.3333333333333333,\"#9c179e\"],[0.4444444444444444,\"#bd3786\"],[0.5555555555555556,\"#d8576b\"],[0.6666666666666666,\"#ed7953\"],[0.7777777777777778,\"#fb9f3a\"],[0.8888888888888888,\"#fdca26\"],[1.0,\"#f0f921\"]],\"type\":\"histogram2d\"}],\"histogram2dcontour\":[{\"colorbar\":{\"outlinewidth\":0,\"ticks\":\"\"},\"colorscale\":[[0.0,\"#0d0887\"],[0.1111111111111111,\"#46039f\"],[0.2222222222222222,\"#7201a8\"],[0.3333333333333333,\"#9c179e\"],[0.4444444444444444,\"#bd3786\"],[0.5555555555555556,\"#d8576b\"],[0.6666666666666666,\"#ed7953\"],[0.7777777777777778,\"#fb9f3a\"],[0.8888888888888888,\"#fdca26\"],[1.0,\"#f0f921\"]],\"type\":\"histogram2dcontour\"}],\"mesh3d\":[{\"colorbar\":{\"outlinewidth\":0,\"ticks\":\"\"},\"type\":\"mesh3d\"}],\"parcoords\":[{\"line\":{\"colorbar\":{\"outlinewidth\":0,\"ticks\":\"\"}},\"type\":\"parcoords\"}],\"pie\":[{\"automargin\":true,\"type\":\"pie\"}],\"scatter\":[{\"marker\":{\"colorbar\":{\"outlinewidth\":0,\"ticks\":\"\"}},\"type\":\"scatter\"}],\"scatter3d\":[{\"line\":{\"colorbar\":{\"outlinewidth\":0,\"ticks\":\"\"}},\"marker\":{\"colorbar\":{\"outlinewidth\":0,\"ticks\":\"\"}},\"type\":\"scatter3d\"}],\"scattercarpet\":[{\"marker\":{\"colorbar\":{\"outlinewidth\":0,\"ticks\":\"\"}},\"type\":\"scattercarpet\"}],\"scattergeo\":[{\"marker\":{\"colorbar\":{\"outlinewidth\":0,\"ticks\":\"\"}},\"type\":\"scattergeo\"}],\"scattergl\":[{\"marker\":{\"colorbar\":{\"outlinewidth\":0,\"ticks\":\"\"}},\"type\":\"scattergl\"}],\"scattermapbox\":[{\"marker\":{\"colorbar\":{\"outlinewidth\":0,\"ticks\":\"\"}},\"type\":\"scattermapbox\"}],\"scatterpolar\":[{\"marker\":{\"colorbar\":{\"outlinewidth\":0,\"ticks\":\"\"}},\"type\":\"scatterpolar\"}],\"scatterpolargl\":[{\"marker\":{\"colorbar\":{\"outlinewidth\":0,\"ticks\":\"\"}},\"type\":\"scatterpolargl\"}],\"scatterternary\":[{\"marker\":{\"colorbar\":{\"outlinewidth\":0,\"ticks\":\"\"}},\"type\":\"scatterternary\"}],\"surface\":[{\"colorbar\":{\"outlinewidth\":0,\"ticks\":\"\"},\"colorscale\":[[0.0,\"#0d0887\"],[0.1111111111111111,\"#46039f\"],[0.2222222222222222,\"#7201a8\"],[0.3333333333333333,\"#9c179e\"],[0.4444444444444444,\"#bd3786\"],[0.5555555555555556,\"#d8576b\"],[0.6666666666666666,\"#ed7953\"],[0.7777777777777778,\"#fb9f3a\"],[0.8888888888888888,\"#fdca26\"],[1.0,\"#f0f921\"]],\"type\":\"surface\"}],\"table\":[{\"cells\":{\"fill\":{\"color\":\"#EBF0F8\"},\"line\":{\"color\":\"white\"}},\"header\":{\"fill\":{\"color\":\"#C8D4E3\"},\"line\":{\"color\":\"white\"}},\"type\":\"table\"}]},\"layout\":{\"annotationdefaults\":{\"arrowcolor\":\"#2a3f5f\",\"arrowhead\":0,\"arrowwidth\":1},\"autotypenumbers\":\"strict\",\"coloraxis\":{\"colorbar\":{\"outlinewidth\":0,\"ticks\":\"\"}},\"colorscale\":{\"diverging\":[[0,\"#8e0152\"],[0.1,\"#c51b7d\"],[0.2,\"#de77ae\"],[0.3,\"#f1b6da\"],[0.4,\"#fde0ef\"],[0.5,\"#f7f7f7\"],[0.6,\"#e6f5d0\"],[0.7,\"#b8e186\"],[0.8,\"#7fbc41\"],[0.9,\"#4d9221\"],[1,\"#276419\"]],\"sequential\":[[0.0,\"#0d0887\"],[0.1111111111111111,\"#46039f\"],[0.2222222222222222,\"#7201a8\"],[0.3333333333333333,\"#9c179e\"],[0.4444444444444444,\"#bd3786\"],[0.5555555555555556,\"#d8576b\"],[0.6666666666666666,\"#ed7953\"],[0.7777777777777778,\"#fb9f3a\"],[0.8888888888888888,\"#fdca26\"],[1.0,\"#f0f921\"]],\"sequentialminus\":[[0.0,\"#0d0887\"],[0.1111111111111111,\"#46039f\"],[0.2222222222222222,\"#7201a8\"],[0.3333333333333333,\"#9c179e\"],[0.4444444444444444,\"#bd3786\"],[0.5555555555555556,\"#d8576b\"],[0.6666666666666666,\"#ed7953\"],[0.7777777777777778,\"#fb9f3a\"],[0.8888888888888888,\"#fdca26\"],[1.0,\"#f0f921\"]]},\"colorway\":[\"#636efa\",\"#EF553B\",\"#00cc96\",\"#ab63fa\",\"#FFA15A\",\"#19d3f3\",\"#FF6692\",\"#B6E880\",\"#FF97FF\",\"#FECB52\"],\"font\":{\"color\":\"#2a3f5f\"},\"geo\":{\"bgcolor\":\"white\",\"lakecolor\":\"white\",\"landcolor\":\"#E5ECF6\",\"showlakes\":true,\"showland\":true,\"subunitcolor\":\"white\"},\"hoverlabel\":{\"align\":\"left\"},\"hovermode\":\"closest\",\"mapbox\":{\"style\":\"light\"},\"paper_bgcolor\":\"white\",\"plot_bgcolor\":\"#E5ECF6\",\"polar\":{\"angularaxis\":{\"gridcolor\":\"white\",\"linecolor\":\"white\",\"ticks\":\"\"},\"bgcolor\":\"#E5ECF6\",\"radialaxis\":{\"gridcolor\":\"white\",\"linecolor\":\"white\",\"ticks\":\"\"}},\"scene\":{\"xaxis\":{\"backgroundcolor\":\"#E5ECF6\",\"gridcolor\":\"white\",\"gridwidth\":2,\"linecolor\":\"white\",\"showbackground\":true,\"ticks\":\"\",\"zerolinecolor\":\"white\"},\"yaxis\":{\"backgroundcolor\":\"#E5ECF6\",\"gridcolor\":\"white\",\"gridwidth\":2,\"linecolor\":\"white\",\"showbackground\":true,\"ticks\":\"\",\"zerolinecolor\":\"white\"},\"zaxis\":{\"backgroundcolor\":\"#E5ECF6\",\"gridcolor\":\"white\",\"gridwidth\":2,\"linecolor\":\"white\",\"showbackground\":true,\"ticks\":\"\",\"zerolinecolor\":\"white\"}},\"shapedefaults\":{\"line\":{\"color\":\"#2a3f5f\"}},\"ternary\":{\"aaxis\":{\"gridcolor\":\"white\",\"linecolor\":\"white\",\"ticks\":\"\"},\"baxis\":{\"gridcolor\":\"white\",\"linecolor\":\"white\",\"ticks\":\"\"},\"bgcolor\":\"#E5ECF6\",\"caxis\":{\"gridcolor\":\"white\",\"linecolor\":\"white\",\"ticks\":\"\"}},\"title\":{\"x\":0.05},\"xaxis\":{\"automargin\":true,\"gridcolor\":\"white\",\"linecolor\":\"white\",\"ticks\":\"\",\"title\":{\"standoff\":15},\"zerolinecolor\":\"white\",\"zerolinewidth\":2},\"yaxis\":{\"automargin\":true,\"gridcolor\":\"white\",\"linecolor\":\"white\",\"ticks\":\"\",\"title\":{\"standoff\":15},\"zerolinecolor\":\"white\",\"zerolinewidth\":2}}}},                        {\"responsive\": true}                    ).then(function(){\n",
       "                            \n",
       "var gd = document.getElementById('c3d35c7f-1ffd-4c64-87c1-d654252025f4');\n",
       "var x = new MutationObserver(function (mutations, observer) {{\n",
       "        var display = window.getComputedStyle(gd).display;\n",
       "        if (!display || display === 'none') {{\n",
       "            console.log([gd, 'removed!']);\n",
       "            Plotly.purge(gd);\n",
       "            observer.disconnect();\n",
       "        }}\n",
       "}});\n",
       "\n",
       "// Listen for the removal of the full notebook cells\n",
       "var notebookContainer = gd.closest('#notebook-container');\n",
       "if (notebookContainer) {{\n",
       "    x.observe(notebookContainer, {childList: true});\n",
       "}}\n",
       "\n",
       "// Listen for the clearing of the current output cell\n",
       "var outputEl = gd.closest('.output');\n",
       "if (outputEl) {{\n",
       "    x.observe(outputEl, {childList: true});\n",
       "}}\n",
       "\n",
       "                        })                };                });            </script>        </div>"
      ]
     },
     "metadata": {},
     "output_type": "display_data"
    }
   ],
   "source": [
    "# import sklearn\n",
    "optuna.visualization.plot_param_importances(study)"
   ]
  },
  {
   "cell_type": "code",
   "execution_count": null,
   "metadata": {},
   "outputs": [],
   "source": [
    "# from itertools import product\n",
    "# dimensions = torch.tensor(list(sphere_verts_rgb.grad.shape))\n",
    "# print(\"Total dimension of gradient: {}\\nNonzero dimension of gradient: {}\".format(torch.prod(dimensions), sphere_verts_rgb.grad.count_nonzero()))\n",
    "# plt.figure(figsize=(7,7))\n",
    "# # from pytorch3d.vis.texture_vis import texturesuv_image_matplotlib\n",
    "\n",
    "# texture_image=sphere_verts_rgb.grad*10000000*10\n",
    "\n",
    "# # texturesuv_image_matplotlib(new_src_mesh.textures, subsample=None)\n",
    "\n",
    "# print(texture_image.shape)\n",
    "# plt.imshow(texture_image.squeeze().cpu().detach())"
   ]
  },
  {
   "cell_type": "code",
   "execution_count": null,
   "metadata": {},
   "outputs": [],
   "source": [
    "# plt.hist(netG.detach().cpu().flatten().numpy(), bins=100, log=True)\n",
    "# plt.show()"
   ]
  },
  {
   "cell_type": "code",
   "execution_count": null,
   "metadata": {},
   "outputs": [],
   "source": [
    "# plt.hist(normal_map_base.grad.detach().cpu().flatten().numpy(), bins=100, log=True)\n",
    "# plt.show()"
   ]
  },
  {
   "cell_type": "code",
   "execution_count": null,
   "metadata": {},
   "outputs": [],
   "source": [
    "# plot_losses(losses_gan)"
   ]
  },
  {
   "cell_type": "code",
   "execution_count": null,
   "metadata": {},
   "outputs": [],
   "source": [
    "# visualize_prediction(maps_src_mesh, renderer=renderer_textured, silhouette=False)"
   ]
  },
  {
   "cell_type": "code",
   "execution_count": null,
   "metadata": {
    "colab": {},
    "colab_type": "code",
    "id": "2qTcHO4rR1Rs",
    "scrolled": true
   },
   "outputs": [],
   "source": [
    "# visualize_prediction(maps_src_mesh, renderer=renderer_textured, silhouette=False, camera=target_cameras[0], target_image=target_rgb[0])\n",
    "# plot_losses(losses)"
   ]
  },
  {
   "cell_type": "code",
   "execution_count": null,
   "metadata": {},
   "outputs": [],
   "source": [
    "# plt.figure(figsize=(7,7))\n",
    "# from pytorch3d.vis.texture_vis import texturesuv_image_matplotlib\n",
    "\n",
    "# texture_image=maps_src_mesh.textures.maps_padded()\n",
    "# # texturesuv_image_matplotlib(new_src_mesh.textures, subsample=None)\n",
    "\n",
    "# print(texture_image.shape)\n",
    "# plt.imshow(texture_image.squeeze().cpu().detach())\n",
    "# plt.axis(\"off\");"
   ]
  },
  {
   "cell_type": "code",
   "execution_count": null,
   "metadata": {},
   "outputs": [],
   "source": [
    "# plt.figure(figsize=(7,7))\n",
    "# from pytorch3d.vis.texture_vis import texturesuv_image_matplotlib\n",
    "\n",
    "# # texture_image=new_src_mesh.normalmaps.maps_padded()\n",
    "\n",
    "# texture_image=maps_src_mesh.normalmaps.maps_padded()\n",
    "# # texturesuv_image_matplotlib(new_src_mesh.textures, subsample=None)\n",
    "\n",
    "# print(texture_image.shape)\n",
    "# plt.imshow(texture_image.squeeze().cpu().detach())\n",
    "# plt.axis(\"off\");"
   ]
  },
  {
   "cell_type": "markdown",
   "metadata": {
    "colab_type": "text",
    "id": "akBOm_xcNUms"
   },
   "source": [
    "Save the final predicted mesh:"
   ]
  },
  {
   "cell_type": "code",
   "execution_count": null,
   "metadata": {},
   "outputs": [],
   "source": [
    "# plt.figure(figsize=(7,7))\n",
    "# from pytorch3d.vis.texture_vis import texturesuv_image_matplotlib\n",
    "\n",
    "# texture_image=mesh.normalmaps.maps_padded()\n",
    "# # texturesuv_image_matplotlib(mesh.textures, subsample=None)\n",
    "# # print(src_mesh.textures.maps_padded().shape, new_src_mesh.textures.maps_padded().shape)\n",
    "# # print(texture_image.shape)\n",
    "# plt.imshow(texture_image.squeeze().cpu().detach())\n",
    "# plt.axis(\"off\");"
   ]
  },
  {
   "cell_type": "markdown",
   "metadata": {
    "colab_type": "text",
    "id": "dXoIsGyhxRyK"
   },
   "source": [
    "## 4. Save the final predicted mesh"
   ]
  },
  {
   "cell_type": "code",
   "execution_count": null,
   "metadata": {
    "colab": {},
    "colab_type": "code",
    "id": "OQGhV-psKna8"
   },
   "outputs": [],
   "source": [
    "# # Fetch the verts and faces of the final predicted mesh\n",
    "# final_verts, final_faces = new_src_mesh.get_mesh_verts_faces(0)\n",
    "\n",
    "# # Scale normalize back to the original target size\n",
    "# final_verts = final_verts * scale + center\n",
    "\n",
    "# # Store the predicted mesh using save_obj\n",
    "# final_obj = os.path.join('./', 'final_model.obj')\n",
    "# save_obj(final_obj, final_verts, final_faces)"
   ]
  },
  {
   "cell_type": "markdown",
   "metadata": {
    "colab_type": "text",
    "id": "MtKYp0B6R1Ru"
   },
   "source": [
    "## 5. Conclusion\n",
    "In this tutorial, we learned how to load a textured mesh from an obj file, create a synthetic dataset by rendering the mesh from multiple viewpoints.  We showed how to set up an optimization loop to fit a mesh to the observed dataset images based on a rendered silhouette loss.  We then augmented this optimization loop with an additional loss based on rendered RGB images, which allowed us to predict both a mesh and its texture."
   ]
  },
  {
   "cell_type": "markdown",
   "metadata": {},
   "source": []
  }
 ],
 "metadata": {
  "accelerator": "GPU",
  "anp_metadata": {
   "path": "fbsource/fbcode/vision/fair/pytorch3d/docs/tutorials/fit_textured_mesh.ipynb"
  },
  "bento_stylesheets": {
   "bento/extensions/flow/main.css": true,
   "bento/extensions/kernel_selector/main.css": true,
   "bento/extensions/kernel_ui/main.css": true,
   "bento/extensions/new_kernel/main.css": true,
   "bento/extensions/system_usage/main.css": true,
   "bento/extensions/theme/main.css": true
  },
  "colab": {
   "name": "fit_textured_mesh.ipynb",
   "provenance": [],
   "toc_visible": true
  },
  "disseminate_notebook_info": {
   "backup_notebook_id": "781874812352022"
  },
  "interpreter": {
   "hash": "60cb56d69e6ae3efc575d5956bd5f6d74483d19d65043d3c065644cb49c044fe"
  },
  "kernelspec": {
   "display_name": "intro_to_cv",
   "language": "python",
   "name": "python3"
  },
  "language_info": {
   "codemirror_mode": {
    "name": "ipython",
    "version": 3
   },
   "file_extension": ".py",
   "mimetype": "text/x-python",
   "name": "python",
   "nbconvert_exporter": "python",
   "pygments_lexer": "ipython3",
   "version": "3.8.12"
  }
 },
 "nbformat": 4,
 "nbformat_minor": 1
}
