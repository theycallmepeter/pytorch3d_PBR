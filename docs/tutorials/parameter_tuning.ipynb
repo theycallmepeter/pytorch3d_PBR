{
 "cells": [
  {
   "cell_type": "code",
   "execution_count": 55,
   "metadata": {
    "colab": {},
    "colab_type": "code",
    "id": "_Ip8kp4TfBLZ"
   },
   "outputs": [],
   "source": [
    "# Copyright (c) Facebook, Inc. and its affiliates. All rights reserved."
   ]
  },
  {
   "cell_type": "markdown",
   "metadata": {
    "colab_type": "text",
    "id": "kuXHJv44fBLe"
   },
   "source": [
    "# Fit a mesh via rendering\n",
    "\n",
    "This tutorial shows how to:\n",
    "- Load a mesh and textures from an `.obj` file. \n",
    "- Create a synthetic dataset by rendering a textured mesh from multiple viewpoints\n",
    "- Fit a mesh to the observed synthetic images using differential silhouette rendering\n",
    "- Fit a mesh and its textures using differential textured rendering"
   ]
  },
  {
   "cell_type": "markdown",
   "metadata": {
    "colab_type": "text",
    "id": "Bnj3THhzfBLf"
   },
   "source": [
    "## 0. Install and Import modules"
   ]
  },
  {
   "cell_type": "markdown",
   "metadata": {
    "colab_type": "text",
    "id": "okLalbR_g7NS"
   },
   "source": [
    "Ensure `torch` and `torchvision` are installed. If `pytorch3d` is not installed, install it using the following cell:"
   ]
  },
  {
   "cell_type": "code",
   "execution_count": 56,
   "metadata": {
    "colab": {},
    "colab_type": "code",
    "id": "musUWTglgxSB"
   },
   "outputs": [],
   "source": [
    "# import os\n",
    "# import sys\n",
    "# import torch\n",
    "# need_pytorch3d=False\n",
    "# try:\n",
    "    # import pytorch3d\n",
    "# except ModuleNotFoundError:\n",
    "    # need_pytorch3d=True\n",
    "# if need_pytorch3d:\n",
    "#     if torch.__version__.startswith(\"1.9\") and sys.platform.startswith(\"linux\"):\n",
    "#         # We try to install PyTorch3D via a released wheel.\n",
    "#         version_str=\"\".join([\n",
    "#             f\"py3{sys.version_info.minor}_cu\",\n",
    "#             torch.version.cuda.replace(\".\",\"\"),\n",
    "#             f\"_pyt{torch.__version__[0:5:2]}\"\n",
    "#         ])\n",
    "#         !pip install pytorch3d -f https://dl.fbaipublicfiles.com/pytorch3d/packaging/wheels/{version_str}/download.html\n",
    "#     else:\n",
    "#         # We try to install PyTorch3D from source.\n",
    "#         !curl -LO https://github.com/NVIDIA/cub/archive/1.10.0.tar.gz\n",
    "#         !tar xzf 1.10.0.tar.gz\n",
    "#         os.environ[\"CUB_HOME\"] = os.getcwd() + \"/cub-1.10.0\"\n",
    "#         !pip install 'git+https://github.com/facebookresearch/pytorch3d.git@stable'"
   ]
  },
  {
   "cell_type": "code",
   "execution_count": 57,
   "metadata": {
    "colab": {},
    "colab_type": "code",
    "id": "nX99zdoffBLg"
   },
   "outputs": [],
   "source": [
    "import os\n",
    "import torch\n",
    "from torch import nn\n",
    "from torchvision.transforms import RandomAffine, Resize\n",
    "import optuna\n",
    "\n",
    "\n",
    "import matplotlib.pyplot as plt\n",
    "\n",
    "from pytorch3d.utils import ico_sphere\n",
    "import numpy as np\n",
    "from tqdm.notebook import tqdm\n",
    "\n",
    "# Util function for loading meshes\n",
    "from pytorch3d.io import load_objs_as_meshes, save_obj\n",
    "\n",
    "from pytorch3d.loss import (\n",
    "    chamfer_distance, \n",
    "    mesh_edge_loss, \n",
    "    mesh_laplacian_smoothing, \n",
    "    mesh_normal_consistency,\n",
    ")\n",
    "from torchvision.transforms import RandomAffine, Resize\n",
    "\n",
    "# Data structures and functions for rendering\n",
    "from pytorch3d.structures import Meshes\n",
    "from pytorch3d.renderer import (\n",
    "    look_at_view_transform,\n",
    "    OpenGLPerspectiveCameras, \n",
    "    PointLights, \n",
    "    DirectionalLights, \n",
    "    Materials, \n",
    "    RasterizationSettings, \n",
    "    MeshRenderer, \n",
    "    NormalMeshRenderer,\n",
    "    MeshRasterizer,  \n",
    "    NormalSoftPhongShader,\n",
    "    SoftPhongShader,\n",
    "    SoftSilhouetteShader,\n",
    "    SoftPhongShader,\n",
    "    TexturesVertex,\n",
    "    TexturesUV,\n",
    "    tbn_matrices,\n",
    ")\n",
    "\n",
    "from pytorch3d.renderer.mesh import tbn_matrices\n",
    "# add path for demo utils functions \n",
    "import sys\n",
    "import os\n",
    "sys.path.append(os.path.abspath(''))"
   ]
  },
  {
   "cell_type": "markdown",
   "metadata": {
    "colab_type": "text",
    "id": "Lxmehq6Zhrzv"
   },
   "source": [
    "If using **Google Colab**, fetch the utils file for plotting image grids:"
   ]
  },
  {
   "cell_type": "code",
   "execution_count": 58,
   "metadata": {
    "colab": {},
    "colab_type": "code",
    "id": "HZozr3Pmho-5"
   },
   "outputs": [],
   "source": [
    "# !wget https://raw.githubusercontent.com/facebookresearch/pytorch3d/main/docs/tutorials/utils/plot_image_grid.py\n",
    "# from plot_image_grid import image_grid"
   ]
  },
  {
   "cell_type": "markdown",
   "metadata": {
    "colab_type": "text",
    "id": "g4B62MzYiJUM"
   },
   "source": [
    "OR if running **locally** uncomment and run the following cell:"
   ]
  },
  {
   "cell_type": "code",
   "execution_count": 59,
   "metadata": {
    "colab": {},
    "colab_type": "code",
    "id": "paJ4Im8ahl7O"
   },
   "outputs": [],
   "source": [
    " from utils.plot_image_grid import image_grid"
   ]
  },
  {
   "cell_type": "markdown",
   "metadata": {
    "colab_type": "text",
    "collapsed": true,
    "id": "5jGq772XfBLk"
   },
   "source": [
    "### 1. Load a mesh and texture file\n",
    "\n",
    "Load an `.obj` file and its associated `.mtl` file and create a **Textures** and **Meshes** object. \n",
    "\n",
    "**Meshes** is a unique datastructure provided in PyTorch3D for working with batches of meshes of different sizes. \n",
    "\n",
    "**TexturesVertex** is an auxiliary datastructure for storing vertex rgb texture information about meshes. \n",
    "\n",
    "**Meshes** has several class methods which are used throughout the rendering pipeline."
   ]
  },
  {
   "cell_type": "markdown",
   "metadata": {
    "colab_type": "text",
    "id": "a8eU4zo5jd_H"
   },
   "source": [
    "If running this notebook using **Google Colab**, run the following cell to fetch the mesh obj and texture files and save it at the path `data/cow_mesh`:\n",
    "If running locally, the data is already available at the correct path. "
   ]
  },
  {
   "cell_type": "code",
   "execution_count": 60,
   "metadata": {
    "colab": {},
    "colab_type": "code",
    "id": "tTm0cVuOjb1W"
   },
   "outputs": [],
   "source": [
    "# !mkdir -p data/cow_mesh\n",
    "# !wget -P data/cow_mesh https://dl.fbaipublicfiles.com/pytorch3d/data/cow_mesh/cow.obj\n",
    "# !wget -P data/cow_mesh https://dl.fbaipublicfiles.com/pytorch3d/data/cow_mesh/cow.mtl\n",
    "# !wget -P data/cow_mesh https://dl.fbaipublicfiles.com/pytorch3d/data/cow_mesh/cow_texture.png"
   ]
  },
  {
   "cell_type": "code",
   "execution_count": 61,
   "metadata": {
    "colab": {},
    "colab_type": "code",
    "id": "gi5Kd0GafBLl"
   },
   "outputs": [],
   "source": [
    "# Setup\n",
    "if torch.cuda.is_available():\n",
    "    device = torch.device(\"cuda:0\")\n",
    "    torch.cuda.set_device(device)\n",
    "else:\n",
    "    device = torch.device(\"cpu\")\n",
    "\n",
    "# device = torch.device(\"cpu\")\n",
    "\n",
    "# Set paths\n",
    "DATA_DIR = \"./data\"\n",
    "obj_filename = os.path.join(DATA_DIR, \"cow_mesh/cow.obj\")\n",
    "# obj_filename = os.path.join(DATA_DIR, \"cube_mesh/six_colour_cube.obj\")\n",
    "\n",
    "\n",
    "# Load obj file\n",
    "mesh = load_objs_as_meshes([obj_filename], device=device)\n",
    "\n",
    "# We scale normalize and center the target mesh to fit in a sphere of radius 1 \n",
    "# centered at (0,0,0). (scale, center) will be used to bring the predicted mesh \n",
    "# to its original center and scale.  Note that normalizing the target mesh, \n",
    "# speeds up the optimization but is not necessary!\n",
    "verts = mesh.verts_packed()\n",
    "N = verts.shape[0]\n",
    "center = verts.mean(0)\n",
    "scale = max((verts - center).abs().max(0)[0])\n",
    "mesh.offset_verts_(-center)\n",
    "mesh.scale_verts_((0.75 / float(scale)));"
   ]
  },
  {
   "cell_type": "code",
   "execution_count": 62,
   "metadata": {},
   "outputs": [],
   "source": [
    "# cos_similarity = torch.nn.CosineSimilarity(dim=3)\n",
    "# transform_range_horizontal = 100/1024\n",
    "# transform_range_vertical = 100/1024\n",
    "# transform = RandomAffine(0, translate=(transform_range_horizontal,transform_range_vertical), fill=0.5)\n",
    "# cos_similarity(mesh.normalmaps.maps_padded(), transform(mesh.normalmaps.maps_padded().permute(0,3,1,2)).permute(0,2,3,1).squeeze().cpu().numpy()).mean()"
   ]
  },
  {
   "cell_type": "code",
   "execution_count": 63,
   "metadata": {},
   "outputs": [],
   "source": [
    "# plt.figure(figsize=(7,7))\n",
    "# texture_image=mesh.normalmaps.maps_padded()\n",
    "# print(texture_image.shape)\n",
    "# plt.imshow(texture_image.squeeze().cpu().numpy())\n",
    "# plt.axis(\"off\");"
   ]
  },
  {
   "cell_type": "markdown",
   "metadata": {
    "colab_type": "text",
    "id": "17c4xmtyfBMH"
   },
   "source": [
    "## 2. Dataset Creation\n",
    "\n",
    "We sample different camera positions that encode multiple viewpoints of the cow.  We create a renderer with a shader that performs texture map interpolation.  We render a synthetic dataset of images of the textured cow mesh from multiple viewpoints.\n"
   ]
  },
  {
   "cell_type": "code",
   "execution_count": 64,
   "metadata": {},
   "outputs": [
    {
     "name": "stderr",
     "output_type": "stream",
     "text": [
      "/mnt/c/Projects/deepstimate/pytorch3d/pytorch3d/transforms/transform3d.py:782: UserWarning:\n",
      "\n",
      "R is not a valid rotation matrix\n",
      "\n"
     ]
    },
    {
     "data": {
      "text/plain": [
       "<matplotlib.image.AxesImage at 0x7fa2fcaa3d90>"
      ]
     },
     "execution_count": 64,
     "metadata": {},
     "output_type": "execute_result"
    },
    {
     "data": {
      "image/png": "[encoded data removed]",
      "text/plain": [
       "<Figure size 432x288 with 1 Axes>"
      ]
     },
     "metadata": {
      "needs_background": "light"
     },
     "output_type": "display_data"
    }
   ],
   "source": [
    "imsize = 128\n",
    "# lights = PointLights(device=device, location=[[0.0, 0.0, -1.5]])\n",
    "lights = DirectionalLights(direction=[[0.0, 0.0, -1.0]], device=device)\n",
    "\n",
    "# We arbitrarily choose one particular view that will be used to visualize \n",
    "# results\n",
    "# Changed to novel view\n",
    "rand_elev = 45\n",
    "rand_azim = 135\n",
    "R_novel, T_novel = look_at_view_transform(dist=2.7, elev=rand_elev, azim=rand_azim)\n",
    "\n",
    "camera = OpenGLPerspectiveCameras(device=device, R=R_novel, \n",
    "                                  T=T_novel) \n",
    "\n",
    "\n",
    "# camera = OpenGLPerspectiveCameras(device=device, R=R[None, 1, ...], \n",
    "#                                   T=T[None, 1, ...]) \n",
    "\n",
    "# Define the settings for rasterization and shading. Here we set the output \n",
    "# image to be of size 128X128. As we are rendering images for visualization \n",
    "# purposes only we will set faces_per_pixel=1 and blur_radius=0.0. Refer to \n",
    "# rasterize_meshes.py for explanations of these parameters.  We also leave \n",
    "# bin_size and max_faces_per_bin to their default values of None, which sets \n",
    "# their values using heuristics and ensures that the faster coarse-to-fine \n",
    "# rasterization method is used.  Refer to docs/notes/renderer.md for an \n",
    "# explanation of the difference between naive and coarse-to-fine rasterization. \n",
    "raster_settings = RasterizationSettings(\n",
    "    image_size=imsize, \n",
    "    blur_radius=0.0, \n",
    "    faces_per_pixel=1, \n",
    "    perspective_correct=False,\n",
    ")\n",
    "\n",
    "# Create a Phong renderer by composing a rasterizer and a shader. The textured \n",
    "# Phong shader will interpolate the texture uv coordinates for each vertex, \n",
    "# sample from a texture image and apply the Phong lighting model\n",
    "TBN_matrices = tbn_matrices(mesh)\n",
    "renderer = NormalMeshRenderer(\n",
    "    rasterizer=MeshRasterizer(\n",
    "        cameras=camera, \n",
    "        raster_settings=raster_settings\n",
    "    ),\n",
    "    shader=NormalSoftPhongShader(\n",
    "        device=device, \n",
    "        cameras=camera,\n",
    "        lights=lights,\n",
    "        tangent_matrices=TBN_matrices,\n",
    "    )\n",
    ")\n",
    "random_target, _ = renderer(mesh, cameras=camera, lights=lights)\n",
    "random_target = random_target[...,:3]\n",
    "plt.imshow(random_target.cpu().numpy()[0])"
   ]
  },
  {
   "cell_type": "code",
   "execution_count": 65,
   "metadata": {
    "colab": {},
    "colab_type": "code",
    "id": "CDQKebNNfBMI"
   },
   "outputs": [
    {
     "name": "stdout",
     "output_type": "stream",
     "text": [
      "\n",
      "15 15\n"
     ]
    }
   ],
   "source": [
    "# the number of different viewpoints from which we want to render the mesh.\n",
    "num_views = 30\n",
    "batch_views = 1\n",
    "imsize = 128\n",
    "# Get a batch of viewing angles. \n",
    "elev = np.random.permutation(torch.linspace(0, 360, num_views))\n",
    "azim = np.random.permutation(torch.linspace(-180, 180, num_views))\n",
    "# elev = np.array([45, 45, 225, 225])\n",
    "# azim = np.array([-45, 135, -45, 135])\n",
    "\n",
    "def train_test_split(list):\n",
    "    return list[:len(list)//2], list[len(list)//2:]\n",
    "\n",
    "# Place a point light in front of the object. As mentioned above, the front of \n",
    "# the cow is facing the -z direction. \n",
    "\n",
    "# Initialize an OpenGL perspective camera that represents a batch of different \n",
    "# viewing angles. All the cameras helper methods support mixed type inputs and \n",
    "# broadcasting. So we can view the camera from the a distance of dist=2.7, and \n",
    "# then specify elevation and azimuth angles for each viewpoint as tensors. \n",
    "R, T = look_at_view_transform(dist=2.7, elev=elev, azim=azim)\n",
    "# cameras = OpenGLPerspectiveCameras(device=device, R=R, T=T)\n",
    "\n",
    "# We arbitrarily choose one particular view that will be used to visualize \n",
    "# results\n",
    "# Changed to novel view\n",
    "rand_elev = torch.rand((1,))*360\n",
    "rand_azim = torch.rand((1,))*360 - 180\n",
    "R_novel, T_novel = look_at_view_transform(dist=2.7, elev=rand_elev, azim=rand_azim)\n",
    "\n",
    "camera = OpenGLPerspectiveCameras(device=device, R=R_novel, \n",
    "                                  T=T_novel) \n",
    "\n",
    "\n",
    "# camera = OpenGLPerspectiveCameras(device=device, R=R[None, 1, ...], \n",
    "#                                   T=T[None, 1, ...]) \n",
    "\n",
    "# Define the settings for rasterization and shading. Here we set the output \n",
    "# image to be of size 128X128. As we are rendering images for visualization \n",
    "# purposes only we will set faces_per_pixel=1 and blur_radius=0.0. Refer to \n",
    "# rasterize_meshes.py for explanations of these parameters.  We also leave \n",
    "# bin_size and max_faces_per_bin to their default values of None, which sets \n",
    "# their values using heuristics and ensures that the faster coarse-to-fine \n",
    "# rasterization method is used.  Refer to docs/notes/renderer.md for an \n",
    "# explanation of the difference between naive and coarse-to-fine rasterization. \n",
    "\n",
    "normals_hook = torch.Tensor()\n",
    "raster_settings = RasterizationSettings(\n",
    "    image_size=imsize, \n",
    "    blur_radius=0.0, \n",
    "    faces_per_pixel=1, \n",
    "    perspective_correct=False,\n",
    ")\n",
    "\n",
    "# Create a Phong renderer by composing a rasterizer and a shader. The textured \n",
    "# Phong shader will interpolate the texture uv coordinates for each vertex, \n",
    "# sample from a texture image and apply the Phong lighting model\n",
    "renderer = NormalMeshRenderer(\n",
    "    rasterizer=MeshRasterizer(\n",
    "        cameras=camera, \n",
    "        raster_settings=raster_settings\n",
    "    ),\n",
    "    shader=NormalSoftPhongShader(\n",
    "        device=device, \n",
    "        cameras=camera,\n",
    "        lights=lights,\n",
    "        tangent_matrices=TBN_matrices,\n",
    "    )\n",
    ")\n",
    "\n",
    "# for i\n",
    "# Create a batch of meshes by repeating the cow mesh and associated textures. \n",
    "# Meshes has a useful `extend` method which allows us do this very easily. \n",
    "# This also extends the textures. \n",
    "meshes = mesh.extend(batch_views)\n",
    "target_rgb = []\n",
    "target_cameras = []\n",
    "target_normals = []\n",
    "print()\n",
    "# Render small batches of target views on GPU and append to list to be later converted to CPU tensor\n",
    "for i in range(num_views // batch_views):\n",
    "    # Create cameras for rendering the batch\n",
    "    cameras = OpenGLPerspectiveCameras(device=device, R=R[i*batch_views:(i+1)*batch_views], T=T[i*batch_views:(i+1)*batch_views])\n",
    "    # Render the cow mesh from each viewing angle\n",
    "    target_images_batch, normals = renderer(meshes, cameras=cameras, lights=lights)\n",
    "\n",
    "    # Our multi-view cow dataset will be represented by these 2 lists of tensors,\n",
    "    # each of length num_views.\n",
    "    target_rgb_batch = [target_images_batch[i, ..., :3].cpu() for i in range(batch_views)]\n",
    "    target_cameras_batch = [OpenGLPerspectiveCameras(device=device, R=R[None, i, ...], \n",
    "                                           T=T[None, i, ...]) for i in range(i*batch_views,(i+1)*batch_views)]\n",
    "    target_rgb.extend(target_rgb_batch)\n",
    "    target_cameras.extend(target_cameras_batch)\n",
    "    target_normals.append(normals)\n",
    "\n",
    "\n",
    "# 50/50 split of views for train/test\n",
    "target_rgb, test_rgb = train_test_split(target_rgb)\n",
    "target_cameras, test_cameras = train_test_split(target_cameras)\n",
    "target_normals, test_normals = train_test_split(target_normals)\n",
    "\n",
    "random_target, _ = renderer(mesh, cameras=camera, lights=lights)\n",
    "random_target = random_target[...,:3]\n",
    "print(len(target_rgb), len(target_cameras))"
   ]
  },
  {
   "cell_type": "markdown",
   "metadata": {
    "colab_type": "text",
    "id": "TppB4PVmR1Rc"
   },
   "source": [
    "Visualize the dataset:"
   ]
  },
  {
   "cell_type": "code",
   "execution_count": 66,
   "metadata": {
    "colab": {},
    "colab_type": "code",
    "id": "HHE0CnbVR1Rd"
   },
   "outputs": [
    {
     "name": "stdout",
     "output_type": "stream",
     "text": [
      "\n"
     ]
    },
    {
     "name": "stderr",
     "output_type": "stream",
     "text": [
      "/tmp/ipykernel_924/1255958388.py:4: FutureWarning:\n",
      "\n",
      "The input object of type 'Tensor' is an array-like implementing one of the corresponding protocols (`__array__`, `__array_interface__` or `__array_struct__`); but not a sequence (or 0-D). In the future, this object will be coerced as if it was first converted using `np.array(obj)`. To retain the old behaviour, you have to either modify the type 'Tensor', or assign to an empty array created with `np.empty(correct_shape, dtype=object)`.\n",
      "\n",
      "/tmp/ipykernel_924/1255958388.py:4: VisibleDeprecationWarning:\n",
      "\n",
      "Creating an ndarray from ragged nested sequences (which is a list-or-tuple of lists-or-tuples-or ndarrays with different lengths or shapes) is deprecated. If you meant to do this, you must specify 'dtype=object' when creating the ndarray.\n",
      "\n"
     ]
    },
    {
     "data": {
      "image/png": "[encoded data removed]",
      "text/plain": [
       "<Figure size 1080x648 with 10 Axes>"
      ]
     },
     "metadata": {
      "needs_background": "light"
     },
     "output_type": "display_data"
    }
   ],
   "source": [
    "# RGB images\n",
    "print()\n",
    "\n",
    "image_grid(np.asarray(target_rgb[:10]), rows=2, cols=5, rgb=True)\n",
    "plt.show()"
   ]
  },
  {
   "cell_type": "markdown",
   "metadata": {
    "colab_type": "text",
    "id": "gOb4rYx65E8z"
   },
   "source": [
    "Later in this tutorial, we will fit a mesh to the rendered RGB images, as well as to just images of just the cow silhouette.  For the latter case, we will render a dataset of silhouette images.  Most shaders in PyTorch3D will output an alpha channel along with the RGB image as a 4th channel in an RGBA image.  The alpha channel encodes the probability that each pixel belongs to the foreground of the object.  We construct a soft silhouette shader to render this alpha channel."
   ]
  },
  {
   "cell_type": "code",
   "execution_count": 67,
   "metadata": {
    "colab": {},
    "colab_type": "code",
    "id": "iP_g-nwX4exM"
   },
   "outputs": [],
   "source": [
    "# # Rasterization settings for silhouette rendering  \n",
    "# sigma = 1e-4\n",
    "# raster_settings_silhouette = RasterizationSettings(\n",
    "#     image_size=imsize, \n",
    "#     blur_radius=np.log(1. / 1e-4 - 1.)*sigma, \n",
    "#     faces_per_pixel=50, \n",
    "#     perspective_correct=False,\n",
    "# )\n",
    "\n",
    "# # Silhouette renderer \n",
    "# renderer_silhouette = MeshRenderer(\n",
    "#     rasterizer=MeshRasterizer(\n",
    "#         cameras=camera, \n",
    "#         raster_settings=raster_settings_silhouette\n",
    "#     ),\n",
    "#     shader=SoftSilhouetteShader()\n",
    "# )\n",
    "\n",
    "# # # Render silhouette images.  The 3rd channel of the rendering output is \n",
    "# # # the alpha/silhouette channel\n",
    "# # silhouette_images = renderer_silhouette(meshes, cameras=cameras, lights=lights)\n",
    "# # print(silhouette_images.shape)\n",
    "# # target_silhouette = [silhouette_images[i, ..., 3] for i in range(num_views)]\n",
    "\n",
    "# # # Visualize silhouette images\n",
    "# # image_grid(silhouette_images.cpu().numpy(), rows=4, cols=5, rgb=False)\n",
    "# # plt.show()"
   ]
  },
  {
   "cell_type": "code",
   "execution_count": 68,
   "metadata": {},
   "outputs": [
    {
     "name": "stderr",
     "output_type": "stream",
     "text": [
      "/tmp/ipykernel_924/579964652.py:37: FutureWarning:\n",
      "\n",
      "The input object of type 'Tensor' is an array-like implementing one of the corresponding protocols (`__array__`, `__array_interface__` or `__array_struct__`); but not a sequence (or 0-D). In the future, this object will be coerced as if it was first converted using `np.array(obj)`. To retain the old behaviour, you have to either modify the type 'Tensor', or assign to an empty array created with `np.empty(correct_shape, dtype=object)`.\n",
      "\n",
      "/tmp/ipykernel_924/579964652.py:37: VisibleDeprecationWarning:\n",
      "\n",
      "Creating an ndarray from ragged nested sequences (which is a list-or-tuple of lists-or-tuples-or ndarrays with different lengths or shapes) is deprecated. If you meant to do this, you must specify 'dtype=object' when creating the ndarray.\n",
      "\n",
      "/tmp/ipykernel_924/579964652.py:38: FutureWarning:\n",
      "\n",
      "The input object of type 'Tensor' is an array-like implementing one of the corresponding protocols (`__array__`, `__array_interface__` or `__array_struct__`); but not a sequence (or 0-D). In the future, this object will be coerced as if it was first converted using `np.array(obj)`. To retain the old behaviour, you have to either modify the type 'Tensor', or assign to an empty array created with `np.empty(correct_shape, dtype=object)`.\n",
      "\n",
      "/tmp/ipykernel_924/579964652.py:38: VisibleDeprecationWarning:\n",
      "\n",
      "Creating an ndarray from ragged nested sequences (which is a list-or-tuple of lists-or-tuples-or ndarrays with different lengths or shapes) is deprecated. If you meant to do this, you must specify 'dtype=object' when creating the ndarray.\n",
      "\n"
     ]
    },
    {
     "name": "stdout",
     "output_type": "stream",
     "text": [
      "torch.Size([128, 128])\n"
     ]
    },
    {
     "data": {
      "image/png": "[encoded data removed]",
      "text/plain": [
       "<Figure size 1080x648 with 10 Axes>"
      ]
     },
     "metadata": {
      "needs_background": "light"
     },
     "output_type": "display_data"
    }
   ],
   "source": [
    "# Rasterization settings for silhouette rendering  \n",
    "sigma = 1e-4\n",
    "raster_settings_silhouette = RasterizationSettings(\n",
    "    image_size=imsize, \n",
    "    blur_radius=np.log(1. / 1e-4 - 1.)*sigma, \n",
    "    faces_per_pixel=50, \n",
    "    perspective_correct=False,\n",
    ")\n",
    "\n",
    "# Silhouette renderer \n",
    "renderer_silhouette = MeshRenderer(\n",
    "    rasterizer=MeshRasterizer(\n",
    "        cameras=camera, \n",
    "        raster_settings=raster_settings_silhouette\n",
    "    ),\n",
    "    shader=SoftSilhouetteShader()\n",
    ")\n",
    "\n",
    "# Render silhouette images.  The 3rd channel of the rendering output is \n",
    "# the alpha/silhouette channel\n",
    "target_silhouette = []\n",
    "silhouette_images = []\n",
    "for i in range(num_views // batch_views):\n",
    "    # Create cameras for rendering the batch\n",
    "    cameras = OpenGLPerspectiveCameras(device=device, R=R[i*batch_views:(i+1)*batch_views], T=T[i*batch_views:(i+1)*batch_views])\n",
    "    # Render the cow mesh from each viewing angle\n",
    "    silhouette_images_batch = renderer_silhouette(meshes, cameras=cameras, lights=lights)\n",
    "    silhouette_images.extend(silhouette_images_batch.cpu())\n",
    "    # Our multi-view cow dataset will be represented by these 2 lists of tensors,\n",
    "    # each of length num_views.\n",
    "    target_silhouette_batch = [silhouette_images_batch[i, ..., 3].cpu() for i in range(batch_views)]\n",
    "    # target_cameras_batch = [OpenGLPerspectiveCameras(device=device, R=R[None, i, ...], \n",
    "                                        #    T=T[None, i, ...]) for i in range(i*batch_views,(i+1)*batch_views)]\n",
    "    target_silhouette.extend(target_silhouette_batch)\n",
    "    # target_cameras.extend(target_cameras_batch)\n",
    "# Visualize silhouette images\n",
    "print(np.asarray(target_silhouette[:10])[0].shape)\n",
    "image_grid(np.asarray(silhouette_images[:10]), rows=2, cols=5, rgb=False)\n",
    "plt.show()"
   ]
  },
  {
   "cell_type": "markdown",
   "metadata": {
    "colab_type": "text",
    "id": "t3qphI1ElUb5"
   },
   "source": [
    "## 3. Mesh prediction via silhouette rendering\n",
    "In the previous section, we created a dataset of images of multiple viewpoints of a cow.  In this section, we predict a mesh by observing those target images without any knowledge of the ground truth cow mesh.  We assume we know the position of the cameras and lighting.\n",
    "\n",
    "We first define some helper functions to visualize the results of our mesh prediction:"
   ]
  },
  {
   "cell_type": "code",
   "execution_count": 69,
   "metadata": {
    "colab": {},
    "colab_type": "code",
    "id": "eeWYHROrR1Rh"
   },
   "outputs": [],
   "source": [
    "# Show a visualization comparing the rendered predicted mesh to the ground truth \n",
    "# mesh\n",
    "def visualize_prediction(predicted_mesh, renderer=renderer_silhouette, \n",
    "                         target_image=random_target[0], title='', \n",
    "                         silhouette=False, camera = camera):\n",
    "    inds = 3 if silhouette else range(3)\n",
    "    with torch.no_grad():\n",
    "        predicted_images, _ = renderer(predicted_mesh, cameras=camera)\n",
    "    plt.figure(figsize=(20, 10))\n",
    "    plt.subplot(1, 2, 1)\n",
    "    plt.imshow(predicted_images[0, ..., inds].cpu().detach().numpy())\n",
    "\n",
    "    plt.subplot(1, 2, 2)\n",
    "    plt.imshow(target_image.cpu().detach().numpy())\n",
    "    plt.title(title)\n",
    "    plt.axis(\"off\")\n",
    "\n",
    "# Plot losses as a function of optimization iteration\n",
    "def plot_losses(losses):\n",
    "    fig = plt.figure(figsize=(13, 5))\n",
    "    ax = fig.gca()\n",
    "    for k, l in losses.items():\n",
    "        ax.plot(l['values'], label=k + \" loss\")\n",
    "    ax.legend(fontsize=\"16\")\n",
    "    ax.set_xlabel(\"Iteration\", fontsize=\"16\")\n",
    "    ax.set_ylabel(\"Loss\", fontsize=\"16\")\n",
    "    ax.set_title(\"Loss vs iterations\", fontsize=\"16\")"
   ]
  },
  {
   "cell_type": "markdown",
   "metadata": {
    "colab_type": "text",
    "id": "PpsvBpuMR1Ri"
   },
   "source": [
    "Starting from a sphere mesh, we will learn offsets of each vertex such that the predicted mesh silhouette is more similar to the target silhouette image at each optimization step.  We begin by loading our initial sphere mesh:"
   ]
  },
  {
   "cell_type": "code",
   "execution_count": 70,
   "metadata": {
    "colab": {},
    "colab_type": "code",
    "id": "i989ARH1R1Rj"
   },
   "outputs": [],
   "source": [
    "# We initialize the source shape to be a sphere of radius 1.  \n",
    "silhouette_src_mesh = ico_sphere(4, device)\n",
    "# src_mesh = mesh.clone()"
   ]
  },
  {
   "cell_type": "code",
   "execution_count": 71,
   "metadata": {},
   "outputs": [
    {
     "name": "stdout",
     "output_type": "stream",
     "text": [
      "torch.Size([2562]) torch.Size([2562])\n",
      "torch.Size([2562, 2]) tensor(1., device='cuda:0') tensor(0., device='cuda:0')\n",
      "Target shapes faces: torch.Size([1, 5856, 3]), verts: torch.Size([1, 2930, 3])\n",
      "Target shapes facesUVs: torch.Size([1, 5856, 3]), vertsUVs: torch.Size([1, 3225, 2])\n",
      "torch.Size([2562, 3])\n"
     ]
    },
    {
     "data": {
      "image/png": "[encoded data removed]",
      "text/plain": [
       "<Figure size 432x288 with 1 Axes>"
      ]
     },
     "metadata": {
      "needs_background": "light"
     },
     "output_type": "display_data"
    }
   ],
   "source": [
    "# Functions from my L4 project\n",
    "def to_geocentric(lat, lon):\n",
    "    \"\"\"\n",
    "    Converts a latitude longitude pair to geocentric X Y Z coordinates\n",
    "    \"\"\"\n",
    "    lat = np.radians(lat)\n",
    "    lon = np.radians(lon)\n",
    "    return np.array([np.cos(lat) * np.cos(lon), np.cos(lat) * np.sin(lon), np.sin(lat)])\n",
    "\n",
    "# lat lon but longitude is scaled to half to have a square representation\n",
    "def to_lat_lon(coords):\n",
    "    \"\"\"\n",
    "    Converts X Y Z geocentric coordinates into latitude and longitude\n",
    "    \"\"\"\n",
    "    return np.array([np.degrees(np.arcsin(coords[2])), np.degrees(np.arctan2(coords[1], coords[0]))])\n",
    "\n",
    "# Creating UVs for sphere using equirectangular projection with scaled v axis\n",
    "sphere_verts = silhouette_src_mesh.verts_packed()\n",
    "xyz_to_u = torch.rad2deg(torch.arcsin(sphere_verts[:,2])) + 90\n",
    "xyz_to_v = (torch.rad2deg(torch.atan2(sphere_verts[:,1], sphere_verts[:,0])) + 180) / 2 \n",
    "print(xyz_to_u.shape, xyz_to_v.shape)\n",
    "sphere_verts_uvs = torch.stack([xyz_to_u, xyz_to_v], dim=1) / 180\n",
    "print(sphere_verts_uvs.shape, sphere_verts_uvs.max(), sphere_verts_uvs.min())\n",
    "# need to solve seams somehow\n",
    "# u = 0.5 + (torch.atan2(verts[:,0], verts[:,1])/(np.pi*2))\n",
    "# v = 0.5 - (torch.arcsin(verts[:,2])/np.pi)\n",
    "# uv_map = torch.stack([u,v], dim=1).unsqueeze(dim=0).to(device)\n",
    "print(\"Target shapes faces: {}, verts: {}\".format(mesh.faces_padded().shape, mesh.verts_padded().shape, ))\n",
    "print(\"Target shapes facesUVs: {}, vertsUVs: {}\".format(mesh.textures.faces_uvs_padded().shape,  mesh.textures.verts_uvs_padded().shape))\n",
    "print(silhouette_src_mesh.verts_packed().shape)\n",
    "# silhouette_src_mesh.verts_padded().map\n",
    "plt.scatter(sphere_verts_uvs.cpu()[:,0], sphere_verts_uvs.cpu()[:,1], s=1)\n",
    "plt.show()\n",
    "silhouette_src_mesh.textures = TexturesUV(mesh.textures.maps_padded(), faces_uvs=silhouette_src_mesh.faces_packed().unsqueeze(0), verts_uvs=sphere_verts_uvs.unsqueeze(0))"
   ]
  },
  {
   "cell_type": "code",
   "execution_count": 72,
   "metadata": {},
   "outputs": [
    {
     "data": {
      "image/png": "[encoded data removed]",
      "text/plain": [
       "<Figure size 504x504 with 1 Axes>"
      ]
     },
     "metadata": {
      "needs_background": "light"
     },
     "output_type": "display_data"
    }
   ],
   "source": [
    "plt.figure(figsize=(7,7))\n",
    "from pytorch3d.vis.texture_vis import texturesuv_image_matplotlib\n",
    "\n",
    "# texture_image=src_mesh.textures.maps_padded()\n",
    "texturesuv_image_matplotlib(silhouette_src_mesh.textures, subsample=None)\n",
    "\n",
    "# print(texture_image.shape)\n",
    "# plt.imshow(texture_image.squeeze().cpu().detach())\n",
    "plt.axis(\"off\");"
   ]
  },
  {
   "cell_type": "markdown",
   "metadata": {
    "colab_type": "text",
    "id": "f5xVtgLNDvC5"
   },
   "source": [
    "We create a new differentiable renderer for rendering the silhouette of our predicted mesh:"
   ]
  },
  {
   "cell_type": "code",
   "execution_count": 73,
   "metadata": {
    "colab": {},
    "colab_type": "code",
    "id": "sXfjzgG4DsDJ"
   },
   "outputs": [],
   "source": [
    "# Rasterization settings for differentiable rendering, where the blur_radius\n",
    "# initialization is based on Liu et al, 'Soft Rasterizer: A Differentiable \n",
    "# Renderer for Image-based 3D Reasoning', ICCV 2019\n",
    "sigma = 1e-4\n",
    "raster_settings_soft = RasterizationSettings(\n",
    "    image_size=imsize, \n",
    "    blur_radius=np.log(1. / 1e-4 - 1.)*sigma, \n",
    "    faces_per_pixel=50, \n",
    "    perspective_correct=False,\n",
    ")\n",
    "\n",
    "# Silhouette renderer \n",
    "renderer_silhouette = MeshRenderer(\n",
    "    rasterizer=MeshRasterizer(\n",
    "        cameras=camera, \n",
    "        raster_settings=raster_settings_soft\n",
    "    ),\n",
    "    shader=SoftSilhouetteShader()\n",
    ")"
   ]
  },
  {
   "cell_type": "markdown",
   "metadata": {
    "colab_type": "text",
    "id": "SGJKbCB6R1Rk"
   },
   "source": [
    "We initialize settings, losses, and the optimizer that will be used to iteratively fit our mesh to the target silhouettes:"
   ]
  },
  {
   "cell_type": "code",
   "execution_count": 74,
   "metadata": {
    "colab": {},
    "colab_type": "code",
    "id": "0sLrKv_MEULh"
   },
   "outputs": [],
   "source": [
    "# Number of views to optimize over in each SGD iteration\n",
    "num_views_per_iteration = 5\n",
    "# Number of optimization steps\n",
    "Niter = 1000\n",
    "# Plot period for the losses\n",
    "plot_period = 250\n",
    "\n",
    "%matplotlib inline\n",
    "\n",
    "# Optimize using rendered silhouette image loss, mesh edge loss, mesh normal \n",
    "# consistency, and mesh laplacian smoothing\n",
    "losses = {\"silhouette\": {\"weight\": 1.0, \"values\": []},\n",
    "          \"edge\": {\"weight\": 1.0, \"values\": []},\n",
    "          \"normal\": {\"weight\": 0.01, \"values\": []},\n",
    "          \"laplacian\": {\"weight\": 1.0, \"values\": []},\n",
    "         }\n",
    "\n",
    "# Losses to smooth / regularize the mesh shape\n",
    "def update_mesh_shape_prior_losses(mesh, loss):\n",
    "    # and (b) the edge length of the predicted mesh\n",
    "    loss[\"edge\"] = mesh_edge_loss(mesh)\n",
    "    \n",
    "    # mesh normal consistency\n",
    "    loss[\"normal\"] = mesh_normal_consistency(mesh)\n",
    "    \n",
    "    # mesh laplacian smoothing\n",
    "    loss[\"laplacian\"] = mesh_laplacian_smoothing(mesh, method=\"uniform\")\n",
    "\n",
    "# We will learn to deform the source mesh by offsetting its vertices\n",
    "# The shape of the deform parameters is equal to the total number of vertices in\n",
    "# src_mesh\n",
    "verts_shape = silhouette_src_mesh.verts_packed().shape\n",
    "deform_verts = torch.full(verts_shape, 0.0, device=device, requires_grad=True)\n",
    "\n",
    "# The optimizer\n",
    "optimizer = torch.optim.SGD([deform_verts], lr=1.0, momentum=0.9)"
   ]
  },
  {
   "cell_type": "markdown",
   "metadata": {
    "colab_type": "text",
    "id": "QLc9zK8lEqFS"
   },
   "source": [
    "We write an optimization loop to iteratively refine our predicted mesh from the sphere mesh into a mesh that matches the silhouettes of the target images:"
   ]
  },
  {
   "cell_type": "code",
   "execution_count": 75,
   "metadata": {
    "colab": {},
    "colab_type": "code",
    "id": "gCfepfOoR1Rl"
   },
   "outputs": [
    {
     "data": {
      "application/vnd.jupyter.widget-view+json": {
       "model_id": "aa34bccdcde24a6b8fed9b2e8444b934",
       "version_major": 2,
       "version_minor": 0
      },
      "text/plain": [
       "  0%|          | 0/1000 [00:00<?, ?it/s]"
      ]
     },
     "metadata": {},
     "output_type": "display_data"
    }
   ],
   "source": [
    "loop = tqdm(range(Niter))\n",
    "\n",
    "for i in loop:\n",
    "    # Initialize optimizer\n",
    "    optimizer.zero_grad()\n",
    "    \n",
    "    # Deform the mesh\n",
    "    new_src_mesh = silhouette_src_mesh.offset_verts(deform_verts)\n",
    "    \n",
    "    # Losses to smooth /regularize the mesh shape\n",
    "    loss = {k: torch.tensor(0.0, device=device) for k in losses}\n",
    "    update_mesh_shape_prior_losses(new_src_mesh, loss)\n",
    "    \n",
    "    # Compute the average silhouette loss over two random views, as the average \n",
    "    # squared L2 distance between the predicted silhouette and the target \n",
    "    # silhouette from our dataset\n",
    "    for j in np.random.permutation(len(target_cameras)).tolist()[:num_views_per_iteration]:\n",
    "        images_predicted = renderer_silhouette(new_src_mesh, cameras=target_cameras[j], lights=lights)\n",
    "        predicted_silhouette = images_predicted[..., 3]\n",
    "        loss_silhouette = ((predicted_silhouette - target_silhouette[j].to(device)) ** 2).mean()\n",
    "        loss[\"silhouette\"] += loss_silhouette / num_views_per_iteration\n",
    "    \n",
    "    # Weighted sum of the losses\n",
    "    sum_loss = torch.tensor(0.0, device=device)\n",
    "    for k, l in loss.items():\n",
    "        sum_loss += l * losses[k][\"weight\"]\n",
    "        losses[k][\"values\"].append(float(l.detach().cpu()))\n",
    "\n",
    "    \n",
    "    # Print the losses\n",
    "    loop.set_description(\"total_loss = %.6f\" % sum_loss)\n",
    "    \n",
    "    # Plot mesh\n",
    "    # if i % plot_period == 0:\n",
    "    #     visualize_prediction(new_src_mesh, title=\"iter: %d\" % i, silhouette=True,\n",
    "    #                          target_image=target_silhouette[1])\n",
    "        \n",
    "    # Optimization step\n",
    "    sum_loss.backward()\n",
    "    optimizer.step()"
   ]
  },
  {
   "cell_type": "code",
   "execution_count": 76,
   "metadata": {
    "colab": {},
    "colab_type": "code",
    "id": "CX4huayKR1Rm",
    "scrolled": true
   },
   "outputs": [],
   "source": [
    "# sum_loss=None\n",
    "silhouette_result = new_src_mesh.clone().detach()\n",
    "# visualize_prediction(silhouette_result, silhouette=True, \n",
    "#                      target_image=target_silhouette[1], camera=target_cameras[1])\n",
    "# plot_losses(losses)"
   ]
  },
  {
   "cell_type": "markdown",
   "metadata": {
    "colab_type": "text",
    "id": "XJDsJQmrR1Ro"
   },
   "source": [
    "## 3. Mesh and texture prediction via textured rendering\n",
    "We can predict both the mesh and its texture if we add an additional loss based on the comparing a predicted rendered RGB image to the target image. As before, we start with a sphere mesh.  We learn both translational offsets and RGB texture colors for each vertex in the sphere mesh.  Since our loss is based on rendered RGB pixel values instead of just the silhouette, we use a **SoftPhongShader** instead of a **SoftSilhouetteShader**."
   ]
  },
  {
   "cell_type": "code",
   "execution_count": 77,
   "metadata": {
    "colab": {},
    "colab_type": "code",
    "id": "aZObyIt9R1Ro"
   },
   "outputs": [],
   "source": [
    "# Rasterization settings for differentiable rendering, where the blur_radius\n",
    "# initialization is based on Liu et al, 'Soft Rasterizer: A Differentiable \n",
    "# Renderer for Image-based 3D Reasoning', ICCV 2019\n",
    "\n",
    "new_TBN_matrices = tbn_matrices(silhouette_result)\n",
    "\n",
    "sigma = 1e-4\n",
    "raster_settings_soft = RasterizationSettings(\n",
    "    image_size=imsize, \n",
    "    blur_radius=np.log(1. / 1e-4 - 1.)*sigma, \n",
    "    faces_per_pixel=50, \n",
    "    perspective_correct=False,\n",
    ")\n",
    "\n",
    "# Differentiable soft renderer using per vertex RGB colors for texture\n",
    "renderer_textured = MeshRenderer(\n",
    "    rasterizer=MeshRasterizer(\n",
    "        cameras=camera, \n",
    "        raster_settings=raster_settings_soft\n",
    "    ),\n",
    "    shader=NormalSoftPhongShader(device=device, \n",
    "        cameras=camera,\n",
    "        lights=lights,\n",
    "        tangent_matrices=new_TBN_matrices)\n",
    ")\n"
   ]
  },
  {
   "cell_type": "markdown",
   "metadata": {
    "colab_type": "text",
    "id": "NM7gJux8GMQX"
   },
   "source": [
    "We initialize settings, losses, and the optimizer that will be used to iteratively fit our mesh to the target RGB images:"
   ]
  },
  {
   "cell_type": "markdown",
   "metadata": {
    "colab_type": "text",
    "id": "tzIAycuUR1Rq"
   },
   "source": [
    "We write an optimization loop to iteratively refine our predicted mesh and its vertex colors from the sphere mesh into a mesh that matches the target images:"
   ]
  },
  {
   "cell_type": "code",
   "execution_count": 78,
   "metadata": {},
   "outputs": [],
   "source": [
    "\n",
    "# Texture generator Code\n",
    "class Generator(nn.Module):\n",
    "    def __init__(self, ngpu, ngf = 32, nc=3, nz=100, type = \"normal\", conv_layers = 4):\n",
    "        super(Generator, self).__init__()\n",
    "        self.type = type\n",
    "        self.ngpu = ngpu\n",
    "        self.deconv = nn.Sequential(\n",
    "            # Testing convoluting target image first \n",
    "            # input is (nc) x 128 x 128\n",
    "            nn.Conv2d(nc, ngf, 4, 2, 1, bias=False),\n",
    "            nn.LeakyReLU(0.2, inplace=True),\n",
    "            # nn.Dropout2d(p=0.25),\n",
    "            # state size. (ndf) x 64 x 64\n",
    "            nn.Conv2d(ngf, ngf * 2, 4, 2, 1, bias=False),\n",
    "            nn.BatchNorm2d(ngf * 2),\n",
    "            nn.LeakyReLU(0.2, inplace=True),\n",
    "            # nn.Dropout2d(p=0.25),\n",
    "            # state size. (ndf*2) x 32 x 32\n",
    "            nn.Conv2d(ngf * 2, ngf * 4, 4, 2, 1, bias=False),\n",
    "            nn.BatchNorm2d(ngf * 4),\n",
    "            nn.LeakyReLU(0.2, inplace=True),\n",
    "            # state size. (ndf*4) x 16 x 16\n",
    "            nn.Flatten(),\n",
    "            nn.Linear(ngf * 4 * 16*16, nz),\n",
    "            UnsqueezeLatent(),\n",
    "        )\n",
    "        self.tanh = nn.Tanh()           \n",
    "        scale_factor = max(8, 8*(2**(4-conv_layers)))\n",
    "        self.upsampler = nn.Upsample(scale_factor=scale_factor, mode='bilinear')\n",
    "        self.normal_generator = nn.Sequential(\n",
    "            nn.ConvTranspose2d( ngf, nc, 4, 4, 0, bias=False),\n",
    "            nn.ReLU(True),\n",
    "            nn.ConvTranspose2d( nc, nc, 3, 1, 1, bias=False),\n",
    "        )\n",
    "        self.texture_generator = nn.Sequential(\n",
    "            nn.ConvTranspose2d( ngf, nc, 4, 4, 0, bias=False),\n",
    "            nn.ReLU(True),\n",
    "            nn.ConvTranspose2d( nc, nc, 3, 1, 1, bias=False),\n",
    "        )\n",
    "\n",
    "        if type == \"normal\":\n",
    "            self.generator = nn.Sequential(\n",
    "                # input is Z, going into a convolution\n",
    "                nn.ConvTranspose2d( nz, ngf * 8, 4, 1, 0, bias=False),\n",
    "                # nn.BatchNorm2d(ngf * 8),\n",
    "                nn.ReLU(True),\n",
    "                # nn.Dropout2d(p=0.25),\n",
    "                # state size. (ngf*8) x 4 x 4\n",
    "                nn.ConvTranspose2d(ngf * 8, ngf * 4, 4, 2, 1, bias=False),\n",
    "                # ResConvTranspose(nn.ConvTranspose2d(ngf, ngf, 4, 2, 1, bias=False),nn.Upsample(scale_factor=2, mode='bilinear')),\n",
    "                # nn.BatchNorm2d(ngf * 4),\n",
    "                nn.ReLU(True),\n",
    "                # nn.Dropout2d(p=0.25),\n",
    "                # state size. (ngf*4) x 8 x 8\n",
    "                nn.ConvTranspose2d( ngf * 4, ngf * 2, 4, 2, 1, bias=False),\n",
    "                # ResConvTranspose(nn.ConvTranspose2d( ngf, ngf, 4, 2, 1, bias=False),nn.Upsample(scale_factor=2, mode='bilinear')),\n",
    "                # nn.BatchNorm2d(ngf * 2),\n",
    "                nn.ReLU(True),\n",
    "                # nn.Dropout2d(p=0.25),\n",
    "                # state size. (ngf*2) x 16 x 16\n",
    "                nn.ConvTranspose2d( ngf * 2, ngf, 4, 2, 1, bias=False),\n",
    "                # ResConvTranspose(nn.ConvTranspose2d( ngf, ngf, 4, 2, 1, bias=False),nn.Upsample(scale_factor=2, mode='bilinear')),\n",
    "                # nn.BatchNorm2d(ngf),\n",
    "                nn.ReLU(True),\n",
    "                # nn.Dropout2d(p=0.25),\n",
    "                # state size. (ngf) x 32 x 32\n",
    "                # nn.ConvTranspose2d( ngf, ngf//2, 4, 2, 1, bias=False),\n",
    "                # nn.BatchNorm2d(ngf//2),\n",
    "                # nn.ReLU(True),\n",
    "                # nn.Dropout2d(),\n",
    "                # state size. (ngf) x 64 x 64\n",
    "                nn.ConvTranspose2d( ngf, nc, 4, 4, 0, bias=False),\n",
    "                nn.Tanh(),\n",
    "                # nn.Upsample(scale_factor=4, mode='bilinear')\n",
    "                # state size. (nc) x 128 x 128\n",
    "            )\n",
    "        elif type == \"residual\":\n",
    "            self.generator =  nn.Sequential(\n",
    "            # input is Z, going into a convolution\n",
    "            nn.ConvTranspose2d( nz, ngf, 4, 1, 0, bias=False),\n",
    "            # nn.BatchNorm2d(ngf * 8),\n",
    "            nn.ReLU(True),\n",
    "            # nn.Dropout2d(p=0.25),\n",
    "            # state size. (ngf*8) x 4 x 4\n",
    "            ResConvTranspose(nn.ConvTranspose2d(ngf, ngf, 4, 2, 1, bias=False),nn.Upsample(scale_factor=2, mode='bilinear')),\n",
    "            # nn.BatchNorm2d(ngf * 4),\n",
    "            nn.ReLU(True),\n",
    "            # nn.Dropout2d(p=0.25),\n",
    "            # state size. (ngf*4) x 8 x 8\n",
    "            ResConvTranspose(nn.ConvTranspose2d( ngf, ngf, 4, 2, 1, bias=False),nn.Upsample(scale_factor=2, mode='bilinear')),\n",
    "            # nn.BatchNorm2d(ngf * 2),\n",
    "            nn.ReLU(True),\n",
    "            # nn.Dropout2d(p=0.25),\n",
    "            # state size. (ngf*2) x 16 x 16\n",
    "            ResConvTranspose(nn.ConvTranspose2d( ngf, ngf, 4, 2, 1, bias=False),nn.Upsample(scale_factor=2, mode='bilinear')),\n",
    "            # nn.BatchNorm2d(ngf),\n",
    "            nn.ReLU(True),\n",
    "            # nn.Dropout2d(p=0.25),\n",
    "            # state size. (ngf) x 32 x 32\n",
    "            # nn.ConvTranspose2d( ngf, ngf//2, 4, 2, 1, bias=False),\n",
    "            # nn.BatchNorm2d(ngf//2),\n",
    "            # nn.ReLU(True),\n",
    "            # nn.Dropout2d(),\n",
    "            # state size. (ngf) x 64 x 64\n",
    "            nn.ConvTranspose2d( ngf, nc, 4, 4, 0, bias=False),\n",
    "            nn.Tanh(),\n",
    "            # nn.Upsample(scale_factor=4, mode='bilinear')\n",
    "            # state size. (nc) x 128 x 128\n",
    "        )\n",
    "        elif type == \"simultaneous\":\n",
    "            modules = [nn.ConvTranspose2d(nz, ngf * (2**(conv_layers-1)), 4, 1, 0, bias=False),\n",
    "                nn.BatchNorm2d(ngf * (2**(conv_layers-1))),\n",
    "                nn.ReLU(True)]\n",
    "\n",
    "            # deconv layers that upscale by 2, maximum to 128x128\n",
    "            for i in range(conv_layers - 1, max(conv_layers-4, 0), -1):\n",
    "                modules.extend([\n",
    "                nn.ConvTranspose2d(ngf * (2**(i)), ngf * (2**(i-1)), 4, 2, 1, bias=False),\n",
    "                nn.BatchNorm2d(ngf * (2**(i-1))),\n",
    "                nn.ReLU(True)\n",
    "                ])\n",
    "            # convolution layers without upscaling beyond 128x128 to save on memory\n",
    "            if conv_layers > 4:\n",
    "                for j in range(conv_layers-4, 0, -1):\n",
    "                    modules.extend([\n",
    "                        nn.ConvTranspose2d(ngf * (2**(j)), ngf * (2**(j-1)), 3, 1, 1, bias=False),\n",
    "                        nn.BatchNorm2d(ngf * (2**(j-1))),\n",
    "                        nn.ReLU(True) \n",
    "                    ])\n",
    "\n",
    "            self.generator = nn.Sequential(*modules)\n",
    "    def forward(self, input):\n",
    "        if self.type == \"simultaneous\":\n",
    "            result = self.generator(input)\n",
    "            return self.upsampler(self.tanh(self.texture_generator(result))), self.upsampler(self.tanh(self.normal_generator(result)))\n",
    "        else: \n",
    "            return self.generator(input)\n"
   ]
  },
  {
   "cell_type": "code",
   "execution_count": 79,
   "metadata": {},
   "outputs": [],
   "source": [
    "# Discriminator code\n",
    "class Discriminator(nn.Module):\n",
    "    def __init__(self, ngpu, ndf = 32, nc = 3):\n",
    "        super(Discriminator, self).__init__()\n",
    "        self.ngpu = ngpu\n",
    "        self.main = nn.Sequential(\n",
    "            # input is (nc) x 128 x 128\n",
    "            nn.Conv2d(nc, ndf, 4, 2, 1, bias=False),\n",
    "            nn.LeakyReLU(0.2, inplace=True),\n",
    "            # nn.Dropout2d(p=0.25),\n",
    "            # state size. (ndf) x 64 x 64\n",
    "            nn.Conv2d(ndf, ndf * 2, 4, 2, 1, bias=False),\n",
    "            nn.BatchNorm2d(ndf * 2),\n",
    "            nn.LeakyReLU(0.2, inplace=True),\n",
    "            # nn.Dropout2d(p=0.25),\n",
    "            # state size. (ndf*2) x 32 x 32\n",
    "            nn.Conv2d(ndf * 2, ndf * 4, 4, 2, 1, bias=False),\n",
    "            nn.BatchNorm2d(ndf * 4),\n",
    "            nn.LeakyReLU(0.2, inplace=True),\n",
    "            # nn.Dropout2d(p=0.25),\n",
    "            # state size. (ndf*4) x 16 x 16\n",
    "            nn.Conv2d(ndf * 4, ndf * 8, 4, 2, 1, bias=False),\n",
    "            nn.BatchNorm2d(ndf * 8),\n",
    "            nn.LeakyReLU(0.2, inplace=True),\n",
    "            # nn.Dropout2d(p=0.25),\n",
    "            nn.Conv2d(ndf * 8, ndf * 16, 4, 2, 1, bias=False),\n",
    "            # state size. (ndf*8) x 8 x 8\n",
    "            nn.BatchNorm2d(ndf * 16),\n",
    "            nn.LeakyReLU(0.2, inplace=True),\n",
    "            # state size. (ndf*16) x 4 x 4\n",
    "            nn.Conv2d(ndf * 16, 1, 4, 1, 0, bias=False),\n",
    "            nn.Sigmoid()\n",
    "        )\n",
    "\n",
    "    def forward(self, input):\n",
    "        return self.main(input)"
   ]
  },
  {
   "cell_type": "code",
   "execution_count": 80,
   "metadata": {
    "colab": {},
    "colab_type": "code",
    "id": "BS6LAQquF3wq"
   },
   "outputs": [],
   "source": [
    "\n",
    "\n",
    "%matplotlib inline\n",
    "\n",
    "# Optimize using rendered RGB image loss, rendered silhouette image loss, mesh \n",
    "# edge loss, mesh normal consistency, and mesh laplacian smoothing\n",
    "map_losses = {\n",
    "          \"rgb\": {\"weight\": 1.0, \"values\": []},\n",
    "        #   \"silhouette\": {\"weight\": 1.0, \"values\": []},\n",
    "        #   \"edge\": {\"weight\": 1.0, \"values\": []},\n",
    "        #   \"normal\": {\"weight\": 0.01, \"values\": []},\n",
    "        #   \"laplacian\": {\"weight\": 1.0, \"values\": []},\n",
    "          # \"style\": {\"weight\": 1.0, \"values\": []},\n",
    "          # \"adversarial\": {\"weight\": 0.01, \"values\": []},\n",
    "          \"smoothness\":{\"weight\":0.01, \"values\": []},\n",
    "          \"normal_smoothness\":{\"weight\":0.01, \"values\": []}\n",
    "         }\n",
    "losses_gan = {\n",
    "          \"generator\": {\"weight\": 1.0, \"values\": []},\n",
    "          \"discriminator\":{\"weight\":1.0, \"values\": []}\n",
    "\n",
    "}\n",
    "# We will learn to deform the source mesh by offsetting its vertices\n",
    "# The shape of the deform parameters is equal to the total number of vertices in \n",
    "# src_mesh\n",
    "# src_mesh = mesh.clone()\n",
    "# verts_shape = src_mesh.verts_packed().shape\n",
    "# deform_verts = torch.full(verts_shape, 0.0, device=device, requires_grad=True)\n",
    "\n",
    "# verts = src_mesh.verts_packed().to(device)\n",
    "# .faces_packed().unsqueeze(dim=0).to(device)\n",
    "faces_uvs = silhouette_result.textures.faces_uvs_padded()\n",
    "uv_map = silhouette_result.textures.verts_uvs_padded()\n",
    "# print(uv_map.shape, src_mesh.textures.verts_uvs_padded().shape)\n",
    "# uv_map.requires_grad = True\n",
    "\n",
    "# We will also learn per vertex colors for our sphere mesh that define texture \n",
    "# of the mesh\n",
    "# sphere_verts_rgb = torch.full(mesh.textures.maps_padded().shape, 0.1, device=device, requires_grad=True)\n",
    "# sphere_verts_rgb = torch.normal(mean=torch.full(mesh.textures.maps_padded().shape, 0.5),std=0.05).to(device)\n",
    "# sphere_verts_rgb.requires_grad = True\n",
    "# print(sphere_verts_rgb)\n",
    "\n",
    "# Need to create UV map for the sphere and optimize that together with the texture\n",
    "\n",
    "# The optimizer\n",
    "# optimizer = torch.optim.Adam([sphere_verts_rgb], lr=0.001)\n",
    "# new_src_mesh = src_mesh.clone()\n",
    "# new_src_mesh.textures = TexturesUV(sphere_verts_rgb, faces_uvs=faces, verts_uvs=uv_map)\n",
    "\n"
   ]
  },
  {
   "cell_type": "code",
   "execution_count": 81,
   "metadata": {},
   "outputs": [],
   "source": [
    "def evaluate_model(eval_mesh):\n",
    "    with torch.no_grad():\n",
    "        # Define the settings for rasterization and shading. Here we set the output \n",
    "        # image to be of size 128X128. As we are rendering images for visualization \n",
    "        # purposes only we will set faces_per_pixel=1 and blur_radius=0.0. Refer to \n",
    "        # rasterize_meshes.py for explanations of these parameters.  We also leave \n",
    "        # bin_size and max_faces_per_bin to their default values of None, which sets \n",
    "        # their values using heuristics and ensures that the faster coarse-to-fine \n",
    "        # rasterization method is used.  Refer to docs/notes/renderer.md for an \n",
    "        # explanation of the difference between naive and coarse-to-fine rasterization. \n",
    "        raster_settings = RasterizationSettings(\n",
    "            image_size=imsize, \n",
    "            blur_radius=0.0, \n",
    "            faces_per_pixel=1, \n",
    "            perspective_correct=False,\n",
    "        )\n",
    "        # Create a Phong renderer by composing a rasterizer and a shader. The textured \n",
    "        # Phong shader will interpolate the texture uv coordinates for each vertex, \n",
    "        # sample from a texture image and apply the Phong lighting model\n",
    "        renderer = NormalMeshRenderer(\n",
    "            rasterizer=MeshRasterizer(\n",
    "                cameras=camera, \n",
    "                raster_settings=raster_settings\n",
    "            ),\n",
    "            shader=NormalSoftPhongShader(\n",
    "                device=device, \n",
    "                cameras=test_cameras,\n",
    "                lights=lights,\n",
    "                tangent_matrices=new_TBN_matrices,\n",
    "            )\n",
    "        )\n",
    "        test_cos_sim = torch.nn.CosineSimilarity(dim=4)\n",
    "        normals_similarity = 0\n",
    "        image_MSE = 0\n",
    "        # Calculate RGB loss for each view point in test set\n",
    "        for j in range(len(test_cameras)):\n",
    "            image_predicted, normals_predicted = renderer(eval_mesh, cameras=test_cameras[j], lights=lights,)\n",
    "\n",
    "            # Squared L2 distance between the predicted RGB image and the target \n",
    "            predicted_rgb = image_predicted[..., :3]\n",
    "            predicted_rgb.squeeze()\n",
    "            image_MSE += ((predicted_rgb - test_rgb[j].to(device)) ** 2).mean()\n",
    "            normals_similarity += test_cos_sim(test_normals[j], normals_predicted).mean()\n",
    "        mean_MSE = image_MSE / len(test_cameras)\n",
    "        normals_similarity = normals_similarity / len(test_cameras)\n",
    "        # visualize_prediction(eval_mesh, renderer=renderer, camera=test_cameras[1], silhouette=False,target_image = test_rgb[1])\n",
    "\n",
    "        return mean_MSE, normals_similarity\n",
    "    # print(mean_MSE)\n",
    "\n",
    "# print(evaluate_model())"
   ]
  },
  {
   "cell_type": "code",
   "execution_count": 82,
   "metadata": {},
   "outputs": [],
   "source": [
    "class ResConvTranspose(nn.Module):\n",
    "    layer = 0\n",
    "    def __init__(self, deconv, upsampler):\n",
    "        super().__init__()\n",
    "        self.module = deconv\n",
    "        self.upsampler = upsampler\n",
    "        self.weight = torch.nn.Parameter(deconv.weight)\n",
    "\n",
    "    def forward(self, inputs):\n",
    "        return self.module(inputs) + self.upsampler(inputs)\n",
    "\n",
    "class UnsqueezeLatent(nn.Module):\n",
    "    layer = 0\n",
    "    def __init__(self):\n",
    "        super().__init__()\n",
    "\n",
    "    def forward(self, inputs):\n",
    "        return torch.unsqueeze(torch.unsqueeze(inputs, 2), 3)"
   ]
  },
  {
   "cell_type": "code",
   "execution_count": 83,
   "metadata": {},
   "outputs": [],
   "source": [
    "import torch.utils.data\n",
    "# from torchsummary import summary\n",
    "\n",
    "def train_network(config):\n",
    "    # Number of views to optimize over in each SGD iteration\n",
    "    # print(\"Starting training\")\n",
    "    num_views_per_iteration = min(1, num_views)\n",
    "    # Number of optimization steps\n",
    "    Niter = 1000\n",
    "    # Plot period for the losses\n",
    "    plot_period = Niter // 5\n",
    "\n",
    "    loop = tqdm(range(Niter))\n",
    "    # maps = [sphere_verts_rgb.detach().cpu()]\n",
    "\n",
    "\n",
    "    # Adversarial loss from https://pytorch.org/tutorials/beginner/dcgan_faces_tutorial.html\n",
    "    nc = 3\n",
    "    # ndf = 32\n",
    "    ngf = config[\"ngf\"]\n",
    "    nz = config[\"nz\"]\n",
    "    layers = config[\"layers\"]\n",
    "    lr = config[\"lr\"]\n",
    "    beta1 = config[\"beta1\"]\n",
    "    beta2 = config[\"beta2\"]\n",
    "    l2penalty = config[\"l2\"]\n",
    "    amsgrad = config[\"amsgrad\"]\n",
    "    # print(\"Upacked parameters\")\n",
    "\n",
    "\n",
    "    def weights_init(m):\n",
    "        classname = m.__class__.__name__\n",
    "        if classname.find('Conv') != -1:\n",
    "            nn.init.normal_(m.weight.data, 0.0, 0.05)\n",
    "        elif classname.find('BatchNorm') != -1:\n",
    "            nn.init.normal_(m.weight.data, 1.0, 0.05)\n",
    "            nn.init.constant_(m.bias.data, 0)\n",
    "\n",
    "\n",
    "    # Create discriminator for adversarial loss\n",
    "    ngpu = 1\n",
    "    # workers = 2\n",
    "    # bce_loss = nn.BCELoss()\n",
    "    # netD = Discriminator(ngpu, ndf).to(device)\n",
    "    # netD.apply(weights_init)\n",
    "    # real_label = 1.\n",
    "    # fake_label = 0.\n",
    "    # optimizerD = torch.optim.SGD(netD.parameters(), lr=lr)\n",
    "\n",
    "\n",
    "    # Create the generator\n",
    "    netG = Generator(ngpu, ngf, nc, nz, \"simultaneous\", layers).to(device)\n",
    "    # summary(netG, (nz, 1, 1))\n",
    "    # Apply the weights_init function to randomly initialize all weights\n",
    "    #  to mean=0, stdev=0.02.\n",
    "    netG.apply(weights_init)\n",
    "\n",
    "    # Need to create UV map for the sphere and optimize that together with the texture\n",
    "    # The optimizer\n",
    "    # maps_src_mesh.textures = TexturesUV(sphere_verts_rgb, faces_uvs=faces_uvs, verts_uvs=uv_map)\n",
    "\n",
    "    # Need to create UV map for the sphere and optimize that together with the texture\n",
    "    scale_factor = 1\n",
    "    texture_size = list(mesh.textures.maps_padded().shape)\n",
    "    texture_size[1] //= scale_factor\n",
    "    texture_size[2] //= scale_factor\n",
    "\n",
    "    # print(\"Texture Size: {}\".format(texture_size))\n",
    "    # sphere_verts_rgb = torch.zeros(texture_size, device=device, requires_grad=True)\n",
    "    # optimizer = torch.optim.Adam([sphere_verts_rgb], lr=0.001)\n",
    "\n",
    "    # sphere_verts_rgb = src_mesh.textures.maps_padded()\n",
    "    # sphere_verts_rgb.requires_grad = True\n",
    "    # The optimizer\n",
    "    optimizerG = torch.optim.Adam(netG.parameters(), lr=lr, betas=(beta1, beta2), weight_decay=l2penalty, amsgrad=amsgrad)\n",
    "    random_vector = torch.randn(1, nz, 1, 1, device=device) * 0.5\n",
    "    # print(random_vector.shape)\n",
    "    # print(random_vector.shape)\n",
    "    # sphere_verts_rgb = netG(target_rgb[0].to(device).unsqueeze(0).permute(0,3,1,2)).permute(0,2,3,1)\n",
    "    sphere_verts_rgb, normal_map_base = netG(random_vector)\n",
    "    # print(sphere_verts_rgb.shape, normal_map_base.shape)\n",
    "    zero_dims = texture_size[:3]\n",
    "    zero_dims.append(2)\n",
    "    ones_dims = texture_size[:3]\n",
    "    ones_dims.append(1)\n",
    "    # begin with a flat normal map and just offset it using the generator by a small amount\n",
    "    normal_map_flat = torch.cat([torch.ones(zero_dims).to(device)*0.5, torch.ones(ones_dims).to(device)], dim=3)\n",
    "    # normal_map_base.requires_grad = True\n",
    "    # optimizerNorm = torch.optim.Adam([normal_map_base], lr=lr, betas=(beta1, 0.999))\n",
    "\n",
    "\n",
    "    maps_src_mesh = silhouette_result.clone()\n",
    "    maps_src_mesh.textures = TexturesUV(sphere_verts_rgb.permute(0,2,3,1), faces_uvs=faces_uvs, verts_uvs=uv_map)\n",
    "    maps_src_mesh.normalmaps = TexturesUV(normal_map_flat, faces_uvs=faces_uvs, verts_uvs=uv_map)\n",
    "    # print(maps_src_mesh.normalmaps.maps_padded().shape)\n",
    "\n",
    "    # Cosine similarity loss for normal map\n",
    "    cos_similarity = torch.nn.CosineSimilarity(dim=3)\n",
    "\n",
    "    # print(\"Initialized state\")\n",
    "\n",
    "\n",
    "    # period to evaluate mesh against test views with normal rasterization\n",
    "    eval_period = 20\n",
    "    # mse_iters = []\n",
    "    # cos_sims = []\n",
    "    for i in loop:\n",
    "        transform_range_horizontal = 5/sphere_verts_rgb.shape[2]\n",
    "        transform_range_vertical = 5/sphere_verts_rgb.shape[3]\n",
    "        transform = RandomAffine(0, translate=(transform_range_horizontal,transform_range_vertical))\n",
    "        # Initialize optimizer\n",
    "        optimizerG.zero_grad()\n",
    "        \n",
    "        # Deform the mesh\n",
    "        # maps_src_mesh = src_mesh.offset_verts(deform_verts)\n",
    "        \n",
    "        # Add per vertex colors to texture the mesh\n",
    "        # TODO create UV map for faces and vertices for the default sphere\n",
    "\n",
    "        # sphere_verts_rgb = netG(target_rgb[i % len(target_rgb)].to(device).unsqueeze(0).permute(0,3,1,2)).permute(0,2,3,1) #- for generator network\n",
    "        sphere_verts_rgb, normal_map_base = netG(random_vector)\n",
    "        maps_src_mesh.textures = TexturesUV(sphere_verts_rgb.permute(0,2,3,1), faces_uvs=faces_uvs, verts_uvs=uv_map)\n",
    "        new_normal_map = normal_map_base.permute(0,2,3,1) * 0.25 + normal_map_flat\n",
    "        # new_normal_map = normal_map_flat\n",
    "        maps_src_mesh.normalmaps = TexturesUV(new_normal_map, faces_uvs=faces_uvs, verts_uvs=uv_map)\n",
    "\n",
    "        # Losses to smooth /regularize the mesh shape\n",
    "        map_loss = {k: torch.tensor(0.0, device=device) for k in map_losses}\n",
    "        # update_mesh_shape_prior_losses(maps_src_mesh, loss)\n",
    "        # loss_gan = {k: torch.tensor(0.0, device=device) for k in losses_gan}\n",
    "\n",
    "        # Randomly select two views to optimize over in this iteration.  Compared\n",
    "        # to using just one view, this helps resolve ambiguities between updating\n",
    "        # mesh shape vs. updating mesh texture\n",
    "        rendered_rgb = []\n",
    "\n",
    "        # Getting examples from renderer as the Generator\n",
    "        random_views = np.random.permutation(len(target_cameras)).tolist()[:num_views_per_iteration]\n",
    "        for j in random_views:\n",
    "            images_predicted, _ = renderer_textured(maps_src_mesh, cameras=target_cameras[j], lights=lights)\n",
    "\n",
    "            # Squared L2 distance between the predicted silhouette and the target \n",
    "            # # silhouette from our dataset\n",
    "            # predicted_silhouette = images_predicted[..., 3]\n",
    "            # loss_silhouette = ((predicted_silhouette - target_silhouette[j]) ** 2).mean()\n",
    "            # loss[\"silhouette\"] += loss_silhouette / num_views_per_iteration\n",
    "            \n",
    "            # Squared L2 distance between the predicted RGB image and the target \n",
    "            predicted_rgb = images_predicted[..., :3]\n",
    "            rendered_rgb.append(predicted_rgb.squeeze())\n",
    "            loss_rgb = ((predicted_rgb - target_rgb[j].to(device)) ** 2).mean()\n",
    "\n",
    "            # Style loss WIP\n",
    "            # target_rgb[j].clone().detach().permute(2,0,1).unsqueeze(0)\n",
    "            # model, style_losses = get_style_model_and_losses(cnn, cnn_normalization_mean, cnn_normalization_std, target_rgb[j].clone().detach().permute(2,0,1).unsqueeze(0))\n",
    "            # model_input = sphere_verts_rgb.clone().detach().to(device).permute(0,3,1,2)\n",
    "            # model(model_input)\n",
    "            # style_score = 0\n",
    "            # for sl in style_losses:\n",
    "            #     style_score += sl.loss\n",
    "\n",
    "            # Shifted image to get the image to be smoother/gradient between pixels to be smoother\n",
    "            smoothness = ((sphere_verts_rgb - transform(sphere_verts_rgb))**2).mean()\n",
    "            normal_smoothness = cos_similarity(maps_src_mesh.normalmaps.maps_padded(), transform(maps_src_mesh.normalmaps.maps_padded().permute(0,3,1,2)).permute(0,2,3,1)).mean()\n",
    "            # print(normal_smoothness)\n",
    "\n",
    "            map_loss[\"rgb\"] += loss_rgb / num_views_per_iteration\n",
    "            map_loss[\"smoothness\"] += smoothness / num_views_per_iteration\n",
    "            map_loss[\"normal_smoothness\"] += normal_smoothness / num_views_per_iteration\n",
    "            # loss[\"style\"] += style_score / num_views_per_iteration\n",
    "\n",
    "        # ############################\n",
    "        # # (1) Update D network: maximize log(D(x)) + log(1 - D(G(z)))\n",
    "        # ###########################\n",
    "        # ## Train with all-real batch\n",
    "        # netD.zero_grad()\n",
    "        # # Format batch\n",
    "        # real_cpu = torch.stack([target_rgb[i].to(device) for i in random_views], dim=0).permute(0,3,1,2)\n",
    "        # real_cpu = real_cpu + torch.randn(real_cpu.size(), device=device)*0.1\n",
    "        # b_size = num_views_per_iteration\n",
    "        # label = torch.full((b_size,), real_label, dtype=torch.float, device=device)\n",
    "        # # Forward pass real batch through D\n",
    "        # output = netD(real_cpu).view(-1)\n",
    "        # # Calculate loss on all-real batch\n",
    "        # errD_real = bce_loss(output, label)\n",
    "        # # Calculate gradients for D in backward pass\n",
    "        # errD_real.backward()\n",
    "        # # D_x = output.mean().item()\n",
    "\n",
    "        # ## Train with all-fake batch\n",
    "        # # Generate batch of latent vectors\n",
    "        # # Generate fake image batch with G\n",
    "        # fake = torch.stack(rendered_rgb, dim=0).permute(0,3,1,2) + torch.randn(real_cpu.size(), device=device)*0.1\n",
    "        # label.fill_(fake_label)\n",
    "        # # Classify all fake batch with D\n",
    "        # output = netD(fake).view(-1)\n",
    "        # # Calculate D's loss on the all-fake batch\n",
    "        # errD_fake = bce_loss(output, label)\n",
    "        # # Calculate the gradients for this batch, accumulated (summed) with previous gradients\n",
    "        # errD_fake.backward(retain_graph=True)\n",
    "        # # D_G_z1 = output.mean().item()\n",
    "        # # Compute error of D as sum over the fake and the real batches\n",
    "        # errD = errD_real + errD_fake\n",
    "        # # Update D\n",
    "        # optimizerD.step()\n",
    "\n",
    "        # ############################\n",
    "        # # (2) Update G network: maximize log(D(G(z)))\n",
    "        # ###########################\n",
    "        # label.fill_(real_label)  # fake labels are real for generator cost\n",
    "        # # Since we just updated D, perform another forward pass of all-fake batch through D\n",
    "        # output = netD(fake).view(-1)\n",
    "        # # Calculate G's loss based on this output\n",
    "        # errG = bce_loss(output, label)\n",
    "        # # Calculate gradients for G\n",
    "        # # D_G_z2 = output.mean().item()\n",
    "        # # Update G\n",
    "\n",
    "        # loss[\"adversarial\"] = errG / num_views_per_iteration\n",
    "        # loss_gan[\"generator\"] = errG / num_views_per_iteration\n",
    "        # loss_gan[\"discriminator\"] = errD / num_views_per_iteration / 2\n",
    "\n",
    "        # Weighted sum of the losses\n",
    "        map_sum_loss = torch.tensor(0.0, device=device)\n",
    "        for k, l in map_loss.items():\n",
    "            map_sum_loss += l * map_losses[k][\"weight\"]\n",
    "            map_losses[k][\"values\"].append(float(l.detach().cpu()))\n",
    "        loop.set_description(\"total_loss = %.6f\" % map_sum_loss)\n",
    "\n",
    "\n",
    "        # for k, l in loss_gan.items():\n",
    "            # losses_gan[k][\"values\"].append(float(l.detach().cpu()))\n",
    "        # Print the losses\n",
    "        \n",
    "        # Plot mesh\n",
    "        # if i % plot_period == 0:\n",
    "        #     visualize_prediction(maps_src_mesh, renderer=renderer_textured, title=\"iter: %d\" % i, silhouette=False)\n",
    "            # maps.append(sphere_verts_rgb.detach().cpu())\n",
    "\n",
    "        # Optimization step\n",
    "        map_sum_loss.backward()\n",
    "        optimizerG.step()\n",
    "\n",
    "        \n",
    "        if i % eval_period == 0:\n",
    "            mse, cos_sim = evaluate_model(maps_src_mesh)\n",
    "            # mse_iters.append(mse)\n",
    "            # cos_sims.append(cos_sim)\n",
    "            \n",
    "        # Train Discriminator\n",
    "        # I want to make a generator that will create patches from the texture and warp them somehow to simulate them being on a surface. I'm thinking of some gradient mask too so that we don't learn from empty space. \n",
    "        # The true examples would be patches from the real image (probably also good to make it so that the object makes up at least some proportion of the patch for it to be accepted)\n",
    "\n",
    "        # Train Texture/Generator\n",
    "        # Here I want to use the discriminator to learn the texture better to try and fool it with the renderer serving as generator and the texture being the parameters we are tweaking/learning. \n",
    "    # print(\"Finished training\")\n",
    "    mse, cos_sim = evaluate_model(maps_src_mesh)\n",
    "    return mse\n",
    "\n"
   ]
  },
  {
   "cell_type": "code",
   "execution_count": 84,
   "metadata": {},
   "outputs": [],
   "source": [
    "def objective(trial):\n",
    "\n",
    "    params = {\n",
    "            #   'learning_rate': trial.suggest_loguniform('learning_rate', 1e-5, 1e-1),\n",
    "            #   'optimizer': trial.suggest_categorical(\"optimizer\", [\"Adam\", \"RMSprop\", \"SGD\"]),\n",
    "            #   'n_unit': trial.suggest_int(\"n_unit\", 4, 18)\n",
    "                \"ngf\": trial.suggest_categorical('ngf', [16,32,64]),\n",
    "                \"nz\": trial.suggest_int(\"nz\", 10, 200),\n",
    "                \"layers\": trial.suggest_int(\"layers\", 2,5),\n",
    "                \"lr\": trial.suggest_loguniform('lr', 1e-5, 1e-1),\n",
    "                \"beta1\": trial.suggest_uniform('beta1', 0.2, 0.9),\n",
    "                \"beta2\": trial.suggest_loguniform('beta2', 0.9, 0.9999),\n",
    "                \"l2\": trial.suggest_loguniform('l2', 1e-6, 1e-2),\n",
    "                \"amsgrad\": trial.suggest_categorical('amsgrad', [True,False]),\n",
    "            }\n",
    "    \n",
    "    \n",
    "    loss = train_network(params)\n",
    "\n",
    "    return loss"
   ]
  },
  {
   "cell_type": "code",
   "execution_count": 85,
   "metadata": {},
   "outputs": [],
   "source": [
    "\n",
    "# config = {\n",
    "#     \"ngf\": tune.choice([16, 32, 64]),\n",
    "\n",
    "# #     \"nz\": 100,\n",
    "# #     \"layers\": tune.choice([2,3,4,5]),\n",
    "# #     \"lr\": tune.loguniform(1e-5, 1e-1),\n",
    "# #     \"beta1\": tune.uniform(0.2, 0.9),\n",
    "# #     \"beta2\": 0.999,\n",
    "# #     \"l2\": tune.loguniform(1e-6, 1e-2),\n",
    "# #     \"amsgrad\": True,\n",
    "#     \"nz\": 100,\n",
    "#     \"layers\": 5,\n",
    "#     \"lr\": 0.001,\n",
    "#     \"beta1\": 0.5,\n",
    "#     \"beta2\": 0.999,\n",
    "#     \"l2\": 0,\n",
    "#     \"amsgrad\": False,\n",
    "# }\n",
    "# scheduler = ASHAScheduler(\n",
    "#         metric=\"loss\",\n",
    "#         mode=\"min\",\n",
    "#         time_attr=\"training_iteration\",\n",
    "#         max_t=1000,\n",
    "#         grace_period=1,\n",
    "#         reduction_factor=2\n",
    "#         )\n",
    "\n",
    "# reporter = JupyterNotebookReporter(True,\n",
    "#         metric_columns=[\"loss\", \"training_iteration\"]\n",
    "#         )\n"
   ]
  },
  {
   "cell_type": "code",
   "execution_count": 86,
   "metadata": {},
   "outputs": [],
   "source": [
    "# custom_config = {\n",
    "#     \"ngf\": 64,\n",
    "#     \"nz\": 100,\n",
    "#     \"layers\": 5,\n",
    "#     \"lr\": 0.001,\n",
    "#     \"beta1\": 0.5,\n",
    "#     \"beta2\": 0.999,\n",
    "#     \"l2\": 0,\n",
    "#     \"amsgrad\": True,\n",
    "# }\n",
    "# train_network(custom_config)\n"
   ]
  },
  {
   "cell_type": "code",
   "execution_count": 87,
   "metadata": {},
   "outputs": [
    {
     "name": "stderr",
     "output_type": "stream",
     "text": [
      "\u001b[32m[I 2022-03-21 00:27:35,386]\u001b[0m A new study created in memory with name: no-name-92508461-33e6-44c5-bd5c-88150b753ded\u001b[0m\n"
     ]
    },
    {
     "data": {
      "application/vnd.jupyter.widget-view+json": {
       "model_id": "10fd6d587a314b5094464cbd144101e7",
       "version_major": 2,
       "version_minor": 0
      },
      "text/plain": [
       "  0%|          | 0/1000 [00:00<?, ?it/s]"
      ]
     },
     "metadata": {},
     "output_type": "display_data"
    },
    {
     "name": "stderr",
     "output_type": "stream",
     "text": [
      "/home/theycallmepeter/anaconda3/envs/pytorch3d/lib/python3.8/site-packages/torch/nn/functional.py:3451: UserWarning:\n",
      "\n",
      "Default upsampling behavior when mode=bilinear is changed to align_corners=False since 0.4.0. Please specify align_corners=True if the old behavior is desired. See the documentation of nn.Upsample for details.\n",
      "\n",
      "/mnt/c/Projects/deepstimate/pytorch3d/pytorch3d/transforms/transform3d.py:782: UserWarning:\n",
      "\n",
      "R is not a valid rotation matrix\n",
      "\n",
      "\u001b[32m[I 2022-03-21 00:28:53,247]\u001b[0m Trial 0 finished with value: 0.003594357520341873 and parameters: {'ngf': 32, 'nz': 87, 'layers': 3, 'lr': 0.0005715626286533093, 'beta1': 0.3585904718224062, 'beta2': 0.9221610680846176, 'l2': 2.258816250907508e-06, 'amsgrad': False}. Best is trial 0 with value: 0.003594357520341873.\u001b[0m\n"
     ]
    },
    {
     "data": {
      "application/vnd.jupyter.widget-view+json": {
       "model_id": "b9c4dd05e2354592a7a48e0e22b34c1d",
       "version_major": 2,
       "version_minor": 0
      },
      "text/plain": [
       "  0%|          | 0/1000 [00:00<?, ?it/s]"
      ]
     },
     "metadata": {},
     "output_type": "display_data"
    },
    {
     "name": "stderr",
     "output_type": "stream",
     "text": [
      "/home/theycallmepeter/anaconda3/envs/pytorch3d/lib/python3.8/site-packages/torch/nn/functional.py:3451: UserWarning:\n",
      "\n",
      "Default upsampling behavior when mode=bilinear is changed to align_corners=False since 0.4.0. Please specify align_corners=True if the old behavior is desired. See the documentation of nn.Upsample for details.\n",
      "\n",
      "/mnt/c/Projects/deepstimate/pytorch3d/pytorch3d/transforms/transform3d.py:782: UserWarning:\n",
      "\n",
      "R is not a valid rotation matrix\n",
      "\n",
      "\u001b[32m[I 2022-03-21 00:30:10,719]\u001b[0m Trial 1 finished with value: 0.003611976047977805 and parameters: {'ngf': 32, 'nz': 62, 'layers': 3, 'lr': 0.08682820112457242, 'beta1': 0.6859799051377495, 'beta2': 0.9286290102437573, 'l2': 2.6902543102509928e-06, 'amsgrad': True}. Best is trial 0 with value: 0.003594357520341873.\u001b[0m\n"
     ]
    },
    {
     "data": {
      "application/vnd.jupyter.widget-view+json": {
       "model_id": "02a77305f4c64e33b6e629b404d9a2b2",
       "version_major": 2,
       "version_minor": 0
      },
      "text/plain": [
       "  0%|          | 0/1000 [00:00<?, ?it/s]"
      ]
     },
     "metadata": {},
     "output_type": "display_data"
    },
    {
     "name": "stderr",
     "output_type": "stream",
     "text": [
      "/home/theycallmepeter/anaconda3/envs/pytorch3d/lib/python3.8/site-packages/torch/nn/functional.py:3451: UserWarning:\n",
      "\n",
      "Default upsampling behavior when mode=bilinear is changed to align_corners=False since 0.4.0. Please specify align_corners=True if the old behavior is desired. See the documentation of nn.Upsample for details.\n",
      "\n",
      "/mnt/c/Projects/deepstimate/pytorch3d/pytorch3d/transforms/transform3d.py:782: UserWarning:\n",
      "\n",
      "R is not a valid rotation matrix\n",
      "\n",
      "\u001b[32m[I 2022-03-21 00:31:33,865]\u001b[0m Trial 2 finished with value: 0.003600777592509985 and parameters: {'ngf': 64, 'nz': 146, 'layers': 2, 'lr': 0.009444377114357864, 'beta1': 0.6293819698790448, 'beta2': 0.9070006531130104, 'l2': 0.0009616345420518262, 'amsgrad': False}. Best is trial 0 with value: 0.003594357520341873.\u001b[0m\n"
     ]
    },
    {
     "data": {
      "application/vnd.jupyter.widget-view+json": {
       "model_id": "9f9a26fd4906417eb5e128a5f1c07ea0",
       "version_major": 2,
       "version_minor": 0
      },
      "text/plain": [
       "  0%|          | 0/1000 [00:00<?, ?it/s]"
      ]
     },
     "metadata": {},
     "output_type": "display_data"
    },
    {
     "name": "stderr",
     "output_type": "stream",
     "text": [
      "/home/theycallmepeter/anaconda3/envs/pytorch3d/lib/python3.8/site-packages/torch/nn/functional.py:3451: UserWarning:\n",
      "\n",
      "Default upsampling behavior when mode=bilinear is changed to align_corners=False since 0.4.0. Please specify align_corners=True if the old behavior is desired. See the documentation of nn.Upsample for details.\n",
      "\n",
      "/mnt/c/Projects/deepstimate/pytorch3d/pytorch3d/transforms/transform3d.py:782: UserWarning:\n",
      "\n",
      "R is not a valid rotation matrix\n",
      "\n",
      "\u001b[32m[I 2022-03-21 00:32:48,713]\u001b[0m Trial 3 finished with value: 0.003977199550718069 and parameters: {'ngf': 32, 'nz': 151, 'layers': 4, 'lr': 0.025105512008183718, 'beta1': 0.48445616925353285, 'beta2': 0.9543710208849677, 'l2': 0.00016017242962764703, 'amsgrad': False}. Best is trial 0 with value: 0.003594357520341873.\u001b[0m\n"
     ]
    },
    {
     "data": {
      "application/vnd.jupyter.widget-view+json": {
       "model_id": "096cf216bab6411a81c5939444dc18cd",
       "version_major": 2,
       "version_minor": 0
      },
      "text/plain": [
       "  0%|          | 0/1000 [00:00<?, ?it/s]"
      ]
     },
     "metadata": {},
     "output_type": "display_data"
    },
    {
     "name": "stderr",
     "output_type": "stream",
     "text": [
      "/home/theycallmepeter/anaconda3/envs/pytorch3d/lib/python3.8/site-packages/torch/nn/functional.py:3451: UserWarning:\n",
      "\n",
      "Default upsampling behavior when mode=bilinear is changed to align_corners=False since 0.4.0. Please specify align_corners=True if the old behavior is desired. See the documentation of nn.Upsample for details.\n",
      "\n",
      "/mnt/c/Projects/deepstimate/pytorch3d/pytorch3d/transforms/transform3d.py:782: UserWarning:\n",
      "\n",
      "R is not a valid rotation matrix\n",
      "\n",
      "\u001b[32m[I 2022-03-21 00:34:08,880]\u001b[0m Trial 4 finished with value: 0.02379225566983223 and parameters: {'ngf': 64, 'nz': 148, 'layers': 5, 'lr': 1.2198715288834462e-05, 'beta1': 0.833665253823815, 'beta2': 0.9378323833199816, 'l2': 0.007817274463139394, 'amsgrad': True}. Best is trial 0 with value: 0.003594357520341873.\u001b[0m\n"
     ]
    },
    {
     "data": {
      "application/vnd.jupyter.widget-view+json": {
       "model_id": "7f4716ed5278447c86f335f28525f6c2",
       "version_major": 2,
       "version_minor": 0
      },
      "text/plain": [
       "  0%|          | 0/1000 [00:00<?, ?it/s]"
      ]
     },
     "metadata": {},
     "output_type": "display_data"
    },
    {
     "name": "stderr",
     "output_type": "stream",
     "text": [
      "/home/theycallmepeter/anaconda3/envs/pytorch3d/lib/python3.8/site-packages/torch/nn/functional.py:3451: UserWarning:\n",
      "\n",
      "Default upsampling behavior when mode=bilinear is changed to align_corners=False since 0.4.0. Please specify align_corners=True if the old behavior is desired. See the documentation of nn.Upsample for details.\n",
      "\n",
      "/mnt/c/Projects/deepstimate/pytorch3d/pytorch3d/transforms/transform3d.py:782: UserWarning:\n",
      "\n",
      "R is not a valid rotation matrix\n",
      "\n",
      "\u001b[32m[I 2022-03-21 00:35:23,015]\u001b[0m Trial 5 finished with value: 0.0029814683366566896 and parameters: {'ngf': 16, 'nz': 70, 'layers': 4, 'lr': 0.0007429904198916132, 'beta1': 0.5344414150831682, 'beta2': 0.9204984367840816, 'l2': 0.0003369415712640293, 'amsgrad': True}. Best is trial 5 with value: 0.0029814683366566896.\u001b[0m\n"
     ]
    },
    {
     "data": {
      "application/vnd.jupyter.widget-view+json": {
       "model_id": "1c6602e56ba44d8c954f81bdc3ceff6f",
       "version_major": 2,
       "version_minor": 0
      },
      "text/plain": [
       "  0%|          | 0/1000 [00:00<?, ?it/s]"
      ]
     },
     "metadata": {},
     "output_type": "display_data"
    },
    {
     "name": "stderr",
     "output_type": "stream",
     "text": [
      "/home/theycallmepeter/anaconda3/envs/pytorch3d/lib/python3.8/site-packages/torch/nn/functional.py:3451: UserWarning:\n",
      "\n",
      "Default upsampling behavior when mode=bilinear is changed to align_corners=False since 0.4.0. Please specify align_corners=True if the old behavior is desired. See the documentation of nn.Upsample for details.\n",
      "\n",
      "/mnt/c/Projects/deepstimate/pytorch3d/pytorch3d/transforms/transform3d.py:782: UserWarning:\n",
      "\n",
      "R is not a valid rotation matrix\n",
      "\n",
      "\u001b[32m[I 2022-03-21 00:36:46,053]\u001b[0m Trial 6 finished with value: 0.0037844236940145493 and parameters: {'ngf': 16, 'nz': 173, 'layers': 2, 'lr': 0.0003355962616040665, 'beta1': 0.6614147864268851, 'beta2': 0.9620608225963754, 'l2': 1.0623041862937838e-06, 'amsgrad': False}. Best is trial 5 with value: 0.0029814683366566896.\u001b[0m\n"
     ]
    },
    {
     "data": {
      "application/vnd.jupyter.widget-view+json": {
       "model_id": "116e6466fd2f4eb08c0a0142fe8db3b5",
       "version_major": 2,
       "version_minor": 0
      },
      "text/plain": [
       "  0%|          | 0/1000 [00:00<?, ?it/s]"
      ]
     },
     "metadata": {},
     "output_type": "display_data"
    },
    {
     "name": "stderr",
     "output_type": "stream",
     "text": [
      "/home/theycallmepeter/anaconda3/envs/pytorch3d/lib/python3.8/site-packages/torch/nn/functional.py:3451: UserWarning:\n",
      "\n",
      "Default upsampling behavior when mode=bilinear is changed to align_corners=False since 0.4.0. Please specify align_corners=True if the old behavior is desired. See the documentation of nn.Upsample for details.\n",
      "\n",
      "/mnt/c/Projects/deepstimate/pytorch3d/pytorch3d/transforms/transform3d.py:782: UserWarning:\n",
      "\n",
      "R is not a valid rotation matrix\n",
      "\n",
      "\u001b[32m[I 2022-03-21 00:38:09,046]\u001b[0m Trial 7 finished with value: 0.0035390877164900303 and parameters: {'ngf': 32, 'nz': 109, 'layers': 2, 'lr': 0.00024498496927604014, 'beta1': 0.8401684736292394, 'beta2': 0.9065689122306739, 'l2': 0.0003559350276073933, 'amsgrad': False}. Best is trial 5 with value: 0.0029814683366566896.\u001b[0m\n"
     ]
    },
    {
     "data": {
      "application/vnd.jupyter.widget-view+json": {
       "model_id": "7e2156eb2c544fb79c9d81b3eb0c05c5",
       "version_major": 2,
       "version_minor": 0
      },
      "text/plain": [
       "  0%|          | 0/1000 [00:00<?, ?it/s]"
      ]
     },
     "metadata": {},
     "output_type": "display_data"
    },
    {
     "name": "stderr",
     "output_type": "stream",
     "text": [
      "/home/theycallmepeter/anaconda3/envs/pytorch3d/lib/python3.8/site-packages/torch/nn/functional.py:3451: UserWarning:\n",
      "\n",
      "Default upsampling behavior when mode=bilinear is changed to align_corners=False since 0.4.0. Please specify align_corners=True if the old behavior is desired. See the documentation of nn.Upsample for details.\n",
      "\n",
      "/mnt/c/Projects/deepstimate/pytorch3d/pytorch3d/transforms/transform3d.py:782: UserWarning:\n",
      "\n",
      "R is not a valid rotation matrix\n",
      "\n",
      "\u001b[32m[I 2022-03-21 00:39:26,440]\u001b[0m Trial 8 finished with value: 0.003591281594708562 and parameters: {'ngf': 16, 'nz': 191, 'layers': 3, 'lr': 0.04271741796495868, 'beta1': 0.5755487829378834, 'beta2': 0.9562602547299025, 'l2': 0.0009675045840528199, 'amsgrad': True}. Best is trial 5 with value: 0.0029814683366566896.\u001b[0m\n"
     ]
    },
    {
     "data": {
      "application/vnd.jupyter.widget-view+json": {
       "model_id": "86c33b4cc9184fcf9cb501653748bdb8",
       "version_major": 2,
       "version_minor": 0
      },
      "text/plain": [
       "  0%|          | 0/1000 [00:00<?, ?it/s]"
      ]
     },
     "metadata": {},
     "output_type": "display_data"
    },
    {
     "name": "stderr",
     "output_type": "stream",
     "text": [
      "/home/theycallmepeter/anaconda3/envs/pytorch3d/lib/python3.8/site-packages/torch/nn/functional.py:3451: UserWarning:\n",
      "\n",
      "Default upsampling behavior when mode=bilinear is changed to align_corners=False since 0.4.0. Please specify align_corners=True if the old behavior is desired. See the documentation of nn.Upsample for details.\n",
      "\n",
      "/mnt/c/Projects/deepstimate/pytorch3d/pytorch3d/transforms/transform3d.py:782: UserWarning:\n",
      "\n",
      "R is not a valid rotation matrix\n",
      "\n",
      "\u001b[32m[I 2022-03-21 00:40:49,594]\u001b[0m Trial 9 finished with value: 0.0035533872433006763 and parameters: {'ngf': 64, 'nz': 192, 'layers': 2, 'lr': 0.010262998326199842, 'beta1': 0.8177904094044417, 'beta2': 0.9000922841243004, 'l2': 0.00041341647012601917, 'amsgrad': True}. Best is trial 5 with value: 0.0029814683366566896.\u001b[0m\n"
     ]
    },
    {
     "data": {
      "application/vnd.jupyter.widget-view+json": {
       "model_id": "9223f312c64043eab328f717c570f269",
       "version_major": 2,
       "version_minor": 0
      },
      "text/plain": [
       "  0%|          | 0/1000 [00:00<?, ?it/s]"
      ]
     },
     "metadata": {},
     "output_type": "display_data"
    },
    {
     "name": "stderr",
     "output_type": "stream",
     "text": [
      "/home/theycallmepeter/anaconda3/envs/pytorch3d/lib/python3.8/site-packages/torch/nn/functional.py:3451: UserWarning:\n",
      "\n",
      "Default upsampling behavior when mode=bilinear is changed to align_corners=False since 0.4.0. Please specify align_corners=True if the old behavior is desired. See the documentation of nn.Upsample for details.\n",
      "\n",
      "/mnt/c/Projects/deepstimate/pytorch3d/pytorch3d/transforms/transform3d.py:782: UserWarning:\n",
      "\n",
      "R is not a valid rotation matrix\n",
      "\n",
      "\u001b[32m[I 2022-03-21 00:42:04,365]\u001b[0m Trial 10 finished with value: 0.011536046862602234 and parameters: {'ngf': 16, 'nz': 20, 'layers': 5, 'lr': 3.702849433351299e-05, 'beta1': 0.23746358761647124, 'beta2': 0.9927752647013495, 'l2': 2.448251860709829e-05, 'amsgrad': True}. Best is trial 5 with value: 0.0029814683366566896.\u001b[0m\n"
     ]
    },
    {
     "data": {
      "application/vnd.jupyter.widget-view+json": {
       "model_id": "5f4803d7925e40e1aebad2965b2afec9",
       "version_major": 2,
       "version_minor": 0
      },
      "text/plain": [
       "  0%|          | 0/1000 [00:00<?, ?it/s]"
      ]
     },
     "metadata": {},
     "output_type": "display_data"
    },
    {
     "name": "stderr",
     "output_type": "stream",
     "text": [
      "/home/theycallmepeter/anaconda3/envs/pytorch3d/lib/python3.8/site-packages/torch/nn/functional.py:3451: UserWarning:\n",
      "\n",
      "Default upsampling behavior when mode=bilinear is changed to align_corners=False since 0.4.0. Please specify align_corners=True if the old behavior is desired. See the documentation of nn.Upsample for details.\n",
      "\n",
      "/mnt/c/Projects/deepstimate/pytorch3d/pytorch3d/transforms/transform3d.py:782: UserWarning:\n",
      "\n",
      "R is not a valid rotation matrix\n",
      "\n",
      "\u001b[32m[I 2022-03-21 00:43:19,087]\u001b[0m Trial 11 finished with value: 0.003187931841239333 and parameters: {'ngf': 32, 'nz': 105, 'layers': 4, 'lr': 0.00013650347645900789, 'beta1': 0.46280733656430384, 'beta2': 0.9146727751368547, 'l2': 3.788573050396708e-05, 'amsgrad': False}. Best is trial 5 with value: 0.0029814683366566896.\u001b[0m\n"
     ]
    },
    {
     "data": {
      "application/vnd.jupyter.widget-view+json": {
       "model_id": "9032fce7a5df4ba6949558273b27c09d",
       "version_major": 2,
       "version_minor": 0
      },
      "text/plain": [
       "  0%|          | 0/1000 [00:00<?, ?it/s]"
      ]
     },
     "metadata": {},
     "output_type": "display_data"
    },
    {
     "name": "stderr",
     "output_type": "stream",
     "text": [
      "/home/theycallmepeter/anaconda3/envs/pytorch3d/lib/python3.8/site-packages/torch/nn/functional.py:3451: UserWarning:\n",
      "\n",
      "Default upsampling behavior when mode=bilinear is changed to align_corners=False since 0.4.0. Please specify align_corners=True if the old behavior is desired. See the documentation of nn.Upsample for details.\n",
      "\n",
      "/mnt/c/Projects/deepstimate/pytorch3d/pytorch3d/transforms/transform3d.py:782: UserWarning:\n",
      "\n",
      "R is not a valid rotation matrix\n",
      "\n",
      "\u001b[32m[I 2022-03-21 00:44:33,104]\u001b[0m Trial 12 finished with value: 0.003292193403467536 and parameters: {'ngf': 16, 'nz': 53, 'layers': 4, 'lr': 0.0021478992538600315, 'beta1': 0.44360364836365407, 'beta2': 0.9183714351873887, 'l2': 2.7164663735734024e-05, 'amsgrad': False}. Best is trial 5 with value: 0.0029814683366566896.\u001b[0m\n"
     ]
    },
    {
     "data": {
      "application/vnd.jupyter.widget-view+json": {
       "model_id": "bc71d81544954416abc0c0efa5c26ae7",
       "version_major": 2,
       "version_minor": 0
      },
      "text/plain": [
       "  0%|          | 0/1000 [00:00<?, ?it/s]"
      ]
     },
     "metadata": {},
     "output_type": "display_data"
    },
    {
     "name": "stderr",
     "output_type": "stream",
     "text": [
      "/home/theycallmepeter/anaconda3/envs/pytorch3d/lib/python3.8/site-packages/torch/nn/functional.py:3451: UserWarning:\n",
      "\n",
      "Default upsampling behavior when mode=bilinear is changed to align_corners=False since 0.4.0. Please specify align_corners=True if the old behavior is desired. See the documentation of nn.Upsample for details.\n",
      "\n",
      "/mnt/c/Projects/deepstimate/pytorch3d/pytorch3d/transforms/transform3d.py:782: UserWarning:\n",
      "\n",
      "R is not a valid rotation matrix\n",
      "\n",
      "\u001b[32m[I 2022-03-21 00:45:47,799]\u001b[0m Trial 13 finished with value: 0.005001144949346781 and parameters: {'ngf': 32, 'nz': 112, 'layers': 4, 'lr': 8.46451825221737e-05, 'beta1': 0.3443387650311436, 'beta2': 0.9376133871296869, 'l2': 2.423702698517214e-05, 'amsgrad': True}. Best is trial 5 with value: 0.0029814683366566896.\u001b[0m\n"
     ]
    },
    {
     "data": {
      "application/vnd.jupyter.widget-view+json": {
       "model_id": "33a84b926c354d90824c6b6e456570bb",
       "version_major": 2,
       "version_minor": 0
      },
      "text/plain": [
       "  0%|          | 0/1000 [00:00<?, ?it/s]"
      ]
     },
     "metadata": {},
     "output_type": "display_data"
    },
    {
     "name": "stderr",
     "output_type": "stream",
     "text": [
      "/home/theycallmepeter/anaconda3/envs/pytorch3d/lib/python3.8/site-packages/torch/nn/functional.py:3451: UserWarning:\n",
      "\n",
      "Default upsampling behavior when mode=bilinear is changed to align_corners=False since 0.4.0. Please specify align_corners=True if the old behavior is desired. See the documentation of nn.Upsample for details.\n",
      "\n",
      "/mnt/c/Projects/deepstimate/pytorch3d/pytorch3d/transforms/transform3d.py:782: UserWarning:\n",
      "\n",
      "R is not a valid rotation matrix\n",
      "\n",
      "\u001b[32m[I 2022-03-21 00:47:01,812]\u001b[0m Trial 14 finished with value: 0.003434315789490938 and parameters: {'ngf': 16, 'nz': 83, 'layers': 4, 'lr': 0.001830304243889504, 'beta1': 0.4900568145286248, 'beta2': 0.9714573571356058, 'l2': 5.138405747038185e-05, 'amsgrad': False}. Best is trial 5 with value: 0.0029814683366566896.\u001b[0m\n"
     ]
    },
    {
     "data": {
      "application/vnd.jupyter.widget-view+json": {
       "model_id": "a2f5e546e4424a079eaccd331188a9e7",
       "version_major": 2,
       "version_minor": 0
      },
      "text/plain": [
       "  0%|          | 0/1000 [00:00<?, ?it/s]"
      ]
     },
     "metadata": {},
     "output_type": "display_data"
    },
    {
     "name": "stderr",
     "output_type": "stream",
     "text": [
      "/home/theycallmepeter/anaconda3/envs/pytorch3d/lib/python3.8/site-packages/torch/nn/functional.py:3451: UserWarning:\n",
      "\n",
      "Default upsampling behavior when mode=bilinear is changed to align_corners=False since 0.4.0. Please specify align_corners=True if the old behavior is desired. See the documentation of nn.Upsample for details.\n",
      "\n",
      "/mnt/c/Projects/deepstimate/pytorch3d/pytorch3d/transforms/transform3d.py:782: UserWarning:\n",
      "\n",
      "R is not a valid rotation matrix\n",
      "\n",
      "\u001b[32m[I 2022-03-21 00:48:16,586]\u001b[0m Trial 15 finished with value: 0.01094723679125309 and parameters: {'ngf': 16, 'nz': 21, 'layers': 5, 'lr': 4.8259988295324464e-05, 'beta1': 0.37986880577091664, 'beta2': 0.9157366728571117, 'l2': 7.287147304906551e-06, 'amsgrad': True}. Best is trial 5 with value: 0.0029814683366566896.\u001b[0m\n"
     ]
    },
    {
     "data": {
      "application/vnd.jupyter.widget-view+json": {
       "model_id": "ed1fd6a93a9540d0981df0314bc3cecf",
       "version_major": 2,
       "version_minor": 0
      },
      "text/plain": [
       "  0%|          | 0/1000 [00:00<?, ?it/s]"
      ]
     },
     "metadata": {},
     "output_type": "display_data"
    },
    {
     "name": "stderr",
     "output_type": "stream",
     "text": [
      "/home/theycallmepeter/anaconda3/envs/pytorch3d/lib/python3.8/site-packages/torch/nn/functional.py:3451: UserWarning:\n",
      "\n",
      "Default upsampling behavior when mode=bilinear is changed to align_corners=False since 0.4.0. Please specify align_corners=True if the old behavior is desired. See the documentation of nn.Upsample for details.\n",
      "\n",
      "/mnt/c/Projects/deepstimate/pytorch3d/pytorch3d/transforms/transform3d.py:782: UserWarning:\n",
      "\n",
      "R is not a valid rotation matrix\n",
      "\n",
      "\u001b[32m[I 2022-03-21 00:49:31,162]\u001b[0m Trial 16 finished with value: 0.0034194495528936386 and parameters: {'ngf': 32, 'nz': 50, 'layers': 4, 'lr': 0.00015465308640534199, 'beta1': 0.25950885155252684, 'beta2': 0.9395592223643184, 'l2': 0.006173840604293008, 'amsgrad': False}. Best is trial 5 with value: 0.0029814683366566896.\u001b[0m\n"
     ]
    },
    {
     "data": {
      "application/vnd.jupyter.widget-view+json": {
       "model_id": "2ba0b7a7347f47548151749167bac0f6",
       "version_major": 2,
       "version_minor": 0
      },
      "text/plain": [
       "  0%|          | 0/1000 [00:00<?, ?it/s]"
      ]
     },
     "metadata": {},
     "output_type": "display_data"
    },
    {
     "name": "stderr",
     "output_type": "stream",
     "text": [
      "/home/theycallmepeter/anaconda3/envs/pytorch3d/lib/python3.8/site-packages/torch/nn/functional.py:3451: UserWarning:\n",
      "\n",
      "Default upsampling behavior when mode=bilinear is changed to align_corners=False since 0.4.0. Please specify align_corners=True if the old behavior is desired. See the documentation of nn.Upsample for details.\n",
      "\n",
      "/mnt/c/Projects/deepstimate/pytorch3d/pytorch3d/transforms/transform3d.py:782: UserWarning:\n",
      "\n",
      "R is not a valid rotation matrix\n",
      "\n",
      "\u001b[32m[I 2022-03-21 00:50:48,499]\u001b[0m Trial 17 finished with value: 0.003533497452735901 and parameters: {'ngf': 16, 'nz': 127, 'layers': 3, 'lr': 0.0010103257670901675, 'beta1': 0.7360270953258202, 'beta2': 0.9252575432011156, 'l2': 0.0001098643506494064, 'amsgrad': True}. Best is trial 5 with value: 0.0029814683366566896.\u001b[0m\n"
     ]
    },
    {
     "data": {
      "application/vnd.jupyter.widget-view+json": {
       "model_id": "f7883278df9b4de7a9a2ee1f5fd98fcd",
       "version_major": 2,
       "version_minor": 0
      },
      "text/plain": [
       "  0%|          | 0/1000 [00:00<?, ?it/s]"
      ]
     },
     "metadata": {},
     "output_type": "display_data"
    },
    {
     "name": "stderr",
     "output_type": "stream",
     "text": [
      "/home/theycallmepeter/anaconda3/envs/pytorch3d/lib/python3.8/site-packages/torch/nn/functional.py:3451: UserWarning:\n",
      "\n",
      "Default upsampling behavior when mode=bilinear is changed to align_corners=False since 0.4.0. Please specify align_corners=True if the old behavior is desired. See the documentation of nn.Upsample for details.\n",
      "\n",
      "/mnt/c/Projects/deepstimate/pytorch3d/pytorch3d/transforms/transform3d.py:782: UserWarning:\n",
      "\n",
      "R is not a valid rotation matrix\n",
      "\n",
      "\u001b[32m[I 2022-03-21 00:52:04,805]\u001b[0m Trial 18 finished with value: 0.024662869051098824 and parameters: {'ngf': 32, 'nz': 86, 'layers': 5, 'lr': 1.3045587142032828e-05, 'beta1': 0.5781680313348522, 'beta2': 0.9092610567229872, 'l2': 0.0012205946301640607, 'amsgrad': False}. Best is trial 5 with value: 0.0029814683366566896.\u001b[0m\n"
     ]
    },
    {
     "data": {
      "application/vnd.jupyter.widget-view+json": {
       "model_id": "523a1fb061094878a504c10d5b07914b",
       "version_major": 2,
       "version_minor": 0
      },
      "text/plain": [
       "  0%|          | 0/1000 [00:00<?, ?it/s]"
      ]
     },
     "metadata": {},
     "output_type": "display_data"
    },
    {
     "name": "stderr",
     "output_type": "stream",
     "text": [
      "/home/theycallmepeter/anaconda3/envs/pytorch3d/lib/python3.8/site-packages/torch/nn/functional.py:3451: UserWarning:\n",
      "\n",
      "Default upsampling behavior when mode=bilinear is changed to align_corners=False since 0.4.0. Please specify align_corners=True if the old behavior is desired. See the documentation of nn.Upsample for details.\n",
      "\n",
      "/mnt/c/Projects/deepstimate/pytorch3d/pytorch3d/transforms/transform3d.py:782: UserWarning:\n",
      "\n",
      "R is not a valid rotation matrix\n",
      "\n",
      "\u001b[32m[I 2022-03-21 00:53:20,855]\u001b[0m Trial 19 finished with value: 0.0030743153765797615 and parameters: {'ngf': 64, 'nz': 72, 'layers': 4, 'lr': 0.0028434672712233104, 'beta1': 0.515675803593862, 'beta2': 0.9315368364687676, 'l2': 9.135552530166514e-06, 'amsgrad': True}. Best is trial 5 with value: 0.0029814683366566896.\u001b[0m\n"
     ]
    },
    {
     "data": {
      "application/vnd.jupyter.widget-view+json": {
       "model_id": "c0b4a8964c764a9bab5744db0a4fbea4",
       "version_major": 2,
       "version_minor": 0
      },
      "text/plain": [
       "  0%|          | 0/1000 [00:00<?, ?it/s]"
      ]
     },
     "metadata": {},
     "output_type": "display_data"
    },
    {
     "name": "stderr",
     "output_type": "stream",
     "text": [
      "/home/theycallmepeter/anaconda3/envs/pytorch3d/lib/python3.8/site-packages/torch/nn/functional.py:3451: UserWarning:\n",
      "\n",
      "Default upsampling behavior when mode=bilinear is changed to align_corners=False since 0.4.0. Please specify align_corners=True if the old behavior is desired. See the documentation of nn.Upsample for details.\n",
      "\n",
      "/mnt/c/Projects/deepstimate/pytorch3d/pytorch3d/transforms/transform3d.py:782: UserWarning:\n",
      "\n",
      "R is not a valid rotation matrix\n",
      "\n",
      "\u001b[32m[I 2022-03-21 00:54:38,767]\u001b[0m Trial 20 finished with value: 0.003464996349066496 and parameters: {'ngf': 64, 'nz': 41, 'layers': 3, 'lr': 0.004401994736165482, 'beta1': 0.754814600800381, 'beta2': 0.9726981155104556, 'l2': 7.31359305605879e-06, 'amsgrad': True}. Best is trial 5 with value: 0.0029814683366566896.\u001b[0m\n"
     ]
    },
    {
     "data": {
      "application/vnd.jupyter.widget-view+json": {
       "model_id": "aadfa970b5e24f84b910336fe73c06fc",
       "version_major": 2,
       "version_minor": 0
      },
      "text/plain": [
       "  0%|          | 0/1000 [00:00<?, ?it/s]"
      ]
     },
     "metadata": {},
     "output_type": "display_data"
    },
    {
     "name": "stderr",
     "output_type": "stream",
     "text": [
      "/home/theycallmepeter/anaconda3/envs/pytorch3d/lib/python3.8/site-packages/torch/nn/functional.py:3451: UserWarning:\n",
      "\n",
      "Default upsampling behavior when mode=bilinear is changed to align_corners=False since 0.4.0. Please specify align_corners=True if the old behavior is desired. See the documentation of nn.Upsample for details.\n",
      "\n",
      "/mnt/c/Projects/deepstimate/pytorch3d/pytorch3d/transforms/transform3d.py:782: UserWarning:\n",
      "\n",
      "R is not a valid rotation matrix\n",
      "\n",
      "\u001b[32m[I 2022-03-21 00:55:55,005]\u001b[0m Trial 21 finished with value: 0.0031252531334757805 and parameters: {'ngf': 64, 'nz': 92, 'layers': 4, 'lr': 0.0006634623364188811, 'beta1': 0.5196846896053275, 'beta2': 0.927953263389936, 'l2': 8.834287694789726e-06, 'amsgrad': True}. Best is trial 5 with value: 0.0029814683366566896.\u001b[0m\n"
     ]
    },
    {
     "data": {
      "application/vnd.jupyter.widget-view+json": {
       "model_id": "268affdb242845c9ae33a21c468e1fce",
       "version_major": 2,
       "version_minor": 0
      },
      "text/plain": [
       "  0%|          | 0/1000 [00:00<?, ?it/s]"
      ]
     },
     "metadata": {},
     "output_type": "display_data"
    },
    {
     "name": "stderr",
     "output_type": "stream",
     "text": [
      "/home/theycallmepeter/anaconda3/envs/pytorch3d/lib/python3.8/site-packages/torch/nn/functional.py:3451: UserWarning:\n",
      "\n",
      "Default upsampling behavior when mode=bilinear is changed to align_corners=False since 0.4.0. Please specify align_corners=True if the old behavior is desired. See the documentation of nn.Upsample for details.\n",
      "\n",
      "/mnt/c/Projects/deepstimate/pytorch3d/pytorch3d/transforms/transform3d.py:782: UserWarning:\n",
      "\n",
      "R is not a valid rotation matrix\n",
      "\n",
      "\u001b[32m[I 2022-03-21 00:57:11,057]\u001b[0m Trial 22 finished with value: 0.0032015929464250803 and parameters: {'ngf': 64, 'nz': 62, 'layers': 4, 'lr': 0.000904737857229503, 'beta1': 0.5410145962747335, 'beta2': 0.9313402973780687, 'l2': 8.588977325920559e-06, 'amsgrad': True}. Best is trial 5 with value: 0.0029814683366566896.\u001b[0m\n"
     ]
    },
    {
     "data": {
      "application/vnd.jupyter.widget-view+json": {
       "model_id": "d88f70b3e9a543e48f40f47b0a152020",
       "version_major": 2,
       "version_minor": 0
      },
      "text/plain": [
       "  0%|          | 0/1000 [00:00<?, ?it/s]"
      ]
     },
     "metadata": {},
     "output_type": "display_data"
    },
    {
     "name": "stderr",
     "output_type": "stream",
     "text": [
      "/home/theycallmepeter/anaconda3/envs/pytorch3d/lib/python3.8/site-packages/torch/nn/functional.py:3451: UserWarning:\n",
      "\n",
      "Default upsampling behavior when mode=bilinear is changed to align_corners=False since 0.4.0. Please specify align_corners=True if the old behavior is desired. See the documentation of nn.Upsample for details.\n",
      "\n",
      "/mnt/c/Projects/deepstimate/pytorch3d/pytorch3d/transforms/transform3d.py:782: UserWarning:\n",
      "\n",
      "R is not a valid rotation matrix\n",
      "\n",
      "\u001b[32m[I 2022-03-21 00:58:27,368]\u001b[0m Trial 23 finished with value: 0.00328590115532279 and parameters: {'ngf': 64, 'nz': 79, 'layers': 4, 'lr': 0.005248818110135085, 'beta1': 0.5403258878727248, 'beta2': 0.9452477343703866, 'l2': 1.0196747948589762e-05, 'amsgrad': True}. Best is trial 5 with value: 0.0029814683366566896.\u001b[0m\n"
     ]
    },
    {
     "data": {
      "application/vnd.jupyter.widget-view+json": {
       "model_id": "14de71abda8c4c8092dc7e5e742e8d0f",
       "version_major": 2,
       "version_minor": 0
      },
      "text/plain": [
       "  0%|          | 0/1000 [00:00<?, ?it/s]"
      ]
     },
     "metadata": {},
     "output_type": "display_data"
    },
    {
     "name": "stderr",
     "output_type": "stream",
     "text": [
      "/home/theycallmepeter/anaconda3/envs/pytorch3d/lib/python3.8/site-packages/torch/nn/functional.py:3451: UserWarning:\n",
      "\n",
      "Default upsampling behavior when mode=bilinear is changed to align_corners=False since 0.4.0. Please specify align_corners=True if the old behavior is desired. See the documentation of nn.Upsample for details.\n",
      "\n",
      "/mnt/c/Projects/deepstimate/pytorch3d/pytorch3d/transforms/transform3d.py:782: UserWarning:\n",
      "\n",
      "R is not a valid rotation matrix\n",
      "\n",
      "\u001b[32m[I 2022-03-21 00:59:46,755]\u001b[0m Trial 24 finished with value: 0.0037336370442062616 and parameters: {'ngf': 64, 'nz': 33, 'layers': 5, 'lr': 0.0020211517919971004, 'beta1': 0.40117071932374004, 'beta2': 0.9303544982648109, 'l2': 0.00020788988833950433, 'amsgrad': True}. Best is trial 5 with value: 0.0029814683366566896.\u001b[0m\n"
     ]
    },
    {
     "data": {
      "application/vnd.jupyter.widget-view+json": {
       "model_id": "5ebd732280ba41408d99da5c6367d5f7",
       "version_major": 2,
       "version_minor": 0
      },
      "text/plain": [
       "  0%|          | 0/1000 [00:00<?, ?it/s]"
      ]
     },
     "metadata": {},
     "output_type": "display_data"
    },
    {
     "name": "stderr",
     "output_type": "stream",
     "text": [
      "/home/theycallmepeter/anaconda3/envs/pytorch3d/lib/python3.8/site-packages/torch/nn/functional.py:3451: UserWarning:\n",
      "\n",
      "Default upsampling behavior when mode=bilinear is changed to align_corners=False since 0.4.0. Please specify align_corners=True if the old behavior is desired. See the documentation of nn.Upsample for details.\n",
      "\n",
      "/mnt/c/Projects/deepstimate/pytorch3d/pytorch3d/transforms/transform3d.py:782: UserWarning:\n",
      "\n",
      "R is not a valid rotation matrix\n",
      "\n",
      "\u001b[32m[I 2022-03-21 01:01:02,940]\u001b[0m Trial 25 finished with value: 0.0032299195881932974 and parameters: {'ngf': 64, 'nz': 67, 'layers': 4, 'lr': 0.0006597546964645464, 'beta1': 0.6187961346894797, 'beta2': 0.9433942525115029, 'l2': 3.238320737323742e-06, 'amsgrad': True}. Best is trial 5 with value: 0.0029814683366566896.\u001b[0m\n"
     ]
    },
    {
     "data": {
      "application/vnd.jupyter.widget-view+json": {
       "model_id": "35b76654678e45e9a16ad357df209ffa",
       "version_major": 2,
       "version_minor": 0
      },
      "text/plain": [
       "  0%|          | 0/1000 [00:00<?, ?it/s]"
      ]
     },
     "metadata": {},
     "output_type": "display_data"
    },
    {
     "name": "stderr",
     "output_type": "stream",
     "text": [
      "/home/theycallmepeter/anaconda3/envs/pytorch3d/lib/python3.8/site-packages/torch/nn/functional.py:3451: UserWarning:\n",
      "\n",
      "Default upsampling behavior when mode=bilinear is changed to align_corners=False since 0.4.0. Please specify align_corners=True if the old behavior is desired. See the documentation of nn.Upsample for details.\n",
      "\n",
      "/mnt/c/Projects/deepstimate/pytorch3d/pytorch3d/transforms/transform3d.py:782: UserWarning:\n",
      "\n",
      "R is not a valid rotation matrix\n",
      "\n",
      "\u001b[32m[I 2022-03-21 01:02:20,903]\u001b[0m Trial 26 finished with value: 0.003513467963784933 and parameters: {'ngf': 64, 'nz': 99, 'layers': 3, 'lr': 0.00039987823140031595, 'beta1': 0.3126081399862608, 'beta2': 0.9333814143424255, 'l2': 0.002361333772025272, 'amsgrad': True}. Best is trial 5 with value: 0.0029814683366566896.\u001b[0m\n"
     ]
    },
    {
     "data": {
      "application/vnd.jupyter.widget-view+json": {
       "model_id": "8ad4d41c275e46c6bc363054045de3f0",
       "version_major": 2,
       "version_minor": 0
      },
      "text/plain": [
       "  0%|          | 0/1000 [00:00<?, ?it/s]"
      ]
     },
     "metadata": {},
     "output_type": "display_data"
    },
    {
     "name": "stderr",
     "output_type": "stream",
     "text": [
      "/home/theycallmepeter/anaconda3/envs/pytorch3d/lib/python3.8/site-packages/torch/nn/functional.py:3451: UserWarning:\n",
      "\n",
      "Default upsampling behavior when mode=bilinear is changed to align_corners=False since 0.4.0. Please specify align_corners=True if the old behavior is desired. See the documentation of nn.Upsample for details.\n",
      "\n",
      "/mnt/c/Projects/deepstimate/pytorch3d/pytorch3d/transforms/transform3d.py:782: UserWarning:\n",
      "\n",
      "R is not a valid rotation matrix\n",
      "\n",
      "\u001b[32m[I 2022-03-21 01:03:37,265]\u001b[0m Trial 27 finished with value: 0.00334888300858438 and parameters: {'ngf': 64, 'nz': 128, 'layers': 4, 'lr': 0.0012776424663550703, 'beta1': 0.5204995755898456, 'beta2': 0.9230847442026316, 'l2': 6.996237601841979e-05, 'amsgrad': True}. Best is trial 5 with value: 0.0029814683366566896.\u001b[0m\n"
     ]
    },
    {
     "data": {
      "application/vnd.jupyter.widget-view+json": {
       "model_id": "3288e69eee574a578dc1335068de45b7",
       "version_major": 2,
       "version_minor": 0
      },
      "text/plain": [
       "  0%|          | 0/1000 [00:00<?, ?it/s]"
      ]
     },
     "metadata": {},
     "output_type": "display_data"
    },
    {
     "name": "stderr",
     "output_type": "stream",
     "text": [
      "/home/theycallmepeter/anaconda3/envs/pytorch3d/lib/python3.8/site-packages/torch/nn/functional.py:3451: UserWarning:\n",
      "\n",
      "Default upsampling behavior when mode=bilinear is changed to align_corners=False since 0.4.0. Please specify align_corners=True if the old behavior is desired. See the documentation of nn.Upsample for details.\n",
      "\n",
      "/mnt/c/Projects/deepstimate/pytorch3d/pytorch3d/transforms/transform3d.py:782: UserWarning:\n",
      "\n",
      "R is not a valid rotation matrix\n",
      "\n",
      "\u001b[32m[I 2022-03-21 01:04:56,829]\u001b[0m Trial 28 finished with value: 0.003169152420014143 and parameters: {'ngf': 64, 'nz': 72, 'layers': 5, 'lr': 0.0034806646839548924, 'beta1': 0.43454466266267666, 'beta2': 0.9481287217736277, 'l2': 1.1505119682123564e-05, 'amsgrad': True}. Best is trial 5 with value: 0.0029814683366566896.\u001b[0m\n"
     ]
    },
    {
     "data": {
      "application/vnd.jupyter.widget-view+json": {
       "model_id": "5d41af99652f4973aea76692b7e44162",
       "version_major": 2,
       "version_minor": 0
      },
      "text/plain": [
       "  0%|          | 0/1000 [00:00<?, ?it/s]"
      ]
     },
     "metadata": {},
     "output_type": "display_data"
    },
    {
     "name": "stderr",
     "output_type": "stream",
     "text": [
      "/home/theycallmepeter/anaconda3/envs/pytorch3d/lib/python3.8/site-packages/torch/nn/functional.py:3451: UserWarning:\n",
      "\n",
      "Default upsampling behavior when mode=bilinear is changed to align_corners=False since 0.4.0. Please specify align_corners=True if the old behavior is desired. See the documentation of nn.Upsample for details.\n",
      "\n",
      "/mnt/c/Projects/deepstimate/pytorch3d/pytorch3d/transforms/transform3d.py:782: UserWarning:\n",
      "\n",
      "R is not a valid rotation matrix\n",
      "\n",
      "\u001b[32m[I 2022-03-21 01:06:10,877]\u001b[0m Trial 29 finished with value: 0.003422937821596861 and parameters: {'ngf': 16, 'nz': 96, 'layers': 4, 'lr': 0.0005253474880524497, 'beta1': 0.6029276240599939, 'beta2': 0.9221890525927299, 'l2': 1.4602192889153382e-06, 'amsgrad': True}. Best is trial 5 with value: 0.0029814683366566896.\u001b[0m\n"
     ]
    },
    {
     "data": {
      "application/vnd.jupyter.widget-view+json": {
       "model_id": "a37b89d1d5814fd6853170d9b4026f9e",
       "version_major": 2,
       "version_minor": 0
      },
      "text/plain": [
       "  0%|          | 0/1000 [00:00<?, ?it/s]"
      ]
     },
     "metadata": {},
     "output_type": "display_data"
    },
    {
     "name": "stderr",
     "output_type": "stream",
     "text": [
      "/home/theycallmepeter/anaconda3/envs/pytorch3d/lib/python3.8/site-packages/torch/nn/functional.py:3451: UserWarning:\n",
      "\n",
      "Default upsampling behavior when mode=bilinear is changed to align_corners=False since 0.4.0. Please specify align_corners=True if the old behavior is desired. See the documentation of nn.Upsample for details.\n",
      "\n",
      "/mnt/c/Projects/deepstimate/pytorch3d/pytorch3d/transforms/transform3d.py:782: UserWarning:\n",
      "\n",
      "R is not a valid rotation matrix\n",
      "\n",
      "\u001b[32m[I 2022-03-21 01:07:28,734]\u001b[0m Trial 30 finished with value: 0.003291683504357934 and parameters: {'ngf': 64, 'nz': 33, 'layers': 3, 'lr': 0.009914832784382965, 'beta1': 0.708195122885031, 'beta2': 0.9984525486301388, 'l2': 4.149484293754259e-06, 'amsgrad': True}. Best is trial 5 with value: 0.0029814683366566896.\u001b[0m\n"
     ]
    },
    {
     "data": {
      "application/vnd.jupyter.widget-view+json": {
       "model_id": "64fef26941554a7591f454a860280d8a",
       "version_major": 2,
       "version_minor": 0
      },
      "text/plain": [
       "  0%|          | 0/1000 [00:00<?, ?it/s]"
      ]
     },
     "metadata": {},
     "output_type": "display_data"
    },
    {
     "name": "stderr",
     "output_type": "stream",
     "text": [
      "/home/theycallmepeter/anaconda3/envs/pytorch3d/lib/python3.8/site-packages/torch/nn/functional.py:3451: UserWarning:\n",
      "\n",
      "Default upsampling behavior when mode=bilinear is changed to align_corners=False since 0.4.0. Please specify align_corners=True if the old behavior is desired. See the documentation of nn.Upsample for details.\n",
      "\n",
      "/mnt/c/Projects/deepstimate/pytorch3d/pytorch3d/transforms/transform3d.py:782: UserWarning:\n",
      "\n",
      "R is not a valid rotation matrix\n",
      "\n",
      "\u001b[32m[I 2022-03-21 01:08:48,380]\u001b[0m Trial 31 finished with value: 0.002999398158863187 and parameters: {'ngf': 64, 'nz': 73, 'layers': 5, 'lr': 0.003813723755545881, 'beta1': 0.42700950119533215, 'beta2': 0.9488901941117664, 'l2': 1.0276836187140071e-05, 'amsgrad': True}. Best is trial 5 with value: 0.0029814683366566896.\u001b[0m\n"
     ]
    },
    {
     "data": {
      "application/vnd.jupyter.widget-view+json": {
       "model_id": "48000a60cae845348b5e7467d92d2716",
       "version_major": 2,
       "version_minor": 0
      },
      "text/plain": [
       "  0%|          | 0/1000 [00:00<?, ?it/s]"
      ]
     },
     "metadata": {},
     "output_type": "display_data"
    },
    {
     "name": "stderr",
     "output_type": "stream",
     "text": [
      "/home/theycallmepeter/anaconda3/envs/pytorch3d/lib/python3.8/site-packages/torch/nn/functional.py:3451: UserWarning:\n",
      "\n",
      "Default upsampling behavior when mode=bilinear is changed to align_corners=False since 0.4.0. Please specify align_corners=True if the old behavior is desired. See the documentation of nn.Upsample for details.\n",
      "\n",
      "/mnt/c/Projects/deepstimate/pytorch3d/pytorch3d/transforms/transform3d.py:782: UserWarning:\n",
      "\n",
      "R is not a valid rotation matrix\n",
      "\n",
      "\u001b[32m[I 2022-03-21 01:10:08,065]\u001b[0m Trial 32 finished with value: 0.0030704662203788757 and parameters: {'ngf': 64, 'nz': 74, 'layers': 5, 'lr': 0.0036744891170034915, 'beta1': 0.5129703824064621, 'beta2': 0.953748488584743, 'l2': 4.7146945943231545e-06, 'amsgrad': True}. Best is trial 5 with value: 0.0029814683366566896.\u001b[0m\n"
     ]
    },
    {
     "data": {
      "application/vnd.jupyter.widget-view+json": {
       "model_id": "d3e02b1966394c0daead96654fee36b4",
       "version_major": 2,
       "version_minor": 0
      },
      "text/plain": [
       "  0%|          | 0/1000 [00:00<?, ?it/s]"
      ]
     },
     "metadata": {},
     "output_type": "display_data"
    },
    {
     "name": "stderr",
     "output_type": "stream",
     "text": [
      "/home/theycallmepeter/anaconda3/envs/pytorch3d/lib/python3.8/site-packages/torch/nn/functional.py:3451: UserWarning:\n",
      "\n",
      "Default upsampling behavior when mode=bilinear is changed to align_corners=False since 0.4.0. Please specify align_corners=True if the old behavior is desired. See the documentation of nn.Upsample for details.\n",
      "\n",
      "/mnt/c/Projects/deepstimate/pytorch3d/pytorch3d/transforms/transform3d.py:782: UserWarning:\n",
      "\n",
      "R is not a valid rotation matrix\n",
      "\n",
      "\u001b[32m[I 2022-03-21 01:11:27,614]\u001b[0m Trial 33 finished with value: 0.0032989869359880686 and parameters: {'ngf': 64, 'nz': 54, 'layers': 5, 'lr': 0.0038266618363342647, 'beta1': 0.4133937101652785, 'beta2': 0.9683727552994572, 'l2': 2.0373137030246523e-06, 'amsgrad': True}. Best is trial 5 with value: 0.0029814683366566896.\u001b[0m\n"
     ]
    },
    {
     "data": {
      "application/vnd.jupyter.widget-view+json": {
       "model_id": "75aac76100f44651aee2d69b75d89f40",
       "version_major": 2,
       "version_minor": 0
      },
      "text/plain": [
       "  0%|          | 0/1000 [00:00<?, ?it/s]"
      ]
     },
     "metadata": {},
     "output_type": "display_data"
    },
    {
     "name": "stderr",
     "output_type": "stream",
     "text": [
      "/home/theycallmepeter/anaconda3/envs/pytorch3d/lib/python3.8/site-packages/torch/nn/functional.py:3451: UserWarning:\n",
      "\n",
      "Default upsampling behavior when mode=bilinear is changed to align_corners=False since 0.4.0. Please specify align_corners=True if the old behavior is desired. See the documentation of nn.Upsample for details.\n",
      "\n",
      "/mnt/c/Projects/deepstimate/pytorch3d/pytorch3d/transforms/transform3d.py:782: UserWarning:\n",
      "\n",
      "R is not a valid rotation matrix\n",
      "\n",
      "\u001b[32m[I 2022-03-21 01:12:47,117]\u001b[0m Trial 34 finished with value: 0.003390796948224306 and parameters: {'ngf': 64, 'nz': 75, 'layers': 5, 'lr': 0.02211632382259904, 'beta1': 0.3248453919771209, 'beta2': 0.9554243848488304, 'l2': 4.298275072058576e-06, 'amsgrad': True}. Best is trial 5 with value: 0.0029814683366566896.\u001b[0m\n"
     ]
    },
    {
     "data": {
      "application/vnd.jupyter.widget-view+json": {
       "model_id": "f64d8bcb8d344853b72facaf78f27a11",
       "version_major": 2,
       "version_minor": 0
      },
      "text/plain": [
       "  0%|          | 0/1000 [00:00<?, ?it/s]"
      ]
     },
     "metadata": {},
     "output_type": "display_data"
    },
    {
     "name": "stderr",
     "output_type": "stream",
     "text": [
      "/home/theycallmepeter/anaconda3/envs/pytorch3d/lib/python3.8/site-packages/torch/nn/functional.py:3451: UserWarning:\n",
      "\n",
      "Default upsampling behavior when mode=bilinear is changed to align_corners=False since 0.4.0. Please specify align_corners=True if the old behavior is desired. See the documentation of nn.Upsample for details.\n",
      "\n",
      "/mnt/c/Projects/deepstimate/pytorch3d/pytorch3d/transforms/transform3d.py:782: UserWarning:\n",
      "\n",
      "R is not a valid rotation matrix\n",
      "\n",
      "\u001b[32m[I 2022-03-21 01:14:06,678]\u001b[0m Trial 35 finished with value: 0.0033495735842734575 and parameters: {'ngf': 64, 'nz': 62, 'layers': 5, 'lr': 0.006956897645944004, 'beta1': 0.48397610550506176, 'beta2': 0.9813141579889896, 'l2': 1.507327097594308e-05, 'amsgrad': True}. Best is trial 5 with value: 0.0029814683366566896.\u001b[0m\n"
     ]
    },
    {
     "data": {
      "application/vnd.jupyter.widget-view+json": {
       "model_id": "b785f1a1684c43a4b3c5f47bb6ae40ba",
       "version_major": 2,
       "version_minor": 0
      },
      "text/plain": [
       "  0%|          | 0/1000 [00:00<?, ?it/s]"
      ]
     },
     "metadata": {},
     "output_type": "display_data"
    },
    {
     "name": "stderr",
     "output_type": "stream",
     "text": [
      "/home/theycallmepeter/anaconda3/envs/pytorch3d/lib/python3.8/site-packages/torch/nn/functional.py:3451: UserWarning:\n",
      "\n",
      "Default upsampling behavior when mode=bilinear is changed to align_corners=False since 0.4.0. Please specify align_corners=True if the old behavior is desired. See the documentation of nn.Upsample for details.\n",
      "\n",
      "/mnt/c/Projects/deepstimate/pytorch3d/pytorch3d/transforms/transform3d.py:782: UserWarning:\n",
      "\n",
      "R is not a valid rotation matrix\n",
      "\n",
      "\u001b[32m[I 2022-03-21 01:15:26,024]\u001b[0m Trial 36 finished with value: 0.003567533567547798 and parameters: {'ngf': 64, 'nz': 10, 'layers': 5, 'lr': 0.015854186140117247, 'beta1': 0.6760414618581845, 'beta2': 0.9505727742146295, 'l2': 0.00032493469440399245, 'amsgrad': True}. Best is trial 5 with value: 0.0029814683366566896.\u001b[0m\n"
     ]
    },
    {
     "data": {
      "application/vnd.jupyter.widget-view+json": {
       "model_id": "1589d7dfe2ce4a9a9eb05b2caf5ebdb4",
       "version_major": 2,
       "version_minor": 0
      },
      "text/plain": [
       "  0%|          | 0/1000 [00:00<?, ?it/s]"
      ]
     },
     "metadata": {},
     "output_type": "display_data"
    },
    {
     "name": "stderr",
     "output_type": "stream",
     "text": [
      "/home/theycallmepeter/anaconda3/envs/pytorch3d/lib/python3.8/site-packages/torch/nn/functional.py:3451: UserWarning:\n",
      "\n",
      "Default upsampling behavior when mode=bilinear is changed to align_corners=False since 0.4.0. Please specify align_corners=True if the old behavior is desired. See the documentation of nn.Upsample for details.\n",
      "\n",
      "/mnt/c/Projects/deepstimate/pytorch3d/pytorch3d/transforms/transform3d.py:782: UserWarning:\n",
      "\n",
      "R is not a valid rotation matrix\n",
      "\n",
      "\u001b[32m[I 2022-03-21 01:16:40,950]\u001b[0m Trial 37 finished with value: 0.003324439050629735 and parameters: {'ngf': 16, 'nz': 123, 'layers': 5, 'lr': 0.0026277920907286935, 'beta1': 0.5816137773866517, 'beta2': 0.9618995082222673, 'l2': 2.0981018840247087e-06, 'amsgrad': True}. Best is trial 5 with value: 0.0029814683366566896.\u001b[0m\n"
     ]
    },
    {
     "data": {
      "application/vnd.jupyter.widget-view+json": {
       "model_id": "d3a54ba709fc4c0e9e0f04dbf84c8aba",
       "version_major": 2,
       "version_minor": 0
      },
      "text/plain": [
       "  0%|          | 0/1000 [00:00<?, ?it/s]"
      ]
     },
     "metadata": {},
     "output_type": "display_data"
    },
    {
     "name": "stderr",
     "output_type": "stream",
     "text": [
      "/home/theycallmepeter/anaconda3/envs/pytorch3d/lib/python3.8/site-packages/torch/nn/functional.py:3451: UserWarning:\n",
      "\n",
      "Default upsampling behavior when mode=bilinear is changed to align_corners=False since 0.4.0. Please specify align_corners=True if the old behavior is desired. See the documentation of nn.Upsample for details.\n",
      "\n",
      "/mnt/c/Projects/deepstimate/pytorch3d/pytorch3d/transforms/transform3d.py:782: UserWarning:\n",
      "\n",
      "R is not a valid rotation matrix\n",
      "\n",
      "\u001b[32m[I 2022-03-21 01:18:00,603]\u001b[0m Trial 38 finished with value: 0.0040596420876681805 and parameters: {'ngf': 64, 'nz': 75, 'layers': 5, 'lr': 0.08622561986359453, 'beta1': 0.48502368515742933, 'beta2': 0.9355376630212956, 'l2': 5.313017374724678e-06, 'amsgrad': True}. Best is trial 5 with value: 0.0029814683366566896.\u001b[0m\n"
     ]
    },
    {
     "data": {
      "application/vnd.jupyter.widget-view+json": {
       "model_id": "fddf4d60b6514d14abae2dd4811ebabe",
       "version_major": 2,
       "version_minor": 0
      },
      "text/plain": [
       "  0%|          | 0/1000 [00:00<?, ?it/s]"
      ]
     },
     "metadata": {},
     "output_type": "display_data"
    },
    {
     "name": "stderr",
     "output_type": "stream",
     "text": [
      "/home/theycallmepeter/anaconda3/envs/pytorch3d/lib/python3.8/site-packages/torch/nn/functional.py:3451: UserWarning:\n",
      "\n",
      "Default upsampling behavior when mode=bilinear is changed to align_corners=False since 0.4.0. Please specify align_corners=True if the old behavior is desired. See the documentation of nn.Upsample for details.\n",
      "\n",
      "/mnt/c/Projects/deepstimate/pytorch3d/pytorch3d/transforms/transform3d.py:782: UserWarning:\n",
      "\n",
      "R is not a valid rotation matrix\n",
      "\n",
      "\u001b[32m[I 2022-03-21 01:19:15,437]\u001b[0m Trial 39 finished with value: 0.003537513315677643 and parameters: {'ngf': 16, 'nz': 40, 'layers': 5, 'lr': 0.0016363721871769676, 'beta1': 0.3870911166254209, 'beta2': 0.9626980346085076, 'l2': 0.0001008999983976316, 'amsgrad': True}. Best is trial 5 with value: 0.0029814683366566896.\u001b[0m\n"
     ]
    },
    {
     "data": {
      "application/vnd.jupyter.widget-view+json": {
       "model_id": "647fbc81872f4434a9e52a568f204f3a",
       "version_major": 2,
       "version_minor": 0
      },
      "text/plain": [
       "  0%|          | 0/1000 [00:00<?, ?it/s]"
      ]
     },
     "metadata": {},
     "output_type": "display_data"
    },
    {
     "name": "stderr",
     "output_type": "stream",
     "text": [
      "/home/theycallmepeter/anaconda3/envs/pytorch3d/lib/python3.8/site-packages/torch/nn/functional.py:3451: UserWarning:\n",
      "\n",
      "Default upsampling behavior when mode=bilinear is changed to align_corners=False since 0.4.0. Please specify align_corners=True if the old behavior is desired. See the documentation of nn.Upsample for details.\n",
      "\n",
      "/mnt/c/Projects/deepstimate/pytorch3d/pytorch3d/transforms/transform3d.py:782: UserWarning:\n",
      "\n",
      "R is not a valid rotation matrix\n",
      "\n",
      "\u001b[32m[I 2022-03-21 01:20:31,682]\u001b[0m Trial 40 finished with value: 0.003433185163885355 and parameters: {'ngf': 64, 'nz': 87, 'layers': 4, 'lr': 0.007214652216717845, 'beta1': 0.6473919937832725, 'beta2': 0.9492655019185555, 'l2': 0.0005790209479044302, 'amsgrad': True}. Best is trial 5 with value: 0.0029814683366566896.\u001b[0m\n"
     ]
    },
    {
     "data": {
      "application/vnd.jupyter.widget-view+json": {
       "model_id": "04308f5282d04f96af30434e5397d197",
       "version_major": 2,
       "version_minor": 0
      },
      "text/plain": [
       "  0%|          | 0/1000 [00:00<?, ?it/s]"
      ]
     },
     "metadata": {},
     "output_type": "display_data"
    },
    {
     "name": "stderr",
     "output_type": "stream",
     "text": [
      "/home/theycallmepeter/anaconda3/envs/pytorch3d/lib/python3.8/site-packages/torch/nn/functional.py:3451: UserWarning:\n",
      "\n",
      "Default upsampling behavior when mode=bilinear is changed to align_corners=False since 0.4.0. Please specify align_corners=True if the old behavior is desired. See the documentation of nn.Upsample for details.\n",
      "\n",
      "/mnt/c/Projects/deepstimate/pytorch3d/pytorch3d/transforms/transform3d.py:782: UserWarning:\n",
      "\n",
      "R is not a valid rotation matrix\n",
      "\n",
      "\u001b[32m[I 2022-03-21 01:21:47,776]\u001b[0m Trial 41 finished with value: 0.0032345091458410025 and parameters: {'ngf': 64, 'nz': 91, 'layers': 4, 'lr': 0.0007537582197147934, 'beta1': 0.5134047225435476, 'beta2': 0.9417145390655715, 'l2': 1.8555765362468655e-05, 'amsgrad': True}. Best is trial 5 with value: 0.0029814683366566896.\u001b[0m\n"
     ]
    },
    {
     "data": {
      "application/vnd.jupyter.widget-view+json": {
       "model_id": "85e26d33c7534ebfbbd511506cba1822",
       "version_major": 2,
       "version_minor": 0
      },
      "text/plain": [
       "  0%|          | 0/1000 [00:00<?, ?it/s]"
      ]
     },
     "metadata": {},
     "output_type": "display_data"
    },
    {
     "name": "stderr",
     "output_type": "stream",
     "text": [
      "/home/theycallmepeter/anaconda3/envs/pytorch3d/lib/python3.8/site-packages/torch/nn/functional.py:3451: UserWarning:\n",
      "\n",
      "Default upsampling behavior when mode=bilinear is changed to align_corners=False since 0.4.0. Please specify align_corners=True if the old behavior is desired. See the documentation of nn.Upsample for details.\n",
      "\n",
      "/mnt/c/Projects/deepstimate/pytorch3d/pytorch3d/transforms/transform3d.py:782: UserWarning:\n",
      "\n",
      "R is not a valid rotation matrix\n",
      "\n",
      "\u001b[32m[I 2022-03-21 01:23:04,125]\u001b[0m Trial 42 finished with value: 0.0031388727948069572 and parameters: {'ngf': 64, 'nz': 113, 'layers': 4, 'lr': 0.00029483877476888545, 'beta1': 0.5527361689338778, 'beta2': 0.9270350803708352, 'l2': 1.016718605942625e-06, 'amsgrad': True}. Best is trial 5 with value: 0.0029814683366566896.\u001b[0m\n"
     ]
    },
    {
     "data": {
      "application/vnd.jupyter.widget-view+json": {
       "model_id": "50ac04d14f4447438e67419ed3cf3036",
       "version_major": 2,
       "version_minor": 0
      },
      "text/plain": [
       "  0%|          | 0/1000 [00:00<?, ?it/s]"
      ]
     },
     "metadata": {},
     "output_type": "display_data"
    },
    {
     "name": "stderr",
     "output_type": "stream",
     "text": [
      "/home/theycallmepeter/anaconda3/envs/pytorch3d/lib/python3.8/site-packages/torch/nn/functional.py:3451: UserWarning:\n",
      "\n",
      "Default upsampling behavior when mode=bilinear is changed to align_corners=False since 0.4.0. Please specify align_corners=True if the old behavior is desired. See the documentation of nn.Upsample for details.\n",
      "\n",
      "/mnt/c/Projects/deepstimate/pytorch3d/pytorch3d/transforms/transform3d.py:782: UserWarning:\n",
      "\n",
      "R is not a valid rotation matrix\n",
      "\n",
      "\u001b[32m[I 2022-03-21 01:24:20,301]\u001b[0m Trial 43 finished with value: 0.0031497697345912457 and parameters: {'ngf': 64, 'nz': 64, 'layers': 4, 'lr': 0.0032303716043654844, 'beta1': 0.8910536668544522, 'beta2': 0.9282057634685816, 'l2': 4.1005063096662496e-05, 'amsgrad': True}. Best is trial 5 with value: 0.0029814683366566896.\u001b[0m\n"
     ]
    },
    {
     "data": {
      "application/vnd.jupyter.widget-view+json": {
       "model_id": "9b4b031c275741e3ba019f027241aecb",
       "version_major": 2,
       "version_minor": 0
      },
      "text/plain": [
       "  0%|          | 0/1000 [00:00<?, ?it/s]"
      ]
     },
     "metadata": {},
     "output_type": "display_data"
    },
    {
     "name": "stderr",
     "output_type": "stream",
     "text": [
      "/home/theycallmepeter/anaconda3/envs/pytorch3d/lib/python3.8/site-packages/torch/nn/functional.py:3451: UserWarning:\n",
      "\n",
      "Default upsampling behavior when mode=bilinear is changed to align_corners=False since 0.4.0. Please specify align_corners=True if the old behavior is desired. See the documentation of nn.Upsample for details.\n",
      "\n",
      "/mnt/c/Projects/deepstimate/pytorch3d/pytorch3d/transforms/transform3d.py:782: UserWarning:\n",
      "\n",
      "R is not a valid rotation matrix\n",
      "\n",
      "\u001b[32m[I 2022-03-21 01:25:38,295]\u001b[0m Trial 44 finished with value: 0.0033188899978995323 and parameters: {'ngf': 64, 'nz': 100, 'layers': 3, 'lr': 0.0010963103093201523, 'beta1': 0.4519323900696414, 'beta2': 0.9122334454108807, 'l2': 1.5283992518135508e-05, 'amsgrad': True}. Best is trial 5 with value: 0.0029814683366566896.\u001b[0m\n"
     ]
    },
    {
     "data": {
      "application/vnd.jupyter.widget-view+json": {
       "model_id": "9e84b58b5abe475f862521ee529e440a",
       "version_major": 2,
       "version_minor": 0
      },
      "text/plain": [
       "  0%|          | 0/1000 [00:00<?, ?it/s]"
      ]
     },
     "metadata": {},
     "output_type": "display_data"
    },
    {
     "name": "stderr",
     "output_type": "stream",
     "text": [
      "/home/theycallmepeter/anaconda3/envs/pytorch3d/lib/python3.8/site-packages/torch/nn/functional.py:3451: UserWarning:\n",
      "\n",
      "Default upsampling behavior when mode=bilinear is changed to align_corners=False since 0.4.0. Please specify align_corners=True if the old behavior is desired. See the documentation of nn.Upsample for details.\n",
      "\n",
      "/mnt/c/Projects/deepstimate/pytorch3d/pytorch3d/transforms/transform3d.py:782: UserWarning:\n",
      "\n",
      "R is not a valid rotation matrix\n",
      "\n",
      "\u001b[32m[I 2022-03-21 01:27:01,476]\u001b[0m Trial 45 finished with value: 0.0036617438308894634 and parameters: {'ngf': 64, 'nz': 55, 'layers': 2, 'lr': 0.0004856086737211506, 'beta1': 0.508104635884911, 'beta2': 0.9191414751325748, 'l2': 2.7596142969681675e-06, 'amsgrad': True}. Best is trial 5 with value: 0.0029814683366566896.\u001b[0m\n"
     ]
    },
    {
     "data": {
      "application/vnd.jupyter.widget-view+json": {
       "model_id": "30b35f3540c642f8ad44fccbb10427d2",
       "version_major": 2,
       "version_minor": 0
      },
      "text/plain": [
       "  0%|          | 0/1000 [00:00<?, ?it/s]"
      ]
     },
     "metadata": {},
     "output_type": "display_data"
    },
    {
     "name": "stderr",
     "output_type": "stream",
     "text": [
      "/home/theycallmepeter/anaconda3/envs/pytorch3d/lib/python3.8/site-packages/torch/nn/functional.py:3451: UserWarning:\n",
      "\n",
      "Default upsampling behavior when mode=bilinear is changed to align_corners=False since 0.4.0. Please specify align_corners=True if the old behavior is desired. See the documentation of nn.Upsample for details.\n",
      "\n",
      "/mnt/c/Projects/deepstimate/pytorch3d/pytorch3d/transforms/transform3d.py:782: UserWarning:\n",
      "\n",
      "R is not a valid rotation matrix\n",
      "\n",
      "\u001b[32m[I 2022-03-21 01:28:15,645]\u001b[0m Trial 46 finished with value: 0.0035101997200399637 and parameters: {'ngf': 16, 'nz': 162, 'layers': 4, 'lr': 0.01569640221676232, 'beta1': 0.4188840646512107, 'beta2': 0.9022007227779206, 'l2': 0.0001960617459328806, 'amsgrad': True}. Best is trial 5 with value: 0.0029814683366566896.\u001b[0m\n"
     ]
    },
    {
     "data": {
      "application/vnd.jupyter.widget-view+json": {
       "model_id": "cab2d8aaab2f4c5db9fb8ae029d645d9",
       "version_major": 2,
       "version_minor": 0
      },
      "text/plain": [
       "  0%|          | 0/1000 [00:00<?, ?it/s]"
      ]
     },
     "metadata": {},
     "output_type": "display_data"
    },
    {
     "name": "stderr",
     "output_type": "stream",
     "text": [
      "/home/theycallmepeter/anaconda3/envs/pytorch3d/lib/python3.8/site-packages/torch/nn/functional.py:3451: UserWarning:\n",
      "\n",
      "Default upsampling behavior when mode=bilinear is changed to align_corners=False since 0.4.0. Please specify align_corners=True if the old behavior is desired. See the documentation of nn.Upsample for details.\n",
      "\n",
      "/mnt/c/Projects/deepstimate/pytorch3d/pytorch3d/transforms/transform3d.py:782: UserWarning:\n",
      "\n",
      "R is not a valid rotation matrix\n",
      "\n",
      "\u001b[32m[I 2022-03-21 01:29:31,784]\u001b[0m Trial 47 finished with value: 0.0033703616354614496 and parameters: {'ngf': 32, 'nz': 81, 'layers': 5, 'lr': 0.0002697836039494978, 'beta1': 0.46808937516940646, 'beta2': 0.9373195349310639, 'l2': 5.512294957992086e-06, 'amsgrad': False}. Best is trial 5 with value: 0.0029814683366566896.\u001b[0m\n"
     ]
    },
    {
     "data": {
      "application/vnd.jupyter.widget-view+json": {
       "model_id": "309a6f1a43254ac79ea2ea943c8dc2af",
       "version_major": 2,
       "version_minor": 0
      },
      "text/plain": [
       "  0%|          | 0/1000 [00:00<?, ?it/s]"
      ]
     },
     "metadata": {},
     "output_type": "display_data"
    },
    {
     "name": "stderr",
     "output_type": "stream",
     "text": [
      "/home/theycallmepeter/anaconda3/envs/pytorch3d/lib/python3.8/site-packages/torch/nn/functional.py:3451: UserWarning:\n",
      "\n",
      "Default upsampling behavior when mode=bilinear is changed to align_corners=False since 0.4.0. Please specify align_corners=True if the old behavior is desired. See the documentation of nn.Upsample for details.\n",
      "\n",
      "/mnt/c/Projects/deepstimate/pytorch3d/pytorch3d/transforms/transform3d.py:782: UserWarning:\n",
      "\n",
      "R is not a valid rotation matrix\n",
      "\n",
      "\u001b[32m[I 2022-03-21 01:30:45,774]\u001b[0m Trial 48 finished with value: 0.0036333054304122925 and parameters: {'ngf': 16, 'nz': 69, 'layers': 4, 'lr': 0.0014446481996297142, 'beta1': 0.5989043130040715, 'beta2': 0.9596255231758584, 'l2': 6.473912810491901e-05, 'amsgrad': True}. Best is trial 5 with value: 0.0029814683366566896.\u001b[0m\n"
     ]
    },
    {
     "data": {
      "application/vnd.jupyter.widget-view+json": {
       "model_id": "df8da205217e49feaed0dd9a2dee7a34",
       "version_major": 2,
       "version_minor": 0
      },
      "text/plain": [
       "  0%|          | 0/1000 [00:00<?, ?it/s]"
      ]
     },
     "metadata": {},
     "output_type": "display_data"
    },
    {
     "name": "stderr",
     "output_type": "stream",
     "text": [
      "/home/theycallmepeter/anaconda3/envs/pytorch3d/lib/python3.8/site-packages/torch/nn/functional.py:3451: UserWarning:\n",
      "\n",
      "Default upsampling behavior when mode=bilinear is changed to align_corners=False since 0.4.0. Please specify align_corners=True if the old behavior is desired. See the documentation of nn.Upsample for details.\n",
      "\n",
      "/mnt/c/Projects/deepstimate/pytorch3d/pytorch3d/transforms/transform3d.py:782: UserWarning:\n",
      "\n",
      "R is not a valid rotation matrix\n",
      "\n",
      "\u001b[32m[I 2022-03-21 01:32:01,817]\u001b[0m Trial 49 finished with value: 0.0033481833525002003 and parameters: {'ngf': 64, 'nz': 93, 'layers': 4, 'lr': 0.005174300290730726, 'beta1': 0.5577362788300065, 'beta2': 0.953887309621092, 'l2': 2.987981536990826e-05, 'amsgrad': False}. Best is trial 5 with value: 0.0029814683366566896.\u001b[0m\n"
     ]
    },
    {
     "data": {
      "application/vnd.jupyter.widget-view+json": {
       "model_id": "0e1df5a6f1b4477c9030aa1a7ea1525e",
       "version_major": 2,
       "version_minor": 0
      },
      "text/plain": [
       "  0%|          | 0/1000 [00:00<?, ?it/s]"
      ]
     },
     "metadata": {},
     "output_type": "display_data"
    },
    {
     "name": "stderr",
     "output_type": "stream",
     "text": [
      "/home/theycallmepeter/anaconda3/envs/pytorch3d/lib/python3.8/site-packages/torch/nn/functional.py:3451: UserWarning:\n",
      "\n",
      "Default upsampling behavior when mode=bilinear is changed to align_corners=False since 0.4.0. Please specify align_corners=True if the old behavior is desired. See the documentation of nn.Upsample for details.\n",
      "\n",
      "/mnt/c/Projects/deepstimate/pytorch3d/pytorch3d/transforms/transform3d.py:782: UserWarning:\n",
      "\n",
      "R is not a valid rotation matrix\n",
      "\n",
      "\u001b[32m[I 2022-03-21 01:33:18,309]\u001b[0m Trial 50 finished with value: 0.0033143735490739346 and parameters: {'ngf': 32, 'nz': 116, 'layers': 5, 'lr': 0.00017942883939592506, 'beta1': 0.6323570990712934, 'beta2': 0.9054146453004625, 'l2': 1.2028831247466541e-05, 'amsgrad': True}. Best is trial 5 with value: 0.0029814683366566896.\u001b[0m\n"
     ]
    },
    {
     "data": {
      "application/vnd.jupyter.widget-view+json": {
       "model_id": "398bffb48e7b4364a4e698328d718e01",
       "version_major": 2,
       "version_minor": 0
      },
      "text/plain": [
       "  0%|          | 0/1000 [00:00<?, ?it/s]"
      ]
     },
     "metadata": {},
     "output_type": "display_data"
    },
    {
     "name": "stderr",
     "output_type": "stream",
     "text": [
      "/home/theycallmepeter/anaconda3/envs/pytorch3d/lib/python3.8/site-packages/torch/nn/functional.py:3451: UserWarning:\n",
      "\n",
      "Default upsampling behavior when mode=bilinear is changed to align_corners=False since 0.4.0. Please specify align_corners=True if the old behavior is desired. See the documentation of nn.Upsample for details.\n",
      "\n",
      "/mnt/c/Projects/deepstimate/pytorch3d/pytorch3d/transforms/transform3d.py:782: UserWarning:\n",
      "\n",
      "R is not a valid rotation matrix\n",
      "\n",
      "\u001b[32m[I 2022-03-21 01:34:34,932]\u001b[0m Trial 51 finished with value: 0.003849779022857547 and parameters: {'ngf': 64, 'nz': 140, 'layers': 4, 'lr': 8.964810555419785e-05, 'beta1': 0.5473158291094574, 'beta2': 0.9250639288388163, 'l2': 1.9599875988852943e-06, 'amsgrad': True}. Best is trial 5 with value: 0.0029814683366566896.\u001b[0m\n"
     ]
    },
    {
     "data": {
      "application/vnd.jupyter.widget-view+json": {
       "model_id": "d40d129935084979a9ce0c64725fe0e4",
       "version_major": 2,
       "version_minor": 0
      },
      "text/plain": [
       "  0%|          | 0/1000 [00:00<?, ?it/s]"
      ]
     },
     "metadata": {},
     "output_type": "display_data"
    },
    {
     "name": "stderr",
     "output_type": "stream",
     "text": [
      "/home/theycallmepeter/anaconda3/envs/pytorch3d/lib/python3.8/site-packages/torch/nn/functional.py:3451: UserWarning:\n",
      "\n",
      "Default upsampling behavior when mode=bilinear is changed to align_corners=False since 0.4.0. Please specify align_corners=True if the old behavior is desired. See the documentation of nn.Upsample for details.\n",
      "\n",
      "/mnt/c/Projects/deepstimate/pytorch3d/pytorch3d/transforms/transform3d.py:782: UserWarning:\n",
      "\n",
      "R is not a valid rotation matrix\n",
      "\n",
      "\u001b[32m[I 2022-03-21 01:35:51,392]\u001b[0m Trial 52 finished with value: 0.0029660393483936787 and parameters: {'ngf': 64, 'nz': 103, 'layers': 4, 'lr': 0.002471009957906173, 'beta1': 0.5188507539780817, 'beta2': 0.9269928400467576, 'l2': 1.0685505489322722e-06, 'amsgrad': True}. Best is trial 52 with value: 0.0029660393483936787.\u001b[0m\n"
     ]
    },
    {
     "data": {
      "application/vnd.jupyter.widget-view+json": {
       "model_id": "b2495b044ea94548a1978f1ea8a6e3b5",
       "version_major": 2,
       "version_minor": 0
      },
      "text/plain": [
       "  0%|          | 0/1000 [00:00<?, ?it/s]"
      ]
     },
     "metadata": {},
     "output_type": "display_data"
    },
    {
     "name": "stderr",
     "output_type": "stream",
     "text": [
      "/home/theycallmepeter/anaconda3/envs/pytorch3d/lib/python3.8/site-packages/torch/nn/functional.py:3451: UserWarning:\n",
      "\n",
      "Default upsampling behavior when mode=bilinear is changed to align_corners=False since 0.4.0. Please specify align_corners=True if the old behavior is desired. See the documentation of nn.Upsample for details.\n",
      "\n",
      "/mnt/c/Projects/deepstimate/pytorch3d/pytorch3d/transforms/transform3d.py:782: UserWarning:\n",
      "\n",
      "R is not a valid rotation matrix\n",
      "\n",
      "\u001b[32m[I 2022-03-21 01:37:07,682]\u001b[0m Trial 53 finished with value: 0.0031864994671195745 and parameters: {'ngf': 64, 'nz': 106, 'layers': 4, 'lr': 0.0026197120077246223, 'beta1': 0.5130686084386719, 'beta2': 0.9181568389785951, 'l2': 6.1281190360645505e-06, 'amsgrad': True}. Best is trial 52 with value: 0.0029660393483936787.\u001b[0m\n"
     ]
    },
    {
     "data": {
      "application/vnd.jupyter.widget-view+json": {
       "model_id": "f15d284a47c1496386b7cbb88251a81b",
       "version_major": 2,
       "version_minor": 0
      },
      "text/plain": [
       "  0%|          | 0/1000 [00:00<?, ?it/s]"
      ]
     },
     "metadata": {},
     "output_type": "display_data"
    },
    {
     "name": "stderr",
     "output_type": "stream",
     "text": [
      "/home/theycallmepeter/anaconda3/envs/pytorch3d/lib/python3.8/site-packages/torch/nn/functional.py:3451: UserWarning:\n",
      "\n",
      "Default upsampling behavior when mode=bilinear is changed to align_corners=False since 0.4.0. Please specify align_corners=True if the old behavior is desired. See the documentation of nn.Upsample for details.\n",
      "\n",
      "/mnt/c/Projects/deepstimate/pytorch3d/pytorch3d/transforms/transform3d.py:782: UserWarning:\n",
      "\n",
      "R is not a valid rotation matrix\n",
      "\n",
      "\u001b[32m[I 2022-03-21 01:38:23,918]\u001b[0m Trial 54 finished with value: 0.003107530064880848 and parameters: {'ngf': 64, 'nz': 84, 'layers': 4, 'lr': 0.002070558869575747, 'beta1': 0.45495323741098276, 'beta2': 0.9334119549974007, 'l2': 1.5235562210008977e-06, 'amsgrad': True}. Best is trial 52 with value: 0.0029660393483936787.\u001b[0m\n"
     ]
    },
    {
     "data": {
      "application/vnd.jupyter.widget-view+json": {
       "model_id": "f10ed993f95a4d139959d5345158491d",
       "version_major": 2,
       "version_minor": 0
      },
      "text/plain": [
       "  0%|          | 0/1000 [00:00<?, ?it/s]"
      ]
     },
     "metadata": {},
     "output_type": "display_data"
    },
    {
     "name": "stderr",
     "output_type": "stream",
     "text": [
      "/home/theycallmepeter/anaconda3/envs/pytorch3d/lib/python3.8/site-packages/torch/nn/functional.py:3451: UserWarning:\n",
      "\n",
      "Default upsampling behavior when mode=bilinear is changed to align_corners=False since 0.4.0. Please specify align_corners=True if the old behavior is desired. See the documentation of nn.Upsample for details.\n",
      "\n",
      "/mnt/c/Projects/deepstimate/pytorch3d/pytorch3d/transforms/transform3d.py:782: UserWarning:\n",
      "\n",
      "R is not a valid rotation matrix\n",
      "\n",
      "\u001b[32m[I 2022-03-21 01:39:41,871]\u001b[0m Trial 55 finished with value: 0.0032460349611938 and parameters: {'ngf': 64, 'nz': 47, 'layers': 3, 'lr': 0.0068557457688181046, 'beta1': 0.37040298038087, 'beta2': 0.9333984962987583, 'l2': 1.43943192736355e-06, 'amsgrad': True}. Best is trial 52 with value: 0.0029660393483936787.\u001b[0m\n"
     ]
    },
    {
     "data": {
      "application/vnd.jupyter.widget-view+json": {
       "model_id": "51126058c7e64111a9f0bd78b8f1d9b7",
       "version_major": 2,
       "version_minor": 0
      },
      "text/plain": [
       "  0%|          | 0/1000 [00:00<?, ?it/s]"
      ]
     },
     "metadata": {},
     "output_type": "display_data"
    },
    {
     "name": "stderr",
     "output_type": "stream",
     "text": [
      "/home/theycallmepeter/anaconda3/envs/pytorch3d/lib/python3.8/site-packages/torch/nn/functional.py:3451: UserWarning:\n",
      "\n",
      "Default upsampling behavior when mode=bilinear is changed to align_corners=False since 0.4.0. Please specify align_corners=True if the old behavior is desired. See the documentation of nn.Upsample for details.\n",
      "\n",
      "/mnt/c/Projects/deepstimate/pytorch3d/pytorch3d/transforms/transform3d.py:782: UserWarning:\n",
      "\n",
      "R is not a valid rotation matrix\n",
      "\n",
      "\u001b[32m[I 2022-03-21 01:40:55,948]\u001b[0m Trial 56 finished with value: 0.0032988020684570074 and parameters: {'ngf': 16, 'nz': 82, 'layers': 4, 'lr': 0.002319523517142145, 'beta1': 0.4389683556853756, 'beta2': 0.9464110276432918, 'l2': 1.2880637187392555e-06, 'amsgrad': True}. Best is trial 52 with value: 0.0029660393483936787.\u001b[0m\n"
     ]
    },
    {
     "data": {
      "application/vnd.jupyter.widget-view+json": {
       "model_id": "d9c7e96cec004877b3909d4497507e1d",
       "version_major": 2,
       "version_minor": 0
      },
      "text/plain": [
       "  0%|          | 0/1000 [00:00<?, ?it/s]"
      ]
     },
     "metadata": {},
     "output_type": "display_data"
    },
    {
     "name": "stderr",
     "output_type": "stream",
     "text": [
      "/home/theycallmepeter/anaconda3/envs/pytorch3d/lib/python3.8/site-packages/torch/nn/functional.py:3451: UserWarning:\n",
      "\n",
      "Default upsampling behavior when mode=bilinear is changed to align_corners=False since 0.4.0. Please specify align_corners=True if the old behavior is desired. See the documentation of nn.Upsample for details.\n",
      "\n",
      "/mnt/c/Projects/deepstimate/pytorch3d/pytorch3d/transforms/transform3d.py:782: UserWarning:\n",
      "\n",
      "R is not a valid rotation matrix\n",
      "\n",
      "\u001b[32m[I 2022-03-21 01:42:15,161]\u001b[0m Trial 57 finished with value: 0.0035128998570144176 and parameters: {'ngf': 64, 'nz': 62, 'layers': 5, 'lr': 0.01277469893897301, 'beta1': 0.279385077607154, 'beta2': 0.9413890473185157, 'l2': 3.4673693263444014e-06, 'amsgrad': False}. Best is trial 52 with value: 0.0029660393483936787.\u001b[0m\n"
     ]
    },
    {
     "data": {
      "application/vnd.jupyter.widget-view+json": {
       "model_id": "e59282ba38754899bf11507b323a4df7",
       "version_major": 2,
       "version_minor": 0
      },
      "text/plain": [
       "  0%|          | 0/1000 [00:00<?, ?it/s]"
      ]
     },
     "metadata": {},
     "output_type": "display_data"
    },
    {
     "name": "stderr",
     "output_type": "stream",
     "text": [
      "/home/theycallmepeter/anaconda3/envs/pytorch3d/lib/python3.8/site-packages/torch/nn/functional.py:3451: UserWarning:\n",
      "\n",
      "Default upsampling behavior when mode=bilinear is changed to align_corners=False since 0.4.0. Please specify align_corners=True if the old behavior is desired. See the documentation of nn.Upsample for details.\n",
      "\n",
      "/mnt/c/Projects/deepstimate/pytorch3d/pytorch3d/transforms/transform3d.py:782: UserWarning:\n",
      "\n",
      "R is not a valid rotation matrix\n",
      "\n",
      "\u001b[32m[I 2022-03-21 01:43:31,516]\u001b[0m Trial 58 finished with value: 0.0031520752236247063 and parameters: {'ngf': 64, 'nz': 103, 'layers': 4, 'lr': 0.0016646278474186477, 'beta1': 0.46515628600599984, 'beta2': 0.9126913450121737, 'l2': 2.411764819784733e-06, 'amsgrad': True}. Best is trial 52 with value: 0.0029660393483936787.\u001b[0m\n"
     ]
    },
    {
     "data": {
      "application/vnd.jupyter.widget-view+json": {
       "model_id": "baf7178850034aec86bf0c2df9d15518",
       "version_major": 2,
       "version_minor": 0
      },
      "text/plain": [
       "  0%|          | 0/1000 [00:00<?, ?it/s]"
      ]
     },
     "metadata": {},
     "output_type": "display_data"
    },
    {
     "name": "stderr",
     "output_type": "stream",
     "text": [
      "/home/theycallmepeter/anaconda3/envs/pytorch3d/lib/python3.8/site-packages/torch/nn/functional.py:3451: UserWarning:\n",
      "\n",
      "Default upsampling behavior when mode=bilinear is changed to align_corners=False since 0.4.0. Please specify align_corners=True if the old behavior is desired. See the documentation of nn.Upsample for details.\n",
      "\n",
      "/mnt/c/Projects/deepstimate/pytorch3d/pytorch3d/transforms/transform3d.py:782: UserWarning:\n",
      "\n",
      "R is not a valid rotation matrix\n",
      "\n",
      "\u001b[32m[I 2022-03-21 01:44:46,228]\u001b[0m Trial 59 finished with value: 0.0032309081871062517 and parameters: {'ngf': 32, 'nz': 76, 'layers': 4, 'lr': 0.0009865600842955775, 'beta1': 0.49125293491566097, 'beta2': 0.9513008614523467, 'l2': 0.0016508935915094053, 'amsgrad': True}. Best is trial 52 with value: 0.0029660393483936787.\u001b[0m\n"
     ]
    },
    {
     "data": {
      "application/vnd.jupyter.widget-view+json": {
       "model_id": "89719eb678ca48668161e77affccb788",
       "version_major": 2,
       "version_minor": 0
      },
      "text/plain": [
       "  0%|          | 0/1000 [00:00<?, ?it/s]"
      ]
     },
     "metadata": {},
     "output_type": "display_data"
    },
    {
     "name": "stderr",
     "output_type": "stream",
     "text": [
      "/home/theycallmepeter/anaconda3/envs/pytorch3d/lib/python3.8/site-packages/torch/nn/functional.py:3451: UserWarning:\n",
      "\n",
      "Default upsampling behavior when mode=bilinear is changed to align_corners=False since 0.4.0. Please specify align_corners=True if the old behavior is desired. See the documentation of nn.Upsample for details.\n",
      "\n",
      "/mnt/c/Projects/deepstimate/pytorch3d/pytorch3d/transforms/transform3d.py:782: UserWarning:\n",
      "\n",
      "R is not a valid rotation matrix\n",
      "\n",
      "\u001b[32m[I 2022-03-21 01:46:03,538]\u001b[0m Trial 60 finished with value: 0.0032520988024771214 and parameters: {'ngf': 16, 'nz': 88, 'layers': 3, 'lr': 0.005146125436783822, 'beta1': 0.3522576073887633, 'beta2': 0.9194542546238699, 'l2': 0.0005057604451880037, 'amsgrad': True}. Best is trial 52 with value: 0.0029660393483936787.\u001b[0m\n"
     ]
    },
    {
     "data": {
      "application/vnd.jupyter.widget-view+json": {
       "model_id": "23833a7de8dd4ccb8eb93a93ab2b04e7",
       "version_major": 2,
       "version_minor": 0
      },
      "text/plain": [
       "  0%|          | 0/1000 [00:00<?, ?it/s]"
      ]
     },
     "metadata": {},
     "output_type": "display_data"
    },
    {
     "name": "stderr",
     "output_type": "stream",
     "text": [
      "/home/theycallmepeter/anaconda3/envs/pytorch3d/lib/python3.8/site-packages/torch/nn/functional.py:3451: UserWarning:\n",
      "\n",
      "Default upsampling behavior when mode=bilinear is changed to align_corners=False since 0.4.0. Please specify align_corners=True if the old behavior is desired. See the documentation of nn.Upsample for details.\n",
      "\n",
      "/mnt/c/Projects/deepstimate/pytorch3d/pytorch3d/transforms/transform3d.py:782: UserWarning:\n",
      "\n",
      "R is not a valid rotation matrix\n",
      "\n",
      "\u001b[32m[I 2022-03-21 01:47:19,827]\u001b[0m Trial 61 finished with value: 0.0030057141557335854 and parameters: {'ngf': 64, 'nz': 94, 'layers': 4, 'lr': 0.0007017308428369388, 'beta1': 0.528513552766742, 'beta2': 0.9295551330561307, 'l2': 1.6941419795000943e-06, 'amsgrad': True}. Best is trial 52 with value: 0.0029660393483936787.\u001b[0m\n"
     ]
    },
    {
     "data": {
      "application/vnd.jupyter.widget-view+json": {
       "model_id": "ccb1857e90ad4220add775fa86647402",
       "version_major": 2,
       "version_minor": 0
      },
      "text/plain": [
       "  0%|          | 0/1000 [00:00<?, ?it/s]"
      ]
     },
     "metadata": {},
     "output_type": "display_data"
    },
    {
     "name": "stderr",
     "output_type": "stream",
     "text": [
      "/home/theycallmepeter/anaconda3/envs/pytorch3d/lib/python3.8/site-packages/torch/nn/functional.py:3451: UserWarning:\n",
      "\n",
      "Default upsampling behavior when mode=bilinear is changed to align_corners=False since 0.4.0. Please specify align_corners=True if the old behavior is desired. See the documentation of nn.Upsample for details.\n",
      "\n",
      "/mnt/c/Projects/deepstimate/pytorch3d/pytorch3d/transforms/transform3d.py:782: UserWarning:\n",
      "\n",
      "R is not a valid rotation matrix\n",
      "\n",
      "\u001b[32m[I 2022-03-21 01:48:35,946]\u001b[0m Trial 62 finished with value: 0.0032417161855846643 and parameters: {'ngf': 64, 'nz': 69, 'layers': 4, 'lr': 0.002852079531870075, 'beta1': 0.5659940308481821, 'beta2': 0.9313645289404041, 'l2': 1.031679098947315e-06, 'amsgrad': True}. Best is trial 52 with value: 0.0029660393483936787.\u001b[0m\n"
     ]
    },
    {
     "data": {
      "application/vnd.jupyter.widget-view+json": {
       "model_id": "4c925f98af48499ca6bfd726f7d8abd0",
       "version_major": 2,
       "version_minor": 0
      },
      "text/plain": [
       "  0%|          | 0/1000 [00:00<?, ?it/s]"
      ]
     },
     "metadata": {},
     "output_type": "display_data"
    },
    {
     "name": "stderr",
     "output_type": "stream",
     "text": [
      "/home/theycallmepeter/anaconda3/envs/pytorch3d/lib/python3.8/site-packages/torch/nn/functional.py:3451: UserWarning:\n",
      "\n",
      "Default upsampling behavior when mode=bilinear is changed to align_corners=False since 0.4.0. Please specify align_corners=True if the old behavior is desired. See the documentation of nn.Upsample for details.\n",
      "\n",
      "/mnt/c/Projects/deepstimate/pytorch3d/pytorch3d/transforms/transform3d.py:782: UserWarning:\n",
      "\n",
      "R is not a valid rotation matrix\n",
      "\n",
      "\u001b[32m[I 2022-03-21 01:49:52,294]\u001b[0m Trial 63 finished with value: 0.0031879073940217495 and parameters: {'ngf': 64, 'nz': 119, 'layers': 4, 'lr': 0.0019566056794373967, 'beta1': 0.5312646040805247, 'beta2': 0.9362515837107203, 'l2': 1.619790286159244e-06, 'amsgrad': True}. Best is trial 52 with value: 0.0029660393483936787.\u001b[0m\n"
     ]
    },
    {
     "data": {
      "application/vnd.jupyter.widget-view+json": {
       "model_id": "6d3f4b43b3314616b42e1834b195b9a9",
       "version_major": 2,
       "version_minor": 0
      },
      "text/plain": [
       "  0%|          | 0/1000 [00:00<?, ?it/s]"
      ]
     },
     "metadata": {},
     "output_type": "display_data"
    },
    {
     "name": "stderr",
     "output_type": "stream",
     "text": [
      "/home/theycallmepeter/anaconda3/envs/pytorch3d/lib/python3.8/site-packages/torch/nn/functional.py:3451: UserWarning:\n",
      "\n",
      "Default upsampling behavior when mode=bilinear is changed to align_corners=False since 0.4.0. Please specify align_corners=True if the old behavior is desired. See the documentation of nn.Upsample for details.\n",
      "\n",
      "/mnt/c/Projects/deepstimate/pytorch3d/pytorch3d/transforms/transform3d.py:782: UserWarning:\n",
      "\n",
      "R is not a valid rotation matrix\n",
      "\n",
      "\u001b[32m[I 2022-03-21 01:51:08,365]\u001b[0m Trial 64 finished with value: 0.003094143234193325 and parameters: {'ngf': 64, 'nz': 59, 'layers': 4, 'lr': 0.0013597889796116561, 'beta1': 0.4282372068781548, 'beta2': 0.9241486923377956, 'l2': 3.3975243745560714e-06, 'amsgrad': True}. Best is trial 52 with value: 0.0029660393483936787.\u001b[0m\n"
     ]
    },
    {
     "data": {
      "application/vnd.jupyter.widget-view+json": {
       "model_id": "2ae066588ec843b4a2cf2993c7be41d3",
       "version_major": 2,
       "version_minor": 0
      },
      "text/plain": [
       "  0%|          | 0/1000 [00:00<?, ?it/s]"
      ]
     },
     "metadata": {},
     "output_type": "display_data"
    },
    {
     "name": "stderr",
     "output_type": "stream",
     "text": [
      "/home/theycallmepeter/anaconda3/envs/pytorch3d/lib/python3.8/site-packages/torch/nn/functional.py:3451: UserWarning:\n",
      "\n",
      "Default upsampling behavior when mode=bilinear is changed to align_corners=False since 0.4.0. Please specify align_corners=True if the old behavior is desired. See the documentation of nn.Upsample for details.\n",
      "\n",
      "/mnt/c/Projects/deepstimate/pytorch3d/pytorch3d/transforms/transform3d.py:782: UserWarning:\n",
      "\n",
      "R is not a valid rotation matrix\n",
      "\n",
      "\u001b[32m[I 2022-03-21 01:52:24,343]\u001b[0m Trial 65 finished with value: 0.00324104237370193 and parameters: {'ngf': 64, 'nz': 59, 'layers': 4, 'lr': 0.0003966844458921162, 'beta1': 0.4252543191428932, 'beta2': 0.9239158129436219, 'l2': 4.004268233839459e-06, 'amsgrad': True}. Best is trial 52 with value: 0.0029660393483936787.\u001b[0m\n"
     ]
    },
    {
     "data": {
      "application/vnd.jupyter.widget-view+json": {
       "model_id": "83005abae391466b905c8dea53795c18",
       "version_major": 2,
       "version_minor": 0
      },
      "text/plain": [
       "  0%|          | 0/1000 [00:00<?, ?it/s]"
      ]
     },
     "metadata": {},
     "output_type": "display_data"
    },
    {
     "name": "stderr",
     "output_type": "stream",
     "text": [
      "/home/theycallmepeter/anaconda3/envs/pytorch3d/lib/python3.8/site-packages/torch/nn/functional.py:3451: UserWarning:\n",
      "\n",
      "Default upsampling behavior when mode=bilinear is changed to align_corners=False since 0.4.0. Please specify align_corners=True if the old behavior is desired. See the documentation of nn.Upsample for details.\n",
      "\n",
      "/mnt/c/Projects/deepstimate/pytorch3d/pytorch3d/transforms/transform3d.py:782: UserWarning:\n",
      "\n",
      "R is not a valid rotation matrix\n",
      "\n",
      "\u001b[32m[I 2022-03-21 01:53:43,672]\u001b[0m Trial 66 finished with value: 0.0032955450005829334 and parameters: {'ngf': 64, 'nz': 45, 'layers': 5, 'lr': 0.0013020911653030358, 'beta1': 0.2039211797096302, 'beta2': 0.9215092053216041, 'l2': 2.611144082878666e-06, 'amsgrad': True}. Best is trial 52 with value: 0.0029660393483936787.\u001b[0m\n"
     ]
    },
    {
     "data": {
      "application/vnd.jupyter.widget-view+json": {
       "model_id": "0e067efde7f24b8385269cd71d8cedb4",
       "version_major": 2,
       "version_minor": 0
      },
      "text/plain": [
       "  0%|          | 0/1000 [00:00<?, ?it/s]"
      ]
     },
     "metadata": {},
     "output_type": "display_data"
    },
    {
     "name": "stderr",
     "output_type": "stream",
     "text": [
      "/home/theycallmepeter/anaconda3/envs/pytorch3d/lib/python3.8/site-packages/torch/nn/functional.py:3451: UserWarning:\n",
      "\n",
      "Default upsampling behavior when mode=bilinear is changed to align_corners=False since 0.4.0. Please specify align_corners=True if the old behavior is desired. See the documentation of nn.Upsample for details.\n",
      "\n",
      "/mnt/c/Projects/deepstimate/pytorch3d/pytorch3d/transforms/transform3d.py:782: UserWarning:\n",
      "\n",
      "R is not a valid rotation matrix\n",
      "\n",
      "\u001b[32m[I 2022-03-21 01:55:06,749]\u001b[0m Trial 67 finished with value: 0.003502369625493884 and parameters: {'ngf': 64, 'nz': 57, 'layers': 2, 'lr': 0.0008349122218526743, 'beta1': 0.4005534650342563, 'beta2': 0.9096517732895306, 'l2': 7.412984315889562e-06, 'amsgrad': False}. Best is trial 52 with value: 0.0029660393483936787.\u001b[0m\n"
     ]
    },
    {
     "data": {
      "application/vnd.jupyter.widget-view+json": {
       "model_id": "21bd3efffeae43da83ace8d5f8f77543",
       "version_major": 2,
       "version_minor": 0
      },
      "text/plain": [
       "  0%|          | 0/1000 [00:00<?, ?it/s]"
      ]
     },
     "metadata": {},
     "output_type": "display_data"
    },
    {
     "name": "stderr",
     "output_type": "stream",
     "text": [
      "/home/theycallmepeter/anaconda3/envs/pytorch3d/lib/python3.8/site-packages/torch/nn/functional.py:3451: UserWarning:\n",
      "\n",
      "Default upsampling behavior when mode=bilinear is changed to align_corners=False since 0.4.0. Please specify align_corners=True if the old behavior is desired. See the documentation of nn.Upsample for details.\n",
      "\n",
      "/mnt/c/Projects/deepstimate/pytorch3d/pytorch3d/transforms/transform3d.py:782: UserWarning:\n",
      "\n",
      "R is not a valid rotation matrix\n",
      "\n",
      "\u001b[32m[I 2022-03-21 01:56:23,405]\u001b[0m Trial 68 finished with value: 0.003266365500167012 and parameters: {'ngf': 64, 'nz': 184, 'layers': 4, 'lr': 0.0038913575131656387, 'beta1': 0.5940495922978308, 'beta2': 0.9401771427059686, 'l2': 5.148444910974061e-06, 'amsgrad': True}. Best is trial 52 with value: 0.0029660393483936787.\u001b[0m\n"
     ]
    },
    {
     "data": {
      "application/vnd.jupyter.widget-view+json": {
       "model_id": "15b3e8cb86914586972c3a602a26bd0f",
       "version_major": 2,
       "version_minor": 0
      },
      "text/plain": [
       "  0%|          | 0/1000 [00:00<?, ?it/s]"
      ]
     },
     "metadata": {},
     "output_type": "display_data"
    },
    {
     "name": "stderr",
     "output_type": "stream",
     "text": [
      "/home/theycallmepeter/anaconda3/envs/pytorch3d/lib/python3.8/site-packages/torch/nn/functional.py:3451: UserWarning:\n",
      "\n",
      "Default upsampling behavior when mode=bilinear is changed to align_corners=False since 0.4.0. Please specify align_corners=True if the old behavior is desired. See the documentation of nn.Upsample for details.\n",
      "\n",
      "/mnt/c/Projects/deepstimate/pytorch3d/pytorch3d/transforms/transform3d.py:782: UserWarning:\n",
      "\n",
      "R is not a valid rotation matrix\n",
      "\n",
      "\u001b[32m[I 2022-03-21 01:57:38,226]\u001b[0m Trial 69 finished with value: 0.0033621315378695726 and parameters: {'ngf': 16, 'nz': 71, 'layers': 5, 'lr': 0.000524551947196461, 'beta1': 0.49364249571426194, 'beta2': 0.9160856964920098, 'l2': 3.0056612062958703e-06, 'amsgrad': True}. Best is trial 52 with value: 0.0029660393483936787.\u001b[0m\n"
     ]
    },
    {
     "data": {
      "application/vnd.jupyter.widget-view+json": {
       "model_id": "d210ac94e8e242e7b66d1cca4114bfbd",
       "version_major": 2,
       "version_minor": 0
      },
      "text/plain": [
       "  0%|          | 0/1000 [00:00<?, ?it/s]"
      ]
     },
     "metadata": {},
     "output_type": "display_data"
    },
    {
     "name": "stderr",
     "output_type": "stream",
     "text": [
      "/home/theycallmepeter/anaconda3/envs/pytorch3d/lib/python3.8/site-packages/torch/nn/functional.py:3451: UserWarning:\n",
      "\n",
      "Default upsampling behavior when mode=bilinear is changed to align_corners=False since 0.4.0. Please specify align_corners=True if the old behavior is desired. See the documentation of nn.Upsample for details.\n",
      "\n",
      "/mnt/c/Projects/deepstimate/pytorch3d/pytorch3d/transforms/transform3d.py:782: UserWarning:\n",
      "\n",
      "R is not a valid rotation matrix\n",
      "\n",
      "\u001b[32m[I 2022-03-21 01:58:56,146]\u001b[0m Trial 70 finished with value: 0.0036310527939349413 and parameters: {'ngf': 64, 'nz': 79, 'layers': 3, 'lr': 0.001438580944800892, 'beta1': 0.5323802205964704, 'beta2': 0.9438715056716571, 'l2': 0.00029822495889181495, 'amsgrad': True}. Best is trial 52 with value: 0.0029660393483936787.\u001b[0m\n"
     ]
    },
    {
     "data": {
      "application/vnd.jupyter.widget-view+json": {
       "model_id": "98d25323fbcf463c85b154a4e8c48028",
       "version_major": 2,
       "version_minor": 0
      },
      "text/plain": [
       "  0%|          | 0/1000 [00:00<?, ?it/s]"
      ]
     },
     "metadata": {},
     "output_type": "display_data"
    },
    {
     "name": "stderr",
     "output_type": "stream",
     "text": [
      "/home/theycallmepeter/anaconda3/envs/pytorch3d/lib/python3.8/site-packages/torch/nn/functional.py:3451: UserWarning:\n",
      "\n",
      "Default upsampling behavior when mode=bilinear is changed to align_corners=False since 0.4.0. Please specify align_corners=True if the old behavior is desired. See the documentation of nn.Upsample for details.\n",
      "\n",
      "/mnt/c/Projects/deepstimate/pytorch3d/pytorch3d/transforms/transform3d.py:782: UserWarning:\n",
      "\n",
      "R is not a valid rotation matrix\n",
      "\n",
      "\u001b[32m[I 2022-03-21 02:00:12,453]\u001b[0m Trial 71 finished with value: 0.003054284956306219 and parameters: {'ngf': 64, 'nz': 86, 'layers': 4, 'lr': 0.0019918752771743804, 'beta1': 0.46134599144598554, 'beta2': 0.930012839070488, 'l2': 1.6896105828213784e-06, 'amsgrad': True}. Best is trial 52 with value: 0.0029660393483936787.\u001b[0m\n"
     ]
    },
    {
     "data": {
      "application/vnd.jupyter.widget-view+json": {
       "model_id": "1331d671676441d5bb585c31c2b8b285",
       "version_major": 2,
       "version_minor": 0
      },
      "text/plain": [
       "  0%|          | 0/1000 [00:00<?, ?it/s]"
      ]
     },
     "metadata": {},
     "output_type": "display_data"
    },
    {
     "name": "stderr",
     "output_type": "stream",
     "text": [
      "/home/theycallmepeter/anaconda3/envs/pytorch3d/lib/python3.8/site-packages/torch/nn/functional.py:3451: UserWarning:\n",
      "\n",
      "Default upsampling behavior when mode=bilinear is changed to align_corners=False since 0.4.0. Please specify align_corners=True if the old behavior is desired. See the documentation of nn.Upsample for details.\n",
      "\n",
      "/mnt/c/Projects/deepstimate/pytorch3d/pytorch3d/transforms/transform3d.py:782: UserWarning:\n",
      "\n",
      "R is not a valid rotation matrix\n",
      "\n",
      "\u001b[32m[I 2022-03-21 02:01:28,723]\u001b[0m Trial 72 finished with value: 0.0029653108213096857 and parameters: {'ngf': 64, 'nz': 96, 'layers': 4, 'lr': 0.007832076219093069, 'beta1': 0.4703118969186936, 'beta2': 0.929212680919592, 'l2': 1.9902375671918932e-06, 'amsgrad': True}. Best is trial 72 with value: 0.0029653108213096857.\u001b[0m\n"
     ]
    },
    {
     "data": {
      "application/vnd.jupyter.widget-view+json": {
       "model_id": "048867d8ac7443918996d034b726e353",
       "version_major": 2,
       "version_minor": 0
      },
      "text/plain": [
       "  0%|          | 0/1000 [00:00<?, ?it/s]"
      ]
     },
     "metadata": {},
     "output_type": "display_data"
    },
    {
     "name": "stderr",
     "output_type": "stream",
     "text": [
      "/home/theycallmepeter/anaconda3/envs/pytorch3d/lib/python3.8/site-packages/torch/nn/functional.py:3451: UserWarning:\n",
      "\n",
      "Default upsampling behavior when mode=bilinear is changed to align_corners=False since 0.4.0. Please specify align_corners=True if the old behavior is desired. See the documentation of nn.Upsample for details.\n",
      "\n",
      "/mnt/c/Projects/deepstimate/pytorch3d/pytorch3d/transforms/transform3d.py:782: UserWarning:\n",
      "\n",
      "R is not a valid rotation matrix\n",
      "\n",
      "\u001b[32m[I 2022-03-21 02:02:44,950]\u001b[0m Trial 73 finished with value: 0.0030152772087603807 and parameters: {'ngf': 64, 'nz': 95, 'layers': 4, 'lr': 0.008765925320431526, 'beta1': 0.49947309124868133, 'beta2': 0.9284575677442755, 'l2': 1.8055621030523293e-06, 'amsgrad': True}. Best is trial 72 with value: 0.0029653108213096857.\u001b[0m\n"
     ]
    },
    {
     "data": {
      "application/vnd.jupyter.widget-view+json": {
       "model_id": "1074178a0481416f969d27eec3127dd1",
       "version_major": 2,
       "version_minor": 0
      },
      "text/plain": [
       "  0%|          | 0/1000 [00:00<?, ?it/s]"
      ]
     },
     "metadata": {},
     "output_type": "display_data"
    },
    {
     "name": "stderr",
     "output_type": "stream",
     "text": [
      "/home/theycallmepeter/anaconda3/envs/pytorch3d/lib/python3.8/site-packages/torch/nn/functional.py:3451: UserWarning:\n",
      "\n",
      "Default upsampling behavior when mode=bilinear is changed to align_corners=False since 0.4.0. Please specify align_corners=True if the old behavior is desired. See the documentation of nn.Upsample for details.\n",
      "\n",
      "/mnt/c/Projects/deepstimate/pytorch3d/pytorch3d/transforms/transform3d.py:782: UserWarning:\n",
      "\n",
      "R is not a valid rotation matrix\n",
      "\n",
      "\u001b[32m[I 2022-03-21 02:04:01,256]\u001b[0m Trial 74 finished with value: 0.0029629573691636324 and parameters: {'ngf': 64, 'nz': 98, 'layers': 4, 'lr': 0.007670322643086698, 'beta1': 0.47469913669995156, 'beta2': 0.929241529950142, 'l2': 1.9541846644896068e-06, 'amsgrad': True}. Best is trial 74 with value: 0.0029629573691636324.\u001b[0m\n"
     ]
    },
    {
     "data": {
      "application/vnd.jupyter.widget-view+json": {
       "model_id": "0289ea09475b4d4c8c7bd53ba3b5f0c2",
       "version_major": 2,
       "version_minor": 0
      },
      "text/plain": [
       "  0%|          | 0/1000 [00:00<?, ?it/s]"
      ]
     },
     "metadata": {},
     "output_type": "display_data"
    },
    {
     "name": "stderr",
     "output_type": "stream",
     "text": [
      "/home/theycallmepeter/anaconda3/envs/pytorch3d/lib/python3.8/site-packages/torch/nn/functional.py:3451: UserWarning:\n",
      "\n",
      "Default upsampling behavior when mode=bilinear is changed to align_corners=False since 0.4.0. Please specify align_corners=True if the old behavior is desired. See the documentation of nn.Upsample for details.\n",
      "\n",
      "/mnt/c/Projects/deepstimate/pytorch3d/pytorch3d/transforms/transform3d.py:782: UserWarning:\n",
      "\n",
      "R is not a valid rotation matrix\n",
      "\n",
      "\u001b[32m[I 2022-03-21 02:05:17,715]\u001b[0m Trial 75 finished with value: 0.0029741497710347176 and parameters: {'ngf': 64, 'nz': 109, 'layers': 4, 'lr': 0.008035238147299673, 'beta1': 0.4706351979972784, 'beta2': 0.921102866759362, 'l2': 1.7936301669603247e-06, 'amsgrad': True}. Best is trial 74 with value: 0.0029629573691636324.\u001b[0m\n"
     ]
    },
    {
     "data": {
      "application/vnd.jupyter.widget-view+json": {
       "model_id": "1544c8d05cc54c9d8d2f6856445bde0e",
       "version_major": 2,
       "version_minor": 0
      },
      "text/plain": [
       "  0%|          | 0/1000 [00:00<?, ?it/s]"
      ]
     },
     "metadata": {},
     "output_type": "display_data"
    },
    {
     "name": "stderr",
     "output_type": "stream",
     "text": [
      "/home/theycallmepeter/anaconda3/envs/pytorch3d/lib/python3.8/site-packages/torch/nn/functional.py:3451: UserWarning:\n",
      "\n",
      "Default upsampling behavior when mode=bilinear is changed to align_corners=False since 0.4.0. Please specify align_corners=True if the old behavior is desired. See the documentation of nn.Upsample for details.\n",
      "\n",
      "/mnt/c/Projects/deepstimate/pytorch3d/pytorch3d/transforms/transform3d.py:782: UserWarning:\n",
      "\n",
      "R is not a valid rotation matrix\n",
      "\n",
      "\u001b[32m[I 2022-03-21 02:06:34,059]\u001b[0m Trial 76 finished with value: 0.003042275784537196 and parameters: {'ngf': 64, 'nz': 110, 'layers': 4, 'lr': 0.007536537777889589, 'beta1': 0.4743260003813615, 'beta2': 0.9270715080406358, 'l2': 1.2850097490021342e-06, 'amsgrad': True}. Best is trial 74 with value: 0.0029629573691636324.\u001b[0m\n"
     ]
    },
    {
     "data": {
      "application/vnd.jupyter.widget-view+json": {
       "model_id": "78abc104c8fb40688561a5ef2259c6f9",
       "version_major": 2,
       "version_minor": 0
      },
      "text/plain": [
       "  0%|          | 0/1000 [00:00<?, ?it/s]"
      ]
     },
     "metadata": {},
     "output_type": "display_data"
    },
    {
     "name": "stderr",
     "output_type": "stream",
     "text": [
      "/home/theycallmepeter/anaconda3/envs/pytorch3d/lib/python3.8/site-packages/torch/nn/functional.py:3451: UserWarning:\n",
      "\n",
      "Default upsampling behavior when mode=bilinear is changed to align_corners=False since 0.4.0. Please specify align_corners=True if the old behavior is desired. See the documentation of nn.Upsample for details.\n",
      "\n",
      "/mnt/c/Projects/deepstimate/pytorch3d/pytorch3d/transforms/transform3d.py:782: UserWarning:\n",
      "\n",
      "R is not a valid rotation matrix\n",
      "\n",
      "\u001b[32m[I 2022-03-21 02:07:50,511]\u001b[0m Trial 77 finished with value: 0.0032336506992578506 and parameters: {'ngf': 64, 'nz': 136, 'layers': 4, 'lr': 0.03126815057547447, 'beta1': 0.48960663628243434, 'beta2': 0.9212717877410479, 'l2': 2.0653636652643454e-06, 'amsgrad': True}. Best is trial 74 with value: 0.0029629573691636324.\u001b[0m\n"
     ]
    },
    {
     "data": {
      "application/vnd.jupyter.widget-view+json": {
       "model_id": "35d0a721288f43bdb8320a6b650c5ba4",
       "version_major": 2,
       "version_minor": 0
      },
      "text/plain": [
       "  0%|          | 0/1000 [00:00<?, ?it/s]"
      ]
     },
     "metadata": {},
     "output_type": "display_data"
    },
    {
     "name": "stderr",
     "output_type": "stream",
     "text": [
      "/home/theycallmepeter/anaconda3/envs/pytorch3d/lib/python3.8/site-packages/torch/nn/functional.py:3451: UserWarning:\n",
      "\n",
      "Default upsampling behavior when mode=bilinear is changed to align_corners=False since 0.4.0. Please specify align_corners=True if the old behavior is desired. See the documentation of nn.Upsample for details.\n",
      "\n",
      "/mnt/c/Projects/deepstimate/pytorch3d/pytorch3d/transforms/transform3d.py:782: UserWarning:\n",
      "\n",
      "R is not a valid rotation matrix\n",
      "\n",
      "\u001b[32m[I 2022-03-21 02:09:05,235]\u001b[0m Trial 78 finished with value: 0.003129195421934128 and parameters: {'ngf': 32, 'nz': 98, 'layers': 4, 'lr': 0.011348690148389613, 'beta1': 0.5777436705455553, 'beta2': 0.9156788752409678, 'l2': 1.2090789648835989e-06, 'amsgrad': True}. Best is trial 74 with value: 0.0029629573691636324.\u001b[0m\n"
     ]
    },
    {
     "data": {
      "application/vnd.jupyter.widget-view+json": {
       "model_id": "f9f91dccae974b4f8350a4b339adbfce",
       "version_major": 2,
       "version_minor": 0
      },
      "text/plain": [
       "  0%|          | 0/1000 [00:00<?, ?it/s]"
      ]
     },
     "metadata": {},
     "output_type": "display_data"
    },
    {
     "name": "stderr",
     "output_type": "stream",
     "text": [
      "/home/theycallmepeter/anaconda3/envs/pytorch3d/lib/python3.8/site-packages/torch/nn/functional.py:3451: UserWarning:\n",
      "\n",
      "Default upsampling behavior when mode=bilinear is changed to align_corners=False since 0.4.0. Please specify align_corners=True if the old behavior is desired. See the documentation of nn.Upsample for details.\n",
      "\n",
      "/mnt/c/Projects/deepstimate/pytorch3d/pytorch3d/transforms/transform3d.py:782: UserWarning:\n",
      "\n",
      "R is not a valid rotation matrix\n",
      "\n",
      "\u001b[32m[I 2022-03-21 02:10:21,525]\u001b[0m Trial 79 finished with value: 0.0036555372644215822 and parameters: {'ngf': 64, 'nz': 95, 'layers': 4, 'lr': 0.020009056474209704, 'beta1': 0.4048099842162281, 'beta2': 0.927306621607693, 'l2': 0.00362396443095447, 'amsgrad': True}. Best is trial 74 with value: 0.0029629573691636324.\u001b[0m\n"
     ]
    },
    {
     "data": {
      "application/vnd.jupyter.widget-view+json": {
       "model_id": "7eda069489854821ae648b9837b77e2e",
       "version_major": 2,
       "version_minor": 0
      },
      "text/plain": [
       "  0%|          | 0/1000 [00:00<?, ?it/s]"
      ]
     },
     "metadata": {},
     "output_type": "display_data"
    },
    {
     "name": "stderr",
     "output_type": "stream",
     "text": [
      "/home/theycallmepeter/anaconda3/envs/pytorch3d/lib/python3.8/site-packages/torch/nn/functional.py:3451: UserWarning:\n",
      "\n",
      "Default upsampling behavior when mode=bilinear is changed to align_corners=False since 0.4.0. Please specify align_corners=True if the old behavior is desired. See the documentation of nn.Upsample for details.\n",
      "\n",
      "/mnt/c/Projects/deepstimate/pytorch3d/pytorch3d/transforms/transform3d.py:782: UserWarning:\n",
      "\n",
      "R is not a valid rotation matrix\n",
      "\n",
      "\u001b[32m[I 2022-03-21 02:11:35,550]\u001b[0m Trial 80 finished with value: 0.0031792798545211554 and parameters: {'ngf': 16, 'nz': 108, 'layers': 4, 'lr': 0.008284628939318753, 'beta1': 0.5017659443305181, 'beta2': 0.9352358802257873, 'l2': 1.8170541415927445e-06, 'amsgrad': True}. Best is trial 74 with value: 0.0029629573691636324.\u001b[0m\n"
     ]
    },
    {
     "data": {
      "application/vnd.jupyter.widget-view+json": {
       "model_id": "ffb6d0c4fd0e4cf5809f6c199b08d645",
       "version_major": 2,
       "version_minor": 0
      },
      "text/plain": [
       "  0%|          | 0/1000 [00:00<?, ?it/s]"
      ]
     },
     "metadata": {},
     "output_type": "display_data"
    },
    {
     "name": "stderr",
     "output_type": "stream",
     "text": [
      "/home/theycallmepeter/anaconda3/envs/pytorch3d/lib/python3.8/site-packages/torch/nn/functional.py:3451: UserWarning:\n",
      "\n",
      "Default upsampling behavior when mode=bilinear is changed to align_corners=False since 0.4.0. Please specify align_corners=True if the old behavior is desired. See the documentation of nn.Upsample for details.\n",
      "\n",
      "/mnt/c/Projects/deepstimate/pytorch3d/pytorch3d/transforms/transform3d.py:782: UserWarning:\n",
      "\n",
      "R is not a valid rotation matrix\n",
      "\n",
      "\u001b[32m[I 2022-03-21 02:12:51,901]\u001b[0m Trial 81 finished with value: 0.003223195904865861 and parameters: {'ngf': 64, 'nz': 123, 'layers': 4, 'lr': 0.006247707410757982, 'beta1': 0.47051630931213534, 'beta2': 0.9262200209913343, 'l2': 0.00013961223228807642, 'amsgrad': True}. Best is trial 74 with value: 0.0029629573691636324.\u001b[0m\n"
     ]
    },
    {
     "data": {
      "application/vnd.jupyter.widget-view+json": {
       "model_id": "d86b8a7a9bac4209b7434ab2247aa814",
       "version_major": 2,
       "version_minor": 0
      },
      "text/plain": [
       "  0%|          | 0/1000 [00:00<?, ?it/s]"
      ]
     },
     "metadata": {},
     "output_type": "display_data"
    },
    {
     "name": "stderr",
     "output_type": "stream",
     "text": [
      "/home/theycallmepeter/anaconda3/envs/pytorch3d/lib/python3.8/site-packages/torch/nn/functional.py:3451: UserWarning:\n",
      "\n",
      "Default upsampling behavior when mode=bilinear is changed to align_corners=False since 0.4.0. Please specify align_corners=True if the old behavior is desired. See the documentation of nn.Upsample for details.\n",
      "\n",
      "/mnt/c/Projects/deepstimate/pytorch3d/pytorch3d/transforms/transform3d.py:782: UserWarning:\n",
      "\n",
      "R is not a valid rotation matrix\n",
      "\n",
      "\u001b[32m[I 2022-03-21 02:14:08,065]\u001b[0m Trial 82 finished with value: 0.003118524793535471 and parameters: {'ngf': 64, 'nz': 112, 'layers': 4, 'lr': 0.009044822603767827, 'beta1': 0.4761361298274451, 'beta2': 0.928669357665689, 'l2': 1.0476567901419984e-06, 'amsgrad': True}. Best is trial 74 with value: 0.0029629573691636324.\u001b[0m\n"
     ]
    },
    {
     "data": {
      "application/vnd.jupyter.widget-view+json": {
       "model_id": "cb2deb033a31482b9c71ea4f58ab70ee",
       "version_major": 2,
       "version_minor": 0
      },
      "text/plain": [
       "  0%|          | 0/1000 [00:00<?, ?it/s]"
      ]
     },
     "metadata": {},
     "output_type": "display_data"
    },
    {
     "name": "stderr",
     "output_type": "stream",
     "text": [
      "/home/theycallmepeter/anaconda3/envs/pytorch3d/lib/python3.8/site-packages/torch/nn/functional.py:3451: UserWarning:\n",
      "\n",
      "Default upsampling behavior when mode=bilinear is changed to align_corners=False since 0.4.0. Please specify align_corners=True if the old behavior is desired. See the documentation of nn.Upsample for details.\n",
      "\n",
      "/mnt/c/Projects/deepstimate/pytorch3d/pytorch3d/transforms/transform3d.py:782: UserWarning:\n",
      "\n",
      "R is not a valid rotation matrix\n",
      "\n",
      "\u001b[32m[I 2022-03-21 02:15:24,278]\u001b[0m Trial 83 finished with value: 0.0029692428652197123 and parameters: {'ngf': 64, 'nz': 104, 'layers': 4, 'lr': 0.004556397362274306, 'beta1': 0.443790504691365, 'beta2': 0.9224969782379276, 'l2': 2.436689356945912e-06, 'amsgrad': True}. Best is trial 74 with value: 0.0029629573691636324.\u001b[0m\n"
     ]
    },
    {
     "data": {
      "application/vnd.jupyter.widget-view+json": {
       "model_id": "ce61074c3d14472b949cd6548fa6e5ec",
       "version_major": 2,
       "version_minor": 0
      },
      "text/plain": [
       "  0%|          | 0/1000 [00:00<?, ?it/s]"
      ]
     },
     "metadata": {},
     "output_type": "display_data"
    },
    {
     "name": "stderr",
     "output_type": "stream",
     "text": [
      "/home/theycallmepeter/anaconda3/envs/pytorch3d/lib/python3.8/site-packages/torch/nn/functional.py:3451: UserWarning:\n",
      "\n",
      "Default upsampling behavior when mode=bilinear is changed to align_corners=False since 0.4.0. Please specify align_corners=True if the old behavior is desired. See the documentation of nn.Upsample for details.\n",
      "\n",
      "/mnt/c/Projects/deepstimate/pytorch3d/pytorch3d/transforms/transform3d.py:782: UserWarning:\n",
      "\n",
      "R is not a valid rotation matrix\n",
      "\n",
      "\u001b[32m[I 2022-03-21 02:16:40,558]\u001b[0m Trial 84 finished with value: 0.0032126642763614655 and parameters: {'ngf': 64, 'nz': 99, 'layers': 4, 'lr': 0.004640947388532658, 'beta1': 0.4450061218435585, 'beta2': 0.9198698714968429, 'l2': 2.4652916615021983e-06, 'amsgrad': True}. Best is trial 74 with value: 0.0029629573691636324.\u001b[0m\n"
     ]
    },
    {
     "data": {
      "application/vnd.jupyter.widget-view+json": {
       "model_id": "4341cf6b08b64a5699fbef0e40b0f944",
       "version_major": 2,
       "version_minor": 0
      },
      "text/plain": [
       "  0%|          | 0/1000 [00:00<?, ?it/s]"
      ]
     },
     "metadata": {},
     "output_type": "display_data"
    },
    {
     "name": "stderr",
     "output_type": "stream",
     "text": [
      "/home/theycallmepeter/anaconda3/envs/pytorch3d/lib/python3.8/site-packages/torch/nn/functional.py:3451: UserWarning:\n",
      "\n",
      "Default upsampling behavior when mode=bilinear is changed to align_corners=False since 0.4.0. Please specify align_corners=True if the old behavior is desired. See the documentation of nn.Upsample for details.\n",
      "\n",
      "/mnt/c/Projects/deepstimate/pytorch3d/pytorch3d/transforms/transform3d.py:782: UserWarning:\n",
      "\n",
      "R is not a valid rotation matrix\n",
      "\n",
      "\u001b[32m[I 2022-03-21 02:17:56,840]\u001b[0m Trial 85 finished with value: 0.002993231173604727 and parameters: {'ngf': 64, 'nz': 103, 'layers': 4, 'lr': 0.015104059667315177, 'beta1': 0.538054949405586, 'beta2': 0.9229255486028967, 'l2': 3.6979059825919525e-06, 'amsgrad': True}. Best is trial 74 with value: 0.0029629573691636324.\u001b[0m\n"
     ]
    },
    {
     "data": {
      "application/vnd.jupyter.widget-view+json": {
       "model_id": "f6ed4ed178b944e0a4d19923e77e7b7c",
       "version_major": 2,
       "version_minor": 0
      },
      "text/plain": [
       "  0%|          | 0/1000 [00:00<?, ?it/s]"
      ]
     },
     "metadata": {},
     "output_type": "display_data"
    },
    {
     "name": "stderr",
     "output_type": "stream",
     "text": [
      "/home/theycallmepeter/anaconda3/envs/pytorch3d/lib/python3.8/site-packages/torch/nn/functional.py:3451: UserWarning:\n",
      "\n",
      "Default upsampling behavior when mode=bilinear is changed to align_corners=False since 0.4.0. Please specify align_corners=True if the old behavior is desired. See the documentation of nn.Upsample for details.\n",
      "\n",
      "/mnt/c/Projects/deepstimate/pytorch3d/pytorch3d/transforms/transform3d.py:782: UserWarning:\n",
      "\n",
      "R is not a valid rotation matrix\n",
      "\n",
      "\u001b[32m[I 2022-03-21 02:19:12,981]\u001b[0m Trial 86 finished with value: 0.003547429572790861 and parameters: {'ngf': 64, 'nz': 103, 'layers': 4, 'lr': 0.030143919542684004, 'beta1': 0.536020854192352, 'beta2': 0.9127901487216828, 'l2': 3.5715938284817787e-06, 'amsgrad': False}. Best is trial 74 with value: 0.0029629573691636324.\u001b[0m\n"
     ]
    },
    {
     "data": {
      "application/vnd.jupyter.widget-view+json": {
       "model_id": "2af364e1c95f45abb7a8cc2b55715f1b",
       "version_major": 2,
       "version_minor": 0
      },
      "text/plain": [
       "  0%|          | 0/1000 [00:00<?, ?it/s]"
      ]
     },
     "metadata": {},
     "output_type": "display_data"
    },
    {
     "name": "stderr",
     "output_type": "stream",
     "text": [
      "/home/theycallmepeter/anaconda3/envs/pytorch3d/lib/python3.8/site-packages/torch/nn/functional.py:3451: UserWarning:\n",
      "\n",
      "Default upsampling behavior when mode=bilinear is changed to align_corners=False since 0.4.0. Please specify align_corners=True if the old behavior is desired. See the documentation of nn.Upsample for details.\n",
      "\n",
      "/mnt/c/Projects/deepstimate/pytorch3d/pytorch3d/transforms/transform3d.py:782: UserWarning:\n",
      "\n",
      "R is not a valid rotation matrix\n",
      "\n",
      "\u001b[32m[I 2022-03-21 02:20:29,367]\u001b[0m Trial 87 finished with value: 0.00335173262283206 and parameters: {'ngf': 64, 'nz': 130, 'layers': 4, 'lr': 0.013011504017930494, 'beta1': 0.38953796114673184, 'beta2': 0.9231445602355677, 'l2': 0.0008214227861902477, 'amsgrad': True}. Best is trial 74 with value: 0.0029629573691636324.\u001b[0m\n"
     ]
    },
    {
     "data": {
      "application/vnd.jupyter.widget-view+json": {
       "model_id": "f3c2067f61fe45a98f9f5dea02fa63b5",
       "version_major": 2,
       "version_minor": 0
      },
      "text/plain": [
       "  0%|          | 0/1000 [00:00<?, ?it/s]"
      ]
     },
     "metadata": {},
     "output_type": "display_data"
    },
    {
     "name": "stderr",
     "output_type": "stream",
     "text": [
      "/home/theycallmepeter/anaconda3/envs/pytorch3d/lib/python3.8/site-packages/torch/nn/functional.py:3451: UserWarning:\n",
      "\n",
      "Default upsampling behavior when mode=bilinear is changed to align_corners=False since 0.4.0. Please specify align_corners=True if the old behavior is desired. See the documentation of nn.Upsample for details.\n",
      "\n",
      "/mnt/c/Projects/deepstimate/pytorch3d/pytorch3d/transforms/transform3d.py:782: UserWarning:\n",
      "\n",
      "R is not a valid rotation matrix\n",
      "\n",
      "\u001b[32m[I 2022-03-21 02:21:47,237]\u001b[0m Trial 88 finished with value: 0.003390202997252345 and parameters: {'ngf': 64, 'nz': 90, 'layers': 3, 'lr': 0.01696135737453379, 'beta1': 0.5562251233707506, 'beta2': 0.9178293666865418, 'l2': 2.6780133235306803e-06, 'amsgrad': True}. Best is trial 74 with value: 0.0029629573691636324.\u001b[0m\n"
     ]
    },
    {
     "data": {
      "application/vnd.jupyter.widget-view+json": {
       "model_id": "f951ad97c86c42c4baf15afc0e69d17e",
       "version_major": 2,
       "version_minor": 0
      },
      "text/plain": [
       "  0%|          | 0/1000 [00:00<?, ?it/s]"
      ]
     },
     "metadata": {},
     "output_type": "display_data"
    },
    {
     "name": "stderr",
     "output_type": "stream",
     "text": [
      "/home/theycallmepeter/anaconda3/envs/pytorch3d/lib/python3.8/site-packages/torch/nn/functional.py:3451: UserWarning:\n",
      "\n",
      "Default upsampling behavior when mode=bilinear is changed to align_corners=False since 0.4.0. Please specify align_corners=True if the old behavior is desired. See the documentation of nn.Upsample for details.\n",
      "\n",
      "/mnt/c/Projects/deepstimate/pytorch3d/pytorch3d/transforms/transform3d.py:782: UserWarning:\n",
      "\n",
      "R is not a valid rotation matrix\n",
      "\n",
      "\u001b[32m[I 2022-03-21 02:23:03,540]\u001b[0m Trial 89 finished with value: 0.0034595585893839598 and parameters: {'ngf': 64, 'nz': 118, 'layers': 4, 'lr': 0.056363740605210814, 'beta1': 0.43905051213362484, 'beta2': 0.9099771432270636, 'l2': 2.2339127223760366e-06, 'amsgrad': True}. Best is trial 74 with value: 0.0029629573691636324.\u001b[0m\n"
     ]
    },
    {
     "data": {
      "application/vnd.jupyter.widget-view+json": {
       "model_id": "c8dad8f8d6824c84b75b5b09932bb1df",
       "version_major": 2,
       "version_minor": 0
      },
      "text/plain": [
       "  0%|          | 0/1000 [00:00<?, ?it/s]"
      ]
     },
     "metadata": {},
     "output_type": "display_data"
    },
    {
     "name": "stderr",
     "output_type": "stream",
     "text": [
      "/home/theycallmepeter/anaconda3/envs/pytorch3d/lib/python3.8/site-packages/torch/nn/functional.py:3451: UserWarning:\n",
      "\n",
      "Default upsampling behavior when mode=bilinear is changed to align_corners=False since 0.4.0. Please specify align_corners=True if the old behavior is desired. See the documentation of nn.Upsample for details.\n",
      "\n",
      "/mnt/c/Projects/deepstimate/pytorch3d/pytorch3d/transforms/transform3d.py:782: UserWarning:\n",
      "\n",
      "R is not a valid rotation matrix\n",
      "\n",
      "\u001b[32m[I 2022-03-21 02:24:17,424]\u001b[0m Trial 90 finished with value: 0.0032558238599449396 and parameters: {'ngf': 16, 'nz': 107, 'layers': 4, 'lr': 0.010588481805931476, 'beta1': 0.6135458744723974, 'beta2': 0.9315039313580521, 'l2': 6.5654848886305e-06, 'amsgrad': True}. Best is trial 74 with value: 0.0029629573691636324.\u001b[0m\n"
     ]
    },
    {
     "data": {
      "application/vnd.jupyter.widget-view+json": {
       "model_id": "b348cd024318449091dd1120486749c5",
       "version_major": 2,
       "version_minor": 0
      },
      "text/plain": [
       "  0%|          | 0/1000 [00:00<?, ?it/s]"
      ]
     },
     "metadata": {},
     "output_type": "display_data"
    },
    {
     "name": "stderr",
     "output_type": "stream",
     "text": [
      "/home/theycallmepeter/anaconda3/envs/pytorch3d/lib/python3.8/site-packages/torch/nn/functional.py:3451: UserWarning:\n",
      "\n",
      "Default upsampling behavior when mode=bilinear is changed to align_corners=False since 0.4.0. Please specify align_corners=True if the old behavior is desired. See the documentation of nn.Upsample for details.\n",
      "\n",
      "/mnt/c/Projects/deepstimate/pytorch3d/pytorch3d/transforms/transform3d.py:782: UserWarning:\n",
      "\n",
      "R is not a valid rotation matrix\n",
      "\n",
      "\u001b[32m[I 2022-03-21 02:25:33,633]\u001b[0m Trial 91 finished with value: 0.0029400924686342478 and parameters: {'ngf': 64, 'nz': 94, 'layers': 4, 'lr': 0.005425492476777124, 'beta1': 0.5076397726936703, 'beta2': 0.9214742796191817, 'l2': 1.698130190537183e-06, 'amsgrad': True}. Best is trial 91 with value: 0.0029400924686342478.\u001b[0m\n"
     ]
    },
    {
     "data": {
      "application/vnd.jupyter.widget-view+json": {
       "model_id": "092b151270454b949383d1c4dbf2e84e",
       "version_major": 2,
       "version_minor": 0
      },
      "text/plain": [
       "  0%|          | 0/1000 [00:00<?, ?it/s]"
      ]
     },
     "metadata": {},
     "output_type": "display_data"
    },
    {
     "name": "stderr",
     "output_type": "stream",
     "text": [
      "/home/theycallmepeter/anaconda3/envs/pytorch3d/lib/python3.8/site-packages/torch/nn/functional.py:3451: UserWarning:\n",
      "\n",
      "Default upsampling behavior when mode=bilinear is changed to align_corners=False since 0.4.0. Please specify align_corners=True if the old behavior is desired. See the documentation of nn.Upsample for details.\n",
      "\n",
      "/mnt/c/Projects/deepstimate/pytorch3d/pytorch3d/transforms/transform3d.py:782: UserWarning:\n",
      "\n",
      "R is not a valid rotation matrix\n",
      "\n",
      "\u001b[32m[I 2022-03-21 02:26:49,974]\u001b[0m Trial 92 finished with value: 0.002978673204779625 and parameters: {'ngf': 64, 'nz': 102, 'layers': 4, 'lr': 0.0055469248028207, 'beta1': 0.5288327814655176, 'beta2': 0.9216819187229374, 'l2': 1.3157648190464387e-06, 'amsgrad': True}. Best is trial 91 with value: 0.0029400924686342478.\u001b[0m\n"
     ]
    },
    {
     "data": {
      "application/vnd.jupyter.widget-view+json": {
       "model_id": "4627ddd9e06d43a186b69673e5dfdafd",
       "version_major": 2,
       "version_minor": 0
      },
      "text/plain": [
       "  0%|          | 0/1000 [00:00<?, ?it/s]"
      ]
     },
     "metadata": {},
     "output_type": "display_data"
    },
    {
     "name": "stderr",
     "output_type": "stream",
     "text": [
      "/home/theycallmepeter/anaconda3/envs/pytorch3d/lib/python3.8/site-packages/torch/nn/functional.py:3451: UserWarning:\n",
      "\n",
      "Default upsampling behavior when mode=bilinear is changed to align_corners=False since 0.4.0. Please specify align_corners=True if the old behavior is desired. See the documentation of nn.Upsample for details.\n",
      "\n",
      "/mnt/c/Projects/deepstimate/pytorch3d/pytorch3d/transforms/transform3d.py:782: UserWarning:\n",
      "\n",
      "R is not a valid rotation matrix\n",
      "\n",
      "\u001b[32m[I 2022-03-21 02:28:06,328]\u001b[0m Trial 93 finished with value: 0.0031734684016555548 and parameters: {'ngf': 64, 'nz': 101, 'layers': 4, 'lr': 0.0062950169392407985, 'beta1': 0.5194199946746292, 'beta2': 0.9145133370050158, 'l2': 1.2423637008170393e-06, 'amsgrad': True}. Best is trial 91 with value: 0.0029400924686342478.\u001b[0m\n"
     ]
    },
    {
     "data": {
      "application/vnd.jupyter.widget-view+json": {
       "model_id": "96230b41f93146ba80788a6aaef319d3",
       "version_major": 2,
       "version_minor": 0
      },
      "text/plain": [
       "  0%|          | 0/1000 [00:00<?, ?it/s]"
      ]
     },
     "metadata": {},
     "output_type": "display_data"
    },
    {
     "name": "stderr",
     "output_type": "stream",
     "text": [
      "/home/theycallmepeter/anaconda3/envs/pytorch3d/lib/python3.8/site-packages/torch/nn/functional.py:3451: UserWarning:\n",
      "\n",
      "Default upsampling behavior when mode=bilinear is changed to align_corners=False since 0.4.0. Please specify align_corners=True if the old behavior is desired. See the documentation of nn.Upsample for details.\n",
      "\n",
      "/mnt/c/Projects/deepstimate/pytorch3d/pytorch3d/transforms/transform3d.py:782: UserWarning:\n",
      "\n",
      "R is not a valid rotation matrix\n",
      "\n",
      "\u001b[32m[I 2022-03-21 02:29:22,792]\u001b[0m Trial 94 finished with value: 0.0031267039012163877 and parameters: {'ngf': 64, 'nz': 113, 'layers': 4, 'lr': 0.0032237439918586996, 'beta1': 0.5687219653875598, 'beta2': 0.9213884117061109, 'l2': 4.479429113496509e-06, 'amsgrad': True}. Best is trial 91 with value: 0.0029400924686342478.\u001b[0m\n"
     ]
    },
    {
     "data": {
      "application/vnd.jupyter.widget-view+json": {
       "model_id": "d9e59cbb05444086a0075a012d5a0a6f",
       "version_major": 2,
       "version_minor": 0
      },
      "text/plain": [
       "  0%|          | 0/1000 [00:00<?, ?it/s]"
      ]
     },
     "metadata": {},
     "output_type": "display_data"
    },
    {
     "name": "stderr",
     "output_type": "stream",
     "text": [
      "/home/theycallmepeter/anaconda3/envs/pytorch3d/lib/python3.8/site-packages/torch/nn/functional.py:3451: UserWarning:\n",
      "\n",
      "Default upsampling behavior when mode=bilinear is changed to align_corners=False since 0.4.0. Please specify align_corners=True if the old behavior is desired. See the documentation of nn.Upsample for details.\n",
      "\n",
      "/mnt/c/Projects/deepstimate/pytorch3d/pytorch3d/transforms/transform3d.py:782: UserWarning:\n",
      "\n",
      "R is not a valid rotation matrix\n",
      "\n",
      "\u001b[32m[I 2022-03-21 02:30:39,254]\u001b[0m Trial 95 finished with value: 0.003167522605508566 and parameters: {'ngf': 64, 'nz': 105, 'layers': 4, 'lr': 0.005698023494370791, 'beta1': 0.37210304421573437, 'beta2': 0.9176243212569949, 'l2': 1.401929345509859e-06, 'amsgrad': True}. Best is trial 91 with value: 0.0029400924686342478.\u001b[0m\n"
     ]
    },
    {
     "data": {
      "application/vnd.jupyter.widget-view+json": {
       "model_id": "386b9971e59a4c46891dd6d8d649ff02",
       "version_major": 2,
       "version_minor": 0
      },
      "text/plain": [
       "  0%|          | 0/1000 [00:00<?, ?it/s]"
      ]
     },
     "metadata": {},
     "output_type": "display_data"
    },
    {
     "name": "stderr",
     "output_type": "stream",
     "text": [
      "/home/theycallmepeter/anaconda3/envs/pytorch3d/lib/python3.8/site-packages/torch/nn/functional.py:3451: UserWarning:\n",
      "\n",
      "Default upsampling behavior when mode=bilinear is changed to align_corners=False since 0.4.0. Please specify align_corners=True if the old behavior is desired. See the documentation of nn.Upsample for details.\n",
      "\n",
      "/mnt/c/Projects/deepstimate/pytorch3d/pytorch3d/transforms/transform3d.py:782: UserWarning:\n",
      "\n",
      "R is not a valid rotation matrix\n",
      "\n",
      "\u001b[32m[I 2022-03-21 02:31:55,329]\u001b[0m Trial 96 finished with value: 0.0032068551518023014 and parameters: {'ngf': 64, 'nz': 90, 'layers': 4, 'lr': 0.004286483848659528, 'beta1': 0.4526711799484167, 'beta2': 0.9253174481474229, 'l2': 3.0642616403712035e-06, 'amsgrad': True}. Best is trial 91 with value: 0.0029400924686342478.\u001b[0m\n"
     ]
    },
    {
     "data": {
      "application/vnd.jupyter.widget-view+json": {
       "model_id": "1bdc597f20bd4ee495bcf80f6709d129",
       "version_major": 2,
       "version_minor": 0
      },
      "text/plain": [
       "  0%|          | 0/1000 [00:00<?, ?it/s]"
      ]
     },
     "metadata": {},
     "output_type": "display_data"
    },
    {
     "name": "stderr",
     "output_type": "stream",
     "text": [
      "/home/theycallmepeter/anaconda3/envs/pytorch3d/lib/python3.8/site-packages/torch/nn/functional.py:3451: UserWarning:\n",
      "\n",
      "Default upsampling behavior when mode=bilinear is changed to align_corners=False since 0.4.0. Please specify align_corners=True if the old behavior is desired. See the documentation of nn.Upsample for details.\n",
      "\n",
      "/mnt/c/Projects/deepstimate/pytorch3d/pytorch3d/transforms/transform3d.py:782: UserWarning:\n",
      "\n",
      "R is not a valid rotation matrix\n",
      "\n",
      "\u001b[32m[I 2022-03-21 02:33:10,112]\u001b[0m Trial 97 finished with value: 0.0030373316258192062 and parameters: {'ngf': 32, 'nz': 115, 'layers': 4, 'lr': 0.01212844045121623, 'beta1': 0.5435111885695504, 'beta2': 0.9228854820647258, 'l2': 2.227239007281144e-06, 'amsgrad': True}. Best is trial 91 with value: 0.0029400924686342478.\u001b[0m\n"
     ]
    },
    {
     "data": {
      "application/vnd.jupyter.widget-view+json": {
       "model_id": "d76d1d2d712a4e31880bab442971d779",
       "version_major": 2,
       "version_minor": 0
      },
      "text/plain": [
       "  0%|          | 0/1000 [00:00<?, ?it/s]"
      ]
     },
     "metadata": {},
     "output_type": "display_data"
    },
    {
     "name": "stderr",
     "output_type": "stream",
     "text": [
      "/home/theycallmepeter/anaconda3/envs/pytorch3d/lib/python3.8/site-packages/torch/nn/functional.py:3451: UserWarning:\n",
      "\n",
      "Default upsampling behavior when mode=bilinear is changed to align_corners=False since 0.4.0. Please specify align_corners=True if the old behavior is desired. See the documentation of nn.Upsample for details.\n",
      "\n",
      "/mnt/c/Projects/deepstimate/pytorch3d/pytorch3d/transforms/transform3d.py:782: UserWarning:\n",
      "\n",
      "R is not a valid rotation matrix\n",
      "\n",
      "\u001b[32m[I 2022-03-21 02:34:26,466]\u001b[0m Trial 98 finished with value: 0.003495135111734271 and parameters: {'ngf': 64, 'nz': 122, 'layers': 4, 'lr': 0.015234952452894017, 'beta1': 0.5068137364057428, 'beta2': 0.9383967245098488, 'l2': 1.1720334736907157e-06, 'amsgrad': True}. Best is trial 91 with value: 0.0029400924686342478.\u001b[0m\n"
     ]
    },
    {
     "data": {
      "application/vnd.jupyter.widget-view+json": {
       "model_id": "bfc5e54ef4c44263addbdcca863a8fcf",
       "version_major": 2,
       "version_minor": 0
      },
      "text/plain": [
       "  0%|          | 0/1000 [00:00<?, ?it/s]"
      ]
     },
     "metadata": {},
     "output_type": "display_data"
    },
    {
     "name": "stderr",
     "output_type": "stream",
     "text": [
      "/home/theycallmepeter/anaconda3/envs/pytorch3d/lib/python3.8/site-packages/torch/nn/functional.py:3451: UserWarning:\n",
      "\n",
      "Default upsampling behavior when mode=bilinear is changed to align_corners=False since 0.4.0. Please specify align_corners=True if the old behavior is desired. See the documentation of nn.Upsample for details.\n",
      "\n",
      "/mnt/c/Projects/deepstimate/pytorch3d/pytorch3d/transforms/transform3d.py:782: UserWarning:\n",
      "\n",
      "R is not a valid rotation matrix\n",
      "\n",
      "\u001b[32m[I 2022-03-21 02:35:42,781]\u001b[0m Trial 99 finished with value: 0.0031999184284359217 and parameters: {'ngf': 64, 'nz': 109, 'layers': 4, 'lr': 0.004805657974204409, 'beta1': 0.589462410769616, 'beta2': 0.920642152956234, 'l2': 1.5114899229725337e-06, 'amsgrad': False}. Best is trial 91 with value: 0.0029400924686342478.\u001b[0m\n"
     ]
    }
   ],
   "source": [
    "# optuna optimization created following https://towardsdatascience.com/hyperparameter-tuning-of-neural-networks-with-optuna-and-pytorch-22e179efc837\n",
    "study = optuna.create_study(direction=\"minimize\", sampler=optuna.samplers.TPESampler())\n",
    "study.optimize(objective, n_trials=100)"
   ]
  },
  {
   "cell_type": "code",
   "execution_count": 94,
   "metadata": {},
   "outputs": [
    {
     "name": "stdout",
     "output_type": "stream",
     "text": [
      "\"ngf\": 64,\n",
      "\"nz\": 94,\n",
      "\"layers\": 4,\n",
      "\"lr\": 0.005425492476777124,\n",
      "\"beta1\": 0.5076397726936703,\n",
      "\"beta2\": 0.9214742796191817,\n",
      "\"l2\": 1.698130190537183e-06,\n",
      "\"amsgrad\": True,\n"
     ]
    }
   ],
   "source": [
    "best_trial = study.best_trial\n",
    "\n",
    "for key, value in best_trial.params.items():\n",
    "    print(\"\\\"{}\\\": {},\".format(key, value))\n",
    "\n",
    "# RGB only\n",
    "# \"ngf\": 64,\n",
    "# \"nz\": 94,\n",
    "# \"layers\": 4,\n",
    "# \"lr\": 0.005425492476777124,\n",
    "# \"beta1\": 0.5076397726936703,\n",
    "# \"beta2\": 0.9214742796191817,\n",
    "# \"l2\": 1.698130190537183e-06,\n",
    "# \"amsgrad\": True,\n",
    "\n",
    "# RGB and cos sim optimization\n",
    "# \"ngf\": 64\n",
    "# \"n_unit\": 167\n",
    "# \"layers\": 2\n",
    "# \"lr\": 0.04165803794830159\n",
    "# \"beta1\": 0.7482115163186268\n",
    "# \"beta2\": 0.9595019689796743\n",
    "# \"l2\": 0.0023515772552477328\n",
    "# \"amsgrad\": True"
   ]
  },
  {
   "cell_type": "code",
   "execution_count": 89,
   "metadata": {},
   "outputs": [
    {
     "name": "stderr",
     "output_type": "stream",
     "text": [
      "\u001b[33m[W 2022-03-21 02:35:42,989]\u001b[0m You need to set up the pruning feature to utilize `plot_intermediate_values()`\u001b[0m\n"
     ]
    },
    {
     "data": {
      "application/vnd.plotly.v1+json": {
       "config": {
        "plotlyServerURL": "https://plot.ly"
       },
       "data": [],
       "layout": {
        "showlegend": false,
        "template": {
         "data": {
          "bar": [
           {
            "error_x": {
             "color": "#2a3f5f"
            },
            "error_y": {
             "color": "#2a3f5f"
            },
            "marker": {
             "line": {
              "color": "#E5ECF6",
              "width": 0.5
             },
             "pattern": {
              "fillmode": "overlay",
              "size": 10,
              "solidity": 0.2
             }
            },
            "type": "bar"
           }
          ],
          "barpolar": [
           {
            "marker": {
             "line": {
              "color": "#E5ECF6",
              "width": 0.5
             },
             "pattern": {
              "fillmode": "overlay",
              "size": 10,
              "solidity": 0.2
             }
            },
            "type": "barpolar"
           }
          ],
          "carpet": [
           {
            "aaxis": {
             "endlinecolor": "#2a3f5f",
             "gridcolor": "white",
             "linecolor": "white",
             "minorgridcolor": "white",
             "startlinecolor": "#2a3f5f"
            },
            "baxis": {
             "endlinecolor": "#2a3f5f",
             "gridcolor": "white",
             "linecolor": "white",
             "minorgridcolor": "white",
             "startlinecolor": "#2a3f5f"
            },
            "type": "carpet"
           }
          ],
          "choropleth": [
           {
            "colorbar": {
             "outlinewidth": 0,
             "ticks": ""
            },
            "type": "choropleth"
           }
          ],
          "contour": [
           {
            "colorbar": {
             "outlinewidth": 0,
             "ticks": ""
            },
            "colorscale": [
             [
              0,
              "#0d0887"
             ],
             [
              0.1111111111111111,
              "#46039f"
             ],
             [
              0.2222222222222222,
              "#7201a8"
             ],
             [
              0.3333333333333333,
              "#9c179e"
             ],
             [
              0.4444444444444444,
              "#bd3786"
             ],
             [
              0.5555555555555556,
              "#d8576b"
             ],
             [
              0.6666666666666666,
              "#ed7953"
             ],
             [
              0.7777777777777778,
              "#fb9f3a"
             ],
             [
              0.8888888888888888,
              "#fdca26"
             ],
             [
              1,
              "#f0f921"
             ]
            ],
            "type": "contour"
           }
          ],
          "contourcarpet": [
           {
            "colorbar": {
             "outlinewidth": 0,
             "ticks": ""
            },
            "type": "contourcarpet"
           }
          ],
          "heatmap": [
           {
            "colorbar": {
             "outlinewidth": 0,
             "ticks": ""
            },
            "colorscale": [
             [
              0,
              "#0d0887"
             ],
             [
              0.1111111111111111,
              "#46039f"
             ],
             [
              0.2222222222222222,
              "#7201a8"
             ],
             [
              0.3333333333333333,
              "#9c179e"
             ],
             [
              0.4444444444444444,
              "#bd3786"
             ],
             [
              0.5555555555555556,
              "#d8576b"
             ],
             [
              0.6666666666666666,
              "#ed7953"
             ],
             [
              0.7777777777777778,
              "#fb9f3a"
             ],
             [
              0.8888888888888888,
              "#fdca26"
             ],
             [
              1,
              "#f0f921"
             ]
            ],
            "type": "heatmap"
           }
          ],
          "heatmapgl": [
           {
            "colorbar": {
             "outlinewidth": 0,
             "ticks": ""
            },
            "colorscale": [
             [
              0,
              "#0d0887"
             ],
             [
              0.1111111111111111,
              "#46039f"
             ],
             [
              0.2222222222222222,
              "#7201a8"
             ],
             [
              0.3333333333333333,
              "#9c179e"
             ],
             [
              0.4444444444444444,
              "#bd3786"
             ],
             [
              0.5555555555555556,
              "#d8576b"
             ],
             [
              0.6666666666666666,
              "#ed7953"
             ],
             [
              0.7777777777777778,
              "#fb9f3a"
             ],
             [
              0.8888888888888888,
              "#fdca26"
             ],
             [
              1,
              "#f0f921"
             ]
            ],
            "type": "heatmapgl"
           }
          ],
          "histogram": [
           {
            "marker": {
             "pattern": {
              "fillmode": "overlay",
              "size": 10,
              "solidity": 0.2
             }
            },
            "type": "histogram"
           }
          ],
          "histogram2d": [
           {
            "colorbar": {
             "outlinewidth": 0,
             "ticks": ""
            },
            "colorscale": [
             [
              0,
              "#0d0887"
             ],
             [
              0.1111111111111111,
              "#46039f"
             ],
             [
              0.2222222222222222,
              "#7201a8"
             ],
             [
              0.3333333333333333,
              "#9c179e"
             ],
             [
              0.4444444444444444,
              "#bd3786"
             ],
             [
              0.5555555555555556,
              "#d8576b"
             ],
             [
              0.6666666666666666,
              "#ed7953"
             ],
             [
              0.7777777777777778,
              "#fb9f3a"
             ],
             [
              0.8888888888888888,
              "#fdca26"
             ],
             [
              1,
              "#f0f921"
             ]
            ],
            "type": "histogram2d"
           }
          ],
          "histogram2dcontour": [
           {
            "colorbar": {
             "outlinewidth": 0,
             "ticks": ""
            },
            "colorscale": [
             [
              0,
              "#0d0887"
             ],
             [
              0.1111111111111111,
              "#46039f"
             ],
             [
              0.2222222222222222,
              "#7201a8"
             ],
             [
              0.3333333333333333,
              "#9c179e"
             ],
             [
              0.4444444444444444,
              "#bd3786"
             ],
             [
              0.5555555555555556,
              "#d8576b"
             ],
             [
              0.6666666666666666,
              "#ed7953"
             ],
             [
              0.7777777777777778,
              "#fb9f3a"
             ],
             [
              0.8888888888888888,
              "#fdca26"
             ],
             [
              1,
              "#f0f921"
             ]
            ],
            "type": "histogram2dcontour"
           }
          ],
          "mesh3d": [
           {
            "colorbar": {
             "outlinewidth": 0,
             "ticks": ""
            },
            "type": "mesh3d"
           }
          ],
          "parcoords": [
           {
            "line": {
             "colorbar": {
              "outlinewidth": 0,
              "ticks": ""
             }
            },
            "type": "parcoords"
           }
          ],
          "pie": [
           {
            "automargin": true,
            "type": "pie"
           }
          ],
          "scatter": [
           {
            "marker": {
             "colorbar": {
              "outlinewidth": 0,
              "ticks": ""
             }
            },
            "type": "scatter"
           }
          ],
          "scatter3d": [
           {
            "line": {
             "colorbar": {
              "outlinewidth": 0,
              "ticks": ""
             }
            },
            "marker": {
             "colorbar": {
              "outlinewidth": 0,
              "ticks": ""
             }
            },
            "type": "scatter3d"
           }
          ],
          "scattercarpet": [
           {
            "marker": {
             "colorbar": {
              "outlinewidth": 0,
              "ticks": ""
             }
            },
            "type": "scattercarpet"
           }
          ],
          "scattergeo": [
           {
            "marker": {
             "colorbar": {
              "outlinewidth": 0,
              "ticks": ""
             }
            },
            "type": "scattergeo"
           }
          ],
          "scattergl": [
           {
            "marker": {
             "colorbar": {
              "outlinewidth": 0,
              "ticks": ""
             }
            },
            "type": "scattergl"
           }
          ],
          "scattermapbox": [
           {
            "marker": {
             "colorbar": {
              "outlinewidth": 0,
              "ticks": ""
             }
            },
            "type": "scattermapbox"
           }
          ],
          "scatterpolar": [
           {
            "marker": {
             "colorbar": {
              "outlinewidth": 0,
              "ticks": ""
             }
            },
            "type": "scatterpolar"
           }
          ],
          "scatterpolargl": [
           {
            "marker": {
             "colorbar": {
              "outlinewidth": 0,
              "ticks": ""
             }
            },
            "type": "scatterpolargl"
           }
          ],
          "scatterternary": [
           {
            "marker": {
             "colorbar": {
              "outlinewidth": 0,
              "ticks": ""
             }
            },
            "type": "scatterternary"
           }
          ],
          "surface": [
           {
            "colorbar": {
             "outlinewidth": 0,
             "ticks": ""
            },
            "colorscale": [
             [
              0,
              "#0d0887"
             ],
             [
              0.1111111111111111,
              "#46039f"
             ],
             [
              0.2222222222222222,
              "#7201a8"
             ],
             [
              0.3333333333333333,
              "#9c179e"
             ],
             [
              0.4444444444444444,
              "#bd3786"
             ],
             [
              0.5555555555555556,
              "#d8576b"
             ],
             [
              0.6666666666666666,
              "#ed7953"
             ],
             [
              0.7777777777777778,
              "#fb9f3a"
             ],
             [
              0.8888888888888888,
              "#fdca26"
             ],
             [
              1,
              "#f0f921"
             ]
            ],
            "type": "surface"
           }
          ],
          "table": [
           {
            "cells": {
             "fill": {
              "color": "#EBF0F8"
             },
             "line": {
              "color": "white"
             }
            },
            "header": {
             "fill": {
              "color": "#C8D4E3"
             },
             "line": {
              "color": "white"
             }
            },
            "type": "table"
           }
          ]
         },
         "layout": {
          "annotationdefaults": {
           "arrowcolor": "#2a3f5f",
           "arrowhead": 0,
           "arrowwidth": 1
          },
          "autotypenumbers": "strict",
          "coloraxis": {
           "colorbar": {
            "outlinewidth": 0,
            "ticks": ""
           }
          },
          "colorscale": {
           "diverging": [
            [
             0,
             "#8e0152"
            ],
            [
             0.1,
             "#c51b7d"
            ],
            [
             0.2,
             "#de77ae"
            ],
            [
             0.3,
             "#f1b6da"
            ],
            [
             0.4,
             "#fde0ef"
            ],
            [
             0.5,
             "#f7f7f7"
            ],
            [
             0.6,
             "#e6f5d0"
            ],
            [
             0.7,
             "#b8e186"
            ],
            [
             0.8,
             "#7fbc41"
            ],
            [
             0.9,
             "#4d9221"
            ],
            [
             1,
             "#276419"
            ]
           ],
           "sequential": [
            [
             0,
             "#0d0887"
            ],
            [
             0.1111111111111111,
             "#46039f"
            ],
            [
             0.2222222222222222,
             "#7201a8"
            ],
            [
             0.3333333333333333,
             "#9c179e"
            ],
            [
             0.4444444444444444,
             "#bd3786"
            ],
            [
             0.5555555555555556,
             "#d8576b"
            ],
            [
             0.6666666666666666,
             "#ed7953"
            ],
            [
             0.7777777777777778,
             "#fb9f3a"
            ],
            [
             0.8888888888888888,
             "#fdca26"
            ],
            [
             1,
             "#f0f921"
            ]
           ],
           "sequentialminus": [
            [
             0,
             "#0d0887"
            ],
            [
             0.1111111111111111,
             "#46039f"
            ],
            [
             0.2222222222222222,
             "#7201a8"
            ],
            [
             0.3333333333333333,
             "#9c179e"
            ],
            [
             0.4444444444444444,
             "#bd3786"
            ],
            [
             0.5555555555555556,
             "#d8576b"
            ],
            [
             0.6666666666666666,
             "#ed7953"
            ],
            [
             0.7777777777777778,
             "#fb9f3a"
            ],
            [
             0.8888888888888888,
             "#fdca26"
            ],
            [
             1,
             "#f0f921"
            ]
           ]
          },
          "colorway": [
           "#636efa",
           "#EF553B",
           "#00cc96",
           "#ab63fa",
           "#FFA15A",
           "#19d3f3",
           "#FF6692",
           "#B6E880",
           "#FF97FF",
           "#FECB52"
          ],
          "font": {
           "color": "#2a3f5f"
          },
          "geo": {
           "bgcolor": "white",
           "lakecolor": "white",
           "landcolor": "#E5ECF6",
           "showlakes": true,
           "showland": true,
           "subunitcolor": "white"
          },
          "hoverlabel": {
           "align": "left"
          },
          "hovermode": "closest",
          "mapbox": {
           "style": "light"
          },
          "paper_bgcolor": "white",
          "plot_bgcolor": "#E5ECF6",
          "polar": {
           "angularaxis": {
            "gridcolor": "white",
            "linecolor": "white",
            "ticks": ""
           },
           "bgcolor": "#E5ECF6",
           "radialaxis": {
            "gridcolor": "white",
            "linecolor": "white",
            "ticks": ""
           }
          },
          "scene": {
           "xaxis": {
            "backgroundcolor": "#E5ECF6",
            "gridcolor": "white",
            "gridwidth": 2,
            "linecolor": "white",
            "showbackground": true,
            "ticks": "",
            "zerolinecolor": "white"
           },
           "yaxis": {
            "backgroundcolor": "#E5ECF6",
            "gridcolor": "white",
            "gridwidth": 2,
            "linecolor": "white",
            "showbackground": true,
            "ticks": "",
            "zerolinecolor": "white"
           },
           "zaxis": {
            "backgroundcolor": "#E5ECF6",
            "gridcolor": "white",
            "gridwidth": 2,
            "linecolor": "white",
            "showbackground": true,
            "ticks": "",
            "zerolinecolor": "white"
           }
          },
          "shapedefaults": {
           "line": {
            "color": "#2a3f5f"
           }
          },
          "ternary": {
           "aaxis": {
            "gridcolor": "white",
            "linecolor": "white",
            "ticks": ""
           },
           "baxis": {
            "gridcolor": "white",
            "linecolor": "white",
            "ticks": ""
           },
           "bgcolor": "#E5ECF6",
           "caxis": {
            "gridcolor": "white",
            "linecolor": "white",
            "ticks": ""
           }
          },
          "title": {
           "x": 0.05
          },
          "xaxis": {
           "automargin": true,
           "gridcolor": "white",
           "linecolor": "white",
           "ticks": "",
           "title": {
            "standoff": 15
           },
           "zerolinecolor": "white",
           "zerolinewidth": 2
          },
          "yaxis": {
           "automargin": true,
           "gridcolor": "white",
           "linecolor": "white",
           "ticks": "",
           "title": {
            "standoff": 15
           },
           "zerolinecolor": "white",
           "zerolinewidth": 2
          }
         }
        },
        "title": {
         "text": "Intermediate Values Plot"
        },
        "xaxis": {
         "title": {
          "text": "Step"
         }
        },
        "yaxis": {
         "title": {
          "text": "Intermediate Value"
         }
        }
       }
      },
      "text/html": [
       "<div>                            <div id=\"5e1c53e3-1392-490b-aac2-b57cd98867e5\" class=\"plotly-graph-div\" style=\"height:525px; width:100%;\"></div>            <script type=\"text/javascript\">                require([\"plotly\"], function(Plotly) {                    window.PLOTLYENV=window.PLOTLYENV || {};                                    if (document.getElementById(\"5e1c53e3-1392-490b-aac2-b57cd98867e5\")) {                    Plotly.newPlot(                        \"5e1c53e3-1392-490b-aac2-b57cd98867e5\",                        [],                        {\"showlegend\":false,\"title\":{\"text\":\"Intermediate Values Plot\"},\"xaxis\":{\"title\":{\"text\":\"Step\"}},\"yaxis\":{\"title\":{\"text\":\"Intermediate Value\"}},\"template\":{\"data\":{\"bar\":[{\"error_x\":{\"color\":\"#2a3f5f\"},\"error_y\":{\"color\":\"#2a3f5f\"},\"marker\":{\"line\":{\"color\":\"#E5ECF6\",\"width\":0.5},\"pattern\":{\"fillmode\":\"overlay\",\"size\":10,\"solidity\":0.2}},\"type\":\"bar\"}],\"barpolar\":[{\"marker\":{\"line\":{\"color\":\"#E5ECF6\",\"width\":0.5},\"pattern\":{\"fillmode\":\"overlay\",\"size\":10,\"solidity\":0.2}},\"type\":\"barpolar\"}],\"carpet\":[{\"aaxis\":{\"endlinecolor\":\"#2a3f5f\",\"gridcolor\":\"white\",\"linecolor\":\"white\",\"minorgridcolor\":\"white\",\"startlinecolor\":\"#2a3f5f\"},\"baxis\":{\"endlinecolor\":\"#2a3f5f\",\"gridcolor\":\"white\",\"linecolor\":\"white\",\"minorgridcolor\":\"white\",\"startlinecolor\":\"#2a3f5f\"},\"type\":\"carpet\"}],\"choropleth\":[{\"colorbar\":{\"outlinewidth\":0,\"ticks\":\"\"},\"type\":\"choropleth\"}],\"contour\":[{\"colorbar\":{\"outlinewidth\":0,\"ticks\":\"\"},\"colorscale\":[[0.0,\"#0d0887\"],[0.1111111111111111,\"#46039f\"],[0.2222222222222222,\"#7201a8\"],[0.3333333333333333,\"#9c179e\"],[0.4444444444444444,\"#bd3786\"],[0.5555555555555556,\"#d8576b\"],[0.6666666666666666,\"#ed7953\"],[0.7777777777777778,\"#fb9f3a\"],[0.8888888888888888,\"#fdca26\"],[1.0,\"#f0f921\"]],\"type\":\"contour\"}],\"contourcarpet\":[{\"colorbar\":{\"outlinewidth\":0,\"ticks\":\"\"},\"type\":\"contourcarpet\"}],\"heatmap\":[{\"colorbar\":{\"outlinewidth\":0,\"ticks\":\"\"},\"colorscale\":[[0.0,\"#0d0887\"],[0.1111111111111111,\"#46039f\"],[0.2222222222222222,\"#7201a8\"],[0.3333333333333333,\"#9c179e\"],[0.4444444444444444,\"#bd3786\"],[0.5555555555555556,\"#d8576b\"],[0.6666666666666666,\"#ed7953\"],[0.7777777777777778,\"#fb9f3a\"],[0.8888888888888888,\"#fdca26\"],[1.0,\"#f0f921\"]],\"type\":\"heatmap\"}],\"heatmapgl\":[{\"colorbar\":{\"outlinewidth\":0,\"ticks\":\"\"},\"colorscale\":[[0.0,\"#0d0887\"],[0.1111111111111111,\"#46039f\"],[0.2222222222222222,\"#7201a8\"],[0.3333333333333333,\"#9c179e\"],[0.4444444444444444,\"#bd3786\"],[0.5555555555555556,\"#d8576b\"],[0.6666666666666666,\"#ed7953\"],[0.7777777777777778,\"#fb9f3a\"],[0.8888888888888888,\"#fdca26\"],[1.0,\"#f0f921\"]],\"type\":\"heatmapgl\"}],\"histogram\":[{\"marker\":{\"pattern\":{\"fillmode\":\"overlay\",\"size\":10,\"solidity\":0.2}},\"type\":\"histogram\"}],\"histogram2d\":[{\"colorbar\":{\"outlinewidth\":0,\"ticks\":\"\"},\"colorscale\":[[0.0,\"#0d0887\"],[0.1111111111111111,\"#46039f\"],[0.2222222222222222,\"#7201a8\"],[0.3333333333333333,\"#9c179e\"],[0.4444444444444444,\"#bd3786\"],[0.5555555555555556,\"#d8576b\"],[0.6666666666666666,\"#ed7953\"],[0.7777777777777778,\"#fb9f3a\"],[0.8888888888888888,\"#fdca26\"],[1.0,\"#f0f921\"]],\"type\":\"histogram2d\"}],\"histogram2dcontour\":[{\"colorbar\":{\"outlinewidth\":0,\"ticks\":\"\"},\"colorscale\":[[0.0,\"#0d0887\"],[0.1111111111111111,\"#46039f\"],[0.2222222222222222,\"#7201a8\"],[0.3333333333333333,\"#9c179e\"],[0.4444444444444444,\"#bd3786\"],[0.5555555555555556,\"#d8576b\"],[0.6666666666666666,\"#ed7953\"],[0.7777777777777778,\"#fb9f3a\"],[0.8888888888888888,\"#fdca26\"],[1.0,\"#f0f921\"]],\"type\":\"histogram2dcontour\"}],\"mesh3d\":[{\"colorbar\":{\"outlinewidth\":0,\"ticks\":\"\"},\"type\":\"mesh3d\"}],\"parcoords\":[{\"line\":{\"colorbar\":{\"outlinewidth\":0,\"ticks\":\"\"}},\"type\":\"parcoords\"}],\"pie\":[{\"automargin\":true,\"type\":\"pie\"}],\"scatter\":[{\"marker\":{\"colorbar\":{\"outlinewidth\":0,\"ticks\":\"\"}},\"type\":\"scatter\"}],\"scatter3d\":[{\"line\":{\"colorbar\":{\"outlinewidth\":0,\"ticks\":\"\"}},\"marker\":{\"colorbar\":{\"outlinewidth\":0,\"ticks\":\"\"}},\"type\":\"scatter3d\"}],\"scattercarpet\":[{\"marker\":{\"colorbar\":{\"outlinewidth\":0,\"ticks\":\"\"}},\"type\":\"scattercarpet\"}],\"scattergeo\":[{\"marker\":{\"colorbar\":{\"outlinewidth\":0,\"ticks\":\"\"}},\"type\":\"scattergeo\"}],\"scattergl\":[{\"marker\":{\"colorbar\":{\"outlinewidth\":0,\"ticks\":\"\"}},\"type\":\"scattergl\"}],\"scattermapbox\":[{\"marker\":{\"colorbar\":{\"outlinewidth\":0,\"ticks\":\"\"}},\"type\":\"scattermapbox\"}],\"scatterpolar\":[{\"marker\":{\"colorbar\":{\"outlinewidth\":0,\"ticks\":\"\"}},\"type\":\"scatterpolar\"}],\"scatterpolargl\":[{\"marker\":{\"colorbar\":{\"outlinewidth\":0,\"ticks\":\"\"}},\"type\":\"scatterpolargl\"}],\"scatterternary\":[{\"marker\":{\"colorbar\":{\"outlinewidth\":0,\"ticks\":\"\"}},\"type\":\"scatterternary\"}],\"surface\":[{\"colorbar\":{\"outlinewidth\":0,\"ticks\":\"\"},\"colorscale\":[[0.0,\"#0d0887\"],[0.1111111111111111,\"#46039f\"],[0.2222222222222222,\"#7201a8\"],[0.3333333333333333,\"#9c179e\"],[0.4444444444444444,\"#bd3786\"],[0.5555555555555556,\"#d8576b\"],[0.6666666666666666,\"#ed7953\"],[0.7777777777777778,\"#fb9f3a\"],[0.8888888888888888,\"#fdca26\"],[1.0,\"#f0f921\"]],\"type\":\"surface\"}],\"table\":[{\"cells\":{\"fill\":{\"color\":\"#EBF0F8\"},\"line\":{\"color\":\"white\"}},\"header\":{\"fill\":{\"color\":\"#C8D4E3\"},\"line\":{\"color\":\"white\"}},\"type\":\"table\"}]},\"layout\":{\"annotationdefaults\":{\"arrowcolor\":\"#2a3f5f\",\"arrowhead\":0,\"arrowwidth\":1},\"autotypenumbers\":\"strict\",\"coloraxis\":{\"colorbar\":{\"outlinewidth\":0,\"ticks\":\"\"}},\"colorscale\":{\"diverging\":[[0,\"#8e0152\"],[0.1,\"#c51b7d\"],[0.2,\"#de77ae\"],[0.3,\"#f1b6da\"],[0.4,\"#fde0ef\"],[0.5,\"#f7f7f7\"],[0.6,\"#e6f5d0\"],[0.7,\"#b8e186\"],[0.8,\"#7fbc41\"],[0.9,\"#4d9221\"],[1,\"#276419\"]],\"sequential\":[[0.0,\"#0d0887\"],[0.1111111111111111,\"#46039f\"],[0.2222222222222222,\"#7201a8\"],[0.3333333333333333,\"#9c179e\"],[0.4444444444444444,\"#bd3786\"],[0.5555555555555556,\"#d8576b\"],[0.6666666666666666,\"#ed7953\"],[0.7777777777777778,\"#fb9f3a\"],[0.8888888888888888,\"#fdca26\"],[1.0,\"#f0f921\"]],\"sequentialminus\":[[0.0,\"#0d0887\"],[0.1111111111111111,\"#46039f\"],[0.2222222222222222,\"#7201a8\"],[0.3333333333333333,\"#9c179e\"],[0.4444444444444444,\"#bd3786\"],[0.5555555555555556,\"#d8576b\"],[0.6666666666666666,\"#ed7953\"],[0.7777777777777778,\"#fb9f3a\"],[0.8888888888888888,\"#fdca26\"],[1.0,\"#f0f921\"]]},\"colorway\":[\"#636efa\",\"#EF553B\",\"#00cc96\",\"#ab63fa\",\"#FFA15A\",\"#19d3f3\",\"#FF6692\",\"#B6E880\",\"#FF97FF\",\"#FECB52\"],\"font\":{\"color\":\"#2a3f5f\"},\"geo\":{\"bgcolor\":\"white\",\"lakecolor\":\"white\",\"landcolor\":\"#E5ECF6\",\"showlakes\":true,\"showland\":true,\"subunitcolor\":\"white\"},\"hoverlabel\":{\"align\":\"left\"},\"hovermode\":\"closest\",\"mapbox\":{\"style\":\"light\"},\"paper_bgcolor\":\"white\",\"plot_bgcolor\":\"#E5ECF6\",\"polar\":{\"angularaxis\":{\"gridcolor\":\"white\",\"linecolor\":\"white\",\"ticks\":\"\"},\"bgcolor\":\"#E5ECF6\",\"radialaxis\":{\"gridcolor\":\"white\",\"linecolor\":\"white\",\"ticks\":\"\"}},\"scene\":{\"xaxis\":{\"backgroundcolor\":\"#E5ECF6\",\"gridcolor\":\"white\",\"gridwidth\":2,\"linecolor\":\"white\",\"showbackground\":true,\"ticks\":\"\",\"zerolinecolor\":\"white\"},\"yaxis\":{\"backgroundcolor\":\"#E5ECF6\",\"gridcolor\":\"white\",\"gridwidth\":2,\"linecolor\":\"white\",\"showbackground\":true,\"ticks\":\"\",\"zerolinecolor\":\"white\"},\"zaxis\":{\"backgroundcolor\":\"#E5ECF6\",\"gridcolor\":\"white\",\"gridwidth\":2,\"linecolor\":\"white\",\"showbackground\":true,\"ticks\":\"\",\"zerolinecolor\":\"white\"}},\"shapedefaults\":{\"line\":{\"color\":\"#2a3f5f\"}},\"ternary\":{\"aaxis\":{\"gridcolor\":\"white\",\"linecolor\":\"white\",\"ticks\":\"\"},\"baxis\":{\"gridcolor\":\"white\",\"linecolor\":\"white\",\"ticks\":\"\"},\"bgcolor\":\"#E5ECF6\",\"caxis\":{\"gridcolor\":\"white\",\"linecolor\":\"white\",\"ticks\":\"\"}},\"title\":{\"x\":0.05},\"xaxis\":{\"automargin\":true,\"gridcolor\":\"white\",\"linecolor\":\"white\",\"ticks\":\"\",\"title\":{\"standoff\":15},\"zerolinecolor\":\"white\",\"zerolinewidth\":2},\"yaxis\":{\"automargin\":true,\"gridcolor\":\"white\",\"linecolor\":\"white\",\"ticks\":\"\",\"title\":{\"standoff\":15},\"zerolinecolor\":\"white\",\"zerolinewidth\":2}}}},                        {\"responsive\": true}                    ).then(function(){\n",
       "                            \n",
       "var gd = document.getElementById('5e1c53e3-1392-490b-aac2-b57cd98867e5');\n",
       "var x = new MutationObserver(function (mutations, observer) {{\n",
       "        var display = window.getComputedStyle(gd).display;\n",
       "        if (!display || display === 'none') {{\n",
       "            console.log([gd, 'removed!']);\n",
       "            Plotly.purge(gd);\n",
       "            observer.disconnect();\n",
       "        }}\n",
       "}});\n",
       "\n",
       "// Listen for the removal of the full notebook cells\n",
       "var notebookContainer = gd.closest('#notebook-container');\n",
       "if (notebookContainer) {{\n",
       "    x.observe(notebookContainer, {childList: true});\n",
       "}}\n",
       "\n",
       "// Listen for the clearing of the current output cell\n",
       "var outputEl = gd.closest('.output');\n",
       "if (outputEl) {{\n",
       "    x.observe(outputEl, {childList: true});\n",
       "}}\n",
       "\n",
       "                        })                };                });            </script>        </div>"
      ]
     },
     "metadata": {},
     "output_type": "display_data"
    }
   ],
   "source": [
    "optuna.visualization.plot_intermediate_values(study)\n"
   ]
  },
  {
   "cell_type": "code",
   "execution_count": 90,
   "metadata": {},
   "outputs": [
    {
     "data": {
      "application/vnd.plotly.v1+json": {
       "config": {
        "plotlyServerURL": "https://plot.ly"
       },
       "data": [
        {
         "mode": "markers",
         "name": "Objective Value",
         "type": "scatter",
         "x": [
          0,
          1,
          2,
          3,
          4,
          5,
          6,
          7,
          8,
          9,
          10,
          11,
          12,
          13,
          14,
          15,
          16,
          17,
          18,
          19,
          20,
          21,
          22,
          23,
          24,
          25,
          26,
          27,
          28,
          29,
          30,
          31,
          32,
          33,
          34,
          35,
          36,
          37,
          38,
          39,
          40,
          41,
          42,
          43,
          44,
          45,
          46,
          47,
          48,
          49,
          50,
          51,
          52,
          53,
          54,
          55,
          56,
          57,
          58,
          59,
          60,
          61,
          62,
          63,
          64,
          65,
          66,
          67,
          68,
          69,
          70,
          71,
          72,
          73,
          74,
          75,
          76,
          77,
          78,
          79,
          80,
          81,
          82,
          83,
          84,
          85,
          86,
          87,
          88,
          89,
          90,
          91,
          92,
          93,
          94,
          95,
          96,
          97,
          98,
          99
         ],
         "y": [
          0.003594357520341873,
          0.003611976047977805,
          0.003600777592509985,
          0.003977199550718069,
          0.02379225566983223,
          0.0029814683366566896,
          0.0037844236940145493,
          0.0035390877164900303,
          0.003591281594708562,
          0.0035533872433006763,
          0.011536046862602234,
          0.003187931841239333,
          0.003292193403467536,
          0.005001144949346781,
          0.003434315789490938,
          0.01094723679125309,
          0.0034194495528936386,
          0.003533497452735901,
          0.024662869051098824,
          0.0030743153765797615,
          0.003464996349066496,
          0.0031252531334757805,
          0.0032015929464250803,
          0.00328590115532279,
          0.0037336370442062616,
          0.0032299195881932974,
          0.003513467963784933,
          0.00334888300858438,
          0.003169152420014143,
          0.003422937821596861,
          0.003291683504357934,
          0.002999398158863187,
          0.0030704662203788757,
          0.0032989869359880686,
          0.003390796948224306,
          0.0033495735842734575,
          0.003567533567547798,
          0.003324439050629735,
          0.0040596420876681805,
          0.003537513315677643,
          0.003433185163885355,
          0.0032345091458410025,
          0.0031388727948069572,
          0.0031497697345912457,
          0.0033188899978995323,
          0.0036617438308894634,
          0.0035101997200399637,
          0.0033703616354614496,
          0.0036333054304122925,
          0.0033481833525002003,
          0.0033143735490739346,
          0.003849779022857547,
          0.0029660393483936787,
          0.0031864994671195745,
          0.003107530064880848,
          0.0032460349611938,
          0.0032988020684570074,
          0.0035128998570144176,
          0.0031520752236247063,
          0.0032309081871062517,
          0.0032520988024771214,
          0.0030057141557335854,
          0.0032417161855846643,
          0.0031879073940217495,
          0.003094143234193325,
          0.00324104237370193,
          0.0032955450005829334,
          0.003502369625493884,
          0.003266365500167012,
          0.0033621315378695726,
          0.0036310527939349413,
          0.003054284956306219,
          0.0029653108213096857,
          0.0030152772087603807,
          0.0029629573691636324,
          0.0029741497710347176,
          0.003042275784537196,
          0.0032336506992578506,
          0.003129195421934128,
          0.0036555372644215822,
          0.0031792798545211554,
          0.003223195904865861,
          0.003118524793535471,
          0.0029692428652197123,
          0.0032126642763614655,
          0.002993231173604727,
          0.003547429572790861,
          0.00335173262283206,
          0.003390202997252345,
          0.0034595585893839598,
          0.0032558238599449396,
          0.0029400924686342478,
          0.002978673204779625,
          0.0031734684016555548,
          0.0031267039012163877,
          0.003167522605508566,
          0.0032068551518023014,
          0.0030373316258192062,
          0.003495135111734271,
          0.0031999184284359217
         ]
        },
        {
         "name": "Best Value",
         "type": "scatter",
         "x": [
          0,
          1,
          2,
          3,
          4,
          5,
          6,
          7,
          8,
          9,
          10,
          11,
          12,
          13,
          14,
          15,
          16,
          17,
          18,
          19,
          20,
          21,
          22,
          23,
          24,
          25,
          26,
          27,
          28,
          29,
          30,
          31,
          32,
          33,
          34,
          35,
          36,
          37,
          38,
          39,
          40,
          41,
          42,
          43,
          44,
          45,
          46,
          47,
          48,
          49,
          50,
          51,
          52,
          53,
          54,
          55,
          56,
          57,
          58,
          59,
          60,
          61,
          62,
          63,
          64,
          65,
          66,
          67,
          68,
          69,
          70,
          71,
          72,
          73,
          74,
          75,
          76,
          77,
          78,
          79,
          80,
          81,
          82,
          83,
          84,
          85,
          86,
          87,
          88,
          89,
          90,
          91,
          92,
          93,
          94,
          95,
          96,
          97,
          98,
          99
         ],
         "y": [
          0.003594357520341873,
          0.003594357520341873,
          0.003594357520341873,
          0.003594357520341873,
          0.003594357520341873,
          0.0029814683366566896,
          0.0029814683366566896,
          0.0029814683366566896,
          0.0029814683366566896,
          0.0029814683366566896,
          0.0029814683366566896,
          0.0029814683366566896,
          0.0029814683366566896,
          0.0029814683366566896,
          0.0029814683366566896,
          0.0029814683366566896,
          0.0029814683366566896,
          0.0029814683366566896,
          0.0029814683366566896,
          0.0029814683366566896,
          0.0029814683366566896,
          0.0029814683366566896,
          0.0029814683366566896,
          0.0029814683366566896,
          0.0029814683366566896,
          0.0029814683366566896,
          0.0029814683366566896,
          0.0029814683366566896,
          0.0029814683366566896,
          0.0029814683366566896,
          0.0029814683366566896,
          0.0029814683366566896,
          0.0029814683366566896,
          0.0029814683366566896,
          0.0029814683366566896,
          0.0029814683366566896,
          0.0029814683366566896,
          0.0029814683366566896,
          0.0029814683366566896,
          0.0029814683366566896,
          0.0029814683366566896,
          0.0029814683366566896,
          0.0029814683366566896,
          0.0029814683366566896,
          0.0029814683366566896,
          0.0029814683366566896,
          0.0029814683366566896,
          0.0029814683366566896,
          0.0029814683366566896,
          0.0029814683366566896,
          0.0029814683366566896,
          0.0029814683366566896,
          0.0029660393483936787,
          0.0029660393483936787,
          0.0029660393483936787,
          0.0029660393483936787,
          0.0029660393483936787,
          0.0029660393483936787,
          0.0029660393483936787,
          0.0029660393483936787,
          0.0029660393483936787,
          0.0029660393483936787,
          0.0029660393483936787,
          0.0029660393483936787,
          0.0029660393483936787,
          0.0029660393483936787,
          0.0029660393483936787,
          0.0029660393483936787,
          0.0029660393483936787,
          0.0029660393483936787,
          0.0029660393483936787,
          0.0029660393483936787,
          0.0029653108213096857,
          0.0029653108213096857,
          0.0029629573691636324,
          0.0029629573691636324,
          0.0029629573691636324,
          0.0029629573691636324,
          0.0029629573691636324,
          0.0029629573691636324,
          0.0029629573691636324,
          0.0029629573691636324,
          0.0029629573691636324,
          0.0029629573691636324,
          0.0029629573691636324,
          0.0029629573691636324,
          0.0029629573691636324,
          0.0029629573691636324,
          0.0029629573691636324,
          0.0029629573691636324,
          0.0029629573691636324,
          0.0029400924686342478,
          0.0029400924686342478,
          0.0029400924686342478,
          0.0029400924686342478,
          0.0029400924686342478,
          0.0029400924686342478,
          0.0029400924686342478,
          0.0029400924686342478,
          0.0029400924686342478
         ]
        }
       ],
       "layout": {
        "template": {
         "data": {
          "bar": [
           {
            "error_x": {
             "color": "#2a3f5f"
            },
            "error_y": {
             "color": "#2a3f5f"
            },
            "marker": {
             "line": {
              "color": "#E5ECF6",
              "width": 0.5
             },
             "pattern": {
              "fillmode": "overlay",
              "size": 10,
              "solidity": 0.2
             }
            },
            "type": "bar"
           }
          ],
          "barpolar": [
           {
            "marker": {
             "line": {
              "color": "#E5ECF6",
              "width": 0.5
             },
             "pattern": {
              "fillmode": "overlay",
              "size": 10,
              "solidity": 0.2
             }
            },
            "type": "barpolar"
           }
          ],
          "carpet": [
           {
            "aaxis": {
             "endlinecolor": "#2a3f5f",
             "gridcolor": "white",
             "linecolor": "white",
             "minorgridcolor": "white",
             "startlinecolor": "#2a3f5f"
            },
            "baxis": {
             "endlinecolor": "#2a3f5f",
             "gridcolor": "white",
             "linecolor": "white",
             "minorgridcolor": "white",
             "startlinecolor": "#2a3f5f"
            },
            "type": "carpet"
           }
          ],
          "choropleth": [
           {
            "colorbar": {
             "outlinewidth": 0,
             "ticks": ""
            },
            "type": "choropleth"
           }
          ],
          "contour": [
           {
            "colorbar": {
             "outlinewidth": 0,
             "ticks": ""
            },
            "colorscale": [
             [
              0,
              "#0d0887"
             ],
             [
              0.1111111111111111,
              "#46039f"
             ],
             [
              0.2222222222222222,
              "#7201a8"
             ],
             [
              0.3333333333333333,
              "#9c179e"
             ],
             [
              0.4444444444444444,
              "#bd3786"
             ],
             [
              0.5555555555555556,
              "#d8576b"
             ],
             [
              0.6666666666666666,
              "#ed7953"
             ],
             [
              0.7777777777777778,
              "#fb9f3a"
             ],
             [
              0.8888888888888888,
              "#fdca26"
             ],
             [
              1,
              "#f0f921"
             ]
            ],
            "type": "contour"
           }
          ],
          "contourcarpet": [
           {
            "colorbar": {
             "outlinewidth": 0,
             "ticks": ""
            },
            "type": "contourcarpet"
           }
          ],
          "heatmap": [
           {
            "colorbar": {
             "outlinewidth": 0,
             "ticks": ""
            },
            "colorscale": [
             [
              0,
              "#0d0887"
             ],
             [
              0.1111111111111111,
              "#46039f"
             ],
             [
              0.2222222222222222,
              "#7201a8"
             ],
             [
              0.3333333333333333,
              "#9c179e"
             ],
             [
              0.4444444444444444,
              "#bd3786"
             ],
             [
              0.5555555555555556,
              "#d8576b"
             ],
             [
              0.6666666666666666,
              "#ed7953"
             ],
             [
              0.7777777777777778,
              "#fb9f3a"
             ],
             [
              0.8888888888888888,
              "#fdca26"
             ],
             [
              1,
              "#f0f921"
             ]
            ],
            "type": "heatmap"
           }
          ],
          "heatmapgl": [
           {
            "colorbar": {
             "outlinewidth": 0,
             "ticks": ""
            },
            "colorscale": [
             [
              0,
              "#0d0887"
             ],
             [
              0.1111111111111111,
              "#46039f"
             ],
             [
              0.2222222222222222,
              "#7201a8"
             ],
             [
              0.3333333333333333,
              "#9c179e"
             ],
             [
              0.4444444444444444,
              "#bd3786"
             ],
             [
              0.5555555555555556,
              "#d8576b"
             ],
             [
              0.6666666666666666,
              "#ed7953"
             ],
             [
              0.7777777777777778,
              "#fb9f3a"
             ],
             [
              0.8888888888888888,
              "#fdca26"
             ],
             [
              1,
              "#f0f921"
             ]
            ],
            "type": "heatmapgl"
           }
          ],
          "histogram": [
           {
            "marker": {
             "pattern": {
              "fillmode": "overlay",
              "size": 10,
              "solidity": 0.2
             }
            },
            "type": "histogram"
           }
          ],
          "histogram2d": [
           {
            "colorbar": {
             "outlinewidth": 0,
             "ticks": ""
            },
            "colorscale": [
             [
              0,
              "#0d0887"
             ],
             [
              0.1111111111111111,
              "#46039f"
             ],
             [
              0.2222222222222222,
              "#7201a8"
             ],
             [
              0.3333333333333333,
              "#9c179e"
             ],
             [
              0.4444444444444444,
              "#bd3786"
             ],
             [
              0.5555555555555556,
              "#d8576b"
             ],
             [
              0.6666666666666666,
              "#ed7953"
             ],
             [
              0.7777777777777778,
              "#fb9f3a"
             ],
             [
              0.8888888888888888,
              "#fdca26"
             ],
             [
              1,
              "#f0f921"
             ]
            ],
            "type": "histogram2d"
           }
          ],
          "histogram2dcontour": [
           {
            "colorbar": {
             "outlinewidth": 0,
             "ticks": ""
            },
            "colorscale": [
             [
              0,
              "#0d0887"
             ],
             [
              0.1111111111111111,
              "#46039f"
             ],
             [
              0.2222222222222222,
              "#7201a8"
             ],
             [
              0.3333333333333333,
              "#9c179e"
             ],
             [
              0.4444444444444444,
              "#bd3786"
             ],
             [
              0.5555555555555556,
              "#d8576b"
             ],
             [
              0.6666666666666666,
              "#ed7953"
             ],
             [
              0.7777777777777778,
              "#fb9f3a"
             ],
             [
              0.8888888888888888,
              "#fdca26"
             ],
             [
              1,
              "#f0f921"
             ]
            ],
            "type": "histogram2dcontour"
           }
          ],
          "mesh3d": [
           {
            "colorbar": {
             "outlinewidth": 0,
             "ticks": ""
            },
            "type": "mesh3d"
           }
          ],
          "parcoords": [
           {
            "line": {
             "colorbar": {
              "outlinewidth": 0,
              "ticks": ""
             }
            },
            "type": "parcoords"
           }
          ],
          "pie": [
           {
            "automargin": true,
            "type": "pie"
           }
          ],
          "scatter": [
           {
            "marker": {
             "colorbar": {
              "outlinewidth": 0,
              "ticks": ""
             }
            },
            "type": "scatter"
           }
          ],
          "scatter3d": [
           {
            "line": {
             "colorbar": {
              "outlinewidth": 0,
              "ticks": ""
             }
            },
            "marker": {
             "colorbar": {
              "outlinewidth": 0,
              "ticks": ""
             }
            },
            "type": "scatter3d"
           }
          ],
          "scattercarpet": [
           {
            "marker": {
             "colorbar": {
              "outlinewidth": 0,
              "ticks": ""
             }
            },
            "type": "scattercarpet"
           }
          ],
          "scattergeo": [
           {
            "marker": {
             "colorbar": {
              "outlinewidth": 0,
              "ticks": ""
             }
            },
            "type": "scattergeo"
           }
          ],
          "scattergl": [
           {
            "marker": {
             "colorbar": {
              "outlinewidth": 0,
              "ticks": ""
             }
            },
            "type": "scattergl"
           }
          ],
          "scattermapbox": [
           {
            "marker": {
             "colorbar": {
              "outlinewidth": 0,
              "ticks": ""
             }
            },
            "type": "scattermapbox"
           }
          ],
          "scatterpolar": [
           {
            "marker": {
             "colorbar": {
              "outlinewidth": 0,
              "ticks": ""
             }
            },
            "type": "scatterpolar"
           }
          ],
          "scatterpolargl": [
           {
            "marker": {
             "colorbar": {
              "outlinewidth": 0,
              "ticks": ""
             }
            },
            "type": "scatterpolargl"
           }
          ],
          "scatterternary": [
           {
            "marker": {
             "colorbar": {
              "outlinewidth": 0,
              "ticks": ""
             }
            },
            "type": "scatterternary"
           }
          ],
          "surface": [
           {
            "colorbar": {
             "outlinewidth": 0,
             "ticks": ""
            },
            "colorscale": [
             [
              0,
              "#0d0887"
             ],
             [
              0.1111111111111111,
              "#46039f"
             ],
             [
              0.2222222222222222,
              "#7201a8"
             ],
             [
              0.3333333333333333,
              "#9c179e"
             ],
             [
              0.4444444444444444,
              "#bd3786"
             ],
             [
              0.5555555555555556,
              "#d8576b"
             ],
             [
              0.6666666666666666,
              "#ed7953"
             ],
             [
              0.7777777777777778,
              "#fb9f3a"
             ],
             [
              0.8888888888888888,
              "#fdca26"
             ],
             [
              1,
              "#f0f921"
             ]
            ],
            "type": "surface"
           }
          ],
          "table": [
           {
            "cells": {
             "fill": {
              "color": "#EBF0F8"
             },
             "line": {
              "color": "white"
             }
            },
            "header": {
             "fill": {
              "color": "#C8D4E3"
             },
             "line": {
              "color": "white"
             }
            },
            "type": "table"
           }
          ]
         },
         "layout": {
          "annotationdefaults": {
           "arrowcolor": "#2a3f5f",
           "arrowhead": 0,
           "arrowwidth": 1
          },
          "autotypenumbers": "strict",
          "coloraxis": {
           "colorbar": {
            "outlinewidth": 0,
            "ticks": ""
           }
          },
          "colorscale": {
           "diverging": [
            [
             0,
             "#8e0152"
            ],
            [
             0.1,
             "#c51b7d"
            ],
            [
             0.2,
             "#de77ae"
            ],
            [
             0.3,
             "#f1b6da"
            ],
            [
             0.4,
             "#fde0ef"
            ],
            [
             0.5,
             "#f7f7f7"
            ],
            [
             0.6,
             "#e6f5d0"
            ],
            [
             0.7,
             "#b8e186"
            ],
            [
             0.8,
             "#7fbc41"
            ],
            [
             0.9,
             "#4d9221"
            ],
            [
             1,
             "#276419"
            ]
           ],
           "sequential": [
            [
             0,
             "#0d0887"
            ],
            [
             0.1111111111111111,
             "#46039f"
            ],
            [
             0.2222222222222222,
             "#7201a8"
            ],
            [
             0.3333333333333333,
             "#9c179e"
            ],
            [
             0.4444444444444444,
             "#bd3786"
            ],
            [
             0.5555555555555556,
             "#d8576b"
            ],
            [
             0.6666666666666666,
             "#ed7953"
            ],
            [
             0.7777777777777778,
             "#fb9f3a"
            ],
            [
             0.8888888888888888,
             "#fdca26"
            ],
            [
             1,
             "#f0f921"
            ]
           ],
           "sequentialminus": [
            [
             0,
             "#0d0887"
            ],
            [
             0.1111111111111111,
             "#46039f"
            ],
            [
             0.2222222222222222,
             "#7201a8"
            ],
            [
             0.3333333333333333,
             "#9c179e"
            ],
            [
             0.4444444444444444,
             "#bd3786"
            ],
            [
             0.5555555555555556,
             "#d8576b"
            ],
            [
             0.6666666666666666,
             "#ed7953"
            ],
            [
             0.7777777777777778,
             "#fb9f3a"
            ],
            [
             0.8888888888888888,
             "#fdca26"
            ],
            [
             1,
             "#f0f921"
            ]
           ]
          },
          "colorway": [
           "#636efa",
           "#EF553B",
           "#00cc96",
           "#ab63fa",
           "#FFA15A",
           "#19d3f3",
           "#FF6692",
           "#B6E880",
           "#FF97FF",
           "#FECB52"
          ],
          "font": {
           "color": "#2a3f5f"
          },
          "geo": {
           "bgcolor": "white",
           "lakecolor": "white",
           "landcolor": "#E5ECF6",
           "showlakes": true,
           "showland": true,
           "subunitcolor": "white"
          },
          "hoverlabel": {
           "align": "left"
          },
          "hovermode": "closest",
          "mapbox": {
           "style": "light"
          },
          "paper_bgcolor": "white",
          "plot_bgcolor": "#E5ECF6",
          "polar": {
           "angularaxis": {
            "gridcolor": "white",
            "linecolor": "white",
            "ticks": ""
           },
           "bgcolor": "#E5ECF6",
           "radialaxis": {
            "gridcolor": "white",
            "linecolor": "white",
            "ticks": ""
           }
          },
          "scene": {
           "xaxis": {
            "backgroundcolor": "#E5ECF6",
            "gridcolor": "white",
            "gridwidth": 2,
            "linecolor": "white",
            "showbackground": true,
            "ticks": "",
            "zerolinecolor": "white"
           },
           "yaxis": {
            "backgroundcolor": "#E5ECF6",
            "gridcolor": "white",
            "gridwidth": 2,
            "linecolor": "white",
            "showbackground": true,
            "ticks": "",
            "zerolinecolor": "white"
           },
           "zaxis": {
            "backgroundcolor": "#E5ECF6",
            "gridcolor": "white",
            "gridwidth": 2,
            "linecolor": "white",
            "showbackground": true,
            "ticks": "",
            "zerolinecolor": "white"
           }
          },
          "shapedefaults": {
           "line": {
            "color": "#2a3f5f"
           }
          },
          "ternary": {
           "aaxis": {
            "gridcolor": "white",
            "linecolor": "white",
            "ticks": ""
           },
           "baxis": {
            "gridcolor": "white",
            "linecolor": "white",
            "ticks": ""
           },
           "bgcolor": "#E5ECF6",
           "caxis": {
            "gridcolor": "white",
            "linecolor": "white",
            "ticks": ""
           }
          },
          "title": {
           "x": 0.05
          },
          "xaxis": {
           "automargin": true,
           "gridcolor": "white",
           "linecolor": "white",
           "ticks": "",
           "title": {
            "standoff": 15
           },
           "zerolinecolor": "white",
           "zerolinewidth": 2
          },
          "yaxis": {
           "automargin": true,
           "gridcolor": "white",
           "linecolor": "white",
           "ticks": "",
           "title": {
            "standoff": 15
           },
           "zerolinecolor": "white",
           "zerolinewidth": 2
          }
         }
        },
        "title": {
         "text": "Optimization History Plot"
        },
        "xaxis": {
         "title": {
          "text": "#Trials"
         }
        },
        "yaxis": {
         "title": {
          "text": "Objective Value"
         }
        }
       }
      },
      "text/html": [
       "<div>                            <div id=\"bcafd478-783b-4203-9985-df0615b24b83\" class=\"plotly-graph-div\" style=\"height:525px; width:100%;\"></div>            <script type=\"text/javascript\">                require([\"plotly\"], function(Plotly) {                    window.PLOTLYENV=window.PLOTLYENV || {};                                    if (document.getElementById(\"bcafd478-783b-4203-9985-df0615b24b83\")) {                    Plotly.newPlot(                        \"bcafd478-783b-4203-9985-df0615b24b83\",                        [{\"mode\":\"markers\",\"name\":\"Objective Value\",\"x\":[0,1,2,3,4,5,6,7,8,9,10,11,12,13,14,15,16,17,18,19,20,21,22,23,24,25,26,27,28,29,30,31,32,33,34,35,36,37,38,39,40,41,42,43,44,45,46,47,48,49,50,51,52,53,54,55,56,57,58,59,60,61,62,63,64,65,66,67,68,69,70,71,72,73,74,75,76,77,78,79,80,81,82,83,84,85,86,87,88,89,90,91,92,93,94,95,96,97,98,99],\"y\":[0.003594357520341873,0.003611976047977805,0.003600777592509985,0.003977199550718069,0.02379225566983223,0.0029814683366566896,0.0037844236940145493,0.0035390877164900303,0.003591281594708562,0.0035533872433006763,0.011536046862602234,0.003187931841239333,0.003292193403467536,0.005001144949346781,0.003434315789490938,0.01094723679125309,0.0034194495528936386,0.003533497452735901,0.024662869051098824,0.0030743153765797615,0.003464996349066496,0.0031252531334757805,0.0032015929464250803,0.00328590115532279,0.0037336370442062616,0.0032299195881932974,0.003513467963784933,0.00334888300858438,0.003169152420014143,0.003422937821596861,0.003291683504357934,0.002999398158863187,0.0030704662203788757,0.0032989869359880686,0.003390796948224306,0.0033495735842734575,0.003567533567547798,0.003324439050629735,0.0040596420876681805,0.003537513315677643,0.003433185163885355,0.0032345091458410025,0.0031388727948069572,0.0031497697345912457,0.0033188899978995323,0.0036617438308894634,0.0035101997200399637,0.0033703616354614496,0.0036333054304122925,0.0033481833525002003,0.0033143735490739346,0.003849779022857547,0.0029660393483936787,0.0031864994671195745,0.003107530064880848,0.0032460349611938,0.0032988020684570074,0.0035128998570144176,0.0031520752236247063,0.0032309081871062517,0.0032520988024771214,0.0030057141557335854,0.0032417161855846643,0.0031879073940217495,0.003094143234193325,0.00324104237370193,0.0032955450005829334,0.003502369625493884,0.003266365500167012,0.0033621315378695726,0.0036310527939349413,0.003054284956306219,0.0029653108213096857,0.0030152772087603807,0.0029629573691636324,0.0029741497710347176,0.003042275784537196,0.0032336506992578506,0.003129195421934128,0.0036555372644215822,0.0031792798545211554,0.003223195904865861,0.003118524793535471,0.0029692428652197123,0.0032126642763614655,0.002993231173604727,0.003547429572790861,0.00335173262283206,0.003390202997252345,0.0034595585893839598,0.0032558238599449396,0.0029400924686342478,0.002978673204779625,0.0031734684016555548,0.0031267039012163877,0.003167522605508566,0.0032068551518023014,0.0030373316258192062,0.003495135111734271,0.0031999184284359217],\"type\":\"scatter\"},{\"name\":\"Best Value\",\"x\":[0,1,2,3,4,5,6,7,8,9,10,11,12,13,14,15,16,17,18,19,20,21,22,23,24,25,26,27,28,29,30,31,32,33,34,35,36,37,38,39,40,41,42,43,44,45,46,47,48,49,50,51,52,53,54,55,56,57,58,59,60,61,62,63,64,65,66,67,68,69,70,71,72,73,74,75,76,77,78,79,80,81,82,83,84,85,86,87,88,89,90,91,92,93,94,95,96,97,98,99],\"y\":[0.003594357520341873,0.003594357520341873,0.003594357520341873,0.003594357520341873,0.003594357520341873,0.0029814683366566896,0.0029814683366566896,0.0029814683366566896,0.0029814683366566896,0.0029814683366566896,0.0029814683366566896,0.0029814683366566896,0.0029814683366566896,0.0029814683366566896,0.0029814683366566896,0.0029814683366566896,0.0029814683366566896,0.0029814683366566896,0.0029814683366566896,0.0029814683366566896,0.0029814683366566896,0.0029814683366566896,0.0029814683366566896,0.0029814683366566896,0.0029814683366566896,0.0029814683366566896,0.0029814683366566896,0.0029814683366566896,0.0029814683366566896,0.0029814683366566896,0.0029814683366566896,0.0029814683366566896,0.0029814683366566896,0.0029814683366566896,0.0029814683366566896,0.0029814683366566896,0.0029814683366566896,0.0029814683366566896,0.0029814683366566896,0.0029814683366566896,0.0029814683366566896,0.0029814683366566896,0.0029814683366566896,0.0029814683366566896,0.0029814683366566896,0.0029814683366566896,0.0029814683366566896,0.0029814683366566896,0.0029814683366566896,0.0029814683366566896,0.0029814683366566896,0.0029814683366566896,0.0029660393483936787,0.0029660393483936787,0.0029660393483936787,0.0029660393483936787,0.0029660393483936787,0.0029660393483936787,0.0029660393483936787,0.0029660393483936787,0.0029660393483936787,0.0029660393483936787,0.0029660393483936787,0.0029660393483936787,0.0029660393483936787,0.0029660393483936787,0.0029660393483936787,0.0029660393483936787,0.0029660393483936787,0.0029660393483936787,0.0029660393483936787,0.0029660393483936787,0.0029653108213096857,0.0029653108213096857,0.0029629573691636324,0.0029629573691636324,0.0029629573691636324,0.0029629573691636324,0.0029629573691636324,0.0029629573691636324,0.0029629573691636324,0.0029629573691636324,0.0029629573691636324,0.0029629573691636324,0.0029629573691636324,0.0029629573691636324,0.0029629573691636324,0.0029629573691636324,0.0029629573691636324,0.0029629573691636324,0.0029629573691636324,0.0029400924686342478,0.0029400924686342478,0.0029400924686342478,0.0029400924686342478,0.0029400924686342478,0.0029400924686342478,0.0029400924686342478,0.0029400924686342478,0.0029400924686342478],\"type\":\"scatter\"}],                        {\"title\":{\"text\":\"Optimization History Plot\"},\"xaxis\":{\"title\":{\"text\":\"#Trials\"}},\"yaxis\":{\"title\":{\"text\":\"Objective Value\"}},\"template\":{\"data\":{\"bar\":[{\"error_x\":{\"color\":\"#2a3f5f\"},\"error_y\":{\"color\":\"#2a3f5f\"},\"marker\":{\"line\":{\"color\":\"#E5ECF6\",\"width\":0.5},\"pattern\":{\"fillmode\":\"overlay\",\"size\":10,\"solidity\":0.2}},\"type\":\"bar\"}],\"barpolar\":[{\"marker\":{\"line\":{\"color\":\"#E5ECF6\",\"width\":0.5},\"pattern\":{\"fillmode\":\"overlay\",\"size\":10,\"solidity\":0.2}},\"type\":\"barpolar\"}],\"carpet\":[{\"aaxis\":{\"endlinecolor\":\"#2a3f5f\",\"gridcolor\":\"white\",\"linecolor\":\"white\",\"minorgridcolor\":\"white\",\"startlinecolor\":\"#2a3f5f\"},\"baxis\":{\"endlinecolor\":\"#2a3f5f\",\"gridcolor\":\"white\",\"linecolor\":\"white\",\"minorgridcolor\":\"white\",\"startlinecolor\":\"#2a3f5f\"},\"type\":\"carpet\"}],\"choropleth\":[{\"colorbar\":{\"outlinewidth\":0,\"ticks\":\"\"},\"type\":\"choropleth\"}],\"contour\":[{\"colorbar\":{\"outlinewidth\":0,\"ticks\":\"\"},\"colorscale\":[[0.0,\"#0d0887\"],[0.1111111111111111,\"#46039f\"],[0.2222222222222222,\"#7201a8\"],[0.3333333333333333,\"#9c179e\"],[0.4444444444444444,\"#bd3786\"],[0.5555555555555556,\"#d8576b\"],[0.6666666666666666,\"#ed7953\"],[0.7777777777777778,\"#fb9f3a\"],[0.8888888888888888,\"#fdca26\"],[1.0,\"#f0f921\"]],\"type\":\"contour\"}],\"contourcarpet\":[{\"colorbar\":{\"outlinewidth\":0,\"ticks\":\"\"},\"type\":\"contourcarpet\"}],\"heatmap\":[{\"colorbar\":{\"outlinewidth\":0,\"ticks\":\"\"},\"colorscale\":[[0.0,\"#0d0887\"],[0.1111111111111111,\"#46039f\"],[0.2222222222222222,\"#7201a8\"],[0.3333333333333333,\"#9c179e\"],[0.4444444444444444,\"#bd3786\"],[0.5555555555555556,\"#d8576b\"],[0.6666666666666666,\"#ed7953\"],[0.7777777777777778,\"#fb9f3a\"],[0.8888888888888888,\"#fdca26\"],[1.0,\"#f0f921\"]],\"type\":\"heatmap\"}],\"heatmapgl\":[{\"colorbar\":{\"outlinewidth\":0,\"ticks\":\"\"},\"colorscale\":[[0.0,\"#0d0887\"],[0.1111111111111111,\"#46039f\"],[0.2222222222222222,\"#7201a8\"],[0.3333333333333333,\"#9c179e\"],[0.4444444444444444,\"#bd3786\"],[0.5555555555555556,\"#d8576b\"],[0.6666666666666666,\"#ed7953\"],[0.7777777777777778,\"#fb9f3a\"],[0.8888888888888888,\"#fdca26\"],[1.0,\"#f0f921\"]],\"type\":\"heatmapgl\"}],\"histogram\":[{\"marker\":{\"pattern\":{\"fillmode\":\"overlay\",\"size\":10,\"solidity\":0.2}},\"type\":\"histogram\"}],\"histogram2d\":[{\"colorbar\":{\"outlinewidth\":0,\"ticks\":\"\"},\"colorscale\":[[0.0,\"#0d0887\"],[0.1111111111111111,\"#46039f\"],[0.2222222222222222,\"#7201a8\"],[0.3333333333333333,\"#9c179e\"],[0.4444444444444444,\"#bd3786\"],[0.5555555555555556,\"#d8576b\"],[0.6666666666666666,\"#ed7953\"],[0.7777777777777778,\"#fb9f3a\"],[0.8888888888888888,\"#fdca26\"],[1.0,\"#f0f921\"]],\"type\":\"histogram2d\"}],\"histogram2dcontour\":[{\"colorbar\":{\"outlinewidth\":0,\"ticks\":\"\"},\"colorscale\":[[0.0,\"#0d0887\"],[0.1111111111111111,\"#46039f\"],[0.2222222222222222,\"#7201a8\"],[0.3333333333333333,\"#9c179e\"],[0.4444444444444444,\"#bd3786\"],[0.5555555555555556,\"#d8576b\"],[0.6666666666666666,\"#ed7953\"],[0.7777777777777778,\"#fb9f3a\"],[0.8888888888888888,\"#fdca26\"],[1.0,\"#f0f921\"]],\"type\":\"histogram2dcontour\"}],\"mesh3d\":[{\"colorbar\":{\"outlinewidth\":0,\"ticks\":\"\"},\"type\":\"mesh3d\"}],\"parcoords\":[{\"line\":{\"colorbar\":{\"outlinewidth\":0,\"ticks\":\"\"}},\"type\":\"parcoords\"}],\"pie\":[{\"automargin\":true,\"type\":\"pie\"}],\"scatter\":[{\"marker\":{\"colorbar\":{\"outlinewidth\":0,\"ticks\":\"\"}},\"type\":\"scatter\"}],\"scatter3d\":[{\"line\":{\"colorbar\":{\"outlinewidth\":0,\"ticks\":\"\"}},\"marker\":{\"colorbar\":{\"outlinewidth\":0,\"ticks\":\"\"}},\"type\":\"scatter3d\"}],\"scattercarpet\":[{\"marker\":{\"colorbar\":{\"outlinewidth\":0,\"ticks\":\"\"}},\"type\":\"scattercarpet\"}],\"scattergeo\":[{\"marker\":{\"colorbar\":{\"outlinewidth\":0,\"ticks\":\"\"}},\"type\":\"scattergeo\"}],\"scattergl\":[{\"marker\":{\"colorbar\":{\"outlinewidth\":0,\"ticks\":\"\"}},\"type\":\"scattergl\"}],\"scattermapbox\":[{\"marker\":{\"colorbar\":{\"outlinewidth\":0,\"ticks\":\"\"}},\"type\":\"scattermapbox\"}],\"scatterpolar\":[{\"marker\":{\"colorbar\":{\"outlinewidth\":0,\"ticks\":\"\"}},\"type\":\"scatterpolar\"}],\"scatterpolargl\":[{\"marker\":{\"colorbar\":{\"outlinewidth\":0,\"ticks\":\"\"}},\"type\":\"scatterpolargl\"}],\"scatterternary\":[{\"marker\":{\"colorbar\":{\"outlinewidth\":0,\"ticks\":\"\"}},\"type\":\"scatterternary\"}],\"surface\":[{\"colorbar\":{\"outlinewidth\":0,\"ticks\":\"\"},\"colorscale\":[[0.0,\"#0d0887\"],[0.1111111111111111,\"#46039f\"],[0.2222222222222222,\"#7201a8\"],[0.3333333333333333,\"#9c179e\"],[0.4444444444444444,\"#bd3786\"],[0.5555555555555556,\"#d8576b\"],[0.6666666666666666,\"#ed7953\"],[0.7777777777777778,\"#fb9f3a\"],[0.8888888888888888,\"#fdca26\"],[1.0,\"#f0f921\"]],\"type\":\"surface\"}],\"table\":[{\"cells\":{\"fill\":{\"color\":\"#EBF0F8\"},\"line\":{\"color\":\"white\"}},\"header\":{\"fill\":{\"color\":\"#C8D4E3\"},\"line\":{\"color\":\"white\"}},\"type\":\"table\"}]},\"layout\":{\"annotationdefaults\":{\"arrowcolor\":\"#2a3f5f\",\"arrowhead\":0,\"arrowwidth\":1},\"autotypenumbers\":\"strict\",\"coloraxis\":{\"colorbar\":{\"outlinewidth\":0,\"ticks\":\"\"}},\"colorscale\":{\"diverging\":[[0,\"#8e0152\"],[0.1,\"#c51b7d\"],[0.2,\"#de77ae\"],[0.3,\"#f1b6da\"],[0.4,\"#fde0ef\"],[0.5,\"#f7f7f7\"],[0.6,\"#e6f5d0\"],[0.7,\"#b8e186\"],[0.8,\"#7fbc41\"],[0.9,\"#4d9221\"],[1,\"#276419\"]],\"sequential\":[[0.0,\"#0d0887\"],[0.1111111111111111,\"#46039f\"],[0.2222222222222222,\"#7201a8\"],[0.3333333333333333,\"#9c179e\"],[0.4444444444444444,\"#bd3786\"],[0.5555555555555556,\"#d8576b\"],[0.6666666666666666,\"#ed7953\"],[0.7777777777777778,\"#fb9f3a\"],[0.8888888888888888,\"#fdca26\"],[1.0,\"#f0f921\"]],\"sequentialminus\":[[0.0,\"#0d0887\"],[0.1111111111111111,\"#46039f\"],[0.2222222222222222,\"#7201a8\"],[0.3333333333333333,\"#9c179e\"],[0.4444444444444444,\"#bd3786\"],[0.5555555555555556,\"#d8576b\"],[0.6666666666666666,\"#ed7953\"],[0.7777777777777778,\"#fb9f3a\"],[0.8888888888888888,\"#fdca26\"],[1.0,\"#f0f921\"]]},\"colorway\":[\"#636efa\",\"#EF553B\",\"#00cc96\",\"#ab63fa\",\"#FFA15A\",\"#19d3f3\",\"#FF6692\",\"#B6E880\",\"#FF97FF\",\"#FECB52\"],\"font\":{\"color\":\"#2a3f5f\"},\"geo\":{\"bgcolor\":\"white\",\"lakecolor\":\"white\",\"landcolor\":\"#E5ECF6\",\"showlakes\":true,\"showland\":true,\"subunitcolor\":\"white\"},\"hoverlabel\":{\"align\":\"left\"},\"hovermode\":\"closest\",\"mapbox\":{\"style\":\"light\"},\"paper_bgcolor\":\"white\",\"plot_bgcolor\":\"#E5ECF6\",\"polar\":{\"angularaxis\":{\"gridcolor\":\"white\",\"linecolor\":\"white\",\"ticks\":\"\"},\"bgcolor\":\"#E5ECF6\",\"radialaxis\":{\"gridcolor\":\"white\",\"linecolor\":\"white\",\"ticks\":\"\"}},\"scene\":{\"xaxis\":{\"backgroundcolor\":\"#E5ECF6\",\"gridcolor\":\"white\",\"gridwidth\":2,\"linecolor\":\"white\",\"showbackground\":true,\"ticks\":\"\",\"zerolinecolor\":\"white\"},\"yaxis\":{\"backgroundcolor\":\"#E5ECF6\",\"gridcolor\":\"white\",\"gridwidth\":2,\"linecolor\":\"white\",\"showbackground\":true,\"ticks\":\"\",\"zerolinecolor\":\"white\"},\"zaxis\":{\"backgroundcolor\":\"#E5ECF6\",\"gridcolor\":\"white\",\"gridwidth\":2,\"linecolor\":\"white\",\"showbackground\":true,\"ticks\":\"\",\"zerolinecolor\":\"white\"}},\"shapedefaults\":{\"line\":{\"color\":\"#2a3f5f\"}},\"ternary\":{\"aaxis\":{\"gridcolor\":\"white\",\"linecolor\":\"white\",\"ticks\":\"\"},\"baxis\":{\"gridcolor\":\"white\",\"linecolor\":\"white\",\"ticks\":\"\"},\"bgcolor\":\"#E5ECF6\",\"caxis\":{\"gridcolor\":\"white\",\"linecolor\":\"white\",\"ticks\":\"\"}},\"title\":{\"x\":0.05},\"xaxis\":{\"automargin\":true,\"gridcolor\":\"white\",\"linecolor\":\"white\",\"ticks\":\"\",\"title\":{\"standoff\":15},\"zerolinecolor\":\"white\",\"zerolinewidth\":2},\"yaxis\":{\"automargin\":true,\"gridcolor\":\"white\",\"linecolor\":\"white\",\"ticks\":\"\",\"title\":{\"standoff\":15},\"zerolinecolor\":\"white\",\"zerolinewidth\":2}}}},                        {\"responsive\": true}                    ).then(function(){\n",
       "                            \n",
       "var gd = document.getElementById('bcafd478-783b-4203-9985-df0615b24b83');\n",
       "var x = new MutationObserver(function (mutations, observer) {{\n",
       "        var display = window.getComputedStyle(gd).display;\n",
       "        if (!display || display === 'none') {{\n",
       "            console.log([gd, 'removed!']);\n",
       "            Plotly.purge(gd);\n",
       "            observer.disconnect();\n",
       "        }}\n",
       "}});\n",
       "\n",
       "// Listen for the removal of the full notebook cells\n",
       "var notebookContainer = gd.closest('#notebook-container');\n",
       "if (notebookContainer) {{\n",
       "    x.observe(notebookContainer, {childList: true});\n",
       "}}\n",
       "\n",
       "// Listen for the clearing of the current output cell\n",
       "var outputEl = gd.closest('.output');\n",
       "if (outputEl) {{\n",
       "    x.observe(outputEl, {childList: true});\n",
       "}}\n",
       "\n",
       "                        })                };                });            </script>        </div>"
      ]
     },
     "metadata": {},
     "output_type": "display_data"
    }
   ],
   "source": [
    "optuna.visualization.plot_optimization_history(study)\n"
   ]
  },
  {
   "cell_type": "code",
   "execution_count": 91,
   "metadata": {},
   "outputs": [
    {
     "data": {
      "application/vnd.plotly.v1+json": {
       "config": {
        "plotlyServerURL": "https://plot.ly"
       },
       "data": [
        {
         "dimensions": [
          {
           "label": "Objective Value",
           "range": [
            0.0029400924686342478,
            0.024662869051098824
           ],
           "values": [
            0.0029814683366566896,
            0.0037844236940145493,
            0.003591281594708562,
            0.011536046862602234,
            0.003292193403467536,
            0.003434315789490938,
            0.01094723679125309,
            0.003533497452735901,
            0.003422937821596861,
            0.003324439050629735,
            0.003537513315677643,
            0.0035101997200399637,
            0.0036333054304122925,
            0.0032988020684570074,
            0.0032520988024771214,
            0.0033621315378695726,
            0.0031792798545211554,
            0.0032558238599449396,
            0.003594357520341873,
            0.003611976047977805,
            0.003977199550718069,
            0.0035390877164900303,
            0.003187931841239333,
            0.005001144949346781,
            0.0034194495528936386,
            0.024662869051098824,
            0.0033703616354614496,
            0.0033143735490739346,
            0.0032309081871062517,
            0.003129195421934128,
            0.0030373316258192062,
            0.003600777592509985,
            0.02379225566983223,
            0.0035533872433006763,
            0.0030743153765797615,
            0.003464996349066496,
            0.0031252531334757805,
            0.0032015929464250803,
            0.00328590115532279,
            0.0037336370442062616,
            0.0032299195881932974,
            0.003513467963784933,
            0.00334888300858438,
            0.003169152420014143,
            0.003291683504357934,
            0.002999398158863187,
            0.0030704662203788757,
            0.0032989869359880686,
            0.003390796948224306,
            0.0033495735842734575,
            0.003567533567547798,
            0.0040596420876681805,
            0.003433185163885355,
            0.0032345091458410025,
            0.0031388727948069572,
            0.0031497697345912457,
            0.0033188899978995323,
            0.0036617438308894634,
            0.0033481833525002003,
            0.003849779022857547,
            0.0029660393483936787,
            0.0031864994671195745,
            0.003107530064880848,
            0.0032460349611938,
            0.0035128998570144176,
            0.0031520752236247063,
            0.0030057141557335854,
            0.0032417161855846643,
            0.0031879073940217495,
            0.003094143234193325,
            0.00324104237370193,
            0.0032955450005829334,
            0.003502369625493884,
            0.003266365500167012,
            0.0036310527939349413,
            0.003054284956306219,
            0.0029653108213096857,
            0.0030152772087603807,
            0.0029629573691636324,
            0.0029741497710347176,
            0.003042275784537196,
            0.0032336506992578506,
            0.0036555372644215822,
            0.003223195904865861,
            0.003118524793535471,
            0.0029692428652197123,
            0.0032126642763614655,
            0.002993231173604727,
            0.003547429572790861,
            0.00335173262283206,
            0.003390202997252345,
            0.0034595585893839598,
            0.0029400924686342478,
            0.002978673204779625,
            0.0031734684016555548,
            0.0031267039012163877,
            0.003167522605508566,
            0.0032068551518023014,
            0.003495135111734271,
            0.0031999184284359217
           ]
          },
          {
           "label": "amsgrad",
           "range": [
            0,
            1
           ],
           "ticktext": [
            false,
            true
           ],
           "tickvals": [
            0,
            1
           ],
           "values": [
            1,
            0,
            1,
            1,
            0,
            0,
            1,
            1,
            1,
            1,
            1,
            1,
            1,
            1,
            1,
            1,
            1,
            1,
            0,
            1,
            0,
            0,
            0,
            1,
            0,
            0,
            0,
            1,
            1,
            1,
            1,
            0,
            1,
            1,
            1,
            1,
            1,
            1,
            1,
            1,
            1,
            1,
            1,
            1,
            1,
            1,
            1,
            1,
            1,
            1,
            1,
            1,
            1,
            1,
            1,
            1,
            1,
            1,
            0,
            1,
            1,
            1,
            1,
            1,
            0,
            1,
            1,
            1,
            1,
            1,
            1,
            1,
            0,
            1,
            1,
            1,
            1,
            1,
            1,
            1,
            1,
            1,
            1,
            1,
            1,
            1,
            1,
            1,
            0,
            1,
            1,
            1,
            1,
            1,
            1,
            1,
            1,
            1,
            1,
            0
           ]
          },
          {
           "label": "beta1",
           "range": [
            0.2039211797096302,
            0.8910536668544522
           ],
           "values": [
            0.5344414150831682,
            0.6614147864268851,
            0.5755487829378834,
            0.23746358761647124,
            0.44360364836365407,
            0.4900568145286248,
            0.37986880577091664,
            0.7360270953258202,
            0.6029276240599939,
            0.5816137773866517,
            0.3870911166254209,
            0.4188840646512107,
            0.5989043130040715,
            0.4389683556853756,
            0.3522576073887633,
            0.49364249571426194,
            0.5017659443305181,
            0.6135458744723974,
            0.3585904718224062,
            0.6859799051377495,
            0.48445616925353285,
            0.8401684736292394,
            0.46280733656430384,
            0.3443387650311436,
            0.25950885155252684,
            0.5781680313348522,
            0.46808937516940646,
            0.6323570990712934,
            0.49125293491566097,
            0.5777436705455553,
            0.5435111885695504,
            0.6293819698790448,
            0.833665253823815,
            0.8177904094044417,
            0.515675803593862,
            0.754814600800381,
            0.5196846896053275,
            0.5410145962747335,
            0.5403258878727248,
            0.40117071932374004,
            0.6187961346894797,
            0.3126081399862608,
            0.5204995755898456,
            0.43454466266267666,
            0.708195122885031,
            0.42700950119533215,
            0.5129703824064621,
            0.4133937101652785,
            0.3248453919771209,
            0.48397610550506176,
            0.6760414618581845,
            0.48502368515742933,
            0.6473919937832725,
            0.5134047225435476,
            0.5527361689338778,
            0.8910536668544522,
            0.4519323900696414,
            0.508104635884911,
            0.5577362788300065,
            0.5473158291094574,
            0.5188507539780817,
            0.5130686084386719,
            0.45495323741098276,
            0.37040298038087,
            0.279385077607154,
            0.46515628600599984,
            0.528513552766742,
            0.5659940308481821,
            0.5312646040805247,
            0.4282372068781548,
            0.4252543191428932,
            0.2039211797096302,
            0.4005534650342563,
            0.5940495922978308,
            0.5323802205964704,
            0.46134599144598554,
            0.4703118969186936,
            0.49947309124868133,
            0.47469913669995156,
            0.4706351979972784,
            0.4743260003813615,
            0.48960663628243434,
            0.4048099842162281,
            0.47051630931213534,
            0.4761361298274451,
            0.443790504691365,
            0.4450061218435585,
            0.538054949405586,
            0.536020854192352,
            0.38953796114673184,
            0.5562251233707506,
            0.43905051213362484,
            0.5076397726936703,
            0.5288327814655176,
            0.5194199946746292,
            0.5687219653875598,
            0.37210304421573437,
            0.4526711799484167,
            0.5068137364057428,
            0.589462410769616
           ]
          },
          {
           "label": "beta2",
           "range": [
            -0.04571296119255381,
            -0.0006725701100290386
           ],
           "ticktext": [
            "0.9",
            "0.998"
           ],
           "tickvals": [
            -0.04571296119255381,
            -0.0006725701100290386
           ],
           "values": [
            -0.03597694469024769,
            -0.016797470495479715,
            -0.019423894532464122,
            -0.0031490519540648765,
            -0.03698163293109865,
            -0.012576258334562197,
            -0.0382293931075701,
            -0.033737365614351145,
            -0.035180037643382484,
            -0.016870297301281017,
            -0.016509914815716682,
            -0.044696829312862923,
            -0.017898209613099937,
            -0.023920207922890617,
            -0.03646987323246788,
            -0.038063897759264935,
            -0.029078839864658403,
            -0.030815307849321513,
            -0.03519321683025878,
            -0.03215775315747658,
            -0.02028275632516586,
            -0.0425991777085692,
            -0.0387342473212051,
            -0.027976200478026098,
            -0.027075840219739793,
            -0.04131140916839981,
            -0.028112331630133394,
            -0.043152484965864726,
            -0.021682109976857388,
            -0.03825680489381692,
            -0.03485218585701281,
            -0.04239240021303116,
            -0.027874775164712644,
            -0.04571296119255381,
            -0.030799966791564284,
            -0.012021925518784561,
            -0.032473896586082254,
            -0.030891605516775614,
            -0.02445435490868872,
            -0.03135153821484076,
            -0.02530677395648472,
            -0.029940851114124804,
            -0.034758426547085185,
            -0.023132697091262037,
            -0.0006725701100290386,
            -0.02278404136667442,
            -0.02056613726754916,
            -0.01395743772426616,
            -0.01980367861667637,
            -0.00819193529156595,
            -0.02201462868809247,
            -0.028938723916971908,
            -0.022612301912457236,
            -0.026080724486096413,
            -0.032903831202631524,
            -0.032355739262355576,
            -0.039894009171250494,
            -0.03661763644787614,
            -0.020502928965187062,
            -0.03382825322576498,
            -0.03292362026779264,
            -0.037083126549303805,
            -0.029926641038014106,
            -0.029932903096971466,
            -0.0262308588409787,
            -0.039676067834353526,
            -0.03172484658927412,
            -0.030880306213029705,
            -0.02860743466364398,
            -0.03425814667331498,
            -0.03436759981857578,
            -0.0355003220830964,
            -0.04112482952736585,
            -0.026790311451676763,
            -0.02508712453250154,
            -0.031511055855767134,
            -0.03188487203600203,
            -0.0322379395446733,
            -0.0318713888146196,
            -0.03569186603410019,
            -0.03288676601761582,
            -0.0356122281056797,
            -0.032776639044364654,
            -0.03328583561584252,
            -0.032138884177662155,
            -0.03503504775615732,
            -0.03627360535882152,
            -0.03483333162312839,
            -0.03962905568329029,
            -0.03473028510985406,
            -0.037238050818869994,
            -0.04096951613498,
            -0.0355167823932016,
            -0.03541893228429493,
            -0.03880995651293616,
            -0.03555725416684132,
            -0.037335084156782126,
            -0.033709248528849975,
            -0.027613516802353334,
            -0.035909144174631875
           ]
          },
          {
           "label": "l2",
           "range": [
            -5.992799228784579,
            -2.106944639771884
           ],
           "ticktext": [
            "1.02e-06",
            "1e-05",
            "0.0001",
            "0.001",
            "0.00782"
           ],
           "tickvals": [
            -5.992799228784579,
            -5,
            -4,
            -3,
            -2.106944639771884
           ],
           "values": [
            -3.4724454032166188,
            -5.9737511070652864,
            -3.0143469686096935,
            -4.611143906751132,
            -4.565995666614764,
            -4.289171605258011,
            -5.137442451408173,
            -3.9591432068291526,
            -5.835581919000173,
            -5.678173426249528,
            -3.996108840660015,
            -3.707607134281769,
            -4.18883315389502,
            -5.8900626524945485,
            -3.2960551392231596,
            -5.522059974024688,
            -5.740632132106022,
            -5.182733193918737,
            -5.646119096420342,
            -5.570206664117178,
            -3.7954122366352196,
            -3.448629270922654,
            -4.421524334367218,
            -4.615520653611399,
            -2.20944458728826,
            -2.913428544993261,
            -5.2586675517678705,
            -4.919776567791844,
            -2.782280918323869,
            -5.917545334463201,
            -5.652233175883016,
            -3.016989945140554,
            -2.106944639771884,
            -3.3836122254775685,
            -5.039265180818758,
            -5.1358692083984305,
            -5.0538284617421985,
            -5.06605854375316,
            -4.9915383158046165,
            -3.6821666340218404,
            -5.489680139044211,
            -2.6268426215177727,
            -4.155135449705566,
            -4.93910885921911,
            -5.38200587492498,
            -4.9881405660749945,
            -5.326546434484661,
            -5.690942093727852,
            -5.366705794881212,
            -4.821792493361793,
            -3.4882039150515425,
            -5.274658763850339,
            -3.237305724019139,
            -4.731521127769433,
            -5.992799228784579,
            -4.387162515495305,
            -4.815763183580676,
            -5.559151613733307,
            -4.524622090393378,
            -5.707746676476546,
            -5.971204928246673,
            -5.21267280731085,
            -5.817141515172877,
            -5.841808868659757,
            -5.459999897065613,
            -5.617665044147759,
            -5.771050195935902,
            -5.986455367853008,
            -5.79054120981506,
            -5.468837418864128,
            -5.397476838142142,
            -5.583169163154963,
            -5.130006918741043,
            -5.288323929904418,
            -3.525456012608746,
            -5.772213378948286,
            -5.7010950803930465,
            -5.743387569242643,
            -5.7090343991743335,
            -5.746267100314318,
            -5.891093577451931,
            -5.685003467536851,
            -2.440816073554829,
            -3.8550765288297693,
            -5.979780967886348,
            -5.613199833623421,
            -5.608131693227363,
            -5.432044134756232,
            -5.447137936143773,
            -3.0854332540274956,
            -5.5721872666363845,
            -5.650933798512674,
            -5.7700290167631945,
            -5.8808217299606165,
            -5.9057512462405075,
            -5.348777331684143,
            -5.853273873408166,
            -5.5136741554499284,
            -5.931059984536727,
            -5.820594743896029
           ]
          },
          {
           "label": "layers",
           "range": [
            2,
            5
           ],
           "values": [
            4,
            2,
            3,
            5,
            4,
            4,
            5,
            3,
            4,
            5,
            5,
            4,
            4,
            4,
            3,
            5,
            4,
            4,
            3,
            3,
            4,
            2,
            4,
            4,
            4,
            5,
            5,
            5,
            4,
            4,
            4,
            2,
            5,
            2,
            4,
            3,
            4,
            4,
            4,
            5,
            4,
            3,
            4,
            5,
            3,
            5,
            5,
            5,
            5,
            5,
            5,
            5,
            4,
            4,
            4,
            4,
            3,
            2,
            4,
            4,
            4,
            4,
            4,
            3,
            5,
            4,
            4,
            4,
            4,
            4,
            4,
            5,
            2,
            4,
            3,
            4,
            4,
            4,
            4,
            4,
            4,
            4,
            4,
            4,
            4,
            4,
            4,
            4,
            4,
            4,
            3,
            4,
            4,
            4,
            4,
            4,
            4,
            4,
            4,
            4
           ]
          },
          {
           "label": "lr",
           "range": [
            -4.913685904763692,
            -1.0613391964409222
           ],
           "ticktext": [
            "1.22e-05",
            "0.0001",
            "0.001",
            "0.01",
            "0.0868"
           ],
           "tickvals": [
            -4.913685904763692,
            -4,
            -3,
            -2,
            -1.0613391964409222
           ],
           "values": [
            -3.1290167859904767,
            -3.4741828856674375,
            -1.369395005920043,
            -4.4314639470362,
            -2.6679860928601746,
            -2.737476713296934,
            -4.316412787758286,
            -2.9955385707340527,
            -3.2795533399793446,
            -2.5804089988615595,
            -2.7861179106563205,
            -1.8041998811235105,
            -2.840237899316509,
            -2.6346012199060374,
            -2.288519632070658,
            -3.2802114964815927,
            -2.0817269384474364,
            -1.97516630529129,
            -3.2429361750879226,
            -1.0613391964409222,
            -1.6002309170874274,
            -3.6108605603731068,
            -3.864856287907198,
            -4.072397754195013,
            -3.8106414083770415,
            -4.8845363698557005,
            -3.5689844480319195,
            -3.7461077520170663,
            -3.005876459845754,
            -1.9450542613037987,
            -1.9161950397744067,
            -2.0248266798509578,
            -4.913685904763692,
            -1.9887257419246847,
            -2.5461517661840722,
            -2.356350481104718,
            -3.1781837262279122,
            -3.0434772369830796,
            -2.2799384767905058,
            -2.694401068992746,
            -3.1806175095711526,
            -3.3980722373769687,
            -2.8935906615242644,
            -2.45833781323465,
            -2.0037146058592983,
            -2.418650767972499,
            -2.434803034563373,
            -2.417179914860155,
            -1.655287059837556,
            -2.1575843861965716,
            -1.7998560471675205,
            -1.0643636748687073,
            -2.1417845992899243,
            -3.1227679388553566,
            -3.530415402221371,
            -2.490747515921975,
            -2.9600665019182544,
            -3.313713564693113,
            -2.2861483705899164,
            -4.047458883525683,
            -2.6071255044340242,
            -2.581746449264458,
            -2.6839124172415634,
            -2.1639452957007546,
            -1.8936493260804048,
            -2.778682844366597,
            -3.153829434715997,
            -2.544838368101127,
            -2.708496690182401,
            -2.8665284828804256,
            -3.4015548279999033,
            -2.885358607778588,
            -3.078359181485131,
            -2.4098988671498938,
            -2.8420656965881537,
            -2.7007378587490347,
            -2.1061230947786584,
            -2.057202233552314,
            -2.1151863675809928,
            -2.0950012471488697,
            -2.1228281195520964,
            -1.50489780531348,
            -1.6987733900097357,
            -2.204279317297955,
            -2.0435999465443833,
            -2.341378408228179,
            -2.333393354873248,
            -1.8209063073988567,
            -1.5208002780636696,
            -1.8856724998307994,
            -1.7705393951995194,
            -1.249000192455962,
            -2.265560834393822,
            -2.2559477216173582,
            -2.2010030969129244,
            -2.491639454254563,
            -2.244275764388477,
            -2.3678988083425327,
            -1.8171588968386152,
            -2.31824714181374
           ]
          },
          {
           "label": "ngf",
           "range": [
            0,
            2
           ],
           "ticktext": [
            16,
            32,
            64
           ],
           "tickvals": [
            0,
            1,
            2
           ],
           "values": [
            0,
            0,
            0,
            0,
            0,
            0,
            0,
            0,
            0,
            0,
            0,
            0,
            0,
            0,
            0,
            0,
            0,
            0,
            1,
            1,
            1,
            1,
            1,
            1,
            1,
            1,
            1,
            1,
            1,
            1,
            1,
            2,
            2,
            2,
            2,
            2,
            2,
            2,
            2,
            2,
            2,
            2,
            2,
            2,
            2,
            2,
            2,
            2,
            2,
            2,
            2,
            2,
            2,
            2,
            2,
            2,
            2,
            2,
            2,
            2,
            2,
            2,
            2,
            2,
            2,
            2,
            2,
            2,
            2,
            2,
            2,
            2,
            2,
            2,
            2,
            2,
            2,
            2,
            2,
            2,
            2,
            2,
            2,
            2,
            2,
            2,
            2,
            2,
            2,
            2,
            2,
            2,
            2,
            2,
            2,
            2,
            2,
            2,
            2,
            2
           ]
          },
          {
           "label": "nz",
           "range": [
            10,
            192
           ],
           "values": [
            70,
            173,
            191,
            20,
            53,
            83,
            21,
            127,
            96,
            123,
            40,
            162,
            69,
            82,
            88,
            71,
            108,
            107,
            87,
            62,
            151,
            109,
            105,
            112,
            50,
            86,
            81,
            116,
            76,
            98,
            115,
            146,
            148,
            192,
            72,
            41,
            92,
            62,
            79,
            33,
            67,
            99,
            128,
            72,
            33,
            73,
            74,
            54,
            75,
            62,
            10,
            75,
            87,
            91,
            113,
            64,
            100,
            55,
            93,
            140,
            103,
            106,
            84,
            47,
            62,
            103,
            94,
            69,
            119,
            59,
            59,
            45,
            57,
            184,
            79,
            86,
            96,
            95,
            98,
            109,
            110,
            136,
            95,
            123,
            112,
            104,
            99,
            103,
            103,
            130,
            90,
            118,
            94,
            102,
            101,
            113,
            105,
            90,
            122,
            109
           ]
          }
         ],
         "labelangle": 30,
         "labelside": "bottom",
         "line": {
          "color": [
           0.0029814683366566896,
           0.0037844236940145493,
           0.003591281594708562,
           0.011536046862602234,
           0.003292193403467536,
           0.003434315789490938,
           0.01094723679125309,
           0.003533497452735901,
           0.003422937821596861,
           0.003324439050629735,
           0.003537513315677643,
           0.0035101997200399637,
           0.0036333054304122925,
           0.0032988020684570074,
           0.0032520988024771214,
           0.0033621315378695726,
           0.0031792798545211554,
           0.0032558238599449396,
           0.003594357520341873,
           0.003611976047977805,
           0.003977199550718069,
           0.0035390877164900303,
           0.003187931841239333,
           0.005001144949346781,
           0.0034194495528936386,
           0.024662869051098824,
           0.0033703616354614496,
           0.0033143735490739346,
           0.0032309081871062517,
           0.003129195421934128,
           0.0030373316258192062,
           0.003600777592509985,
           0.02379225566983223,
           0.0035533872433006763,
           0.0030743153765797615,
           0.003464996349066496,
           0.0031252531334757805,
           0.0032015929464250803,
           0.00328590115532279,
           0.0037336370442062616,
           0.0032299195881932974,
           0.003513467963784933,
           0.00334888300858438,
           0.003169152420014143,
           0.003291683504357934,
           0.002999398158863187,
           0.0030704662203788757,
           0.0032989869359880686,
           0.003390796948224306,
           0.0033495735842734575,
           0.003567533567547798,
           0.0040596420876681805,
           0.003433185163885355,
           0.0032345091458410025,
           0.0031388727948069572,
           0.0031497697345912457,
           0.0033188899978995323,
           0.0036617438308894634,
           0.0033481833525002003,
           0.003849779022857547,
           0.0029660393483936787,
           0.0031864994671195745,
           0.003107530064880848,
           0.0032460349611938,
           0.0035128998570144176,
           0.0031520752236247063,
           0.0030057141557335854,
           0.0032417161855846643,
           0.0031879073940217495,
           0.003094143234193325,
           0.00324104237370193,
           0.0032955450005829334,
           0.003502369625493884,
           0.003266365500167012,
           0.0036310527939349413,
           0.003054284956306219,
           0.0029653108213096857,
           0.0030152772087603807,
           0.0029629573691636324,
           0.0029741497710347176,
           0.003042275784537196,
           0.0032336506992578506,
           0.0036555372644215822,
           0.003223195904865861,
           0.003118524793535471,
           0.0029692428652197123,
           0.0032126642763614655,
           0.002993231173604727,
           0.003547429572790861,
           0.00335173262283206,
           0.003390202997252345,
           0.0034595585893839598,
           0.0029400924686342478,
           0.002978673204779625,
           0.0031734684016555548,
           0.0031267039012163877,
           0.003167522605508566,
           0.0032068551518023014,
           0.003495135111734271,
           0.0031999184284359217
          ],
          "colorbar": {
           "title": {
            "text": "Objective Value"
           }
          },
          "colorscale": [
           [
            0,
            "rgb(247,251,255)"
           ],
           [
            0.125,
            "rgb(222,235,247)"
           ],
           [
            0.25,
            "rgb(198,219,239)"
           ],
           [
            0.375,
            "rgb(158,202,225)"
           ],
           [
            0.5,
            "rgb(107,174,214)"
           ],
           [
            0.625,
            "rgb(66,146,198)"
           ],
           [
            0.75,
            "rgb(33,113,181)"
           ],
           [
            0.875,
            "rgb(8,81,156)"
           ],
           [
            1,
            "rgb(8,48,107)"
           ]
          ],
          "reversescale": true,
          "showscale": true
         },
         "type": "parcoords"
        }
       ],
       "layout": {
        "template": {
         "data": {
          "bar": [
           {
            "error_x": {
             "color": "#2a3f5f"
            },
            "error_y": {
             "color": "#2a3f5f"
            },
            "marker": {
             "line": {
              "color": "#E5ECF6",
              "width": 0.5
             },
             "pattern": {
              "fillmode": "overlay",
              "size": 10,
              "solidity": 0.2
             }
            },
            "type": "bar"
           }
          ],
          "barpolar": [
           {
            "marker": {
             "line": {
              "color": "#E5ECF6",
              "width": 0.5
             },
             "pattern": {
              "fillmode": "overlay",
              "size": 10,
              "solidity": 0.2
             }
            },
            "type": "barpolar"
           }
          ],
          "carpet": [
           {
            "aaxis": {
             "endlinecolor": "#2a3f5f",
             "gridcolor": "white",
             "linecolor": "white",
             "minorgridcolor": "white",
             "startlinecolor": "#2a3f5f"
            },
            "baxis": {
             "endlinecolor": "#2a3f5f",
             "gridcolor": "white",
             "linecolor": "white",
             "minorgridcolor": "white",
             "startlinecolor": "#2a3f5f"
            },
            "type": "carpet"
           }
          ],
          "choropleth": [
           {
            "colorbar": {
             "outlinewidth": 0,
             "ticks": ""
            },
            "type": "choropleth"
           }
          ],
          "contour": [
           {
            "colorbar": {
             "outlinewidth": 0,
             "ticks": ""
            },
            "colorscale": [
             [
              0,
              "#0d0887"
             ],
             [
              0.1111111111111111,
              "#46039f"
             ],
             [
              0.2222222222222222,
              "#7201a8"
             ],
             [
              0.3333333333333333,
              "#9c179e"
             ],
             [
              0.4444444444444444,
              "#bd3786"
             ],
             [
              0.5555555555555556,
              "#d8576b"
             ],
             [
              0.6666666666666666,
              "#ed7953"
             ],
             [
              0.7777777777777778,
              "#fb9f3a"
             ],
             [
              0.8888888888888888,
              "#fdca26"
             ],
             [
              1,
              "#f0f921"
             ]
            ],
            "type": "contour"
           }
          ],
          "contourcarpet": [
           {
            "colorbar": {
             "outlinewidth": 0,
             "ticks": ""
            },
            "type": "contourcarpet"
           }
          ],
          "heatmap": [
           {
            "colorbar": {
             "outlinewidth": 0,
             "ticks": ""
            },
            "colorscale": [
             [
              0,
              "#0d0887"
             ],
             [
              0.1111111111111111,
              "#46039f"
             ],
             [
              0.2222222222222222,
              "#7201a8"
             ],
             [
              0.3333333333333333,
              "#9c179e"
             ],
             [
              0.4444444444444444,
              "#bd3786"
             ],
             [
              0.5555555555555556,
              "#d8576b"
             ],
             [
              0.6666666666666666,
              "#ed7953"
             ],
             [
              0.7777777777777778,
              "#fb9f3a"
             ],
             [
              0.8888888888888888,
              "#fdca26"
             ],
             [
              1,
              "#f0f921"
             ]
            ],
            "type": "heatmap"
           }
          ],
          "heatmapgl": [
           {
            "colorbar": {
             "outlinewidth": 0,
             "ticks": ""
            },
            "colorscale": [
             [
              0,
              "#0d0887"
             ],
             [
              0.1111111111111111,
              "#46039f"
             ],
             [
              0.2222222222222222,
              "#7201a8"
             ],
             [
              0.3333333333333333,
              "#9c179e"
             ],
             [
              0.4444444444444444,
              "#bd3786"
             ],
             [
              0.5555555555555556,
              "#d8576b"
             ],
             [
              0.6666666666666666,
              "#ed7953"
             ],
             [
              0.7777777777777778,
              "#fb9f3a"
             ],
             [
              0.8888888888888888,
              "#fdca26"
             ],
             [
              1,
              "#f0f921"
             ]
            ],
            "type": "heatmapgl"
           }
          ],
          "histogram": [
           {
            "marker": {
             "pattern": {
              "fillmode": "overlay",
              "size": 10,
              "solidity": 0.2
             }
            },
            "type": "histogram"
           }
          ],
          "histogram2d": [
           {
            "colorbar": {
             "outlinewidth": 0,
             "ticks": ""
            },
            "colorscale": [
             [
              0,
              "#0d0887"
             ],
             [
              0.1111111111111111,
              "#46039f"
             ],
             [
              0.2222222222222222,
              "#7201a8"
             ],
             [
              0.3333333333333333,
              "#9c179e"
             ],
             [
              0.4444444444444444,
              "#bd3786"
             ],
             [
              0.5555555555555556,
              "#d8576b"
             ],
             [
              0.6666666666666666,
              "#ed7953"
             ],
             [
              0.7777777777777778,
              "#fb9f3a"
             ],
             [
              0.8888888888888888,
              "#fdca26"
             ],
             [
              1,
              "#f0f921"
             ]
            ],
            "type": "histogram2d"
           }
          ],
          "histogram2dcontour": [
           {
            "colorbar": {
             "outlinewidth": 0,
             "ticks": ""
            },
            "colorscale": [
             [
              0,
              "#0d0887"
             ],
             [
              0.1111111111111111,
              "#46039f"
             ],
             [
              0.2222222222222222,
              "#7201a8"
             ],
             [
              0.3333333333333333,
              "#9c179e"
             ],
             [
              0.4444444444444444,
              "#bd3786"
             ],
             [
              0.5555555555555556,
              "#d8576b"
             ],
             [
              0.6666666666666666,
              "#ed7953"
             ],
             [
              0.7777777777777778,
              "#fb9f3a"
             ],
             [
              0.8888888888888888,
              "#fdca26"
             ],
             [
              1,
              "#f0f921"
             ]
            ],
            "type": "histogram2dcontour"
           }
          ],
          "mesh3d": [
           {
            "colorbar": {
             "outlinewidth": 0,
             "ticks": ""
            },
            "type": "mesh3d"
           }
          ],
          "parcoords": [
           {
            "line": {
             "colorbar": {
              "outlinewidth": 0,
              "ticks": ""
             }
            },
            "type": "parcoords"
           }
          ],
          "pie": [
           {
            "automargin": true,
            "type": "pie"
           }
          ],
          "scatter": [
           {
            "marker": {
             "colorbar": {
              "outlinewidth": 0,
              "ticks": ""
             }
            },
            "type": "scatter"
           }
          ],
          "scatter3d": [
           {
            "line": {
             "colorbar": {
              "outlinewidth": 0,
              "ticks": ""
             }
            },
            "marker": {
             "colorbar": {
              "outlinewidth": 0,
              "ticks": ""
             }
            },
            "type": "scatter3d"
           }
          ],
          "scattercarpet": [
           {
            "marker": {
             "colorbar": {
              "outlinewidth": 0,
              "ticks": ""
             }
            },
            "type": "scattercarpet"
           }
          ],
          "scattergeo": [
           {
            "marker": {
             "colorbar": {
              "outlinewidth": 0,
              "ticks": ""
             }
            },
            "type": "scattergeo"
           }
          ],
          "scattergl": [
           {
            "marker": {
             "colorbar": {
              "outlinewidth": 0,
              "ticks": ""
             }
            },
            "type": "scattergl"
           }
          ],
          "scattermapbox": [
           {
            "marker": {
             "colorbar": {
              "outlinewidth": 0,
              "ticks": ""
             }
            },
            "type": "scattermapbox"
           }
          ],
          "scatterpolar": [
           {
            "marker": {
             "colorbar": {
              "outlinewidth": 0,
              "ticks": ""
             }
            },
            "type": "scatterpolar"
           }
          ],
          "scatterpolargl": [
           {
            "marker": {
             "colorbar": {
              "outlinewidth": 0,
              "ticks": ""
             }
            },
            "type": "scatterpolargl"
           }
          ],
          "scatterternary": [
           {
            "marker": {
             "colorbar": {
              "outlinewidth": 0,
              "ticks": ""
             }
            },
            "type": "scatterternary"
           }
          ],
          "surface": [
           {
            "colorbar": {
             "outlinewidth": 0,
             "ticks": ""
            },
            "colorscale": [
             [
              0,
              "#0d0887"
             ],
             [
              0.1111111111111111,
              "#46039f"
             ],
             [
              0.2222222222222222,
              "#7201a8"
             ],
             [
              0.3333333333333333,
              "#9c179e"
             ],
             [
              0.4444444444444444,
              "#bd3786"
             ],
             [
              0.5555555555555556,
              "#d8576b"
             ],
             [
              0.6666666666666666,
              "#ed7953"
             ],
             [
              0.7777777777777778,
              "#fb9f3a"
             ],
             [
              0.8888888888888888,
              "#fdca26"
             ],
             [
              1,
              "#f0f921"
             ]
            ],
            "type": "surface"
           }
          ],
          "table": [
           {
            "cells": {
             "fill": {
              "color": "#EBF0F8"
             },
             "line": {
              "color": "white"
             }
            },
            "header": {
             "fill": {
              "color": "#C8D4E3"
             },
             "line": {
              "color": "white"
             }
            },
            "type": "table"
           }
          ]
         },
         "layout": {
          "annotationdefaults": {
           "arrowcolor": "#2a3f5f",
           "arrowhead": 0,
           "arrowwidth": 1
          },
          "autotypenumbers": "strict",
          "coloraxis": {
           "colorbar": {
            "outlinewidth": 0,
            "ticks": ""
           }
          },
          "colorscale": {
           "diverging": [
            [
             0,
             "#8e0152"
            ],
            [
             0.1,
             "#c51b7d"
            ],
            [
             0.2,
             "#de77ae"
            ],
            [
             0.3,
             "#f1b6da"
            ],
            [
             0.4,
             "#fde0ef"
            ],
            [
             0.5,
             "#f7f7f7"
            ],
            [
             0.6,
             "#e6f5d0"
            ],
            [
             0.7,
             "#b8e186"
            ],
            [
             0.8,
             "#7fbc41"
            ],
            [
             0.9,
             "#4d9221"
            ],
            [
             1,
             "#276419"
            ]
           ],
           "sequential": [
            [
             0,
             "#0d0887"
            ],
            [
             0.1111111111111111,
             "#46039f"
            ],
            [
             0.2222222222222222,
             "#7201a8"
            ],
            [
             0.3333333333333333,
             "#9c179e"
            ],
            [
             0.4444444444444444,
             "#bd3786"
            ],
            [
             0.5555555555555556,
             "#d8576b"
            ],
            [
             0.6666666666666666,
             "#ed7953"
            ],
            [
             0.7777777777777778,
             "#fb9f3a"
            ],
            [
             0.8888888888888888,
             "#fdca26"
            ],
            [
             1,
             "#f0f921"
            ]
           ],
           "sequentialminus": [
            [
             0,
             "#0d0887"
            ],
            [
             0.1111111111111111,
             "#46039f"
            ],
            [
             0.2222222222222222,
             "#7201a8"
            ],
            [
             0.3333333333333333,
             "#9c179e"
            ],
            [
             0.4444444444444444,
             "#bd3786"
            ],
            [
             0.5555555555555556,
             "#d8576b"
            ],
            [
             0.6666666666666666,
             "#ed7953"
            ],
            [
             0.7777777777777778,
             "#fb9f3a"
            ],
            [
             0.8888888888888888,
             "#fdca26"
            ],
            [
             1,
             "#f0f921"
            ]
           ]
          },
          "colorway": [
           "#636efa",
           "#EF553B",
           "#00cc96",
           "#ab63fa",
           "#FFA15A",
           "#19d3f3",
           "#FF6692",
           "#B6E880",
           "#FF97FF",
           "#FECB52"
          ],
          "font": {
           "color": "#2a3f5f"
          },
          "geo": {
           "bgcolor": "white",
           "lakecolor": "white",
           "landcolor": "#E5ECF6",
           "showlakes": true,
           "showland": true,
           "subunitcolor": "white"
          },
          "hoverlabel": {
           "align": "left"
          },
          "hovermode": "closest",
          "mapbox": {
           "style": "light"
          },
          "paper_bgcolor": "white",
          "plot_bgcolor": "#E5ECF6",
          "polar": {
           "angularaxis": {
            "gridcolor": "white",
            "linecolor": "white",
            "ticks": ""
           },
           "bgcolor": "#E5ECF6",
           "radialaxis": {
            "gridcolor": "white",
            "linecolor": "white",
            "ticks": ""
           }
          },
          "scene": {
           "xaxis": {
            "backgroundcolor": "#E5ECF6",
            "gridcolor": "white",
            "gridwidth": 2,
            "linecolor": "white",
            "showbackground": true,
            "ticks": "",
            "zerolinecolor": "white"
           },
           "yaxis": {
            "backgroundcolor": "#E5ECF6",
            "gridcolor": "white",
            "gridwidth": 2,
            "linecolor": "white",
            "showbackground": true,
            "ticks": "",
            "zerolinecolor": "white"
           },
           "zaxis": {
            "backgroundcolor": "#E5ECF6",
            "gridcolor": "white",
            "gridwidth": 2,
            "linecolor": "white",
            "showbackground": true,
            "ticks": "",
            "zerolinecolor": "white"
           }
          },
          "shapedefaults": {
           "line": {
            "color": "#2a3f5f"
           }
          },
          "ternary": {
           "aaxis": {
            "gridcolor": "white",
            "linecolor": "white",
            "ticks": ""
           },
           "baxis": {
            "gridcolor": "white",
            "linecolor": "white",
            "ticks": ""
           },
           "bgcolor": "#E5ECF6",
           "caxis": {
            "gridcolor": "white",
            "linecolor": "white",
            "ticks": ""
           }
          },
          "title": {
           "x": 0.05
          },
          "xaxis": {
           "automargin": true,
           "gridcolor": "white",
           "linecolor": "white",
           "ticks": "",
           "title": {
            "standoff": 15
           },
           "zerolinecolor": "white",
           "zerolinewidth": 2
          },
          "yaxis": {
           "automargin": true,
           "gridcolor": "white",
           "linecolor": "white",
           "ticks": "",
           "title": {
            "standoff": 15
           },
           "zerolinecolor": "white",
           "zerolinewidth": 2
          }
         }
        },
        "title": {
         "text": "Parallel Coordinate Plot"
        }
       }
      },
      "text/html": [
       "<div>                            <div id=\"c56bfc22-9ba2-450b-b6c6-816409a365fa\" class=\"plotly-graph-div\" style=\"height:525px; width:100%;\"></div>            <script type=\"text/javascript\">                require([\"plotly\"], function(Plotly) {                    window.PLOTLYENV=window.PLOTLYENV || {};                                    if (document.getElementById(\"c56bfc22-9ba2-450b-b6c6-816409a365fa\")) {                    Plotly.newPlot(                        \"c56bfc22-9ba2-450b-b6c6-816409a365fa\",                        [{\"dimensions\":[{\"label\":\"Objective Value\",\"range\":[0.0029400924686342478,0.024662869051098824],\"values\":[0.0029814683366566896,0.0037844236940145493,0.003591281594708562,0.011536046862602234,0.003292193403467536,0.003434315789490938,0.01094723679125309,0.003533497452735901,0.003422937821596861,0.003324439050629735,0.003537513315677643,0.0035101997200399637,0.0036333054304122925,0.0032988020684570074,0.0032520988024771214,0.0033621315378695726,0.0031792798545211554,0.0032558238599449396,0.003594357520341873,0.003611976047977805,0.003977199550718069,0.0035390877164900303,0.003187931841239333,0.005001144949346781,0.0034194495528936386,0.024662869051098824,0.0033703616354614496,0.0033143735490739346,0.0032309081871062517,0.003129195421934128,0.0030373316258192062,0.003600777592509985,0.02379225566983223,0.0035533872433006763,0.0030743153765797615,0.003464996349066496,0.0031252531334757805,0.0032015929464250803,0.00328590115532279,0.0037336370442062616,0.0032299195881932974,0.003513467963784933,0.00334888300858438,0.003169152420014143,0.003291683504357934,0.002999398158863187,0.0030704662203788757,0.0032989869359880686,0.003390796948224306,0.0033495735842734575,0.003567533567547798,0.0040596420876681805,0.003433185163885355,0.0032345091458410025,0.0031388727948069572,0.0031497697345912457,0.0033188899978995323,0.0036617438308894634,0.0033481833525002003,0.003849779022857547,0.0029660393483936787,0.0031864994671195745,0.003107530064880848,0.0032460349611938,0.0035128998570144176,0.0031520752236247063,0.0030057141557335854,0.0032417161855846643,0.0031879073940217495,0.003094143234193325,0.00324104237370193,0.0032955450005829334,0.003502369625493884,0.003266365500167012,0.0036310527939349413,0.003054284956306219,0.0029653108213096857,0.0030152772087603807,0.0029629573691636324,0.0029741497710347176,0.003042275784537196,0.0032336506992578506,0.0036555372644215822,0.003223195904865861,0.003118524793535471,0.0029692428652197123,0.0032126642763614655,0.002993231173604727,0.003547429572790861,0.00335173262283206,0.003390202997252345,0.0034595585893839598,0.0029400924686342478,0.002978673204779625,0.0031734684016555548,0.0031267039012163877,0.003167522605508566,0.0032068551518023014,0.003495135111734271,0.0031999184284359217]},{\"label\":\"amsgrad\",\"range\":[0,1],\"ticktext\":[false,true],\"tickvals\":[0,1],\"values\":[1,0,1,1,0,0,1,1,1,1,1,1,1,1,1,1,1,1,0,1,0,0,0,1,0,0,0,1,1,1,1,0,1,1,1,1,1,1,1,1,1,1,1,1,1,1,1,1,1,1,1,1,1,1,1,1,1,1,0,1,1,1,1,1,0,1,1,1,1,1,1,1,0,1,1,1,1,1,1,1,1,1,1,1,1,1,1,1,0,1,1,1,1,1,1,1,1,1,1,0]},{\"label\":\"beta1\",\"range\":[0.2039211797096302,0.8910536668544522],\"values\":[0.5344414150831682,0.6614147864268851,0.5755487829378834,0.23746358761647124,0.44360364836365407,0.4900568145286248,0.37986880577091664,0.7360270953258202,0.6029276240599939,0.5816137773866517,0.3870911166254209,0.4188840646512107,0.5989043130040715,0.4389683556853756,0.3522576073887633,0.49364249571426194,0.5017659443305181,0.6135458744723974,0.3585904718224062,0.6859799051377495,0.48445616925353285,0.8401684736292394,0.46280733656430384,0.3443387650311436,0.25950885155252684,0.5781680313348522,0.46808937516940646,0.6323570990712934,0.49125293491566097,0.5777436705455553,0.5435111885695504,0.6293819698790448,0.833665253823815,0.8177904094044417,0.515675803593862,0.754814600800381,0.5196846896053275,0.5410145962747335,0.5403258878727248,0.40117071932374004,0.6187961346894797,0.3126081399862608,0.5204995755898456,0.43454466266267666,0.708195122885031,0.42700950119533215,0.5129703824064621,0.4133937101652785,0.3248453919771209,0.48397610550506176,0.6760414618581845,0.48502368515742933,0.6473919937832725,0.5134047225435476,0.5527361689338778,0.8910536668544522,0.4519323900696414,0.508104635884911,0.5577362788300065,0.5473158291094574,0.5188507539780817,0.5130686084386719,0.45495323741098276,0.37040298038087,0.279385077607154,0.46515628600599984,0.528513552766742,0.5659940308481821,0.5312646040805247,0.4282372068781548,0.4252543191428932,0.2039211797096302,0.4005534650342563,0.5940495922978308,0.5323802205964704,0.46134599144598554,0.4703118969186936,0.49947309124868133,0.47469913669995156,0.4706351979972784,0.4743260003813615,0.48960663628243434,0.4048099842162281,0.47051630931213534,0.4761361298274451,0.443790504691365,0.4450061218435585,0.538054949405586,0.536020854192352,0.38953796114673184,0.5562251233707506,0.43905051213362484,0.5076397726936703,0.5288327814655176,0.5194199946746292,0.5687219653875598,0.37210304421573437,0.4526711799484167,0.5068137364057428,0.589462410769616]},{\"label\":\"beta2\",\"range\":[-0.04571296119255381,-0.0006725701100290386],\"ticktext\":[\"0.9\",\"0.998\"],\"tickvals\":[-0.04571296119255381,-0.0006725701100290386],\"values\":[-0.03597694469024769,-0.016797470495479715,-0.019423894532464122,-0.0031490519540648765,-0.03698163293109865,-0.012576258334562197,-0.0382293931075701,-0.033737365614351145,-0.035180037643382484,-0.016870297301281017,-0.016509914815716682,-0.044696829312862923,-0.017898209613099937,-0.023920207922890617,-0.03646987323246788,-0.038063897759264935,-0.029078839864658403,-0.030815307849321513,-0.03519321683025878,-0.03215775315747658,-0.02028275632516586,-0.0425991777085692,-0.0387342473212051,-0.027976200478026098,-0.027075840219739793,-0.04131140916839981,-0.028112331630133394,-0.043152484965864726,-0.021682109976857388,-0.03825680489381692,-0.03485218585701281,-0.04239240021303116,-0.027874775164712644,-0.04571296119255381,-0.030799966791564284,-0.012021925518784561,-0.032473896586082254,-0.030891605516775614,-0.02445435490868872,-0.03135153821484076,-0.02530677395648472,-0.029940851114124804,-0.034758426547085185,-0.023132697091262037,-0.0006725701100290386,-0.02278404136667442,-0.02056613726754916,-0.01395743772426616,-0.01980367861667637,-0.00819193529156595,-0.02201462868809247,-0.028938723916971908,-0.022612301912457236,-0.026080724486096413,-0.032903831202631524,-0.032355739262355576,-0.039894009171250494,-0.03661763644787614,-0.020502928965187062,-0.03382825322576498,-0.03292362026779264,-0.037083126549303805,-0.029926641038014106,-0.029932903096971466,-0.0262308588409787,-0.039676067834353526,-0.03172484658927412,-0.030880306213029705,-0.02860743466364398,-0.03425814667331498,-0.03436759981857578,-0.0355003220830964,-0.04112482952736585,-0.026790311451676763,-0.02508712453250154,-0.031511055855767134,-0.03188487203600203,-0.0322379395446733,-0.0318713888146196,-0.03569186603410019,-0.03288676601761582,-0.0356122281056797,-0.032776639044364654,-0.03328583561584252,-0.032138884177662155,-0.03503504775615732,-0.03627360535882152,-0.03483333162312839,-0.03962905568329029,-0.03473028510985406,-0.037238050818869994,-0.04096951613498,-0.0355167823932016,-0.03541893228429493,-0.03880995651293616,-0.03555725416684132,-0.037335084156782126,-0.033709248528849975,-0.027613516802353334,-0.035909144174631875]},{\"label\":\"l2\",\"range\":[-5.992799228784579,-2.106944639771884],\"ticktext\":[\"1.02e-06\",\"1e-05\",\"0.0001\",\"0.001\",\"0.00782\"],\"tickvals\":[-5.992799228784579,-5,-4,-3,-2.106944639771884],\"values\":[-3.4724454032166188,-5.9737511070652864,-3.0143469686096935,-4.611143906751132,-4.565995666614764,-4.289171605258011,-5.137442451408173,-3.9591432068291526,-5.835581919000173,-5.678173426249528,-3.996108840660015,-3.707607134281769,-4.18883315389502,-5.8900626524945485,-3.2960551392231596,-5.522059974024688,-5.740632132106022,-5.182733193918737,-5.646119096420342,-5.570206664117178,-3.7954122366352196,-3.448629270922654,-4.421524334367218,-4.615520653611399,-2.20944458728826,-2.913428544993261,-5.2586675517678705,-4.919776567791844,-2.782280918323869,-5.917545334463201,-5.652233175883016,-3.016989945140554,-2.106944639771884,-3.3836122254775685,-5.039265180818758,-5.1358692083984305,-5.0538284617421985,-5.06605854375316,-4.9915383158046165,-3.6821666340218404,-5.489680139044211,-2.6268426215177727,-4.155135449705566,-4.93910885921911,-5.38200587492498,-4.9881405660749945,-5.326546434484661,-5.690942093727852,-5.366705794881212,-4.821792493361793,-3.4882039150515425,-5.274658763850339,-3.237305724019139,-4.731521127769433,-5.992799228784579,-4.387162515495305,-4.815763183580676,-5.559151613733307,-4.524622090393378,-5.707746676476546,-5.971204928246673,-5.21267280731085,-5.817141515172877,-5.841808868659757,-5.459999897065613,-5.617665044147759,-5.771050195935902,-5.986455367853008,-5.79054120981506,-5.468837418864128,-5.397476838142142,-5.583169163154963,-5.130006918741043,-5.288323929904418,-3.525456012608746,-5.772213378948286,-5.7010950803930465,-5.743387569242643,-5.7090343991743335,-5.746267100314318,-5.891093577451931,-5.685003467536851,-2.440816073554829,-3.8550765288297693,-5.979780967886348,-5.613199833623421,-5.608131693227363,-5.432044134756232,-5.447137936143773,-3.0854332540274956,-5.5721872666363845,-5.650933798512674,-5.7700290167631945,-5.8808217299606165,-5.9057512462405075,-5.348777331684143,-5.853273873408166,-5.5136741554499284,-5.931059984536727,-5.820594743896029]},{\"label\":\"layers\",\"range\":[2,5],\"values\":[4,2,3,5,4,4,5,3,4,5,5,4,4,4,3,5,4,4,3,3,4,2,4,4,4,5,5,5,4,4,4,2,5,2,4,3,4,4,4,5,4,3,4,5,3,5,5,5,5,5,5,5,4,4,4,4,3,2,4,4,4,4,4,3,5,4,4,4,4,4,4,5,2,4,3,4,4,4,4,4,4,4,4,4,4,4,4,4,4,4,3,4,4,4,4,4,4,4,4,4]},{\"label\":\"lr\",\"range\":[-4.913685904763692,-1.0613391964409222],\"ticktext\":[\"1.22e-05\",\"0.0001\",\"0.001\",\"0.01\",\"0.0868\"],\"tickvals\":[-4.913685904763692,-4,-3,-2,-1.0613391964409222],\"values\":[-3.1290167859904767,-3.4741828856674375,-1.369395005920043,-4.4314639470362,-2.6679860928601746,-2.737476713296934,-4.316412787758286,-2.9955385707340527,-3.2795533399793446,-2.5804089988615595,-2.7861179106563205,-1.8041998811235105,-2.840237899316509,-2.6346012199060374,-2.288519632070658,-3.2802114964815927,-2.0817269384474364,-1.97516630529129,-3.2429361750879226,-1.0613391964409222,-1.6002309170874274,-3.6108605603731068,-3.864856287907198,-4.072397754195013,-3.8106414083770415,-4.8845363698557005,-3.5689844480319195,-3.7461077520170663,-3.005876459845754,-1.9450542613037987,-1.9161950397744067,-2.0248266798509578,-4.913685904763692,-1.9887257419246847,-2.5461517661840722,-2.356350481104718,-3.1781837262279122,-3.0434772369830796,-2.2799384767905058,-2.694401068992746,-3.1806175095711526,-3.3980722373769687,-2.8935906615242644,-2.45833781323465,-2.0037146058592983,-2.418650767972499,-2.434803034563373,-2.417179914860155,-1.655287059837556,-2.1575843861965716,-1.7998560471675205,-1.0643636748687073,-2.1417845992899243,-3.1227679388553566,-3.530415402221371,-2.490747515921975,-2.9600665019182544,-3.313713564693113,-2.2861483705899164,-4.047458883525683,-2.6071255044340242,-2.581746449264458,-2.6839124172415634,-2.1639452957007546,-1.8936493260804048,-2.778682844366597,-3.153829434715997,-2.544838368101127,-2.708496690182401,-2.8665284828804256,-3.4015548279999033,-2.885358607778588,-3.078359181485131,-2.4098988671498938,-2.8420656965881537,-2.7007378587490347,-2.1061230947786584,-2.057202233552314,-2.1151863675809928,-2.0950012471488697,-2.1228281195520964,-1.50489780531348,-1.6987733900097357,-2.204279317297955,-2.0435999465443833,-2.341378408228179,-2.333393354873248,-1.8209063073988567,-1.5208002780636696,-1.8856724998307994,-1.7705393951995194,-1.249000192455962,-2.265560834393822,-2.2559477216173582,-2.2010030969129244,-2.491639454254563,-2.244275764388477,-2.3678988083425327,-1.8171588968386152,-2.31824714181374]},{\"label\":\"ngf\",\"range\":[0,2],\"ticktext\":[16,32,64],\"tickvals\":[0,1,2],\"values\":[0,0,0,0,0,0,0,0,0,0,0,0,0,0,0,0,0,0,1,1,1,1,1,1,1,1,1,1,1,1,1,2,2,2,2,2,2,2,2,2,2,2,2,2,2,2,2,2,2,2,2,2,2,2,2,2,2,2,2,2,2,2,2,2,2,2,2,2,2,2,2,2,2,2,2,2,2,2,2,2,2,2,2,2,2,2,2,2,2,2,2,2,2,2,2,2,2,2,2,2]},{\"label\":\"nz\",\"range\":[10,192],\"values\":[70,173,191,20,53,83,21,127,96,123,40,162,69,82,88,71,108,107,87,62,151,109,105,112,50,86,81,116,76,98,115,146,148,192,72,41,92,62,79,33,67,99,128,72,33,73,74,54,75,62,10,75,87,91,113,64,100,55,93,140,103,106,84,47,62,103,94,69,119,59,59,45,57,184,79,86,96,95,98,109,110,136,95,123,112,104,99,103,103,130,90,118,94,102,101,113,105,90,122,109]}],\"labelangle\":30,\"labelside\":\"bottom\",\"line\":{\"color\":[0.0029814683366566896,0.0037844236940145493,0.003591281594708562,0.011536046862602234,0.003292193403467536,0.003434315789490938,0.01094723679125309,0.003533497452735901,0.003422937821596861,0.003324439050629735,0.003537513315677643,0.0035101997200399637,0.0036333054304122925,0.0032988020684570074,0.0032520988024771214,0.0033621315378695726,0.0031792798545211554,0.0032558238599449396,0.003594357520341873,0.003611976047977805,0.003977199550718069,0.0035390877164900303,0.003187931841239333,0.005001144949346781,0.0034194495528936386,0.024662869051098824,0.0033703616354614496,0.0033143735490739346,0.0032309081871062517,0.003129195421934128,0.0030373316258192062,0.003600777592509985,0.02379225566983223,0.0035533872433006763,0.0030743153765797615,0.003464996349066496,0.0031252531334757805,0.0032015929464250803,0.00328590115532279,0.0037336370442062616,0.0032299195881932974,0.003513467963784933,0.00334888300858438,0.003169152420014143,0.003291683504357934,0.002999398158863187,0.0030704662203788757,0.0032989869359880686,0.003390796948224306,0.0033495735842734575,0.003567533567547798,0.0040596420876681805,0.003433185163885355,0.0032345091458410025,0.0031388727948069572,0.0031497697345912457,0.0033188899978995323,0.0036617438308894634,0.0033481833525002003,0.003849779022857547,0.0029660393483936787,0.0031864994671195745,0.003107530064880848,0.0032460349611938,0.0035128998570144176,0.0031520752236247063,0.0030057141557335854,0.0032417161855846643,0.0031879073940217495,0.003094143234193325,0.00324104237370193,0.0032955450005829334,0.003502369625493884,0.003266365500167012,0.0036310527939349413,0.003054284956306219,0.0029653108213096857,0.0030152772087603807,0.0029629573691636324,0.0029741497710347176,0.003042275784537196,0.0032336506992578506,0.0036555372644215822,0.003223195904865861,0.003118524793535471,0.0029692428652197123,0.0032126642763614655,0.002993231173604727,0.003547429572790861,0.00335173262283206,0.003390202997252345,0.0034595585893839598,0.0029400924686342478,0.002978673204779625,0.0031734684016555548,0.0031267039012163877,0.003167522605508566,0.0032068551518023014,0.003495135111734271,0.0031999184284359217],\"colorbar\":{\"title\":{\"text\":\"Objective Value\"}},\"colorscale\":[[0.0,\"rgb(247,251,255)\"],[0.125,\"rgb(222,235,247)\"],[0.25,\"rgb(198,219,239)\"],[0.375,\"rgb(158,202,225)\"],[0.5,\"rgb(107,174,214)\"],[0.625,\"rgb(66,146,198)\"],[0.75,\"rgb(33,113,181)\"],[0.875,\"rgb(8,81,156)\"],[1.0,\"rgb(8,48,107)\"]],\"reversescale\":true,\"showscale\":true},\"type\":\"parcoords\"}],                        {\"title\":{\"text\":\"Parallel Coordinate Plot\"},\"template\":{\"data\":{\"bar\":[{\"error_x\":{\"color\":\"#2a3f5f\"},\"error_y\":{\"color\":\"#2a3f5f\"},\"marker\":{\"line\":{\"color\":\"#E5ECF6\",\"width\":0.5},\"pattern\":{\"fillmode\":\"overlay\",\"size\":10,\"solidity\":0.2}},\"type\":\"bar\"}],\"barpolar\":[{\"marker\":{\"line\":{\"color\":\"#E5ECF6\",\"width\":0.5},\"pattern\":{\"fillmode\":\"overlay\",\"size\":10,\"solidity\":0.2}},\"type\":\"barpolar\"}],\"carpet\":[{\"aaxis\":{\"endlinecolor\":\"#2a3f5f\",\"gridcolor\":\"white\",\"linecolor\":\"white\",\"minorgridcolor\":\"white\",\"startlinecolor\":\"#2a3f5f\"},\"baxis\":{\"endlinecolor\":\"#2a3f5f\",\"gridcolor\":\"white\",\"linecolor\":\"white\",\"minorgridcolor\":\"white\",\"startlinecolor\":\"#2a3f5f\"},\"type\":\"carpet\"}],\"choropleth\":[{\"colorbar\":{\"outlinewidth\":0,\"ticks\":\"\"},\"type\":\"choropleth\"}],\"contour\":[{\"colorbar\":{\"outlinewidth\":0,\"ticks\":\"\"},\"colorscale\":[[0.0,\"#0d0887\"],[0.1111111111111111,\"#46039f\"],[0.2222222222222222,\"#7201a8\"],[0.3333333333333333,\"#9c179e\"],[0.4444444444444444,\"#bd3786\"],[0.5555555555555556,\"#d8576b\"],[0.6666666666666666,\"#ed7953\"],[0.7777777777777778,\"#fb9f3a\"],[0.8888888888888888,\"#fdca26\"],[1.0,\"#f0f921\"]],\"type\":\"contour\"}],\"contourcarpet\":[{\"colorbar\":{\"outlinewidth\":0,\"ticks\":\"\"},\"type\":\"contourcarpet\"}],\"heatmap\":[{\"colorbar\":{\"outlinewidth\":0,\"ticks\":\"\"},\"colorscale\":[[0.0,\"#0d0887\"],[0.1111111111111111,\"#46039f\"],[0.2222222222222222,\"#7201a8\"],[0.3333333333333333,\"#9c179e\"],[0.4444444444444444,\"#bd3786\"],[0.5555555555555556,\"#d8576b\"],[0.6666666666666666,\"#ed7953\"],[0.7777777777777778,\"#fb9f3a\"],[0.8888888888888888,\"#fdca26\"],[1.0,\"#f0f921\"]],\"type\":\"heatmap\"}],\"heatmapgl\":[{\"colorbar\":{\"outlinewidth\":0,\"ticks\":\"\"},\"colorscale\":[[0.0,\"#0d0887\"],[0.1111111111111111,\"#46039f\"],[0.2222222222222222,\"#7201a8\"],[0.3333333333333333,\"#9c179e\"],[0.4444444444444444,\"#bd3786\"],[0.5555555555555556,\"#d8576b\"],[0.6666666666666666,\"#ed7953\"],[0.7777777777777778,\"#fb9f3a\"],[0.8888888888888888,\"#fdca26\"],[1.0,\"#f0f921\"]],\"type\":\"heatmapgl\"}],\"histogram\":[{\"marker\":{\"pattern\":{\"fillmode\":\"overlay\",\"size\":10,\"solidity\":0.2}},\"type\":\"histogram\"}],\"histogram2d\":[{\"colorbar\":{\"outlinewidth\":0,\"ticks\":\"\"},\"colorscale\":[[0.0,\"#0d0887\"],[0.1111111111111111,\"#46039f\"],[0.2222222222222222,\"#7201a8\"],[0.3333333333333333,\"#9c179e\"],[0.4444444444444444,\"#bd3786\"],[0.5555555555555556,\"#d8576b\"],[0.6666666666666666,\"#ed7953\"],[0.7777777777777778,\"#fb9f3a\"],[0.8888888888888888,\"#fdca26\"],[1.0,\"#f0f921\"]],\"type\":\"histogram2d\"}],\"histogram2dcontour\":[{\"colorbar\":{\"outlinewidth\":0,\"ticks\":\"\"},\"colorscale\":[[0.0,\"#0d0887\"],[0.1111111111111111,\"#46039f\"],[0.2222222222222222,\"#7201a8\"],[0.3333333333333333,\"#9c179e\"],[0.4444444444444444,\"#bd3786\"],[0.5555555555555556,\"#d8576b\"],[0.6666666666666666,\"#ed7953\"],[0.7777777777777778,\"#fb9f3a\"],[0.8888888888888888,\"#fdca26\"],[1.0,\"#f0f921\"]],\"type\":\"histogram2dcontour\"}],\"mesh3d\":[{\"colorbar\":{\"outlinewidth\":0,\"ticks\":\"\"},\"type\":\"mesh3d\"}],\"parcoords\":[{\"line\":{\"colorbar\":{\"outlinewidth\":0,\"ticks\":\"\"}},\"type\":\"parcoords\"}],\"pie\":[{\"automargin\":true,\"type\":\"pie\"}],\"scatter\":[{\"marker\":{\"colorbar\":{\"outlinewidth\":0,\"ticks\":\"\"}},\"type\":\"scatter\"}],\"scatter3d\":[{\"line\":{\"colorbar\":{\"outlinewidth\":0,\"ticks\":\"\"}},\"marker\":{\"colorbar\":{\"outlinewidth\":0,\"ticks\":\"\"}},\"type\":\"scatter3d\"}],\"scattercarpet\":[{\"marker\":{\"colorbar\":{\"outlinewidth\":0,\"ticks\":\"\"}},\"type\":\"scattercarpet\"}],\"scattergeo\":[{\"marker\":{\"colorbar\":{\"outlinewidth\":0,\"ticks\":\"\"}},\"type\":\"scattergeo\"}],\"scattergl\":[{\"marker\":{\"colorbar\":{\"outlinewidth\":0,\"ticks\":\"\"}},\"type\":\"scattergl\"}],\"scattermapbox\":[{\"marker\":{\"colorbar\":{\"outlinewidth\":0,\"ticks\":\"\"}},\"type\":\"scattermapbox\"}],\"scatterpolar\":[{\"marker\":{\"colorbar\":{\"outlinewidth\":0,\"ticks\":\"\"}},\"type\":\"scatterpolar\"}],\"scatterpolargl\":[{\"marker\":{\"colorbar\":{\"outlinewidth\":0,\"ticks\":\"\"}},\"type\":\"scatterpolargl\"}],\"scatterternary\":[{\"marker\":{\"colorbar\":{\"outlinewidth\":0,\"ticks\":\"\"}},\"type\":\"scatterternary\"}],\"surface\":[{\"colorbar\":{\"outlinewidth\":0,\"ticks\":\"\"},\"colorscale\":[[0.0,\"#0d0887\"],[0.1111111111111111,\"#46039f\"],[0.2222222222222222,\"#7201a8\"],[0.3333333333333333,\"#9c179e\"],[0.4444444444444444,\"#bd3786\"],[0.5555555555555556,\"#d8576b\"],[0.6666666666666666,\"#ed7953\"],[0.7777777777777778,\"#fb9f3a\"],[0.8888888888888888,\"#fdca26\"],[1.0,\"#f0f921\"]],\"type\":\"surface\"}],\"table\":[{\"cells\":{\"fill\":{\"color\":\"#EBF0F8\"},\"line\":{\"color\":\"white\"}},\"header\":{\"fill\":{\"color\":\"#C8D4E3\"},\"line\":{\"color\":\"white\"}},\"type\":\"table\"}]},\"layout\":{\"annotationdefaults\":{\"arrowcolor\":\"#2a3f5f\",\"arrowhead\":0,\"arrowwidth\":1},\"autotypenumbers\":\"strict\",\"coloraxis\":{\"colorbar\":{\"outlinewidth\":0,\"ticks\":\"\"}},\"colorscale\":{\"diverging\":[[0,\"#8e0152\"],[0.1,\"#c51b7d\"],[0.2,\"#de77ae\"],[0.3,\"#f1b6da\"],[0.4,\"#fde0ef\"],[0.5,\"#f7f7f7\"],[0.6,\"#e6f5d0\"],[0.7,\"#b8e186\"],[0.8,\"#7fbc41\"],[0.9,\"#4d9221\"],[1,\"#276419\"]],\"sequential\":[[0.0,\"#0d0887\"],[0.1111111111111111,\"#46039f\"],[0.2222222222222222,\"#7201a8\"],[0.3333333333333333,\"#9c179e\"],[0.4444444444444444,\"#bd3786\"],[0.5555555555555556,\"#d8576b\"],[0.6666666666666666,\"#ed7953\"],[0.7777777777777778,\"#fb9f3a\"],[0.8888888888888888,\"#fdca26\"],[1.0,\"#f0f921\"]],\"sequentialminus\":[[0.0,\"#0d0887\"],[0.1111111111111111,\"#46039f\"],[0.2222222222222222,\"#7201a8\"],[0.3333333333333333,\"#9c179e\"],[0.4444444444444444,\"#bd3786\"],[0.5555555555555556,\"#d8576b\"],[0.6666666666666666,\"#ed7953\"],[0.7777777777777778,\"#fb9f3a\"],[0.8888888888888888,\"#fdca26\"],[1.0,\"#f0f921\"]]},\"colorway\":[\"#636efa\",\"#EF553B\",\"#00cc96\",\"#ab63fa\",\"#FFA15A\",\"#19d3f3\",\"#FF6692\",\"#B6E880\",\"#FF97FF\",\"#FECB52\"],\"font\":{\"color\":\"#2a3f5f\"},\"geo\":{\"bgcolor\":\"white\",\"lakecolor\":\"white\",\"landcolor\":\"#E5ECF6\",\"showlakes\":true,\"showland\":true,\"subunitcolor\":\"white\"},\"hoverlabel\":{\"align\":\"left\"},\"hovermode\":\"closest\",\"mapbox\":{\"style\":\"light\"},\"paper_bgcolor\":\"white\",\"plot_bgcolor\":\"#E5ECF6\",\"polar\":{\"angularaxis\":{\"gridcolor\":\"white\",\"linecolor\":\"white\",\"ticks\":\"\"},\"bgcolor\":\"#E5ECF6\",\"radialaxis\":{\"gridcolor\":\"white\",\"linecolor\":\"white\",\"ticks\":\"\"}},\"scene\":{\"xaxis\":{\"backgroundcolor\":\"#E5ECF6\",\"gridcolor\":\"white\",\"gridwidth\":2,\"linecolor\":\"white\",\"showbackground\":true,\"ticks\":\"\",\"zerolinecolor\":\"white\"},\"yaxis\":{\"backgroundcolor\":\"#E5ECF6\",\"gridcolor\":\"white\",\"gridwidth\":2,\"linecolor\":\"white\",\"showbackground\":true,\"ticks\":\"\",\"zerolinecolor\":\"white\"},\"zaxis\":{\"backgroundcolor\":\"#E5ECF6\",\"gridcolor\":\"white\",\"gridwidth\":2,\"linecolor\":\"white\",\"showbackground\":true,\"ticks\":\"\",\"zerolinecolor\":\"white\"}},\"shapedefaults\":{\"line\":{\"color\":\"#2a3f5f\"}},\"ternary\":{\"aaxis\":{\"gridcolor\":\"white\",\"linecolor\":\"white\",\"ticks\":\"\"},\"baxis\":{\"gridcolor\":\"white\",\"linecolor\":\"white\",\"ticks\":\"\"},\"bgcolor\":\"#E5ECF6\",\"caxis\":{\"gridcolor\":\"white\",\"linecolor\":\"white\",\"ticks\":\"\"}},\"title\":{\"x\":0.05},\"xaxis\":{\"automargin\":true,\"gridcolor\":\"white\",\"linecolor\":\"white\",\"ticks\":\"\",\"title\":{\"standoff\":15},\"zerolinecolor\":\"white\",\"zerolinewidth\":2},\"yaxis\":{\"automargin\":true,\"gridcolor\":\"white\",\"linecolor\":\"white\",\"ticks\":\"\",\"title\":{\"standoff\":15},\"zerolinecolor\":\"white\",\"zerolinewidth\":2}}}},                        {\"responsive\": true}                    ).then(function(){\n",
       "                            \n",
       "var gd = document.getElementById('c56bfc22-9ba2-450b-b6c6-816409a365fa');\n",
       "var x = new MutationObserver(function (mutations, observer) {{\n",
       "        var display = window.getComputedStyle(gd).display;\n",
       "        if (!display || display === 'none') {{\n",
       "            console.log([gd, 'removed!']);\n",
       "            Plotly.purge(gd);\n",
       "            observer.disconnect();\n",
       "        }}\n",
       "}});\n",
       "\n",
       "// Listen for the removal of the full notebook cells\n",
       "var notebookContainer = gd.closest('#notebook-container');\n",
       "if (notebookContainer) {{\n",
       "    x.observe(notebookContainer, {childList: true});\n",
       "}}\n",
       "\n",
       "// Listen for the clearing of the current output cell\n",
       "var outputEl = gd.closest('.output');\n",
       "if (outputEl) {{\n",
       "    x.observe(outputEl, {childList: true});\n",
       "}}\n",
       "\n",
       "                        })                };                });            </script>        </div>"
      ]
     },
     "metadata": {},
     "output_type": "display_data"
    }
   ],
   "source": [
    "optuna.visualization.plot_parallel_coordinate(study)\n"
   ]
  },
  {
   "cell_type": "code",
   "execution_count": 93,
   "metadata": {},
   "outputs": [
    {
     "ename": "ImportError",
     "evalue": "Tried to import 'sklearn' but failed. Please make sure that the package is installed correctly to use this feature. Actual error: No module named 'sklearn'.",
     "output_type": "error",
     "traceback": [
      "\u001b[0;31m---------------------------------------------------------------------------\u001b[0m",
      "\u001b[0;31mModuleNotFoundError\u001b[0m                       Traceback (most recent call last)",
      "\u001b[0;32m~/anaconda3/envs/pytorch3d/lib/python3.8/site-packages/optuna/importance/_fanova/_fanova.py\u001b[0m in \u001b[0;36m<module>\u001b[0;34m\u001b[0m\n\u001b[1;32m     35\u001b[0m \u001b[0;32mwith\u001b[0m \u001b[0mtry_import\u001b[0m\u001b[0;34m(\u001b[0m\u001b[0;34m)\u001b[0m \u001b[0;32mas\u001b[0m \u001b[0m_imports\u001b[0m\u001b[0;34m:\u001b[0m\u001b[0;34m\u001b[0m\u001b[0;34m\u001b[0m\u001b[0m\n\u001b[0;32m---> 36\u001b[0;31m     \u001b[0;32mfrom\u001b[0m \u001b[0msklearn\u001b[0m\u001b[0;34m.\u001b[0m\u001b[0mensemble\u001b[0m \u001b[0;32mimport\u001b[0m \u001b[0mRandomForestRegressor\u001b[0m\u001b[0;34m\u001b[0m\u001b[0;34m\u001b[0m\u001b[0m\n\u001b[0m\u001b[1;32m     37\u001b[0m \u001b[0;34m\u001b[0m\u001b[0m\n",
      "\u001b[0;31mModuleNotFoundError\u001b[0m: No module named 'sklearn'",
      "\nThe above exception was the direct cause of the following exception:\n",
      "\u001b[0;31mImportError\u001b[0m                               Traceback (most recent call last)",
      "\u001b[0;32m/tmp/ipykernel_924/2200918293.py\u001b[0m in \u001b[0;36m<module>\u001b[0;34m\u001b[0m\n\u001b[1;32m      1\u001b[0m \u001b[0;31m# import sklearn\u001b[0m\u001b[0;34m\u001b[0m\u001b[0;34m\u001b[0m\u001b[0;34m\u001b[0m\u001b[0m\n\u001b[0;32m----> 2\u001b[0;31m \u001b[0moptuna\u001b[0m\u001b[0;34m.\u001b[0m\u001b[0mvisualization\u001b[0m\u001b[0;34m.\u001b[0m\u001b[0mplot_param_importances\u001b[0m\u001b[0;34m(\u001b[0m\u001b[0mstudy\u001b[0m\u001b[0;34m)\u001b[0m\u001b[0;34m\u001b[0m\u001b[0;34m\u001b[0m\u001b[0m\n\u001b[0m",
      "\u001b[0;32m~/anaconda3/envs/pytorch3d/lib/python3.8/site-packages/optuna/visualization/_param_importances.py\u001b[0m in \u001b[0;36mplot_param_importances\u001b[0;34m(study, evaluator, params, target, target_name)\u001b[0m\n\u001b[1;32m    110\u001b[0m         \u001b[0;32mreturn\u001b[0m \u001b[0mgo\u001b[0m\u001b[0;34m.\u001b[0m\u001b[0mFigure\u001b[0m\u001b[0;34m(\u001b[0m\u001b[0mdata\u001b[0m\u001b[0;34m=\u001b[0m\u001b[0;34m[\u001b[0m\u001b[0;34m]\u001b[0m\u001b[0;34m,\u001b[0m \u001b[0mlayout\u001b[0m\u001b[0;34m=\u001b[0m\u001b[0mlayout\u001b[0m\u001b[0;34m)\u001b[0m\u001b[0;34m\u001b[0m\u001b[0;34m\u001b[0m\u001b[0m\n\u001b[1;32m    111\u001b[0m \u001b[0;34m\u001b[0m\u001b[0m\n\u001b[0;32m--> 112\u001b[0;31m     importances = optuna.importance.get_param_importances(\n\u001b[0m\u001b[1;32m    113\u001b[0m         \u001b[0mstudy\u001b[0m\u001b[0;34m,\u001b[0m \u001b[0mevaluator\u001b[0m\u001b[0;34m=\u001b[0m\u001b[0mevaluator\u001b[0m\u001b[0;34m,\u001b[0m \u001b[0mparams\u001b[0m\u001b[0;34m=\u001b[0m\u001b[0mparams\u001b[0m\u001b[0;34m,\u001b[0m \u001b[0mtarget\u001b[0m\u001b[0;34m=\u001b[0m\u001b[0mtarget\u001b[0m\u001b[0;34m\u001b[0m\u001b[0;34m\u001b[0m\u001b[0m\n\u001b[1;32m    114\u001b[0m     )\n",
      "\u001b[0;32m~/anaconda3/envs/pytorch3d/lib/python3.8/site-packages/optuna/importance/__init__.py\u001b[0m in \u001b[0;36mget_param_importances\u001b[0;34m(study, evaluator, params, target)\u001b[0m\n\u001b[1;32m     86\u001b[0m     \"\"\"\n\u001b[1;32m     87\u001b[0m     \u001b[0;32mif\u001b[0m \u001b[0mevaluator\u001b[0m \u001b[0;32mis\u001b[0m \u001b[0;32mNone\u001b[0m\u001b[0;34m:\u001b[0m\u001b[0;34m\u001b[0m\u001b[0;34m\u001b[0m\u001b[0m\n\u001b[0;32m---> 88\u001b[0;31m         \u001b[0mevaluator\u001b[0m \u001b[0;34m=\u001b[0m \u001b[0mFanovaImportanceEvaluator\u001b[0m\u001b[0;34m(\u001b[0m\u001b[0;34m)\u001b[0m\u001b[0;34m\u001b[0m\u001b[0;34m\u001b[0m\u001b[0m\n\u001b[0m\u001b[1;32m     89\u001b[0m \u001b[0;34m\u001b[0m\u001b[0m\n\u001b[1;32m     90\u001b[0m     \u001b[0;32mif\u001b[0m \u001b[0;32mnot\u001b[0m \u001b[0misinstance\u001b[0m\u001b[0;34m(\u001b[0m\u001b[0mevaluator\u001b[0m\u001b[0;34m,\u001b[0m \u001b[0mBaseImportanceEvaluator\u001b[0m\u001b[0;34m)\u001b[0m\u001b[0;34m:\u001b[0m\u001b[0;34m\u001b[0m\u001b[0;34m\u001b[0m\u001b[0m\n",
      "\u001b[0;32m~/anaconda3/envs/pytorch3d/lib/python3.8/site-packages/optuna/importance/_fanova/_evaluator.py\u001b[0m in \u001b[0;36m__init__\u001b[0;34m(self, n_trees, max_depth, seed)\u001b[0m\n\u001b[1;32m     63\u001b[0m         \u001b[0mself\u001b[0m\u001b[0;34m,\u001b[0m \u001b[0;34m*\u001b[0m\u001b[0;34m,\u001b[0m \u001b[0mn_trees\u001b[0m\u001b[0;34m:\u001b[0m \u001b[0mint\u001b[0m \u001b[0;34m=\u001b[0m \u001b[0;36m64\u001b[0m\u001b[0;34m,\u001b[0m \u001b[0mmax_depth\u001b[0m\u001b[0;34m:\u001b[0m \u001b[0mint\u001b[0m \u001b[0;34m=\u001b[0m \u001b[0;36m64\u001b[0m\u001b[0;34m,\u001b[0m \u001b[0mseed\u001b[0m\u001b[0;34m:\u001b[0m \u001b[0mOptional\u001b[0m\u001b[0;34m[\u001b[0m\u001b[0mint\u001b[0m\u001b[0;34m]\u001b[0m \u001b[0;34m=\u001b[0m \u001b[0;32mNone\u001b[0m\u001b[0;34m\u001b[0m\u001b[0;34m\u001b[0m\u001b[0m\n\u001b[1;32m     64\u001b[0m     ) -> None:\n\u001b[0;32m---> 65\u001b[0;31m         self._evaluator = _Fanova(\n\u001b[0m\u001b[1;32m     66\u001b[0m             \u001b[0mn_trees\u001b[0m\u001b[0;34m=\u001b[0m\u001b[0mn_trees\u001b[0m\u001b[0;34m,\u001b[0m\u001b[0;34m\u001b[0m\u001b[0;34m\u001b[0m\u001b[0m\n\u001b[1;32m     67\u001b[0m             \u001b[0mmax_depth\u001b[0m\u001b[0;34m=\u001b[0m\u001b[0mmax_depth\u001b[0m\u001b[0;34m,\u001b[0m\u001b[0;34m\u001b[0m\u001b[0;34m\u001b[0m\u001b[0m\n",
      "\u001b[0;32m~/anaconda3/envs/pytorch3d/lib/python3.8/site-packages/optuna/importance/_fanova/_fanova.py\u001b[0m in \u001b[0;36m__init__\u001b[0;34m(self, n_trees, max_depth, min_samples_split, min_samples_leaf, seed)\u001b[0m\n\u001b[1;32m     46\u001b[0m         \u001b[0mseed\u001b[0m\u001b[0;34m:\u001b[0m \u001b[0mOptional\u001b[0m\u001b[0;34m[\u001b[0m\u001b[0mint\u001b[0m\u001b[0;34m]\u001b[0m\u001b[0;34m,\u001b[0m\u001b[0;34m\u001b[0m\u001b[0;34m\u001b[0m\u001b[0m\n\u001b[1;32m     47\u001b[0m     ) -> None:\n\u001b[0;32m---> 48\u001b[0;31m         \u001b[0m_imports\u001b[0m\u001b[0;34m.\u001b[0m\u001b[0mcheck\u001b[0m\u001b[0;34m(\u001b[0m\u001b[0;34m)\u001b[0m\u001b[0;34m\u001b[0m\u001b[0;34m\u001b[0m\u001b[0m\n\u001b[0m\u001b[1;32m     49\u001b[0m \u001b[0;34m\u001b[0m\u001b[0m\n\u001b[1;32m     50\u001b[0m         self._forest = RandomForestRegressor(\n",
      "\u001b[0;32m~/anaconda3/envs/pytorch3d/lib/python3.8/site-packages/optuna/_imports.py\u001b[0m in \u001b[0;36mcheck\u001b[0;34m(self)\u001b[0m\n\u001b[1;32m     84\u001b[0m         \u001b[0;32mif\u001b[0m \u001b[0mself\u001b[0m\u001b[0;34m.\u001b[0m\u001b[0m_deferred\u001b[0m \u001b[0;32mis\u001b[0m \u001b[0;32mnot\u001b[0m \u001b[0;32mNone\u001b[0m\u001b[0;34m:\u001b[0m\u001b[0;34m\u001b[0m\u001b[0;34m\u001b[0m\u001b[0m\n\u001b[1;32m     85\u001b[0m             \u001b[0mexc_value\u001b[0m\u001b[0;34m,\u001b[0m \u001b[0mmessage\u001b[0m \u001b[0;34m=\u001b[0m \u001b[0mself\u001b[0m\u001b[0;34m.\u001b[0m\u001b[0m_deferred\u001b[0m\u001b[0;34m\u001b[0m\u001b[0;34m\u001b[0m\u001b[0m\n\u001b[0;32m---> 86\u001b[0;31m             \u001b[0;32mraise\u001b[0m \u001b[0mImportError\u001b[0m\u001b[0;34m(\u001b[0m\u001b[0mmessage\u001b[0m\u001b[0;34m)\u001b[0m \u001b[0;32mfrom\u001b[0m \u001b[0mexc_value\u001b[0m\u001b[0;34m\u001b[0m\u001b[0;34m\u001b[0m\u001b[0m\n\u001b[0m\u001b[1;32m     87\u001b[0m \u001b[0;34m\u001b[0m\u001b[0m\n\u001b[1;32m     88\u001b[0m \u001b[0;34m\u001b[0m\u001b[0m\n",
      "\u001b[0;31mImportError\u001b[0m: Tried to import 'sklearn' but failed. Please make sure that the package is installed correctly to use this feature. Actual error: No module named 'sklearn'."
     ]
    }
   ],
   "source": [
    "# import sklearn\n",
    "optuna.visualization.plot_param_importances(study)"
   ]
  },
  {
   "cell_type": "code",
   "execution_count": null,
   "metadata": {},
   "outputs": [],
   "source": [
    "# from itertools import product\n",
    "# dimensions = torch.tensor(list(sphere_verts_rgb.grad.shape))\n",
    "# print(\"Total dimension of gradient: {}\\nNonzero dimension of gradient: {}\".format(torch.prod(dimensions), sphere_verts_rgb.grad.count_nonzero()))\n",
    "# plt.figure(figsize=(7,7))\n",
    "# # from pytorch3d.vis.texture_vis import texturesuv_image_matplotlib\n",
    "\n",
    "# texture_image=sphere_verts_rgb.grad*10000000*10\n",
    "\n",
    "# # texturesuv_image_matplotlib(new_src_mesh.textures, subsample=None)\n",
    "\n",
    "# print(texture_image.shape)\n",
    "# plt.imshow(texture_image.squeeze().cpu().detach())"
   ]
  },
  {
   "cell_type": "code",
   "execution_count": null,
   "metadata": {},
   "outputs": [],
   "source": [
    "# plt.hist(netG.detach().cpu().flatten().numpy(), bins=100, log=True)\n",
    "# plt.show()"
   ]
  },
  {
   "cell_type": "code",
   "execution_count": null,
   "metadata": {},
   "outputs": [],
   "source": [
    "# plt.hist(normal_map_base.grad.detach().cpu().flatten().numpy(), bins=100, log=True)\n",
    "# plt.show()"
   ]
  },
  {
   "cell_type": "code",
   "execution_count": null,
   "metadata": {},
   "outputs": [],
   "source": [
    "# plot_losses(losses_gan)"
   ]
  },
  {
   "cell_type": "code",
   "execution_count": null,
   "metadata": {},
   "outputs": [],
   "source": [
    "# visualize_prediction(maps_src_mesh, renderer=renderer_textured, silhouette=False)"
   ]
  },
  {
   "cell_type": "code",
   "execution_count": null,
   "metadata": {
    "colab": {},
    "colab_type": "code",
    "id": "2qTcHO4rR1Rs",
    "scrolled": true
   },
   "outputs": [],
   "source": [
    "# visualize_prediction(maps_src_mesh, renderer=renderer_textured, silhouette=False, camera=target_cameras[0], target_image=target_rgb[0])\n",
    "# plot_losses(losses)"
   ]
  },
  {
   "cell_type": "code",
   "execution_count": null,
   "metadata": {},
   "outputs": [],
   "source": [
    "# plt.figure(figsize=(7,7))\n",
    "# from pytorch3d.vis.texture_vis import texturesuv_image_matplotlib\n",
    "\n",
    "# texture_image=maps_src_mesh.textures.maps_padded()\n",
    "# # texturesuv_image_matplotlib(new_src_mesh.textures, subsample=None)\n",
    "\n",
    "# print(texture_image.shape)\n",
    "# plt.imshow(texture_image.squeeze().cpu().detach())\n",
    "# plt.axis(\"off\");"
   ]
  },
  {
   "cell_type": "code",
   "execution_count": null,
   "metadata": {},
   "outputs": [],
   "source": [
    "# plt.figure(figsize=(7,7))\n",
    "# from pytorch3d.vis.texture_vis import texturesuv_image_matplotlib\n",
    "\n",
    "# # texture_image=new_src_mesh.normalmaps.maps_padded()\n",
    "\n",
    "# texture_image=maps_src_mesh.normalmaps.maps_padded()\n",
    "# # texturesuv_image_matplotlib(new_src_mesh.textures, subsample=None)\n",
    "\n",
    "# print(texture_image.shape)\n",
    "# plt.imshow(texture_image.squeeze().cpu().detach())\n",
    "# plt.axis(\"off\");"
   ]
  },
  {
   "cell_type": "markdown",
   "metadata": {
    "colab_type": "text",
    "id": "akBOm_xcNUms"
   },
   "source": [
    "Save the final predicted mesh:"
   ]
  },
  {
   "cell_type": "code",
   "execution_count": null,
   "metadata": {},
   "outputs": [],
   "source": [
    "# plt.figure(figsize=(7,7))\n",
    "# from pytorch3d.vis.texture_vis import texturesuv_image_matplotlib\n",
    "\n",
    "# texture_image=mesh.normalmaps.maps_padded()\n",
    "# # texturesuv_image_matplotlib(mesh.textures, subsample=None)\n",
    "# # print(src_mesh.textures.maps_padded().shape, new_src_mesh.textures.maps_padded().shape)\n",
    "# # print(texture_image.shape)\n",
    "# plt.imshow(texture_image.squeeze().cpu().detach())\n",
    "# plt.axis(\"off\");"
   ]
  },
  {
   "cell_type": "markdown",
   "metadata": {
    "colab_type": "text",
    "id": "dXoIsGyhxRyK"
   },
   "source": [
    "## 4. Save the final predicted mesh"
   ]
  },
  {
   "cell_type": "code",
   "execution_count": null,
   "metadata": {
    "colab": {},
    "colab_type": "code",
    "id": "OQGhV-psKna8"
   },
   "outputs": [],
   "source": [
    "# # Fetch the verts and faces of the final predicted mesh\n",
    "# final_verts, final_faces = new_src_mesh.get_mesh_verts_faces(0)\n",
    "\n",
    "# # Scale normalize back to the original target size\n",
    "# final_verts = final_verts * scale + center\n",
    "\n",
    "# # Store the predicted mesh using save_obj\n",
    "# final_obj = os.path.join('./', 'final_model.obj')\n",
    "# save_obj(final_obj, final_verts, final_faces)"
   ]
  },
  {
   "cell_type": "markdown",
   "metadata": {
    "colab_type": "text",
    "id": "MtKYp0B6R1Ru"
   },
   "source": [
    "## 5. Conclusion\n",
    "In this tutorial, we learned how to load a textured mesh from an obj file, create a synthetic dataset by rendering the mesh from multiple viewpoints.  We showed how to set up an optimization loop to fit a mesh to the observed dataset images based on a rendered silhouette loss.  We then augmented this optimization loop with an additional loss based on rendered RGB images, which allowed us to predict both a mesh and its texture."
   ]
  },
  {
   "cell_type": "markdown",
   "metadata": {},
   "source": []
  }
 ],
 "metadata": {
  "accelerator": "GPU",
  "anp_metadata": {
   "path": "fbsource/fbcode/vision/fair/pytorch3d/docs/tutorials/fit_textured_mesh.ipynb"
  },
  "bento_stylesheets": {
   "bento/extensions/flow/main.css": true,
   "bento/extensions/kernel_selector/main.css": true,
   "bento/extensions/kernel_ui/main.css": true,
   "bento/extensions/new_kernel/main.css": true,
   "bento/extensions/system_usage/main.css": true,
   "bento/extensions/theme/main.css": true
  },
  "colab": {
   "name": "fit_textured_mesh.ipynb",
   "provenance": [],
   "toc_visible": true
  },
  "disseminate_notebook_info": {
   "backup_notebook_id": "781874812352022"
  },
  "interpreter": {
   "hash": "60cb56d69e6ae3efc575d5956bd5f6d74483d19d65043d3c065644cb49c044fe"
  },
  "kernelspec": {
   "display_name": "intro_to_cv",
   "language": "python",
   "name": "python3"
  },
  "language_info": {
   "codemirror_mode": {
    "name": "ipython",
    "version": 3
   },
   "file_extension": ".py",
   "mimetype": "text/x-python",
   "name": "python",
   "nbconvert_exporter": "python",
   "pygments_lexer": "ipython3",
   "version": "3.8.12"
  }
 },
 "nbformat": 4,
 "nbformat_minor": 1
}
