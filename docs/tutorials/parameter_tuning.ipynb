{
 "cells": [
  {
   "cell_type": "code",
   "execution_count": 1,
   "metadata": {
    "colab": {},
    "colab_type": "code",
    "id": "_Ip8kp4TfBLZ"
   },
   "outputs": [],
   "source": [
    "# Copyright (c) Facebook, Inc. and its affiliates. All rights reserved."
   ]
  },
  {
   "cell_type": "markdown",
   "metadata": {
    "colab_type": "text",
    "id": "kuXHJv44fBLe"
   },
   "source": [
    "# Fit a mesh via rendering\n",
    "\n",
    "This tutorial shows how to:\n",
    "- Load a mesh and textures from an `.obj` file. \n",
    "- Create a synthetic dataset by rendering a textured mesh from multiple viewpoints\n",
    "- Fit a mesh to the observed synthetic images using differential silhouette rendering\n",
    "- Fit a mesh and its textures using differential textured rendering"
   ]
  },
  {
   "cell_type": "markdown",
   "metadata": {
    "colab_type": "text",
    "id": "Bnj3THhzfBLf"
   },
   "source": [
    "## 0. Install and Import modules"
   ]
  },
  {
   "cell_type": "markdown",
   "metadata": {
    "colab_type": "text",
    "id": "okLalbR_g7NS"
   },
   "source": [
    "Ensure `torch` and `torchvision` are installed. If `pytorch3d` is not installed, install it using the following cell:"
   ]
  },
  {
   "cell_type": "code",
   "execution_count": 2,
   "metadata": {
    "colab": {},
    "colab_type": "code",
    "id": "musUWTglgxSB"
   },
   "outputs": [],
   "source": [
    "# import os\n",
    "# import sys\n",
    "# import torch\n",
    "# need_pytorch3d=False\n",
    "# try:\n",
    "    # import pytorch3d\n",
    "# except ModuleNotFoundError:\n",
    "    # need_pytorch3d=True\n",
    "# if need_pytorch3d:\n",
    "    # We try to install PyTorch3D from source.\n",
    "    # !curl -LO https://github.com/NVIDIA/cub/archive/1.10.0.tar.gz\n",
    "    # !tar xzf 1.10.0.tar.gz\n",
    "    # os.environ[\"CUB_HOME\"] = os.getcwd() + \"/cub-1.10.0\"\n",
    "    # !pip install 'git+https://github.com/theycallmepeter/pytorch3d_PBR/pytorch3d.git@normal_maps'"
   ]
  },
  {
   "cell_type": "code",
   "execution_count": 3,
   "metadata": {
    "colab": {},
    "colab_type": "code",
    "id": "nX99zdoffBLg"
   },
   "outputs": [],
   "source": [
    "import os\n",
    "import torch\n",
    "from torch import nn\n",
    "from torchvision.transforms import RandomAffine, Resize\n",
    "import optuna\n",
    "\n",
    "\n",
    "import matplotlib.pyplot as plt\n",
    "\n",
    "from pytorch3d.utils import ico_sphere\n",
    "import numpy as np\n",
    "from tqdm.notebook import tqdm\n",
    "\n",
    "# Util function for loading meshes\n",
    "from pytorch3d.io import load_objs_as_meshes, save_obj\n",
    "\n",
    "from pytorch3d.loss import (\n",
    "    chamfer_distance, \n",
    "    mesh_edge_loss, \n",
    "    mesh_laplacian_smoothing, \n",
    "    mesh_normal_consistency,\n",
    ")\n",
    "from torchvision.transforms import RandomAffine, Resize\n",
    "\n",
    "# Data structures and functions for rendering\n",
    "from pytorch3d.structures import Meshes\n",
    "from pytorch3d.renderer import (\n",
    "    look_at_view_transform,\n",
    "    OpenGLPerspectiveCameras, \n",
    "    PointLights, \n",
    "    DirectionalLights, \n",
    "    Materials, \n",
    "    RasterizationSettings, \n",
    "    MeshRenderer, \n",
    "    NormalMeshRenderer,\n",
    "    MeshRasterizer,  \n",
    "    NormalSoftPhongShader,\n",
    "    SoftPhongShader,\n",
    "    SoftSilhouetteShader,\n",
    "    SoftPhongShader,\n",
    "    TexturesVertex,\n",
    "    TexturesUV,\n",
    "    tbn_matrices,\n",
    ")\n",
    "\n",
    "from pytorch3d.renderer.mesh import tbn_matrices\n",
    "# add path for demo utils functions \n",
    "import sys\n",
    "import os\n",
    "sys.path.append(os.path.abspath(''))"
   ]
  },
  {
   "cell_type": "markdown",
   "metadata": {
    "colab_type": "text",
    "id": "Lxmehq6Zhrzv"
   },
   "source": [
    "If using **Google Colab**, fetch the utils file for plotting image grids:"
   ]
  },
  {
   "cell_type": "code",
   "execution_count": 4,
   "metadata": {
    "colab": {},
    "colab_type": "code",
    "id": "HZozr3Pmho-5"
   },
   "outputs": [],
   "source": [
    "# !wget https://raw.githubusercontent.com/facebookresearch/pytorch3d/main/docs/tutorials/utils/plot_image_grid.py\n",
    "# from plot_image_grid import image_grid"
   ]
  },
  {
   "cell_type": "markdown",
   "metadata": {
    "colab_type": "text",
    "id": "g4B62MzYiJUM"
   },
   "source": [
    "OR if running **locally** uncomment and run the following cell:"
   ]
  },
  {
   "cell_type": "code",
   "execution_count": 5,
   "metadata": {
    "colab": {},
    "colab_type": "code",
    "id": "paJ4Im8ahl7O"
   },
   "outputs": [],
   "source": [
    " from utils.plot_image_grid import image_grid"
   ]
  },
  {
   "cell_type": "markdown",
   "metadata": {
    "colab_type": "text",
    "collapsed": true,
    "id": "5jGq772XfBLk"
   },
   "source": [
    "### 1. Load a mesh and texture file\n",
    "\n",
    "Load an `.obj` file and its associated `.mtl` file and create a **Textures** and **Meshes** object. \n",
    "\n",
    "**Meshes** is a unique datastructure provided in PyTorch3D for working with batches of meshes of different sizes. \n",
    "\n",
    "**TexturesVertex** is an auxiliary datastructure for storing vertex rgb texture information about meshes. \n",
    "\n",
    "**Meshes** has several class methods which are used throughout the rendering pipeline."
   ]
  },
  {
   "cell_type": "markdown",
   "metadata": {
    "colab_type": "text",
    "id": "a8eU4zo5jd_H"
   },
   "source": [
    "If running this notebook using **Google Colab**, run the following cell to fetch the mesh obj and texture files and save it at the path `data/cow_mesh`:\n",
    "If running locally, the data is already available at the correct path. "
   ]
  },
  {
   "cell_type": "code",
   "execution_count": 6,
   "metadata": {
    "colab": {},
    "colab_type": "code",
    "id": "tTm0cVuOjb1W"
   },
   "outputs": [],
   "source": [
    "# !mkdir -p data/cow_mesh\n",
    "# !wget -P data/cow_mesh https://dl.fbaipublicfiles.com/pytorch3d/data/cow_mesh/cow.obj\n",
    "# !wget -P data/cow_mesh https://dl.fbaipublicfiles.com/pytorch3d/data/cow_mesh/cow.mtl\n",
    "# !wget -P data/cow_mesh https://dl.fbaipublicfiles.com/pytorch3d/data/cow_mesh/cow_texture.png"
   ]
  },
  {
   "cell_type": "code",
   "execution_count": 7,
   "metadata": {
    "colab": {},
    "colab_type": "code",
    "id": "gi5Kd0GafBLl"
   },
   "outputs": [],
   "source": [
    "# Setup\n",
    "if torch.cuda.is_available():\n",
    "    device = torch.device(\"cuda:0\")\n",
    "    torch.cuda.set_device(device)\n",
    "else:\n",
    "    device = torch.device(\"cpu\")\n",
    "\n",
    "# device = torch.device(\"cpu\")\n",
    "\n",
    "# Set paths\n",
    "DATA_DIR = \"./data\"\n",
    "obj_filename = os.path.join(DATA_DIR, \"cow_mesh/cow.obj\")\n",
    "# obj_filename = os.path.join(DATA_DIR, \"cube_mesh/six_colour_cube.obj\")\n",
    "\n",
    "\n",
    "# Load obj file\n",
    "mesh = load_objs_as_meshes([obj_filename], device=device)\n",
    "\n",
    "# We scale normalize and center the target mesh to fit in a sphere of radius 1 \n",
    "# centered at (0,0,0). (scale, center) will be used to bring the predicted mesh \n",
    "# to its original center and scale.  Note that normalizing the target mesh, \n",
    "# speeds up the optimization but is not necessary!\n",
    "verts = mesh.verts_packed()\n",
    "N = verts.shape[0]\n",
    "center = verts.mean(0)\n",
    "scale = max((verts - center).abs().max(0)[0])\n",
    "mesh.offset_verts_(-center)\n",
    "mesh.scale_verts_((0.75 / float(scale)));"
   ]
  },
  {
   "cell_type": "markdown",
   "metadata": {
    "colab_type": "text",
    "id": "17c4xmtyfBMH"
   },
   "source": [
    "## 2. Dataset Creation\n",
    "\n",
    "We sample different camera positions that encode multiple viewpoints of the cow.  We create a renderer with a shader that performs texture map interpolation.  We render a synthetic dataset of images of the textured cow mesh from multiple viewpoints.\n"
   ]
  },
  {
   "cell_type": "code",
   "execution_count": 8,
   "metadata": {},
   "outputs": [
    {
     "name": "stderr",
     "output_type": "stream",
     "text": [
      "/mnt/c/Projects/deepstimate/pytorch3d/pytorch3d/transforms/transform3d.py:782: UserWarning: R is not a valid rotation matrix\n",
      "  warnings.warn(msg)\n"
     ]
    },
    {
     "data": {
      "text/plain": [
       "<matplotlib.image.AxesImage at 0x7f31a8142eb0>"
      ]
     },
     "execution_count": 8,
     "metadata": {},
     "output_type": "execute_result"
    },
    {
     "data": {
      "image/png": "[encoded data removed]",
      "text/plain": [
       "<Figure size 432x288 with 1 Axes>"
      ]
     },
     "metadata": {
      "needs_background": "light"
     },
     "output_type": "display_data"
    }
   ],
   "source": [
    "imsize = 128\n",
    "# lights = PointLights(device=device, location=[[0.0, 0.0, -1.5]])\n",
    "lights = DirectionalLights(direction=[[0.0, 0.0, -1.0]], device=device)\n",
    "\n",
    "# We arbitrarily choose one particular view that will be used to visualize \n",
    "# results\n",
    "# Changed to novel view\n",
    "rand_elev = 45\n",
    "rand_azim = 135\n",
    "R_novel, T_novel = look_at_view_transform(dist=2.7, elev=rand_elev, azim=rand_azim)\n",
    "\n",
    "camera = OpenGLPerspectiveCameras(device=device, R=R_novel, \n",
    "                                  T=T_novel) \n",
    "\n",
    "\n",
    "# camera = OpenGLPerspectiveCameras(device=device, R=R[None, 1, ...], \n",
    "#                                   T=T[None, 1, ...]) \n",
    "\n",
    "# Define the settings for rasterization and shading. Here we set the output \n",
    "# image to be of size 128X128. As we are rendering images for visualization \n",
    "# purposes only we will set faces_per_pixel=1 and blur_radius=0.0. Refer to \n",
    "# rasterize_meshes.py for explanations of these parameters.  We also leave \n",
    "# bin_size and max_faces_per_bin to their default values of None, which sets \n",
    "# their values using heuristics and ensures that the faster coarse-to-fine \n",
    "# rasterization method is used.  Refer to docs/notes/renderer.md for an \n",
    "# explanation of the difference between naive and coarse-to-fine rasterization. \n",
    "raster_settings = RasterizationSettings(\n",
    "    image_size=imsize, \n",
    "    blur_radius=0.0, \n",
    "    faces_per_pixel=1, \n",
    "    perspective_correct=False,\n",
    ")\n",
    "\n",
    "# Create a Phong renderer by composing a rasterizer and a shader. The textured \n",
    "# Phong shader will interpolate the texture uv coordinates for each vertex, \n",
    "# sample from a texture image and apply the Phong lighting model\n",
    "TBN_matrices = tbn_matrices(mesh)\n",
    "renderer = NormalMeshRenderer(\n",
    "    rasterizer=MeshRasterizer(\n",
    "        cameras=camera, \n",
    "        raster_settings=raster_settings\n",
    "    ),\n",
    "    shader=NormalSoftPhongShader(\n",
    "        device=device, \n",
    "        cameras=camera,\n",
    "        lights=lights,\n",
    "        tangent_matrices=TBN_matrices,\n",
    "    )\n",
    ")\n",
    "random_target, _ = renderer(mesh, cameras=camera, lights=lights)\n",
    "random_target = random_target[...,:3]\n",
    "plt.imshow(random_target.cpu().numpy()[0])"
   ]
  },
  {
   "cell_type": "code",
   "execution_count": 9,
   "metadata": {
    "colab": {},
    "colab_type": "code",
    "id": "CDQKebNNfBMI"
   },
   "outputs": [
    {
     "name": "stdout",
     "output_type": "stream",
     "text": [
      "\n",
      "15 15\n"
     ]
    }
   ],
   "source": [
    "# the number of different viewpoints from which we want to render the mesh.\n",
    "num_views = 30\n",
    "batch_views = 1\n",
    "imsize = 128\n",
    "# Get a batch of viewing angles. \n",
    "elev = np.random.permutation(torch.linspace(0, 360, num_views))\n",
    "azim = np.random.permutation(torch.linspace(-180, 180, num_views))\n",
    "# elev = np.array([45, 45, 225, 225])\n",
    "# azim = np.array([-45, 135, -45, 135])\n",
    "\n",
    "def train_test_split(list):\n",
    "    return list[:len(list)//2], list[len(list)//2:]\n",
    "\n",
    "# Place a point light in front of the object. As mentioned above, the front of \n",
    "# the cow is facing the -z direction. \n",
    "\n",
    "# Initialize an OpenGL perspective camera that represents a batch of different \n",
    "# viewing angles. All the cameras helper methods support mixed type inputs and \n",
    "# broadcasting. So we can view the camera from the a distance of dist=2.7, and \n",
    "# then specify elevation and azimuth angles for each viewpoint as tensors. \n",
    "R, T = look_at_view_transform(dist=2.7, elev=elev, azim=azim)\n",
    "# cameras = OpenGLPerspectiveCameras(device=device, R=R, T=T)\n",
    "\n",
    "# We arbitrarily choose one particular view that will be used to visualize \n",
    "# results\n",
    "# Changed to novel view\n",
    "rand_elev = torch.rand((1,))*360\n",
    "rand_azim = torch.rand((1,))*360 - 180\n",
    "R_novel, T_novel = look_at_view_transform(dist=2.7, elev=rand_elev, azim=rand_azim)\n",
    "\n",
    "camera = OpenGLPerspectiveCameras(device=device, R=R_novel, \n",
    "                                  T=T_novel) \n",
    "\n",
    "\n",
    "# camera = OpenGLPerspectiveCameras(device=device, R=R[None, 1, ...], \n",
    "#                                   T=T[None, 1, ...]) \n",
    "\n",
    "# Define the settings for rasterization and shading. Here we set the output \n",
    "# image to be of size 128X128. As we are rendering images for visualization \n",
    "# purposes only we will set faces_per_pixel=1 and blur_radius=0.0. Refer to \n",
    "# rasterize_meshes.py for explanations of these parameters.  We also leave \n",
    "# bin_size and max_faces_per_bin to their default values of None, which sets \n",
    "# their values using heuristics and ensures that the faster coarse-to-fine \n",
    "# rasterization method is used.  Refer to docs/notes/renderer.md for an \n",
    "# explanation of the difference between naive and coarse-to-fine rasterization. \n",
    "\n",
    "normals_hook = torch.Tensor()\n",
    "raster_settings = RasterizationSettings(\n",
    "    image_size=imsize, \n",
    "    blur_radius=0.0, \n",
    "    faces_per_pixel=1, \n",
    "    perspective_correct=False,\n",
    ")\n",
    "\n",
    "# Create a Phong renderer by composing a rasterizer and a shader. The textured \n",
    "# Phong shader will interpolate the texture uv coordinates for each vertex, \n",
    "# sample from a texture image and apply the Phong lighting model\n",
    "renderer = NormalMeshRenderer(\n",
    "    rasterizer=MeshRasterizer(\n",
    "        cameras=camera, \n",
    "        raster_settings=raster_settings\n",
    "    ),\n",
    "    shader=NormalSoftPhongShader(\n",
    "        device=device, \n",
    "        cameras=camera,\n",
    "        lights=lights,\n",
    "        tangent_matrices=TBN_matrices,\n",
    "    )\n",
    ")\n",
    "\n",
    "# for i\n",
    "# Create a batch of meshes by repeating the cow mesh and associated textures. \n",
    "# Meshes has a useful `extend` method which allows us do this very easily. \n",
    "# This also extends the textures. \n",
    "meshes = mesh.extend(batch_views)\n",
    "target_rgb = []\n",
    "target_cameras = []\n",
    "target_normals = []\n",
    "print()\n",
    "# Render small batches of target views on GPU and append to list to be later converted to CPU tensor\n",
    "for i in range(num_views // batch_views):\n",
    "    # Create cameras for rendering the batch\n",
    "    cameras = OpenGLPerspectiveCameras(device=device, R=R[i*batch_views:(i+1)*batch_views], T=T[i*batch_views:(i+1)*batch_views])\n",
    "    # Render the cow mesh from each viewing angle\n",
    "    target_images_batch, normals = renderer(meshes, cameras=cameras, lights=lights)\n",
    "\n",
    "    # Our multi-view cow dataset will be represented by these 2 lists of tensors,\n",
    "    # each of length num_views.\n",
    "    target_rgb_batch = [target_images_batch[i, ..., :3].cpu() for i in range(batch_views)]\n",
    "    target_cameras_batch = [OpenGLPerspectiveCameras(device=device, R=R[None, i, ...], \n",
    "                                           T=T[None, i, ...]) for i in range(i*batch_views,(i+1)*batch_views)]\n",
    "    target_rgb.extend(target_rgb_batch)\n",
    "    target_cameras.extend(target_cameras_batch)\n",
    "    target_normals.append(normals)\n",
    "\n",
    "\n",
    "# 50/50 split of views for train/test\n",
    "target_rgb, test_rgb = train_test_split(target_rgb)\n",
    "target_cameras, test_cameras = train_test_split(target_cameras)\n",
    "target_normals, test_normals = train_test_split(target_normals)\n",
    "\n",
    "random_target, _ = renderer(mesh, cameras=camera, lights=lights)\n",
    "random_target = random_target[...,:3]\n",
    "print(len(target_rgb), len(target_cameras))"
   ]
  },
  {
   "cell_type": "markdown",
   "metadata": {
    "colab_type": "text",
    "id": "TppB4PVmR1Rc"
   },
   "source": [
    "Visualize the dataset:"
   ]
  },
  {
   "cell_type": "code",
   "execution_count": 10,
   "metadata": {
    "colab": {},
    "colab_type": "code",
    "id": "HHE0CnbVR1Rd"
   },
   "outputs": [
    {
     "name": "stdout",
     "output_type": "stream",
     "text": [
      "\n"
     ]
    },
    {
     "name": "stderr",
     "output_type": "stream",
     "text": [
      "/tmp/ipykernel_18902/1255958388.py:4: FutureWarning: The input object of type 'Tensor' is an array-like implementing one of the corresponding protocols (`__array__`, `__array_interface__` or `__array_struct__`); but not a sequence (or 0-D). In the future, this object will be coerced as if it was first converted using `np.array(obj)`. To retain the old behaviour, you have to either modify the type 'Tensor', or assign to an empty array created with `np.empty(correct_shape, dtype=object)`.\n",
      "  image_grid(np.asarray(target_rgb[:10]), rows=2, cols=5, rgb=True)\n",
      "/tmp/ipykernel_18902/1255958388.py:4: VisibleDeprecationWarning: Creating an ndarray from ragged nested sequences (which is a list-or-tuple of lists-or-tuples-or ndarrays with different lengths or shapes) is deprecated. If you meant to do this, you must specify 'dtype=object' when creating the ndarray.\n",
      "  image_grid(np.asarray(target_rgb[:10]), rows=2, cols=5, rgb=True)\n"
     ]
    },
    {
     "data": {
      "image/png": "[encoded data removed]",
      "text/plain": [
       "<Figure size 1080x648 with 10 Axes>"
      ]
     },
     "metadata": {
      "needs_background": "light"
     },
     "output_type": "display_data"
    }
   ],
   "source": [
    "# RGB images\n",
    "print()\n",
    "\n",
    "image_grid(np.asarray(target_rgb[:10]), rows=2, cols=5, rgb=True)\n",
    "plt.show()"
   ]
  },
  {
   "cell_type": "markdown",
   "metadata": {
    "colab_type": "text",
    "id": "gOb4rYx65E8z"
   },
   "source": [
    "Later in this tutorial, we will fit a mesh to the rendered RGB images, as well as to just images of just the cow silhouette.  For the latter case, we will render a dataset of silhouette images.  Most shaders in PyTorch3D will output an alpha channel along with the RGB image as a 4th channel in an RGBA image.  The alpha channel encodes the probability that each pixel belongs to the foreground of the object.  We construct a soft silhouette shader to render this alpha channel."
   ]
  },
  {
   "cell_type": "code",
   "execution_count": 11,
   "metadata": {},
   "outputs": [
    {
     "name": "stderr",
     "output_type": "stream",
     "text": [
      "/tmp/ipykernel_18902/579964652.py:37: FutureWarning: The input object of type 'Tensor' is an array-like implementing one of the corresponding protocols (`__array__`, `__array_interface__` or `__array_struct__`); but not a sequence (or 0-D). In the future, this object will be coerced as if it was first converted using `np.array(obj)`. To retain the old behaviour, you have to either modify the type 'Tensor', or assign to an empty array created with `np.empty(correct_shape, dtype=object)`.\n",
      "  print(np.asarray(target_silhouette[:10])[0].shape)\n",
      "/tmp/ipykernel_18902/579964652.py:37: VisibleDeprecationWarning: Creating an ndarray from ragged nested sequences (which is a list-or-tuple of lists-or-tuples-or ndarrays with different lengths or shapes) is deprecated. If you meant to do this, you must specify 'dtype=object' when creating the ndarray.\n",
      "  print(np.asarray(target_silhouette[:10])[0].shape)\n",
      "/tmp/ipykernel_18902/579964652.py:38: FutureWarning: The input object of type 'Tensor' is an array-like implementing one of the corresponding protocols (`__array__`, `__array_interface__` or `__array_struct__`); but not a sequence (or 0-D). In the future, this object will be coerced as if it was first converted using `np.array(obj)`. To retain the old behaviour, you have to either modify the type 'Tensor', or assign to an empty array created with `np.empty(correct_shape, dtype=object)`.\n",
      "  image_grid(np.asarray(silhouette_images[:10]), rows=2, cols=5, rgb=False)\n",
      "/tmp/ipykernel_18902/579964652.py:38: VisibleDeprecationWarning: Creating an ndarray from ragged nested sequences (which is a list-or-tuple of lists-or-tuples-or ndarrays with different lengths or shapes) is deprecated. If you meant to do this, you must specify 'dtype=object' when creating the ndarray.\n",
      "  image_grid(np.asarray(silhouette_images[:10]), rows=2, cols=5, rgb=False)\n"
     ]
    },
    {
     "name": "stdout",
     "output_type": "stream",
     "text": [
      "torch.Size([128, 128])\n"
     ]
    },
    {
     "data": {
      "image/png": "[encoded data removed]",
      "text/plain": [
       "<Figure size 1080x648 with 10 Axes>"
      ]
     },
     "metadata": {
      "needs_background": "light"
     },
     "output_type": "display_data"
    }
   ],
   "source": [
    "# Rasterization settings for silhouette rendering  \n",
    "sigma = 1e-4\n",
    "raster_settings_silhouette = RasterizationSettings(\n",
    "    image_size=imsize, \n",
    "    blur_radius=np.log(1. / 1e-4 - 1.)*sigma, \n",
    "    faces_per_pixel=50, \n",
    "    perspective_correct=False,\n",
    ")\n",
    "\n",
    "# Silhouette renderer \n",
    "renderer_silhouette = MeshRenderer(\n",
    "    rasterizer=MeshRasterizer(\n",
    "        cameras=camera, \n",
    "        raster_settings=raster_settings_silhouette\n",
    "    ),\n",
    "    shader=SoftSilhouetteShader()\n",
    ")\n",
    "\n",
    "# Render silhouette images.  The 3rd channel of the rendering output is \n",
    "# the alpha/silhouette channel\n",
    "target_silhouette = []\n",
    "silhouette_images = []\n",
    "for i in range(num_views // batch_views):\n",
    "    # Create cameras for rendering the batch\n",
    "    cameras = OpenGLPerspectiveCameras(device=device, R=R[i*batch_views:(i+1)*batch_views], T=T[i*batch_views:(i+1)*batch_views])\n",
    "    # Render the cow mesh from each viewing angle\n",
    "    silhouette_images_batch = renderer_silhouette(meshes, cameras=cameras, lights=lights)\n",
    "    silhouette_images.extend(silhouette_images_batch.cpu())\n",
    "    # Our multi-view cow dataset will be represented by these 2 lists of tensors,\n",
    "    # each of length num_views.\n",
    "    target_silhouette_batch = [silhouette_images_batch[i, ..., 3].cpu() for i in range(batch_views)]\n",
    "    # target_cameras_batch = [OpenGLPerspectiveCameras(device=device, R=R[None, i, ...], \n",
    "                                        #    T=T[None, i, ...]) for i in range(i*batch_views,(i+1)*batch_views)]\n",
    "    target_silhouette.extend(target_silhouette_batch)\n",
    "    # target_cameras.extend(target_cameras_batch)\n",
    "# Visualize silhouette images\n",
    "print(np.asarray(target_silhouette[:10])[0].shape)\n",
    "image_grid(np.asarray(silhouette_images[:10]), rows=2, cols=5, rgb=False)\n",
    "plt.show()"
   ]
  },
  {
   "cell_type": "markdown",
   "metadata": {
    "colab_type": "text",
    "id": "t3qphI1ElUb5"
   },
   "source": [
    "## 3. Mesh prediction via silhouette rendering\n",
    "In the previous section, we created a dataset of images of multiple viewpoints of a cow.  In this section, we predict a mesh by observing those target images without any knowledge of the ground truth cow mesh.  We assume we know the position of the cameras and lighting.\n",
    "\n",
    "We first define some helper functions to visualize the results of our mesh prediction:"
   ]
  },
  {
   "cell_type": "code",
   "execution_count": 12,
   "metadata": {
    "colab": {},
    "colab_type": "code",
    "id": "eeWYHROrR1Rh"
   },
   "outputs": [],
   "source": [
    "# Show a visualization comparing the rendered predicted mesh to the ground truth \n",
    "# mesh\n",
    "def visualize_prediction(predicted_mesh, renderer=renderer_silhouette, \n",
    "                         target_image=random_target[0], title='', \n",
    "                         silhouette=False, camera = camera):\n",
    "    inds = 3 if silhouette else range(3)\n",
    "    with torch.no_grad():\n",
    "        predicted_images, _ = renderer(predicted_mesh, cameras=camera)\n",
    "    plt.figure(figsize=(20, 10))\n",
    "    plt.subplot(1, 2, 1)\n",
    "    plt.imshow(predicted_images[0, ..., inds].cpu().detach().numpy())\n",
    "\n",
    "    plt.subplot(1, 2, 2)\n",
    "    plt.imshow(target_image.cpu().detach().numpy())\n",
    "    plt.title(title)\n",
    "    plt.axis(\"off\")\n",
    "\n",
    "# Plot losses as a function of optimization iteration\n",
    "def plot_losses(losses):\n",
    "    fig = plt.figure(figsize=(13, 5))\n",
    "    ax = fig.gca()\n",
    "    for k, l in losses.items():\n",
    "        ax.plot(l['values'], label=k + \" loss\")\n",
    "    ax.legend(fontsize=\"16\")\n",
    "    ax.set_xlabel(\"Iteration\", fontsize=\"16\")\n",
    "    ax.set_ylabel(\"Loss\", fontsize=\"16\")\n",
    "    ax.set_title(\"Loss vs iterations\", fontsize=\"16\")"
   ]
  },
  {
   "cell_type": "markdown",
   "metadata": {
    "colab_type": "text",
    "id": "PpsvBpuMR1Ri"
   },
   "source": [
    "Starting from a sphere mesh, we will learn offsets of each vertex such that the predicted mesh silhouette is more similar to the target silhouette image at each optimization step.  We begin by loading our initial sphere mesh:"
   ]
  },
  {
   "cell_type": "code",
   "execution_count": 13,
   "metadata": {
    "colab": {},
    "colab_type": "code",
    "id": "i989ARH1R1Rj"
   },
   "outputs": [],
   "source": [
    "# We initialize the source shape to be a sphere of radius 1.  \n",
    "silhouette_src_mesh = ico_sphere(4, device)\n",
    "# src_mesh = mesh.clone()"
   ]
  },
  {
   "cell_type": "code",
   "execution_count": 18,
   "metadata": {},
   "outputs": [
    {
     "name": "stdout",
     "output_type": "stream",
     "text": [
      "torch.Size([2562]) torch.Size([2562])\n",
      "torch.Size([2562, 2]) tensor(1., device='cuda:0') tensor(0., device='cuda:0')\n",
      "Target shapes faces: torch.Size([1, 5856, 3]), verts: torch.Size([1, 2930, 3])\n",
      "Target shapes facesUVs: torch.Size([1, 5856, 3]), vertsUVs: torch.Size([1, 3225, 2])\n",
      "torch.Size([2562, 3])\n"
     ]
    },
    {
     "data": {
      "image/png": "[encoded data removed]",
      "text/plain": [
       "<Figure size 360x360 with 1 Axes>"
      ]
     },
     "metadata": {
      "needs_background": "light"
     },
     "output_type": "display_data"
    }
   ],
   "source": [
    "# Functions from my L4 project\n",
    "def to_geocentric(lat, lon):\n",
    "    \"\"\"\n",
    "    Converts a latitude longitude pair to geocentric X Y Z coordinates\n",
    "    \"\"\"\n",
    "    lat = np.radians(lat)\n",
    "    lon = np.radians(lon)\n",
    "    return np.array([np.cos(lat) * np.cos(lon), np.cos(lat) * np.sin(lon), np.sin(lat)])\n",
    "\n",
    "# lat lon but longitude is scaled to half to have a square representation\n",
    "def to_lat_lon(coords):\n",
    "    \"\"\"\n",
    "    Converts X Y Z geocentric coordinates into latitude and longitude\n",
    "    \"\"\"\n",
    "    return np.array([np.degrees(np.arcsin(coords[2])), np.degrees(np.arctan2(coords[1], coords[0]))])\n",
    "\n",
    "# Creating UVs for sphere using equirectangular projection with scaled v axis\n",
    "sphere_verts = silhouette_src_mesh.verts_packed()\n",
    "xyz_to_u = torch.rad2deg(torch.arcsin(sphere_verts[:,2])) + 90\n",
    "xyz_to_v = (torch.rad2deg(torch.atan2(sphere_verts[:,1], sphere_verts[:,0])) + 180) / 2 \n",
    "print(xyz_to_u.shape, xyz_to_v.shape)\n",
    "sphere_verts_uvs = torch.stack([xyz_to_u, xyz_to_v], dim=1) / 180\n",
    "print(sphere_verts_uvs.shape, sphere_verts_uvs.max(), sphere_verts_uvs.min())\n",
    "# need to solve seams somehow\n",
    "# u = 0.5 + (torch.atan2(verts[:,0], verts[:,1])/(np.pi*2))\n",
    "# v = 0.5 - (torch.arcsin(verts[:,2])/np.pi)\n",
    "# uv_map = torch.stack([u,v], dim=1).unsqueeze(dim=0).to(device)\n",
    "print(\"Target shapes faces: {}, verts: {}\".format(mesh.faces_padded().shape, mesh.verts_padded().shape, ))\n",
    "print(\"Target shapes facesUVs: {}, vertsUVs: {}\".format(mesh.textures.faces_uvs_padded().shape,  mesh.textures.verts_uvs_padded().shape))\n",
    "print(silhouette_src_mesh.verts_packed().shape)\n",
    "# silhouette_src_mesh.verts_padded().map\n",
    "plt.figure(figsize=(5,5))\n",
    "plt.scatter(sphere_verts_uvs.cpu()[:,0], sphere_verts_uvs.cpu()[:,1], s=1)\n",
    "plt.axis(\"off\")\n",
    "plt.savefig(\"texture_uvs_illustration.pdf\", bbox_inches=\"tight\")\n",
    "silhouette_src_mesh.textures = TexturesUV(mesh.textures.maps_padded(), faces_uvs=silhouette_src_mesh.faces_packed().unsqueeze(0), verts_uvs=sphere_verts_uvs.unsqueeze(0))"
   ]
  },
  {
   "cell_type": "code",
   "execution_count": 16,
   "metadata": {},
   "outputs": [
    {
     "data": {
      "image/png": "[encoded data removed]",
      "text/plain": [
       "<Figure size 504x504 with 1 Axes>"
      ]
     },
     "metadata": {
      "needs_background": "light"
     },
     "output_type": "display_data"
    }
   ],
   "source": [
    "plt.figure(figsize=(7,7))\n",
    "from pytorch3d.vis.texture_vis import texturesuv_image_matplotlib\n",
    "\n",
    "# texture_image=src_mesh.textures.maps_padded()\n",
    "texturesuv_image_matplotlib(silhouette_src_mesh.textures, subsample=None)\n",
    "\n",
    "# print(texture_image.shape)\n",
    "# plt.imshow(texture_image.squeeze().cpu().detach())\n",
    "plt.axis(\"off\");"
   ]
  },
  {
   "cell_type": "markdown",
   "metadata": {
    "colab_type": "text",
    "id": "f5xVtgLNDvC5"
   },
   "source": [
    "We create a new differentiable renderer for rendering the silhouette of our predicted mesh:"
   ]
  },
  {
   "cell_type": "code",
   "execution_count": 19,
   "metadata": {
    "colab": {},
    "colab_type": "code",
    "id": "sXfjzgG4DsDJ"
   },
   "outputs": [],
   "source": [
    "# Rasterization settings for differentiable rendering, where the blur_radius\n",
    "# initialization is based on Liu et al, 'Soft Rasterizer: A Differentiable \n",
    "# Renderer for Image-based 3D Reasoning', ICCV 2019\n",
    "sigma = 1e-4\n",
    "raster_settings_soft = RasterizationSettings(\n",
    "    image_size=imsize, \n",
    "    blur_radius=np.log(1. / 1e-4 - 1.)*sigma, \n",
    "    faces_per_pixel=50, \n",
    "    perspective_correct=False,\n",
    ")\n",
    "\n",
    "# Silhouette renderer \n",
    "renderer_silhouette = MeshRenderer(\n",
    "    rasterizer=MeshRasterizer(\n",
    "        cameras=camera, \n",
    "        raster_settings=raster_settings_soft\n",
    "    ),\n",
    "    shader=SoftSilhouetteShader()\n",
    ")"
   ]
  },
  {
   "cell_type": "markdown",
   "metadata": {
    "colab_type": "text",
    "id": "SGJKbCB6R1Rk"
   },
   "source": [
    "We initialize settings, losses, and the optimizer that will be used to iteratively fit our mesh to the target silhouettes:"
   ]
  },
  {
   "cell_type": "code",
   "execution_count": 20,
   "metadata": {
    "colab": {},
    "colab_type": "code",
    "id": "0sLrKv_MEULh"
   },
   "outputs": [],
   "source": [
    "# Number of views to optimize over in each SGD iteration\n",
    "num_views_per_iteration = 5\n",
    "# Number of optimization steps\n",
    "Niter = 1000\n",
    "# Plot period for the losses\n",
    "plot_period = 250\n",
    "\n",
    "%matplotlib inline\n",
    "\n",
    "# Optimize using rendered silhouette image loss, mesh edge loss, mesh normal \n",
    "# consistency, and mesh laplacian smoothing\n",
    "losses = {\"silhouette\": {\"weight\": 1.0, \"values\": []},\n",
    "          \"edge\": {\"weight\": 1.0, \"values\": []},\n",
    "          \"normal\": {\"weight\": 0.01, \"values\": []},\n",
    "          \"laplacian\": {\"weight\": 1.0, \"values\": []},\n",
    "         }\n",
    "\n",
    "# Losses to smooth / regularize the mesh shape\n",
    "def update_mesh_shape_prior_losses(mesh, loss):\n",
    "    # and (b) the edge length of the predicted mesh\n",
    "    loss[\"edge\"] = mesh_edge_loss(mesh)\n",
    "    \n",
    "    # mesh normal consistency\n",
    "    loss[\"normal\"] = mesh_normal_consistency(mesh)\n",
    "    \n",
    "    # mesh laplacian smoothing\n",
    "    loss[\"laplacian\"] = mesh_laplacian_smoothing(mesh, method=\"uniform\")\n",
    "\n",
    "# We will learn to deform the source mesh by offsetting its vertices\n",
    "# The shape of the deform parameters is equal to the total number of vertices in\n",
    "# src_mesh\n",
    "verts_shape = silhouette_src_mesh.verts_packed().shape\n",
    "deform_verts = torch.full(verts_shape, 0.0, device=device, requires_grad=True)\n",
    "\n",
    "# The optimizer\n",
    "optimizer = torch.optim.SGD([deform_verts], lr=1.0, momentum=0.9)"
   ]
  },
  {
   "cell_type": "markdown",
   "metadata": {
    "colab_type": "text",
    "id": "QLc9zK8lEqFS"
   },
   "source": [
    "We write an optimization loop to iteratively refine our predicted mesh from the sphere mesh into a mesh that matches the silhouettes of the target images:"
   ]
  },
  {
   "cell_type": "code",
   "execution_count": 21,
   "metadata": {
    "colab": {},
    "colab_type": "code",
    "id": "gCfepfOoR1Rl"
   },
   "outputs": [
    {
     "data": {
      "application/vnd.jupyter.widget-view+json": {
       "model_id": "f5b76eb0d24f425494290b14bf06bb4a",
       "version_major": 2,
       "version_minor": 0
      },
      "text/plain": [
       "  0%|          | 0/1000 [00:00<?, ?it/s]"
      ]
     },
     "metadata": {},
     "output_type": "display_data"
    }
   ],
   "source": [
    "loop = tqdm(range(Niter))\n",
    "\n",
    "for i in loop:\n",
    "    # Initialize optimizer\n",
    "    optimizer.zero_grad()\n",
    "    \n",
    "    # Deform the mesh\n",
    "    new_src_mesh = silhouette_src_mesh.offset_verts(deform_verts)\n",
    "    \n",
    "    # Losses to smooth /regularize the mesh shape\n",
    "    loss = {k: torch.tensor(0.0, device=device) for k in losses}\n",
    "    update_mesh_shape_prior_losses(new_src_mesh, loss)\n",
    "    \n",
    "    # Compute the average silhouette loss over two random views, as the average \n",
    "    # squared L2 distance between the predicted silhouette and the target \n",
    "    # silhouette from our dataset\n",
    "    for j in np.random.permutation(len(target_cameras)).tolist()[:num_views_per_iteration]:\n",
    "        images_predicted = renderer_silhouette(new_src_mesh, cameras=target_cameras[j], lights=lights)\n",
    "        predicted_silhouette = images_predicted[..., 3]\n",
    "        loss_silhouette = ((predicted_silhouette - target_silhouette[j].to(device)) ** 2).mean()\n",
    "        loss[\"silhouette\"] += loss_silhouette / num_views_per_iteration\n",
    "    \n",
    "    # Weighted sum of the losses\n",
    "    sum_loss = torch.tensor(0.0, device=device)\n",
    "    for k, l in loss.items():\n",
    "        sum_loss += l * losses[k][\"weight\"]\n",
    "        losses[k][\"values\"].append(float(l.detach().cpu()))\n",
    "\n",
    "    \n",
    "    # Print the losses\n",
    "    loop.set_description(\"total_loss = %.6f\" % sum_loss)\n",
    "    \n",
    "    # Plot mesh\n",
    "    # if i % plot_period == 0:\n",
    "    #     visualize_prediction(new_src_mesh, title=\"iter: %d\" % i, silhouette=True,\n",
    "    #                          target_image=target_silhouette[1])\n",
    "        \n",
    "    # Optimization step\n",
    "    sum_loss.backward()\n",
    "    optimizer.step()"
   ]
  },
  {
   "cell_type": "code",
   "execution_count": 22,
   "metadata": {
    "colab": {},
    "colab_type": "code",
    "id": "CX4huayKR1Rm",
    "scrolled": true
   },
   "outputs": [],
   "source": [
    "silhouette_result = new_src_mesh.clone().detach()\n"
   ]
  },
  {
   "cell_type": "markdown",
   "metadata": {
    "colab_type": "text",
    "id": "XJDsJQmrR1Ro"
   },
   "source": [
    "## 3. Mesh and texture prediction via textured rendering\n",
    "We can predict both the mesh and its texture if we add an additional loss based on the comparing a predicted rendered RGB image to the target image. As before, we start with a sphere mesh.  We learn both translational offsets and RGB texture colors for each vertex in the sphere mesh.  Since our loss is based on rendered RGB pixel values instead of just the silhouette, we use a **SoftPhongShader** instead of a **SoftSilhouetteShader**."
   ]
  },
  {
   "cell_type": "code",
   "execution_count": 23,
   "metadata": {
    "colab": {},
    "colab_type": "code",
    "id": "aZObyIt9R1Ro"
   },
   "outputs": [],
   "source": [
    "# Rasterization settings for differentiable rendering, where the blur_radius\n",
    "# initialization is based on Liu et al, 'Soft Rasterizer: A Differentiable \n",
    "# Renderer for Image-based 3D Reasoning', ICCV 2019\n",
    "\n",
    "new_TBN_matrices = tbn_matrices(silhouette_result)\n",
    "\n",
    "sigma = 1e-4\n",
    "raster_settings_soft = RasterizationSettings(\n",
    "    image_size=imsize, \n",
    "    blur_radius=np.log(1. / 1e-4 - 1.)*sigma, \n",
    "    faces_per_pixel=50, \n",
    "    perspective_correct=False,\n",
    ")\n",
    "\n",
    "# Differentiable soft renderer using per vertex RGB colors for texture\n",
    "renderer_textured = MeshRenderer(\n",
    "    rasterizer=MeshRasterizer(\n",
    "        cameras=camera, \n",
    "        raster_settings=raster_settings_soft\n",
    "    ),\n",
    "    shader=NormalSoftPhongShader(device=device, \n",
    "        cameras=camera,\n",
    "        lights=lights,\n",
    "        tangent_matrices=new_TBN_matrices)\n",
    ")\n"
   ]
  },
  {
   "cell_type": "markdown",
   "metadata": {
    "colab_type": "text",
    "id": "NM7gJux8GMQX"
   },
   "source": [
    "We initialize settings, losses, and the optimizer that will be used to iteratively fit our mesh to the target RGB images:"
   ]
  },
  {
   "cell_type": "markdown",
   "metadata": {
    "colab_type": "text",
    "id": "tzIAycuUR1Rq"
   },
   "source": [
    "We write an optimization loop to iteratively refine our predicted mesh and its vertex colors from the sphere mesh into a mesh that matches the target images:"
   ]
  },
  {
   "cell_type": "code",
   "execution_count": 24,
   "metadata": {},
   "outputs": [],
   "source": [
    "\n",
    "# Texture generator Code\n",
    "class Generator(nn.Module):\n",
    "    def __init__(self, ngpu, ngf = 32, nc=3, nz=100, type = \"normal\", conv_layers = 4):\n",
    "        super(Generator, self).__init__()\n",
    "        self.type = type\n",
    "        self.ngpu = ngpu\n",
    "        self.deconv = nn.Sequential(\n",
    "            # Testing convoluting target image first \n",
    "            # input is (nc) x 128 x 128\n",
    "            nn.Conv2d(nc, ngf, 4, 2, 1, bias=False),\n",
    "            nn.LeakyReLU(0.2, inplace=True),\n",
    "            # nn.Dropout2d(p=0.25),\n",
    "            # state size. (ndf) x 64 x 64\n",
    "            nn.Conv2d(ngf, ngf * 2, 4, 2, 1, bias=False),\n",
    "            nn.BatchNorm2d(ngf * 2),\n",
    "            nn.LeakyReLU(0.2, inplace=True),\n",
    "            # nn.Dropout2d(p=0.25),\n",
    "            # state size. (ndf*2) x 32 x 32\n",
    "            nn.Conv2d(ngf * 2, ngf * 4, 4, 2, 1, bias=False),\n",
    "            nn.BatchNorm2d(ngf * 4),\n",
    "            nn.LeakyReLU(0.2, inplace=True),\n",
    "            # state size. (ndf*4) x 16 x 16\n",
    "            nn.Flatten(),\n",
    "            nn.Linear(ngf * 4 * 16*16, nz),\n",
    "            UnsqueezeLatent(),\n",
    "        )\n",
    "        self.tanh = nn.Tanh()           \n",
    "        scale_factor = max(8, 8*(2**(4-conv_layers)))\n",
    "        self.upsampler = nn.Upsample(scale_factor=scale_factor, mode='bilinear')\n",
    "\n",
    "        if conv_layers < 5:\n",
    "            self.normal_generator = nn.Sequential(\n",
    "                nn.ConvTranspose2d(int(ngf * (2**(-2))), nc, 4, 2, 1, bias=False),\n",
    "                nn.ReLU(True),\n",
    "                nn.ConvTranspose2d( nc, nc, 3, 1, 1, bias=False),\n",
    "            )\n",
    "            self.texture_generator = nn.Sequential(\n",
    "                nn.ConvTranspose2d(int(ngf * (2**(-2))), nc, 4, 2, 1, bias=False),\n",
    "                nn.ReLU(True),\n",
    "                nn.ConvTranspose2d( nc, nc, 3, 1, 1, bias=False),\n",
    "            )\n",
    "        else:\n",
    "            self.normal_generator = nn.Sequential(\n",
    "                nn.ConvTranspose2d(int(ngf * (2**(-2))), nc, 3, 1, 1, bias=False),\n",
    "                # nn.ConvTranspose2d(int(ngf * (2**(-2))), nc, 4, 2, 1, bias=False),\n",
    "                nn.ReLU(True),\n",
    "                nn.ConvTranspose2d( nc, nc, 3, 1, 1, bias=False),\n",
    "            )\n",
    "            self.texture_generator = nn.Sequential(\n",
    "                # nn.ConvTranspose2d(int(ngf * (2**(-2))), nc, 4, 2, 1, bias=False),\n",
    "                nn.ConvTranspose2d(int(ngf * (2**(-2))), nc, 3, 1, 1, bias=False),\n",
    "                nn.ReLU(True),\n",
    "                nn.ConvTranspose2d( nc, nc, 3, 1, 1, bias=False),\n",
    "            )\n",
    "        modules = [nn.ConvTranspose2d(nz, int(ngf * (2**(conv_layers-2))), 4, 1, 0, bias=False),\n",
    "            nn.BatchNorm2d(int(ngf * (2**(conv_layers-2)))),\n",
    "            nn.ReLU(True)]\n",
    "\n",
    "        # deconv layers that upscale by 2, maximum to 128x128\n",
    "        for i in range(conv_layers - 2, max(conv_layers - 7, -2), -1):\n",
    "            modules.extend([\n",
    "            nn.ConvTranspose2d(int(ngf * (2**(i))), int(ngf * (2**(i-1))), 4, 2, 1, bias=False),\n",
    "            nn.BatchNorm2d(int(ngf * (2**(i-1)))),\n",
    "            nn.ReLU(True)\n",
    "            ])\n",
    "        # convolution layers without upscaling beyond 128x128 to save on memory\n",
    "        if conv_layers >= 5:\n",
    "            for j in range(conv_layers - 7, -2, -1):\n",
    "                modules.extend([\n",
    "                    nn.ConvTranspose2d(int(ngf * (2**(j))), int(ngf * (2**(j-1))), 3, 1, 1, bias=False),\n",
    "                    nn.BatchNorm2d(int(ngf * (2**(j-1)))),\n",
    "                    nn.ReLU(True) \n",
    "                ])\n",
    "\n",
    "        self.generator = nn.Sequential(*modules)\n",
    "    def forward(self, input):\n",
    "        if self.type == \"simultaneous\":\n",
    "            result = self.generator(input)\n",
    "            return self.upsampler(self.tanh(self.texture_generator(result))), self.upsampler(self.tanh(self.normal_generator(result)))\n",
    "        else: \n",
    "            return self.generator(input)\n"
   ]
  },
  {
   "cell_type": "code",
   "execution_count": 26,
   "metadata": {
    "colab": {},
    "colab_type": "code",
    "id": "BS6LAQquF3wq"
   },
   "outputs": [],
   "source": [
    "\n",
    "\n",
    "%matplotlib inline\n",
    "\n",
    "# Optimize using rendered RGB image loss, rendered silhouette image loss, mesh \n",
    "# edge loss, mesh normal consistency, and mesh laplacian smoothing\n",
    "map_losses = {\n",
    "          \"rgb\": {\"weight\": 1.0, \"values\": []},\n",
    "          \"smoothness\":{\"weight\":0.1, \"values\": []},\n",
    "          \"normal_smoothness\":{\"weight\":0.05, \"values\": []}\n",
    "         }\n",
    "losses_gan = {\n",
    "          \"generator\": {\"weight\": 1.0, \"values\": []},\n",
    "          \"discriminator\":{\"weight\":1.0, \"values\": []}\n",
    "\n",
    "}\n",
    "\n",
    "\n",
    "faces_uvs = silhouette_result.textures.faces_uvs_padded()\n",
    "uv_map = silhouette_result.textures.verts_uvs_padded()\n",
    "\n"
   ]
  },
  {
   "cell_type": "code",
   "execution_count": 27,
   "metadata": {},
   "outputs": [],
   "source": [
    "def evaluate_model(eval_mesh):\n",
    "    with torch.no_grad():\n",
    "        # Define the settings for rasterization and shading. Here we set the output \n",
    "        # image to be of size 128X128. As we are rendering images for visualization \n",
    "        # purposes only we will set faces_per_pixel=1 and blur_radius=0.0. Refer to \n",
    "        # rasterize_meshes.py for explanations of these parameters.  We also leave \n",
    "        # bin_size and max_faces_per_bin to their default values of None, which sets \n",
    "        # their values using heuristics and ensures that the faster coarse-to-fine \n",
    "        # rasterization method is used.  Refer to docs/notes/renderer.md for an \n",
    "        # explanation of the difference between naive and coarse-to-fine rasterization. \n",
    "        raster_settings = RasterizationSettings(\n",
    "            image_size=imsize, \n",
    "            blur_radius=0.0, \n",
    "            faces_per_pixel=1, \n",
    "            perspective_correct=False,\n",
    "        )\n",
    "        # Create a Phong renderer by composing a rasterizer and a shader. The textured \n",
    "        # Phong shader will interpolate the texture uv coordinates for each vertex, \n",
    "        # sample from a texture image and apply the Phong lighting model\n",
    "        renderer = NormalMeshRenderer(\n",
    "            rasterizer=MeshRasterizer(\n",
    "                cameras=camera, \n",
    "                raster_settings=raster_settings\n",
    "            ),\n",
    "            shader=NormalSoftPhongShader(\n",
    "                device=device, \n",
    "                cameras=test_cameras,\n",
    "                lights=lights,\n",
    "                tangent_matrices=new_TBN_matrices,\n",
    "            )\n",
    "        )\n",
    "        test_cos_sim = torch.nn.CosineSimilarity(dim=4)\n",
    "        normals_similarity = 0\n",
    "        image_MSE = 0\n",
    "        # Calculate RGB loss for each view point in test set\n",
    "        for j in range(len(test_cameras)):\n",
    "            image_predicted, normals_predicted = renderer(eval_mesh, cameras=test_cameras[j], lights=lights,)\n",
    "\n",
    "            # Squared L2 distance between the predicted RGB image and the target \n",
    "            predicted_rgb = image_predicted[..., :3]\n",
    "            predicted_rgb.squeeze()\n",
    "            image_MSE += ((predicted_rgb - test_rgb[j].to(device)) ** 2).mean()\n",
    "            normals_similarity += test_cos_sim(test_normals[j], normals_predicted).mean()\n",
    "        mean_MSE = image_MSE / len(test_cameras)\n",
    "        normals_similarity = normals_similarity / len(test_cameras)\n",
    "        # visualize_prediction(eval_mesh, renderer=renderer, camera=test_cameras[1], silhouette=False,target_image = test_rgb[1])\n",
    "\n",
    "        return mean_MSE, normals_similarity\n",
    "    # print(mean_MSE)\n",
    "\n",
    "# print(evaluate_model())"
   ]
  },
  {
   "cell_type": "code",
   "execution_count": 28,
   "metadata": {},
   "outputs": [],
   "source": [
    "class ResConvTranspose(nn.Module):\n",
    "    layer = 0\n",
    "    def __init__(self, deconv, upsampler):\n",
    "        super().__init__()\n",
    "        self.module = deconv\n",
    "        self.upsampler = upsampler\n",
    "        self.weight = torch.nn.Parameter(deconv.weight)\n",
    "\n",
    "    def forward(self, inputs):\n",
    "        return self.module(inputs) + self.upsampler(inputs)\n",
    "\n",
    "class UnsqueezeLatent(nn.Module):\n",
    "    layer = 0\n",
    "    def __init__(self):\n",
    "        super().__init__()\n",
    "\n",
    "    def forward(self, inputs):\n",
    "        return torch.unsqueeze(torch.unsqueeze(inputs, 2), 3)"
   ]
  },
  {
   "cell_type": "code",
   "execution_count": 29,
   "metadata": {},
   "outputs": [],
   "source": [
    "import torch.utils.data\n",
    "\n",
    "def train_network(config):\n",
    "    # Number of views to optimize over in each SGD iteration\n",
    "    # print(\"Starting training\")\n",
    "    num_views_per_iteration = min(1, num_views)\n",
    "    # Number of optimization steps\n",
    "    Niter = 3000\n",
    "    # Plot period for the losses\n",
    "\n",
    "    loop = tqdm(range(Niter))\n",
    "\n",
    "\n",
    "    nc = 3\n",
    "    ngf = config[\"ngf\"]\n",
    "    nz = config[\"nz\"]\n",
    "    layers = config[\"layers\"]\n",
    "    lr = config[\"lr\"]\n",
    "    beta1 = config[\"beta1\"]\n",
    "    beta2 = config[\"beta2\"]\n",
    "    l2penalty = config[\"l2\"]\n",
    "    amsgrad = config[\"amsgrad\"]\n",
    "    # print(\"Upacked parameters\")\n",
    "\n",
    "\n",
    "    def weights_init(m):\n",
    "        classname = m.__class__.__name__\n",
    "        if classname.find('Conv') != -1:\n",
    "            nn.init.normal_(m.weight.data, 0.0, 0.05)\n",
    "        elif classname.find('BatchNorm') != -1:\n",
    "            nn.init.normal_(m.weight.data, 1.0, 0.05)\n",
    "            nn.init.constant_(m.bias.data, 0)\n",
    "\n",
    "\n",
    "    # Create discriminator for adversarial loss\n",
    "    ngpu = 1\n",
    "\n",
    "    # Create the generator\n",
    "    netG = Generator(ngpu, ngf, nc, nz, \"simultaneous\", layers).to(device)\n",
    "    netG.apply(weights_init)\n",
    "\n",
    "    scale_factor = 1\n",
    "    texture_size = list(mesh.textures.maps_padded().shape)\n",
    "    texture_size[1] //= scale_factor\n",
    "    texture_size[2] //= scale_factor\n",
    "\n",
    "    # The optimizer\n",
    "    optimizerG = torch.optim.Adam(netG.parameters(), lr=lr, betas=(beta1, beta2), weight_decay=l2penalty, amsgrad=amsgrad)\n",
    "    random_vector = torch.randn(1, nz, 1, 1, device=device) * 0.5\n",
    "\n",
    "    sphere_verts_rgb, normal_map_base = netG(random_vector)\n",
    "    zero_dims = texture_size[:3]\n",
    "    zero_dims.append(2)\n",
    "    ones_dims = texture_size[:3]\n",
    "    ones_dims.append(1)\n",
    "    # begin with a flat normal map and just offset it using the generator by a small amount\n",
    "    normal_map_flat = torch.cat([torch.ones(zero_dims).to(device)*0.5, torch.ones(ones_dims).to(device)], dim=3)\n",
    "\n",
    "\n",
    "    maps_src_mesh = silhouette_result.clone()\n",
    "    maps_src_mesh.textures = TexturesUV(sphere_verts_rgb.permute(0,2,3,1), faces_uvs=faces_uvs, verts_uvs=uv_map)\n",
    "    maps_src_mesh.normalmaps = TexturesUV(normal_map_flat, faces_uvs=faces_uvs, verts_uvs=uv_map)\n",
    "    # print(maps_src_mesh.normalmaps.maps_padded().shape)\n",
    "\n",
    "    # Cosine similarity loss for normal map\n",
    "    cos_similarity = torch.nn.CosineSimilarity(dim=3)\n",
    "\n",
    "    # print(\"Initialized state\")\n",
    "\n",
    "\n",
    "    # period to evaluate mesh against test views with normal rasterization\n",
    "    eval_period = 20\n",
    "    for i in loop:\n",
    "        transform_range_horizontal = 5/sphere_verts_rgb.shape[2]\n",
    "        transform_range_vertical = 5/sphere_verts_rgb.shape[3]\n",
    "        transform = RandomAffine(0, translate=(transform_range_horizontal,transform_range_vertical))\n",
    "        # Initialize optimizer\n",
    "        optimizerG.zero_grad()\n",
    "        \n",
    "        sphere_verts_rgb, normal_map_base = netG(random_vector)\n",
    "        maps_src_mesh.textures = TexturesUV(sphere_verts_rgb.permute(0,2,3,1), faces_uvs=faces_uvs, verts_uvs=uv_map)\n",
    "        new_normal_map = normal_map_base.permute(0,2,3,1) * 0.25 + normal_map_flat\n",
    "        # new_normal_map = normal_map_flat\n",
    "        maps_src_mesh.normalmaps = TexturesUV(new_normal_map, faces_uvs=faces_uvs, verts_uvs=uv_map)\n",
    "\n",
    "        # Losses to smooth /regularize the mesh shape\n",
    "        map_loss = {k: torch.tensor(0.0, device=device) for k in map_losses}\n",
    "        # update_mesh_shape_prior_losses(maps_src_mesh, loss)\n",
    "        # loss_gan = {k: torch.tensor(0.0, device=device) for k in losses_gan}\n",
    "\n",
    "        # Randomly select two views to optimize over in this iteration.  Compared\n",
    "        # to using just one view, this helps resolve ambiguities between updating\n",
    "        # mesh shape vs. updating mesh texture\n",
    "        rendered_rgb = []\n",
    "\n",
    "        # Getting examples from renderer as the Generator\n",
    "        random_views = np.random.permutation(len(target_cameras)).tolist()[:num_views_per_iteration]\n",
    "        for j in random_views:\n",
    "            images_predicted, _ = renderer_textured(maps_src_mesh, cameras=target_cameras[j], lights=lights)\n",
    "\n",
    "            # Squared L2 distance between the predicted RGB image and the target \n",
    "            predicted_rgb = images_predicted[..., :3]\n",
    "            rendered_rgb.append(predicted_rgb.squeeze())\n",
    "            loss_rgb = ((predicted_rgb - target_rgb[j].to(device)) ** 2).mean()\n",
    "\n",
    "\n",
    "            # Shifted image to get the image to be smoother/gradient between pixels to be smoother\n",
    "            smoothness = ((sphere_verts_rgb - transform(sphere_verts_rgb))**2).mean()\n",
    "            normal_smoothness = ((normal_map_flat - new_normal_map)**2).mean()\n",
    "            # print(normal_smoothness)\n",
    "\n",
    "            map_loss[\"rgb\"] += loss_rgb / num_views_per_iteration\n",
    "            map_loss[\"smoothness\"] += smoothness / num_views_per_iteration\n",
    "            map_loss[\"normal_smoothness\"] += normal_smoothness / num_views_per_iteration\n",
    "\n",
    "        # Weighted sum of the losses\n",
    "        map_sum_loss = torch.tensor(0.0, device=device)\n",
    "        for k, l in map_loss.items():\n",
    "            map_sum_loss += l * map_losses[k][\"weight\"]\n",
    "            map_losses[k][\"values\"].append(float(l.detach().cpu()))\n",
    "        loop.set_description(\"total_loss = %.6f\" % map_sum_loss)\n",
    "\n",
    "        # Optimization step\n",
    "        map_sum_loss.backward()\n",
    "        optimizerG.step()\n",
    "\n",
    "        \n",
    "        if i % eval_period == 0:\n",
    "            mse, cos_sim = evaluate_model(maps_src_mesh)\n",
    "\n",
    "    mse, cos_sim = evaluate_model(maps_src_mesh)\n",
    "    return mse\n",
    "\n"
   ]
  },
  {
   "cell_type": "code",
   "execution_count": 30,
   "metadata": {},
   "outputs": [],
   "source": [
    "def objective(trial):\n",
    "\n",
    "    params = {\n",
    "\n",
    "                \"ngf\": trial.suggest_categorical('ngf', [16, 24, 32, 48, 64]),\n",
    "                \"nz\": trial.suggest_int(\"nz\", 50, 120),\n",
    "                \"layers\": trial.suggest_int(\"layers\", 1,7),\n",
    "                \"lr\": trial.suggest_loguniform('lr', 1e-5, 1e-1),\n",
    "                \"beta1\": trial.suggest_uniform('beta1', 0.2, 0.9),\n",
    "                \"beta2\":trial.suggest_loguniform('beta2', 0.9, 0.99999),\n",
    "                \"l2\": trial.suggest_loguniform('l2', 1e-6, 1e-2),\n",
    "                \"amsgrad\": True,\n",
    "            }\n",
    "    \n",
    "    \n",
    "    loss = train_network(params)\n",
    "\n",
    "    return loss"
   ]
  },
  {
   "cell_type": "code",
   "execution_count": 32,
   "metadata": {},
   "outputs": [],
   "source": [
    "# custom_config = {\n",
    "#     \"ngf\": 64,\n",
    "#     \"nz\": 100,\n",
    "#     \"layers\": 5,\n",
    "#     \"lr\": 0.001,\n",
    "#     \"beta1\": 0.5,\n",
    "#     \"beta2\": 0.999,\n",
    "#     \"l2\": 0,\n",
    "#     \"amsgrad\": True,\n",
    "# }\n",
    "# train_network(custom_config)\n"
   ]
  },
  {
   "cell_type": "code",
   "execution_count": 33,
   "metadata": {},
   "outputs": [
    {
     "name": "stderr",
     "output_type": "stream",
     "text": [
      "\u001b[32m[I 2022-03-30 08:51:17,737]\u001b[0m A new study created in memory with name: no-name-c2ff52c1-640f-4245-b3de-80c08c831763\u001b[0m\n"
     ]
    },
    {
     "data": {
      "application/vnd.jupyter.widget-view+json": {
       "model_id": "c8db9bbed01f47369247a9eb7dc3f7e7",
       "version_major": 2,
       "version_minor": 0
      },
      "text/plain": [
       "  0%|          | 0/3000 [00:00<?, ?it/s]"
      ]
     },
     "metadata": {},
     "output_type": "display_data"
    },
    {
     "name": "stderr",
     "output_type": "stream",
     "text": [
      "/home/theycallmepeter/anaconda3/envs/pytorch3d/lib/python3.8/site-packages/torch/nn/functional.py:3451: UserWarning: Default upsampling behavior when mode=bilinear is changed to align_corners=False since 0.4.0. Please specify align_corners=True if the old behavior is desired. See the documentation of nn.Upsample for details.\n",
      "  warnings.warn(\n",
      "/mnt/c/Projects/deepstimate/pytorch3d/pytorch3d/transforms/transform3d.py:782: UserWarning: R is not a valid rotation matrix\n",
      "  warnings.warn(msg)\n",
      "\u001b[32m[I 2022-03-30 08:55:05,195]\u001b[0m Trial 0 finished with value: 0.0033891734201461077 and parameters: {'ngf': 16, 'nz': 75, 'layers': 7, 'lr': 0.010827679500629543, 'beta1': 0.26293229007955915, 'beta2': 0.9168397035578107, 'l2': 9.18755290570075e-05}. Best is trial 0 with value: 0.0033891734201461077.\u001b[0m\n"
     ]
    },
    {
     "data": {
      "application/vnd.jupyter.widget-view+json": {
       "model_id": "9a5d0de06f7e44cbb4531d7a35cd63f3",
       "version_major": 2,
       "version_minor": 0
      },
      "text/plain": [
       "  0%|          | 0/3000 [00:00<?, ?it/s]"
      ]
     },
     "metadata": {},
     "output_type": "display_data"
    },
    {
     "name": "stderr",
     "output_type": "stream",
     "text": [
      "/home/theycallmepeter/anaconda3/envs/pytorch3d/lib/python3.8/site-packages/torch/nn/functional.py:3451: UserWarning: Default upsampling behavior when mode=bilinear is changed to align_corners=False since 0.4.0. Please specify align_corners=True if the old behavior is desired. See the documentation of nn.Upsample for details.\n",
      "  warnings.warn(\n",
      "/mnt/c/Projects/deepstimate/pytorch3d/pytorch3d/transforms/transform3d.py:782: UserWarning: R is not a valid rotation matrix\n",
      "  warnings.warn(msg)\n",
      "\u001b[32m[I 2022-03-30 08:59:53,825]\u001b[0m Trial 1 finished with value: 0.003616947680711746 and parameters: {'ngf': 16, 'nz': 103, 'layers': 1, 'lr': 0.00017964689869946095, 'beta1': 0.30533160005302484, 'beta2': 0.9544968587910316, 'l2': 0.0012487000708131994}. Best is trial 0 with value: 0.0033891734201461077.\u001b[0m\n"
     ]
    },
    {
     "data": {
      "application/vnd.jupyter.widget-view+json": {
       "model_id": "b2de3acf90ec49cd881e650d61b7324c",
       "version_major": 2,
       "version_minor": 0
      },
      "text/plain": [
       "  0%|          | 0/3000 [00:00<?, ?it/s]"
      ]
     },
     "metadata": {},
     "output_type": "display_data"
    },
    {
     "name": "stderr",
     "output_type": "stream",
     "text": [
      "/home/theycallmepeter/anaconda3/envs/pytorch3d/lib/python3.8/site-packages/torch/nn/functional.py:3451: UserWarning: Default upsampling behavior when mode=bilinear is changed to align_corners=False since 0.4.0. Please specify align_corners=True if the old behavior is desired. See the documentation of nn.Upsample for details.\n",
      "  warnings.warn(\n",
      "/mnt/c/Projects/deepstimate/pytorch3d/pytorch3d/transforms/transform3d.py:782: UserWarning: R is not a valid rotation matrix\n",
      "  warnings.warn(msg)\n",
      "\u001b[32m[I 2022-03-30 09:03:49,452]\u001b[0m Trial 2 finished with value: 0.003740611718967557 and parameters: {'ngf': 24, 'nz': 75, 'layers': 7, 'lr': 0.035590626049553147, 'beta1': 0.6903532200902354, 'beta2': 0.9745932531782708, 'l2': 0.00015822420040700774}. Best is trial 0 with value: 0.0033891734201461077.\u001b[0m\n"
     ]
    },
    {
     "data": {
      "application/vnd.jupyter.widget-view+json": {
       "model_id": "8a6e8b5d71d446f4bf46732703e7bf90",
       "version_major": 2,
       "version_minor": 0
      },
      "text/plain": [
       "  0%|          | 0/3000 [00:00<?, ?it/s]"
      ]
     },
     "metadata": {},
     "output_type": "display_data"
    },
    {
     "name": "stderr",
     "output_type": "stream",
     "text": [
      "/home/theycallmepeter/anaconda3/envs/pytorch3d/lib/python3.8/site-packages/torch/nn/functional.py:3451: UserWarning: Default upsampling behavior when mode=bilinear is changed to align_corners=False since 0.4.0. Please specify align_corners=True if the old behavior is desired. See the documentation of nn.Upsample for details.\n",
      "  warnings.warn(\n",
      "/mnt/c/Projects/deepstimate/pytorch3d/pytorch3d/transforms/transform3d.py:782: UserWarning: R is not a valid rotation matrix\n",
      "  warnings.warn(msg)\n",
      "\u001b[32m[I 2022-03-30 09:08:00,018]\u001b[0m Trial 3 finished with value: 0.0033764082472771406 and parameters: {'ngf': 48, 'nz': 106, 'layers': 2, 'lr': 0.0007359285580780065, 'beta1': 0.595813427685862, 'beta2': 0.9330737288089802, 'l2': 1.1480942718893437e-05}. Best is trial 3 with value: 0.0033764082472771406.\u001b[0m\n"
     ]
    },
    {
     "data": {
      "application/vnd.jupyter.widget-view+json": {
       "model_id": "cc966763f7a44601ad210f32c05945bc",
       "version_major": 2,
       "version_minor": 0
      },
      "text/plain": [
       "  0%|          | 0/3000 [00:00<?, ?it/s]"
      ]
     },
     "metadata": {},
     "output_type": "display_data"
    },
    {
     "name": "stderr",
     "output_type": "stream",
     "text": [
      "/home/theycallmepeter/anaconda3/envs/pytorch3d/lib/python3.8/site-packages/torch/nn/functional.py:3451: UserWarning: Default upsampling behavior when mode=bilinear is changed to align_corners=False since 0.4.0. Please specify align_corners=True if the old behavior is desired. See the documentation of nn.Upsample for details.\n",
      "  warnings.warn(\n",
      "/mnt/c/Projects/deepstimate/pytorch3d/pytorch3d/transforms/transform3d.py:782: UserWarning: R is not a valid rotation matrix\n",
      "  warnings.warn(msg)\n",
      "\u001b[32m[I 2022-03-30 09:11:44,358]\u001b[0m Trial 4 finished with value: 0.0029302192851901054 and parameters: {'ngf': 64, 'nz': 93, 'layers': 5, 'lr': 0.0013737876509836687, 'beta1': 0.713824941122825, 'beta2': 0.9224325558666102, 'l2': 0.0001538601489229235}. Best is trial 4 with value: 0.0029302192851901054.\u001b[0m\n"
     ]
    },
    {
     "data": {
      "application/vnd.jupyter.widget-view+json": {
       "model_id": "a6962aebb0054b30aca177d5236d19c1",
       "version_major": 2,
       "version_minor": 0
      },
      "text/plain": [
       "  0%|          | 0/3000 [00:00<?, ?it/s]"
      ]
     },
     "metadata": {},
     "output_type": "display_data"
    },
    {
     "name": "stderr",
     "output_type": "stream",
     "text": [
      "/home/theycallmepeter/anaconda3/envs/pytorch3d/lib/python3.8/site-packages/torch/nn/functional.py:3451: UserWarning: Default upsampling behavior when mode=bilinear is changed to align_corners=False since 0.4.0. Please specify align_corners=True if the old behavior is desired. See the documentation of nn.Upsample for details.\n",
      "  warnings.warn(\n",
      "/mnt/c/Projects/deepstimate/pytorch3d/pytorch3d/transforms/transform3d.py:782: UserWarning: R is not a valid rotation matrix\n",
      "  warnings.warn(msg)\n",
      "\u001b[32m[I 2022-03-30 09:15:48,312]\u001b[0m Trial 5 finished with value: 0.004316471051424742 and parameters: {'ngf': 24, 'nz': 111, 'layers': 2, 'lr': 0.05293306953393148, 'beta1': 0.43347091187723374, 'beta2': 0.952074083056937, 'l2': 3.404217700757583e-05}. Best is trial 4 with value: 0.0029302192851901054.\u001b[0m\n"
     ]
    },
    {
     "data": {
      "application/vnd.jupyter.widget-view+json": {
       "model_id": "eed45385527f4e628c33b2d67198bb6a",
       "version_major": 2,
       "version_minor": 0
      },
      "text/plain": [
       "  0%|          | 0/3000 [00:00<?, ?it/s]"
      ]
     },
     "metadata": {},
     "output_type": "display_data"
    },
    {
     "name": "stderr",
     "output_type": "stream",
     "text": [
      "/home/theycallmepeter/anaconda3/envs/pytorch3d/lib/python3.8/site-packages/torch/nn/functional.py:3451: UserWarning: Default upsampling behavior when mode=bilinear is changed to align_corners=False since 0.4.0. Please specify align_corners=True if the old behavior is desired. See the documentation of nn.Upsample for details.\n",
      "  warnings.warn(\n",
      "/mnt/c/Projects/deepstimate/pytorch3d/pytorch3d/transforms/transform3d.py:782: UserWarning: R is not a valid rotation matrix\n",
      "  warnings.warn(msg)\n",
      "\u001b[32m[I 2022-03-30 09:19:40,683]\u001b[0m Trial 6 finished with value: 0.003040123963728547 and parameters: {'ngf': 48, 'nz': 85, 'layers': 6, 'lr': 0.0003009856441636201, 'beta1': 0.830465988934969, 'beta2': 0.9212663008533672, 'l2': 0.00034148213898382455}. Best is trial 4 with value: 0.0029302192851901054.\u001b[0m\n"
     ]
    },
    {
     "data": {
      "application/vnd.jupyter.widget-view+json": {
       "model_id": "a534fe25851d4e8bb886e6e7e05d034a",
       "version_major": 2,
       "version_minor": 0
      },
      "text/plain": [
       "  0%|          | 0/3000 [00:00<?, ?it/s]"
      ]
     },
     "metadata": {},
     "output_type": "display_data"
    },
    {
     "name": "stderr",
     "output_type": "stream",
     "text": [
      "/home/theycallmepeter/anaconda3/envs/pytorch3d/lib/python3.8/site-packages/torch/nn/functional.py:3451: UserWarning: Default upsampling behavior when mode=bilinear is changed to align_corners=False since 0.4.0. Please specify align_corners=True if the old behavior is desired. See the documentation of nn.Upsample for details.\n",
      "  warnings.warn(\n",
      "/mnt/c/Projects/deepstimate/pytorch3d/pytorch3d/transforms/transform3d.py:782: UserWarning: R is not a valid rotation matrix\n",
      "  warnings.warn(msg)\n",
      "\u001b[32m[I 2022-03-30 09:23:21,957]\u001b[0m Trial 7 finished with value: 0.0044854870066046715 and parameters: {'ngf': 16, 'nz': 62, 'layers': 4, 'lr': 0.03978387590587868, 'beta1': 0.2773760189989034, 'beta2': 0.9876301542238558, 'l2': 2.438009730356012e-05}. Best is trial 4 with value: 0.0029302192851901054.\u001b[0m\n"
     ]
    },
    {
     "data": {
      "application/vnd.jupyter.widget-view+json": {
       "model_id": "d7f2d7a84e3a4af7a7cbe5be590bede5",
       "version_major": 2,
       "version_minor": 0
      },
      "text/plain": [
       "  0%|          | 0/3000 [00:00<?, ?it/s]"
      ]
     },
     "metadata": {},
     "output_type": "display_data"
    },
    {
     "name": "stderr",
     "output_type": "stream",
     "text": [
      "/home/theycallmepeter/anaconda3/envs/pytorch3d/lib/python3.8/site-packages/torch/nn/functional.py:3451: UserWarning: Default upsampling behavior when mode=bilinear is changed to align_corners=False since 0.4.0. Please specify align_corners=True if the old behavior is desired. See the documentation of nn.Upsample for details.\n",
      "  warnings.warn(\n",
      "/mnt/c/Projects/deepstimate/pytorch3d/pytorch3d/transforms/transform3d.py:782: UserWarning: R is not a valid rotation matrix\n",
      "  warnings.warn(msg)\n",
      "\u001b[32m[I 2022-03-30 09:27:00,092]\u001b[0m Trial 8 finished with value: 0.0032787772361189127 and parameters: {'ngf': 24, 'nz': 116, 'layers': 4, 'lr': 4.9451505504547575e-05, 'beta1': 0.3840162597958793, 'beta2': 0.9324321511673824, 'l2': 4.177466760367036e-05}. Best is trial 4 with value: 0.0029302192851901054.\u001b[0m\n"
     ]
    },
    {
     "data": {
      "application/vnd.jupyter.widget-view+json": {
       "model_id": "ea822b05fa5c44b1b8116084d241a912",
       "version_major": 2,
       "version_minor": 0
      },
      "text/plain": [
       "  0%|          | 0/3000 [00:00<?, ?it/s]"
      ]
     },
     "metadata": {},
     "output_type": "display_data"
    },
    {
     "name": "stderr",
     "output_type": "stream",
     "text": [
      "/home/theycallmepeter/anaconda3/envs/pytorch3d/lib/python3.8/site-packages/torch/nn/functional.py:3451: UserWarning: Default upsampling behavior when mode=bilinear is changed to align_corners=False since 0.4.0. Please specify align_corners=True if the old behavior is desired. See the documentation of nn.Upsample for details.\n",
      "  warnings.warn(\n",
      "/mnt/c/Projects/deepstimate/pytorch3d/pytorch3d/transforms/transform3d.py:782: UserWarning: R is not a valid rotation matrix\n",
      "  warnings.warn(msg)\n",
      "\u001b[32m[I 2022-03-30 09:30:31,019]\u001b[0m Trial 9 finished with value: 0.0030035432428121567 and parameters: {'ngf': 32, 'nz': 53, 'layers': 4, 'lr': 0.0029018399026161956, 'beta1': 0.5208681137741247, 'beta2': 0.9254975115136684, 'l2': 1.4016126284154323e-05}. Best is trial 4 with value: 0.0029302192851901054.\u001b[0m\n"
     ]
    },
    {
     "data": {
      "application/vnd.jupyter.widget-view+json": {
       "model_id": "60fc46676a4946b490a24f61c24c7725",
       "version_major": 2,
       "version_minor": 0
      },
      "text/plain": [
       "  0%|          | 0/3000 [00:00<?, ?it/s]"
      ]
     },
     "metadata": {},
     "output_type": "display_data"
    },
    {
     "name": "stderr",
     "output_type": "stream",
     "text": [
      "/home/theycallmepeter/anaconda3/envs/pytorch3d/lib/python3.8/site-packages/torch/nn/functional.py:3451: UserWarning: Default upsampling behavior when mode=bilinear is changed to align_corners=False since 0.4.0. Please specify align_corners=True if the old behavior is desired. See the documentation of nn.Upsample for details.\n",
      "  warnings.warn(\n",
      "/mnt/c/Projects/deepstimate/pytorch3d/pytorch3d/transforms/transform3d.py:782: UserWarning: R is not a valid rotation matrix\n",
      "  warnings.warn(msg)\n",
      "\u001b[32m[I 2022-03-30 09:34:09,418]\u001b[0m Trial 10 finished with value: 0.004393850453197956 and parameters: {'ngf': 64, 'nz': 96, 'layers': 5, 'lr': 1.3826464535373427e-05, 'beta1': 0.8758520899397112, 'beta2': 0.9034988808965378, 'l2': 1.0346966754256166e-06}. Best is trial 4 with value: 0.0029302192851901054.\u001b[0m\n"
     ]
    },
    {
     "data": {
      "application/vnd.jupyter.widget-view+json": {
       "model_id": "60defbe858184ded8ee5213b5f73c0ca",
       "version_major": 2,
       "version_minor": 0
      },
      "text/plain": [
       "  0%|          | 0/3000 [00:00<?, ?it/s]"
      ]
     },
     "metadata": {},
     "output_type": "display_data"
    },
    {
     "name": "stderr",
     "output_type": "stream",
     "text": [
      "/home/theycallmepeter/anaconda3/envs/pytorch3d/lib/python3.8/site-packages/torch/nn/functional.py:3451: UserWarning: Default upsampling behavior when mode=bilinear is changed to align_corners=False since 0.4.0. Please specify align_corners=True if the old behavior is desired. See the documentation of nn.Upsample for details.\n",
      "  warnings.warn(\n",
      "/mnt/c/Projects/deepstimate/pytorch3d/pytorch3d/transforms/transform3d.py:782: UserWarning: R is not a valid rotation matrix\n",
      "  warnings.warn(msg)\n",
      "\u001b[32m[I 2022-03-30 09:37:42,485]\u001b[0m Trial 11 finished with value: 0.00317040691152215 and parameters: {'ngf': 32, 'nz': 50, 'layers': 5, 'lr': 0.0037225039462455436, 'beta1': 0.6754281756773348, 'beta2': 0.9075192280125961, 'l2': 0.005535717458489151}. Best is trial 4 with value: 0.0029302192851901054.\u001b[0m\n"
     ]
    },
    {
     "data": {
      "application/vnd.jupyter.widget-view+json": {
       "model_id": "4edb6b1cdd2e4d8c99c8a6eacf774929",
       "version_major": 2,
       "version_minor": 0
      },
      "text/plain": [
       "  0%|          | 0/3000 [00:00<?, ?it/s]"
      ]
     },
     "metadata": {},
     "output_type": "display_data"
    },
    {
     "name": "stderr",
     "output_type": "stream",
     "text": [
      "/home/theycallmepeter/anaconda3/envs/pytorch3d/lib/python3.8/site-packages/torch/nn/functional.py:3451: UserWarning: Default upsampling behavior when mode=bilinear is changed to align_corners=False since 0.4.0. Please specify align_corners=True if the old behavior is desired. See the documentation of nn.Upsample for details.\n",
      "  warnings.warn(\n",
      "/mnt/c/Projects/deepstimate/pytorch3d/pytorch3d/transforms/transform3d.py:782: UserWarning: R is not a valid rotation matrix\n",
      "  warnings.warn(msg)\n",
      "\u001b[32m[I 2022-03-30 09:41:15,220]\u001b[0m Trial 12 finished with value: 0.002889611991122365 and parameters: {'ngf': 32, 'nz': 89, 'layers': 5, 'lr': 0.00293531207807334, 'beta1': 0.49997694263314657, 'beta2': 0.9354318717272814, 'l2': 5.512058473101216e-06}. Best is trial 12 with value: 0.002889611991122365.\u001b[0m\n"
     ]
    },
    {
     "data": {
      "application/vnd.jupyter.widget-view+json": {
       "model_id": "04250442553d48df9904421cd0a9b44a",
       "version_major": 2,
       "version_minor": 0
      },
      "text/plain": [
       "  0%|          | 0/3000 [00:00<?, ?it/s]"
      ]
     },
     "metadata": {},
     "output_type": "display_data"
    },
    {
     "name": "stderr",
     "output_type": "stream",
     "text": [
      "/home/theycallmepeter/anaconda3/envs/pytorch3d/lib/python3.8/site-packages/torch/nn/functional.py:3451: UserWarning: Default upsampling behavior when mode=bilinear is changed to align_corners=False since 0.4.0. Please specify align_corners=True if the old behavior is desired. See the documentation of nn.Upsample for details.\n",
      "  warnings.warn(\n",
      "/mnt/c/Projects/deepstimate/pytorch3d/pytorch3d/transforms/transform3d.py:782: UserWarning: R is not a valid rotation matrix\n",
      "  warnings.warn(msg)\n",
      "\u001b[32m[I 2022-03-30 09:44:53,732]\u001b[0m Trial 13 finished with value: 0.0028373959939926863 and parameters: {'ngf': 64, 'nz': 91, 'layers': 5, 'lr': 0.001729390742828276, 'beta1': 0.6970508401874574, 'beta2': 0.940454024366559, 'l2': 2.352989881183711e-06}. Best is trial 13 with value: 0.0028373959939926863.\u001b[0m\n"
     ]
    },
    {
     "data": {
      "application/vnd.jupyter.widget-view+json": {
       "model_id": "14af083f78ca49bebcea66bce9609f28",
       "version_major": 2,
       "version_minor": 0
      },
      "text/plain": [
       "  0%|          | 0/3000 [00:00<?, ?it/s]"
      ]
     },
     "metadata": {},
     "output_type": "display_data"
    },
    {
     "name": "stderr",
     "output_type": "stream",
     "text": [
      "/home/theycallmepeter/anaconda3/envs/pytorch3d/lib/python3.8/site-packages/torch/nn/functional.py:3451: UserWarning: Default upsampling behavior when mode=bilinear is changed to align_corners=False since 0.4.0. Please specify align_corners=True if the old behavior is desired. See the documentation of nn.Upsample for details.\n",
      "  warnings.warn(\n",
      "/mnt/c/Projects/deepstimate/pytorch3d/pytorch3d/transforms/transform3d.py:782: UserWarning: R is not a valid rotation matrix\n",
      "  warnings.warn(msg)\n",
      "\u001b[32m[I 2022-03-30 09:48:34,026]\u001b[0m Trial 14 finished with value: 0.003235294483602047 and parameters: {'ngf': 32, 'nz': 80, 'layers': 3, 'lr': 0.007551074433216413, 'beta1': 0.5342265276424631, 'beta2': 0.9432750430521447, 'l2': 1.9240829915136808e-06}. Best is trial 13 with value: 0.0028373959939926863.\u001b[0m\n"
     ]
    },
    {
     "data": {
      "application/vnd.jupyter.widget-view+json": {
       "model_id": "8603ad579aec42bc9ec97ce3909bae88",
       "version_major": 2,
       "version_minor": 0
      },
      "text/plain": [
       "  0%|          | 0/3000 [00:00<?, ?it/s]"
      ]
     },
     "metadata": {},
     "output_type": "display_data"
    },
    {
     "name": "stderr",
     "output_type": "stream",
     "text": [
      "/home/theycallmepeter/anaconda3/envs/pytorch3d/lib/python3.8/site-packages/torch/nn/functional.py:3451: UserWarning: Default upsampling behavior when mode=bilinear is changed to align_corners=False since 0.4.0. Please specify align_corners=True if the old behavior is desired. See the documentation of nn.Upsample for details.\n",
      "  warnings.warn(\n",
      "/mnt/c/Projects/deepstimate/pytorch3d/pytorch3d/transforms/transform3d.py:782: UserWarning: R is not a valid rotation matrix\n",
      "  warnings.warn(msg)\n",
      "\u001b[32m[I 2022-03-30 09:52:22,942]\u001b[0m Trial 15 finished with value: 0.0030213375575840473 and parameters: {'ngf': 64, 'nz': 93, 'layers': 6, 'lr': 0.0005690241489305341, 'beta1': 0.7931159394958697, 'beta2': 0.9687605141336738, 'l2': 3.890005979172106e-06}. Best is trial 13 with value: 0.0028373959939926863.\u001b[0m\n"
     ]
    },
    {
     "data": {
      "application/vnd.jupyter.widget-view+json": {
       "model_id": "f7c841d3dae345df984adb2a279fee43",
       "version_major": 2,
       "version_minor": 0
      },
      "text/plain": [
       "  0%|          | 0/3000 [00:00<?, ?it/s]"
      ]
     },
     "metadata": {},
     "output_type": "display_data"
    },
    {
     "name": "stderr",
     "output_type": "stream",
     "text": [
      "/home/theycallmepeter/anaconda3/envs/pytorch3d/lib/python3.8/site-packages/torch/nn/functional.py:3451: UserWarning: Default upsampling behavior when mode=bilinear is changed to align_corners=False since 0.4.0. Please specify align_corners=True if the old behavior is desired. See the documentation of nn.Upsample for details.\n",
      "  warnings.warn(\n",
      "/mnt/c/Projects/deepstimate/pytorch3d/pytorch3d/transforms/transform3d.py:782: UserWarning: R is not a valid rotation matrix\n",
      "  warnings.warn(msg)\n",
      "\u001b[32m[I 2022-03-30 09:56:10,980]\u001b[0m Trial 16 finished with value: 0.002849039388820529 and parameters: {'ngf': 64, 'nz': 66, 'layers': 6, 'lr': 0.0001169186931215359, 'beta1': 0.6158540128095046, 'beta2': 0.9440230060080668, 'l2': 4.66934643833908e-06}. Best is trial 13 with value: 0.0028373959939926863.\u001b[0m\n"
     ]
    },
    {
     "data": {
      "application/vnd.jupyter.widget-view+json": {
       "model_id": "9515a7f2c9d74e5b89fb4d7f8909e7c8",
       "version_major": 2,
       "version_minor": 0
      },
      "text/plain": [
       "  0%|          | 0/3000 [00:00<?, ?it/s]"
      ]
     },
     "metadata": {},
     "output_type": "display_data"
    },
    {
     "name": "stderr",
     "output_type": "stream",
     "text": [
      "/home/theycallmepeter/anaconda3/envs/pytorch3d/lib/python3.8/site-packages/torch/nn/functional.py:3451: UserWarning: Default upsampling behavior when mode=bilinear is changed to align_corners=False since 0.4.0. Please specify align_corners=True if the old behavior is desired. See the documentation of nn.Upsample for details.\n",
      "  warnings.warn(\n",
      "/mnt/c/Projects/deepstimate/pytorch3d/pytorch3d/transforms/transform3d.py:782: UserWarning: R is not a valid rotation matrix\n",
      "  warnings.warn(msg)\n",
      "\u001b[32m[I 2022-03-30 09:59:59,396]\u001b[0m Trial 17 finished with value: 0.002924953820183873 and parameters: {'ngf': 64, 'nz': 65, 'layers': 6, 'lr': 9.915911174743389e-05, 'beta1': 0.6270101536068481, 'beta2': 0.9629713203985095, 'l2': 4.134723277198421e-06}. Best is trial 13 with value: 0.0028373959939926863.\u001b[0m\n"
     ]
    },
    {
     "data": {
      "application/vnd.jupyter.widget-view+json": {
       "model_id": "52a844a9125d4ff586b62f937853ac5f",
       "version_major": 2,
       "version_minor": 0
      },
      "text/plain": [
       "  0%|          | 0/3000 [00:00<?, ?it/s]"
      ]
     },
     "metadata": {},
     "output_type": "display_data"
    },
    {
     "name": "stderr",
     "output_type": "stream",
     "text": [
      "/home/theycallmepeter/anaconda3/envs/pytorch3d/lib/python3.8/site-packages/torch/nn/functional.py:3451: UserWarning: Default upsampling behavior when mode=bilinear is changed to align_corners=False since 0.4.0. Please specify align_corners=True if the old behavior is desired. See the documentation of nn.Upsample for details.\n",
      "  warnings.warn(\n",
      "/mnt/c/Projects/deepstimate/pytorch3d/pytorch3d/transforms/transform3d.py:782: UserWarning: R is not a valid rotation matrix\n",
      "  warnings.warn(msg)\n",
      "\u001b[32m[I 2022-03-30 10:04:28,385]\u001b[0m Trial 18 finished with value: 0.0030103574972599745 and parameters: {'ngf': 64, 'nz': 66, 'layers': 7, 'lr': 2.0014048749969192e-05, 'beta1': 0.771604434049427, 'beta2': 0.9981406268198598, 'l2': 2.737793582649029e-06}. Best is trial 13 with value: 0.0028373959939926863.\u001b[0m\n"
     ]
    },
    {
     "data": {
      "application/vnd.jupyter.widget-view+json": {
       "model_id": "00294f9ddb3446ef91d0a4a90f8e1d64",
       "version_major": 2,
       "version_minor": 0
      },
      "text/plain": [
       "  0%|          | 0/3000 [00:00<?, ?it/s]"
      ]
     },
     "metadata": {},
     "output_type": "display_data"
    },
    {
     "name": "stderr",
     "output_type": "stream",
     "text": [
      "/home/theycallmepeter/anaconda3/envs/pytorch3d/lib/python3.8/site-packages/torch/nn/functional.py:3451: UserWarning: Default upsampling behavior when mode=bilinear is changed to align_corners=False since 0.4.0. Please specify align_corners=True if the old behavior is desired. See the documentation of nn.Upsample for details.\n",
      "  warnings.warn(\n",
      "/mnt/c/Projects/deepstimate/pytorch3d/pytorch3d/transforms/transform3d.py:782: UserWarning: R is not a valid rotation matrix\n",
      "  warnings.warn(msg)\n",
      "\u001b[32m[I 2022-03-30 10:08:16,447]\u001b[0m Trial 19 finished with value: 0.002921896753832698 and parameters: {'ngf': 64, 'nz': 72, 'layers': 6, 'lr': 4.854654323991459e-05, 'beta1': 0.6046027074166469, 'beta2': 0.9437276959287834, 'l2': 1.0371532271767625e-06}. Best is trial 13 with value: 0.0028373959939926863.\u001b[0m\n"
     ]
    },
    {
     "data": {
      "application/vnd.jupyter.widget-view+json": {
       "model_id": "5bb8cbd2aae541a89892f733b35fbe9c",
       "version_major": 2,
       "version_minor": 0
      },
      "text/plain": [
       "  0%|          | 0/3000 [00:00<?, ?it/s]"
      ]
     },
     "metadata": {},
     "output_type": "display_data"
    },
    {
     "name": "stderr",
     "output_type": "stream",
     "text": [
      "/home/theycallmepeter/anaconda3/envs/pytorch3d/lib/python3.8/site-packages/torch/nn/functional.py:3451: UserWarning: Default upsampling behavior when mode=bilinear is changed to align_corners=False since 0.4.0. Please specify align_corners=True if the old behavior is desired. See the documentation of nn.Upsample for details.\n",
      "  warnings.warn(\n",
      "/mnt/c/Projects/deepstimate/pytorch3d/pytorch3d/transforms/transform3d.py:782: UserWarning: R is not a valid rotation matrix\n",
      "  warnings.warn(msg)\n",
      "\u001b[32m[I 2022-03-30 10:11:56,135]\u001b[0m Trial 20 finished with value: 0.003041797550395131 and parameters: {'ngf': 64, 'nz': 58, 'layers': 3, 'lr': 0.00029251198661176155, 'beta1': 0.7338292180049953, 'beta2': 0.9603102286411819, 'l2': 0.00044618366234133755}. Best is trial 13 with value: 0.0028373959939926863.\u001b[0m\n"
     ]
    },
    {
     "data": {
      "application/vnd.jupyter.widget-view+json": {
       "model_id": "ed6f77ed16ba4ef8a3a531b454ec5382",
       "version_major": 2,
       "version_minor": 0
      },
      "text/plain": [
       "  0%|          | 0/3000 [00:00<?, ?it/s]"
      ]
     },
     "metadata": {},
     "output_type": "display_data"
    },
    {
     "name": "stderr",
     "output_type": "stream",
     "text": [
      "/home/theycallmepeter/anaconda3/envs/pytorch3d/lib/python3.8/site-packages/torch/nn/functional.py:3451: UserWarning: Default upsampling behavior when mode=bilinear is changed to align_corners=False since 0.4.0. Please specify align_corners=True if the old behavior is desired. See the documentation of nn.Upsample for details.\n",
      "  warnings.warn(\n",
      "/mnt/c/Projects/deepstimate/pytorch3d/pytorch3d/transforms/transform3d.py:782: UserWarning: R is not a valid rotation matrix\n",
      "  warnings.warn(msg)\n",
      "\u001b[32m[I 2022-03-30 10:15:28,872]\u001b[0m Trial 21 finished with value: 0.0029863433446735144 and parameters: {'ngf': 32, 'nz': 88, 'layers': 5, 'lr': 0.0017527295383776389, 'beta1': 0.4659882890870486, 'beta2': 0.9360433945641745, 'l2': 7.458190655222238e-06}. Best is trial 13 with value: 0.0028373959939926863.\u001b[0m\n"
     ]
    },
    {
     "data": {
      "application/vnd.jupyter.widget-view+json": {
       "model_id": "d8256ac374d645268027c84c0380e4a4",
       "version_major": 2,
       "version_minor": 0
      },
      "text/plain": [
       "  0%|          | 0/3000 [00:00<?, ?it/s]"
      ]
     },
     "metadata": {},
     "output_type": "display_data"
    },
    {
     "name": "stderr",
     "output_type": "stream",
     "text": [
      "/home/theycallmepeter/anaconda3/envs/pytorch3d/lib/python3.8/site-packages/torch/nn/functional.py:3451: UserWarning: Default upsampling behavior when mode=bilinear is changed to align_corners=False since 0.4.0. Please specify align_corners=True if the old behavior is desired. See the documentation of nn.Upsample for details.\n",
      "  warnings.warn(\n",
      "/mnt/c/Projects/deepstimate/pytorch3d/pytorch3d/transforms/transform3d.py:782: UserWarning: R is not a valid rotation matrix\n",
      "  warnings.warn(msg)\n",
      "\u001b[32m[I 2022-03-30 10:19:01,937]\u001b[0m Trial 22 finished with value: 0.0031709480099380016 and parameters: {'ngf': 32, 'nz': 83, 'layers': 5, 'lr': 0.010661594483698533, 'beta1': 0.4782035674695765, 'beta2': 0.9440048975966563, 'l2': 7.0723557673356135e-06}. Best is trial 13 with value: 0.0028373959939926863.\u001b[0m\n"
     ]
    },
    {
     "data": {
      "application/vnd.jupyter.widget-view+json": {
       "model_id": "8bd146177af047d986334ffa1a838552",
       "version_major": 2,
       "version_minor": 0
      },
      "text/plain": [
       "  0%|          | 0/3000 [00:00<?, ?it/s]"
      ]
     },
     "metadata": {},
     "output_type": "display_data"
    },
    {
     "name": "stderr",
     "output_type": "stream",
     "text": [
      "/home/theycallmepeter/anaconda3/envs/pytorch3d/lib/python3.8/site-packages/torch/nn/functional.py:3451: UserWarning: Default upsampling behavior when mode=bilinear is changed to align_corners=False since 0.4.0. Please specify align_corners=True if the old behavior is desired. See the documentation of nn.Upsample for details.\n",
      "  warnings.warn(\n",
      "/mnt/c/Projects/deepstimate/pytorch3d/pytorch3d/transforms/transform3d.py:782: UserWarning: R is not a valid rotation matrix\n",
      "  warnings.warn(msg)\n",
      "\u001b[32m[I 2022-03-30 10:22:50,479]\u001b[0m Trial 23 finished with value: 0.0031058385502547026 and parameters: {'ngf': 64, 'nz': 98, 'layers': 6, 'lr': 0.0039005260375153095, 'beta1': 0.3629625748231108, 'beta2': 0.9361606137578529, 'l2': 2.213078729250514e-06}. Best is trial 13 with value: 0.0028373959939926863.\u001b[0m\n"
     ]
    },
    {
     "data": {
      "application/vnd.jupyter.widget-view+json": {
       "model_id": "1a9bb594c9354a5783df8ba65458f007",
       "version_major": 2,
       "version_minor": 0
      },
      "text/plain": [
       "  0%|          | 0/3000 [00:00<?, ?it/s]"
      ]
     },
     "metadata": {},
     "output_type": "display_data"
    },
    {
     "name": "stderr",
     "output_type": "stream",
     "text": [
      "/home/theycallmepeter/anaconda3/envs/pytorch3d/lib/python3.8/site-packages/torch/nn/functional.py:3451: UserWarning: Default upsampling behavior when mode=bilinear is changed to align_corners=False since 0.4.0. Please specify align_corners=True if the old behavior is desired. See the documentation of nn.Upsample for details.\n",
      "  warnings.warn(\n",
      "/mnt/c/Projects/deepstimate/pytorch3d/pytorch3d/transforms/transform3d.py:782: UserWarning: R is not a valid rotation matrix\n",
      "  warnings.warn(msg)\n",
      "\u001b[32m[I 2022-03-30 10:26:24,156]\u001b[0m Trial 24 finished with value: 0.0030499515123665333 and parameters: {'ngf': 48, 'nz': 89, 'layers': 5, 'lr': 0.0005053499917217957, 'beta1': 0.6461300804415674, 'beta2': 0.910782424269156, 'l2': 1.8114322513257697e-05}. Best is trial 13 with value: 0.0028373959939926863.\u001b[0m\n"
     ]
    },
    {
     "data": {
      "application/vnd.jupyter.widget-view+json": {
       "model_id": "01cfea27af2e4c9d9074939d95aa6254",
       "version_major": 2,
       "version_minor": 0
      },
      "text/plain": [
       "  0%|          | 0/3000 [00:00<?, ?it/s]"
      ]
     },
     "metadata": {},
     "output_type": "display_data"
    },
    {
     "name": "stderr",
     "output_type": "stream",
     "text": [
      "/home/theycallmepeter/anaconda3/envs/pytorch3d/lib/python3.8/site-packages/torch/nn/functional.py:3451: UserWarning: Default upsampling behavior when mode=bilinear is changed to align_corners=False since 0.4.0. Please specify align_corners=True if the old behavior is desired. See the documentation of nn.Upsample for details.\n",
      "  warnings.warn(\n",
      "/mnt/c/Projects/deepstimate/pytorch3d/pytorch3d/transforms/transform3d.py:782: UserWarning: R is not a valid rotation matrix\n",
      "  warnings.warn(msg)\n",
      "\u001b[32m[I 2022-03-30 10:30:04,074]\u001b[0m Trial 25 finished with value: 0.003278149990364909 and parameters: {'ngf': 32, 'nz': 78, 'layers': 3, 'lr': 0.0018475489897136575, 'beta1': 0.5832597602917153, 'beta2': 0.9497654106279408, 'l2': 6.357990435881574e-06}. Best is trial 13 with value: 0.0028373959939926863.\u001b[0m\n"
     ]
    },
    {
     "data": {
      "application/vnd.jupyter.widget-view+json": {
       "model_id": "63f6974107a041afa4f86c0c43c595f9",
       "version_major": 2,
       "version_minor": 0
      },
      "text/plain": [
       "  0%|          | 0/3000 [00:00<?, ?it/s]"
      ]
     },
     "metadata": {},
     "output_type": "display_data"
    },
    {
     "name": "stderr",
     "output_type": "stream",
     "text": [
      "/home/theycallmepeter/anaconda3/envs/pytorch3d/lib/python3.8/site-packages/torch/nn/functional.py:3451: UserWarning: Default upsampling behavior when mode=bilinear is changed to align_corners=False since 0.4.0. Please specify align_corners=True if the old behavior is desired. See the documentation of nn.Upsample for details.\n",
      "  warnings.warn(\n",
      "/mnt/c/Projects/deepstimate/pytorch3d/pytorch3d/transforms/transform3d.py:782: UserWarning: R is not a valid rotation matrix\n",
      "  warnings.warn(msg)\n",
      "\u001b[32m[I 2022-03-30 10:33:35,818]\u001b[0m Trial 26 finished with value: 0.003992126788944006 and parameters: {'ngf': 64, 'nz': 70, 'layers': 4, 'lr': 0.09877399195578969, 'beta1': 0.5406327531915291, 'beta2': 0.9285135368558769, 'l2': 5.6133856380823676e-05}. Best is trial 13 with value: 0.0028373959939926863.\u001b[0m\n"
     ]
    },
    {
     "data": {
      "application/vnd.jupyter.widget-view+json": {
       "model_id": "4cf79a7d90334a9cb45082754c0d7bef",
       "version_major": 2,
       "version_minor": 0
      },
      "text/plain": [
       "  0%|          | 0/3000 [00:00<?, ?it/s]"
      ]
     },
     "metadata": {},
     "output_type": "display_data"
    },
    {
     "name": "stderr",
     "output_type": "stream",
     "text": [
      "/home/theycallmepeter/anaconda3/envs/pytorch3d/lib/python3.8/site-packages/torch/nn/functional.py:3451: UserWarning: Default upsampling behavior when mode=bilinear is changed to align_corners=False since 0.4.0. Please specify align_corners=True if the old behavior is desired. See the documentation of nn.Upsample for details.\n",
      "  warnings.warn(\n",
      "/mnt/c/Projects/deepstimate/pytorch3d/pytorch3d/transforms/transform3d.py:782: UserWarning: R is not a valid rotation matrix\n",
      "  warnings.warn(msg)\n",
      "\u001b[32m[I 2022-03-30 10:37:24,727]\u001b[0m Trial 27 finished with value: 0.003014444373548031 and parameters: {'ngf': 64, 'nz': 102, 'layers': 6, 'lr': 0.00012962497401334326, 'beta1': 0.7606798593603237, 'beta2': 0.9403162531921408, 'l2': 1.8415227766817737e-06}. Best is trial 13 with value: 0.0028373959939926863.\u001b[0m\n"
     ]
    },
    {
     "data": {
      "application/vnd.jupyter.widget-view+json": {
       "model_id": "a935bf378fbf45b2984be3cf77b2466d",
       "version_major": 2,
       "version_minor": 0
      },
      "text/plain": [
       "  0%|          | 0/3000 [00:00<?, ?it/s]"
      ]
     },
     "metadata": {},
     "output_type": "display_data"
    },
    {
     "name": "stderr",
     "output_type": "stream",
     "text": [
      "/home/theycallmepeter/anaconda3/envs/pytorch3d/lib/python3.8/site-packages/torch/nn/functional.py:3451: UserWarning: Default upsampling behavior when mode=bilinear is changed to align_corners=False since 0.4.0. Please specify align_corners=True if the old behavior is desired. See the documentation of nn.Upsample for details.\n",
      "  warnings.warn(\n",
      "/mnt/c/Projects/deepstimate/pytorch3d/pytorch3d/transforms/transform3d.py:782: UserWarning: R is not a valid rotation matrix\n",
      "  warnings.warn(msg)\n",
      "\u001b[32m[I 2022-03-30 10:41:14,227]\u001b[0m Trial 28 finished with value: 0.0031253506895154715 and parameters: {'ngf': 32, 'nz': 90, 'layers': 7, 'lr': 0.019034257465247728, 'beta1': 0.6589337847230493, 'beta2': 0.9559324642917142, 'l2': 1.0527829526317456e-05}. Best is trial 13 with value: 0.0028373959939926863.\u001b[0m\n"
     ]
    },
    {
     "data": {
      "application/vnd.jupyter.widget-view+json": {
       "model_id": "5ca7c28198444e1db27a014ee5cec592",
       "version_major": 2,
       "version_minor": 0
      },
      "text/plain": [
       "  0%|          | 0/3000 [00:00<?, ?it/s]"
      ]
     },
     "metadata": {},
     "output_type": "display_data"
    },
    {
     "name": "stderr",
     "output_type": "stream",
     "text": [
      "/home/theycallmepeter/anaconda3/envs/pytorch3d/lib/python3.8/site-packages/torch/nn/functional.py:3451: UserWarning: Default upsampling behavior when mode=bilinear is changed to align_corners=False since 0.4.0. Please specify align_corners=True if the old behavior is desired. See the documentation of nn.Upsample for details.\n",
      "  warnings.warn(\n",
      "/mnt/c/Projects/deepstimate/pytorch3d/pytorch3d/transforms/transform3d.py:782: UserWarning: R is not a valid rotation matrix\n",
      "  warnings.warn(msg)\n",
      "\u001b[32m[I 2022-03-30 10:44:53,906]\u001b[0m Trial 29 finished with value: 0.002959985751658678 and parameters: {'ngf': 16, 'nz': 82, 'layers': 7, 'lr': 0.006757947015147554, 'beta1': 0.40664473858991496, 'beta2': 0.9766109745264593, 'l2': 4.341534818123783e-06}. Best is trial 13 with value: 0.0028373959939926863.\u001b[0m\n"
     ]
    },
    {
     "data": {
      "application/vnd.jupyter.widget-view+json": {
       "model_id": "6b1259a2a0694192813fbbb5d882de8f",
       "version_major": 2,
       "version_minor": 0
      },
      "text/plain": [
       "  0%|          | 0/3000 [00:00<?, ?it/s]"
      ]
     },
     "metadata": {},
     "output_type": "display_data"
    },
    {
     "name": "stderr",
     "output_type": "stream",
     "text": [
      "/home/theycallmepeter/anaconda3/envs/pytorch3d/lib/python3.8/site-packages/torch/nn/functional.py:3451: UserWarning: Default upsampling behavior when mode=bilinear is changed to align_corners=False since 0.4.0. Please specify align_corners=True if the old behavior is desired. See the documentation of nn.Upsample for details.\n",
      "  warnings.warn(\n",
      "/mnt/c/Projects/deepstimate/pytorch3d/pytorch3d/transforms/transform3d.py:782: UserWarning: R is not a valid rotation matrix\n",
      "  warnings.warn(msg)\n",
      "\u001b[32m[I 2022-03-30 10:48:25,651]\u001b[0m Trial 30 finished with value: 0.0029080978129059076 and parameters: {'ngf': 24, 'nz': 76, 'layers': 5, 'lr': 0.000992247293572875, 'beta1': 0.22707024579478252, 'beta2': 0.9165611660796587, 'l2': 1.2147834069861242e-06}. Best is trial 13 with value: 0.0028373959939926863.\u001b[0m\n"
     ]
    },
    {
     "data": {
      "application/vnd.jupyter.widget-view+json": {
       "model_id": "f7c8c415df32419f8c912ea1e015beba",
       "version_major": 2,
       "version_minor": 0
      },
      "text/plain": [
       "  0%|          | 0/3000 [00:00<?, ?it/s]"
      ]
     },
     "metadata": {},
     "output_type": "display_data"
    },
    {
     "name": "stderr",
     "output_type": "stream",
     "text": [
      "/home/theycallmepeter/anaconda3/envs/pytorch3d/lib/python3.8/site-packages/torch/nn/functional.py:3451: UserWarning: Default upsampling behavior when mode=bilinear is changed to align_corners=False since 0.4.0. Please specify align_corners=True if the old behavior is desired. See the documentation of nn.Upsample for details.\n",
      "  warnings.warn(\n",
      "/mnt/c/Projects/deepstimate/pytorch3d/pytorch3d/transforms/transform3d.py:782: UserWarning: R is not a valid rotation matrix\n",
      "  warnings.warn(msg)\n",
      "\u001b[32m[I 2022-03-30 10:51:57,514]\u001b[0m Trial 31 finished with value: 0.003047855570912361 and parameters: {'ngf': 24, 'nz': 75, 'layers': 5, 'lr': 0.0010269118199224287, 'beta1': 0.20807606452308375, 'beta2': 0.9137383626949048, 'l2': 2.2348064522377476e-06}. Best is trial 13 with value: 0.0028373959939926863.\u001b[0m\n"
     ]
    },
    {
     "data": {
      "application/vnd.jupyter.widget-view+json": {
       "model_id": "21b85de905fe406783a9f6c046c99a00",
       "version_major": 2,
       "version_minor": 0
      },
      "text/plain": [
       "  0%|          | 0/3000 [00:00<?, ?it/s]"
      ]
     },
     "metadata": {},
     "output_type": "display_data"
    },
    {
     "name": "stderr",
     "output_type": "stream",
     "text": [
      "/home/theycallmepeter/anaconda3/envs/pytorch3d/lib/python3.8/site-packages/torch/nn/functional.py:3451: UserWarning: Default upsampling behavior when mode=bilinear is changed to align_corners=False since 0.4.0. Please specify align_corners=True if the old behavior is desired. See the documentation of nn.Upsample for details.\n",
      "  warnings.warn(\n",
      "/mnt/c/Projects/deepstimate/pytorch3d/pytorch3d/transforms/transform3d.py:782: UserWarning: R is not a valid rotation matrix\n",
      "  warnings.warn(msg)\n",
      "\u001b[32m[I 2022-03-30 10:55:31,339]\u001b[0m Trial 32 finished with value: 0.0029354512225836515 and parameters: {'ngf': 24, 'nz': 69, 'layers': 6, 'lr': 0.0026734949705964485, 'beta1': 0.2267627691404555, 'beta2': 0.9180983643777998, 'l2': 1.0164738518240888e-06}. Best is trial 13 with value: 0.0028373959939926863.\u001b[0m\n"
     ]
    },
    {
     "data": {
      "application/vnd.jupyter.widget-view+json": {
       "model_id": "69c81809bdff4be084ca2ed7336d5422",
       "version_major": 2,
       "version_minor": 0
      },
      "text/plain": [
       "  0%|          | 0/3000 [00:00<?, ?it/s]"
      ]
     },
     "metadata": {},
     "output_type": "display_data"
    },
    {
     "name": "stderr",
     "output_type": "stream",
     "text": [
      "/home/theycallmepeter/anaconda3/envs/pytorch3d/lib/python3.8/site-packages/torch/nn/functional.py:3451: UserWarning: Default upsampling behavior when mode=bilinear is changed to align_corners=False since 0.4.0. Please specify align_corners=True if the old behavior is desired. See the documentation of nn.Upsample for details.\n",
      "  warnings.warn(\n",
      "/mnt/c/Projects/deepstimate/pytorch3d/pytorch3d/transforms/transform3d.py:782: UserWarning: R is not a valid rotation matrix\n",
      "  warnings.warn(msg)\n",
      "\u001b[32m[I 2022-03-30 10:59:03,059]\u001b[0m Trial 33 finished with value: 0.0029183230362832546 and parameters: {'ngf': 24, 'nz': 76, 'layers': 5, 'lr': 0.0003946206312836845, 'beta1': 0.33876971723669563, 'beta2': 0.9314816603557083, 'l2': 3.865673294175894e-06}. Best is trial 13 with value: 0.0028373959939926863.\u001b[0m\n"
     ]
    },
    {
     "data": {
      "application/vnd.jupyter.widget-view+json": {
       "model_id": "bbcfd2c828544ebda9bb8265efb3595e",
       "version_major": 2,
       "version_minor": 0
      },
      "text/plain": [
       "  0%|          | 0/3000 [00:00<?, ?it/s]"
      ]
     },
     "metadata": {},
     "output_type": "display_data"
    },
    {
     "name": "stderr",
     "output_type": "stream",
     "text": [
      "/home/theycallmepeter/anaconda3/envs/pytorch3d/lib/python3.8/site-packages/torch/nn/functional.py:3451: UserWarning: Default upsampling behavior when mode=bilinear is changed to align_corners=False since 0.4.0. Please specify align_corners=True if the old behavior is desired. See the documentation of nn.Upsample for details.\n",
      "  warnings.warn(\n",
      "/mnt/c/Projects/deepstimate/pytorch3d/pytorch3d/transforms/transform3d.py:782: UserWarning: R is not a valid rotation matrix\n",
      "  warnings.warn(msg)\n",
      "\u001b[32m[I 2022-03-30 11:02:33,088]\u001b[0m Trial 34 finished with value: 0.0030479689594358206 and parameters: {'ngf': 16, 'nz': 60, 'layers': 4, 'lr': 0.0010024453182221507, 'beta1': 0.3099260389790481, 'beta2': 0.9171051109193289, 'l2': 1.7589108456132481e-06}. Best is trial 13 with value: 0.0028373959939926863.\u001b[0m\n"
     ]
    },
    {
     "data": {
      "application/vnd.jupyter.widget-view+json": {
       "model_id": "139fa83d31064b67b4ba55edb621ddca",
       "version_major": 2,
       "version_minor": 0
      },
      "text/plain": [
       "  0%|          | 0/3000 [00:00<?, ?it/s]"
      ]
     },
     "metadata": {},
     "output_type": "display_data"
    },
    {
     "name": "stderr",
     "output_type": "stream",
     "text": [
      "/home/theycallmepeter/anaconda3/envs/pytorch3d/lib/python3.8/site-packages/torch/nn/functional.py:3451: UserWarning: Default upsampling behavior when mode=bilinear is changed to align_corners=False since 0.4.0. Please specify align_corners=True if the old behavior is desired. See the documentation of nn.Upsample for details.\n",
      "  warnings.warn(\n",
      "/mnt/c/Projects/deepstimate/pytorch3d/pytorch3d/transforms/transform3d.py:782: UserWarning: R is not a valid rotation matrix\n",
      "  warnings.warn(msg)\n",
      "\u001b[32m[I 2022-03-30 11:06:07,451]\u001b[0m Trial 35 finished with value: 0.00274049025028944 and parameters: {'ngf': 24, 'nz': 86, 'layers': 6, 'lr': 0.00021988194167281146, 'beta1': 0.704132898269289, 'beta2': 0.9265163436225015, 'l2': 0.004143436819844018}. Best is trial 35 with value: 0.00274049025028944.\u001b[0m\n"
     ]
    },
    {
     "data": {
      "application/vnd.jupyter.widget-view+json": {
       "model_id": "9fbac4026ee6430c9efbf84a79c997a8",
       "version_major": 2,
       "version_minor": 0
      },
      "text/plain": [
       "  0%|          | 0/3000 [00:00<?, ?it/s]"
      ]
     },
     "metadata": {},
     "output_type": "display_data"
    },
    {
     "name": "stderr",
     "output_type": "stream",
     "text": [
      "/home/theycallmepeter/anaconda3/envs/pytorch3d/lib/python3.8/site-packages/torch/nn/functional.py:3451: UserWarning: Default upsampling behavior when mode=bilinear is changed to align_corners=False since 0.4.0. Please specify align_corners=True if the old behavior is desired. See the documentation of nn.Upsample for details.\n",
      "  warnings.warn(\n",
      "/mnt/c/Projects/deepstimate/pytorch3d/pytorch3d/transforms/transform3d.py:782: UserWarning: R is not a valid rotation matrix\n",
      "  warnings.warn(msg)\n",
      "\u001b[32m[I 2022-03-30 11:10:21,418]\u001b[0m Trial 36 finished with value: 0.0026796951424330473 and parameters: {'ngf': 48, 'nz': 101, 'layers': 7, 'lr': 0.0001534760776734904, 'beta1': 0.6977173433655189, 'beta2': 0.9262943113275343, 'l2': 0.005728491782548097}. Best is trial 36 with value: 0.0026796951424330473.\u001b[0m\n"
     ]
    },
    {
     "data": {
      "application/vnd.jupyter.widget-view+json": {
       "model_id": "b273608ac5284d61b313f71d1c2f939d",
       "version_major": 2,
       "version_minor": 0
      },
      "text/plain": [
       "  0%|          | 0/3000 [00:00<?, ?it/s]"
      ]
     },
     "metadata": {},
     "output_type": "display_data"
    },
    {
     "name": "stderr",
     "output_type": "stream",
     "text": [
      "/home/theycallmepeter/anaconda3/envs/pytorch3d/lib/python3.8/site-packages/torch/nn/functional.py:3451: UserWarning: Default upsampling behavior when mode=bilinear is changed to align_corners=False since 0.4.0. Please specify align_corners=True if the old behavior is desired. See the documentation of nn.Upsample for details.\n",
      "  warnings.warn(\n",
      "/mnt/c/Projects/deepstimate/pytorch3d/pytorch3d/transforms/transform3d.py:782: UserWarning: R is not a valid rotation matrix\n",
      "  warnings.warn(msg)\n",
      "\u001b[32m[I 2022-03-30 11:14:34,542]\u001b[0m Trial 37 finished with value: 0.0027787298895418644 and parameters: {'ngf': 48, 'nz': 107, 'layers': 7, 'lr': 6.586539647439846e-05, 'beta1': 0.7153475506444353, 'beta2': 0.9237796504989675, 'l2': 0.0037955894445293697}. Best is trial 36 with value: 0.0026796951424330473.\u001b[0m\n"
     ]
    },
    {
     "data": {
      "application/vnd.jupyter.widget-view+json": {
       "model_id": "d7281da615c74abe961d397bec5ea5ac",
       "version_major": 2,
       "version_minor": 0
      },
      "text/plain": [
       "  0%|          | 0/3000 [00:00<?, ?it/s]"
      ]
     },
     "metadata": {},
     "output_type": "display_data"
    },
    {
     "name": "stderr",
     "output_type": "stream",
     "text": [
      "/home/theycallmepeter/anaconda3/envs/pytorch3d/lib/python3.8/site-packages/torch/nn/functional.py:3451: UserWarning: Default upsampling behavior when mode=bilinear is changed to align_corners=False since 0.4.0. Please specify align_corners=True if the old behavior is desired. See the documentation of nn.Upsample for details.\n",
      "  warnings.warn(\n",
      "/mnt/c/Projects/deepstimate/pytorch3d/pytorch3d/transforms/transform3d.py:782: UserWarning: R is not a valid rotation matrix\n",
      "  warnings.warn(msg)\n",
      "\u001b[32m[I 2022-03-30 11:19:12,501]\u001b[0m Trial 38 finished with value: 0.0028895766008645296 and parameters: {'ngf': 48, 'nz': 111, 'layers': 7, 'lr': 5.039799456037461e-05, 'beta1': 0.7144056539582213, 'beta2': 0.9246884862644402, 'l2': 0.00805180229518227}. Best is trial 36 with value: 0.0026796951424330473.\u001b[0m\n"
     ]
    },
    {
     "data": {
      "application/vnd.jupyter.widget-view+json": {
       "model_id": "7c19ba7150954922a99f68597e98ab3f",
       "version_major": 2,
       "version_minor": 0
      },
      "text/plain": [
       "  0%|          | 0/3000 [00:00<?, ?it/s]"
      ]
     },
     "metadata": {},
     "output_type": "display_data"
    },
    {
     "name": "stderr",
     "output_type": "stream",
     "text": [
      "/home/theycallmepeter/anaconda3/envs/pytorch3d/lib/python3.8/site-packages/torch/nn/functional.py:3451: UserWarning: Default upsampling behavior when mode=bilinear is changed to align_corners=False since 0.4.0. Please specify align_corners=True if the old behavior is desired. See the documentation of nn.Upsample for details.\n",
      "  warnings.warn(\n",
      "/mnt/c/Projects/deepstimate/pytorch3d/pytorch3d/transforms/transform3d.py:782: UserWarning: R is not a valid rotation matrix\n",
      "  warnings.warn(msg)\n",
      "\u001b[32m[I 2022-03-30 11:23:57,337]\u001b[0m Trial 39 finished with value: 0.002754280809313059 and parameters: {'ngf': 48, 'nz': 105, 'layers': 7, 'lr': 0.00020221853327765838, 'beta1': 0.8251938673561959, 'beta2': 0.9282220891491666, 'l2': 0.003053336188005603}. Best is trial 36 with value: 0.0026796951424330473.\u001b[0m\n"
     ]
    },
    {
     "data": {
      "application/vnd.jupyter.widget-view+json": {
       "model_id": "e112fe1195f74c66af08300e056288e6",
       "version_major": 2,
       "version_minor": 0
      },
      "text/plain": [
       "  0%|          | 0/3000 [00:00<?, ?it/s]"
      ]
     },
     "metadata": {},
     "output_type": "display_data"
    },
    {
     "name": "stderr",
     "output_type": "stream",
     "text": [
      "/home/theycallmepeter/anaconda3/envs/pytorch3d/lib/python3.8/site-packages/torch/nn/functional.py:3451: UserWarning: Default upsampling behavior when mode=bilinear is changed to align_corners=False since 0.4.0. Please specify align_corners=True if the old behavior is desired. See the documentation of nn.Upsample for details.\n",
      "  warnings.warn(\n",
      "/mnt/c/Projects/deepstimate/pytorch3d/pytorch3d/transforms/transform3d.py:782: UserWarning: R is not a valid rotation matrix\n",
      "  warnings.warn(msg)\n",
      "\u001b[32m[I 2022-03-30 11:28:41,790]\u001b[0m Trial 40 finished with value: 0.002862263470888138 and parameters: {'ngf': 48, 'nz': 120, 'layers': 7, 'lr': 0.00022012272018422977, 'beta1': 0.8402053939751352, 'beta2': 0.9217487987841134, 'l2': 0.002518112472378288}. Best is trial 36 with value: 0.0026796951424330473.\u001b[0m\n"
     ]
    },
    {
     "data": {
      "application/vnd.jupyter.widget-view+json": {
       "model_id": "b6df8461e9434010abbb5989b992cfcc",
       "version_major": 2,
       "version_minor": 0
      },
      "text/plain": [
       "  0%|          | 0/3000 [00:00<?, ?it/s]"
      ]
     },
     "metadata": {},
     "output_type": "display_data"
    },
    {
     "name": "stderr",
     "output_type": "stream",
     "text": [
      "/home/theycallmepeter/anaconda3/envs/pytorch3d/lib/python3.8/site-packages/torch/nn/functional.py:3451: UserWarning: Default upsampling behavior when mode=bilinear is changed to align_corners=False since 0.4.0. Please specify align_corners=True if the old behavior is desired. See the documentation of nn.Upsample for details.\n",
      "  warnings.warn(\n",
      "/mnt/c/Projects/deepstimate/pytorch3d/pytorch3d/transforms/transform3d.py:782: UserWarning: R is not a valid rotation matrix\n",
      "  warnings.warn(msg)\n",
      "\u001b[32m[I 2022-03-30 11:33:26,139]\u001b[0m Trial 41 finished with value: 0.0030562567990273237 and parameters: {'ngf': 48, 'nz': 106, 'layers': 7, 'lr': 2.9996153954537634e-05, 'beta1': 0.8914652436343602, 'beta2': 0.9280745207585296, 'l2': 0.0022426498296307493}. Best is trial 36 with value: 0.0026796951424330473.\u001b[0m\n"
     ]
    },
    {
     "data": {
      "application/vnd.jupyter.widget-view+json": {
       "model_id": "5f3c5a714ec4430d80dcb35e25599ad9",
       "version_major": 2,
       "version_minor": 0
      },
      "text/plain": [
       "  0%|          | 0/3000 [00:00<?, ?it/s]"
      ]
     },
     "metadata": {},
     "output_type": "display_data"
    },
    {
     "name": "stderr",
     "output_type": "stream",
     "text": [
      "/home/theycallmepeter/anaconda3/envs/pytorch3d/lib/python3.8/site-packages/torch/nn/functional.py:3451: UserWarning: Default upsampling behavior when mode=bilinear is changed to align_corners=False since 0.4.0. Please specify align_corners=True if the old behavior is desired. See the documentation of nn.Upsample for details.\n",
      "  warnings.warn(\n",
      "/mnt/c/Projects/deepstimate/pytorch3d/pytorch3d/transforms/transform3d.py:782: UserWarning: R is not a valid rotation matrix\n",
      "  warnings.warn(msg)\n",
      "\u001b[32m[I 2022-03-30 11:38:15,986]\u001b[0m Trial 42 finished with value: 0.002805276308208704 and parameters: {'ngf': 48, 'nz': 101, 'layers': 7, 'lr': 7.900010521889372e-05, 'beta1': 0.80320728934534, 'beta2': 0.9290605495293456, 'l2': 0.001047355344823331}. Best is trial 36 with value: 0.0026796951424330473.\u001b[0m\n"
     ]
    },
    {
     "data": {
      "application/vnd.jupyter.widget-view+json": {
       "model_id": "0363799d8e9a4a558905536d4eed0141",
       "version_major": 2,
       "version_minor": 0
      },
      "text/plain": [
       "  0%|          | 0/3000 [00:00<?, ?it/s]"
      ]
     },
     "metadata": {},
     "output_type": "display_data"
    },
    {
     "name": "stderr",
     "output_type": "stream",
     "text": [
      "/home/theycallmepeter/anaconda3/envs/pytorch3d/lib/python3.8/site-packages/torch/nn/functional.py:3451: UserWarning: Default upsampling behavior when mode=bilinear is changed to align_corners=False since 0.4.0. Please specify align_corners=True if the old behavior is desired. See the documentation of nn.Upsample for details.\n",
      "  warnings.warn(\n",
      "/mnt/c/Projects/deepstimate/pytorch3d/pytorch3d/transforms/transform3d.py:782: UserWarning: R is not a valid rotation matrix\n",
      "  warnings.warn(msg)\n",
      "\u001b[32m[I 2022-03-30 11:42:42,710]\u001b[0m Trial 43 finished with value: 0.002986493054777384 and parameters: {'ngf': 48, 'nz': 108, 'layers': 7, 'lr': 6.778949292262756e-05, 'beta1': 0.8151022094859046, 'beta2': 0.9089693352413633, 'l2': 0.000915474648236492}. Best is trial 36 with value: 0.0026796951424330473.\u001b[0m\n"
     ]
    },
    {
     "data": {
      "application/vnd.jupyter.widget-view+json": {
       "model_id": "89a66c5882ff4eadba22069fe7444164",
       "version_major": 2,
       "version_minor": 0
      },
      "text/plain": [
       "  0%|          | 0/3000 [00:00<?, ?it/s]"
      ]
     },
     "metadata": {},
     "output_type": "display_data"
    },
    {
     "name": "stderr",
     "output_type": "stream",
     "text": [
      "/home/theycallmepeter/anaconda3/envs/pytorch3d/lib/python3.8/site-packages/torch/nn/functional.py:3451: UserWarning: Default upsampling behavior when mode=bilinear is changed to align_corners=False since 0.4.0. Please specify align_corners=True if the old behavior is desired. See the documentation of nn.Upsample for details.\n",
      "  warnings.warn(\n",
      "/mnt/c/Projects/deepstimate/pytorch3d/pytorch3d/transforms/transform3d.py:782: UserWarning: R is not a valid rotation matrix\n",
      "  warnings.warn(msg)\n",
      "\u001b[32m[I 2022-03-30 11:47:08,797]\u001b[0m Trial 44 finished with value: 0.0030568393412977457 and parameters: {'ngf': 48, 'nz': 102, 'layers': 7, 'lr': 0.00015432622846716368, 'beta1': 0.8484556196383457, 'beta2': 0.9282103065767334, 'l2': 0.0035555885199591844}. Best is trial 36 with value: 0.0026796951424330473.\u001b[0m\n"
     ]
    },
    {
     "data": {
      "application/vnd.jupyter.widget-view+json": {
       "model_id": "430e447b7c0a4cda837771872fb94c0e",
       "version_major": 2,
       "version_minor": 0
      },
      "text/plain": [
       "  0%|          | 0/3000 [00:00<?, ?it/s]"
      ]
     },
     "metadata": {},
     "output_type": "display_data"
    },
    {
     "name": "stderr",
     "output_type": "stream",
     "text": [
      "/home/theycallmepeter/anaconda3/envs/pytorch3d/lib/python3.8/site-packages/torch/nn/functional.py:3451: UserWarning: Default upsampling behavior when mode=bilinear is changed to align_corners=False since 0.4.0. Please specify align_corners=True if the old behavior is desired. See the documentation of nn.Upsample for details.\n",
      "  warnings.warn(\n",
      "/mnt/c/Projects/deepstimate/pytorch3d/pytorch3d/transforms/transform3d.py:782: UserWarning: R is not a valid rotation matrix\n",
      "  warnings.warn(msg)\n",
      "\u001b[32m[I 2022-03-30 11:52:00,520]\u001b[0m Trial 45 finished with value: 0.0035958155058324337 and parameters: {'ngf': 48, 'nz': 99, 'layers': 1, 'lr': 0.00022804172512633846, 'beta1': 0.7424572954709476, 'beta2': 0.9019126270292701, 'l2': 0.0013163410580229859}. Best is trial 36 with value: 0.0026796951424330473.\u001b[0m\n"
     ]
    },
    {
     "data": {
      "application/vnd.jupyter.widget-view+json": {
       "model_id": "317e4a66a33740c8a3bed20b9efa69d8",
       "version_major": 2,
       "version_minor": 0
      },
      "text/plain": [
       "  0%|          | 0/3000 [00:00<?, ?it/s]"
      ]
     },
     "metadata": {},
     "output_type": "display_data"
    },
    {
     "name": "stderr",
     "output_type": "stream",
     "text": [
      "/home/theycallmepeter/anaconda3/envs/pytorch3d/lib/python3.8/site-packages/torch/nn/functional.py:3451: UserWarning: Default upsampling behavior when mode=bilinear is changed to align_corners=False since 0.4.0. Please specify align_corners=True if the old behavior is desired. See the documentation of nn.Upsample for details.\n",
      "  warnings.warn(\n",
      "/mnt/c/Projects/deepstimate/pytorch3d/pytorch3d/transforms/transform3d.py:782: UserWarning: R is not a valid rotation matrix\n",
      "  warnings.warn(msg)\n",
      "\u001b[32m[I 2022-03-30 11:56:43,898]\u001b[0m Trial 46 finished with value: 0.0030804332345724106 and parameters: {'ngf': 48, 'nz': 112, 'layers': 7, 'lr': 8.252428470615287e-05, 'beta1': 0.803471828571727, 'beta2': 0.9203943860681197, 'l2': 0.009905048394610228}. Best is trial 36 with value: 0.0026796951424330473.\u001b[0m\n"
     ]
    },
    {
     "data": {
      "application/vnd.jupyter.widget-view+json": {
       "model_id": "39a26ade0a95400ebca14f202310473c",
       "version_major": 2,
       "version_minor": 0
      },
      "text/plain": [
       "  0%|          | 0/3000 [00:00<?, ?it/s]"
      ]
     },
     "metadata": {},
     "output_type": "display_data"
    },
    {
     "name": "stderr",
     "output_type": "stream",
     "text": [
      "/home/theycallmepeter/anaconda3/envs/pytorch3d/lib/python3.8/site-packages/torch/nn/functional.py:3451: UserWarning: Default upsampling behavior when mode=bilinear is changed to align_corners=False since 0.4.0. Please specify align_corners=True if the old behavior is desired. See the documentation of nn.Upsample for details.\n",
      "  warnings.warn(\n",
      "/mnt/c/Projects/deepstimate/pytorch3d/pytorch3d/transforms/transform3d.py:782: UserWarning: R is not a valid rotation matrix\n",
      "  warnings.warn(msg)\n",
      "\u001b[32m[I 2022-03-30 12:01:27,170]\u001b[0m Trial 47 finished with value: 0.0030302538070827723 and parameters: {'ngf': 48, 'nz': 95, 'layers': 7, 'lr': 2.994556638226591e-05, 'beta1': 0.8631219076889812, 'beta2': 0.9242909166483023, 'l2': 0.004976814125050083}. Best is trial 36 with value: 0.0026796951424330473.\u001b[0m\n"
     ]
    },
    {
     "data": {
      "application/vnd.jupyter.widget-view+json": {
       "model_id": "1cd4c37a0dde416b990f550a9b3e95f1",
       "version_major": 2,
       "version_minor": 0
      },
      "text/plain": [
       "  0%|          | 0/3000 [00:00<?, ?it/s]"
      ]
     },
     "metadata": {},
     "output_type": "display_data"
    },
    {
     "name": "stderr",
     "output_type": "stream",
     "text": [
      "/home/theycallmepeter/anaconda3/envs/pytorch3d/lib/python3.8/site-packages/torch/nn/functional.py:3451: UserWarning: Default upsampling behavior when mode=bilinear is changed to align_corners=False since 0.4.0. Please specify align_corners=True if the old behavior is desired. See the documentation of nn.Upsample for details.\n",
      "  warnings.warn(\n",
      "/mnt/c/Projects/deepstimate/pytorch3d/pytorch3d/transforms/transform3d.py:782: UserWarning: R is not a valid rotation matrix\n",
      "  warnings.warn(msg)\n",
      "\u001b[32m[I 2022-03-30 12:06:15,008]\u001b[0m Trial 48 finished with value: 0.00289642671123147 and parameters: {'ngf': 48, 'nz': 114, 'layers': 7, 'lr': 0.00016934485638896664, 'beta1': 0.7786894101655761, 'beta2': 0.9316262816412554, 'l2': 0.0011578887486694569}. Best is trial 36 with value: 0.0026796951424330473.\u001b[0m\n"
     ]
    },
    {
     "data": {
      "application/vnd.jupyter.widget-view+json": {
       "model_id": "4345395448014012b1b97e341a345865",
       "version_major": 2,
       "version_minor": 0
      },
      "text/plain": [
       "  0%|          | 0/3000 [00:00<?, ?it/s]"
      ]
     },
     "metadata": {},
     "output_type": "display_data"
    },
    {
     "name": "stderr",
     "output_type": "stream",
     "text": [
      "/home/theycallmepeter/anaconda3/envs/pytorch3d/lib/python3.8/site-packages/torch/nn/functional.py:3451: UserWarning: Default upsampling behavior when mode=bilinear is changed to align_corners=False since 0.4.0. Please specify align_corners=True if the old behavior is desired. See the documentation of nn.Upsample for details.\n",
      "  warnings.warn(\n",
      "/mnt/c/Projects/deepstimate/pytorch3d/pytorch3d/transforms/transform3d.py:782: UserWarning: R is not a valid rotation matrix\n",
      "  warnings.warn(msg)\n",
      "\u001b[32m[I 2022-03-30 12:10:37,890]\u001b[0m Trial 49 finished with value: 0.0029484243132174015 and parameters: {'ngf': 48, 'nz': 107, 'layers': 6, 'lr': 6.608590660877429e-05, 'beta1': 0.6941156781198969, 'beta2': 0.9128150966586881, 'l2': 0.0005950505170578604}. Best is trial 36 with value: 0.0026796951424330473.\u001b[0m\n"
     ]
    },
    {
     "data": {
      "application/vnd.jupyter.widget-view+json": {
       "model_id": "28ff8a9555394f639714ff1b652656b4",
       "version_major": 2,
       "version_minor": 0
      },
      "text/plain": [
       "  0%|          | 0/3000 [00:00<?, ?it/s]"
      ]
     },
     "metadata": {},
     "output_type": "display_data"
    },
    {
     "name": "stderr",
     "output_type": "stream",
     "text": [
      "/home/theycallmepeter/anaconda3/envs/pytorch3d/lib/python3.8/site-packages/torch/nn/functional.py:3451: UserWarning: Default upsampling behavior when mode=bilinear is changed to align_corners=False since 0.4.0. Please specify align_corners=True if the old behavior is desired. See the documentation of nn.Upsample for details.\n",
      "  warnings.warn(\n",
      "/mnt/c/Projects/deepstimate/pytorch3d/pytorch3d/transforms/transform3d.py:782: UserWarning: R is not a valid rotation matrix\n",
      "  warnings.warn(msg)\n",
      "\u001b[32m[I 2022-03-30 12:15:05,609]\u001b[0m Trial 50 finished with value: 0.0028394274413585663 and parameters: {'ngf': 48, 'nz': 104, 'layers': 6, 'lr': 3.164581749771776e-05, 'beta1': 0.5691795145348313, 'beta2': 0.9385970028560421, 'l2': 0.00021405646328943263}. Best is trial 36 with value: 0.0026796951424330473.\u001b[0m\n"
     ]
    },
    {
     "data": {
      "application/vnd.jupyter.widget-view+json": {
       "model_id": "cfb5ab89230040199e206f6bc4f582fa",
       "version_major": 2,
       "version_minor": 0
      },
      "text/plain": [
       "  0%|          | 0/3000 [00:00<?, ?it/s]"
      ]
     },
     "metadata": {},
     "output_type": "display_data"
    },
    {
     "name": "stderr",
     "output_type": "stream",
     "text": [
      "/home/theycallmepeter/anaconda3/envs/pytorch3d/lib/python3.8/site-packages/torch/nn/functional.py:3451: UserWarning: Default upsampling behavior when mode=bilinear is changed to align_corners=False since 0.4.0. Please specify align_corners=True if the old behavior is desired. See the documentation of nn.Upsample for details.\n",
      "  warnings.warn(\n",
      "/mnt/c/Projects/deepstimate/pytorch3d/pytorch3d/transforms/transform3d.py:782: UserWarning: R is not a valid rotation matrix\n",
      "  warnings.warn(msg)\n",
      "\u001b[32m[I 2022-03-30 12:19:47,512]\u001b[0m Trial 51 finished with value: 0.0029185835737735033 and parameters: {'ngf': 48, 'nz': 100, 'layers': 7, 'lr': 0.00031859578484925066, 'beta1': 0.696535091753628, 'beta2': 0.9318222219329517, 'l2': 0.001959079979177676}. Best is trial 36 with value: 0.0026796951424330473.\u001b[0m\n"
     ]
    },
    {
     "data": {
      "application/vnd.jupyter.widget-view+json": {
       "model_id": "00f946a3bf814e7e821bfd136363ca15",
       "version_major": 2,
       "version_minor": 0
      },
      "text/plain": [
       "  0%|          | 0/3000 [00:00<?, ?it/s]"
      ]
     },
     "metadata": {},
     "output_type": "display_data"
    },
    {
     "name": "stderr",
     "output_type": "stream",
     "text": [
      "/home/theycallmepeter/anaconda3/envs/pytorch3d/lib/python3.8/site-packages/torch/nn/functional.py:3451: UserWarning: Default upsampling behavior when mode=bilinear is changed to align_corners=False since 0.4.0. Please specify align_corners=True if the old behavior is desired. See the documentation of nn.Upsample for details.\n",
      "  warnings.warn(\n",
      "/mnt/c/Projects/deepstimate/pytorch3d/pytorch3d/transforms/transform3d.py:782: UserWarning: R is not a valid rotation matrix\n",
      "  warnings.warn(msg)\n",
      "\u001b[32m[I 2022-03-30 12:23:51,085]\u001b[0m Trial 52 finished with value: 0.0028076304588466883 and parameters: {'ngf': 24, 'nz': 92, 'layers': 6, 'lr': 0.0006360082365272251, 'beta1': 0.7418104381888518, 'beta2': 0.9396081123492831, 'l2': 0.004162319586459411}. Best is trial 36 with value: 0.0026796951424330473.\u001b[0m\n"
     ]
    },
    {
     "data": {
      "application/vnd.jupyter.widget-view+json": {
       "model_id": "eb47f4375b024484ac4dc046208b8941",
       "version_major": 2,
       "version_minor": 0
      },
      "text/plain": [
       "  0%|          | 0/3000 [00:00<?, ?it/s]"
      ]
     },
     "metadata": {},
     "output_type": "display_data"
    },
    {
     "name": "stderr",
     "output_type": "stream",
     "text": [
      "/home/theycallmepeter/anaconda3/envs/pytorch3d/lib/python3.8/site-packages/torch/nn/functional.py:3451: UserWarning: Default upsampling behavior when mode=bilinear is changed to align_corners=False since 0.4.0. Please specify align_corners=True if the old behavior is desired. See the documentation of nn.Upsample for details.\n",
      "  warnings.warn(\n",
      "/mnt/c/Projects/deepstimate/pytorch3d/pytorch3d/transforms/transform3d.py:782: UserWarning: R is not a valid rotation matrix\n",
      "  warnings.warn(msg)\n",
      "\u001b[32m[I 2022-03-30 12:27:54,610]\u001b[0m Trial 53 finished with value: 0.002941155107691884 and parameters: {'ngf': 24, 'nz': 86, 'layers': 6, 'lr': 0.0006156072074727434, 'beta1': 0.7399598626913177, 'beta2': 0.9271488859550103, 'l2': 0.005009911789867851}. Best is trial 36 with value: 0.0026796951424330473.\u001b[0m\n"
     ]
    },
    {
     "data": {
      "application/vnd.jupyter.widget-view+json": {
       "model_id": "04d57273feb84d31b9f9b9dc1c47394c",
       "version_major": 2,
       "version_minor": 0
      },
      "text/plain": [
       "  0%|          | 0/3000 [00:00<?, ?it/s]"
      ]
     },
     "metadata": {},
     "output_type": "display_data"
    },
    {
     "name": "stderr",
     "output_type": "stream",
     "text": [
      "/home/theycallmepeter/anaconda3/envs/pytorch3d/lib/python3.8/site-packages/torch/nn/functional.py:3451: UserWarning: Default upsampling behavior when mode=bilinear is changed to align_corners=False since 0.4.0. Please specify align_corners=True if the old behavior is desired. See the documentation of nn.Upsample for details.\n",
      "  warnings.warn(\n",
      "/mnt/c/Projects/deepstimate/pytorch3d/pytorch3d/transforms/transform3d.py:782: UserWarning: R is not a valid rotation matrix\n",
      "  warnings.warn(msg)\n",
      "\u001b[32m[I 2022-03-30 12:32:03,478]\u001b[0m Trial 54 finished with value: 0.0029022570233792067 and parameters: {'ngf': 24, 'nz': 94, 'layers': 7, 'lr': 0.00010822151753551643, 'beta1': 0.8150401646749912, 'beta2': 0.9211117562048073, 'l2': 0.003612515077738521}. Best is trial 36 with value: 0.0026796951424330473.\u001b[0m\n"
     ]
    },
    {
     "data": {
      "application/vnd.jupyter.widget-view+json": {
       "model_id": "f89150a2e3274c99a5230d3fd5454c3b",
       "version_major": 2,
       "version_minor": 0
      },
      "text/plain": [
       "  0%|          | 0/3000 [00:00<?, ?it/s]"
      ]
     },
     "metadata": {},
     "output_type": "display_data"
    },
    {
     "name": "stderr",
     "output_type": "stream",
     "text": [
      "/home/theycallmepeter/anaconda3/envs/pytorch3d/lib/python3.8/site-packages/torch/nn/functional.py:3451: UserWarning: Default upsampling behavior when mode=bilinear is changed to align_corners=False since 0.4.0. Please specify align_corners=True if the old behavior is desired. See the documentation of nn.Upsample for details.\n",
      "  warnings.warn(\n",
      "/mnt/c/Projects/deepstimate/pytorch3d/pytorch3d/transforms/transform3d.py:782: UserWarning: R is not a valid rotation matrix\n",
      "  warnings.warn(msg)\n",
      "\u001b[32m[I 2022-03-30 12:35:45,989]\u001b[0m Trial 55 finished with value: 0.0028398737777024508 and parameters: {'ngf': 24, 'nz': 96, 'layers': 6, 'lr': 0.00023239948220984356, 'beta1': 0.7174495048457387, 'beta2': 0.9469527657852431, 'l2': 0.007344320142680395}. Best is trial 36 with value: 0.0026796951424330473.\u001b[0m\n"
     ]
    },
    {
     "data": {
      "application/vnd.jupyter.widget-view+json": {
       "model_id": "e3aecff512ab4abea1b0507e3fcd7752",
       "version_major": 2,
       "version_minor": 0
      },
      "text/plain": [
       "  0%|          | 0/3000 [00:00<?, ?it/s]"
      ]
     },
     "metadata": {},
     "output_type": "display_data"
    },
    {
     "name": "stderr",
     "output_type": "stream",
     "text": [
      "/home/theycallmepeter/anaconda3/envs/pytorch3d/lib/python3.8/site-packages/torch/nn/functional.py:3451: UserWarning: Default upsampling behavior when mode=bilinear is changed to align_corners=False since 0.4.0. Please specify align_corners=True if the old behavior is desired. See the documentation of nn.Upsample for details.\n",
      "  warnings.warn(\n",
      "/mnt/c/Projects/deepstimate/pytorch3d/pytorch3d/transforms/transform3d.py:782: UserWarning: R is not a valid rotation matrix\n",
      "  warnings.warn(msg)\n",
      "\u001b[32m[I 2022-03-30 12:39:46,255]\u001b[0m Trial 56 finished with value: 0.0026995178777724504 and parameters: {'ngf': 24, 'nz': 109, 'layers': 7, 'lr': 0.00037031962849564683, 'beta1': 0.7773479746917042, 'beta2': 0.9055353055034242, 'l2': 0.0033869081768101404}. Best is trial 36 with value: 0.0026796951424330473.\u001b[0m\n"
     ]
    },
    {
     "data": {
      "application/vnd.jupyter.widget-view+json": {
       "model_id": "03d3c608bb4546f19ff11b32d05e9eba",
       "version_major": 2,
       "version_minor": 0
      },
      "text/plain": [
       "  0%|          | 0/3000 [00:00<?, ?it/s]"
      ]
     },
     "metadata": {},
     "output_type": "display_data"
    },
    {
     "name": "stderr",
     "output_type": "stream",
     "text": [
      "/home/theycallmepeter/anaconda3/envs/pytorch3d/lib/python3.8/site-packages/torch/nn/functional.py:3451: UserWarning: Default upsampling behavior when mode=bilinear is changed to align_corners=False since 0.4.0. Please specify align_corners=True if the old behavior is desired. See the documentation of nn.Upsample for details.\n",
      "  warnings.warn(\n",
      "/mnt/c/Projects/deepstimate/pytorch3d/pytorch3d/transforms/transform3d.py:782: UserWarning: R is not a valid rotation matrix\n",
      "  warnings.warn(msg)\n",
      "\u001b[32m[I 2022-03-30 12:44:08,755]\u001b[0m Trial 57 finished with value: 0.006205153185874224 and parameters: {'ngf': 48, 'nz': 109, 'layers': 7, 'lr': 1.057583378665696e-05, 'beta1': 0.7856300669752158, 'beta2': 0.9148199055945506, 'l2': 0.0016431690742069608}. Best is trial 36 with value: 0.0026796951424330473.\u001b[0m\n"
     ]
    },
    {
     "data": {
      "application/vnd.jupyter.widget-view+json": {
       "model_id": "7137bf7d80d54fe186c3579ce5083dce",
       "version_major": 2,
       "version_minor": 0
      },
      "text/plain": [
       "  0%|          | 0/3000 [00:00<?, ?it/s]"
      ]
     },
     "metadata": {},
     "output_type": "display_data"
    },
    {
     "name": "stderr",
     "output_type": "stream",
     "text": [
      "/home/theycallmepeter/anaconda3/envs/pytorch3d/lib/python3.8/site-packages/torch/nn/functional.py:3451: UserWarning: Default upsampling behavior when mode=bilinear is changed to align_corners=False since 0.4.0. Please specify align_corners=True if the old behavior is desired. See the documentation of nn.Upsample for details.\n",
      "  warnings.warn(\n",
      "/mnt/c/Projects/deepstimate/pytorch3d/pytorch3d/transforms/transform3d.py:782: UserWarning: R is not a valid rotation matrix\n",
      "  warnings.warn(msg)\n",
      "\u001b[32m[I 2022-03-30 12:47:58,429]\u001b[0m Trial 58 finished with value: 0.002692846581339836 and parameters: {'ngf': 16, 'nz': 115, 'layers': 7, 'lr': 0.00038246710372976967, 'beta1': 0.6761537221726402, 'beta2': 0.9001180465462248, 'l2': 0.0029465874007580375}. Best is trial 36 with value: 0.0026796951424330473.\u001b[0m\n"
     ]
    },
    {
     "data": {
      "application/vnd.jupyter.widget-view+json": {
       "model_id": "0361b95b2f1447d7a5336e23e4649775",
       "version_major": 2,
       "version_minor": 0
      },
      "text/plain": [
       "  0%|          | 0/3000 [00:00<?, ?it/s]"
      ]
     },
     "metadata": {},
     "output_type": "display_data"
    },
    {
     "name": "stderr",
     "output_type": "stream",
     "text": [
      "/home/theycallmepeter/anaconda3/envs/pytorch3d/lib/python3.8/site-packages/torch/nn/functional.py:3451: UserWarning: Default upsampling behavior when mode=bilinear is changed to align_corners=False since 0.4.0. Please specify align_corners=True if the old behavior is desired. See the documentation of nn.Upsample for details.\n",
      "  warnings.warn(\n",
      "/mnt/c/Projects/deepstimate/pytorch3d/pytorch3d/transforms/transform3d.py:782: UserWarning: R is not a valid rotation matrix\n",
      "  warnings.warn(msg)\n",
      "\u001b[32m[I 2022-03-30 12:51:45,475]\u001b[0m Trial 59 finished with value: 0.0026456103660166264 and parameters: {'ngf': 16, 'nz': 118, 'layers': 7, 'lr': 0.00039109652023820127, 'beta1': 0.6751022480032107, 'beta2': 0.9040847672135707, 'l2': 0.0028537232616945006}. Best is trial 59 with value: 0.0026456103660166264.\u001b[0m\n"
     ]
    },
    {
     "data": {
      "application/vnd.jupyter.widget-view+json": {
       "model_id": "76a9e2c7f2874241b09a084af4238046",
       "version_major": 2,
       "version_minor": 0
      },
      "text/plain": [
       "  0%|          | 0/3000 [00:00<?, ?it/s]"
      ]
     },
     "metadata": {},
     "output_type": "display_data"
    },
    {
     "name": "stderr",
     "output_type": "stream",
     "text": [
      "/home/theycallmepeter/anaconda3/envs/pytorch3d/lib/python3.8/site-packages/torch/nn/functional.py:3451: UserWarning: Default upsampling behavior when mode=bilinear is changed to align_corners=False since 0.4.0. Please specify align_corners=True if the old behavior is desired. See the documentation of nn.Upsample for details.\n",
      "  warnings.warn(\n",
      "/mnt/c/Projects/deepstimate/pytorch3d/pytorch3d/transforms/transform3d.py:782: UserWarning: R is not a valid rotation matrix\n",
      "  warnings.warn(msg)\n",
      "\u001b[32m[I 2022-03-30 12:55:34,225]\u001b[0m Trial 60 finished with value: 0.002739240415394306 and parameters: {'ngf': 16, 'nz': 118, 'layers': 7, 'lr': 0.0004745950853707505, 'beta1': 0.6723598263389461, 'beta2': 0.9046589128300268, 'l2': 0.0029582360595765546}. Best is trial 59 with value: 0.0026456103660166264.\u001b[0m\n"
     ]
    },
    {
     "data": {
      "application/vnd.jupyter.widget-view+json": {
       "model_id": "0efac837d3664ca6a5657182a55546a7",
       "version_major": 2,
       "version_minor": 0
      },
      "text/plain": [
       "  0%|          | 0/3000 [00:00<?, ?it/s]"
      ]
     },
     "metadata": {},
     "output_type": "display_data"
    },
    {
     "name": "stderr",
     "output_type": "stream",
     "text": [
      "/home/theycallmepeter/anaconda3/envs/pytorch3d/lib/python3.8/site-packages/torch/nn/functional.py:3451: UserWarning: Default upsampling behavior when mode=bilinear is changed to align_corners=False since 0.4.0. Please specify align_corners=True if the old behavior is desired. See the documentation of nn.Upsample for details.\n",
      "  warnings.warn(\n",
      "/mnt/c/Projects/deepstimate/pytorch3d/pytorch3d/transforms/transform3d.py:782: UserWarning: R is not a valid rotation matrix\n",
      "  warnings.warn(msg)\n",
      "\u001b[32m[I 2022-03-30 12:59:22,027]\u001b[0m Trial 61 finished with value: 0.0027991142123937607 and parameters: {'ngf': 16, 'nz': 118, 'layers': 7, 'lr': 0.0004655485277428907, 'beta1': 0.6399167313129656, 'beta2': 0.9056073932032956, 'l2': 0.002956787686297265}. Best is trial 59 with value: 0.0026456103660166264.\u001b[0m\n"
     ]
    },
    {
     "data": {
      "application/vnd.jupyter.widget-view+json": {
       "model_id": "f14b3ba4410c4ca79efc68709cf77175",
       "version_major": 2,
       "version_minor": 0
      },
      "text/plain": [
       "  0%|          | 0/3000 [00:00<?, ?it/s]"
      ]
     },
     "metadata": {},
     "output_type": "display_data"
    },
    {
     "name": "stderr",
     "output_type": "stream",
     "text": [
      "/home/theycallmepeter/anaconda3/envs/pytorch3d/lib/python3.8/site-packages/torch/nn/functional.py:3451: UserWarning: Default upsampling behavior when mode=bilinear is changed to align_corners=False since 0.4.0. Please specify align_corners=True if the old behavior is desired. See the documentation of nn.Upsample for details.\n",
      "  warnings.warn(\n",
      "/mnt/c/Projects/deepstimate/pytorch3d/pytorch3d/transforms/transform3d.py:782: UserWarning: R is not a valid rotation matrix\n",
      "  warnings.warn(msg)\n",
      "\u001b[32m[I 2022-03-30 13:03:12,468]\u001b[0m Trial 62 finished with value: 0.0028431834653019905 and parameters: {'ngf': 16, 'nz': 116, 'layers': 7, 'lr': 0.0003389060677913782, 'beta1': 0.6704502510002942, 'beta2': 0.9047431443602661, 'l2': 0.0058091549573169275}. Best is trial 59 with value: 0.0026456103660166264.\u001b[0m\n"
     ]
    },
    {
     "data": {
      "application/vnd.jupyter.widget-view+json": {
       "model_id": "ddc413b86e4646219fb6315de01b8303",
       "version_major": 2,
       "version_minor": 0
      },
      "text/plain": [
       "  0%|          | 0/3000 [00:00<?, ?it/s]"
      ]
     },
     "metadata": {},
     "output_type": "display_data"
    },
    {
     "name": "stderr",
     "output_type": "stream",
     "text": [
      "/home/theycallmepeter/anaconda3/envs/pytorch3d/lib/python3.8/site-packages/torch/nn/functional.py:3451: UserWarning: Default upsampling behavior when mode=bilinear is changed to align_corners=False since 0.4.0. Please specify align_corners=True if the old behavior is desired. See the documentation of nn.Upsample for details.\n",
      "  warnings.warn(\n",
      "/mnt/c/Projects/deepstimate/pytorch3d/pytorch3d/transforms/transform3d.py:782: UserWarning: R is not a valid rotation matrix\n",
      "  warnings.warn(msg)\n",
      "\u001b[32m[I 2022-03-30 13:07:20,447]\u001b[0m Trial 63 finished with value: 0.0032950364984571934 and parameters: {'ngf': 16, 'nz': 115, 'layers': 2, 'lr': 0.0007353485328135673, 'beta1': 0.6836008971341513, 'beta2': 0.9092110173584209, 'l2': 0.0008157947906194124}. Best is trial 59 with value: 0.0026456103660166264.\u001b[0m\n"
     ]
    },
    {
     "data": {
      "application/vnd.jupyter.widget-view+json": {
       "model_id": "09fcec13db0c46b6ba850240d1427f80",
       "version_major": 2,
       "version_minor": 0
      },
      "text/plain": [
       "  0%|          | 0/3000 [00:00<?, ?it/s]"
      ]
     },
     "metadata": {},
     "output_type": "display_data"
    },
    {
     "name": "stderr",
     "output_type": "stream",
     "text": [
      "/home/theycallmepeter/anaconda3/envs/pytorch3d/lib/python3.8/site-packages/torch/nn/functional.py:3451: UserWarning: Default upsampling behavior when mode=bilinear is changed to align_corners=False since 0.4.0. Please specify align_corners=True if the old behavior is desired. See the documentation of nn.Upsample for details.\n",
      "  warnings.warn(\n",
      "/mnt/c/Projects/deepstimate/pytorch3d/pytorch3d/transforms/transform3d.py:782: UserWarning: R is not a valid rotation matrix\n",
      "  warnings.warn(msg)\n",
      "\u001b[32m[I 2022-03-30 13:11:09,439]\u001b[0m Trial 64 finished with value: 0.00313244154676795 and parameters: {'ngf': 16, 'nz': 120, 'layers': 7, 'lr': 0.0004118694793546821, 'beta1': 0.7619711583570574, 'beta2': 0.9009947398862707, 'l2': 0.0014830917491685572}. Best is trial 59 with value: 0.0026456103660166264.\u001b[0m\n"
     ]
    },
    {
     "data": {
      "application/vnd.jupyter.widget-view+json": {
       "model_id": "aa08d0944d974ff69366815745f6c529",
       "version_major": 2,
       "version_minor": 0
      },
      "text/plain": [
       "  0%|          | 0/3000 [00:00<?, ?it/s]"
      ]
     },
     "metadata": {},
     "output_type": "display_data"
    },
    {
     "name": "stderr",
     "output_type": "stream",
     "text": [
      "/home/theycallmepeter/anaconda3/envs/pytorch3d/lib/python3.8/site-packages/torch/nn/functional.py:3451: UserWarning: Default upsampling behavior when mode=bilinear is changed to align_corners=False since 0.4.0. Please specify align_corners=True if the old behavior is desired. See the documentation of nn.Upsample for details.\n",
      "  warnings.warn(\n",
      "/mnt/c/Projects/deepstimate/pytorch3d/pytorch3d/transforms/transform3d.py:782: UserWarning: R is not a valid rotation matrix\n",
      "  warnings.warn(msg)\n",
      "\u001b[32m[I 2022-03-30 13:14:56,369]\u001b[0m Trial 65 finished with value: 0.0028391603846102953 and parameters: {'ngf': 16, 'nz': 113, 'layers': 6, 'lr': 0.0002589580728814814, 'beta1': 0.6567958707174322, 'beta2': 0.9001775311670301, 'l2': 0.002882988302669461}. Best is trial 59 with value: 0.0026456103660166264.\u001b[0m\n"
     ]
    },
    {
     "data": {
      "application/vnd.jupyter.widget-view+json": {
       "model_id": "22313371250f4ff291dd9f4f94355e12",
       "version_major": 2,
       "version_minor": 0
      },
      "text/plain": [
       "  0%|          | 0/3000 [00:00<?, ?it/s]"
      ]
     },
     "metadata": {},
     "output_type": "display_data"
    },
    {
     "name": "stderr",
     "output_type": "stream",
     "text": [
      "/home/theycallmepeter/anaconda3/envs/pytorch3d/lib/python3.8/site-packages/torch/nn/functional.py:3451: UserWarning: Default upsampling behavior when mode=bilinear is changed to align_corners=False since 0.4.0. Please specify align_corners=True if the old behavior is desired. See the documentation of nn.Upsample for details.\n",
      "  warnings.warn(\n",
      "/mnt/c/Projects/deepstimate/pytorch3d/pytorch3d/transforms/transform3d.py:782: UserWarning: R is not a valid rotation matrix\n",
      "  warnings.warn(msg)\n",
      "\u001b[32m[I 2022-03-30 13:18:57,794]\u001b[0m Trial 66 finished with value: 0.0027302943635731936 and parameters: {'ngf': 16, 'nz': 110, 'layers': 7, 'lr': 0.00017727259210041952, 'beta1': 0.6126349648060857, 'beta2': 0.9063589625149181, 'l2': 0.0019166820266694868}. Best is trial 59 with value: 0.0026456103660166264.\u001b[0m\n"
     ]
    },
    {
     "data": {
      "application/vnd.jupyter.widget-view+json": {
       "model_id": "56299fe73a654745a5388d9b6cf4da78",
       "version_major": 2,
       "version_minor": 0
      },
      "text/plain": [
       "  0%|          | 0/3000 [00:00<?, ?it/s]"
      ]
     },
     "metadata": {},
     "output_type": "display_data"
    },
    {
     "name": "stderr",
     "output_type": "stream",
     "text": [
      "/home/theycallmepeter/anaconda3/envs/pytorch3d/lib/python3.8/site-packages/torch/nn/functional.py:3451: UserWarning: Default upsampling behavior when mode=bilinear is changed to align_corners=False since 0.4.0. Please specify align_corners=True if the old behavior is desired. See the documentation of nn.Upsample for details.\n",
      "  warnings.warn(\n",
      "/mnt/c/Projects/deepstimate/pytorch3d/pytorch3d/transforms/transform3d.py:782: UserWarning: R is not a valid rotation matrix\n",
      "  warnings.warn(msg)\n",
      "\u001b[32m[I 2022-03-30 13:22:45,555]\u001b[0m Trial 67 finished with value: 0.002799725392833352 and parameters: {'ngf': 16, 'nz': 110, 'layers': 6, 'lr': 0.0001482024061598178, 'beta1': 0.6229721483034585, 'beta2': 0.906317149088001, 'l2': 0.006861666338088698}. Best is trial 59 with value: 0.0026456103660166264.\u001b[0m\n"
     ]
    },
    {
     "data": {
      "application/vnd.jupyter.widget-view+json": {
       "model_id": "1cda140536ec4a2d86912f7c9aa7966a",
       "version_major": 2,
       "version_minor": 0
      },
      "text/plain": [
       "  0%|          | 0/3000 [00:00<?, ?it/s]"
      ]
     },
     "metadata": {},
     "output_type": "display_data"
    },
    {
     "name": "stderr",
     "output_type": "stream",
     "text": [
      "/home/theycallmepeter/anaconda3/envs/pytorch3d/lib/python3.8/site-packages/torch/nn/functional.py:3451: UserWarning: Default upsampling behavior when mode=bilinear is changed to align_corners=False since 0.4.0. Please specify align_corners=True if the old behavior is desired. See the documentation of nn.Upsample for details.\n",
      "  warnings.warn(\n",
      "/mnt/c/Projects/deepstimate/pytorch3d/pytorch3d/transforms/transform3d.py:782: UserWarning: R is not a valid rotation matrix\n",
      "  warnings.warn(msg)\n",
      "\u001b[32m[I 2022-03-30 13:26:38,892]\u001b[0m Trial 68 finished with value: 0.002920845290645957 and parameters: {'ngf': 16, 'nz': 117, 'layers': 7, 'lr': 0.001257503050791758, 'beta1': 0.5874323278374408, 'beta2': 0.9111035701542205, 'l2': 0.0018605199960679323}. Best is trial 59 with value: 0.0026456103660166264.\u001b[0m\n"
     ]
    },
    {
     "data": {
      "application/vnd.jupyter.widget-view+json": {
       "model_id": "dcef3a550037479685d9c5a4ad00f718",
       "version_major": 2,
       "version_minor": 0
      },
      "text/plain": [
       "  0%|          | 0/3000 [00:00<?, ?it/s]"
      ]
     },
     "metadata": {},
     "output_type": "display_data"
    },
    {
     "name": "stderr",
     "output_type": "stream",
     "text": [
      "/home/theycallmepeter/anaconda3/envs/pytorch3d/lib/python3.8/site-packages/torch/nn/functional.py:3451: UserWarning: Default upsampling behavior when mode=bilinear is changed to align_corners=False since 0.4.0. Please specify align_corners=True if the old behavior is desired. See the documentation of nn.Upsample for details.\n",
      "  warnings.warn(\n",
      "/mnt/c/Projects/deepstimate/pytorch3d/pytorch3d/transforms/transform3d.py:782: UserWarning: R is not a valid rotation matrix\n",
      "  warnings.warn(msg)\n",
      "\u001b[32m[I 2022-03-30 13:30:29,051]\u001b[0m Trial 69 finished with value: 0.0028723664581775665 and parameters: {'ngf': 16, 'nz': 118, 'layers': 6, 'lr': 0.00034583848316854446, 'beta1': 0.5642128149691911, 'beta2': 0.9034085116427898, 'l2': 0.0006735567887665494}. Best is trial 59 with value: 0.0026456103660166264.\u001b[0m\n"
     ]
    },
    {
     "data": {
      "application/vnd.jupyter.widget-view+json": {
       "model_id": "a646961e56e440a5ac1de2ffe5be7ac3",
       "version_major": 2,
       "version_minor": 0
      },
      "text/plain": [
       "  0%|          | 0/3000 [00:00<?, ?it/s]"
      ]
     },
     "metadata": {},
     "output_type": "display_data"
    },
    {
     "name": "stderr",
     "output_type": "stream",
     "text": [
      "/home/theycallmepeter/anaconda3/envs/pytorch3d/lib/python3.8/site-packages/torch/nn/functional.py:3451: UserWarning: Default upsampling behavior when mode=bilinear is changed to align_corners=False since 0.4.0. Please specify align_corners=True if the old behavior is desired. See the documentation of nn.Upsample for details.\n",
      "  warnings.warn(\n",
      "/mnt/c/Projects/deepstimate/pytorch3d/pytorch3d/transforms/transform3d.py:782: UserWarning: R is not a valid rotation matrix\n",
      "  warnings.warn(msg)\n",
      "\u001b[32m[I 2022-03-30 13:34:10,035]\u001b[0m Trial 70 finished with value: 0.0029781574849039316 and parameters: {'ngf': 16, 'nz': 113, 'layers': 7, 'lr': 0.0004780572564803014, 'beta1': 0.6049826939086823, 'beta2': 0.9069984467947766, 'l2': 0.0003001739163120887}. Best is trial 59 with value: 0.0026456103660166264.\u001b[0m\n"
     ]
    },
    {
     "data": {
      "application/vnd.jupyter.widget-view+json": {
       "model_id": "88a728f9b4db40ffae5183356e23bae3",
       "version_major": 2,
       "version_minor": 0
      },
      "text/plain": [
       "  0%|          | 0/3000 [00:00<?, ?it/s]"
      ]
     },
     "metadata": {},
     "output_type": "display_data"
    },
    {
     "name": "stderr",
     "output_type": "stream",
     "text": [
      "/home/theycallmepeter/anaconda3/envs/pytorch3d/lib/python3.8/site-packages/torch/nn/functional.py:3451: UserWarning: Default upsampling behavior when mode=bilinear is changed to align_corners=False since 0.4.0. Please specify align_corners=True if the old behavior is desired. See the documentation of nn.Upsample for details.\n",
      "  warnings.warn(\n",
      "/mnt/c/Projects/deepstimate/pytorch3d/pytorch3d/transforms/transform3d.py:782: UserWarning: R is not a valid rotation matrix\n",
      "  warnings.warn(msg)\n",
      "\u001b[32m[I 2022-03-30 13:37:50,598]\u001b[0m Trial 71 finished with value: 0.0029125793371349573 and parameters: {'ngf': 16, 'nz': 111, 'layers': 7, 'lr': 0.00019573751212800564, 'beta1': 0.6707766074107901, 'beta2': 0.9028053956886184, 'l2': 0.009661164215775116}. Best is trial 59 with value: 0.0026456103660166264.\u001b[0m\n"
     ]
    },
    {
     "data": {
      "application/vnd.jupyter.widget-view+json": {
       "model_id": "52df7fdb1c3a46409f2b343b3d126673",
       "version_major": 2,
       "version_minor": 0
      },
      "text/plain": [
       "  0%|          | 0/3000 [00:00<?, ?it/s]"
      ]
     },
     "metadata": {},
     "output_type": "display_data"
    },
    {
     "name": "stderr",
     "output_type": "stream",
     "text": [
      "/home/theycallmepeter/anaconda3/envs/pytorch3d/lib/python3.8/site-packages/torch/nn/functional.py:3451: UserWarning: Default upsampling behavior when mode=bilinear is changed to align_corners=False since 0.4.0. Please specify align_corners=True if the old behavior is desired. See the documentation of nn.Upsample for details.\n",
      "  warnings.warn(\n",
      "/mnt/c/Projects/deepstimate/pytorch3d/pytorch3d/transforms/transform3d.py:782: UserWarning: R is not a valid rotation matrix\n",
      "  warnings.warn(msg)\n",
      "\u001b[32m[I 2022-03-30 13:41:37,753]\u001b[0m Trial 72 finished with value: 0.0028894366696476936 and parameters: {'ngf': 16, 'nz': 104, 'layers': 7, 'lr': 0.0001260449874135957, 'beta1': 0.6436386474546271, 'beta2': 0.91051158668571, 'l2': 0.0026235081674063953}. Best is trial 59 with value: 0.0026456103660166264.\u001b[0m\n"
     ]
    },
    {
     "data": {
      "application/vnd.jupyter.widget-view+json": {
       "model_id": "7fd88619dd2a4426b78d25bd4b7488cb",
       "version_major": 2,
       "version_minor": 0
      },
      "text/plain": [
       "  0%|          | 0/3000 [00:00<?, ?it/s]"
      ]
     },
     "metadata": {},
     "output_type": "display_data"
    },
    {
     "name": "stderr",
     "output_type": "stream",
     "text": [
      "/home/theycallmepeter/anaconda3/envs/pytorch3d/lib/python3.8/site-packages/torch/nn/functional.py:3451: UserWarning: Default upsampling behavior when mode=bilinear is changed to align_corners=False since 0.4.0. Please specify align_corners=True if the old behavior is desired. See the documentation of nn.Upsample for details.\n",
      "  warnings.warn(\n",
      "/mnt/c/Projects/deepstimate/pytorch3d/pytorch3d/transforms/transform3d.py:782: UserWarning: R is not a valid rotation matrix\n",
      "  warnings.warn(msg)\n",
      "\u001b[32m[I 2022-03-30 13:45:31,043]\u001b[0m Trial 73 finished with value: 0.002738724695518613 and parameters: {'ngf': 16, 'nz': 104, 'layers': 7, 'lr': 0.00016895704685477927, 'beta1': 0.7281564514933081, 'beta2': 0.9130719039958255, 'l2': 0.004497181272000488}. Best is trial 59 with value: 0.0026456103660166264.\u001b[0m\n"
     ]
    },
    {
     "data": {
      "application/vnd.jupyter.widget-view+json": {
       "model_id": "26e00846088f4556a7978b1f6a3ca771",
       "version_major": 2,
       "version_minor": 0
      },
      "text/plain": [
       "  0%|          | 0/3000 [00:00<?, ?it/s]"
      ]
     },
     "metadata": {},
     "output_type": "display_data"
    },
    {
     "name": "stderr",
     "output_type": "stream",
     "text": [
      "/home/theycallmepeter/anaconda3/envs/pytorch3d/lib/python3.8/site-packages/torch/nn/functional.py:3451: UserWarning: Default upsampling behavior when mode=bilinear is changed to align_corners=False since 0.4.0. Please specify align_corners=True if the old behavior is desired. See the documentation of nn.Upsample for details.\n",
      "  warnings.warn(\n",
      "/mnt/c/Projects/deepstimate/pytorch3d/pytorch3d/transforms/transform3d.py:782: UserWarning: R is not a valid rotation matrix\n",
      "  warnings.warn(msg)\n",
      "\u001b[32m[I 2022-03-30 13:49:30,387]\u001b[0m Trial 74 finished with value: 0.003050130093470216 and parameters: {'ngf': 16, 'nz': 115, 'layers': 7, 'lr': 0.0007647186880345767, 'beta1': 0.7049350363657274, 'beta2': 0.9076168209308512, 'l2': 0.004610698018137074}. Best is trial 59 with value: 0.0026456103660166264.\u001b[0m\n"
     ]
    },
    {
     "data": {
      "application/vnd.jupyter.widget-view+json": {
       "model_id": "465020fd76d04315b5b471d043e93fd7",
       "version_major": 2,
       "version_minor": 0
      },
      "text/plain": [
       "  0%|          | 0/3000 [00:00<?, ?it/s]"
      ]
     },
     "metadata": {},
     "output_type": "display_data"
    },
    {
     "name": "stderr",
     "output_type": "stream",
     "text": [
      "/home/theycallmepeter/anaconda3/envs/pytorch3d/lib/python3.8/site-packages/torch/nn/functional.py:3451: UserWarning: Default upsampling behavior when mode=bilinear is changed to align_corners=False since 0.4.0. Please specify align_corners=True if the old behavior is desired. See the documentation of nn.Upsample for details.\n",
      "  warnings.warn(\n",
      "/mnt/c/Projects/deepstimate/pytorch3d/pytorch3d/transforms/transform3d.py:782: UserWarning: R is not a valid rotation matrix\n",
      "  warnings.warn(msg)\n",
      "\u001b[32m[I 2022-03-30 13:53:06,346]\u001b[0m Trial 75 finished with value: 0.00269874045625329 and parameters: {'ngf': 16, 'nz': 120, 'layers': 6, 'lr': 0.00028504331245130063, 'beta1': 0.6246958925167629, 'beta2': 0.9132609164796395, 'l2': 0.005822789805621085}. Best is trial 59 with value: 0.0026456103660166264.\u001b[0m\n"
     ]
    },
    {
     "data": {
      "application/vnd.jupyter.widget-view+json": {
       "model_id": "8302fbf47f0043f6af0e4c90fef577da",
       "version_major": 2,
       "version_minor": 0
      },
      "text/plain": [
       "  0%|          | 0/3000 [00:00<?, ?it/s]"
      ]
     },
     "metadata": {},
     "output_type": "display_data"
    },
    {
     "name": "stderr",
     "output_type": "stream",
     "text": [
      "/home/theycallmepeter/anaconda3/envs/pytorch3d/lib/python3.8/site-packages/torch/nn/functional.py:3451: UserWarning: Default upsampling behavior when mode=bilinear is changed to align_corners=False since 0.4.0. Please specify align_corners=True if the old behavior is desired. See the documentation of nn.Upsample for details.\n",
      "  warnings.warn(\n",
      "/mnt/c/Projects/deepstimate/pytorch3d/pytorch3d/transforms/transform3d.py:782: UserWarning: R is not a valid rotation matrix\n",
      "  warnings.warn(msg)\n",
      "\u001b[32m[I 2022-03-30 13:56:48,839]\u001b[0m Trial 76 finished with value: 0.0029579869005829096 and parameters: {'ngf': 16, 'nz': 120, 'layers': 7, 'lr': 0.00028875521477495555, 'beta1': 0.6122769184427914, 'beta2': 0.9127350114903898, 'l2': 0.007276917088756293}. Best is trial 59 with value: 0.0026456103660166264.\u001b[0m\n"
     ]
    },
    {
     "data": {
      "application/vnd.jupyter.widget-view+json": {
       "model_id": "22e8e49c5b2648f686fc9cb18df86b35",
       "version_major": 2,
       "version_minor": 0
      },
      "text/plain": [
       "  0%|          | 0/3000 [00:00<?, ?it/s]"
      ]
     },
     "metadata": {},
     "output_type": "display_data"
    },
    {
     "name": "stderr",
     "output_type": "stream",
     "text": [
      "/home/theycallmepeter/anaconda3/envs/pytorch3d/lib/python3.8/site-packages/torch/nn/functional.py:3451: UserWarning: Default upsampling behavior when mode=bilinear is changed to align_corners=False since 0.4.0. Please specify align_corners=True if the old behavior is desired. See the documentation of nn.Upsample for details.\n",
      "  warnings.warn(\n",
      "/mnt/c/Projects/deepstimate/pytorch3d/pytorch3d/transforms/transform3d.py:782: UserWarning: R is not a valid rotation matrix\n",
      "  warnings.warn(msg)\n",
      "\u001b[32m[I 2022-03-30 14:00:36,209]\u001b[0m Trial 77 finished with value: 0.0029424952808767557 and parameters: {'ngf': 16, 'nz': 118, 'layers': 7, 'lr': 9.259068218315097e-05, 'beta1': 0.5236105508298431, 'beta2': 0.9185868577943312, 'l2': 0.006262715575484736}. Best is trial 59 with value: 0.0026456103660166264.\u001b[0m\n"
     ]
    },
    {
     "data": {
      "application/vnd.jupyter.widget-view+json": {
       "model_id": "74f922ef03604422808059f73a9a3ce0",
       "version_major": 2,
       "version_minor": 0
      },
      "text/plain": [
       "  0%|          | 0/3000 [00:00<?, ?it/s]"
      ]
     },
     "metadata": {},
     "output_type": "display_data"
    },
    {
     "name": "stderr",
     "output_type": "stream",
     "text": [
      "/home/theycallmepeter/anaconda3/envs/pytorch3d/lib/python3.8/site-packages/torch/nn/functional.py:3451: UserWarning: Default upsampling behavior when mode=bilinear is changed to align_corners=False since 0.4.0. Please specify align_corners=True if the old behavior is desired. See the documentation of nn.Upsample for details.\n",
      "  warnings.warn(\n",
      "/mnt/c/Projects/deepstimate/pytorch3d/pytorch3d/transforms/transform3d.py:782: UserWarning: R is not a valid rotation matrix\n",
      "  warnings.warn(msg)\n",
      "\u001b[32m[I 2022-03-30 14:04:17,002]\u001b[0m Trial 78 finished with value: 0.0030049621127545834 and parameters: {'ngf': 16, 'nz': 110, 'layers': 6, 'lr': 0.000174228353340338, 'beta1': 0.634026369159449, 'beta2': 0.9151758297295447, 'l2': 0.0021309239570420978}. Best is trial 59 with value: 0.0026456103660166264.\u001b[0m\n"
     ]
    },
    {
     "data": {
      "application/vnd.jupyter.widget-view+json": {
       "model_id": "d24f28be317d46c49bf2f7183074754e",
       "version_major": 2,
       "version_minor": 0
      },
      "text/plain": [
       "  0%|          | 0/3000 [00:00<?, ?it/s]"
      ]
     },
     "metadata": {},
     "output_type": "display_data"
    },
    {
     "name": "stderr",
     "output_type": "stream",
     "text": [
      "/home/theycallmepeter/anaconda3/envs/pytorch3d/lib/python3.8/site-packages/torch/nn/functional.py:3451: UserWarning: Default upsampling behavior when mode=bilinear is changed to align_corners=False since 0.4.0. Please specify align_corners=True if the old behavior is desired. See the documentation of nn.Upsample for details.\n",
      "  warnings.warn(\n",
      "/mnt/c/Projects/deepstimate/pytorch3d/pytorch3d/transforms/transform3d.py:782: UserWarning: R is not a valid rotation matrix\n",
      "  warnings.warn(msg)\n",
      "\u001b[32m[I 2022-03-30 14:08:04,634]\u001b[0m Trial 79 finished with value: 0.002966035157442093 and parameters: {'ngf': 16, 'nz': 114, 'layers': 7, 'lr': 0.00041170827935526824, 'beta1': 0.7262819032641846, 'beta2': 0.9031379843345366, 'l2': 0.005413655461766067}. Best is trial 59 with value: 0.0026456103660166264.\u001b[0m\n"
     ]
    },
    {
     "data": {
      "application/vnd.jupyter.widget-view+json": {
       "model_id": "933b857a329344698e024e3ad327db53",
       "version_major": 2,
       "version_minor": 0
      },
      "text/plain": [
       "  0%|          | 0/3000 [00:00<?, ?it/s]"
      ]
     },
     "metadata": {},
     "output_type": "display_data"
    },
    {
     "name": "stderr",
     "output_type": "stream",
     "text": [
      "/home/theycallmepeter/anaconda3/envs/pytorch3d/lib/python3.8/site-packages/torch/nn/functional.py:3451: UserWarning: Default upsampling behavior when mode=bilinear is changed to align_corners=False since 0.4.0. Please specify align_corners=True if the old behavior is desired. See the documentation of nn.Upsample for details.\n",
      "  warnings.warn(\n",
      "/mnt/c/Projects/deepstimate/pytorch3d/pytorch3d/transforms/transform3d.py:782: UserWarning: R is not a valid rotation matrix\n",
      "  warnings.warn(msg)\n",
      "\u001b[32m[I 2022-03-30 14:12:21,836]\u001b[0m Trial 80 finished with value: 0.0030418827664107084 and parameters: {'ngf': 16, 'nz': 116, 'layers': 7, 'lr': 0.0007572597177255895, 'beta1': 0.6606074034605092, 'beta2': 0.9085259884484114, 'l2': 0.00010182703601966785}. Best is trial 59 with value: 0.0026456103660166264.\u001b[0m\n"
     ]
    },
    {
     "data": {
      "application/vnd.jupyter.widget-view+json": {
       "model_id": "11e8f8074f834f609bebc830fca1947b",
       "version_major": 2,
       "version_minor": 0
      },
      "text/plain": [
       "  0%|          | 0/3000 [00:00<?, ?it/s]"
      ]
     },
     "metadata": {},
     "output_type": "display_data"
    },
    {
     "name": "stderr",
     "output_type": "stream",
     "text": [
      "/home/theycallmepeter/anaconda3/envs/pytorch3d/lib/python3.8/site-packages/torch/nn/functional.py:3451: UserWarning: Default upsampling behavior when mode=bilinear is changed to align_corners=False since 0.4.0. Please specify align_corners=True if the old behavior is desired. See the documentation of nn.Upsample for details.\n",
      "  warnings.warn(\n",
      "/mnt/c/Projects/deepstimate/pytorch3d/pytorch3d/transforms/transform3d.py:782: UserWarning: R is not a valid rotation matrix\n",
      "  warnings.warn(msg)\n",
      "\u001b[32m[I 2022-03-30 14:16:40,209]\u001b[0m Trial 81 finished with value: 0.0029741849284619093 and parameters: {'ngf': 24, 'nz': 109, 'layers': 6, 'lr': 0.0002763793863005661, 'beta1': 0.6859067722321527, 'beta2': 0.9051399090373318, 'l2': 0.0036271943744625975}. Best is trial 59 with value: 0.0026456103660166264.\u001b[0m\n"
     ]
    },
    {
     "data": {
      "application/vnd.jupyter.widget-view+json": {
       "model_id": "cf5b7f065f514c0887277ee1b8aacb01",
       "version_major": 2,
       "version_minor": 0
      },
      "text/plain": [
       "  0%|          | 0/3000 [00:00<?, ?it/s]"
      ]
     },
     "metadata": {},
     "output_type": "display_data"
    },
    {
     "name": "stderr",
     "output_type": "stream",
     "text": [
      "/home/theycallmepeter/anaconda3/envs/pytorch3d/lib/python3.8/site-packages/torch/nn/functional.py:3451: UserWarning: Default upsampling behavior when mode=bilinear is changed to align_corners=False since 0.4.0. Please specify align_corners=True if the old behavior is desired. See the documentation of nn.Upsample for details.\n",
      "  warnings.warn(\n",
      "/mnt/c/Projects/deepstimate/pytorch3d/pytorch3d/transforms/transform3d.py:782: UserWarning: R is not a valid rotation matrix\n",
      "  warnings.warn(msg)\n",
      "\u001b[32m[I 2022-03-30 14:20:51,853]\u001b[0m Trial 82 finished with value: 0.002827500691637397 and parameters: {'ngf': 16, 'nz': 112, 'layers': 6, 'lr': 0.00012977207779557527, 'beta1': 0.7565454155380682, 'beta2': 0.912508197931703, 'l2': 0.0023199310913052046}. Best is trial 59 with value: 0.0026456103660166264.\u001b[0m\n"
     ]
    },
    {
     "data": {
      "application/vnd.jupyter.widget-view+json": {
       "model_id": "7965840e1520469188dd24415d8d2eae",
       "version_major": 2,
       "version_minor": 0
      },
      "text/plain": [
       "  0%|          | 0/3000 [00:00<?, ?it/s]"
      ]
     },
     "metadata": {},
     "output_type": "display_data"
    },
    {
     "name": "stderr",
     "output_type": "stream",
     "text": [
      "/home/theycallmepeter/anaconda3/envs/pytorch3d/lib/python3.8/site-packages/torch/nn/functional.py:3451: UserWarning: Default upsampling behavior when mode=bilinear is changed to align_corners=False since 0.4.0. Please specify align_corners=True if the old behavior is desired. See the documentation of nn.Upsample for details.\n",
      "  warnings.warn(\n",
      "/mnt/c/Projects/deepstimate/pytorch3d/pytorch3d/transforms/transform3d.py:782: UserWarning: R is not a valid rotation matrix\n",
      "  warnings.warn(msg)\n",
      "\u001b[32m[I 2022-03-30 14:25:16,757]\u001b[0m Trial 83 finished with value: 0.00295436498709023 and parameters: {'ngf': 24, 'nz': 98, 'layers': 7, 'lr': 0.0005448304524163731, 'beta1': 0.6778381872694976, 'beta2': 0.9015329824606283, 'l2': 0.004473921084185905}. Best is trial 59 with value: 0.0026456103660166264.\u001b[0m\n"
     ]
    },
    {
     "data": {
      "application/vnd.jupyter.widget-view+json": {
       "model_id": "eb8ae5d2e6a54e92b50ea06b0f04f7d7",
       "version_major": 2,
       "version_minor": 0
      },
      "text/plain": [
       "  0%|          | 0/3000 [00:00<?, ?it/s]"
      ]
     },
     "metadata": {},
     "output_type": "display_data"
    },
    {
     "name": "stderr",
     "output_type": "stream",
     "text": [
      "/home/theycallmepeter/anaconda3/envs/pytorch3d/lib/python3.8/site-packages/torch/nn/functional.py:3451: UserWarning: Default upsampling behavior when mode=bilinear is changed to align_corners=False since 0.4.0. Please specify align_corners=True if the old behavior is desired. See the documentation of nn.Upsample for details.\n",
      "  warnings.warn(\n",
      "/mnt/c/Projects/deepstimate/pytorch3d/pytorch3d/transforms/transform3d.py:782: UserWarning: R is not a valid rotation matrix\n",
      "  warnings.warn(msg)\n",
      "\u001b[32m[I 2022-03-30 14:29:36,507]\u001b[0m Trial 84 finished with value: 0.0029072104953229427 and parameters: {'ngf': 16, 'nz': 118, 'layers': 7, 'lr': 0.0001913723055890834, 'beta1': 0.7058964677013532, 'beta2': 0.9001550318668832, 'l2': 0.0031770680371325855}. Best is trial 59 with value: 0.0026456103660166264.\u001b[0m\n"
     ]
    },
    {
     "data": {
      "application/vnd.jupyter.widget-view+json": {
       "model_id": "9ebf686d33114d6582762d15efa17cac",
       "version_major": 2,
       "version_minor": 0
      },
      "text/plain": [
       "  0%|          | 0/3000 [00:00<?, ?it/s]"
      ]
     },
     "metadata": {},
     "output_type": "display_data"
    },
    {
     "name": "stderr",
     "output_type": "stream",
     "text": [
      "/home/theycallmepeter/anaconda3/envs/pytorch3d/lib/python3.8/site-packages/torch/nn/functional.py:3451: UserWarning: Default upsampling behavior when mode=bilinear is changed to align_corners=False since 0.4.0. Please specify align_corners=True if the old behavior is desired. See the documentation of nn.Upsample for details.\n",
      "  warnings.warn(\n",
      "/mnt/c/Projects/deepstimate/pytorch3d/pytorch3d/transforms/transform3d.py:782: UserWarning: R is not a valid rotation matrix\n",
      "  warnings.warn(msg)\n",
      "\u001b[32m[I 2022-03-30 14:33:29,338]\u001b[0m Trial 85 finished with value: 0.0028983992524445057 and parameters: {'ngf': 16, 'nz': 106, 'layers': 7, 'lr': 0.0003894430314313713, 'beta1': 0.5941059841858534, 'beta2': 0.9192665928602435, 'l2': 0.0014508857456839517}. Best is trial 59 with value: 0.0026456103660166264.\u001b[0m\n"
     ]
    },
    {
     "data": {
      "application/vnd.jupyter.widget-view+json": {
       "model_id": "9dbc52ffc049456f80179dcaddb4768a",
       "version_major": 2,
       "version_minor": 0
      },
      "text/plain": [
       "  0%|          | 0/3000 [00:00<?, ?it/s]"
      ]
     },
     "metadata": {},
     "output_type": "display_data"
    },
    {
     "name": "stderr",
     "output_type": "stream",
     "text": [
      "/home/theycallmepeter/anaconda3/envs/pytorch3d/lib/python3.8/site-packages/torch/nn/functional.py:3451: UserWarning: Default upsampling behavior when mode=bilinear is changed to align_corners=False since 0.4.0. Please specify align_corners=True if the old behavior is desired. See the documentation of nn.Upsample for details.\n",
      "  warnings.warn(\n",
      "/mnt/c/Projects/deepstimate/pytorch3d/pytorch3d/transforms/transform3d.py:782: UserWarning: R is not a valid rotation matrix\n",
      "  warnings.warn(msg)\n",
      "\u001b[32m[I 2022-03-30 14:37:05,110]\u001b[0m Trial 86 finished with value: 0.0027917453553527594 and parameters: {'ngf': 24, 'nz': 120, 'layers': 6, 'lr': 0.0002564045370983249, 'beta1': 0.6204151498341128, 'beta2': 0.916046247906937, 'l2': 0.00883251664266952}. Best is trial 59 with value: 0.0026456103660166264.\u001b[0m\n"
     ]
    },
    {
     "data": {
      "application/vnd.jupyter.widget-view+json": {
       "model_id": "5995d04369e646538587ce177489c4da",
       "version_major": 2,
       "version_minor": 0
      },
      "text/plain": [
       "  0%|          | 0/3000 [00:00<?, ?it/s]"
      ]
     },
     "metadata": {},
     "output_type": "display_data"
    },
    {
     "name": "stderr",
     "output_type": "stream",
     "text": [
      "/home/theycallmepeter/anaconda3/envs/pytorch3d/lib/python3.8/site-packages/torch/nn/functional.py:3451: UserWarning: Default upsampling behavior when mode=bilinear is changed to align_corners=False since 0.4.0. Please specify align_corners=True if the old behavior is desired. See the documentation of nn.Upsample for details.\n",
      "  warnings.warn(\n",
      "/mnt/c/Projects/deepstimate/pytorch3d/pytorch3d/transforms/transform3d.py:782: UserWarning: R is not a valid rotation matrix\n",
      "  warnings.warn(msg)\n",
      "\u001b[32m[I 2022-03-30 14:40:59,278]\u001b[0m Trial 87 finished with value: 0.0029148622415959835 and parameters: {'ngf': 32, 'nz': 103, 'layers': 7, 'lr': 0.00015044177332551, 'beta1': 0.7321811783941017, 'beta2': 0.9104189413984236, 'l2': 0.0017927736685833231}. Best is trial 59 with value: 0.0026456103660166264.\u001b[0m\n"
     ]
    },
    {
     "data": {
      "application/vnd.jupyter.widget-view+json": {
       "model_id": "717f6f420a3347c08e90eb086b685e35",
       "version_major": 2,
       "version_minor": 0
      },
      "text/plain": [
       "  0%|          | 0/3000 [00:00<?, ?it/s]"
      ]
     },
     "metadata": {},
     "output_type": "display_data"
    },
    {
     "name": "stderr",
     "output_type": "stream",
     "text": [
      "/home/theycallmepeter/anaconda3/envs/pytorch3d/lib/python3.8/site-packages/torch/nn/functional.py:3451: UserWarning: Default upsampling behavior when mode=bilinear is changed to align_corners=False since 0.4.0. Please specify align_corners=True if the old behavior is desired. See the documentation of nn.Upsample for details.\n",
      "  warnings.warn(\n",
      "/mnt/c/Projects/deepstimate/pytorch3d/pytorch3d/transforms/transform3d.py:782: UserWarning: R is not a valid rotation matrix\n",
      "  warnings.warn(msg)\n",
      "\u001b[32m[I 2022-03-30 14:44:49,326]\u001b[0m Trial 88 finished with value: 0.0030947369523346424 and parameters: {'ngf': 16, 'nz': 108, 'layers': 7, 'lr': 0.0009176010486591387, 'beta1': 0.6535693872553349, 'beta2': 0.9051144590008608, 'l2': 0.005834419630279305}. Best is trial 59 with value: 0.0026456103660166264.\u001b[0m\n"
     ]
    },
    {
     "data": {
      "application/vnd.jupyter.widget-view+json": {
       "model_id": "dcf81c72d6974fa78200aae9af1e7502",
       "version_major": 2,
       "version_minor": 0
      },
      "text/plain": [
       "  0%|          | 0/3000 [00:00<?, ?it/s]"
      ]
     },
     "metadata": {},
     "output_type": "display_data"
    },
    {
     "name": "stderr",
     "output_type": "stream",
     "text": [
      "/home/theycallmepeter/anaconda3/envs/pytorch3d/lib/python3.8/site-packages/torch/nn/functional.py:3451: UserWarning: Default upsampling behavior when mode=bilinear is changed to align_corners=False since 0.4.0. Please specify align_corners=True if the old behavior is desired. See the documentation of nn.Upsample for details.\n",
      "  warnings.warn(\n",
      "/mnt/c/Projects/deepstimate/pytorch3d/pytorch3d/transforms/transform3d.py:782: UserWarning: R is not a valid rotation matrix\n",
      "  warnings.warn(msg)\n",
      "\u001b[32m[I 2022-03-30 14:48:36,343]\u001b[0m Trial 89 finished with value: 0.0029341198969632387 and parameters: {'ngf': 16, 'nz': 114, 'layers': 6, 'lr': 0.0012942850754981067, 'beta1': 0.750440129572874, 'beta2': 0.9074082704973183, 'l2': 0.004083976490494614}. Best is trial 59 with value: 0.0026456103660166264.\u001b[0m\n"
     ]
    },
    {
     "data": {
      "application/vnd.jupyter.widget-view+json": {
       "model_id": "b5dded3b864a435e9f8d4f2211242fc8",
       "version_major": 2,
       "version_minor": 0
      },
      "text/plain": [
       "  0%|          | 0/3000 [00:00<?, ?it/s]"
      ]
     },
     "metadata": {},
     "output_type": "display_data"
    },
    {
     "name": "stderr",
     "output_type": "stream",
     "text": [
      "/home/theycallmepeter/anaconda3/envs/pytorch3d/lib/python3.8/site-packages/torch/nn/functional.py:3451: UserWarning: Default upsampling behavior when mode=bilinear is changed to align_corners=False since 0.4.0. Please specify align_corners=True if the old behavior is desired. See the documentation of nn.Upsample for details.\n",
      "  warnings.warn(\n",
      "/mnt/c/Projects/deepstimate/pytorch3d/pytorch3d/transforms/transform3d.py:782: UserWarning: R is not a valid rotation matrix\n",
      "  warnings.warn(msg)\n",
      "\u001b[32m[I 2022-03-30 14:52:26,835]\u001b[0m Trial 90 finished with value: 0.002927469089627266 and parameters: {'ngf': 24, 'nz': 116, 'layers': 7, 'lr': 4.869798449817473e-05, 'beta1': 0.5698740315092045, 'beta2': 0.9117233869692272, 'l2': 0.0028286811956041344}. Best is trial 59 with value: 0.0026456103660166264.\u001b[0m\n"
     ]
    },
    {
     "data": {
      "application/vnd.jupyter.widget-view+json": {
       "model_id": "61eb070fc99d4d138f3f5bd13f7613d4",
       "version_major": 2,
       "version_minor": 0
      },
      "text/plain": [
       "  0%|          | 0/3000 [00:00<?, ?it/s]"
      ]
     },
     "metadata": {},
     "output_type": "display_data"
    },
    {
     "name": "stderr",
     "output_type": "stream",
     "text": [
      "/home/theycallmepeter/anaconda3/envs/pytorch3d/lib/python3.8/site-packages/torch/nn/functional.py:3451: UserWarning: Default upsampling behavior when mode=bilinear is changed to align_corners=False since 0.4.0. Please specify align_corners=True if the old behavior is desired. See the documentation of nn.Upsample for details.\n",
      "  warnings.warn(\n",
      "/mnt/c/Projects/deepstimate/pytorch3d/pytorch3d/transforms/transform3d.py:782: UserWarning: R is not a valid rotation matrix\n",
      "  warnings.warn(msg)\n",
      "\u001b[32m[I 2022-03-30 14:56:06,865]\u001b[0m Trial 91 finished with value: 0.0029377059545367956 and parameters: {'ngf': 16, 'nz': 104, 'layers': 4, 'lr': 0.00020992155285697899, 'beta1': 0.8307574347445351, 'beta2': 0.9038383489092503, 'l2': 0.0033981314793041185}. Best is trial 59 with value: 0.0026456103660166264.\u001b[0m\n"
     ]
    },
    {
     "data": {
      "application/vnd.jupyter.widget-view+json": {
       "model_id": "4deb4df1752f4ecdb5d0dd2b3c0716ec",
       "version_major": 2,
       "version_minor": 0
      },
      "text/plain": [
       "  0%|          | 0/3000 [00:00<?, ?it/s]"
      ]
     },
     "metadata": {},
     "output_type": "display_data"
    },
    {
     "name": "stderr",
     "output_type": "stream",
     "text": [
      "/home/theycallmepeter/anaconda3/envs/pytorch3d/lib/python3.8/site-packages/torch/nn/functional.py:3451: UserWarning: Default upsampling behavior when mode=bilinear is changed to align_corners=False since 0.4.0. Please specify align_corners=True if the old behavior is desired. See the documentation of nn.Upsample for details.\n",
      "  warnings.warn(\n",
      "/mnt/c/Projects/deepstimate/pytorch3d/pytorch3d/transforms/transform3d.py:782: UserWarning: R is not a valid rotation matrix\n",
      "  warnings.warn(msg)\n",
      "\u001b[32m[I 2022-03-30 14:59:59,339]\u001b[0m Trial 92 finished with value: 0.0028889013919979334 and parameters: {'ngf': 24, 'nz': 105, 'layers': 7, 'lr': 0.000345456320868098, 'beta1': 0.76750111814123, 'beta2': 0.9260170226907701, 'l2': 0.002161114828083095}. Best is trial 59 with value: 0.0026456103660166264.\u001b[0m\n"
     ]
    },
    {
     "data": {
      "application/vnd.jupyter.widget-view+json": {
       "model_id": "8a7c596421674e26b9b111a7de61ff4c",
       "version_major": 2,
       "version_minor": 0
      },
      "text/plain": [
       "  0%|          | 0/3000 [00:00<?, ?it/s]"
      ]
     },
     "metadata": {},
     "output_type": "display_data"
    },
    {
     "name": "stderr",
     "output_type": "stream",
     "text": [
      "/home/theycallmepeter/anaconda3/envs/pytorch3d/lib/python3.8/site-packages/torch/nn/functional.py:3451: UserWarning: Default upsampling behavior when mode=bilinear is changed to align_corners=False since 0.4.0. Please specify align_corners=True if the old behavior is desired. See the documentation of nn.Upsample for details.\n",
      "  warnings.warn(\n",
      "/mnt/c/Projects/deepstimate/pytorch3d/pytorch3d/transforms/transform3d.py:782: UserWarning: R is not a valid rotation matrix\n",
      "  warnings.warn(msg)\n",
      "\u001b[32m[I 2022-03-30 15:03:50,451]\u001b[0m Trial 93 finished with value: 0.0028611626476049423 and parameters: {'ngf': 16, 'nz': 111, 'layers': 7, 'lr': 0.00010648325023447839, 'beta1': 0.7918995216899533, 'beta2': 0.9990000999739562, 'l2': 0.007612350155255117}. Best is trial 59 with value: 0.0026456103660166264.\u001b[0m\n"
     ]
    },
    {
     "data": {
      "application/vnd.jupyter.widget-view+json": {
       "model_id": "a8bcb8d381ad4cddb71336c1e9811593",
       "version_major": 2,
       "version_minor": 0
      },
      "text/plain": [
       "  0%|          | 0/3000 [00:00<?, ?it/s]"
      ]
     },
     "metadata": {},
     "output_type": "display_data"
    },
    {
     "name": "stderr",
     "output_type": "stream",
     "text": [
      "/home/theycallmepeter/anaconda3/envs/pytorch3d/lib/python3.8/site-packages/torch/nn/functional.py:3451: UserWarning: Default upsampling behavior when mode=bilinear is changed to align_corners=False since 0.4.0. Please specify align_corners=True if the old behavior is desired. See the documentation of nn.Upsample for details.\n",
      "  warnings.warn(\n",
      "/mnt/c/Projects/deepstimate/pytorch3d/pytorch3d/transforms/transform3d.py:782: UserWarning: R is not a valid rotation matrix\n",
      "  warnings.warn(msg)\n",
      "\u001b[32m[I 2022-03-30 15:07:37,450]\u001b[0m Trial 94 finished with value: 0.002941114129498601 and parameters: {'ngf': 16, 'nz': 108, 'layers': 7, 'lr': 0.0005371907036453762, 'beta1': 0.7193875148394375, 'beta2': 0.9225239251501257, 'l2': 0.004696490032795803}. Best is trial 59 with value: 0.0026456103660166264.\u001b[0m\n"
     ]
    },
    {
     "data": {
      "application/vnd.jupyter.widget-view+json": {
       "model_id": "93c1db4cbbec462e917d3374e7db8a40",
       "version_major": 2,
       "version_minor": 0
      },
      "text/plain": [
       "  0%|          | 0/3000 [00:00<?, ?it/s]"
      ]
     },
     "metadata": {},
     "output_type": "display_data"
    },
    {
     "name": "stderr",
     "output_type": "stream",
     "text": [
      "/home/theycallmepeter/anaconda3/envs/pytorch3d/lib/python3.8/site-packages/torch/nn/functional.py:3451: UserWarning: Default upsampling behavior when mode=bilinear is changed to align_corners=False since 0.4.0. Please specify align_corners=True if the old behavior is desired. See the documentation of nn.Upsample for details.\n",
      "  warnings.warn(\n",
      "/mnt/c/Projects/deepstimate/pytorch3d/pytorch3d/transforms/transform3d.py:782: UserWarning: R is not a valid rotation matrix\n",
      "  warnings.warn(msg)\n",
      "\u001b[32m[I 2022-03-30 15:11:35,879]\u001b[0m Trial 95 finished with value: 0.0027334715705364943 and parameters: {'ngf': 32, 'nz': 101, 'layers': 7, 'lr': 0.00018193033276122937, 'beta1': 0.6900787831255288, 'beta2': 0.9360923542332326, 'l2': 0.0026201023692461263}. Best is trial 59 with value: 0.0026456103660166264.\u001b[0m\n"
     ]
    },
    {
     "data": {
      "application/vnd.jupyter.widget-view+json": {
       "model_id": "f08319f5cf864a6cb1be0adfda248ee4",
       "version_major": 2,
       "version_minor": 0
      },
      "text/plain": [
       "  0%|          | 0/3000 [00:00<?, ?it/s]"
      ]
     },
     "metadata": {},
     "output_type": "display_data"
    },
    {
     "name": "stderr",
     "output_type": "stream",
     "text": [
      "/home/theycallmepeter/anaconda3/envs/pytorch3d/lib/python3.8/site-packages/torch/nn/functional.py:3451: UserWarning: Default upsampling behavior when mode=bilinear is changed to align_corners=False since 0.4.0. Please specify align_corners=True if the old behavior is desired. See the documentation of nn.Upsample for details.\n",
      "  warnings.warn(\n",
      "/mnt/c/Projects/deepstimate/pytorch3d/pytorch3d/transforms/transform3d.py:782: UserWarning: R is not a valid rotation matrix\n",
      "  warnings.warn(msg)\n",
      "\u001b[32m[I 2022-03-30 15:15:33,326]\u001b[0m Trial 96 finished with value: 0.0031378641724586487 and parameters: {'ngf': 32, 'nz': 101, 'layers': 7, 'lr': 0.00014090666931518712, 'beta1': 0.6818702197664344, 'beta2': 0.935768488145562, 'l2': 0.0012037357331494327}. Best is trial 59 with value: 0.0026456103660166264.\u001b[0m\n"
     ]
    },
    {
     "data": {
      "application/vnd.jupyter.widget-view+json": {
       "model_id": "5104358711844bbbbc61eb780a85549a",
       "version_major": 2,
       "version_minor": 0
      },
      "text/plain": [
       "  0%|          | 0/3000 [00:00<?, ?it/s]"
      ]
     },
     "metadata": {},
     "output_type": "display_data"
    },
    {
     "name": "stderr",
     "output_type": "stream",
     "text": [
      "/home/theycallmepeter/anaconda3/envs/pytorch3d/lib/python3.8/site-packages/torch/nn/functional.py:3451: UserWarning: Default upsampling behavior when mode=bilinear is changed to align_corners=False since 0.4.0. Please specify align_corners=True if the old behavior is desired. See the documentation of nn.Upsample for details.\n",
      "  warnings.warn(\n",
      "/mnt/c/Projects/deepstimate/pytorch3d/pytorch3d/transforms/transform3d.py:782: UserWarning: R is not a valid rotation matrix\n",
      "  warnings.warn(msg)\n",
      "\u001b[32m[I 2022-03-30 15:19:20,103]\u001b[0m Trial 97 finished with value: 0.002965225838124752 and parameters: {'ngf': 32, 'nz': 96, 'layers': 3, 'lr': 0.00024243374062159182, 'beta1': 0.6353376033254083, 'beta2': 0.9789730857069197, 'l2': 0.0025614984125084763}. Best is trial 59 with value: 0.0026456103660166264.\u001b[0m\n"
     ]
    },
    {
     "data": {
      "application/vnd.jupyter.widget-view+json": {
       "model_id": "49776d53e78c4866afa4b66de1277e26",
       "version_major": 2,
       "version_minor": 0
      },
      "text/plain": [
       "  0%|          | 0/3000 [00:00<?, ?it/s]"
      ]
     },
     "metadata": {},
     "output_type": "display_data"
    },
    {
     "name": "stderr",
     "output_type": "stream",
     "text": [
      "/home/theycallmepeter/anaconda3/envs/pytorch3d/lib/python3.8/site-packages/torch/nn/functional.py:3451: UserWarning: Default upsampling behavior when mode=bilinear is changed to align_corners=False since 0.4.0. Please specify align_corners=True if the old behavior is desired. See the documentation of nn.Upsample for details.\n",
      "  warnings.warn(\n",
      "/mnt/c/Projects/deepstimate/pytorch3d/pytorch3d/transforms/transform3d.py:782: UserWarning: R is not a valid rotation matrix\n",
      "  warnings.warn(msg)\n",
      "\u001b[32m[I 2022-03-30 15:23:30,167]\u001b[0m Trial 98 finished with value: 0.002917010337114334 and parameters: {'ngf': 32, 'nz': 54, 'layers': 7, 'lr': 0.0001737937063269848, 'beta1': 0.6637031135376659, 'beta2': 0.9092419241046885, 'l2': 0.00597802977832343}. Best is trial 59 with value: 0.0026456103660166264.\u001b[0m\n"
     ]
    },
    {
     "data": {
      "application/vnd.jupyter.widget-view+json": {
       "model_id": "9e587301d3d248488ca1d52b61924846",
       "version_major": 2,
       "version_minor": 0
      },
      "text/plain": [
       "  0%|          | 0/3000 [00:00<?, ?it/s]"
      ]
     },
     "metadata": {},
     "output_type": "display_data"
    },
    {
     "name": "stderr",
     "output_type": "stream",
     "text": [
      "/home/theycallmepeter/anaconda3/envs/pytorch3d/lib/python3.8/site-packages/torch/nn/functional.py:3451: UserWarning: Default upsampling behavior when mode=bilinear is changed to align_corners=False since 0.4.0. Please specify align_corners=True if the old behavior is desired. See the documentation of nn.Upsample for details.\n",
      "  warnings.warn(\n",
      "/mnt/c/Projects/deepstimate/pytorch3d/pytorch3d/transforms/transform3d.py:782: UserWarning: R is not a valid rotation matrix\n",
      "  warnings.warn(msg)\n",
      "\u001b[32m[I 2022-03-30 15:27:28,933]\u001b[0m Trial 99 finished with value: 0.002951741451397538 and parameters: {'ngf': 32, 'nz': 113, 'layers': 6, 'lr': 0.0003028136751203863, 'beta1': 0.7030196589379696, 'beta2': 0.934515143577289, 'l2': 3.006378901474635e-05}. Best is trial 59 with value: 0.0026456103660166264.\u001b[0m\n"
     ]
    }
   ],
   "source": [
    "# optuna optimization created following https://towardsdatascience.com/hyperparameter-tuning-of-neural-networks-with-optuna-and-pytorch-22e179efc837\n",
    "study = optuna.create_study(direction=\"minimize\", sampler=optuna.samplers.TPESampler())\n",
    "study.optimize(objective, n_trials=100)"
   ]
  },
  {
   "cell_type": "code",
   "execution_count": 49,
   "metadata": {},
   "outputs": [
    {
     "name": "stdout",
     "output_type": "stream",
     "text": [
      "\"ngf\": 16,\n",
      "\"nz\": 118,\n",
      "\"layers\": 7,\n",
      "\"lr\": 0.00039109652023820127,\n",
      "\"beta1\": 0.6751022480032107,\n",
      "\"beta2\": 0.9040847672135707,\n",
      "\"l2\": 0.0028537232616945006,\n"
     ]
    }
   ],
   "source": [
    "best_trial = study.best_trial\n",
    "\n",
    "for key, value in best_trial.params.items():\n",
    "    print(\"\\\"{}\\\": {},\".format(key, value))\n",
    "\n",
    "# RGB only - old \n",
    "# \"ngf\": 64,\n",
    "# \"nz\": 94,\n",
    "# \"layers\": 4,\n",
    "# \"lr\": 0.005425492476777124,\n",
    "# \"beta1\": 0.5076397726936703,\n",
    "# \"beta2\": 0.9214742796191817,\n",
    "# \"l2\": 1.698130190537183e-06,\n",
    "# \"amsgrad\": True,\n",
    "\n",
    "# Fixed bug run\n",
    "# \"ngf\": 16,\n",
    "# \"nz\": 149,\n",
    "# \"layers\": 6,\n",
    "# \"lr\": 0.000390652649743842,\n",
    "# \"beta1\": 0.33784723988355825,\n",
    "# \"beta2\": 0.9378792680516778,\n",
    "# \"l2\": 0.002352535089280613,\n",
    "# \"amsgrad\": True\n",
    "\n",
    "# Fixed beta2\n",
    "# \"ngf\": 24,\n",
    "# \"nz\": 47,\n",
    "# \"layers\": 7,\n",
    "# \"lr\": 0.0001550772896923088,\n",
    "# \"beta1\": 0.5509929718683773,\n",
    "# \"l2\": 0.0023825695937237834,\n",
    "\n",
    "# all parameters for final \n",
    "# \"ngf\": 64,\n",
    "# \"nz\": 184,\n",
    "# \"layers\": 5,\n",
    "# \"lr\": 0.00011260140691660467,\n",
    "# \"beta1\": 0.7122636331428575,\n",
    "# \"beta2\": 0.9815508870516857,\n",
    "# \"l2\": 0.008815477778218278,\n",
    "\n",
    "\n",
    "# all param rgb only\n",
    "# \"ngf\": 16,\n",
    "# \"nz\": 118,\n",
    "# \"layers\": 7,\n",
    "# \"lr\": 0.00039109652023820127,\n",
    "# \"beta1\": 0.6751022480032107,\n",
    "# \"beta2\": 0.9040847672135707,\n",
    "# \"l2\": 0.0028537232616945006, \n",
    "\n",
    "\n",
    "# RGB and cos sim optimization\n",
    "# \"ngf\": 64\n",
    "# \"n_unit\": 167\n",
    "# \"layers\": 2\n",
    "# \"lr\": 0.04165803794830159\n",
    "# \"beta1\": 0.7482115163186268\n",
    "# \"beta2\": 0.9595019689796743\n",
    "# \"l2\": 0.0023515772552477328\n",
    "# \"amsgrad\": True"
   ]
  },
  {
   "cell_type": "code",
   "execution_count": 50,
   "metadata": {},
   "outputs": [],
   "source": [
    "# optuna.visualization.plot_intermediate_values(study)\n"
   ]
  },
  {
   "cell_type": "code",
   "execution_count": 51,
   "metadata": {},
   "outputs": [
    {
     "data": {
      "application/vnd.plotly.v1+json": {
       "config": {
        "plotlyServerURL": "https://plot.ly"
       },
       "data": [
        {
         "mode": "markers",
         "name": "Objective Value",
         "type": "scatter",
         "x": [
          0,
          1,
          2,
          3,
          4,
          5,
          6,
          7,
          8,
          9,
          10,
          11,
          12,
          13,
          14,
          15,
          16,
          17,
          18,
          19,
          20,
          21,
          22,
          23,
          24,
          25,
          26,
          27,
          28,
          29,
          30,
          31,
          32,
          33,
          34,
          35,
          36,
          37,
          38,
          39,
          40,
          41,
          42,
          43,
          44,
          45,
          46,
          47,
          48,
          49,
          50,
          51,
          52,
          53,
          54,
          55,
          56,
          57,
          58,
          59,
          60,
          61,
          62,
          63,
          64,
          65,
          66,
          67,
          68,
          69,
          70,
          71,
          72,
          73,
          74,
          75,
          76,
          77,
          78,
          79,
          80,
          81,
          82,
          83,
          84,
          85,
          86,
          87,
          88,
          89,
          90,
          91,
          92,
          93,
          94,
          95,
          96,
          97,
          98,
          99
         ],
         "y": [
          0.0033891734201461077,
          0.003616947680711746,
          0.003740611718967557,
          0.0033764082472771406,
          0.0029302192851901054,
          0.004316471051424742,
          0.003040123963728547,
          0.0044854870066046715,
          0.0032787772361189127,
          0.0030035432428121567,
          0.004393850453197956,
          0.00317040691152215,
          0.002889611991122365,
          0.0028373959939926863,
          0.003235294483602047,
          0.0030213375575840473,
          0.002849039388820529,
          0.002924953820183873,
          0.0030103574972599745,
          0.002921896753832698,
          0.003041797550395131,
          0.0029863433446735144,
          0.0031709480099380016,
          0.0031058385502547026,
          0.0030499515123665333,
          0.003278149990364909,
          0.003992126788944006,
          0.003014444373548031,
          0.0031253506895154715,
          0.002959985751658678,
          0.0029080978129059076,
          0.003047855570912361,
          0.0029354512225836515,
          0.0029183230362832546,
          0.0030479689594358206,
          0.00274049025028944,
          0.0026796951424330473,
          0.0027787298895418644,
          0.0028895766008645296,
          0.002754280809313059,
          0.002862263470888138,
          0.0030562567990273237,
          0.002805276308208704,
          0.002986493054777384,
          0.0030568393412977457,
          0.0035958155058324337,
          0.0030804332345724106,
          0.0030302538070827723,
          0.00289642671123147,
          0.0029484243132174015,
          0.0028394274413585663,
          0.0029185835737735033,
          0.0028076304588466883,
          0.002941155107691884,
          0.0029022570233792067,
          0.0028398737777024508,
          0.0026995178777724504,
          0.006205153185874224,
          0.002692846581339836,
          0.0026456103660166264,
          0.002739240415394306,
          0.0027991142123937607,
          0.0028431834653019905,
          0.0032950364984571934,
          0.00313244154676795,
          0.0028391603846102953,
          0.0027302943635731936,
          0.002799725392833352,
          0.002920845290645957,
          0.0028723664581775665,
          0.0029781574849039316,
          0.0029125793371349573,
          0.0028894366696476936,
          0.002738724695518613,
          0.003050130093470216,
          0.00269874045625329,
          0.0029579869005829096,
          0.0029424952808767557,
          0.0030049621127545834,
          0.002966035157442093,
          0.0030418827664107084,
          0.0029741849284619093,
          0.002827500691637397,
          0.00295436498709023,
          0.0029072104953229427,
          0.0028983992524445057,
          0.0027917453553527594,
          0.0029148622415959835,
          0.0030947369523346424,
          0.0029341198969632387,
          0.002927469089627266,
          0.0029377059545367956,
          0.0028889013919979334,
          0.0028611626476049423,
          0.002941114129498601,
          0.0027334715705364943,
          0.0031378641724586487,
          0.002965225838124752,
          0.002917010337114334,
          0.002951741451397538
         ]
        },
        {
         "name": "Best Value",
         "type": "scatter",
         "x": [
          0,
          1,
          2,
          3,
          4,
          5,
          6,
          7,
          8,
          9,
          10,
          11,
          12,
          13,
          14,
          15,
          16,
          17,
          18,
          19,
          20,
          21,
          22,
          23,
          24,
          25,
          26,
          27,
          28,
          29,
          30,
          31,
          32,
          33,
          34,
          35,
          36,
          37,
          38,
          39,
          40,
          41,
          42,
          43,
          44,
          45,
          46,
          47,
          48,
          49,
          50,
          51,
          52,
          53,
          54,
          55,
          56,
          57,
          58,
          59,
          60,
          61,
          62,
          63,
          64,
          65,
          66,
          67,
          68,
          69,
          70,
          71,
          72,
          73,
          74,
          75,
          76,
          77,
          78,
          79,
          80,
          81,
          82,
          83,
          84,
          85,
          86,
          87,
          88,
          89,
          90,
          91,
          92,
          93,
          94,
          95,
          96,
          97,
          98,
          99
         ],
         "y": [
          0.0033891734201461077,
          0.0033891734201461077,
          0.0033891734201461077,
          0.0033764082472771406,
          0.0029302192851901054,
          0.0029302192851901054,
          0.0029302192851901054,
          0.0029302192851901054,
          0.0029302192851901054,
          0.0029302192851901054,
          0.0029302192851901054,
          0.0029302192851901054,
          0.002889611991122365,
          0.0028373959939926863,
          0.0028373959939926863,
          0.0028373959939926863,
          0.0028373959939926863,
          0.0028373959939926863,
          0.0028373959939926863,
          0.0028373959939926863,
          0.0028373959939926863,
          0.0028373959939926863,
          0.0028373959939926863,
          0.0028373959939926863,
          0.0028373959939926863,
          0.0028373959939926863,
          0.0028373959939926863,
          0.0028373959939926863,
          0.0028373959939926863,
          0.0028373959939926863,
          0.0028373959939926863,
          0.0028373959939926863,
          0.0028373959939926863,
          0.0028373959939926863,
          0.0028373959939926863,
          0.00274049025028944,
          0.0026796951424330473,
          0.0026796951424330473,
          0.0026796951424330473,
          0.0026796951424330473,
          0.0026796951424330473,
          0.0026796951424330473,
          0.0026796951424330473,
          0.0026796951424330473,
          0.0026796951424330473,
          0.0026796951424330473,
          0.0026796951424330473,
          0.0026796951424330473,
          0.0026796951424330473,
          0.0026796951424330473,
          0.0026796951424330473,
          0.0026796951424330473,
          0.0026796951424330473,
          0.0026796951424330473,
          0.0026796951424330473,
          0.0026796951424330473,
          0.0026796951424330473,
          0.0026796951424330473,
          0.0026796951424330473,
          0.0026456103660166264,
          0.0026456103660166264,
          0.0026456103660166264,
          0.0026456103660166264,
          0.0026456103660166264,
          0.0026456103660166264,
          0.0026456103660166264,
          0.0026456103660166264,
          0.0026456103660166264,
          0.0026456103660166264,
          0.0026456103660166264,
          0.0026456103660166264,
          0.0026456103660166264,
          0.0026456103660166264,
          0.0026456103660166264,
          0.0026456103660166264,
          0.0026456103660166264,
          0.0026456103660166264,
          0.0026456103660166264,
          0.0026456103660166264,
          0.0026456103660166264,
          0.0026456103660166264,
          0.0026456103660166264,
          0.0026456103660166264,
          0.0026456103660166264,
          0.0026456103660166264,
          0.0026456103660166264,
          0.0026456103660166264,
          0.0026456103660166264,
          0.0026456103660166264,
          0.0026456103660166264,
          0.0026456103660166264,
          0.0026456103660166264,
          0.0026456103660166264,
          0.0026456103660166264,
          0.0026456103660166264,
          0.0026456103660166264,
          0.0026456103660166264,
          0.0026456103660166264,
          0.0026456103660166264,
          0.0026456103660166264
         ]
        }
       ],
       "layout": {
        "template": {
         "data": {
          "bar": [
           {
            "error_x": {
             "color": "#2a3f5f"
            },
            "error_y": {
             "color": "#2a3f5f"
            },
            "marker": {
             "line": {
              "color": "#E5ECF6",
              "width": 0.5
             },
             "pattern": {
              "fillmode": "overlay",
              "size": 10,
              "solidity": 0.2
             }
            },
            "type": "bar"
           }
          ],
          "barpolar": [
           {
            "marker": {
             "line": {
              "color": "#E5ECF6",
              "width": 0.5
             },
             "pattern": {
              "fillmode": "overlay",
              "size": 10,
              "solidity": 0.2
             }
            },
            "type": "barpolar"
           }
          ],
          "carpet": [
           {
            "aaxis": {
             "endlinecolor": "#2a3f5f",
             "gridcolor": "white",
             "linecolor": "white",
             "minorgridcolor": "white",
             "startlinecolor": "#2a3f5f"
            },
            "baxis": {
             "endlinecolor": "#2a3f5f",
             "gridcolor": "white",
             "linecolor": "white",
             "minorgridcolor": "white",
             "startlinecolor": "#2a3f5f"
            },
            "type": "carpet"
           }
          ],
          "choropleth": [
           {
            "colorbar": {
             "outlinewidth": 0,
             "ticks": ""
            },
            "type": "choropleth"
           }
          ],
          "contour": [
           {
            "colorbar": {
             "outlinewidth": 0,
             "ticks": ""
            },
            "colorscale": [
             [
              0,
              "#0d0887"
             ],
             [
              0.1111111111111111,
              "#46039f"
             ],
             [
              0.2222222222222222,
              "#7201a8"
             ],
             [
              0.3333333333333333,
              "#9c179e"
             ],
             [
              0.4444444444444444,
              "#bd3786"
             ],
             [
              0.5555555555555556,
              "#d8576b"
             ],
             [
              0.6666666666666666,
              "#ed7953"
             ],
             [
              0.7777777777777778,
              "#fb9f3a"
             ],
             [
              0.8888888888888888,
              "#fdca26"
             ],
             [
              1,
              "#f0f921"
             ]
            ],
            "type": "contour"
           }
          ],
          "contourcarpet": [
           {
            "colorbar": {
             "outlinewidth": 0,
             "ticks": ""
            },
            "type": "contourcarpet"
           }
          ],
          "heatmap": [
           {
            "colorbar": {
             "outlinewidth": 0,
             "ticks": ""
            },
            "colorscale": [
             [
              0,
              "#0d0887"
             ],
             [
              0.1111111111111111,
              "#46039f"
             ],
             [
              0.2222222222222222,
              "#7201a8"
             ],
             [
              0.3333333333333333,
              "#9c179e"
             ],
             [
              0.4444444444444444,
              "#bd3786"
             ],
             [
              0.5555555555555556,
              "#d8576b"
             ],
             [
              0.6666666666666666,
              "#ed7953"
             ],
             [
              0.7777777777777778,
              "#fb9f3a"
             ],
             [
              0.8888888888888888,
              "#fdca26"
             ],
             [
              1,
              "#f0f921"
             ]
            ],
            "type": "heatmap"
           }
          ],
          "heatmapgl": [
           {
            "colorbar": {
             "outlinewidth": 0,
             "ticks": ""
            },
            "colorscale": [
             [
              0,
              "#0d0887"
             ],
             [
              0.1111111111111111,
              "#46039f"
             ],
             [
              0.2222222222222222,
              "#7201a8"
             ],
             [
              0.3333333333333333,
              "#9c179e"
             ],
             [
              0.4444444444444444,
              "#bd3786"
             ],
             [
              0.5555555555555556,
              "#d8576b"
             ],
             [
              0.6666666666666666,
              "#ed7953"
             ],
             [
              0.7777777777777778,
              "#fb9f3a"
             ],
             [
              0.8888888888888888,
              "#fdca26"
             ],
             [
              1,
              "#f0f921"
             ]
            ],
            "type": "heatmapgl"
           }
          ],
          "histogram": [
           {
            "marker": {
             "pattern": {
              "fillmode": "overlay",
              "size": 10,
              "solidity": 0.2
             }
            },
            "type": "histogram"
           }
          ],
          "histogram2d": [
           {
            "colorbar": {
             "outlinewidth": 0,
             "ticks": ""
            },
            "colorscale": [
             [
              0,
              "#0d0887"
             ],
             [
              0.1111111111111111,
              "#46039f"
             ],
             [
              0.2222222222222222,
              "#7201a8"
             ],
             [
              0.3333333333333333,
              "#9c179e"
             ],
             [
              0.4444444444444444,
              "#bd3786"
             ],
             [
              0.5555555555555556,
              "#d8576b"
             ],
             [
              0.6666666666666666,
              "#ed7953"
             ],
             [
              0.7777777777777778,
              "#fb9f3a"
             ],
             [
              0.8888888888888888,
              "#fdca26"
             ],
             [
              1,
              "#f0f921"
             ]
            ],
            "type": "histogram2d"
           }
          ],
          "histogram2dcontour": [
           {
            "colorbar": {
             "outlinewidth": 0,
             "ticks": ""
            },
            "colorscale": [
             [
              0,
              "#0d0887"
             ],
             [
              0.1111111111111111,
              "#46039f"
             ],
             [
              0.2222222222222222,
              "#7201a8"
             ],
             [
              0.3333333333333333,
              "#9c179e"
             ],
             [
              0.4444444444444444,
              "#bd3786"
             ],
             [
              0.5555555555555556,
              "#d8576b"
             ],
             [
              0.6666666666666666,
              "#ed7953"
             ],
             [
              0.7777777777777778,
              "#fb9f3a"
             ],
             [
              0.8888888888888888,
              "#fdca26"
             ],
             [
              1,
              "#f0f921"
             ]
            ],
            "type": "histogram2dcontour"
           }
          ],
          "mesh3d": [
           {
            "colorbar": {
             "outlinewidth": 0,
             "ticks": ""
            },
            "type": "mesh3d"
           }
          ],
          "parcoords": [
           {
            "line": {
             "colorbar": {
              "outlinewidth": 0,
              "ticks": ""
             }
            },
            "type": "parcoords"
           }
          ],
          "pie": [
           {
            "automargin": true,
            "type": "pie"
           }
          ],
          "scatter": [
           {
            "marker": {
             "colorbar": {
              "outlinewidth": 0,
              "ticks": ""
             }
            },
            "type": "scatter"
           }
          ],
          "scatter3d": [
           {
            "line": {
             "colorbar": {
              "outlinewidth": 0,
              "ticks": ""
             }
            },
            "marker": {
             "colorbar": {
              "outlinewidth": 0,
              "ticks": ""
             }
            },
            "type": "scatter3d"
           }
          ],
          "scattercarpet": [
           {
            "marker": {
             "colorbar": {
              "outlinewidth": 0,
              "ticks": ""
             }
            },
            "type": "scattercarpet"
           }
          ],
          "scattergeo": [
           {
            "marker": {
             "colorbar": {
              "outlinewidth": 0,
              "ticks": ""
             }
            },
            "type": "scattergeo"
           }
          ],
          "scattergl": [
           {
            "marker": {
             "colorbar": {
              "outlinewidth": 0,
              "ticks": ""
             }
            },
            "type": "scattergl"
           }
          ],
          "scattermapbox": [
           {
            "marker": {
             "colorbar": {
              "outlinewidth": 0,
              "ticks": ""
             }
            },
            "type": "scattermapbox"
           }
          ],
          "scatterpolar": [
           {
            "marker": {
             "colorbar": {
              "outlinewidth": 0,
              "ticks": ""
             }
            },
            "type": "scatterpolar"
           }
          ],
          "scatterpolargl": [
           {
            "marker": {
             "colorbar": {
              "outlinewidth": 0,
              "ticks": ""
             }
            },
            "type": "scatterpolargl"
           }
          ],
          "scatterternary": [
           {
            "marker": {
             "colorbar": {
              "outlinewidth": 0,
              "ticks": ""
             }
            },
            "type": "scatterternary"
           }
          ],
          "surface": [
           {
            "colorbar": {
             "outlinewidth": 0,
             "ticks": ""
            },
            "colorscale": [
             [
              0,
              "#0d0887"
             ],
             [
              0.1111111111111111,
              "#46039f"
             ],
             [
              0.2222222222222222,
              "#7201a8"
             ],
             [
              0.3333333333333333,
              "#9c179e"
             ],
             [
              0.4444444444444444,
              "#bd3786"
             ],
             [
              0.5555555555555556,
              "#d8576b"
             ],
             [
              0.6666666666666666,
              "#ed7953"
             ],
             [
              0.7777777777777778,
              "#fb9f3a"
             ],
             [
              0.8888888888888888,
              "#fdca26"
             ],
             [
              1,
              "#f0f921"
             ]
            ],
            "type": "surface"
           }
          ],
          "table": [
           {
            "cells": {
             "fill": {
              "color": "#EBF0F8"
             },
             "line": {
              "color": "white"
             }
            },
            "header": {
             "fill": {
              "color": "#C8D4E3"
             },
             "line": {
              "color": "white"
             }
            },
            "type": "table"
           }
          ]
         },
         "layout": {
          "annotationdefaults": {
           "arrowcolor": "#2a3f5f",
           "arrowhead": 0,
           "arrowwidth": 1
          },
          "autotypenumbers": "strict",
          "coloraxis": {
           "colorbar": {
            "outlinewidth": 0,
            "ticks": ""
           }
          },
          "colorscale": {
           "diverging": [
            [
             0,
             "#8e0152"
            ],
            [
             0.1,
             "#c51b7d"
            ],
            [
             0.2,
             "#de77ae"
            ],
            [
             0.3,
             "#f1b6da"
            ],
            [
             0.4,
             "#fde0ef"
            ],
            [
             0.5,
             "#f7f7f7"
            ],
            [
             0.6,
             "#e6f5d0"
            ],
            [
             0.7,
             "#b8e186"
            ],
            [
             0.8,
             "#7fbc41"
            ],
            [
             0.9,
             "#4d9221"
            ],
            [
             1,
             "#276419"
            ]
           ],
           "sequential": [
            [
             0,
             "#0d0887"
            ],
            [
             0.1111111111111111,
             "#46039f"
            ],
            [
             0.2222222222222222,
             "#7201a8"
            ],
            [
             0.3333333333333333,
             "#9c179e"
            ],
            [
             0.4444444444444444,
             "#bd3786"
            ],
            [
             0.5555555555555556,
             "#d8576b"
            ],
            [
             0.6666666666666666,
             "#ed7953"
            ],
            [
             0.7777777777777778,
             "#fb9f3a"
            ],
            [
             0.8888888888888888,
             "#fdca26"
            ],
            [
             1,
             "#f0f921"
            ]
           ],
           "sequentialminus": [
            [
             0,
             "#0d0887"
            ],
            [
             0.1111111111111111,
             "#46039f"
            ],
            [
             0.2222222222222222,
             "#7201a8"
            ],
            [
             0.3333333333333333,
             "#9c179e"
            ],
            [
             0.4444444444444444,
             "#bd3786"
            ],
            [
             0.5555555555555556,
             "#d8576b"
            ],
            [
             0.6666666666666666,
             "#ed7953"
            ],
            [
             0.7777777777777778,
             "#fb9f3a"
            ],
            [
             0.8888888888888888,
             "#fdca26"
            ],
            [
             1,
             "#f0f921"
            ]
           ]
          },
          "colorway": [
           "#636efa",
           "#EF553B",
           "#00cc96",
           "#ab63fa",
           "#FFA15A",
           "#19d3f3",
           "#FF6692",
           "#B6E880",
           "#FF97FF",
           "#FECB52"
          ],
          "font": {
           "color": "#2a3f5f"
          },
          "geo": {
           "bgcolor": "white",
           "lakecolor": "white",
           "landcolor": "#E5ECF6",
           "showlakes": true,
           "showland": true,
           "subunitcolor": "white"
          },
          "hoverlabel": {
           "align": "left"
          },
          "hovermode": "closest",
          "mapbox": {
           "style": "light"
          },
          "paper_bgcolor": "white",
          "plot_bgcolor": "#E5ECF6",
          "polar": {
           "angularaxis": {
            "gridcolor": "white",
            "linecolor": "white",
            "ticks": ""
           },
           "bgcolor": "#E5ECF6",
           "radialaxis": {
            "gridcolor": "white",
            "linecolor": "white",
            "ticks": ""
           }
          },
          "scene": {
           "xaxis": {
            "backgroundcolor": "#E5ECF6",
            "gridcolor": "white",
            "gridwidth": 2,
            "linecolor": "white",
            "showbackground": true,
            "ticks": "",
            "zerolinecolor": "white"
           },
           "yaxis": {
            "backgroundcolor": "#E5ECF6",
            "gridcolor": "white",
            "gridwidth": 2,
            "linecolor": "white",
            "showbackground": true,
            "ticks": "",
            "zerolinecolor": "white"
           },
           "zaxis": {
            "backgroundcolor": "#E5ECF6",
            "gridcolor": "white",
            "gridwidth": 2,
            "linecolor": "white",
            "showbackground": true,
            "ticks": "",
            "zerolinecolor": "white"
           }
          },
          "shapedefaults": {
           "line": {
            "color": "#2a3f5f"
           }
          },
          "ternary": {
           "aaxis": {
            "gridcolor": "white",
            "linecolor": "white",
            "ticks": ""
           },
           "baxis": {
            "gridcolor": "white",
            "linecolor": "white",
            "ticks": ""
           },
           "bgcolor": "#E5ECF6",
           "caxis": {
            "gridcolor": "white",
            "linecolor": "white",
            "ticks": ""
           }
          },
          "title": {
           "x": 0.05
          },
          "xaxis": {
           "automargin": true,
           "gridcolor": "white",
           "linecolor": "white",
           "ticks": "",
           "title": {
            "standoff": 15
           },
           "zerolinecolor": "white",
           "zerolinewidth": 2
          },
          "yaxis": {
           "automargin": true,
           "gridcolor": "white",
           "linecolor": "white",
           "ticks": "",
           "title": {
            "standoff": 15
           },
           "zerolinecolor": "white",
           "zerolinewidth": 2
          }
         }
        },
        "title": {
         "text": "Optimization History Plot"
        },
        "xaxis": {
         "title": {
          "text": "#Trials"
         }
        },
        "yaxis": {
         "title": {
          "text": "Objective Value"
         }
        }
       }
      },
      "text/html": [
       "<div>                            <div id=\"9a1957f1-2548-4df3-a880-e7f17ed2a670\" class=\"plotly-graph-div\" style=\"height:525px; width:100%;\"></div>            <script type=\"text/javascript\">                require([\"plotly\"], function(Plotly) {                    window.PLOTLYENV=window.PLOTLYENV || {};                                    if (document.getElementById(\"9a1957f1-2548-4df3-a880-e7f17ed2a670\")) {                    Plotly.newPlot(                        \"9a1957f1-2548-4df3-a880-e7f17ed2a670\",                        [{\"mode\":\"markers\",\"name\":\"Objective Value\",\"x\":[0,1,2,3,4,5,6,7,8,9,10,11,12,13,14,15,16,17,18,19,20,21,22,23,24,25,26,27,28,29,30,31,32,33,34,35,36,37,38,39,40,41,42,43,44,45,46,47,48,49,50,51,52,53,54,55,56,57,58,59,60,61,62,63,64,65,66,67,68,69,70,71,72,73,74,75,76,77,78,79,80,81,82,83,84,85,86,87,88,89,90,91,92,93,94,95,96,97,98,99],\"y\":[0.0033891734201461077,0.003616947680711746,0.003740611718967557,0.0033764082472771406,0.0029302192851901054,0.004316471051424742,0.003040123963728547,0.0044854870066046715,0.0032787772361189127,0.0030035432428121567,0.004393850453197956,0.00317040691152215,0.002889611991122365,0.0028373959939926863,0.003235294483602047,0.0030213375575840473,0.002849039388820529,0.002924953820183873,0.0030103574972599745,0.002921896753832698,0.003041797550395131,0.0029863433446735144,0.0031709480099380016,0.0031058385502547026,0.0030499515123665333,0.003278149990364909,0.003992126788944006,0.003014444373548031,0.0031253506895154715,0.002959985751658678,0.0029080978129059076,0.003047855570912361,0.0029354512225836515,0.0029183230362832546,0.0030479689594358206,0.00274049025028944,0.0026796951424330473,0.0027787298895418644,0.0028895766008645296,0.002754280809313059,0.002862263470888138,0.0030562567990273237,0.002805276308208704,0.002986493054777384,0.0030568393412977457,0.0035958155058324337,0.0030804332345724106,0.0030302538070827723,0.00289642671123147,0.0029484243132174015,0.0028394274413585663,0.0029185835737735033,0.0028076304588466883,0.002941155107691884,0.0029022570233792067,0.0028398737777024508,0.0026995178777724504,0.006205153185874224,0.002692846581339836,0.0026456103660166264,0.002739240415394306,0.0027991142123937607,0.0028431834653019905,0.0032950364984571934,0.00313244154676795,0.0028391603846102953,0.0027302943635731936,0.002799725392833352,0.002920845290645957,0.0028723664581775665,0.0029781574849039316,0.0029125793371349573,0.0028894366696476936,0.002738724695518613,0.003050130093470216,0.00269874045625329,0.0029579869005829096,0.0029424952808767557,0.0030049621127545834,0.002966035157442093,0.0030418827664107084,0.0029741849284619093,0.002827500691637397,0.00295436498709023,0.0029072104953229427,0.0028983992524445057,0.0027917453553527594,0.0029148622415959835,0.0030947369523346424,0.0029341198969632387,0.002927469089627266,0.0029377059545367956,0.0028889013919979334,0.0028611626476049423,0.002941114129498601,0.0027334715705364943,0.0031378641724586487,0.002965225838124752,0.002917010337114334,0.002951741451397538],\"type\":\"scatter\"},{\"name\":\"Best Value\",\"x\":[0,1,2,3,4,5,6,7,8,9,10,11,12,13,14,15,16,17,18,19,20,21,22,23,24,25,26,27,28,29,30,31,32,33,34,35,36,37,38,39,40,41,42,43,44,45,46,47,48,49,50,51,52,53,54,55,56,57,58,59,60,61,62,63,64,65,66,67,68,69,70,71,72,73,74,75,76,77,78,79,80,81,82,83,84,85,86,87,88,89,90,91,92,93,94,95,96,97,98,99],\"y\":[0.0033891734201461077,0.0033891734201461077,0.0033891734201461077,0.0033764082472771406,0.0029302192851901054,0.0029302192851901054,0.0029302192851901054,0.0029302192851901054,0.0029302192851901054,0.0029302192851901054,0.0029302192851901054,0.0029302192851901054,0.002889611991122365,0.0028373959939926863,0.0028373959939926863,0.0028373959939926863,0.0028373959939926863,0.0028373959939926863,0.0028373959939926863,0.0028373959939926863,0.0028373959939926863,0.0028373959939926863,0.0028373959939926863,0.0028373959939926863,0.0028373959939926863,0.0028373959939926863,0.0028373959939926863,0.0028373959939926863,0.0028373959939926863,0.0028373959939926863,0.0028373959939926863,0.0028373959939926863,0.0028373959939926863,0.0028373959939926863,0.0028373959939926863,0.00274049025028944,0.0026796951424330473,0.0026796951424330473,0.0026796951424330473,0.0026796951424330473,0.0026796951424330473,0.0026796951424330473,0.0026796951424330473,0.0026796951424330473,0.0026796951424330473,0.0026796951424330473,0.0026796951424330473,0.0026796951424330473,0.0026796951424330473,0.0026796951424330473,0.0026796951424330473,0.0026796951424330473,0.0026796951424330473,0.0026796951424330473,0.0026796951424330473,0.0026796951424330473,0.0026796951424330473,0.0026796951424330473,0.0026796951424330473,0.0026456103660166264,0.0026456103660166264,0.0026456103660166264,0.0026456103660166264,0.0026456103660166264,0.0026456103660166264,0.0026456103660166264,0.0026456103660166264,0.0026456103660166264,0.0026456103660166264,0.0026456103660166264,0.0026456103660166264,0.0026456103660166264,0.0026456103660166264,0.0026456103660166264,0.0026456103660166264,0.0026456103660166264,0.0026456103660166264,0.0026456103660166264,0.0026456103660166264,0.0026456103660166264,0.0026456103660166264,0.0026456103660166264,0.0026456103660166264,0.0026456103660166264,0.0026456103660166264,0.0026456103660166264,0.0026456103660166264,0.0026456103660166264,0.0026456103660166264,0.0026456103660166264,0.0026456103660166264,0.0026456103660166264,0.0026456103660166264,0.0026456103660166264,0.0026456103660166264,0.0026456103660166264,0.0026456103660166264,0.0026456103660166264,0.0026456103660166264,0.0026456103660166264],\"type\":\"scatter\"}],                        {\"title\":{\"text\":\"Optimization History Plot\"},\"xaxis\":{\"title\":{\"text\":\"#Trials\"}},\"yaxis\":{\"title\":{\"text\":\"Objective Value\"}},\"template\":{\"data\":{\"bar\":[{\"error_x\":{\"color\":\"#2a3f5f\"},\"error_y\":{\"color\":\"#2a3f5f\"},\"marker\":{\"line\":{\"color\":\"#E5ECF6\",\"width\":0.5},\"pattern\":{\"fillmode\":\"overlay\",\"size\":10,\"solidity\":0.2}},\"type\":\"bar\"}],\"barpolar\":[{\"marker\":{\"line\":{\"color\":\"#E5ECF6\",\"width\":0.5},\"pattern\":{\"fillmode\":\"overlay\",\"size\":10,\"solidity\":0.2}},\"type\":\"barpolar\"}],\"carpet\":[{\"aaxis\":{\"endlinecolor\":\"#2a3f5f\",\"gridcolor\":\"white\",\"linecolor\":\"white\",\"minorgridcolor\":\"white\",\"startlinecolor\":\"#2a3f5f\"},\"baxis\":{\"endlinecolor\":\"#2a3f5f\",\"gridcolor\":\"white\",\"linecolor\":\"white\",\"minorgridcolor\":\"white\",\"startlinecolor\":\"#2a3f5f\"},\"type\":\"carpet\"}],\"choropleth\":[{\"colorbar\":{\"outlinewidth\":0,\"ticks\":\"\"},\"type\":\"choropleth\"}],\"contour\":[{\"colorbar\":{\"outlinewidth\":0,\"ticks\":\"\"},\"colorscale\":[[0.0,\"#0d0887\"],[0.1111111111111111,\"#46039f\"],[0.2222222222222222,\"#7201a8\"],[0.3333333333333333,\"#9c179e\"],[0.4444444444444444,\"#bd3786\"],[0.5555555555555556,\"#d8576b\"],[0.6666666666666666,\"#ed7953\"],[0.7777777777777778,\"#fb9f3a\"],[0.8888888888888888,\"#fdca26\"],[1.0,\"#f0f921\"]],\"type\":\"contour\"}],\"contourcarpet\":[{\"colorbar\":{\"outlinewidth\":0,\"ticks\":\"\"},\"type\":\"contourcarpet\"}],\"heatmap\":[{\"colorbar\":{\"outlinewidth\":0,\"ticks\":\"\"},\"colorscale\":[[0.0,\"#0d0887\"],[0.1111111111111111,\"#46039f\"],[0.2222222222222222,\"#7201a8\"],[0.3333333333333333,\"#9c179e\"],[0.4444444444444444,\"#bd3786\"],[0.5555555555555556,\"#d8576b\"],[0.6666666666666666,\"#ed7953\"],[0.7777777777777778,\"#fb9f3a\"],[0.8888888888888888,\"#fdca26\"],[1.0,\"#f0f921\"]],\"type\":\"heatmap\"}],\"heatmapgl\":[{\"colorbar\":{\"outlinewidth\":0,\"ticks\":\"\"},\"colorscale\":[[0.0,\"#0d0887\"],[0.1111111111111111,\"#46039f\"],[0.2222222222222222,\"#7201a8\"],[0.3333333333333333,\"#9c179e\"],[0.4444444444444444,\"#bd3786\"],[0.5555555555555556,\"#d8576b\"],[0.6666666666666666,\"#ed7953\"],[0.7777777777777778,\"#fb9f3a\"],[0.8888888888888888,\"#fdca26\"],[1.0,\"#f0f921\"]],\"type\":\"heatmapgl\"}],\"histogram\":[{\"marker\":{\"pattern\":{\"fillmode\":\"overlay\",\"size\":10,\"solidity\":0.2}},\"type\":\"histogram\"}],\"histogram2d\":[{\"colorbar\":{\"outlinewidth\":0,\"ticks\":\"\"},\"colorscale\":[[0.0,\"#0d0887\"],[0.1111111111111111,\"#46039f\"],[0.2222222222222222,\"#7201a8\"],[0.3333333333333333,\"#9c179e\"],[0.4444444444444444,\"#bd3786\"],[0.5555555555555556,\"#d8576b\"],[0.6666666666666666,\"#ed7953\"],[0.7777777777777778,\"#fb9f3a\"],[0.8888888888888888,\"#fdca26\"],[1.0,\"#f0f921\"]],\"type\":\"histogram2d\"}],\"histogram2dcontour\":[{\"colorbar\":{\"outlinewidth\":0,\"ticks\":\"\"},\"colorscale\":[[0.0,\"#0d0887\"],[0.1111111111111111,\"#46039f\"],[0.2222222222222222,\"#7201a8\"],[0.3333333333333333,\"#9c179e\"],[0.4444444444444444,\"#bd3786\"],[0.5555555555555556,\"#d8576b\"],[0.6666666666666666,\"#ed7953\"],[0.7777777777777778,\"#fb9f3a\"],[0.8888888888888888,\"#fdca26\"],[1.0,\"#f0f921\"]],\"type\":\"histogram2dcontour\"}],\"mesh3d\":[{\"colorbar\":{\"outlinewidth\":0,\"ticks\":\"\"},\"type\":\"mesh3d\"}],\"parcoords\":[{\"line\":{\"colorbar\":{\"outlinewidth\":0,\"ticks\":\"\"}},\"type\":\"parcoords\"}],\"pie\":[{\"automargin\":true,\"type\":\"pie\"}],\"scatter\":[{\"marker\":{\"colorbar\":{\"outlinewidth\":0,\"ticks\":\"\"}},\"type\":\"scatter\"}],\"scatter3d\":[{\"line\":{\"colorbar\":{\"outlinewidth\":0,\"ticks\":\"\"}},\"marker\":{\"colorbar\":{\"outlinewidth\":0,\"ticks\":\"\"}},\"type\":\"scatter3d\"}],\"scattercarpet\":[{\"marker\":{\"colorbar\":{\"outlinewidth\":0,\"ticks\":\"\"}},\"type\":\"scattercarpet\"}],\"scattergeo\":[{\"marker\":{\"colorbar\":{\"outlinewidth\":0,\"ticks\":\"\"}},\"type\":\"scattergeo\"}],\"scattergl\":[{\"marker\":{\"colorbar\":{\"outlinewidth\":0,\"ticks\":\"\"}},\"type\":\"scattergl\"}],\"scattermapbox\":[{\"marker\":{\"colorbar\":{\"outlinewidth\":0,\"ticks\":\"\"}},\"type\":\"scattermapbox\"}],\"scatterpolar\":[{\"marker\":{\"colorbar\":{\"outlinewidth\":0,\"ticks\":\"\"}},\"type\":\"scatterpolar\"}],\"scatterpolargl\":[{\"marker\":{\"colorbar\":{\"outlinewidth\":0,\"ticks\":\"\"}},\"type\":\"scatterpolargl\"}],\"scatterternary\":[{\"marker\":{\"colorbar\":{\"outlinewidth\":0,\"ticks\":\"\"}},\"type\":\"scatterternary\"}],\"surface\":[{\"colorbar\":{\"outlinewidth\":0,\"ticks\":\"\"},\"colorscale\":[[0.0,\"#0d0887\"],[0.1111111111111111,\"#46039f\"],[0.2222222222222222,\"#7201a8\"],[0.3333333333333333,\"#9c179e\"],[0.4444444444444444,\"#bd3786\"],[0.5555555555555556,\"#d8576b\"],[0.6666666666666666,\"#ed7953\"],[0.7777777777777778,\"#fb9f3a\"],[0.8888888888888888,\"#fdca26\"],[1.0,\"#f0f921\"]],\"type\":\"surface\"}],\"table\":[{\"cells\":{\"fill\":{\"color\":\"#EBF0F8\"},\"line\":{\"color\":\"white\"}},\"header\":{\"fill\":{\"color\":\"#C8D4E3\"},\"line\":{\"color\":\"white\"}},\"type\":\"table\"}]},\"layout\":{\"annotationdefaults\":{\"arrowcolor\":\"#2a3f5f\",\"arrowhead\":0,\"arrowwidth\":1},\"autotypenumbers\":\"strict\",\"coloraxis\":{\"colorbar\":{\"outlinewidth\":0,\"ticks\":\"\"}},\"colorscale\":{\"diverging\":[[0,\"#8e0152\"],[0.1,\"#c51b7d\"],[0.2,\"#de77ae\"],[0.3,\"#f1b6da\"],[0.4,\"#fde0ef\"],[0.5,\"#f7f7f7\"],[0.6,\"#e6f5d0\"],[0.7,\"#b8e186\"],[0.8,\"#7fbc41\"],[0.9,\"#4d9221\"],[1,\"#276419\"]],\"sequential\":[[0.0,\"#0d0887\"],[0.1111111111111111,\"#46039f\"],[0.2222222222222222,\"#7201a8\"],[0.3333333333333333,\"#9c179e\"],[0.4444444444444444,\"#bd3786\"],[0.5555555555555556,\"#d8576b\"],[0.6666666666666666,\"#ed7953\"],[0.7777777777777778,\"#fb9f3a\"],[0.8888888888888888,\"#fdca26\"],[1.0,\"#f0f921\"]],\"sequentialminus\":[[0.0,\"#0d0887\"],[0.1111111111111111,\"#46039f\"],[0.2222222222222222,\"#7201a8\"],[0.3333333333333333,\"#9c179e\"],[0.4444444444444444,\"#bd3786\"],[0.5555555555555556,\"#d8576b\"],[0.6666666666666666,\"#ed7953\"],[0.7777777777777778,\"#fb9f3a\"],[0.8888888888888888,\"#fdca26\"],[1.0,\"#f0f921\"]]},\"colorway\":[\"#636efa\",\"#EF553B\",\"#00cc96\",\"#ab63fa\",\"#FFA15A\",\"#19d3f3\",\"#FF6692\",\"#B6E880\",\"#FF97FF\",\"#FECB52\"],\"font\":{\"color\":\"#2a3f5f\"},\"geo\":{\"bgcolor\":\"white\",\"lakecolor\":\"white\",\"landcolor\":\"#E5ECF6\",\"showlakes\":true,\"showland\":true,\"subunitcolor\":\"white\"},\"hoverlabel\":{\"align\":\"left\"},\"hovermode\":\"closest\",\"mapbox\":{\"style\":\"light\"},\"paper_bgcolor\":\"white\",\"plot_bgcolor\":\"#E5ECF6\",\"polar\":{\"angularaxis\":{\"gridcolor\":\"white\",\"linecolor\":\"white\",\"ticks\":\"\"},\"bgcolor\":\"#E5ECF6\",\"radialaxis\":{\"gridcolor\":\"white\",\"linecolor\":\"white\",\"ticks\":\"\"}},\"scene\":{\"xaxis\":{\"backgroundcolor\":\"#E5ECF6\",\"gridcolor\":\"white\",\"gridwidth\":2,\"linecolor\":\"white\",\"showbackground\":true,\"ticks\":\"\",\"zerolinecolor\":\"white\"},\"yaxis\":{\"backgroundcolor\":\"#E5ECF6\",\"gridcolor\":\"white\",\"gridwidth\":2,\"linecolor\":\"white\",\"showbackground\":true,\"ticks\":\"\",\"zerolinecolor\":\"white\"},\"zaxis\":{\"backgroundcolor\":\"#E5ECF6\",\"gridcolor\":\"white\",\"gridwidth\":2,\"linecolor\":\"white\",\"showbackground\":true,\"ticks\":\"\",\"zerolinecolor\":\"white\"}},\"shapedefaults\":{\"line\":{\"color\":\"#2a3f5f\"}},\"ternary\":{\"aaxis\":{\"gridcolor\":\"white\",\"linecolor\":\"white\",\"ticks\":\"\"},\"baxis\":{\"gridcolor\":\"white\",\"linecolor\":\"white\",\"ticks\":\"\"},\"bgcolor\":\"#E5ECF6\",\"caxis\":{\"gridcolor\":\"white\",\"linecolor\":\"white\",\"ticks\":\"\"}},\"title\":{\"x\":0.05},\"xaxis\":{\"automargin\":true,\"gridcolor\":\"white\",\"linecolor\":\"white\",\"ticks\":\"\",\"title\":{\"standoff\":15},\"zerolinecolor\":\"white\",\"zerolinewidth\":2},\"yaxis\":{\"automargin\":true,\"gridcolor\":\"white\",\"linecolor\":\"white\",\"ticks\":\"\",\"title\":{\"standoff\":15},\"zerolinecolor\":\"white\",\"zerolinewidth\":2}}}},                        {\"responsive\": true}                    ).then(function(){\n",
       "                            \n",
       "var gd = document.getElementById('9a1957f1-2548-4df3-a880-e7f17ed2a670');\n",
       "var x = new MutationObserver(function (mutations, observer) {{\n",
       "        var display = window.getComputedStyle(gd).display;\n",
       "        if (!display || display === 'none') {{\n",
       "            console.log([gd, 'removed!']);\n",
       "            Plotly.purge(gd);\n",
       "            observer.disconnect();\n",
       "        }}\n",
       "}});\n",
       "\n",
       "// Listen for the removal of the full notebook cells\n",
       "var notebookContainer = gd.closest('#notebook-container');\n",
       "if (notebookContainer) {{\n",
       "    x.observe(notebookContainer, {childList: true});\n",
       "}}\n",
       "\n",
       "// Listen for the clearing of the current output cell\n",
       "var outputEl = gd.closest('.output');\n",
       "if (outputEl) {{\n",
       "    x.observe(outputEl, {childList: true});\n",
       "}}\n",
       "\n",
       "                        })                };                });            </script>        </div>"
      ]
     },
     "metadata": {},
     "output_type": "display_data"
    }
   ],
   "source": [
    "optuna.visualization.plot_optimization_history(study)\n"
   ]
  },
  {
   "cell_type": "code",
   "execution_count": 52,
   "metadata": {},
   "outputs": [
    {
     "data": {
      "application/vnd.plotly.v1+json": {
       "config": {
        "plotlyServerURL": "https://plot.ly"
       },
       "data": [
        {
         "dimensions": [
          {
           "label": "Objective Value",
           "range": [
            0.0026456103660166264,
            0.006205153185874224
           ],
           "values": [
            0.0033891734201461077,
            0.003616947680711746,
            0.0044854870066046715,
            0.002959985751658678,
            0.0030479689594358206,
            0.002692846581339836,
            0.0026456103660166264,
            0.002739240415394306,
            0.0027991142123937607,
            0.0028431834653019905,
            0.0032950364984571934,
            0.00313244154676795,
            0.0028391603846102953,
            0.0027302943635731936,
            0.002799725392833352,
            0.002920845290645957,
            0.0028723664581775665,
            0.0029781574849039316,
            0.0029125793371349573,
            0.0028894366696476936,
            0.002738724695518613,
            0.003050130093470216,
            0.00269874045625329,
            0.0029579869005829096,
            0.0029424952808767557,
            0.0030049621127545834,
            0.002966035157442093,
            0.0030418827664107084,
            0.002827500691637397,
            0.0029072104953229427,
            0.0028983992524445057,
            0.0030947369523346424,
            0.0029341198969632387,
            0.0029377059545367956,
            0.0028611626476049423,
            0.002941114129498601,
            0.003740611718967557,
            0.004316471051424742,
            0.0032787772361189127,
            0.0029080978129059076,
            0.003047855570912361,
            0.0029354512225836515,
            0.0029183230362832546,
            0.00274049025028944,
            0.0028076304588466883,
            0.002941155107691884,
            0.0029022570233792067,
            0.0028398737777024508,
            0.0026995178777724504,
            0.0029741849284619093,
            0.00295436498709023,
            0.0027917453553527594,
            0.002927469089627266,
            0.0028889013919979334,
            0.0030035432428121567,
            0.00317040691152215,
            0.002889611991122365,
            0.003235294483602047,
            0.0029863433446735144,
            0.0031709480099380016,
            0.003278149990364909,
            0.0031253506895154715,
            0.0029148622415959835,
            0.0027334715705364943,
            0.0031378641724586487,
            0.002965225838124752,
            0.002917010337114334,
            0.002951741451397538,
            0.0033764082472771406,
            0.003040123963728547,
            0.0030499515123665333,
            0.0026796951424330473,
            0.0027787298895418644,
            0.0028895766008645296,
            0.002754280809313059,
            0.002862263470888138,
            0.0030562567990273237,
            0.002805276308208704,
            0.002986493054777384,
            0.0030568393412977457,
            0.0035958155058324337,
            0.0030804332345724106,
            0.0030302538070827723,
            0.00289642671123147,
            0.0029484243132174015,
            0.0028394274413585663,
            0.0029185835737735033,
            0.006205153185874224,
            0.0029302192851901054,
            0.004393850453197956,
            0.0028373959939926863,
            0.0030213375575840473,
            0.002849039388820529,
            0.002924953820183873,
            0.0030103574972599745,
            0.002921896753832698,
            0.003041797550395131,
            0.0031058385502547026,
            0.003992126788944006,
            0.003014444373548031
           ]
          },
          {
           "label": "beta1",
           "range": [
            0.20807606452308375,
            0.8914652436343602
           ],
           "values": [
            0.26293229007955915,
            0.30533160005302484,
            0.2773760189989034,
            0.40664473858991496,
            0.3099260389790481,
            0.6761537221726402,
            0.6751022480032107,
            0.6723598263389461,
            0.6399167313129656,
            0.6704502510002942,
            0.6836008971341513,
            0.7619711583570574,
            0.6567958707174322,
            0.6126349648060857,
            0.6229721483034585,
            0.5874323278374408,
            0.5642128149691911,
            0.6049826939086823,
            0.6707766074107901,
            0.6436386474546271,
            0.7281564514933081,
            0.7049350363657274,
            0.6246958925167629,
            0.6122769184427914,
            0.5236105508298431,
            0.634026369159449,
            0.7262819032641846,
            0.6606074034605092,
            0.7565454155380682,
            0.7058964677013532,
            0.5941059841858534,
            0.6535693872553349,
            0.750440129572874,
            0.8307574347445351,
            0.7918995216899533,
            0.7193875148394375,
            0.6903532200902354,
            0.43347091187723374,
            0.3840162597958793,
            0.22707024579478252,
            0.20807606452308375,
            0.2267627691404555,
            0.33876971723669563,
            0.704132898269289,
            0.7418104381888518,
            0.7399598626913177,
            0.8150401646749912,
            0.7174495048457387,
            0.7773479746917042,
            0.6859067722321527,
            0.6778381872694976,
            0.6204151498341128,
            0.5698740315092045,
            0.76750111814123,
            0.5208681137741247,
            0.6754281756773348,
            0.49997694263314657,
            0.5342265276424631,
            0.4659882890870486,
            0.4782035674695765,
            0.5832597602917153,
            0.6589337847230493,
            0.7321811783941017,
            0.6900787831255288,
            0.6818702197664344,
            0.6353376033254083,
            0.6637031135376659,
            0.7030196589379696,
            0.595813427685862,
            0.830465988934969,
            0.6461300804415674,
            0.6977173433655189,
            0.7153475506444353,
            0.7144056539582213,
            0.8251938673561959,
            0.8402053939751352,
            0.8914652436343602,
            0.80320728934534,
            0.8151022094859046,
            0.8484556196383457,
            0.7424572954709476,
            0.803471828571727,
            0.8631219076889812,
            0.7786894101655761,
            0.6941156781198969,
            0.5691795145348313,
            0.696535091753628,
            0.7856300669752158,
            0.713824941122825,
            0.8758520899397112,
            0.6970508401874574,
            0.7931159394958697,
            0.6158540128095046,
            0.6270101536068481,
            0.771604434049427,
            0.6046027074166469,
            0.7338292180049953,
            0.3629625748231108,
            0.5406327531915291,
            0.7606798593603237
           ]
          },
          {
           "label": "beta2",
           "range": [
            -0.04570053100315606,
            -0.0004344683124207449
           ],
           "ticktext": [
            "0.9",
            "0.999"
           ],
           "tickvals": [
            -0.04570053100315606,
            -0.0004344683124207449
           ],
           "values": [
            -0.037706587934810624,
            -0.020225496512814405,
            -0.00540565870253486,
            -0.010278399702209604,
            -0.037580886275242,
            -0.04570053100315606,
            -0.043790848056490306,
            -0.043515133720443945,
            -0.043060040645326134,
            -0.04347469904903822,
            -0.04133531035470264,
            -0.045277744476026074,
            -0.045671831446368764,
            -0.04269976638030587,
            -0.04271980232656957,
            -0.040432251578250936,
            -0.04411582196359787,
            -0.04239345665438695,
            -0.04440585399083017,
            -0.04071452323353151,
            -0.039495020626702695,
            -0.042097463900197196,
            -0.03940512783377469,
            -0.03965529010155762,
            -0.03687977231699688,
            -0.03849545834311772,
            -0.04424589170530484,
            -0.04166264515472598,
            -0.039763225172300035,
            -0.04568268646515991,
            -0.03655852232653964,
            -0.043296497292808066,
            -0.04219726671097727,
            -0.04390923595641218,
            -0.0004344683124207449,
            -0.03502236183454928,
            -0.011176599436962531,
            -0.021329256856033072,
            -0.0303827599971838,
            -0.03783854739081252,
            -0.03917814114168446,
            -0.03711078631731326,
            -0.030825691368622822,
            -0.033146915381820886,
            -0.02705324228468308,
            -0.032850519192413837,
            -0.03568767473406817,
            -0.023671683161909134,
            -0.04309461251015617,
            -0.04328428595875532,
            -0.045018380046820905,
            -0.038082599799662206,
            -0.04013690480178301,
            -0.0333810297406166,
            -0.033624744644556316,
            -0.04214416460446289,
            -0.028987837036581223,
            -0.02536165586989748,
            -0.028704017092116778,
            -0.025025752530654696,
            -0.022383650975263913,
            -0.01957278912713978,
            -0.04075871529518019,
            -0.028681301950732156,
            -0.02883158369494095,
            -0.009229247818560944,
            -0.04132054766378792,
            -0.029413656597866992,
            -0.03008403819369381,
            -0.035614814673693984,
            -0.04058535872945676,
            -0.03325100308307901,
            -0.034431608849969667,
            -0.03400454994442939,
            -0.03234810077214272,
            -0.035387419690678025,
            -0.03241715023067208,
            -0.03195598087228433,
            -0.04145076777924356,
            -0.03235361361085659,
            -0.04483553278731545,
            -0.03602603896805407,
            -0.03419131491633772,
            -0.030758268300974185,
            -0.039617185919655094,
            -0.027520836917856742,
            -0.030666936785650172,
            -0.038664394135447144,
            -0.03506537767377038,
            -0.0440723810341609,
            -0.026662430790855188,
            -0.013783570983225682,
            -0.025017421739423455,
            -0.0163866470168408,
            -0.0008082671801755281,
            -0.025153299362244936,
            -0.01758844527057518,
            -0.028649634504719364,
            -0.032211760272122775,
            -0.026726057126975112
           ]
          },
          {
           "label": "l2",
           "range": [
            -5.992903788845492,
            -2.0041433982212613
           ],
           "ticktext": [
            "1.02e-06",
            "1e-05",
            "0.0001",
            "0.001",
            "0.00991"
           ],
           "tickvals": [
            -5.992903788845492,
            -5,
            -4,
            -3,
            -2.0041433982212613
           ],
           "values": [
            -4.036800147054661,
            -2.903541863653908,
            -4.612964565398732,
            -5.362356711684169,
            -5.754756173185787,
            -2.5306806724700777,
            -2.5445881446573577,
            -2.528967173381385,
            -2.529179859099153,
            -2.2358870387053686,
            -3.0884190722629383,
            -2.828831981186663,
            -2.5401571196986503,
            -2.7174499296451256,
            -2.163570404182796,
            -2.7303656580072437,
            -3.17162578225989,
            -3.522627048581383,
            -2.014970535901141,
            -2.5811175794343835,
            -2.3470596065741782,
            -2.33623332136148,
            -2.234868887018288,
            -2.1380525732853313,
            -2.2032373115626886,
            -2.671432047998728,
            -2.2665093872458124,
            -3.992136897487811,
            -2.6345249147256324,
            -2.497973484626785,
            -2.83836678602724,
            -2.234002338230942,
            -2.388916766604189,
            -2.4687598215730393,
            -2.1184812431126105,
            -2.3282265950151233,
            -3.800727090374236,
            -4.46798267443512,
            -4.3790869970531485,
            -5.915501148844306,
            -5.650760083433582,
            -5.992903788845492,
            -5.412774852980045,
            -2.3826392790001543,
            -2.380664577342246,
            -2.3001699207417152,
            -2.4421903315945723,
            -2.1340484002750677,
            -2.4701965774460803,
            -2.4404291707789127,
            -2.3493116807232655,
            -2.053915535572967,
            -2.5484159966193154,
            -2.6653221568196908,
            -4.853371998200516,
            -2.256826084257668,
            -5.258686183986769,
            -5.715776199460831,
            -5.127366518875941,
            -5.1504359007234255,
            -5.1966801297158325,
            -4.9776611560609565,
            -2.7464745351392956,
            -2.5816817401572822,
            -2.9194688471581203,
            -2.5915059089420507,
            -2.223441925942885,
            -4.521956285076604,
            -4.940022449847107,
            -3.4666320068978913,
            -4.7419779042049806,
            -2.2419597055607148,
            -2.4207207698006483,
            -2.094106897365786,
            -2.5152253750143116,
            -2.5989248758793173,
            -2.6492385324496817,
            -2.9799059466749775,
            -3.038353677887075,
            -2.449088504690354,
            -2.8806315724035434,
            -2.0041433982212613,
            -2.303048579061585,
            -2.9363331661353587,
            -3.2254461630980518,
            -3.669471654404968,
            -2.7079478336293032,
            -2.7843177474491188,
            -3.8128738515396816,
            -5.985186946338316,
            -5.628379940463387,
            -5.410049731137157,
            -5.330743902749992,
            -5.3835535509741295,
            -5.562599298822869,
            -5.984157076975057,
            -3.350486336080209,
            -5.655003135972932,
            -4.250775120841414,
            -5.734822905249993
           ]
          },
          {
           "label": "layers",
           "range": [
            1,
            7
           ],
           "values": [
            7,
            1,
            4,
            7,
            4,
            7,
            7,
            7,
            7,
            7,
            2,
            7,
            6,
            7,
            6,
            7,
            6,
            7,
            7,
            7,
            7,
            7,
            6,
            7,
            7,
            6,
            7,
            7,
            6,
            7,
            7,
            7,
            6,
            4,
            7,
            7,
            7,
            2,
            4,
            5,
            5,
            6,
            5,
            6,
            6,
            6,
            7,
            6,
            7,
            6,
            7,
            6,
            7,
            7,
            4,
            5,
            5,
            3,
            5,
            5,
            3,
            7,
            7,
            7,
            7,
            3,
            7,
            6,
            2,
            6,
            5,
            7,
            7,
            7,
            7,
            7,
            7,
            7,
            7,
            7,
            1,
            7,
            7,
            7,
            6,
            6,
            7,
            7,
            5,
            5,
            5,
            6,
            6,
            6,
            7,
            6,
            3,
            6,
            4,
            6
           ]
          },
          {
           "label": "lr",
           "range": [
            -4.975685383322215,
            -1.0053573938436509
           ],
           "ticktext": [
            "1.06e-05",
            "0.0001",
            "0.001",
            "0.01",
            "0.0988"
           ],
           "tickvals": [
            -4.975685383322215,
            -4,
            -3,
            -2,
            -1.0053573938436509
           ],
           "values": [
            -1.9654646078302394,
            -3.7455802757559447,
            -1.4002929084278568,
            -2.170185217580248,
            -2.9989393081263103,
            -3.417405912884277,
            -3.407716048144189,
            -3.3236767633951545,
            -3.3320350424323792,
            -3.4699206554626443,
            -3.133506769758503,
            -3.385240389250058,
            -3.586770545533398,
            -3.751358404949916,
            -3.8291447452538,
            -2.9004909526414835,
            -3.4611266822655673,
            -3.320520085219912,
            -3.7083259359719274,
            -3.899474420768189,
            -3.7722236899718147,
            -3.1164982964841137,
            -3.5450891437479664,
            -3.5394701638875485,
            -4.033432716126399,
            -3.758881167943437,
            -3.385410399356285,
            -3.120755144766291,
            -3.8868187417713655,
            -3.7181209108647115,
            -3.409556062881025,
            -3.0373460987831,
            -2.8879700566811537,
            -3.677942969677134,
            -3.972718701172038,
            -3.2698715116221773,
            -1.448664372561622,
            -1.2762729209908652,
            -4.3058204821787385,
            -3.003380076989173,
            -2.9884668473134175,
            -2.572920628561682,
            -3.40382021300569,
            -3.6578104366414332,
            -3.1965372600510173,
            -3.210696304130817,
            -3.9656863804692284,
            -3.633764843896415,
            -3.431423267908902,
            -3.5584943518541508,
            -3.2637386262296677,
            -3.591074294210425,
            -4.3124890129010645,
            -3.461606856553624,
            -2.5373265516943966,
            -2.4291648331777322,
            -2.532345718409538,
            -2.1219912487392807,
            -2.756285094204122,
            -1.9721778399916274,
            -2.7334040370033765,
            -1.7204640605378445,
            -3.8226315559931603,
            -3.740094886133972,
            -3.851068450622111,
            -3.6154069375336486,
            -3.759965954912393,
            -3.5188245159116702,
            -3.1331643437310466,
            -3.5214542180580004,
            -3.296407737077433,
            -3.813959308421638,
            -4.181342689611961,
            -4.297586744679303,
            -3.6941790439410243,
            -3.657335128998709,
            -4.522934426060309,
            -4.102372330279755,
            -4.168837614677789,
            -3.8115602572775096,
            -3.6419856822354575,
            -4.083418231305643,
            -4.523667468374845,
            -3.7712279899010364,
            -4.179891147694971,
            -4.499683680834371,
            -3.4967599743880595,
            -4.975685383322215,
            -2.8620803918275093,
            -4.859288855976642,
            -2.762106870068016,
            -3.2448693021027744,
            -3.9321160476874844,
            -4.003667372232129,
            -4.69866504670086,
            -4.313841688624719,
            -3.533856332615364,
            -2.408876818669814,
            -1.0053573938436509,
            -3.887311317668382
           ]
          },
          {
           "label": "ngf",
           "range": [
            0,
            4
           ],
           "ticktext": [
            16,
            24,
            32,
            48,
            64
           ],
           "tickvals": [
            0,
            1,
            2,
            3,
            4
           ],
           "values": [
            0,
            0,
            0,
            0,
            0,
            0,
            0,
            0,
            0,
            0,
            0,
            0,
            0,
            0,
            0,
            0,
            0,
            0,
            0,
            0,
            0,
            0,
            0,
            0,
            0,
            0,
            0,
            0,
            0,
            0,
            0,
            0,
            0,
            0,
            0,
            0,
            1,
            1,
            1,
            1,
            1,
            1,
            1,
            1,
            1,
            1,
            1,
            1,
            1,
            1,
            1,
            1,
            1,
            1,
            2,
            2,
            2,
            2,
            2,
            2,
            2,
            2,
            2,
            2,
            2,
            2,
            2,
            2,
            3,
            3,
            3,
            3,
            3,
            3,
            3,
            3,
            3,
            3,
            3,
            3,
            3,
            3,
            3,
            3,
            3,
            3,
            3,
            3,
            4,
            4,
            4,
            4,
            4,
            4,
            4,
            4,
            4,
            4,
            4,
            4
           ]
          },
          {
           "label": "nz",
           "range": [
            50,
            120
           ],
           "values": [
            75,
            103,
            62,
            82,
            60,
            115,
            118,
            118,
            118,
            116,
            115,
            120,
            113,
            110,
            110,
            117,
            118,
            113,
            111,
            104,
            104,
            115,
            120,
            120,
            118,
            110,
            114,
            116,
            112,
            118,
            106,
            108,
            114,
            104,
            111,
            108,
            75,
            111,
            116,
            76,
            75,
            69,
            76,
            86,
            92,
            86,
            94,
            96,
            109,
            109,
            98,
            120,
            116,
            105,
            53,
            50,
            89,
            80,
            88,
            83,
            78,
            90,
            103,
            101,
            101,
            96,
            54,
            113,
            106,
            85,
            89,
            101,
            107,
            111,
            105,
            120,
            106,
            101,
            108,
            102,
            99,
            112,
            95,
            114,
            107,
            104,
            100,
            109,
            93,
            96,
            91,
            93,
            66,
            65,
            66,
            72,
            58,
            98,
            70,
            102
           ]
          }
         ],
         "labelangle": 30,
         "labelside": "bottom",
         "line": {
          "color": [
           0.0033891734201461077,
           0.003616947680711746,
           0.0044854870066046715,
           0.002959985751658678,
           0.0030479689594358206,
           0.002692846581339836,
           0.0026456103660166264,
           0.002739240415394306,
           0.0027991142123937607,
           0.0028431834653019905,
           0.0032950364984571934,
           0.00313244154676795,
           0.0028391603846102953,
           0.0027302943635731936,
           0.002799725392833352,
           0.002920845290645957,
           0.0028723664581775665,
           0.0029781574849039316,
           0.0029125793371349573,
           0.0028894366696476936,
           0.002738724695518613,
           0.003050130093470216,
           0.00269874045625329,
           0.0029579869005829096,
           0.0029424952808767557,
           0.0030049621127545834,
           0.002966035157442093,
           0.0030418827664107084,
           0.002827500691637397,
           0.0029072104953229427,
           0.0028983992524445057,
           0.0030947369523346424,
           0.0029341198969632387,
           0.0029377059545367956,
           0.0028611626476049423,
           0.002941114129498601,
           0.003740611718967557,
           0.004316471051424742,
           0.0032787772361189127,
           0.0029080978129059076,
           0.003047855570912361,
           0.0029354512225836515,
           0.0029183230362832546,
           0.00274049025028944,
           0.0028076304588466883,
           0.002941155107691884,
           0.0029022570233792067,
           0.0028398737777024508,
           0.0026995178777724504,
           0.0029741849284619093,
           0.00295436498709023,
           0.0027917453553527594,
           0.002927469089627266,
           0.0028889013919979334,
           0.0030035432428121567,
           0.00317040691152215,
           0.002889611991122365,
           0.003235294483602047,
           0.0029863433446735144,
           0.0031709480099380016,
           0.003278149990364909,
           0.0031253506895154715,
           0.0029148622415959835,
           0.0027334715705364943,
           0.0031378641724586487,
           0.002965225838124752,
           0.002917010337114334,
           0.002951741451397538,
           0.0033764082472771406,
           0.003040123963728547,
           0.0030499515123665333,
           0.0026796951424330473,
           0.0027787298895418644,
           0.0028895766008645296,
           0.002754280809313059,
           0.002862263470888138,
           0.0030562567990273237,
           0.002805276308208704,
           0.002986493054777384,
           0.0030568393412977457,
           0.0035958155058324337,
           0.0030804332345724106,
           0.0030302538070827723,
           0.00289642671123147,
           0.0029484243132174015,
           0.0028394274413585663,
           0.0029185835737735033,
           0.006205153185874224,
           0.0029302192851901054,
           0.004393850453197956,
           0.0028373959939926863,
           0.0030213375575840473,
           0.002849039388820529,
           0.002924953820183873,
           0.0030103574972599745,
           0.002921896753832698,
           0.003041797550395131,
           0.0031058385502547026,
           0.003992126788944006,
           0.003014444373548031
          ],
          "colorbar": {
           "title": {
            "text": "Objective Value"
           }
          },
          "colorscale": [
           [
            0,
            "rgb(247,251,255)"
           ],
           [
            0.125,
            "rgb(222,235,247)"
           ],
           [
            0.25,
            "rgb(198,219,239)"
           ],
           [
            0.375,
            "rgb(158,202,225)"
           ],
           [
            0.5,
            "rgb(107,174,214)"
           ],
           [
            0.625,
            "rgb(66,146,198)"
           ],
           [
            0.75,
            "rgb(33,113,181)"
           ],
           [
            0.875,
            "rgb(8,81,156)"
           ],
           [
            1,
            "rgb(8,48,107)"
           ]
          ],
          "reversescale": true,
          "showscale": true
         },
         "type": "parcoords"
        }
       ],
       "layout": {
        "template": {
         "data": {
          "bar": [
           {
            "error_x": {
             "color": "#2a3f5f"
            },
            "error_y": {
             "color": "#2a3f5f"
            },
            "marker": {
             "line": {
              "color": "#E5ECF6",
              "width": 0.5
             },
             "pattern": {
              "fillmode": "overlay",
              "size": 10,
              "solidity": 0.2
             }
            },
            "type": "bar"
           }
          ],
          "barpolar": [
           {
            "marker": {
             "line": {
              "color": "#E5ECF6",
              "width": 0.5
             },
             "pattern": {
              "fillmode": "overlay",
              "size": 10,
              "solidity": 0.2
             }
            },
            "type": "barpolar"
           }
          ],
          "carpet": [
           {
            "aaxis": {
             "endlinecolor": "#2a3f5f",
             "gridcolor": "white",
             "linecolor": "white",
             "minorgridcolor": "white",
             "startlinecolor": "#2a3f5f"
            },
            "baxis": {
             "endlinecolor": "#2a3f5f",
             "gridcolor": "white",
             "linecolor": "white",
             "minorgridcolor": "white",
             "startlinecolor": "#2a3f5f"
            },
            "type": "carpet"
           }
          ],
          "choropleth": [
           {
            "colorbar": {
             "outlinewidth": 0,
             "ticks": ""
            },
            "type": "choropleth"
           }
          ],
          "contour": [
           {
            "colorbar": {
             "outlinewidth": 0,
             "ticks": ""
            },
            "colorscale": [
             [
              0,
              "#0d0887"
             ],
             [
              0.1111111111111111,
              "#46039f"
             ],
             [
              0.2222222222222222,
              "#7201a8"
             ],
             [
              0.3333333333333333,
              "#9c179e"
             ],
             [
              0.4444444444444444,
              "#bd3786"
             ],
             [
              0.5555555555555556,
              "#d8576b"
             ],
             [
              0.6666666666666666,
              "#ed7953"
             ],
             [
              0.7777777777777778,
              "#fb9f3a"
             ],
             [
              0.8888888888888888,
              "#fdca26"
             ],
             [
              1,
              "#f0f921"
             ]
            ],
            "type": "contour"
           }
          ],
          "contourcarpet": [
           {
            "colorbar": {
             "outlinewidth": 0,
             "ticks": ""
            },
            "type": "contourcarpet"
           }
          ],
          "heatmap": [
           {
            "colorbar": {
             "outlinewidth": 0,
             "ticks": ""
            },
            "colorscale": [
             [
              0,
              "#0d0887"
             ],
             [
              0.1111111111111111,
              "#46039f"
             ],
             [
              0.2222222222222222,
              "#7201a8"
             ],
             [
              0.3333333333333333,
              "#9c179e"
             ],
             [
              0.4444444444444444,
              "#bd3786"
             ],
             [
              0.5555555555555556,
              "#d8576b"
             ],
             [
              0.6666666666666666,
              "#ed7953"
             ],
             [
              0.7777777777777778,
              "#fb9f3a"
             ],
             [
              0.8888888888888888,
              "#fdca26"
             ],
             [
              1,
              "#f0f921"
             ]
            ],
            "type": "heatmap"
           }
          ],
          "heatmapgl": [
           {
            "colorbar": {
             "outlinewidth": 0,
             "ticks": ""
            },
            "colorscale": [
             [
              0,
              "#0d0887"
             ],
             [
              0.1111111111111111,
              "#46039f"
             ],
             [
              0.2222222222222222,
              "#7201a8"
             ],
             [
              0.3333333333333333,
              "#9c179e"
             ],
             [
              0.4444444444444444,
              "#bd3786"
             ],
             [
              0.5555555555555556,
              "#d8576b"
             ],
             [
              0.6666666666666666,
              "#ed7953"
             ],
             [
              0.7777777777777778,
              "#fb9f3a"
             ],
             [
              0.8888888888888888,
              "#fdca26"
             ],
             [
              1,
              "#f0f921"
             ]
            ],
            "type": "heatmapgl"
           }
          ],
          "histogram": [
           {
            "marker": {
             "pattern": {
              "fillmode": "overlay",
              "size": 10,
              "solidity": 0.2
             }
            },
            "type": "histogram"
           }
          ],
          "histogram2d": [
           {
            "colorbar": {
             "outlinewidth": 0,
             "ticks": ""
            },
            "colorscale": [
             [
              0,
              "#0d0887"
             ],
             [
              0.1111111111111111,
              "#46039f"
             ],
             [
              0.2222222222222222,
              "#7201a8"
             ],
             [
              0.3333333333333333,
              "#9c179e"
             ],
             [
              0.4444444444444444,
              "#bd3786"
             ],
             [
              0.5555555555555556,
              "#d8576b"
             ],
             [
              0.6666666666666666,
              "#ed7953"
             ],
             [
              0.7777777777777778,
              "#fb9f3a"
             ],
             [
              0.8888888888888888,
              "#fdca26"
             ],
             [
              1,
              "#f0f921"
             ]
            ],
            "type": "histogram2d"
           }
          ],
          "histogram2dcontour": [
           {
            "colorbar": {
             "outlinewidth": 0,
             "ticks": ""
            },
            "colorscale": [
             [
              0,
              "#0d0887"
             ],
             [
              0.1111111111111111,
              "#46039f"
             ],
             [
              0.2222222222222222,
              "#7201a8"
             ],
             [
              0.3333333333333333,
              "#9c179e"
             ],
             [
              0.4444444444444444,
              "#bd3786"
             ],
             [
              0.5555555555555556,
              "#d8576b"
             ],
             [
              0.6666666666666666,
              "#ed7953"
             ],
             [
              0.7777777777777778,
              "#fb9f3a"
             ],
             [
              0.8888888888888888,
              "#fdca26"
             ],
             [
              1,
              "#f0f921"
             ]
            ],
            "type": "histogram2dcontour"
           }
          ],
          "mesh3d": [
           {
            "colorbar": {
             "outlinewidth": 0,
             "ticks": ""
            },
            "type": "mesh3d"
           }
          ],
          "parcoords": [
           {
            "line": {
             "colorbar": {
              "outlinewidth": 0,
              "ticks": ""
             }
            },
            "type": "parcoords"
           }
          ],
          "pie": [
           {
            "automargin": true,
            "type": "pie"
           }
          ],
          "scatter": [
           {
            "marker": {
             "colorbar": {
              "outlinewidth": 0,
              "ticks": ""
             }
            },
            "type": "scatter"
           }
          ],
          "scatter3d": [
           {
            "line": {
             "colorbar": {
              "outlinewidth": 0,
              "ticks": ""
             }
            },
            "marker": {
             "colorbar": {
              "outlinewidth": 0,
              "ticks": ""
             }
            },
            "type": "scatter3d"
           }
          ],
          "scattercarpet": [
           {
            "marker": {
             "colorbar": {
              "outlinewidth": 0,
              "ticks": ""
             }
            },
            "type": "scattercarpet"
           }
          ],
          "scattergeo": [
           {
            "marker": {
             "colorbar": {
              "outlinewidth": 0,
              "ticks": ""
             }
            },
            "type": "scattergeo"
           }
          ],
          "scattergl": [
           {
            "marker": {
             "colorbar": {
              "outlinewidth": 0,
              "ticks": ""
             }
            },
            "type": "scattergl"
           }
          ],
          "scattermapbox": [
           {
            "marker": {
             "colorbar": {
              "outlinewidth": 0,
              "ticks": ""
             }
            },
            "type": "scattermapbox"
           }
          ],
          "scatterpolar": [
           {
            "marker": {
             "colorbar": {
              "outlinewidth": 0,
              "ticks": ""
             }
            },
            "type": "scatterpolar"
           }
          ],
          "scatterpolargl": [
           {
            "marker": {
             "colorbar": {
              "outlinewidth": 0,
              "ticks": ""
             }
            },
            "type": "scatterpolargl"
           }
          ],
          "scatterternary": [
           {
            "marker": {
             "colorbar": {
              "outlinewidth": 0,
              "ticks": ""
             }
            },
            "type": "scatterternary"
           }
          ],
          "surface": [
           {
            "colorbar": {
             "outlinewidth": 0,
             "ticks": ""
            },
            "colorscale": [
             [
              0,
              "#0d0887"
             ],
             [
              0.1111111111111111,
              "#46039f"
             ],
             [
              0.2222222222222222,
              "#7201a8"
             ],
             [
              0.3333333333333333,
              "#9c179e"
             ],
             [
              0.4444444444444444,
              "#bd3786"
             ],
             [
              0.5555555555555556,
              "#d8576b"
             ],
             [
              0.6666666666666666,
              "#ed7953"
             ],
             [
              0.7777777777777778,
              "#fb9f3a"
             ],
             [
              0.8888888888888888,
              "#fdca26"
             ],
             [
              1,
              "#f0f921"
             ]
            ],
            "type": "surface"
           }
          ],
          "table": [
           {
            "cells": {
             "fill": {
              "color": "#EBF0F8"
             },
             "line": {
              "color": "white"
             }
            },
            "header": {
             "fill": {
              "color": "#C8D4E3"
             },
             "line": {
              "color": "white"
             }
            },
            "type": "table"
           }
          ]
         },
         "layout": {
          "annotationdefaults": {
           "arrowcolor": "#2a3f5f",
           "arrowhead": 0,
           "arrowwidth": 1
          },
          "autotypenumbers": "strict",
          "coloraxis": {
           "colorbar": {
            "outlinewidth": 0,
            "ticks": ""
           }
          },
          "colorscale": {
           "diverging": [
            [
             0,
             "#8e0152"
            ],
            [
             0.1,
             "#c51b7d"
            ],
            [
             0.2,
             "#de77ae"
            ],
            [
             0.3,
             "#f1b6da"
            ],
            [
             0.4,
             "#fde0ef"
            ],
            [
             0.5,
             "#f7f7f7"
            ],
            [
             0.6,
             "#e6f5d0"
            ],
            [
             0.7,
             "#b8e186"
            ],
            [
             0.8,
             "#7fbc41"
            ],
            [
             0.9,
             "#4d9221"
            ],
            [
             1,
             "#276419"
            ]
           ],
           "sequential": [
            [
             0,
             "#0d0887"
            ],
            [
             0.1111111111111111,
             "#46039f"
            ],
            [
             0.2222222222222222,
             "#7201a8"
            ],
            [
             0.3333333333333333,
             "#9c179e"
            ],
            [
             0.4444444444444444,
             "#bd3786"
            ],
            [
             0.5555555555555556,
             "#d8576b"
            ],
            [
             0.6666666666666666,
             "#ed7953"
            ],
            [
             0.7777777777777778,
             "#fb9f3a"
            ],
            [
             0.8888888888888888,
             "#fdca26"
            ],
            [
             1,
             "#f0f921"
            ]
           ],
           "sequentialminus": [
            [
             0,
             "#0d0887"
            ],
            [
             0.1111111111111111,
             "#46039f"
            ],
            [
             0.2222222222222222,
             "#7201a8"
            ],
            [
             0.3333333333333333,
             "#9c179e"
            ],
            [
             0.4444444444444444,
             "#bd3786"
            ],
            [
             0.5555555555555556,
             "#d8576b"
            ],
            [
             0.6666666666666666,
             "#ed7953"
            ],
            [
             0.7777777777777778,
             "#fb9f3a"
            ],
            [
             0.8888888888888888,
             "#fdca26"
            ],
            [
             1,
             "#f0f921"
            ]
           ]
          },
          "colorway": [
           "#636efa",
           "#EF553B",
           "#00cc96",
           "#ab63fa",
           "#FFA15A",
           "#19d3f3",
           "#FF6692",
           "#B6E880",
           "#FF97FF",
           "#FECB52"
          ],
          "font": {
           "color": "#2a3f5f"
          },
          "geo": {
           "bgcolor": "white",
           "lakecolor": "white",
           "landcolor": "#E5ECF6",
           "showlakes": true,
           "showland": true,
           "subunitcolor": "white"
          },
          "hoverlabel": {
           "align": "left"
          },
          "hovermode": "closest",
          "mapbox": {
           "style": "light"
          },
          "paper_bgcolor": "white",
          "plot_bgcolor": "#E5ECF6",
          "polar": {
           "angularaxis": {
            "gridcolor": "white",
            "linecolor": "white",
            "ticks": ""
           },
           "bgcolor": "#E5ECF6",
           "radialaxis": {
            "gridcolor": "white",
            "linecolor": "white",
            "ticks": ""
           }
          },
          "scene": {
           "xaxis": {
            "backgroundcolor": "#E5ECF6",
            "gridcolor": "white",
            "gridwidth": 2,
            "linecolor": "white",
            "showbackground": true,
            "ticks": "",
            "zerolinecolor": "white"
           },
           "yaxis": {
            "backgroundcolor": "#E5ECF6",
            "gridcolor": "white",
            "gridwidth": 2,
            "linecolor": "white",
            "showbackground": true,
            "ticks": "",
            "zerolinecolor": "white"
           },
           "zaxis": {
            "backgroundcolor": "#E5ECF6",
            "gridcolor": "white",
            "gridwidth": 2,
            "linecolor": "white",
            "showbackground": true,
            "ticks": "",
            "zerolinecolor": "white"
           }
          },
          "shapedefaults": {
           "line": {
            "color": "#2a3f5f"
           }
          },
          "ternary": {
           "aaxis": {
            "gridcolor": "white",
            "linecolor": "white",
            "ticks": ""
           },
           "baxis": {
            "gridcolor": "white",
            "linecolor": "white",
            "ticks": ""
           },
           "bgcolor": "#E5ECF6",
           "caxis": {
            "gridcolor": "white",
            "linecolor": "white",
            "ticks": ""
           }
          },
          "title": {
           "x": 0.05
          },
          "xaxis": {
           "automargin": true,
           "gridcolor": "white",
           "linecolor": "white",
           "ticks": "",
           "title": {
            "standoff": 15
           },
           "zerolinecolor": "white",
           "zerolinewidth": 2
          },
          "yaxis": {
           "automargin": true,
           "gridcolor": "white",
           "linecolor": "white",
           "ticks": "",
           "title": {
            "standoff": 15
           },
           "zerolinecolor": "white",
           "zerolinewidth": 2
          }
         }
        },
        "title": {
         "text": "Parallel Coordinate Plot"
        }
       }
      },
      "text/html": [
       "<div>                            <div id=\"9dc1c68d-561d-4015-86c6-20fe72f4f8f9\" class=\"plotly-graph-div\" style=\"height:525px; width:100%;\"></div>            <script type=\"text/javascript\">                require([\"plotly\"], function(Plotly) {                    window.PLOTLYENV=window.PLOTLYENV || {};                                    if (document.getElementById(\"9dc1c68d-561d-4015-86c6-20fe72f4f8f9\")) {                    Plotly.newPlot(                        \"9dc1c68d-561d-4015-86c6-20fe72f4f8f9\",                        [{\"dimensions\":[{\"label\":\"Objective Value\",\"range\":[0.0026456103660166264,0.006205153185874224],\"values\":[0.0033891734201461077,0.003616947680711746,0.0044854870066046715,0.002959985751658678,0.0030479689594358206,0.002692846581339836,0.0026456103660166264,0.002739240415394306,0.0027991142123937607,0.0028431834653019905,0.0032950364984571934,0.00313244154676795,0.0028391603846102953,0.0027302943635731936,0.002799725392833352,0.002920845290645957,0.0028723664581775665,0.0029781574849039316,0.0029125793371349573,0.0028894366696476936,0.002738724695518613,0.003050130093470216,0.00269874045625329,0.0029579869005829096,0.0029424952808767557,0.0030049621127545834,0.002966035157442093,0.0030418827664107084,0.002827500691637397,0.0029072104953229427,0.0028983992524445057,0.0030947369523346424,0.0029341198969632387,0.0029377059545367956,0.0028611626476049423,0.002941114129498601,0.003740611718967557,0.004316471051424742,0.0032787772361189127,0.0029080978129059076,0.003047855570912361,0.0029354512225836515,0.0029183230362832546,0.00274049025028944,0.0028076304588466883,0.002941155107691884,0.0029022570233792067,0.0028398737777024508,0.0026995178777724504,0.0029741849284619093,0.00295436498709023,0.0027917453553527594,0.002927469089627266,0.0028889013919979334,0.0030035432428121567,0.00317040691152215,0.002889611991122365,0.003235294483602047,0.0029863433446735144,0.0031709480099380016,0.003278149990364909,0.0031253506895154715,0.0029148622415959835,0.0027334715705364943,0.0031378641724586487,0.002965225838124752,0.002917010337114334,0.002951741451397538,0.0033764082472771406,0.003040123963728547,0.0030499515123665333,0.0026796951424330473,0.0027787298895418644,0.0028895766008645296,0.002754280809313059,0.002862263470888138,0.0030562567990273237,0.002805276308208704,0.002986493054777384,0.0030568393412977457,0.0035958155058324337,0.0030804332345724106,0.0030302538070827723,0.00289642671123147,0.0029484243132174015,0.0028394274413585663,0.0029185835737735033,0.006205153185874224,0.0029302192851901054,0.004393850453197956,0.0028373959939926863,0.0030213375575840473,0.002849039388820529,0.002924953820183873,0.0030103574972599745,0.002921896753832698,0.003041797550395131,0.0031058385502547026,0.003992126788944006,0.003014444373548031]},{\"label\":\"beta1\",\"range\":[0.20807606452308375,0.8914652436343602],\"values\":[0.26293229007955915,0.30533160005302484,0.2773760189989034,0.40664473858991496,0.3099260389790481,0.6761537221726402,0.6751022480032107,0.6723598263389461,0.6399167313129656,0.6704502510002942,0.6836008971341513,0.7619711583570574,0.6567958707174322,0.6126349648060857,0.6229721483034585,0.5874323278374408,0.5642128149691911,0.6049826939086823,0.6707766074107901,0.6436386474546271,0.7281564514933081,0.7049350363657274,0.6246958925167629,0.6122769184427914,0.5236105508298431,0.634026369159449,0.7262819032641846,0.6606074034605092,0.7565454155380682,0.7058964677013532,0.5941059841858534,0.6535693872553349,0.750440129572874,0.8307574347445351,0.7918995216899533,0.7193875148394375,0.6903532200902354,0.43347091187723374,0.3840162597958793,0.22707024579478252,0.20807606452308375,0.2267627691404555,0.33876971723669563,0.704132898269289,0.7418104381888518,0.7399598626913177,0.8150401646749912,0.7174495048457387,0.7773479746917042,0.6859067722321527,0.6778381872694976,0.6204151498341128,0.5698740315092045,0.76750111814123,0.5208681137741247,0.6754281756773348,0.49997694263314657,0.5342265276424631,0.4659882890870486,0.4782035674695765,0.5832597602917153,0.6589337847230493,0.7321811783941017,0.6900787831255288,0.6818702197664344,0.6353376033254083,0.6637031135376659,0.7030196589379696,0.595813427685862,0.830465988934969,0.6461300804415674,0.6977173433655189,0.7153475506444353,0.7144056539582213,0.8251938673561959,0.8402053939751352,0.8914652436343602,0.80320728934534,0.8151022094859046,0.8484556196383457,0.7424572954709476,0.803471828571727,0.8631219076889812,0.7786894101655761,0.6941156781198969,0.5691795145348313,0.696535091753628,0.7856300669752158,0.713824941122825,0.8758520899397112,0.6970508401874574,0.7931159394958697,0.6158540128095046,0.6270101536068481,0.771604434049427,0.6046027074166469,0.7338292180049953,0.3629625748231108,0.5406327531915291,0.7606798593603237]},{\"label\":\"beta2\",\"range\":[-0.04570053100315606,-0.0004344683124207449],\"ticktext\":[\"0.9\",\"0.999\"],\"tickvals\":[-0.04570053100315606,-0.0004344683124207449],\"values\":[-0.037706587934810624,-0.020225496512814405,-0.00540565870253486,-0.010278399702209604,-0.037580886275242,-0.04570053100315606,-0.043790848056490306,-0.043515133720443945,-0.043060040645326134,-0.04347469904903822,-0.04133531035470264,-0.045277744476026074,-0.045671831446368764,-0.04269976638030587,-0.04271980232656957,-0.040432251578250936,-0.04411582196359787,-0.04239345665438695,-0.04440585399083017,-0.04071452323353151,-0.039495020626702695,-0.042097463900197196,-0.03940512783377469,-0.03965529010155762,-0.03687977231699688,-0.03849545834311772,-0.04424589170530484,-0.04166264515472598,-0.039763225172300035,-0.04568268646515991,-0.03655852232653964,-0.043296497292808066,-0.04219726671097727,-0.04390923595641218,-0.0004344683124207449,-0.03502236183454928,-0.011176599436962531,-0.021329256856033072,-0.0303827599971838,-0.03783854739081252,-0.03917814114168446,-0.03711078631731326,-0.030825691368622822,-0.033146915381820886,-0.02705324228468308,-0.032850519192413837,-0.03568767473406817,-0.023671683161909134,-0.04309461251015617,-0.04328428595875532,-0.045018380046820905,-0.038082599799662206,-0.04013690480178301,-0.0333810297406166,-0.033624744644556316,-0.04214416460446289,-0.028987837036581223,-0.02536165586989748,-0.028704017092116778,-0.025025752530654696,-0.022383650975263913,-0.01957278912713978,-0.04075871529518019,-0.028681301950732156,-0.02883158369494095,-0.009229247818560944,-0.04132054766378792,-0.029413656597866992,-0.03008403819369381,-0.035614814673693984,-0.04058535872945676,-0.03325100308307901,-0.034431608849969667,-0.03400454994442939,-0.03234810077214272,-0.035387419690678025,-0.03241715023067208,-0.03195598087228433,-0.04145076777924356,-0.03235361361085659,-0.04483553278731545,-0.03602603896805407,-0.03419131491633772,-0.030758268300974185,-0.039617185919655094,-0.027520836917856742,-0.030666936785650172,-0.038664394135447144,-0.03506537767377038,-0.0440723810341609,-0.026662430790855188,-0.013783570983225682,-0.025017421739423455,-0.0163866470168408,-0.0008082671801755281,-0.025153299362244936,-0.01758844527057518,-0.028649634504719364,-0.032211760272122775,-0.026726057126975112]},{\"label\":\"l2\",\"range\":[-5.992903788845492,-2.0041433982212613],\"ticktext\":[\"1.02e-06\",\"1e-05\",\"0.0001\",\"0.001\",\"0.00991\"],\"tickvals\":[-5.992903788845492,-5,-4,-3,-2.0041433982212613],\"values\":[-4.036800147054661,-2.903541863653908,-4.612964565398732,-5.362356711684169,-5.754756173185787,-2.5306806724700777,-2.5445881446573577,-2.528967173381385,-2.529179859099153,-2.2358870387053686,-3.0884190722629383,-2.828831981186663,-2.5401571196986503,-2.7174499296451256,-2.163570404182796,-2.7303656580072437,-3.17162578225989,-3.522627048581383,-2.014970535901141,-2.5811175794343835,-2.3470596065741782,-2.33623332136148,-2.234868887018288,-2.1380525732853313,-2.2032373115626886,-2.671432047998728,-2.2665093872458124,-3.992136897487811,-2.6345249147256324,-2.497973484626785,-2.83836678602724,-2.234002338230942,-2.388916766604189,-2.4687598215730393,-2.1184812431126105,-2.3282265950151233,-3.800727090374236,-4.46798267443512,-4.3790869970531485,-5.915501148844306,-5.650760083433582,-5.992903788845492,-5.412774852980045,-2.3826392790001543,-2.380664577342246,-2.3001699207417152,-2.4421903315945723,-2.1340484002750677,-2.4701965774460803,-2.4404291707789127,-2.3493116807232655,-2.053915535572967,-2.5484159966193154,-2.6653221568196908,-4.853371998200516,-2.256826084257668,-5.258686183986769,-5.715776199460831,-5.127366518875941,-5.1504359007234255,-5.1966801297158325,-4.9776611560609565,-2.7464745351392956,-2.5816817401572822,-2.9194688471581203,-2.5915059089420507,-2.223441925942885,-4.521956285076604,-4.940022449847107,-3.4666320068978913,-4.7419779042049806,-2.2419597055607148,-2.4207207698006483,-2.094106897365786,-2.5152253750143116,-2.5989248758793173,-2.6492385324496817,-2.9799059466749775,-3.038353677887075,-2.449088504690354,-2.8806315724035434,-2.0041433982212613,-2.303048579061585,-2.9363331661353587,-3.2254461630980518,-3.669471654404968,-2.7079478336293032,-2.7843177474491188,-3.8128738515396816,-5.985186946338316,-5.628379940463387,-5.410049731137157,-5.330743902749992,-5.3835535509741295,-5.562599298822869,-5.984157076975057,-3.350486336080209,-5.655003135972932,-4.250775120841414,-5.734822905249993]},{\"label\":\"layers\",\"range\":[1,7],\"values\":[7,1,4,7,4,7,7,7,7,7,2,7,6,7,6,7,6,7,7,7,7,7,6,7,7,6,7,7,6,7,7,7,6,4,7,7,7,2,4,5,5,6,5,6,6,6,7,6,7,6,7,6,7,7,4,5,5,3,5,5,3,7,7,7,7,3,7,6,2,6,5,7,7,7,7,7,7,7,7,7,1,7,7,7,6,6,7,7,5,5,5,6,6,6,7,6,3,6,4,6]},{\"label\":\"lr\",\"range\":[-4.975685383322215,-1.0053573938436509],\"ticktext\":[\"1.06e-05\",\"0.0001\",\"0.001\",\"0.01\",\"0.0988\"],\"tickvals\":[-4.975685383322215,-4,-3,-2,-1.0053573938436509],\"values\":[-1.9654646078302394,-3.7455802757559447,-1.4002929084278568,-2.170185217580248,-2.9989393081263103,-3.417405912884277,-3.407716048144189,-3.3236767633951545,-3.3320350424323792,-3.4699206554626443,-3.133506769758503,-3.385240389250058,-3.586770545533398,-3.751358404949916,-3.8291447452538,-2.9004909526414835,-3.4611266822655673,-3.320520085219912,-3.7083259359719274,-3.899474420768189,-3.7722236899718147,-3.1164982964841137,-3.5450891437479664,-3.5394701638875485,-4.033432716126399,-3.758881167943437,-3.385410399356285,-3.120755144766291,-3.8868187417713655,-3.7181209108647115,-3.409556062881025,-3.0373460987831,-2.8879700566811537,-3.677942969677134,-3.972718701172038,-3.2698715116221773,-1.448664372561622,-1.2762729209908652,-4.3058204821787385,-3.003380076989173,-2.9884668473134175,-2.572920628561682,-3.40382021300569,-3.6578104366414332,-3.1965372600510173,-3.210696304130817,-3.9656863804692284,-3.633764843896415,-3.431423267908902,-3.5584943518541508,-3.2637386262296677,-3.591074294210425,-4.3124890129010645,-3.461606856553624,-2.5373265516943966,-2.4291648331777322,-2.532345718409538,-2.1219912487392807,-2.756285094204122,-1.9721778399916274,-2.7334040370033765,-1.7204640605378445,-3.8226315559931603,-3.740094886133972,-3.851068450622111,-3.6154069375336486,-3.759965954912393,-3.5188245159116702,-3.1331643437310466,-3.5214542180580004,-3.296407737077433,-3.813959308421638,-4.181342689611961,-4.297586744679303,-3.6941790439410243,-3.657335128998709,-4.522934426060309,-4.102372330279755,-4.168837614677789,-3.8115602572775096,-3.6419856822354575,-4.083418231305643,-4.523667468374845,-3.7712279899010364,-4.179891147694971,-4.499683680834371,-3.4967599743880595,-4.975685383322215,-2.8620803918275093,-4.859288855976642,-2.762106870068016,-3.2448693021027744,-3.9321160476874844,-4.003667372232129,-4.69866504670086,-4.313841688624719,-3.533856332615364,-2.408876818669814,-1.0053573938436509,-3.887311317668382]},{\"label\":\"ngf\",\"range\":[0,4],\"ticktext\":[16,24,32,48,64],\"tickvals\":[0,1,2,3,4],\"values\":[0,0,0,0,0,0,0,0,0,0,0,0,0,0,0,0,0,0,0,0,0,0,0,0,0,0,0,0,0,0,0,0,0,0,0,0,1,1,1,1,1,1,1,1,1,1,1,1,1,1,1,1,1,1,2,2,2,2,2,2,2,2,2,2,2,2,2,2,3,3,3,3,3,3,3,3,3,3,3,3,3,3,3,3,3,3,3,3,4,4,4,4,4,4,4,4,4,4,4,4]},{\"label\":\"nz\",\"range\":[50,120],\"values\":[75,103,62,82,60,115,118,118,118,116,115,120,113,110,110,117,118,113,111,104,104,115,120,120,118,110,114,116,112,118,106,108,114,104,111,108,75,111,116,76,75,69,76,86,92,86,94,96,109,109,98,120,116,105,53,50,89,80,88,83,78,90,103,101,101,96,54,113,106,85,89,101,107,111,105,120,106,101,108,102,99,112,95,114,107,104,100,109,93,96,91,93,66,65,66,72,58,98,70,102]}],\"labelangle\":30,\"labelside\":\"bottom\",\"line\":{\"color\":[0.0033891734201461077,0.003616947680711746,0.0044854870066046715,0.002959985751658678,0.0030479689594358206,0.002692846581339836,0.0026456103660166264,0.002739240415394306,0.0027991142123937607,0.0028431834653019905,0.0032950364984571934,0.00313244154676795,0.0028391603846102953,0.0027302943635731936,0.002799725392833352,0.002920845290645957,0.0028723664581775665,0.0029781574849039316,0.0029125793371349573,0.0028894366696476936,0.002738724695518613,0.003050130093470216,0.00269874045625329,0.0029579869005829096,0.0029424952808767557,0.0030049621127545834,0.002966035157442093,0.0030418827664107084,0.002827500691637397,0.0029072104953229427,0.0028983992524445057,0.0030947369523346424,0.0029341198969632387,0.0029377059545367956,0.0028611626476049423,0.002941114129498601,0.003740611718967557,0.004316471051424742,0.0032787772361189127,0.0029080978129059076,0.003047855570912361,0.0029354512225836515,0.0029183230362832546,0.00274049025028944,0.0028076304588466883,0.002941155107691884,0.0029022570233792067,0.0028398737777024508,0.0026995178777724504,0.0029741849284619093,0.00295436498709023,0.0027917453553527594,0.002927469089627266,0.0028889013919979334,0.0030035432428121567,0.00317040691152215,0.002889611991122365,0.003235294483602047,0.0029863433446735144,0.0031709480099380016,0.003278149990364909,0.0031253506895154715,0.0029148622415959835,0.0027334715705364943,0.0031378641724586487,0.002965225838124752,0.002917010337114334,0.002951741451397538,0.0033764082472771406,0.003040123963728547,0.0030499515123665333,0.0026796951424330473,0.0027787298895418644,0.0028895766008645296,0.002754280809313059,0.002862263470888138,0.0030562567990273237,0.002805276308208704,0.002986493054777384,0.0030568393412977457,0.0035958155058324337,0.0030804332345724106,0.0030302538070827723,0.00289642671123147,0.0029484243132174015,0.0028394274413585663,0.0029185835737735033,0.006205153185874224,0.0029302192851901054,0.004393850453197956,0.0028373959939926863,0.0030213375575840473,0.002849039388820529,0.002924953820183873,0.0030103574972599745,0.002921896753832698,0.003041797550395131,0.0031058385502547026,0.003992126788944006,0.003014444373548031],\"colorbar\":{\"title\":{\"text\":\"Objective Value\"}},\"colorscale\":[[0.0,\"rgb(247,251,255)\"],[0.125,\"rgb(222,235,247)\"],[0.25,\"rgb(198,219,239)\"],[0.375,\"rgb(158,202,225)\"],[0.5,\"rgb(107,174,214)\"],[0.625,\"rgb(66,146,198)\"],[0.75,\"rgb(33,113,181)\"],[0.875,\"rgb(8,81,156)\"],[1.0,\"rgb(8,48,107)\"]],\"reversescale\":true,\"showscale\":true},\"type\":\"parcoords\"}],                        {\"title\":{\"text\":\"Parallel Coordinate Plot\"},\"template\":{\"data\":{\"bar\":[{\"error_x\":{\"color\":\"#2a3f5f\"},\"error_y\":{\"color\":\"#2a3f5f\"},\"marker\":{\"line\":{\"color\":\"#E5ECF6\",\"width\":0.5},\"pattern\":{\"fillmode\":\"overlay\",\"size\":10,\"solidity\":0.2}},\"type\":\"bar\"}],\"barpolar\":[{\"marker\":{\"line\":{\"color\":\"#E5ECF6\",\"width\":0.5},\"pattern\":{\"fillmode\":\"overlay\",\"size\":10,\"solidity\":0.2}},\"type\":\"barpolar\"}],\"carpet\":[{\"aaxis\":{\"endlinecolor\":\"#2a3f5f\",\"gridcolor\":\"white\",\"linecolor\":\"white\",\"minorgridcolor\":\"white\",\"startlinecolor\":\"#2a3f5f\"},\"baxis\":{\"endlinecolor\":\"#2a3f5f\",\"gridcolor\":\"white\",\"linecolor\":\"white\",\"minorgridcolor\":\"white\",\"startlinecolor\":\"#2a3f5f\"},\"type\":\"carpet\"}],\"choropleth\":[{\"colorbar\":{\"outlinewidth\":0,\"ticks\":\"\"},\"type\":\"choropleth\"}],\"contour\":[{\"colorbar\":{\"outlinewidth\":0,\"ticks\":\"\"},\"colorscale\":[[0.0,\"#0d0887\"],[0.1111111111111111,\"#46039f\"],[0.2222222222222222,\"#7201a8\"],[0.3333333333333333,\"#9c179e\"],[0.4444444444444444,\"#bd3786\"],[0.5555555555555556,\"#d8576b\"],[0.6666666666666666,\"#ed7953\"],[0.7777777777777778,\"#fb9f3a\"],[0.8888888888888888,\"#fdca26\"],[1.0,\"#f0f921\"]],\"type\":\"contour\"}],\"contourcarpet\":[{\"colorbar\":{\"outlinewidth\":0,\"ticks\":\"\"},\"type\":\"contourcarpet\"}],\"heatmap\":[{\"colorbar\":{\"outlinewidth\":0,\"ticks\":\"\"},\"colorscale\":[[0.0,\"#0d0887\"],[0.1111111111111111,\"#46039f\"],[0.2222222222222222,\"#7201a8\"],[0.3333333333333333,\"#9c179e\"],[0.4444444444444444,\"#bd3786\"],[0.5555555555555556,\"#d8576b\"],[0.6666666666666666,\"#ed7953\"],[0.7777777777777778,\"#fb9f3a\"],[0.8888888888888888,\"#fdca26\"],[1.0,\"#f0f921\"]],\"type\":\"heatmap\"}],\"heatmapgl\":[{\"colorbar\":{\"outlinewidth\":0,\"ticks\":\"\"},\"colorscale\":[[0.0,\"#0d0887\"],[0.1111111111111111,\"#46039f\"],[0.2222222222222222,\"#7201a8\"],[0.3333333333333333,\"#9c179e\"],[0.4444444444444444,\"#bd3786\"],[0.5555555555555556,\"#d8576b\"],[0.6666666666666666,\"#ed7953\"],[0.7777777777777778,\"#fb9f3a\"],[0.8888888888888888,\"#fdca26\"],[1.0,\"#f0f921\"]],\"type\":\"heatmapgl\"}],\"histogram\":[{\"marker\":{\"pattern\":{\"fillmode\":\"overlay\",\"size\":10,\"solidity\":0.2}},\"type\":\"histogram\"}],\"histogram2d\":[{\"colorbar\":{\"outlinewidth\":0,\"ticks\":\"\"},\"colorscale\":[[0.0,\"#0d0887\"],[0.1111111111111111,\"#46039f\"],[0.2222222222222222,\"#7201a8\"],[0.3333333333333333,\"#9c179e\"],[0.4444444444444444,\"#bd3786\"],[0.5555555555555556,\"#d8576b\"],[0.6666666666666666,\"#ed7953\"],[0.7777777777777778,\"#fb9f3a\"],[0.8888888888888888,\"#fdca26\"],[1.0,\"#f0f921\"]],\"type\":\"histogram2d\"}],\"histogram2dcontour\":[{\"colorbar\":{\"outlinewidth\":0,\"ticks\":\"\"},\"colorscale\":[[0.0,\"#0d0887\"],[0.1111111111111111,\"#46039f\"],[0.2222222222222222,\"#7201a8\"],[0.3333333333333333,\"#9c179e\"],[0.4444444444444444,\"#bd3786\"],[0.5555555555555556,\"#d8576b\"],[0.6666666666666666,\"#ed7953\"],[0.7777777777777778,\"#fb9f3a\"],[0.8888888888888888,\"#fdca26\"],[1.0,\"#f0f921\"]],\"type\":\"histogram2dcontour\"}],\"mesh3d\":[{\"colorbar\":{\"outlinewidth\":0,\"ticks\":\"\"},\"type\":\"mesh3d\"}],\"parcoords\":[{\"line\":{\"colorbar\":{\"outlinewidth\":0,\"ticks\":\"\"}},\"type\":\"parcoords\"}],\"pie\":[{\"automargin\":true,\"type\":\"pie\"}],\"scatter\":[{\"marker\":{\"colorbar\":{\"outlinewidth\":0,\"ticks\":\"\"}},\"type\":\"scatter\"}],\"scatter3d\":[{\"line\":{\"colorbar\":{\"outlinewidth\":0,\"ticks\":\"\"}},\"marker\":{\"colorbar\":{\"outlinewidth\":0,\"ticks\":\"\"}},\"type\":\"scatter3d\"}],\"scattercarpet\":[{\"marker\":{\"colorbar\":{\"outlinewidth\":0,\"ticks\":\"\"}},\"type\":\"scattercarpet\"}],\"scattergeo\":[{\"marker\":{\"colorbar\":{\"outlinewidth\":0,\"ticks\":\"\"}},\"type\":\"scattergeo\"}],\"scattergl\":[{\"marker\":{\"colorbar\":{\"outlinewidth\":0,\"ticks\":\"\"}},\"type\":\"scattergl\"}],\"scattermapbox\":[{\"marker\":{\"colorbar\":{\"outlinewidth\":0,\"ticks\":\"\"}},\"type\":\"scattermapbox\"}],\"scatterpolar\":[{\"marker\":{\"colorbar\":{\"outlinewidth\":0,\"ticks\":\"\"}},\"type\":\"scatterpolar\"}],\"scatterpolargl\":[{\"marker\":{\"colorbar\":{\"outlinewidth\":0,\"ticks\":\"\"}},\"type\":\"scatterpolargl\"}],\"scatterternary\":[{\"marker\":{\"colorbar\":{\"outlinewidth\":0,\"ticks\":\"\"}},\"type\":\"scatterternary\"}],\"surface\":[{\"colorbar\":{\"outlinewidth\":0,\"ticks\":\"\"},\"colorscale\":[[0.0,\"#0d0887\"],[0.1111111111111111,\"#46039f\"],[0.2222222222222222,\"#7201a8\"],[0.3333333333333333,\"#9c179e\"],[0.4444444444444444,\"#bd3786\"],[0.5555555555555556,\"#d8576b\"],[0.6666666666666666,\"#ed7953\"],[0.7777777777777778,\"#fb9f3a\"],[0.8888888888888888,\"#fdca26\"],[1.0,\"#f0f921\"]],\"type\":\"surface\"}],\"table\":[{\"cells\":{\"fill\":{\"color\":\"#EBF0F8\"},\"line\":{\"color\":\"white\"}},\"header\":{\"fill\":{\"color\":\"#C8D4E3\"},\"line\":{\"color\":\"white\"}},\"type\":\"table\"}]},\"layout\":{\"annotationdefaults\":{\"arrowcolor\":\"#2a3f5f\",\"arrowhead\":0,\"arrowwidth\":1},\"autotypenumbers\":\"strict\",\"coloraxis\":{\"colorbar\":{\"outlinewidth\":0,\"ticks\":\"\"}},\"colorscale\":{\"diverging\":[[0,\"#8e0152\"],[0.1,\"#c51b7d\"],[0.2,\"#de77ae\"],[0.3,\"#f1b6da\"],[0.4,\"#fde0ef\"],[0.5,\"#f7f7f7\"],[0.6,\"#e6f5d0\"],[0.7,\"#b8e186\"],[0.8,\"#7fbc41\"],[0.9,\"#4d9221\"],[1,\"#276419\"]],\"sequential\":[[0.0,\"#0d0887\"],[0.1111111111111111,\"#46039f\"],[0.2222222222222222,\"#7201a8\"],[0.3333333333333333,\"#9c179e\"],[0.4444444444444444,\"#bd3786\"],[0.5555555555555556,\"#d8576b\"],[0.6666666666666666,\"#ed7953\"],[0.7777777777777778,\"#fb9f3a\"],[0.8888888888888888,\"#fdca26\"],[1.0,\"#f0f921\"]],\"sequentialminus\":[[0.0,\"#0d0887\"],[0.1111111111111111,\"#46039f\"],[0.2222222222222222,\"#7201a8\"],[0.3333333333333333,\"#9c179e\"],[0.4444444444444444,\"#bd3786\"],[0.5555555555555556,\"#d8576b\"],[0.6666666666666666,\"#ed7953\"],[0.7777777777777778,\"#fb9f3a\"],[0.8888888888888888,\"#fdca26\"],[1.0,\"#f0f921\"]]},\"colorway\":[\"#636efa\",\"#EF553B\",\"#00cc96\",\"#ab63fa\",\"#FFA15A\",\"#19d3f3\",\"#FF6692\",\"#B6E880\",\"#FF97FF\",\"#FECB52\"],\"font\":{\"color\":\"#2a3f5f\"},\"geo\":{\"bgcolor\":\"white\",\"lakecolor\":\"white\",\"landcolor\":\"#E5ECF6\",\"showlakes\":true,\"showland\":true,\"subunitcolor\":\"white\"},\"hoverlabel\":{\"align\":\"left\"},\"hovermode\":\"closest\",\"mapbox\":{\"style\":\"light\"},\"paper_bgcolor\":\"white\",\"plot_bgcolor\":\"#E5ECF6\",\"polar\":{\"angularaxis\":{\"gridcolor\":\"white\",\"linecolor\":\"white\",\"ticks\":\"\"},\"bgcolor\":\"#E5ECF6\",\"radialaxis\":{\"gridcolor\":\"white\",\"linecolor\":\"white\",\"ticks\":\"\"}},\"scene\":{\"xaxis\":{\"backgroundcolor\":\"#E5ECF6\",\"gridcolor\":\"white\",\"gridwidth\":2,\"linecolor\":\"white\",\"showbackground\":true,\"ticks\":\"\",\"zerolinecolor\":\"white\"},\"yaxis\":{\"backgroundcolor\":\"#E5ECF6\",\"gridcolor\":\"white\",\"gridwidth\":2,\"linecolor\":\"white\",\"showbackground\":true,\"ticks\":\"\",\"zerolinecolor\":\"white\"},\"zaxis\":{\"backgroundcolor\":\"#E5ECF6\",\"gridcolor\":\"white\",\"gridwidth\":2,\"linecolor\":\"white\",\"showbackground\":true,\"ticks\":\"\",\"zerolinecolor\":\"white\"}},\"shapedefaults\":{\"line\":{\"color\":\"#2a3f5f\"}},\"ternary\":{\"aaxis\":{\"gridcolor\":\"white\",\"linecolor\":\"white\",\"ticks\":\"\"},\"baxis\":{\"gridcolor\":\"white\",\"linecolor\":\"white\",\"ticks\":\"\"},\"bgcolor\":\"#E5ECF6\",\"caxis\":{\"gridcolor\":\"white\",\"linecolor\":\"white\",\"ticks\":\"\"}},\"title\":{\"x\":0.05},\"xaxis\":{\"automargin\":true,\"gridcolor\":\"white\",\"linecolor\":\"white\",\"ticks\":\"\",\"title\":{\"standoff\":15},\"zerolinecolor\":\"white\",\"zerolinewidth\":2},\"yaxis\":{\"automargin\":true,\"gridcolor\":\"white\",\"linecolor\":\"white\",\"ticks\":\"\",\"title\":{\"standoff\":15},\"zerolinecolor\":\"white\",\"zerolinewidth\":2}}}},                        {\"responsive\": true}                    ).then(function(){\n",
       "                            \n",
       "var gd = document.getElementById('9dc1c68d-561d-4015-86c6-20fe72f4f8f9');\n",
       "var x = new MutationObserver(function (mutations, observer) {{\n",
       "        var display = window.getComputedStyle(gd).display;\n",
       "        if (!display || display === 'none') {{\n",
       "            console.log([gd, 'removed!']);\n",
       "            Plotly.purge(gd);\n",
       "            observer.disconnect();\n",
       "        }}\n",
       "}});\n",
       "\n",
       "// Listen for the removal of the full notebook cells\n",
       "var notebookContainer = gd.closest('#notebook-container');\n",
       "if (notebookContainer) {{\n",
       "    x.observe(notebookContainer, {childList: true});\n",
       "}}\n",
       "\n",
       "// Listen for the clearing of the current output cell\n",
       "var outputEl = gd.closest('.output');\n",
       "if (outputEl) {{\n",
       "    x.observe(outputEl, {childList: true});\n",
       "}}\n",
       "\n",
       "                        })                };                });            </script>        </div>"
      ]
     },
     "metadata": {},
     "output_type": "display_data"
    }
   ],
   "source": [
    "optuna.visualization.plot_parallel_coordinate(study)\n"
   ]
  },
  {
   "cell_type": "code",
   "execution_count": 38,
   "metadata": {},
   "outputs": [
    {
     "data": {
      "text/plain": [
       "OrderedDict([('lr', 0.7534920623899228),\n",
       "             ('layers', 0.1117357544310182),\n",
       "             ('beta1', 0.05053511750134896),\n",
       "             ('ngf', 0.038582138308233156),\n",
       "             ('nz', 0.02790020778253856),\n",
       "             ('beta2', 0.011997811912608016),\n",
       "             ('l2', 0.00575690767433023)])"
      ]
     },
     "execution_count": 38,
     "metadata": {},
     "output_type": "execute_result"
    }
   ],
   "source": [
    "# import sklearn\n",
    "# doesn't work because different param in same value/place every time\n",
    "# optuna.visualization.plot_param_importances(study)\n",
    "optuna.importance.get_param_importances(study)"
   ]
  }
 ],
 "metadata": {
  "accelerator": "GPU",
  "anp_metadata": {
   "path": "fbsource/fbcode/vision/fair/pytorch3d/docs/tutorials/fit_textured_mesh.ipynb"
  },
  "bento_stylesheets": {
   "bento/extensions/flow/main.css": true,
   "bento/extensions/kernel_selector/main.css": true,
   "bento/extensions/kernel_ui/main.css": true,
   "bento/extensions/new_kernel/main.css": true,
   "bento/extensions/system_usage/main.css": true,
   "bento/extensions/theme/main.css": true
  },
  "colab": {
   "name": "fit_textured_mesh.ipynb",
   "provenance": [],
   "toc_visible": true
  },
  "disseminate_notebook_info": {
   "backup_notebook_id": "781874812352022"
  },
  "interpreter": {
   "hash": "60cb56d69e6ae3efc575d5956bd5f6d74483d19d65043d3c065644cb49c044fe"
  },
  "kernelspec": {
   "display_name": "intro_to_cv",
   "language": "python",
   "name": "python3"
  },
  "language_info": {
   "codemirror_mode": {
    "name": "ipython",
    "version": 3
   },
   "file_extension": ".py",
   "mimetype": "text/x-python",
   "name": "python",
   "nbconvert_exporter": "python",
   "pygments_lexer": "ipython3",
   "version": "3.8.12"
  }
 },
 "nbformat": 4,
 "nbformat_minor": 1
}
