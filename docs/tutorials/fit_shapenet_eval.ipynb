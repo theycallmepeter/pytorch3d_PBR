{
 "cells": [
  {
   "cell_type": "code",
   "execution_count": 1,
   "metadata": {
    "colab": {},
    "colab_type": "code",
    "id": "_Ip8kp4TfBLZ"
   },
   "outputs": [],
   "source": [
    "# Copyright (c) Facebook, Inc. and its affiliates. All rights reserved."
   ]
  },
  {
   "cell_type": "markdown",
   "metadata": {
    "colab_type": "text",
    "id": "kuXHJv44fBLe"
   },
   "source": [
    "# Fit a mesh via rendering\n",
    "\n",
    "This tutorial shows how to:\n",
    "- Load a mesh and textures from an `.obj` file. \n",
    "- Create a synthetic dataset by rendering a textured mesh from multiple viewpoints\n",
    "- Fit a mesh to the observed synthetic images using differential silhouette rendering\n",
    "- Fit a mesh and its textures using differential textured rendering"
   ]
  },
  {
   "cell_type": "markdown",
   "metadata": {
    "colab_type": "text",
    "id": "Bnj3THhzfBLf"
   },
   "source": [
    "## 0. Install and Import modules"
   ]
  },
  {
   "cell_type": "markdown",
   "metadata": {
    "colab_type": "text",
    "id": "okLalbR_g7NS"
   },
   "source": [
    "Ensure `torch` and `torchvision` are installed. If `pytorch3d` is not installed, install it using the following cell:"
   ]
  },
  {
   "cell_type": "code",
   "execution_count": 2,
   "metadata": {
    "colab": {},
    "colab_type": "code",
    "id": "musUWTglgxSB"
   },
   "outputs": [],
   "source": [
    "# import os\n",
    "# import sys\n",
    "# import torch\n",
    "# need_pytorch3d=False\n",
    "# try:\n",
    "    # import pytorch3d\n",
    "# except ModuleNotFoundError:\n",
    "    # need_pytorch3d=True\n",
    "# if need_pytorch3d:\n",
    "#     if torch.__version__.startswith(\"1.9\") and sys.platform.startswith(\"linux\"):\n",
    "#         # We try to install PyTorch3D via a released wheel.\n",
    "#         version_str=\"\".join([\n",
    "#             f\"py3{sys.version_info.minor}_cu\",\n",
    "#             torch.version.cuda.replace(\".\",\"\"),\n",
    "#             f\"_pyt{torch.__version__[0:5:2]}\"\n",
    "#         ])\n",
    "#         !pip install pytorch3d -f https://dl.fbaipublicfiles.com/pytorch3d/packaging/wheels/{version_str}/download.html\n",
    "#     else:\n",
    "#         # We try to install PyTorch3D from source.\n",
    "#         !curl -LO https://github.com/NVIDIA/cub/archive/1.10.0.tar.gz\n",
    "#         !tar xzf 1.10.0.tar.gz\n",
    "#         os.environ[\"CUB_HOME\"] = os.getcwd() + \"/cub-1.10.0\"\n",
    "#         !pip install 'git+https://github.com/facebookresearch/pytorch3d.git@stable'"
   ]
  },
  {
   "cell_type": "code",
   "execution_count": 3,
   "metadata": {
    "colab": {},
    "colab_type": "code",
    "id": "nX99zdoffBLg"
   },
   "outputs": [],
   "source": [
    "import os\n",
    "import torch\n",
    "from torch import nn\n",
    "\n",
    "from pytorch3d.datasets import ShapeNetCore\n",
    "import matplotlib.pyplot as plt\n",
    "from pytorch3d.utils import ico_sphere\n",
    "import numpy as np\n",
    "from tqdm.notebook import tqdm\n",
    "\n",
    "# Util function for loading meshes\n",
    "from pytorch3d.io import load_objs_as_meshes, save_obj\n",
    "\n",
    "from pytorch3d.loss import (\n",
    "    chamfer_distance, \n",
    "    mesh_edge_loss, \n",
    "    mesh_laplacian_smoothing, \n",
    "    mesh_normal_consistency,\n",
    ")\n",
    "\n",
    "# Data structures and functions for rendering\n",
    "from pytorch3d.structures import Meshes\n",
    "from pytorch3d.renderer import (\n",
    "    look_at_view_transform,\n",
    "    OpenGLPerspectiveCameras, \n",
    "    PointLights, \n",
    "    DirectionalLights, \n",
    "    Materials, \n",
    "    RasterizationSettings, \n",
    "    MeshRenderer, \n",
    "    MeshRasterizer,  \n",
    "    NormalSoftPhongShader,\n",
    "    SoftPhongShader,\n",
    "    SoftSilhouetteShader,\n",
    "    SoftPhongShader,\n",
    "    TexturesVertex,\n",
    "    TexturesUV,\n",
    "    tbn_matrices,\n",
    ")\n",
    "from torchvision.transforms import RandomAffine\n",
    "from pytorch3d.renderer.mesh import tbn_matrices\n",
    "# add path for demo utils functions \n",
    "import sys\n",
    "import os\n",
    "sys.path.append(os.path.abspath(''))"
   ]
  },
  {
   "cell_type": "markdown",
   "metadata": {
    "colab_type": "text",
    "id": "Lxmehq6Zhrzv"
   },
   "source": [
    "If using **Google Colab**, fetch the utils file for plotting image grids:"
   ]
  },
  {
   "cell_type": "code",
   "execution_count": 4,
   "metadata": {
    "colab": {},
    "colab_type": "code",
    "id": "HZozr3Pmho-5"
   },
   "outputs": [],
   "source": [
    "# !wget https://raw.githubusercontent.com/facebookresearch/pytorch3d/main/docs/tutorials/utils/plot_image_grid.py\n",
    "# from plot_image_grid import image_grid"
   ]
  },
  {
   "cell_type": "markdown",
   "metadata": {
    "colab_type": "text",
    "id": "g4B62MzYiJUM"
   },
   "source": [
    "OR if running **locally** uncomment and run the following cell:"
   ]
  },
  {
   "cell_type": "code",
   "execution_count": 5,
   "metadata": {
    "colab": {},
    "colab_type": "code",
    "id": "paJ4Im8ahl7O"
   },
   "outputs": [],
   "source": [
    " from utils.plot_image_grid import image_grid"
   ]
  },
  {
   "cell_type": "markdown",
   "metadata": {
    "colab_type": "text",
    "collapsed": true,
    "id": "5jGq772XfBLk"
   },
   "source": [
    "### 1. Load a mesh and texture file\n",
    "\n",
    "Load an `.obj` file and its associated `.mtl` file and create a **Textures** and **Meshes** object. \n",
    "\n",
    "**Meshes** is a unique datastructure provided in PyTorch3D for working with batches of meshes of different sizes. \n",
    "\n",
    "**TexturesVertex** is an auxiliary datastructure for storing vertex rgb texture information about meshes. \n",
    "\n",
    "**Meshes** has several class methods which are used throughout the rendering pipeline."
   ]
  },
  {
   "cell_type": "markdown",
   "metadata": {
    "colab_type": "text",
    "id": "a8eU4zo5jd_H"
   },
   "source": [
    "If running this notebook using **Google Colab**, run the following cell to fetch the mesh obj and texture files and save it at the path `data/cow_mesh`:\n",
    "If running locally, the data is already available at the correct path. "
   ]
  },
  {
   "cell_type": "code",
   "execution_count": 6,
   "metadata": {
    "colab": {},
    "colab_type": "code",
    "id": "tTm0cVuOjb1W"
   },
   "outputs": [],
   "source": [
    "# !mkdir -p data/cow_mesh\n",
    "# !wget -P data/cow_mesh https://dl.fbaipublicfiles.com/pytorch3d/data/cow_mesh/cow.obj\n",
    "# !wget -P data/cow_mesh https://dl.fbaipublicfiles.com/pytorch3d/data/cow_mesh/cow.mtl\n",
    "# !wget -P data/cow_mesh https://dl.fbaipublicfiles.com/pytorch3d/data/cow_mesh/cow_texture.png"
   ]
  },
  {
   "cell_type": "code",
   "execution_count": 7,
   "metadata": {
    "colab": {},
    "colab_type": "code",
    "id": "gi5Kd0GafBLl"
   },
   "outputs": [],
   "source": [
    "# Setup\n",
    "if torch.cuda.is_available():\n",
    "    device = torch.device(\"cuda:0\")\n",
    "    torch.cuda.set_device(device)\n",
    "else:\n",
    "    device = torch.device(\"cpu\")\n",
    "\n",
    "# device = torch.device(\"cpu\")\n",
    "\n",
    "# # Set paths\n",
    "# DATA_DIR = \"./data\"\n",
    "# obj_filename = os.path.join(DATA_DIR, \"cow_mesh/cow.obj\")\n",
    "# # obj_filename = os.path.join(DATA_DIR, \"cube_mesh/six_colour_cube.obj\")\n",
    "\n",
    "\n",
    "# # Load obj file\n",
    "# mesh = load_objs_as_meshes([obj_filename], device=device)\n",
    "\n",
    "# # We scale normalize and center the target mesh to fit in a sphere of radius 1 \n",
    "# # centered at (0,0,0). (scale, center) will be used to bring the predicted mesh \n",
    "# # to its original center and scale.  Note that normalizing the target mesh, \n",
    "# # speeds up the optimization but is not necessary!\n",
    "# verts = mesh.verts_packed()\n",
    "# N = verts.shape[0]\n",
    "# center = verts.mean(0)\n",
    "# scale = max((verts - center).abs().max(0)[0])\n",
    "# mesh.offset_verts_(-center)\n",
    "# mesh.scale_verts_((0.75 / float(scale)));"
   ]
  },
  {
   "cell_type": "markdown",
   "metadata": {
    "colab_type": "text",
    "id": "17c4xmtyfBMH"
   },
   "source": [
    "## 2. Dataset Creation\n",
    "\n",
    "We sample different camera positions that encode multiple viewpoints of the cow.  We create a renderer with a shader that performs texture map interpolation.  We render a synthetic dataset of images of the textured cow mesh from multiple viewpoints.\n"
   ]
  },
  {
   "cell_type": "code",
   "execution_count": 8,
   "metadata": {},
   "outputs": [],
   "source": [
    "from pyperlin import FractalPerlin2D\n",
    "\n",
    "random_seed = 10\n",
    "np.random.seed(random_seed)\n",
    "\n",
    "# Functions from my L4 project\n",
    "def to_geocentric(lat, lon):\n",
    "    \"\"\"\n",
    "    Converts a latitude longitude pair to geocentric X Y Z coordinates\n",
    "    \"\"\"\n",
    "    lat = np.radians(lat)\n",
    "    lon = np.radians(lon)\n",
    "    return np.array([np.cos(lat) * np.cos(lon), np.cos(lat) * np.sin(lon), np.sin(lat)])\n",
    "\n",
    "\n",
    "def train_test_split(list):\n",
    "    return list[:len(list)//2], list[len(list)//2:]\n",
    "\n",
    "# lat lon but longitude is scaled to half to have a square representation\n",
    "def to_lat_lon(coords):\n",
    "    \"\"\"\n",
    "    Converts X Y Z geocentric coordinates into latitude and longitude\n",
    "    \"\"\"\n",
    "    return np.array([np.degrees(np.arcsin(coords[2])), np.degrees(np.arctan2(coords[1], coords[0]))])\n",
    "\n",
    "def generate_perlin_texture(generator):\n",
    "    texture = torch.ones(texture_size)*0.25\n",
    "    for i in range(3):\n",
    "        resolutions = [(2**i,2**i) for i in range(1,7)] #for lacunarity = 2.0\n",
    "        factors = [.9**i for i in range(6)] #for persistence = 0.5\n",
    "        channel = FractalPerlin2D(texture_size[:-1], resolutions, factors, generator=generator)().cpu().numpy()\n",
    "        texture[...,i] += channel * 0.5\n",
    "    return texture\n",
    "\n",
    "def generate_normal_map(generator, texture_size):\n",
    "    zero_dims = [1, texture_size[1], texture_size[1], 2]\n",
    "    ones_dims = [1, texture_size[1], texture_size[1], 1]\n",
    "    normal_map_flat = torch.cat([torch.ones(zero_dims)*0.5, torch.ones(ones_dims)], dim=3)\n",
    "    return normal_map_flat*0.75 + generate_perlin_texture(generator) *0.25\n",
    "\n",
    "def load_shapenet_mesh(texture_size, gen, shapenet_dataset, seed):\n",
    "    texture = generate_perlin_texture(gen) * 0.5 + torch.ones(texture_size) * 0.5\n",
    "    # Generate random normal maps using perlin noise/trig functions\n",
    "    normal_map = generate_normal_map(gen, texture_size)\n",
    "    while True:\n",
    "        try:\n",
    "            shapenet_model = np.random.choice(shapenet_dataset)\n",
    "            break\n",
    "        except IsADirectoryError:\n",
    "            continue\n",
    "    model_verts, model_faces = shapenet_model[\"verts\"], shapenet_model[\"faces\"]\n",
    "\n",
    "    # Create UVs assuming equirectangular projection of sphere (very much approximation)\n",
    "    xyz_to_u = torch.rad2deg(torch.arcsin(model_verts[:,2])) + 90\n",
    "    xyz_to_u = xyz_to_u - torch.min(xyz_to_u)\n",
    "    xyz_to_u = xyz_to_u / torch.max(xyz_to_u)\n",
    "\n",
    "    xyz_to_v = (torch.rad2deg(torch.atan2(model_verts[:,1], model_verts[:,0])) + 180) / 2 \n",
    "    xyz_to_v = xyz_to_v / torch.max(xyz_to_v)\n",
    "    xyz_to_v = xyz_to_v - torch.min(xyz_to_v)\n",
    "    sphere_verts_uvs = torch.stack([xyz_to_u, xyz_to_v], dim=1)\n",
    "\n",
    "    model_textures = TexturesUV(texture, model_faces.unsqueeze(0), sphere_verts_uvs.unsqueeze(0))\n",
    "    model_normalmaps = TexturesUV(normal_map, model_faces.unsqueeze(0), sphere_verts_uvs.unsqueeze(0))\n",
    "\n",
    "    shapenet_model_mesh = Meshes(\n",
    "        verts=[model_verts.to(device)],   \n",
    "        faces=[model_faces.to(device)],\n",
    "        textures=model_textures.to(device),\n",
    "        normalmaps=model_normalmaps.to(device),\n",
    "    )\n",
    "    # Scale mesh to be normalized\n",
    "    center = model_verts.mean(0)\n",
    "    scale = max((model_verts - center).abs().max(0)[0])\n",
    "    shapenet_model_mesh.offset_verts_(-center.to(device))\n",
    "    shapenet_model_mesh.scale_verts_((0.75 / float(scale.to(device))))\n",
    "\n",
    "    mesh_dict = {\"mesh\":shapenet_model_mesh, \"synset_id\":shapenet_model[\"synset_id\"], \"model_id\":shapenet_model[\"model_id\"]}\n",
    "    return mesh_dict"
   ]
  },
  {
   "cell_type": "code",
   "execution_count": 9,
   "metadata": {},
   "outputs": [],
   "source": [
    "# imsize = 256\n",
    "# # lights = PointLights(device=device, location=[[0.0, 0.0, -1.5]])\n",
    "# lights = DirectionalLights(direction=[[0.0, 0.0, -1.0]], device=device)\n",
    "\n",
    "# # We arbitrarily choose one particular view that will be used to visualize \n",
    "# # results\n",
    "# # Changed to novel view\n",
    "# rand_elev = 45\n",
    "# rand_azim = 135\n",
    "# R_novel, T_novel = look_at_view_transform(dist=2.7, elev=rand_elev, azim=rand_azim)\n",
    "\n",
    "# camera = OpenGLPerspectiveCameras(device=device, R=R_novel, \n",
    "#                                   T=T_novel) \n",
    "\n",
    "\n",
    "# # camera = OpenGLPerspectiveCameras(device=device, R=R[None, 1, ...], \n",
    "# #                                   T=T[None, 1, ...]) \n",
    "\n",
    "# # Define the settings for rasterization and shading. Here we set the output \n",
    "# # image to be of size 128X128. As we are rendering images for visualization \n",
    "# # purposes only we will set faces_per_pixel=1 and blur_radius=0.0. Refer to \n",
    "# # rasterize_meshes.py for explanations of these parameters.  We also leave \n",
    "# # bin_size and max_faces_per_bin to their default values of None, which sets \n",
    "# # their values using heuristics and ensures that the faster coarse-to-fine \n",
    "# # rasterization method is used.  Refer to docs/notes/renderer.md for an \n",
    "# # explanation of the difference between naive and coarse-to-fine rasterization. \n",
    "# raster_settings = RasterizationSettings(\n",
    "#     image_size=imsize, \n",
    "#     blur_radius=0.0, \n",
    "#     faces_per_pixel=1, \n",
    "#     perspective_correct=False,\n",
    "# )\n",
    "\n",
    "# # Create a Phong renderer by composing a rasterizer and a shader. The textured \n",
    "# # Phong shader will interpolate the texture uv coordinates for each vertex, \n",
    "# # sample from a texture image and apply the Phong lighting model\n",
    "# mesh_to_render = meshes[0]\n",
    "# TBN_matrices = tbn_matrices(mesh_to_render)\n",
    "# renderer = MeshRenderer(\n",
    "#     rasterizer=MeshRasterizer(\n",
    "#         cameras=camera, \n",
    "#         raster_settings=raster_settings\n",
    "#     ),\n",
    "#     shader=NormalSoftPhongShader(\n",
    "#         device=device, \n",
    "#         cameras=camera,\n",
    "#         lights=lights,\n",
    "#         tangent_matrices=TBN_matrices,\n",
    "#     )\n",
    "# )\n",
    "# with torch.no_grad():\n",
    "#     random_target = renderer(mesh_to_render, cameras=camera, lights=lights)[...,:3]\n",
    "# plt.imshow(random_target.cpu().numpy()[0])"
   ]
  },
  {
   "cell_type": "code",
   "execution_count": 10,
   "metadata": {},
   "outputs": [],
   "source": [
    "# plt.figure(figsize=(7,7))\n",
    "# from pytorch3d.vis.texture_vis import texturesuv_image_matplotlib\n",
    "\n",
    "\n",
    "# texturesuv_image_matplotlib(mesh_to_render.normalmaps, subsample=None)\n",
    "\n",
    "# # print(texture_image.shape)\n",
    "# # plt.imshow(texture_image.squeeze().cpu().detach())\n",
    "# plt.axis(\"off\");"
   ]
  },
  {
   "cell_type": "code",
   "execution_count": 11,
   "metadata": {
    "colab": {},
    "colab_type": "code",
    "id": "CDQKebNNfBMI"
   },
   "outputs": [],
   "source": [
    "# the number of different viewpoints from which we want to render the mesh.\n",
    "def generate_training_data(R, T, TBN_matrices, target_mesh, imsize):\n",
    "    with torch.no_grad():\n",
    "        batch_views = 1\n",
    "        np.random.seed(random_seed)\n",
    "\n",
    "        num_views = len(R)\n",
    "\n",
    "        rand_elev = 45\n",
    "        rand_azim = 135\n",
    "        R_novel, T_novel = look_at_view_transform(dist=2.7, elev=rand_elev, azim=rand_azim)\n",
    "\n",
    "        camera = OpenGLPerspectiveCameras(device=device, R=R_novel, \n",
    "                                  T=T_novel) \n",
    "        # Define the settings for rasterization and shading. Here we set the output \n",
    "        # image to be of size 128X128. As we are rendering images for visualization \n",
    "        # purposes only we will set faces_per_pixel=1 and blur_radius=0.0. Refer to \n",
    "        # rasterize_meshes.py for explanations of these parameters.  We also leave \n",
    "        # bin_size and max_faces_per_bin to their default values of None, which sets \n",
    "        # their values using heuristics and ensures that the faster coarse-to-fine \n",
    "        # rasterization method is used.  Refer to docs/notes/renderer.md for an \n",
    "        # explanation of the difference between naive and coarse-to-fine rasterization. \n",
    "        raster_settings = RasterizationSettings(\n",
    "            image_size=imsize, \n",
    "            blur_radius=0.0, \n",
    "            faces_per_pixel=1, \n",
    "            perspective_correct=False,\n",
    "        )\n",
    "\n",
    "        # Create a Phong renderer by composing a rasterizer and a shader. The textured \n",
    "        # Phong shader will interpolate the texture uv coordinates for each vertex, \n",
    "        # sample from a texture image and apply the Phong lighting model\n",
    "        renderer = MeshRenderer(\n",
    "            rasterizer=MeshRasterizer(\n",
    "                cameras=camera, \n",
    "                raster_settings=raster_settings\n",
    "            ),\n",
    "            shader=NormalSoftPhongShader(\n",
    "                device=device, \n",
    "                cameras=camera,\n",
    "                lights=lights,\n",
    "                tangent_matrices=TBN_matrices,\n",
    "            )\n",
    "        )\n",
    "\n",
    "        # for i\n",
    "        # Create a batch of meshes by repeating the cow mesh and associated textures. \n",
    "        # Meshes has a useful `extend` method which allows us do this very easily. \n",
    "        # This also extends the textures. \n",
    "        meshes = target_mesh.extend(batch_views)\n",
    "        target_rgb = []\n",
    "        target_cameras = []\n",
    "        # Render small batches of target views on GPU and append to list to be later converted to CPU tensor\n",
    "        for i in range(num_views // batch_views):\n",
    "            # Create cameras for rendering the batch\n",
    "            cameras = OpenGLPerspectiveCameras(device=device, R=R[i*batch_views:(i+1)*batch_views], T=T[i*batch_views:(i+1)*batch_views])\n",
    "            # Render the cow mesh from each viewing angle\n",
    "            target_images_batch = renderer(meshes, cameras=cameras, lights=lights)\n",
    "\n",
    "            # Our multi-view cow dataset will be represented by these 2 lists of tensors,\n",
    "            # each of length num_views.\n",
    "            target_rgb_batch = [target_images_batch[i, ..., :3].cpu() for i in range(batch_views)]\n",
    "            target_cameras_batch = [OpenGLPerspectiveCameras(device=device, R=R[None, i, ...], \n",
    "                                                T=T[None, i, ...]) for i in range(i*batch_views,(i+1)*batch_views)]\n",
    "            target_rgb.extend(target_rgb_batch)\n",
    "            target_cameras.extend(target_cameras_batch)\n",
    "\n",
    "\n",
    "        # 50/50 split of views for train/test\n",
    "        target_rgb, test_rgb = train_test_split(target_rgb)\n",
    "        target_cameras, test_cameras = train_test_split(target_cameras)\n",
    "        random_target = renderer(target_mesh, cameras=camera, lights=lights)[...,:3]\n",
    "        return target_rgb, test_rgb, random_target, target_cameras, test_cameras, camera"
   ]
  },
  {
   "cell_type": "markdown",
   "metadata": {
    "colab_type": "text",
    "id": "TppB4PVmR1Rc"
   },
   "source": [
    "Visualize the dataset:"
   ]
  },
  {
   "cell_type": "code",
   "execution_count": 12,
   "metadata": {
    "colab": {},
    "colab_type": "code",
    "id": "HHE0CnbVR1Rd"
   },
   "outputs": [],
   "source": [
    "# # RGB images\n",
    "# print()\n",
    "# image_grid(np.asarray(target_rgb[:10]), rows=4, cols=5, rgb=True)\n",
    "# plt.show()"
   ]
  },
  {
   "cell_type": "markdown",
   "metadata": {
    "colab_type": "text",
    "id": "gOb4rYx65E8z"
   },
   "source": [
    "Later in this tutorial, we will fit a mesh to the rendered RGB images, as well as to just images of just the cow silhouette.  For the latter case, we will render a dataset of silhouette images.  Most shaders in PyTorch3D will output an alpha channel along with the RGB image as a 4th channel in an RGBA image.  The alpha channel encodes the probability that each pixel belongs to the foreground of the object.  We construct a soft silhouette shader to render this alpha channel."
   ]
  },
  {
   "cell_type": "code",
   "execution_count": 13,
   "metadata": {
    "colab": {},
    "colab_type": "code",
    "id": "iP_g-nwX4exM"
   },
   "outputs": [],
   "source": [
    "# # Rasterization settings for silhouette rendering  \n",
    "# sigma = 1e-4\n",
    "# raster_settings_silhouette = RasterizationSettings(\n",
    "#     image_size=imsize, \n",
    "#     blur_radius=np.log(1. / 1e-4 - 1.)*sigma, \n",
    "#     faces_per_pixel=50, \n",
    "#     perspective_correct=False,\n",
    "# )\n",
    "\n",
    "# # Silhouette renderer \n",
    "# renderer_silhouette = MeshRenderer(\n",
    "#     rasterizer=MeshRasterizer(\n",
    "#         cameras=camera, \n",
    "#         raster_settings=raster_settings_silhouette\n",
    "#     ),\n",
    "#     shader=SoftSilhouetteShader()\n",
    "# )\n",
    "\n",
    "# # # Render silhouette images.  The 3rd channel of the rendering output is \n",
    "# # # the alpha/silhouette channel\n",
    "# # silhouette_images = renderer_silhouette(meshes, cameras=cameras, lights=lights)\n",
    "# # print(silhouette_images.shape)\n",
    "# # target_silhouette = [silhouette_images[i, ..., 3] for i in range(num_views)]\n",
    "\n",
    "# # # Visualize silhouette images\n",
    "# # image_grid(silhouette_images.cpu().numpy(), rows=4, cols=5, rgb=False)\n",
    "# # plt.show()"
   ]
  },
  {
   "cell_type": "code",
   "execution_count": 14,
   "metadata": {
    "colab": {},
    "colab_type": "code",
    "id": "eeWYHROrR1Rh"
   },
   "outputs": [],
   "source": [
    "# Show a visualization comparing the rendered predicted mesh to the ground truth \n",
    "# mesh\n",
    "\n",
    "def visualize_prediction(predicted_mesh, fig_path, renderer, iters, \n",
    "                         target_image, title='', \n",
    "                         silhouette=False, camera=None):\n",
    "    inds = 3 if silhouette else range(3)\n",
    "    with torch.no_grad():\n",
    "        predicted_images = renderer(predicted_mesh, cameras=camera)\n",
    "    plt.figure(figsize=(20, 10))\n",
    "    plt.subplot(1, 2, 1)\n",
    "    plt.imshow(predicted_images[0, ..., inds].cpu().detach().numpy())\n",
    "    plt.axis(\"off\")\n",
    "\n",
    "    plt.subplot(1, 2, 2)\n",
    "    plt.imshow(target_image.squeeze().cpu().detach().numpy())\n",
    "    plt.title(f\"Mesh at iteration {iters:d} vs. target\")\n",
    "    plt.axis(\"off\")\n",
    "    if silhouette:\n",
    "        plt.savefig(os.path.join(fig_path, f\"silhouette_prediction_{iters:d}.png\"), bbox_inches=\"tight\")\n",
    "    else:\n",
    "        plt.savefig(os.path.join(fig_path, f\"prediction_{iters:d}.png\"), bbox_inches=\"tight\")\n",
    "\n",
    "\n",
    "def save_maps(mesh, fig_path, iters):\n",
    "    fig = plt.figure(figsize=(13, 5))\n",
    "    ax = fig.gca()\n",
    "    plt.imshow(mesh.textures.maps_padded().cpu().detach().squeeze())\n",
    "    plt.axis(\"off\");\n",
    "    plt.savefig(os.path.join(fig_path, f\"texture_{iters:d}.png\"), bbox_inches=\"tight\")\n",
    "    fig = plt.figure(figsize=(13, 5))\n",
    "    ax = fig.gca()\n",
    "    plt.imshow(mesh.normalmaps.maps_padded().cpu().detach().squeeze())\n",
    "    plt.axis(\"off\");\n",
    "    plt.savefig(os.path.join(fig_path, f\"normalmap_{iters:d}.png\"), bbox_inches=\"tight\")\n",
    "\n",
    "# Plot losses as a function of optimization iteration\n",
    "def plot_losses(losses, fig_path):\n",
    "    fig = plt.figure(figsize=(13, 5))\n",
    "    ax = fig.gca()\n",
    "    for k, l in losses.items():\n",
    "        ax.plot(l['values'], label=k + \" loss\")\n",
    "    ax.legend(fontsize=\"16\")\n",
    "    ax.set_xlabel(\"Iteration\", fontsize=\"16\")\n",
    "    ax.set_ylabel(\"Loss\", fontsize=\"16\")\n",
    "    ax.set_title(\"Loss vs iterations\", fontsize=\"16\")\n",
    "    plt.savefig(os.path.join(fig_path, \"losses.png\"), bbox_inches=\"tight\")\n"
   ]
  },
  {
   "cell_type": "code",
   "execution_count": null,
   "metadata": {},
   "outputs": [],
   "source": []
  },
  {
   "cell_type": "code",
   "execution_count": 15,
   "metadata": {},
   "outputs": [],
   "source": [
    "# Functions from my L4 project\n",
    "def to_geocentric(lat, lon):\n",
    "    \"\"\"\n",
    "    Converts a latitude longitude pair to geocentric X Y Z coordinates\n",
    "    \"\"\"\n",
    "    lat = np.radians(lat)\n",
    "    lon = np.radians(lon)\n",
    "    return np.array([np.cos(lat) * np.cos(lon), np.cos(lat) * np.sin(lon), np.sin(lat)])\n",
    "\n",
    "# lat lon but longitude is scaled to half to have a square representation\n",
    "def to_lat_lon(coords):\n",
    "    \"\"\"\n",
    "    Converts X Y Z geocentric coordinates into latitude and longitude\n",
    "    \"\"\"\n",
    "    return np.array([np.degrees(np.arcsin(coords[2])), np.degrees(np.arctan2(coords[1], coords[0]))])\n",
    "\n",
    "# Creating UVs for sphere using equirectangular projection with scaled v axis\n",
    "def generate_spherical_uvs(target_mesh):\n",
    "    sphere_verts = target_mesh.verts_packed()\n",
    "    xyz_to_u = torch.rad2deg(torch.arcsin(sphere_verts[:,2])) + 90\n",
    "    xyz_to_v = (torch.rad2deg(torch.atan2(sphere_verts[:,1], sphere_verts[:,0])) + 180) / 2 \n",
    "    print(xyz_to_u.shape, xyz_to_v.shape)\n",
    "    sphere_verts_uvs = torch.stack([xyz_to_u, xyz_to_v], dim=1) / 180\n",
    "    print(sphere_verts_uvs.shape, sphere_verts_uvs.max(), sphere_verts_uvs.min())\n",
    "    # need to solve seams somehow\n",
    "    # u = 0.5 + (torch.atan2(verts[:,0], verts[:,1])/(np.pi*2))\n",
    "    # v = 0.5 - (torch.arcsin(verts[:,2])/np.pi)\n",
    "    # uv_map = torch.stack([u,v], dim=1).unsqueeze(dim=0).to(device)\n",
    "    print(\"Target shapes faces: {}, verts: {}\".format(mesh.faces_padded().shape, mesh.verts_padded().shape, ))\n",
    "    print(\"Target shapes facesUVs: {}, vertsUVs: {}\".format(mesh.textures.faces_uvs_padded().shape,  mesh.textures.verts_uvs_padded().shape))\n",
    "    print(target_mesh.verts_packed().shape)\n",
    "    # target_mesh.verts_padded().map\n",
    "    plt.scatter(sphere_verts_uvs.cpu()[:,0], sphere_verts_uvs.cpu()[:,1], s=1)\n",
    "    plt.show()\n",
    "    target_mesh.textures = TexturesUV(mesh.textures.maps_padded(), faces_uvs=target_mesh.faces_packed().unsqueeze(0), verts_uvs=sphere_verts_uvs.unsqueeze(0))\n",
    "\n",
    "\n",
    "def generate_silhouette_training_data(target_mesh, R,T, batch_views=1):\n",
    "    with torch.no_grad():\n",
    "        R, _ = train_test_split(R)\n",
    "        T, _ = train_test_split(T)\n",
    "        num_views = len(R)\n",
    "        # Rasterization settings for silhouette rendering  \n",
    "        sigma = 1e-4\n",
    "        raster_settings_silhouette = RasterizationSettings(\n",
    "            image_size=imsize, \n",
    "            blur_radius=np.log(1. / 1e-4 - 1.)*sigma, \n",
    "            faces_per_pixel=50, \n",
    "            perspective_correct=False,\n",
    "        )\n",
    "\n",
    "        # Silhouette renderer \n",
    "        renderer_silhouette = MeshRenderer(\n",
    "            rasterizer=MeshRasterizer(\n",
    "                cameras=camera, \n",
    "                raster_settings=raster_settings_silhouette\n",
    "            ),\n",
    "            shader=SoftSilhouetteShader()\n",
    "        )\n",
    "\n",
    "        # Render silhouette images.  The 3rd channel of the rendering output is \n",
    "        # the alpha/silhouette channel\n",
    "        target_cameras = []\n",
    "        target_silhouette = []\n",
    "        silhouette_images = []\n",
    "        for i in range(num_views // batch_views):\n",
    "            # Create cameras for rendering the batch\n",
    "            cameras = OpenGLPerspectiveCameras(device=device, R=R[i*batch_views:(i+1)*batch_views], T=T[i*batch_views:(i+1)*batch_views])\n",
    "            # Render the cow mesh from each viewing angle\n",
    "            silhouette_images_batch = renderer_silhouette(target_mesh, cameras=cameras, lights=lights)\n",
    "            silhouette_images.extend(silhouette_images_batch.cpu())\n",
    "            # Our multi-view cow dataset will be represented by these 2 lists of tensors,\n",
    "            # each of length num_views.\n",
    "            target_silhouette_batch = [silhouette_images_batch[i, ..., 3].cpu() for i in range(batch_views)]\n",
    "            # target_cameras_batch = [OpenGLPerspectiveCameras(device=device, R=R[None, i, ...], \n",
    "                                                #    T=T[None, i, ...]) for i in range(i*batch_views,(i+1)*batch_views)]\n",
    "            target_silhouette.extend(target_silhouette_batch)\n",
    "            target_cameras_batch = [OpenGLPerspectiveCameras(device=device, R=R[None, i, ...], \n",
    "                                           T=T[None, i, ...]) for i in range(i*batch_views,(i+1)*batch_views)]\n",
    "            target_cameras.extend(target_cameras_batch)\n",
    "        # Visualize silhouette images\n",
    "        # print(np.asarray(target_silhouette[:10])[0].shape)\n",
    "        # image_grid(np.asarray(silhouette_images[:10]), rows=4, cols=5, rgb=False)\n",
    "        # plt.show()\n",
    "        return target_silhouette, target_cameras"
   ]
  },
  {
   "cell_type": "code",
   "execution_count": 16,
   "metadata": {},
   "outputs": [],
   "source": [
    "def mesh_prediction(target_mesh, R, T, fig_path, batch_views = 1):\n",
    "    print(\"Generating dataset\", end=\"\\r\")\n",
    "    target_silhouette, target_cameras = generate_silhouette_training_data(target_mesh, R,T)\n",
    "    print(\"Generating dataset done\")\n",
    "    # Rasterization settings for differentiable rendering, where the blur_radius\n",
    "    # initialization is based on Liu et al, 'Soft Rasterizer: A Differentiable \n",
    "    # Renderer for Image-based 3D Reasoning', ICCV 2019\n",
    "    sigma = 1e-4\n",
    "    raster_settings_soft = RasterizationSettings(\n",
    "        image_size=imsize, \n",
    "        blur_radius=np.log(1. / 1e-4 - 1.)*sigma, \n",
    "        faces_per_pixel=50, \n",
    "        perspective_correct=False,\n",
    "    )\n",
    "\n",
    "    # Silhouette renderer \n",
    "    renderer_silhouette = MeshRenderer(\n",
    "        rasterizer=MeshRasterizer(\n",
    "            cameras=camera, \n",
    "            raster_settings=raster_settings_soft\n",
    "        ),\n",
    "        shader=SoftSilhouetteShader()\n",
    "    )\n",
    "\n",
    "    # We initialize the source shape to be a sphere of radius 1.  \n",
    "    silhouette_src_mesh = ico_sphere(4, device)\n",
    "    # src_mesh = mesh.clone()\n",
    "    # Number of views to optimize over in each SGD iteration\n",
    "    num_views_per_iteration = 5\n",
    "    # Number of optimization steps\n",
    "    Niter = 1000\n",
    "    # Plot period for the losses\n",
    "    plot_period = 250\n",
    "\n",
    "    # %matplotlib inline\n",
    "\n",
    "    # Optimize using rendered silhouette image loss, mesh edge loss, mesh normal \n",
    "    # consistency, and mesh laplacian smoothing\n",
    "    losses = {\"silhouette\": {\"weight\": 1.0, \"values\": []},\n",
    "            \"edge\": {\"weight\": 1.0, \"values\": []},\n",
    "            \"normal\": {\"weight\": 0.01, \"values\": []},\n",
    "            \"laplacian\": {\"weight\": 1.0, \"values\": []},\n",
    "            }\n",
    "\n",
    "    # Losses to smooth / regularize the mesh shape\n",
    "    def update_mesh_shape_prior_losses(mesh, loss):\n",
    "        # and (b) the edge length of the predicted mesh\n",
    "        loss[\"edge\"] = mesh_edge_loss(mesh)\n",
    "        \n",
    "        # mesh normal consistency\n",
    "        loss[\"normal\"] = mesh_normal_consistency(mesh)\n",
    "        \n",
    "        # mesh laplacian smoothing\n",
    "        loss[\"laplacian\"] = mesh_laplacian_smoothing(mesh, method=\"uniform\")\n",
    "\n",
    "    # We will learn to deform the source mesh by offsetting its vertices\n",
    "    # The shape of the deform parameters is equal to the total number of vertices in\n",
    "    # src_mesh\n",
    "    verts_shape = silhouette_src_mesh.verts_packed().shape\n",
    "    deform_verts = torch.full(verts_shape, 0.0, device=device, requires_grad=True)\n",
    "\n",
    "    # The optimizer\n",
    "    optimizer = torch.optim.SGD([deform_verts], lr=1.0, momentum=0.9)\n",
    "    loop = tqdm(range(Niter))\n",
    "\n",
    "    for i in loop:\n",
    "        # Initialize optimizer\n",
    "        optimizer.zero_grad()\n",
    "        \n",
    "        # Deform the mesh\n",
    "        new_src_mesh = silhouette_src_mesh.offset_verts(deform_verts)\n",
    "        \n",
    "        # Losses to smooth /regularize the mesh shape\n",
    "        loss = {k: torch.tensor(0.0, device=device) for k in losses}\n",
    "        update_mesh_shape_prior_losses(new_src_mesh, loss)\n",
    "        \n",
    "        # Compute the average silhouette loss over two random views, as the average \n",
    "        # squared L2 distance between the predicted silhouette and the target \n",
    "        # silhouette from our dataset\n",
    "        for j in np.random.permutation(len(target_cameras)).tolist()[:num_views_per_iteration]:\n",
    "            images_predicted = renderer_silhouette(new_src_mesh, cameras=target_cameras[j], lights=lights)\n",
    "            predicted_silhouette = images_predicted[..., 3]\n",
    "            loss_silhouette = ((predicted_silhouette - target_silhouette[j].to(device)) ** 2).mean()\n",
    "            loss[\"silhouette\"] += loss_silhouette / num_views_per_iteration\n",
    "        \n",
    "        # Weighted sum of the losses\n",
    "        sum_loss = torch.tensor(0.0, device=device)\n",
    "        for k, l in loss.items():\n",
    "            sum_loss += l * losses[k][\"weight\"]\n",
    "            losses[k][\"values\"].append(float(l.detach().cpu()))\n",
    "\n",
    "        \n",
    "        # Print the losses\n",
    "        loop.set_description(\"total_loss = %.6f\" % sum_loss)\n",
    "        \n",
    "        # Plot mesh\n",
    "        if i % plot_period == 0:\n",
    "            visualize_prediction(new_src_mesh, fig_path, renderer=renderer_silhouette, iters=i, title=\"iter: %d\" % i, silhouette=True,\n",
    "                                target_image=target_silhouette[0], camera=target_cameras[0])\n",
    "            \n",
    "        # Optimization step\n",
    "        sum_loss.backward()\n",
    "        optimizer.step()\n",
    "    \n",
    "    silhouette_result = new_src_mesh.clone().detach()\n",
    "    return silhouette_result"
   ]
  },
  {
   "cell_type": "markdown",
   "metadata": {
    "colab_type": "text",
    "id": "t3qphI1ElUb5"
   },
   "source": [
    "## 3. Mesh prediction via silhouette rendering\n",
    "In the previous section, we created a dataset of images of multiple viewpoints of a cow.  In this section, we predict a mesh by observing those target images without any knowledge of the ground truth cow mesh.  We assume we know the position of the cameras and lighting.\n",
    "\n",
    "We first define some helper functions to visualize the results of our mesh prediction:"
   ]
  },
  {
   "cell_type": "markdown",
   "metadata": {
    "colab_type": "text",
    "id": "PpsvBpuMR1Ri"
   },
   "source": [
    "Starting from a sphere mesh, we will learn offsets of each vertex such that the predicted mesh silhouette is more similar to the target silhouette image at each optimization step.  We begin by loading our initial sphere mesh:"
   ]
  },
  {
   "cell_type": "code",
   "execution_count": 17,
   "metadata": {},
   "outputs": [],
   "source": [
    "# plt.figure(figsize=(7,7))\n",
    "# from pytorch3d.vis.texture_vis import texturesuv_image_matplotlib\n",
    "\n",
    "# # texture_image=src_mesh.textures.maps_padded()\n",
    "# texturesuv_image_matplotlib(silhouette_src_mesh.textures, subsample=None)\n",
    "\n",
    "# # print(texture_image.shape)\n",
    "# # plt.imshow(texture_image.squeeze().cpu().detach())\n",
    "# plt.axis(\"off\");"
   ]
  },
  {
   "cell_type": "markdown",
   "metadata": {
    "colab_type": "text",
    "id": "f5xVtgLNDvC5"
   },
   "source": [
    "We create a new differentiable renderer for rendering the silhouette of our predicted mesh:"
   ]
  },
  {
   "cell_type": "markdown",
   "metadata": {
    "colab_type": "text",
    "id": "SGJKbCB6R1Rk"
   },
   "source": [
    "We initialize settings, losses, and the optimizer that will be used to iteratively fit our mesh to the target silhouettes:"
   ]
  },
  {
   "cell_type": "markdown",
   "metadata": {
    "colab_type": "text",
    "id": "QLc9zK8lEqFS"
   },
   "source": [
    "We write an optimization loop to iteratively refine our predicted mesh from the sphere mesh into a mesh that matches the silhouettes of the target images:"
   ]
  },
  {
   "cell_type": "markdown",
   "metadata": {
    "colab_type": "text",
    "id": "XJDsJQmrR1Ro"
   },
   "source": [
    "## 3. Mesh and texture prediction via textured rendering\n",
    "We can predict both the mesh and its texture if we add an additional loss based on the comparing a predicted rendered RGB image to the target image. As before, we start with a sphere mesh.  We learn both translational offsets and RGB texture colors for each vertex in the sphere mesh.  Since our loss is based on rendered RGB pixel values instead of just the silhouette, we use a **SoftPhongShader** instead of a **SoftSilhouetteShader**."
   ]
  },
  {
   "cell_type": "markdown",
   "metadata": {
    "colab_type": "text",
    "id": "NM7gJux8GMQX"
   },
   "source": [
    "We initialize settings, losses, and the optimizer that will be used to iteratively fit our mesh to the target RGB images:"
   ]
  },
  {
   "cell_type": "markdown",
   "metadata": {
    "colab_type": "text",
    "id": "tzIAycuUR1Rq"
   },
   "source": [
    "We write an optimization loop to iteratively refine our predicted mesh and its vertex colors from the sphere mesh into a mesh that matches the target images:"
   ]
  },
  {
   "cell_type": "code",
   "execution_count": 18,
   "metadata": {},
   "outputs": [],
   "source": [
    "class ResConvTranspose(nn.Module):\n",
    "    layer = 0\n",
    "    def __init__(self, deconv, upsampler):\n",
    "        super().__init__()\n",
    "        self.module = deconv\n",
    "        self.upsampler = upsampler\n",
    "        self.weight = torch.nn.Parameter(deconv.weight)\n",
    "\n",
    "    def forward(self, inputs):\n",
    "        return self.module(inputs) + self.upsampler(inputs)\n",
    "\n",
    "class UnsqueezeLatent(nn.Module):\n",
    "    layer = 0\n",
    "    def __init__(self):\n",
    "        super().__init__()\n",
    "\n",
    "    def forward(self, inputs):\n",
    "        return torch.unsqueeze(torch.unsqueeze(inputs, 2), 3)\n",
    "\n",
    "def weights_init(m):\n",
    "    classname = m.__class__.__name__\n",
    "    if classname.find('Conv') != -1:\n",
    "        nn.init.normal_(m.weight.data, 0.0, 0.05)\n",
    "    elif classname.find('BatchNorm') != -1:\n",
    "        nn.init.normal_(m.weight.data, 1.0, 0.05)\n",
    "        nn.init.constant_(m.bias.data, 0)\n",
    "\n",
    "\n",
    "\n",
    "# Texture generator Code\n",
    "class Generator(nn.Module):\n",
    "    def __init__(self, ngpu, ngf = 32, nc=3, nz=100, type = \"normal\"):\n",
    "        super(Generator, self).__init__()\n",
    "        self.type = type\n",
    "        self.ngpu = ngpu\n",
    "        self.deconv = nn.Sequential(\n",
    "            # Testing convoluting target image first \n",
    "            # input is (nc) x 128 x 128\n",
    "            nn.Conv2d(nc, ngf, 4, 2, 1, bias=False),\n",
    "            nn.LeakyReLU(0.2, inplace=True),\n",
    "            # nn.Dropout2d(p=0.25),\n",
    "            # state size. (ndf) x 64 x 64\n",
    "            nn.Conv2d(ngf, ngf * 2, 4, 2, 1, bias=False),\n",
    "            nn.BatchNorm2d(ngf * 2),\n",
    "            nn.LeakyReLU(0.2, inplace=True),\n",
    "            # nn.Dropout2d(p=0.25),\n",
    "            # state size. (ndf*2) x 32 x 32\n",
    "            nn.Conv2d(ngf * 2, ngf * 4, 4, 2, 1, bias=False),\n",
    "            nn.BatchNorm2d(ngf * 4),\n",
    "            nn.LeakyReLU(0.2, inplace=True),\n",
    "            # state size. (ndf*4) x 16 x 16\n",
    "            nn.Flatten(),\n",
    "            nn.Linear(ngf * 4 * 16*16, nz),\n",
    "            UnsqueezeLatent(),\n",
    "        )\n",
    "        self.tanh = nn.Tanh()           \n",
    "        self.upsampler = nn.Upsample(scale_factor=8, mode='bilinear')\n",
    "        self.normal_generator = nn.Sequential(\n",
    "            nn.ConvTranspose2d( ngf, nc, 4, 4, 0, bias=False),\n",
    "            nn.ReLU(True),\n",
    "            nn.ConvTranspose2d( nc, nc, 3, 1, 1, bias=False),\n",
    "        )\n",
    "        self.texture_generator = nn.Sequential(\n",
    "            nn.ConvTranspose2d( ngf, nc, 4, 4, 0, bias=False),\n",
    "            nn.ReLU(True),\n",
    "            nn.ConvTranspose2d( nc, nc, 3, 1, 1, bias=False),\n",
    "        )\n",
    "\n",
    "        if type == \"normal\":\n",
    "            self.generator = nn.Sequential(\n",
    "                # input is Z, going into a convolution\n",
    "                nn.ConvTranspose2d( nz, ngf * 8, 4, 1, 0, bias=False),\n",
    "                # nn.BatchNorm2d(ngf * 8),\n",
    "                nn.ReLU(True),\n",
    "                # nn.Dropout2d(p=0.25),\n",
    "                # state size. (ngf*8) x 4 x 4\n",
    "                nn.ConvTranspose2d(ngf * 8, ngf * 4, 4, 2, 1, bias=False),\n",
    "                # ResConvTranspose(nn.ConvTranspose2d(ngf, ngf, 4, 2, 1, bias=False),nn.Upsample(scale_factor=2, mode='bilinear')),\n",
    "                # nn.BatchNorm2d(ngf * 4),\n",
    "                nn.ReLU(True),\n",
    "                # nn.Dropout2d(p=0.25),\n",
    "                # state size. (ngf*4) x 8 x 8\n",
    "                nn.ConvTranspose2d( ngf * 4, ngf * 2, 4, 2, 1, bias=False),\n",
    "                # ResConvTranspose(nn.ConvTranspose2d( ngf, ngf, 4, 2, 1, bias=False),nn.Upsample(scale_factor=2, mode='bilinear')),\n",
    "                # nn.BatchNorm2d(ngf * 2),\n",
    "                nn.ReLU(True),\n",
    "                # nn.Dropout2d(p=0.25),\n",
    "                # state size. (ngf*2) x 16 x 16\n",
    "                nn.ConvTranspose2d( ngf * 2, ngf, 4, 2, 1, bias=False),\n",
    "                # ResConvTranspose(nn.ConvTranspose2d( ngf, ngf, 4, 2, 1, bias=False),nn.Upsample(scale_factor=2, mode='bilinear')),\n",
    "                # nn.BatchNorm2d(ngf),\n",
    "                nn.ReLU(True),\n",
    "                # nn.Dropout2d(p=0.25),\n",
    "                # state size. (ngf) x 32 x 32\n",
    "                # nn.ConvTranspose2d( ngf, ngf//2, 4, 2, 1, bias=False),\n",
    "                # nn.BatchNorm2d(ngf//2),\n",
    "                # nn.ReLU(True),\n",
    "                # nn.Dropout2d(),\n",
    "                # state size. (ngf) x 64 x 64\n",
    "                nn.ConvTranspose2d( ngf, nc, 4, 4, 0, bias=False),\n",
    "                nn.Tanh(),\n",
    "                # nn.Upsample(scale_factor=4, mode='bilinear')\n",
    "                # state size. (nc) x 128 x 128\n",
    "            )\n",
    "        elif type == \"residual\":\n",
    "            self.generator =  nn.Sequential(\n",
    "            # input is Z, going into a convolution\n",
    "            nn.ConvTranspose2d( nz, ngf, 4, 1, 0, bias=False),\n",
    "            # nn.BatchNorm2d(ngf * 8),\n",
    "            nn.ReLU(True),\n",
    "            # nn.Dropout2d(p=0.25),\n",
    "            # state size. (ngf*8) x 4 x 4\n",
    "            ResConvTranspose(nn.ConvTranspose2d(ngf, ngf, 4, 2, 1, bias=False),nn.Upsample(scale_factor=2, mode='bilinear')),\n",
    "            # nn.BatchNorm2d(ngf * 4),\n",
    "            nn.ReLU(True),\n",
    "            # nn.Dropout2d(p=0.25),\n",
    "            # state size. (ngf*4) x 8 x 8\n",
    "            ResConvTranspose(nn.ConvTranspose2d( ngf, ngf, 4, 2, 1, bias=False),nn.Upsample(scale_factor=2, mode='bilinear')),\n",
    "            # nn.BatchNorm2d(ngf * 2),\n",
    "            nn.ReLU(True),\n",
    "            # nn.Dropout2d(p=0.25),\n",
    "            # state size. (ngf*2) x 16 x 16\n",
    "            ResConvTranspose(nn.ConvTranspose2d( ngf, ngf, 4, 2, 1, bias=False),nn.Upsample(scale_factor=2, mode='bilinear')),\n",
    "            # nn.BatchNorm2d(ngf),\n",
    "            nn.ReLU(True),\n",
    "            # nn.Dropout2d(p=0.25),\n",
    "            # state size. (ngf) x 32 x 32\n",
    "            # nn.ConvTranspose2d( ngf, ngf//2, 4, 2, 1, bias=False),\n",
    "            # nn.BatchNorm2d(ngf//2),\n",
    "            # nn.ReLU(True),\n",
    "            # nn.Dropout2d(),\n",
    "            # state size. (ngf) x 64 x 64\n",
    "            nn.ConvTranspose2d( ngf, nc, 4, 4, 0, bias=False),\n",
    "            nn.Tanh(),\n",
    "            # nn.Upsample(scale_factor=4, mode='bilinear')\n",
    "            # state size. (nc) x 128 x 128\n",
    "        )\n",
    "        elif type == \"simultaneous\":\n",
    "            self.generator = nn.Sequential(\n",
    "                # input is Z, going into a convolution\n",
    "                nn.ConvTranspose2d( nz, ngf * 8, 4, 1, 0, bias=False),\n",
    "                # nn.BatchNorm2d(ngf * 8),\n",
    "                nn.ReLU(True),\n",
    "                # nn.Dropout2d(p=0.25),\n",
    "                # state size. (ngf*8) x 4 x 4\n",
    "                nn.ConvTranspose2d(ngf * 8, ngf * 4, 4, 2, 1, bias=False),\n",
    "                # ResConvTranspose(nn.ConvTranspose2d(ngf, ngf, 4, 2, 1, bias=False),nn.Upsample(scale_factor=2, mode='bilinear')),\n",
    "                # nn.BatchNorm2d(ngf * 4),\n",
    "                nn.ReLU(True),\n",
    "                # nn.Dropout2d(p=0.25),\n",
    "                # state size. (ngf*4) x 8 x 8\n",
    "                nn.ConvTranspose2d( ngf * 4, ngf * 2, 4, 2, 1, bias=False),\n",
    "                # ResConvTranspose(nn.ConvTranspose2d( ngf, ngf, 4, 2, 1, bias=False),nn.Upsample(scale_factor=2, mode='bilinear')),\n",
    "                # nn.BatchNorm2d(ngf * 2),\n",
    "                nn.ReLU(True),\n",
    "                # nn.Dropout2d(p=0.25),\n",
    "                # state size. (ngf*2) x 16 x 16\n",
    "                nn.ConvTranspose2d( ngf * 2, ngf, 4, 2, 1, bias=False),\n",
    "                # ResConvTranspose(nn.ConvTranspose2d( ngf, ngf, 4, 2, 1, bias=False),nn.Upsample(scale_factor=2, mode='bilinear')),\n",
    "                # nn.BatchNorm2d(ngf),\n",
    "                nn.ReLU(True),\n",
    "                # nn.Dropout2d(p=0.25),\n",
    "                # state size. (ngf) x 32 x 32\n",
    "                # nn.ConvTranspose2d( ngf, ngf//2, 4, 2, 1, bias=False),\n",
    "                # nn.BatchNorm2d(ngf//2),\n",
    "                # nn.ReLU(True),\n",
    "                # nn.Dropout2d(),\n",
    "                # state size. (ngf) x 64 x 64\n",
    "                # nn.ConvTranspose2d( ngf, nc, 4, 4, 0, bias=False),\n",
    "                # nn.Upsample(scale_factor=4, mode='bilinear')\n",
    "                # state size. (nc) x 128 x 128\n",
    "            )\n",
    "\n",
    "    def forward(self, input):\n",
    "        if self.type == \"simultaneous\":\n",
    "            result = self.generator(input)\n",
    "            return self.upsampler(self.tanh(self.texture_generator(result))), self.upsampler(self.tanh(self.normal_generator(result)))\n",
    "        else: \n",
    "            return self.generator(input)\n",
    "\n"
   ]
  },
  {
   "cell_type": "code",
   "execution_count": 19,
   "metadata": {},
   "outputs": [],
   "source": [
    "# Discriminator code\n",
    "class Discriminator(nn.Module):\n",
    "    def __init__(self, ngpu, nc, ndf):\n",
    "        super(Discriminator, self).__init__()\n",
    "        self.ngpu = ngpu\n",
    "        self.main = nn.Sequential(\n",
    "            # input is (nc) x 128 x 128\n",
    "            nn.Conv2d(nc, ndf, 4, 2, 1, bias=False),\n",
    "            nn.LeakyReLU(0.2, inplace=True),\n",
    "            # nn.Dropout2d(p=0.25),\n",
    "            # state size. (ndf) x 64 x 64\n",
    "            nn.Conv2d(ndf, ndf * 2, 4, 2, 1, bias=False),\n",
    "            nn.BatchNorm2d(ndf * 2),\n",
    "            nn.LeakyReLU(0.2, inplace=True),\n",
    "            # nn.Dropout2d(p=0.25),\n",
    "            # state size. (ndf*2) x 32 x 32\n",
    "            nn.Conv2d(ndf * 2, ndf * 4, 4, 2, 1, bias=False),\n",
    "            nn.BatchNorm2d(ndf * 4),\n",
    "            nn.LeakyReLU(0.2, inplace=True),\n",
    "            # nn.Dropout2d(p=0.25),\n",
    "            # state size. (ndf*4) x 16 x 16\n",
    "            nn.Conv2d(ndf * 4, ndf * 8, 4, 2, 1, bias=False),\n",
    "            nn.BatchNorm2d(ndf * 8),\n",
    "            nn.LeakyReLU(0.2, inplace=True),\n",
    "            # nn.Dropout2d(p=0.25),\n",
    "            nn.Conv2d(ndf * 8, ndf * 16, 4, 2, 1, bias=False),\n",
    "            # state size. (ndf*8) x 8 x 8\n",
    "            nn.BatchNorm2d(ndf * 16),\n",
    "            nn.LeakyReLU(0.2, inplace=True),\n",
    "            # state size. (ndf*16) x 4 x 4\n",
    "            nn.Conv2d(ndf * 16, 1, 4, 1, 0, bias=False),\n",
    "            nn.Sigmoid()\n",
    "        )\n",
    "\n",
    "    def forward(self, input):\n",
    "        return self.main(input)"
   ]
  },
  {
   "cell_type": "code",
   "execution_count": 20,
   "metadata": {},
   "outputs": [],
   "source": [
    "def map_prediction(target_mesh, starting_mesh, fig_path, R, T):\n",
    "    print(\"Generating dataset\", end=\"\\r\")\n",
    "    TBN_matrices = tbn_matrices(target_mesh)\n",
    "    target_rgb, test_rgb, random_target, target_cameras, test_cameras, camera = generate_training_data(R, T, TBN_matrices, target_mesh, imsize)\n",
    "    print(\"Generating dataset done\")\n",
    "\n",
    "    # Rasterization settings for differentiable rendering, where the blur_radius\n",
    "    # initialization is based on Liu et al, 'Soft Rasterizer: A Differentiable \n",
    "    # Renderer for Image-based 3D Reasoning', ICCV 2019\n",
    "\n",
    "    sigma = 1e-4\n",
    "    raster_settings_soft = RasterizationSettings(\n",
    "        image_size=imsize, \n",
    "        blur_radius=np.log(1. / 1e-4 - 1.)*sigma, \n",
    "        faces_per_pixel=50, \n",
    "        perspective_correct=False,\n",
    "    )\n",
    "\n",
    "    new_TBN_matrices = tbn_matrices(starting_mesh)\n",
    "    # Differentiable soft renderer using per vertex RGB colors for texture\n",
    "    renderer_textured = MeshRenderer(\n",
    "        rasterizer=MeshRasterizer(\n",
    "            cameras=camera, \n",
    "            raster_settings=raster_settings_soft\n",
    "        ),\n",
    "        shader=NormalSoftPhongShader(device=device, \n",
    "            cameras=camera,\n",
    "            lights=lights,\n",
    "            tangent_matrices=new_TBN_matrices)\n",
    "    )\n",
    "\n",
    "    map_losses = {\n",
    "            \"rgb\": {\"weight\": 1.0, \"values\": []},\n",
    "            # \"adversarial\": {\"weight\": 0.01, \"values\": []},\n",
    "            \"smoothness\":{\"weight\":0.1, \"values\": []},\n",
    "            \"normal_smoothness\":{\"weight\":0.1, \"values\": []}\n",
    "            }\n",
    "    losses_gan = {\n",
    "            \"generator\": {\"weight\": 1.0, \"values\": []},\n",
    "            \"discriminator\":{\"weight\":1.0, \"values\": []}\n",
    "\n",
    "    }\n",
    "\n",
    "    faces_uvs = starting_mesh.textures.faces_uvs_padded()\n",
    "    uv_map = starting_mesh.textures.verts_uvs_padded()\n",
    "\n",
    "    # Number of views to optimize over in each SGD iteration\n",
    "    num_views_per_iteration = min(2, num_views)\n",
    "    # Number of optimization steps\n",
    "    Niter = 2000\n",
    "    # Plot period for the losses\n",
    "    plot_period = Niter // 5\n",
    "\n",
    "    loop = tqdm(range(Niter))\n",
    "    # maps = [sphere_verts_rgb.detach().cpu()]\n",
    "\n",
    "\n",
    "    # Adversarial loss from https://pytorch.org/tutorials/beginner/dcgan_faces_tutorial.html\n",
    "    nc = 3\n",
    "    ndf = 32\n",
    "    ngf = 32\n",
    "    nz = 100\n",
    "\n",
    "    # Create discriminator for adversarial loss\n",
    "    ngpu = 1\n",
    "    workers = 2\n",
    "    lr = 0.001\n",
    "    beta1 = 0.3\n",
    "    bce_loss = nn.BCELoss()\n",
    "    # netD = Discriminator(ngpu).to(device)\n",
    "    # netD.apply(weights_init)\n",
    "    # real_label = 1.\n",
    "    # fake_label = 0.\n",
    "    # optimizerD = torch.optim.SGD(netD.parameters(), lr=lr)\n",
    "\n",
    "\n",
    "    # Create the generator\n",
    "    netG = Generator(ngpu, ngf, nc, nz, \"simultaneous\").to(device)\n",
    "    # Apply the weights_init function to randomly initialize all weights\n",
    "    #  to mean=0, stdev=0.02.\n",
    "    netG.apply(weights_init)\n",
    "\n",
    "    # Need to create UV map for the sphere and optimize that together with the texture\n",
    "    # The optimizer\n",
    "    # maps_src_mesh.textures = TexturesUV(sphere_verts_rgb, faces_uvs=faces_uvs, verts_uvs=uv_map)\n",
    "\n",
    "    # Need to create UV map for the sphere and optimize that together with the texture\n",
    "    scale_factor = 1\n",
    "    texture_size = list(target_mesh.textures.maps_padded().shape)\n",
    "    texture_size[1] //= scale_factor\n",
    "    texture_size[2] //= scale_factor\n",
    "\n",
    "    print(\"Texture Size: {}\".format(texture_size))\n",
    "    # sphere_verts_rgb = torch.zeros(texture_size, device=device, requires_grad=True)\n",
    "    # optimizer = torch.optim.Adam([sphere_verts_rgb], lr=0.001)\n",
    "\n",
    "    # sphere_verts_rgb = src_mesh.textures.maps_padded()\n",
    "    # sphere_verts_rgb.requires_grad = True\n",
    "    # The optimizer\n",
    "    optimizerG = torch.optim.Adam(netG.parameters(), lr=lr, betas=(beta1, 0.999))\n",
    "    random_vector = torch.randn(1, nz, 1, 1, device=device) * 0.5\n",
    "    # print(random_vector.shape)\n",
    "    # sphere_verts_rgb = netG(target_rgb[0].to(device).unsqueeze(0).permute(0,3,1,2)).permute(0,2,3,1)\n",
    "    sphere_verts_rgb, normal_map_base = netG(random_vector)\n",
    "    zero_dims = texture_size[:3]\n",
    "    zero_dims.append(2)\n",
    "    ones_dims = texture_size[:3]\n",
    "    ones_dims.append(1)\n",
    "    # begin with a flat normal map and just offset it using the generator by a small amount\n",
    "    normal_map_flat = torch.cat([torch.ones(zero_dims).to(device)*0.5, torch.ones(ones_dims).to(device)], dim=3)\n",
    "    # normal_map_base.requires_grad = True\n",
    "    # optimizerNorm = torch.optim.Adam([normal_map_base], lr=lr, betas=(beta1, 0.999))\n",
    "\n",
    "\n",
    "    maps_src_mesh = starting_mesh\n",
    "    maps_src_mesh.textures = TexturesUV(sphere_verts_rgb.permute(0,2,3,1), faces_uvs=faces_uvs, verts_uvs=uv_map)\n",
    "    maps_src_mesh.normalmaps = TexturesUV(normal_map_flat, faces_uvs=faces_uvs, verts_uvs=uv_map)\n",
    "    # print(maps_src_mesh.normalmaps.maps_padded().shape)\n",
    "\n",
    "    # Cosine similarity loss for normal map\n",
    "    cos_similarity = torch.nn.CosineSimilarity(dim=3)\n",
    "\n",
    "\n",
    "    # period to evaluate mesh against test views with normal rasterization\n",
    "    eval_period = 20\n",
    "    mse_iters = []\n",
    "\n",
    "    for i in loop:\n",
    "        transform_range_horizontal = 5/sphere_verts_rgb.shape[2]\n",
    "        transform_range_vertical = 5/sphere_verts_rgb.shape[3]\n",
    "        transform = RandomAffine(0, translate=(transform_range_horizontal,transform_range_vertical))\n",
    "        # Initialize optimizer\n",
    "        optimizerG.zero_grad()\n",
    "        \n",
    "        # Deform the mesh\n",
    "        # maps_src_mesh = src_mesh.offset_verts(deform_verts)\n",
    "        \n",
    "        # Add per vertex colors to texture the mesh\n",
    "        # TODO create UV map for faces and vertices for the default sphere\n",
    "\n",
    "        # sphere_verts_rgb = netG(target_rgb[i % len(target_rgb)].to(device).unsqueeze(0).permute(0,3,1,2)).permute(0,2,3,1) #- for generator network\n",
    "        sphere_verts_rgb, normal_map_base = netG(random_vector)\n",
    "        maps_src_mesh.textures = TexturesUV(sphere_verts_rgb.permute(0,2,3,1), faces_uvs=faces_uvs, verts_uvs=uv_map)\n",
    "        new_normal_map = normal_map_base.permute(0,2,3,1) * 0.25 + normal_map_flat * 0.75\n",
    "        # new_normal_map = normal_map_flat\n",
    "        maps_src_mesh.normalmaps = TexturesUV(new_normal_map, faces_uvs=faces_uvs, verts_uvs=uv_map)\n",
    "\n",
    "        # Losses to smooth /regularize the mesh shape\n",
    "        map_loss = {k: torch.tensor(0.0, device=device) for k in map_losses}\n",
    "        # update_mesh_shape_prior_losses(maps_src_mesh, loss)\n",
    "        # loss_gan = {k: torch.tensor(0.0, device=device) for k in losses_gan}\n",
    "\n",
    "        # Randomly select two views to optimize over in this iteration.  Compared\n",
    "        # to using just one view, this helps resolve ambiguities between updating\n",
    "        # mesh shape vs. updating mesh texture\n",
    "        rendered_rgb = []\n",
    "\n",
    "        # Getting examples from renderer as the Generator\n",
    "        random_views = np.random.permutation(len(target_cameras)).tolist()[:num_views_per_iteration]\n",
    "        for j in random_views:\n",
    "            images_predicted = renderer_textured(maps_src_mesh, cameras=target_cameras[j], lights=lights)\n",
    "\n",
    "            \n",
    "            # Squared L2 distance between the predicted RGB image and the target \n",
    "            predicted_rgb = images_predicted[..., :3]\n",
    "            rendered_rgb.append(predicted_rgb.squeeze())\n",
    "            loss_rgb = ((predicted_rgb - target_rgb[j].to(device)) ** 2).mean()\n",
    "\n",
    "            # Shifted image to get the image to be smoother/gradient between pixels to be smoother\n",
    "            smoothness = ((sphere_verts_rgb - transform(sphere_verts_rgb))**2).mean()\n",
    "            normal_smoothness = torch.abs(cos_similarity(maps_src_mesh.normalmaps.maps_padded(), transform(maps_src_mesh.normalmaps.maps_padded())).mean())\n",
    "            # print(normal_smoothness)\n",
    "\n",
    "            map_loss[\"rgb\"] += loss_rgb / num_views_per_iteration\n",
    "            map_loss[\"smoothness\"] += smoothness / num_views_per_iteration\n",
    "            map_loss[\"normal_smoothness\"] += normal_smoothness / num_views_per_iteration\n",
    "\n",
    "        # Weighted sum of the losses\n",
    "        map_sum_loss = torch.tensor(0.0, device=device)\n",
    "        for k, l in map_loss.items():\n",
    "            map_sum_loss += l * map_losses[k][\"weight\"]\n",
    "            map_losses[k][\"values\"].append(float(l.detach().cpu()))\n",
    "        loop.set_description(\"total_loss = %.6f\" % map_sum_loss)\n",
    "\n",
    "\n",
    "        # for k, l in loss_gan.items():\n",
    "            # losses_gan[k][\"values\"].append(float(l.detach().cpu()))\n",
    "        # Print the losses\n",
    "        \n",
    "        # Plot mesh\n",
    "        if i % plot_period == 0:\n",
    "            visualize_prediction(maps_src_mesh, fig_path=fig_path, renderer=renderer_textured, iters=i, title=\"iter: %d\" % i, silhouette=False, camera=camera, target_image=random_target)\n",
    "            save_maps(maps_src_mesh, fig_path, i)\n",
    "            # maps.append(sphere_verts_rgb.detach().cpu())\n",
    "\n",
    "        # Optimization step\n",
    "        map_sum_loss.backward()\n",
    "        optimizerG.step()\n",
    "\n",
    "        \n",
    "        if i % eval_period == 0:\n",
    "            mse_iters.append(evaluate_model(maps_src_mesh, new_TBN_matrices, test_cameras, test_rgb))\n",
    "\n",
    "    fig = plt.figure(figsize=(13, 5))\n",
    "    plt.plot(torch.arange(0, Niter, 20)[1:], torch.tensor(mse_iters[1:]).cpu())\n",
    "    plt.xlabel(\"Iterations\")\n",
    "    plt.ylabel(\"MSE on test views\")\n",
    "    plt.savefig(os.path.join(fig_path, \"test_MSE.png\"), bbox_inches=\"tight\")\n",
    "\n"
   ]
  },
  {
   "cell_type": "code",
   "execution_count": 21,
   "metadata": {},
   "outputs": [],
   "source": [
    "def evaluate_model(eval_mesh, TBN_matrices, test_cameras, test_rgb):\n",
    "    with torch.no_grad():\n",
    "        # Define the settings for rasterization and shading. Here we set the output \n",
    "        # image to be of size 128X128. As we are rendering images for visualization \n",
    "        # purposes only we will set faces_per_pixel=1 and blur_radius=0.0. Refer to \n",
    "        # rasterize_meshes.py for explanations of these parameters.  We also leave \n",
    "        # bin_size and max_faces_per_bin to their default values of None, which sets \n",
    "        # their values using heuristics and ensures that the faster coarse-to-fine \n",
    "        # rasterization method is used.  Refer to docs/notes/renderer.md for an \n",
    "        # explanation of the difference between naive and coarse-to-fine rasterization. \n",
    "        raster_settings = RasterizationSettings(\n",
    "            image_size=imsize, \n",
    "            blur_radius=0.0, \n",
    "            faces_per_pixel=1, \n",
    "            perspective_correct=False,\n",
    "        )\n",
    "\n",
    "        # Create a Phong renderer by composing a rasterizer and a shader. The textured \n",
    "        # Phong shader will interpolate the texture uv coordinates for each vertex, \n",
    "        # sample from a texture image and apply the Phong lighting model\n",
    "        renderer = MeshRenderer(\n",
    "            rasterizer=MeshRasterizer(\n",
    "                cameras=camera, \n",
    "                raster_settings=raster_settings\n",
    "            ),\n",
    "            shader=NormalSoftPhongShader(\n",
    "                device=device, \n",
    "                cameras=test_cameras,\n",
    "                lights=lights,\n",
    "                tangent_matrices=TBN_matrices,\n",
    "            )\n",
    "        )\n",
    "\n",
    "        image_MSE = 0\n",
    "        # Calculate RGB loss for each view point in test set\n",
    "        for j in range(len(test_cameras)):\n",
    "            image_predicted = renderer(eval_mesh, cameras=test_cameras[j], lights=lights,)\n",
    "\n",
    "            # Squared L2 distance between the predicted RGB image and the target \n",
    "            predicted_rgb = image_predicted[..., :3]\n",
    "            predicted_rgb.squeeze()\n",
    "            image_MSE += ((predicted_rgb - test_rgb[j].to(device)) ** 2).mean()\n",
    "        mean_MSE = image_MSE / len(test_cameras)\n",
    "        # visualize_prediction(eval_mesh, renderer=renderer, camera=test_cameras[1], silhouette=False,target_image = test_rgb[1])\n",
    "\n",
    "        return mean_MSE\n",
    "    # print(mean_MSE)\n",
    "\n",
    "# print(evaluate_model())"
   ]
  },
  {
   "cell_type": "code",
   "execution_count": 22,
   "metadata": {},
   "outputs": [
    {
     "name": "stderr",
     "output_type": "stream",
     "text": [
      "/mnt/c/Projects/deepstimate/pytorch3d/pytorch3d/datasets/shapenet/shapenet_core.py:114: UserWarning: The following categories are included in ShapeNetCore ver.2's official mapping but not found in the dataset location ./data/ShapeNetsamples: 04225987, 03593526, 03691459, 03928116, 04379243, 03636649, 03337140, 02801938, 03624134, 02871439, 02954340, 03761084, 03046257, 03759954, 02933112, 02876657, 02958343, 04330267, 04004475, 03642806, 02992529, 04554684, 03948459, 02942699, 03085013, 02808440, 02924116, 04090263, 04530566, 04074963, 03261776, 02828884, 03211117, 03467517, 03325088, 03513137, 03991062, 04401088, 04256520, 03797390, 02880940, 04099429, 03710193, 02946921, 04468005, 03001627, 02691156, 03207941, 03790512, 02818832, 02773838, 02747177, 02843684, 03938244\n",
      "  warnings.warn(msg)\n"
     ]
    },
    {
     "name": "stdout",
     "output_type": "stream",
     "text": [
      "Generating mesh number 0\r"
     ]
    },
    {
     "name": "stderr",
     "output_type": "stream",
     "text": [
      "/mnt/c/Projects/deepstimate/pytorch3d/pytorch3d/io/mtl_io.py:101: UserWarning: Texture UV coordinates outside the range [0, 1].                 The integer part will be ignored to form a repeating pattern.\n",
      "  warnings.warn(msg)\n"
     ]
    },
    {
     "name": "stdout",
     "output_type": "stream",
     "text": [
      "Finished generating meshes\n",
      "Predicting mesh\n",
      "Generating dataset\r"
     ]
    },
    {
     "name": "stderr",
     "output_type": "stream",
     "text": [
      "/mnt/c/Projects/deepstimate/pytorch3d/pytorch3d/transforms/transform3d.py:782: UserWarning: R is not a valid rotation matrix\n",
      "  warnings.warn(msg)\n"
     ]
    },
    {
     "name": "stdout",
     "output_type": "stream",
     "text": [
      "Generating dataset done\n"
     ]
    },
    {
     "data": {
      "application/vnd.jupyter.widget-view+json": {
       "model_id": "7c01bd0aafdb429a83d7d6c7d6396ed7",
       "version_major": 2,
       "version_minor": 0
      },
      "text/plain": [
       "  0%|          | 0/1000 [00:00<?, ?it/s]"
      ]
     },
     "metadata": {},
     "output_type": "display_data"
    },
    {
     "name": "stdout",
     "output_type": "stream",
     "text": [
      "Predicting mesh maps\n",
      "Generating dataset done\n"
     ]
    },
    {
     "data": {
      "application/vnd.jupyter.widget-view+json": {
       "model_id": "bb1d39d8591a4b7faab88ed6d26bf5d6",
       "version_major": 2,
       "version_minor": 0
      },
      "text/plain": [
       "  0%|          | 0/2000 [00:00<?, ?it/s]"
      ]
     },
     "metadata": {},
     "output_type": "display_data"
    },
    {
     "name": "stdout",
     "output_type": "stream",
     "text": [
      "Texture Size: [1, 1024, 1024, 3]\n"
     ]
    },
    {
     "name": "stderr",
     "output_type": "stream",
     "text": [
      "/home/theycallmepeter/anaconda3/envs/pytorch3d/lib/python3.8/site-packages/torch/nn/functional.py:3451: UserWarning: Default upsampling behavior when mode=bilinear is changed to align_corners=False since 0.4.0. Please specify align_corners=True if the old behavior is desired. See the documentation of nn.Upsample for details.\n",
      "  warnings.warn(\n",
      "Clipping input data to the valid range for imshow with RGB data ([0..1] for floats or [0..255] for integers).\n"
     ]
    },
    {
     "ename": "KeyboardInterrupt",
     "evalue": "",
     "output_type": "error",
     "traceback": [
      "\u001b[0;31m---------------------------------------------------------------------------\u001b[0m",
      "\u001b[0;31mKeyboardInterrupt\u001b[0m                         Traceback (most recent call last)",
      "\u001b[0;32m/tmp/ipykernel_11406/2818907473.py\u001b[0m in \u001b[0;36m<module>\u001b[0;34m\u001b[0m\n\u001b[1;32m     67\u001b[0m     \u001b[0msilhouette_result\u001b[0m\u001b[0;34m.\u001b[0m\u001b[0mtextures\u001b[0m \u001b[0;34m=\u001b[0m \u001b[0mTexturesUV\u001b[0m\u001b[0;34m(\u001b[0m\u001b[0mtorch\u001b[0m\u001b[0;34m.\u001b[0m\u001b[0mones\u001b[0m\u001b[0;34m(\u001b[0m\u001b[0mtexture_size\u001b[0m\u001b[0;34m)\u001b[0m\u001b[0;34m.\u001b[0m\u001b[0mto\u001b[0m\u001b[0;34m(\u001b[0m\u001b[0mdevice\u001b[0m\u001b[0;34m)\u001b[0m\u001b[0;34m,\u001b[0m \u001b[0mmodel_faces\u001b[0m\u001b[0;34m.\u001b[0m\u001b[0munsqueeze\u001b[0m\u001b[0;34m(\u001b[0m\u001b[0;36m0\u001b[0m\u001b[0;34m)\u001b[0m\u001b[0;34m,\u001b[0m \u001b[0msphere_verts_uvs\u001b[0m\u001b[0;34m.\u001b[0m\u001b[0munsqueeze\u001b[0m\u001b[0;34m(\u001b[0m\u001b[0;36m0\u001b[0m\u001b[0;34m)\u001b[0m\u001b[0;34m)\u001b[0m\u001b[0;34m\u001b[0m\u001b[0;34m\u001b[0m\u001b[0m\n\u001b[1;32m     68\u001b[0m     \u001b[0msilhouette_result\u001b[0m\u001b[0;34m.\u001b[0m\u001b[0mnormalmaps\u001b[0m \u001b[0;34m=\u001b[0m \u001b[0mTexturesUV\u001b[0m\u001b[0;34m(\u001b[0m\u001b[0mtorch\u001b[0m\u001b[0;34m.\u001b[0m\u001b[0mones\u001b[0m\u001b[0;34m(\u001b[0m\u001b[0mtexture_size\u001b[0m\u001b[0;34m)\u001b[0m\u001b[0;34m.\u001b[0m\u001b[0mto\u001b[0m\u001b[0;34m(\u001b[0m\u001b[0mdevice\u001b[0m\u001b[0;34m)\u001b[0m\u001b[0;34m,\u001b[0m \u001b[0mmodel_faces\u001b[0m\u001b[0;34m.\u001b[0m\u001b[0munsqueeze\u001b[0m\u001b[0;34m(\u001b[0m\u001b[0;36m0\u001b[0m\u001b[0;34m)\u001b[0m\u001b[0;34m,\u001b[0m \u001b[0msphere_verts_uvs\u001b[0m\u001b[0;34m.\u001b[0m\u001b[0munsqueeze\u001b[0m\u001b[0;34m(\u001b[0m\u001b[0;36m0\u001b[0m\u001b[0;34m)\u001b[0m\u001b[0;34m)\u001b[0m\u001b[0;34m\u001b[0m\u001b[0;34m\u001b[0m\u001b[0m\n\u001b[0;32m---> 69\u001b[0;31m     \u001b[0mpredicted_mesh\u001b[0m \u001b[0;34m=\u001b[0m \u001b[0mmap_prediction\u001b[0m\u001b[0;34m(\u001b[0m\u001b[0mmesh\u001b[0m\u001b[0;34m[\u001b[0m\u001b[0;34m\"mesh\"\u001b[0m\u001b[0;34m]\u001b[0m\u001b[0;34m,\u001b[0m \u001b[0msilhouette_result\u001b[0m\u001b[0;34m,\u001b[0m \u001b[0mfig_path\u001b[0m\u001b[0;34m,\u001b[0m \u001b[0mR\u001b[0m\u001b[0;34m,\u001b[0m \u001b[0mT\u001b[0m\u001b[0;34m)\u001b[0m\u001b[0;34m\u001b[0m\u001b[0;34m\u001b[0m\u001b[0m\n\u001b[0m\u001b[1;32m     70\u001b[0m \u001b[0;34m\u001b[0m\u001b[0m\n\u001b[1;32m     71\u001b[0m \u001b[0;34m\u001b[0m\u001b[0m\n",
      "\u001b[0;32m/tmp/ipykernel_11406/64766793.py\u001b[0m in \u001b[0;36mmap_prediction\u001b[0;34m(target_mesh, starting_mesh, fig_path, R, T)\u001b[0m\n\u001b[1;32m    195\u001b[0m \u001b[0;34m\u001b[0m\u001b[0m\n\u001b[1;32m    196\u001b[0m         \u001b[0;31m# Optimization step\u001b[0m\u001b[0;34m\u001b[0m\u001b[0;34m\u001b[0m\u001b[0;34m\u001b[0m\u001b[0m\n\u001b[0;32m--> 197\u001b[0;31m         \u001b[0mmap_sum_loss\u001b[0m\u001b[0;34m.\u001b[0m\u001b[0mbackward\u001b[0m\u001b[0;34m(\u001b[0m\u001b[0;34m)\u001b[0m\u001b[0;34m\u001b[0m\u001b[0;34m\u001b[0m\u001b[0m\n\u001b[0m\u001b[1;32m    198\u001b[0m         \u001b[0moptimizerG\u001b[0m\u001b[0;34m.\u001b[0m\u001b[0mstep\u001b[0m\u001b[0;34m(\u001b[0m\u001b[0;34m)\u001b[0m\u001b[0;34m\u001b[0m\u001b[0;34m\u001b[0m\u001b[0m\n\u001b[1;32m    199\u001b[0m \u001b[0;34m\u001b[0m\u001b[0m\n",
      "\u001b[0;32m~/anaconda3/envs/pytorch3d/lib/python3.8/site-packages/torch/tensor.py\u001b[0m in \u001b[0;36mbackward\u001b[0;34m(self, gradient, retain_graph, create_graph, inputs)\u001b[0m\n\u001b[1;32m    243\u001b[0m                 \u001b[0mcreate_graph\u001b[0m\u001b[0;34m=\u001b[0m\u001b[0mcreate_graph\u001b[0m\u001b[0;34m,\u001b[0m\u001b[0;34m\u001b[0m\u001b[0;34m\u001b[0m\u001b[0m\n\u001b[1;32m    244\u001b[0m                 inputs=inputs)\n\u001b[0;32m--> 245\u001b[0;31m         \u001b[0mtorch\u001b[0m\u001b[0;34m.\u001b[0m\u001b[0mautograd\u001b[0m\u001b[0;34m.\u001b[0m\u001b[0mbackward\u001b[0m\u001b[0;34m(\u001b[0m\u001b[0mself\u001b[0m\u001b[0;34m,\u001b[0m \u001b[0mgradient\u001b[0m\u001b[0;34m,\u001b[0m \u001b[0mretain_graph\u001b[0m\u001b[0;34m,\u001b[0m \u001b[0mcreate_graph\u001b[0m\u001b[0;34m,\u001b[0m \u001b[0minputs\u001b[0m\u001b[0;34m=\u001b[0m\u001b[0minputs\u001b[0m\u001b[0;34m)\u001b[0m\u001b[0;34m\u001b[0m\u001b[0;34m\u001b[0m\u001b[0m\n\u001b[0m\u001b[1;32m    246\u001b[0m \u001b[0;34m\u001b[0m\u001b[0m\n\u001b[1;32m    247\u001b[0m     \u001b[0;32mdef\u001b[0m \u001b[0mregister_hook\u001b[0m\u001b[0;34m(\u001b[0m\u001b[0mself\u001b[0m\u001b[0;34m,\u001b[0m \u001b[0mhook\u001b[0m\u001b[0;34m)\u001b[0m\u001b[0;34m:\u001b[0m\u001b[0;34m\u001b[0m\u001b[0;34m\u001b[0m\u001b[0m\n",
      "\u001b[0;32m~/anaconda3/envs/pytorch3d/lib/python3.8/site-packages/torch/autograd/__init__.py\u001b[0m in \u001b[0;36mbackward\u001b[0;34m(tensors, grad_tensors, retain_graph, create_graph, grad_variables, inputs)\u001b[0m\n\u001b[1;32m    143\u001b[0m         \u001b[0mretain_graph\u001b[0m \u001b[0;34m=\u001b[0m \u001b[0mcreate_graph\u001b[0m\u001b[0;34m\u001b[0m\u001b[0;34m\u001b[0m\u001b[0m\n\u001b[1;32m    144\u001b[0m \u001b[0;34m\u001b[0m\u001b[0m\n\u001b[0;32m--> 145\u001b[0;31m     Variable._execution_engine.run_backward(\n\u001b[0m\u001b[1;32m    146\u001b[0m         \u001b[0mtensors\u001b[0m\u001b[0;34m,\u001b[0m \u001b[0mgrad_tensors_\u001b[0m\u001b[0;34m,\u001b[0m \u001b[0mretain_graph\u001b[0m\u001b[0;34m,\u001b[0m \u001b[0mcreate_graph\u001b[0m\u001b[0;34m,\u001b[0m \u001b[0minputs\u001b[0m\u001b[0;34m,\u001b[0m\u001b[0;34m\u001b[0m\u001b[0;34m\u001b[0m\u001b[0m\n\u001b[1;32m    147\u001b[0m         allow_unreachable=True, accumulate_grad=True)  # allow_unreachable flag\n",
      "\u001b[0;31mKeyboardInterrupt\u001b[0m: "
     ]
    },
    {
     "data": {
      "image/png": "[encoded data removed]",
      "text/plain": [
       "<Figure size 1440x720 with 2 Axes>"
      ]
     },
     "metadata": {
      "needs_background": "light"
     },
     "output_type": "display_data"
    },
    {
     "data": {
      "image/png": "[encoded data removed]",
      "text/plain": [
       "<Figure size 1440x720 with 2 Axes>"
      ]
     },
     "metadata": {
      "needs_background": "light"
     },
     "output_type": "display_data"
    },
    {
     "data": {
      "image/png": "[encoded data removed]",
      "text/plain": [
       "<Figure size 1440x720 with 2 Axes>"
      ]
     },
     "metadata": {
      "needs_background": "light"
     },
     "output_type": "display_data"
    },
    {
     "data": {
      "image/png": "[encoded data removed]",
      "text/plain": [
       "<Figure size 1440x720 with 2 Axes>"
      ]
     },
     "metadata": {
      "needs_background": "light"
     },
     "output_type": "display_data"
    },
    {
     "data": {
      "image/png": "[encoded data removed]",
      "text/plain": [
       "<Figure size 1440x720 with 2 Axes>"
      ]
     },
     "metadata": {
      "needs_background": "light"
     },
     "output_type": "display_data"
    },
    {
     "data": {
      "image/png": "[encoded data removed]",
      "text/plain": [
       "<Figure size 936x360 with 1 Axes>"
      ]
     },
     "metadata": {
      "needs_background": "light"
     },
     "output_type": "display_data"
    },
    {
     "data": {
      "image/png": "[encoded data removed]",
      "text/plain": [
       "<Figure size 936x360 with 1 Axes>"
      ]
     },
     "metadata": {
      "needs_background": "light"
     },
     "output_type": "display_data"
    }
   ],
   "source": [
    "\n",
    "np.random.seed(random_seed)\n",
    "map_size = 1024\n",
    "num_meshes = 1\n",
    "texture_size = (1, map_size, map_size, 3)\n",
    "num_views = 20\n",
    "imsize = 128\n",
    "\n",
    "SHAPENET_PATH = \"./data/ShapeNetsamples\"\n",
    "shapenet_dataset = ShapeNetCore(SHAPENET_PATH, version=2, synsets=[\"04460130\"])\n",
    "\n",
    "# Get a batch of viewing angles. \n",
    "elev = np.random.permutation(torch.linspace(0, 360, num_views))\n",
    "azim = np.random.permutation(torch.linspace(-180, 180, num_views))\n",
    "\n",
    "# Initialize an OpenGL perspective camera that represents a batch of different \n",
    "# viewing angles. All the cameras helper methods support mixed type inputs and \n",
    "# broadcasting. So we can view the camera from the a distance of dist=2.7, and \n",
    "# then specify elevation and azimuth angles for each viewpoint as tensors. \n",
    "R, T = look_at_view_transform(dist=2.7, elev=elev, azim=azim)\n",
    "\n",
    "# We arbitrarily choose one particular view that will be used to visualize \n",
    "# results\n",
    "# Changed to novel view\n",
    "rand_elev = torch.rand((1,))*360\n",
    "rand_azim = torch.rand((1,))*360 - 180\n",
    "R_novel, T_novel = look_at_view_transform(dist=2.7, elev=rand_elev, azim=rand_azim)\n",
    "camera = OpenGLPerspectiveCameras(device=device, R=R_novel, \n",
    "                                T=T_novel) \n",
    "\n",
    "lights = DirectionalLights(direction=[[0.0, 0.0, -1.0]], device=device)\n",
    "\n",
    "\n",
    "# Get a selection of random meshes to evaluate model with, can't use texture \n",
    "# atlas though so generate random textures using perlin noise\n",
    "gen = torch.Generator(device='cuda') #for GPU acceleration\n",
    "meshes=[]\n",
    "for i in range(num_meshes):\n",
    "    print(\"Generating mesh number {}\".format(i), end=\"\\r\")\n",
    "    meshes.append(load_shapenet_mesh(texture_size, gen, shapenet_dataset, random_seed))\n",
    "print(\"Finished generating meshes\")\n",
    "\n",
    "DATA_DIR = \"./data\"\n",
    "obj_filename = os.path.join(DATA_DIR, \"cow_mesh/cow.obj\")\n",
    "meshes[0][\"mesh\"] = load_objs_as_meshes([obj_filename], device=device)\n",
    "\n",
    "for mesh in meshes:\n",
    "    # Path to save results\n",
    "    fig_path = os.path.join(\"./results\", mesh[\"synset_id\"], mesh[\"model_id\"])\n",
    "    if not os.path.isdir(fig_path):\n",
    "        os.makedirs(fig_path)\n",
    "    print(\"Predicting mesh\")\n",
    "    silhouette_result = mesh_prediction(mesh[\"mesh\"], R, T, fig_path)\n",
    "    print(\"Predicting mesh maps\")\n",
    "\n",
    "    model_verts, model_faces = silhouette_result.verts_packed(), silhouette_result.faces_packed()\n",
    "\n",
    "    # Create UVs assuming equirectangular projection of sphere (very much approximation)\n",
    "    xyz_to_u = torch.rad2deg(torch.arcsin(model_verts[:,2])) + 90\n",
    "    xyz_to_u = xyz_to_u - torch.min(xyz_to_u)\n",
    "    xyz_to_u = xyz_to_u / torch.max(xyz_to_u)\n",
    "\n",
    "    xyz_to_v = (torch.rad2deg(torch.atan2(model_verts[:,1], model_verts[:,0])) + 180) / 2 \n",
    "    xyz_to_v = xyz_to_v / torch.max(xyz_to_v)\n",
    "    xyz_to_v = xyz_to_v - torch.min(xyz_to_v)\n",
    "    sphere_verts_uvs = torch.stack([xyz_to_u, xyz_to_v], dim=1)\n",
    "\n",
    "    silhouette_result.textures = TexturesUV(torch.ones(texture_size).to(device), model_faces.unsqueeze(0), sphere_verts_uvs.unsqueeze(0))\n",
    "    silhouette_result.normalmaps = TexturesUV(torch.ones(texture_size).to(device), model_faces.unsqueeze(0), sphere_verts_uvs.unsqueeze(0))\n",
    "    predicted_mesh = map_prediction(mesh[\"mesh\"], silhouette_result, fig_path, R, T)\n",
    "\n",
    "\n",
    "# fig = plt.figure(figsize=(10,5))\n",
    "# ax1 = fig.add_subplot(122)\n",
    "# ax1.set_axis_off()\n",
    "# ax1.imshow(normal_map.squeeze())\n",
    "# plt.plot()"
   ]
  },
  {
   "cell_type": "code",
   "execution_count": null,
   "metadata": {},
   "outputs": [],
   "source": [
    "# imsize = 256\n",
    "# # lights = PointLights(device=device, location=[[0.0, 0.0, -1.5]])\n",
    "# lights = DirectionalLights(direction=[[0.0, 0.0, -1.0]], device=device)\n",
    "\n",
    "# # We arbitrarily choose one particular view that will be used to visualize \n",
    "# # results\n",
    "# # Changed to novel view\n",
    "# rand_elev = 45\n",
    "# rand_azim = 135\n",
    "# R_novel, T_novel = look_at_view_transform(dist=2.7, elev=rand_elev, azim=rand_azim)\n",
    "\n",
    "# camera = OpenGLPerspectiveCameras(device=device, R=R_novel, \n",
    "#                                   T=T_novel) \n",
    "\n",
    "\n",
    "# # camera = OpenGLPerspectiveCameras(device=device, R=R[None, 1, ...], \n",
    "# #                                   T=T[None, 1, ...]) \n",
    "\n",
    "# # Define the settings for rasterization and shading. Here we set the output \n",
    "# # image to be of size 128X128. As we are rendering images for visualization \n",
    "# # purposes only we will set faces_per_pixel=1 and blur_radius=0.0. Refer to \n",
    "# # rasterize_meshes.py for explanations of these parameters.  We also leave \n",
    "# # bin_size and max_faces_per_bin to their default values of None, which sets \n",
    "# # their values using heuristics and ensures that the faster coarse-to-fine \n",
    "# # rasterization method is used.  Refer to docs/notes/renderer.md for an \n",
    "# # explanation of the difference between naive and coarse-to-fine rasterization. \n",
    "# raster_settings = RasterizationSettings(\n",
    "#     image_size=imsize, \n",
    "#     blur_radius=0.0, \n",
    "#     faces_per_pixel=1, \n",
    "#     perspective_correct=False,\n",
    "# )\n",
    "\n",
    "# # Create a Phong renderer by composing a rasterizer and a shader. The textured \n",
    "# # Phong shader will interpolate the texture uv coordinates for each vertex, \n",
    "# # sample from a texture image and apply the Phong lighting model\n",
    "# mesh_to_render = predicted_mesh\n",
    "# TBN_matrices = tbn_matrices(mesh_to_render)\n",
    "# renderer = MeshRenderer(\n",
    "#     rasterizer=MeshRasterizer(\n",
    "#         cameras=camera, \n",
    "#         raster_settings=raster_settings\n",
    "#     ),\n",
    "#     shader=NormalSoftPhongShader(\n",
    "#         device=device, \n",
    "#         cameras=camera,\n",
    "#         lights=lights,\n",
    "#         tangent_matrices=TBN_matrices,\n",
    "#     )\n",
    "# )\n",
    "# with torch.no_grad():\n",
    "#     random_target = renderer(mesh_to_render, cameras=camera, lights=lights)[...,:3]\n",
    "# plt.imshow(random_target.cpu().numpy()[0])"
   ]
  },
  {
   "cell_type": "code",
   "execution_count": null,
   "metadata": {},
   "outputs": [],
   "source": [
    "# visualize_prediction(maps_src_mesh, renderer=renderer_textured, silhouette=False)"
   ]
  },
  {
   "cell_type": "code",
   "execution_count": null,
   "metadata": {
    "colab": {},
    "colab_type": "code",
    "id": "2qTcHO4rR1Rs",
    "scrolled": true
   },
   "outputs": [],
   "source": [
    "# visualize_prediction(maps_src_mesh, renderer=renderer_textured, silhouette=False, camera=target_cameras[0], target_image=target_rgb[0])\n",
    "# plot_losses(losses)"
   ]
  },
  {
   "cell_type": "code",
   "execution_count": null,
   "metadata": {},
   "outputs": [],
   "source": [
    "# plt.figure(figsize=(7,7))\n",
    "# from pytorch3d.vis.texture_vis import texturesuv_image_matplotlib\n",
    "\n",
    "# texture_image=maps_src_mesh.textures.maps_padded()\n",
    "# # texturesuv_image_matplotlib(new_src_mesh.textures, subsample=None)\n",
    "\n",
    "# print(texture_image.shape)\n",
    "# plt.imshow(texture_image.squeeze().cpu().detach())\n",
    "# plt.axis(\"off\");"
   ]
  },
  {
   "cell_type": "code",
   "execution_count": null,
   "metadata": {},
   "outputs": [],
   "source": [
    "# plt.figure(figsize=(7,7))\n",
    "# from pytorch3d.vis.texture_vis import texturesuv_image_matplotlib\n",
    "\n",
    "# # texture_image=new_src_mesh.normalmaps.maps_padded()\n",
    "\n",
    "# texture_image=maps_src_mesh.normalmaps.maps_padded()\n",
    "# # texturesuv_image_matplotlib(new_src_mesh.textures, subsample=None)\n",
    "\n",
    "# print(texture_image.shape)\n",
    "# plt.imshow(texture_image.squeeze().cpu().detach())\n",
    "# plt.axis(\"off\");"
   ]
  },
  {
   "cell_type": "markdown",
   "metadata": {
    "colab_type": "text",
    "id": "akBOm_xcNUms"
   },
   "source": [
    "Save the final predicted mesh:"
   ]
  },
  {
   "cell_type": "code",
   "execution_count": null,
   "metadata": {},
   "outputs": [],
   "source": [
    "# plt.figure(figsize=(7,7))\n",
    "# from pytorch3d.vis.texture_vis import texturesuv_image_matplotlib\n",
    "\n",
    "# texture_image=mesh.normalmaps.maps_padded()\n",
    "# # texturesuv_image_matplotlib(mesh.textures, subsample=None)\n",
    "# # print(src_mesh.textures.maps_padded().shape, new_src_mesh.textures.maps_padded().shape)\n",
    "# # print(texture_image.shape)\n",
    "# plt.imshow(texture_image.squeeze().cpu().detach())\n",
    "# plt.axis(\"off\");"
   ]
  },
  {
   "cell_type": "markdown",
   "metadata": {
    "colab_type": "text",
    "id": "dXoIsGyhxRyK"
   },
   "source": [
    "## 4. Save the final predicted mesh"
   ]
  },
  {
   "cell_type": "code",
   "execution_count": null,
   "metadata": {
    "colab": {},
    "colab_type": "code",
    "id": "OQGhV-psKna8"
   },
   "outputs": [],
   "source": [
    "# # Fetch the verts and faces of the final predicted mesh\n",
    "# final_verts, final_faces = new_src_mesh.get_mesh_verts_faces(0)\n",
    "\n",
    "# # Scale normalize back to the original target size\n",
    "# final_verts = final_verts * scale + center\n",
    "\n",
    "# # Store the predicted mesh using save_obj\n",
    "# final_obj = os.path.join('./', 'final_model.obj')\n",
    "# save_obj(final_obj, final_verts, final_faces)"
   ]
  },
  {
   "cell_type": "markdown",
   "metadata": {
    "colab_type": "text",
    "id": "MtKYp0B6R1Ru"
   },
   "source": [
    "## 5. Conclusion\n",
    "In this tutorial, we learned how to load a textured mesh from an obj file, create a synthetic dataset by rendering the mesh from multiple viewpoints.  We showed how to set up an optimization loop to fit a mesh to the observed dataset images based on a rendered silhouette loss.  We then augmented this optimization loop with an additional loss based on rendered RGB images, which allowed us to predict both a mesh and its texture."
   ]
  }
 ],
 "metadata": {
  "accelerator": "GPU",
  "anp_metadata": {
   "path": "fbsource/fbcode/vision/fair/pytorch3d/docs/tutorials/fit_textured_mesh.ipynb"
  },
  "bento_stylesheets": {
   "bento/extensions/flow/main.css": true,
   "bento/extensions/kernel_selector/main.css": true,
   "bento/extensions/kernel_ui/main.css": true,
   "bento/extensions/new_kernel/main.css": true,
   "bento/extensions/system_usage/main.css": true,
   "bento/extensions/theme/main.css": true
  },
  "colab": {
   "name": "fit_textured_mesh.ipynb",
   "provenance": [],
   "toc_visible": true
  },
  "disseminate_notebook_info": {
   "backup_notebook_id": "781874812352022"
  },
  "interpreter": {
   "hash": "60cb56d69e6ae3efc575d5956bd5f6d74483d19d65043d3c065644cb49c044fe"
  },
  "kernelspec": {
   "display_name": "intro_to_cv",
   "language": "python",
   "name": "python3"
  },
  "language_info": {
   "codemirror_mode": {
    "name": "ipython",
    "version": 3
   },
   "file_extension": ".py",
   "mimetype": "text/x-python",
   "name": "python",
   "nbconvert_exporter": "python",
   "pygments_lexer": "ipython3",
   "version": "3.8.12"
  }
 },
 "nbformat": 4,
 "nbformat_minor": 1
}
